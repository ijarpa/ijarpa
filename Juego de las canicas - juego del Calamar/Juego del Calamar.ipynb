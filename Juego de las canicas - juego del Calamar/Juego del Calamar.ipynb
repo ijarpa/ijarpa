{
 "cells": [
  {
   "cell_type": "code",
   "execution_count": 1,
   "metadata": {},
   "outputs": [],
   "source": [
    "# Juego del Calamar - probabilidad del juego de las canicas\n",
    "import numpy as np\n",
    "import matplotlib.pyplot as plt"
   ]
  },
  {
   "cell_type": "code",
   "execution_count": 6,
   "metadata": {},
   "outputs": [],
   "source": [
    "# creamos la función\n",
    "\n",
    "def juego_canicas(canicas_jugador_1,canicas_jugador_2):\n",
    "    canicas = dict({'jugador_1':canicas_jugador_1, 'jugador_2':canicas_jugador_2})\n",
    "    mano = dict({'jugador_1':0,'jugador_2':0})\n",
    "    turno = np.random.choice(['jugador_1','jugador_2'])\n",
    "    jugamos = True\n",
    "\n",
    "    while jugamos==True:\n",
    "        # se define el jugador que no está en turno (el otro)\n",
    "        otro = np.array_str(np.where(turno=='jugador_1','jugador_2','jugador_1'))\n",
    "\n",
    "        # los jugadores escogen las canincas y las esconden\n",
    "        mano['jugador_1'] = np.random.choice(np.arange(10)+1) \n",
    "        mano['jugador_2'] = np.random.choice(np.arange(10)+1)\n",
    "\n",
    "        # el jugador apuesta PAR o IMPAR (par = 0 / impar = 1)\n",
    "        apuesta = np.random.choice(np.arange(2)) # rango del 0-1\n",
    "\n",
    "        # jugadores muestran los resultados\n",
    "        if (mano[otro] % 2) == apuesta:\n",
    "            #jugador de turno adivina\n",
    "            canicas[turno]+=mano[turno]\n",
    "            canicas[otro]-=mano[otro]\n",
    "            if canicas[turno] >=20:\n",
    "                return(turno)\n",
    "        \n",
    "        else:\n",
    "            # jugador de turno falla\n",
    "            canicas[turno]-=mano[otro]\n",
    "            canicas[otro]+=mano[otro]\n",
    "            if canicas[turno] <=0:\n",
    "                return(otro)\n",
    "        \n",
    "        # Cambio de turno\n",
    "        turno = np.array_str(np.where(turno == 'jugador_1','jugador_2','jugador_1'))\n"
   ]
  },
  {
   "cell_type": "code",
   "execution_count": 17,
   "metadata": {},
   "outputs": [
    {
     "data": {
      "text/plain": [
       "'jugador_1'"
      ]
     },
     "execution_count": 17,
     "metadata": {},
     "output_type": "execute_result"
    }
   ],
   "source": [
    "# se agregan las variables numericas al juego (cantidad de canicas que tendrá cada jugador)\n",
    "\n",
    "juego_canicas(10,10)"
   ]
  },
  {
   "cell_type": "code",
   "execution_count": 8,
   "metadata": {},
   "outputs": [
    {
     "name": "stdout",
     "output_type": "stream",
     "text": [
      "0.4985\n"
     ]
    },
    {
     "data": {
      "image/png": "[encoded data removed]",
      "text/plain": [
       "<Figure size 432x288 with 1 Axes>"
      ]
     },
     "metadata": {
      "needs_background": "light"
     },
     "output_type": "display_data"
    }
   ],
   "source": [
    "# numero inicial de canicas\n",
    "canicasjugador_1 = 10 #el numero inicial decide la probabilidad de ganar o perder el juego\n",
    "canicasjugador_2 = 10 #si el numero inicial es igual la probabilidad es del 50%\n",
    "\n",
    "#asignar variables\n",
    "suma_ganados = 0\n",
    "veces_ganados = []\n",
    "n_juegos = 10000\n",
    "\n",
    "\n",
    "#ciclo for para el calculo de simulaciones\n",
    "for i in np.arange(n_juegos):\n",
    "    resultado = juego_canicas(canicasjugador_1,canicasjugador_2)\n",
    "    if resultado == 'jugador_1':\n",
    "        suma_ganados+=1\n",
    "    veces_ganados.append(suma_ganados/(i+1))\n",
    "\n",
    "\n",
    "# imprimir probabilidad final estimada\n",
    "print(veces_ganados[-1])\n",
    "\n",
    "\n",
    "# Graficar probabilidades\n",
    "plt.plot(np.arange(n_juegos),veces_ganados)\n",
    "plt.hlines(y=0.5,xmin=0,xmax=n_juegos,colors='r',linestyles='dotted')\n",
    "plt.show()"
   ]
  }
 ],
 "metadata": {
  "interpreter": {
   "hash": "19cf73bca1c47d5e5232cb4ff5d6a583e1ddf8b124c4f222aee1ad0765d6a2ec"
  },
  "kernelspec": {
   "display_name": "Python 3.8.8 64-bit ('base': conda)",
   "name": "python3"
  },
  "language_info": {
   "codemirror_mode": {
    "name": "ipython",
    "version": 3
   },
   "file_extension": ".py",
   "mimetype": "text/x-python",
   "name": "python",
   "nbconvert_exporter": "python",
   "pygments_lexer": "ipython3",
   "version": "3.8.8"
  },
  "orig_nbformat": 4
 },
 "nbformat": 4,
 "nbformat_minor": 2
}
