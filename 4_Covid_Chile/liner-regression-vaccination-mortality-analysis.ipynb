{
 "cells": [
  {
   "cell_type": "code",
   "execution_count": 1,
   "id": "f3ef3ea2",
   "metadata": {
    "execution": {
     "iopub.execute_input": "2021-10-15T00:56:57.476001Z",
     "iopub.status.busy": "2021-10-15T00:56:57.468732Z",
     "iopub.status.idle": "2021-10-15T00:57:01.397804Z",
     "shell.execute_reply": "2021-10-15T00:57:01.398194Z",
     "shell.execute_reply.started": "2021-10-15T00:55:10.280005Z"
    },
    "papermill": {
     "duration": 4.040555,
     "end_time": "2021-10-15T00:57:01.398468",
     "exception": false,
     "start_time": "2021-10-15T00:56:57.357913",
     "status": "completed"
    },
    "tags": []
   },
   "outputs": [],
   "source": [
    "import pandas as pd\n",
    "import numpy as np\n",
    "import matplotlib.pyplot as plt\n",
    "import missingno as msgo\n",
    "import seaborn as sns\n",
    "from sklearn.linear_model import LinearRegression\n",
    "#import geopandas as gpd\n",
    "import plotly.express as px\n",
    "from sklearn.metrics import mean_squared_error\n",
    "from sklearn.metrics import mean_absolute_error\n",
    "from sklearn.preprocessing import StandardScaler\n",
    "from sklearn.model_selection import train_test_split\n",
    "# This Python 3 environment comes with many helpful analytics libraries installed\n",
    "# It is defined by the kaggle/python Docker image: https://github.com/kaggle/docker-python\n",
    "# For example, here's several helpful packages to load"
   ]
  },
  {
   "cell_type": "markdown",
   "id": "aa96de72",
   "metadata": {
    "papermill": {
     "duration": 0.030099,
     "end_time": "2021-10-15T00:57:01.461690",
     "exception": false,
     "start_time": "2021-10-15T00:57:01.431591",
     "status": "completed"
    },
    "tags": []
   },
   "source": [
    "# Loading Data "
   ]
  },
  {
   "cell_type": "code",
   "execution_count": 2,
   "id": "a76955d8",
   "metadata": {
    "collapsed": false,
    "execution": {
     "iopub.execute_input": "2021-10-15T00:57:01.527435Z",
     "iopub.status.busy": "2021-10-15T00:57:01.526682Z",
     "iopub.status.idle": "2021-10-15T00:57:01.648263Z",
     "shell.execute_reply": "2021-10-15T00:57:01.648705Z",
     "shell.execute_reply.started": "2021-10-15T00:55:14.282307Z"
    },
    "jupyter": {
     "outputs_hidden": false
    },
    "papermill": {
     "duration": 0.157022,
     "end_time": "2021-10-15T00:57:01.648874",
     "exception": false,
     "start_time": "2021-10-15T00:57:01.491852",
     "status": "completed"
    },
    "pycharm": {
     "name": "#%%\n"
    },
    "tags": []
   },
   "outputs": [
    {
     "data": {
      "text/html": [
       "<div>\n",
       "<style scoped>\n",
       "    .dataframe tbody tr th:only-of-type {\n",
       "        vertical-align: middle;\n",
       "    }\n",
       "\n",
       "    .dataframe tbody tr th {\n",
       "        vertical-align: top;\n",
       "    }\n",
       "\n",
       "    .dataframe thead th {\n",
       "        text-align: right;\n",
       "    }\n",
       "</style>\n",
       "<table border=\"1\" class=\"dataframe\">\n",
       "  <thead>\n",
       "    <tr style=\"text-align: right;\">\n",
       "      <th></th>\n",
       "      <th>Unnamed: 0</th>\n",
       "      <th>country</th>\n",
       "      <th>iso_code</th>\n",
       "      <th>date</th>\n",
       "      <th>total_vaccinations</th>\n",
       "      <th>people_vaccinated</th>\n",
       "      <th>people_fully_vaccinated</th>\n",
       "      <th>New_deaths</th>\n",
       "      <th>population</th>\n",
       "      <th>ratio</th>\n",
       "    </tr>\n",
       "  </thead>\n",
       "  <tbody>\n",
       "    <tr>\n",
       "      <th>0</th>\n",
       "      <td>0</td>\n",
       "      <td>Afghanistan</td>\n",
       "      <td>AFG</td>\n",
       "      <td>2021-05-11</td>\n",
       "      <td>504502.0</td>\n",
       "      <td>448878.0</td>\n",
       "      <td>55624.0</td>\n",
       "      <td>12</td>\n",
       "      <td>40094444.0</td>\n",
       "      <td>1.119552</td>\n",
       "    </tr>\n",
       "    <tr>\n",
       "      <th>1</th>\n",
       "      <td>1</td>\n",
       "      <td>Afghanistan</td>\n",
       "      <td>AFG</td>\n",
       "      <td>2021-05-20</td>\n",
       "      <td>547901.0</td>\n",
       "      <td>470341.0</td>\n",
       "      <td>77560.0</td>\n",
       "      <td>10</td>\n",
       "      <td>40094444.0</td>\n",
       "      <td>1.173083</td>\n",
       "    </tr>\n",
       "    <tr>\n",
       "      <th>2</th>\n",
       "      <td>2</td>\n",
       "      <td>Afghanistan</td>\n",
       "      <td>AFG</td>\n",
       "      <td>2021-05-24</td>\n",
       "      <td>573277.0</td>\n",
       "      <td>476367.0</td>\n",
       "      <td>96910.0</td>\n",
       "      <td>10</td>\n",
       "      <td>40094444.0</td>\n",
       "      <td>1.188112</td>\n",
       "    </tr>\n",
       "    <tr>\n",
       "      <th>3</th>\n",
       "      <td>3</td>\n",
       "      <td>Afghanistan</td>\n",
       "      <td>AFG</td>\n",
       "      <td>2021-05-26</td>\n",
       "      <td>590454.0</td>\n",
       "      <td>479372.0</td>\n",
       "      <td>111082.0</td>\n",
       "      <td>19</td>\n",
       "      <td>40094444.0</td>\n",
       "      <td>1.195607</td>\n",
       "    </tr>\n",
       "    <tr>\n",
       "      <th>4</th>\n",
       "      <td>4</td>\n",
       "      <td>Afghanistan</td>\n",
       "      <td>AFG</td>\n",
       "      <td>2021-05-27</td>\n",
       "      <td>593313.0</td>\n",
       "      <td>479574.0</td>\n",
       "      <td>113739.0</td>\n",
       "      <td>14</td>\n",
       "      <td>40094444.0</td>\n",
       "      <td>1.196111</td>\n",
       "    </tr>\n",
       "  </tbody>\n",
       "</table>\n",
       "</div>"
      ],
      "text/plain": [
       "   Unnamed: 0      country iso_code        date  total_vaccinations  \\\n",
       "0           0  Afghanistan      AFG  2021-05-11            504502.0   \n",
       "1           1  Afghanistan      AFG  2021-05-20            547901.0   \n",
       "2           2  Afghanistan      AFG  2021-05-24            573277.0   \n",
       "3           3  Afghanistan      AFG  2021-05-26            590454.0   \n",
       "4           4  Afghanistan      AFG  2021-05-27            593313.0   \n",
       "\n",
       "   people_vaccinated  people_fully_vaccinated  New_deaths  population  \\\n",
       "0           448878.0                  55624.0          12  40094444.0   \n",
       "1           470341.0                  77560.0          10  40094444.0   \n",
       "2           476367.0                  96910.0          10  40094444.0   \n",
       "3           479372.0                 111082.0          19  40094444.0   \n",
       "4           479574.0                 113739.0          14  40094444.0   \n",
       "\n",
       "      ratio  \n",
       "0  1.119552  \n",
       "1  1.173083  \n",
       "2  1.188112  \n",
       "3  1.195607  \n",
       "4  1.196111  "
      ]
     },
     "execution_count": 2,
     "metadata": {},
     "output_type": "execute_result"
    }
   ],
   "source": [
    "df = pd.read_csv('./covid_vaccination_vs_death_ratio.csv')\n",
    "df.head()"
   ]
  },
  {
   "cell_type": "markdown",
   "id": "8b0fc9db",
   "metadata": {},
   "source": [
    "# Extraer datos de CHILE"
   ]
  },
  {
   "cell_type": "code",
   "execution_count": 3,
   "id": "fe002aac",
   "metadata": {},
   "outputs": [],
   "source": [
    "countries = df.groupby('country')\n",
    "chile = countries.get_group('Chile')"
   ]
  },
  {
   "cell_type": "markdown",
   "id": "26c0fb3b",
   "metadata": {
    "papermill": {
     "duration": 0.034698,
     "end_time": "2021-10-15T00:57:01.715950",
     "exception": false,
     "start_time": "2021-10-15T00:57:01.681252",
     "status": "completed"
    },
    "tags": []
   },
   "source": [
    "# Basic Information of Data"
   ]
  },
  {
   "cell_type": "code",
   "execution_count": 4,
   "id": "e634887a",
   "metadata": {
    "collapsed": false,
    "execution": {
     "iopub.execute_input": "2021-10-15T00:57:01.785481Z",
     "iopub.status.busy": "2021-10-15T00:57:01.780134Z",
     "iopub.status.idle": "2021-10-15T00:57:01.795147Z",
     "shell.execute_reply": "2021-10-15T00:57:01.795666Z",
     "shell.execute_reply.started": "2021-10-15T00:55:14.405441Z"
    },
    "jupyter": {
     "outputs_hidden": false
    },
    "papermill": {
     "duration": 0.049104,
     "end_time": "2021-10-15T00:57:01.795816",
     "exception": false,
     "start_time": "2021-10-15T00:57:01.746712",
     "status": "completed"
    },
    "pycharm": {
     "name": "#%%\n"
    },
    "tags": []
   },
   "outputs": [
    {
     "data": {
      "text/plain": [
       "(269, 10)"
      ]
     },
     "execution_count": 4,
     "metadata": {},
     "output_type": "execute_result"
    }
   ],
   "source": [
    "chile.shape"
   ]
  },
  {
   "cell_type": "code",
   "execution_count": 5,
   "id": "a0c57c16",
   "metadata": {
    "collapsed": false,
    "execution": {
     "iopub.execute_input": "2021-10-15T00:57:01.867369Z",
     "iopub.status.busy": "2021-10-15T00:57:01.866245Z",
     "iopub.status.idle": "2021-10-15T00:57:01.898910Z",
     "shell.execute_reply": "2021-10-15T00:57:01.899390Z",
     "shell.execute_reply.started": "2021-10-15T00:55:14.416350Z"
    },
    "jupyter": {
     "outputs_hidden": false
    },
    "papermill": {
     "duration": 0.072579,
     "end_time": "2021-10-15T00:57:01.899540",
     "exception": false,
     "start_time": "2021-10-15T00:57:01.826961",
     "status": "completed"
    },
    "pycharm": {
     "name": "#%%\n"
    },
    "tags": []
   },
   "outputs": [
    {
     "data": {
      "text/html": [
       "<div>\n",
       "<style scoped>\n",
       "    .dataframe tbody tr th:only-of-type {\n",
       "        vertical-align: middle;\n",
       "    }\n",
       "\n",
       "    .dataframe tbody tr th {\n",
       "        vertical-align: top;\n",
       "    }\n",
       "\n",
       "    .dataframe thead th {\n",
       "        text-align: right;\n",
       "    }\n",
       "</style>\n",
       "<table border=\"1\" class=\"dataframe\">\n",
       "  <thead>\n",
       "    <tr style=\"text-align: right;\">\n",
       "      <th></th>\n",
       "      <th>Unnamed: 0</th>\n",
       "      <th>total_vaccinations</th>\n",
       "      <th>people_vaccinated</th>\n",
       "      <th>people_fully_vaccinated</th>\n",
       "      <th>New_deaths</th>\n",
       "      <th>population</th>\n",
       "      <th>ratio</th>\n",
       "    </tr>\n",
       "  </thead>\n",
       "  <tbody>\n",
       "    <tr>\n",
       "      <th>count</th>\n",
       "      <td>269.000000</td>\n",
       "      <td>2.690000e+02</td>\n",
       "      <td>2.690000e+02</td>\n",
       "      <td>2.690000e+02</td>\n",
       "      <td>269.000000</td>\n",
       "      <td>269.0</td>\n",
       "      <td>269.000000</td>\n",
       "    </tr>\n",
       "    <tr>\n",
       "      <th>mean</th>\n",
       "      <td>3675.000000</td>\n",
       "      <td>1.715330e+07</td>\n",
       "      <td>9.335486e+06</td>\n",
       "      <td>7.583415e+06</td>\n",
       "      <td>75.728625</td>\n",
       "      <td>19242590.0</td>\n",
       "      <td>48.514706</td>\n",
       "    </tr>\n",
       "    <tr>\n",
       "      <th>std</th>\n",
       "      <td>77.797815</td>\n",
       "      <td>1.039323e+07</td>\n",
       "      <td>4.950720e+06</td>\n",
       "      <td>5.128404e+06</td>\n",
       "      <td>54.466791</td>\n",
       "      <td>0.0</td>\n",
       "      <td>25.727932</td>\n",
       "    </tr>\n",
       "    <tr>\n",
       "      <th>min</th>\n",
       "      <td>3541.000000</td>\n",
       "      <td>1.174200e+04</td>\n",
       "      <td>1.071000e+04</td>\n",
       "      <td>1.032000e+03</td>\n",
       "      <td>0.000000</td>\n",
       "      <td>19242590.0</td>\n",
       "      <td>0.055658</td>\n",
       "    </tr>\n",
       "    <tr>\n",
       "      <th>25%</th>\n",
       "      <td>3608.000000</td>\n",
       "      <td>8.497707e+06</td>\n",
       "      <td>5.613902e+06</td>\n",
       "      <td>2.883805e+06</td>\n",
       "      <td>30.000000</td>\n",
       "      <td>19242590.0</td>\n",
       "      <td>29.174358</td>\n",
       "    </tr>\n",
       "    <tr>\n",
       "      <th>50%</th>\n",
       "      <td>3675.000000</td>\n",
       "      <td>1.831569e+07</td>\n",
       "      <td>1.037757e+07</td>\n",
       "      <td>7.938113e+06</td>\n",
       "      <td>70.000000</td>\n",
       "      <td>19242590.0</td>\n",
       "      <td>53.930230</td>\n",
       "    </tr>\n",
       "    <tr>\n",
       "      <th>75%</th>\n",
       "      <td>3742.000000</td>\n",
       "      <td>2.601022e+07</td>\n",
       "      <td>1.393449e+07</td>\n",
       "      <td>1.258335e+07</td>\n",
       "      <td>109.000000</td>\n",
       "      <td>19242590.0</td>\n",
       "      <td>72.414852</td>\n",
       "    </tr>\n",
       "    <tr>\n",
       "      <th>max</th>\n",
       "      <td>3809.000000</td>\n",
       "      <td>3.334900e+07</td>\n",
       "      <td>1.590983e+07</td>\n",
       "      <td>1.421379e+07</td>\n",
       "      <td>316.000000</td>\n",
       "      <td>19242590.0</td>\n",
       "      <td>82.680310</td>\n",
       "    </tr>\n",
       "  </tbody>\n",
       "</table>\n",
       "</div>"
      ],
      "text/plain": [
       "        Unnamed: 0  total_vaccinations  people_vaccinated  \\\n",
       "count   269.000000        2.690000e+02       2.690000e+02   \n",
       "mean   3675.000000        1.715330e+07       9.335486e+06   \n",
       "std      77.797815        1.039323e+07       4.950720e+06   \n",
       "min    3541.000000        1.174200e+04       1.071000e+04   \n",
       "25%    3608.000000        8.497707e+06       5.613902e+06   \n",
       "50%    3675.000000        1.831569e+07       1.037757e+07   \n",
       "75%    3742.000000        2.601022e+07       1.393449e+07   \n",
       "max    3809.000000        3.334900e+07       1.590983e+07   \n",
       "\n",
       "       people_fully_vaccinated  New_deaths  population       ratio  \n",
       "count             2.690000e+02  269.000000       269.0  269.000000  \n",
       "mean              7.583415e+06   75.728625  19242590.0   48.514706  \n",
       "std               5.128404e+06   54.466791         0.0   25.727932  \n",
       "min               1.032000e+03    0.000000  19242590.0    0.055658  \n",
       "25%               2.883805e+06   30.000000  19242590.0   29.174358  \n",
       "50%               7.938113e+06   70.000000  19242590.0   53.930230  \n",
       "75%               1.258335e+07  109.000000  19242590.0   72.414852  \n",
       "max               1.421379e+07  316.000000  19242590.0   82.680310  "
      ]
     },
     "execution_count": 5,
     "metadata": {},
     "output_type": "execute_result"
    }
   ],
   "source": [
    "chile.describe()"
   ]
  },
  {
   "cell_type": "code",
   "execution_count": 6,
   "id": "e4caa392",
   "metadata": {
    "collapsed": false,
    "execution": {
     "iopub.execute_input": "2021-10-15T00:57:01.969655Z",
     "iopub.status.busy": "2021-10-15T00:57:01.968901Z",
     "iopub.status.idle": "2021-10-15T00:57:01.987863Z",
     "shell.execute_reply": "2021-10-15T00:57:01.988288Z",
     "shell.execute_reply.started": "2021-10-15T00:55:14.455688Z"
    },
    "jupyter": {
     "outputs_hidden": false
    },
    "papermill": {
     "duration": 0.055717,
     "end_time": "2021-10-15T00:57:01.988451",
     "exception": false,
     "start_time": "2021-10-15T00:57:01.932734",
     "status": "completed"
    },
    "pycharm": {
     "name": "#%%\n"
    },
    "tags": []
   },
   "outputs": [
    {
     "name": "stdout",
     "output_type": "stream",
     "text": [
      "<class 'pandas.core.frame.DataFrame'>\n",
      "Int64Index: 269 entries, 3541 to 3809\n",
      "Data columns (total 10 columns):\n",
      " #   Column                   Non-Null Count  Dtype  \n",
      "---  ------                   --------------  -----  \n",
      " 0   Unnamed: 0               269 non-null    int64  \n",
      " 1   country                  269 non-null    object \n",
      " 2   iso_code                 269 non-null    object \n",
      " 3   date                     269 non-null    object \n",
      " 4   total_vaccinations       269 non-null    float64\n",
      " 5   people_vaccinated        269 non-null    float64\n",
      " 6   people_fully_vaccinated  269 non-null    float64\n",
      " 7   New_deaths               269 non-null    int64  \n",
      " 8   population               269 non-null    float64\n",
      " 9   ratio                    269 non-null    float64\n",
      "dtypes: float64(5), int64(2), object(3)\n",
      "memory usage: 23.1+ KB\n"
     ]
    }
   ],
   "source": [
    "chile.info()"
   ]
  },
  {
   "cell_type": "markdown",
   "id": "6af0e241",
   "metadata": {
    "papermill": {
     "duration": 0.031353,
     "end_time": "2021-10-15T00:57:02.051867",
     "exception": false,
     "start_time": "2021-10-15T00:57:02.020514",
     "status": "completed"
    },
    "tags": []
   },
   "source": [
    "# Dealing with null-values\n",
    "## missinggo cool tool to visualizing null values"
   ]
  },
  {
   "cell_type": "code",
   "execution_count": 7,
   "id": "18329049",
   "metadata": {
    "collapsed": false,
    "execution": {
     "iopub.execute_input": "2021-10-15T00:57:02.125056Z",
     "iopub.status.busy": "2021-10-15T00:57:02.124161Z",
     "iopub.status.idle": "2021-10-15T00:57:02.701691Z",
     "shell.execute_reply": "2021-10-15T00:57:02.702114Z",
     "shell.execute_reply.started": "2021-10-15T00:55:14.479944Z"
    },
    "jupyter": {
     "outputs_hidden": false
    },
    "papermill": {
     "duration": 0.619196,
     "end_time": "2021-10-15T00:57:02.702262",
     "exception": false,
     "start_time": "2021-10-15T00:57:02.083066",
     "status": "completed"
    },
    "pycharm": {
     "name": "#%%\n"
    },
    "tags": []
   },
   "outputs": [
    {
     "data": {
      "text/plain": [
       "<AxesSubplot:>"
      ]
     },
     "execution_count": 7,
     "metadata": {},
     "output_type": "execute_result"
    },
    {
     "data": {
      "image/png": "[encoded data removed]",
      "text/plain": [
       "<Figure size 1800x720 with 2 Axes>"
      ]
     },
     "metadata": {
      "needs_background": "light"
     },
     "output_type": "display_data"
    }
   ],
   "source": [
    "msgo.matrix(chile)\n",
    "#not null,good data!"
   ]
  },
  {
   "cell_type": "markdown",
   "id": "04a34ddf",
   "metadata": {
    "papermill": {
     "duration": 0.033314,
     "end_time": "2021-10-15T00:57:02.768989",
     "exception": false,
     "start_time": "2021-10-15T00:57:02.735675",
     "status": "completed"
    },
    "tags": []
   },
   "source": [
    "## Delete Unnamed column"
   ]
  },
  {
   "cell_type": "code",
   "execution_count": 8,
   "id": "3e40f465",
   "metadata": {
    "collapsed": false,
    "execution": {
     "iopub.execute_input": "2021-10-15T00:57:02.858298Z",
     "iopub.status.busy": "2021-10-15T00:57:02.857526Z",
     "iopub.status.idle": "2021-10-15T00:57:02.860720Z",
     "shell.execute_reply": "2021-10-15T00:57:02.861187Z",
     "shell.execute_reply.started": "2021-10-15T00:55:15.072993Z"
    },
    "jupyter": {
     "outputs_hidden": false
    },
    "papermill": {
     "duration": 0.056471,
     "end_time": "2021-10-15T00:57:02.861361",
     "exception": false,
     "start_time": "2021-10-15T00:57:02.804890",
     "status": "completed"
    },
    "pycharm": {
     "name": "#%%\n"
    },
    "tags": []
   },
   "outputs": [],
   "source": [
    "chile = chile.drop(['Unnamed: 0'], axis=1)\n"
   ]
  },
  {
   "cell_type": "code",
   "execution_count": 9,
   "id": "52cde495",
   "metadata": {},
   "outputs": [
    {
     "data": {
      "text/html": [
       "<div>\n",
       "<style scoped>\n",
       "    .dataframe tbody tr th:only-of-type {\n",
       "        vertical-align: middle;\n",
       "    }\n",
       "\n",
       "    .dataframe tbody tr th {\n",
       "        vertical-align: top;\n",
       "    }\n",
       "\n",
       "    .dataframe thead th {\n",
       "        text-align: right;\n",
       "    }\n",
       "</style>\n",
       "<table border=\"1\" class=\"dataframe\">\n",
       "  <thead>\n",
       "    <tr style=\"text-align: right;\">\n",
       "      <th></th>\n",
       "      <th>country</th>\n",
       "      <th>iso_code</th>\n",
       "      <th>date</th>\n",
       "      <th>total_vaccinations</th>\n",
       "      <th>people_vaccinated</th>\n",
       "      <th>people_fully_vaccinated</th>\n",
       "      <th>New_deaths</th>\n",
       "      <th>population</th>\n",
       "      <th>ratio</th>\n",
       "    </tr>\n",
       "  </thead>\n",
       "  <tbody>\n",
       "    <tr>\n",
       "      <th>3541</th>\n",
       "      <td>Chile</td>\n",
       "      <td>CHL</td>\n",
       "      <td>2021-01-13</td>\n",
       "      <td>11742.0</td>\n",
       "      <td>10710.0</td>\n",
       "      <td>1032.0</td>\n",
       "      <td>20</td>\n",
       "      <td>19242590.0</td>\n",
       "      <td>0.055658</td>\n",
       "    </tr>\n",
       "    <tr>\n",
       "      <th>3542</th>\n",
       "      <td>Chile</td>\n",
       "      <td>CHL</td>\n",
       "      <td>2021-01-14</td>\n",
       "      <td>18659.0</td>\n",
       "      <td>12830.0</td>\n",
       "      <td>5829.0</td>\n",
       "      <td>22</td>\n",
       "      <td>19242590.0</td>\n",
       "      <td>0.066675</td>\n",
       "    </tr>\n",
       "    <tr>\n",
       "      <th>3543</th>\n",
       "      <td>Chile</td>\n",
       "      <td>CHL</td>\n",
       "      <td>2021-01-15</td>\n",
       "      <td>22090.0</td>\n",
       "      <td>13787.0</td>\n",
       "      <td>8303.0</td>\n",
       "      <td>90</td>\n",
       "      <td>19242590.0</td>\n",
       "      <td>0.071648</td>\n",
       "    </tr>\n",
       "    <tr>\n",
       "      <th>3544</th>\n",
       "      <td>Chile</td>\n",
       "      <td>CHL</td>\n",
       "      <td>2021-01-16</td>\n",
       "      <td>22180.0</td>\n",
       "      <td>13810.0</td>\n",
       "      <td>8370.0</td>\n",
       "      <td>75</td>\n",
       "      <td>19242590.0</td>\n",
       "      <td>0.071768</td>\n",
       "    </tr>\n",
       "    <tr>\n",
       "      <th>3545</th>\n",
       "      <td>Chile</td>\n",
       "      <td>CHL</td>\n",
       "      <td>2021-01-17</td>\n",
       "      <td>22180.0</td>\n",
       "      <td>13810.0</td>\n",
       "      <td>8370.0</td>\n",
       "      <td>66</td>\n",
       "      <td>19242590.0</td>\n",
       "      <td>0.071768</td>\n",
       "    </tr>\n",
       "  </tbody>\n",
       "</table>\n",
       "</div>"
      ],
      "text/plain": [
       "     country iso_code        date  total_vaccinations  people_vaccinated  \\\n",
       "3541   Chile      CHL  2021-01-13             11742.0            10710.0   \n",
       "3542   Chile      CHL  2021-01-14             18659.0            12830.0   \n",
       "3543   Chile      CHL  2021-01-15             22090.0            13787.0   \n",
       "3544   Chile      CHL  2021-01-16             22180.0            13810.0   \n",
       "3545   Chile      CHL  2021-01-17             22180.0            13810.0   \n",
       "\n",
       "      people_fully_vaccinated  New_deaths  population     ratio  \n",
       "3541                   1032.0          20  19242590.0  0.055658  \n",
       "3542                   5829.0          22  19242590.0  0.066675  \n",
       "3543                   8303.0          90  19242590.0  0.071648  \n",
       "3544                   8370.0          75  19242590.0  0.071768  \n",
       "3545                   8370.0          66  19242590.0  0.071768  "
      ]
     },
     "execution_count": 9,
     "metadata": {},
     "output_type": "execute_result"
    }
   ],
   "source": [
    "chile.head()"
   ]
  },
  {
   "cell_type": "markdown",
   "id": "eb24f0fc",
   "metadata": {},
   "source": [
    "# What dates we have? "
   ]
  },
  {
   "cell_type": "code",
   "execution_count": 10,
   "id": "114d3168",
   "metadata": {},
   "outputs": [
    {
     "data": {
      "text/plain": [
       "['2021-01-13',\n",
       " '2021-01-14',\n",
       " '2021-01-15',\n",
       " '2021-01-16',\n",
       " '2021-01-17',\n",
       " '2021-01-18',\n",
       " '2021-01-19',\n",
       " '2021-01-20',\n",
       " '2021-01-21',\n",
       " '2021-01-22',\n",
       " '2021-01-23',\n",
       " '2021-01-24',\n",
       " '2021-01-25',\n",
       " '2021-01-26',\n",
       " '2021-01-27',\n",
       " '2021-01-28',\n",
       " '2021-01-29',\n",
       " '2021-01-30',\n",
       " '2021-01-31',\n",
       " '2021-02-01',\n",
       " '2021-02-02',\n",
       " '2021-02-03',\n",
       " '2021-02-04',\n",
       " '2021-02-05',\n",
       " '2021-02-06',\n",
       " '2021-02-07',\n",
       " '2021-02-08',\n",
       " '2021-02-09',\n",
       " '2021-02-10',\n",
       " '2021-02-11',\n",
       " '2021-02-12',\n",
       " '2021-02-13',\n",
       " '2021-02-14',\n",
       " '2021-02-15',\n",
       " '2021-02-16',\n",
       " '2021-02-17',\n",
       " '2021-02-18',\n",
       " '2021-02-19',\n",
       " '2021-02-20',\n",
       " '2021-02-21',\n",
       " '2021-02-22',\n",
       " '2021-02-23',\n",
       " '2021-02-24',\n",
       " '2021-02-25',\n",
       " '2021-02-26',\n",
       " '2021-02-27',\n",
       " '2021-02-28',\n",
       " '2021-03-01',\n",
       " '2021-03-02',\n",
       " '2021-03-03',\n",
       " '2021-03-04',\n",
       " '2021-03-05',\n",
       " '2021-03-06',\n",
       " '2021-03-07',\n",
       " '2021-03-08',\n",
       " '2021-03-09',\n",
       " '2021-03-10',\n",
       " '2021-03-11',\n",
       " '2021-03-12',\n",
       " '2021-03-13',\n",
       " '2021-03-14',\n",
       " '2021-03-15',\n",
       " '2021-03-16',\n",
       " '2021-03-17',\n",
       " '2021-03-18',\n",
       " '2021-03-19',\n",
       " '2021-03-20',\n",
       " '2021-03-21',\n",
       " '2021-03-22',\n",
       " '2021-03-23',\n",
       " '2021-03-24',\n",
       " '2021-03-25',\n",
       " '2021-03-26',\n",
       " '2021-03-27',\n",
       " '2021-03-28',\n",
       " '2021-03-29',\n",
       " '2021-03-30',\n",
       " '2021-03-31',\n",
       " '2021-04-01',\n",
       " '2021-04-02',\n",
       " '2021-04-03',\n",
       " '2021-04-04',\n",
       " '2021-04-05',\n",
       " '2021-04-06',\n",
       " '2021-04-07',\n",
       " '2021-04-08',\n",
       " '2021-04-09',\n",
       " '2021-04-10',\n",
       " '2021-04-11',\n",
       " '2021-04-12',\n",
       " '2021-04-13',\n",
       " '2021-04-14',\n",
       " '2021-04-15',\n",
       " '2021-04-16',\n",
       " '2021-04-17',\n",
       " '2021-04-18',\n",
       " '2021-04-19',\n",
       " '2021-04-20',\n",
       " '2021-04-21',\n",
       " '2021-04-22',\n",
       " '2021-04-23',\n",
       " '2021-04-24',\n",
       " '2021-04-25',\n",
       " '2021-04-26',\n",
       " '2021-04-27',\n",
       " '2021-04-28',\n",
       " '2021-04-29',\n",
       " '2021-04-30',\n",
       " '2021-05-01',\n",
       " '2021-05-02',\n",
       " '2021-05-03',\n",
       " '2021-05-04',\n",
       " '2021-05-05',\n",
       " '2021-05-06',\n",
       " '2021-05-07',\n",
       " '2021-05-08',\n",
       " '2021-05-09',\n",
       " '2021-05-10',\n",
       " '2021-05-11',\n",
       " '2021-05-12',\n",
       " '2021-05-13',\n",
       " '2021-05-14',\n",
       " '2021-05-15',\n",
       " '2021-05-16',\n",
       " '2021-05-17',\n",
       " '2021-05-18',\n",
       " '2021-05-19',\n",
       " '2021-05-20',\n",
       " '2021-05-21',\n",
       " '2021-05-22',\n",
       " '2021-05-23',\n",
       " '2021-05-24',\n",
       " '2021-05-25',\n",
       " '2021-05-26',\n",
       " '2021-05-27',\n",
       " '2021-05-28',\n",
       " '2021-05-29',\n",
       " '2021-05-30',\n",
       " '2021-05-31',\n",
       " '2021-06-01',\n",
       " '2021-06-02',\n",
       " '2021-06-03',\n",
       " '2021-06-04',\n",
       " '2021-06-05',\n",
       " '2021-06-06',\n",
       " '2021-06-07',\n",
       " '2021-06-08',\n",
       " '2021-06-09',\n",
       " '2021-06-10',\n",
       " '2021-06-11',\n",
       " '2021-06-12',\n",
       " '2021-06-13',\n",
       " '2021-06-14',\n",
       " '2021-06-15',\n",
       " '2021-06-16',\n",
       " '2021-06-17',\n",
       " '2021-06-18',\n",
       " '2021-06-19',\n",
       " '2021-06-20',\n",
       " '2021-06-21',\n",
       " '2021-06-22',\n",
       " '2021-06-23',\n",
       " '2021-06-24',\n",
       " '2021-06-25',\n",
       " '2021-06-26',\n",
       " '2021-06-27',\n",
       " '2021-06-28',\n",
       " '2021-06-29',\n",
       " '2021-06-30',\n",
       " '2021-07-01',\n",
       " '2021-07-02',\n",
       " '2021-07-03',\n",
       " '2021-07-04',\n",
       " '2021-07-05',\n",
       " '2021-07-06',\n",
       " '2021-07-07',\n",
       " '2021-07-08',\n",
       " '2021-07-09',\n",
       " '2021-07-10',\n",
       " '2021-07-11',\n",
       " '2021-07-12',\n",
       " '2021-07-13',\n",
       " '2021-07-14',\n",
       " '2021-07-15',\n",
       " '2021-07-16',\n",
       " '2021-07-17',\n",
       " '2021-07-18',\n",
       " '2021-07-19',\n",
       " '2021-07-20',\n",
       " '2021-07-21',\n",
       " '2021-07-22',\n",
       " '2021-07-23',\n",
       " '2021-07-24',\n",
       " '2021-07-25',\n",
       " '2021-07-26',\n",
       " '2021-07-27',\n",
       " '2021-07-28',\n",
       " '2021-07-29',\n",
       " '2021-07-30',\n",
       " '2021-07-31',\n",
       " '2021-08-01',\n",
       " '2021-08-02',\n",
       " '2021-08-03',\n",
       " '2021-08-04',\n",
       " '2021-08-05',\n",
       " '2021-08-06',\n",
       " '2021-08-07',\n",
       " '2021-08-08',\n",
       " '2021-08-09',\n",
       " '2021-08-10',\n",
       " '2021-08-11',\n",
       " '2021-08-12',\n",
       " '2021-08-13',\n",
       " '2021-08-14',\n",
       " '2021-08-15',\n",
       " '2021-08-16',\n",
       " '2021-08-17',\n",
       " '2021-08-18',\n",
       " '2021-08-19',\n",
       " '2021-08-20',\n",
       " '2021-08-21',\n",
       " '2021-08-22',\n",
       " '2021-08-23',\n",
       " '2021-08-24',\n",
       " '2021-08-25',\n",
       " '2021-08-26',\n",
       " '2021-08-27',\n",
       " '2021-08-28',\n",
       " '2021-08-29',\n",
       " '2021-08-30',\n",
       " '2021-08-31',\n",
       " '2021-09-01',\n",
       " '2021-09-02',\n",
       " '2021-09-03',\n",
       " '2021-09-04',\n",
       " '2021-09-05',\n",
       " '2021-09-06',\n",
       " '2021-09-07',\n",
       " '2021-09-08',\n",
       " '2021-09-09',\n",
       " '2021-09-10',\n",
       " '2021-09-11',\n",
       " '2021-09-12',\n",
       " '2021-09-13',\n",
       " '2021-09-14',\n",
       " '2021-09-15',\n",
       " '2021-09-16',\n",
       " '2021-09-17',\n",
       " '2021-09-18',\n",
       " '2021-09-19',\n",
       " '2021-09-20',\n",
       " '2021-09-21',\n",
       " '2021-09-22',\n",
       " '2021-09-23',\n",
       " '2021-09-24',\n",
       " '2021-09-25',\n",
       " '2021-09-26',\n",
       " '2021-09-27',\n",
       " '2021-09-28',\n",
       " '2021-09-29',\n",
       " '2021-09-30',\n",
       " '2021-10-01',\n",
       " '2021-10-02',\n",
       " '2021-10-03',\n",
       " '2021-10-04',\n",
       " '2021-10-05',\n",
       " '2021-10-06',\n",
       " '2021-10-07',\n",
       " '2021-10-08']"
      ]
     },
     "execution_count": 10,
     "metadata": {},
     "output_type": "execute_result"
    }
   ],
   "source": [
    "chile.date.to_list()"
   ]
  },
  {
   "cell_type": "markdown",
   "id": "e7277223",
   "metadata": {
    "papermill": {
     "duration": 0.033635,
     "end_time": "2021-10-15T00:57:03.074866",
     "exception": false,
     "start_time": "2021-10-15T00:57:03.041231",
     "status": "completed"
    },
    "tags": []
   },
   "source": [
    "## Ratio of people fully vaccinated"
   ]
  },
  {
   "cell_type": "code",
   "execution_count": 11,
   "id": "193c38b8",
   "metadata": {
    "collapsed": false,
    "execution": {
     "iopub.execute_input": "2021-10-15T00:57:03.146706Z",
     "iopub.status.busy": "2021-10-15T00:57:03.145895Z",
     "iopub.status.idle": "2021-10-15T00:57:03.150549Z",
     "shell.execute_reply": "2021-10-15T00:57:03.150951Z",
     "shell.execute_reply.started": "2021-10-15T00:55:15.106778Z"
    },
    "jupyter": {
     "outputs_hidden": false
    },
    "papermill": {
     "duration": 0.042658,
     "end_time": "2021-10-15T00:57:03.151076",
     "exception": false,
     "start_time": "2021-10-15T00:57:03.108418",
     "status": "completed"
    },
    "pycharm": {
     "name": "#%%\n"
    },
    "tags": []
   },
   "outputs": [
    {
     "data": {
      "text/plain": [
       "19242590.0"
      ]
     },
     "execution_count": 11,
     "metadata": {},
     "output_type": "execute_result"
    }
   ],
   "source": [
    "#total population in Chile\n",
    "total_population_chile = chile['population'].max()\n",
    "total_population_chile"
   ]
  },
  {
   "cell_type": "code",
   "execution_count": 12,
   "id": "ef590bfd",
   "metadata": {
    "collapsed": false,
    "execution": {
     "iopub.execute_input": "2021-10-15T00:57:03.222143Z",
     "iopub.status.busy": "2021-10-15T00:57:03.221376Z",
     "iopub.status.idle": "2021-10-15T00:57:03.236218Z",
     "shell.execute_reply": "2021-10-15T00:57:03.236620Z",
     "shell.execute_reply.started": "2021-10-15T00:55:15.119594Z"
    },
    "jupyter": {
     "outputs_hidden": false
    },
    "papermill": {
     "duration": 0.051944,
     "end_time": "2021-10-15T00:57:03.236751",
     "exception": false,
     "start_time": "2021-10-15T00:57:03.184807",
     "status": "completed"
    },
    "pycharm": {
     "name": "#%%\n"
    },
    "tags": []
   },
   "outputs": [
    {
     "data": {
      "text/plain": [
       "14213792.0"
      ]
     },
     "execution_count": 12,
     "metadata": {},
     "output_type": "execute_result"
    }
   ],
   "source": [
    "#'people_fully_vaccinated' is an accumulation variable we need get the maximum value for each country\n",
    "# and sum them\n",
    "people_full_vaccinated = chile['people_fully_vaccinated'].max()\n",
    "people_full_vaccinated"
   ]
  },
  {
   "cell_type": "markdown",
   "id": "95f090b6",
   "metadata": {
    "papermill": {
     "duration": 0.033969,
     "end_time": "2021-10-15T00:57:03.304748",
     "exception": false,
     "start_time": "2021-10-15T00:57:03.270779",
     "status": "completed"
    },
    "tags": []
   },
   "source": [
    "# Plotting Pie Chart"
   ]
  },
  {
   "cell_type": "code",
   "execution_count": 13,
   "id": "3ff3aac9",
   "metadata": {
    "collapsed": false,
    "execution": {
     "iopub.execute_input": "2021-10-15T00:57:03.405935Z",
     "iopub.status.busy": "2021-10-15T00:57:03.402759Z",
     "iopub.status.idle": "2021-10-15T00:57:03.476390Z",
     "shell.execute_reply": "2021-10-15T00:57:03.475956Z",
     "shell.execute_reply.started": "2021-10-15T00:55:15.138298Z"
    },
    "jupyter": {
     "outputs_hidden": false
    },
    "papermill": {
     "duration": 0.137695,
     "end_time": "2021-10-15T00:57:03.476511",
     "exception": false,
     "start_time": "2021-10-15T00:57:03.338816",
     "status": "completed"
    },
    "pycharm": {
     "name": "#%%\n"
    },
    "tags": []
   },
   "outputs": [
    {
     "data": {
      "image/png": "[encoded data removed]",
      "text/plain": [
       "<Figure size 1000x500 with 1 Axes>"
      ]
     },
     "metadata": {},
     "output_type": "display_data"
    }
   ],
   "source": [
    "plt.figure(figsize=(10,5),dpi=100)\n",
    "plt.pie(\n",
    "    [total_population_chile,people_full_vaccinated],\n",
    "    autopct='%.2F%%',\n",
    "    labels=['total_population','people_fully_vaccinated'])\n",
    "plt.title('Ratio of people fully vaccinated')\n",
    "plt.show()"
   ]
  },
  {
   "cell_type": "markdown",
   "id": "877797ca",
   "metadata": {
    "papermill": {
     "duration": 0.035047,
     "end_time": "2021-10-15T00:57:03.546619",
     "exception": false,
     "start_time": "2021-10-15T00:57:03.511572",
     "status": "completed"
    },
    "tags": []
   },
   "source": [
    "## Ratio of people vaccinated"
   ]
  },
  {
   "cell_type": "code",
   "execution_count": 14,
   "id": "c6f1a7fb",
   "metadata": {
    "collapsed": false,
    "execution": {
     "iopub.execute_input": "2021-10-15T00:57:03.625387Z",
     "iopub.status.busy": "2021-10-15T00:57:03.624828Z",
     "iopub.status.idle": "2021-10-15T00:57:03.648655Z",
     "shell.execute_reply": "2021-10-15T00:57:03.648123Z",
     "shell.execute_reply.started": "2021-10-15T00:55:15.242155Z"
    },
    "jupyter": {
     "outputs_hidden": false
    },
    "papermill": {
     "duration": 0.066149,
     "end_time": "2021-10-15T00:57:03.648776",
     "exception": false,
     "start_time": "2021-10-15T00:57:03.582627",
     "status": "completed"
    },
    "pycharm": {
     "name": "#%%\n"
    },
    "tags": []
   },
   "outputs": [
    {
     "data": {
      "text/plain": [
       "82.68030966725374"
      ]
     },
     "execution_count": 14,
     "metadata": {},
     "output_type": "execute_result"
    }
   ],
   "source": [
    "#number of people who got at least one shot of COVID vaccine\n",
    "people_one_vac = chile['people_vaccinated'].max()\n",
    "rat_chile = chile['ratio'].max()\n",
    "chile_deaths = chile['New_deaths'].max()\n",
    "# df_country_deaths\n",
    "rat_chile"
   ]
  },
  {
   "cell_type": "code",
   "execution_count": 15,
   "id": "da9e05eb",
   "metadata": {
    "collapsed": false,
    "execution": {
     "iopub.execute_input": "2021-10-15T00:57:03.754682Z",
     "iopub.status.busy": "2021-10-15T00:57:03.753283Z",
     "iopub.status.idle": "2021-10-15T00:57:03.816564Z",
     "shell.execute_reply": "2021-10-15T00:57:03.816105Z",
     "shell.execute_reply.started": "2021-10-15T00:55:15.274002Z"
    },
    "jupyter": {
     "outputs_hidden": false
    },
    "papermill": {
     "duration": 0.130348,
     "end_time": "2021-10-15T00:57:03.816685",
     "exception": false,
     "start_time": "2021-10-15T00:57:03.686337",
     "status": "completed"
    },
    "pycharm": {
     "name": "#%%\n"
    },
    "tags": []
   },
   "outputs": [
    {
     "data": {
      "image/png": "[encoded data removed]",
      "text/plain": [
       "<Figure size 1000x500 with 1 Axes>"
      ]
     },
     "metadata": {},
     "output_type": "display_data"
    }
   ],
   "source": [
    "plt.figure(figsize=(10,5),dpi=100)\n",
    "plt.pie(\n",
    "    [total_population_chile,people_one_vac],\n",
    "    autopct='%.2F%%',\n",
    "    labels=['total_population','people_vaccinated'])\n",
    "plt.title('Ratio of people vaccinated(at least one shot)')\n",
    "plt.show()"
   ]
  },
  {
   "cell_type": "markdown",
   "id": "ca143a3e",
   "metadata": {
    "papermill": {
     "duration": 0.036854,
     "end_time": "2021-10-15T00:57:03.890579",
     "exception": false,
     "start_time": "2021-10-15T00:57:03.853725",
     "status": "completed"
    },
    "tags": []
   },
   "source": [
    "# Grouping Data Times Series"
   ]
  },
  {
   "cell_type": "code",
   "execution_count": 16,
   "id": "182cf451",
   "metadata": {
    "collapsed": false,
    "execution": {
     "iopub.execute_input": "2021-10-15T00:57:03.974596Z",
     "iopub.status.busy": "2021-10-15T00:57:03.973751Z",
     "iopub.status.idle": "2021-10-15T00:57:03.994871Z",
     "shell.execute_reply": "2021-10-15T00:57:03.995283Z",
     "shell.execute_reply.started": "2021-10-15T00:55:15.367022Z"
    },
    "jupyter": {
     "outputs_hidden": false
    },
    "papermill": {
     "duration": 0.067831,
     "end_time": "2021-10-15T00:57:03.995430",
     "exception": false,
     "start_time": "2021-10-15T00:57:03.927599",
     "status": "completed"
    },
    "pycharm": {
     "name": "#%%\n"
    },
    "tags": []
   },
   "outputs": [
    {
     "data": {
      "text/html": [
       "<div>\n",
       "<style scoped>\n",
       "    .dataframe tbody tr th:only-of-type {\n",
       "        vertical-align: middle;\n",
       "    }\n",
       "\n",
       "    .dataframe tbody tr th {\n",
       "        vertical-align: top;\n",
       "    }\n",
       "\n",
       "    .dataframe thead th {\n",
       "        text-align: right;\n",
       "    }\n",
       "</style>\n",
       "<table border=\"1\" class=\"dataframe\">\n",
       "  <thead>\n",
       "    <tr style=\"text-align: right;\">\n",
       "      <th></th>\n",
       "      <th>date</th>\n",
       "      <th>total_vaccinations</th>\n",
       "      <th>people_vaccinated</th>\n",
       "      <th>people_fully_vaccinated</th>\n",
       "      <th>New_deaths</th>\n",
       "      <th>population</th>\n",
       "      <th>ratio</th>\n",
       "    </tr>\n",
       "  </thead>\n",
       "  <tbody>\n",
       "    <tr>\n",
       "      <th>0</th>\n",
       "      <td>2021-01-13</td>\n",
       "      <td>11742.0</td>\n",
       "      <td>10710.0</td>\n",
       "      <td>1032.0</td>\n",
       "      <td>20</td>\n",
       "      <td>19242590.0</td>\n",
       "      <td>0.055658</td>\n",
       "    </tr>\n",
       "    <tr>\n",
       "      <th>1</th>\n",
       "      <td>2021-01-14</td>\n",
       "      <td>18659.0</td>\n",
       "      <td>12830.0</td>\n",
       "      <td>5829.0</td>\n",
       "      <td>22</td>\n",
       "      <td>19242590.0</td>\n",
       "      <td>0.066675</td>\n",
       "    </tr>\n",
       "    <tr>\n",
       "      <th>2</th>\n",
       "      <td>2021-01-15</td>\n",
       "      <td>22090.0</td>\n",
       "      <td>13787.0</td>\n",
       "      <td>8303.0</td>\n",
       "      <td>90</td>\n",
       "      <td>19242590.0</td>\n",
       "      <td>0.071648</td>\n",
       "    </tr>\n",
       "    <tr>\n",
       "      <th>3</th>\n",
       "      <td>2021-01-16</td>\n",
       "      <td>22180.0</td>\n",
       "      <td>13810.0</td>\n",
       "      <td>8370.0</td>\n",
       "      <td>75</td>\n",
       "      <td>19242590.0</td>\n",
       "      <td>0.071768</td>\n",
       "    </tr>\n",
       "    <tr>\n",
       "      <th>4</th>\n",
       "      <td>2021-01-17</td>\n",
       "      <td>22180.0</td>\n",
       "      <td>13810.0</td>\n",
       "      <td>8370.0</td>\n",
       "      <td>66</td>\n",
       "      <td>19242590.0</td>\n",
       "      <td>0.071768</td>\n",
       "    </tr>\n",
       "    <tr>\n",
       "      <th>...</th>\n",
       "      <td>...</td>\n",
       "      <td>...</td>\n",
       "      <td>...</td>\n",
       "      <td>...</td>\n",
       "      <td>...</td>\n",
       "      <td>...</td>\n",
       "      <td>...</td>\n",
       "    </tr>\n",
       "    <tr>\n",
       "      <th>264</th>\n",
       "      <td>2021-10-04</td>\n",
       "      <td>32774169.0</td>\n",
       "      <td>15663093.0</td>\n",
       "      <td>14180645.0</td>\n",
       "      <td>10</td>\n",
       "      <td>19242590.0</td>\n",
       "      <td>81.398050</td>\n",
       "    </tr>\n",
       "    <tr>\n",
       "      <th>265</th>\n",
       "      <td>2021-10-05</td>\n",
       "      <td>32942700.0</td>\n",
       "      <td>15740222.0</td>\n",
       "      <td>14196408.0</td>\n",
       "      <td>6</td>\n",
       "      <td>19242590.0</td>\n",
       "      <td>81.798874</td>\n",
       "    </tr>\n",
       "    <tr>\n",
       "      <th>266</th>\n",
       "      <td>2021-10-06</td>\n",
       "      <td>33096567.0</td>\n",
       "      <td>15809982.0</td>\n",
       "      <td>14203954.0</td>\n",
       "      <td>6</td>\n",
       "      <td>19242590.0</td>\n",
       "      <td>82.161403</td>\n",
       "    </tr>\n",
       "    <tr>\n",
       "      <th>267</th>\n",
       "      <td>2021-10-07</td>\n",
       "      <td>33250359.0</td>\n",
       "      <td>15873424.0</td>\n",
       "      <td>14210034.0</td>\n",
       "      <td>6</td>\n",
       "      <td>19242590.0</td>\n",
       "      <td>82.491099</td>\n",
       "    </tr>\n",
       "    <tr>\n",
       "      <th>268</th>\n",
       "      <td>2021-10-08</td>\n",
       "      <td>33348997.0</td>\n",
       "      <td>15909833.0</td>\n",
       "      <td>14213792.0</td>\n",
       "      <td>21</td>\n",
       "      <td>19242590.0</td>\n",
       "      <td>82.680310</td>\n",
       "    </tr>\n",
       "  </tbody>\n",
       "</table>\n",
       "<p>269 rows × 7 columns</p>\n",
       "</div>"
      ],
      "text/plain": [
       "           date  total_vaccinations  people_vaccinated  \\\n",
       "0    2021-01-13             11742.0            10710.0   \n",
       "1    2021-01-14             18659.0            12830.0   \n",
       "2    2021-01-15             22090.0            13787.0   \n",
       "3    2021-01-16             22180.0            13810.0   \n",
       "4    2021-01-17             22180.0            13810.0   \n",
       "..          ...                 ...                ...   \n",
       "264  2021-10-04          32774169.0         15663093.0   \n",
       "265  2021-10-05          32942700.0         15740222.0   \n",
       "266  2021-10-06          33096567.0         15809982.0   \n",
       "267  2021-10-07          33250359.0         15873424.0   \n",
       "268  2021-10-08          33348997.0         15909833.0   \n",
       "\n",
       "     people_fully_vaccinated  New_deaths  population      ratio  \n",
       "0                     1032.0          20  19242590.0   0.055658  \n",
       "1                     5829.0          22  19242590.0   0.066675  \n",
       "2                     8303.0          90  19242590.0   0.071648  \n",
       "3                     8370.0          75  19242590.0   0.071768  \n",
       "4                     8370.0          66  19242590.0   0.071768  \n",
       "..                       ...         ...         ...        ...  \n",
       "264               14180645.0          10  19242590.0  81.398050  \n",
       "265               14196408.0           6  19242590.0  81.798874  \n",
       "266               14203954.0           6  19242590.0  82.161403  \n",
       "267               14210034.0           6  19242590.0  82.491099  \n",
       "268               14213792.0          21  19242590.0  82.680310  \n",
       "\n",
       "[269 rows x 7 columns]"
      ]
     },
     "execution_count": 16,
     "metadata": {},
     "output_type": "execute_result"
    }
   ],
   "source": [
    "date_group = chile.groupby('date').agg('sum').reset_index()\n",
    "date_group"
   ]
  },
  {
   "cell_type": "markdown",
   "id": "ab87f4a2",
   "metadata": {
    "papermill": {
     "duration": 0.03708,
     "end_time": "2021-10-15T00:57:04.069310",
     "exception": false,
     "start_time": "2021-10-15T00:57:04.032230",
     "status": "completed"
    },
    "tags": []
   },
   "source": [
    "# Plotting line chart"
   ]
  },
  {
   "cell_type": "code",
   "execution_count": 17,
   "id": "324b2528",
   "metadata": {},
   "outputs": [
    {
     "data": {
      "text/plain": [
       "[<matplotlib.lines.Line2D at 0x1d1cecc85e0>]"
      ]
     },
     "execution_count": 17,
     "metadata": {},
     "output_type": "execute_result"
    },
    {
     "data": {
      "image/png": "[encoded data removed]",
      "text/plain": [
       "<Figure size 1280x720 with 2 Axes>"
      ]
     },
     "metadata": {
      "needs_background": "light"
     },
     "output_type": "display_data"
    }
   ],
   "source": [
    "x = date_group['date']\n",
    "y1 = date_group['total_vaccinations']\n",
    "y2 = date_group['New_deaths']\n",
    "\n",
    "fig, ax1 = plt.subplots(1,1,figsize=(16,9), dpi= 80)\n",
    "ax1.plot(x,y1,color='tab:red')\n",
    "\n",
    "ax2 = ax1.twinx()\n",
    "ax2.plot(x,y2,color='tab:blue')\n",
    "\n"
   ]
  },
  {
   "cell_type": "code",
   "execution_count": 18,
   "id": "b98b0a81",
   "metadata": {
    "collapsed": false,
    "execution": {
     "iopub.execute_input": "2021-10-15T00:57:04.168039Z",
     "iopub.status.busy": "2021-10-15T00:57:04.151993Z",
     "iopub.status.idle": "2021-10-15T00:57:04.580211Z",
     "shell.execute_reply": "2021-10-15T00:57:04.580677Z",
     "shell.execute_reply.started": "2021-10-15T00:55:15.398677Z"
    },
    "jupyter": {
     "outputs_hidden": false
    },
    "papermill": {
     "duration": 0.473519,
     "end_time": "2021-10-15T00:57:04.580826",
     "exception": false,
     "start_time": "2021-10-15T00:57:04.107307",
     "status": "completed"
    },
    "pycharm": {
     "name": "#%%\n"
    },
    "tags": []
   },
   "outputs": [
    {
     "data": {
      "text/plain": [
       "Text(0.5, 1.0, 'Total de vacunación VS Nuevas muertes por COVID 19')"
      ]
     },
     "execution_count": 18,
     "metadata": {},
     "output_type": "execute_result"
    },
    {
     "data": {
      "image/png": "[encoded data removed]",
      "text/plain": [
       "<Figure size 1280x720 with 2 Axes>"
      ]
     },
     "metadata": {
      "needs_background": "light"
     },
     "output_type": "display_data"
    }
   ],
   "source": [
    "#preparing data\n",
    "# total de vacunados vs numero de muertos en el rango de fechas para Chile\n",
    "x = date_group['date']\n",
    "y1 = date_group['total_vaccinations']\n",
    "y2 = date_group['New_deaths']\n",
    "\n",
    "#line 1\n",
    "fig, ax1 = plt.subplots(1,1,figsize=(16,9), dpi= 80)\n",
    "ax1.plot(x,y1,color='tab:red')\n",
    "\n",
    "#line 2\n",
    "ax2 = ax1.twinx()\n",
    "ax2.plot(x,y2,color='tab:blue')\n",
    "\n",
    "#decorations line 1\n",
    "ax1.set_xlabel('Fecha',fontsize=20)\n",
    "ax1.tick_params(axis='x',rotation=0,labelsize=12)\n",
    "ax1.set_ylabel('total_vaccinations_Chile',color='tab:red',fontsize=20)\n",
    "ax1.tick_params(axis='y',rotation=0,labelcolor='tab:red')\n",
    "ax1.grid(alpha=0.4)\n",
    "\n",
    "#decorations line 2\n",
    "ax2.set_ylabel('New_deaths_Chile',fontsize=20,color='tab:blue')\n",
    "ax2.tick_params(axis='y',rotation=0,labelcolor='tab:blue')\n",
    "ax2.set_xticks(np.arange(0,len(x),60))#\n",
    "ax2.set_title('Total de vacunación VS Nuevas muertes por COVID 19')"
   ]
  },
  {
   "cell_type": "markdown",
   "id": "402eb86b",
   "metadata": {
    "papermill": {
     "duration": 0.040807,
     "end_time": "2021-10-15T00:57:04.662952",
     "exception": false,
     "start_time": "2021-10-15T00:57:04.622145",
     "status": "completed"
    },
    "tags": []
   },
   "source": [
    "#Back to original dateset"
   ]
  },
  {
   "cell_type": "markdown",
   "id": "74b4e615",
   "metadata": {
    "papermill": {
     "duration": 0.040562,
     "end_time": "2021-10-15T00:57:04.744750",
     "exception": false,
     "start_time": "2021-10-15T00:57:04.704188",
     "status": "completed"
    },
    "tags": []
   },
   "source": [
    "# Relationship Between variables (Plotting Heatmap with seaborn)"
   ]
  },
  {
   "cell_type": "markdown",
   "id": "b45a67ff",
   "metadata": {
    "papermill": {
     "duration": 0.042243,
     "end_time": "2021-10-15T00:57:04.828191",
     "exception": false,
     "start_time": "2021-10-15T00:57:04.785948",
     "status": "completed"
    },
    "tags": []
   },
   "source": [
    "$$ r(X, Y)=\\frac{\\operatorname{Cov}(X, Y)}{\\sqrt{\\operatorname{Var}[X] \\operatorname{Var}[Y]}}\n",
    "$$"
   ]
  },
  {
   "cell_type": "code",
   "execution_count": 19,
   "id": "25f0958d",
   "metadata": {
    "collapsed": false,
    "execution": {
     "iopub.execute_input": "2021-10-15T00:57:04.914724Z",
     "iopub.status.busy": "2021-10-15T00:57:04.914175Z",
     "iopub.status.idle": "2021-10-15T00:57:04.928239Z",
     "shell.execute_reply": "2021-10-15T00:57:04.928664Z",
     "shell.execute_reply.started": "2021-10-15T00:55:15.839194Z"
    },
    "jupyter": {
     "outputs_hidden": false
    },
    "papermill": {
     "duration": 0.059855,
     "end_time": "2021-10-15T00:57:04.928808",
     "exception": false,
     "start_time": "2021-10-15T00:57:04.868953",
     "status": "completed"
    },
    "pycharm": {
     "name": "#%%\n"
    },
    "tags": []
   },
   "outputs": [
    {
     "name": "stderr",
     "output_type": "stream",
     "text": [
      "C:\\Users\\ivana\\anaconda3\\lib\\site-packages\\pandas\\io\\formats\\style.py:2813: RuntimeWarning: All-NaN slice encountered\n",
      "  smin = np.nanmin(gmap) if vmin is None else vmin\n",
      "C:\\Users\\ivana\\anaconda3\\lib\\site-packages\\pandas\\io\\formats\\style.py:2814: RuntimeWarning: All-NaN slice encountered\n",
      "  smax = np.nanmax(gmap) if vmax is None else vmax\n"
     ]
    },
    {
     "data": {
      "text/html": [
       "<style type=\"text/css\">\n",
       "#T_3c818_row0_col0, #T_3c818_row1_col1, #T_3c818_row1_col5, #T_3c818_row2_col2, #T_3c818_row3_col3, #T_3c818_row5_col1, #T_3c818_row5_col5 {\n",
       "  background-color: #023858;\n",
       "  color: #f1f1f1;\n",
       "}\n",
       "#T_3c818_row0_col1, #T_3c818_row0_col5 {\n",
       "  background-color: #023a5b;\n",
       "  color: #f1f1f1;\n",
       "}\n",
       "#T_3c818_row0_col2, #T_3c818_row1_col0, #T_3c818_row2_col0, #T_3c818_row5_col0 {\n",
       "  background-color: #02395a;\n",
       "  color: #f1f1f1;\n",
       "}\n",
       "#T_3c818_row0_col3, #T_3c818_row3_col0, #T_3c818_row3_col1, #T_3c818_row3_col2, #T_3c818_row3_col5 {\n",
       "  background-color: #fff7fb;\n",
       "  color: #000000;\n",
       "}\n",
       "#T_3c818_row0_col4, #T_3c818_row1_col4, #T_3c818_row2_col4, #T_3c818_row3_col4, #T_3c818_row4_col0, #T_3c818_row4_col1, #T_3c818_row4_col2, #T_3c818_row4_col3, #T_3c818_row4_col4, #T_3c818_row4_col5, #T_3c818_row5_col4 {\n",
       "  background-color: #000000;\n",
       "  color: #f1f1f1;\n",
       "}\n",
       "#T_3c818_row1_col2, #T_3c818_row2_col1, #T_3c818_row2_col5, #T_3c818_row5_col2 {\n",
       "  background-color: #023b5d;\n",
       "  color: #f1f1f1;\n",
       "}\n",
       "#T_3c818_row1_col3, #T_3c818_row5_col3 {\n",
       "  background-color: #f8f1f8;\n",
       "  color: #000000;\n",
       "}\n",
       "#T_3c818_row2_col3 {\n",
       "  background-color: #fef6fb;\n",
       "  color: #000000;\n",
       "}\n",
       "</style>\n",
       "<table id=\"T_3c818_\">\n",
       "  <thead>\n",
       "    <tr>\n",
       "      <th class=\"blank level0\" >&nbsp;</th>\n",
       "      <th class=\"col_heading level0 col0\" >total_vaccinations</th>\n",
       "      <th class=\"col_heading level0 col1\" >people_vaccinated</th>\n",
       "      <th class=\"col_heading level0 col2\" >people_fully_vaccinated</th>\n",
       "      <th class=\"col_heading level0 col3\" >New_deaths</th>\n",
       "      <th class=\"col_heading level0 col4\" >population</th>\n",
       "      <th class=\"col_heading level0 col5\" >ratio</th>\n",
       "    </tr>\n",
       "  </thead>\n",
       "  <tbody>\n",
       "    <tr>\n",
       "      <th id=\"T_3c818_level0_row0\" class=\"row_heading level0 row0\" >total_vaccinations</th>\n",
       "      <td id=\"T_3c818_row0_col0\" class=\"data row0 col0\" >1.000000</td>\n",
       "      <td id=\"T_3c818_row0_col1\" class=\"data row0 col1\" >0.990772</td>\n",
       "      <td id=\"T_3c818_row0_col2\" class=\"data row0 col2\" >0.994843</td>\n",
       "      <td id=\"T_3c818_row0_col3\" class=\"data row0 col3\" >-0.226409</td>\n",
       "      <td id=\"T_3c818_row0_col4\" class=\"data row0 col4\" >nan</td>\n",
       "      <td id=\"T_3c818_row0_col5\" class=\"data row0 col5\" >0.990772</td>\n",
       "    </tr>\n",
       "    <tr>\n",
       "      <th id=\"T_3c818_level0_row1\" class=\"row_heading level0 row1\" >people_vaccinated</th>\n",
       "      <td id=\"T_3c818_row1_col0\" class=\"data row1 col0\" >0.990772</td>\n",
       "      <td id=\"T_3c818_row1_col1\" class=\"data row1 col1\" >1.000000</td>\n",
       "      <td id=\"T_3c818_row1_col2\" class=\"data row1 col2\" >0.983095</td>\n",
       "      <td id=\"T_3c818_row1_col3\" class=\"data row1 col3\" >-0.165672</td>\n",
       "      <td id=\"T_3c818_row1_col4\" class=\"data row1 col4\" >nan</td>\n",
       "      <td id=\"T_3c818_row1_col5\" class=\"data row1 col5\" >1.000000</td>\n",
       "    </tr>\n",
       "    <tr>\n",
       "      <th id=\"T_3c818_level0_row2\" class=\"row_heading level0 row2\" >people_fully_vaccinated</th>\n",
       "      <td id=\"T_3c818_row2_col0\" class=\"data row2 col0\" >0.994843</td>\n",
       "      <td id=\"T_3c818_row2_col1\" class=\"data row2 col1\" >0.983095</td>\n",
       "      <td id=\"T_3c818_row2_col2\" class=\"data row2 col2\" >1.000000</td>\n",
       "      <td id=\"T_3c818_row2_col3\" class=\"data row2 col3\" >-0.221010</td>\n",
       "      <td id=\"T_3c818_row2_col4\" class=\"data row2 col4\" >nan</td>\n",
       "      <td id=\"T_3c818_row2_col5\" class=\"data row2 col5\" >0.983095</td>\n",
       "    </tr>\n",
       "    <tr>\n",
       "      <th id=\"T_3c818_level0_row3\" class=\"row_heading level0 row3\" >New_deaths</th>\n",
       "      <td id=\"T_3c818_row3_col0\" class=\"data row3 col0\" >-0.226409</td>\n",
       "      <td id=\"T_3c818_row3_col1\" class=\"data row3 col1\" >-0.165672</td>\n",
       "      <td id=\"T_3c818_row3_col2\" class=\"data row3 col2\" >-0.221010</td>\n",
       "      <td id=\"T_3c818_row3_col3\" class=\"data row3 col3\" >1.000000</td>\n",
       "      <td id=\"T_3c818_row3_col4\" class=\"data row3 col4\" >nan</td>\n",
       "      <td id=\"T_3c818_row3_col5\" class=\"data row3 col5\" >-0.165672</td>\n",
       "    </tr>\n",
       "    <tr>\n",
       "      <th id=\"T_3c818_level0_row4\" class=\"row_heading level0 row4\" >population</th>\n",
       "      <td id=\"T_3c818_row4_col0\" class=\"data row4 col0\" >nan</td>\n",
       "      <td id=\"T_3c818_row4_col1\" class=\"data row4 col1\" >nan</td>\n",
       "      <td id=\"T_3c818_row4_col2\" class=\"data row4 col2\" >nan</td>\n",
       "      <td id=\"T_3c818_row4_col3\" class=\"data row4 col3\" >nan</td>\n",
       "      <td id=\"T_3c818_row4_col4\" class=\"data row4 col4\" >nan</td>\n",
       "      <td id=\"T_3c818_row4_col5\" class=\"data row4 col5\" >nan</td>\n",
       "    </tr>\n",
       "    <tr>\n",
       "      <th id=\"T_3c818_level0_row5\" class=\"row_heading level0 row5\" >ratio</th>\n",
       "      <td id=\"T_3c818_row5_col0\" class=\"data row5 col0\" >0.990772</td>\n",
       "      <td id=\"T_3c818_row5_col1\" class=\"data row5 col1\" >1.000000</td>\n",
       "      <td id=\"T_3c818_row5_col2\" class=\"data row5 col2\" >0.983095</td>\n",
       "      <td id=\"T_3c818_row5_col3\" class=\"data row5 col3\" >-0.165672</td>\n",
       "      <td id=\"T_3c818_row5_col4\" class=\"data row5 col4\" >nan</td>\n",
       "      <td id=\"T_3c818_row5_col5\" class=\"data row5 col5\" >1.000000</td>\n",
       "    </tr>\n",
       "  </tbody>\n",
       "</table>\n"
      ],
      "text/plain": [
       "<pandas.io.formats.style.Styler at 0x1d1d07dedc0>"
      ]
     },
     "execution_count": 19,
     "metadata": {},
     "output_type": "execute_result"
    }
   ],
   "source": [
    "chile_corr = chile.corr()\n",
    "chile_corr.style.background_gradient()"
   ]
  },
  {
   "cell_type": "markdown",
   "id": "f2834358",
   "metadata": {
    "papermill": {
     "duration": 0.043861,
     "end_time": "2021-10-15T00:57:05.768291",
     "exception": false,
     "start_time": "2021-10-15T00:57:05.724430",
     "status": "completed"
    },
    "tags": []
   },
   "source": [
    "# Plotting scatter ---> CHILE"
   ]
  },
  {
   "cell_type": "code",
   "execution_count": 20,
   "id": "d77ec5bf",
   "metadata": {
    "collapsed": false,
    "execution": {
     "iopub.execute_input": "2021-10-15T00:57:05.867562Z",
     "iopub.status.busy": "2021-10-15T00:57:05.866826Z",
     "iopub.status.idle": "2021-10-15T00:57:06.306602Z",
     "shell.execute_reply": "2021-10-15T00:57:06.307015Z",
     "shell.execute_reply.started": "2021-10-15T00:55:16.641637Z"
    },
    "jupyter": {
     "outputs_hidden": false
    },
    "papermill": {
     "duration": 0.494567,
     "end_time": "2021-10-15T00:57:06.307165",
     "exception": false,
     "start_time": "2021-10-15T00:57:05.812598",
     "status": "completed"
    },
    "pycharm": {
     "name": "#%%\n"
    },
    "tags": []
   },
   "outputs": [
    {
     "data": {
      "text/plain": [
       "Text(0.5, 1.0, 'ratio vs New_deaths CHILE')"
      ]
     },
     "execution_count": 20,
     "metadata": {},
     "output_type": "execute_result"
    },
    {
     "data": {
      "image/png": "[encoded data removed]",
      "text/plain": [
       "<Figure size 1440x1080 with 2 Axes>"
      ]
     },
     "metadata": {
      "needs_background": "light"
     },
     "output_type": "display_data"
    }
   ],
   "source": [
    "chile.plot(\n",
    "    kind='scatter',\n",
    "    x='ratio',\n",
    "    y='New_deaths',\n",
    "    label='New_deaths vs ratio(USA)',\n",
    "    alpha=0.2,\n",
    "    figsize=(20,15),\n",
    "    s=chile['New_deaths'],\n",
    "    c='ratio',\n",
    "    cmap=plt.get_cmap('jet'),\n",
    "    colorbar=True)\n",
    "\n",
    "plt.xlabel('ratio(%)',fontsize=15)\n",
    "plt.ylabel('New_deaths(USA)',fontsize=18)\n",
    "plt.title('ratio vs New_deaths CHILE',fontsize=22)\n",
    "# The radius of each circle represents the district’s population (option s), and the color represents the price (option c)."
   ]
  },
  {
   "cell_type": "markdown",
   "id": "6bad62f1",
   "metadata": {
    "papermill": {
     "duration": 0.04969,
     "end_time": "2021-10-15T00:57:06.407096",
     "exception": false,
     "start_time": "2021-10-15T00:57:06.357406",
     "status": "completed"
    },
    "tags": []
   },
   "source": [
    "# Daily World Deaths"
   ]
  },
  {
   "cell_type": "code",
   "execution_count": 21,
   "id": "cdc156c0",
   "metadata": {
    "collapsed": false,
    "execution": {
     "iopub.execute_input": "2021-10-15T00:57:06.512780Z",
     "iopub.status.busy": "2021-10-15T00:57:06.512094Z",
     "iopub.status.idle": "2021-10-15T00:57:07.318095Z",
     "shell.execute_reply": "2021-10-15T00:57:07.318532Z",
     "shell.execute_reply.started": "2021-10-15T00:55:17.099434Z"
    },
    "jupyter": {
     "outputs_hidden": false
    },
    "papermill": {
     "duration": 0.8611,
     "end_time": "2021-10-15T00:57:07.318694",
     "exception": false,
     "start_time": "2021-10-15T00:57:06.457594",
     "status": "completed"
    },
    "pycharm": {
     "name": "#%%\n"
    },
    "tags": []
   },
   "outputs": [
    {
     "data": {
      "application/vnd.plotly.v1+json": {
       "config": {
        "plotlyServerURL": "https://plot.ly"
       },
       "data": [
        {
         "hovertemplate": "x=%{x}<br>y=%{y}<extra></extra>",
         "legendgroup": "",
         "line": {
          "color": "#636efa",
          "dash": "solid"
         },
         "marker": {
          "symbol": "circle"
         },
         "mode": "lines",
         "name": "",
         "orientation": "v",
         "showlegend": false,
         "type": "scatter",
         "x": [
          "2021-01-13",
          "2021-01-14",
          "2021-01-15",
          "2021-01-16",
          "2021-01-17",
          "2021-01-18",
          "2021-01-19",
          "2021-01-20",
          "2021-01-21",
          "2021-01-22",
          "2021-01-23",
          "2021-01-24",
          "2021-01-25",
          "2021-01-26",
          "2021-01-27",
          "2021-01-28",
          "2021-01-29",
          "2021-01-30",
          "2021-01-31",
          "2021-02-01",
          "2021-02-02",
          "2021-02-03",
          "2021-02-04",
          "2021-02-05",
          "2021-02-06",
          "2021-02-07",
          "2021-02-08",
          "2021-02-09",
          "2021-02-10",
          "2021-02-11",
          "2021-02-12",
          "2021-02-13",
          "2021-02-14",
          "2021-02-15",
          "2021-02-16",
          "2021-02-17",
          "2021-02-18",
          "2021-02-19",
          "2021-02-20",
          "2021-02-21",
          "2021-02-22",
          "2021-02-23",
          "2021-02-24",
          "2021-02-25",
          "2021-02-26",
          "2021-02-27",
          "2021-02-28",
          "2021-03-01",
          "2021-03-02",
          "2021-03-03",
          "2021-03-04",
          "2021-03-05",
          "2021-03-06",
          "2021-03-07",
          "2021-03-08",
          "2021-03-09",
          "2021-03-10",
          "2021-03-11",
          "2021-03-12",
          "2021-03-13",
          "2021-03-14",
          "2021-03-15",
          "2021-03-16",
          "2021-03-17",
          "2021-03-18",
          "2021-03-19",
          "2021-03-20",
          "2021-03-21",
          "2021-03-22",
          "2021-03-23",
          "2021-03-24",
          "2021-03-25",
          "2021-03-26",
          "2021-03-27",
          "2021-03-28",
          "2021-03-29",
          "2021-03-30",
          "2021-03-31",
          "2021-04-01",
          "2021-04-02",
          "2021-04-03",
          "2021-04-04",
          "2021-04-05",
          "2021-04-06",
          "2021-04-07",
          "2021-04-08",
          "2021-04-09",
          "2021-04-10",
          "2021-04-11",
          "2021-04-12",
          "2021-04-13",
          "2021-04-14",
          "2021-04-15",
          "2021-04-16",
          "2021-04-17",
          "2021-04-18",
          "2021-04-19",
          "2021-04-20",
          "2021-04-21",
          "2021-04-22",
          "2021-04-23",
          "2021-04-24",
          "2021-04-25",
          "2021-04-26",
          "2021-04-27",
          "2021-04-28",
          "2021-04-29",
          "2021-04-30",
          "2021-05-01",
          "2021-05-02",
          "2021-05-03",
          "2021-05-04",
          "2021-05-05",
          "2021-05-06",
          "2021-05-07",
          "2021-05-08",
          "2021-05-09",
          "2021-05-10",
          "2021-05-11",
          "2021-05-12",
          "2021-05-13",
          "2021-05-14",
          "2021-05-15",
          "2021-05-16",
          "2021-05-17",
          "2021-05-18",
          "2021-05-19",
          "2021-05-20",
          "2021-05-21",
          "2021-05-22",
          "2021-05-23",
          "2021-05-24",
          "2021-05-25",
          "2021-05-26",
          "2021-05-27",
          "2021-05-28",
          "2021-05-29",
          "2021-05-30",
          "2021-05-31",
          "2021-06-01",
          "2021-06-02",
          "2021-06-03",
          "2021-06-04",
          "2021-06-05",
          "2021-06-06",
          "2021-06-07",
          "2021-06-08",
          "2021-06-09",
          "2021-06-10",
          "2021-06-11",
          "2021-06-12",
          "2021-06-13",
          "2021-06-14",
          "2021-06-15",
          "2021-06-16",
          "2021-06-17",
          "2021-06-18",
          "2021-06-19",
          "2021-06-20",
          "2021-06-21",
          "2021-06-22",
          "2021-06-23",
          "2021-06-24",
          "2021-06-25",
          "2021-06-26",
          "2021-06-27",
          "2021-06-28",
          "2021-06-29",
          "2021-06-30",
          "2021-07-01",
          "2021-07-02",
          "2021-07-03",
          "2021-07-04",
          "2021-07-05",
          "2021-07-06",
          "2021-07-07",
          "2021-07-08",
          "2021-07-09",
          "2021-07-10",
          "2021-07-11",
          "2021-07-12",
          "2021-07-13",
          "2021-07-14",
          "2021-07-15",
          "2021-07-16",
          "2021-07-17",
          "2021-07-18",
          "2021-07-19",
          "2021-07-20",
          "2021-07-21",
          "2021-07-22",
          "2021-07-23",
          "2021-07-24",
          "2021-07-25",
          "2021-07-26",
          "2021-07-27",
          "2021-07-28",
          "2021-07-29",
          "2021-07-30",
          "2021-07-31",
          "2021-08-01",
          "2021-08-02",
          "2021-08-03",
          "2021-08-04",
          "2021-08-05",
          "2021-08-06",
          "2021-08-07",
          "2021-08-08",
          "2021-08-09",
          "2021-08-10",
          "2021-08-11",
          "2021-08-12",
          "2021-08-13",
          "2021-08-14",
          "2021-08-15",
          "2021-08-16",
          "2021-08-17",
          "2021-08-18",
          "2021-08-19",
          "2021-08-20",
          "2021-08-21",
          "2021-08-22",
          "2021-08-23",
          "2021-08-24",
          "2021-08-25",
          "2021-08-26",
          "2021-08-27",
          "2021-08-28",
          "2021-08-29",
          "2021-08-30",
          "2021-08-31",
          "2021-09-01",
          "2021-09-02",
          "2021-09-03",
          "2021-09-04",
          "2021-09-05",
          "2021-09-06",
          "2021-09-07",
          "2021-09-08",
          "2021-09-09",
          "2021-09-10",
          "2021-09-11",
          "2021-09-12",
          "2021-09-13",
          "2021-09-14",
          "2021-09-15",
          "2021-09-16",
          "2021-09-17",
          "2021-09-18",
          "2021-09-19",
          "2021-09-20",
          "2021-09-21",
          "2021-09-22",
          "2021-09-23",
          "2021-09-24",
          "2021-09-25",
          "2021-09-26",
          "2021-09-27",
          "2021-09-28",
          "2021-09-29",
          "2021-09-30",
          "2021-10-01",
          "2021-10-02",
          "2021-10-03",
          "2021-10-04",
          "2021-10-05",
          "2021-10-06",
          "2021-10-07",
          "2021-10-08"
         ],
         "xaxis": "x",
         "y": [
          20,
          42,
          132,
          207,
          273,
          315,
          385,
          411,
          432,
          540,
          624,
          692,
          771,
          837,
          861,
          878,
          1012,
          1095,
          1177,
          1290,
          1375,
          1397,
          1414,
          1569,
          1646,
          1733,
          1812,
          1894,
          1922,
          1943,
          2100,
          2183,
          2281,
          2379,
          2462,
          2482,
          2497,
          2636,
          2735,
          2812,
          2880,
          2964,
          2989,
          3011,
          3148,
          3238,
          3314,
          3410,
          3498,
          3522,
          3542,
          3676,
          3766,
          3846,
          3915,
          4001,
          4020,
          4044,
          4200,
          4289,
          4412,
          4512,
          4610,
          4627,
          4654,
          4826,
          4925,
          5018,
          5117,
          5197,
          5222,
          5240,
          5362,
          5425,
          5491,
          5592,
          5908,
          5945,
          5973,
          6166,
          6259,
          6259,
          6482,
          6515,
          6572,
          6634,
          6817,
          6946,
          7051,
          7184,
          7321,
          7356,
          7386,
          7604,
          7761,
          7893,
          8015,
          8115,
          8155,
          8191,
          8370,
          8479,
          8580,
          8694,
          8813,
          8858,
          8911,
          9085,
          9191,
          9295,
          9399,
          9497,
          9534,
          9564,
          9733,
          9842,
          9939,
          10056,
          10156,
          10194,
          10222,
          10358,
          10485,
          10572,
          10670,
          10772,
          10803,
          10835,
          11007,
          11128,
          11224,
          11356,
          11386,
          11423,
          11462,
          11647,
          11766,
          11885,
          12006,
          12138,
          12182,
          12223,
          12436,
          12534,
          12654,
          12775,
          12896,
          12942,
          12979,
          13177,
          13310,
          13417,
          13545,
          13642,
          13703,
          13760,
          13978,
          14097,
          14230,
          14351,
          14483,
          14528,
          14584,
          14635,
          14850,
          15001,
          15136,
          15292,
          15327,
          15383,
          15426,
          15647,
          15811,
          15941,
          16087,
          16126,
          16166,
          16352,
          16474,
          16605,
          16715,
          16818,
          16854,
          16887,
          17045,
          17147,
          17241,
          17352,
          17377,
          17407,
          17449,
          17630,
          17713,
          17796,
          17864,
          17957,
          17989,
          18014,
          18133,
          18204,
          18286,
          18366,
          18454,
          18478,
          18509,
          18644,
          18718,
          18789,
          18854,
          18945,
          18976,
          18995,
          19081,
          19125,
          19169,
          19218,
          19258,
          19276,
          19294,
          19362,
          19404,
          19443,
          19488,
          19526,
          19539,
          19556,
          19616,
          19645,
          19679,
          19723,
          19761,
          19775,
          19783,
          19833,
          19879,
          19905,
          19928,
          19946,
          19953,
          19960,
          19997,
          20016,
          20039,
          20070,
          20091,
          20091,
          20099,
          20131,
          20156,
          20177,
          20197,
          20205,
          20212,
          20217,
          20248,
          20261,
          20270,
          20278,
          20283,
          20287,
          20293,
          20306,
          20314,
          20322,
          20332,
          20338,
          20344,
          20350,
          20371
         ],
         "yaxis": "y"
        }
       ],
       "layout": {
        "legend": {
         "tracegroupgap": 0
        },
        "margin": {
         "t": 60
        },
        "template": {
         "data": {
          "bar": [
           {
            "error_x": {
             "color": "#2a3f5f"
            },
            "error_y": {
             "color": "#2a3f5f"
            },
            "marker": {
             "line": {
              "color": "#E5ECF6",
              "width": 0.5
             },
             "pattern": {
              "fillmode": "overlay",
              "size": 10,
              "solidity": 0.2
             }
            },
            "type": "bar"
           }
          ],
          "barpolar": [
           {
            "marker": {
             "line": {
              "color": "#E5ECF6",
              "width": 0.5
             },
             "pattern": {
              "fillmode": "overlay",
              "size": 10,
              "solidity": 0.2
             }
            },
            "type": "barpolar"
           }
          ],
          "carpet": [
           {
            "aaxis": {
             "endlinecolor": "#2a3f5f",
             "gridcolor": "white",
             "linecolor": "white",
             "minorgridcolor": "white",
             "startlinecolor": "#2a3f5f"
            },
            "baxis": {
             "endlinecolor": "#2a3f5f",
             "gridcolor": "white",
             "linecolor": "white",
             "minorgridcolor": "white",
             "startlinecolor": "#2a3f5f"
            },
            "type": "carpet"
           }
          ],
          "choropleth": [
           {
            "colorbar": {
             "outlinewidth": 0,
             "ticks": ""
            },
            "type": "choropleth"
           }
          ],
          "contour": [
           {
            "colorbar": {
             "outlinewidth": 0,
             "ticks": ""
            },
            "colorscale": [
             [
              0,
              "#0d0887"
             ],
             [
              0.1111111111111111,
              "#46039f"
             ],
             [
              0.2222222222222222,
              "#7201a8"
             ],
             [
              0.3333333333333333,
              "#9c179e"
             ],
             [
              0.4444444444444444,
              "#bd3786"
             ],
             [
              0.5555555555555556,
              "#d8576b"
             ],
             [
              0.6666666666666666,
              "#ed7953"
             ],
             [
              0.7777777777777778,
              "#fb9f3a"
             ],
             [
              0.8888888888888888,
              "#fdca26"
             ],
             [
              1,
              "#f0f921"
             ]
            ],
            "type": "contour"
           }
          ],
          "contourcarpet": [
           {
            "colorbar": {
             "outlinewidth": 0,
             "ticks": ""
            },
            "type": "contourcarpet"
           }
          ],
          "heatmap": [
           {
            "colorbar": {
             "outlinewidth": 0,
             "ticks": ""
            },
            "colorscale": [
             [
              0,
              "#0d0887"
             ],
             [
              0.1111111111111111,
              "#46039f"
             ],
             [
              0.2222222222222222,
              "#7201a8"
             ],
             [
              0.3333333333333333,
              "#9c179e"
             ],
             [
              0.4444444444444444,
              "#bd3786"
             ],
             [
              0.5555555555555556,
              "#d8576b"
             ],
             [
              0.6666666666666666,
              "#ed7953"
             ],
             [
              0.7777777777777778,
              "#fb9f3a"
             ],
             [
              0.8888888888888888,
              "#fdca26"
             ],
             [
              1,
              "#f0f921"
             ]
            ],
            "type": "heatmap"
           }
          ],
          "heatmapgl": [
           {
            "colorbar": {
             "outlinewidth": 0,
             "ticks": ""
            },
            "colorscale": [
             [
              0,
              "#0d0887"
             ],
             [
              0.1111111111111111,
              "#46039f"
             ],
             [
              0.2222222222222222,
              "#7201a8"
             ],
             [
              0.3333333333333333,
              "#9c179e"
             ],
             [
              0.4444444444444444,
              "#bd3786"
             ],
             [
              0.5555555555555556,
              "#d8576b"
             ],
             [
              0.6666666666666666,
              "#ed7953"
             ],
             [
              0.7777777777777778,
              "#fb9f3a"
             ],
             [
              0.8888888888888888,
              "#fdca26"
             ],
             [
              1,
              "#f0f921"
             ]
            ],
            "type": "heatmapgl"
           }
          ],
          "histogram": [
           {
            "marker": {
             "pattern": {
              "fillmode": "overlay",
              "size": 10,
              "solidity": 0.2
             }
            },
            "type": "histogram"
           }
          ],
          "histogram2d": [
           {
            "colorbar": {
             "outlinewidth": 0,
             "ticks": ""
            },
            "colorscale": [
             [
              0,
              "#0d0887"
             ],
             [
              0.1111111111111111,
              "#46039f"
             ],
             [
              0.2222222222222222,
              "#7201a8"
             ],
             [
              0.3333333333333333,
              "#9c179e"
             ],
             [
              0.4444444444444444,
              "#bd3786"
             ],
             [
              0.5555555555555556,
              "#d8576b"
             ],
             [
              0.6666666666666666,
              "#ed7953"
             ],
             [
              0.7777777777777778,
              "#fb9f3a"
             ],
             [
              0.8888888888888888,
              "#fdca26"
             ],
             [
              1,
              "#f0f921"
             ]
            ],
            "type": "histogram2d"
           }
          ],
          "histogram2dcontour": [
           {
            "colorbar": {
             "outlinewidth": 0,
             "ticks": ""
            },
            "colorscale": [
             [
              0,
              "#0d0887"
             ],
             [
              0.1111111111111111,
              "#46039f"
             ],
             [
              0.2222222222222222,
              "#7201a8"
             ],
             [
              0.3333333333333333,
              "#9c179e"
             ],
             [
              0.4444444444444444,
              "#bd3786"
             ],
             [
              0.5555555555555556,
              "#d8576b"
             ],
             [
              0.6666666666666666,
              "#ed7953"
             ],
             [
              0.7777777777777778,
              "#fb9f3a"
             ],
             [
              0.8888888888888888,
              "#fdca26"
             ],
             [
              1,
              "#f0f921"
             ]
            ],
            "type": "histogram2dcontour"
           }
          ],
          "mesh3d": [
           {
            "colorbar": {
             "outlinewidth": 0,
             "ticks": ""
            },
            "type": "mesh3d"
           }
          ],
          "parcoords": [
           {
            "line": {
             "colorbar": {
              "outlinewidth": 0,
              "ticks": ""
             }
            },
            "type": "parcoords"
           }
          ],
          "pie": [
           {
            "automargin": true,
            "type": "pie"
           }
          ],
          "scatter": [
           {
            "marker": {
             "colorbar": {
              "outlinewidth": 0,
              "ticks": ""
             }
            },
            "type": "scatter"
           }
          ],
          "scatter3d": [
           {
            "line": {
             "colorbar": {
              "outlinewidth": 0,
              "ticks": ""
             }
            },
            "marker": {
             "colorbar": {
              "outlinewidth": 0,
              "ticks": ""
             }
            },
            "type": "scatter3d"
           }
          ],
          "scattercarpet": [
           {
            "marker": {
             "colorbar": {
              "outlinewidth": 0,
              "ticks": ""
             }
            },
            "type": "scattercarpet"
           }
          ],
          "scattergeo": [
           {
            "marker": {
             "colorbar": {
              "outlinewidth": 0,
              "ticks": ""
             }
            },
            "type": "scattergeo"
           }
          ],
          "scattergl": [
           {
            "marker": {
             "colorbar": {
              "outlinewidth": 0,
              "ticks": ""
             }
            },
            "type": "scattergl"
           }
          ],
          "scattermapbox": [
           {
            "marker": {
             "colorbar": {
              "outlinewidth": 0,
              "ticks": ""
             }
            },
            "type": "scattermapbox"
           }
          ],
          "scatterpolar": [
           {
            "marker": {
             "colorbar": {
              "outlinewidth": 0,
              "ticks": ""
             }
            },
            "type": "scatterpolar"
           }
          ],
          "scatterpolargl": [
           {
            "marker": {
             "colorbar": {
              "outlinewidth": 0,
              "ticks": ""
             }
            },
            "type": "scatterpolargl"
           }
          ],
          "scatterternary": [
           {
            "marker": {
             "colorbar": {
              "outlinewidth": 0,
              "ticks": ""
             }
            },
            "type": "scatterternary"
           }
          ],
          "surface": [
           {
            "colorbar": {
             "outlinewidth": 0,
             "ticks": ""
            },
            "colorscale": [
             [
              0,
              "#0d0887"
             ],
             [
              0.1111111111111111,
              "#46039f"
             ],
             [
              0.2222222222222222,
              "#7201a8"
             ],
             [
              0.3333333333333333,
              "#9c179e"
             ],
             [
              0.4444444444444444,
              "#bd3786"
             ],
             [
              0.5555555555555556,
              "#d8576b"
             ],
             [
              0.6666666666666666,
              "#ed7953"
             ],
             [
              0.7777777777777778,
              "#fb9f3a"
             ],
             [
              0.8888888888888888,
              "#fdca26"
             ],
             [
              1,
              "#f0f921"
             ]
            ],
            "type": "surface"
           }
          ],
          "table": [
           {
            "cells": {
             "fill": {
              "color": "#EBF0F8"
             },
             "line": {
              "color": "white"
             }
            },
            "header": {
             "fill": {
              "color": "#C8D4E3"
             },
             "line": {
              "color": "white"
             }
            },
            "type": "table"
           }
          ]
         },
         "layout": {
          "annotationdefaults": {
           "arrowcolor": "#2a3f5f",
           "arrowhead": 0,
           "arrowwidth": 1
          },
          "autotypenumbers": "strict",
          "coloraxis": {
           "colorbar": {
            "outlinewidth": 0,
            "ticks": ""
           }
          },
          "colorscale": {
           "diverging": [
            [
             0,
             "#8e0152"
            ],
            [
             0.1,
             "#c51b7d"
            ],
            [
             0.2,
             "#de77ae"
            ],
            [
             0.3,
             "#f1b6da"
            ],
            [
             0.4,
             "#fde0ef"
            ],
            [
             0.5,
             "#f7f7f7"
            ],
            [
             0.6,
             "#e6f5d0"
            ],
            [
             0.7,
             "#b8e186"
            ],
            [
             0.8,
             "#7fbc41"
            ],
            [
             0.9,
             "#4d9221"
            ],
            [
             1,
             "#276419"
            ]
           ],
           "sequential": [
            [
             0,
             "#0d0887"
            ],
            [
             0.1111111111111111,
             "#46039f"
            ],
            [
             0.2222222222222222,
             "#7201a8"
            ],
            [
             0.3333333333333333,
             "#9c179e"
            ],
            [
             0.4444444444444444,
             "#bd3786"
            ],
            [
             0.5555555555555556,
             "#d8576b"
            ],
            [
             0.6666666666666666,
             "#ed7953"
            ],
            [
             0.7777777777777778,
             "#fb9f3a"
            ],
            [
             0.8888888888888888,
             "#fdca26"
            ],
            [
             1,
             "#f0f921"
            ]
           ],
           "sequentialminus": [
            [
             0,
             "#0d0887"
            ],
            [
             0.1111111111111111,
             "#46039f"
            ],
            [
             0.2222222222222222,
             "#7201a8"
            ],
            [
             0.3333333333333333,
             "#9c179e"
            ],
            [
             0.4444444444444444,
             "#bd3786"
            ],
            [
             0.5555555555555556,
             "#d8576b"
            ],
            [
             0.6666666666666666,
             "#ed7953"
            ],
            [
             0.7777777777777778,
             "#fb9f3a"
            ],
            [
             0.8888888888888888,
             "#fdca26"
            ],
            [
             1,
             "#f0f921"
            ]
           ]
          },
          "colorway": [
           "#636efa",
           "#EF553B",
           "#00cc96",
           "#ab63fa",
           "#FFA15A",
           "#19d3f3",
           "#FF6692",
           "#B6E880",
           "#FF97FF",
           "#FECB52"
          ],
          "font": {
           "color": "#2a3f5f"
          },
          "geo": {
           "bgcolor": "white",
           "lakecolor": "white",
           "landcolor": "#E5ECF6",
           "showlakes": true,
           "showland": true,
           "subunitcolor": "white"
          },
          "hoverlabel": {
           "align": "left"
          },
          "hovermode": "closest",
          "mapbox": {
           "style": "light"
          },
          "paper_bgcolor": "white",
          "plot_bgcolor": "#E5ECF6",
          "polar": {
           "angularaxis": {
            "gridcolor": "white",
            "linecolor": "white",
            "ticks": ""
           },
           "bgcolor": "#E5ECF6",
           "radialaxis": {
            "gridcolor": "white",
            "linecolor": "white",
            "ticks": ""
           }
          },
          "scene": {
           "xaxis": {
            "backgroundcolor": "#E5ECF6",
            "gridcolor": "white",
            "gridwidth": 2,
            "linecolor": "white",
            "showbackground": true,
            "ticks": "",
            "zerolinecolor": "white"
           },
           "yaxis": {
            "backgroundcolor": "#E5ECF6",
            "gridcolor": "white",
            "gridwidth": 2,
            "linecolor": "white",
            "showbackground": true,
            "ticks": "",
            "zerolinecolor": "white"
           },
           "zaxis": {
            "backgroundcolor": "#E5ECF6",
            "gridcolor": "white",
            "gridwidth": 2,
            "linecolor": "white",
            "showbackground": true,
            "ticks": "",
            "zerolinecolor": "white"
           }
          },
          "shapedefaults": {
           "line": {
            "color": "#2a3f5f"
           }
          },
          "ternary": {
           "aaxis": {
            "gridcolor": "white",
            "linecolor": "white",
            "ticks": ""
           },
           "baxis": {
            "gridcolor": "white",
            "linecolor": "white",
            "ticks": ""
           },
           "bgcolor": "#E5ECF6",
           "caxis": {
            "gridcolor": "white",
            "linecolor": "white",
            "ticks": ""
           }
          },
          "title": {
           "x": 0.05
          },
          "xaxis": {
           "automargin": true,
           "gridcolor": "white",
           "linecolor": "white",
           "ticks": "",
           "title": {
            "standoff": 15
           },
           "zerolinecolor": "white",
           "zerolinewidth": 2
          },
          "yaxis": {
           "automargin": true,
           "gridcolor": "white",
           "linecolor": "white",
           "ticks": "",
           "title": {
            "standoff": 15
           },
           "zerolinecolor": "white",
           "zerolinewidth": 2
          }
         }
        },
        "xaxis": {
         "anchor": "y",
         "domain": [
          0,
          1
         ],
         "title": {
          "text": "x"
         }
        },
        "yaxis": {
         "anchor": "x",
         "domain": [
          0,
          1
         ],
         "title": {
          "text": "y"
         }
        }
       }
      }
     },
     "metadata": {},
     "output_type": "display_data"
    }
   ],
   "source": [
    "date_group\n",
    "time = date_group['date'].values.tolist()\n",
    "\n",
    "px.line(x=time,y=date_group['New_deaths'].cumsum())\n",
    "# In this case New Deaths is a cumulative number so we use function cumsum())"
   ]
  },
  {
   "cell_type": "markdown",
   "id": "f006d67c",
   "metadata": {
    "papermill": {
     "duration": 0.050828,
     "end_time": "2021-10-15T00:57:07.421562",
     "exception": false,
     "start_time": "2021-10-15T00:57:07.370734",
     "status": "completed"
    },
    "tags": []
   },
   "source": [
    "# Machine Learning ：SSSSSimple LinerRegression"
   ]
  },
  {
   "cell_type": "code",
   "execution_count": 22,
   "id": "74b32e54",
   "metadata": {
    "collapsed": false,
    "execution": {
     "iopub.execute_input": "2021-10-15T00:57:07.538533Z",
     "iopub.status.busy": "2021-10-15T00:57:07.537633Z",
     "iopub.status.idle": "2021-10-15T00:57:07.558816Z",
     "shell.execute_reply": "2021-10-15T00:57:07.558210Z",
     "shell.execute_reply.started": "2021-10-15T00:55:17.914398Z"
    },
    "jupyter": {
     "outputs_hidden": false
    },
    "papermill": {
     "duration": 0.086458,
     "end_time": "2021-10-15T00:57:07.558971",
     "exception": false,
     "start_time": "2021-10-15T00:57:07.472513",
     "status": "completed"
    },
    "pycharm": {
     "name": "#%%\n"
    },
    "tags": []
   },
   "outputs": [
    {
     "name": "stdout",
     "output_type": "stream",
     "text": [
      "Coefficients:  [[-0.12466028]]\n",
      "Intercept:  [8.60556746e-17]\n",
      "The prediction of New Deaths is :\n",
      " [[89.34495914]\n",
      " [80.64957419]\n",
      " [82.76162038]\n",
      " [79.32124542]\n",
      " [74.0835576 ]\n",
      " [78.10067982]\n",
      " [73.62899341]\n",
      " [87.44154209]\n",
      " [75.00929382]\n",
      " [73.08096756]\n",
      " [74.66113885]\n",
      " [71.27982706]\n",
      " [73.30390463]\n",
      " [82.65545184]\n",
      " [74.29518938]\n",
      " [74.2965176 ]\n",
      " [73.0785711 ]\n",
      " [71.45126227]\n",
      " [81.35721516]\n",
      " [85.50169689]\n",
      " [71.66648101]\n",
      " [74.3099452 ]\n",
      " [87.44108519]\n",
      " [87.66583183]\n",
      " [74.48564306]\n",
      " [91.63606491]\n",
      " [91.17575284]\n",
      " [73.97289088]\n",
      " [81.19350085]\n",
      " [90.92260785]\n",
      " [80.78141516]\n",
      " [84.2952629 ]\n",
      " [77.28348027]\n",
      " [73.31367063]\n",
      " [73.91724477]\n",
      " [91.65250931]\n",
      " [80.11854874]\n",
      " [84.48415798]\n",
      " [80.24341528]\n",
      " [80.37836056]\n",
      " [90.91149047]\n",
      " [79.64846553]\n",
      " [75.52771151]\n",
      " [91.636016  ]\n",
      " [82.93750228]\n",
      " [73.42647124]\n",
      " [82.01044685]\n",
      " [75.11170036]\n",
      " [81.75296456]\n",
      " [72.10978367]\n",
      " [91.63601729]\n",
      " [76.67075018]\n",
      " [73.20670542]\n",
      " [73.07851319]\n",
      " [80.65080974]\n",
      " [88.95901563]\n",
      " [74.59253877]\n",
      " [77.41402262]\n",
      " [72.81710674]\n",
      " [72.73115875]\n",
      " [91.63601729]\n",
      " [83.27353727]\n",
      " [76.95041189]\n",
      " [91.63606491]\n",
      " [73.20276838]\n",
      " [84.48782988]\n",
      " [76.07155451]\n",
      " [75.67154761]]\n"
     ]
    }
   ],
   "source": [
    "# define x,y\n",
    "x = chile[['ratio']]\n",
    "y = chile[['New_deaths']]\n",
    "\n",
    "# split\n",
    "x_train,x_test,y_train,y_test = train_test_split(x,y,test_size=0.25,random_state=42)\n",
    "\n",
    "# Standard Normalization(x)\n",
    "std_x = StandardScaler()\n",
    "x_train = std_x.fit_transform(x_train)\n",
    "x_test = std_x.fit_transform(x_test)\n",
    "\n",
    "# Standard Normalization(y)\n",
    "std_y = StandardScaler()\n",
    "y_train = std_y.fit_transform(y_train)\n",
    "y_test = std_y.fit_transform(y_test)\n",
    "\n",
    "# fitting in\n",
    "liner = LinearRegression()\n",
    "liner.fit(x_train,y_train)\n",
    "\n",
    "# coefficients\n",
    "print ('Coefficients: ', liner.coef_)\n",
    "print ('Intercept: ',liner.intercept_)\n",
    "\n",
    "# prediction\n",
    "y_pre = std_y.inverse_transform(liner.predict(x_test))# inverse to original value\n",
    "print('The prediction of New Deaths is :\\n',y_pre)"
   ]
  },
  {
   "cell_type": "markdown",
   "id": "0e54ea56",
   "metadata": {
    "papermill": {
     "duration": 0.05045,
     "end_time": "2021-10-15T00:57:07.661447",
     "exception": false,
     "start_time": "2021-10-15T00:57:07.610997",
     "status": "completed"
    },
    "tags": []
   },
   "source": [
    "## Plotting with regression line"
   ]
  },
  {
   "cell_type": "code",
   "execution_count": 23,
   "id": "8aabffe6",
   "metadata": {
    "collapsed": false,
    "execution": {
     "iopub.execute_input": "2021-10-15T00:57:07.790717Z",
     "iopub.status.busy": "2021-10-15T00:57:07.789873Z",
     "iopub.status.idle": "2021-10-15T00:57:08.143514Z",
     "shell.execute_reply": "2021-10-15T00:57:08.143941Z",
     "shell.execute_reply.started": "2021-10-15T00:55:17.948416Z"
    },
    "jupyter": {
     "outputs_hidden": false
    },
    "papermill": {
     "duration": 0.431301,
     "end_time": "2021-10-15T00:57:08.144098",
     "exception": false,
     "start_time": "2021-10-15T00:57:07.712797",
     "status": "completed"
    },
    "pycharm": {
     "name": "#%%\n"
    },
    "tags": []
   },
   "outputs": [
    {
     "ename": "NameError",
     "evalue": "name 'df_usa' is not defined",
     "output_type": "error",
     "traceback": [
      "\u001b[1;31m---------------------------------------------------------------------------\u001b[0m",
      "\u001b[1;31mNameError\u001b[0m                                 Traceback (most recent call last)",
      "\u001b[1;32m~\\AppData\\Local\\Temp/ipykernel_19948/3165097746.py\u001b[0m in \u001b[0;36m<module>\u001b[1;34m\u001b[0m\n\u001b[1;32m----> 1\u001b[1;33m \u001b[0mx\u001b[0m \u001b[1;33m=\u001b[0m \u001b[0mdf_usa\u001b[0m\u001b[1;33m[\u001b[0m\u001b[1;34m'ratio'\u001b[0m\u001b[1;33m]\u001b[0m\u001b[1;33m\u001b[0m\u001b[1;33m\u001b[0m\u001b[0m\n\u001b[0m\u001b[0;32m      2\u001b[0m \u001b[0my\u001b[0m \u001b[1;33m=\u001b[0m \u001b[0mdf_usa\u001b[0m\u001b[1;33m[\u001b[0m\u001b[1;34m'New_deaths'\u001b[0m\u001b[1;33m]\u001b[0m\u001b[1;33m\u001b[0m\u001b[1;33m\u001b[0m\u001b[0m\n\u001b[0;32m      3\u001b[0m \u001b[1;33m\u001b[0m\u001b[0m\n\u001b[0;32m      4\u001b[0m \u001b[0mplt\u001b[0m\u001b[1;33m.\u001b[0m\u001b[0mfigure\u001b[0m\u001b[1;33m(\u001b[0m\u001b[0mfigsize\u001b[0m\u001b[1;33m=\u001b[0m\u001b[1;33m(\u001b[0m\u001b[1;36m10\u001b[0m\u001b[1;33m,\u001b[0m\u001b[1;36m8\u001b[0m\u001b[1;33m)\u001b[0m\u001b[1;33m,\u001b[0m\u001b[0mdpi\u001b[0m\u001b[1;33m=\u001b[0m\u001b[1;36m100\u001b[0m\u001b[1;33m)\u001b[0m\u001b[1;33m\u001b[0m\u001b[1;33m\u001b[0m\u001b[0m\n\u001b[0;32m      5\u001b[0m \u001b[0msns\u001b[0m\u001b[1;33m.\u001b[0m\u001b[0mregplot\u001b[0m\u001b[1;33m(\u001b[0m\u001b[0mx\u001b[0m\u001b[1;33m=\u001b[0m\u001b[0mx\u001b[0m\u001b[1;33m,\u001b[0m \u001b[0my\u001b[0m\u001b[1;33m=\u001b[0m\u001b[0my\u001b[0m\u001b[1;33m)\u001b[0m\u001b[1;33m\u001b[0m\u001b[1;33m\u001b[0m\u001b[0m\n",
      "\u001b[1;31mNameError\u001b[0m: name 'df_usa' is not defined"
     ]
    }
   ],
   "source": [
    "x = df_usa['ratio']\n",
    "y = df_usa['New_deaths']\n",
    "\n",
    "plt.figure(figsize=(10,8),dpi=100)\n",
    "sns.regplot(x=x, y=y)\n",
    "plt.xlabel('Ratio(USA)',fontsize=18)\n",
    "plt.ylabel('New Deaths',fontsize=18)\n",
    "plt.title('Liner Regression',fontsize=20)"
   ]
  },
  {
   "cell_type": "markdown",
   "id": "04e90733",
   "metadata": {
    "papermill": {
     "duration": 0.054854,
     "end_time": "2021-10-15T00:57:08.253678",
     "exception": false,
     "start_time": "2021-10-15T00:57:08.198824",
     "status": "completed"
    },
    "tags": []
   },
   "source": [
    "# Evaluation : Mean Squared Error(MSE)"
   ]
  },
  {
   "cell_type": "markdown",
   "id": "34025aaf",
   "metadata": {
    "papermill": {
     "duration": 0.052845,
     "end_time": "2021-10-15T00:57:08.368454",
     "exception": false,
     "start_time": "2021-10-15T00:57:08.315609",
     "status": "completed"
    },
    "tags": []
   },
   "source": [
    "$$\n",
    "M S E=\\frac{S S E}{n}=\\frac{1}{n} \\sum i=1^{m} w i(y i-\\hat{y i})^{2}\n",
    "$$"
   ]
  },
  {
   "cell_type": "markdown",
   "id": "d205eee3",
   "metadata": {
    "papermill": {
     "duration": 0.052885,
     "end_time": "2021-10-15T00:57:08.474851",
     "exception": false,
     "start_time": "2021-10-15T00:57:08.421966",
     "status": "completed"
    },
    "tags": []
   },
   "source": [
    "### The mean squared error (MSE)[1][2] or mean squared deviation (MSD) of an estimator (of a procedure for estimating an unobserved quantity) measures the average of the squares of the errors—that is, the average squared difference between the estimated values and the actual value. MSE is a risk function, corresponding to the expected value of the squared error loss. ---wiki"
   ]
  },
  {
   "cell_type": "code",
   "execution_count": null,
   "id": "cba45dbb",
   "metadata": {
    "collapsed": false,
    "execution": {
     "iopub.execute_input": "2021-10-15T00:57:08.590157Z",
     "iopub.status.busy": "2021-10-15T00:57:08.588535Z",
     "iopub.status.idle": "2021-10-15T00:57:08.592550Z",
     "shell.execute_reply": "2021-10-15T00:57:08.591923Z",
     "shell.execute_reply.started": "2021-10-15T00:55:18.339896Z"
    },
    "jupyter": {
     "outputs_hidden": false
    },
    "papermill": {
     "duration": 0.064254,
     "end_time": "2021-10-15T00:57:08.592699",
     "exception": false,
     "start_time": "2021-10-15T00:57:08.528445",
     "status": "completed"
    },
    "pycharm": {
     "name": "#%%\n"
    },
    "tags": []
   },
   "outputs": [
    {
     "name": "stdout",
     "output_type": "stream",
     "text": [
      "The Mean Squared Error(MSE) of y_pre is : 660882.90377080114558339118957519531250000000000000000000\n"
     ]
    }
   ],
   "source": [
    "mse = mean_squared_error(std_y.inverse_transform(y_test),y_pre)\n",
    "\n",
    "# make sure the output not show with scientific notation\n",
    "def as_float(x):\n",
    "    y='{:.50f}'.format(x)\n",
    "    return  y\n",
    "\n",
    "print('The Mean Squared Error(MSE) of y_pre is :',as_float(mse))"
   ]
  },
  {
   "cell_type": "markdown",
   "id": "02da9340",
   "metadata": {
    "papermill": {
     "duration": 0.053658,
     "end_time": "2021-10-15T00:57:08.701943",
     "exception": false,
     "start_time": "2021-10-15T00:57:08.648285",
     "status": "completed"
    },
    "tags": []
   },
   "source": [
    "$$\n",
    "\\mathrm{MAE}=\\frac{\\sum_{i=1}^{n}\\left|y_{i}-x_{i}\\right|}{n}=\\frac{\\sum_{i=1}^{n}\\left|e_{i}\\right|}{n}\n",
    "$$"
   ]
  },
  {
   "cell_type": "markdown",
   "id": "f44e2a47",
   "metadata": {
    "papermill": {
     "duration": 0.054367,
     "end_time": "2021-10-15T00:57:08.810671",
     "exception": false,
     "start_time": "2021-10-15T00:57:08.756304",
     "status": "completed"
    },
    "tags": []
   },
   "source": [
    "### In statistics, mean absolute error (MAE) is a measure of errors between paired observations expressing the same phenomenon.---wiki"
   ]
  },
  {
   "cell_type": "code",
   "execution_count": null,
   "id": "d29e92e6",
   "metadata": {
    "collapsed": false,
    "execution": {
     "iopub.execute_input": "2021-10-15T00:57:08.924865Z",
     "iopub.status.busy": "2021-10-15T00:57:08.924245Z",
     "iopub.status.idle": "2021-10-15T00:57:08.928748Z",
     "shell.execute_reply": "2021-10-15T00:57:08.928300Z",
     "shell.execute_reply.started": "2021-10-15T00:55:18.350805Z"
    },
    "jupyter": {
     "outputs_hidden": false
    },
    "papermill": {
     "duration": 0.063868,
     "end_time": "2021-10-15T00:57:08.928891",
     "exception": false,
     "start_time": "2021-10-15T00:57:08.865023",
     "status": "completed"
    },
    "pycharm": {
     "name": "#%%\n"
    },
    "tags": []
   },
   "outputs": [
    {
     "name": "stdout",
     "output_type": "stream",
     "text": [
      "The Mean Absolute Error(MAE) of y_pre is : 603.07769268033098342129960656166076660156250000000000\n"
     ]
    }
   ],
   "source": [
    "mae = mean_absolute_error(std_y.inverse_transform(y_test),y_pre)\n",
    "print('The Mean Absolute Error(MAE) of y_pre is :',as_float(mae))"
   ]
  },
  {
   "cell_type": "code",
   "execution_count": null,
   "id": "190cf4e2",
   "metadata": {
    "collapsed": false,
    "jupyter": {
     "outputs_hidden": false
    },
    "papermill": {
     "duration": 0.056789,
     "end_time": "2021-10-15T00:57:09.041735",
     "exception": false,
     "start_time": "2021-10-15T00:57:08.984946",
     "status": "completed"
    },
    "pycharm": {
     "name": "#%%\n"
    },
    "tags": []
   },
   "outputs": [],
   "source": []
  },
  {
   "cell_type": "code",
   "execution_count": null,
   "id": "6c80d413",
   "metadata": {
    "collapsed": false,
    "jupyter": {
     "outputs_hidden": false
    },
    "papermill": {
     "duration": 0.053885,
     "end_time": "2021-10-15T00:57:09.150120",
     "exception": false,
     "start_time": "2021-10-15T00:57:09.096235",
     "status": "completed"
    },
    "pycharm": {
     "name": "#%%\n"
    },
    "tags": []
   },
   "outputs": [],
   "source": []
  },
  {
   "cell_type": "code",
   "execution_count": null,
   "id": "ec1008d4",
   "metadata": {
    "collapsed": false,
    "jupyter": {
     "outputs_hidden": false
    },
    "papermill": {
     "duration": 0.054408,
     "end_time": "2021-10-15T00:57:09.258143",
     "exception": false,
     "start_time": "2021-10-15T00:57:09.203735",
     "status": "completed"
    },
    "pycharm": {
     "name": "#%%\n"
    },
    "tags": []
   },
   "outputs": [],
   "source": []
  },
  {
   "cell_type": "code",
   "execution_count": null,
   "id": "ea4b748d",
   "metadata": {
    "collapsed": false,
    "jupyter": {
     "outputs_hidden": false
    },
    "papermill": {
     "duration": 0.053975,
     "end_time": "2021-10-15T00:57:09.366329",
     "exception": false,
     "start_time": "2021-10-15T00:57:09.312354",
     "status": "completed"
    },
    "pycharm": {
     "name": "#%%\n"
    },
    "tags": []
   },
   "outputs": [],
   "source": []
  },
  {
   "cell_type": "code",
   "execution_count": null,
   "id": "0db27315",
   "metadata": {
    "collapsed": false,
    "jupyter": {
     "outputs_hidden": false
    },
    "papermill": {
     "duration": 0.057375,
     "end_time": "2021-10-15T00:57:09.477842",
     "exception": false,
     "start_time": "2021-10-15T00:57:09.420467",
     "status": "completed"
    },
    "pycharm": {
     "name": "#%%\n"
    },
    "tags": []
   },
   "outputs": [],
   "source": []
  }
 ],
 "metadata": {
  "kernelspec": {
   "display_name": "Python 3",
   "language": "python",
   "name": "python3"
  },
  "language_info": {
   "codemirror_mode": {
    "name": "ipython",
    "version": 3
   },
   "file_extension": ".py",
   "mimetype": "text/x-python",
   "name": "python",
   "nbconvert_exporter": "python",
   "pygments_lexer": "ipython3",
   "version": "3.8.8"
  },
  "papermill": {
   "default_parameters": {},
   "duration": 20.658684,
   "end_time": "2021-10-15T00:57:11.239896",
   "environment_variables": {},
   "exception": null,
   "input_path": "__notebook__.ipynb",
   "output_path": "__notebook__.ipynb",
   "parameters": {},
   "start_time": "2021-10-15T00:56:50.581212",
   "version": "2.3.3"
  }
 },
 "nbformat": 4,
 "nbformat_minor": 5
}
