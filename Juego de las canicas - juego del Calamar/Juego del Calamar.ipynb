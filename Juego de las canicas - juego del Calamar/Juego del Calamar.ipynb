{
 "cells": [
  {
   "cell_type": "code",
   "execution_count": 45,
   "metadata": {},
   "outputs": [],
   "source": [
    "# Juego del Calamar - probabilidad del juego de las canicas\n",
    "import numpy as np\n",
    "import matplotlib.pyplot as plt"
   ]
  },
  {
   "cell_type": "code",
   "execution_count": 50,
   "metadata": {},
   "outputs": [],
   "source": [
    "# creamos la función\n",
    "\n",
    "def juego_canicas(canicas_jugador_1 = 10, canicas_jugador_2 = 10):\n",
    "    canicas = dict({'jugador_1':canicas_jugador_1, 'jugador_2':canicas_jugador_2})\n",
    "    mano = dict({'jugador_1':0,'jugador_2':0})\n",
    "    turno = np.random.choice(['jugador_1','jugador_2'])\n",
    "    jugamos = True\n",
    "\n",
    "    while jugamos==True:\n",
    "        # se define el jugador que no está en turno (el otro)\n",
    "        otro = np.array_str(np.where(turno=='jugador_1','jugador_2','jugador_1'))\n",
    "\n",
    "        # los jugadores escogen las canincas y las esconden\n",
    "        mano['jugador_1'] = np.random.choice(np.arange(canicas['jugador_1'])+1) \n",
    "        mano['jugador_2'] = np.random.choice(np.arange(canicas['jugador_2'])+1)\n",
    "\n",
    "        # el jugador apuesta PAR o IMPAR (par = 0 / impar = 1)\n",
    "        apuesta = np.random.choice(np.arange(2)) # rango del 0-1\n",
    "\n",
    "        # jugadores muestran los resultados\n",
    "        if (mano[otro] % 2) == apuesta:\n",
    "            #jugador de turno adivina\n",
    "            canicas[turno]+=mano[turno]\n",
    "            canicas[otro]-=mano[otro]\n",
    "            if canicas[turno] >=20:\n",
    "                return(turno)\n",
    "        \n",
    "        else:\n",
    "            # jugador de turno falla\n",
    "            canicas[turno]-=mano[otro]\n",
    "            canicas[otro]+=mano[otro]\n",
    "            if canicas[turno] <=0:\n",
    "                return(otro)\n",
    "        \n",
    "        # Cambio de turno\n",
    "        turno = np.array_str(np.where(turno == 'jugador_1','jugador_2','jugador_1'))\n"
   ]
  },
  {
   "cell_type": "code",
   "execution_count": 51,
   "metadata": {},
   "outputs": [
    {
     "data": {
      "text/plain": [
       "'jugador_1'"
      ]
     },
     "execution_count": 51,
     "metadata": {},
     "output_type": "execute_result"
    }
   ],
   "source": [
    "juego_canicas()"
   ]
  },
  {
   "cell_type": "code",
   "execution_count": 63,
   "metadata": {},
   "outputs": [],
   "source": [
    "# numero inicial de canicas\n",
    "canicasjugador_1 = 10\n",
    "canicasjugador_2 = 10\n",
    "\n",
    "#asignar variables\n",
    "suma_ganados = 0\n",
    "veces_ganados = []\n",
    "n_juegos = 100"
   ]
  },
  {
   "cell_type": "code",
   "execution_count": 65,
   "metadata": {},
   "outputs": [
    {
     "ename": "ValueError",
     "evalue": "'a' cannot be empty unless no samples are taken",
     "output_type": "error",
     "traceback": [
      "\u001b[1;31m---------------------------------------------------------------------------\u001b[0m",
      "\u001b[1;31mValueError\u001b[0m                                Traceback (most recent call last)",
      "\u001b[1;32m<ipython-input-65-65ddfbd124a1>\u001b[0m in \u001b[0;36m<module>\u001b[1;34m\u001b[0m\n\u001b[0;32m      1\u001b[0m \u001b[1;31m#ciclo for para el calculo de simulaciones\u001b[0m\u001b[1;33m\u001b[0m\u001b[1;33m\u001b[0m\u001b[1;33m\u001b[0m\u001b[0m\n\u001b[0;32m      2\u001b[0m \u001b[1;32mfor\u001b[0m \u001b[0mi\u001b[0m \u001b[1;32min\u001b[0m \u001b[0mnp\u001b[0m\u001b[1;33m.\u001b[0m\u001b[0marange\u001b[0m\u001b[1;33m(\u001b[0m\u001b[0mn_juegos\u001b[0m\u001b[1;33m)\u001b[0m\u001b[1;33m:\u001b[0m\u001b[1;33m\u001b[0m\u001b[1;33m\u001b[0m\u001b[0m\n\u001b[1;32m----> 3\u001b[1;33m     \u001b[0mresultado\u001b[0m \u001b[1;33m=\u001b[0m \u001b[0mjuego_canicas\u001b[0m\u001b[1;33m(\u001b[0m\u001b[0mcanicasjugador_1\u001b[0m\u001b[1;33m,\u001b[0m\u001b[0mcanicasjugador_2\u001b[0m\u001b[1;33m)\u001b[0m\u001b[1;33m\u001b[0m\u001b[1;33m\u001b[0m\u001b[0m\n\u001b[0m\u001b[0;32m      4\u001b[0m     \u001b[1;32mif\u001b[0m \u001b[0mresultado\u001b[0m \u001b[1;33m==\u001b[0m \u001b[1;34m'jugador_1'\u001b[0m\u001b[1;33m:\u001b[0m\u001b[1;33m\u001b[0m\u001b[1;33m\u001b[0m\u001b[0m\n\u001b[0;32m      5\u001b[0m         \u001b[0msuma_ganados\u001b[0m\u001b[1;33m+=\u001b[0m\u001b[1;36m1\u001b[0m\u001b[1;33m\u001b[0m\u001b[1;33m\u001b[0m\u001b[0m\n",
      "\u001b[1;32m<ipython-input-50-50b52a780d8e>\u001b[0m in \u001b[0;36mjuego_canicas\u001b[1;34m(canicas_jugador_1, canicas_jugador_2)\u001b[0m\n\u001b[0;32m     13\u001b[0m         \u001b[1;31m# los jugadores escogen las canincas y las esconden\u001b[0m\u001b[1;33m\u001b[0m\u001b[1;33m\u001b[0m\u001b[1;33m\u001b[0m\u001b[0m\n\u001b[0;32m     14\u001b[0m         \u001b[0mmano\u001b[0m\u001b[1;33m[\u001b[0m\u001b[1;34m'jugador_1'\u001b[0m\u001b[1;33m]\u001b[0m \u001b[1;33m=\u001b[0m \u001b[0mnp\u001b[0m\u001b[1;33m.\u001b[0m\u001b[0mrandom\u001b[0m\u001b[1;33m.\u001b[0m\u001b[0mchoice\u001b[0m\u001b[1;33m(\u001b[0m\u001b[0mnp\u001b[0m\u001b[1;33m.\u001b[0m\u001b[0marange\u001b[0m\u001b[1;33m(\u001b[0m\u001b[0mcanicas\u001b[0m\u001b[1;33m[\u001b[0m\u001b[1;34m'jugador_1'\u001b[0m\u001b[1;33m]\u001b[0m\u001b[1;33m)\u001b[0m\u001b[1;33m+\u001b[0m\u001b[1;36m1\u001b[0m\u001b[1;33m)\u001b[0m \u001b[1;31m#se escogen canicas dentro del rango (arange=10 / 0-9) y se suma 1 (+1) para que la cuenta de canicas sea de 1-10\u001b[0m\u001b[1;33m\u001b[0m\u001b[1;33m\u001b[0m\u001b[0m\n\u001b[1;32m---> 15\u001b[1;33m         \u001b[0mmano\u001b[0m\u001b[1;33m[\u001b[0m\u001b[1;34m'jugador_2'\u001b[0m\u001b[1;33m]\u001b[0m \u001b[1;33m=\u001b[0m \u001b[0mnp\u001b[0m\u001b[1;33m.\u001b[0m\u001b[0mrandom\u001b[0m\u001b[1;33m.\u001b[0m\u001b[0mchoice\u001b[0m\u001b[1;33m(\u001b[0m\u001b[0mnp\u001b[0m\u001b[1;33m.\u001b[0m\u001b[0marange\u001b[0m\u001b[1;33m(\u001b[0m\u001b[0mcanicas\u001b[0m\u001b[1;33m[\u001b[0m\u001b[1;34m'jugador_2'\u001b[0m\u001b[1;33m]\u001b[0m\u001b[1;33m)\u001b[0m\u001b[1;33m+\u001b[0m\u001b[1;36m1\u001b[0m\u001b[1;33m)\u001b[0m\u001b[1;33m\u001b[0m\u001b[1;33m\u001b[0m\u001b[0m\n\u001b[0m\u001b[0;32m     16\u001b[0m \u001b[1;33m\u001b[0m\u001b[0m\n\u001b[0;32m     17\u001b[0m         \u001b[1;31m# el jugador apuesta PAR o IMPAR (par = 0 / impar = 1)\u001b[0m\u001b[1;33m\u001b[0m\u001b[1;33m\u001b[0m\u001b[1;33m\u001b[0m\u001b[0m\n",
      "\u001b[1;32mmtrand.pyx\u001b[0m in \u001b[0;36mnumpy.random.mtrand.RandomState.choice\u001b[1;34m()\u001b[0m\n",
      "\u001b[1;31mValueError\u001b[0m: 'a' cannot be empty unless no samples are taken"
     ]
    }
   ],
   "source": [
    "#ciclo for para el calculo de simulaciones\n",
    "for i in np.arange(n_juegos):\n",
    "    resultado = juego_canicas(canicasjugador_1,canicasjugador_2)\n",
    "    if resultado == 'jugador_1':\n",
    "        suma_ganados+=1\n",
    "    else:\n",
    "        continue\n",
    "    veces_ganados.append(suma_ganados/(i+1))\n",
    "\n",
    "\n",
    "# imprimir probabilidad final estimada\n"
   ]
  },
  {
   "cell_type": "code",
   "execution_count": null,
   "metadata": {},
   "outputs": [],
   "source": []
  }
 ],
 "metadata": {
  "interpreter": {
   "hash": "b9966e35d8ddcc16d8fbe51bd8abd6d67e347c3cf98a5088998386093a1ca970"
  },
  "kernelspec": {
   "display_name": "Python 3.8.8 64-bit ('base': conda)",
   "name": "python3"
  },
  "language_info": {
   "codemirror_mode": {
    "name": "ipython",
    "version": 3
   },
   "file_extension": ".py",
   "mimetype": "text/x-python",
   "name": "python",
   "nbconvert_exporter": "python",
   "pygments_lexer": "ipython3",
   "version": "3.8.8"
  },
  "orig_nbformat": 4
 },
 "nbformat": 4,
 "nbformat_minor": 2
}
