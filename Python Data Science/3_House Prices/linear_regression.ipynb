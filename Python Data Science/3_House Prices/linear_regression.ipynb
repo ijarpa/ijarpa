{
 "cells": [
  {
   "cell_type": "code",
   "execution_count": 1,
   "metadata": {},
   "outputs": [],
   "source": [
    "import pandas as pd\n",
    "import numpy as np\n",
    "import matplotlib.pyplot as plt"
   ]
  },
  {
   "cell_type": "code",
   "execution_count": 2,
   "metadata": {},
   "outputs": [],
   "source": [
    "from sklearn.datasets import load_boston"
   ]
  },
  {
   "cell_type": "code",
   "execution_count": 3,
   "metadata": {},
   "outputs": [],
   "source": [
    "boston_dataset = load_boston()"
   ]
  },
  {
   "cell_type": "code",
   "execution_count": 4,
   "metadata": {},
   "outputs": [],
   "source": [
    "df = pd.DataFrame(boston_dataset.data, columns=boston_dataset.feature_names)"
   ]
  },
  {
   "cell_type": "code",
   "execution_count": 5,
   "metadata": {},
   "outputs": [],
   "source": [
    "df['MEDV']=boston_dataset.target"
   ]
  },
  {
   "cell_type": "code",
   "execution_count": 6,
   "metadata": {},
   "outputs": [
    {
     "data": {
      "text/html": [
       "<div>\n",
       "<style scoped>\n",
       "    .dataframe tbody tr th:only-of-type {\n",
       "        vertical-align: middle;\n",
       "    }\n",
       "\n",
       "    .dataframe tbody tr th {\n",
       "        vertical-align: top;\n",
       "    }\n",
       "\n",
       "    .dataframe thead th {\n",
       "        text-align: right;\n",
       "    }\n",
       "</style>\n",
       "<table border=\"1\" class=\"dataframe\">\n",
       "  <thead>\n",
       "    <tr style=\"text-align: right;\">\n",
       "      <th></th>\n",
       "      <th>CRIM</th>\n",
       "      <th>ZN</th>\n",
       "      <th>INDUS</th>\n",
       "      <th>CHAS</th>\n",
       "      <th>NOX</th>\n",
       "      <th>RM</th>\n",
       "      <th>AGE</th>\n",
       "      <th>DIS</th>\n",
       "      <th>RAD</th>\n",
       "      <th>TAX</th>\n",
       "      <th>PTRATIO</th>\n",
       "      <th>B</th>\n",
       "      <th>LSTAT</th>\n",
       "      <th>MEDV</th>\n",
       "    </tr>\n",
       "  </thead>\n",
       "  <tbody>\n",
       "    <tr>\n",
       "      <th>0</th>\n",
       "      <td>0.00632</td>\n",
       "      <td>18.0</td>\n",
       "      <td>2.31</td>\n",
       "      <td>0.0</td>\n",
       "      <td>0.538</td>\n",
       "      <td>6.575</td>\n",
       "      <td>65.2</td>\n",
       "      <td>4.0900</td>\n",
       "      <td>1.0</td>\n",
       "      <td>296.0</td>\n",
       "      <td>15.3</td>\n",
       "      <td>396.90</td>\n",
       "      <td>4.98</td>\n",
       "      <td>24.0</td>\n",
       "    </tr>\n",
       "    <tr>\n",
       "      <th>1</th>\n",
       "      <td>0.02731</td>\n",
       "      <td>0.0</td>\n",
       "      <td>7.07</td>\n",
       "      <td>0.0</td>\n",
       "      <td>0.469</td>\n",
       "      <td>6.421</td>\n",
       "      <td>78.9</td>\n",
       "      <td>4.9671</td>\n",
       "      <td>2.0</td>\n",
       "      <td>242.0</td>\n",
       "      <td>17.8</td>\n",
       "      <td>396.90</td>\n",
       "      <td>9.14</td>\n",
       "      <td>21.6</td>\n",
       "    </tr>\n",
       "    <tr>\n",
       "      <th>2</th>\n",
       "      <td>0.02729</td>\n",
       "      <td>0.0</td>\n",
       "      <td>7.07</td>\n",
       "      <td>0.0</td>\n",
       "      <td>0.469</td>\n",
       "      <td>7.185</td>\n",
       "      <td>61.1</td>\n",
       "      <td>4.9671</td>\n",
       "      <td>2.0</td>\n",
       "      <td>242.0</td>\n",
       "      <td>17.8</td>\n",
       "      <td>392.83</td>\n",
       "      <td>4.03</td>\n",
       "      <td>34.7</td>\n",
       "    </tr>\n",
       "    <tr>\n",
       "      <th>3</th>\n",
       "      <td>0.03237</td>\n",
       "      <td>0.0</td>\n",
       "      <td>2.18</td>\n",
       "      <td>0.0</td>\n",
       "      <td>0.458</td>\n",
       "      <td>6.998</td>\n",
       "      <td>45.8</td>\n",
       "      <td>6.0622</td>\n",
       "      <td>3.0</td>\n",
       "      <td>222.0</td>\n",
       "      <td>18.7</td>\n",
       "      <td>394.63</td>\n",
       "      <td>2.94</td>\n",
       "      <td>33.4</td>\n",
       "    </tr>\n",
       "    <tr>\n",
       "      <th>4</th>\n",
       "      <td>0.06905</td>\n",
       "      <td>0.0</td>\n",
       "      <td>2.18</td>\n",
       "      <td>0.0</td>\n",
       "      <td>0.458</td>\n",
       "      <td>7.147</td>\n",
       "      <td>54.2</td>\n",
       "      <td>6.0622</td>\n",
       "      <td>3.0</td>\n",
       "      <td>222.0</td>\n",
       "      <td>18.7</td>\n",
       "      <td>396.90</td>\n",
       "      <td>5.33</td>\n",
       "      <td>36.2</td>\n",
       "    </tr>\n",
       "  </tbody>\n",
       "</table>\n",
       "</div>"
      ],
      "text/plain": [
       "      CRIM    ZN  INDUS  CHAS    NOX     RM   AGE     DIS  RAD    TAX  \\\n",
       "0  0.00632  18.0   2.31   0.0  0.538  6.575  65.2  4.0900  1.0  296.0   \n",
       "1  0.02731   0.0   7.07   0.0  0.469  6.421  78.9  4.9671  2.0  242.0   \n",
       "2  0.02729   0.0   7.07   0.0  0.469  7.185  61.1  4.9671  2.0  242.0   \n",
       "3  0.03237   0.0   2.18   0.0  0.458  6.998  45.8  6.0622  3.0  222.0   \n",
       "4  0.06905   0.0   2.18   0.0  0.458  7.147  54.2  6.0622  3.0  222.0   \n",
       "\n",
       "   PTRATIO       B  LSTAT  MEDV  \n",
       "0     15.3  396.90   4.98  24.0  \n",
       "1     17.8  396.90   9.14  21.6  \n",
       "2     17.8  392.83   4.03  34.7  \n",
       "3     18.7  394.63   2.94  33.4  \n",
       "4     18.7  396.90   5.33  36.2  "
      ]
     },
     "execution_count": 6,
     "metadata": {},
     "output_type": "execute_result"
    }
   ],
   "source": [
    "df.head()"
   ]
  },
  {
   "cell_type": "code",
   "execution_count": 7,
   "metadata": {},
   "outputs": [
    {
     "data": {
      "text/plain": [
       "['CRIM',\n",
       " 'ZN',\n",
       " 'INDUS',\n",
       " 'CHAS',\n",
       " 'NOX',\n",
       " 'RM',\n",
       " 'AGE',\n",
       " 'DIS',\n",
       " 'RAD',\n",
       " 'TAX',\n",
       " 'PTRATIO',\n",
       " 'B',\n",
       " 'LSTAT',\n",
       " 'MEDV']"
      ]
     },
     "execution_count": 7,
     "metadata": {},
     "output_type": "execute_result"
    }
   ],
   "source": [
    "# que columnas tiene la base?\n",
    "df.columns.to_list()"
   ]
  },
  {
   "cell_type": "code",
   "execution_count": 8,
   "metadata": {},
   "outputs": [
    {
     "data": {
      "text/html": [
       "<div>\n",
       "<style scoped>\n",
       "    .dataframe tbody tr th:only-of-type {\n",
       "        vertical-align: middle;\n",
       "    }\n",
       "\n",
       "    .dataframe tbody tr th {\n",
       "        vertical-align: top;\n",
       "    }\n",
       "\n",
       "    .dataframe thead th {\n",
       "        text-align: right;\n",
       "    }\n",
       "</style>\n",
       "<table border=\"1\" class=\"dataframe\">\n",
       "  <thead>\n",
       "    <tr style=\"text-align: right;\">\n",
       "      <th></th>\n",
       "      <th>CRIM</th>\n",
       "      <th>ZN</th>\n",
       "      <th>INDUS</th>\n",
       "      <th>CHAS</th>\n",
       "      <th>NOX</th>\n",
       "      <th>RM</th>\n",
       "      <th>AGE</th>\n",
       "      <th>DIS</th>\n",
       "      <th>RAD</th>\n",
       "      <th>TAX</th>\n",
       "      <th>PTRATIO</th>\n",
       "      <th>B</th>\n",
       "      <th>LSTAT</th>\n",
       "      <th>MEDV</th>\n",
       "    </tr>\n",
       "  </thead>\n",
       "  <tbody>\n",
       "    <tr>\n",
       "      <th>count</th>\n",
       "      <td>506.00</td>\n",
       "      <td>506.00</td>\n",
       "      <td>506.00</td>\n",
       "      <td>506.00</td>\n",
       "      <td>506.00</td>\n",
       "      <td>506.00</td>\n",
       "      <td>506.00</td>\n",
       "      <td>506.00</td>\n",
       "      <td>506.00</td>\n",
       "      <td>506.00</td>\n",
       "      <td>506.00</td>\n",
       "      <td>506.00</td>\n",
       "      <td>506.00</td>\n",
       "      <td>506.00</td>\n",
       "    </tr>\n",
       "    <tr>\n",
       "      <th>mean</th>\n",
       "      <td>3.61</td>\n",
       "      <td>11.36</td>\n",
       "      <td>11.14</td>\n",
       "      <td>0.07</td>\n",
       "      <td>0.55</td>\n",
       "      <td>6.28</td>\n",
       "      <td>68.57</td>\n",
       "      <td>3.80</td>\n",
       "      <td>9.55</td>\n",
       "      <td>408.24</td>\n",
       "      <td>18.46</td>\n",
       "      <td>356.67</td>\n",
       "      <td>12.65</td>\n",
       "      <td>22.53</td>\n",
       "    </tr>\n",
       "    <tr>\n",
       "      <th>std</th>\n",
       "      <td>8.60</td>\n",
       "      <td>23.32</td>\n",
       "      <td>6.86</td>\n",
       "      <td>0.25</td>\n",
       "      <td>0.12</td>\n",
       "      <td>0.70</td>\n",
       "      <td>28.15</td>\n",
       "      <td>2.11</td>\n",
       "      <td>8.71</td>\n",
       "      <td>168.54</td>\n",
       "      <td>2.16</td>\n",
       "      <td>91.29</td>\n",
       "      <td>7.14</td>\n",
       "      <td>9.20</td>\n",
       "    </tr>\n",
       "    <tr>\n",
       "      <th>min</th>\n",
       "      <td>0.01</td>\n",
       "      <td>0.00</td>\n",
       "      <td>0.46</td>\n",
       "      <td>0.00</td>\n",
       "      <td>0.38</td>\n",
       "      <td>3.56</td>\n",
       "      <td>2.90</td>\n",
       "      <td>1.13</td>\n",
       "      <td>1.00</td>\n",
       "      <td>187.00</td>\n",
       "      <td>12.60</td>\n",
       "      <td>0.32</td>\n",
       "      <td>1.73</td>\n",
       "      <td>5.00</td>\n",
       "    </tr>\n",
       "    <tr>\n",
       "      <th>25%</th>\n",
       "      <td>0.08</td>\n",
       "      <td>0.00</td>\n",
       "      <td>5.19</td>\n",
       "      <td>0.00</td>\n",
       "      <td>0.45</td>\n",
       "      <td>5.89</td>\n",
       "      <td>45.02</td>\n",
       "      <td>2.10</td>\n",
       "      <td>4.00</td>\n",
       "      <td>279.00</td>\n",
       "      <td>17.40</td>\n",
       "      <td>375.38</td>\n",
       "      <td>6.95</td>\n",
       "      <td>17.02</td>\n",
       "    </tr>\n",
       "    <tr>\n",
       "      <th>50%</th>\n",
       "      <td>0.26</td>\n",
       "      <td>0.00</td>\n",
       "      <td>9.69</td>\n",
       "      <td>0.00</td>\n",
       "      <td>0.54</td>\n",
       "      <td>6.21</td>\n",
       "      <td>77.50</td>\n",
       "      <td>3.21</td>\n",
       "      <td>5.00</td>\n",
       "      <td>330.00</td>\n",
       "      <td>19.05</td>\n",
       "      <td>391.44</td>\n",
       "      <td>11.36</td>\n",
       "      <td>21.20</td>\n",
       "    </tr>\n",
       "    <tr>\n",
       "      <th>75%</th>\n",
       "      <td>3.68</td>\n",
       "      <td>12.50</td>\n",
       "      <td>18.10</td>\n",
       "      <td>0.00</td>\n",
       "      <td>0.62</td>\n",
       "      <td>6.62</td>\n",
       "      <td>94.07</td>\n",
       "      <td>5.19</td>\n",
       "      <td>24.00</td>\n",
       "      <td>666.00</td>\n",
       "      <td>20.20</td>\n",
       "      <td>396.22</td>\n",
       "      <td>16.96</td>\n",
       "      <td>25.00</td>\n",
       "    </tr>\n",
       "    <tr>\n",
       "      <th>max</th>\n",
       "      <td>88.98</td>\n",
       "      <td>100.00</td>\n",
       "      <td>27.74</td>\n",
       "      <td>1.00</td>\n",
       "      <td>0.87</td>\n",
       "      <td>8.78</td>\n",
       "      <td>100.00</td>\n",
       "      <td>12.13</td>\n",
       "      <td>24.00</td>\n",
       "      <td>711.00</td>\n",
       "      <td>22.00</td>\n",
       "      <td>396.90</td>\n",
       "      <td>37.97</td>\n",
       "      <td>50.00</td>\n",
       "    </tr>\n",
       "  </tbody>\n",
       "</table>\n",
       "</div>"
      ],
      "text/plain": [
       "         CRIM      ZN   INDUS    CHAS     NOX      RM     AGE     DIS     RAD  \\\n",
       "count  506.00  506.00  506.00  506.00  506.00  506.00  506.00  506.00  506.00   \n",
       "mean     3.61   11.36   11.14    0.07    0.55    6.28   68.57    3.80    9.55   \n",
       "std      8.60   23.32    6.86    0.25    0.12    0.70   28.15    2.11    8.71   \n",
       "min      0.01    0.00    0.46    0.00    0.38    3.56    2.90    1.13    1.00   \n",
       "25%      0.08    0.00    5.19    0.00    0.45    5.89   45.02    2.10    4.00   \n",
       "50%      0.26    0.00    9.69    0.00    0.54    6.21   77.50    3.21    5.00   \n",
       "75%      3.68   12.50   18.10    0.00    0.62    6.62   94.07    5.19   24.00   \n",
       "max     88.98  100.00   27.74    1.00    0.87    8.78  100.00   12.13   24.00   \n",
       "\n",
       "          TAX  PTRATIO       B   LSTAT    MEDV  \n",
       "count  506.00   506.00  506.00  506.00  506.00  \n",
       "mean   408.24    18.46  356.67   12.65   22.53  \n",
       "std    168.54     2.16   91.29    7.14    9.20  \n",
       "min    187.00    12.60    0.32    1.73    5.00  \n",
       "25%    279.00    17.40  375.38    6.95   17.02  \n",
       "50%    330.00    19.05  391.44   11.36   21.20  \n",
       "75%    666.00    20.20  396.22   16.96   25.00  \n",
       "max    711.00    22.00  396.90   37.97   50.00  "
      ]
     },
     "execution_count": 8,
     "metadata": {},
     "output_type": "execute_result"
    }
   ],
   "source": [
    "df.describe().round(2)"
   ]
  },
  {
   "cell_type": "code",
   "execution_count": 9,
   "metadata": {},
   "outputs": [
    {
     "data": {
      "text/plain": [
       "array([[<AxesSubplot:title={'center':'CHAS'}>]], dtype=object)"
      ]
     },
     "execution_count": 9,
     "metadata": {},
     "output_type": "execute_result"
    },
    {
     "data": {
      "image/png": "[encoded data removed]",
      "text/plain": [
       "<Figure size 432x288 with 1 Axes>"
      ]
     },
     "metadata": {
      "needs_background": "light"
     },
     "output_type": "display_data"
    }
   ],
   "source": [
    "df.hist('CHAS')"
   ]
  },
  {
   "cell_type": "code",
   "execution_count": 10,
   "metadata": {},
   "outputs": [
    {
     "data": {
      "text/plain": [
       "array([[<AxesSubplot:title={'center':'RM'}>]], dtype=object)"
      ]
     },
     "execution_count": 10,
     "metadata": {},
     "output_type": "execute_result"
    },
    {
     "data": {
      "image/png": "[encoded data removed]",
      "text/plain": [
       "<Figure size 432x288 with 1 Axes>"
      ]
     },
     "metadata": {
      "needs_background": "light"
     },
     "output_type": "display_data"
    }
   ],
   "source": [
    "df.hist('RM', bins=20)"
   ]
  },
  {
   "cell_type": "code",
   "execution_count": 11,
   "metadata": {},
   "outputs": [
    {
     "name": "stdout",
     "output_type": "stream",
     "text": [
      "         CRIM    ZN  INDUS  CHAS   NOX    RM   AGE   DIS   RAD   TAX  PTRATIO  \\\n",
      "CRIM     1.00 -0.20   0.41 -0.06  0.42 -0.22  0.35 -0.38  0.63  0.58     0.29   \n",
      "ZN      -0.20  1.00  -0.53 -0.04 -0.52  0.31 -0.57  0.66 -0.31 -0.31    -0.39   \n",
      "INDUS    0.41 -0.53   1.00  0.06  0.76 -0.39  0.64 -0.71  0.60  0.72     0.38   \n",
      "CHAS    -0.06 -0.04   0.06  1.00  0.09  0.09  0.09 -0.10 -0.01 -0.04    -0.12   \n",
      "NOX      0.42 -0.52   0.76  0.09  1.00 -0.30  0.73 -0.77  0.61  0.67     0.19   \n",
      "RM      -0.22  0.31  -0.39  0.09 -0.30  1.00 -0.24  0.21 -0.21 -0.29    -0.36   \n",
      "AGE      0.35 -0.57   0.64  0.09  0.73 -0.24  1.00 -0.75  0.46  0.51     0.26   \n",
      "DIS     -0.38  0.66  -0.71 -0.10 -0.77  0.21 -0.75  1.00 -0.49 -0.53    -0.23   \n",
      "RAD      0.63 -0.31   0.60 -0.01  0.61 -0.21  0.46 -0.49  1.00  0.91     0.46   \n",
      "TAX      0.58 -0.31   0.72 -0.04  0.67 -0.29  0.51 -0.53  0.91  1.00     0.46   \n",
      "PTRATIO  0.29 -0.39   0.38 -0.12  0.19 -0.36  0.26 -0.23  0.46  0.46     1.00   \n",
      "B       -0.39  0.18  -0.36  0.05 -0.38  0.13 -0.27  0.29 -0.44 -0.44    -0.18   \n",
      "LSTAT    0.46 -0.41   0.60 -0.05  0.59 -0.61  0.60 -0.50  0.49  0.54     0.37   \n",
      "MEDV    -0.39  0.36  -0.48  0.18 -0.43  0.70 -0.38  0.25 -0.38 -0.47    -0.51   \n",
      "\n",
      "            B  LSTAT  MEDV  \n",
      "CRIM    -0.39   0.46 -0.39  \n",
      "ZN       0.18  -0.41  0.36  \n",
      "INDUS   -0.36   0.60 -0.48  \n",
      "CHAS     0.05  -0.05  0.18  \n",
      "NOX     -0.38   0.59 -0.43  \n",
      "RM       0.13  -0.61  0.70  \n",
      "AGE     -0.27   0.60 -0.38  \n",
      "DIS      0.29  -0.50  0.25  \n",
      "RAD     -0.44   0.49 -0.38  \n",
      "TAX     -0.44   0.54 -0.47  \n",
      "PTRATIO -0.18   0.37 -0.51  \n",
      "B        1.00  -0.37  0.33  \n",
      "LSTAT   -0.37   1.00 -0.74  \n",
      "MEDV     0.33  -0.74  1.00  \n"
     ]
    }
   ],
   "source": [
    "# CORRELATION \n",
    "corr_matrix = df.corr().round(2)\n",
    "print(corr_matrix)"
   ]
  },
  {
   "cell_type": "code",
   "execution_count": 12,
   "metadata": {},
   "outputs": [
    {
     "data": {
      "text/html": [
       "<style  type=\"text/css\" >\n",
       "#T_df032_row0_col0,#T_df032_row1_col1,#T_df032_row2_col2,#T_df032_row3_col3,#T_df032_row4_col4,#T_df032_row5_col5,#T_df032_row6_col6,#T_df032_row7_col7,#T_df032_row8_col8,#T_df032_row9_col9,#T_df032_row10_col10,#T_df032_row11_col11,#T_df032_row12_col12,#T_df032_row13_col13{\n",
       "            background-color:  #023858;\n",
       "            color:  #f1f1f1;\n",
       "        }#T_df032_row0_col1,#T_df032_row3_col0{\n",
       "            background-color:  #d3d4e7;\n",
       "            color:  #000000;\n",
       "        }#T_df032_row0_col2{\n",
       "            background-color:  #2a88bc;\n",
       "            color:  #000000;\n",
       "        }#T_df032_row0_col3,#T_df032_row2_col11{\n",
       "            background-color:  #f7f0f7;\n",
       "            color:  #000000;\n",
       "        }#T_df032_row0_col4{\n",
       "            background-color:  #2383ba;\n",
       "            color:  #000000;\n",
       "        }#T_df032_row0_col5{\n",
       "            background-color:  #d2d2e7;\n",
       "            color:  #000000;\n",
       "        }#T_df032_row0_col6{\n",
       "            background-color:  #358fc0;\n",
       "            color:  #000000;\n",
       "        }#T_df032_row0_col7,#T_df032_row11_col4{\n",
       "            background-color:  #d7d6e9;\n",
       "            color:  #000000;\n",
       "        }#T_df032_row0_col8{\n",
       "            background-color:  #056faf;\n",
       "            color:  #f1f1f1;\n",
       "        }#T_df032_row0_col9{\n",
       "            background-color:  #0f76b3;\n",
       "            color:  #f1f1f1;\n",
       "        }#T_df032_row0_col10,#T_df032_row3_col13{\n",
       "            background-color:  #65a3cb;\n",
       "            color:  #000000;\n",
       "        }#T_df032_row0_col11,#T_df032_row2_col7,#T_df032_row4_col1,#T_df032_row11_col8{\n",
       "            background-color:  #faf3f9;\n",
       "            color:  #000000;\n",
       "        }#T_df032_row0_col12{\n",
       "            background-color:  #1c7fb8;\n",
       "            color:  #000000;\n",
       "        }#T_df032_row0_col13{\n",
       "            background-color:  #dbdaeb;\n",
       "            color:  #000000;\n",
       "        }#T_df032_row1_col0,#T_df032_row2_col5,#T_df032_row9_col7,#T_df032_row13_col2{\n",
       "            background-color:  #eae6f1;\n",
       "            color:  #000000;\n",
       "        }#T_df032_row1_col2,#T_df032_row1_col6,#T_df032_row5_col10,#T_df032_row8_col3,#T_df032_row12_col1{\n",
       "            background-color:  #f0eaf4;\n",
       "            color:  #000000;\n",
       "        }#T_df032_row1_col3,#T_df032_row9_col3,#T_df032_row13_col8{\n",
       "            background-color:  #f4eef6;\n",
       "            color:  #000000;\n",
       "        }#T_df032_row1_col4,#T_df032_row1_col9{\n",
       "            background-color:  #e8e4f0;\n",
       "            color:  #000000;\n",
       "        }#T_df032_row1_col5{\n",
       "            background-color:  #509ac6;\n",
       "            color:  #000000;\n",
       "        }#T_df032_row1_col7{\n",
       "            background-color:  #0566a0;\n",
       "            color:  #f1f1f1;\n",
       "        }#T_df032_row1_col8,#T_df032_row6_col11{\n",
       "            background-color:  #ede8f3;\n",
       "            color:  #000000;\n",
       "        }#T_df032_row1_col10{\n",
       "            background-color:  #f3edf5;\n",
       "            color:  #000000;\n",
       "        }#T_df032_row1_col11{\n",
       "            background-color:  #8fb4d6;\n",
       "            color:  #000000;\n",
       "        }#T_df032_row1_col12,#T_df032_row5_col8{\n",
       "            background-color:  #dedcec;\n",
       "            color:  #000000;\n",
       "        }#T_df032_row1_col13{\n",
       "            background-color:  #348ebf;\n",
       "            color:  #000000;\n",
       "        }#T_df032_row2_col0,#T_df032_row10_col6,#T_df032_row13_col7{\n",
       "            background-color:  #4e9ac6;\n",
       "            color:  #000000;\n",
       "        }#T_df032_row2_col1{\n",
       "            background-color:  #fbf4f9;\n",
       "            color:  #000000;\n",
       "        }#T_df032_row2_col3{\n",
       "            background-color:  #e4e1ef;\n",
       "            color:  #000000;\n",
       "        }#T_df032_row2_col4{\n",
       "            background-color:  #045b8f;\n",
       "            color:  #f1f1f1;\n",
       "        }#T_df032_row2_col6{\n",
       "            background-color:  #0568a3;\n",
       "            color:  #f1f1f1;\n",
       "        }#T_df032_row2_col8,#T_df032_row8_col0{\n",
       "            background-color:  #0c74b2;\n",
       "            color:  #f1f1f1;\n",
       "        }#T_df032_row2_col9{\n",
       "            background-color:  #04649d;\n",
       "            color:  #f1f1f1;\n",
       "        }#T_df032_row2_col10{\n",
       "            background-color:  #4897c4;\n",
       "            color:  #000000;\n",
       "        }#T_df032_row2_col12,#T_df032_row6_col12,#T_df032_row12_col6{\n",
       "            background-color:  #056caa;\n",
       "            color:  #f1f1f1;\n",
       "        }#T_df032_row2_col13,#T_df032_row11_col3{\n",
       "            background-color:  #e7e3f0;\n",
       "            color:  #000000;\n",
       "        }#T_df032_row3_col1{\n",
       "            background-color:  #b3c3de;\n",
       "            color:  #000000;\n",
       "        }#T_df032_row3_col2{\n",
       "            background-color:  #88b1d4;\n",
       "            color:  #000000;\n",
       "        }#T_df032_row3_col4{\n",
       "            background-color:  #79abd0;\n",
       "            color:  #000000;\n",
       "        }#T_df032_row3_col5{\n",
       "            background-color:  #8eb3d5;\n",
       "            color:  #000000;\n",
       "        }#T_df032_row3_col6,#T_df032_row11_col1{\n",
       "            background-color:  #7dacd1;\n",
       "            color:  #000000;\n",
       "        }#T_df032_row3_col7{\n",
       "            background-color:  #a5bddb;\n",
       "            color:  #000000;\n",
       "        }#T_df032_row3_col8{\n",
       "            background-color:  #b8c6e0;\n",
       "            color:  #000000;\n",
       "        }#T_df032_row3_col9{\n",
       "            background-color:  #b9c6e0;\n",
       "            color:  #000000;\n",
       "        }#T_df032_row3_col10{\n",
       "            background-color:  #cdd0e5;\n",
       "            color:  #000000;\n",
       "        }#T_df032_row3_col11{\n",
       "            background-color:  #b1c2de;\n",
       "            color:  #000000;\n",
       "        }#T_df032_row3_col12,#T_df032_row5_col11{\n",
       "            background-color:  #9ebad9;\n",
       "            color:  #000000;\n",
       "        }#T_df032_row4_col0,#T_df032_row12_col10{\n",
       "            background-color:  #4a98c5;\n",
       "            color:  #000000;\n",
       "        }#T_df032_row4_col2{\n",
       "            background-color:  #045c90;\n",
       "            color:  #f1f1f1;\n",
       "        }#T_df032_row4_col3,#T_df032_row5_col2,#T_df032_row5_col3,#T_df032_row6_col3,#T_df032_row7_col10{\n",
       "            background-color:  #dfddec;\n",
       "            color:  #000000;\n",
       "        }#T_df032_row4_col5,#T_df032_row13_col4{\n",
       "            background-color:  #dddbec;\n",
       "            color:  #000000;\n",
       "        }#T_df032_row4_col6,#T_df032_row6_col4{\n",
       "            background-color:  #045f95;\n",
       "            color:  #f1f1f1;\n",
       "        }#T_df032_row4_col7,#T_df032_row6_col1,#T_df032_row7_col2,#T_df032_row7_col4,#T_df032_row7_col6,#T_df032_row7_col8,#T_df032_row7_col9,#T_df032_row8_col11,#T_df032_row9_col11,#T_df032_row10_col3,#T_df032_row11_col0,#T_df032_row12_col5,#T_df032_row12_col13,#T_df032_row13_col0,#T_df032_row13_col10,#T_df032_row13_col12{\n",
       "            background-color:  #fff7fb;\n",
       "            color:  #000000;\n",
       "        }#T_df032_row4_col8,#T_df032_row9_col12{\n",
       "            background-color:  #0a73b2;\n",
       "            color:  #f1f1f1;\n",
       "        }#T_df032_row4_col9,#T_df032_row7_col1{\n",
       "            background-color:  #056aa6;\n",
       "            color:  #f1f1f1;\n",
       "        }#T_df032_row4_col10{\n",
       "            background-color:  #83afd3;\n",
       "            color:  #000000;\n",
       "        }#T_df032_row4_col11,#T_df032_row13_col9{\n",
       "            background-color:  #f9f2f8;\n",
       "            color:  #000000;\n",
       "        }#T_df032_row4_col12{\n",
       "            background-color:  #056dac;\n",
       "            color:  #f1f1f1;\n",
       "        }#T_df032_row4_col13{\n",
       "            background-color:  #e0deed;\n",
       "            color:  #000000;\n",
       "        }#T_df032_row5_col0{\n",
       "            background-color:  #ede7f2;\n",
       "            color:  #000000;\n",
       "        }#T_df032_row5_col1{\n",
       "            background-color:  #569dc8;\n",
       "            color:  #000000;\n",
       "        }#T_df032_row5_col4{\n",
       "            background-color:  #cccfe5;\n",
       "            color:  #000000;\n",
       "        }#T_df032_row5_col6{\n",
       "            background-color:  #c2cbe2;\n",
       "            color:  #000000;\n",
       "        }#T_df032_row5_col7{\n",
       "            background-color:  #5a9ec9;\n",
       "            color:  #000000;\n",
       "        }#T_df032_row5_col9,#T_df032_row8_col7{\n",
       "            background-color:  #e5e1ef;\n",
       "            color:  #000000;\n",
       "        }#T_df032_row5_col12{\n",
       "            background-color:  #f4edf6;\n",
       "            color:  #000000;\n",
       "        }#T_df032_row5_col13{\n",
       "            background-color:  #04629a;\n",
       "            color:  #f1f1f1;\n",
       "        }#T_df032_row6_col0,#T_df032_row13_col11{\n",
       "            background-color:  #63a2cb;\n",
       "            color:  #000000;\n",
       "        }#T_df032_row6_col2{\n",
       "            background-color:  #0569a4;\n",
       "            color:  #f1f1f1;\n",
       "        }#T_df032_row6_col5{\n",
       "            background-color:  #d5d5e8;\n",
       "            color:  #000000;\n",
       "        }#T_df032_row6_col7{\n",
       "            background-color:  #fef6fa;\n",
       "            color:  #000000;\n",
       "        }#T_df032_row6_col8,#T_df032_row10_col2,#T_df032_row10_col8,#T_df032_row10_col12{\n",
       "            background-color:  #308cbe;\n",
       "            color:  #000000;\n",
       "        }#T_df032_row6_col9{\n",
       "            background-color:  #2081b9;\n",
       "            color:  #000000;\n",
       "        }#T_df032_row6_col10,#T_df032_row7_col5{\n",
       "            background-color:  #6fa7ce;\n",
       "            color:  #000000;\n",
       "        }#T_df032_row6_col13,#T_df032_row8_col13,#T_df032_row11_col2{\n",
       "            background-color:  #dad9ea;\n",
       "            color:  #000000;\n",
       "        }#T_df032_row7_col0{\n",
       "            background-color:  #fef6fb;\n",
       "            color:  #000000;\n",
       "        }#T_df032_row7_col3{\n",
       "            background-color:  #fdf5fa;\n",
       "            color:  #000000;\n",
       "        }#T_df032_row7_col11{\n",
       "            background-color:  #71a8ce;\n",
       "            color:  #000000;\n",
       "        }#T_df032_row7_col12{\n",
       "            background-color:  #e9e5f1;\n",
       "            color:  #000000;\n",
       "        }#T_df032_row7_col13{\n",
       "            background-color:  #529bc7;\n",
       "            color:  #000000;\n",
       "        }#T_df032_row8_col1,#T_df032_row9_col1{\n",
       "            background-color:  #e3e0ee;\n",
       "            color:  #000000;\n",
       "        }#T_df032_row8_col2,#T_df032_row12_col2,#T_df032_row12_col4{\n",
       "            background-color:  #056dab;\n",
       "            color:  #f1f1f1;\n",
       "        }#T_df032_row8_col4{\n",
       "            background-color:  #056ba7;\n",
       "            color:  #f1f1f1;\n",
       "        }#T_df032_row8_col5{\n",
       "            background-color:  #d1d2e6;\n",
       "            color:  #000000;\n",
       "        }#T_df032_row8_col6{\n",
       "            background-color:  #1b7eb7;\n",
       "            color:  #000000;\n",
       "        }#T_df032_row8_col9,#T_df032_row9_col8{\n",
       "            background-color:  #034871;\n",
       "            color:  #f1f1f1;\n",
       "        }#T_df032_row8_col10,#T_df032_row9_col10{\n",
       "            background-color:  #2f8bbe;\n",
       "            color:  #000000;\n",
       "        }#T_df032_row8_col12{\n",
       "            background-color:  #167bb6;\n",
       "            color:  #000000;\n",
       "        }#T_df032_row9_col0{\n",
       "            background-color:  #197db7;\n",
       "            color:  #000000;\n",
       "        }#T_df032_row9_col2{\n",
       "            background-color:  #046097;\n",
       "            color:  #f1f1f1;\n",
       "        }#T_df032_row9_col4,#T_df032_row13_col5{\n",
       "            background-color:  #04649e;\n",
       "            color:  #f1f1f1;\n",
       "        }#T_df032_row9_col5{\n",
       "            background-color:  #dcdaeb;\n",
       "            color:  #000000;\n",
       "        }#T_df032_row9_col6{\n",
       "            background-color:  #1077b4;\n",
       "            color:  #f1f1f1;\n",
       "        }#T_df032_row9_col13,#T_df032_row10_col5,#T_df032_row12_col7{\n",
       "            background-color:  #e6e2ef;\n",
       "            color:  #000000;\n",
       "        }#T_df032_row10_col0{\n",
       "            background-color:  #78abd0;\n",
       "            color:  #000000;\n",
       "        }#T_df032_row10_col1{\n",
       "            background-color:  #eee8f3;\n",
       "            color:  #000000;\n",
       "        }#T_df032_row10_col4{\n",
       "            background-color:  #60a1ca;\n",
       "            color:  #000000;\n",
       "        }#T_df032_row10_col7{\n",
       "            background-color:  #bdc8e1;\n",
       "            color:  #000000;\n",
       "        }#T_df032_row10_col9{\n",
       "            background-color:  #2d8abd;\n",
       "            color:  #000000;\n",
       "        }#T_df032_row10_col11{\n",
       "            background-color:  #e0dded;\n",
       "            color:  #000000;\n",
       "        }#T_df032_row10_col13{\n",
       "            background-color:  #ebe6f2;\n",
       "            color:  #000000;\n",
       "        }#T_df032_row11_col5{\n",
       "            background-color:  #84b0d3;\n",
       "            color:  #000000;\n",
       "        }#T_df032_row11_col6{\n",
       "            background-color:  #c8cde4;\n",
       "            color:  #000000;\n",
       "        }#T_df032_row11_col7{\n",
       "            background-color:  #4295c3;\n",
       "            color:  #000000;\n",
       "        }#T_df032_row11_col9,#T_df032_row12_col3{\n",
       "            background-color:  #f6eff7;\n",
       "            color:  #000000;\n",
       "        }#T_df032_row11_col10{\n",
       "            background-color:  #d8d7e9;\n",
       "            color:  #000000;\n",
       "        }#T_df032_row11_col12,#T_df032_row13_col6{\n",
       "            background-color:  #d9d8ea;\n",
       "            color:  #000000;\n",
       "        }#T_df032_row11_col13{\n",
       "            background-color:  #3b92c1;\n",
       "            color:  #000000;\n",
       "        }#T_df032_row12_col0{\n",
       "            background-color:  #3d93c2;\n",
       "            color:  #000000;\n",
       "        }#T_df032_row12_col8{\n",
       "            background-color:  #2987bc;\n",
       "            color:  #000000;\n",
       "        }#T_df032_row12_col9{\n",
       "            background-color:  #187cb6;\n",
       "            color:  #000000;\n",
       "        }#T_df032_row12_col11{\n",
       "            background-color:  #f8f1f8;\n",
       "            color:  #000000;\n",
       "        }#T_df032_row13_col1{\n",
       "            background-color:  #4697c4;\n",
       "            color:  #000000;\n",
       "        }#T_df032_row13_col3{\n",
       "            background-color:  #cacee5;\n",
       "            color:  #000000;\n",
       "        }</style><table id=\"T_df032_\" ><thead>    <tr>        <th class=\"blank level0\" ></th>        <th class=\"col_heading level0 col0\" >CRIM</th>        <th class=\"col_heading level0 col1\" >ZN</th>        <th class=\"col_heading level0 col2\" >INDUS</th>        <th class=\"col_heading level0 col3\" >CHAS</th>        <th class=\"col_heading level0 col4\" >NOX</th>        <th class=\"col_heading level0 col5\" >RM</th>        <th class=\"col_heading level0 col6\" >AGE</th>        <th class=\"col_heading level0 col7\" >DIS</th>        <th class=\"col_heading level0 col8\" >RAD</th>        <th class=\"col_heading level0 col9\" >TAX</th>        <th class=\"col_heading level0 col10\" >PTRATIO</th>        <th class=\"col_heading level0 col11\" >B</th>        <th class=\"col_heading level0 col12\" >LSTAT</th>        <th class=\"col_heading level0 col13\" >MEDV</th>    </tr></thead><tbody>\n",
       "                <tr>\n",
       "                        <th id=\"T_df032_level0_row0\" class=\"row_heading level0 row0\" >CRIM</th>\n",
       "                        <td id=\"T_df032_row0_col0\" class=\"data row0 col0\" >1.000000</td>\n",
       "                        <td id=\"T_df032_row0_col1\" class=\"data row0 col1\" >-0.200000</td>\n",
       "                        <td id=\"T_df032_row0_col2\" class=\"data row0 col2\" >0.410000</td>\n",
       "                        <td id=\"T_df032_row0_col3\" class=\"data row0 col3\" >-0.060000</td>\n",
       "                        <td id=\"T_df032_row0_col4\" class=\"data row0 col4\" >0.420000</td>\n",
       "                        <td id=\"T_df032_row0_col5\" class=\"data row0 col5\" >-0.220000</td>\n",
       "                        <td id=\"T_df032_row0_col6\" class=\"data row0 col6\" >0.350000</td>\n",
       "                        <td id=\"T_df032_row0_col7\" class=\"data row0 col7\" >-0.380000</td>\n",
       "                        <td id=\"T_df032_row0_col8\" class=\"data row0 col8\" >0.630000</td>\n",
       "                        <td id=\"T_df032_row0_col9\" class=\"data row0 col9\" >0.580000</td>\n",
       "                        <td id=\"T_df032_row0_col10\" class=\"data row0 col10\" >0.290000</td>\n",
       "                        <td id=\"T_df032_row0_col11\" class=\"data row0 col11\" >-0.390000</td>\n",
       "                        <td id=\"T_df032_row0_col12\" class=\"data row0 col12\" >0.460000</td>\n",
       "                        <td id=\"T_df032_row0_col13\" class=\"data row0 col13\" >-0.390000</td>\n",
       "            </tr>\n",
       "            <tr>\n",
       "                        <th id=\"T_df032_level0_row1\" class=\"row_heading level0 row1\" >ZN</th>\n",
       "                        <td id=\"T_df032_row1_col0\" class=\"data row1 col0\" >-0.200000</td>\n",
       "                        <td id=\"T_df032_row1_col1\" class=\"data row1 col1\" >1.000000</td>\n",
       "                        <td id=\"T_df032_row1_col2\" class=\"data row1 col2\" >-0.530000</td>\n",
       "                        <td id=\"T_df032_row1_col3\" class=\"data row1 col3\" >-0.040000</td>\n",
       "                        <td id=\"T_df032_row1_col4\" class=\"data row1 col4\" >-0.520000</td>\n",
       "                        <td id=\"T_df032_row1_col5\" class=\"data row1 col5\" >0.310000</td>\n",
       "                        <td id=\"T_df032_row1_col6\" class=\"data row1 col6\" >-0.570000</td>\n",
       "                        <td id=\"T_df032_row1_col7\" class=\"data row1 col7\" >0.660000</td>\n",
       "                        <td id=\"T_df032_row1_col8\" class=\"data row1 col8\" >-0.310000</td>\n",
       "                        <td id=\"T_df032_row1_col9\" class=\"data row1 col9\" >-0.310000</td>\n",
       "                        <td id=\"T_df032_row1_col10\" class=\"data row1 col10\" >-0.390000</td>\n",
       "                        <td id=\"T_df032_row1_col11\" class=\"data row1 col11\" >0.180000</td>\n",
       "                        <td id=\"T_df032_row1_col12\" class=\"data row1 col12\" >-0.410000</td>\n",
       "                        <td id=\"T_df032_row1_col13\" class=\"data row1 col13\" >0.360000</td>\n",
       "            </tr>\n",
       "            <tr>\n",
       "                        <th id=\"T_df032_level0_row2\" class=\"row_heading level0 row2\" >INDUS</th>\n",
       "                        <td id=\"T_df032_row2_col0\" class=\"data row2 col0\" >0.410000</td>\n",
       "                        <td id=\"T_df032_row2_col1\" class=\"data row2 col1\" >-0.530000</td>\n",
       "                        <td id=\"T_df032_row2_col2\" class=\"data row2 col2\" >1.000000</td>\n",
       "                        <td id=\"T_df032_row2_col3\" class=\"data row2 col3\" >0.060000</td>\n",
       "                        <td id=\"T_df032_row2_col4\" class=\"data row2 col4\" >0.760000</td>\n",
       "                        <td id=\"T_df032_row2_col5\" class=\"data row2 col5\" >-0.390000</td>\n",
       "                        <td id=\"T_df032_row2_col6\" class=\"data row2 col6\" >0.640000</td>\n",
       "                        <td id=\"T_df032_row2_col7\" class=\"data row2 col7\" >-0.710000</td>\n",
       "                        <td id=\"T_df032_row2_col8\" class=\"data row2 col8\" >0.600000</td>\n",
       "                        <td id=\"T_df032_row2_col9\" class=\"data row2 col9\" >0.720000</td>\n",
       "                        <td id=\"T_df032_row2_col10\" class=\"data row2 col10\" >0.380000</td>\n",
       "                        <td id=\"T_df032_row2_col11\" class=\"data row2 col11\" >-0.360000</td>\n",
       "                        <td id=\"T_df032_row2_col12\" class=\"data row2 col12\" >0.600000</td>\n",
       "                        <td id=\"T_df032_row2_col13\" class=\"data row2 col13\" >-0.480000</td>\n",
       "            </tr>\n",
       "            <tr>\n",
       "                        <th id=\"T_df032_level0_row3\" class=\"row_heading level0 row3\" >CHAS</th>\n",
       "                        <td id=\"T_df032_row3_col0\" class=\"data row3 col0\" >-0.060000</td>\n",
       "                        <td id=\"T_df032_row3_col1\" class=\"data row3 col1\" >-0.040000</td>\n",
       "                        <td id=\"T_df032_row3_col2\" class=\"data row3 col2\" >0.060000</td>\n",
       "                        <td id=\"T_df032_row3_col3\" class=\"data row3 col3\" >1.000000</td>\n",
       "                        <td id=\"T_df032_row3_col4\" class=\"data row3 col4\" >0.090000</td>\n",
       "                        <td id=\"T_df032_row3_col5\" class=\"data row3 col5\" >0.090000</td>\n",
       "                        <td id=\"T_df032_row3_col6\" class=\"data row3 col6\" >0.090000</td>\n",
       "                        <td id=\"T_df032_row3_col7\" class=\"data row3 col7\" >-0.100000</td>\n",
       "                        <td id=\"T_df032_row3_col8\" class=\"data row3 col8\" >-0.010000</td>\n",
       "                        <td id=\"T_df032_row3_col9\" class=\"data row3 col9\" >-0.040000</td>\n",
       "                        <td id=\"T_df032_row3_col10\" class=\"data row3 col10\" >-0.120000</td>\n",
       "                        <td id=\"T_df032_row3_col11\" class=\"data row3 col11\" >0.050000</td>\n",
       "                        <td id=\"T_df032_row3_col12\" class=\"data row3 col12\" >-0.050000</td>\n",
       "                        <td id=\"T_df032_row3_col13\" class=\"data row3 col13\" >0.180000</td>\n",
       "            </tr>\n",
       "            <tr>\n",
       "                        <th id=\"T_df032_level0_row4\" class=\"row_heading level0 row4\" >NOX</th>\n",
       "                        <td id=\"T_df032_row4_col0\" class=\"data row4 col0\" >0.420000</td>\n",
       "                        <td id=\"T_df032_row4_col1\" class=\"data row4 col1\" >-0.520000</td>\n",
       "                        <td id=\"T_df032_row4_col2\" class=\"data row4 col2\" >0.760000</td>\n",
       "                        <td id=\"T_df032_row4_col3\" class=\"data row4 col3\" >0.090000</td>\n",
       "                        <td id=\"T_df032_row4_col4\" class=\"data row4 col4\" >1.000000</td>\n",
       "                        <td id=\"T_df032_row4_col5\" class=\"data row4 col5\" >-0.300000</td>\n",
       "                        <td id=\"T_df032_row4_col6\" class=\"data row4 col6\" >0.730000</td>\n",
       "                        <td id=\"T_df032_row4_col7\" class=\"data row4 col7\" >-0.770000</td>\n",
       "                        <td id=\"T_df032_row4_col8\" class=\"data row4 col8\" >0.610000</td>\n",
       "                        <td id=\"T_df032_row4_col9\" class=\"data row4 col9\" >0.670000</td>\n",
       "                        <td id=\"T_df032_row4_col10\" class=\"data row4 col10\" >0.190000</td>\n",
       "                        <td id=\"T_df032_row4_col11\" class=\"data row4 col11\" >-0.380000</td>\n",
       "                        <td id=\"T_df032_row4_col12\" class=\"data row4 col12\" >0.590000</td>\n",
       "                        <td id=\"T_df032_row4_col13\" class=\"data row4 col13\" >-0.430000</td>\n",
       "            </tr>\n",
       "            <tr>\n",
       "                        <th id=\"T_df032_level0_row5\" class=\"row_heading level0 row5\" >RM</th>\n",
       "                        <td id=\"T_df032_row5_col0\" class=\"data row5 col0\" >-0.220000</td>\n",
       "                        <td id=\"T_df032_row5_col1\" class=\"data row5 col1\" >0.310000</td>\n",
       "                        <td id=\"T_df032_row5_col2\" class=\"data row5 col2\" >-0.390000</td>\n",
       "                        <td id=\"T_df032_row5_col3\" class=\"data row5 col3\" >0.090000</td>\n",
       "                        <td id=\"T_df032_row5_col4\" class=\"data row5 col4\" >-0.300000</td>\n",
       "                        <td id=\"T_df032_row5_col5\" class=\"data row5 col5\" >1.000000</td>\n",
       "                        <td id=\"T_df032_row5_col6\" class=\"data row5 col6\" >-0.240000</td>\n",
       "                        <td id=\"T_df032_row5_col7\" class=\"data row5 col7\" >0.210000</td>\n",
       "                        <td id=\"T_df032_row5_col8\" class=\"data row5 col8\" >-0.210000</td>\n",
       "                        <td id=\"T_df032_row5_col9\" class=\"data row5 col9\" >-0.290000</td>\n",
       "                        <td id=\"T_df032_row5_col10\" class=\"data row5 col10\" >-0.360000</td>\n",
       "                        <td id=\"T_df032_row5_col11\" class=\"data row5 col11\" >0.130000</td>\n",
       "                        <td id=\"T_df032_row5_col12\" class=\"data row5 col12\" >-0.610000</td>\n",
       "                        <td id=\"T_df032_row5_col13\" class=\"data row5 col13\" >0.700000</td>\n",
       "            </tr>\n",
       "            <tr>\n",
       "                        <th id=\"T_df032_level0_row6\" class=\"row_heading level0 row6\" >AGE</th>\n",
       "                        <td id=\"T_df032_row6_col0\" class=\"data row6 col0\" >0.350000</td>\n",
       "                        <td id=\"T_df032_row6_col1\" class=\"data row6 col1\" >-0.570000</td>\n",
       "                        <td id=\"T_df032_row6_col2\" class=\"data row6 col2\" >0.640000</td>\n",
       "                        <td id=\"T_df032_row6_col3\" class=\"data row6 col3\" >0.090000</td>\n",
       "                        <td id=\"T_df032_row6_col4\" class=\"data row6 col4\" >0.730000</td>\n",
       "                        <td id=\"T_df032_row6_col5\" class=\"data row6 col5\" >-0.240000</td>\n",
       "                        <td id=\"T_df032_row6_col6\" class=\"data row6 col6\" >1.000000</td>\n",
       "                        <td id=\"T_df032_row6_col7\" class=\"data row6 col7\" >-0.750000</td>\n",
       "                        <td id=\"T_df032_row6_col8\" class=\"data row6 col8\" >0.460000</td>\n",
       "                        <td id=\"T_df032_row6_col9\" class=\"data row6 col9\" >0.510000</td>\n",
       "                        <td id=\"T_df032_row6_col10\" class=\"data row6 col10\" >0.260000</td>\n",
       "                        <td id=\"T_df032_row6_col11\" class=\"data row6 col11\" >-0.270000</td>\n",
       "                        <td id=\"T_df032_row6_col12\" class=\"data row6 col12\" >0.600000</td>\n",
       "                        <td id=\"T_df032_row6_col13\" class=\"data row6 col13\" >-0.380000</td>\n",
       "            </tr>\n",
       "            <tr>\n",
       "                        <th id=\"T_df032_level0_row7\" class=\"row_heading level0 row7\" >DIS</th>\n",
       "                        <td id=\"T_df032_row7_col0\" class=\"data row7 col0\" >-0.380000</td>\n",
       "                        <td id=\"T_df032_row7_col1\" class=\"data row7 col1\" >0.660000</td>\n",
       "                        <td id=\"T_df032_row7_col2\" class=\"data row7 col2\" >-0.710000</td>\n",
       "                        <td id=\"T_df032_row7_col3\" class=\"data row7 col3\" >-0.100000</td>\n",
       "                        <td id=\"T_df032_row7_col4\" class=\"data row7 col4\" >-0.770000</td>\n",
       "                        <td id=\"T_df032_row7_col5\" class=\"data row7 col5\" >0.210000</td>\n",
       "                        <td id=\"T_df032_row7_col6\" class=\"data row7 col6\" >-0.750000</td>\n",
       "                        <td id=\"T_df032_row7_col7\" class=\"data row7 col7\" >1.000000</td>\n",
       "                        <td id=\"T_df032_row7_col8\" class=\"data row7 col8\" >-0.490000</td>\n",
       "                        <td id=\"T_df032_row7_col9\" class=\"data row7 col9\" >-0.530000</td>\n",
       "                        <td id=\"T_df032_row7_col10\" class=\"data row7 col10\" >-0.230000</td>\n",
       "                        <td id=\"T_df032_row7_col11\" class=\"data row7 col11\" >0.290000</td>\n",
       "                        <td id=\"T_df032_row7_col12\" class=\"data row7 col12\" >-0.500000</td>\n",
       "                        <td id=\"T_df032_row7_col13\" class=\"data row7 col13\" >0.250000</td>\n",
       "            </tr>\n",
       "            <tr>\n",
       "                        <th id=\"T_df032_level0_row8\" class=\"row_heading level0 row8\" >RAD</th>\n",
       "                        <td id=\"T_df032_row8_col0\" class=\"data row8 col0\" >0.630000</td>\n",
       "                        <td id=\"T_df032_row8_col1\" class=\"data row8 col1\" >-0.310000</td>\n",
       "                        <td id=\"T_df032_row8_col2\" class=\"data row8 col2\" >0.600000</td>\n",
       "                        <td id=\"T_df032_row8_col3\" class=\"data row8 col3\" >-0.010000</td>\n",
       "                        <td id=\"T_df032_row8_col4\" class=\"data row8 col4\" >0.610000</td>\n",
       "                        <td id=\"T_df032_row8_col5\" class=\"data row8 col5\" >-0.210000</td>\n",
       "                        <td id=\"T_df032_row8_col6\" class=\"data row8 col6\" >0.460000</td>\n",
       "                        <td id=\"T_df032_row8_col7\" class=\"data row8 col7\" >-0.490000</td>\n",
       "                        <td id=\"T_df032_row8_col8\" class=\"data row8 col8\" >1.000000</td>\n",
       "                        <td id=\"T_df032_row8_col9\" class=\"data row8 col9\" >0.910000</td>\n",
       "                        <td id=\"T_df032_row8_col10\" class=\"data row8 col10\" >0.460000</td>\n",
       "                        <td id=\"T_df032_row8_col11\" class=\"data row8 col11\" >-0.440000</td>\n",
       "                        <td id=\"T_df032_row8_col12\" class=\"data row8 col12\" >0.490000</td>\n",
       "                        <td id=\"T_df032_row8_col13\" class=\"data row8 col13\" >-0.380000</td>\n",
       "            </tr>\n",
       "            <tr>\n",
       "                        <th id=\"T_df032_level0_row9\" class=\"row_heading level0 row9\" >TAX</th>\n",
       "                        <td id=\"T_df032_row9_col0\" class=\"data row9 col0\" >0.580000</td>\n",
       "                        <td id=\"T_df032_row9_col1\" class=\"data row9 col1\" >-0.310000</td>\n",
       "                        <td id=\"T_df032_row9_col2\" class=\"data row9 col2\" >0.720000</td>\n",
       "                        <td id=\"T_df032_row9_col3\" class=\"data row9 col3\" >-0.040000</td>\n",
       "                        <td id=\"T_df032_row9_col4\" class=\"data row9 col4\" >0.670000</td>\n",
       "                        <td id=\"T_df032_row9_col5\" class=\"data row9 col5\" >-0.290000</td>\n",
       "                        <td id=\"T_df032_row9_col6\" class=\"data row9 col6\" >0.510000</td>\n",
       "                        <td id=\"T_df032_row9_col7\" class=\"data row9 col7\" >-0.530000</td>\n",
       "                        <td id=\"T_df032_row9_col8\" class=\"data row9 col8\" >0.910000</td>\n",
       "                        <td id=\"T_df032_row9_col9\" class=\"data row9 col9\" >1.000000</td>\n",
       "                        <td id=\"T_df032_row9_col10\" class=\"data row9 col10\" >0.460000</td>\n",
       "                        <td id=\"T_df032_row9_col11\" class=\"data row9 col11\" >-0.440000</td>\n",
       "                        <td id=\"T_df032_row9_col12\" class=\"data row9 col12\" >0.540000</td>\n",
       "                        <td id=\"T_df032_row9_col13\" class=\"data row9 col13\" >-0.470000</td>\n",
       "            </tr>\n",
       "            <tr>\n",
       "                        <th id=\"T_df032_level0_row10\" class=\"row_heading level0 row10\" >PTRATIO</th>\n",
       "                        <td id=\"T_df032_row10_col0\" class=\"data row10 col0\" >0.290000</td>\n",
       "                        <td id=\"T_df032_row10_col1\" class=\"data row10 col1\" >-0.390000</td>\n",
       "                        <td id=\"T_df032_row10_col2\" class=\"data row10 col2\" >0.380000</td>\n",
       "                        <td id=\"T_df032_row10_col3\" class=\"data row10 col3\" >-0.120000</td>\n",
       "                        <td id=\"T_df032_row10_col4\" class=\"data row10 col4\" >0.190000</td>\n",
       "                        <td id=\"T_df032_row10_col5\" class=\"data row10 col5\" >-0.360000</td>\n",
       "                        <td id=\"T_df032_row10_col6\" class=\"data row10 col6\" >0.260000</td>\n",
       "                        <td id=\"T_df032_row10_col7\" class=\"data row10 col7\" >-0.230000</td>\n",
       "                        <td id=\"T_df032_row10_col8\" class=\"data row10 col8\" >0.460000</td>\n",
       "                        <td id=\"T_df032_row10_col9\" class=\"data row10 col9\" >0.460000</td>\n",
       "                        <td id=\"T_df032_row10_col10\" class=\"data row10 col10\" >1.000000</td>\n",
       "                        <td id=\"T_df032_row10_col11\" class=\"data row10 col11\" >-0.180000</td>\n",
       "                        <td id=\"T_df032_row10_col12\" class=\"data row10 col12\" >0.370000</td>\n",
       "                        <td id=\"T_df032_row10_col13\" class=\"data row10 col13\" >-0.510000</td>\n",
       "            </tr>\n",
       "            <tr>\n",
       "                        <th id=\"T_df032_level0_row11\" class=\"row_heading level0 row11\" >B</th>\n",
       "                        <td id=\"T_df032_row11_col0\" class=\"data row11 col0\" >-0.390000</td>\n",
       "                        <td id=\"T_df032_row11_col1\" class=\"data row11 col1\" >0.180000</td>\n",
       "                        <td id=\"T_df032_row11_col2\" class=\"data row11 col2\" >-0.360000</td>\n",
       "                        <td id=\"T_df032_row11_col3\" class=\"data row11 col3\" >0.050000</td>\n",
       "                        <td id=\"T_df032_row11_col4\" class=\"data row11 col4\" >-0.380000</td>\n",
       "                        <td id=\"T_df032_row11_col5\" class=\"data row11 col5\" >0.130000</td>\n",
       "                        <td id=\"T_df032_row11_col6\" class=\"data row11 col6\" >-0.270000</td>\n",
       "                        <td id=\"T_df032_row11_col7\" class=\"data row11 col7\" >0.290000</td>\n",
       "                        <td id=\"T_df032_row11_col8\" class=\"data row11 col8\" >-0.440000</td>\n",
       "                        <td id=\"T_df032_row11_col9\" class=\"data row11 col9\" >-0.440000</td>\n",
       "                        <td id=\"T_df032_row11_col10\" class=\"data row11 col10\" >-0.180000</td>\n",
       "                        <td id=\"T_df032_row11_col11\" class=\"data row11 col11\" >1.000000</td>\n",
       "                        <td id=\"T_df032_row11_col12\" class=\"data row11 col12\" >-0.370000</td>\n",
       "                        <td id=\"T_df032_row11_col13\" class=\"data row11 col13\" >0.330000</td>\n",
       "            </tr>\n",
       "            <tr>\n",
       "                        <th id=\"T_df032_level0_row12\" class=\"row_heading level0 row12\" >LSTAT</th>\n",
       "                        <td id=\"T_df032_row12_col0\" class=\"data row12 col0\" >0.460000</td>\n",
       "                        <td id=\"T_df032_row12_col1\" class=\"data row12 col1\" >-0.410000</td>\n",
       "                        <td id=\"T_df032_row12_col2\" class=\"data row12 col2\" >0.600000</td>\n",
       "                        <td id=\"T_df032_row12_col3\" class=\"data row12 col3\" >-0.050000</td>\n",
       "                        <td id=\"T_df032_row12_col4\" class=\"data row12 col4\" >0.590000</td>\n",
       "                        <td id=\"T_df032_row12_col5\" class=\"data row12 col5\" >-0.610000</td>\n",
       "                        <td id=\"T_df032_row12_col6\" class=\"data row12 col6\" >0.600000</td>\n",
       "                        <td id=\"T_df032_row12_col7\" class=\"data row12 col7\" >-0.500000</td>\n",
       "                        <td id=\"T_df032_row12_col8\" class=\"data row12 col8\" >0.490000</td>\n",
       "                        <td id=\"T_df032_row12_col9\" class=\"data row12 col9\" >0.540000</td>\n",
       "                        <td id=\"T_df032_row12_col10\" class=\"data row12 col10\" >0.370000</td>\n",
       "                        <td id=\"T_df032_row12_col11\" class=\"data row12 col11\" >-0.370000</td>\n",
       "                        <td id=\"T_df032_row12_col12\" class=\"data row12 col12\" >1.000000</td>\n",
       "                        <td id=\"T_df032_row12_col13\" class=\"data row12 col13\" >-0.740000</td>\n",
       "            </tr>\n",
       "            <tr>\n",
       "                        <th id=\"T_df032_level0_row13\" class=\"row_heading level0 row13\" >MEDV</th>\n",
       "                        <td id=\"T_df032_row13_col0\" class=\"data row13 col0\" >-0.390000</td>\n",
       "                        <td id=\"T_df032_row13_col1\" class=\"data row13 col1\" >0.360000</td>\n",
       "                        <td id=\"T_df032_row13_col2\" class=\"data row13 col2\" >-0.480000</td>\n",
       "                        <td id=\"T_df032_row13_col3\" class=\"data row13 col3\" >0.180000</td>\n",
       "                        <td id=\"T_df032_row13_col4\" class=\"data row13 col4\" >-0.430000</td>\n",
       "                        <td id=\"T_df032_row13_col5\" class=\"data row13 col5\" >0.700000</td>\n",
       "                        <td id=\"T_df032_row13_col6\" class=\"data row13 col6\" >-0.380000</td>\n",
       "                        <td id=\"T_df032_row13_col7\" class=\"data row13 col7\" >0.250000</td>\n",
       "                        <td id=\"T_df032_row13_col8\" class=\"data row13 col8\" >-0.380000</td>\n",
       "                        <td id=\"T_df032_row13_col9\" class=\"data row13 col9\" >-0.470000</td>\n",
       "                        <td id=\"T_df032_row13_col10\" class=\"data row13 col10\" >-0.510000</td>\n",
       "                        <td id=\"T_df032_row13_col11\" class=\"data row13 col11\" >0.330000</td>\n",
       "                        <td id=\"T_df032_row13_col12\" class=\"data row13 col12\" >-0.740000</td>\n",
       "                        <td id=\"T_df032_row13_col13\" class=\"data row13 col13\" >1.000000</td>\n",
       "            </tr>\n",
       "    </tbody></table>"
      ],
      "text/plain": [
       "<pandas.io.formats.style.Styler at 0x1c8dc63cc40>"
      ]
     },
     "execution_count": 12,
     "metadata": {},
     "output_type": "execute_result"
    }
   ],
   "source": [
    "# MEJORANDO EL GRAFICO DE CORRELACION\n",
    "\n",
    "corr_matrix_2=round(df.corr(),2)\n",
    "corr_matrix_2.style.background_gradient()"
   ]
  },
  {
   "cell_type": "code",
   "execution_count": 13,
   "metadata": {},
   "outputs": [
    {
     "data": {
      "text/plain": [
       "<AxesSubplot:xlabel='RM', ylabel='MEDV'>"
      ]
     },
     "execution_count": 13,
     "metadata": {},
     "output_type": "execute_result"
    },
    {
     "data": {
      "image/png": "[encoded data removed]",
      "text/plain": [
       "<Figure size 648x432 with 1 Axes>"
      ]
     },
     "metadata": {
      "needs_background": "light"
     },
     "output_type": "display_data"
    }
   ],
   "source": [
    "# DATA PREPARATION - FEATURE SELECTION\n",
    "#Scatter plot is a useful tool to display the relationship between two features\n",
    "df.plot(kind='scatter',\n",
    "    x = 'RM',\n",
    "    y = 'MEDV',\n",
    "    figsize=(9,6)\n",
    ")"
   ]
  },
  {
   "cell_type": "code",
   "execution_count": 14,
   "metadata": {},
   "outputs": [
    {
     "data": {
      "text/plain": [
       "count    506.000000\n",
       "mean      11.363636\n",
       "std       23.322453\n",
       "min        0.000000\n",
       "25%        0.000000\n",
       "50%        0.000000\n",
       "75%       12.500000\n",
       "max      100.000000\n",
       "Name: ZN, dtype: float64"
      ]
     },
     "execution_count": 14,
     "metadata": {},
     "output_type": "execute_result"
    }
   ],
   "source": [
    "df.ZN.describe()"
   ]
  },
  {
   "cell_type": "code",
   "execution_count": 15,
   "metadata": {},
   "outputs": [
    {
     "data": {
      "text/plain": [
       "<AxesSubplot:xlabel='ZN', ylabel='MEDV'>"
      ]
     },
     "execution_count": 15,
     "metadata": {},
     "output_type": "execute_result"
    },
    {
     "data": {
      "image/png": "[encoded data removed]",
      "text/plain": [
       "<Figure size 576x432 with 1 Axes>"
      ]
     },
     "metadata": {
      "needs_background": "light"
     },
     "output_type": "display_data"
    }
   ],
   "source": [
    "df.plot(kind='scatter', \n",
    "    x='ZN',\n",
    "    y='MEDV',\n",
    "    figsize=(8,6)\n",
    ")"
   ]
  },
  {
   "cell_type": "code",
   "execution_count": 16,
   "metadata": {},
   "outputs": [
    {
     "data": {
      "text/plain": [
       "<AxesSubplot:xlabel='LSTAT', ylabel='MEDV'>"
      ]
     },
     "execution_count": 16,
     "metadata": {},
     "output_type": "execute_result"
    },
    {
     "data": {
      "image/png": "[encoded data removed]",
      "text/plain": [
       "<Figure size 576x432 with 1 Axes>"
      ]
     },
     "metadata": {
      "needs_background": "light"
     },
     "output_type": "display_data"
    }
   ],
   "source": [
    "df.plot(kind='scatter',\n",
    "x='LSTAT',\n",
    "y='MEDV',\n",
    "figsize=(8,6)\n",
    ")"
   ]
  },
  {
   "cell_type": "code",
   "execution_count": 17,
   "metadata": {},
   "outputs": [],
   "source": [
    "# Establecer las variables para el modelo\n",
    "\n",
    "X = df[['RM']] # doble bracket para tener un 2-dimensional data\n",
    "Y = df['MEDV'] # 1 bracket para tener un one-dimensional"
   ]
  },
  {
   "cell_type": "code",
   "execution_count": 18,
   "metadata": {},
   "outputs": [],
   "source": [
    "# iniciar el modelo (linear regression model)\n",
    "from sklearn.linear_model import LinearRegression\n",
    "# instanciar el modelo\n",
    "model = LinearRegression()"
   ]
  },
  {
   "cell_type": "code",
   "execution_count": 19,
   "metadata": {},
   "outputs": [],
   "source": [
    "# modelo para dividir los datos\n",
    "from sklearn.model_selection import train_test_split\n",
    "X_train, X_test, Y_train, Y_test = train_test_split(X,Y,\n",
    "                                                    test_size=0.3,\n",
    "                                                    random_state=1\n",
    "                                                    )"
   ]
  },
  {
   "cell_type": "code",
   "execution_count": 20,
   "metadata": {},
   "outputs": [
    {
     "data": {
      "text/plain": [
       "LinearRegression()"
      ]
     },
     "execution_count": 20,
     "metadata": {},
     "output_type": "execute_result"
    }
   ],
   "source": [
    "# ENTRENAR EL MODELO\n",
    "model.fit(X_train,Y_train)"
   ]
  },
  {
   "cell_type": "code",
   "execution_count": 21,
   "metadata": {},
   "outputs": [
    {
     "data": {
      "text/plain": [
       "-30.57"
      ]
     },
     "execution_count": 21,
     "metadata": {},
     "output_type": "execute_result"
    }
   ],
   "source": [
    "# UNA VEZ HECHO EL FIT REVISAMOS EL INTERCEPT Y SLOPE\n",
    "model.intercept_.round(2)\n"
   ]
  },
  {
   "cell_type": "code",
   "execution_count": 22,
   "metadata": {},
   "outputs": [
    {
     "data": {
      "text/plain": [
       "array([8.46])"
      ]
     },
     "execution_count": 22,
     "metadata": {},
     "output_type": "execute_result"
    }
   ],
   "source": [
    "model.coef_.round(2)"
   ]
  },
  {
   "cell_type": "code",
   "execution_count": 23,
   "metadata": {},
   "outputs": [],
   "source": [
    "# Formula del modelo es MEDV = -30.57 + 8.46 * RM"
   ]
  },
  {
   "cell_type": "code",
   "execution_count": 42,
   "metadata": {},
   "outputs": [
    {
     "data": {
      "text/plain": [
       "array([24.42606323])"
      ]
     },
     "execution_count": 42,
     "metadata": {},
     "output_type": "execute_result"
    }
   ],
   "source": [
    "# PREDICTION\n",
    "# predict() method\n",
    "# when the averege number of rooms per dwelling is 6.5 the model make the next predict\n",
    "\n",
    "new_RM = np.array([6.5]).reshape(-1,1) #make sure it's 2d\n",
    "model.predict(new_RM) # Predict X_test"
   ]
  },
  {
   "cell_type": "code",
   "execution_count": 25,
   "metadata": {},
   "outputs": [
    {
     "data": {
      "text/plain": [
       "array([-13.64884914])"
      ]
     },
     "execution_count": 25,
     "metadata": {},
     "output_type": "execute_result"
    }
   ],
   "source": [
    "model.intercept_ + model.coef_*2"
   ]
  },
  {
   "cell_type": "code",
   "execution_count": 26,
   "metadata": {},
   "outputs": [
    {
     "data": {
      "text/plain": [
       "numpy.ndarray"
      ]
     },
     "execution_count": 26,
     "metadata": {},
     "output_type": "execute_result"
    }
   ],
   "source": [
    "y_test_predicted = model.predict(X_test)\n",
    "y_test_predicted.shape\n",
    "type(y_test_predicted)"
   ]
  },
  {
   "cell_type": "code",
   "execution_count": 27,
   "metadata": {},
   "outputs": [
    {
     "data": {
      "image/png": "[encoded data removed]",
      "text/plain": [
       "<Figure size 432x288 with 1 Axes>"
      ]
     },
     "metadata": {
      "needs_background": "light"
     },
     "output_type": "display_data"
    }
   ],
   "source": [
    "# Evaluamos el modelo haciendo una comparacion visual del modelo fitted y la observacion del set Test\n",
    "import matplotlib.pyplot as plt\n",
    "plt.scatter(X_test,Y_test,\n",
    "label='Testing data'\n",
    ")\n",
    "plt.plot(X_test,y_test_predicted,\n",
    "label='prediction',linewidth=2\n",
    ")\n",
    "plt.xlabel('RM')\n",
    "plt.ylabel('MEDV')\n",
    "plt.legend(loc='upper left')\n",
    "plt.show()\n"
   ]
  },
  {
   "cell_type": "code",
   "execution_count": 28,
   "metadata": {},
   "outputs": [
    {
     "data": {
      "text/plain": [
       "[<matplotlib.lines.Line2D at 0x1c8dcba1be0>]"
      ]
     },
     "execution_count": 28,
     "metadata": {},
     "output_type": "execute_result"
    },
    {
     "data": {
      "image/png": "[encoded data removed]",
      "text/plain": [
       "<Figure size 432x288 with 1 Axes>"
      ]
     },
     "metadata": {
      "needs_background": "light"
     },
     "output_type": "display_data"
    }
   ],
   "source": [
    "plt.plot(X_test,y_test_predicted,\n",
    "label='prediction',linewidth=2\n",
    ")"
   ]
  },
  {
   "cell_type": "code",
   "execution_count": 29,
   "metadata": {},
   "outputs": [
    {
     "data": {
      "text/plain": [
       "Text(0, 0.5, 'Residuals')"
      ]
     },
     "execution_count": 29,
     "metadata": {},
     "output_type": "execute_result"
    },
    {
     "data": {
      "image/png": "[encoded data removed]",
      "text/plain": [
       "<Figure size 432x288 with 1 Axes>"
      ]
     },
     "metadata": {
      "needs_background": "light"
     },
     "output_type": "display_data"
    }
   ],
   "source": [
    "# Residual (difference between the observed value of the target and the predicted value)\n",
    "residuals = Y_test - y_test_predicted\n",
    "\n",
    "#plot residual\n",
    "plt.scatter(X_test, residuals)\n",
    "#plot a horizontal line at y = 0\n",
    "plt.hlines(y=0,\n",
    "xmin=X_test.min(),\n",
    "xmax=(X_test.max()),\n",
    "linestyles='--'\n",
    ")\n",
    "plt.xlim((4,9))\n",
    "plt.xlabel('RM')\n",
    "plt.ylabel('Residuals')"
   ]
  },
  {
   "cell_type": "code",
   "execution_count": 30,
   "metadata": {},
   "outputs": [
    {
     "data": {
      "text/plain": [
       "-0.23645087766388564"
      ]
     },
     "execution_count": 30,
     "metadata": {},
     "output_type": "execute_result"
    }
   ],
   "source": [
    "# Evaluacion con Mean Squared Error\n",
    "residuals.mean()"
   ]
  },
  {
   "cell_type": "code",
   "execution_count": 31,
   "metadata": {},
   "outputs": [
    {
     "data": {
      "text/plain": [
       "36.5172147308386"
      ]
     },
     "execution_count": 31,
     "metadata": {},
     "output_type": "execute_result"
    }
   ],
   "source": [
    "(residuals**2).mean()"
   ]
  },
  {
   "cell_type": "code",
   "execution_count": 32,
   "metadata": {},
   "outputs": [
    {
     "data": {
      "text/plain": [
       "36.517214730838624"
      ]
     },
     "execution_count": 32,
     "metadata": {},
     "output_type": "execute_result"
    }
   ],
   "source": [
    "# We can also use the mean_squared_error() method under scikit-learn metrics module to output the same result\n",
    "from sklearn.metrics import mean_squared_error\n",
    "mean_squared_error(Y_test, y_test_predicted)\n",
    "\n",
    "# In general, the smaller the MSE, the better, yet there is no absolute good or \n",
    "# bad threshold. We can define it based on the dependent variable, i.e., MEDV in \n",
    "# the test set. Y_test ranges from 6.3 to 50 with a variance 92.26. \n",
    "# Compared to the total variance, a MSE of 36.52 is not bad.\n"
   ]
  },
  {
   "cell_type": "code",
   "execution_count": 33,
   "metadata": {},
   "outputs": [
    {
     "data": {
      "text/plain": [
       "9.188011545278206"
      ]
     },
     "execution_count": 33,
     "metadata": {},
     "output_type": "execute_result"
    }
   ],
   "source": [
    "import numpy as np\n",
    "np.std(df['MEDV'])"
   ]
  },
  {
   "cell_type": "code",
   "execution_count": 34,
   "metadata": {},
   "outputs": [
    {
     "data": {
      "text/plain": [
       "0.6015774471545623"
      ]
     },
     "execution_count": 34,
     "metadata": {},
     "output_type": "execute_result"
    }
   ],
   "source": [
    "# Evaluacion con R-squared\n",
    "# r-squared is calculated via model.score()\n",
    "model.score(X_test,Y_test)"
   ]
  },
  {
   "cell_type": "code",
   "execution_count": 35,
   "metadata": {},
   "outputs": [
    {
     "data": {
      "text/plain": [
       "LinearRegression()"
      ]
     },
     "execution_count": 35,
     "metadata": {},
     "output_type": "execute_result"
    }
   ],
   "source": [
    "# MULTIVARIATE LINEAR REGRESSION\n",
    "\n",
    "# MEDV = B0 b1 * RM + b2 * LSTAT\n",
    "\n",
    "# data preparation\n",
    "X2 = df[['RM','LSTAT']]\n",
    "Y = df['MEDV']\n",
    "#train test splot\n",
    "#same randome_state to ensure the same splits\n",
    "X2_train, X2_test, Y2_train, Y2_test = train_test_split(X2, Y,\n",
    "test_size=0.3,\n",
    "random_state=1\n",
    ")\n",
    "model2 = LinearRegression()\n",
    "model2.fit(X2_train,Y2_train)\n"
   ]
  },
  {
   "cell_type": "code",
   "execution_count": 36,
   "metadata": {},
   "outputs": [
    {
     "data": {
      "text/plain": [
       "array([ 4.12674118, -0.67762654])"
      ]
     },
     "execution_count": 36,
     "metadata": {},
     "output_type": "execute_result"
    }
   ],
   "source": [
    "model2.intercept_\n",
    "model2.coef_"
   ]
  },
  {
   "cell_type": "code",
   "execution_count": 37,
   "metadata": {},
   "outputs": [],
   "source": [
    "y_test_predicted2 = model2.predict(X2_test)"
   ]
  },
  {
   "cell_type": "code",
   "execution_count": 38,
   "metadata": {},
   "outputs": [
    {
     "data": {
      "text/plain": [
       "36.52"
      ]
     },
     "execution_count": 38,
     "metadata": {},
     "output_type": "execute_result"
    }
   ],
   "source": [
    "mean_squared_error(Y_test, y_test_predicted).round(2)"
   ]
  },
  {
   "cell_type": "code",
   "execution_count": 39,
   "metadata": {},
   "outputs": [
    {
     "data": {
      "text/plain": [
       "28.93"
      ]
     },
     "execution_count": 39,
     "metadata": {},
     "output_type": "execute_result"
    }
   ],
   "source": [
    "mean_squared_error(Y_test, y_test_predicted2).round(2)"
   ]
  }
 ],
 "metadata": {
  "interpreter": {
   "hash": "89eb0ba0d7a5cfde75646fe04fa67f97dee2740233f922d6dcaec62ecffe3139"
  },
  "kernelspec": {
   "display_name": "Python 3.8.8 64-bit ('base': conda)",
   "name": "python3"
  },
  "language_info": {
   "codemirror_mode": {
    "name": "ipython",
    "version": 3
   },
   "file_extension": ".py",
   "mimetype": "text/x-python",
   "name": "python",
   "nbconvert_exporter": "python",
   "pygments_lexer": "ipython3",
   "version": "3.8.8"
  },
  "orig_nbformat": 4
 },
 "nbformat": 4,
 "nbformat_minor": 2
}
