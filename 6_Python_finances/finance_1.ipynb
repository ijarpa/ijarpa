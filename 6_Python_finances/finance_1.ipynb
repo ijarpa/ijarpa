{
 "cells": [
  {
   "cell_type": "code",
   "execution_count": 2,
   "metadata": {},
   "outputs": [],
   "source": [
    "import numpy_financial as npf\n",
    "import pandas as pd\n",
    "import matplotlib.pyplot as plt\n",
    "import plotly.express as px\n",
    "import numpy as np"
   ]
  },
  {
   "cell_type": "code",
   "execution_count": 3,
   "metadata": {},
   "outputs": [
    {
     "name": "stdout",
     "output_type": "stream",
     "text": [
      "1469.33\n"
     ]
    }
   ],
   "source": [
    "res = npf.fv(rate=0.08, nper=5, pmt=0, pv=-1000)\n",
    "print(round(res,2))"
   ]
  },
  {
   "cell_type": "code",
   "execution_count": 4,
   "metadata": {},
   "outputs": [
    {
     "name": "stdout",
     "output_type": "stream",
     "text": [
      "100.0\n"
     ]
    },
    {
     "name": "stderr",
     "output_type": "stream",
     "text": [
      "C:\\Users\\ivana\\anaconda3\\lib\\site-packages\\numpy_financial\\_financial.py:130: RuntimeWarning: invalid value encountered in long_scalars\n",
      "  (1 + rate*when)*(temp - 1)/rate)\n"
     ]
    }
   ],
   "source": [
    "print(npf.fv(rate=0, nper=3, pmt=0, pv=-100))"
   ]
  },
  {
   "cell_type": "code",
   "execution_count": 5,
   "metadata": {},
   "outputs": [
    {
     "data": {
      "text/html": [
       "<div>\n",
       "<style scoped>\n",
       "    .dataframe tbody tr th:only-of-type {\n",
       "        vertical-align: middle;\n",
       "    }\n",
       "\n",
       "    .dataframe tbody tr th {\n",
       "        vertical-align: top;\n",
       "    }\n",
       "\n",
       "    .dataframe thead th {\n",
       "        text-align: right;\n",
       "    }\n",
       "</style>\n",
       "<table border=\"1\" class=\"dataframe\">\n",
       "  <thead>\n",
       "    <tr style=\"text-align: right;\">\n",
       "      <th></th>\n",
       "      <th>Name</th>\n",
       "      <th>Title</th>\n",
       "      <th>Pay</th>\n",
       "      <th>Exercised</th>\n",
       "      <th>Year Born</th>\n",
       "    </tr>\n",
       "  </thead>\n",
       "  <tbody>\n",
       "    <tr>\n",
       "      <th>0</th>\n",
       "      <td>Mr. Elon R. Musk</td>\n",
       "      <td>Technoking of Tesla, CEO &amp; Director</td>\n",
       "      <td>NaN</td>\n",
       "      <td>NaN</td>\n",
       "      <td>1972.0</td>\n",
       "    </tr>\n",
       "    <tr>\n",
       "      <th>1</th>\n",
       "      <td>Mr. Zachary J. Kirkhorn</td>\n",
       "      <td>Master of Coin &amp; CFO</td>\n",
       "      <td>300.76k</td>\n",
       "      <td>4.19M</td>\n",
       "      <td>1985.0</td>\n",
       "    </tr>\n",
       "    <tr>\n",
       "      <th>2</th>\n",
       "      <td>Mr. Andrew D. Baglino</td>\n",
       "      <td>Sr. VP of Powertrain &amp; Energy Engineering</td>\n",
       "      <td>283.27k</td>\n",
       "      <td>14.86M</td>\n",
       "      <td>1981.0</td>\n",
       "    </tr>\n",
       "    <tr>\n",
       "      <th>3</th>\n",
       "      <td>Mr. Vaibhav Taneja</td>\n",
       "      <td>Corp. Controller &amp; Chief Accounting Officer</td>\n",
       "      <td>NaN</td>\n",
       "      <td>NaN</td>\n",
       "      <td>1978.0</td>\n",
       "    </tr>\n",
       "    <tr>\n",
       "      <th>4</th>\n",
       "      <td>Mr. Martin Viecha</td>\n",
       "      <td>Sr. Director for Investor Relations</td>\n",
       "      <td>NaN</td>\n",
       "      <td>NaN</td>\n",
       "      <td>NaN</td>\n",
       "    </tr>\n",
       "    <tr>\n",
       "      <th>5</th>\n",
       "      <td>Mr. Alan Prescott</td>\n",
       "      <td>VP of Legal</td>\n",
       "      <td>NaN</td>\n",
       "      <td>NaN</td>\n",
       "      <td>NaN</td>\n",
       "    </tr>\n",
       "    <tr>\n",
       "      <th>6</th>\n",
       "      <td>Mr. Dave Arnold</td>\n",
       "      <td>Sr. Director of Global Communications</td>\n",
       "      <td>NaN</td>\n",
       "      <td>NaN</td>\n",
       "      <td>NaN</td>\n",
       "    </tr>\n",
       "    <tr>\n",
       "      <th>7</th>\n",
       "      <td>Brian Scelfo</td>\n",
       "      <td>Sr. Director of Corp. Devel.</td>\n",
       "      <td>NaN</td>\n",
       "      <td>NaN</td>\n",
       "      <td>NaN</td>\n",
       "    </tr>\n",
       "    <tr>\n",
       "      <th>8</th>\n",
       "      <td>Mr. Jeffrey B. Straubel</td>\n",
       "      <td>Sr. Advisor</td>\n",
       "      <td>NaN</td>\n",
       "      <td>NaN</td>\n",
       "      <td>1976.0</td>\n",
       "    </tr>\n",
       "    <tr>\n",
       "      <th>9</th>\n",
       "      <td>Mr. Franz von Holzhausen</td>\n",
       "      <td>Chief Designer</td>\n",
       "      <td>NaN</td>\n",
       "      <td>NaN</td>\n",
       "      <td>NaN</td>\n",
       "    </tr>\n",
       "  </tbody>\n",
       "</table>\n",
       "</div>"
      ],
      "text/plain": [
       "                       Name                                        Title  \\\n",
       "0          Mr. Elon R. Musk          Technoking of Tesla, CEO & Director   \n",
       "1   Mr. Zachary J. Kirkhorn                         Master of Coin & CFO   \n",
       "2     Mr. Andrew D. Baglino    Sr. VP of Powertrain & Energy Engineering   \n",
       "3        Mr. Vaibhav Taneja  Corp. Controller & Chief Accounting Officer   \n",
       "4         Mr. Martin Viecha          Sr. Director for Investor Relations   \n",
       "5         Mr. Alan Prescott                                  VP of Legal   \n",
       "6           Mr. Dave Arnold        Sr. Director of Global Communications   \n",
       "7              Brian Scelfo                 Sr. Director of Corp. Devel.   \n",
       "8   Mr. Jeffrey B. Straubel                                  Sr. Advisor   \n",
       "9  Mr. Franz von Holzhausen                               Chief Designer   \n",
       "\n",
       "       Pay Exercised  Year Born  \n",
       "0      NaN       NaN     1972.0  \n",
       "1  300.76k     4.19M     1985.0  \n",
       "2  283.27k    14.86M     1981.0  \n",
       "3      NaN       NaN     1978.0  \n",
       "4      NaN       NaN        NaN  \n",
       "5      NaN       NaN        NaN  \n",
       "6      NaN       NaN        NaN  \n",
       "7      NaN       NaN        NaN  \n",
       "8      NaN       NaN     1976.0  \n",
       "9      NaN       NaN        NaN  "
      ]
     },
     "execution_count": 5,
     "metadata": {},
     "output_type": "execute_result"
    }
   ],
   "source": [
    "import requests\n",
    "\n",
    "url_link = 'https://finance.yahoo.com/quote/TSLA/profile'\n",
    "r = requests.get(url_link, headers={'User-Agent':'Mozilla/5.0 (Windows NT 10.0; Win64; x64) AppleWebKit/537.36 (KHTML, like Gecko) Chrome/91.0.4472.124 Safari/537.36'})\n",
    "\n",
    "df = pd.read_html(r.text)\n",
    "df[0]"
   ]
  },
  {
   "cell_type": "code",
   "execution_count": 6,
   "metadata": {},
   "outputs": [
    {
     "data": {
      "text/html": [
       "<div>\n",
       "<style scoped>\n",
       "    .dataframe tbody tr th:only-of-type {\n",
       "        vertical-align: middle;\n",
       "    }\n",
       "\n",
       "    .dataframe tbody tr th {\n",
       "        vertical-align: top;\n",
       "    }\n",
       "\n",
       "    .dataframe thead th {\n",
       "        text-align: right;\n",
       "    }\n",
       "</style>\n",
       "<table border=\"1\" class=\"dataframe\">\n",
       "  <thead>\n",
       "    <tr style=\"text-align: right;\">\n",
       "      <th></th>\n",
       "      <th>Earnings Estimate</th>\n",
       "      <th>Current Qtr. (Dec 2021)</th>\n",
       "      <th>Next Qtr. (Mar 2022)</th>\n",
       "      <th>Current Year (2021)</th>\n",
       "      <th>Next Year (2022)</th>\n",
       "    </tr>\n",
       "  </thead>\n",
       "  <tbody>\n",
       "    <tr>\n",
       "      <th>0</th>\n",
       "      <td>No. of Analysts</td>\n",
       "      <td>23.00</td>\n",
       "      <td>13.00</td>\n",
       "      <td>32.00</td>\n",
       "      <td>31.00</td>\n",
       "    </tr>\n",
       "    <tr>\n",
       "      <th>1</th>\n",
       "      <td>Avg. Estimate</td>\n",
       "      <td>2.23</td>\n",
       "      <td>2.05</td>\n",
       "      <td>6.36</td>\n",
       "      <td>8.92</td>\n",
       "    </tr>\n",
       "    <tr>\n",
       "      <th>2</th>\n",
       "      <td>Low Estimate</td>\n",
       "      <td>1.39</td>\n",
       "      <td>1.40</td>\n",
       "      <td>4.53</td>\n",
       "      <td>5.94</td>\n",
       "    </tr>\n",
       "    <tr>\n",
       "      <th>3</th>\n",
       "      <td>High Estimate</td>\n",
       "      <td>2.98</td>\n",
       "      <td>2.62</td>\n",
       "      <td>7.39</td>\n",
       "      <td>12.29</td>\n",
       "    </tr>\n",
       "    <tr>\n",
       "      <th>4</th>\n",
       "      <td>Year Ago EPS</td>\n",
       "      <td>0.80</td>\n",
       "      <td>0.93</td>\n",
       "      <td>2.24</td>\n",
       "      <td>6.36</td>\n",
       "    </tr>\n",
       "  </tbody>\n",
       "</table>\n",
       "</div>"
      ],
      "text/plain": [
       "  Earnings Estimate  Current Qtr. (Dec 2021)  Next Qtr. (Mar 2022)  \\\n",
       "0   No. of Analysts                    23.00                 13.00   \n",
       "1     Avg. Estimate                     2.23                  2.05   \n",
       "2      Low Estimate                     1.39                  1.40   \n",
       "3     High Estimate                     2.98                  2.62   \n",
       "4      Year Ago EPS                     0.80                  0.93   \n",
       "\n",
       "   Current Year (2021)  Next Year (2022)  \n",
       "0                32.00             31.00  \n",
       "1                 6.36              8.92  \n",
       "2                 4.53              5.94  \n",
       "3                 7.39             12.29  \n",
       "4                 2.24              6.36  "
      ]
     },
     "execution_count": 6,
     "metadata": {},
     "output_type": "execute_result"
    }
   ],
   "source": [
    "url_link_2 = 'https://finance.yahoo.com/quote/TSLA/analysis?p=TSLA'\n",
    "r = requests.get(url_link_2, headers={'User-Agent':'Mozilla/5.0 (Windows NT 10.0; Win64; x64) AppleWebKit/537.36 (KHTML, like Gecko) Chrome/91.0.4472.124 Safari/537.36'})\n",
    "data_2 = pd.read_html(r.text)\n",
    "data_2 = data_2[0]\n",
    "data_2"
   ]
  },
  {
   "cell_type": "code",
   "execution_count": 7,
   "metadata": {},
   "outputs": [
    {
     "data": {
      "text/html": [
       "<div>\n",
       "<style scoped>\n",
       "    .dataframe tbody tr th:only-of-type {\n",
       "        vertical-align: middle;\n",
       "    }\n",
       "\n",
       "    .dataframe tbody tr th {\n",
       "        vertical-align: top;\n",
       "    }\n",
       "\n",
       "    .dataframe thead th {\n",
       "        text-align: right;\n",
       "    }\n",
       "</style>\n",
       "<table border=\"1\" class=\"dataframe\">\n",
       "  <thead>\n",
       "    <tr style=\"text-align: right;\">\n",
       "      <th></th>\n",
       "      <th>Earnings Estimate</th>\n",
       "      <th>Current Qtr. (Dec 2021)</th>\n",
       "      <th>Next Qtr. (Mar 2022)</th>\n",
       "      <th>Current Year (2021)</th>\n",
       "      <th>Next Year (2022)</th>\n",
       "    </tr>\n",
       "  </thead>\n",
       "  <tbody>\n",
       "    <tr>\n",
       "      <th>1</th>\n",
       "      <td>Avg. Estimate</td>\n",
       "      <td>2.23</td>\n",
       "      <td>2.05</td>\n",
       "      <td>6.36</td>\n",
       "      <td>8.92</td>\n",
       "    </tr>\n",
       "  </tbody>\n",
       "</table>\n",
       "</div>"
      ],
      "text/plain": [
       "  Earnings Estimate  Current Qtr. (Dec 2021)  Next Qtr. (Mar 2022)  \\\n",
       "1     Avg. Estimate                     2.23                  2.05   \n",
       "\n",
       "   Current Year (2021)  Next Year (2022)  \n",
       "1                 6.36              8.92  "
      ]
     },
     "execution_count": 7,
     "metadata": {},
     "output_type": "execute_result"
    }
   ],
   "source": [
    "data_2[data_2['Earnings Estimate']=='Avg. Estimate']"
   ]
  },
  {
   "cell_type": "code",
   "execution_count": 8,
   "metadata": {},
   "outputs": [
    {
     "data": {
      "text/html": [
       "<div>\n",
       "<style scoped>\n",
       "    .dataframe tbody tr th:only-of-type {\n",
       "        vertical-align: middle;\n",
       "    }\n",
       "\n",
       "    .dataframe tbody tr th {\n",
       "        vertical-align: top;\n",
       "    }\n",
       "\n",
       "    .dataframe thead th {\n",
       "        text-align: right;\n",
       "    }\n",
       "</style>\n",
       "<table border=\"1\" class=\"dataframe\">\n",
       "  <thead>\n",
       "    <tr style=\"text-align: right;\">\n",
       "      <th></th>\n",
       "      <th>Earnings Estimate</th>\n",
       "      <th>Current Qtr. (Dec 2021)</th>\n",
       "      <th>Next Qtr. (Mar 2022)</th>\n",
       "      <th>Current Year (2021)</th>\n",
       "      <th>Next Year (2022)</th>\n",
       "    </tr>\n",
       "  </thead>\n",
       "  <tbody>\n",
       "    <tr>\n",
       "      <th>1</th>\n",
       "      <td>Avg. Estimate</td>\n",
       "      <td>2.23</td>\n",
       "      <td>2.05</td>\n",
       "      <td>6.36</td>\n",
       "      <td>8.92</td>\n",
       "    </tr>\n",
       "  </tbody>\n",
       "</table>\n",
       "</div>"
      ],
      "text/plain": [
       "  Earnings Estimate  Current Qtr. (Dec 2021)  Next Qtr. (Mar 2022)  \\\n",
       "1     Avg. Estimate                     2.23                  2.05   \n",
       "\n",
       "   Current Year (2021)  Next Year (2022)  \n",
       "1                 6.36              8.92  "
      ]
     },
     "execution_count": 8,
     "metadata": {},
     "output_type": "execute_result"
    }
   ],
   "source": [
    "data_2.iloc[1:2]"
   ]
  },
  {
   "cell_type": "code",
   "execution_count": 9,
   "metadata": {},
   "outputs": [
    {
     "data": {
      "image/png": "[encoded data removed]",
      "text/plain": [
       "<Figure size 1080x864 with 1 Axes>"
      ]
     },
     "metadata": {
      "needs_background": "light"
     },
     "output_type": "display_data"
    }
   ],
   "source": [
    "data_2.iloc[1:2].plot(kind='bar', figsize=(15,12))\n",
    "plt.title('Avg. Estimate')\n",
    "plt.xlabel('Promedio')\n",
    "plt.show()"
   ]
  },
  {
   "cell_type": "code",
   "execution_count": 10,
   "metadata": {},
   "outputs": [],
   "source": [
    "import yfinance as yf"
   ]
  },
  {
   "cell_type": "code",
   "execution_count": 11,
   "metadata": {},
   "outputs": [],
   "source": [
    "data = yf.Ticker('TSLA')"
   ]
  },
  {
   "cell_type": "code",
   "execution_count": 12,
   "metadata": {},
   "outputs": [
    {
     "name": "stdout",
     "output_type": "stream",
     "text": [
      "0.07403\n"
     ]
    }
   ],
   "source": [
    "print(data.info['profitMargins'])"
   ]
  },
  {
   "cell_type": "code",
   "execution_count": 15,
   "metadata": {},
   "outputs": [
    {
     "data": {
      "application/vnd.plotly.v1+json": {
       "config": {
        "plotlyServerURL": "https://plot.ly"
       },
       "data": [
        {
         "hovertemplate": "variable=Revenue<br>Year=%{x}<br>value=%{y}<extra></extra>",
         "legendgroup": "Revenue",
         "line": {
          "color": "#636efa",
          "dash": "solid"
         },
         "marker": {
          "symbol": "circle"
         },
         "mode": "lines",
         "name": "Revenue",
         "orientation": "v",
         "showlegend": true,
         "type": "scatter",
         "x": [
          2017,
          2018,
          2019,
          2020
         ],
         "xaxis": "x",
         "y": [
          11759000000,
          21461000000,
          24578000000,
          31536000000
         ],
         "yaxis": "y"
        },
        {
         "hovertemplate": "variable=Earnings<br>Year=%{x}<br>value=%{y}<extra></extra>",
         "legendgroup": "Earnings",
         "line": {
          "color": "#EF553B",
          "dash": "solid"
         },
         "marker": {
          "symbol": "circle"
         },
         "mode": "lines",
         "name": "Earnings",
         "orientation": "v",
         "showlegend": true,
         "type": "scatter",
         "x": [
          2017,
          2018,
          2019,
          2020
         ],
         "xaxis": "x",
         "y": [
          -1962000000,
          -976000000,
          -862000000,
          721000000
         ],
         "yaxis": "y"
        }
       ],
       "layout": {
        "legend": {
         "title": {
          "text": "variable"
         },
         "tracegroupgap": 0
        },
        "margin": {
         "t": 60
        },
        "template": {
         "data": {
          "bar": [
           {
            "error_x": {
             "color": "#2a3f5f"
            },
            "error_y": {
             "color": "#2a3f5f"
            },
            "marker": {
             "line": {
              "color": "#E5ECF6",
              "width": 0.5
             },
             "pattern": {
              "fillmode": "overlay",
              "size": 10,
              "solidity": 0.2
             }
            },
            "type": "bar"
           }
          ],
          "barpolar": [
           {
            "marker": {
             "line": {
              "color": "#E5ECF6",
              "width": 0.5
             },
             "pattern": {
              "fillmode": "overlay",
              "size": 10,
              "solidity": 0.2
             }
            },
            "type": "barpolar"
           }
          ],
          "carpet": [
           {
            "aaxis": {
             "endlinecolor": "#2a3f5f",
             "gridcolor": "white",
             "linecolor": "white",
             "minorgridcolor": "white",
             "startlinecolor": "#2a3f5f"
            },
            "baxis": {
             "endlinecolor": "#2a3f5f",
             "gridcolor": "white",
             "linecolor": "white",
             "minorgridcolor": "white",
             "startlinecolor": "#2a3f5f"
            },
            "type": "carpet"
           }
          ],
          "choropleth": [
           {
            "colorbar": {
             "outlinewidth": 0,
             "ticks": ""
            },
            "type": "choropleth"
           }
          ],
          "contour": [
           {
            "colorbar": {
             "outlinewidth": 0,
             "ticks": ""
            },
            "colorscale": [
             [
              0,
              "#0d0887"
             ],
             [
              0.1111111111111111,
              "#46039f"
             ],
             [
              0.2222222222222222,
              "#7201a8"
             ],
             [
              0.3333333333333333,
              "#9c179e"
             ],
             [
              0.4444444444444444,
              "#bd3786"
             ],
             [
              0.5555555555555556,
              "#d8576b"
             ],
             [
              0.6666666666666666,
              "#ed7953"
             ],
             [
              0.7777777777777778,
              "#fb9f3a"
             ],
             [
              0.8888888888888888,
              "#fdca26"
             ],
             [
              1,
              "#f0f921"
             ]
            ],
            "type": "contour"
           }
          ],
          "contourcarpet": [
           {
            "colorbar": {
             "outlinewidth": 0,
             "ticks": ""
            },
            "type": "contourcarpet"
           }
          ],
          "heatmap": [
           {
            "colorbar": {
             "outlinewidth": 0,
             "ticks": ""
            },
            "colorscale": [
             [
              0,
              "#0d0887"
             ],
             [
              0.1111111111111111,
              "#46039f"
             ],
             [
              0.2222222222222222,
              "#7201a8"
             ],
             [
              0.3333333333333333,
              "#9c179e"
             ],
             [
              0.4444444444444444,
              "#bd3786"
             ],
             [
              0.5555555555555556,
              "#d8576b"
             ],
             [
              0.6666666666666666,
              "#ed7953"
             ],
             [
              0.7777777777777778,
              "#fb9f3a"
             ],
             [
              0.8888888888888888,
              "#fdca26"
             ],
             [
              1,
              "#f0f921"
             ]
            ],
            "type": "heatmap"
           }
          ],
          "heatmapgl": [
           {
            "colorbar": {
             "outlinewidth": 0,
             "ticks": ""
            },
            "colorscale": [
             [
              0,
              "#0d0887"
             ],
             [
              0.1111111111111111,
              "#46039f"
             ],
             [
              0.2222222222222222,
              "#7201a8"
             ],
             [
              0.3333333333333333,
              "#9c179e"
             ],
             [
              0.4444444444444444,
              "#bd3786"
             ],
             [
              0.5555555555555556,
              "#d8576b"
             ],
             [
              0.6666666666666666,
              "#ed7953"
             ],
             [
              0.7777777777777778,
              "#fb9f3a"
             ],
             [
              0.8888888888888888,
              "#fdca26"
             ],
             [
              1,
              "#f0f921"
             ]
            ],
            "type": "heatmapgl"
           }
          ],
          "histogram": [
           {
            "marker": {
             "pattern": {
              "fillmode": "overlay",
              "size": 10,
              "solidity": 0.2
             }
            },
            "type": "histogram"
           }
          ],
          "histogram2d": [
           {
            "colorbar": {
             "outlinewidth": 0,
             "ticks": ""
            },
            "colorscale": [
             [
              0,
              "#0d0887"
             ],
             [
              0.1111111111111111,
              "#46039f"
             ],
             [
              0.2222222222222222,
              "#7201a8"
             ],
             [
              0.3333333333333333,
              "#9c179e"
             ],
             [
              0.4444444444444444,
              "#bd3786"
             ],
             [
              0.5555555555555556,
              "#d8576b"
             ],
             [
              0.6666666666666666,
              "#ed7953"
             ],
             [
              0.7777777777777778,
              "#fb9f3a"
             ],
             [
              0.8888888888888888,
              "#fdca26"
             ],
             [
              1,
              "#f0f921"
             ]
            ],
            "type": "histogram2d"
           }
          ],
          "histogram2dcontour": [
           {
            "colorbar": {
             "outlinewidth": 0,
             "ticks": ""
            },
            "colorscale": [
             [
              0,
              "#0d0887"
             ],
             [
              0.1111111111111111,
              "#46039f"
             ],
             [
              0.2222222222222222,
              "#7201a8"
             ],
             [
              0.3333333333333333,
              "#9c179e"
             ],
             [
              0.4444444444444444,
              "#bd3786"
             ],
             [
              0.5555555555555556,
              "#d8576b"
             ],
             [
              0.6666666666666666,
              "#ed7953"
             ],
             [
              0.7777777777777778,
              "#fb9f3a"
             ],
             [
              0.8888888888888888,
              "#fdca26"
             ],
             [
              1,
              "#f0f921"
             ]
            ],
            "type": "histogram2dcontour"
           }
          ],
          "mesh3d": [
           {
            "colorbar": {
             "outlinewidth": 0,
             "ticks": ""
            },
            "type": "mesh3d"
           }
          ],
          "parcoords": [
           {
            "line": {
             "colorbar": {
              "outlinewidth": 0,
              "ticks": ""
             }
            },
            "type": "parcoords"
           }
          ],
          "pie": [
           {
            "automargin": true,
            "type": "pie"
           }
          ],
          "scatter": [
           {
            "marker": {
             "colorbar": {
              "outlinewidth": 0,
              "ticks": ""
             }
            },
            "type": "scatter"
           }
          ],
          "scatter3d": [
           {
            "line": {
             "colorbar": {
              "outlinewidth": 0,
              "ticks": ""
             }
            },
            "marker": {
             "colorbar": {
              "outlinewidth": 0,
              "ticks": ""
             }
            },
            "type": "scatter3d"
           }
          ],
          "scattercarpet": [
           {
            "marker": {
             "colorbar": {
              "outlinewidth": 0,
              "ticks": ""
             }
            },
            "type": "scattercarpet"
           }
          ],
          "scattergeo": [
           {
            "marker": {
             "colorbar": {
              "outlinewidth": 0,
              "ticks": ""
             }
            },
            "type": "scattergeo"
           }
          ],
          "scattergl": [
           {
            "marker": {
             "colorbar": {
              "outlinewidth": 0,
              "ticks": ""
             }
            },
            "type": "scattergl"
           }
          ],
          "scattermapbox": [
           {
            "marker": {
             "colorbar": {
              "outlinewidth": 0,
              "ticks": ""
             }
            },
            "type": "scattermapbox"
           }
          ],
          "scatterpolar": [
           {
            "marker": {
             "colorbar": {
              "outlinewidth": 0,
              "ticks": ""
             }
            },
            "type": "scatterpolar"
           }
          ],
          "scatterpolargl": [
           {
            "marker": {
             "colorbar": {
              "outlinewidth": 0,
              "ticks": ""
             }
            },
            "type": "scatterpolargl"
           }
          ],
          "scatterternary": [
           {
            "marker": {
             "colorbar": {
              "outlinewidth": 0,
              "ticks": ""
             }
            },
            "type": "scatterternary"
           }
          ],
          "surface": [
           {
            "colorbar": {
             "outlinewidth": 0,
             "ticks": ""
            },
            "colorscale": [
             [
              0,
              "#0d0887"
             ],
             [
              0.1111111111111111,
              "#46039f"
             ],
             [
              0.2222222222222222,
              "#7201a8"
             ],
             [
              0.3333333333333333,
              "#9c179e"
             ],
             [
              0.4444444444444444,
              "#bd3786"
             ],
             [
              0.5555555555555556,
              "#d8576b"
             ],
             [
              0.6666666666666666,
              "#ed7953"
             ],
             [
              0.7777777777777778,
              "#fb9f3a"
             ],
             [
              0.8888888888888888,
              "#fdca26"
             ],
             [
              1,
              "#f0f921"
             ]
            ],
            "type": "surface"
           }
          ],
          "table": [
           {
            "cells": {
             "fill": {
              "color": "#EBF0F8"
             },
             "line": {
              "color": "white"
             }
            },
            "header": {
             "fill": {
              "color": "#C8D4E3"
             },
             "line": {
              "color": "white"
             }
            },
            "type": "table"
           }
          ]
         },
         "layout": {
          "annotationdefaults": {
           "arrowcolor": "#2a3f5f",
           "arrowhead": 0,
           "arrowwidth": 1
          },
          "autotypenumbers": "strict",
          "coloraxis": {
           "colorbar": {
            "outlinewidth": 0,
            "ticks": ""
           }
          },
          "colorscale": {
           "diverging": [
            [
             0,
             "#8e0152"
            ],
            [
             0.1,
             "#c51b7d"
            ],
            [
             0.2,
             "#de77ae"
            ],
            [
             0.3,
             "#f1b6da"
            ],
            [
             0.4,
             "#fde0ef"
            ],
            [
             0.5,
             "#f7f7f7"
            ],
            [
             0.6,
             "#e6f5d0"
            ],
            [
             0.7,
             "#b8e186"
            ],
            [
             0.8,
             "#7fbc41"
            ],
            [
             0.9,
             "#4d9221"
            ],
            [
             1,
             "#276419"
            ]
           ],
           "sequential": [
            [
             0,
             "#0d0887"
            ],
            [
             0.1111111111111111,
             "#46039f"
            ],
            [
             0.2222222222222222,
             "#7201a8"
            ],
            [
             0.3333333333333333,
             "#9c179e"
            ],
            [
             0.4444444444444444,
             "#bd3786"
            ],
            [
             0.5555555555555556,
             "#d8576b"
            ],
            [
             0.6666666666666666,
             "#ed7953"
            ],
            [
             0.7777777777777778,
             "#fb9f3a"
            ],
            [
             0.8888888888888888,
             "#fdca26"
            ],
            [
             1,
             "#f0f921"
            ]
           ],
           "sequentialminus": [
            [
             0,
             "#0d0887"
            ],
            [
             0.1111111111111111,
             "#46039f"
            ],
            [
             0.2222222222222222,
             "#7201a8"
            ],
            [
             0.3333333333333333,
             "#9c179e"
            ],
            [
             0.4444444444444444,
             "#bd3786"
            ],
            [
             0.5555555555555556,
             "#d8576b"
            ],
            [
             0.6666666666666666,
             "#ed7953"
            ],
            [
             0.7777777777777778,
             "#fb9f3a"
            ],
            [
             0.8888888888888888,
             "#fdca26"
            ],
            [
             1,
             "#f0f921"
            ]
           ]
          },
          "colorway": [
           "#636efa",
           "#EF553B",
           "#00cc96",
           "#ab63fa",
           "#FFA15A",
           "#19d3f3",
           "#FF6692",
           "#B6E880",
           "#FF97FF",
           "#FECB52"
          ],
          "font": {
           "color": "#2a3f5f"
          },
          "geo": {
           "bgcolor": "white",
           "lakecolor": "white",
           "landcolor": "#E5ECF6",
           "showlakes": true,
           "showland": true,
           "subunitcolor": "white"
          },
          "hoverlabel": {
           "align": "left"
          },
          "hovermode": "closest",
          "mapbox": {
           "style": "light"
          },
          "paper_bgcolor": "white",
          "plot_bgcolor": "#E5ECF6",
          "polar": {
           "angularaxis": {
            "gridcolor": "white",
            "linecolor": "white",
            "ticks": ""
           },
           "bgcolor": "#E5ECF6",
           "radialaxis": {
            "gridcolor": "white",
            "linecolor": "white",
            "ticks": ""
           }
          },
          "scene": {
           "xaxis": {
            "backgroundcolor": "#E5ECF6",
            "gridcolor": "white",
            "gridwidth": 2,
            "linecolor": "white",
            "showbackground": true,
            "ticks": "",
            "zerolinecolor": "white"
           },
           "yaxis": {
            "backgroundcolor": "#E5ECF6",
            "gridcolor": "white",
            "gridwidth": 2,
            "linecolor": "white",
            "showbackground": true,
            "ticks": "",
            "zerolinecolor": "white"
           },
           "zaxis": {
            "backgroundcolor": "#E5ECF6",
            "gridcolor": "white",
            "gridwidth": 2,
            "linecolor": "white",
            "showbackground": true,
            "ticks": "",
            "zerolinecolor": "white"
           }
          },
          "shapedefaults": {
           "line": {
            "color": "#2a3f5f"
           }
          },
          "ternary": {
           "aaxis": {
            "gridcolor": "white",
            "linecolor": "white",
            "ticks": ""
           },
           "baxis": {
            "gridcolor": "white",
            "linecolor": "white",
            "ticks": ""
           },
           "bgcolor": "#E5ECF6",
           "caxis": {
            "gridcolor": "white",
            "linecolor": "white",
            "ticks": ""
           }
          },
          "title": {
           "x": 0.05
          },
          "xaxis": {
           "automargin": true,
           "gridcolor": "white",
           "linecolor": "white",
           "ticks": "",
           "title": {
            "standoff": 15
           },
           "zerolinecolor": "white",
           "zerolinewidth": 2
          },
          "yaxis": {
           "automargin": true,
           "gridcolor": "white",
           "linecolor": "white",
           "ticks": "",
           "title": {
            "standoff": 15
           },
           "zerolinecolor": "white",
           "zerolinewidth": 2
          }
         }
        },
        "xaxis": {
         "anchor": "y",
         "domain": [
          0,
          1
         ],
         "title": {
          "text": "Year"
         }
        },
        "yaxis": {
         "anchor": "x",
         "domain": [
          0,
          1
         ],
         "title": {
          "text": "value"
         }
        }
       }
      }
     },
     "metadata": {},
     "output_type": "display_data"
    }
   ],
   "source": [
    "x = data.earnings\n",
    "px.line(x)"
   ]
  },
  {
   "cell_type": "code",
   "execution_count": 16,
   "metadata": {},
   "outputs": [
    {
     "data": {
      "text/plain": [
       "[<matplotlib.lines.Line2D at 0x170ed3cdd00>,\n",
       " <matplotlib.lines.Line2D at 0x170ed3cda00>]"
      ]
     },
     "execution_count": 16,
     "metadata": {},
     "output_type": "execute_result"
    },
    {
     "data": {
      "image/png": "[encoded data removed]",
      "text/plain": [
       "<Figure size 432x288 with 1 Axes>"
      ]
     },
     "metadata": {
      "needs_background": "light"
     },
     "output_type": "display_data"
    }
   ],
   "source": [
    "plt.plot(x)"
   ]
  },
  {
   "cell_type": "code",
   "execution_count": 17,
   "metadata": {},
   "outputs": [
    {
     "name": "stdout",
     "output_type": "stream",
     "text": [
      "        0                                      1\n",
      "0  19.96%        % of Shares Held by All Insider\n",
      "1  42.46%       % of Shares Held by Institutions\n",
      "2  53.04%        % of Float Held by Institutions\n",
      "3    2861  Number of Institutions Holding Shares\n"
     ]
    }
   ],
   "source": [
    "print(data.major_holders)"
   ]
  },
  {
   "cell_type": "code",
   "execution_count": 18,
   "metadata": {},
   "outputs": [
    {
     "data": {
      "text/html": [
       "<div>\n",
       "<style scoped>\n",
       "    .dataframe tbody tr th:only-of-type {\n",
       "        vertical-align: middle;\n",
       "    }\n",
       "\n",
       "    .dataframe tbody tr th {\n",
       "        vertical-align: top;\n",
       "    }\n",
       "\n",
       "    .dataframe thead th {\n",
       "        text-align: right;\n",
       "    }\n",
       "</style>\n",
       "<table border=\"1\" class=\"dataframe\">\n",
       "  <thead>\n",
       "    <tr style=\"text-align: right;\">\n",
       "      <th></th>\n",
       "      <th>Holder</th>\n",
       "      <th>Shares</th>\n",
       "      <th>Date Reported</th>\n",
       "      <th>% Out</th>\n",
       "      <th>Value</th>\n",
       "    </tr>\n",
       "  </thead>\n",
       "  <tbody>\n",
       "    <tr>\n",
       "      <th>0</th>\n",
       "      <td>Vanguard Group, Inc. (The)</td>\n",
       "      <td>61992012</td>\n",
       "      <td>2021-09-29</td>\n",
       "      <td>0.0617</td>\n",
       "      <td>48073565465</td>\n",
       "    </tr>\n",
       "    <tr>\n",
       "      <th>1</th>\n",
       "      <td>Blackrock Inc.</td>\n",
       "      <td>52829488</td>\n",
       "      <td>2021-09-29</td>\n",
       "      <td>0.0526</td>\n",
       "      <td>40968211354</td>\n",
       "    </tr>\n",
       "    <tr>\n",
       "      <th>2</th>\n",
       "      <td>Capital World Investors</td>\n",
       "      <td>37427314</td>\n",
       "      <td>2021-09-29</td>\n",
       "      <td>0.0373</td>\n",
       "      <td>29024133460</td>\n",
       "    </tr>\n",
       "    <tr>\n",
       "      <th>3</th>\n",
       "      <td>State Street Corporation</td>\n",
       "      <td>31230141</td>\n",
       "      <td>2021-09-29</td>\n",
       "      <td>0.0311</td>\n",
       "      <td>24218349742</td>\n",
       "    </tr>\n",
       "    <tr>\n",
       "      <th>4</th>\n",
       "      <td>Baillie Gifford and Company</td>\n",
       "      <td>13853124</td>\n",
       "      <td>2021-09-29</td>\n",
       "      <td>0.0138</td>\n",
       "      <td>10742820599</td>\n",
       "    </tr>\n",
       "    <tr>\n",
       "      <th>5</th>\n",
       "      <td>Geode Capital Management, LLC</td>\n",
       "      <td>13169939</td>\n",
       "      <td>2021-09-29</td>\n",
       "      <td>0.0131</td>\n",
       "      <td>10213024295</td>\n",
       "    </tr>\n",
       "    <tr>\n",
       "      <th>6</th>\n",
       "      <td>Jennison Associates LLC</td>\n",
       "      <td>10630339</td>\n",
       "      <td>2021-09-29</td>\n",
       "      <td>0.0106</td>\n",
       "      <td>8243615287</td>\n",
       "    </tr>\n",
       "    <tr>\n",
       "      <th>7</th>\n",
       "      <td>FMR, LLC</td>\n",
       "      <td>9921292</td>\n",
       "      <td>2021-09-29</td>\n",
       "      <td>0.0099</td>\n",
       "      <td>7693763520</td>\n",
       "    </tr>\n",
       "    <tr>\n",
       "      <th>8</th>\n",
       "      <td>Northern Trust Corporation</td>\n",
       "      <td>8634516</td>\n",
       "      <td>2021-09-29</td>\n",
       "      <td>0.0086</td>\n",
       "      <td>6695894467</td>\n",
       "    </tr>\n",
       "    <tr>\n",
       "      <th>9</th>\n",
       "      <td>Norges Bank Investment Management</td>\n",
       "      <td>7790070</td>\n",
       "      <td>2020-12-30</td>\n",
       "      <td>0.0078</td>\n",
       "      <td>5497218696</td>\n",
       "    </tr>\n",
       "  </tbody>\n",
       "</table>\n",
       "</div>"
      ],
      "text/plain": [
       "                              Holder    Shares Date Reported   % Out  \\\n",
       "0         Vanguard Group, Inc. (The)  61992012    2021-09-29  0.0617   \n",
       "1                     Blackrock Inc.  52829488    2021-09-29  0.0526   \n",
       "2            Capital World Investors  37427314    2021-09-29  0.0373   \n",
       "3           State Street Corporation  31230141    2021-09-29  0.0311   \n",
       "4        Baillie Gifford and Company  13853124    2021-09-29  0.0138   \n",
       "5      Geode Capital Management, LLC  13169939    2021-09-29  0.0131   \n",
       "6            Jennison Associates LLC  10630339    2021-09-29  0.0106   \n",
       "7                           FMR, LLC   9921292    2021-09-29  0.0099   \n",
       "8         Northern Trust Corporation   8634516    2021-09-29  0.0086   \n",
       "9  Norges Bank Investment Management   7790070    2020-12-30  0.0078   \n",
       "\n",
       "         Value  \n",
       "0  48073565465  \n",
       "1  40968211354  \n",
       "2  29024133460  \n",
       "3  24218349742  \n",
       "4  10742820599  \n",
       "5  10213024295  \n",
       "6   8243615287  \n",
       "7   7693763520  \n",
       "8   6695894467  \n",
       "9   5497218696  "
      ]
     },
     "execution_count": 18,
     "metadata": {},
     "output_type": "execute_result"
    }
   ],
   "source": [
    "data.institutional_holders"
   ]
  },
  {
   "cell_type": "code",
   "execution_count": 19,
   "metadata": {},
   "outputs": [
    {
     "data": {
      "text/plain": [
       "{'zip': '78725',\n",
       " 'sector': 'Consumer Cyclical',\n",
       " 'fullTimeEmployees': 70757,\n",
       " 'longBusinessSummary': 'Tesla, Inc. designs, develops, manufactures, leases, and sells electric vehicles, and energy generation and storage systems in the United States, China, and internationally. The company operates in two segments, Automotive, and Energy Generation and Storage. The Automotive segment offers electric vehicles, as well as sells automotive regulatory credits. It provides sedans and sport utility vehicles through direct and used vehicle sales, a network of Tesla Superchargers, and in-app upgrades; and purchase financing and leasing services. This segment is also involved in the provision of non-warranty after-sales vehicle services, sale of used vehicles, retail merchandise, and vehicle insurance, as well as sale of products through its subsidiaries to third party customers; services for electric vehicles through its company-owned service locations, and Tesla mobile service technicians; and vehicle limited warranties and extended service plans. The Energy Generation and Storage segment engages in the design, manufacture, installation, sale, and leasing of solar energy generation and energy storage products, and related services to residential, commercial, and industrial customers and utilities through its website, stores, and galleries, as well as through a network of channel partners. This segment also offers service and repairs to its energy product customers, including under warranty; and various financing options to its solar customers. The company was formerly known as Tesla Motors, Inc. and changed its name to Tesla, Inc. in February 2017. Tesla, Inc. was founded in 2003 and is headquartered in Austin, Texas.',\n",
       " 'city': 'Austin',\n",
       " 'phone': '650-681-5000',\n",
       " 'state': 'TX',\n",
       " 'country': 'United States',\n",
       " 'companyOfficers': [],\n",
       " 'website': 'https://www.tesla.com',\n",
       " 'maxAge': 1,\n",
       " 'address1': '13101 Harold Green Road',\n",
       " 'industry': 'Auto Manufacturers',\n",
       " 'ebitdaMargins': 0.15296,\n",
       " 'profitMargins': 0.07403,\n",
       " 'grossMargins': 0.23107,\n",
       " 'operatingCashflow': 9930999808,\n",
       " 'revenueGrowth': 0.568,\n",
       " 'operatingMargins': 0.095740005,\n",
       " 'ebitda': 7166000128,\n",
       " 'targetLowPrice': 67,\n",
       " 'recommendationKey': 'hold',\n",
       " 'grossProfits': 6630000000,\n",
       " 'freeCashflow': 4581499904,\n",
       " 'targetMedianPrice': 950,\n",
       " 'currentPrice': 1049.61,\n",
       " 'earningsGrowth': 4.333,\n",
       " 'currentRatio': 1.385,\n",
       " 'returnOnAssets': 0.05415,\n",
       " 'numberOfAnalystOpinions': 35,\n",
       " 'targetMeanPrice': 924.95,\n",
       " 'debtToEquity': 35.65,\n",
       " 'returnOnEquity': 0.15641,\n",
       " 'targetHighPrice': 1480,\n",
       " 'totalCash': 16094999552,\n",
       " 'totalDebt': 10158000128,\n",
       " 'totalRevenue': 46848000000,\n",
       " 'totalCashPerShare': 16.027,\n",
       " 'financialCurrency': 'USD',\n",
       " 'revenuePerShare': 48.272,\n",
       " 'quickRatio': 1.002,\n",
       " 'recommendationMean': 2.6,\n",
       " 'exchange': 'NMS',\n",
       " 'shortName': 'Tesla, Inc.',\n",
       " 'longName': 'Tesla, Inc.',\n",
       " 'exchangeTimezoneName': 'America/New_York',\n",
       " 'exchangeTimezoneShortName': 'EST',\n",
       " 'isEsgPopulated': False,\n",
       " 'gmtOffSetMilliseconds': '-18000000',\n",
       " 'quoteType': 'EQUITY',\n",
       " 'symbol': 'TSLA',\n",
       " 'messageBoardId': 'finmb_27444752',\n",
       " 'market': 'us_market',\n",
       " 'annualHoldingsTurnover': None,\n",
       " 'enterpriseToRevenue': 22.404,\n",
       " 'beta3Year': None,\n",
       " 'enterpriseToEbitda': 146.468,\n",
       " '52WeekChange': 0.24280381,\n",
       " 'morningStarRiskRating': None,\n",
       " 'forwardEps': 8.92,\n",
       " 'revenueQuarterlyGrowth': None,\n",
       " 'sharesOutstanding': 1004259968,\n",
       " 'fundInceptionDate': None,\n",
       " 'annualReportExpenseRatio': None,\n",
       " 'totalAssets': None,\n",
       " 'bookValue': 26.945,\n",
       " 'sharesShort': 22471754,\n",
       " 'sharesPercentSharesOut': 0.0224,\n",
       " 'fundFamily': None,\n",
       " 'lastFiscalYearEnd': 1609372800,\n",
       " 'heldPercentInstitutions': 0.42457,\n",
       " 'netIncomeToCommon': 3468000000,\n",
       " 'trailingEps': 3.062,\n",
       " 'lastDividendValue': None,\n",
       " 'SandP52WeekChange': 0.22741783,\n",
       " 'priceToBook': 38.953796,\n",
       " 'heldPercentInsiders': 0.1996,\n",
       " 'nextFiscalYearEnd': 1672444800,\n",
       " 'yield': None,\n",
       " 'mostRecentQuarter': 1632960000,\n",
       " 'shortRatio': 0.96,\n",
       " 'sharesShortPreviousMonthDate': 1638230400,\n",
       " 'floatShares': 809156277,\n",
       " 'beta': 1.977192,\n",
       " 'enterpriseValue': 1049590431744,\n",
       " 'priceHint': 2,\n",
       " 'threeYearAverageReturn': None,\n",
       " 'lastSplitDate': 1598832000,\n",
       " 'lastSplitFactor': '5:1',\n",
       " 'legalType': None,\n",
       " 'lastDividendDate': None,\n",
       " 'morningStarOverallRating': None,\n",
       " 'earningsQuarterlyGrowth': 3.888,\n",
       " 'priceToSalesTrailing12Months': 22.500027,\n",
       " 'dateShortInterest': 1640908800,\n",
       " 'pegRatio': 2.19,\n",
       " 'ytdReturn': None,\n",
       " 'forwardPE': 117.66928,\n",
       " 'lastCapGain': None,\n",
       " 'shortPercentOfFloat': 0.0275,\n",
       " 'sharesShortPriorMonth': 26570674,\n",
       " 'impliedSharesOutstanding': None,\n",
       " 'category': None,\n",
       " 'fiveYearAverageReturn': None,\n",
       " 'previousClose': 1031.56,\n",
       " 'regularMarketOpen': 1019.88,\n",
       " 'twoHundredDayAverage': 803.9579,\n",
       " 'trailingAnnualDividendYield': None,\n",
       " 'payoutRatio': 0,\n",
       " 'volume24Hr': None,\n",
       " 'regularMarketDayHigh': 1051.9999,\n",
       " 'navPrice': None,\n",
       " 'averageDailyVolume10Day': 28998670,\n",
       " 'regularMarketPreviousClose': 1031.56,\n",
       " 'fiftyDayAverage': 1063.882,\n",
       " 'trailingAnnualDividendRate': None,\n",
       " 'open': 1019.88,\n",
       " 'toCurrency': None,\n",
       " 'averageVolume10days': 28998670,\n",
       " 'expireDate': None,\n",
       " 'algorithm': None,\n",
       " 'dividendRate': None,\n",
       " 'exDividendDate': None,\n",
       " 'circulatingSupply': None,\n",
       " 'startDate': None,\n",
       " 'regularMarketDayLow': 1013.3788,\n",
       " 'currency': 'USD',\n",
       " 'trailingPE': 342.78577,\n",
       " 'regularMarketVolume': 24310671,\n",
       " 'lastMarket': None,\n",
       " 'maxSupply': None,\n",
       " 'openInterest': None,\n",
       " 'marketCap': 1054081286144,\n",
       " 'volumeAllCurrencies': None,\n",
       " 'strikePrice': None,\n",
       " 'averageVolume': 28245433,\n",
       " 'dayLow': 1013.3788,\n",
       " 'ask': 1046,\n",
       " 'askSize': 800,\n",
       " 'volume': 24310671,\n",
       " 'fiftyTwoWeekHigh': 1243.49,\n",
       " 'fromCurrency': None,\n",
       " 'fiveYearAvgDividendYield': None,\n",
       " 'fiftyTwoWeekLow': 539.49,\n",
       " 'bid': 1045.03,\n",
       " 'tradeable': False,\n",
       " 'dividendYield': None,\n",
       " 'bidSize': 1200,\n",
       " 'dayHigh': 1051.9999,\n",
       " 'regularMarketPrice': 1049.61,\n",
       " 'preMarketPrice': None,\n",
       " 'logo_url': 'https://logo.clearbit.com/tesla.com',\n",
       " 'trailingPegRatio': 2.6688}"
      ]
     },
     "execution_count": 19,
     "metadata": {},
     "output_type": "execute_result"
    }
   ],
   "source": [
    "data.info"
   ]
  },
  {
   "cell_type": "code",
   "execution_count": 20,
   "metadata": {},
   "outputs": [
    {
     "data": {
      "text/html": [
       "<div>\n",
       "<style scoped>\n",
       "    .dataframe tbody tr th:only-of-type {\n",
       "        vertical-align: middle;\n",
       "    }\n",
       "\n",
       "    .dataframe tbody tr th {\n",
       "        vertical-align: top;\n",
       "    }\n",
       "\n",
       "    .dataframe thead th {\n",
       "        text-align: right;\n",
       "    }\n",
       "</style>\n",
       "<table border=\"1\" class=\"dataframe\">\n",
       "  <thead>\n",
       "    <tr style=\"text-align: right;\">\n",
       "      <th></th>\n",
       "      <th>2020-12-31</th>\n",
       "      <th>2019-12-31</th>\n",
       "      <th>2018-12-31</th>\n",
       "      <th>2017-12-31</th>\n",
       "    </tr>\n",
       "  </thead>\n",
       "  <tbody>\n",
       "    <tr>\n",
       "      <th>Change To Liabilities</th>\n",
       "      <td>2.423000e+09</td>\n",
       "      <td>1.447000e+09</td>\n",
       "      <td>2.203000e+09</td>\n",
       "      <td>8.570000e+08</td>\n",
       "    </tr>\n",
       "    <tr>\n",
       "      <th>Total Cashflows From Investing Activities</th>\n",
       "      <td>-3.132000e+09</td>\n",
       "      <td>-1.436000e+09</td>\n",
       "      <td>-2.337000e+09</td>\n",
       "      <td>-4.196000e+09</td>\n",
       "    </tr>\n",
       "    <tr>\n",
       "      <th>Net Borrowings</th>\n",
       "      <td>-2.488000e+09</td>\n",
       "      <td>7.980000e+08</td>\n",
       "      <td>8.900000e+07</td>\n",
       "      <td>3.385000e+09</td>\n",
       "    </tr>\n",
       "    <tr>\n",
       "      <th>Total Cash From Financing Activities</th>\n",
       "      <td>9.973000e+09</td>\n",
       "      <td>1.529000e+09</td>\n",
       "      <td>5.740000e+08</td>\n",
       "      <td>4.415000e+09</td>\n",
       "    </tr>\n",
       "    <tr>\n",
       "      <th>Change To Operating Activities</th>\n",
       "      <td>-1.165000e+09</td>\n",
       "      <td>-1.000000e+09</td>\n",
       "      <td>-6.250000e+08</td>\n",
       "      <td>-1.150000e+09</td>\n",
       "    </tr>\n",
       "    <tr>\n",
       "      <th>Issuance Of Stock</th>\n",
       "      <td>1.268600e+10</td>\n",
       "      <td>1.111000e+09</td>\n",
       "      <td>2.960000e+08</td>\n",
       "      <td>6.590000e+08</td>\n",
       "    </tr>\n",
       "    <tr>\n",
       "      <th>Net Income</th>\n",
       "      <td>7.210000e+08</td>\n",
       "      <td>-8.620000e+08</td>\n",
       "      <td>-9.760000e+08</td>\n",
       "      <td>-1.962000e+09</td>\n",
       "    </tr>\n",
       "    <tr>\n",
       "      <th>Change In Cash</th>\n",
       "      <td>1.311800e+10</td>\n",
       "      <td>2.506000e+09</td>\n",
       "      <td>3.120000e+08</td>\n",
       "      <td>1.980000e+08</td>\n",
       "    </tr>\n",
       "    <tr>\n",
       "      <th>Effect Of Exchange Rate</th>\n",
       "      <td>3.340000e+08</td>\n",
       "      <td>8.000000e+06</td>\n",
       "      <td>-2.300000e+07</td>\n",
       "      <td>4.000000e+07</td>\n",
       "    </tr>\n",
       "    <tr>\n",
       "      <th>Total Cash From Operating Activities</th>\n",
       "      <td>5.943000e+09</td>\n",
       "      <td>2.405000e+09</td>\n",
       "      <td>2.098000e+09</td>\n",
       "      <td>-6.100000e+07</td>\n",
       "    </tr>\n",
       "    <tr>\n",
       "      <th>Depreciation</th>\n",
       "      <td>2.322000e+09</td>\n",
       "      <td>2.092000e+09</td>\n",
       "      <td>1.888000e+09</td>\n",
       "      <td>1.636000e+09</td>\n",
       "    </tr>\n",
       "    <tr>\n",
       "      <th>Other Cashflows From Investing Activities</th>\n",
       "      <td>1.230000e+08</td>\n",
       "      <td>4.600000e+07</td>\n",
       "      <td>4.600000e+07</td>\n",
       "      <td>4.600000e+07</td>\n",
       "    </tr>\n",
       "    <tr>\n",
       "      <th>Change To Inventory</th>\n",
       "      <td>-4.220000e+08</td>\n",
       "      <td>-4.290000e+08</td>\n",
       "      <td>-1.023000e+09</td>\n",
       "      <td>-1.790000e+08</td>\n",
       "    </tr>\n",
       "    <tr>\n",
       "      <th>Change To Account Receivables</th>\n",
       "      <td>-6.520000e+08</td>\n",
       "      <td>-3.670000e+08</td>\n",
       "      <td>-4.970000e+08</td>\n",
       "      <td>-2.500000e+07</td>\n",
       "    </tr>\n",
       "    <tr>\n",
       "      <th>Other Cashflows From Financing Activities</th>\n",
       "      <td>-2.250000e+08</td>\n",
       "      <td>-3.800000e+08</td>\n",
       "      <td>1.890000e+08</td>\n",
       "      <td>3.710000e+08</td>\n",
       "    </tr>\n",
       "    <tr>\n",
       "      <th>Change To Netincome</th>\n",
       "      <td>2.536000e+09</td>\n",
       "      <td>1.336000e+09</td>\n",
       "      <td>9.690000e+08</td>\n",
       "      <td>6.710000e+08</td>\n",
       "    </tr>\n",
       "    <tr>\n",
       "      <th>Capital Expenditures</th>\n",
       "      <td>-3.232000e+09</td>\n",
       "      <td>-1.432000e+09</td>\n",
       "      <td>-2.319000e+09</td>\n",
       "      <td>-4.081000e+09</td>\n",
       "    </tr>\n",
       "  </tbody>\n",
       "</table>\n",
       "</div>"
      ],
      "text/plain": [
       "                                             2020-12-31    2019-12-31  \\\n",
       "Change To Liabilities                      2.423000e+09  1.447000e+09   \n",
       "Total Cashflows From Investing Activities -3.132000e+09 -1.436000e+09   \n",
       "Net Borrowings                            -2.488000e+09  7.980000e+08   \n",
       "Total Cash From Financing Activities       9.973000e+09  1.529000e+09   \n",
       "Change To Operating Activities            -1.165000e+09 -1.000000e+09   \n",
       "Issuance Of Stock                          1.268600e+10  1.111000e+09   \n",
       "Net Income                                 7.210000e+08 -8.620000e+08   \n",
       "Change In Cash                             1.311800e+10  2.506000e+09   \n",
       "Effect Of Exchange Rate                    3.340000e+08  8.000000e+06   \n",
       "Total Cash From Operating Activities       5.943000e+09  2.405000e+09   \n",
       "Depreciation                               2.322000e+09  2.092000e+09   \n",
       "Other Cashflows From Investing Activities  1.230000e+08  4.600000e+07   \n",
       "Change To Inventory                       -4.220000e+08 -4.290000e+08   \n",
       "Change To Account Receivables             -6.520000e+08 -3.670000e+08   \n",
       "Other Cashflows From Financing Activities -2.250000e+08 -3.800000e+08   \n",
       "Change To Netincome                        2.536000e+09  1.336000e+09   \n",
       "Capital Expenditures                      -3.232000e+09 -1.432000e+09   \n",
       "\n",
       "                                             2018-12-31    2017-12-31  \n",
       "Change To Liabilities                      2.203000e+09  8.570000e+08  \n",
       "Total Cashflows From Investing Activities -2.337000e+09 -4.196000e+09  \n",
       "Net Borrowings                             8.900000e+07  3.385000e+09  \n",
       "Total Cash From Financing Activities       5.740000e+08  4.415000e+09  \n",
       "Change To Operating Activities            -6.250000e+08 -1.150000e+09  \n",
       "Issuance Of Stock                          2.960000e+08  6.590000e+08  \n",
       "Net Income                                -9.760000e+08 -1.962000e+09  \n",
       "Change In Cash                             3.120000e+08  1.980000e+08  \n",
       "Effect Of Exchange Rate                   -2.300000e+07  4.000000e+07  \n",
       "Total Cash From Operating Activities       2.098000e+09 -6.100000e+07  \n",
       "Depreciation                               1.888000e+09  1.636000e+09  \n",
       "Other Cashflows From Investing Activities  4.600000e+07  4.600000e+07  \n",
       "Change To Inventory                       -1.023000e+09 -1.790000e+08  \n",
       "Change To Account Receivables             -4.970000e+08 -2.500000e+07  \n",
       "Other Cashflows From Financing Activities  1.890000e+08  3.710000e+08  \n",
       "Change To Netincome                        9.690000e+08  6.710000e+08  \n",
       "Capital Expenditures                      -2.319000e+09 -4.081000e+09  "
      ]
     },
     "execution_count": 20,
     "metadata": {},
     "output_type": "execute_result"
    }
   ],
   "source": [
    "data.cashflow"
   ]
  },
  {
   "cell_type": "code",
   "execution_count": 21,
   "metadata": {},
   "outputs": [],
   "source": [
    "data_cencosud = yf.Ticker('CENCOSUD.SN')"
   ]
  },
  {
   "cell_type": "code",
   "execution_count": 22,
   "metadata": {},
   "outputs": [
    {
     "data": {
      "text/html": [
       "<div>\n",
       "<style scoped>\n",
       "    .dataframe tbody tr th:only-of-type {\n",
       "        vertical-align: middle;\n",
       "    }\n",
       "\n",
       "    .dataframe tbody tr th {\n",
       "        vertical-align: top;\n",
       "    }\n",
       "\n",
       "    .dataframe thead th {\n",
       "        text-align: right;\n",
       "    }\n",
       "</style>\n",
       "<table border=\"1\" class=\"dataframe\">\n",
       "  <thead>\n",
       "    <tr style=\"text-align: right;\">\n",
       "      <th></th>\n",
       "      <th>2020-12-31</th>\n",
       "      <th>2019-12-31</th>\n",
       "      <th>2018-12-31</th>\n",
       "      <th>2017-12-31</th>\n",
       "    </tr>\n",
       "  </thead>\n",
       "  <tbody>\n",
       "    <tr>\n",
       "      <th>Change To Liabilities</th>\n",
       "      <td>0.000000e+00</td>\n",
       "      <td>0.000000e+00</td>\n",
       "      <td>0.000000e+00</td>\n",
       "      <td>0.000000e+00</td>\n",
       "    </tr>\n",
       "    <tr>\n",
       "      <th>Total Cashflows From Investing Activities</th>\n",
       "      <td>-3.514789e+11</td>\n",
       "      <td>5.706851e+11</td>\n",
       "      <td>-2.574715e+11</td>\n",
       "      <td>-1.008979e+11</td>\n",
       "    </tr>\n",
       "    <tr>\n",
       "      <th>Net Borrowings</th>\n",
       "      <td>-9.140228e+11</td>\n",
       "      <td>-5.109452e+11</td>\n",
       "      <td>9.126356e+10</td>\n",
       "      <td>7.829537e+10</td>\n",
       "    </tr>\n",
       "    <tr>\n",
       "      <th>Total Cash From Financing Activities</th>\n",
       "      <td>-1.161169e+12</td>\n",
       "      <td>-6.074145e+11</td>\n",
       "      <td>-2.155145e+11</td>\n",
       "      <td>-3.081732e+11</td>\n",
       "    </tr>\n",
       "    <tr>\n",
       "      <th>Net Income</th>\n",
       "      <td>2.293061e+10</td>\n",
       "      <td>1.141096e+11</td>\n",
       "      <td>1.912852e+11</td>\n",
       "      <td>4.399887e+11</td>\n",
       "    </tr>\n",
       "    <tr>\n",
       "      <th>Change In Cash</th>\n",
       "      <td>-3.856316e+11</td>\n",
       "      <td>7.467396e+11</td>\n",
       "      <td>6.683716e+10</td>\n",
       "      <td>-2.123168e+10</td>\n",
       "    </tr>\n",
       "    <tr>\n",
       "      <th>Effect Of Exchange Rate</th>\n",
       "      <td>-2.025969e+10</td>\n",
       "      <td>1.922419e+10</td>\n",
       "      <td>-1.825501e+09</td>\n",
       "      <td>-2.546029e+10</td>\n",
       "    </tr>\n",
       "    <tr>\n",
       "      <th>Total Cash From Operating Activities</th>\n",
       "      <td>1.147276e+12</td>\n",
       "      <td>7.642448e+11</td>\n",
       "      <td>5.416487e+11</td>\n",
       "      <td>4.132997e+11</td>\n",
       "    </tr>\n",
       "    <tr>\n",
       "      <th>Depreciation</th>\n",
       "      <td>3.427662e+11</td>\n",
       "      <td>2.855472e+11</td>\n",
       "      <td>1.773089e+11</td>\n",
       "      <td>2.099207e+11</td>\n",
       "    </tr>\n",
       "    <tr>\n",
       "      <th>Other Cashflows From Investing Activities</th>\n",
       "      <td>-2.944102e+11</td>\n",
       "      <td>6.534630e+11</td>\n",
       "      <td>-6.290608e+10</td>\n",
       "      <td>1.039733e+11</td>\n",
       "    </tr>\n",
       "    <tr>\n",
       "      <th>Dividends Paid</th>\n",
       "      <td>-9.136014e+10</td>\n",
       "      <td>-2.863129e+10</td>\n",
       "      <td>-7.158207e+10</td>\n",
       "      <td>-1.431391e+11</td>\n",
       "    </tr>\n",
       "    <tr>\n",
       "      <th>Other Cashflows From Financing Activities</th>\n",
       "      <td>-1.557865e+11</td>\n",
       "      <td>-5.803236e+10</td>\n",
       "      <td>-2.351960e+11</td>\n",
       "      <td>-2.439946e+11</td>\n",
       "    </tr>\n",
       "    <tr>\n",
       "      <th>Change To Netincome</th>\n",
       "      <td>7.507431e+11</td>\n",
       "      <td>3.323907e+11</td>\n",
       "      <td>1.357796e+11</td>\n",
       "      <td>-2.687433e+11</td>\n",
       "    </tr>\n",
       "    <tr>\n",
       "      <th>Capital Expenditures</th>\n",
       "      <td>-4.977471e+10</td>\n",
       "      <td>-1.529842e+11</td>\n",
       "      <td>-1.742567e+11</td>\n",
       "      <td>-1.917982e+11</td>\n",
       "    </tr>\n",
       "    <tr>\n",
       "      <th>Repurchase Of Stock</th>\n",
       "      <td>NaN</td>\n",
       "      <td>-9.805715e+09</td>\n",
       "      <td>-9.805715e+09</td>\n",
       "      <td>-9.805715e+09</td>\n",
       "    </tr>\n",
       "    <tr>\n",
       "      <th>Issuance Of Stock</th>\n",
       "      <td>NaN</td>\n",
       "      <td>NaN</td>\n",
       "      <td>NaN</td>\n",
       "      <td>6.651750e+08</td>\n",
       "    </tr>\n",
       "  </tbody>\n",
       "</table>\n",
       "</div>"
      ],
      "text/plain": [
       "                                             2020-12-31    2019-12-31  \\\n",
       "Change To Liabilities                      0.000000e+00  0.000000e+00   \n",
       "Total Cashflows From Investing Activities -3.514789e+11  5.706851e+11   \n",
       "Net Borrowings                            -9.140228e+11 -5.109452e+11   \n",
       "Total Cash From Financing Activities      -1.161169e+12 -6.074145e+11   \n",
       "Net Income                                 2.293061e+10  1.141096e+11   \n",
       "Change In Cash                            -3.856316e+11  7.467396e+11   \n",
       "Effect Of Exchange Rate                   -2.025969e+10  1.922419e+10   \n",
       "Total Cash From Operating Activities       1.147276e+12  7.642448e+11   \n",
       "Depreciation                               3.427662e+11  2.855472e+11   \n",
       "Other Cashflows From Investing Activities -2.944102e+11  6.534630e+11   \n",
       "Dividends Paid                            -9.136014e+10 -2.863129e+10   \n",
       "Other Cashflows From Financing Activities -1.557865e+11 -5.803236e+10   \n",
       "Change To Netincome                        7.507431e+11  3.323907e+11   \n",
       "Capital Expenditures                      -4.977471e+10 -1.529842e+11   \n",
       "Repurchase Of Stock                                 NaN -9.805715e+09   \n",
       "Issuance Of Stock                                   NaN           NaN   \n",
       "\n",
       "                                             2018-12-31    2017-12-31  \n",
       "Change To Liabilities                      0.000000e+00  0.000000e+00  \n",
       "Total Cashflows From Investing Activities -2.574715e+11 -1.008979e+11  \n",
       "Net Borrowings                             9.126356e+10  7.829537e+10  \n",
       "Total Cash From Financing Activities      -2.155145e+11 -3.081732e+11  \n",
       "Net Income                                 1.912852e+11  4.399887e+11  \n",
       "Change In Cash                             6.683716e+10 -2.123168e+10  \n",
       "Effect Of Exchange Rate                   -1.825501e+09 -2.546029e+10  \n",
       "Total Cash From Operating Activities       5.416487e+11  4.132997e+11  \n",
       "Depreciation                               1.773089e+11  2.099207e+11  \n",
       "Other Cashflows From Investing Activities -6.290608e+10  1.039733e+11  \n",
       "Dividends Paid                            -7.158207e+10 -1.431391e+11  \n",
       "Other Cashflows From Financing Activities -2.351960e+11 -2.439946e+11  \n",
       "Change To Netincome                        1.357796e+11 -2.687433e+11  \n",
       "Capital Expenditures                      -1.742567e+11 -1.917982e+11  \n",
       "Repurchase Of Stock                       -9.805715e+09 -9.805715e+09  \n",
       "Issuance Of Stock                                   NaN  6.651750e+08  "
      ]
     },
     "execution_count": 22,
     "metadata": {},
     "output_type": "execute_result"
    }
   ],
   "source": [
    "data_cencosud.cashflow"
   ]
  },
  {
   "cell_type": "code",
   "execution_count": 23,
   "metadata": {},
   "outputs": [
    {
     "data": {
      "text/plain": [
       "<AxesSubplot:xlabel='Year'>"
      ]
     },
     "execution_count": 23,
     "metadata": {},
     "output_type": "execute_result"
    },
    {
     "data": {
      "image/png": "[encoded data removed]",
      "text/plain": [
       "<Figure size 432x288 with 1 Axes>"
      ]
     },
     "metadata": {
      "needs_background": "light"
     },
     "output_type": "display_data"
    }
   ],
   "source": [
    "data_cencosud.earnings.plot(kind='bar')"
   ]
  },
  {
   "cell_type": "code",
   "execution_count": 24,
   "metadata": {},
   "outputs": [],
   "source": [
    "x = data_cencosud.institutional_holders"
   ]
  },
  {
   "cell_type": "code",
   "execution_count": 25,
   "metadata": {},
   "outputs": [
    {
     "data": {
      "text/html": [
       "<div>\n",
       "<style scoped>\n",
       "    .dataframe tbody tr th:only-of-type {\n",
       "        vertical-align: middle;\n",
       "    }\n",
       "\n",
       "    .dataframe tbody tr th {\n",
       "        vertical-align: top;\n",
       "    }\n",
       "\n",
       "    .dataframe thead th {\n",
       "        text-align: right;\n",
       "    }\n",
       "</style>\n",
       "<table border=\"1\" class=\"dataframe\">\n",
       "  <thead>\n",
       "    <tr style=\"text-align: right;\">\n",
       "      <th></th>\n",
       "      <th>0</th>\n",
       "      <th>1</th>\n",
       "    </tr>\n",
       "  </thead>\n",
       "  <tbody>\n",
       "    <tr>\n",
       "      <th>0</th>\n",
       "      <td>54.22%</td>\n",
       "      <td>% of Shares Held by All Insider</td>\n",
       "    </tr>\n",
       "    <tr>\n",
       "      <th>1</th>\n",
       "      <td>37.59%</td>\n",
       "      <td>% of Shares Held by Institutions</td>\n",
       "    </tr>\n",
       "    <tr>\n",
       "      <th>2</th>\n",
       "      <td>82.12%</td>\n",
       "      <td>% of Float Held by Institutions</td>\n",
       "    </tr>\n",
       "    <tr>\n",
       "      <th>3</th>\n",
       "      <td>161</td>\n",
       "      <td>Number of Institutions Holding Shares</td>\n",
       "    </tr>\n",
       "  </tbody>\n",
       "</table>\n",
       "</div>"
      ],
      "text/plain": [
       "        0                                      1\n",
       "0  54.22%        % of Shares Held by All Insider\n",
       "1  37.59%       % of Shares Held by Institutions\n",
       "2  82.12%        % of Float Held by Institutions\n",
       "3     161  Number of Institutions Holding Shares"
      ]
     },
     "execution_count": 25,
     "metadata": {},
     "output_type": "execute_result"
    }
   ],
   "source": [
    "data_cencosud.major_holders"
   ]
  },
  {
   "cell_type": "code",
   "execution_count": 26,
   "metadata": {},
   "outputs": [
    {
     "data": {
      "text/html": [
       "<div>\n",
       "<style scoped>\n",
       "    .dataframe tbody tr th:only-of-type {\n",
       "        vertical-align: middle;\n",
       "    }\n",
       "\n",
       "    .dataframe tbody tr th {\n",
       "        vertical-align: top;\n",
       "    }\n",
       "\n",
       "    .dataframe thead th {\n",
       "        text-align: right;\n",
       "    }\n",
       "</style>\n",
       "<table border=\"1\" class=\"dataframe\">\n",
       "  <thead>\n",
       "    <tr style=\"text-align: right;\">\n",
       "      <th></th>\n",
       "      <th>Holder</th>\n",
       "      <th>Shares</th>\n",
       "      <th>Date Reported</th>\n",
       "      <th>% Out</th>\n",
       "      <th>Value</th>\n",
       "    </tr>\n",
       "  </thead>\n",
       "  <tbody>\n",
       "    <tr>\n",
       "      <th>0</th>\n",
       "      <td>Vanguard International Stock Index-Emerging Ma...</td>\n",
       "      <td>19001995</td>\n",
       "      <td>2021-10-30</td>\n",
       "      <td>0.0066</td>\n",
       "      <td>22612374050</td>\n",
       "    </tr>\n",
       "    <tr>\n",
       "      <th>1</th>\n",
       "      <td>Vanguard International Stock Index-Total Intl ...</td>\n",
       "      <td>18146497</td>\n",
       "      <td>2021-10-30</td>\n",
       "      <td>0.0063</td>\n",
       "      <td>21594331430</td>\n",
       "    </tr>\n",
       "    <tr>\n",
       "      <th>2</th>\n",
       "      <td>iShares Core MSCI Emerging Markets ETF</td>\n",
       "      <td>12358010</td>\n",
       "      <td>2021-10-30</td>\n",
       "      <td>0.0043</td>\n",
       "      <td>14706031900</td>\n",
       "    </tr>\n",
       "    <tr>\n",
       "      <th>3</th>\n",
       "      <td>iShares MSCI Chile ETF</td>\n",
       "      <td>10926804</td>\n",
       "      <td>2021-10-30</td>\n",
       "      <td>0.0038</td>\n",
       "      <td>13002896760</td>\n",
       "    </tr>\n",
       "  </tbody>\n",
       "</table>\n",
       "</div>"
      ],
      "text/plain": [
       "                                              Holder    Shares Date Reported  \\\n",
       "0  Vanguard International Stock Index-Emerging Ma...  19001995    2021-10-30   \n",
       "1  Vanguard International Stock Index-Total Intl ...  18146497    2021-10-30   \n",
       "2             iShares Core MSCI Emerging Markets ETF  12358010    2021-10-30   \n",
       "3                             iShares MSCI Chile ETF  10926804    2021-10-30   \n",
       "\n",
       "    % Out        Value  \n",
       "0  0.0066  22612374050  \n",
       "1  0.0063  21594331430  \n",
       "2  0.0043  14706031900  \n",
       "3  0.0038  13002896760  "
      ]
     },
     "execution_count": 26,
     "metadata": {},
     "output_type": "execute_result"
    }
   ],
   "source": [
    "x[x['Shares']>10000000]"
   ]
  },
  {
   "cell_type": "code",
   "execution_count": 27,
   "metadata": {},
   "outputs": [
    {
     "name": "stdout",
     "output_type": "stream",
     "text": [
      "                                    Firm        To Grade From Grade Action\n",
      "Date                                                                      \n",
      "2021-06-14 13:55:22    Canaccord Genuity             Buy              main\n",
      "2021-06-29 11:29:11                  UBS         Neutral              main\n",
      "2021-07-07 14:52:52            JP Morgan     Underweight              main\n",
      "2021-07-27 10:54:46               Mizuho             Buy              main\n",
      "2021-07-27 11:48:23          Wells Fargo    Equal-Weight              main\n",
      "2021-07-27 11:51:22          RBC Capital  Sector Perform              main\n",
      "2021-07-27 13:38:59        Goldman Sachs             Buy              main\n",
      "2021-07-27 14:27:49    Canaccord Genuity             Buy              main\n",
      "2021-07-29 10:14:50              DZ Bank             Buy       Sell     up\n",
      "2021-08-02 15:55:02       KGI Securities      Outperform              init\n",
      "2021-08-09 09:17:02            Jefferies             Buy       Hold     up\n",
      "2021-09-23 12:18:35      Tudor Pickering            Sell              init\n",
      "2021-10-04 10:44:57          RBC Capital  Sector Perform              main\n",
      "2021-10-08 13:28:13    Canaccord Genuity             Buy              main\n",
      "2021-10-14 10:45:16             Barclays     Underweight              main\n",
      "2021-10-15 13:26:02            Jefferies             Buy              main\n",
      "2021-10-21 10:21:59              Wedbush      Outperform              main\n",
      "2021-10-21 11:06:18        Credit Suisse         Neutral              main\n",
      "2021-10-21 11:07:12          Wells Fargo    Equal-Weight              main\n",
      "2021-10-21 11:58:01          RBC Capital  Sector Perform              main\n",
      "2021-10-21 12:42:25               Mizuho             Buy              main\n",
      "2021-10-21 14:23:55         Roth Capital         Neutral              main\n",
      "2021-10-21 14:33:04    Canaccord Genuity             Buy              main\n",
      "2021-10-27 12:15:11        Goldman Sachs             Buy              main\n",
      "2021-10-28 14:15:36        Piper Sandler      Overweight              main\n",
      "2021-11-08 12:27:21            Jefferies             Buy              main\n",
      "2021-11-19 11:55:04              Wedbush      Outperform              main\n",
      "2021-12-07 13:03:07                  UBS         Neutral              main\n",
      "2021-12-08 14:08:29  New Street Research             Buy              main\n",
      "2021-12-20 12:18:04           Guggenheim         Neutral              init\n",
      "2021-12-28 12:49:51       Argus Research             Buy              main\n",
      "2021-12-31 15:16:10        Deutsche Bank             Buy              main\n",
      "2022-01-03 14:17:31          RBC Capital  Sector Perform              main\n",
      "2022-01-03 16:33:41            JP Morgan     Underweight              main\n",
      "2022-01-03 17:54:18        Deutsche Bank             Buy              main\n",
      "2022-01-05 14:03:16               Mizuho             Buy              main\n",
      "2022-01-05 14:17:09             Barclays     Underweight              main\n"
     ]
    }
   ],
   "source": [
    "x = data.recommendations\n",
    "x = x[x.index > '2021-06-01']\n",
    "print(x)"
   ]
  },
  {
   "cell_type": "markdown",
   "metadata": {},
   "source": [
    "# create a function that will take a ticker as its parameter, and output the ROE value for that ticker."
   ]
  },
  {
   "cell_type": "code",
   "execution_count": 28,
   "metadata": {},
   "outputs": [],
   "source": [
    "def ROE(ticker):\n",
    "    data = yf.Ticker(ticker)\n",
    "    roe = data.info['returnOnEquity']\n",
    "    name = data.info['shortName']\n",
    "    print(name, ':', roe)"
   ]
  },
  {
   "cell_type": "code",
   "execution_count": 30,
   "metadata": {},
   "outputs": [
    {
     "name": "stdout",
     "output_type": "stream",
     "text": [
      "Apple Inc. : 1.47443\n",
      "CENCOSUD SA : 0.11033\n"
     ]
    }
   ],
   "source": [
    "ROE('AAPL')\n",
    "#ROE('TSLA')\n",
    "ROE('CENCOSUD.SN')"
   ]
  },
  {
   "cell_type": "code",
   "execution_count": 31,
   "metadata": {},
   "outputs": [
    {
     "name": "stdout",
     "output_type": "stream",
     "text": [
      "                   Open         High          Low        Close    Volume  \\\n",
      "Date                                                                       \n",
      "2021-07-15   658.390015   666.140015   637.880005   650.599976  20209600   \n",
      "2021-07-16   654.679993   656.700012   642.200012   644.219971  16371000   \n",
      "2021-07-19   629.890015   647.200012   621.289978   646.219971  21297100   \n",
      "2021-07-20   651.989990   662.390015   640.500000   660.500000  15487100   \n",
      "2021-07-21   659.609985   664.859985   650.289978   655.289978  13953300   \n",
      "...                 ...          ...          ...          ...       ...   \n",
      "2022-01-10  1000.000000  1059.099976   980.000000  1058.119995  30605000   \n",
      "2022-01-11  1053.670044  1075.849976  1038.819946  1064.400024  22021100   \n",
      "2022-01-12  1078.849976  1114.839966  1072.589966  1106.219971  27913000   \n",
      "2022-01-13  1109.069946  1115.599976  1026.540039  1031.560059  32403300   \n",
      "2022-01-14  1019.880005  1052.000000  1013.380005  1049.609985  24246600   \n",
      "\n",
      "            Dividends  Stock Splits  \n",
      "Date                                 \n",
      "2021-07-15          0             0  \n",
      "2021-07-16          0             0  \n",
      "2021-07-19          0             0  \n",
      "2021-07-20          0             0  \n",
      "2021-07-21          0             0  \n",
      "...               ...           ...  \n",
      "2022-01-10          0             0  \n",
      "2022-01-11          0             0  \n",
      "2022-01-12          0             0  \n",
      "2022-01-13          0             0  \n",
      "2022-01-14          0             0  \n",
      "\n",
      "[129 rows x 7 columns]\n"
     ]
    }
   ],
   "source": [
    "print(data.history(period='6mo'))\n",
    "# Valid periods: 1d, 5d, 1mo, 3mo, 6mo, 1y, 2y, 5y, 10y, ytd, max. "
   ]
  },
  {
   "cell_type": "code",
   "execution_count": 32,
   "metadata": {},
   "outputs": [
    {
     "data": {
      "text/html": [
       "<div>\n",
       "<style scoped>\n",
       "    .dataframe tbody tr th:only-of-type {\n",
       "        vertical-align: middle;\n",
       "    }\n",
       "\n",
       "    .dataframe tbody tr th {\n",
       "        vertical-align: top;\n",
       "    }\n",
       "\n",
       "    .dataframe thead th {\n",
       "        text-align: right;\n",
       "    }\n",
       "</style>\n",
       "<table border=\"1\" class=\"dataframe\">\n",
       "  <thead>\n",
       "    <tr style=\"text-align: right;\">\n",
       "      <th></th>\n",
       "      <th>Open</th>\n",
       "      <th>High</th>\n",
       "      <th>Low</th>\n",
       "      <th>Close</th>\n",
       "      <th>Volume</th>\n",
       "      <th>Dividends</th>\n",
       "      <th>Stock Splits</th>\n",
       "    </tr>\n",
       "    <tr>\n",
       "      <th>Date</th>\n",
       "      <th></th>\n",
       "      <th></th>\n",
       "      <th></th>\n",
       "      <th></th>\n",
       "      <th></th>\n",
       "      <th></th>\n",
       "      <th></th>\n",
       "    </tr>\n",
       "  </thead>\n",
       "  <tbody>\n",
       "    <tr>\n",
       "      <th>2021-01-04</th>\n",
       "      <td>719.460022</td>\n",
       "      <td>744.489990</td>\n",
       "      <td>717.190002</td>\n",
       "      <td>729.770020</td>\n",
       "      <td>48638200</td>\n",
       "      <td>0</td>\n",
       "      <td>0</td>\n",
       "    </tr>\n",
       "    <tr>\n",
       "      <th>2021-01-05</th>\n",
       "      <td>723.659973</td>\n",
       "      <td>740.840027</td>\n",
       "      <td>719.200012</td>\n",
       "      <td>735.109985</td>\n",
       "      <td>32245200</td>\n",
       "      <td>0</td>\n",
       "      <td>0</td>\n",
       "    </tr>\n",
       "    <tr>\n",
       "      <th>2021-01-06</th>\n",
       "      <td>758.489990</td>\n",
       "      <td>774.000000</td>\n",
       "      <td>749.099976</td>\n",
       "      <td>755.979980</td>\n",
       "      <td>44700000</td>\n",
       "      <td>0</td>\n",
       "      <td>0</td>\n",
       "    </tr>\n",
       "    <tr>\n",
       "      <th>2021-01-07</th>\n",
       "      <td>777.630005</td>\n",
       "      <td>816.989990</td>\n",
       "      <td>775.200012</td>\n",
       "      <td>816.039978</td>\n",
       "      <td>51498900</td>\n",
       "      <td>0</td>\n",
       "      <td>0</td>\n",
       "    </tr>\n",
       "    <tr>\n",
       "      <th>2021-01-08</th>\n",
       "      <td>856.000000</td>\n",
       "      <td>884.489990</td>\n",
       "      <td>838.390015</td>\n",
       "      <td>880.020020</td>\n",
       "      <td>75055500</td>\n",
       "      <td>0</td>\n",
       "      <td>0</td>\n",
       "    </tr>\n",
       "    <tr>\n",
       "      <th>2021-01-11</th>\n",
       "      <td>849.400024</td>\n",
       "      <td>854.429993</td>\n",
       "      <td>803.619995</td>\n",
       "      <td>811.190002</td>\n",
       "      <td>59301600</td>\n",
       "      <td>0</td>\n",
       "      <td>0</td>\n",
       "    </tr>\n",
       "    <tr>\n",
       "      <th>2021-01-12</th>\n",
       "      <td>831.000000</td>\n",
       "      <td>868.000000</td>\n",
       "      <td>827.340027</td>\n",
       "      <td>849.440002</td>\n",
       "      <td>46270700</td>\n",
       "      <td>0</td>\n",
       "      <td>0</td>\n",
       "    </tr>\n",
       "    <tr>\n",
       "      <th>2021-01-13</th>\n",
       "      <td>852.760010</td>\n",
       "      <td>860.469971</td>\n",
       "      <td>832.000000</td>\n",
       "      <td>854.409973</td>\n",
       "      <td>33312500</td>\n",
       "      <td>0</td>\n",
       "      <td>0</td>\n",
       "    </tr>\n",
       "    <tr>\n",
       "      <th>2021-01-14</th>\n",
       "      <td>843.390015</td>\n",
       "      <td>863.000000</td>\n",
       "      <td>838.750000</td>\n",
       "      <td>845.000000</td>\n",
       "      <td>31266300</td>\n",
       "      <td>0</td>\n",
       "      <td>0</td>\n",
       "    </tr>\n",
       "    <tr>\n",
       "      <th>2021-01-15</th>\n",
       "      <td>852.000000</td>\n",
       "      <td>859.900024</td>\n",
       "      <td>819.099976</td>\n",
       "      <td>826.159973</td>\n",
       "      <td>38777600</td>\n",
       "      <td>0</td>\n",
       "      <td>0</td>\n",
       "    </tr>\n",
       "    <tr>\n",
       "      <th>2021-01-19</th>\n",
       "      <td>837.799988</td>\n",
       "      <td>850.000000</td>\n",
       "      <td>833.000000</td>\n",
       "      <td>844.549988</td>\n",
       "      <td>25367000</td>\n",
       "      <td>0</td>\n",
       "      <td>0</td>\n",
       "    </tr>\n",
       "    <tr>\n",
       "      <th>2021-01-20</th>\n",
       "      <td>858.739990</td>\n",
       "      <td>859.500000</td>\n",
       "      <td>837.280029</td>\n",
       "      <td>850.450012</td>\n",
       "      <td>25665900</td>\n",
       "      <td>0</td>\n",
       "      <td>0</td>\n",
       "    </tr>\n",
       "    <tr>\n",
       "      <th>2021-01-21</th>\n",
       "      <td>855.000000</td>\n",
       "      <td>855.719971</td>\n",
       "      <td>841.419983</td>\n",
       "      <td>844.989990</td>\n",
       "      <td>20521100</td>\n",
       "      <td>0</td>\n",
       "      <td>0</td>\n",
       "    </tr>\n",
       "    <tr>\n",
       "      <th>2021-01-22</th>\n",
       "      <td>834.309998</td>\n",
       "      <td>848.000000</td>\n",
       "      <td>828.619995</td>\n",
       "      <td>846.640015</td>\n",
       "      <td>20066500</td>\n",
       "      <td>0</td>\n",
       "      <td>0</td>\n",
       "    </tr>\n",
       "    <tr>\n",
       "      <th>2021-01-25</th>\n",
       "      <td>855.000000</td>\n",
       "      <td>900.400024</td>\n",
       "      <td>838.820007</td>\n",
       "      <td>880.799988</td>\n",
       "      <td>41173400</td>\n",
       "      <td>0</td>\n",
       "      <td>0</td>\n",
       "    </tr>\n",
       "    <tr>\n",
       "      <th>2021-01-26</th>\n",
       "      <td>891.380005</td>\n",
       "      <td>895.900024</td>\n",
       "      <td>871.599976</td>\n",
       "      <td>883.090027</td>\n",
       "      <td>23131600</td>\n",
       "      <td>0</td>\n",
       "      <td>0</td>\n",
       "    </tr>\n",
       "    <tr>\n",
       "      <th>2021-01-27</th>\n",
       "      <td>870.349976</td>\n",
       "      <td>891.500000</td>\n",
       "      <td>858.659973</td>\n",
       "      <td>864.159973</td>\n",
       "      <td>27334000</td>\n",
       "      <td>0</td>\n",
       "      <td>0</td>\n",
       "    </tr>\n",
       "    <tr>\n",
       "      <th>2021-01-28</th>\n",
       "      <td>820.000000</td>\n",
       "      <td>848.000000</td>\n",
       "      <td>801.000000</td>\n",
       "      <td>835.429993</td>\n",
       "      <td>26378000</td>\n",
       "      <td>0</td>\n",
       "      <td>0</td>\n",
       "    </tr>\n",
       "    <tr>\n",
       "      <th>2021-01-29</th>\n",
       "      <td>830.000000</td>\n",
       "      <td>842.409973</td>\n",
       "      <td>780.099976</td>\n",
       "      <td>793.530029</td>\n",
       "      <td>34990800</td>\n",
       "      <td>0</td>\n",
       "      <td>0</td>\n",
       "    </tr>\n",
       "    <tr>\n",
       "      <th>2021-02-01</th>\n",
       "      <td>814.289978</td>\n",
       "      <td>842.000000</td>\n",
       "      <td>795.559998</td>\n",
       "      <td>839.809998</td>\n",
       "      <td>25391400</td>\n",
       "      <td>0</td>\n",
       "      <td>0</td>\n",
       "    </tr>\n",
       "    <tr>\n",
       "      <th>2021-02-02</th>\n",
       "      <td>844.679993</td>\n",
       "      <td>880.500000</td>\n",
       "      <td>842.200012</td>\n",
       "      <td>872.789978</td>\n",
       "      <td>24346200</td>\n",
       "      <td>0</td>\n",
       "      <td>0</td>\n",
       "    </tr>\n",
       "    <tr>\n",
       "      <th>2021-02-03</th>\n",
       "      <td>877.020020</td>\n",
       "      <td>878.080017</td>\n",
       "      <td>853.059998</td>\n",
       "      <td>854.690002</td>\n",
       "      <td>18343500</td>\n",
       "      <td>0</td>\n",
       "      <td>0</td>\n",
       "    </tr>\n",
       "    <tr>\n",
       "      <th>2021-02-04</th>\n",
       "      <td>855.000000</td>\n",
       "      <td>856.500000</td>\n",
       "      <td>833.419983</td>\n",
       "      <td>849.989990</td>\n",
       "      <td>15812700</td>\n",
       "      <td>0</td>\n",
       "      <td>0</td>\n",
       "    </tr>\n",
       "    <tr>\n",
       "      <th>2021-02-05</th>\n",
       "      <td>845.000000</td>\n",
       "      <td>864.770020</td>\n",
       "      <td>838.969971</td>\n",
       "      <td>852.229980</td>\n",
       "      <td>18566600</td>\n",
       "      <td>0</td>\n",
       "      <td>0</td>\n",
       "    </tr>\n",
       "    <tr>\n",
       "      <th>2021-02-08</th>\n",
       "      <td>869.669983</td>\n",
       "      <td>877.770020</td>\n",
       "      <td>854.750000</td>\n",
       "      <td>863.419983</td>\n",
       "      <td>20161700</td>\n",
       "      <td>0</td>\n",
       "      <td>0</td>\n",
       "    </tr>\n",
       "    <tr>\n",
       "      <th>2021-02-09</th>\n",
       "      <td>855.119995</td>\n",
       "      <td>859.799988</td>\n",
       "      <td>841.750000</td>\n",
       "      <td>849.460022</td>\n",
       "      <td>15157700</td>\n",
       "      <td>0</td>\n",
       "      <td>0</td>\n",
       "    </tr>\n",
       "    <tr>\n",
       "      <th>2021-02-10</th>\n",
       "      <td>843.640015</td>\n",
       "      <td>844.820007</td>\n",
       "      <td>800.020020</td>\n",
       "      <td>804.820007</td>\n",
       "      <td>36216100</td>\n",
       "      <td>0</td>\n",
       "      <td>0</td>\n",
       "    </tr>\n",
       "    <tr>\n",
       "      <th>2021-02-11</th>\n",
       "      <td>812.440002</td>\n",
       "      <td>829.880005</td>\n",
       "      <td>801.729980</td>\n",
       "      <td>811.659973</td>\n",
       "      <td>21622800</td>\n",
       "      <td>0</td>\n",
       "      <td>0</td>\n",
       "    </tr>\n",
       "    <tr>\n",
       "      <th>2021-02-12</th>\n",
       "      <td>801.260010</td>\n",
       "      <td>817.330017</td>\n",
       "      <td>785.330017</td>\n",
       "      <td>816.119995</td>\n",
       "      <td>23768300</td>\n",
       "      <td>0</td>\n",
       "      <td>0</td>\n",
       "    </tr>\n",
       "    <tr>\n",
       "      <th>2021-02-16</th>\n",
       "      <td>818.000000</td>\n",
       "      <td>821.000000</td>\n",
       "      <td>792.440002</td>\n",
       "      <td>796.219971</td>\n",
       "      <td>19802300</td>\n",
       "      <td>0</td>\n",
       "      <td>0</td>\n",
       "    </tr>\n",
       "    <tr>\n",
       "      <th>2021-02-17</th>\n",
       "      <td>779.090027</td>\n",
       "      <td>799.840027</td>\n",
       "      <td>762.010010</td>\n",
       "      <td>798.150024</td>\n",
       "      <td>25996500</td>\n",
       "      <td>0</td>\n",
       "      <td>0</td>\n",
       "    </tr>\n",
       "    <tr>\n",
       "      <th>2021-02-18</th>\n",
       "      <td>780.900024</td>\n",
       "      <td>794.690002</td>\n",
       "      <td>776.270020</td>\n",
       "      <td>787.380005</td>\n",
       "      <td>17957100</td>\n",
       "      <td>0</td>\n",
       "      <td>0</td>\n",
       "    </tr>\n",
       "    <tr>\n",
       "      <th>2021-02-19</th>\n",
       "      <td>795.000000</td>\n",
       "      <td>796.789978</td>\n",
       "      <td>777.369995</td>\n",
       "      <td>781.299988</td>\n",
       "      <td>18958300</td>\n",
       "      <td>0</td>\n",
       "      <td>0</td>\n",
       "    </tr>\n",
       "    <tr>\n",
       "      <th>2021-02-22</th>\n",
       "      <td>762.640015</td>\n",
       "      <td>768.500000</td>\n",
       "      <td>710.200012</td>\n",
       "      <td>714.500000</td>\n",
       "      <td>37269700</td>\n",
       "      <td>0</td>\n",
       "      <td>0</td>\n",
       "    </tr>\n",
       "    <tr>\n",
       "      <th>2021-02-23</th>\n",
       "      <td>662.130005</td>\n",
       "      <td>713.609985</td>\n",
       "      <td>619.000000</td>\n",
       "      <td>698.840027</td>\n",
       "      <td>66606900</td>\n",
       "      <td>0</td>\n",
       "      <td>0</td>\n",
       "    </tr>\n",
       "    <tr>\n",
       "      <th>2021-02-24</th>\n",
       "      <td>711.849976</td>\n",
       "      <td>745.000000</td>\n",
       "      <td>694.169983</td>\n",
       "      <td>742.020020</td>\n",
       "      <td>36767000</td>\n",
       "      <td>0</td>\n",
       "      <td>0</td>\n",
       "    </tr>\n",
       "    <tr>\n",
       "      <th>2021-02-25</th>\n",
       "      <td>726.150024</td>\n",
       "      <td>737.210022</td>\n",
       "      <td>670.580017</td>\n",
       "      <td>682.219971</td>\n",
       "      <td>39023900</td>\n",
       "      <td>0</td>\n",
       "      <td>0</td>\n",
       "    </tr>\n",
       "    <tr>\n",
       "      <th>2021-02-26</th>\n",
       "      <td>700.000000</td>\n",
       "      <td>706.700012</td>\n",
       "      <td>659.510010</td>\n",
       "      <td>675.500000</td>\n",
       "      <td>41089200</td>\n",
       "      <td>0</td>\n",
       "      <td>0</td>\n",
       "    </tr>\n",
       "    <tr>\n",
       "      <th>2021-03-01</th>\n",
       "      <td>690.109985</td>\n",
       "      <td>719.000000</td>\n",
       "      <td>685.049988</td>\n",
       "      <td>718.429993</td>\n",
       "      <td>27136200</td>\n",
       "      <td>0</td>\n",
       "      <td>0</td>\n",
       "    </tr>\n",
       "    <tr>\n",
       "      <th>2021-03-02</th>\n",
       "      <td>718.280029</td>\n",
       "      <td>721.109985</td>\n",
       "      <td>685.000000</td>\n",
       "      <td>686.440002</td>\n",
       "      <td>23732200</td>\n",
       "      <td>0</td>\n",
       "      <td>0</td>\n",
       "    </tr>\n",
       "    <tr>\n",
       "      <th>2021-03-03</th>\n",
       "      <td>687.989990</td>\n",
       "      <td>700.700012</td>\n",
       "      <td>651.710022</td>\n",
       "      <td>653.200012</td>\n",
       "      <td>30208000</td>\n",
       "      <td>0</td>\n",
       "      <td>0</td>\n",
       "    </tr>\n",
       "    <tr>\n",
       "      <th>2021-03-04</th>\n",
       "      <td>655.799988</td>\n",
       "      <td>668.450012</td>\n",
       "      <td>600.000000</td>\n",
       "      <td>621.440002</td>\n",
       "      <td>65919500</td>\n",
       "      <td>0</td>\n",
       "      <td>0</td>\n",
       "    </tr>\n",
       "    <tr>\n",
       "      <th>2021-03-05</th>\n",
       "      <td>626.059998</td>\n",
       "      <td>627.840027</td>\n",
       "      <td>539.489990</td>\n",
       "      <td>597.950012</td>\n",
       "      <td>89396500</td>\n",
       "      <td>0</td>\n",
       "      <td>0</td>\n",
       "    </tr>\n",
       "    <tr>\n",
       "      <th>2021-03-08</th>\n",
       "      <td>600.549988</td>\n",
       "      <td>620.130005</td>\n",
       "      <td>558.789978</td>\n",
       "      <td>563.000000</td>\n",
       "      <td>51787000</td>\n",
       "      <td>0</td>\n",
       "      <td>0</td>\n",
       "    </tr>\n",
       "    <tr>\n",
       "      <th>2021-03-09</th>\n",
       "      <td>608.179993</td>\n",
       "      <td>678.090027</td>\n",
       "      <td>595.210022</td>\n",
       "      <td>673.580017</td>\n",
       "      <td>67523300</td>\n",
       "      <td>0</td>\n",
       "      <td>0</td>\n",
       "    </tr>\n",
       "    <tr>\n",
       "      <th>2021-03-10</th>\n",
       "      <td>700.299988</td>\n",
       "      <td>717.849976</td>\n",
       "      <td>655.059998</td>\n",
       "      <td>668.059998</td>\n",
       "      <td>60605700</td>\n",
       "      <td>0</td>\n",
       "      <td>0</td>\n",
       "    </tr>\n",
       "    <tr>\n",
       "      <th>2021-03-11</th>\n",
       "      <td>699.400024</td>\n",
       "      <td>702.500000</td>\n",
       "      <td>677.179993</td>\n",
       "      <td>699.599976</td>\n",
       "      <td>36253900</td>\n",
       "      <td>0</td>\n",
       "      <td>0</td>\n",
       "    </tr>\n",
       "    <tr>\n",
       "      <th>2021-03-12</th>\n",
       "      <td>670.000000</td>\n",
       "      <td>694.880005</td>\n",
       "      <td>666.140015</td>\n",
       "      <td>693.729980</td>\n",
       "      <td>33583800</td>\n",
       "      <td>0</td>\n",
       "      <td>0</td>\n",
       "    </tr>\n",
       "    <tr>\n",
       "      <th>2021-03-15</th>\n",
       "      <td>694.090027</td>\n",
       "      <td>713.179993</td>\n",
       "      <td>684.039978</td>\n",
       "      <td>707.940002</td>\n",
       "      <td>29335600</td>\n",
       "      <td>0</td>\n",
       "      <td>0</td>\n",
       "    </tr>\n",
       "    <tr>\n",
       "      <th>2021-03-16</th>\n",
       "      <td>703.349976</td>\n",
       "      <td>707.919983</td>\n",
       "      <td>671.000000</td>\n",
       "      <td>676.880005</td>\n",
       "      <td>32195700</td>\n",
       "      <td>0</td>\n",
       "      <td>0</td>\n",
       "    </tr>\n",
       "    <tr>\n",
       "      <th>2021-03-17</th>\n",
       "      <td>656.869995</td>\n",
       "      <td>703.729980</td>\n",
       "      <td>651.010010</td>\n",
       "      <td>701.809998</td>\n",
       "      <td>40372500</td>\n",
       "      <td>0</td>\n",
       "      <td>0</td>\n",
       "    </tr>\n",
       "    <tr>\n",
       "      <th>2021-03-18</th>\n",
       "      <td>684.289978</td>\n",
       "      <td>689.229980</td>\n",
       "      <td>652.000000</td>\n",
       "      <td>653.159973</td>\n",
       "      <td>33224800</td>\n",
       "      <td>0</td>\n",
       "      <td>0</td>\n",
       "    </tr>\n",
       "    <tr>\n",
       "      <th>2021-03-19</th>\n",
       "      <td>646.599976</td>\n",
       "      <td>657.229980</td>\n",
       "      <td>624.619995</td>\n",
       "      <td>654.869995</td>\n",
       "      <td>42894000</td>\n",
       "      <td>0</td>\n",
       "      <td>0</td>\n",
       "    </tr>\n",
       "    <tr>\n",
       "      <th>2021-03-22</th>\n",
       "      <td>684.590027</td>\n",
       "      <td>699.619995</td>\n",
       "      <td>668.750000</td>\n",
       "      <td>670.000000</td>\n",
       "      <td>39512200</td>\n",
       "      <td>0</td>\n",
       "      <td>0</td>\n",
       "    </tr>\n",
       "    <tr>\n",
       "      <th>2021-03-23</th>\n",
       "      <td>675.770020</td>\n",
       "      <td>677.799988</td>\n",
       "      <td>657.510010</td>\n",
       "      <td>662.159973</td>\n",
       "      <td>30491900</td>\n",
       "      <td>0</td>\n",
       "      <td>0</td>\n",
       "    </tr>\n",
       "    <tr>\n",
       "      <th>2021-03-24</th>\n",
       "      <td>667.909973</td>\n",
       "      <td>668.020020</td>\n",
       "      <td>630.109985</td>\n",
       "      <td>630.270020</td>\n",
       "      <td>33795200</td>\n",
       "      <td>0</td>\n",
       "      <td>0</td>\n",
       "    </tr>\n",
       "    <tr>\n",
       "      <th>2021-03-25</th>\n",
       "      <td>613.000000</td>\n",
       "      <td>645.500000</td>\n",
       "      <td>609.500000</td>\n",
       "      <td>640.390015</td>\n",
       "      <td>39224900</td>\n",
       "      <td>0</td>\n",
       "      <td>0</td>\n",
       "    </tr>\n",
       "    <tr>\n",
       "      <th>2021-03-26</th>\n",
       "      <td>641.869995</td>\n",
       "      <td>643.820007</td>\n",
       "      <td>599.890015</td>\n",
       "      <td>618.710022</td>\n",
       "      <td>33852800</td>\n",
       "      <td>0</td>\n",
       "      <td>0</td>\n",
       "    </tr>\n",
       "    <tr>\n",
       "      <th>2021-03-29</th>\n",
       "      <td>615.640015</td>\n",
       "      <td>616.479980</td>\n",
       "      <td>596.020020</td>\n",
       "      <td>611.289978</td>\n",
       "      <td>28637000</td>\n",
       "      <td>0</td>\n",
       "      <td>0</td>\n",
       "    </tr>\n",
       "    <tr>\n",
       "      <th>2021-03-30</th>\n",
       "      <td>601.750000</td>\n",
       "      <td>637.659973</td>\n",
       "      <td>591.010010</td>\n",
       "      <td>635.619995</td>\n",
       "      <td>39432400</td>\n",
       "      <td>0</td>\n",
       "      <td>0</td>\n",
       "    </tr>\n",
       "  </tbody>\n",
       "</table>\n",
       "</div>"
      ],
      "text/plain": [
       "                  Open        High         Low       Close    Volume  \\\n",
       "Date                                                                   \n",
       "2021-01-04  719.460022  744.489990  717.190002  729.770020  48638200   \n",
       "2021-01-05  723.659973  740.840027  719.200012  735.109985  32245200   \n",
       "2021-01-06  758.489990  774.000000  749.099976  755.979980  44700000   \n",
       "2021-01-07  777.630005  816.989990  775.200012  816.039978  51498900   \n",
       "2021-01-08  856.000000  884.489990  838.390015  880.020020  75055500   \n",
       "2021-01-11  849.400024  854.429993  803.619995  811.190002  59301600   \n",
       "2021-01-12  831.000000  868.000000  827.340027  849.440002  46270700   \n",
       "2021-01-13  852.760010  860.469971  832.000000  854.409973  33312500   \n",
       "2021-01-14  843.390015  863.000000  838.750000  845.000000  31266300   \n",
       "2021-01-15  852.000000  859.900024  819.099976  826.159973  38777600   \n",
       "2021-01-19  837.799988  850.000000  833.000000  844.549988  25367000   \n",
       "2021-01-20  858.739990  859.500000  837.280029  850.450012  25665900   \n",
       "2021-01-21  855.000000  855.719971  841.419983  844.989990  20521100   \n",
       "2021-01-22  834.309998  848.000000  828.619995  846.640015  20066500   \n",
       "2021-01-25  855.000000  900.400024  838.820007  880.799988  41173400   \n",
       "2021-01-26  891.380005  895.900024  871.599976  883.090027  23131600   \n",
       "2021-01-27  870.349976  891.500000  858.659973  864.159973  27334000   \n",
       "2021-01-28  820.000000  848.000000  801.000000  835.429993  26378000   \n",
       "2021-01-29  830.000000  842.409973  780.099976  793.530029  34990800   \n",
       "2021-02-01  814.289978  842.000000  795.559998  839.809998  25391400   \n",
       "2021-02-02  844.679993  880.500000  842.200012  872.789978  24346200   \n",
       "2021-02-03  877.020020  878.080017  853.059998  854.690002  18343500   \n",
       "2021-02-04  855.000000  856.500000  833.419983  849.989990  15812700   \n",
       "2021-02-05  845.000000  864.770020  838.969971  852.229980  18566600   \n",
       "2021-02-08  869.669983  877.770020  854.750000  863.419983  20161700   \n",
       "2021-02-09  855.119995  859.799988  841.750000  849.460022  15157700   \n",
       "2021-02-10  843.640015  844.820007  800.020020  804.820007  36216100   \n",
       "2021-02-11  812.440002  829.880005  801.729980  811.659973  21622800   \n",
       "2021-02-12  801.260010  817.330017  785.330017  816.119995  23768300   \n",
       "2021-02-16  818.000000  821.000000  792.440002  796.219971  19802300   \n",
       "2021-02-17  779.090027  799.840027  762.010010  798.150024  25996500   \n",
       "2021-02-18  780.900024  794.690002  776.270020  787.380005  17957100   \n",
       "2021-02-19  795.000000  796.789978  777.369995  781.299988  18958300   \n",
       "2021-02-22  762.640015  768.500000  710.200012  714.500000  37269700   \n",
       "2021-02-23  662.130005  713.609985  619.000000  698.840027  66606900   \n",
       "2021-02-24  711.849976  745.000000  694.169983  742.020020  36767000   \n",
       "2021-02-25  726.150024  737.210022  670.580017  682.219971  39023900   \n",
       "2021-02-26  700.000000  706.700012  659.510010  675.500000  41089200   \n",
       "2021-03-01  690.109985  719.000000  685.049988  718.429993  27136200   \n",
       "2021-03-02  718.280029  721.109985  685.000000  686.440002  23732200   \n",
       "2021-03-03  687.989990  700.700012  651.710022  653.200012  30208000   \n",
       "2021-03-04  655.799988  668.450012  600.000000  621.440002  65919500   \n",
       "2021-03-05  626.059998  627.840027  539.489990  597.950012  89396500   \n",
       "2021-03-08  600.549988  620.130005  558.789978  563.000000  51787000   \n",
       "2021-03-09  608.179993  678.090027  595.210022  673.580017  67523300   \n",
       "2021-03-10  700.299988  717.849976  655.059998  668.059998  60605700   \n",
       "2021-03-11  699.400024  702.500000  677.179993  699.599976  36253900   \n",
       "2021-03-12  670.000000  694.880005  666.140015  693.729980  33583800   \n",
       "2021-03-15  694.090027  713.179993  684.039978  707.940002  29335600   \n",
       "2021-03-16  703.349976  707.919983  671.000000  676.880005  32195700   \n",
       "2021-03-17  656.869995  703.729980  651.010010  701.809998  40372500   \n",
       "2021-03-18  684.289978  689.229980  652.000000  653.159973  33224800   \n",
       "2021-03-19  646.599976  657.229980  624.619995  654.869995  42894000   \n",
       "2021-03-22  684.590027  699.619995  668.750000  670.000000  39512200   \n",
       "2021-03-23  675.770020  677.799988  657.510010  662.159973  30491900   \n",
       "2021-03-24  667.909973  668.020020  630.109985  630.270020  33795200   \n",
       "2021-03-25  613.000000  645.500000  609.500000  640.390015  39224900   \n",
       "2021-03-26  641.869995  643.820007  599.890015  618.710022  33852800   \n",
       "2021-03-29  615.640015  616.479980  596.020020  611.289978  28637000   \n",
       "2021-03-30  601.750000  637.659973  591.010010  635.619995  39432400   \n",
       "\n",
       "            Dividends  Stock Splits  \n",
       "Date                                 \n",
       "2021-01-04          0             0  \n",
       "2021-01-05          0             0  \n",
       "2021-01-06          0             0  \n",
       "2021-01-07          0             0  \n",
       "2021-01-08          0             0  \n",
       "2021-01-11          0             0  \n",
       "2021-01-12          0             0  \n",
       "2021-01-13          0             0  \n",
       "2021-01-14          0             0  \n",
       "2021-01-15          0             0  \n",
       "2021-01-19          0             0  \n",
       "2021-01-20          0             0  \n",
       "2021-01-21          0             0  \n",
       "2021-01-22          0             0  \n",
       "2021-01-25          0             0  \n",
       "2021-01-26          0             0  \n",
       "2021-01-27          0             0  \n",
       "2021-01-28          0             0  \n",
       "2021-01-29          0             0  \n",
       "2021-02-01          0             0  \n",
       "2021-02-02          0             0  \n",
       "2021-02-03          0             0  \n",
       "2021-02-04          0             0  \n",
       "2021-02-05          0             0  \n",
       "2021-02-08          0             0  \n",
       "2021-02-09          0             0  \n",
       "2021-02-10          0             0  \n",
       "2021-02-11          0             0  \n",
       "2021-02-12          0             0  \n",
       "2021-02-16          0             0  \n",
       "2021-02-17          0             0  \n",
       "2021-02-18          0             0  \n",
       "2021-02-19          0             0  \n",
       "2021-02-22          0             0  \n",
       "2021-02-23          0             0  \n",
       "2021-02-24          0             0  \n",
       "2021-02-25          0             0  \n",
       "2021-02-26          0             0  \n",
       "2021-03-01          0             0  \n",
       "2021-03-02          0             0  \n",
       "2021-03-03          0             0  \n",
       "2021-03-04          0             0  \n",
       "2021-03-05          0             0  \n",
       "2021-03-08          0             0  \n",
       "2021-03-09          0             0  \n",
       "2021-03-10          0             0  \n",
       "2021-03-11          0             0  \n",
       "2021-03-12          0             0  \n",
       "2021-03-15          0             0  \n",
       "2021-03-16          0             0  \n",
       "2021-03-17          0             0  \n",
       "2021-03-18          0             0  \n",
       "2021-03-19          0             0  \n",
       "2021-03-22          0             0  \n",
       "2021-03-23          0             0  \n",
       "2021-03-24          0             0  \n",
       "2021-03-25          0             0  \n",
       "2021-03-26          0             0  \n",
       "2021-03-29          0             0  \n",
       "2021-03-30          0             0  "
      ]
     },
     "execution_count": 32,
     "metadata": {},
     "output_type": "execute_result"
    }
   ],
   "source": [
    "data.history(start='2021-01-01', end='2021-03-31')"
   ]
  },
  {
   "cell_type": "code",
   "execution_count": 33,
   "metadata": {},
   "outputs": [],
   "source": [
    "import plotly.graph_objects as go"
   ]
  },
  {
   "cell_type": "code",
   "execution_count": 34,
   "metadata": {},
   "outputs": [],
   "source": [
    "stocks_price = data_cencosud.history(start='2021-01-01', end='2021-03-31')"
   ]
  },
  {
   "cell_type": "code",
   "execution_count": 36,
   "metadata": {},
   "outputs": [
    {
     "data": {
      "text/html": [
       "<div>\n",
       "<style scoped>\n",
       "    .dataframe tbody tr th:only-of-type {\n",
       "        vertical-align: middle;\n",
       "    }\n",
       "\n",
       "    .dataframe tbody tr th {\n",
       "        vertical-align: top;\n",
       "    }\n",
       "\n",
       "    .dataframe thead th {\n",
       "        text-align: right;\n",
       "    }\n",
       "</style>\n",
       "<table border=\"1\" class=\"dataframe\">\n",
       "  <thead>\n",
       "    <tr style=\"text-align: right;\">\n",
       "      <th></th>\n",
       "      <th>Open</th>\n",
       "      <th>High</th>\n",
       "      <th>Low</th>\n",
       "      <th>Close</th>\n",
       "      <th>Volume</th>\n",
       "      <th>Dividends</th>\n",
       "      <th>Stock Splits</th>\n",
       "    </tr>\n",
       "    <tr>\n",
       "      <th>Date</th>\n",
       "      <th></th>\n",
       "      <th></th>\n",
       "      <th></th>\n",
       "      <th></th>\n",
       "      <th></th>\n",
       "      <th></th>\n",
       "      <th></th>\n",
       "    </tr>\n",
       "  </thead>\n",
       "  <tbody>\n",
       "    <tr>\n",
       "      <th>2021-01-04</th>\n",
       "      <td>1081.880371</td>\n",
       "      <td>1097.864607</td>\n",
       "      <td>1072.542233</td>\n",
       "      <td>1081.880371</td>\n",
       "      <td>569074</td>\n",
       "      <td>0</td>\n",
       "      <td>0</td>\n",
       "    </tr>\n",
       "    <tr>\n",
       "      <th>2021-01-05</th>\n",
       "      <td>1114.690063</td>\n",
       "      <td>1118.896441</td>\n",
       "      <td>1071.027843</td>\n",
       "      <td>1114.690063</td>\n",
       "      <td>457539</td>\n",
       "      <td>0</td>\n",
       "      <td>0</td>\n",
       "    </tr>\n",
       "    <tr>\n",
       "      <th>2021-01-06</th>\n",
       "      <td>1127.309204</td>\n",
       "      <td>1134.712470</td>\n",
       "      <td>1110.904331</td>\n",
       "      <td>1127.309204</td>\n",
       "      <td>795452</td>\n",
       "      <td>0</td>\n",
       "      <td>0</td>\n",
       "    </tr>\n",
       "    <tr>\n",
       "      <th>2021-01-07</th>\n",
       "      <td>1156.669678</td>\n",
       "      <td>1156.753785</td>\n",
       "      <td>1134.039347</td>\n",
       "      <td>1156.669678</td>\n",
       "      <td>1925313</td>\n",
       "      <td>0</td>\n",
       "      <td>0</td>\n",
       "    </tr>\n",
       "    <tr>\n",
       "      <th>2021-01-08</th>\n",
       "      <td>1186.198486</td>\n",
       "      <td>1186.198486</td>\n",
       "      <td>1135.721955</td>\n",
       "      <td>1186.198486</td>\n",
       "      <td>846153</td>\n",
       "      <td>0</td>\n",
       "      <td>0</td>\n",
       "    </tr>\n",
       "  </tbody>\n",
       "</table>\n",
       "</div>"
      ],
      "text/plain": [
       "                   Open         High          Low        Close   Volume  \\\n",
       "Date                                                                      \n",
       "2021-01-04  1081.880371  1097.864607  1072.542233  1081.880371   569074   \n",
       "2021-01-05  1114.690063  1118.896441  1071.027843  1114.690063   457539   \n",
       "2021-01-06  1127.309204  1134.712470  1110.904331  1127.309204   795452   \n",
       "2021-01-07  1156.669678  1156.753785  1134.039347  1156.669678  1925313   \n",
       "2021-01-08  1186.198486  1186.198486  1135.721955  1186.198486   846153   \n",
       "\n",
       "            Dividends  Stock Splits  \n",
       "Date                                 \n",
       "2021-01-04          0             0  \n",
       "2021-01-05          0             0  \n",
       "2021-01-06          0             0  \n",
       "2021-01-07          0             0  \n",
       "2021-01-08          0             0  "
      ]
     },
     "execution_count": 36,
     "metadata": {},
     "output_type": "execute_result"
    }
   ],
   "source": [
    "stocks_price.head()"
   ]
  },
  {
   "cell_type": "code",
   "execution_count": 38,
   "metadata": {},
   "outputs": [
    {
     "data": {
      "text/plain": [
       "[<matplotlib.lines.Line2D at 0x170edf575b0>]"
      ]
     },
     "execution_count": 38,
     "metadata": {},
     "output_type": "execute_result"
    },
    {
     "data": {
      "image/png": "[encoded data removed]",
      "text/plain": [
       "<Figure size 960x480 with 1 Axes>"
      ]
     },
     "metadata": {
      "needs_background": "light"
     },
     "output_type": "display_data"
    }
   ],
   "source": [
    "plt.figure(figsize=(12,6),dpi=80)\n",
    "plt.plot(stocks_price.index, stocks_price['Close'])\n",
    "plt.plot(stocks_price.index, stocks_price['High'])"
   ]
  },
  {
   "cell_type": "code",
   "execution_count": 35,
   "metadata": {},
   "outputs": [
    {
     "data": {
      "application/vnd.plotly.v1+json": {
       "config": {
        "plotlyServerURL": "https://plot.ly"
       },
       "data": [
        {
         "name": "Close Price",
         "type": "scatter",
         "x": [
          "2021-01-04T00:00:00",
          "2021-01-05T00:00:00",
          "2021-01-06T00:00:00",
          "2021-01-07T00:00:00",
          "2021-01-08T00:00:00",
          "2021-01-11T00:00:00",
          "2021-01-12T00:00:00",
          "2021-01-13T00:00:00",
          "2021-01-14T00:00:00",
          "2021-01-15T00:00:00",
          "2021-01-18T00:00:00",
          "2021-01-19T00:00:00",
          "2021-01-20T00:00:00",
          "2021-01-21T00:00:00",
          "2021-01-22T00:00:00",
          "2021-01-25T00:00:00",
          "2021-01-26T00:00:00",
          "2021-01-27T00:00:00",
          "2021-01-28T00:00:00",
          "2021-01-29T00:00:00",
          "2021-02-01T00:00:00",
          "2021-02-02T00:00:00",
          "2021-02-03T00:00:00",
          "2021-02-04T00:00:00",
          "2021-02-05T00:00:00",
          "2021-02-08T00:00:00",
          "2021-02-09T00:00:00",
          "2021-02-10T00:00:00",
          "2021-02-11T00:00:00",
          "2021-02-12T00:00:00",
          "2021-02-15T00:00:00",
          "2021-02-16T00:00:00",
          "2021-02-17T00:00:00",
          "2021-02-18T00:00:00",
          "2021-02-19T00:00:00",
          "2021-02-22T00:00:00",
          "2021-02-23T00:00:00",
          "2021-02-24T00:00:00",
          "2021-02-25T00:00:00",
          "2021-02-26T00:00:00",
          "2021-03-01T00:00:00",
          "2021-03-02T00:00:00",
          "2021-03-03T00:00:00",
          "2021-03-04T00:00:00",
          "2021-03-05T00:00:00",
          "2021-03-08T00:00:00",
          "2021-03-09T00:00:00",
          "2021-03-10T00:00:00",
          "2021-03-11T00:00:00",
          "2021-03-12T00:00:00",
          "2021-03-15T00:00:00",
          "2021-03-16T00:00:00",
          "2021-03-17T00:00:00",
          "2021-03-18T00:00:00",
          "2021-03-19T00:00:00",
          "2021-03-22T00:00:00",
          "2021-03-23T00:00:00",
          "2021-03-24T00:00:00",
          "2021-03-25T00:00:00",
          "2021-03-26T00:00:00",
          "2021-03-29T00:00:00",
          "2021-03-30T00:00:00"
         ],
         "y": [
          1081.88037109375,
          1114.6900634765625,
          1127.3092041015625,
          1156.669677734375,
          1186.198486328125,
          1219.8494873046875,
          1211.3526611328125,
          1205.5477294921875,
          1234.151123046875,
          1211.436767578125,
          1248.452880859375,
          1228.2623291015625,
          1214.8018798828125,
          1192.08740234375,
          1164.0728759765625,
          1152.54736328125,
          1144.9759521484375,
          1115.5313720703125,
          1106.27734375,
          1072.7945556640625,
          1086.0867919921875,
          1125.6265869140625,
          1110.4837646484375,
          1114.6900634765625,
          1097.9486083984375,
          1109.6424560546875,
          1152.4632568359375,
          1135.721923828125,
          1153.388671875,
          1169.373046875,
          1170.6348876953125,
          1177.78564453125,
          1148.341064453125,
          1149.1822509765625,
          1177.78564453125,
          1152.54736328125,
          1160.960205078125,
          1178.626953125,
          1211.60498046875,
          1192.508056640625,
          1177.78564453125,
          1224.055908203125,
          1245.0877685546875,
          1211.436767578125,
          1228.2623291015625,
          1203.865234375,
          1240.0400390625,
          1234.0670166015625,
          1198.817626953125,
          1231.6273193359375,
          1228.430419921875,
          1227.4210205078125,
          1245.0877685546875,
          1236.6749267578125,
          1224.3082275390625,
          1253.5006103515625,
          1270.41015625,
          1277.0562744140625,
          1249.294189453125,
          1303.97705078125,
          1319.961181640625,
          1320.802490234375
         ]
        },
        {
         "name": "Higher Price",
         "type": "scatter",
         "x": [
          "2021-01-04T00:00:00",
          "2021-01-05T00:00:00",
          "2021-01-06T00:00:00",
          "2021-01-07T00:00:00",
          "2021-01-08T00:00:00",
          "2021-01-11T00:00:00",
          "2021-01-12T00:00:00",
          "2021-01-13T00:00:00",
          "2021-01-14T00:00:00",
          "2021-01-15T00:00:00",
          "2021-01-18T00:00:00",
          "2021-01-19T00:00:00",
          "2021-01-20T00:00:00",
          "2021-01-21T00:00:00",
          "2021-01-22T00:00:00",
          "2021-01-25T00:00:00",
          "2021-01-26T00:00:00",
          "2021-01-27T00:00:00",
          "2021-01-28T00:00:00",
          "2021-01-29T00:00:00",
          "2021-02-01T00:00:00",
          "2021-02-02T00:00:00",
          "2021-02-03T00:00:00",
          "2021-02-04T00:00:00",
          "2021-02-05T00:00:00",
          "2021-02-08T00:00:00",
          "2021-02-09T00:00:00",
          "2021-02-10T00:00:00",
          "2021-02-11T00:00:00",
          "2021-02-12T00:00:00",
          "2021-02-15T00:00:00",
          "2021-02-16T00:00:00",
          "2021-02-17T00:00:00",
          "2021-02-18T00:00:00",
          "2021-02-19T00:00:00",
          "2021-02-22T00:00:00",
          "2021-02-23T00:00:00",
          "2021-02-24T00:00:00",
          "2021-02-25T00:00:00",
          "2021-02-26T00:00:00",
          "2021-03-01T00:00:00",
          "2021-03-02T00:00:00",
          "2021-03-03T00:00:00",
          "2021-03-04T00:00:00",
          "2021-03-05T00:00:00",
          "2021-03-08T00:00:00",
          "2021-03-09T00:00:00",
          "2021-03-10T00:00:00",
          "2021-03-11T00:00:00",
          "2021-03-12T00:00:00",
          "2021-03-15T00:00:00",
          "2021-03-16T00:00:00",
          "2021-03-17T00:00:00",
          "2021-03-18T00:00:00",
          "2021-03-19T00:00:00",
          "2021-03-22T00:00:00",
          "2021-03-23T00:00:00",
          "2021-03-24T00:00:00",
          "2021-03-25T00:00:00",
          "2021-03-26T00:00:00",
          "2021-03-29T00:00:00",
          "2021-03-30T00:00:00"
         ],
         "y": [
          1097.8646067475456,
          1118.8964410745873,
          1134.7124698034195,
          1156.7537847434041,
          1186.198486328125,
          1219.8494873046875,
          1240.0401362840116,
          1211.352550682567,
          1240.8813268535382,
          1250.976717631022,
          1249.2100493718954,
          1278.7388631742294,
          1227.2527989539785,
          1224.055871849087,
          1190.404840378747,
          1177.7856267107663,
          1173.57931906471,
          1144.134740584936,
          1115.5313747623575,
          1135.6379017669863,
          1110.2313604651497,
          1127.2250308574517,
          1142.452236661044,
          1129.8330228294515,
          1131.515520589065,
          1124.7854160311729,
          1152.4632568359375,
          1152.4633267998033,
          1171.8967322551969,
          1176.103251461331,
          1190.4048624425923,
          1197.1349801199776,
          1186.198462182349,
          1175.261789615123,
          1194.6111537388392,
          1189.563482977874,
          1165.166582632756,
          1206.3890440979658,
          1219.8495217627083,
          1235.833746176422,
          1213.8763823204806,
          1224.055908203125,
          1245.0877685546875,
          1253.5846512444937,
          1246.7703915948737,
          1228.2622237508735,
          1253.500446542147,
          1249.2940821821367,
          1245.9290565035635,
          1236.6749722840354,
          1245.0877155729856,
          1236.5068374743316,
          1245.0877685546875,
          1257.7068132672991,
          1236.5908288116498,
          1253.5006103515625,
          1286.2261772786599,
          1295.5643363620925,
          1285.469038036616,
          1303.97705078125,
          1362.6980155976507,
          1345.199478907494
         ]
        }
       ],
       "layout": {
        "template": {
         "data": {
          "bar": [
           {
            "error_x": {
             "color": "#2a3f5f"
            },
            "error_y": {
             "color": "#2a3f5f"
            },
            "marker": {
             "line": {
              "color": "#E5ECF6",
              "width": 0.5
             },
             "pattern": {
              "fillmode": "overlay",
              "size": 10,
              "solidity": 0.2
             }
            },
            "type": "bar"
           }
          ],
          "barpolar": [
           {
            "marker": {
             "line": {
              "color": "#E5ECF6",
              "width": 0.5
             },
             "pattern": {
              "fillmode": "overlay",
              "size": 10,
              "solidity": 0.2
             }
            },
            "type": "barpolar"
           }
          ],
          "carpet": [
           {
            "aaxis": {
             "endlinecolor": "#2a3f5f",
             "gridcolor": "white",
             "linecolor": "white",
             "minorgridcolor": "white",
             "startlinecolor": "#2a3f5f"
            },
            "baxis": {
             "endlinecolor": "#2a3f5f",
             "gridcolor": "white",
             "linecolor": "white",
             "minorgridcolor": "white",
             "startlinecolor": "#2a3f5f"
            },
            "type": "carpet"
           }
          ],
          "choropleth": [
           {
            "colorbar": {
             "outlinewidth": 0,
             "ticks": ""
            },
            "type": "choropleth"
           }
          ],
          "contour": [
           {
            "colorbar": {
             "outlinewidth": 0,
             "ticks": ""
            },
            "colorscale": [
             [
              0,
              "#0d0887"
             ],
             [
              0.1111111111111111,
              "#46039f"
             ],
             [
              0.2222222222222222,
              "#7201a8"
             ],
             [
              0.3333333333333333,
              "#9c179e"
             ],
             [
              0.4444444444444444,
              "#bd3786"
             ],
             [
              0.5555555555555556,
              "#d8576b"
             ],
             [
              0.6666666666666666,
              "#ed7953"
             ],
             [
              0.7777777777777778,
              "#fb9f3a"
             ],
             [
              0.8888888888888888,
              "#fdca26"
             ],
             [
              1,
              "#f0f921"
             ]
            ],
            "type": "contour"
           }
          ],
          "contourcarpet": [
           {
            "colorbar": {
             "outlinewidth": 0,
             "ticks": ""
            },
            "type": "contourcarpet"
           }
          ],
          "heatmap": [
           {
            "colorbar": {
             "outlinewidth": 0,
             "ticks": ""
            },
            "colorscale": [
             [
              0,
              "#0d0887"
             ],
             [
              0.1111111111111111,
              "#46039f"
             ],
             [
              0.2222222222222222,
              "#7201a8"
             ],
             [
              0.3333333333333333,
              "#9c179e"
             ],
             [
              0.4444444444444444,
              "#bd3786"
             ],
             [
              0.5555555555555556,
              "#d8576b"
             ],
             [
              0.6666666666666666,
              "#ed7953"
             ],
             [
              0.7777777777777778,
              "#fb9f3a"
             ],
             [
              0.8888888888888888,
              "#fdca26"
             ],
             [
              1,
              "#f0f921"
             ]
            ],
            "type": "heatmap"
           }
          ],
          "heatmapgl": [
           {
            "colorbar": {
             "outlinewidth": 0,
             "ticks": ""
            },
            "colorscale": [
             [
              0,
              "#0d0887"
             ],
             [
              0.1111111111111111,
              "#46039f"
             ],
             [
              0.2222222222222222,
              "#7201a8"
             ],
             [
              0.3333333333333333,
              "#9c179e"
             ],
             [
              0.4444444444444444,
              "#bd3786"
             ],
             [
              0.5555555555555556,
              "#d8576b"
             ],
             [
              0.6666666666666666,
              "#ed7953"
             ],
             [
              0.7777777777777778,
              "#fb9f3a"
             ],
             [
              0.8888888888888888,
              "#fdca26"
             ],
             [
              1,
              "#f0f921"
             ]
            ],
            "type": "heatmapgl"
           }
          ],
          "histogram": [
           {
            "marker": {
             "pattern": {
              "fillmode": "overlay",
              "size": 10,
              "solidity": 0.2
             }
            },
            "type": "histogram"
           }
          ],
          "histogram2d": [
           {
            "colorbar": {
             "outlinewidth": 0,
             "ticks": ""
            },
            "colorscale": [
             [
              0,
              "#0d0887"
             ],
             [
              0.1111111111111111,
              "#46039f"
             ],
             [
              0.2222222222222222,
              "#7201a8"
             ],
             [
              0.3333333333333333,
              "#9c179e"
             ],
             [
              0.4444444444444444,
              "#bd3786"
             ],
             [
              0.5555555555555556,
              "#d8576b"
             ],
             [
              0.6666666666666666,
              "#ed7953"
             ],
             [
              0.7777777777777778,
              "#fb9f3a"
             ],
             [
              0.8888888888888888,
              "#fdca26"
             ],
             [
              1,
              "#f0f921"
             ]
            ],
            "type": "histogram2d"
           }
          ],
          "histogram2dcontour": [
           {
            "colorbar": {
             "outlinewidth": 0,
             "ticks": ""
            },
            "colorscale": [
             [
              0,
              "#0d0887"
             ],
             [
              0.1111111111111111,
              "#46039f"
             ],
             [
              0.2222222222222222,
              "#7201a8"
             ],
             [
              0.3333333333333333,
              "#9c179e"
             ],
             [
              0.4444444444444444,
              "#bd3786"
             ],
             [
              0.5555555555555556,
              "#d8576b"
             ],
             [
              0.6666666666666666,
              "#ed7953"
             ],
             [
              0.7777777777777778,
              "#fb9f3a"
             ],
             [
              0.8888888888888888,
              "#fdca26"
             ],
             [
              1,
              "#f0f921"
             ]
            ],
            "type": "histogram2dcontour"
           }
          ],
          "mesh3d": [
           {
            "colorbar": {
             "outlinewidth": 0,
             "ticks": ""
            },
            "type": "mesh3d"
           }
          ],
          "parcoords": [
           {
            "line": {
             "colorbar": {
              "outlinewidth": 0,
              "ticks": ""
             }
            },
            "type": "parcoords"
           }
          ],
          "pie": [
           {
            "automargin": true,
            "type": "pie"
           }
          ],
          "scatter": [
           {
            "marker": {
             "colorbar": {
              "outlinewidth": 0,
              "ticks": ""
             }
            },
            "type": "scatter"
           }
          ],
          "scatter3d": [
           {
            "line": {
             "colorbar": {
              "outlinewidth": 0,
              "ticks": ""
             }
            },
            "marker": {
             "colorbar": {
              "outlinewidth": 0,
              "ticks": ""
             }
            },
            "type": "scatter3d"
           }
          ],
          "scattercarpet": [
           {
            "marker": {
             "colorbar": {
              "outlinewidth": 0,
              "ticks": ""
             }
            },
            "type": "scattercarpet"
           }
          ],
          "scattergeo": [
           {
            "marker": {
             "colorbar": {
              "outlinewidth": 0,
              "ticks": ""
             }
            },
            "type": "scattergeo"
           }
          ],
          "scattergl": [
           {
            "marker": {
             "colorbar": {
              "outlinewidth": 0,
              "ticks": ""
             }
            },
            "type": "scattergl"
           }
          ],
          "scattermapbox": [
           {
            "marker": {
             "colorbar": {
              "outlinewidth": 0,
              "ticks": ""
             }
            },
            "type": "scattermapbox"
           }
          ],
          "scatterpolar": [
           {
            "marker": {
             "colorbar": {
              "outlinewidth": 0,
              "ticks": ""
             }
            },
            "type": "scatterpolar"
           }
          ],
          "scatterpolargl": [
           {
            "marker": {
             "colorbar": {
              "outlinewidth": 0,
              "ticks": ""
             }
            },
            "type": "scatterpolargl"
           }
          ],
          "scatterternary": [
           {
            "marker": {
             "colorbar": {
              "outlinewidth": 0,
              "ticks": ""
             }
            },
            "type": "scatterternary"
           }
          ],
          "surface": [
           {
            "colorbar": {
             "outlinewidth": 0,
             "ticks": ""
            },
            "colorscale": [
             [
              0,
              "#0d0887"
             ],
             [
              0.1111111111111111,
              "#46039f"
             ],
             [
              0.2222222222222222,
              "#7201a8"
             ],
             [
              0.3333333333333333,
              "#9c179e"
             ],
             [
              0.4444444444444444,
              "#bd3786"
             ],
             [
              0.5555555555555556,
              "#d8576b"
             ],
             [
              0.6666666666666666,
              "#ed7953"
             ],
             [
              0.7777777777777778,
              "#fb9f3a"
             ],
             [
              0.8888888888888888,
              "#fdca26"
             ],
             [
              1,
              "#f0f921"
             ]
            ],
            "type": "surface"
           }
          ],
          "table": [
           {
            "cells": {
             "fill": {
              "color": "#EBF0F8"
             },
             "line": {
              "color": "white"
             }
            },
            "header": {
             "fill": {
              "color": "#C8D4E3"
             },
             "line": {
              "color": "white"
             }
            },
            "type": "table"
           }
          ]
         },
         "layout": {
          "annotationdefaults": {
           "arrowcolor": "#2a3f5f",
           "arrowhead": 0,
           "arrowwidth": 1
          },
          "autotypenumbers": "strict",
          "coloraxis": {
           "colorbar": {
            "outlinewidth": 0,
            "ticks": ""
           }
          },
          "colorscale": {
           "diverging": [
            [
             0,
             "#8e0152"
            ],
            [
             0.1,
             "#c51b7d"
            ],
            [
             0.2,
             "#de77ae"
            ],
            [
             0.3,
             "#f1b6da"
            ],
            [
             0.4,
             "#fde0ef"
            ],
            [
             0.5,
             "#f7f7f7"
            ],
            [
             0.6,
             "#e6f5d0"
            ],
            [
             0.7,
             "#b8e186"
            ],
            [
             0.8,
             "#7fbc41"
            ],
            [
             0.9,
             "#4d9221"
            ],
            [
             1,
             "#276419"
            ]
           ],
           "sequential": [
            [
             0,
             "#0d0887"
            ],
            [
             0.1111111111111111,
             "#46039f"
            ],
            [
             0.2222222222222222,
             "#7201a8"
            ],
            [
             0.3333333333333333,
             "#9c179e"
            ],
            [
             0.4444444444444444,
             "#bd3786"
            ],
            [
             0.5555555555555556,
             "#d8576b"
            ],
            [
             0.6666666666666666,
             "#ed7953"
            ],
            [
             0.7777777777777778,
             "#fb9f3a"
            ],
            [
             0.8888888888888888,
             "#fdca26"
            ],
            [
             1,
             "#f0f921"
            ]
           ],
           "sequentialminus": [
            [
             0,
             "#0d0887"
            ],
            [
             0.1111111111111111,
             "#46039f"
            ],
            [
             0.2222222222222222,
             "#7201a8"
            ],
            [
             0.3333333333333333,
             "#9c179e"
            ],
            [
             0.4444444444444444,
             "#bd3786"
            ],
            [
             0.5555555555555556,
             "#d8576b"
            ],
            [
             0.6666666666666666,
             "#ed7953"
            ],
            [
             0.7777777777777778,
             "#fb9f3a"
            ],
            [
             0.8888888888888888,
             "#fdca26"
            ],
            [
             1,
             "#f0f921"
            ]
           ]
          },
          "colorway": [
           "#636efa",
           "#EF553B",
           "#00cc96",
           "#ab63fa",
           "#FFA15A",
           "#19d3f3",
           "#FF6692",
           "#B6E880",
           "#FF97FF",
           "#FECB52"
          ],
          "font": {
           "color": "#2a3f5f"
          },
          "geo": {
           "bgcolor": "white",
           "lakecolor": "white",
           "landcolor": "#E5ECF6",
           "showlakes": true,
           "showland": true,
           "subunitcolor": "white"
          },
          "hoverlabel": {
           "align": "left"
          },
          "hovermode": "closest",
          "mapbox": {
           "style": "light"
          },
          "paper_bgcolor": "white",
          "plot_bgcolor": "#E5ECF6",
          "polar": {
           "angularaxis": {
            "gridcolor": "white",
            "linecolor": "white",
            "ticks": ""
           },
           "bgcolor": "#E5ECF6",
           "radialaxis": {
            "gridcolor": "white",
            "linecolor": "white",
            "ticks": ""
           }
          },
          "scene": {
           "xaxis": {
            "backgroundcolor": "#E5ECF6",
            "gridcolor": "white",
            "gridwidth": 2,
            "linecolor": "white",
            "showbackground": true,
            "ticks": "",
            "zerolinecolor": "white"
           },
           "yaxis": {
            "backgroundcolor": "#E5ECF6",
            "gridcolor": "white",
            "gridwidth": 2,
            "linecolor": "white",
            "showbackground": true,
            "ticks": "",
            "zerolinecolor": "white"
           },
           "zaxis": {
            "backgroundcolor": "#E5ECF6",
            "gridcolor": "white",
            "gridwidth": 2,
            "linecolor": "white",
            "showbackground": true,
            "ticks": "",
            "zerolinecolor": "white"
           }
          },
          "shapedefaults": {
           "line": {
            "color": "#2a3f5f"
           }
          },
          "ternary": {
           "aaxis": {
            "gridcolor": "white",
            "linecolor": "white",
            "ticks": ""
           },
           "baxis": {
            "gridcolor": "white",
            "linecolor": "white",
            "ticks": ""
           },
           "bgcolor": "#E5ECF6",
           "caxis": {
            "gridcolor": "white",
            "linecolor": "white",
            "ticks": ""
           }
          },
          "title": {
           "x": 0.05
          },
          "xaxis": {
           "automargin": true,
           "gridcolor": "white",
           "linecolor": "white",
           "ticks": "",
           "title": {
            "standoff": 15
           },
           "zerolinecolor": "white",
           "zerolinewidth": 2
          },
          "yaxis": {
           "automargin": true,
           "gridcolor": "white",
           "linecolor": "white",
           "ticks": "",
           "title": {
            "standoff": 15
           },
           "zerolinecolor": "white",
           "zerolinewidth": 2
          }
         }
        },
        "title": {
         "text": "Stock Prices January - March 2021 CECONSUD"
        }
       }
      }
     },
     "metadata": {},
     "output_type": "display_data"
    }
   ],
   "source": [
    "fig = go.Figure()\n",
    "\n",
    "fig.add_trace(go.Scatter(x=stocks_price.index, y=stocks_price['Close'], name='Close Price'))\n",
    "fig.add_trace(go.Scatter(x=stocks_price.index, y=stocks_price['High'], name='Higher Price'))\n",
    "\n",
    "fig.update_layout(\n",
    "    title_text='Stock Prices January - March 2021 CECONSUD'\n",
    ")"
   ]
  },
  {
   "cell_type": "markdown",
   "metadata": {},
   "source": [
    "# Stock return"
   ]
  },
  {
   "cell_type": "code",
   "execution_count": 39,
   "metadata": {},
   "outputs": [],
   "source": [
    "tesla = yf.Ticker('TSLA')"
   ]
  },
  {
   "cell_type": "code",
   "execution_count": 40,
   "metadata": {},
   "outputs": [],
   "source": [
    "price = tesla.history(period='1y')"
   ]
  },
  {
   "cell_type": "code",
   "execution_count": 41,
   "metadata": {},
   "outputs": [
    {
     "name": "stdout",
     "output_type": "stream",
     "text": [
      "Date\n",
      "2021-01-15         NaN\n",
      "2021-01-19    0.022260\n",
      "2021-01-20    0.006986\n",
      "2021-01-21   -0.006420\n",
      "2021-01-22    0.001953\n",
      "                ...   \n",
      "2022-01-10    0.030342\n",
      "2022-01-11    0.005935\n",
      "2022-01-12    0.039290\n",
      "2022-01-13   -0.067491\n",
      "2022-01-14    0.017498\n",
      "Name: Close, Length: 253, dtype: float64\n"
     ]
    }
   ],
   "source": [
    "x = price['Close'].pct_change()\n",
    "print(x)"
   ]
  },
  {
   "cell_type": "code",
   "execution_count": 42,
   "metadata": {},
   "outputs": [
    {
     "data": {
      "text/plain": [
       "[<matplotlib.lines.Line2D at 0x170eb25ad90>]"
      ]
     },
     "execution_count": 42,
     "metadata": {},
     "output_type": "execute_result"
    },
    {
     "data": {
      "image/png": "[encoded data removed]",
      "text/plain": [
       "<Figure size 432x288 with 1 Axes>"
      ]
     },
     "metadata": {
      "needs_background": "light"
     },
     "output_type": "display_data"
    }
   ],
   "source": [
    "plt.plot(x)"
   ]
  },
  {
   "cell_type": "code",
   "execution_count": 43,
   "metadata": {},
   "outputs": [
    {
     "data": {
      "application/vnd.plotly.v1+json": {
       "config": {
        "plotlyServerURL": "https://plot.ly"
       },
       "data": [
        {
         "hovertemplate": "variable=Close<br>Date=%{x}<br>value=%{y}<extra></extra>",
         "legendgroup": "Close",
         "line": {
          "color": "#636efa",
          "dash": "solid"
         },
         "marker": {
          "symbol": "circle"
         },
         "mode": "lines",
         "name": "Close",
         "orientation": "v",
         "showlegend": true,
         "type": "scatter",
         "x": [
          "2021-01-15T00:00:00",
          "2021-01-19T00:00:00",
          "2021-01-20T00:00:00",
          "2021-01-21T00:00:00",
          "2021-01-22T00:00:00",
          "2021-01-25T00:00:00",
          "2021-01-26T00:00:00",
          "2021-01-27T00:00:00",
          "2021-01-28T00:00:00",
          "2021-01-29T00:00:00",
          "2021-02-01T00:00:00",
          "2021-02-02T00:00:00",
          "2021-02-03T00:00:00",
          "2021-02-04T00:00:00",
          "2021-02-05T00:00:00",
          "2021-02-08T00:00:00",
          "2021-02-09T00:00:00",
          "2021-02-10T00:00:00",
          "2021-02-11T00:00:00",
          "2021-02-12T00:00:00",
          "2021-02-16T00:00:00",
          "2021-02-17T00:00:00",
          "2021-02-18T00:00:00",
          "2021-02-19T00:00:00",
          "2021-02-22T00:00:00",
          "2021-02-23T00:00:00",
          "2021-02-24T00:00:00",
          "2021-02-25T00:00:00",
          "2021-02-26T00:00:00",
          "2021-03-01T00:00:00",
          "2021-03-02T00:00:00",
          "2021-03-03T00:00:00",
          "2021-03-04T00:00:00",
          "2021-03-05T00:00:00",
          "2021-03-08T00:00:00",
          "2021-03-09T00:00:00",
          "2021-03-10T00:00:00",
          "2021-03-11T00:00:00",
          "2021-03-12T00:00:00",
          "2021-03-15T00:00:00",
          "2021-03-16T00:00:00",
          "2021-03-17T00:00:00",
          "2021-03-18T00:00:00",
          "2021-03-19T00:00:00",
          "2021-03-22T00:00:00",
          "2021-03-23T00:00:00",
          "2021-03-24T00:00:00",
          "2021-03-25T00:00:00",
          "2021-03-26T00:00:00",
          "2021-03-29T00:00:00",
          "2021-03-30T00:00:00",
          "2021-03-31T00:00:00",
          "2021-04-01T00:00:00",
          "2021-04-05T00:00:00",
          "2021-04-06T00:00:00",
          "2021-04-07T00:00:00",
          "2021-04-08T00:00:00",
          "2021-04-09T00:00:00",
          "2021-04-12T00:00:00",
          "2021-04-13T00:00:00",
          "2021-04-14T00:00:00",
          "2021-04-15T00:00:00",
          "2021-04-16T00:00:00",
          "2021-04-19T00:00:00",
          "2021-04-20T00:00:00",
          "2021-04-21T00:00:00",
          "2021-04-22T00:00:00",
          "2021-04-23T00:00:00",
          "2021-04-26T00:00:00",
          "2021-04-27T00:00:00",
          "2021-04-28T00:00:00",
          "2021-04-29T00:00:00",
          "2021-04-30T00:00:00",
          "2021-05-03T00:00:00",
          "2021-05-04T00:00:00",
          "2021-05-05T00:00:00",
          "2021-05-06T00:00:00",
          "2021-05-07T00:00:00",
          "2021-05-10T00:00:00",
          "2021-05-11T00:00:00",
          "2021-05-12T00:00:00",
          "2021-05-13T00:00:00",
          "2021-05-14T00:00:00",
          "2021-05-17T00:00:00",
          "2021-05-18T00:00:00",
          "2021-05-19T00:00:00",
          "2021-05-20T00:00:00",
          "2021-05-21T00:00:00",
          "2021-05-24T00:00:00",
          "2021-05-25T00:00:00",
          "2021-05-26T00:00:00",
          "2021-05-27T00:00:00",
          "2021-05-28T00:00:00",
          "2021-06-01T00:00:00",
          "2021-06-02T00:00:00",
          "2021-06-03T00:00:00",
          "2021-06-04T00:00:00",
          "2021-06-07T00:00:00",
          "2021-06-08T00:00:00",
          "2021-06-09T00:00:00",
          "2021-06-10T00:00:00",
          "2021-06-11T00:00:00",
          "2021-06-14T00:00:00",
          "2021-06-15T00:00:00",
          "2021-06-16T00:00:00",
          "2021-06-17T00:00:00",
          "2021-06-18T00:00:00",
          "2021-06-21T00:00:00",
          "2021-06-22T00:00:00",
          "2021-06-23T00:00:00",
          "2021-06-24T00:00:00",
          "2021-06-25T00:00:00",
          "2021-06-28T00:00:00",
          "2021-06-29T00:00:00",
          "2021-06-30T00:00:00",
          "2021-07-01T00:00:00",
          "2021-07-02T00:00:00",
          "2021-07-06T00:00:00",
          "2021-07-07T00:00:00",
          "2021-07-08T00:00:00",
          "2021-07-09T00:00:00",
          "2021-07-12T00:00:00",
          "2021-07-13T00:00:00",
          "2021-07-14T00:00:00",
          "2021-07-15T00:00:00",
          "2021-07-16T00:00:00",
          "2021-07-19T00:00:00",
          "2021-07-20T00:00:00",
          "2021-07-21T00:00:00",
          "2021-07-22T00:00:00",
          "2021-07-23T00:00:00",
          "2021-07-26T00:00:00",
          "2021-07-27T00:00:00",
          "2021-07-28T00:00:00",
          "2021-07-29T00:00:00",
          "2021-07-30T00:00:00",
          "2021-08-02T00:00:00",
          "2021-08-03T00:00:00",
          "2021-08-04T00:00:00",
          "2021-08-05T00:00:00",
          "2021-08-06T00:00:00",
          "2021-08-09T00:00:00",
          "2021-08-10T00:00:00",
          "2021-08-11T00:00:00",
          "2021-08-12T00:00:00",
          "2021-08-13T00:00:00",
          "2021-08-16T00:00:00",
          "2021-08-17T00:00:00",
          "2021-08-18T00:00:00",
          "2021-08-19T00:00:00",
          "2021-08-20T00:00:00",
          "2021-08-23T00:00:00",
          "2021-08-24T00:00:00",
          "2021-08-25T00:00:00",
          "2021-08-26T00:00:00",
          "2021-08-27T00:00:00",
          "2021-08-30T00:00:00",
          "2021-08-31T00:00:00",
          "2021-09-01T00:00:00",
          "2021-09-02T00:00:00",
          "2021-09-03T00:00:00",
          "2021-09-07T00:00:00",
          "2021-09-08T00:00:00",
          "2021-09-09T00:00:00",
          "2021-09-10T00:00:00",
          "2021-09-13T00:00:00",
          "2021-09-14T00:00:00",
          "2021-09-15T00:00:00",
          "2021-09-16T00:00:00",
          "2021-09-17T00:00:00",
          "2021-09-20T00:00:00",
          "2021-09-21T00:00:00",
          "2021-09-22T00:00:00",
          "2021-09-23T00:00:00",
          "2021-09-24T00:00:00",
          "2021-09-27T00:00:00",
          "2021-09-28T00:00:00",
          "2021-09-29T00:00:00",
          "2021-09-30T00:00:00",
          "2021-10-01T00:00:00",
          "2021-10-04T00:00:00",
          "2021-10-05T00:00:00",
          "2021-10-06T00:00:00",
          "2021-10-07T00:00:00",
          "2021-10-08T00:00:00",
          "2021-10-11T00:00:00",
          "2021-10-12T00:00:00",
          "2021-10-13T00:00:00",
          "2021-10-14T00:00:00",
          "2021-10-15T00:00:00",
          "2021-10-18T00:00:00",
          "2021-10-19T00:00:00",
          "2021-10-20T00:00:00",
          "2021-10-21T00:00:00",
          "2021-10-22T00:00:00",
          "2021-10-25T00:00:00",
          "2021-10-26T00:00:00",
          "2021-10-27T00:00:00",
          "2021-10-28T00:00:00",
          "2021-10-29T00:00:00",
          "2021-11-01T00:00:00",
          "2021-11-02T00:00:00",
          "2021-11-03T00:00:00",
          "2021-11-04T00:00:00",
          "2021-11-05T00:00:00",
          "2021-11-08T00:00:00",
          "2021-11-09T00:00:00",
          "2021-11-10T00:00:00",
          "2021-11-11T00:00:00",
          "2021-11-12T00:00:00",
          "2021-11-15T00:00:00",
          "2021-11-16T00:00:00",
          "2021-11-17T00:00:00",
          "2021-11-18T00:00:00",
          "2021-11-19T00:00:00",
          "2021-11-22T00:00:00",
          "2021-11-23T00:00:00",
          "2021-11-24T00:00:00",
          "2021-11-26T00:00:00",
          "2021-11-29T00:00:00",
          "2021-11-30T00:00:00",
          "2021-12-01T00:00:00",
          "2021-12-02T00:00:00",
          "2021-12-03T00:00:00",
          "2021-12-06T00:00:00",
          "2021-12-07T00:00:00",
          "2021-12-08T00:00:00",
          "2021-12-09T00:00:00",
          "2021-12-10T00:00:00",
          "2021-12-13T00:00:00",
          "2021-12-14T00:00:00",
          "2021-12-15T00:00:00",
          "2021-12-16T00:00:00",
          "2021-12-17T00:00:00",
          "2021-12-20T00:00:00",
          "2021-12-21T00:00:00",
          "2021-12-22T00:00:00",
          "2021-12-23T00:00:00",
          "2021-12-27T00:00:00",
          "2021-12-28T00:00:00",
          "2021-12-29T00:00:00",
          "2021-12-30T00:00:00",
          "2021-12-31T00:00:00",
          "2022-01-03T00:00:00",
          "2022-01-04T00:00:00",
          "2022-01-05T00:00:00",
          "2022-01-06T00:00:00",
          "2022-01-07T00:00:00",
          "2022-01-10T00:00:00",
          "2022-01-11T00:00:00",
          "2022-01-12T00:00:00",
          "2022-01-13T00:00:00",
          "2022-01-14T00:00:00"
         ],
         "xaxis": "x",
         "y": [
          null,
          0.022259629183487784,
          0.00698599786790699,
          -0.006420156263490129,
          0.0019527147458928695,
          0.040347695069333556,
          0.0025999535583989264,
          -0.021436153886081333,
          -0.033246136550627914,
          -0.05015376961115048,
          0.058321634409634227,
          0.03927076429743148,
          -0.020738065332563282,
          -0.005499084104886864,
          0.002635313662643579,
          0.013130261429258105,
          -0.016168216179625494,
          -0.05255104830568991,
          0.008498752215484018,
          0.005494938915587166,
          -0.024383699128955993,
          0.0024240207253696244,
          -0.013493728248842096,
          -0.00772183323444775,
          -0.08549851380603068,
          -0.021917387186187853,
          0.06178809314926603,
          -0.08059088333748998,
          -0.009850152431332582,
          0.06355291291751475,
          -0.04452763743232491,
          -0.04842373713092618,
          -0.04862218183112754,
          -0.03779928897736162,
          -0.05844972237400059,
          0.1964121085077153,
          -0.008195046455057975,
          0.04721129560609172,
          -0.00839050217557713,
          0.02048350564733359,
          -0.043873771013758334,
          0.03683074177984813,
          -0.06932079135849123,
          0.0026180752694069387,
          0.02310382976105818,
          -0.01170153262010265,
          -0.04816049732187688,
          0.016056602414174836,
          -0.03385435778177015,
          -0.011992765078630674,
          0.03980110579983265,
          0.050832254817026135,
          -0.009252455711748597,
          0.044276521032064586,
          0.0008248423909813507,
          -0.029857471674981872,
          0.01912159656921597,
          -0.009915133639592177,
          0.03686738976312931,
          0.08595690551627477,
          -0.03947164782029822,
          0.009040868707601346,
          0.0012587856015018328,
          -0.03399662523732405,
          0.006101038749803722,
          0.034951814662427694,
          -0.0328307165995908,
          0.013491950617233739,
          0.012064693581602004,
          -0.04532649880703643,
          -0.014672029349255045,
          -0.025057637964147172,
          0.047917285733244164,
          -0.03459063196731782,
          -0.01649882964713323,
          -0.003948891390943787,
          -0.011029338520784915,
          0.013307437957385426,
          -0.0644437101662928,
          -0.018822278764288325,
          -0.044248212926854213,
          -0.030853229848072816,
          0.03157303383981902,
          -0.021890957639485453,
          0.0018029193983186698,
          -0.024936358119111213,
          0.04138715510388136,
          -0.0100549168674543,
          0.0440021989804078,
          -0.0028856935442168608,
          0.023880008571508515,
          0.018929741105574882,
          -0.008924475074415739,
          -0.0021111710292588404,
          -0.03010102350053967,
          -0.05334473909669335,
          0.045754416082577576,
          0.010149431956828714,
          -0.0025448713746097917,
          -0.007968981170302758,
          0.0189384502913843,
          -0.00037694301217883197,
          0.012789171171239788,
          -0.029675107282609026,
          0.009193155866741742,
          0.019392564622878083,
          0.010882293607423321,
          -0.0039787272440097166,
          0.004638958818893091,
          0.052684715964052664,
          0.035411303807118655,
          -0.011694289843458106,
          0.025079220248551914,
          -0.011557615977613622,
          -0.0015570796512542895,
          -0.0026188454684518137,
          0.0014456595595533361,
          -0.028457809146336777,
          -0.02263560491364547,
          0.012657989351583465,
          0.006341837079579804,
          0.043762842630010734,
          -0.025025570765932037,
          -0.022676240229138833,
          -0.004254842933820169,
          -0.009806340489125542,
          0.0031045296497360653,
          0.022097783950157934,
          -0.00788799693059239,
          -0.009201984562423937,
          -0.009056471666775034,
          0.022133094168770073,
          -0.019524901790774263,
          0.00341194061837502,
          0.04694116670377313,
          0.014542019600093825,
          0.03269786132709718,
          0.00009864771781908921,
          0.001662570366637528,
          0.005218621028866277,
          -0.021731566252135792,
          0.020969867961160293,
          -0.00528191476080031,
          -0.0030563570472872392,
          0.020386528392057013,
          -0.007033599293656989,
          -0.04322545664028932,
          -0.029817627478727737,
          0.034970133381400315,
          -0.022525754729717518,
          0.010082170486994446,
          0.03827944852485965,
          0.003100668949817642,
          0.003825067410987426,
          -0.014117040059298147,
          0.01534601257594459,
          0.026674332355089314,
          0.0065808344875910585,
          -0.00221544053792444,
          -0.002315808885612225,
          0.0016111534185070386,
          0.026377817239991552,
          0.0012617704783970396,
          0.0013132108198856685,
          -0.024627038366134335,
          0.009140641734991073,
          0.0020053704365747826,
          0.0152319399914278,
          0.001534701081332468,
          0.0033025535769977132,
          -0.0386048633967786,
          0.012613531353273144,
          0.016987202082350716,
          0.002260834909050713,
          0.027533039112419777,
          0.021913984403361786,
          -0.017438318904686723,
          0.004822778964677088,
          -0.0074618488283282325,
          -0.00033528881747257877,
          0.008139700771674807,
          -0.0012027720064089475,
          0.0027671031786462574,
          0.013874142895640373,
          -0.010231719946908746,
          0.008211450543254672,
          0.01740026797388383,
          0.00665249290276515,
          0.008926357550210762,
          0.030196037920976915,
          0.03212217253669292,
          -0.00671175589135764,
          0.0017702433581445742,
          0.032571047129391406,
          0.017539141695504856,
          0.12661594583056024,
          -0.006274020615192222,
          0.019078378303384103,
          0.03775080864849589,
          0.03431623672010509,
          0.08491020271123206,
          -0.03027492106926244,
          0.03571671105082119,
          0.013222323020621207,
          -0.006358244214659803,
          -0.04840071195115225,
          -0.11990296011128176,
          0.04342936118404972,
          -0.00415744333466006,
          -0.028293072508968398,
          -0.0193822728852886,
          0.040793737083203885,
          0.03250123721868614,
          0.006767610078050268,
          0.03710397264613152,
          0.017422066999642327,
          -0.04135293163642506,
          0.006284744794100794,
          -0.030537595031082,
          0.05090019969335757,
          0.006833850427872656,
          -0.04346763456194869,
          -0.00949773919092467,
          -0.06419878890850617,
          -0.0058720564248528895,
          0.04235834116680648,
          0.01636316704302354,
          -0.06095642075067487,
          0.013179957825059097,
          -0.04977243020772948,
          -0.00817454661938255,
          0.018236617552929157,
          -0.05027716248650771,
          0.006095482369819827,
          -0.034989335520704046,
          0.04288066621194697,
          0.0749469528140827,
          0.05761892529677248,
          0.02524830497305519,
          -0.0050002477248370925,
          -0.0020947103349137075,
          -0.014592268793630292,
          -0.012668812673032437,
          0.13531671306766135,
          -0.04183272120805026,
          -0.05347121367683638,
          -0.02152340187700552,
          -0.03544659713080289,
          0.03034201464995956,
          0.005935082340240205,
          0.039289689336566624,
          -0.06749101813983738,
          0.017497698371938375
         ],
         "yaxis": "y"
        }
       ],
       "layout": {
        "legend": {
         "title": {
          "text": "variable"
         },
         "tracegroupgap": 0
        },
        "margin": {
         "t": 60
        },
        "template": {
         "data": {
          "bar": [
           {
            "error_x": {
             "color": "#2a3f5f"
            },
            "error_y": {
             "color": "#2a3f5f"
            },
            "marker": {
             "line": {
              "color": "#E5ECF6",
              "width": 0.5
             },
             "pattern": {
              "fillmode": "overlay",
              "size": 10,
              "solidity": 0.2
             }
            },
            "type": "bar"
           }
          ],
          "barpolar": [
           {
            "marker": {
             "line": {
              "color": "#E5ECF6",
              "width": 0.5
             },
             "pattern": {
              "fillmode": "overlay",
              "size": 10,
              "solidity": 0.2
             }
            },
            "type": "barpolar"
           }
          ],
          "carpet": [
           {
            "aaxis": {
             "endlinecolor": "#2a3f5f",
             "gridcolor": "white",
             "linecolor": "white",
             "minorgridcolor": "white",
             "startlinecolor": "#2a3f5f"
            },
            "baxis": {
             "endlinecolor": "#2a3f5f",
             "gridcolor": "white",
             "linecolor": "white",
             "minorgridcolor": "white",
             "startlinecolor": "#2a3f5f"
            },
            "type": "carpet"
           }
          ],
          "choropleth": [
           {
            "colorbar": {
             "outlinewidth": 0,
             "ticks": ""
            },
            "type": "choropleth"
           }
          ],
          "contour": [
           {
            "colorbar": {
             "outlinewidth": 0,
             "ticks": ""
            },
            "colorscale": [
             [
              0,
              "#0d0887"
             ],
             [
              0.1111111111111111,
              "#46039f"
             ],
             [
              0.2222222222222222,
              "#7201a8"
             ],
             [
              0.3333333333333333,
              "#9c179e"
             ],
             [
              0.4444444444444444,
              "#bd3786"
             ],
             [
              0.5555555555555556,
              "#d8576b"
             ],
             [
              0.6666666666666666,
              "#ed7953"
             ],
             [
              0.7777777777777778,
              "#fb9f3a"
             ],
             [
              0.8888888888888888,
              "#fdca26"
             ],
             [
              1,
              "#f0f921"
             ]
            ],
            "type": "contour"
           }
          ],
          "contourcarpet": [
           {
            "colorbar": {
             "outlinewidth": 0,
             "ticks": ""
            },
            "type": "contourcarpet"
           }
          ],
          "heatmap": [
           {
            "colorbar": {
             "outlinewidth": 0,
             "ticks": ""
            },
            "colorscale": [
             [
              0,
              "#0d0887"
             ],
             [
              0.1111111111111111,
              "#46039f"
             ],
             [
              0.2222222222222222,
              "#7201a8"
             ],
             [
              0.3333333333333333,
              "#9c179e"
             ],
             [
              0.4444444444444444,
              "#bd3786"
             ],
             [
              0.5555555555555556,
              "#d8576b"
             ],
             [
              0.6666666666666666,
              "#ed7953"
             ],
             [
              0.7777777777777778,
              "#fb9f3a"
             ],
             [
              0.8888888888888888,
              "#fdca26"
             ],
             [
              1,
              "#f0f921"
             ]
            ],
            "type": "heatmap"
           }
          ],
          "heatmapgl": [
           {
            "colorbar": {
             "outlinewidth": 0,
             "ticks": ""
            },
            "colorscale": [
             [
              0,
              "#0d0887"
             ],
             [
              0.1111111111111111,
              "#46039f"
             ],
             [
              0.2222222222222222,
              "#7201a8"
             ],
             [
              0.3333333333333333,
              "#9c179e"
             ],
             [
              0.4444444444444444,
              "#bd3786"
             ],
             [
              0.5555555555555556,
              "#d8576b"
             ],
             [
              0.6666666666666666,
              "#ed7953"
             ],
             [
              0.7777777777777778,
              "#fb9f3a"
             ],
             [
              0.8888888888888888,
              "#fdca26"
             ],
             [
              1,
              "#f0f921"
             ]
            ],
            "type": "heatmapgl"
           }
          ],
          "histogram": [
           {
            "marker": {
             "pattern": {
              "fillmode": "overlay",
              "size": 10,
              "solidity": 0.2
             }
            },
            "type": "histogram"
           }
          ],
          "histogram2d": [
           {
            "colorbar": {
             "outlinewidth": 0,
             "ticks": ""
            },
            "colorscale": [
             [
              0,
              "#0d0887"
             ],
             [
              0.1111111111111111,
              "#46039f"
             ],
             [
              0.2222222222222222,
              "#7201a8"
             ],
             [
              0.3333333333333333,
              "#9c179e"
             ],
             [
              0.4444444444444444,
              "#bd3786"
             ],
             [
              0.5555555555555556,
              "#d8576b"
             ],
             [
              0.6666666666666666,
              "#ed7953"
             ],
             [
              0.7777777777777778,
              "#fb9f3a"
             ],
             [
              0.8888888888888888,
              "#fdca26"
             ],
             [
              1,
              "#f0f921"
             ]
            ],
            "type": "histogram2d"
           }
          ],
          "histogram2dcontour": [
           {
            "colorbar": {
             "outlinewidth": 0,
             "ticks": ""
            },
            "colorscale": [
             [
              0,
              "#0d0887"
             ],
             [
              0.1111111111111111,
              "#46039f"
             ],
             [
              0.2222222222222222,
              "#7201a8"
             ],
             [
              0.3333333333333333,
              "#9c179e"
             ],
             [
              0.4444444444444444,
              "#bd3786"
             ],
             [
              0.5555555555555556,
              "#d8576b"
             ],
             [
              0.6666666666666666,
              "#ed7953"
             ],
             [
              0.7777777777777778,
              "#fb9f3a"
             ],
             [
              0.8888888888888888,
              "#fdca26"
             ],
             [
              1,
              "#f0f921"
             ]
            ],
            "type": "histogram2dcontour"
           }
          ],
          "mesh3d": [
           {
            "colorbar": {
             "outlinewidth": 0,
             "ticks": ""
            },
            "type": "mesh3d"
           }
          ],
          "parcoords": [
           {
            "line": {
             "colorbar": {
              "outlinewidth": 0,
              "ticks": ""
             }
            },
            "type": "parcoords"
           }
          ],
          "pie": [
           {
            "automargin": true,
            "type": "pie"
           }
          ],
          "scatter": [
           {
            "marker": {
             "colorbar": {
              "outlinewidth": 0,
              "ticks": ""
             }
            },
            "type": "scatter"
           }
          ],
          "scatter3d": [
           {
            "line": {
             "colorbar": {
              "outlinewidth": 0,
              "ticks": ""
             }
            },
            "marker": {
             "colorbar": {
              "outlinewidth": 0,
              "ticks": ""
             }
            },
            "type": "scatter3d"
           }
          ],
          "scattercarpet": [
           {
            "marker": {
             "colorbar": {
              "outlinewidth": 0,
              "ticks": ""
             }
            },
            "type": "scattercarpet"
           }
          ],
          "scattergeo": [
           {
            "marker": {
             "colorbar": {
              "outlinewidth": 0,
              "ticks": ""
             }
            },
            "type": "scattergeo"
           }
          ],
          "scattergl": [
           {
            "marker": {
             "colorbar": {
              "outlinewidth": 0,
              "ticks": ""
             }
            },
            "type": "scattergl"
           }
          ],
          "scattermapbox": [
           {
            "marker": {
             "colorbar": {
              "outlinewidth": 0,
              "ticks": ""
             }
            },
            "type": "scattermapbox"
           }
          ],
          "scatterpolar": [
           {
            "marker": {
             "colorbar": {
              "outlinewidth": 0,
              "ticks": ""
             }
            },
            "type": "scatterpolar"
           }
          ],
          "scatterpolargl": [
           {
            "marker": {
             "colorbar": {
              "outlinewidth": 0,
              "ticks": ""
             }
            },
            "type": "scatterpolargl"
           }
          ],
          "scatterternary": [
           {
            "marker": {
             "colorbar": {
              "outlinewidth": 0,
              "ticks": ""
             }
            },
            "type": "scatterternary"
           }
          ],
          "surface": [
           {
            "colorbar": {
             "outlinewidth": 0,
             "ticks": ""
            },
            "colorscale": [
             [
              0,
              "#0d0887"
             ],
             [
              0.1111111111111111,
              "#46039f"
             ],
             [
              0.2222222222222222,
              "#7201a8"
             ],
             [
              0.3333333333333333,
              "#9c179e"
             ],
             [
              0.4444444444444444,
              "#bd3786"
             ],
             [
              0.5555555555555556,
              "#d8576b"
             ],
             [
              0.6666666666666666,
              "#ed7953"
             ],
             [
              0.7777777777777778,
              "#fb9f3a"
             ],
             [
              0.8888888888888888,
              "#fdca26"
             ],
             [
              1,
              "#f0f921"
             ]
            ],
            "type": "surface"
           }
          ],
          "table": [
           {
            "cells": {
             "fill": {
              "color": "#EBF0F8"
             },
             "line": {
              "color": "white"
             }
            },
            "header": {
             "fill": {
              "color": "#C8D4E3"
             },
             "line": {
              "color": "white"
             }
            },
            "type": "table"
           }
          ]
         },
         "layout": {
          "annotationdefaults": {
           "arrowcolor": "#2a3f5f",
           "arrowhead": 0,
           "arrowwidth": 1
          },
          "autotypenumbers": "strict",
          "coloraxis": {
           "colorbar": {
            "outlinewidth": 0,
            "ticks": ""
           }
          },
          "colorscale": {
           "diverging": [
            [
             0,
             "#8e0152"
            ],
            [
             0.1,
             "#c51b7d"
            ],
            [
             0.2,
             "#de77ae"
            ],
            [
             0.3,
             "#f1b6da"
            ],
            [
             0.4,
             "#fde0ef"
            ],
            [
             0.5,
             "#f7f7f7"
            ],
            [
             0.6,
             "#e6f5d0"
            ],
            [
             0.7,
             "#b8e186"
            ],
            [
             0.8,
             "#7fbc41"
            ],
            [
             0.9,
             "#4d9221"
            ],
            [
             1,
             "#276419"
            ]
           ],
           "sequential": [
            [
             0,
             "#0d0887"
            ],
            [
             0.1111111111111111,
             "#46039f"
            ],
            [
             0.2222222222222222,
             "#7201a8"
            ],
            [
             0.3333333333333333,
             "#9c179e"
            ],
            [
             0.4444444444444444,
             "#bd3786"
            ],
            [
             0.5555555555555556,
             "#d8576b"
            ],
            [
             0.6666666666666666,
             "#ed7953"
            ],
            [
             0.7777777777777778,
             "#fb9f3a"
            ],
            [
             0.8888888888888888,
             "#fdca26"
            ],
            [
             1,
             "#f0f921"
            ]
           ],
           "sequentialminus": [
            [
             0,
             "#0d0887"
            ],
            [
             0.1111111111111111,
             "#46039f"
            ],
            [
             0.2222222222222222,
             "#7201a8"
            ],
            [
             0.3333333333333333,
             "#9c179e"
            ],
            [
             0.4444444444444444,
             "#bd3786"
            ],
            [
             0.5555555555555556,
             "#d8576b"
            ],
            [
             0.6666666666666666,
             "#ed7953"
            ],
            [
             0.7777777777777778,
             "#fb9f3a"
            ],
            [
             0.8888888888888888,
             "#fdca26"
            ],
            [
             1,
             "#f0f921"
            ]
           ]
          },
          "colorway": [
           "#636efa",
           "#EF553B",
           "#00cc96",
           "#ab63fa",
           "#FFA15A",
           "#19d3f3",
           "#FF6692",
           "#B6E880",
           "#FF97FF",
           "#FECB52"
          ],
          "font": {
           "color": "#2a3f5f"
          },
          "geo": {
           "bgcolor": "white",
           "lakecolor": "white",
           "landcolor": "#E5ECF6",
           "showlakes": true,
           "showland": true,
           "subunitcolor": "white"
          },
          "hoverlabel": {
           "align": "left"
          },
          "hovermode": "closest",
          "mapbox": {
           "style": "light"
          },
          "paper_bgcolor": "white",
          "plot_bgcolor": "#E5ECF6",
          "polar": {
           "angularaxis": {
            "gridcolor": "white",
            "linecolor": "white",
            "ticks": ""
           },
           "bgcolor": "#E5ECF6",
           "radialaxis": {
            "gridcolor": "white",
            "linecolor": "white",
            "ticks": ""
           }
          },
          "scene": {
           "xaxis": {
            "backgroundcolor": "#E5ECF6",
            "gridcolor": "white",
            "gridwidth": 2,
            "linecolor": "white",
            "showbackground": true,
            "ticks": "",
            "zerolinecolor": "white"
           },
           "yaxis": {
            "backgroundcolor": "#E5ECF6",
            "gridcolor": "white",
            "gridwidth": 2,
            "linecolor": "white",
            "showbackground": true,
            "ticks": "",
            "zerolinecolor": "white"
           },
           "zaxis": {
            "backgroundcolor": "#E5ECF6",
            "gridcolor": "white",
            "gridwidth": 2,
            "linecolor": "white",
            "showbackground": true,
            "ticks": "",
            "zerolinecolor": "white"
           }
          },
          "shapedefaults": {
           "line": {
            "color": "#2a3f5f"
           }
          },
          "ternary": {
           "aaxis": {
            "gridcolor": "white",
            "linecolor": "white",
            "ticks": ""
           },
           "baxis": {
            "gridcolor": "white",
            "linecolor": "white",
            "ticks": ""
           },
           "bgcolor": "#E5ECF6",
           "caxis": {
            "gridcolor": "white",
            "linecolor": "white",
            "ticks": ""
           }
          },
          "title": {
           "x": 0.05
          },
          "xaxis": {
           "automargin": true,
           "gridcolor": "white",
           "linecolor": "white",
           "ticks": "",
           "title": {
            "standoff": 15
           },
           "zerolinecolor": "white",
           "zerolinewidth": 2
          },
          "yaxis": {
           "automargin": true,
           "gridcolor": "white",
           "linecolor": "white",
           "ticks": "",
           "title": {
            "standoff": 15
           },
           "zerolinecolor": "white",
           "zerolinewidth": 2
          }
         }
        },
        "xaxis": {
         "anchor": "y",
         "domain": [
          0,
          1
         ],
         "title": {
          "text": "Date"
         }
        },
        "yaxis": {
         "anchor": "x",
         "domain": [
          0,
          1
         ],
         "title": {
          "text": "value"
         }
        }
       }
      }
     },
     "metadata": {},
     "output_type": "display_data"
    }
   ],
   "source": [
    "px.line(x)"
   ]
  },
  {
   "cell_type": "code",
   "execution_count": 44,
   "metadata": {},
   "outputs": [],
   "source": [
    "returns = (x+1).cumprod()"
   ]
  },
  {
   "cell_type": "code",
   "execution_count": 46,
   "metadata": {},
   "outputs": [
    {
     "data": {
      "text/plain": [
       "(array([35., 62., 53., 23., 20.,  6., 12., 25., 10.,  6.]),\n",
       " array([0.68146608, 0.76219016, 0.84291424, 0.92363832, 1.0043624 ,\n",
       "        1.08508648, 1.16581056, 1.24653464, 1.32725872, 1.4079828 ,\n",
       "        1.48870688]),\n",
       " <BarContainer object of 10 artists>)"
      ]
     },
     "execution_count": 46,
     "metadata": {},
     "output_type": "execute_result"
    },
    {
     "data": {
      "image/png": "[encoded data removed]",
      "text/plain": [
       "<Figure size 432x288 with 1 Axes>"
      ]
     },
     "metadata": {
      "needs_background": "light"
     },
     "output_type": "display_data"
    }
   ],
   "source": [
    "plt.hist(returns)"
   ]
  },
  {
   "cell_type": "code",
   "execution_count": 45,
   "metadata": {},
   "outputs": [
    {
     "data": {
      "application/vnd.plotly.v1+json": {
       "config": {
        "plotlyServerURL": "https://plot.ly"
       },
       "data": [
        {
         "alignmentgroup": "True",
         "bingroup": "x",
         "hovertemplate": "variable=Close<br>value=%{x}<br>count=%{y}<extra></extra>",
         "legendgroup": "Close",
         "marker": {
          "color": "#636efa",
          "pattern": {
           "shape": ""
          }
         },
         "name": "Close",
         "offsetgroup": "Close",
         "orientation": "v",
         "showlegend": true,
         "type": "histogram",
         "x": [
          null,
          1.0222596291834878,
          1.029401132773411,
          1.022792216643192,
          1.0247894380866156,
          1.066137329844808,
          1.06890923738928,
          1.0459959344863494,
          1.0112206108170145,
          0.9605040852760511,
          1.016522253386481,
          1.0564418592023155,
          1.0345332989061233,
          1.0288443132861325,
          1.0315556407616686,
          1.0451002360036952,
          1.0282028294586099,
          0.9741696928996834,
          0.9824489197354719,
          0.987847416537103,
          0.9637600423469458,
          0.9660962166638779,
          0.953059976853981,
          0.945700606650288,
          0.8648446102762267,
          0.8458894760969149,
          0.8981553738399749,
          0.8257722388878977,
          0.8176382564612892,
          0.8696015493722021,
          0.8308802468711687,
          0.7906459202094002,
          0.7522029905129396,
          0.7237702523049054,
          0.6814660819951234,
          0.8153142720362772,
          0.808632733701468,
          0.84680933272901,
          0.8397041771804483,
          0.8569042624358136,
          0.8193086410449912,
          0.8494843860413176,
          0.7905974561542514,
          0.7926672998022648,
          0.810980950154054,
          0.8014912301115446,
          0.7628910138702497,
          0.7751404515653111,
          0.7488985693868961,
          0.7399172047765165,
          0.769366727726943,
          0.8084753732785006,
          0.8009949906932019,
          0.8364602622452079,
          0.837150210127879,
          0.8121550214412808,
          0.827684722112944,
          0.8194781174817454,
          0.8496901366413003,
          0.9227268714346872,
          0.8863053213310916,
          0.8943182913760944,
          0.8954440463644384,
          0.8650019706991936,
          0.870279381241086,
          0.9006972248787566,
          0.8711266895467242,
          0.882879887823443,
          0.893531563139392,
          0.8530309058087049,
          0.840515211322858,
          0.8194538854541712,
          0.8587198914286959,
          0.8290162277012707,
          0.8153384301857184,
          0.8121187472780523,
          0.8031616146952469,
          0.8138496380525574,
          0.7614021478589561,
          0.747070824380227,
          0.7140142754716102,
          0.6919846289156795,
          0.7138326830210688,
          0.6982062019953744,
          0.6994650115009783,
          0.6820229014824016,
          0.710249889090453,
          0.7031083855005298,
          0.7340467005841174,
          0.7319284667590881,
          0.7494069248190262,
          0.7635930038885753,
          0.7567783371583735,
          0.7551806486573941,
          0.7324489382050051,
          0.6933766406948091,
          0.7251016840150992,
          0.7324610542187924,
          0.7305970350488945,
          0.7247749210335108,
          0.7385010348479459,
          0.7382226620433732,
          0.7476639180307342,
          0.7254769110518363,
          0.7321463333728582,
          0.7463445284561946,
          0.7544664687471488,
          0.7514646524532528,
          0.7549506660298372,
          0.7947250274364915,
          0.8228672768261659,
          0.8132444283882636,
          0.8336399645237206,
          0.824005073950164,
          0.8227220324169859,
          0.8205674505505952,
          0.821753711729742,
          0.7983684014360432,
          0.7802968497255982,
          0.790173838940499,
          0.7951849926916057,
          0.8299845483885147,
          0.8092137113381878,
          0.79086378682317,
          0.7874987856281912,
          0.7797763044015483,
          0.7821971430587246,
          0.7994819665324671,
          0.793175655234395,
          0.7858768650996376,
          0.7787595935372887,
          0.7959959529558827,
          0.7804542101485653,
          0.783117073568953,
          0.8198775026679241,
          0.8318001773813971,
          0.8589982642332689,
          0.859083002451646,
          0.8605112883940041,
          0.8650019706991939,
          0.8462041230647164,
          0.8639489117935729,
          0.8593856072837931,
          0.856759018026634,
          0.8742253600727848,
          0.8680764091976799,
          0.8305534100114476,
          0.8057882778305392,
          0.833966801383442,
          0.8151810697627516,
          0.8233998642858702,
          0.8549191570061776,
          0.857569978290911,
          0.8608502412675128,
          0.8486975839264828,
          0.8617217077225924,
          0.8847075589519799,
          0.8905296729673636,
          0.8885567574296471,
          0.8864990297954207,
          0.8879273157377788,
          0.9113489001947063,
          0.9124988133324916,
          0.9136971166472927,
          0.8911954627005935,
          0.8993415611409892,
          0.9011450741200844,
          0.9148712618126522,
          0.9162753157274361,
          0.9193013640489065,
          0.8838118604693262,
          0.8949598490817507,
          0.9101627128936925,
          0.912220440527919,
          0.937336641596123,
          0.9578774221407599,
          0.94117365018187,
          0.9457127226640755,
          0.9386559572925295,
          0.9383412364465953,
          0.9459790533329939,
          0.9448412562089957,
          0.9474557294523678,
          0.9606008656300831,
          0.9507722665921979,
          0.9585794860372179,
          0.9752590259685333,
          0.9817469297171466,
          0.9905103538356235,
          1.0204198420411643,
          1.0531979442670756,
          1.0461291367598753,
          1.047981039915986,
          1.0821148797577982,
          1.1010942459646844,
          1.2405103353660905,
          1.2327273479486447,
          1.2562457866377363,
          1.3036700809445767,
          1.3484071320471893,
          1.4629006549665873,
          1.4186114531053016,
          1.469279588469249,
          1.488706877795595,
          1.4792413159025268,
          1.4076449830652853,
          1.2388641828099625,
          1.292667262863199,
          1.287293071967275,
          1.2508715957418122,
          1.226626861128688,
          1.2766655548007673,
          1.3181587648462725,
          1.3270795493877163,
          1.3763194726874386,
          1.4002978027535116,
          1.3423913834456094,
          1.3508279707043649,
          1.3095769331783367,
          1.3762346605909288,
          1.3856396424150612,
          1.325409164804014,
          1.3128207742354443,
          1.2285392704756013,
          1.221325218559221,
          1.2730585288425769,
          1.2938897982055737,
          1.215018907261149,
          1.2310328052155004,
          1.1697613108344864,
          1.16019904246552,
          1.1813571486882384,
          1.1219618633690425,
          1.1288007621268186,
          1.089304773524737,
          1.1360148879213317,
          1.2211557421224672,
          1.2915174236035465,
          1.3241260493927034,
          1.31750509112683,
          1.3147452995961453,
          1.2955601827892764,
          1.2791469735268794,
          1.4522369375149835,
          1.3914859145798866,
          1.3170814739130774,
          1.2887334000452875,
          1.2430521864048723,
          1.2807688940554331,
          1.2883703629004706,
          1.3389900342092698,
          1.2486202335213905,
          1.2704682137486472
         ],
         "xaxis": "x",
         "yaxis": "y"
        }
       ],
       "layout": {
        "barmode": "relative",
        "legend": {
         "title": {
          "text": "variable"
         },
         "tracegroupgap": 0
        },
        "margin": {
         "t": 60
        },
        "template": {
         "data": {
          "bar": [
           {
            "error_x": {
             "color": "#2a3f5f"
            },
            "error_y": {
             "color": "#2a3f5f"
            },
            "marker": {
             "line": {
              "color": "#E5ECF6",
              "width": 0.5
             },
             "pattern": {
              "fillmode": "overlay",
              "size": 10,
              "solidity": 0.2
             }
            },
            "type": "bar"
           }
          ],
          "barpolar": [
           {
            "marker": {
             "line": {
              "color": "#E5ECF6",
              "width": 0.5
             },
             "pattern": {
              "fillmode": "overlay",
              "size": 10,
              "solidity": 0.2
             }
            },
            "type": "barpolar"
           }
          ],
          "carpet": [
           {
            "aaxis": {
             "endlinecolor": "#2a3f5f",
             "gridcolor": "white",
             "linecolor": "white",
             "minorgridcolor": "white",
             "startlinecolor": "#2a3f5f"
            },
            "baxis": {
             "endlinecolor": "#2a3f5f",
             "gridcolor": "white",
             "linecolor": "white",
             "minorgridcolor": "white",
             "startlinecolor": "#2a3f5f"
            },
            "type": "carpet"
           }
          ],
          "choropleth": [
           {
            "colorbar": {
             "outlinewidth": 0,
             "ticks": ""
            },
            "type": "choropleth"
           }
          ],
          "contour": [
           {
            "colorbar": {
             "outlinewidth": 0,
             "ticks": ""
            },
            "colorscale": [
             [
              0,
              "#0d0887"
             ],
             [
              0.1111111111111111,
              "#46039f"
             ],
             [
              0.2222222222222222,
              "#7201a8"
             ],
             [
              0.3333333333333333,
              "#9c179e"
             ],
             [
              0.4444444444444444,
              "#bd3786"
             ],
             [
              0.5555555555555556,
              "#d8576b"
             ],
             [
              0.6666666666666666,
              "#ed7953"
             ],
             [
              0.7777777777777778,
              "#fb9f3a"
             ],
             [
              0.8888888888888888,
              "#fdca26"
             ],
             [
              1,
              "#f0f921"
             ]
            ],
            "type": "contour"
           }
          ],
          "contourcarpet": [
           {
            "colorbar": {
             "outlinewidth": 0,
             "ticks": ""
            },
            "type": "contourcarpet"
           }
          ],
          "heatmap": [
           {
            "colorbar": {
             "outlinewidth": 0,
             "ticks": ""
            },
            "colorscale": [
             [
              0,
              "#0d0887"
             ],
             [
              0.1111111111111111,
              "#46039f"
             ],
             [
              0.2222222222222222,
              "#7201a8"
             ],
             [
              0.3333333333333333,
              "#9c179e"
             ],
             [
              0.4444444444444444,
              "#bd3786"
             ],
             [
              0.5555555555555556,
              "#d8576b"
             ],
             [
              0.6666666666666666,
              "#ed7953"
             ],
             [
              0.7777777777777778,
              "#fb9f3a"
             ],
             [
              0.8888888888888888,
              "#fdca26"
             ],
             [
              1,
              "#f0f921"
             ]
            ],
            "type": "heatmap"
           }
          ],
          "heatmapgl": [
           {
            "colorbar": {
             "outlinewidth": 0,
             "ticks": ""
            },
            "colorscale": [
             [
              0,
              "#0d0887"
             ],
             [
              0.1111111111111111,
              "#46039f"
             ],
             [
              0.2222222222222222,
              "#7201a8"
             ],
             [
              0.3333333333333333,
              "#9c179e"
             ],
             [
              0.4444444444444444,
              "#bd3786"
             ],
             [
              0.5555555555555556,
              "#d8576b"
             ],
             [
              0.6666666666666666,
              "#ed7953"
             ],
             [
              0.7777777777777778,
              "#fb9f3a"
             ],
             [
              0.8888888888888888,
              "#fdca26"
             ],
             [
              1,
              "#f0f921"
             ]
            ],
            "type": "heatmapgl"
           }
          ],
          "histogram": [
           {
            "marker": {
             "pattern": {
              "fillmode": "overlay",
              "size": 10,
              "solidity": 0.2
             }
            },
            "type": "histogram"
           }
          ],
          "histogram2d": [
           {
            "colorbar": {
             "outlinewidth": 0,
             "ticks": ""
            },
            "colorscale": [
             [
              0,
              "#0d0887"
             ],
             [
              0.1111111111111111,
              "#46039f"
             ],
             [
              0.2222222222222222,
              "#7201a8"
             ],
             [
              0.3333333333333333,
              "#9c179e"
             ],
             [
              0.4444444444444444,
              "#bd3786"
             ],
             [
              0.5555555555555556,
              "#d8576b"
             ],
             [
              0.6666666666666666,
              "#ed7953"
             ],
             [
              0.7777777777777778,
              "#fb9f3a"
             ],
             [
              0.8888888888888888,
              "#fdca26"
             ],
             [
              1,
              "#f0f921"
             ]
            ],
            "type": "histogram2d"
           }
          ],
          "histogram2dcontour": [
           {
            "colorbar": {
             "outlinewidth": 0,
             "ticks": ""
            },
            "colorscale": [
             [
              0,
              "#0d0887"
             ],
             [
              0.1111111111111111,
              "#46039f"
             ],
             [
              0.2222222222222222,
              "#7201a8"
             ],
             [
              0.3333333333333333,
              "#9c179e"
             ],
             [
              0.4444444444444444,
              "#bd3786"
             ],
             [
              0.5555555555555556,
              "#d8576b"
             ],
             [
              0.6666666666666666,
              "#ed7953"
             ],
             [
              0.7777777777777778,
              "#fb9f3a"
             ],
             [
              0.8888888888888888,
              "#fdca26"
             ],
             [
              1,
              "#f0f921"
             ]
            ],
            "type": "histogram2dcontour"
           }
          ],
          "mesh3d": [
           {
            "colorbar": {
             "outlinewidth": 0,
             "ticks": ""
            },
            "type": "mesh3d"
           }
          ],
          "parcoords": [
           {
            "line": {
             "colorbar": {
              "outlinewidth": 0,
              "ticks": ""
             }
            },
            "type": "parcoords"
           }
          ],
          "pie": [
           {
            "automargin": true,
            "type": "pie"
           }
          ],
          "scatter": [
           {
            "marker": {
             "colorbar": {
              "outlinewidth": 0,
              "ticks": ""
             }
            },
            "type": "scatter"
           }
          ],
          "scatter3d": [
           {
            "line": {
             "colorbar": {
              "outlinewidth": 0,
              "ticks": ""
             }
            },
            "marker": {
             "colorbar": {
              "outlinewidth": 0,
              "ticks": ""
             }
            },
            "type": "scatter3d"
           }
          ],
          "scattercarpet": [
           {
            "marker": {
             "colorbar": {
              "outlinewidth": 0,
              "ticks": ""
             }
            },
            "type": "scattercarpet"
           }
          ],
          "scattergeo": [
           {
            "marker": {
             "colorbar": {
              "outlinewidth": 0,
              "ticks": ""
             }
            },
            "type": "scattergeo"
           }
          ],
          "scattergl": [
           {
            "marker": {
             "colorbar": {
              "outlinewidth": 0,
              "ticks": ""
             }
            },
            "type": "scattergl"
           }
          ],
          "scattermapbox": [
           {
            "marker": {
             "colorbar": {
              "outlinewidth": 0,
              "ticks": ""
             }
            },
            "type": "scattermapbox"
           }
          ],
          "scatterpolar": [
           {
            "marker": {
             "colorbar": {
              "outlinewidth": 0,
              "ticks": ""
             }
            },
            "type": "scatterpolar"
           }
          ],
          "scatterpolargl": [
           {
            "marker": {
             "colorbar": {
              "outlinewidth": 0,
              "ticks": ""
             }
            },
            "type": "scatterpolargl"
           }
          ],
          "scatterternary": [
           {
            "marker": {
             "colorbar": {
              "outlinewidth": 0,
              "ticks": ""
             }
            },
            "type": "scatterternary"
           }
          ],
          "surface": [
           {
            "colorbar": {
             "outlinewidth": 0,
             "ticks": ""
            },
            "colorscale": [
             [
              0,
              "#0d0887"
             ],
             [
              0.1111111111111111,
              "#46039f"
             ],
             [
              0.2222222222222222,
              "#7201a8"
             ],
             [
              0.3333333333333333,
              "#9c179e"
             ],
             [
              0.4444444444444444,
              "#bd3786"
             ],
             [
              0.5555555555555556,
              "#d8576b"
             ],
             [
              0.6666666666666666,
              "#ed7953"
             ],
             [
              0.7777777777777778,
              "#fb9f3a"
             ],
             [
              0.8888888888888888,
              "#fdca26"
             ],
             [
              1,
              "#f0f921"
             ]
            ],
            "type": "surface"
           }
          ],
          "table": [
           {
            "cells": {
             "fill": {
              "color": "#EBF0F8"
             },
             "line": {
              "color": "white"
             }
            },
            "header": {
             "fill": {
              "color": "#C8D4E3"
             },
             "line": {
              "color": "white"
             }
            },
            "type": "table"
           }
          ]
         },
         "layout": {
          "annotationdefaults": {
           "arrowcolor": "#2a3f5f",
           "arrowhead": 0,
           "arrowwidth": 1
          },
          "autotypenumbers": "strict",
          "coloraxis": {
           "colorbar": {
            "outlinewidth": 0,
            "ticks": ""
           }
          },
          "colorscale": {
           "diverging": [
            [
             0,
             "#8e0152"
            ],
            [
             0.1,
             "#c51b7d"
            ],
            [
             0.2,
             "#de77ae"
            ],
            [
             0.3,
             "#f1b6da"
            ],
            [
             0.4,
             "#fde0ef"
            ],
            [
             0.5,
             "#f7f7f7"
            ],
            [
             0.6,
             "#e6f5d0"
            ],
            [
             0.7,
             "#b8e186"
            ],
            [
             0.8,
             "#7fbc41"
            ],
            [
             0.9,
             "#4d9221"
            ],
            [
             1,
             "#276419"
            ]
           ],
           "sequential": [
            [
             0,
             "#0d0887"
            ],
            [
             0.1111111111111111,
             "#46039f"
            ],
            [
             0.2222222222222222,
             "#7201a8"
            ],
            [
             0.3333333333333333,
             "#9c179e"
            ],
            [
             0.4444444444444444,
             "#bd3786"
            ],
            [
             0.5555555555555556,
             "#d8576b"
            ],
            [
             0.6666666666666666,
             "#ed7953"
            ],
            [
             0.7777777777777778,
             "#fb9f3a"
            ],
            [
             0.8888888888888888,
             "#fdca26"
            ],
            [
             1,
             "#f0f921"
            ]
           ],
           "sequentialminus": [
            [
             0,
             "#0d0887"
            ],
            [
             0.1111111111111111,
             "#46039f"
            ],
            [
             0.2222222222222222,
             "#7201a8"
            ],
            [
             0.3333333333333333,
             "#9c179e"
            ],
            [
             0.4444444444444444,
             "#bd3786"
            ],
            [
             0.5555555555555556,
             "#d8576b"
            ],
            [
             0.6666666666666666,
             "#ed7953"
            ],
            [
             0.7777777777777778,
             "#fb9f3a"
            ],
            [
             0.8888888888888888,
             "#fdca26"
            ],
            [
             1,
             "#f0f921"
            ]
           ]
          },
          "colorway": [
           "#636efa",
           "#EF553B",
           "#00cc96",
           "#ab63fa",
           "#FFA15A",
           "#19d3f3",
           "#FF6692",
           "#B6E880",
           "#FF97FF",
           "#FECB52"
          ],
          "font": {
           "color": "#2a3f5f"
          },
          "geo": {
           "bgcolor": "white",
           "lakecolor": "white",
           "landcolor": "#E5ECF6",
           "showlakes": true,
           "showland": true,
           "subunitcolor": "white"
          },
          "hoverlabel": {
           "align": "left"
          },
          "hovermode": "closest",
          "mapbox": {
           "style": "light"
          },
          "paper_bgcolor": "white",
          "plot_bgcolor": "#E5ECF6",
          "polar": {
           "angularaxis": {
            "gridcolor": "white",
            "linecolor": "white",
            "ticks": ""
           },
           "bgcolor": "#E5ECF6",
           "radialaxis": {
            "gridcolor": "white",
            "linecolor": "white",
            "ticks": ""
           }
          },
          "scene": {
           "xaxis": {
            "backgroundcolor": "#E5ECF6",
            "gridcolor": "white",
            "gridwidth": 2,
            "linecolor": "white",
            "showbackground": true,
            "ticks": "",
            "zerolinecolor": "white"
           },
           "yaxis": {
            "backgroundcolor": "#E5ECF6",
            "gridcolor": "white",
            "gridwidth": 2,
            "linecolor": "white",
            "showbackground": true,
            "ticks": "",
            "zerolinecolor": "white"
           },
           "zaxis": {
            "backgroundcolor": "#E5ECF6",
            "gridcolor": "white",
            "gridwidth": 2,
            "linecolor": "white",
            "showbackground": true,
            "ticks": "",
            "zerolinecolor": "white"
           }
          },
          "shapedefaults": {
           "line": {
            "color": "#2a3f5f"
           }
          },
          "ternary": {
           "aaxis": {
            "gridcolor": "white",
            "linecolor": "white",
            "ticks": ""
           },
           "baxis": {
            "gridcolor": "white",
            "linecolor": "white",
            "ticks": ""
           },
           "bgcolor": "#E5ECF6",
           "caxis": {
            "gridcolor": "white",
            "linecolor": "white",
            "ticks": ""
           }
          },
          "title": {
           "x": 0.05
          },
          "xaxis": {
           "automargin": true,
           "gridcolor": "white",
           "linecolor": "white",
           "ticks": "",
           "title": {
            "standoff": 15
           },
           "zerolinecolor": "white",
           "zerolinewidth": 2
          },
          "yaxis": {
           "automargin": true,
           "gridcolor": "white",
           "linecolor": "white",
           "ticks": "",
           "title": {
            "standoff": 15
           },
           "zerolinecolor": "white",
           "zerolinewidth": 2
          }
         }
        },
        "xaxis": {
         "anchor": "y",
         "domain": [
          0,
          1
         ],
         "title": {
          "text": "value"
         }
        },
        "yaxis": {
         "anchor": "x",
         "domain": [
          0,
          1
         ],
         "title": {
          "text": "count"
         }
        }
       }
      }
     },
     "metadata": {},
     "output_type": "display_data"
    }
   ],
   "source": [
    "px.histogram(returns)"
   ]
  },
  {
   "cell_type": "markdown",
   "metadata": {},
   "source": [
    "# Analyzing a Portfolio"
   ]
  },
  {
   "cell_type": "code",
   "execution_count": 47,
   "metadata": {},
   "outputs": [],
   "source": [
    "stocks = ['AAPL','AMZN','MSFT','TSLA']\n",
    "weights = [0.3,0.2,0.4,0.1]"
   ]
  },
  {
   "cell_type": "code",
   "execution_count": 48,
   "metadata": {},
   "outputs": [
    {
     "name": "stdout",
     "output_type": "stream",
     "text": [
      "[*********************100%***********************]  4 of 4 completed\n"
     ]
    }
   ],
   "source": [
    "data = yf.download(stocks, start='2021-01-01')"
   ]
  },
  {
   "cell_type": "code",
   "execution_count": 49,
   "metadata": {},
   "outputs": [],
   "source": [
    "# daily return\n",
    "x = data['Close'].pct_change()"
   ]
  },
  {
   "cell_type": "code",
   "execution_count": 50,
   "metadata": {},
   "outputs": [],
   "source": [
    "# portfolio return\n",
    "ret = (x*weights).sum(axis=1)"
   ]
  },
  {
   "cell_type": "code",
   "execution_count": 51,
   "metadata": {},
   "outputs": [],
   "source": [
    "# total cumulative return\n",
    "cumulative = (ret + 1).cumprod()"
   ]
  },
  {
   "cell_type": "code",
   "execution_count": 52,
   "metadata": {},
   "outputs": [
    {
     "data": {
      "application/vnd.plotly.v1+json": {
       "config": {
        "plotlyServerURL": "https://plot.ly"
       },
       "data": [
        {
         "hovertemplate": "variable=0<br>Date=%{x}<br>value=%{y}<extra></extra>",
         "legendgroup": "0",
         "line": {
          "color": "#636efa",
          "dash": "solid"
         },
         "marker": {
          "symbol": "circle"
         },
         "mode": "lines",
         "name": "0",
         "orientation": "v",
         "showlegend": true,
         "type": "scatter",
         "x": [
          "2021-01-04T00:00:00",
          "2021-01-05T00:00:00",
          "2021-01-06T00:00:00",
          "2021-01-07T00:00:00",
          "2021-01-08T00:00:00",
          "2021-01-11T00:00:00",
          "2021-01-12T00:00:00",
          "2021-01-13T00:00:00",
          "2021-01-14T00:00:00",
          "2021-01-15T00:00:00",
          "2021-01-19T00:00:00",
          "2021-01-20T00:00:00",
          "2021-01-21T00:00:00",
          "2021-01-22T00:00:00",
          "2021-01-25T00:00:00",
          "2021-01-26T00:00:00",
          "2021-01-27T00:00:00",
          "2021-01-28T00:00:00",
          "2021-01-29T00:00:00",
          "2021-02-01T00:00:00",
          "2021-02-02T00:00:00",
          "2021-02-03T00:00:00",
          "2021-02-04T00:00:00",
          "2021-02-05T00:00:00",
          "2021-02-08T00:00:00",
          "2021-02-09T00:00:00",
          "2021-02-10T00:00:00",
          "2021-02-11T00:00:00",
          "2021-02-12T00:00:00",
          "2021-02-16T00:00:00",
          "2021-02-17T00:00:00",
          "2021-02-18T00:00:00",
          "2021-02-19T00:00:00",
          "2021-02-22T00:00:00",
          "2021-02-23T00:00:00",
          "2021-02-24T00:00:00",
          "2021-02-25T00:00:00",
          "2021-02-26T00:00:00",
          "2021-03-01T00:00:00",
          "2021-03-02T00:00:00",
          "2021-03-03T00:00:00",
          "2021-03-04T00:00:00",
          "2021-03-05T00:00:00",
          "2021-03-08T00:00:00",
          "2021-03-09T00:00:00",
          "2021-03-10T00:00:00",
          "2021-03-11T00:00:00",
          "2021-03-12T00:00:00",
          "2021-03-15T00:00:00",
          "2021-03-16T00:00:00",
          "2021-03-17T00:00:00",
          "2021-03-18T00:00:00",
          "2021-03-19T00:00:00",
          "2021-03-22T00:00:00",
          "2021-03-23T00:00:00",
          "2021-03-24T00:00:00",
          "2021-03-25T00:00:00",
          "2021-03-26T00:00:00",
          "2021-03-29T00:00:00",
          "2021-03-30T00:00:00",
          "2021-03-31T00:00:00",
          "2021-04-01T00:00:00",
          "2021-04-05T00:00:00",
          "2021-04-06T00:00:00",
          "2021-04-07T00:00:00",
          "2021-04-08T00:00:00",
          "2021-04-09T00:00:00",
          "2021-04-12T00:00:00",
          "2021-04-13T00:00:00",
          "2021-04-14T00:00:00",
          "2021-04-15T00:00:00",
          "2021-04-16T00:00:00",
          "2021-04-19T00:00:00",
          "2021-04-20T00:00:00",
          "2021-04-21T00:00:00",
          "2021-04-22T00:00:00",
          "2021-04-23T00:00:00",
          "2021-04-26T00:00:00",
          "2021-04-27T00:00:00",
          "2021-04-28T00:00:00",
          "2021-04-29T00:00:00",
          "2021-04-30T00:00:00",
          "2021-05-03T00:00:00",
          "2021-05-04T00:00:00",
          "2021-05-05T00:00:00",
          "2021-05-06T00:00:00",
          "2021-05-07T00:00:00",
          "2021-05-10T00:00:00",
          "2021-05-11T00:00:00",
          "2021-05-12T00:00:00",
          "2021-05-13T00:00:00",
          "2021-05-14T00:00:00",
          "2021-05-17T00:00:00",
          "2021-05-18T00:00:00",
          "2021-05-19T00:00:00",
          "2021-05-20T00:00:00",
          "2021-05-21T00:00:00",
          "2021-05-24T00:00:00",
          "2021-05-25T00:00:00",
          "2021-05-26T00:00:00",
          "2021-05-27T00:00:00",
          "2021-05-28T00:00:00",
          "2021-06-01T00:00:00",
          "2021-06-02T00:00:00",
          "2021-06-03T00:00:00",
          "2021-06-04T00:00:00",
          "2021-06-07T00:00:00",
          "2021-06-08T00:00:00",
          "2021-06-09T00:00:00",
          "2021-06-10T00:00:00",
          "2021-06-11T00:00:00",
          "2021-06-14T00:00:00",
          "2021-06-15T00:00:00",
          "2021-06-16T00:00:00",
          "2021-06-17T00:00:00",
          "2021-06-18T00:00:00",
          "2021-06-21T00:00:00",
          "2021-06-22T00:00:00",
          "2021-06-23T00:00:00",
          "2021-06-24T00:00:00",
          "2021-06-25T00:00:00",
          "2021-06-28T00:00:00",
          "2021-06-29T00:00:00",
          "2021-06-30T00:00:00",
          "2021-07-01T00:00:00",
          "2021-07-02T00:00:00",
          "2021-07-06T00:00:00",
          "2021-07-07T00:00:00",
          "2021-07-08T00:00:00",
          "2021-07-09T00:00:00",
          "2021-07-12T00:00:00",
          "2021-07-13T00:00:00",
          "2021-07-14T00:00:00",
          "2021-07-15T00:00:00",
          "2021-07-16T00:00:00",
          "2021-07-19T00:00:00",
          "2021-07-20T00:00:00",
          "2021-07-21T00:00:00",
          "2021-07-22T00:00:00",
          "2021-07-23T00:00:00",
          "2021-07-26T00:00:00",
          "2021-07-27T00:00:00",
          "2021-07-28T00:00:00",
          "2021-07-29T00:00:00",
          "2021-07-30T00:00:00",
          "2021-08-02T00:00:00",
          "2021-08-03T00:00:00",
          "2021-08-04T00:00:00",
          "2021-08-05T00:00:00",
          "2021-08-06T00:00:00",
          "2021-08-09T00:00:00",
          "2021-08-10T00:00:00",
          "2021-08-11T00:00:00",
          "2021-08-12T00:00:00",
          "2021-08-13T00:00:00",
          "2021-08-16T00:00:00",
          "2021-08-17T00:00:00",
          "2021-08-18T00:00:00",
          "2021-08-19T00:00:00",
          "2021-08-20T00:00:00",
          "2021-08-23T00:00:00",
          "2021-08-24T00:00:00",
          "2021-08-25T00:00:00",
          "2021-08-26T00:00:00",
          "2021-08-27T00:00:00",
          "2021-08-30T00:00:00",
          "2021-08-31T00:00:00",
          "2021-09-01T00:00:00",
          "2021-09-02T00:00:00",
          "2021-09-03T00:00:00",
          "2021-09-07T00:00:00",
          "2021-09-08T00:00:00",
          "2021-09-09T00:00:00",
          "2021-09-10T00:00:00",
          "2021-09-13T00:00:00",
          "2021-09-14T00:00:00",
          "2021-09-15T00:00:00",
          "2021-09-16T00:00:00",
          "2021-09-17T00:00:00",
          "2021-09-20T00:00:00",
          "2021-09-21T00:00:00",
          "2021-09-22T00:00:00",
          "2021-09-23T00:00:00",
          "2021-09-24T00:00:00",
          "2021-09-27T00:00:00",
          "2021-09-28T00:00:00",
          "2021-09-29T00:00:00",
          "2021-09-30T00:00:00",
          "2021-10-01T00:00:00",
          "2021-10-04T00:00:00",
          "2021-10-05T00:00:00",
          "2021-10-06T00:00:00",
          "2021-10-07T00:00:00",
          "2021-10-08T00:00:00",
          "2021-10-11T00:00:00",
          "2021-10-12T00:00:00",
          "2021-10-13T00:00:00",
          "2021-10-14T00:00:00",
          "2021-10-15T00:00:00",
          "2021-10-18T00:00:00",
          "2021-10-19T00:00:00",
          "2021-10-20T00:00:00",
          "2021-10-21T00:00:00",
          "2021-10-22T00:00:00",
          "2021-10-25T00:00:00",
          "2021-10-26T00:00:00",
          "2021-10-27T00:00:00",
          "2021-10-28T00:00:00",
          "2021-10-29T00:00:00",
          "2021-11-01T00:00:00",
          "2021-11-02T00:00:00",
          "2021-11-03T00:00:00",
          "2021-11-04T00:00:00",
          "2021-11-05T00:00:00",
          "2021-11-08T00:00:00",
          "2021-11-09T00:00:00",
          "2021-11-10T00:00:00",
          "2021-11-11T00:00:00",
          "2021-11-12T00:00:00",
          "2021-11-15T00:00:00",
          "2021-11-16T00:00:00",
          "2021-11-17T00:00:00",
          "2021-11-18T00:00:00",
          "2021-11-19T00:00:00",
          "2021-11-22T00:00:00",
          "2021-11-23T00:00:00",
          "2021-11-24T00:00:00",
          "2021-11-26T00:00:00",
          "2021-11-29T00:00:00",
          "2021-11-30T00:00:00",
          "2021-12-01T00:00:00",
          "2021-12-02T00:00:00",
          "2021-12-03T00:00:00",
          "2021-12-06T00:00:00",
          "2021-12-07T00:00:00",
          "2021-12-08T00:00:00",
          "2021-12-09T00:00:00",
          "2021-12-10T00:00:00",
          "2021-12-13T00:00:00",
          "2021-12-14T00:00:00",
          "2021-12-15T00:00:00",
          "2021-12-16T00:00:00",
          "2021-12-17T00:00:00",
          "2021-12-20T00:00:00",
          "2021-12-21T00:00:00",
          "2021-12-22T00:00:00",
          "2021-12-23T00:00:00",
          "2021-12-27T00:00:00",
          "2021-12-28T00:00:00",
          "2021-12-29T00:00:00",
          "2021-12-30T00:00:00",
          "2021-12-31T00:00:00",
          "2022-01-03T00:00:00",
          "2022-01-04T00:00:00",
          "2022-01-05T00:00:00",
          "2022-01-06T00:00:00",
          "2022-01-07T00:00:00",
          "2022-01-10T00:00:00",
          "2022-01-11T00:00:00",
          "2022-01-12T00:00:00",
          "2022-01-13T00:00:00",
          "2022-01-14T00:00:00"
         ],
         "xaxis": "x",
         "y": [
          1,
          1.0068275748463944,
          0.9840627234640339,
          1.0146472402072353,
          1.0290206608531178,
          1.005374420644287,
          1.0053880051018136,
          1.0164119741218363,
          1.0019737590703557,
          0.9934284798881629,
          1.0053962138478814,
          1.0398766634444372,
          1.0545924532744961,
          1.0607799413073113,
          1.0807068358404492,
          1.088913874392105,
          1.0790128850828171,
          1.0756118583440828,
          1.0435035914408672,
          1.077495778500965,
          1.085916690911204,
          1.0831247454542758,
          1.0903415454924614,
          1.0908559669305757,
          1.0912325844317574,
          1.088478200927316,
          1.0783595420728675,
          1.080016871904963,
          1.0831008932684436,
          1.0723670388382633,
          1.0704348248898339,
          1.0667656859515204,
          1.0563795643888214,
          1.0220799628970305,
          1.0182217190649723,
          1.023280917574683,
          0.9880228115553283,
          0.9958738469362904,
          1.029534993087315,
          1.0097839287918,
          0.9807445625249335,
          0.9681024058779354,
          0.9773679272286871,
          0.9491692021527678,
          0.9971880502083789,
          0.9909688849854874,
          1.0122129475540862,
          1.005124835296525,
          1.0124470384366397,
          1.0175461129183982,
          1.021065014682916,
          0.9856950831353375,
          0.9870540273659636,
          1.0096975762113332,
          1.0108792346096904,
          0.9930897059059597,
          0.9880353837706107,
          0.99363092323599,
          0.9923410720918113,
          0.9855974531101674,
          1.0053242963433557,
          1.0220644011890228,
          1.0494056810415344,
          1.0480388904362132,
          1.056183195617382,
          1.071243000119353,
          1.0858223017199584,
          1.0860796981571292,
          1.1090394717874013,
          1.0893741313214231,
          1.1061519237555906,
          1.1088988672959423,
          1.1016232838438993,
          1.0947993433345553,
          1.105316568244525,
          1.0885436152224535,
          1.1047363540646156,
          1.112238049278411,
          1.10764384203238,
          1.0941460041325513,
          1.0884446014578486,
          1.0879056710503567,
          1.0811932413275425,
          1.0561783540114698,
          1.0514942603981656,
          1.0622401006175433,
          1.0685046118456962,
          1.0378432876265182,
          1.034161352809423,
          1.0050846188590874,
          1.0147737061048405,
          1.0365140349836253,
          1.0294584314386739,
          1.0202447096367486,
          1.0173451987367577,
          1.0345924541716605,
          1.0239277585109217,
          1.0445744014284453,
          1.046251219999977,
          1.048635897678524,
          1.0408400070291242,
          1.038405357844358,
          1.0332833644161035,
          1.032936463678055,
          1.0180023994033474,
          1.0381155791345087,
          1.043662684766498,
          1.0477608529176694,
          1.0506795965283282,
          1.0605765241169798,
          1.0645584674790152,
          1.0794280379784322,
          1.0715509431841714,
          1.0742095702872496,
          1.0908844396098343,
          1.0861640138768347,
          1.093634496927723,
          1.1063652058680586,
          1.1109981046154402,
          1.1131168676778072,
          1.1052024156611755,
          1.1210632110714067,
          1.128384199502813,
          1.1284190303703012,
          1.1295844049060826,
          1.1515868939643183,
          1.1642193369542175,
          1.1729825414907922,
          1.1692333851573073,
          1.1746744079167646,
          1.1772356869291822,
          1.180682576857489,
          1.1893907625755855,
          1.1815278677521484,
          1.1711625525516598,
          1.1542534908110593,
          1.1711832946095404,
          1.1727322527008053,
          1.18639844596658,
          1.1966593579822602,
          1.2021486978937237,
          1.1854804231869296,
          1.1812748434252518,
          1.1869170184981683,
          1.1685883073184924,
          1.1717177152877754,
          1.1824037855199576,
          1.1797993238488236,
          1.1871338558038809,
          1.180043943770783,
          1.180338074133919,
          1.173935285937305,
          1.173021436670771,
          1.1882112914515703,
          1.1921783528315857,
          1.1950835974137375,
          1.1827154040457635,
          1.171037418930076,
          1.1779616013245018,
          1.1956909013780312,
          1.209329307920223,
          1.2092185367730202,
          1.2051683059183058,
          1.1980365591897584,
          1.2058967305966457,
          1.2315254173343007,
          1.229991773737993,
          1.2318722621265854,
          1.2321147374051868,
          1.2349229989944994,
          1.244562557472956,
          1.2421542019372374,
          1.2320067454494263,
          1.2131235048394982,
          1.2169119133118314,
          1.2177495445431694,
          1.2318422424285105,
          1.2329651994813837,
          1.2161227099010934,
          1.1870974605611602,
          1.1897662390000012,
          1.2065036697860436,
          1.2133589325945273,
          1.2172588634138384,
          1.206246802587226,
          1.1716982284177464,
          1.1742868957504646,
          1.1655460941460756,
          1.180096218150043,
          1.1558453829972646,
          1.172105288363816,
          1.184694866550796,
          1.1953162929584429,
          1.1921175795846302,
          1.188800372242533,
          1.1855160385749328,
          1.1930482014067216,
          1.2128560071673116,
          1.229615699860333,
          1.2456214574934363,
          1.2517576018083478,
          1.2497948182423295,
          1.2613262342187104,
          1.251636726341709,
          1.2645509577485405,
          1.2729860443275114,
          1.2968952059793926,
          1.317543475921471,
          1.3210327117986045,
          1.3221865404159252,
          1.326616562611326,
          1.3423468853522051,
          1.3540135886490254,
          1.3566723225404596,
          1.347033821837487,
          1.3369506806421445,
          1.3198311510329102,
          1.3210259921762617,
          1.333795267703496,
          1.3317604166105097,
          1.3449353326432445,
          1.3559725284988822,
          1.3831746055581313,
          1.3968752547324417,
          1.3872915000783677,
          1.3796320392036279,
          1.3822625348314237,
          1.3455821568165955,
          1.3769853895769857,
          1.3768741193552418,
          1.3637408786527598,
          1.3584590386451563,
          1.3305131950202045,
          1.3465044081973547,
          1.3884782490019507,
          1.4003130241125201,
          1.3842435507653148,
          1.410278971509915,
          1.385010348823862,
          1.3617136164084225,
          1.3931134763054076,
          1.346320075655623,
          1.3445195045476646,
          1.3254304815958893,
          1.3562301199645475,
          1.3834101969439674,
          1.3954190023431008,
          1.4192191708639355,
          1.4157234472441005,
          1.4143794699024659,
          1.4042426291428238,
          1.3927983093009548,
          1.4256534498678262,
          1.399659903049931,
          1.3542257401508395,
          1.3384310184036001,
          1.3332087196884743,
          1.3359390753623908,
          1.3510789651556394,
          1.3628206268467267,
          1.3161842595082618,
          1.3313413270236862
         ],
         "yaxis": "y"
        }
       ],
       "layout": {
        "legend": {
         "title": {
          "text": "variable"
         },
         "tracegroupgap": 0
        },
        "margin": {
         "t": 60
        },
        "template": {
         "data": {
          "bar": [
           {
            "error_x": {
             "color": "#2a3f5f"
            },
            "error_y": {
             "color": "#2a3f5f"
            },
            "marker": {
             "line": {
              "color": "#E5ECF6",
              "width": 0.5
             },
             "pattern": {
              "fillmode": "overlay",
              "size": 10,
              "solidity": 0.2
             }
            },
            "type": "bar"
           }
          ],
          "barpolar": [
           {
            "marker": {
             "line": {
              "color": "#E5ECF6",
              "width": 0.5
             },
             "pattern": {
              "fillmode": "overlay",
              "size": 10,
              "solidity": 0.2
             }
            },
            "type": "barpolar"
           }
          ],
          "carpet": [
           {
            "aaxis": {
             "endlinecolor": "#2a3f5f",
             "gridcolor": "white",
             "linecolor": "white",
             "minorgridcolor": "white",
             "startlinecolor": "#2a3f5f"
            },
            "baxis": {
             "endlinecolor": "#2a3f5f",
             "gridcolor": "white",
             "linecolor": "white",
             "minorgridcolor": "white",
             "startlinecolor": "#2a3f5f"
            },
            "type": "carpet"
           }
          ],
          "choropleth": [
           {
            "colorbar": {
             "outlinewidth": 0,
             "ticks": ""
            },
            "type": "choropleth"
           }
          ],
          "contour": [
           {
            "colorbar": {
             "outlinewidth": 0,
             "ticks": ""
            },
            "colorscale": [
             [
              0,
              "#0d0887"
             ],
             [
              0.1111111111111111,
              "#46039f"
             ],
             [
              0.2222222222222222,
              "#7201a8"
             ],
             [
              0.3333333333333333,
              "#9c179e"
             ],
             [
              0.4444444444444444,
              "#bd3786"
             ],
             [
              0.5555555555555556,
              "#d8576b"
             ],
             [
              0.6666666666666666,
              "#ed7953"
             ],
             [
              0.7777777777777778,
              "#fb9f3a"
             ],
             [
              0.8888888888888888,
              "#fdca26"
             ],
             [
              1,
              "#f0f921"
             ]
            ],
            "type": "contour"
           }
          ],
          "contourcarpet": [
           {
            "colorbar": {
             "outlinewidth": 0,
             "ticks": ""
            },
            "type": "contourcarpet"
           }
          ],
          "heatmap": [
           {
            "colorbar": {
             "outlinewidth": 0,
             "ticks": ""
            },
            "colorscale": [
             [
              0,
              "#0d0887"
             ],
             [
              0.1111111111111111,
              "#46039f"
             ],
             [
              0.2222222222222222,
              "#7201a8"
             ],
             [
              0.3333333333333333,
              "#9c179e"
             ],
             [
              0.4444444444444444,
              "#bd3786"
             ],
             [
              0.5555555555555556,
              "#d8576b"
             ],
             [
              0.6666666666666666,
              "#ed7953"
             ],
             [
              0.7777777777777778,
              "#fb9f3a"
             ],
             [
              0.8888888888888888,
              "#fdca26"
             ],
             [
              1,
              "#f0f921"
             ]
            ],
            "type": "heatmap"
           }
          ],
          "heatmapgl": [
           {
            "colorbar": {
             "outlinewidth": 0,
             "ticks": ""
            },
            "colorscale": [
             [
              0,
              "#0d0887"
             ],
             [
              0.1111111111111111,
              "#46039f"
             ],
             [
              0.2222222222222222,
              "#7201a8"
             ],
             [
              0.3333333333333333,
              "#9c179e"
             ],
             [
              0.4444444444444444,
              "#bd3786"
             ],
             [
              0.5555555555555556,
              "#d8576b"
             ],
             [
              0.6666666666666666,
              "#ed7953"
             ],
             [
              0.7777777777777778,
              "#fb9f3a"
             ],
             [
              0.8888888888888888,
              "#fdca26"
             ],
             [
              1,
              "#f0f921"
             ]
            ],
            "type": "heatmapgl"
           }
          ],
          "histogram": [
           {
            "marker": {
             "pattern": {
              "fillmode": "overlay",
              "size": 10,
              "solidity": 0.2
             }
            },
            "type": "histogram"
           }
          ],
          "histogram2d": [
           {
            "colorbar": {
             "outlinewidth": 0,
             "ticks": ""
            },
            "colorscale": [
             [
              0,
              "#0d0887"
             ],
             [
              0.1111111111111111,
              "#46039f"
             ],
             [
              0.2222222222222222,
              "#7201a8"
             ],
             [
              0.3333333333333333,
              "#9c179e"
             ],
             [
              0.4444444444444444,
              "#bd3786"
             ],
             [
              0.5555555555555556,
              "#d8576b"
             ],
             [
              0.6666666666666666,
              "#ed7953"
             ],
             [
              0.7777777777777778,
              "#fb9f3a"
             ],
             [
              0.8888888888888888,
              "#fdca26"
             ],
             [
              1,
              "#f0f921"
             ]
            ],
            "type": "histogram2d"
           }
          ],
          "histogram2dcontour": [
           {
            "colorbar": {
             "outlinewidth": 0,
             "ticks": ""
            },
            "colorscale": [
             [
              0,
              "#0d0887"
             ],
             [
              0.1111111111111111,
              "#46039f"
             ],
             [
              0.2222222222222222,
              "#7201a8"
             ],
             [
              0.3333333333333333,
              "#9c179e"
             ],
             [
              0.4444444444444444,
              "#bd3786"
             ],
             [
              0.5555555555555556,
              "#d8576b"
             ],
             [
              0.6666666666666666,
              "#ed7953"
             ],
             [
              0.7777777777777778,
              "#fb9f3a"
             ],
             [
              0.8888888888888888,
              "#fdca26"
             ],
             [
              1,
              "#f0f921"
             ]
            ],
            "type": "histogram2dcontour"
           }
          ],
          "mesh3d": [
           {
            "colorbar": {
             "outlinewidth": 0,
             "ticks": ""
            },
            "type": "mesh3d"
           }
          ],
          "parcoords": [
           {
            "line": {
             "colorbar": {
              "outlinewidth": 0,
              "ticks": ""
             }
            },
            "type": "parcoords"
           }
          ],
          "pie": [
           {
            "automargin": true,
            "type": "pie"
           }
          ],
          "scatter": [
           {
            "marker": {
             "colorbar": {
              "outlinewidth": 0,
              "ticks": ""
             }
            },
            "type": "scatter"
           }
          ],
          "scatter3d": [
           {
            "line": {
             "colorbar": {
              "outlinewidth": 0,
              "ticks": ""
             }
            },
            "marker": {
             "colorbar": {
              "outlinewidth": 0,
              "ticks": ""
             }
            },
            "type": "scatter3d"
           }
          ],
          "scattercarpet": [
           {
            "marker": {
             "colorbar": {
              "outlinewidth": 0,
              "ticks": ""
             }
            },
            "type": "scattercarpet"
           }
          ],
          "scattergeo": [
           {
            "marker": {
             "colorbar": {
              "outlinewidth": 0,
              "ticks": ""
             }
            },
            "type": "scattergeo"
           }
          ],
          "scattergl": [
           {
            "marker": {
             "colorbar": {
              "outlinewidth": 0,
              "ticks": ""
             }
            },
            "type": "scattergl"
           }
          ],
          "scattermapbox": [
           {
            "marker": {
             "colorbar": {
              "outlinewidth": 0,
              "ticks": ""
             }
            },
            "type": "scattermapbox"
           }
          ],
          "scatterpolar": [
           {
            "marker": {
             "colorbar": {
              "outlinewidth": 0,
              "ticks": ""
             }
            },
            "type": "scatterpolar"
           }
          ],
          "scatterpolargl": [
           {
            "marker": {
             "colorbar": {
              "outlinewidth": 0,
              "ticks": ""
             }
            },
            "type": "scatterpolargl"
           }
          ],
          "scatterternary": [
           {
            "marker": {
             "colorbar": {
              "outlinewidth": 0,
              "ticks": ""
             }
            },
            "type": "scatterternary"
           }
          ],
          "surface": [
           {
            "colorbar": {
             "outlinewidth": 0,
             "ticks": ""
            },
            "colorscale": [
             [
              0,
              "#0d0887"
             ],
             [
              0.1111111111111111,
              "#46039f"
             ],
             [
              0.2222222222222222,
              "#7201a8"
             ],
             [
              0.3333333333333333,
              "#9c179e"
             ],
             [
              0.4444444444444444,
              "#bd3786"
             ],
             [
              0.5555555555555556,
              "#d8576b"
             ],
             [
              0.6666666666666666,
              "#ed7953"
             ],
             [
              0.7777777777777778,
              "#fb9f3a"
             ],
             [
              0.8888888888888888,
              "#fdca26"
             ],
             [
              1,
              "#f0f921"
             ]
            ],
            "type": "surface"
           }
          ],
          "table": [
           {
            "cells": {
             "fill": {
              "color": "#EBF0F8"
             },
             "line": {
              "color": "white"
             }
            },
            "header": {
             "fill": {
              "color": "#C8D4E3"
             },
             "line": {
              "color": "white"
             }
            },
            "type": "table"
           }
          ]
         },
         "layout": {
          "annotationdefaults": {
           "arrowcolor": "#2a3f5f",
           "arrowhead": 0,
           "arrowwidth": 1
          },
          "autotypenumbers": "strict",
          "coloraxis": {
           "colorbar": {
            "outlinewidth": 0,
            "ticks": ""
           }
          },
          "colorscale": {
           "diverging": [
            [
             0,
             "#8e0152"
            ],
            [
             0.1,
             "#c51b7d"
            ],
            [
             0.2,
             "#de77ae"
            ],
            [
             0.3,
             "#f1b6da"
            ],
            [
             0.4,
             "#fde0ef"
            ],
            [
             0.5,
             "#f7f7f7"
            ],
            [
             0.6,
             "#e6f5d0"
            ],
            [
             0.7,
             "#b8e186"
            ],
            [
             0.8,
             "#7fbc41"
            ],
            [
             0.9,
             "#4d9221"
            ],
            [
             1,
             "#276419"
            ]
           ],
           "sequential": [
            [
             0,
             "#0d0887"
            ],
            [
             0.1111111111111111,
             "#46039f"
            ],
            [
             0.2222222222222222,
             "#7201a8"
            ],
            [
             0.3333333333333333,
             "#9c179e"
            ],
            [
             0.4444444444444444,
             "#bd3786"
            ],
            [
             0.5555555555555556,
             "#d8576b"
            ],
            [
             0.6666666666666666,
             "#ed7953"
            ],
            [
             0.7777777777777778,
             "#fb9f3a"
            ],
            [
             0.8888888888888888,
             "#fdca26"
            ],
            [
             1,
             "#f0f921"
            ]
           ],
           "sequentialminus": [
            [
             0,
             "#0d0887"
            ],
            [
             0.1111111111111111,
             "#46039f"
            ],
            [
             0.2222222222222222,
             "#7201a8"
            ],
            [
             0.3333333333333333,
             "#9c179e"
            ],
            [
             0.4444444444444444,
             "#bd3786"
            ],
            [
             0.5555555555555556,
             "#d8576b"
            ],
            [
             0.6666666666666666,
             "#ed7953"
            ],
            [
             0.7777777777777778,
             "#fb9f3a"
            ],
            [
             0.8888888888888888,
             "#fdca26"
            ],
            [
             1,
             "#f0f921"
            ]
           ]
          },
          "colorway": [
           "#636efa",
           "#EF553B",
           "#00cc96",
           "#ab63fa",
           "#FFA15A",
           "#19d3f3",
           "#FF6692",
           "#B6E880",
           "#FF97FF",
           "#FECB52"
          ],
          "font": {
           "color": "#2a3f5f"
          },
          "geo": {
           "bgcolor": "white",
           "lakecolor": "white",
           "landcolor": "#E5ECF6",
           "showlakes": true,
           "showland": true,
           "subunitcolor": "white"
          },
          "hoverlabel": {
           "align": "left"
          },
          "hovermode": "closest",
          "mapbox": {
           "style": "light"
          },
          "paper_bgcolor": "white",
          "plot_bgcolor": "#E5ECF6",
          "polar": {
           "angularaxis": {
            "gridcolor": "white",
            "linecolor": "white",
            "ticks": ""
           },
           "bgcolor": "#E5ECF6",
           "radialaxis": {
            "gridcolor": "white",
            "linecolor": "white",
            "ticks": ""
           }
          },
          "scene": {
           "xaxis": {
            "backgroundcolor": "#E5ECF6",
            "gridcolor": "white",
            "gridwidth": 2,
            "linecolor": "white",
            "showbackground": true,
            "ticks": "",
            "zerolinecolor": "white"
           },
           "yaxis": {
            "backgroundcolor": "#E5ECF6",
            "gridcolor": "white",
            "gridwidth": 2,
            "linecolor": "white",
            "showbackground": true,
            "ticks": "",
            "zerolinecolor": "white"
           },
           "zaxis": {
            "backgroundcolor": "#E5ECF6",
            "gridcolor": "white",
            "gridwidth": 2,
            "linecolor": "white",
            "showbackground": true,
            "ticks": "",
            "zerolinecolor": "white"
           }
          },
          "shapedefaults": {
           "line": {
            "color": "#2a3f5f"
           }
          },
          "ternary": {
           "aaxis": {
            "gridcolor": "white",
            "linecolor": "white",
            "ticks": ""
           },
           "baxis": {
            "gridcolor": "white",
            "linecolor": "white",
            "ticks": ""
           },
           "bgcolor": "#E5ECF6",
           "caxis": {
            "gridcolor": "white",
            "linecolor": "white",
            "ticks": ""
           }
          },
          "title": {
           "x": 0.05
          },
          "xaxis": {
           "automargin": true,
           "gridcolor": "white",
           "linecolor": "white",
           "ticks": "",
           "title": {
            "standoff": 15
           },
           "zerolinecolor": "white",
           "zerolinewidth": 2
          },
          "yaxis": {
           "automargin": true,
           "gridcolor": "white",
           "linecolor": "white",
           "ticks": "",
           "title": {
            "standoff": 15
           },
           "zerolinecolor": "white",
           "zerolinewidth": 2
          }
         }
        },
        "xaxis": {
         "anchor": "y",
         "domain": [
          0,
          1
         ],
         "title": {
          "text": "Date"
         }
        },
        "yaxis": {
         "anchor": "x",
         "domain": [
          0,
          1
         ],
         "title": {
          "text": "value"
         }
        }
       }
      }
     },
     "metadata": {},
     "output_type": "display_data"
    }
   ],
   "source": [
    "px.line(cumulative)"
   ]
  },
  {
   "cell_type": "code",
   "execution_count": 53,
   "metadata": {},
   "outputs": [
    {
     "name": "stdout",
     "output_type": "stream",
     "text": [
      "0.013544930499186562\n"
     ]
    }
   ],
   "source": [
    "print(np.std(ret))"
   ]
  },
  {
   "cell_type": "code",
   "execution_count": 54,
   "metadata": {},
   "outputs": [
    {
     "name": "stdout",
     "output_type": "stream",
     "text": [
      "0.21501910575900965\n"
     ]
    }
   ],
   "source": [
    "annual_std = np.std(ret) * np.sqrt(252)\n",
    "print(annual_std)"
   ]
  },
  {
   "cell_type": "markdown",
   "metadata": {},
   "source": [
    "# Portfolio Optimization"
   ]
  },
  {
   "cell_type": "code",
   "execution_count": 55,
   "metadata": {},
   "outputs": [
    {
     "name": "stdout",
     "output_type": "stream",
     "text": [
      "[*********************100%***********************]  4 of 4 completed\n"
     ]
    }
   ],
   "source": [
    "data = yf.download(stocks, start='2018-01-01')"
   ]
  },
  {
   "cell_type": "code",
   "execution_count": 56,
   "metadata": {},
   "outputs": [],
   "source": [
    "data = data['Close']\n",
    "x = data.pct_change()"
   ]
  },
  {
   "cell_type": "code",
   "execution_count": 57,
   "metadata": {},
   "outputs": [
    {
     "name": "stdout",
     "output_type": "stream",
     "text": [
      "[0.0065465  0.09491679 0.27284132 0.62569539]\n"
     ]
    }
   ],
   "source": [
    "# We are going to randomly assign a weight to each stock in our portfolio,\n",
    "# and then calculate the metrics for that portfolio, including the Sharpe ratio. \n",
    "\n",
    "wts = np.random.uniform(size =len(x.columns))\n",
    "wts = wts/np.sum(wts)\n",
    "\n",
    "print(wts)"
   ]
  },
  {
   "cell_type": "code",
   "execution_count": 58,
   "metadata": {},
   "outputs": [],
   "source": [
    "p_weights=[]\n",
    "p_returns=[]\n",
    "p_risk=[]\n",
    "p_sharpe=[]"
   ]
  },
  {
   "cell_type": "code",
   "execution_count": 59,
   "metadata": {},
   "outputs": [],
   "source": [
    "count = 500\n",
    "for k in range(0,count):\n",
    "    wts = np.random.uniform(size=len(x.columns))\n",
    "    wts = wts/np.sum(wts)\n",
    "    p_weights.append(wts)\n",
    "\n",
    "    #returns\n",
    "    mean_ret = (x.mean()*wts).sum()*252\n",
    "    p_returns.append(mean_ret)\n",
    "\n",
    "    #volatility\n",
    "    ret = (x*wts).sum(axis=1)\n",
    "    annual_std = np.std(ret)*np.sqrt(252)\n",
    "    p_risk.append(annual_std)\n",
    "\n",
    "    #sharpe ratio\n",
    "    sharpe = (np.mean(ret)/np.std(ret))*np.sqrt(252)\n",
    "    p_sharpe.append(sharpe)\n"
   ]
  },
  {
   "cell_type": "code",
   "execution_count": 60,
   "metadata": {},
   "outputs": [
    {
     "name": "stdout",
     "output_type": "stream",
     "text": [
      "1.5718234433811202\n",
      "[0.26953335 0.02298717 0.33905485 0.36842464]\n"
     ]
    }
   ],
   "source": [
    "max_ind = np.argmax(p_sharpe)\n",
    "print(p_sharpe[max_ind])\n",
    "print(p_weights[max_ind])"
   ]
  },
  {
   "cell_type": "code",
   "execution_count": 61,
   "metadata": {},
   "outputs": [
    {
     "data": {
      "application/vnd.plotly.v1+json": {
       "config": {
        "plotlyServerURL": "https://plot.ly"
       },
       "data": [
        {
         "alignmentgroup": "True",
         "hovertemplate": "variable=0<br>index=%{x}<br>value=%{y}<extra></extra>",
         "legendgroup": "0",
         "marker": {
          "color": "#636efa",
          "pattern": {
           "shape": ""
          }
         },
         "name": "0",
         "offsetgroup": "0",
         "orientation": "v",
         "showlegend": true,
         "textposition": "auto",
         "type": "bar",
         "x": [
          "AAPL",
          "AMZN",
          "MSFT",
          "TSLA"
         ],
         "xaxis": "x",
         "y": [
          0.2695333458998924,
          0.02298716567043303,
          0.33905484890207416,
          0.36842463952760035
         ],
         "yaxis": "y"
        }
       ],
       "layout": {
        "barmode": "relative",
        "legend": {
         "title": {
          "text": "variable"
         },
         "tracegroupgap": 0
        },
        "margin": {
         "t": 60
        },
        "template": {
         "data": {
          "bar": [
           {
            "error_x": {
             "color": "#2a3f5f"
            },
            "error_y": {
             "color": "#2a3f5f"
            },
            "marker": {
             "line": {
              "color": "#E5ECF6",
              "width": 0.5
             },
             "pattern": {
              "fillmode": "overlay",
              "size": 10,
              "solidity": 0.2
             }
            },
            "type": "bar"
           }
          ],
          "barpolar": [
           {
            "marker": {
             "line": {
              "color": "#E5ECF6",
              "width": 0.5
             },
             "pattern": {
              "fillmode": "overlay",
              "size": 10,
              "solidity": 0.2
             }
            },
            "type": "barpolar"
           }
          ],
          "carpet": [
           {
            "aaxis": {
             "endlinecolor": "#2a3f5f",
             "gridcolor": "white",
             "linecolor": "white",
             "minorgridcolor": "white",
             "startlinecolor": "#2a3f5f"
            },
            "baxis": {
             "endlinecolor": "#2a3f5f",
             "gridcolor": "white",
             "linecolor": "white",
             "minorgridcolor": "white",
             "startlinecolor": "#2a3f5f"
            },
            "type": "carpet"
           }
          ],
          "choropleth": [
           {
            "colorbar": {
             "outlinewidth": 0,
             "ticks": ""
            },
            "type": "choropleth"
           }
          ],
          "contour": [
           {
            "colorbar": {
             "outlinewidth": 0,
             "ticks": ""
            },
            "colorscale": [
             [
              0,
              "#0d0887"
             ],
             [
              0.1111111111111111,
              "#46039f"
             ],
             [
              0.2222222222222222,
              "#7201a8"
             ],
             [
              0.3333333333333333,
              "#9c179e"
             ],
             [
              0.4444444444444444,
              "#bd3786"
             ],
             [
              0.5555555555555556,
              "#d8576b"
             ],
             [
              0.6666666666666666,
              "#ed7953"
             ],
             [
              0.7777777777777778,
              "#fb9f3a"
             ],
             [
              0.8888888888888888,
              "#fdca26"
             ],
             [
              1,
              "#f0f921"
             ]
            ],
            "type": "contour"
           }
          ],
          "contourcarpet": [
           {
            "colorbar": {
             "outlinewidth": 0,
             "ticks": ""
            },
            "type": "contourcarpet"
           }
          ],
          "heatmap": [
           {
            "colorbar": {
             "outlinewidth": 0,
             "ticks": ""
            },
            "colorscale": [
             [
              0,
              "#0d0887"
             ],
             [
              0.1111111111111111,
              "#46039f"
             ],
             [
              0.2222222222222222,
              "#7201a8"
             ],
             [
              0.3333333333333333,
              "#9c179e"
             ],
             [
              0.4444444444444444,
              "#bd3786"
             ],
             [
              0.5555555555555556,
              "#d8576b"
             ],
             [
              0.6666666666666666,
              "#ed7953"
             ],
             [
              0.7777777777777778,
              "#fb9f3a"
             ],
             [
              0.8888888888888888,
              "#fdca26"
             ],
             [
              1,
              "#f0f921"
             ]
            ],
            "type": "heatmap"
           }
          ],
          "heatmapgl": [
           {
            "colorbar": {
             "outlinewidth": 0,
             "ticks": ""
            },
            "colorscale": [
             [
              0,
              "#0d0887"
             ],
             [
              0.1111111111111111,
              "#46039f"
             ],
             [
              0.2222222222222222,
              "#7201a8"
             ],
             [
              0.3333333333333333,
              "#9c179e"
             ],
             [
              0.4444444444444444,
              "#bd3786"
             ],
             [
              0.5555555555555556,
              "#d8576b"
             ],
             [
              0.6666666666666666,
              "#ed7953"
             ],
             [
              0.7777777777777778,
              "#fb9f3a"
             ],
             [
              0.8888888888888888,
              "#fdca26"
             ],
             [
              1,
              "#f0f921"
             ]
            ],
            "type": "heatmapgl"
           }
          ],
          "histogram": [
           {
            "marker": {
             "pattern": {
              "fillmode": "overlay",
              "size": 10,
              "solidity": 0.2
             }
            },
            "type": "histogram"
           }
          ],
          "histogram2d": [
           {
            "colorbar": {
             "outlinewidth": 0,
             "ticks": ""
            },
            "colorscale": [
             [
              0,
              "#0d0887"
             ],
             [
              0.1111111111111111,
              "#46039f"
             ],
             [
              0.2222222222222222,
              "#7201a8"
             ],
             [
              0.3333333333333333,
              "#9c179e"
             ],
             [
              0.4444444444444444,
              "#bd3786"
             ],
             [
              0.5555555555555556,
              "#d8576b"
             ],
             [
              0.6666666666666666,
              "#ed7953"
             ],
             [
              0.7777777777777778,
              "#fb9f3a"
             ],
             [
              0.8888888888888888,
              "#fdca26"
             ],
             [
              1,
              "#f0f921"
             ]
            ],
            "type": "histogram2d"
           }
          ],
          "histogram2dcontour": [
           {
            "colorbar": {
             "outlinewidth": 0,
             "ticks": ""
            },
            "colorscale": [
             [
              0,
              "#0d0887"
             ],
             [
              0.1111111111111111,
              "#46039f"
             ],
             [
              0.2222222222222222,
              "#7201a8"
             ],
             [
              0.3333333333333333,
              "#9c179e"
             ],
             [
              0.4444444444444444,
              "#bd3786"
             ],
             [
              0.5555555555555556,
              "#d8576b"
             ],
             [
              0.6666666666666666,
              "#ed7953"
             ],
             [
              0.7777777777777778,
              "#fb9f3a"
             ],
             [
              0.8888888888888888,
              "#fdca26"
             ],
             [
              1,
              "#f0f921"
             ]
            ],
            "type": "histogram2dcontour"
           }
          ],
          "mesh3d": [
           {
            "colorbar": {
             "outlinewidth": 0,
             "ticks": ""
            },
            "type": "mesh3d"
           }
          ],
          "parcoords": [
           {
            "line": {
             "colorbar": {
              "outlinewidth": 0,
              "ticks": ""
             }
            },
            "type": "parcoords"
           }
          ],
          "pie": [
           {
            "automargin": true,
            "type": "pie"
           }
          ],
          "scatter": [
           {
            "marker": {
             "colorbar": {
              "outlinewidth": 0,
              "ticks": ""
             }
            },
            "type": "scatter"
           }
          ],
          "scatter3d": [
           {
            "line": {
             "colorbar": {
              "outlinewidth": 0,
              "ticks": ""
             }
            },
            "marker": {
             "colorbar": {
              "outlinewidth": 0,
              "ticks": ""
             }
            },
            "type": "scatter3d"
           }
          ],
          "scattercarpet": [
           {
            "marker": {
             "colorbar": {
              "outlinewidth": 0,
              "ticks": ""
             }
            },
            "type": "scattercarpet"
           }
          ],
          "scattergeo": [
           {
            "marker": {
             "colorbar": {
              "outlinewidth": 0,
              "ticks": ""
             }
            },
            "type": "scattergeo"
           }
          ],
          "scattergl": [
           {
            "marker": {
             "colorbar": {
              "outlinewidth": 0,
              "ticks": ""
             }
            },
            "type": "scattergl"
           }
          ],
          "scattermapbox": [
           {
            "marker": {
             "colorbar": {
              "outlinewidth": 0,
              "ticks": ""
             }
            },
            "type": "scattermapbox"
           }
          ],
          "scatterpolar": [
           {
            "marker": {
             "colorbar": {
              "outlinewidth": 0,
              "ticks": ""
             }
            },
            "type": "scatterpolar"
           }
          ],
          "scatterpolargl": [
           {
            "marker": {
             "colorbar": {
              "outlinewidth": 0,
              "ticks": ""
             }
            },
            "type": "scatterpolargl"
           }
          ],
          "scatterternary": [
           {
            "marker": {
             "colorbar": {
              "outlinewidth": 0,
              "ticks": ""
             }
            },
            "type": "scatterternary"
           }
          ],
          "surface": [
           {
            "colorbar": {
             "outlinewidth": 0,
             "ticks": ""
            },
            "colorscale": [
             [
              0,
              "#0d0887"
             ],
             [
              0.1111111111111111,
              "#46039f"
             ],
             [
              0.2222222222222222,
              "#7201a8"
             ],
             [
              0.3333333333333333,
              "#9c179e"
             ],
             [
              0.4444444444444444,
              "#bd3786"
             ],
             [
              0.5555555555555556,
              "#d8576b"
             ],
             [
              0.6666666666666666,
              "#ed7953"
             ],
             [
              0.7777777777777778,
              "#fb9f3a"
             ],
             [
              0.8888888888888888,
              "#fdca26"
             ],
             [
              1,
              "#f0f921"
             ]
            ],
            "type": "surface"
           }
          ],
          "table": [
           {
            "cells": {
             "fill": {
              "color": "#EBF0F8"
             },
             "line": {
              "color": "white"
             }
            },
            "header": {
             "fill": {
              "color": "#C8D4E3"
             },
             "line": {
              "color": "white"
             }
            },
            "type": "table"
           }
          ]
         },
         "layout": {
          "annotationdefaults": {
           "arrowcolor": "#2a3f5f",
           "arrowhead": 0,
           "arrowwidth": 1
          },
          "autotypenumbers": "strict",
          "coloraxis": {
           "colorbar": {
            "outlinewidth": 0,
            "ticks": ""
           }
          },
          "colorscale": {
           "diverging": [
            [
             0,
             "#8e0152"
            ],
            [
             0.1,
             "#c51b7d"
            ],
            [
             0.2,
             "#de77ae"
            ],
            [
             0.3,
             "#f1b6da"
            ],
            [
             0.4,
             "#fde0ef"
            ],
            [
             0.5,
             "#f7f7f7"
            ],
            [
             0.6,
             "#e6f5d0"
            ],
            [
             0.7,
             "#b8e186"
            ],
            [
             0.8,
             "#7fbc41"
            ],
            [
             0.9,
             "#4d9221"
            ],
            [
             1,
             "#276419"
            ]
           ],
           "sequential": [
            [
             0,
             "#0d0887"
            ],
            [
             0.1111111111111111,
             "#46039f"
            ],
            [
             0.2222222222222222,
             "#7201a8"
            ],
            [
             0.3333333333333333,
             "#9c179e"
            ],
            [
             0.4444444444444444,
             "#bd3786"
            ],
            [
             0.5555555555555556,
             "#d8576b"
            ],
            [
             0.6666666666666666,
             "#ed7953"
            ],
            [
             0.7777777777777778,
             "#fb9f3a"
            ],
            [
             0.8888888888888888,
             "#fdca26"
            ],
            [
             1,
             "#f0f921"
            ]
           ],
           "sequentialminus": [
            [
             0,
             "#0d0887"
            ],
            [
             0.1111111111111111,
             "#46039f"
            ],
            [
             0.2222222222222222,
             "#7201a8"
            ],
            [
             0.3333333333333333,
             "#9c179e"
            ],
            [
             0.4444444444444444,
             "#bd3786"
            ],
            [
             0.5555555555555556,
             "#d8576b"
            ],
            [
             0.6666666666666666,
             "#ed7953"
            ],
            [
             0.7777777777777778,
             "#fb9f3a"
            ],
            [
             0.8888888888888888,
             "#fdca26"
            ],
            [
             1,
             "#f0f921"
            ]
           ]
          },
          "colorway": [
           "#636efa",
           "#EF553B",
           "#00cc96",
           "#ab63fa",
           "#FFA15A",
           "#19d3f3",
           "#FF6692",
           "#B6E880",
           "#FF97FF",
           "#FECB52"
          ],
          "font": {
           "color": "#2a3f5f"
          },
          "geo": {
           "bgcolor": "white",
           "lakecolor": "white",
           "landcolor": "#E5ECF6",
           "showlakes": true,
           "showland": true,
           "subunitcolor": "white"
          },
          "hoverlabel": {
           "align": "left"
          },
          "hovermode": "closest",
          "mapbox": {
           "style": "light"
          },
          "paper_bgcolor": "white",
          "plot_bgcolor": "#E5ECF6",
          "polar": {
           "angularaxis": {
            "gridcolor": "white",
            "linecolor": "white",
            "ticks": ""
           },
           "bgcolor": "#E5ECF6",
           "radialaxis": {
            "gridcolor": "white",
            "linecolor": "white",
            "ticks": ""
           }
          },
          "scene": {
           "xaxis": {
            "backgroundcolor": "#E5ECF6",
            "gridcolor": "white",
            "gridwidth": 2,
            "linecolor": "white",
            "showbackground": true,
            "ticks": "",
            "zerolinecolor": "white"
           },
           "yaxis": {
            "backgroundcolor": "#E5ECF6",
            "gridcolor": "white",
            "gridwidth": 2,
            "linecolor": "white",
            "showbackground": true,
            "ticks": "",
            "zerolinecolor": "white"
           },
           "zaxis": {
            "backgroundcolor": "#E5ECF6",
            "gridcolor": "white",
            "gridwidth": 2,
            "linecolor": "white",
            "showbackground": true,
            "ticks": "",
            "zerolinecolor": "white"
           }
          },
          "shapedefaults": {
           "line": {
            "color": "#2a3f5f"
           }
          },
          "ternary": {
           "aaxis": {
            "gridcolor": "white",
            "linecolor": "white",
            "ticks": ""
           },
           "baxis": {
            "gridcolor": "white",
            "linecolor": "white",
            "ticks": ""
           },
           "bgcolor": "#E5ECF6",
           "caxis": {
            "gridcolor": "white",
            "linecolor": "white",
            "ticks": ""
           }
          },
          "title": {
           "x": 0.05
          },
          "xaxis": {
           "automargin": true,
           "gridcolor": "white",
           "linecolor": "white",
           "ticks": "",
           "title": {
            "standoff": 15
           },
           "zerolinecolor": "white",
           "zerolinewidth": 2
          },
          "yaxis": {
           "automargin": true,
           "gridcolor": "white",
           "linecolor": "white",
           "ticks": "",
           "title": {
            "standoff": 15
           },
           "zerolinecolor": "white",
           "zerolinewidth": 2
          }
         }
        },
        "xaxis": {
         "anchor": "y",
         "domain": [
          0,
          1
         ],
         "title": {
          "text": "index"
         }
        },
        "yaxis": {
         "anchor": "x",
         "domain": [
          0,
          1
         ],
         "title": {
          "text": "value"
         }
        }
       }
      }
     },
     "metadata": {},
     "output_type": "display_data"
    }
   ],
   "source": [
    "grafico_max = pd.Series(p_weights[max_ind], index=x.columns)\n",
    "px.bar(grafico_max)"
   ]
  },
  {
   "cell_type": "code",
   "execution_count": 62,
   "metadata": {},
   "outputs": [],
   "source": [
    "data_nueva = pd.DataFrame(\n",
    "    {\n",
    "        'risk':p_risk,\n",
    "        'return':p_returns\n",
    "    }\n",
    ")"
   ]
  },
  {
   "cell_type": "code",
   "execution_count": 63,
   "metadata": {},
   "outputs": [
    {
     "data": {
      "text/html": [
       "<div>\n",
       "<style scoped>\n",
       "    .dataframe tbody tr th:only-of-type {\n",
       "        vertical-align: middle;\n",
       "    }\n",
       "\n",
       "    .dataframe tbody tr th {\n",
       "        vertical-align: top;\n",
       "    }\n",
       "\n",
       "    .dataframe thead th {\n",
       "        text-align: right;\n",
       "    }\n",
       "</style>\n",
       "<table border=\"1\" class=\"dataframe\">\n",
       "  <thead>\n",
       "    <tr style=\"text-align: right;\">\n",
       "      <th></th>\n",
       "      <th>risk</th>\n",
       "      <th>return</th>\n",
       "    </tr>\n",
       "  </thead>\n",
       "  <tbody>\n",
       "    <tr>\n",
       "      <th>0</th>\n",
       "      <td>0.351199</td>\n",
       "      <td>0.540660</td>\n",
       "    </tr>\n",
       "    <tr>\n",
       "      <th>1</th>\n",
       "      <td>0.385668</td>\n",
       "      <td>0.580976</td>\n",
       "    </tr>\n",
       "    <tr>\n",
       "      <th>2</th>\n",
       "      <td>0.320342</td>\n",
       "      <td>0.484893</td>\n",
       "    </tr>\n",
       "    <tr>\n",
       "      <th>3</th>\n",
       "      <td>0.454365</td>\n",
       "      <td>0.687771</td>\n",
       "    </tr>\n",
       "    <tr>\n",
       "      <th>4</th>\n",
       "      <td>0.312779</td>\n",
       "      <td>0.477971</td>\n",
       "    </tr>\n",
       "  </tbody>\n",
       "</table>\n",
       "</div>"
      ],
      "text/plain": [
       "       risk    return\n",
       "0  0.351199  0.540660\n",
       "1  0.385668  0.580976\n",
       "2  0.320342  0.484893\n",
       "3  0.454365  0.687771\n",
       "4  0.312779  0.477971"
      ]
     },
     "execution_count": 63,
     "metadata": {},
     "output_type": "execute_result"
    }
   ],
   "source": [
    "data_nueva.head()"
   ]
  },
  {
   "cell_type": "code",
   "execution_count": 64,
   "metadata": {},
   "outputs": [
    {
     "data": {
      "image/png": "[encoded data removed]",
      "text/plain": [
       "<Figure size 432x288 with 2 Axes>"
      ]
     },
     "metadata": {
      "needs_background": "light"
     },
     "output_type": "display_data"
    }
   ],
   "source": [
    "# The chart is called Efficient Frontier and shows the \n",
    "# returns on the Y-axis and volatility on the X-axis.\n",
    "max_ind = np.argmax(p_sharpe)\n",
    "\n",
    "plt.scatter(p_risk, p_returns, c=p_sharpe, cmap='plasma')\n",
    "plt.colorbar(label='Sharpe Ratio')\n",
    "\n",
    "plt.scatter(p_risk[max_ind], p_returns[max_ind], color='r', marker='*', s=500)\n",
    "plt.show()"
   ]
  },
  {
   "cell_type": "code",
   "execution_count": 65,
   "metadata": {},
   "outputs": [
    {
     "data": {
      "application/vnd.plotly.v1+json": {
       "config": {
        "plotlyServerURL": "https://plot.ly"
       },
       "data": [
        {
         "hovertemplate": "risk=%{x}<br>return=%{y}<br>color=%{marker.color}<extra></extra>",
         "legendgroup": "",
         "marker": {
          "color": [
           1.5379559267715983,
           1.5049369217274349,
           1.512184593624255,
           1.5122079731682054,
           1.5266440271048853,
           1.497984941969322,
           1.4697520751456654,
           1.5251017859413698,
           1.53408426994556,
           1.4372072137561163,
           1.4607485680361008,
           1.5527180047429108,
           1.4106274341421776,
           1.4128858181971722,
           1.5372001611202053,
           1.3740276342433144,
           1.3557481530417825,
           1.4960255637985933,
           1.5296447091284466,
           1.3191979459144305,
           1.4056268602704622,
           1.4918989011434074,
           1.315950469674776,
           1.5590537607550121,
           1.5045706041004758,
           1.521868275292119,
           1.5205889469288687,
           1.4288527048622701,
           1.4687448835662689,
           1.3533495770844424,
           1.5489299897244269,
           1.503579183859023,
           1.53990225300761,
           1.5436895581405103,
           1.5009990979001302,
           1.1994206851482454,
           1.5479623824407553,
           1.397939861978891,
           1.4919246595539064,
           1.496872913947846,
           1.5378679308404797,
           1.544619692625081,
           1.560067923674099,
           1.5656088000708626,
           1.5512122153265693,
           1.555397253290053,
           1.3828712952895534,
           1.5718234433811202,
           1.4935248199279463,
           1.364874852317759,
           1.5460703866004646,
           1.5577921626791345,
           1.4990498157706493,
           1.5393186349169619,
           1.380326819341218,
           1.412671026167387,
           1.524405556940963,
           1.5171117934032996,
           1.5346151474561498,
           1.5370842607313409,
           1.507547675905276,
           1.5495471060962156,
           1.5191643143385394,
           1.526679485644131,
           1.2765135018595215,
           1.5358151547509575,
           1.5113175010608637,
           1.5425134984573086,
           1.5361197452382205,
           1.374318982570422,
           1.4899558734058178,
           1.4986515535426261,
           1.5158612674069318,
           1.556118156680922,
           1.262298741521051,
           1.4381325810391137,
           1.5595276188831177,
           1.4001982791529644,
           1.42233877550585,
           1.5355398985358526,
           1.4938981021004865,
           1.5194225091190168,
           1.503885536876805,
           1.5020453479314593,
           1.4929538736724546,
           1.3402618325934097,
           1.500478862753492,
           1.2347843883901146,
           1.5266099003589038,
           1.5113396563271344,
           1.5396522655504958,
           1.3474617309345596,
           1.4929193610173488,
           1.5534657024554457,
           1.545287434210881,
           1.53128067475134,
           1.5489068714131549,
           1.535568267361687,
           1.551585892448062,
           1.4030189040197476,
           1.5413317132425932,
           1.5062133698524163,
           1.2125058135408118,
           1.4588731199479612,
           1.4842174689871723,
           1.5298858049230608,
           1.1991908895461323,
           1.536288549514486,
           1.5029380561608758,
           1.5349419039242607,
           1.5309888379698324,
           1.522914721165519,
           1.5058346985871232,
           1.3192534351801177,
           1.5279237445302356,
           1.4875882013115813,
           1.5182257571933664,
           1.3939330109254948,
           1.5123126600399088,
           1.4716574990559825,
           1.3205917284818176,
           1.445451568860988,
           1.4776854699092778,
           1.5480018425305775,
           1.4121482983787028,
           1.47120833326772,
           1.5429057160504243,
           1.5507653906396577,
           1.4697944124119873,
           1.545505897289756,
           1.5413503531554813,
           1.469948713977124,
           1.3266126653851165,
           1.5457427255307086,
           1.4887063857865332,
           1.4898019746258293,
           1.550182089659854,
           1.550647276112202,
           1.5034170456060771,
           1.529426004690973,
           1.3432792259395792,
           1.5061693041291033,
           1.538905189299371,
           1.308447903972375,
           1.4691740541691585,
           1.4955998260129248,
           1.4752625283433736,
           1.4548260308476761,
           1.4153537882511817,
           1.251899108761576,
           1.495845635586376,
           1.5480717830988413,
           1.4884736689882703,
           1.5437527642696498,
           1.4122120612949167,
           1.5707652627117388,
           1.379343464780713,
           1.5434260832218787,
           1.5626518480703342,
           1.534258900716977,
           1.551770261932868,
           1.5301019326264629,
           1.5469619967496095,
           1.4631818806773715,
           1.465559176473804,
           1.558963103744918,
           1.5100018672916262,
           1.338526856375794,
           1.5226668711819908,
           1.1698109449025555,
           1.5311902239510353,
           1.5217345261208663,
           1.3559146387793821,
           1.443803550010361,
           1.4808383542935506,
           1.5194073432919115,
           1.5350269827962273,
           1.5123487481336577,
           1.5150534151062394,
           1.516629084081686,
           1.5309576415179518,
           1.503547941186308,
           1.5489013111659116,
           1.545449481764835,
           1.4961224451188389,
           1.5406360304020763,
           1.4458347921138088,
           1.5447857010687969,
           1.54122330996107,
           1.462216114286655,
           1.406646420461063,
           1.4854308184217406,
           1.5147601521387501,
           1.4786196458107959,
           1.5621081517637736,
           1.5537225645062822,
           1.4579376336406529,
           1.5300567329879253,
           1.513428190767168,
           1.5454446478969972,
           1.5097412977452787,
           1.504803166847704,
           1.2985350237809916,
           1.5203909414766608,
           1.5102718372628827,
           1.5443802741968486,
           1.5526569435616098,
           1.4770425179872813,
           1.3820456729529778,
           1.545204625204741,
           1.4826381159948958,
           1.2533122839606754,
           1.476884840919691,
           1.2946997164222684,
           1.5701620009636912,
           1.3969932857239644,
           1.5592444530138365,
           1.5342109928233105,
           1.5139552606171347,
           1.544820331081524,
           1.3855573492420084,
           1.545674134081148,
           1.5190208108146794,
           1.5672792835991332,
           1.526670851680116,
           1.431677122617444,
           1.554023336266698,
           1.2930281727685906,
           1.529245021511637,
           1.5317722588642502,
           1.525506780965424,
           1.5612447993621699,
           1.5606151050079917,
           1.4746536194913107,
           1.5194417566605478,
           1.3195520915160543,
           1.5186618888259424,
           1.5392156711252256,
           1.4765201129254086,
           1.541478723331605,
           1.519997897161983,
           1.523590033213351,
           1.5522124573288665,
           1.534460027535317,
           1.5002192832265457,
           1.5568435726983314,
           1.548835737442031,
           1.5424255149721793,
           1.559433148514803,
           1.5345639914124545,
           1.5557710777991292,
           1.3434984558435206,
           1.3915004306557563,
           1.5179978494325377,
           1.5494100035144782,
           1.5157889515320075,
           1.3587860122983657,
           1.5304591740946671,
           1.4552909150464641,
           1.407099687616078,
           1.5309675753868466,
           1.5467193492519133,
           1.4125576811958411,
           1.5536431286268064,
           1.5686683524232636,
           1.3877015989861545,
           1.5472484548178076,
           1.5254267879841803,
           1.4952250177996707,
           1.489296143817374,
           1.554355410996874,
           1.4419390816849358,
           1.46468613277666,
           1.5547341762251015,
           1.536344221629936,
           1.4954048908217648,
           1.5072923510666976,
           1.3298999054846314,
           1.4135895792702327,
           1.5496781237158332,
           1.5187793367141837,
           1.568383221960258,
           1.3522932042152127,
           1.2981918341049725,
           1.4023488628247258,
           1.380596098479971,
           1.4104412618247673,
           1.504758358043843,
           1.5568095404333229,
           1.538853176870491,
           1.4179066605260098,
           1.4926909670663373,
           1.5530077739552577,
           1.2936851745885347,
           1.5413043982084176,
           1.424922202371297,
           1.5116091820362305,
           1.5383497485838642,
           1.4043341155944096,
           1.5386104457349075,
           1.3779679104747935,
           1.5553532221135087,
           1.5381712058020967,
           1.3045693485352297,
           1.509982773353764,
           1.2207675203397146,
           1.5442230249402504,
           1.475695818570612,
           1.492958650671945,
           1.5465849806191496,
           1.4406999638094702,
           1.561910454106418,
           1.517918054840442,
           1.3662722836702121,
           1.4032591460100698,
           1.5404009523302449,
           1.4292189376982622,
           1.417290692055431,
           1.4853667992440025,
           1.567702405077014,
           1.5637712443322764,
           1.4722870207378997,
           1.4526475505166794,
           1.471627637211586,
           1.4052587646552037,
           1.5427075767390492,
           1.547344544028536,
           1.5471948786262115,
           1.5271173176745254,
           1.4790495263231496,
           1.3741905254419668,
           1.435177586921804,
           1.5564864067547914,
           1.468661853953558,
           1.4953567257143288,
           1.39905360941365,
           1.3940760535928263,
           1.4930978250414797,
           1.4914694649204518,
           1.4381944328656373,
           1.5480889302067107,
           1.3540143760083136,
           1.561058244567937,
           1.5526420510233838,
           1.4555991674348712,
           1.245950830787516,
           1.5269018196179953,
           1.533908852413023,
           1.5338419273630308,
           1.5266516575426812,
           1.5358063735911394,
           1.3700981098947025,
           1.428689828776414,
           1.3412628314766808,
           1.5475447315515192,
           1.3787501863636809,
           1.4510222563909223,
           1.5573351278186467,
           1.4328881251235224,
           1.5557601987471903,
           1.52867979525515,
           1.4742397172571682,
           1.4713128359725889,
           1.5262317157577425,
           1.5654813867192994,
           1.3450702522358617,
           1.5527985872005323,
           1.2836222226498966,
           1.4216968392758753,
           1.541770083187768,
           1.4477357526736208,
           1.5502509393237411,
           1.5462491017145519,
           1.5011953520336878,
           1.5554979811595426,
           1.5116439381414553,
           1.3567875180868132,
           1.5309358520266532,
           1.4008774860294493,
           1.543701107872818,
           1.5279597319910971,
           1.5439209582332263,
           1.5071674251087288,
           1.5541784752308716,
           1.256658897065812,
           1.5540302113577065,
           1.5572947619588977,
           1.5167685444810934,
           1.5250248443522667,
           1.5360143246373017,
           1.5599453214877619,
           1.4960226015541847,
           1.2553005974010296,
           1.517315764732726,
           1.4405943873189164,
           1.5561897642499647,
           1.5582461040034152,
           1.3866885161635496,
           1.5215609872966953,
           1.2327645610733207,
           1.4864302312794466,
           1.2989054864237546,
           1.466370850346904,
           1.3645277848975605,
           1.5076581402820448,
           1.5674177535242986,
           1.4659222015015998,
           1.5672591242970628,
           1.5456179290738057,
           1.4908677544208067,
           1.3730110470124215,
           1.4325872881859663,
           1.5522342219456429,
           1.441598227459325,
           1.3089966498188088,
           1.4942200618347365,
           1.548197506122683,
           1.5196140377612617,
           1.4629895802152197,
           1.4920155689536767,
           1.46973321775777,
           1.3495568889900098,
           1.550296768169409,
           1.4863107817986805,
           1.4647925232171957,
           1.5382829810058238,
           1.4682547021721322,
           1.3853322392544525,
           1.553565054510242,
           1.53801823520021,
           1.4787480311850683,
           1.4179450024351674,
           1.5118450121261033,
           1.5413578870384395,
           1.3829136736119492,
           1.526420144614447,
           1.3994547083247881,
           1.5528358236815085,
           1.2916580039811207,
           1.5339123800246128,
           1.5219786182755668,
           1.3547250299788658,
           1.3263176655694844,
           1.4697502996825091,
           1.3423046358417678,
           1.3868668527936063,
           1.360568374255176,
           1.5019933130894554,
           1.483062107005839,
           1.5476123836144857,
           1.3353063062765214,
           1.4826996221821456,
           1.5352329911142388,
           1.5609392292330295,
           1.540742680151081,
           1.5110730389393379,
           1.5342859780256255,
           1.540945207677584,
           1.5520748606836068,
           1.5297121307798691,
           1.4604277135115518,
           1.5395341404612324,
           1.4249175532063407,
           1.28738683664943,
           1.536821996648636,
           1.3439507373348236,
           1.4504869247136054,
           1.5396785279567304,
           1.2577136408765337,
           1.5337689069215255,
           1.5451843418898688,
           1.5409776633168482,
           1.5214261102898008,
           1.5509202886381939,
           1.547856342815472,
           1.5263841967535285,
           1.4932186793060322,
           1.4668146737270498,
           1.2944981027826405,
           1.5527626839148014,
           1.4718566371435446,
           1.5671520970148938,
           1.531966559766622,
           1.498490083395823,
           1.5394023648220374,
           1.5599769340083076,
           1.4520782211633483,
           1.5305240930813035,
           1.5006570220020974,
           1.5177405166021132,
           1.3449240968818519,
           1.4460545362169532,
           1.4572988917293992,
           1.5576759389529788,
           1.4015789771833662,
           1.5600873016161907,
           1.5441839998458025,
           1.5459419799546255,
           1.5117631793483133,
           1.5526147760303546
          ],
          "coloraxis": "coloraxis",
          "symbol": "circle"
         },
         "mode": "markers",
         "name": "",
         "orientation": "v",
         "showlegend": false,
         "type": "scatter",
         "x": [
          0.35119938021345076,
          0.3856675571670052,
          0.3203424300108808,
          0.45436534542718066,
          0.31277860169987853,
          0.38589711746818445,
          0.3272640579631277,
          0.3176335800691952,
          0.32006266641948844,
          0.297474104682423,
          0.3012698169110287,
          0.36462571440383673,
          0.28683494990012814,
          0.2890695826808576,
          0.36049196760714736,
          0.2891429858225915,
          0.28385337892600426,
          0.3813114958430179,
          0.3177838706651323,
          0.28384361363049493,
          0.2884940757259668,
          0.302024155278073,
          0.30744427571684735,
          0.3759509753360408,
          0.33045134194129455,
          0.3722036985729838,
          0.32714062460380494,
          0.2931380893581213,
          0.29941228301522177,
          0.2834316321178387,
          0.32460190805849065,
          0.32500796551492644,
          0.34946931777675977,
          0.37500550873920924,
          0.37069345586580826,
          0.2844163634427255,
          0.319959489435213,
          0.29784433740189253,
          0.3002265201398419,
          0.3458561840458425,
          0.3369260186052302,
          0.3782106731510339,
          0.39217541991758453,
          0.3666094029425486,
          0.3382270805668861,
          0.3305337658013508,
          0.29871708587147366,
          0.36304414392020085,
          0.3487508413388632,
          0.2833886961168379,
          0.3256384473834556,
          0.3405503863708508,
          0.30306320680981635,
          0.33787611347377794,
          0.29779200060637223,
          0.29775521570877256,
          0.3510589983325273,
          0.358389355757341,
          0.3535602570487369,
          0.3331287703366909,
          0.32816126893985836,
          0.3600848270309749,
          0.3277399027703572,
          0.40267668967070475,
          0.3004021146201636,
          0.3252625275142528,
          0.43417108230292456,
          0.3436518660825282,
          0.34863293938881257,
          0.2866025207015188,
          0.3169404931415382,
          0.30275143150399186,
          0.32063552168147563,
          0.3257081774302467,
          0.282161200335504,
          0.3024582253350422,
          0.3529120314070763,
          0.3137677675046324,
          0.2971794904046552,
          0.37928526627524567,
          0.30072504547257894,
          0.36534565427558874,
          0.34023367603972354,
          0.33806641078689076,
          0.3235712362843069,
          0.2900446611004872,
          0.44546756574053076,
          0.28603007279850956,
          0.31869951156496196,
          0.30459496698256294,
          0.3782893485768998,
          0.28652020814991375,
          0.3019472412821679,
          0.32562192965816145,
          0.333743940189726,
          0.33890214396539187,
          0.348249935099979,
          0.3434547903502769,
          0.33437304254853023,
          0.2863047925894408,
          0.3340994980275816,
          0.3068069596621693,
          0.28022677889944103,
          0.2999448801922795,
          0.3817413288709214,
          0.34297417005247954,
          0.28069601317823273,
          0.32913417453530097,
          0.3179626351335231,
          0.3206535380698593,
          0.4317040926798965,
          0.3332582681668705,
          0.30963626966676494,
          0.288957625585261,
          0.33827512134639903,
          0.3057397216716571,
          0.3088483014539816,
          0.3022608858513216,
          0.3311990965438918,
          0.3012342804960651,
          0.28498010178169925,
          0.29093457553213253,
          0.3290815273679512,
          0.34614048799019825,
          0.28743411114225104,
          0.4878999138575249,
          0.42759178877785387,
          0.3952876212915075,
          0.2950339543810608,
          0.32328599114265155,
          0.34073391042939244,
          0.29653985574895925,
          0.2880035404743318,
          0.32429012817639563,
          0.30959169520166485,
          0.31836114072813027,
          0.3577000797966103,
          0.32339889832653584,
          0.3054940009025051,
          0.3114447909261716,
          0.28264659331078856,
          0.3753656894914172,
          0.37571271814997653,
          0.2937569436519655,
          0.2989967531651688,
          0.3171693417588513,
          0.3068360469582834,
          0.29429705829812786,
          0.29307409341422563,
          0.30335465023735647,
          0.3352668132168788,
          0.32361918994846356,
          0.3094917369086984,
          0.32299234555195017,
          0.2896542715200624,
          0.3550641173900397,
          0.29268257019806376,
          0.32274764645895504,
          0.38797001095174544,
          0.42207319060648885,
          0.3453194076340705,
          0.3398719599773224,
          0.32359076901401923,
          0.49436318969063403,
          0.29606530754589044,
          0.34094287404632584,
          0.36696633665086925,
          0.28847516821192126,
          0.32028608243732987,
          0.28470520968817314,
          0.3311853960606735,
          0.3345562749877746,
          0.30240300045540236,
          0.2904128873754784,
          0.34193980169064464,
          0.32347611526074715,
          0.3588609653100844,
          0.3180298091727296,
          0.31831743633002174,
          0.35234453309276725,
          0.3494614753623468,
          0.33536376448649263,
          0.33014535440226767,
          0.3232850880347175,
          0.3004593494243268,
          0.34856650629328734,
          0.2912227089443447,
          0.3712486758013873,
          0.4183161211224128,
          0.3612727573727034,
          0.31709320942418295,
          0.4247657511300246,
          0.311095613440226,
          0.44441192356577214,
          0.3633107235459756,
          0.34543244710703,
          0.2929039623781354,
          0.3732731415515584,
          0.37083490415763515,
          0.3574171761558724,
          0.34233449285602485,
          0.3023391020306575,
          0.28548572797445104,
          0.32656148770169746,
          0.34456125197536297,
          0.3385849083500006,
          0.32317618295667433,
          0.30262526923550054,
          0.2948188845569915,
          0.3639502596460554,
          0.38915152334657616,
          0.2787344947143668,
          0.3031497253683868,
          0.3122419987883857,
          0.3600461436901159,
          0.2948424057216127,
          0.3837123496656484,
          0.32871857803558746,
          0.3161046180601565,
          0.33371918004805007,
          0.2892042954536638,
          0.336572769242052,
          0.35224830033884774,
          0.3744205132195528,
          0.33963406193512413,
          0.2948392531996211,
          0.36877588115368615,
          0.28055513339799326,
          0.33655478325436183,
          0.37710180390783193,
          0.33832839363022804,
          0.3354617363337804,
          0.3516392803813002,
          0.3014467580590265,
          0.3304172428159044,
          0.2850164799443035,
          0.33510782258737837,
          0.3449681048011415,
          0.30264199991062846,
          0.38108477819855696,
          0.31434455874938166,
          0.35832006152934276,
          0.345984187768251,
          0.3144680629332293,
          0.34523218891144036,
          0.36313489045332803,
          0.3396220010722523,
          0.3665950847930356,
          0.354318177460548,
          0.336522069093011,
          0.375336940669917,
          0.28236614314286224,
          0.2911810855399725,
          0.3218340846315735,
          0.340044071540291,
          0.3856365028335912,
          0.28461367456447995,
          0.37380492662047476,
          0.3237914364932841,
          0.31431429307545733,
          0.32408959786886876,
          0.32844948635254045,
          0.2931487993680387,
          0.3952198815388693,
          0.36245691838322336,
          0.2863501190549182,
          0.4125983876511641,
          0.3096741192373128,
          0.36792898629882237,
          0.31688351567604195,
          0.38942764354004683,
          0.29065072833031713,
          0.29657696805508765,
          0.33189573814577594,
          0.31533020711693743,
          0.3283092996873386,
          0.30860068188970563,
          0.28568267966875727,
          0.3331515603375671,
          0.40420698278522005,
          0.3195363386944113,
          0.3394074626742483,
          0.28621161615399343,
          0.2799035627614884,
          0.2867360733787238,
          0.2915801904752203,
          0.29007578237686205,
          0.32190226394361265,
          0.36338532364288884,
          0.3538177080694141,
          0.29109427648578934,
          0.3286821555370406,
          0.33904096204817896,
          0.2818384985916998,
          0.33065033426268514,
          0.29262349703327184,
          0.3489895838122622,
          0.3432463214665316,
          0.28590524027323555,
          0.4283380825669056,
          0.29225004085842116,
          0.34246664007884287,
          0.317214058398736,
          0.2824975810388428,
          0.31671057667728053,
          0.31031331617815,
          0.3894335048865004,
          0.30137222603034747,
          0.42681125416106636,
          0.34403001394788024,
          0.2905890501471493,
          0.3348942339945856,
          0.3509367587810844,
          0.28362362763684495,
          0.28735914101301974,
          0.34393961677879786,
          0.3038082883264247,
          0.29111265583042384,
          0.31128394080420835,
          0.36177326232891294,
          0.36465714735737365,
          0.30697046282336454,
          0.2929630178559494,
          0.3144311217435098,
          0.28973905100249314,
          0.33307244682556436,
          0.39039817463233256,
          0.36723106992083104,
          0.3096715270901238,
          0.29753937599885266,
          0.29623086311747104,
          0.28947975006770055,
          0.4039383899683025,
          0.30012289281198923,
          0.30295990379141013,
          0.298610365591129,
          0.29545748766239677,
          0.303291672736541,
          0.315119598472836,
          0.2926406716497828,
          0.3483386151934084,
          0.2873528913177468,
          0.34290524109405585,
          0.33210302802582287,
          0.3097988439963164,
          0.2787942069695306,
          0.31277541430425043,
          0.32951114808604354,
          0.3555767510927103,
          0.44589008377691547,
          0.3901227072468145,
          0.2847485835666273,
          0.2980248427163698,
          0.286080899920641,
          0.33011941660618105,
          0.28678286031190375,
          0.5277971405681346,
          0.32943627052142294,
          0.29980544877942955,
          0.40450948468899883,
          0.3906898727251494,
          0.32450456557694746,
          0.29503707816798586,
          0.3231606415250535,
          0.34397440629137865,
          0.28378709477683156,
          0.33703249822463827,
          0.2840915495127737,
          0.29037624251004207,
          0.36253548749724773,
          0.3028368382403778,
          0.35167959094126255,
          0.3261986068204785,
          0.31723879932436944,
          0.35809614868048706,
          0.3290114604555312,
          0.289251854554932,
          0.41659008245980944,
          0.2956176630543539,
          0.32880817176311433,
          0.3266161132297648,
          0.3192885668955135,
          0.33680767913430476,
          0.323991063395453,
          0.2806966635603841,
          0.3908891752726867,
          0.347980804276144,
          0.30573708549586087,
          0.3142599662095164,
          0.3150898698760003,
          0.35374474870494904,
          0.31235857295918773,
          0.280704555477231,
          0.3560986696067881,
          0.2987423421916019,
          0.36252538951711255,
          0.37109527318005353,
          0.29250870883763946,
          0.3476332894761174,
          0.28206383953222847,
          0.3131003749425219,
          0.28117757216540196,
          0.4751895809852801,
          0.28383114014748295,
          0.30954055072074976,
          0.3604198098865234,
          0.2969710999206403,
          0.34253184592681074,
          0.3785570917059954,
          0.32007069810324346,
          0.28468957463100086,
          0.3043127468555852,
          0.36715544725602267,
          0.2900821289557452,
          0.28282040764233196,
          0.2996669388279837,
          0.3753476526772919,
          0.3147960272924991,
          0.2964175557252817,
          0.30362018613666447,
          0.32420011647625663,
          0.2818707652373698,
          0.36151916684378077,
          0.314645067376604,
          0.29581559485388936,
          0.3488243702661405,
          0.41943827160039804,
          0.3230349421436291,
          0.3679693969391166,
          0.4127772067917666,
          0.31027641146776525,
          0.3029216624684612,
          0.34588880346665063,
          0.4013901087978579,
          0.2915402275614803,
          0.3304162032912952,
          0.2926344110084568,
          0.3545021719855671,
          0.2795756401462896,
          0.3394543467145993,
          0.33330711321932427,
          0.28439127936869935,
          0.28732421648773926,
          0.32297210293246675,
          0.29313665085968565,
          0.2902025865060485,
          0.29030992283559587,
          0.32071893369196186,
          0.3153175191508635,
          0.39902844440825597,
          0.2861783932398277,
          0.3001898347258628,
          0.3738776719740053,
          0.32988511332846404,
          0.325453707638895,
          0.3139093264694867,
          0.3123801803175082,
          0.3861785704258915,
          0.3834160746886027,
          0.3490090935497537,
          0.29734485454487297,
          0.37412140291046747,
          0.2935945859058967,
          0.2812943822003983,
          0.31589419092587895,
          0.28533655947359626,
          0.3017659859121744,
          0.37061600122246124,
          0.2804206128412705,
          0.3319901044866931,
          0.32387620001494777,
          0.34219699203005693,
          0.3245996858194269,
          0.4099401727310638,
          0.37623693427585814,
          0.3700996603799732,
          0.4375764824043395,
          0.3008681697150651,
          0.2875917681050498,
          0.3707022119629736,
          0.30344897470655285,
          0.35969424434022185,
          0.31537679252345213,
          0.3049138708086532,
          0.3151544247324272,
          0.3489368221724134,
          0.2941852235688179,
          0.3161124208664764,
          0.33380005747744146,
          0.39122803336062156,
          0.28339959318803953,
          0.3002250094118376,
          0.29656822682004813,
          0.36481687502239185,
          0.29889209279676576,
          0.37615164839833826,
          0.4060838193272656,
          0.3434571654528793,
          0.4175115119637476,
          0.3268303361492882
         ],
         "xaxis": "x",
         "y": [
          0.5406602687382389,
          0.5809760496817379,
          0.48489320680319536,
          0.6877705076222835,
          0.4779711038397067,
          0.5786364762997129,
          0.48146998507523325,
          0.4848998662367489,
          0.49148589752810967,
          0.42795231453295407,
          0.4405121768052098,
          0.5667176088087823,
          0.40501510313580835,
          0.4088239090374769,
          0.554693195949494,
          0.3976811021806143,
          0.38521209509286547,
          0.5710126617220865,
          0.48657438732020153,
          0.37481409879980293,
          0.40591375837066584,
          0.451032562905535,
          0.40497925755252473,
          0.5867041121262523,
          0.4976762516455208,
          0.5670019772065851,
          0.49793554905162585,
          0.41926300158437024,
          0.44019266805614704,
          0.38395924964532235,
          0.5032800112641217,
          0.48915571813596204,
          0.5386777427904542,
          0.5794613035117346,
          0.5569576525303803,
          0.34147030202456996,
          0.49577225969967803,
          0.41677788044575637,
          0.4483557769203188,
          0.5182118029419228,
          0.5186572055281842,
          0.5847660801149033,
          0.6124218862753668,
          0.574531280009262,
          0.5251778707476217,
          0.5146168289607531,
          0.4134934656505032,
          0.5712023989489967,
          0.5213801988058322,
          0.38717042934777696,
          0.5039550044468054,
          0.5310283617480904,
          0.45475355706307724,
          0.5206104028743838,
          0.4114544642602287,
          0.42104376510540736,
          0.5356824985781049,
          0.5442513462912162,
          0.5431124352739232,
          0.5125504773801154,
          0.49520520743562724,
          0.5585170431712422,
          0.49838033278036653,
          0.6153627235140283,
          0.383844412679633,
          0.5000343118697264,
          0.6568155570614037,
          0.5306088689891691,
          0.5360685319491005,
          0.39427058385091124,
          0.4726916829531432,
          0.4541650377754216,
          0.4865168826948443,
          0.5073387768287851,
          0.35652194611129623,
          0.43540273231684395,
          0.5509172360823608,
          0.4397690813173051,
          0.4231055367870074,
          0.5829803315237944,
          0.449694317630195,
          0.5556602459272536,
          0.5121756240280736,
          0.5082903825441435,
          0.48355193251798895,
          0.38911802676778967,
          0.6690719079958354,
          0.3535327501816302,
          0.487008226673865,
          0.4607991040976728,
          0.5830067507534967,
          0.3864546370723675,
          0.45122613018801605,
          0.5063398866133304,
          0.5162374264754745,
          0.5194645832373149,
          0.5399371075315268,
          0.5279168597121745,
          0.519318631813799,
          0.40208601275132555,
          0.5154645018866602,
          0.4625711366861899,
          0.3401106954757574,
          0.43801179016297087,
          0.567144265118586,
          0.5252272545471884,
          0.33693908315289356,
          0.5061422563787126,
          0.4783480347938996,
          0.4926685095034911,
          0.6615840332825907,
          0.5080229627799412,
          0.46671950590343103,
          0.38158317630087807,
          0.5173668089583203,
          0.4552620148263543,
          0.46936250970191545,
          0.421745715221569,
          0.5013690907154918,
          0.4437495911960012,
          0.3767124166846848,
          0.420945340938373,
          0.4867571418412028,
          0.5363529825177572,
          0.4062987055875566,
          0.7185082228230235,
          0.6603825208577438,
          0.6136011140326393,
          0.43406564823822585,
          0.500131694323432,
          0.525706744512778,
          0.4363269915771535,
          0.38244482701027105,
          0.5017619965670665,
          0.46134432058858843,
          0.4747614229210583,
          0.5550454884952581,
          0.5019707157934208,
          0.45973649584699544,
          0.47680013174911967,
          0.3800466238194307,
          0.5659201930808879,
          0.5787547730348204,
          0.384743597864624,
          0.4397102074018149,
          0.4748248414685284,
          0.45310881949475845,
          0.42857201533516726,
          0.4152113980948309,
          0.3801428375257635,
          0.5020005235938594,
          0.5014783477721082,
          0.46112327097235756,
          0.4991106117569991,
          0.4094554714370273,
          0.558270781220303,
          0.40410675190379935,
          0.49862694620295195,
          0.6068581824902515,
          0.6482062943283933,
          0.5363832867377106,
          0.5205500886699789,
          0.5010748371313822,
          0.7240545136072092,
          0.4343278765181794,
          0.5320399937297807,
          0.5546647108558002,
          0.3865114372960342,
          0.4881685439080536,
          0.3333787544056581,
          0.5076064718753167,
          0.509606430286834,
          0.41043583374690024,
          0.4197114479854293,
          0.5068554665886839,
          0.4919752611947307,
          0.5514029179843654,
          0.481444915908999,
          0.4827421254096919,
          0.5349014099338991,
          0.5355367836895965,
          0.5047313044244991,
          0.5118653870310413,
          0.5001120409609963,
          0.44996598632929324,
          0.5375421560682142,
          0.4214739464037194,
          0.5740635590415402,
          0.6453524983568107,
          0.5287782760450708,
          0.4464766101207869,
          0.6315805504529911,
          0.47169859689460614,
          0.6577623329746531,
          0.5680886867709956,
          0.5372339222805368,
          0.42745560724664033,
          0.5716906656608242,
          0.5617838486115172,
          0.5529115971207172,
          0.517344718677051,
          0.455408193987396,
          0.3710777330015702,
          0.4969893294356594,
          0.5208928376221217,
          0.5234180166777044,
          0.5022751385071025,
          0.447429908252104,
          0.4078538059523462,
          0.5629306015648404,
          0.5775382077448493,
          0.3496848680240816,
          0.4481574671939016,
          0.40465712937817233,
          0.5658866542155522,
          0.4122978688695282,
          0.5988896530176127,
          0.5048195494344733,
          0.47903881800104214,
          0.5160430927687962,
          0.40110314794901514,
          0.5207433593699755,
          0.5355986271062033,
          0.5873985260281072,
          0.5190192647008525,
          0.4225296722726733,
          0.5736498318762198,
          0.36312239326000767,
          0.5151807982687304,
          0.5782020604420541,
          0.5166297535223414,
          0.5242528744133419,
          0.5493131728434489,
          0.44496665172769634,
          0.5025434134321785,
          0.37646389959403814,
          0.5094158873446345,
          0.5315024174841259,
          0.4472963872978605,
          0.5880116920073105,
          0.47827288447637395,
          0.5464696815993495,
          0.5375690301730156,
          0.4830131451451683,
          0.5184332534526758,
          0.5659001142466294,
          0.5265359183352619,
          0.5660016061673895,
          0.5530788104742274,
          0.5169224318953515,
          0.5845125340657764,
          0.37973149448007304,
          0.405577011636559,
          0.48902382538350475,
          0.5273857467352664,
          0.5851183227217758,
          0.3871093444890673,
          0.5726557094345281,
          0.471674069955451,
          0.44270642220702033,
          0.49665854261832265,
          0.5085187030064955,
          0.41449675601741787,
          0.6146344198702631,
          0.5691337674831346,
          0.39775924425552417,
          0.6390199387149927,
          0.472849685915973,
          0.5506775657219771,
          0.4723974425746935,
          0.6059041556508772,
          0.4195127393284857,
          0.43481930335755803,
          0.5165170311557444,
          0.48493209927084424,
          0.49143808106086473,
          0.46560882340074194,
          0.38030294722369484,
          0.4714026414385415,
          0.6270066387527998,
          0.4857823814474607,
          0.5328443926489564,
          0.3874225957869843,
          0.36372581402664916,
          0.40249938893734755,
          0.4029502988050053,
          0.4095371483439491,
          0.4848614103647481,
          0.5662780039304938,
          0.5450088762727395,
          0.41315035861618915,
          0.4911033043549089,
          0.5270509815590895,
          0.3649688027797324,
          0.5101339283466927,
          0.4173757136476782,
          0.5280545769847391,
          0.5285520987141812,
          0.40190127771120343,
          0.6596934770993959,
          0.40310715766404437,
          0.5331803449076199,
          0.48840930408775124,
          0.36890006253026236,
          0.4786977484662926,
          0.379192905638682,
          0.6019635046781086,
          0.44517103342620873,
          0.6378381141374395,
          0.5325948300866871,
          0.41906328755454697,
          0.5235891362712235,
          0.5332170310931084,
          0.3878881310324861,
          0.4036358416782766,
          0.5303258620140637,
          0.4346355095080876,
          0.4129969518997639,
          0.4628254727266059,
          0.5677104858285305,
          0.5708010693973419,
          0.4523930220960777,
          0.4259904685009507,
          0.46318051944426725,
          0.40755869323505284,
          0.5143386315561328,
          0.6046744682943229,
          0.5687367111167212,
          0.4733697515660033,
          0.44050819237954125,
          0.4074779184438902,
          0.41586335934105934,
          0.6293428281109299,
          0.4412124552273772,
          0.4534785900608302,
          0.41818269829379906,
          0.41229521352618764,
          0.45328941138703244,
          0.4704533938847517,
          0.42128802371988266,
          0.5397893991337768,
          0.3894625219830442,
          0.535821400867561,
          0.5161441444086743,
          0.45138634444680764,
          0.3477054311904601,
          0.4780469434799659,
          0.5059370582343006,
          0.5459348109611752,
          0.6813881755344259,
          0.5997420778733425,
          0.3905171082304292,
          0.42620372922200217,
          0.3840869735107342,
          0.5113768988228993,
          0.3957907145513895,
          0.76659844147953,
          0.513547143202428,
          0.43001007415598247,
          0.6299385564485622,
          0.5978269710023261,
          0.478867919711806,
          0.4345186758308172,
          0.49370299385152183,
          0.5390150148544747,
          0.38208891207227647,
          0.523858182548077,
          0.36502479674889793,
          0.4132329124174274,
          0.5594959718328999,
          0.43885881698159634,
          0.5457276944830283,
          0.5048802558767793,
          0.4767056877375027,
          0.5575655431538925,
          0.49783721436838885,
          0.3928391989663513,
          0.6383998046288285,
          0.41453133034523404,
          0.5080806359202221,
          0.49954698296317335,
          0.4934410262900799,
          0.5081247026971641,
          0.5040350597448463,
          0.3530868032579772,
          0.6080508871626829,
          0.5424415339913379,
          0.46418837488333775,
          0.4797254991777808,
          0.48445844606080374,
          0.5523650640378813,
          0.467754969188798,
          0.35271507464608254,
          0.5408454075203882,
          0.43078971402282407,
          0.5647130283729724,
          0.5788263553515689,
          0.4060173056407035,
          0.5294653546442706,
          0.34806021124055475,
          0.465859485023408,
          0.36558220922867357,
          0.6974893064349971,
          0.38767629846165325,
          0.4671402114063644,
          0.5654838938989901,
          0.435764588094809,
          0.5373640233895278,
          0.5856799522369347,
          0.4776522895083086,
          0.39126627895232,
          0.4363832400081355,
          0.5704716347144929,
          0.41859307454551997,
          0.37057498868640887,
          0.44820863539720096,
          0.5816836983288671,
          0.4788388342409553,
          0.43408220229743594,
          0.4534514784368513,
          0.47695620317899934,
          0.38077467495136313,
          0.561013089397262,
          0.4681201991062813,
          0.43373453695348924,
          0.5371182131750316,
          0.6164477624484792,
          0.44795074996351836,
          0.5722265047646686,
          0.6354831177983464,
          0.45927178364561055,
          0.42994860379565747,
          0.5234444513197695,
          0.6192941539374048,
          0.4035714026652497,
          0.5048498720643568,
          0.4099312872970519,
          0.5510249541123592,
          0.3614711930705371,
          0.5212052142836848,
          0.5077851062266144,
          0.38565081631162396,
          0.3814578971356187,
          0.4751550986090619,
          0.3938655867463118,
          0.40286809250832967,
          0.395374883714787,
          0.48219135916879485,
          0.4680952828767287,
          0.6181485806256563,
          0.3825115613088125,
          0.4455290058136826,
          0.57455373128346,
          0.5154369376558526,
          0.5019334761972125,
          0.47480633083366947,
          0.47975179943245455,
          0.5956651501660354,
          0.5956755937255457,
          0.53440840329434,
          0.43467765785275025,
          0.576539017268594,
          0.41875943402690785,
          0.36249076617094844,
          0.4859504992827194,
          0.3838553476145506,
          0.4381380078593115,
          0.5711905901524075,
          0.35303562329654375,
          0.5096967841311021,
          0.5009405159954949,
          0.5278364245365165,
          0.49434003664768683,
          0.6364096878807756,
          0.5829333512020669,
          0.5654697440892242,
          0.6540398524482878,
          0.4417517870471741,
          0.37265306209958127,
          0.5761785523001329,
          0.4470725549955318,
          0.5642498622511323,
          0.48362177037373444,
          0.4573596844711317,
          0.4856265065075094,
          0.5448686284241854,
          0.4275999954205834,
          0.48429340652020747,
          0.5014119463144487,
          0.5943664945292964,
          0.38152572161235077,
          0.4345686214426635,
          0.43261351242459717,
          0.5688252357685657,
          0.41933279197352213,
          0.5874064302172224,
          0.6276847225729245,
          0.531486939721578,
          0.6317991585980062,
          0.5079405684613951
         ],
         "yaxis": "y"
        }
       ],
       "layout": {
        "coloraxis": {
         "colorbar": {
          "title": {
           "text": "color"
          }
         },
         "colorscale": [
          [
           0,
           "#0d0887"
          ],
          [
           0.1111111111111111,
           "#46039f"
          ],
          [
           0.2222222222222222,
           "#7201a8"
          ],
          [
           0.3333333333333333,
           "#9c179e"
          ],
          [
           0.4444444444444444,
           "#bd3786"
          ],
          [
           0.5555555555555556,
           "#d8576b"
          ],
          [
           0.6666666666666666,
           "#ed7953"
          ],
          [
           0.7777777777777778,
           "#fb9f3a"
          ],
          [
           0.8888888888888888,
           "#fdca26"
          ],
          [
           1,
           "#f0f921"
          ]
         ]
        },
        "legend": {
         "tracegroupgap": 0
        },
        "margin": {
         "t": 60
        },
        "template": {
         "data": {
          "bar": [
           {
            "error_x": {
             "color": "#2a3f5f"
            },
            "error_y": {
             "color": "#2a3f5f"
            },
            "marker": {
             "line": {
              "color": "#E5ECF6",
              "width": 0.5
             },
             "pattern": {
              "fillmode": "overlay",
              "size": 10,
              "solidity": 0.2
             }
            },
            "type": "bar"
           }
          ],
          "barpolar": [
           {
            "marker": {
             "line": {
              "color": "#E5ECF6",
              "width": 0.5
             },
             "pattern": {
              "fillmode": "overlay",
              "size": 10,
              "solidity": 0.2
             }
            },
            "type": "barpolar"
           }
          ],
          "carpet": [
           {
            "aaxis": {
             "endlinecolor": "#2a3f5f",
             "gridcolor": "white",
             "linecolor": "white",
             "minorgridcolor": "white",
             "startlinecolor": "#2a3f5f"
            },
            "baxis": {
             "endlinecolor": "#2a3f5f",
             "gridcolor": "white",
             "linecolor": "white",
             "minorgridcolor": "white",
             "startlinecolor": "#2a3f5f"
            },
            "type": "carpet"
           }
          ],
          "choropleth": [
           {
            "colorbar": {
             "outlinewidth": 0,
             "ticks": ""
            },
            "type": "choropleth"
           }
          ],
          "contour": [
           {
            "colorbar": {
             "outlinewidth": 0,
             "ticks": ""
            },
            "colorscale": [
             [
              0,
              "#0d0887"
             ],
             [
              0.1111111111111111,
              "#46039f"
             ],
             [
              0.2222222222222222,
              "#7201a8"
             ],
             [
              0.3333333333333333,
              "#9c179e"
             ],
             [
              0.4444444444444444,
              "#bd3786"
             ],
             [
              0.5555555555555556,
              "#d8576b"
             ],
             [
              0.6666666666666666,
              "#ed7953"
             ],
             [
              0.7777777777777778,
              "#fb9f3a"
             ],
             [
              0.8888888888888888,
              "#fdca26"
             ],
             [
              1,
              "#f0f921"
             ]
            ],
            "type": "contour"
           }
          ],
          "contourcarpet": [
           {
            "colorbar": {
             "outlinewidth": 0,
             "ticks": ""
            },
            "type": "contourcarpet"
           }
          ],
          "heatmap": [
           {
            "colorbar": {
             "outlinewidth": 0,
             "ticks": ""
            },
            "colorscale": [
             [
              0,
              "#0d0887"
             ],
             [
              0.1111111111111111,
              "#46039f"
             ],
             [
              0.2222222222222222,
              "#7201a8"
             ],
             [
              0.3333333333333333,
              "#9c179e"
             ],
             [
              0.4444444444444444,
              "#bd3786"
             ],
             [
              0.5555555555555556,
              "#d8576b"
             ],
             [
              0.6666666666666666,
              "#ed7953"
             ],
             [
              0.7777777777777778,
              "#fb9f3a"
             ],
             [
              0.8888888888888888,
              "#fdca26"
             ],
             [
              1,
              "#f0f921"
             ]
            ],
            "type": "heatmap"
           }
          ],
          "heatmapgl": [
           {
            "colorbar": {
             "outlinewidth": 0,
             "ticks": ""
            },
            "colorscale": [
             [
              0,
              "#0d0887"
             ],
             [
              0.1111111111111111,
              "#46039f"
             ],
             [
              0.2222222222222222,
              "#7201a8"
             ],
             [
              0.3333333333333333,
              "#9c179e"
             ],
             [
              0.4444444444444444,
              "#bd3786"
             ],
             [
              0.5555555555555556,
              "#d8576b"
             ],
             [
              0.6666666666666666,
              "#ed7953"
             ],
             [
              0.7777777777777778,
              "#fb9f3a"
             ],
             [
              0.8888888888888888,
              "#fdca26"
             ],
             [
              1,
              "#f0f921"
             ]
            ],
            "type": "heatmapgl"
           }
          ],
          "histogram": [
           {
            "marker": {
             "pattern": {
              "fillmode": "overlay",
              "size": 10,
              "solidity": 0.2
             }
            },
            "type": "histogram"
           }
          ],
          "histogram2d": [
           {
            "colorbar": {
             "outlinewidth": 0,
             "ticks": ""
            },
            "colorscale": [
             [
              0,
              "#0d0887"
             ],
             [
              0.1111111111111111,
              "#46039f"
             ],
             [
              0.2222222222222222,
              "#7201a8"
             ],
             [
              0.3333333333333333,
              "#9c179e"
             ],
             [
              0.4444444444444444,
              "#bd3786"
             ],
             [
              0.5555555555555556,
              "#d8576b"
             ],
             [
              0.6666666666666666,
              "#ed7953"
             ],
             [
              0.7777777777777778,
              "#fb9f3a"
             ],
             [
              0.8888888888888888,
              "#fdca26"
             ],
             [
              1,
              "#f0f921"
             ]
            ],
            "type": "histogram2d"
           }
          ],
          "histogram2dcontour": [
           {
            "colorbar": {
             "outlinewidth": 0,
             "ticks": ""
            },
            "colorscale": [
             [
              0,
              "#0d0887"
             ],
             [
              0.1111111111111111,
              "#46039f"
             ],
             [
              0.2222222222222222,
              "#7201a8"
             ],
             [
              0.3333333333333333,
              "#9c179e"
             ],
             [
              0.4444444444444444,
              "#bd3786"
             ],
             [
              0.5555555555555556,
              "#d8576b"
             ],
             [
              0.6666666666666666,
              "#ed7953"
             ],
             [
              0.7777777777777778,
              "#fb9f3a"
             ],
             [
              0.8888888888888888,
              "#fdca26"
             ],
             [
              1,
              "#f0f921"
             ]
            ],
            "type": "histogram2dcontour"
           }
          ],
          "mesh3d": [
           {
            "colorbar": {
             "outlinewidth": 0,
             "ticks": ""
            },
            "type": "mesh3d"
           }
          ],
          "parcoords": [
           {
            "line": {
             "colorbar": {
              "outlinewidth": 0,
              "ticks": ""
             }
            },
            "type": "parcoords"
           }
          ],
          "pie": [
           {
            "automargin": true,
            "type": "pie"
           }
          ],
          "scatter": [
           {
            "marker": {
             "colorbar": {
              "outlinewidth": 0,
              "ticks": ""
             }
            },
            "type": "scatter"
           }
          ],
          "scatter3d": [
           {
            "line": {
             "colorbar": {
              "outlinewidth": 0,
              "ticks": ""
             }
            },
            "marker": {
             "colorbar": {
              "outlinewidth": 0,
              "ticks": ""
             }
            },
            "type": "scatter3d"
           }
          ],
          "scattercarpet": [
           {
            "marker": {
             "colorbar": {
              "outlinewidth": 0,
              "ticks": ""
             }
            },
            "type": "scattercarpet"
           }
          ],
          "scattergeo": [
           {
            "marker": {
             "colorbar": {
              "outlinewidth": 0,
              "ticks": ""
             }
            },
            "type": "scattergeo"
           }
          ],
          "scattergl": [
           {
            "marker": {
             "colorbar": {
              "outlinewidth": 0,
              "ticks": ""
             }
            },
            "type": "scattergl"
           }
          ],
          "scattermapbox": [
           {
            "marker": {
             "colorbar": {
              "outlinewidth": 0,
              "ticks": ""
             }
            },
            "type": "scattermapbox"
           }
          ],
          "scatterpolar": [
           {
            "marker": {
             "colorbar": {
              "outlinewidth": 0,
              "ticks": ""
             }
            },
            "type": "scatterpolar"
           }
          ],
          "scatterpolargl": [
           {
            "marker": {
             "colorbar": {
              "outlinewidth": 0,
              "ticks": ""
             }
            },
            "type": "scatterpolargl"
           }
          ],
          "scatterternary": [
           {
            "marker": {
             "colorbar": {
              "outlinewidth": 0,
              "ticks": ""
             }
            },
            "type": "scatterternary"
           }
          ],
          "surface": [
           {
            "colorbar": {
             "outlinewidth": 0,
             "ticks": ""
            },
            "colorscale": [
             [
              0,
              "#0d0887"
             ],
             [
              0.1111111111111111,
              "#46039f"
             ],
             [
              0.2222222222222222,
              "#7201a8"
             ],
             [
              0.3333333333333333,
              "#9c179e"
             ],
             [
              0.4444444444444444,
              "#bd3786"
             ],
             [
              0.5555555555555556,
              "#d8576b"
             ],
             [
              0.6666666666666666,
              "#ed7953"
             ],
             [
              0.7777777777777778,
              "#fb9f3a"
             ],
             [
              0.8888888888888888,
              "#fdca26"
             ],
             [
              1,
              "#f0f921"
             ]
            ],
            "type": "surface"
           }
          ],
          "table": [
           {
            "cells": {
             "fill": {
              "color": "#EBF0F8"
             },
             "line": {
              "color": "white"
             }
            },
            "header": {
             "fill": {
              "color": "#C8D4E3"
             },
             "line": {
              "color": "white"
             }
            },
            "type": "table"
           }
          ]
         },
         "layout": {
          "annotationdefaults": {
           "arrowcolor": "#2a3f5f",
           "arrowhead": 0,
           "arrowwidth": 1
          },
          "autotypenumbers": "strict",
          "coloraxis": {
           "colorbar": {
            "outlinewidth": 0,
            "ticks": ""
           }
          },
          "colorscale": {
           "diverging": [
            [
             0,
             "#8e0152"
            ],
            [
             0.1,
             "#c51b7d"
            ],
            [
             0.2,
             "#de77ae"
            ],
            [
             0.3,
             "#f1b6da"
            ],
            [
             0.4,
             "#fde0ef"
            ],
            [
             0.5,
             "#f7f7f7"
            ],
            [
             0.6,
             "#e6f5d0"
            ],
            [
             0.7,
             "#b8e186"
            ],
            [
             0.8,
             "#7fbc41"
            ],
            [
             0.9,
             "#4d9221"
            ],
            [
             1,
             "#276419"
            ]
           ],
           "sequential": [
            [
             0,
             "#0d0887"
            ],
            [
             0.1111111111111111,
             "#46039f"
            ],
            [
             0.2222222222222222,
             "#7201a8"
            ],
            [
             0.3333333333333333,
             "#9c179e"
            ],
            [
             0.4444444444444444,
             "#bd3786"
            ],
            [
             0.5555555555555556,
             "#d8576b"
            ],
            [
             0.6666666666666666,
             "#ed7953"
            ],
            [
             0.7777777777777778,
             "#fb9f3a"
            ],
            [
             0.8888888888888888,
             "#fdca26"
            ],
            [
             1,
             "#f0f921"
            ]
           ],
           "sequentialminus": [
            [
             0,
             "#0d0887"
            ],
            [
             0.1111111111111111,
             "#46039f"
            ],
            [
             0.2222222222222222,
             "#7201a8"
            ],
            [
             0.3333333333333333,
             "#9c179e"
            ],
            [
             0.4444444444444444,
             "#bd3786"
            ],
            [
             0.5555555555555556,
             "#d8576b"
            ],
            [
             0.6666666666666666,
             "#ed7953"
            ],
            [
             0.7777777777777778,
             "#fb9f3a"
            ],
            [
             0.8888888888888888,
             "#fdca26"
            ],
            [
             1,
             "#f0f921"
            ]
           ]
          },
          "colorway": [
           "#636efa",
           "#EF553B",
           "#00cc96",
           "#ab63fa",
           "#FFA15A",
           "#19d3f3",
           "#FF6692",
           "#B6E880",
           "#FF97FF",
           "#FECB52"
          ],
          "font": {
           "color": "#2a3f5f"
          },
          "geo": {
           "bgcolor": "white",
           "lakecolor": "white",
           "landcolor": "#E5ECF6",
           "showlakes": true,
           "showland": true,
           "subunitcolor": "white"
          },
          "hoverlabel": {
           "align": "left"
          },
          "hovermode": "closest",
          "mapbox": {
           "style": "light"
          },
          "paper_bgcolor": "white",
          "plot_bgcolor": "#E5ECF6",
          "polar": {
           "angularaxis": {
            "gridcolor": "white",
            "linecolor": "white",
            "ticks": ""
           },
           "bgcolor": "#E5ECF6",
           "radialaxis": {
            "gridcolor": "white",
            "linecolor": "white",
            "ticks": ""
           }
          },
          "scene": {
           "xaxis": {
            "backgroundcolor": "#E5ECF6",
            "gridcolor": "white",
            "gridwidth": 2,
            "linecolor": "white",
            "showbackground": true,
            "ticks": "",
            "zerolinecolor": "white"
           },
           "yaxis": {
            "backgroundcolor": "#E5ECF6",
            "gridcolor": "white",
            "gridwidth": 2,
            "linecolor": "white",
            "showbackground": true,
            "ticks": "",
            "zerolinecolor": "white"
           },
           "zaxis": {
            "backgroundcolor": "#E5ECF6",
            "gridcolor": "white",
            "gridwidth": 2,
            "linecolor": "white",
            "showbackground": true,
            "ticks": "",
            "zerolinecolor": "white"
           }
          },
          "shapedefaults": {
           "line": {
            "color": "#2a3f5f"
           }
          },
          "ternary": {
           "aaxis": {
            "gridcolor": "white",
            "linecolor": "white",
            "ticks": ""
           },
           "baxis": {
            "gridcolor": "white",
            "linecolor": "white",
            "ticks": ""
           },
           "bgcolor": "#E5ECF6",
           "caxis": {
            "gridcolor": "white",
            "linecolor": "white",
            "ticks": ""
           }
          },
          "title": {
           "x": 0.05
          },
          "xaxis": {
           "automargin": true,
           "gridcolor": "white",
           "linecolor": "white",
           "ticks": "",
           "title": {
            "standoff": 15
           },
           "zerolinecolor": "white",
           "zerolinewidth": 2
          },
          "yaxis": {
           "automargin": true,
           "gridcolor": "white",
           "linecolor": "white",
           "ticks": "",
           "title": {
            "standoff": 15
           },
           "zerolinecolor": "white",
           "zerolinewidth": 2
          }
         }
        },
        "xaxis": {
         "anchor": "y",
         "domain": [
          0,
          1
         ],
         "title": {
          "text": "risk"
         }
        },
        "yaxis": {
         "anchor": "x",
         "domain": [
          0,
          1
         ],
         "title": {
          "text": "return"
         }
        }
       }
      }
     },
     "metadata": {},
     "output_type": "display_data"
    }
   ],
   "source": [
    "px.scatter(data_nueva, x='risk', y='return', color=p_sharpe)"
   ]
  }
 ],
 "metadata": {
  "interpreter": {
   "hash": "89eb0ba0d7a5cfde75646fe04fa67f97dee2740233f922d6dcaec62ecffe3139"
  },
  "kernelspec": {
   "display_name": "Python 3.8.8 64-bit ('base': conda)",
   "language": "python",
   "name": "python3"
  },
  "language_info": {
   "codemirror_mode": {
    "name": "ipython",
    "version": 3
   },
   "file_extension": ".py",
   "mimetype": "text/x-python",
   "name": "python",
   "nbconvert_exporter": "python",
   "pygments_lexer": "ipython3",
   "version": "3.8.8"
  },
  "orig_nbformat": 4
 },
 "nbformat": 4,
 "nbformat_minor": 2
}
