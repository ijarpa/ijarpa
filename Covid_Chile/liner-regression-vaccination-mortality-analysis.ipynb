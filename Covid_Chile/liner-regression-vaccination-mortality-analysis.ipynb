{
 "cells": [
  {
   "cell_type": "code",
   "execution_count": 1,
   "id": "f3ef3ea2",
   "metadata": {
    "execution": {
     "iopub.execute_input": "2021-10-15T00:56:57.476001Z",
     "iopub.status.busy": "2021-10-15T00:56:57.468732Z",
     "iopub.status.idle": "2021-10-15T00:57:01.397804Z",
     "shell.execute_reply": "2021-10-15T00:57:01.398194Z",
     "shell.execute_reply.started": "2021-10-15T00:55:10.280005Z"
    },
    "papermill": {
     "duration": 4.040555,
     "end_time": "2021-10-15T00:57:01.398468",
     "exception": false,
     "start_time": "2021-10-15T00:56:57.357913",
     "status": "completed"
    },
    "tags": []
   },
   "outputs": [],
   "source": [
    "import pandas as pd\n",
    "import numpy as np\n",
    "import matplotlib.pyplot as plt\n",
    "import missingno as msgo\n",
    "import seaborn as sns\n",
    "from sklearn.linear_model import LinearRegression\n",
    "#import geopandas as gpd\n",
    "import plotly.express as px\n",
    "from sklearn.metrics import mean_squared_error\n",
    "from sklearn.metrics import mean_absolute_error\n",
    "from sklearn.preprocessing import StandardScaler\n",
    "from sklearn.model_selection import train_test_split\n",
    "# This Python 3 environment comes with many helpful analytics libraries installed\n",
    "# It is defined by the kaggle/python Docker image: https://github.com/kaggle/docker-python\n",
    "# For example, here's several helpful packages to load\n",
    "\n",
    "# Input data files are available in the read-only \"../input/\" directory\n",
    "# For example, running this (by clicking run or pressing Shift+Enter) will list all files under the input directory\n",
    "\n",
    "import os\n",
    "for dirname, _, filenames in os.walk('/kaggle/input'):\n",
    "    for filename in filenames:\n",
    "        print(os.path.join(dirname, filename))\n",
    "\n",
    "# You can write up to 20GB to the current directory (/kaggle/working/) that gets preserved as output when you create a version using \"Save & Run All\" \n",
    "# You can also write temporary files to /kaggle/temp/, but they won't be saved outside of the current session"
   ]
  },
  {
   "cell_type": "markdown",
   "id": "aa96de72",
   "metadata": {
    "papermill": {
     "duration": 0.030099,
     "end_time": "2021-10-15T00:57:01.461690",
     "exception": false,
     "start_time": "2021-10-15T00:57:01.431591",
     "status": "completed"
    },
    "tags": []
   },
   "source": [
    "# Loading Data"
   ]
  },
  {
   "cell_type": "code",
   "execution_count": 2,
   "id": "a76955d8",
   "metadata": {
    "collapsed": false,
    "execution": {
     "iopub.execute_input": "2021-10-15T00:57:01.527435Z",
     "iopub.status.busy": "2021-10-15T00:57:01.526682Z",
     "iopub.status.idle": "2021-10-15T00:57:01.648263Z",
     "shell.execute_reply": "2021-10-15T00:57:01.648705Z",
     "shell.execute_reply.started": "2021-10-15T00:55:14.282307Z"
    },
    "jupyter": {
     "outputs_hidden": false
    },
    "papermill": {
     "duration": 0.157022,
     "end_time": "2021-10-15T00:57:01.648874",
     "exception": false,
     "start_time": "2021-10-15T00:57:01.491852",
     "status": "completed"
    },
    "pycharm": {
     "name": "#%%\n"
    },
    "tags": []
   },
   "outputs": [
    {
     "data": {
      "text/html": [
       "<div>\n",
       "<style scoped>\n",
       "    .dataframe tbody tr th:only-of-type {\n",
       "        vertical-align: middle;\n",
       "    }\n",
       "\n",
       "    .dataframe tbody tr th {\n",
       "        vertical-align: top;\n",
       "    }\n",
       "\n",
       "    .dataframe thead th {\n",
       "        text-align: right;\n",
       "    }\n",
       "</style>\n",
       "<table border=\"1\" class=\"dataframe\">\n",
       "  <thead>\n",
       "    <tr style=\"text-align: right;\">\n",
       "      <th></th>\n",
       "      <th>Unnamed: 0</th>\n",
       "      <th>country</th>\n",
       "      <th>iso_code</th>\n",
       "      <th>date</th>\n",
       "      <th>total_vaccinations</th>\n",
       "      <th>people_vaccinated</th>\n",
       "      <th>people_fully_vaccinated</th>\n",
       "      <th>New_deaths</th>\n",
       "      <th>population</th>\n",
       "      <th>ratio</th>\n",
       "    </tr>\n",
       "  </thead>\n",
       "  <tbody>\n",
       "    <tr>\n",
       "      <th>0</th>\n",
       "      <td>0</td>\n",
       "      <td>Afghanistan</td>\n",
       "      <td>AFG</td>\n",
       "      <td>2021-05-11</td>\n",
       "      <td>504502.0</td>\n",
       "      <td>448878.0</td>\n",
       "      <td>55624.0</td>\n",
       "      <td>12</td>\n",
       "      <td>40094444.0</td>\n",
       "      <td>1.119552</td>\n",
       "    </tr>\n",
       "    <tr>\n",
       "      <th>1</th>\n",
       "      <td>1</td>\n",
       "      <td>Afghanistan</td>\n",
       "      <td>AFG</td>\n",
       "      <td>2021-05-20</td>\n",
       "      <td>547901.0</td>\n",
       "      <td>470341.0</td>\n",
       "      <td>77560.0</td>\n",
       "      <td>10</td>\n",
       "      <td>40094444.0</td>\n",
       "      <td>1.173083</td>\n",
       "    </tr>\n",
       "    <tr>\n",
       "      <th>2</th>\n",
       "      <td>2</td>\n",
       "      <td>Afghanistan</td>\n",
       "      <td>AFG</td>\n",
       "      <td>2021-05-24</td>\n",
       "      <td>573277.0</td>\n",
       "      <td>476367.0</td>\n",
       "      <td>96910.0</td>\n",
       "      <td>10</td>\n",
       "      <td>40094444.0</td>\n",
       "      <td>1.188112</td>\n",
       "    </tr>\n",
       "    <tr>\n",
       "      <th>3</th>\n",
       "      <td>3</td>\n",
       "      <td>Afghanistan</td>\n",
       "      <td>AFG</td>\n",
       "      <td>2021-05-26</td>\n",
       "      <td>590454.0</td>\n",
       "      <td>479372.0</td>\n",
       "      <td>111082.0</td>\n",
       "      <td>19</td>\n",
       "      <td>40094444.0</td>\n",
       "      <td>1.195607</td>\n",
       "    </tr>\n",
       "    <tr>\n",
       "      <th>4</th>\n",
       "      <td>4</td>\n",
       "      <td>Afghanistan</td>\n",
       "      <td>AFG</td>\n",
       "      <td>2021-05-27</td>\n",
       "      <td>593313.0</td>\n",
       "      <td>479574.0</td>\n",
       "      <td>113739.0</td>\n",
       "      <td>14</td>\n",
       "      <td>40094444.0</td>\n",
       "      <td>1.196111</td>\n",
       "    </tr>\n",
       "  </tbody>\n",
       "</table>\n",
       "</div>"
      ],
      "text/plain": [
       "   Unnamed: 0      country iso_code        date  total_vaccinations  \\\n",
       "0           0  Afghanistan      AFG  2021-05-11            504502.0   \n",
       "1           1  Afghanistan      AFG  2021-05-20            547901.0   \n",
       "2           2  Afghanistan      AFG  2021-05-24            573277.0   \n",
       "3           3  Afghanistan      AFG  2021-05-26            590454.0   \n",
       "4           4  Afghanistan      AFG  2021-05-27            593313.0   \n",
       "\n",
       "   people_vaccinated  people_fully_vaccinated  New_deaths  population  \\\n",
       "0           448878.0                  55624.0          12  40094444.0   \n",
       "1           470341.0                  77560.0          10  40094444.0   \n",
       "2           476367.0                  96910.0          10  40094444.0   \n",
       "3           479372.0                 111082.0          19  40094444.0   \n",
       "4           479574.0                 113739.0          14  40094444.0   \n",
       "\n",
       "      ratio  \n",
       "0  1.119552  \n",
       "1  1.173083  \n",
       "2  1.188112  \n",
       "3  1.195607  \n",
       "4  1.196111  "
      ]
     },
     "execution_count": 2,
     "metadata": {},
     "output_type": "execute_result"
    }
   ],
   "source": [
    "df = pd.read_csv('./covid_vaccination_vs_death_ratio.csv')\n",
    "df.head()"
   ]
  },
  {
   "cell_type": "markdown",
   "id": "26c0fb3b",
   "metadata": {
    "papermill": {
     "duration": 0.034698,
     "end_time": "2021-10-15T00:57:01.715950",
     "exception": false,
     "start_time": "2021-10-15T00:57:01.681252",
     "status": "completed"
    },
    "tags": []
   },
   "source": [
    "# Basic Information of Data"
   ]
  },
  {
   "cell_type": "code",
   "execution_count": 3,
   "id": "e634887a",
   "metadata": {
    "collapsed": false,
    "execution": {
     "iopub.execute_input": "2021-10-15T00:57:01.785481Z",
     "iopub.status.busy": "2021-10-15T00:57:01.780134Z",
     "iopub.status.idle": "2021-10-15T00:57:01.795147Z",
     "shell.execute_reply": "2021-10-15T00:57:01.795666Z",
     "shell.execute_reply.started": "2021-10-15T00:55:14.405441Z"
    },
    "jupyter": {
     "outputs_hidden": false
    },
    "papermill": {
     "duration": 0.049104,
     "end_time": "2021-10-15T00:57:01.795816",
     "exception": false,
     "start_time": "2021-10-15T00:57:01.746712",
     "status": "completed"
    },
    "pycharm": {
     "name": "#%%\n"
    },
    "tags": []
   },
   "outputs": [
    {
     "data": {
      "text/plain": [
       "(20332, 10)"
      ]
     },
     "execution_count": 3,
     "metadata": {},
     "output_type": "execute_result"
    }
   ],
   "source": [
    "df.shape"
   ]
  },
  {
   "cell_type": "code",
   "execution_count": 4,
   "id": "a0c57c16",
   "metadata": {
    "collapsed": false,
    "execution": {
     "iopub.execute_input": "2021-10-15T00:57:01.867369Z",
     "iopub.status.busy": "2021-10-15T00:57:01.866245Z",
     "iopub.status.idle": "2021-10-15T00:57:01.898910Z",
     "shell.execute_reply": "2021-10-15T00:57:01.899390Z",
     "shell.execute_reply.started": "2021-10-15T00:55:14.416350Z"
    },
    "jupyter": {
     "outputs_hidden": false
    },
    "papermill": {
     "duration": 0.072579,
     "end_time": "2021-10-15T00:57:01.899540",
     "exception": false,
     "start_time": "2021-10-15T00:57:01.826961",
     "status": "completed"
    },
    "pycharm": {
     "name": "#%%\n"
    },
    "tags": []
   },
   "outputs": [
    {
     "data": {
      "text/html": [
       "<div>\n",
       "<style scoped>\n",
       "    .dataframe tbody tr th:only-of-type {\n",
       "        vertical-align: middle;\n",
       "    }\n",
       "\n",
       "    .dataframe tbody tr th {\n",
       "        vertical-align: top;\n",
       "    }\n",
       "\n",
       "    .dataframe thead th {\n",
       "        text-align: right;\n",
       "    }\n",
       "</style>\n",
       "<table border=\"1\" class=\"dataframe\">\n",
       "  <thead>\n",
       "    <tr style=\"text-align: right;\">\n",
       "      <th></th>\n",
       "      <th>Unnamed: 0</th>\n",
       "      <th>total_vaccinations</th>\n",
       "      <th>people_vaccinated</th>\n",
       "      <th>people_fully_vaccinated</th>\n",
       "      <th>New_deaths</th>\n",
       "      <th>population</th>\n",
       "      <th>ratio</th>\n",
       "    </tr>\n",
       "  </thead>\n",
       "  <tbody>\n",
       "    <tr>\n",
       "      <th>count</th>\n",
       "      <td>20332.000000</td>\n",
       "      <td>2.033200e+04</td>\n",
       "      <td>2.033200e+04</td>\n",
       "      <td>2.033200e+04</td>\n",
       "      <td>20332.000000</td>\n",
       "      <td>2.033200e+04</td>\n",
       "      <td>20332.000000</td>\n",
       "    </tr>\n",
       "    <tr>\n",
       "      <th>mean</th>\n",
       "      <td>10165.500000</td>\n",
       "      <td>1.798981e+07</td>\n",
       "      <td>1.155247e+07</td>\n",
       "      <td>6.571098e+06</td>\n",
       "      <td>108.781871</td>\n",
       "      <td>4.863896e+07</td>\n",
       "      <td>29.920624</td>\n",
       "    </tr>\n",
       "    <tr>\n",
       "      <th>std</th>\n",
       "      <td>5869.487172</td>\n",
       "      <td>6.328884e+07</td>\n",
       "      <td>4.242151e+07</td>\n",
       "      <td>2.284904e+07</td>\n",
       "      <td>353.037676</td>\n",
       "      <td>1.559664e+08</td>\n",
       "      <td>24.936193</td>\n",
       "    </tr>\n",
       "    <tr>\n",
       "      <th>min</th>\n",
       "      <td>0.000000</td>\n",
       "      <td>1.630000e+02</td>\n",
       "      <td>1.620000e+02</td>\n",
       "      <td>1.000000e+00</td>\n",
       "      <td>-41.000000</td>\n",
       "      <td>1.619000e+03</td>\n",
       "      <td>0.003023</td>\n",
       "    </tr>\n",
       "    <tr>\n",
       "      <th>25%</th>\n",
       "      <td>5082.750000</td>\n",
       "      <td>4.106325e+05</td>\n",
       "      <td>2.971550e+05</td>\n",
       "      <td>9.506200e+04</td>\n",
       "      <td>1.000000</td>\n",
       "      <td>2.871380e+06</td>\n",
       "      <td>7.197272</td>\n",
       "    </tr>\n",
       "    <tr>\n",
       "      <th>50%</th>\n",
       "      <td>10165.500000</td>\n",
       "      <td>2.363600e+06</td>\n",
       "      <td>1.548864e+06</td>\n",
       "      <td>7.438710e+05</td>\n",
       "      <td>10.000000</td>\n",
       "      <td>1.015944e+07</td>\n",
       "      <td>24.266101</td>\n",
       "    </tr>\n",
       "    <tr>\n",
       "      <th>75%</th>\n",
       "      <td>15248.250000</td>\n",
       "      <td>1.059296e+07</td>\n",
       "      <td>6.060886e+06</td>\n",
       "      <td>4.137016e+06</td>\n",
       "      <td>58.000000</td>\n",
       "      <td>3.816076e+07</td>\n",
       "      <td>50.225309</td>\n",
       "    </tr>\n",
       "    <tr>\n",
       "      <th>max</th>\n",
       "      <td>20331.000000</td>\n",
       "      <td>2.174043e+09</td>\n",
       "      <td>1.100842e+09</td>\n",
       "      <td>1.022207e+09</td>\n",
       "      <td>8786.000000</td>\n",
       "      <td>1.445585e+09</td>\n",
       "      <td>118.567868</td>\n",
       "    </tr>\n",
       "  </tbody>\n",
       "</table>\n",
       "</div>"
      ],
      "text/plain": [
       "         Unnamed: 0  total_vaccinations  people_vaccinated  \\\n",
       "count  20332.000000        2.033200e+04       2.033200e+04   \n",
       "mean   10165.500000        1.798981e+07       1.155247e+07   \n",
       "std     5869.487172        6.328884e+07       4.242151e+07   \n",
       "min        0.000000        1.630000e+02       1.620000e+02   \n",
       "25%     5082.750000        4.106325e+05       2.971550e+05   \n",
       "50%    10165.500000        2.363600e+06       1.548864e+06   \n",
       "75%    15248.250000        1.059296e+07       6.060886e+06   \n",
       "max    20331.000000        2.174043e+09       1.100842e+09   \n",
       "\n",
       "       people_fully_vaccinated    New_deaths    population         ratio  \n",
       "count             2.033200e+04  20332.000000  2.033200e+04  20332.000000  \n",
       "mean              6.571098e+06    108.781871  4.863896e+07     29.920624  \n",
       "std               2.284904e+07    353.037676  1.559664e+08     24.936193  \n",
       "min               1.000000e+00    -41.000000  1.619000e+03      0.003023  \n",
       "25%               9.506200e+04      1.000000  2.871380e+06      7.197272  \n",
       "50%               7.438710e+05     10.000000  1.015944e+07     24.266101  \n",
       "75%               4.137016e+06     58.000000  3.816076e+07     50.225309  \n",
       "max               1.022207e+09   8786.000000  1.445585e+09    118.567868  "
      ]
     },
     "execution_count": 4,
     "metadata": {},
     "output_type": "execute_result"
    }
   ],
   "source": [
    "df.describe()"
   ]
  },
  {
   "cell_type": "code",
   "execution_count": 5,
   "id": "e4caa392",
   "metadata": {
    "collapsed": false,
    "execution": {
     "iopub.execute_input": "2021-10-15T00:57:01.969655Z",
     "iopub.status.busy": "2021-10-15T00:57:01.968901Z",
     "iopub.status.idle": "2021-10-15T00:57:01.987863Z",
     "shell.execute_reply": "2021-10-15T00:57:01.988288Z",
     "shell.execute_reply.started": "2021-10-15T00:55:14.455688Z"
    },
    "jupyter": {
     "outputs_hidden": false
    },
    "papermill": {
     "duration": 0.055717,
     "end_time": "2021-10-15T00:57:01.988451",
     "exception": false,
     "start_time": "2021-10-15T00:57:01.932734",
     "status": "completed"
    },
    "pycharm": {
     "name": "#%%\n"
    },
    "tags": []
   },
   "outputs": [
    {
     "name": "stdout",
     "output_type": "stream",
     "text": [
      "<class 'pandas.core.frame.DataFrame'>\n",
      "RangeIndex: 20332 entries, 0 to 20331\n",
      "Data columns (total 10 columns):\n",
      " #   Column                   Non-Null Count  Dtype  \n",
      "---  ------                   --------------  -----  \n",
      " 0   Unnamed: 0               20332 non-null  int64  \n",
      " 1   country                  20332 non-null  object \n",
      " 2   iso_code                 20332 non-null  object \n",
      " 3   date                     20332 non-null  object \n",
      " 4   total_vaccinations       20332 non-null  float64\n",
      " 5   people_vaccinated        20332 non-null  float64\n",
      " 6   people_fully_vaccinated  20332 non-null  float64\n",
      " 7   New_deaths               20332 non-null  int64  \n",
      " 8   population               20332 non-null  float64\n",
      " 9   ratio                    20332 non-null  float64\n",
      "dtypes: float64(5), int64(2), object(3)\n",
      "memory usage: 1.6+ MB\n"
     ]
    }
   ],
   "source": [
    "df.info()"
   ]
  },
  {
   "cell_type": "markdown",
   "id": "6af0e241",
   "metadata": {
    "papermill": {
     "duration": 0.031353,
     "end_time": "2021-10-15T00:57:02.051867",
     "exception": false,
     "start_time": "2021-10-15T00:57:02.020514",
     "status": "completed"
    },
    "tags": []
   },
   "source": [
    "# Dealing with null-values\n",
    "## missinggo cool tool to visualizing null values"
   ]
  },
  {
   "cell_type": "code",
   "execution_count": 6,
   "id": "18329049",
   "metadata": {
    "collapsed": false,
    "execution": {
     "iopub.execute_input": "2021-10-15T00:57:02.125056Z",
     "iopub.status.busy": "2021-10-15T00:57:02.124161Z",
     "iopub.status.idle": "2021-10-15T00:57:02.701691Z",
     "shell.execute_reply": "2021-10-15T00:57:02.702114Z",
     "shell.execute_reply.started": "2021-10-15T00:55:14.479944Z"
    },
    "jupyter": {
     "outputs_hidden": false
    },
    "papermill": {
     "duration": 0.619196,
     "end_time": "2021-10-15T00:57:02.702262",
     "exception": false,
     "start_time": "2021-10-15T00:57:02.083066",
     "status": "completed"
    },
    "pycharm": {
     "name": "#%%\n"
    },
    "tags": []
   },
   "outputs": [
    {
     "data": {
      "text/plain": [
       "<AxesSubplot:>"
      ]
     },
     "execution_count": 6,
     "metadata": {},
     "output_type": "execute_result"
    },
    {
     "data": {
      "image/png": "[encoded data removed]",
      "text/plain": [
       "<Figure size 1800x720 with 2 Axes>"
      ]
     },
     "metadata": {
      "needs_background": "light"
     },
     "output_type": "display_data"
    }
   ],
   "source": [
    "msgo.matrix(df)\n",
    "#not null,good data!"
   ]
  },
  {
   "cell_type": "markdown",
   "id": "04a34ddf",
   "metadata": {
    "papermill": {
     "duration": 0.033314,
     "end_time": "2021-10-15T00:57:02.768989",
     "exception": false,
     "start_time": "2021-10-15T00:57:02.735675",
     "status": "completed"
    },
    "tags": []
   },
   "source": [
    "## Delete Unnamed column"
   ]
  },
  {
   "cell_type": "code",
   "execution_count": 8,
   "id": "3e40f465",
   "metadata": {
    "collapsed": false,
    "execution": {
     "iopub.execute_input": "2021-10-15T00:57:02.858298Z",
     "iopub.status.busy": "2021-10-15T00:57:02.857526Z",
     "iopub.status.idle": "2021-10-15T00:57:02.860720Z",
     "shell.execute_reply": "2021-10-15T00:57:02.861187Z",
     "shell.execute_reply.started": "2021-10-15T00:55:15.072993Z"
    },
    "jupyter": {
     "outputs_hidden": false
    },
    "papermill": {
     "duration": 0.056471,
     "end_time": "2021-10-15T00:57:02.861361",
     "exception": false,
     "start_time": "2021-10-15T00:57:02.804890",
     "status": "completed"
    },
    "pycharm": {
     "name": "#%%\n"
    },
    "tags": []
   },
   "outputs": [
    {
     "data": {
      "text/html": [
       "<div>\n",
       "<style scoped>\n",
       "    .dataframe tbody tr th:only-of-type {\n",
       "        vertical-align: middle;\n",
       "    }\n",
       "\n",
       "    .dataframe tbody tr th {\n",
       "        vertical-align: top;\n",
       "    }\n",
       "\n",
       "    .dataframe thead th {\n",
       "        text-align: right;\n",
       "    }\n",
       "</style>\n",
       "<table border=\"1\" class=\"dataframe\">\n",
       "  <thead>\n",
       "    <tr style=\"text-align: right;\">\n",
       "      <th></th>\n",
       "      <th>country</th>\n",
       "      <th>iso_code</th>\n",
       "      <th>date</th>\n",
       "      <th>total_vaccinations</th>\n",
       "      <th>people_vaccinated</th>\n",
       "      <th>people_fully_vaccinated</th>\n",
       "      <th>New_deaths</th>\n",
       "      <th>population</th>\n",
       "      <th>ratio</th>\n",
       "    </tr>\n",
       "  </thead>\n",
       "  <tbody>\n",
       "    <tr>\n",
       "      <th>0</th>\n",
       "      <td>Afghanistan</td>\n",
       "      <td>AFG</td>\n",
       "      <td>2021-05-11</td>\n",
       "      <td>504502.0</td>\n",
       "      <td>448878.0</td>\n",
       "      <td>55624.0</td>\n",
       "      <td>12</td>\n",
       "      <td>40094444.0</td>\n",
       "      <td>1.119552</td>\n",
       "    </tr>\n",
       "    <tr>\n",
       "      <th>1</th>\n",
       "      <td>Afghanistan</td>\n",
       "      <td>AFG</td>\n",
       "      <td>2021-05-20</td>\n",
       "      <td>547901.0</td>\n",
       "      <td>470341.0</td>\n",
       "      <td>77560.0</td>\n",
       "      <td>10</td>\n",
       "      <td>40094444.0</td>\n",
       "      <td>1.173083</td>\n",
       "    </tr>\n",
       "    <tr>\n",
       "      <th>2</th>\n",
       "      <td>Afghanistan</td>\n",
       "      <td>AFG</td>\n",
       "      <td>2021-05-24</td>\n",
       "      <td>573277.0</td>\n",
       "      <td>476367.0</td>\n",
       "      <td>96910.0</td>\n",
       "      <td>10</td>\n",
       "      <td>40094444.0</td>\n",
       "      <td>1.188112</td>\n",
       "    </tr>\n",
       "    <tr>\n",
       "      <th>3</th>\n",
       "      <td>Afghanistan</td>\n",
       "      <td>AFG</td>\n",
       "      <td>2021-05-26</td>\n",
       "      <td>590454.0</td>\n",
       "      <td>479372.0</td>\n",
       "      <td>111082.0</td>\n",
       "      <td>19</td>\n",
       "      <td>40094444.0</td>\n",
       "      <td>1.195607</td>\n",
       "    </tr>\n",
       "    <tr>\n",
       "      <th>4</th>\n",
       "      <td>Afghanistan</td>\n",
       "      <td>AFG</td>\n",
       "      <td>2021-05-27</td>\n",
       "      <td>593313.0</td>\n",
       "      <td>479574.0</td>\n",
       "      <td>113739.0</td>\n",
       "      <td>14</td>\n",
       "      <td>40094444.0</td>\n",
       "      <td>1.196111</td>\n",
       "    </tr>\n",
       "  </tbody>\n",
       "</table>\n",
       "</div>"
      ],
      "text/plain": [
       "       country iso_code        date  total_vaccinations  people_vaccinated  \\\n",
       "0  Afghanistan      AFG  2021-05-11            504502.0           448878.0   \n",
       "1  Afghanistan      AFG  2021-05-20            547901.0           470341.0   \n",
       "2  Afghanistan      AFG  2021-05-24            573277.0           476367.0   \n",
       "3  Afghanistan      AFG  2021-05-26            590454.0           479372.0   \n",
       "4  Afghanistan      AFG  2021-05-27            593313.0           479574.0   \n",
       "\n",
       "   people_fully_vaccinated  New_deaths  population     ratio  \n",
       "0                  55624.0          12  40094444.0  1.119552  \n",
       "1                  77560.0          10  40094444.0  1.173083  \n",
       "2                  96910.0          10  40094444.0  1.188112  \n",
       "3                 111082.0          19  40094444.0  1.195607  \n",
       "4                 113739.0          14  40094444.0  1.196111  "
      ]
     },
     "execution_count": 8,
     "metadata": {},
     "output_type": "execute_result"
    }
   ],
   "source": [
    "# Control + Alt para comentar todas las filas\n",
    "#df.columns\n",
    "#for col in df.columns:\n",
    "#    if col.startswith('Unnamed'):\n",
    "#        del df[col]\n",
    "\n",
    "# Otra forma de eliminar columnas\n",
    "df = df.drop(['Unnamed: 0'], axis=1)\n",
    "\n",
    "df.head()"
   ]
  },
  {
   "cell_type": "markdown",
   "id": "39e94f33",
   "metadata": {
    "papermill": {
     "duration": 0.033689,
     "end_time": "2021-10-15T00:57:02.930897",
     "exception": false,
     "start_time": "2021-10-15T00:57:02.897208",
     "status": "completed"
    },
    "tags": []
   },
   "source": [
    "## How many countries do we have here ?"
   ]
  },
  {
   "cell_type": "code",
   "execution_count": 9,
   "id": "45173a10",
   "metadata": {
    "collapsed": false,
    "execution": {
     "iopub.execute_input": "2021-10-15T00:57:03.003528Z",
     "iopub.status.busy": "2021-10-15T00:57:03.002647Z",
     "iopub.status.idle": "2021-10-15T00:57:03.007166Z",
     "shell.execute_reply": "2021-10-15T00:57:03.007575Z",
     "shell.execute_reply.started": "2021-10-15T00:55:15.092852Z"
    },
    "jupyter": {
     "outputs_hidden": false
    },
    "papermill": {
     "duration": 0.043427,
     "end_time": "2021-10-15T00:57:03.007708",
     "exception": false,
     "start_time": "2021-10-15T00:57:02.964281",
     "status": "completed"
    },
    "pycharm": {
     "name": "#%%\n"
    },
    "tags": []
   },
   "outputs": [
    {
     "data": {
      "text/plain": [
       "(198,)"
      ]
     },
     "execution_count": 9,
     "metadata": {},
     "output_type": "execute_result"
    }
   ],
   "source": [
    "df['country'].unique().shape\n",
    "#198 countries in this dataset"
   ]
  },
  {
   "cell_type": "code",
   "execution_count": 10,
   "id": "edea27de",
   "metadata": {},
   "outputs": [
    {
     "data": {
      "text/html": [
       "<div>\n",
       "<style scoped>\n",
       "    .dataframe tbody tr th:only-of-type {\n",
       "        vertical-align: middle;\n",
       "    }\n",
       "\n",
       "    .dataframe tbody tr th {\n",
       "        vertical-align: top;\n",
       "    }\n",
       "\n",
       "    .dataframe thead th {\n",
       "        text-align: right;\n",
       "    }\n",
       "</style>\n",
       "<table border=\"1\" class=\"dataframe\">\n",
       "  <thead>\n",
       "    <tr style=\"text-align: right;\">\n",
       "      <th></th>\n",
       "      <th>country</th>\n",
       "      <th>iso_code</th>\n",
       "      <th>date</th>\n",
       "    </tr>\n",
       "  </thead>\n",
       "  <tbody>\n",
       "    <tr>\n",
       "      <th>count</th>\n",
       "      <td>20332</td>\n",
       "      <td>20332</td>\n",
       "      <td>20332</td>\n",
       "    </tr>\n",
       "    <tr>\n",
       "      <th>unique</th>\n",
       "      <td>198</td>\n",
       "      <td>198</td>\n",
       "      <td>287</td>\n",
       "    </tr>\n",
       "    <tr>\n",
       "      <th>top</th>\n",
       "      <td>Slovenia</td>\n",
       "      <td>SVN</td>\n",
       "      <td>2021-08-16</td>\n",
       "    </tr>\n",
       "    <tr>\n",
       "      <th>freq</th>\n",
       "      <td>287</td>\n",
       "      <td>287</td>\n",
       "      <td>112</td>\n",
       "    </tr>\n",
       "  </tbody>\n",
       "</table>\n",
       "</div>"
      ],
      "text/plain": [
       "         country iso_code        date\n",
       "count      20332    20332       20332\n",
       "unique       198      198         287\n",
       "top     Slovenia      SVN  2021-08-16\n",
       "freq         287      287         112"
      ]
     },
     "execution_count": 10,
     "metadata": {},
     "output_type": "execute_result"
    }
   ],
   "source": [
    "# Another way to show uniques values\n",
    "df.describe(include='O')"
   ]
  },
  {
   "cell_type": "markdown",
   "id": "e7277223",
   "metadata": {
    "papermill": {
     "duration": 0.033635,
     "end_time": "2021-10-15T00:57:03.074866",
     "exception": false,
     "start_time": "2021-10-15T00:57:03.041231",
     "status": "completed"
    },
    "tags": []
   },
   "source": [
    "## Ratio of people fully vaccinated"
   ]
  },
  {
   "cell_type": "code",
   "execution_count": 13,
   "id": "193c38b8",
   "metadata": {
    "collapsed": false,
    "execution": {
     "iopub.execute_input": "2021-10-15T00:57:03.146706Z",
     "iopub.status.busy": "2021-10-15T00:57:03.145895Z",
     "iopub.status.idle": "2021-10-15T00:57:03.150549Z",
     "shell.execute_reply": "2021-10-15T00:57:03.150951Z",
     "shell.execute_reply.started": "2021-10-15T00:55:15.106778Z"
    },
    "jupyter": {
     "outputs_hidden": false
    },
    "papermill": {
     "duration": 0.042658,
     "end_time": "2021-10-15T00:57:03.151076",
     "exception": false,
     "start_time": "2021-10-15T00:57:03.108418",
     "status": "completed"
    },
    "pycharm": {
     "name": "#%%\n"
    },
    "tags": []
   },
   "outputs": [],
   "source": [
    "#total population in this dataset\n",
    "#total_population = df['population'].unique().sum()\n",
    "#total_population\n",
    "\n",
    "# Agrupar datos solo para Chile\n",
    "grupos = df.groupby('country')\n",
    "chile = grupos.get_group('Chile')\n"
   ]
  },
  {
   "cell_type": "code",
   "execution_count": 19,
   "id": "3781dd42",
   "metadata": {},
   "outputs": [
    {
     "name": "stdout",
     "output_type": "stream",
     "text": [
      "Total de población:  19242590.0\n"
     ]
    }
   ],
   "source": [
    "# Total poblacion de Chile\n",
    "total_population = chile['population'].unique().sum()\n",
    "print(f'Total de población: ',total_population)"
   ]
  },
  {
   "cell_type": "code",
   "execution_count": 22,
   "id": "ef590bfd",
   "metadata": {
    "collapsed": false,
    "execution": {
     "iopub.execute_input": "2021-10-15T00:57:03.222143Z",
     "iopub.status.busy": "2021-10-15T00:57:03.221376Z",
     "iopub.status.idle": "2021-10-15T00:57:03.236218Z",
     "shell.execute_reply": "2021-10-15T00:57:03.236620Z",
     "shell.execute_reply.started": "2021-10-15T00:55:15.119594Z"
    },
    "jupyter": {
     "outputs_hidden": false
    },
    "papermill": {
     "duration": 0.051944,
     "end_time": "2021-10-15T00:57:03.236751",
     "exception": false,
     "start_time": "2021-10-15T00:57:03.184807",
     "status": "completed"
    },
    "pycharm": {
     "name": "#%%\n"
    },
    "tags": []
   },
   "outputs": [
    {
     "data": {
      "text/plain": [
       "14213792.0"
      ]
     },
     "execution_count": 22,
     "metadata": {},
     "output_type": "execute_result"
    }
   ],
   "source": [
    "#'people_fully_vaccinated' is an accumulation variable we need get the maximum value for each country\n",
    "# and sum them\n",
    "#df_country = df.groupby('country').agg({'people_fully_vaccinated':max})\n",
    "#sum_vac_full = df_country['people_fully_vaccinated'].sum()\n",
    "#sum_vac_full\n",
    "sum_vac_chile = chile['people_fully_vaccinated'].max() #ultimo dato de personas vacunadas solo para Chile\n",
    "sum_vac_chile\n"
   ]
  },
  {
   "cell_type": "markdown",
   "id": "95f090b6",
   "metadata": {
    "papermill": {
     "duration": 0.033969,
     "end_time": "2021-10-15T00:57:03.304748",
     "exception": false,
     "start_time": "2021-10-15T00:57:03.270779",
     "status": "completed"
    },
    "tags": []
   },
   "source": [
    "# Plotting Pie Chart"
   ]
  },
  {
   "cell_type": "code",
   "execution_count": 25,
   "id": "3ff3aac9",
   "metadata": {
    "collapsed": false,
    "execution": {
     "iopub.execute_input": "2021-10-15T00:57:03.405935Z",
     "iopub.status.busy": "2021-10-15T00:57:03.402759Z",
     "iopub.status.idle": "2021-10-15T00:57:03.476390Z",
     "shell.execute_reply": "2021-10-15T00:57:03.475956Z",
     "shell.execute_reply.started": "2021-10-15T00:55:15.138298Z"
    },
    "jupyter": {
     "outputs_hidden": false
    },
    "papermill": {
     "duration": 0.137695,
     "end_time": "2021-10-15T00:57:03.476511",
     "exception": false,
     "start_time": "2021-10-15T00:57:03.338816",
     "status": "completed"
    },
    "pycharm": {
     "name": "#%%\n"
    },
    "tags": []
   },
   "outputs": [
    {
     "data": {
      "image/png": "[encoded data removed]",
      "text/plain": [
       "<Figure size 1000x500 with 1 Axes>"
      ]
     },
     "metadata": {},
     "output_type": "display_data"
    }
   ],
   "source": [
    "plt.figure(figsize=(10,5),dpi=100)\n",
    "plt.pie(\n",
    "    [total_population,sum_vac_chile],\n",
    "    autopct='%.2F%%',\n",
    "    labels=['total_population','people_fully_vaccinated'])\n",
    "plt.title('Ratio of people fully vaccinated')\n",
    "plt.show()"
   ]
  },
  {
   "cell_type": "markdown",
   "id": "877797ca",
   "metadata": {
    "papermill": {
     "duration": 0.035047,
     "end_time": "2021-10-15T00:57:03.546619",
     "exception": false,
     "start_time": "2021-10-15T00:57:03.511572",
     "status": "completed"
    },
    "tags": []
   },
   "source": [
    "## Ratio of people vaccinated"
   ]
  },
  {
   "cell_type": "code",
   "execution_count": 28,
   "id": "c6f1a7fb",
   "metadata": {
    "collapsed": false,
    "execution": {
     "iopub.execute_input": "2021-10-15T00:57:03.625387Z",
     "iopub.status.busy": "2021-10-15T00:57:03.624828Z",
     "iopub.status.idle": "2021-10-15T00:57:03.648655Z",
     "shell.execute_reply": "2021-10-15T00:57:03.648123Z",
     "shell.execute_reply.started": "2021-10-15T00:55:15.242155Z"
    },
    "jupyter": {
     "outputs_hidden": false
    },
    "papermill": {
     "duration": 0.066149,
     "end_time": "2021-10-15T00:57:03.648776",
     "exception": false,
     "start_time": "2021-10-15T00:57:03.582627",
     "status": "completed"
    },
    "pycharm": {
     "name": "#%%\n"
    },
    "tags": []
   },
   "outputs": [
    {
     "data": {
      "text/html": [
       "<div>\n",
       "<style scoped>\n",
       "    .dataframe tbody tr th:only-of-type {\n",
       "        vertical-align: middle;\n",
       "    }\n",
       "\n",
       "    .dataframe tbody tr th {\n",
       "        vertical-align: top;\n",
       "    }\n",
       "\n",
       "    .dataframe thead th {\n",
       "        text-align: right;\n",
       "    }\n",
       "</style>\n",
       "<table border=\"1\" class=\"dataframe\">\n",
       "  <thead>\n",
       "    <tr style=\"text-align: right;\">\n",
       "      <th></th>\n",
       "      <th>country</th>\n",
       "      <th>ratio</th>\n",
       "    </tr>\n",
       "  </thead>\n",
       "  <tbody>\n",
       "    <tr>\n",
       "      <th>0</th>\n",
       "      <td>Afghanistan</td>\n",
       "      <td>1.921817</td>\n",
       "    </tr>\n",
       "    <tr>\n",
       "      <th>1</th>\n",
       "      <td>Albania</td>\n",
       "      <td>33.456108</td>\n",
       "    </tr>\n",
       "    <tr>\n",
       "      <th>2</th>\n",
       "      <td>Algeria</td>\n",
       "      <td>13.421745</td>\n",
       "    </tr>\n",
       "    <tr>\n",
       "      <th>3</th>\n",
       "      <td>Andorra</td>\n",
       "      <td>70.211363</td>\n",
       "    </tr>\n",
       "    <tr>\n",
       "      <th>4</th>\n",
       "      <td>Angola</td>\n",
       "      <td>6.213678</td>\n",
       "    </tr>\n",
       "    <tr>\n",
       "      <th>...</th>\n",
       "      <td>...</td>\n",
       "      <td>...</td>\n",
       "    </tr>\n",
       "    <tr>\n",
       "      <th>193</th>\n",
       "      <td>Wallis and Futuna</td>\n",
       "      <td>51.189832</td>\n",
       "    </tr>\n",
       "    <tr>\n",
       "      <th>194</th>\n",
       "      <td>Yemen</td>\n",
       "      <td>1.004031</td>\n",
       "    </tr>\n",
       "    <tr>\n",
       "      <th>195</th>\n",
       "      <td>Zambia</td>\n",
       "      <td>1.630822</td>\n",
       "    </tr>\n",
       "    <tr>\n",
       "      <th>196</th>\n",
       "      <td>Zimbabwe</td>\n",
       "      <td>20.858567</td>\n",
       "    </tr>\n",
       "    <tr>\n",
       "      <th>197</th>\n",
       "      <td>occupied Palestinian territory, including east...</td>\n",
       "      <td>6.836014</td>\n",
       "    </tr>\n",
       "  </tbody>\n",
       "</table>\n",
       "<p>198 rows × 2 columns</p>\n",
       "</div>"
      ],
      "text/plain": [
       "                                               country      ratio\n",
       "0                                          Afghanistan   1.921817\n",
       "1                                              Albania  33.456108\n",
       "2                                              Algeria  13.421745\n",
       "3                                              Andorra  70.211363\n",
       "4                                               Angola   6.213678\n",
       "..                                                 ...        ...\n",
       "193                                  Wallis and Futuna  51.189832\n",
       "194                                              Yemen   1.004031\n",
       "195                                             Zambia   1.630822\n",
       "196                                           Zimbabwe  20.858567\n",
       "197  occupied Palestinian territory, including east...   6.836014\n",
       "\n",
       "[198 rows x 2 columns]"
      ]
     },
     "execution_count": 28,
     "metadata": {},
     "output_type": "execute_result"
    }
   ],
   "source": [
    "#number of people who got at least one shot of COVID vaccine\n",
    "df_country_vac = df.groupby('country').agg({'people_vaccinated':max}).reset_index()\n",
    "sum_vac = df_country_vac['people_vaccinated'].sum()\n",
    "df_country_rat = df.groupby('country').agg({'ratio':max}).reset_index()\n",
    "df_country_deaths = df.groupby('country').agg({'New_deaths':max}).reset_index()\n",
    "# df_country_deaths\n",
    "df_country_rat\n",
    "\n"
   ]
  },
  {
   "cell_type": "code",
   "execution_count": 32,
   "id": "c41823e4",
   "metadata": {},
   "outputs": [
    {
     "data": {
      "text/plain": [
       "82.68030966725374"
      ]
     },
     "execution_count": 32,
     "metadata": {},
     "output_type": "execute_result"
    }
   ],
   "source": [
    "sum_vac_chile_1 = chile['people_vaccinated'].max()\n",
    "chile_rat = chile['ratio'].max()\n",
    "chile_rat"
   ]
  },
  {
   "cell_type": "code",
   "execution_count": 51,
   "id": "da9e05eb",
   "metadata": {
    "collapsed": false,
    "execution": {
     "iopub.execute_input": "2021-10-15T00:57:03.754682Z",
     "iopub.status.busy": "2021-10-15T00:57:03.753283Z",
     "iopub.status.idle": "2021-10-15T00:57:03.816564Z",
     "shell.execute_reply": "2021-10-15T00:57:03.816105Z",
     "shell.execute_reply.started": "2021-10-15T00:55:15.274002Z"
    },
    "jupyter": {
     "outputs_hidden": false
    },
    "papermill": {
     "duration": 0.130348,
     "end_time": "2021-10-15T00:57:03.816685",
     "exception": false,
     "start_time": "2021-10-15T00:57:03.686337",
     "status": "completed"
    },
    "pycharm": {
     "name": "#%%\n"
    },
    "tags": []
   },
   "outputs": [
    {
     "data": {
      "image/png": "[encoded data removed]",
      "text/plain": [
       "<Figure size 1000x500 with 1 Axes>"
      ]
     },
     "metadata": {},
     "output_type": "display_data"
    }
   ],
   "source": [
    "plt.figure(figsize=(10,5),dpi=100)\n",
    "plt.pie(\n",
    "    [total_population,sum_vac_chile_1],\n",
    "    autopct='%.2F%%',\n",
    "    labels=['total_population','people_fully_vaccinated'])\n",
    "plt.title('Ratio of people fully vaccinated')\n",
    "plt.show()"
   ]
  },
  {
   "cell_type": "markdown",
   "id": "ca143a3e",
   "metadata": {
    "papermill": {
     "duration": 0.036854,
     "end_time": "2021-10-15T00:57:03.890579",
     "exception": false,
     "start_time": "2021-10-15T00:57:03.853725",
     "status": "completed"
    },
    "tags": []
   },
   "source": [
    "# Grouping Data Times Series"
   ]
  },
  {
   "cell_type": "code",
   "execution_count": 52,
   "id": "182cf451",
   "metadata": {
    "collapsed": false,
    "execution": {
     "iopub.execute_input": "2021-10-15T00:57:03.974596Z",
     "iopub.status.busy": "2021-10-15T00:57:03.973751Z",
     "iopub.status.idle": "2021-10-15T00:57:03.994871Z",
     "shell.execute_reply": "2021-10-15T00:57:03.995283Z",
     "shell.execute_reply.started": "2021-10-15T00:55:15.367022Z"
    },
    "jupyter": {
     "outputs_hidden": false
    },
    "papermill": {
     "duration": 0.067831,
     "end_time": "2021-10-15T00:57:03.995430",
     "exception": false,
     "start_time": "2021-10-15T00:57:03.927599",
     "status": "completed"
    },
    "pycharm": {
     "name": "#%%\n"
    },
    "tags": []
   },
   "outputs": [
    {
     "data": {
      "text/html": [
       "<div>\n",
       "<style scoped>\n",
       "    .dataframe tbody tr th:only-of-type {\n",
       "        vertical-align: middle;\n",
       "    }\n",
       "\n",
       "    .dataframe tbody tr th {\n",
       "        vertical-align: top;\n",
       "    }\n",
       "\n",
       "    .dataframe thead th {\n",
       "        text-align: right;\n",
       "    }\n",
       "</style>\n",
       "<table border=\"1\" class=\"dataframe\">\n",
       "  <thead>\n",
       "    <tr style=\"text-align: right;\">\n",
       "      <th></th>\n",
       "      <th>date</th>\n",
       "      <th>total_vaccinations</th>\n",
       "      <th>people_vaccinated</th>\n",
       "      <th>people_fully_vaccinated</th>\n",
       "      <th>New_deaths</th>\n",
       "      <th>population</th>\n",
       "      <th>ratio</th>\n",
       "    </tr>\n",
       "  </thead>\n",
       "  <tbody>\n",
       "    <tr>\n",
       "      <th>0</th>\n",
       "      <td>2020-12-27</td>\n",
       "      <td>3.054100e+04</td>\n",
       "      <td>3.052500e+04</td>\n",
       "      <td>1.600000e+01</td>\n",
       "      <td>389</td>\n",
       "      <td>8.601533e+07</td>\n",
       "      <td>0.326443</td>\n",
       "    </tr>\n",
       "    <tr>\n",
       "      <th>1</th>\n",
       "      <td>2020-12-28</td>\n",
       "      <td>5.304600e+04</td>\n",
       "      <td>5.290900e+04</td>\n",
       "      <td>8.300000e+01</td>\n",
       "      <td>467</td>\n",
       "      <td>9.474863e+07</td>\n",
       "      <td>0.458105</td>\n",
       "    </tr>\n",
       "    <tr>\n",
       "      <th>2</th>\n",
       "      <td>2020-12-29</td>\n",
       "      <td>1.070160e+05</td>\n",
       "      <td>1.061920e+05</td>\n",
       "      <td>7.500000e+02</td>\n",
       "      <td>1046</td>\n",
       "      <td>1.063935e+08</td>\n",
       "      <td>0.603110</td>\n",
       "    </tr>\n",
       "    <tr>\n",
       "      <th>3</th>\n",
       "      <td>2020-12-30</td>\n",
       "      <td>1.736070e+05</td>\n",
       "      <td>1.727360e+05</td>\n",
       "      <td>7.950000e+02</td>\n",
       "      <td>1328</td>\n",
       "      <td>1.063935e+08</td>\n",
       "      <td>0.722347</td>\n",
       "    </tr>\n",
       "    <tr>\n",
       "      <th>4</th>\n",
       "      <td>2020-12-31</td>\n",
       "      <td>2.257370e+05</td>\n",
       "      <td>2.247770e+05</td>\n",
       "      <td>8.840000e+02</td>\n",
       "      <td>1161</td>\n",
       "      <td>1.063935e+08</td>\n",
       "      <td>0.873954</td>\n",
       "    </tr>\n",
       "    <tr>\n",
       "      <th>...</th>\n",
       "      <td>...</td>\n",
       "      <td>...</td>\n",
       "      <td>...</td>\n",
       "      <td>...</td>\n",
       "      <td>...</td>\n",
       "      <td>...</td>\n",
       "      <td>...</td>\n",
       "    </tr>\n",
       "    <tr>\n",
       "      <th>282</th>\n",
       "      <td>2021-10-05</td>\n",
       "      <td>3.561082e+09</td>\n",
       "      <td>2.155773e+09</td>\n",
       "      <td>1.399645e+09</td>\n",
       "      <td>6174</td>\n",
       "      <td>4.474918e+09</td>\n",
       "      <td>4947.450160</td>\n",
       "    </tr>\n",
       "    <tr>\n",
       "      <th>283</th>\n",
       "      <td>2021-10-06</td>\n",
       "      <td>3.550319e+09</td>\n",
       "      <td>2.147102e+09</td>\n",
       "      <td>1.397401e+09</td>\n",
       "      <td>5390</td>\n",
       "      <td>4.343207e+09</td>\n",
       "      <td>4612.485726</td>\n",
       "    </tr>\n",
       "    <tr>\n",
       "      <th>284</th>\n",
       "      <td>2021-10-07</td>\n",
       "      <td>3.614625e+09</td>\n",
       "      <td>2.184253e+09</td>\n",
       "      <td>1.426520e+09</td>\n",
       "      <td>7748</td>\n",
       "      <td>4.740484e+09</td>\n",
       "      <td>4560.839490</td>\n",
       "    </tr>\n",
       "    <tr>\n",
       "      <th>285</th>\n",
       "      <td>2021-10-08</td>\n",
       "      <td>3.073474e+09</td>\n",
       "      <td>1.876619e+09</td>\n",
       "      <td>1.197703e+09</td>\n",
       "      <td>6610</td>\n",
       "      <td>3.617768e+09</td>\n",
       "      <td>3624.668259</td>\n",
       "    </tr>\n",
       "    <tr>\n",
       "      <th>286</th>\n",
       "      <td>2021-10-09</td>\n",
       "      <td>2.517224e+09</td>\n",
       "      <td>1.559366e+09</td>\n",
       "      <td>9.478152e+08</td>\n",
       "      <td>2116</td>\n",
       "      <td>3.091619e+09</td>\n",
       "      <td>2136.305477</td>\n",
       "    </tr>\n",
       "  </tbody>\n",
       "</table>\n",
       "<p>287 rows × 7 columns</p>\n",
       "</div>"
      ],
      "text/plain": [
       "           date  total_vaccinations  people_vaccinated  \\\n",
       "0    2020-12-27        3.054100e+04       3.052500e+04   \n",
       "1    2020-12-28        5.304600e+04       5.290900e+04   \n",
       "2    2020-12-29        1.070160e+05       1.061920e+05   \n",
       "3    2020-12-30        1.736070e+05       1.727360e+05   \n",
       "4    2020-12-31        2.257370e+05       2.247770e+05   \n",
       "..          ...                 ...                ...   \n",
       "282  2021-10-05        3.561082e+09       2.155773e+09   \n",
       "283  2021-10-06        3.550319e+09       2.147102e+09   \n",
       "284  2021-10-07        3.614625e+09       2.184253e+09   \n",
       "285  2021-10-08        3.073474e+09       1.876619e+09   \n",
       "286  2021-10-09        2.517224e+09       1.559366e+09   \n",
       "\n",
       "     people_fully_vaccinated  New_deaths    population        ratio  \n",
       "0               1.600000e+01         389  8.601533e+07     0.326443  \n",
       "1               8.300000e+01         467  9.474863e+07     0.458105  \n",
       "2               7.500000e+02        1046  1.063935e+08     0.603110  \n",
       "3               7.950000e+02        1328  1.063935e+08     0.722347  \n",
       "4               8.840000e+02        1161  1.063935e+08     0.873954  \n",
       "..                       ...         ...           ...          ...  \n",
       "282             1.399645e+09        6174  4.474918e+09  4947.450160  \n",
       "283             1.397401e+09        5390  4.343207e+09  4612.485726  \n",
       "284             1.426520e+09        7748  4.740484e+09  4560.839490  \n",
       "285             1.197703e+09        6610  3.617768e+09  3624.668259  \n",
       "286             9.478152e+08        2116  3.091619e+09  2136.305477  \n",
       "\n",
       "[287 rows x 7 columns]"
      ]
     },
     "execution_count": 52,
     "metadata": {},
     "output_type": "execute_result"
    }
   ],
   "source": [
    "date_group = df.groupby('date').agg('sum').reset_index()\n",
    "date_group"
   ]
  },
  {
   "cell_type": "markdown",
   "id": "ab87f4a2",
   "metadata": {
    "papermill": {
     "duration": 0.03708,
     "end_time": "2021-10-15T00:57:04.069310",
     "exception": false,
     "start_time": "2021-10-15T00:57:04.032230",
     "status": "completed"
    },
    "tags": []
   },
   "source": [
    "# Plotting line chart"
   ]
  },
  {
   "cell_type": "code",
   "execution_count": 53,
   "id": "b98b0a81",
   "metadata": {
    "collapsed": false,
    "execution": {
     "iopub.execute_input": "2021-10-15T00:57:04.168039Z",
     "iopub.status.busy": "2021-10-15T00:57:04.151993Z",
     "iopub.status.idle": "2021-10-15T00:57:04.580211Z",
     "shell.execute_reply": "2021-10-15T00:57:04.580677Z",
     "shell.execute_reply.started": "2021-10-15T00:55:15.398677Z"
    },
    "jupyter": {
     "outputs_hidden": false
    },
    "papermill": {
     "duration": 0.473519,
     "end_time": "2021-10-15T00:57:04.580826",
     "exception": false,
     "start_time": "2021-10-15T00:57:04.107307",
     "status": "completed"
    },
    "pycharm": {
     "name": "#%%\n"
    },
    "tags": []
   },
   "outputs": [
    {
     "data": {
      "text/plain": [
       "Text(0.5, 1.0, 'total_vaccinations vs New_deaths')"
      ]
     },
     "execution_count": 53,
     "metadata": {},
     "output_type": "execute_result"
    },
    {
     "data": {
      "image/png": "[encoded data removed]",
      "text/plain": [
       "<Figure size 1280x720 with 2 Axes>"
      ]
     },
     "metadata": {
      "needs_background": "light"
     },
     "output_type": "display_data"
    }
   ],
   "source": [
    "#preparing data\n",
    "x = date_group['date']\n",
    "y1 = date_group['total_vaccinations']\n",
    "y2 = date_group['New_deaths']\n",
    "\n",
    "#line 1\n",
    "fig, ax1 = plt.subplots(1,1,figsize=(16,9), dpi= 80)\n",
    "ax1.plot(x,y1,color='tab:red')\n",
    "\n",
    "#line 2\n",
    "ax2 = ax1.twinx()\n",
    "ax2.plot(x,y2,color='tab:blue')\n",
    "\n",
    "#decorations line 1\n",
    "ax1.set_xlabel('date',fontsize=20)\n",
    "ax1.tick_params(axis='x',rotation=0,labelsize=12)\n",
    "ax1.set_ylabel('total_vaccinations',color='tab:red',fontsize=20)\n",
    "ax1.tick_params(axis='y',rotation=0,labelcolor='tab:red')\n",
    "ax1.grid(alpha=0.4)\n",
    "\n",
    "#decorations line 2\n",
    "ax2.set_ylabel('New_deaths',fontsize=20,color='tab:blue')\n",
    "ax2.tick_params(axis='y',rotation=0,labelcolor='tab:blue')\n",
    "ax2.set_xticks(np.arange(0,len(x),60))#\n",
    "ax2.set_title('total_vaccinations vs New_deaths')"
   ]
  },
  {
   "cell_type": "markdown",
   "id": "402eb86b",
   "metadata": {
    "papermill": {
     "duration": 0.040807,
     "end_time": "2021-10-15T00:57:04.662952",
     "exception": false,
     "start_time": "2021-10-15T00:57:04.622145",
     "status": "completed"
    },
    "tags": []
   },
   "source": [
    "#Back to original dateset"
   ]
  },
  {
   "cell_type": "markdown",
   "id": "74b4e615",
   "metadata": {
    "papermill": {
     "duration": 0.040562,
     "end_time": "2021-10-15T00:57:04.744750",
     "exception": false,
     "start_time": "2021-10-15T00:57:04.704188",
     "status": "completed"
    },
    "tags": []
   },
   "source": [
    "# Relationship Between variables (Plotting Heatmap with seaborn)"
   ]
  },
  {
   "cell_type": "markdown",
   "id": "b45a67ff",
   "metadata": {
    "papermill": {
     "duration": 0.042243,
     "end_time": "2021-10-15T00:57:04.828191",
     "exception": false,
     "start_time": "2021-10-15T00:57:04.785948",
     "status": "completed"
    },
    "tags": []
   },
   "source": [
    "$$ r(X, Y)=\\frac{\\operatorname{Cov}(X, Y)}{\\sqrt{\\operatorname{Var}[X] \\operatorname{Var}[Y]}}\n",
    "$$"
   ]
  },
  {
   "cell_type": "code",
   "execution_count": 54,
   "id": "25f0958d",
   "metadata": {
    "collapsed": false,
    "execution": {
     "iopub.execute_input": "2021-10-15T00:57:04.914724Z",
     "iopub.status.busy": "2021-10-15T00:57:04.914175Z",
     "iopub.status.idle": "2021-10-15T00:57:04.928239Z",
     "shell.execute_reply": "2021-10-15T00:57:04.928664Z",
     "shell.execute_reply.started": "2021-10-15T00:55:15.839194Z"
    },
    "jupyter": {
     "outputs_hidden": false
    },
    "papermill": {
     "duration": 0.059855,
     "end_time": "2021-10-15T00:57:04.928808",
     "exception": false,
     "start_time": "2021-10-15T00:57:04.868953",
     "status": "completed"
    },
    "pycharm": {
     "name": "#%%\n"
    },
    "tags": []
   },
   "outputs": [
    {
     "data": {
      "text/html": [
       "<div>\n",
       "<style scoped>\n",
       "    .dataframe tbody tr th:only-of-type {\n",
       "        vertical-align: middle;\n",
       "    }\n",
       "\n",
       "    .dataframe tbody tr th {\n",
       "        vertical-align: top;\n",
       "    }\n",
       "\n",
       "    .dataframe thead th {\n",
       "        text-align: right;\n",
       "    }\n",
       "</style>\n",
       "<table border=\"1\" class=\"dataframe\">\n",
       "  <thead>\n",
       "    <tr style=\"text-align: right;\">\n",
       "      <th></th>\n",
       "      <th>total_vaccinations</th>\n",
       "      <th>people_vaccinated</th>\n",
       "      <th>people_fully_vaccinated</th>\n",
       "      <th>New_deaths</th>\n",
       "      <th>population</th>\n",
       "      <th>ratio</th>\n",
       "    </tr>\n",
       "  </thead>\n",
       "  <tbody>\n",
       "    <tr>\n",
       "      <th>total_vaccinations</th>\n",
       "      <td>1.000000</td>\n",
       "      <td>0.985602</td>\n",
       "      <td>0.948243</td>\n",
       "      <td>0.305047</td>\n",
       "      <td>0.686229</td>\n",
       "      <td>0.170965</td>\n",
       "    </tr>\n",
       "    <tr>\n",
       "      <th>people_vaccinated</th>\n",
       "      <td>0.985602</td>\n",
       "      <td>1.000000</td>\n",
       "      <td>0.881845</td>\n",
       "      <td>0.319465</td>\n",
       "      <td>0.744189</td>\n",
       "      <td>0.139677</td>\n",
       "    </tr>\n",
       "    <tr>\n",
       "      <th>people_fully_vaccinated</th>\n",
       "      <td>0.948243</td>\n",
       "      <td>0.881845</td>\n",
       "      <td>1.000000</td>\n",
       "      <td>0.259981</td>\n",
       "      <td>0.524252</td>\n",
       "      <td>0.217102</td>\n",
       "    </tr>\n",
       "    <tr>\n",
       "      <th>New_deaths</th>\n",
       "      <td>0.305047</td>\n",
       "      <td>0.319465</td>\n",
       "      <td>0.259981</td>\n",
       "      <td>1.000000</td>\n",
       "      <td>0.501012</td>\n",
       "      <td>-0.113327</td>\n",
       "    </tr>\n",
       "    <tr>\n",
       "      <th>population</th>\n",
       "      <td>0.686229</td>\n",
       "      <td>0.744189</td>\n",
       "      <td>0.524252</td>\n",
       "      <td>0.501012</td>\n",
       "      <td>1.000000</td>\n",
       "      <td>-0.077156</td>\n",
       "    </tr>\n",
       "    <tr>\n",
       "      <th>ratio</th>\n",
       "      <td>0.170965</td>\n",
       "      <td>0.139677</td>\n",
       "      <td>0.217102</td>\n",
       "      <td>-0.113327</td>\n",
       "      <td>-0.077156</td>\n",
       "      <td>1.000000</td>\n",
       "    </tr>\n",
       "  </tbody>\n",
       "</table>\n",
       "</div>"
      ],
      "text/plain": [
       "                         total_vaccinations  people_vaccinated  \\\n",
       "total_vaccinations                 1.000000           0.985602   \n",
       "people_vaccinated                  0.985602           1.000000   \n",
       "people_fully_vaccinated            0.948243           0.881845   \n",
       "New_deaths                         0.305047           0.319465   \n",
       "population                         0.686229           0.744189   \n",
       "ratio                              0.170965           0.139677   \n",
       "\n",
       "                         people_fully_vaccinated  New_deaths  population  \\\n",
       "total_vaccinations                      0.948243    0.305047    0.686229   \n",
       "people_vaccinated                       0.881845    0.319465    0.744189   \n",
       "people_fully_vaccinated                 1.000000    0.259981    0.524252   \n",
       "New_deaths                              0.259981    1.000000    0.501012   \n",
       "population                              0.524252    0.501012    1.000000   \n",
       "ratio                                   0.217102   -0.113327   -0.077156   \n",
       "\n",
       "                            ratio  \n",
       "total_vaccinations       0.170965  \n",
       "people_vaccinated        0.139677  \n",
       "people_fully_vaccinated  0.217102  \n",
       "New_deaths              -0.113327  \n",
       "population              -0.077156  \n",
       "ratio                    1.000000  "
      ]
     },
     "execution_count": 54,
     "metadata": {},
     "output_type": "execute_result"
    }
   ],
   "source": [
    "df_corr = df.corr()\n",
    "df_corr"
   ]
  },
  {
   "cell_type": "markdown",
   "id": "046ea6f4",
   "metadata": {
    "papermill": {
     "duration": 0.041135,
     "end_time": "2021-10-15T00:57:05.011974",
     "exception": false,
     "start_time": "2021-10-15T00:57:04.970839",
     "status": "completed"
    },
    "tags": []
   },
   "source": [
    "## Plotting"
   ]
  },
  {
   "cell_type": "code",
   "execution_count": 22,
   "id": "b256221d",
   "metadata": {
    "collapsed": false,
    "execution": {
     "iopub.execute_input": "2021-10-15T00:57:05.110437Z",
     "iopub.status.busy": "2021-10-15T00:57:05.109582Z",
     "iopub.status.idle": "2021-10-15T00:57:05.678059Z",
     "shell.execute_reply": "2021-10-15T00:57:05.678640Z",
     "shell.execute_reply.started": "2021-10-15T00:55:15.861278Z"
    },
    "jupyter": {
     "outputs_hidden": false
    },
    "papermill": {
     "duration": 0.625177,
     "end_time": "2021-10-15T00:57:05.678817",
     "exception": false,
     "start_time": "2021-10-15T00:57:05.053640",
     "status": "completed"
    },
    "pycharm": {
     "name": "#%%\n"
    },
    "tags": []
   },
   "outputs": [
    {
     "data": {
      "text/plain": [
       "(array([0.5, 1.5, 2.5, 3.5, 4.5, 5.5]),\n",
       " [Text(0, 0.5, 'total_vaccinations'),\n",
       "  Text(0, 1.5, 'people_vaccinated'),\n",
       "  Text(0, 2.5, 'people_fully_vaccinated'),\n",
       "  Text(0, 3.5, 'New_deaths'),\n",
       "  Text(0, 4.5, 'population'),\n",
       "  Text(0, 5.5, 'ratio')])"
      ]
     },
     "execution_count": 22,
     "metadata": {},
     "output_type": "execute_result"
    },
    {
     "data": {
      "image/png": "[encoded data removed]",
      "text/plain": [
       "<Figure size 2000x1500 with 2 Axes>"
      ]
     },
     "metadata": {
      "needs_background": "light"
     },
     "output_type": "display_data"
    }
   ],
   "source": [
    "plt.figure(figsize=(20,15),dpi=100)\n",
    "sns.heatmap(df_corr,annot=True,square=True,vmin=-1,cmap='CMRmap',center=0.8)\n",
    "plt.yticks(rotation=90)"
   ]
  },
  {
   "cell_type": "markdown",
   "id": "f2834358",
   "metadata": {
    "papermill": {
     "duration": 0.043861,
     "end_time": "2021-10-15T00:57:05.768291",
     "exception": false,
     "start_time": "2021-10-15T00:57:05.724430",
     "status": "completed"
    },
    "tags": []
   },
   "source": [
    "# Plotting scatter ---> USA"
   ]
  },
  {
   "cell_type": "code",
   "execution_count": 23,
   "id": "d77ec5bf",
   "metadata": {
    "collapsed": false,
    "execution": {
     "iopub.execute_input": "2021-10-15T00:57:05.867562Z",
     "iopub.status.busy": "2021-10-15T00:57:05.866826Z",
     "iopub.status.idle": "2021-10-15T00:57:06.306602Z",
     "shell.execute_reply": "2021-10-15T00:57:06.307015Z",
     "shell.execute_reply.started": "2021-10-15T00:55:16.641637Z"
    },
    "jupyter": {
     "outputs_hidden": false
    },
    "papermill": {
     "duration": 0.494567,
     "end_time": "2021-10-15T00:57:06.307165",
     "exception": false,
     "start_time": "2021-10-15T00:57:05.812598",
     "status": "completed"
    },
    "pycharm": {
     "name": "#%%\n"
    },
    "tags": []
   },
   "outputs": [
    {
     "data": {
      "text/plain": [
       "Text(0.5, 1.0, 'ratio vs New_deaths USA')"
      ]
     },
     "execution_count": 23,
     "metadata": {},
     "output_type": "execute_result"
    },
    {
     "data": {
      "image/png": "[encoded data removed]",
      "text/plain": [
       "<Figure size 1440x1080 with 2 Axes>"
      ]
     },
     "metadata": {
      "needs_background": "light"
     },
     "output_type": "display_data"
    }
   ],
   "source": [
    "df_usa = df[df['country']=='United States of America']\n",
    "df_usa.plot(\n",
    "    kind='scatter',\n",
    "    x='ratio',\n",
    "    y='New_deaths',\n",
    "    label='New_deaths vs ratio(USA)',\n",
    "    alpha=0.2,\n",
    "    figsize=(20,15),\n",
    "    s=df_usa['New_deaths'],\n",
    "    c='ratio',\n",
    "    cmap=plt.get_cmap('jet'),\n",
    "    colorbar=True)\n",
    "\n",
    "plt.xlabel('ratio(%)',fontsize=15)\n",
    "plt.ylabel('New_deaths(USA)',fontsize=18)\n",
    "plt.title('ratio vs New_deaths USA',fontsize=22)\n",
    "# The radius of each circle represents the district’s population (option s), and the color represents the price (option c)."
   ]
  },
  {
   "cell_type": "markdown",
   "id": "6bad62f1",
   "metadata": {
    "papermill": {
     "duration": 0.04969,
     "end_time": "2021-10-15T00:57:06.407096",
     "exception": false,
     "start_time": "2021-10-15T00:57:06.357406",
     "status": "completed"
    },
    "tags": []
   },
   "source": [
    "# Daily World Deaths"
   ]
  },
  {
   "cell_type": "code",
   "execution_count": 24,
   "id": "cdc156c0",
   "metadata": {
    "collapsed": false,
    "execution": {
     "iopub.execute_input": "2021-10-15T00:57:06.512780Z",
     "iopub.status.busy": "2021-10-15T00:57:06.512094Z",
     "iopub.status.idle": "2021-10-15T00:57:07.318095Z",
     "shell.execute_reply": "2021-10-15T00:57:07.318532Z",
     "shell.execute_reply.started": "2021-10-15T00:55:17.099434Z"
    },
    "jupyter": {
     "outputs_hidden": false
    },
    "papermill": {
     "duration": 0.8611,
     "end_time": "2021-10-15T00:57:07.318694",
     "exception": false,
     "start_time": "2021-10-15T00:57:06.457594",
     "status": "completed"
    },
    "pycharm": {
     "name": "#%%\n"
    },
    "tags": []
   },
   "outputs": [
    {
     "data": {
      "application/vnd.plotly.v1+json": {
       "config": {
        "plotlyServerURL": "https://plot.ly"
       },
       "data": [
        {
         "hovertemplate": "x=%{x}<br>y=%{y}<extra></extra>",
         "legendgroup": "",
         "line": {
          "color": "#636efa",
          "dash": "solid"
         },
         "marker": {
          "symbol": "circle"
         },
         "mode": "lines",
         "name": "",
         "orientation": "v",
         "showlegend": false,
         "type": "scatter",
         "x": [
          "2020-12-27",
          "2020-12-28",
          "2020-12-29",
          "2020-12-30",
          "2020-12-31",
          "2021-01-01",
          "2021-01-02",
          "2021-01-03",
          "2021-01-04",
          "2021-01-05",
          "2021-01-06",
          "2021-01-07",
          "2021-01-08",
          "2021-01-09",
          "2021-01-10",
          "2021-01-11",
          "2021-01-12",
          "2021-01-13",
          "2021-01-14",
          "2021-01-15",
          "2021-01-16",
          "2021-01-17",
          "2021-01-18",
          "2021-01-19",
          "2021-01-20",
          "2021-01-21",
          "2021-01-22",
          "2021-01-23",
          "2021-01-24",
          "2021-01-25",
          "2021-01-26",
          "2021-01-27",
          "2021-01-28",
          "2021-01-29",
          "2021-01-30",
          "2021-01-31",
          "2021-02-01",
          "2021-02-02",
          "2021-02-03",
          "2021-02-04",
          "2021-02-05",
          "2021-02-06",
          "2021-02-07",
          "2021-02-08",
          "2021-02-09",
          "2021-02-10",
          "2021-02-11",
          "2021-02-12",
          "2021-02-13",
          "2021-02-14",
          "2021-02-15",
          "2021-02-16",
          "2021-02-17",
          "2021-02-18",
          "2021-02-19",
          "2021-02-20",
          "2021-02-21",
          "2021-02-22",
          "2021-02-23",
          "2021-02-24",
          "2021-02-25",
          "2021-02-26",
          "2021-02-27",
          "2021-02-28",
          "2021-03-01",
          "2021-03-02",
          "2021-03-03",
          "2021-03-04",
          "2021-03-05",
          "2021-03-06",
          "2021-03-07",
          "2021-03-08",
          "2021-03-09",
          "2021-03-10",
          "2021-03-11",
          "2021-03-12",
          "2021-03-13",
          "2021-03-14",
          "2021-03-15",
          "2021-03-16",
          "2021-03-17",
          "2021-03-18",
          "2021-03-19",
          "2021-03-20",
          "2021-03-21",
          "2021-03-22",
          "2021-03-23",
          "2021-03-24",
          "2021-03-25",
          "2021-03-26",
          "2021-03-27",
          "2021-03-28",
          "2021-03-29",
          "2021-03-30",
          "2021-03-31",
          "2021-04-01",
          "2021-04-02",
          "2021-04-03",
          "2021-04-04",
          "2021-04-05",
          "2021-04-06",
          "2021-04-07",
          "2021-04-08",
          "2021-04-09",
          "2021-04-10",
          "2021-04-11",
          "2021-04-12",
          "2021-04-13",
          "2021-04-14",
          "2021-04-15",
          "2021-04-16",
          "2021-04-17",
          "2021-04-18",
          "2021-04-19",
          "2021-04-20",
          "2021-04-21",
          "2021-04-22",
          "2021-04-23",
          "2021-04-24",
          "2021-04-25",
          "2021-04-26",
          "2021-04-27",
          "2021-04-28",
          "2021-04-29",
          "2021-04-30",
          "2021-05-01",
          "2021-05-02",
          "2021-05-03",
          "2021-05-04",
          "2021-05-05",
          "2021-05-06",
          "2021-05-07",
          "2021-05-08",
          "2021-05-09",
          "2021-05-10",
          "2021-05-11",
          "2021-05-12",
          "2021-05-13",
          "2021-05-14",
          "2021-05-15",
          "2021-05-16",
          "2021-05-17",
          "2021-05-18",
          "2021-05-19",
          "2021-05-20",
          "2021-05-21",
          "2021-05-22",
          "2021-05-23",
          "2021-05-24",
          "2021-05-25",
          "2021-05-26",
          "2021-05-27",
          "2021-05-28",
          "2021-05-29",
          "2021-05-30",
          "2021-05-31",
          "2021-06-01",
          "2021-06-02",
          "2021-06-03",
          "2021-06-04",
          "2021-06-05",
          "2021-06-06",
          "2021-06-07",
          "2021-06-08",
          "2021-06-09",
          "2021-06-10",
          "2021-06-11",
          "2021-06-12",
          "2021-06-13",
          "2021-06-14",
          "2021-06-15",
          "2021-06-16",
          "2021-06-17",
          "2021-06-18",
          "2021-06-19",
          "2021-06-20",
          "2021-06-21",
          "2021-06-22",
          "2021-06-23",
          "2021-06-24",
          "2021-06-25",
          "2021-06-26",
          "2021-06-27",
          "2021-06-28",
          "2021-06-29",
          "2021-06-30",
          "2021-07-01",
          "2021-07-02",
          "2021-07-03",
          "2021-07-04",
          "2021-07-05",
          "2021-07-06",
          "2021-07-07",
          "2021-07-08",
          "2021-07-09",
          "2021-07-10",
          "2021-07-11",
          "2021-07-12",
          "2021-07-13",
          "2021-07-14",
          "2021-07-15",
          "2021-07-16",
          "2021-07-17",
          "2021-07-18",
          "2021-07-19",
          "2021-07-20",
          "2021-07-21",
          "2021-07-22",
          "2021-07-23",
          "2021-07-24",
          "2021-07-25",
          "2021-07-26",
          "2021-07-27",
          "2021-07-28",
          "2021-07-29",
          "2021-07-30",
          "2021-07-31",
          "2021-08-01",
          "2021-08-02",
          "2021-08-03",
          "2021-08-04",
          "2021-08-05",
          "2021-08-06",
          "2021-08-07",
          "2021-08-08",
          "2021-08-09",
          "2021-08-10",
          "2021-08-11",
          "2021-08-12",
          "2021-08-13",
          "2021-08-14",
          "2021-08-15",
          "2021-08-16",
          "2021-08-17",
          "2021-08-18",
          "2021-08-19",
          "2021-08-20",
          "2021-08-21",
          "2021-08-22",
          "2021-08-23",
          "2021-08-24",
          "2021-08-25",
          "2021-08-26",
          "2021-08-27",
          "2021-08-28",
          "2021-08-29",
          "2021-08-30",
          "2021-08-31",
          "2021-09-01",
          "2021-09-02",
          "2021-09-03",
          "2021-09-04",
          "2021-09-05",
          "2021-09-06",
          "2021-09-07",
          "2021-09-08",
          "2021-09-09",
          "2021-09-10",
          "2021-09-11",
          "2021-09-12",
          "2021-09-13",
          "2021-09-14",
          "2021-09-15",
          "2021-09-16",
          "2021-09-17",
          "2021-09-18",
          "2021-09-19",
          "2021-09-20",
          "2021-09-21",
          "2021-09-22",
          "2021-09-23",
          "2021-09-24",
          "2021-09-25",
          "2021-09-26",
          "2021-09-27",
          "2021-09-28",
          "2021-09-29",
          "2021-09-30",
          "2021-10-01",
          "2021-10-02",
          "2021-10-03",
          "2021-10-04",
          "2021-10-05",
          "2021-10-06",
          "2021-10-07",
          "2021-10-08",
          "2021-10-09"
         ],
         "xaxis": "x",
         "y": [
          389,
          856,
          1902,
          3230,
          4391,
          5192,
          5744,
          6260,
          7120,
          8644,
          10768,
          12827,
          14811,
          16967,
          19413,
          21149,
          23466,
          26945,
          34874,
          43685,
          48769,
          53306,
          57208,
          63885,
          72841,
          82661,
          93540,
          104324,
          113963,
          121396,
          128025,
          136766,
          148023,
          157767,
          167859,
          176929,
          184488,
          191148,
          199693,
          208564,
          217894,
          230017,
          239620,
          247321,
          252784,
          261083,
          271889,
          281920,
          292708,
          303158,
          308550,
          314751,
          321731,
          329046,
          337886,
          347117,
          354847,
          361469,
          367289,
          374641,
          382913,
          391274,
          400322,
          407508,
          413751,
          419620,
          426672,
          434665,
          442784,
          448671,
          453696,
          458480,
          463356,
          469672,
          477294,
          485403,
          493061,
          499900,
          506224,
          510441,
          517486,
          525972,
          534494,
          543704,
          552164,
          558938,
          565006,
          571958,
          580801,
          588686,
          597603,
          605783,
          613846,
          621351,
          629577,
          636014,
          646906,
          656542,
          664942,
          672065,
          678146,
          686532,
          699144,
          710359,
          723018,
          733706,
          745145,
          754163,
          763370,
          771343,
          778945,
          787143,
          797739,
          808292,
          816826,
          827122,
          840533,
          851533,
          860021,
          872007,
          883182,
          893541,
          905409,
          919748,
          933404,
          946974,
          958965,
          969221,
          979021,
          989270,
          1002569,
          1016499,
          1026335,
          1035547,
          1046113,
          1056253,
          1066570,
          1078798,
          1090306,
          1102112,
          1113524,
          1124564,
          1135030,
          1145363,
          1157654,
          1162788,
          1172381,
          1181161,
          1190225,
          1199145,
          1208886,
          1219384,
          1230428,
          1241468,
          1252289,
          1261240,
          1268924,
          1277364,
          1291559,
          1301685,
          1311673,
          1320443,
          1326901,
          1333519,
          1341444,
          1354133,
          1364784,
          1373638,
          1383148,
          1393275,
          1399929,
          1406880,
          1416224,
          1424641,
          1432700,
          1440496,
          1448021,
          1453047,
          1459146,
          1467432,
          1473342,
          1478865,
          1486525,
          1493024,
          1498974,
          1504456,
          1511877,
          1516967,
          1522099,
          1529218,
          1535607,
          1540208,
          1546547,
          1554050,
          1560297,
          1566492,
          1573435,
          1580216,
          1586934,
          1592782,
          1600155,
          1606864,
          1613646,
          1620055,
          1626648,
          1632092,
          1649720,
          1657314,
          1664910,
          1671594,
          1679283,
          1686583,
          1693500,
          1700177,
          1708661,
          1716693,
          1723687,
          1730312,
          1736860,
          1744489,
          1750964,
          1758791,
          1765118,
          1772688,
          1780612,
          1787956,
          1794934,
          1801991,
          1809065,
          1814787,
          1820863,
          1828399,
          1837725,
          1843558,
          1850582,
          1860711,
          1868683,
          1875885,
          1883701,
          1892862,
          1899300,
          1906903,
          1916296,
          1924770,
          1931556,
          1938743,
          1948098,
          1954778,
          1961208,
          1969791,
          1978779,
          1986561,
          1992669,
          1998586,
          2003839,
          2010099,
          2019679,
          2027005,
          2034406,
          2043858,
          2049722,
          2055681,
          2061969,
          2072161,
          2078990,
          2088439,
          2093516,
          2099749,
          2103728,
          2110603,
          2119019,
          2125692,
          2132366,
          2139025,
          2145935,
          2149701,
          2155330,
          2162448,
          2169044,
          2174451,
          2180391,
          2183715,
          2189889,
          2195279,
          2203027,
          2209637,
          2211753
         ],
         "yaxis": "y"
        }
       ],
       "layout": {
        "legend": {
         "tracegroupgap": 0
        },
        "margin": {
         "t": 60
        },
        "template": {
         "data": {
          "bar": [
           {
            "error_x": {
             "color": "#2a3f5f"
            },
            "error_y": {
             "color": "#2a3f5f"
            },
            "marker": {
             "line": {
              "color": "#E5ECF6",
              "width": 0.5
             },
             "pattern": {
              "fillmode": "overlay",
              "size": 10,
              "solidity": 0.2
             }
            },
            "type": "bar"
           }
          ],
          "barpolar": [
           {
            "marker": {
             "line": {
              "color": "#E5ECF6",
              "width": 0.5
             },
             "pattern": {
              "fillmode": "overlay",
              "size": 10,
              "solidity": 0.2
             }
            },
            "type": "barpolar"
           }
          ],
          "carpet": [
           {
            "aaxis": {
             "endlinecolor": "#2a3f5f",
             "gridcolor": "white",
             "linecolor": "white",
             "minorgridcolor": "white",
             "startlinecolor": "#2a3f5f"
            },
            "baxis": {
             "endlinecolor": "#2a3f5f",
             "gridcolor": "white",
             "linecolor": "white",
             "minorgridcolor": "white",
             "startlinecolor": "#2a3f5f"
            },
            "type": "carpet"
           }
          ],
          "choropleth": [
           {
            "colorbar": {
             "outlinewidth": 0,
             "ticks": ""
            },
            "type": "choropleth"
           }
          ],
          "contour": [
           {
            "colorbar": {
             "outlinewidth": 0,
             "ticks": ""
            },
            "colorscale": [
             [
              0,
              "#0d0887"
             ],
             [
              0.1111111111111111,
              "#46039f"
             ],
             [
              0.2222222222222222,
              "#7201a8"
             ],
             [
              0.3333333333333333,
              "#9c179e"
             ],
             [
              0.4444444444444444,
              "#bd3786"
             ],
             [
              0.5555555555555556,
              "#d8576b"
             ],
             [
              0.6666666666666666,
              "#ed7953"
             ],
             [
              0.7777777777777778,
              "#fb9f3a"
             ],
             [
              0.8888888888888888,
              "#fdca26"
             ],
             [
              1,
              "#f0f921"
             ]
            ],
            "type": "contour"
           }
          ],
          "contourcarpet": [
           {
            "colorbar": {
             "outlinewidth": 0,
             "ticks": ""
            },
            "type": "contourcarpet"
           }
          ],
          "heatmap": [
           {
            "colorbar": {
             "outlinewidth": 0,
             "ticks": ""
            },
            "colorscale": [
             [
              0,
              "#0d0887"
             ],
             [
              0.1111111111111111,
              "#46039f"
             ],
             [
              0.2222222222222222,
              "#7201a8"
             ],
             [
              0.3333333333333333,
              "#9c179e"
             ],
             [
              0.4444444444444444,
              "#bd3786"
             ],
             [
              0.5555555555555556,
              "#d8576b"
             ],
             [
              0.6666666666666666,
              "#ed7953"
             ],
             [
              0.7777777777777778,
              "#fb9f3a"
             ],
             [
              0.8888888888888888,
              "#fdca26"
             ],
             [
              1,
              "#f0f921"
             ]
            ],
            "type": "heatmap"
           }
          ],
          "heatmapgl": [
           {
            "colorbar": {
             "outlinewidth": 0,
             "ticks": ""
            },
            "colorscale": [
             [
              0,
              "#0d0887"
             ],
             [
              0.1111111111111111,
              "#46039f"
             ],
             [
              0.2222222222222222,
              "#7201a8"
             ],
             [
              0.3333333333333333,
              "#9c179e"
             ],
             [
              0.4444444444444444,
              "#bd3786"
             ],
             [
              0.5555555555555556,
              "#d8576b"
             ],
             [
              0.6666666666666666,
              "#ed7953"
             ],
             [
              0.7777777777777778,
              "#fb9f3a"
             ],
             [
              0.8888888888888888,
              "#fdca26"
             ],
             [
              1,
              "#f0f921"
             ]
            ],
            "type": "heatmapgl"
           }
          ],
          "histogram": [
           {
            "marker": {
             "pattern": {
              "fillmode": "overlay",
              "size": 10,
              "solidity": 0.2
             }
            },
            "type": "histogram"
           }
          ],
          "histogram2d": [
           {
            "colorbar": {
             "outlinewidth": 0,
             "ticks": ""
            },
            "colorscale": [
             [
              0,
              "#0d0887"
             ],
             [
              0.1111111111111111,
              "#46039f"
             ],
             [
              0.2222222222222222,
              "#7201a8"
             ],
             [
              0.3333333333333333,
              "#9c179e"
             ],
             [
              0.4444444444444444,
              "#bd3786"
             ],
             [
              0.5555555555555556,
              "#d8576b"
             ],
             [
              0.6666666666666666,
              "#ed7953"
             ],
             [
              0.7777777777777778,
              "#fb9f3a"
             ],
             [
              0.8888888888888888,
              "#fdca26"
             ],
             [
              1,
              "#f0f921"
             ]
            ],
            "type": "histogram2d"
           }
          ],
          "histogram2dcontour": [
           {
            "colorbar": {
             "outlinewidth": 0,
             "ticks": ""
            },
            "colorscale": [
             [
              0,
              "#0d0887"
             ],
             [
              0.1111111111111111,
              "#46039f"
             ],
             [
              0.2222222222222222,
              "#7201a8"
             ],
             [
              0.3333333333333333,
              "#9c179e"
             ],
             [
              0.4444444444444444,
              "#bd3786"
             ],
             [
              0.5555555555555556,
              "#d8576b"
             ],
             [
              0.6666666666666666,
              "#ed7953"
             ],
             [
              0.7777777777777778,
              "#fb9f3a"
             ],
             [
              0.8888888888888888,
              "#fdca26"
             ],
             [
              1,
              "#f0f921"
             ]
            ],
            "type": "histogram2dcontour"
           }
          ],
          "mesh3d": [
           {
            "colorbar": {
             "outlinewidth": 0,
             "ticks": ""
            },
            "type": "mesh3d"
           }
          ],
          "parcoords": [
           {
            "line": {
             "colorbar": {
              "outlinewidth": 0,
              "ticks": ""
             }
            },
            "type": "parcoords"
           }
          ],
          "pie": [
           {
            "automargin": true,
            "type": "pie"
           }
          ],
          "scatter": [
           {
            "marker": {
             "colorbar": {
              "outlinewidth": 0,
              "ticks": ""
             }
            },
            "type": "scatter"
           }
          ],
          "scatter3d": [
           {
            "line": {
             "colorbar": {
              "outlinewidth": 0,
              "ticks": ""
             }
            },
            "marker": {
             "colorbar": {
              "outlinewidth": 0,
              "ticks": ""
             }
            },
            "type": "scatter3d"
           }
          ],
          "scattercarpet": [
           {
            "marker": {
             "colorbar": {
              "outlinewidth": 0,
              "ticks": ""
             }
            },
            "type": "scattercarpet"
           }
          ],
          "scattergeo": [
           {
            "marker": {
             "colorbar": {
              "outlinewidth": 0,
              "ticks": ""
             }
            },
            "type": "scattergeo"
           }
          ],
          "scattergl": [
           {
            "marker": {
             "colorbar": {
              "outlinewidth": 0,
              "ticks": ""
             }
            },
            "type": "scattergl"
           }
          ],
          "scattermapbox": [
           {
            "marker": {
             "colorbar": {
              "outlinewidth": 0,
              "ticks": ""
             }
            },
            "type": "scattermapbox"
           }
          ],
          "scatterpolar": [
           {
            "marker": {
             "colorbar": {
              "outlinewidth": 0,
              "ticks": ""
             }
            },
            "type": "scatterpolar"
           }
          ],
          "scatterpolargl": [
           {
            "marker": {
             "colorbar": {
              "outlinewidth": 0,
              "ticks": ""
             }
            },
            "type": "scatterpolargl"
           }
          ],
          "scatterternary": [
           {
            "marker": {
             "colorbar": {
              "outlinewidth": 0,
              "ticks": ""
             }
            },
            "type": "scatterternary"
           }
          ],
          "surface": [
           {
            "colorbar": {
             "outlinewidth": 0,
             "ticks": ""
            },
            "colorscale": [
             [
              0,
              "#0d0887"
             ],
             [
              0.1111111111111111,
              "#46039f"
             ],
             [
              0.2222222222222222,
              "#7201a8"
             ],
             [
              0.3333333333333333,
              "#9c179e"
             ],
             [
              0.4444444444444444,
              "#bd3786"
             ],
             [
              0.5555555555555556,
              "#d8576b"
             ],
             [
              0.6666666666666666,
              "#ed7953"
             ],
             [
              0.7777777777777778,
              "#fb9f3a"
             ],
             [
              0.8888888888888888,
              "#fdca26"
             ],
             [
              1,
              "#f0f921"
             ]
            ],
            "type": "surface"
           }
          ],
          "table": [
           {
            "cells": {
             "fill": {
              "color": "#EBF0F8"
             },
             "line": {
              "color": "white"
             }
            },
            "header": {
             "fill": {
              "color": "#C8D4E3"
             },
             "line": {
              "color": "white"
             }
            },
            "type": "table"
           }
          ]
         },
         "layout": {
          "annotationdefaults": {
           "arrowcolor": "#2a3f5f",
           "arrowhead": 0,
           "arrowwidth": 1
          },
          "autotypenumbers": "strict",
          "coloraxis": {
           "colorbar": {
            "outlinewidth": 0,
            "ticks": ""
           }
          },
          "colorscale": {
           "diverging": [
            [
             0,
             "#8e0152"
            ],
            [
             0.1,
             "#c51b7d"
            ],
            [
             0.2,
             "#de77ae"
            ],
            [
             0.3,
             "#f1b6da"
            ],
            [
             0.4,
             "#fde0ef"
            ],
            [
             0.5,
             "#f7f7f7"
            ],
            [
             0.6,
             "#e6f5d0"
            ],
            [
             0.7,
             "#b8e186"
            ],
            [
             0.8,
             "#7fbc41"
            ],
            [
             0.9,
             "#4d9221"
            ],
            [
             1,
             "#276419"
            ]
           ],
           "sequential": [
            [
             0,
             "#0d0887"
            ],
            [
             0.1111111111111111,
             "#46039f"
            ],
            [
             0.2222222222222222,
             "#7201a8"
            ],
            [
             0.3333333333333333,
             "#9c179e"
            ],
            [
             0.4444444444444444,
             "#bd3786"
            ],
            [
             0.5555555555555556,
             "#d8576b"
            ],
            [
             0.6666666666666666,
             "#ed7953"
            ],
            [
             0.7777777777777778,
             "#fb9f3a"
            ],
            [
             0.8888888888888888,
             "#fdca26"
            ],
            [
             1,
             "#f0f921"
            ]
           ],
           "sequentialminus": [
            [
             0,
             "#0d0887"
            ],
            [
             0.1111111111111111,
             "#46039f"
            ],
            [
             0.2222222222222222,
             "#7201a8"
            ],
            [
             0.3333333333333333,
             "#9c179e"
            ],
            [
             0.4444444444444444,
             "#bd3786"
            ],
            [
             0.5555555555555556,
             "#d8576b"
            ],
            [
             0.6666666666666666,
             "#ed7953"
            ],
            [
             0.7777777777777778,
             "#fb9f3a"
            ],
            [
             0.8888888888888888,
             "#fdca26"
            ],
            [
             1,
             "#f0f921"
            ]
           ]
          },
          "colorway": [
           "#636efa",
           "#EF553B",
           "#00cc96",
           "#ab63fa",
           "#FFA15A",
           "#19d3f3",
           "#FF6692",
           "#B6E880",
           "#FF97FF",
           "#FECB52"
          ],
          "font": {
           "color": "#2a3f5f"
          },
          "geo": {
           "bgcolor": "white",
           "lakecolor": "white",
           "landcolor": "#E5ECF6",
           "showlakes": true,
           "showland": true,
           "subunitcolor": "white"
          },
          "hoverlabel": {
           "align": "left"
          },
          "hovermode": "closest",
          "mapbox": {
           "style": "light"
          },
          "paper_bgcolor": "white",
          "plot_bgcolor": "#E5ECF6",
          "polar": {
           "angularaxis": {
            "gridcolor": "white",
            "linecolor": "white",
            "ticks": ""
           },
           "bgcolor": "#E5ECF6",
           "radialaxis": {
            "gridcolor": "white",
            "linecolor": "white",
            "ticks": ""
           }
          },
          "scene": {
           "xaxis": {
            "backgroundcolor": "#E5ECF6",
            "gridcolor": "white",
            "gridwidth": 2,
            "linecolor": "white",
            "showbackground": true,
            "ticks": "",
            "zerolinecolor": "white"
           },
           "yaxis": {
            "backgroundcolor": "#E5ECF6",
            "gridcolor": "white",
            "gridwidth": 2,
            "linecolor": "white",
            "showbackground": true,
            "ticks": "",
            "zerolinecolor": "white"
           },
           "zaxis": {
            "backgroundcolor": "#E5ECF6",
            "gridcolor": "white",
            "gridwidth": 2,
            "linecolor": "white",
            "showbackground": true,
            "ticks": "",
            "zerolinecolor": "white"
           }
          },
          "shapedefaults": {
           "line": {
            "color": "#2a3f5f"
           }
          },
          "ternary": {
           "aaxis": {
            "gridcolor": "white",
            "linecolor": "white",
            "ticks": ""
           },
           "baxis": {
            "gridcolor": "white",
            "linecolor": "white",
            "ticks": ""
           },
           "bgcolor": "#E5ECF6",
           "caxis": {
            "gridcolor": "white",
            "linecolor": "white",
            "ticks": ""
           }
          },
          "title": {
           "x": 0.05
          },
          "xaxis": {
           "automargin": true,
           "gridcolor": "white",
           "linecolor": "white",
           "ticks": "",
           "title": {
            "standoff": 15
           },
           "zerolinecolor": "white",
           "zerolinewidth": 2
          },
          "yaxis": {
           "automargin": true,
           "gridcolor": "white",
           "linecolor": "white",
           "ticks": "",
           "title": {
            "standoff": 15
           },
           "zerolinecolor": "white",
           "zerolinewidth": 2
          }
         }
        },
        "xaxis": {
         "anchor": "y",
         "domain": [
          0,
          1
         ],
         "title": {
          "text": "x"
         }
        },
        "yaxis": {
         "anchor": "x",
         "domain": [
          0,
          1
         ],
         "title": {
          "text": "y"
         }
        }
       }
      }
     },
     "metadata": {},
     "output_type": "display_data"
    }
   ],
   "source": [
    "date_group\n",
    "time = date_group['date'].values.tolist()\n",
    "\n",
    "px.line(x=time,y=date_group['New_deaths'].cumsum())\n",
    "# In this case New Deaths is a cumulative number so we use function cumsum())"
   ]
  },
  {
   "cell_type": "markdown",
   "id": "f006d67c",
   "metadata": {
    "papermill": {
     "duration": 0.050828,
     "end_time": "2021-10-15T00:57:07.421562",
     "exception": false,
     "start_time": "2021-10-15T00:57:07.370734",
     "status": "completed"
    },
    "tags": []
   },
   "source": [
    "# Machine Learning ：SSSSSimple LinerRegression"
   ]
  },
  {
   "cell_type": "code",
   "execution_count": 25,
   "id": "74b32e54",
   "metadata": {
    "collapsed": false,
    "execution": {
     "iopub.execute_input": "2021-10-15T00:57:07.538533Z",
     "iopub.status.busy": "2021-10-15T00:57:07.537633Z",
     "iopub.status.idle": "2021-10-15T00:57:07.558816Z",
     "shell.execute_reply": "2021-10-15T00:57:07.558210Z",
     "shell.execute_reply.started": "2021-10-15T00:55:17.914398Z"
    },
    "jupyter": {
     "outputs_hidden": false
    },
    "papermill": {
     "duration": 0.086458,
     "end_time": "2021-10-15T00:57:07.558971",
     "exception": false,
     "start_time": "2021-10-15T00:57:07.472513",
     "status": "completed"
    },
    "pycharm": {
     "name": "#%%\n"
    },
    "tags": []
   },
   "outputs": [
    {
     "name": "stdout",
     "output_type": "stream",
     "text": [
      "Coefficients:  [[-0.46253682]]\n",
      "Intercept:  [9.98554033e-17]\n",
      "The prediction of New Deaths is :\n",
      " [[1786.43755105]\n",
      " [ 797.74419925]\n",
      " [ 672.2953259 ]\n",
      " [ 787.54672956]\n",
      " [ 707.04351546]\n",
      " [ 594.20544557]\n",
      " [ 812.00927589]\n",
      " [ 892.76273539]\n",
      " [1924.15686139]\n",
      " [ 804.84418051]\n",
      " [1830.28848304]\n",
      " [ 699.87543115]\n",
      " [1331.69082373]\n",
      " [ 729.91362302]\n",
      " [ 774.27180134]\n",
      " [ 721.93746503]\n",
      " [ 623.4098197 ]\n",
      " [1941.1430102 ]\n",
      " [ 679.28795577]\n",
      " [1064.36668375]\n",
      " [1017.44110635]\n",
      " [ 991.46784356]\n",
      " [1863.24713328]\n",
      " [ 738.58718978]\n",
      " [ 800.69482422]\n",
      " [1683.11182917]\n",
      " [1354.01957595]\n",
      " [1693.33659824]\n",
      " [ 857.5213042 ]\n",
      " [1882.7654361 ]\n",
      " [ 636.2182985 ]\n",
      " [ 654.95991144]\n",
      " [ 886.2161193 ]\n",
      " [1769.25060272]\n",
      " [ 756.22926069]\n",
      " [1086.36744449]\n",
      " [ 703.430835  ]\n",
      " [1918.84350489]\n",
      " [1021.07919275]\n",
      " [1121.18541414]\n",
      " [1157.55119144]\n",
      " [ 866.61535708]\n",
      " [1823.92800581]\n",
      " [ 849.14452094]\n",
      " [1870.03850379]\n",
      " [ 633.92410957]\n",
      " [ 900.28826772]\n",
      " [1438.58711051]\n",
      " [1112.16616575]\n",
      " [ 823.17564011]\n",
      " [1171.20729657]\n",
      " [ 726.01902934]\n",
      " [1536.48933843]\n",
      " [ 615.28435029]\n",
      " [1879.94094142]\n",
      " [1586.84036193]\n",
      " [ 954.39556221]\n",
      " [1385.45184149]\n",
      " [ 662.58603288]\n",
      " [1314.91826869]\n",
      " [ 795.41388616]\n",
      " [1747.17308996]\n",
      " [1468.0984792 ]\n",
      " [ 897.44238391]\n",
      " [1453.11592332]]\n"
     ]
    }
   ],
   "source": [
    "# define x,y\n",
    "x = df_usa[['ratio']]\n",
    "y = df_usa[['New_deaths']]\n",
    "\n",
    "# split\n",
    "x_train,x_test,y_train,y_test = train_test_split(x,y,test_size=0.25,random_state=42)\n",
    "\n",
    "# Standard Normalization(x)\n",
    "std_x = StandardScaler()\n",
    "x_train = std_x.fit_transform(x_train)\n",
    "x_test = std_x.fit_transform(x_test)\n",
    "\n",
    "# Standard Normalization(y)\n",
    "std_y = StandardScaler()\n",
    "y_train = std_y.fit_transform(y_train)\n",
    "y_test = std_y.fit_transform(y_test)\n",
    "\n",
    "# fitting in\n",
    "liner = LinearRegression()\n",
    "liner.fit(x_train,y_train)\n",
    "\n",
    "# coefficients\n",
    "print ('Coefficients: ', liner.coef_)\n",
    "print ('Intercept: ',liner.intercept_)\n",
    "\n",
    "# prediction\n",
    "y_pre = std_y.inverse_transform(liner.predict(x_test))# inverse to original value\n",
    "print('The prediction of New Deaths is :\\n',y_pre)"
   ]
  },
  {
   "cell_type": "markdown",
   "id": "0e54ea56",
   "metadata": {
    "papermill": {
     "duration": 0.05045,
     "end_time": "2021-10-15T00:57:07.661447",
     "exception": false,
     "start_time": "2021-10-15T00:57:07.610997",
     "status": "completed"
    },
    "tags": []
   },
   "source": [
    "## Plotting with regression line"
   ]
  },
  {
   "cell_type": "code",
   "execution_count": 26,
   "id": "8aabffe6",
   "metadata": {
    "collapsed": false,
    "execution": {
     "iopub.execute_input": "2021-10-15T00:57:07.790717Z",
     "iopub.status.busy": "2021-10-15T00:57:07.789873Z",
     "iopub.status.idle": "2021-10-15T00:57:08.143514Z",
     "shell.execute_reply": "2021-10-15T00:57:08.143941Z",
     "shell.execute_reply.started": "2021-10-15T00:55:17.948416Z"
    },
    "jupyter": {
     "outputs_hidden": false
    },
    "papermill": {
     "duration": 0.431301,
     "end_time": "2021-10-15T00:57:08.144098",
     "exception": false,
     "start_time": "2021-10-15T00:57:07.712797",
     "status": "completed"
    },
    "pycharm": {
     "name": "#%%\n"
    },
    "tags": []
   },
   "outputs": [
    {
     "data": {
      "text/plain": [
       "Text(0.5, 1.0, 'Liner Regression')"
      ]
     },
     "execution_count": 26,
     "metadata": {},
     "output_type": "execute_result"
    },
    {
     "data": {
      "image/png": "[encoded data removed]",
      "text/plain": [
       "<Figure size 1000x800 with 1 Axes>"
      ]
     },
     "metadata": {
      "needs_background": "light"
     },
     "output_type": "display_data"
    }
   ],
   "source": [
    "x = df_usa['ratio']\n",
    "y = df_usa['New_deaths']\n",
    "\n",
    "plt.figure(figsize=(10,8),dpi=100)\n",
    "sns.regplot(x=x, y=y)\n",
    "plt.xlabel('Ratio(USA)',fontsize=18)\n",
    "plt.ylabel('New Deaths',fontsize=18)\n",
    "plt.title('Liner Regression',fontsize=20)"
   ]
  },
  {
   "cell_type": "markdown",
   "id": "04e90733",
   "metadata": {
    "papermill": {
     "duration": 0.054854,
     "end_time": "2021-10-15T00:57:08.253678",
     "exception": false,
     "start_time": "2021-10-15T00:57:08.198824",
     "status": "completed"
    },
    "tags": []
   },
   "source": [
    "# Evaluation : Mean Squared Error(MSE)"
   ]
  },
  {
   "cell_type": "markdown",
   "id": "34025aaf",
   "metadata": {
    "papermill": {
     "duration": 0.052845,
     "end_time": "2021-10-15T00:57:08.368454",
     "exception": false,
     "start_time": "2021-10-15T00:57:08.315609",
     "status": "completed"
    },
    "tags": []
   },
   "source": [
    "$$\n",
    "M S E=\\frac{S S E}{n}=\\frac{1}{n} \\sum i=1^{m} w i(y i-\\hat{y i})^{2}\n",
    "$$"
   ]
  },
  {
   "cell_type": "markdown",
   "id": "d205eee3",
   "metadata": {
    "papermill": {
     "duration": 0.052885,
     "end_time": "2021-10-15T00:57:08.474851",
     "exception": false,
     "start_time": "2021-10-15T00:57:08.421966",
     "status": "completed"
    },
    "tags": []
   },
   "source": [
    "### The mean squared error (MSE)[1][2] or mean squared deviation (MSD) of an estimator (of a procedure for estimating an unobserved quantity) measures the average of the squares of the errors—that is, the average squared difference between the estimated values and the actual value. MSE is a risk function, corresponding to the expected value of the squared error loss. ---wiki"
   ]
  },
  {
   "cell_type": "code",
   "execution_count": 27,
   "id": "cba45dbb",
   "metadata": {
    "collapsed": false,
    "execution": {
     "iopub.execute_input": "2021-10-15T00:57:08.590157Z",
     "iopub.status.busy": "2021-10-15T00:57:08.588535Z",
     "iopub.status.idle": "2021-10-15T00:57:08.592550Z",
     "shell.execute_reply": "2021-10-15T00:57:08.591923Z",
     "shell.execute_reply.started": "2021-10-15T00:55:18.339896Z"
    },
    "jupyter": {
     "outputs_hidden": false
    },
    "papermill": {
     "duration": 0.064254,
     "end_time": "2021-10-15T00:57:08.592699",
     "exception": false,
     "start_time": "2021-10-15T00:57:08.528445",
     "status": "completed"
    },
    "pycharm": {
     "name": "#%%\n"
    },
    "tags": []
   },
   "outputs": [
    {
     "name": "stdout",
     "output_type": "stream",
     "text": [
      "The Mean Squared Error(MSE) of y_pre is : 660882.90377080114558339118957519531250000000000000000000\n"
     ]
    }
   ],
   "source": [
    "mse = mean_squared_error(std_y.inverse_transform(y_test),y_pre)\n",
    "\n",
    "# make sure the output not show with scientific notation\n",
    "def as_float(x):\n",
    "    y='{:.50f}'.format(x)\n",
    "    return  y\n",
    "\n",
    "print('The Mean Squared Error(MSE) of y_pre is :',as_float(mse))"
   ]
  },
  {
   "cell_type": "markdown",
   "id": "02da9340",
   "metadata": {
    "papermill": {
     "duration": 0.053658,
     "end_time": "2021-10-15T00:57:08.701943",
     "exception": false,
     "start_time": "2021-10-15T00:57:08.648285",
     "status": "completed"
    },
    "tags": []
   },
   "source": [
    "$$\n",
    "\\mathrm{MAE}=\\frac{\\sum_{i=1}^{n}\\left|y_{i}-x_{i}\\right|}{n}=\\frac{\\sum_{i=1}^{n}\\left|e_{i}\\right|}{n}\n",
    "$$"
   ]
  },
  {
   "cell_type": "markdown",
   "id": "f44e2a47",
   "metadata": {
    "papermill": {
     "duration": 0.054367,
     "end_time": "2021-10-15T00:57:08.810671",
     "exception": false,
     "start_time": "2021-10-15T00:57:08.756304",
     "status": "completed"
    },
    "tags": []
   },
   "source": [
    "### In statistics, mean absolute error (MAE) is a measure of errors between paired observations expressing the same phenomenon.---wiki"
   ]
  },
  {
   "cell_type": "code",
   "execution_count": 28,
   "id": "d29e92e6",
   "metadata": {
    "collapsed": false,
    "execution": {
     "iopub.execute_input": "2021-10-15T00:57:08.924865Z",
     "iopub.status.busy": "2021-10-15T00:57:08.924245Z",
     "iopub.status.idle": "2021-10-15T00:57:08.928748Z",
     "shell.execute_reply": "2021-10-15T00:57:08.928300Z",
     "shell.execute_reply.started": "2021-10-15T00:55:18.350805Z"
    },
    "jupyter": {
     "outputs_hidden": false
    },
    "papermill": {
     "duration": 0.063868,
     "end_time": "2021-10-15T00:57:08.928891",
     "exception": false,
     "start_time": "2021-10-15T00:57:08.865023",
     "status": "completed"
    },
    "pycharm": {
     "name": "#%%\n"
    },
    "tags": []
   },
   "outputs": [
    {
     "name": "stdout",
     "output_type": "stream",
     "text": [
      "The Mean Absolute Error(MAE) of y_pre is : 603.07769268033098342129960656166076660156250000000000\n"
     ]
    }
   ],
   "source": [
    "mae = mean_absolute_error(std_y.inverse_transform(y_test),y_pre)\n",
    "print('The Mean Absolute Error(MAE) of y_pre is :',as_float(mae))"
   ]
  },
  {
   "cell_type": "code",
   "execution_count": null,
   "id": "190cf4e2",
   "metadata": {
    "collapsed": false,
    "jupyter": {
     "outputs_hidden": false
    },
    "papermill": {
     "duration": 0.056789,
     "end_time": "2021-10-15T00:57:09.041735",
     "exception": false,
     "start_time": "2021-10-15T00:57:08.984946",
     "status": "completed"
    },
    "pycharm": {
     "name": "#%%\n"
    },
    "tags": []
   },
   "outputs": [],
   "source": []
  },
  {
   "cell_type": "code",
   "execution_count": null,
   "id": "6c80d413",
   "metadata": {
    "collapsed": false,
    "jupyter": {
     "outputs_hidden": false
    },
    "papermill": {
     "duration": 0.053885,
     "end_time": "2021-10-15T00:57:09.150120",
     "exception": false,
     "start_time": "2021-10-15T00:57:09.096235",
     "status": "completed"
    },
    "pycharm": {
     "name": "#%%\n"
    },
    "tags": []
   },
   "outputs": [],
   "source": []
  },
  {
   "cell_type": "code",
   "execution_count": null,
   "id": "ec1008d4",
   "metadata": {
    "collapsed": false,
    "jupyter": {
     "outputs_hidden": false
    },
    "papermill": {
     "duration": 0.054408,
     "end_time": "2021-10-15T00:57:09.258143",
     "exception": false,
     "start_time": "2021-10-15T00:57:09.203735",
     "status": "completed"
    },
    "pycharm": {
     "name": "#%%\n"
    },
    "tags": []
   },
   "outputs": [],
   "source": []
  },
  {
   "cell_type": "code",
   "execution_count": null,
   "id": "ea4b748d",
   "metadata": {
    "collapsed": false,
    "jupyter": {
     "outputs_hidden": false
    },
    "papermill": {
     "duration": 0.053975,
     "end_time": "2021-10-15T00:57:09.366329",
     "exception": false,
     "start_time": "2021-10-15T00:57:09.312354",
     "status": "completed"
    },
    "pycharm": {
     "name": "#%%\n"
    },
    "tags": []
   },
   "outputs": [],
   "source": []
  },
  {
   "cell_type": "code",
   "execution_count": null,
   "id": "0db27315",
   "metadata": {
    "collapsed": false,
    "jupyter": {
     "outputs_hidden": false
    },
    "papermill": {
     "duration": 0.057375,
     "end_time": "2021-10-15T00:57:09.477842",
     "exception": false,
     "start_time": "2021-10-15T00:57:09.420467",
     "status": "completed"
    },
    "pycharm": {
     "name": "#%%\n"
    },
    "tags": []
   },
   "outputs": [],
   "source": []
  }
 ],
 "metadata": {
  "kernelspec": {
   "display_name": "Python 3",
   "language": "python",
   "name": "python3"
  },
  "language_info": {
   "codemirror_mode": {
    "name": "ipython",
    "version": 3
   },
   "file_extension": ".py",
   "mimetype": "text/x-python",
   "name": "python",
   "nbconvert_exporter": "python",
   "pygments_lexer": "ipython3",
   "version": "3.8.8"
  },
  "papermill": {
   "default_parameters": {},
   "duration": 20.658684,
   "end_time": "2021-10-15T00:57:11.239896",
   "environment_variables": {},
   "exception": null,
   "input_path": "__notebook__.ipynb",
   "output_path": "__notebook__.ipynb",
   "parameters": {},
   "start_time": "2021-10-15T00:56:50.581212",
   "version": "2.3.3"
  }
 },
 "nbformat": 4,
 "nbformat_minor": 5
}
