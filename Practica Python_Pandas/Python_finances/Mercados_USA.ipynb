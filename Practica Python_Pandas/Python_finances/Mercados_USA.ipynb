{
 "cells": [
  {
   "cell_type": "markdown",
   "metadata": {},
   "source": [
    "# Principales mercados de acciones \n",
    "#moviemiento de los principales mercados de USA en los ultimos 6 meses\n",
    "#analizados con medias moviles de 20 y 50"
   ]
  },
  {
   "cell_type": "code",
   "execution_count": 1,
   "metadata": {},
   "outputs": [],
   "source": [
    "import numpy_financial as npf\n",
    "import pandas as pd\n",
    "import matplotlib.pyplot as plt\n",
    "import numpy as np\n",
    "import yfinance as yf\n",
    "import plotly.express as px\n",
    "import plotly.graph_objects as go"
   ]
  },
  {
   "cell_type": "markdown",
   "metadata": {},
   "source": [
    "# Obtener Datos"
   ]
  },
  {
   "cell_type": "code",
   "execution_count": 2,
   "metadata": {},
   "outputs": [],
   "source": [
    "datos = yf.Ticker('^DJI')"
   ]
  },
  {
   "cell_type": "code",
   "execution_count": 3,
   "metadata": {},
   "outputs": [],
   "source": [
    "Dow = datos.history(period='6mo')"
   ]
  },
  {
   "cell_type": "code",
   "execution_count": 4,
   "metadata": {},
   "outputs": [
    {
     "data": {
      "text/html": [
       "<div>\n",
       "<style scoped>\n",
       "    .dataframe tbody tr th:only-of-type {\n",
       "        vertical-align: middle;\n",
       "    }\n",
       "\n",
       "    .dataframe tbody tr th {\n",
       "        vertical-align: top;\n",
       "    }\n",
       "\n",
       "    .dataframe thead th {\n",
       "        text-align: right;\n",
       "    }\n",
       "</style>\n",
       "<table border=\"1\" class=\"dataframe\">\n",
       "  <thead>\n",
       "    <tr style=\"text-align: right;\">\n",
       "      <th></th>\n",
       "      <th>Open</th>\n",
       "      <th>High</th>\n",
       "      <th>Low</th>\n",
       "      <th>Close</th>\n",
       "      <th>Volume</th>\n",
       "      <th>Dividends</th>\n",
       "      <th>Stock Splits</th>\n",
       "    </tr>\n",
       "    <tr>\n",
       "      <th>Date</th>\n",
       "      <th></th>\n",
       "      <th></th>\n",
       "      <th></th>\n",
       "      <th></th>\n",
       "      <th></th>\n",
       "      <th></th>\n",
       "      <th></th>\n",
       "    </tr>\n",
       "  </thead>\n",
       "  <tbody>\n",
       "    <tr>\n",
       "      <th>2021-08-05</th>\n",
       "      <td>34815.609375</td>\n",
       "      <td>35067.539062</td>\n",
       "      <td>34815.609375</td>\n",
       "      <td>35064.250000</td>\n",
       "      <td>216580000</td>\n",
       "      <td>0</td>\n",
       "      <td>0</td>\n",
       "    </tr>\n",
       "    <tr>\n",
       "      <th>2021-08-06</th>\n",
       "      <td>35077.441406</td>\n",
       "      <td>35246.789062</td>\n",
       "      <td>35077.441406</td>\n",
       "      <td>35208.511719</td>\n",
       "      <td>231570000</td>\n",
       "      <td>0</td>\n",
       "      <td>0</td>\n",
       "    </tr>\n",
       "    <tr>\n",
       "      <th>2021-08-09</th>\n",
       "      <td>35229.671875</td>\n",
       "      <td>35229.671875</td>\n",
       "      <td>35041.238281</td>\n",
       "      <td>35101.851562</td>\n",
       "      <td>207850000</td>\n",
       "      <td>0</td>\n",
       "      <td>0</td>\n",
       "    </tr>\n",
       "    <tr>\n",
       "      <th>2021-08-10</th>\n",
       "      <td>35135.171875</td>\n",
       "      <td>35285.160156</td>\n",
       "      <td>35091.910156</td>\n",
       "      <td>35264.671875</td>\n",
       "      <td>255040000</td>\n",
       "      <td>0</td>\n",
       "      <td>0</td>\n",
       "    </tr>\n",
       "    <tr>\n",
       "      <th>2021-08-11</th>\n",
       "      <td>35300.890625</td>\n",
       "      <td>35501.160156</td>\n",
       "      <td>35300.890625</td>\n",
       "      <td>35484.968750</td>\n",
       "      <td>232800000</td>\n",
       "      <td>0</td>\n",
       "      <td>0</td>\n",
       "    </tr>\n",
       "  </tbody>\n",
       "</table>\n",
       "</div>"
      ],
      "text/plain": [
       "                    Open          High           Low         Close     Volume  \\\n",
       "Date                                                                            \n",
       "2021-08-05  34815.609375  35067.539062  34815.609375  35064.250000  216580000   \n",
       "2021-08-06  35077.441406  35246.789062  35077.441406  35208.511719  231570000   \n",
       "2021-08-09  35229.671875  35229.671875  35041.238281  35101.851562  207850000   \n",
       "2021-08-10  35135.171875  35285.160156  35091.910156  35264.671875  255040000   \n",
       "2021-08-11  35300.890625  35501.160156  35300.890625  35484.968750  232800000   \n",
       "\n",
       "            Dividends  Stock Splits  \n",
       "Date                                 \n",
       "2021-08-05          0             0  \n",
       "2021-08-06          0             0  \n",
       "2021-08-09          0             0  \n",
       "2021-08-10          0             0  \n",
       "2021-08-11          0             0  "
      ]
     },
     "execution_count": 4,
     "metadata": {},
     "output_type": "execute_result"
    }
   ],
   "source": [
    "Dow.head()"
   ]
  },
  {
   "cell_type": "code",
   "execution_count": 5,
   "metadata": {},
   "outputs": [],
   "source": [
    "Dow['MA_20'] = Dow.Close.rolling(20).mean()"
   ]
  },
  {
   "cell_type": "code",
   "execution_count": 6,
   "metadata": {},
   "outputs": [],
   "source": [
    "Dow['MA_50'] = Dow.Close.rolling(50).mean()"
   ]
  },
  {
   "cell_type": "code",
   "execution_count": 7,
   "metadata": {},
   "outputs": [
    {
     "name": "stdout",
     "output_type": "stream",
     "text": [
      "<class 'pandas.core.frame.DataFrame'>\n",
      "DatetimeIndex: 128 entries, 2021-08-05 to 2022-02-04\n",
      "Data columns (total 9 columns):\n",
      " #   Column        Non-Null Count  Dtype  \n",
      "---  ------        --------------  -----  \n",
      " 0   Open          128 non-null    float64\n",
      " 1   High          128 non-null    float64\n",
      " 2   Low           128 non-null    float64\n",
      " 3   Close         128 non-null    float64\n",
      " 4   Volume        128 non-null    int64  \n",
      " 5   Dividends     128 non-null    int64  \n",
      " 6   Stock Splits  128 non-null    int64  \n",
      " 7   MA_20         109 non-null    float64\n",
      " 8   MA_50         79 non-null     float64\n",
      "dtypes: float64(6), int64(3)\n",
      "memory usage: 10.0 KB\n"
     ]
    }
   ],
   "source": [
    "Dow.info()"
   ]
  },
  {
   "cell_type": "code",
   "execution_count": 8,
   "metadata": {},
   "outputs": [],
   "source": [
    "Dow['Fecha'] = Dow.index"
   ]
  },
  {
   "cell_type": "code",
   "execution_count": 9,
   "metadata": {},
   "outputs": [
    {
     "data": {
      "text/html": [
       "<div>\n",
       "<style scoped>\n",
       "    .dataframe tbody tr th:only-of-type {\n",
       "        vertical-align: middle;\n",
       "    }\n",
       "\n",
       "    .dataframe tbody tr th {\n",
       "        vertical-align: top;\n",
       "    }\n",
       "\n",
       "    .dataframe thead th {\n",
       "        text-align: right;\n",
       "    }\n",
       "</style>\n",
       "<table border=\"1\" class=\"dataframe\">\n",
       "  <thead>\n",
       "    <tr style=\"text-align: right;\">\n",
       "      <th></th>\n",
       "      <th>Open</th>\n",
       "      <th>High</th>\n",
       "      <th>Low</th>\n",
       "      <th>Close</th>\n",
       "      <th>Volume</th>\n",
       "      <th>Dividends</th>\n",
       "      <th>Stock Splits</th>\n",
       "      <th>MA_20</th>\n",
       "      <th>MA_50</th>\n",
       "      <th>Fecha</th>\n",
       "    </tr>\n",
       "    <tr>\n",
       "      <th>Date</th>\n",
       "      <th></th>\n",
       "      <th></th>\n",
       "      <th></th>\n",
       "      <th></th>\n",
       "      <th></th>\n",
       "      <th></th>\n",
       "      <th></th>\n",
       "      <th></th>\n",
       "      <th></th>\n",
       "      <th></th>\n",
       "    </tr>\n",
       "  </thead>\n",
       "  <tbody>\n",
       "    <tr>\n",
       "      <th>2021-08-05</th>\n",
       "      <td>34815.609375</td>\n",
       "      <td>35067.539062</td>\n",
       "      <td>34815.609375</td>\n",
       "      <td>35064.250000</td>\n",
       "      <td>216580000</td>\n",
       "      <td>0</td>\n",
       "      <td>0</td>\n",
       "      <td>NaN</td>\n",
       "      <td>NaN</td>\n",
       "      <td>2021-08-05</td>\n",
       "    </tr>\n",
       "    <tr>\n",
       "      <th>2021-08-06</th>\n",
       "      <td>35077.441406</td>\n",
       "      <td>35246.789062</td>\n",
       "      <td>35077.441406</td>\n",
       "      <td>35208.511719</td>\n",
       "      <td>231570000</td>\n",
       "      <td>0</td>\n",
       "      <td>0</td>\n",
       "      <td>NaN</td>\n",
       "      <td>NaN</td>\n",
       "      <td>2021-08-06</td>\n",
       "    </tr>\n",
       "    <tr>\n",
       "      <th>2021-08-09</th>\n",
       "      <td>35229.671875</td>\n",
       "      <td>35229.671875</td>\n",
       "      <td>35041.238281</td>\n",
       "      <td>35101.851562</td>\n",
       "      <td>207850000</td>\n",
       "      <td>0</td>\n",
       "      <td>0</td>\n",
       "      <td>NaN</td>\n",
       "      <td>NaN</td>\n",
       "      <td>2021-08-09</td>\n",
       "    </tr>\n",
       "    <tr>\n",
       "      <th>2021-08-10</th>\n",
       "      <td>35135.171875</td>\n",
       "      <td>35285.160156</td>\n",
       "      <td>35091.910156</td>\n",
       "      <td>35264.671875</td>\n",
       "      <td>255040000</td>\n",
       "      <td>0</td>\n",
       "      <td>0</td>\n",
       "      <td>NaN</td>\n",
       "      <td>NaN</td>\n",
       "      <td>2021-08-10</td>\n",
       "    </tr>\n",
       "    <tr>\n",
       "      <th>2021-08-11</th>\n",
       "      <td>35300.890625</td>\n",
       "      <td>35501.160156</td>\n",
       "      <td>35300.890625</td>\n",
       "      <td>35484.968750</td>\n",
       "      <td>232800000</td>\n",
       "      <td>0</td>\n",
       "      <td>0</td>\n",
       "      <td>NaN</td>\n",
       "      <td>NaN</td>\n",
       "      <td>2021-08-11</td>\n",
       "    </tr>\n",
       "  </tbody>\n",
       "</table>\n",
       "</div>"
      ],
      "text/plain": [
       "                    Open          High           Low         Close     Volume  \\\n",
       "Date                                                                            \n",
       "2021-08-05  34815.609375  35067.539062  34815.609375  35064.250000  216580000   \n",
       "2021-08-06  35077.441406  35246.789062  35077.441406  35208.511719  231570000   \n",
       "2021-08-09  35229.671875  35229.671875  35041.238281  35101.851562  207850000   \n",
       "2021-08-10  35135.171875  35285.160156  35091.910156  35264.671875  255040000   \n",
       "2021-08-11  35300.890625  35501.160156  35300.890625  35484.968750  232800000   \n",
       "\n",
       "            Dividends  Stock Splits  MA_20  MA_50      Fecha  \n",
       "Date                                                          \n",
       "2021-08-05          0             0    NaN    NaN 2021-08-05  \n",
       "2021-08-06          0             0    NaN    NaN 2021-08-06  \n",
       "2021-08-09          0             0    NaN    NaN 2021-08-09  \n",
       "2021-08-10          0             0    NaN    NaN 2021-08-10  \n",
       "2021-08-11          0             0    NaN    NaN 2021-08-11  "
      ]
     },
     "execution_count": 9,
     "metadata": {},
     "output_type": "execute_result"
    }
   ],
   "source": [
    "Dow.head()"
   ]
  },
  {
   "cell_type": "markdown",
   "metadata": {},
   "source": [
    "# Mostrar precios de cierre"
   ]
  },
  {
   "cell_type": "code",
   "execution_count": 10,
   "metadata": {},
   "outputs": [
    {
     "data": {
      "text/plain": [
       "Text(0, 0.5, 'Close Price')"
      ]
     },
     "execution_count": 10,
     "metadata": {},
     "output_type": "execute_result"
    },
    {
     "data": {
      "image/png": "[encoded data removed]",
      "text/plain": [
       "<Figure size 1280x720 with 1 Axes>"
      ]
     },
     "metadata": {
      "needs_background": "light"
     },
     "output_type": "display_data"
    }
   ],
   "source": [
    "plt.figure(figsize=(16,9),dpi=80)\n",
    "plt.plot(Dow.Close)\n",
    "plt.title('Dow Jones Close Prices', fontsize=16)\n",
    "plt.xlabel('Fecha')\n",
    "plt.ylabel('Close Price')"
   ]
  },
  {
   "cell_type": "markdown",
   "metadata": {},
   "source": [
    "# Graficar Medias Moviles"
   ]
  },
  {
   "cell_type": "code",
   "execution_count": 11,
   "metadata": {},
   "outputs": [
    {
     "data": {
      "text/plain": [
       "Text(0, 0.5, 'Close Price')"
      ]
     },
     "execution_count": 11,
     "metadata": {},
     "output_type": "execute_result"
    },
    {
     "data": {
      "image/png": "[encoded data removed]",
      "text/plain": [
       "<Figure size 1280x720 with 1 Axes>"
      ]
     },
     "metadata": {
      "needs_background": "light"
     },
     "output_type": "display_data"
    }
   ],
   "source": [
    "plt.figure(figsize=(16,9),dpi=80)\n",
    "plt.plot(Dow.Close)\n",
    "plt.plot(Dow.MA_20)\n",
    "plt.plot(Dow.MA_50)\n",
    "plt.title('Dow Jones Close Prices', fontsize=16)\n",
    "plt.xlabel('Fecha')\n",
    "plt.ylabel('Close Price')"
   ]
  },
  {
   "cell_type": "code",
   "execution_count": 12,
   "metadata": {},
   "outputs": [
    {
     "name": "stdout",
     "output_type": "stream",
     "text": [
      "[*********************100%***********************]  3 of 3 completed\n"
     ]
    }
   ],
   "source": [
    "Mercados = ['^DJI','^IXIC','^GSPC']\n",
    "data_mercados = yf.download(Mercados, period='6mo')"
   ]
  },
  {
   "cell_type": "code",
   "execution_count": 13,
   "metadata": {},
   "outputs": [
    {
     "data": {
      "text/plain": [
       "MultiIndex([('Adj Close',  '^DJI'),\n",
       "            ('Adj Close', '^GSPC'),\n",
       "            ('Adj Close', '^IXIC'),\n",
       "            (    'Close',  '^DJI'),\n",
       "            (    'Close', '^GSPC'),\n",
       "            (    'Close', '^IXIC'),\n",
       "            (     'High',  '^DJI'),\n",
       "            (     'High', '^GSPC'),\n",
       "            (     'High', '^IXIC'),\n",
       "            (      'Low',  '^DJI'),\n",
       "            (      'Low', '^GSPC'),\n",
       "            (      'Low', '^IXIC'),\n",
       "            (     'Open',  '^DJI'),\n",
       "            (     'Open', '^GSPC'),\n",
       "            (     'Open', '^IXIC'),\n",
       "            (   'Volume',  '^DJI'),\n",
       "            (   'Volume', '^GSPC'),\n",
       "            (   'Volume', '^IXIC')],\n",
       "           )"
      ]
     },
     "execution_count": 13,
     "metadata": {},
     "output_type": "execute_result"
    }
   ],
   "source": [
    "data_mercados.columns"
   ]
  },
  {
   "cell_type": "markdown",
   "metadata": {},
   "source": [
    "# Variables de medias moviles"
   ]
  },
  {
   "cell_type": "code",
   "execution_count": 14,
   "metadata": {},
   "outputs": [],
   "source": [
    "data_mercados['MA_20_DJ'] = data_mercados.Close['^DJI'].rolling(20).mean()\n",
    "data_mercados['MA_20_S&P'] = data_mercados.Close['^GSPC'].rolling(20).mean()\n",
    "data_mercados['MA_20_NASDAQ'] = data_mercados.Close['^IXIC'].rolling(20).mean()\n",
    "data_mercados['MA_50_DJ'] = data_mercados.Close['^DJI'].rolling(50).mean()\n",
    "data_mercados['MA_50_S&P'] = data_mercados.Close['^GSPC'].rolling(50).mean()\n",
    "data_mercados['MA_50_NASDAQ'] = data_mercados.Close['^IXIC'].rolling(50).mean()"
   ]
  },
  {
   "cell_type": "code",
   "execution_count": 15,
   "metadata": {},
   "outputs": [
    {
     "data": {
      "text/html": [
       "<div>\n",
       "<style scoped>\n",
       "    .dataframe tbody tr th:only-of-type {\n",
       "        vertical-align: middle;\n",
       "    }\n",
       "\n",
       "    .dataframe tbody tr th {\n",
       "        vertical-align: top;\n",
       "    }\n",
       "\n",
       "    .dataframe thead tr th {\n",
       "        text-align: left;\n",
       "    }\n",
       "\n",
       "    .dataframe thead tr:last-of-type th {\n",
       "        text-align: right;\n",
       "    }\n",
       "</style>\n",
       "<table border=\"1\" class=\"dataframe\">\n",
       "  <thead>\n",
       "    <tr>\n",
       "      <th></th>\n",
       "      <th colspan=\"3\" halign=\"left\">Adj Close</th>\n",
       "      <th colspan=\"3\" halign=\"left\">Close</th>\n",
       "      <th colspan=\"3\" halign=\"left\">High</th>\n",
       "      <th>Low</th>\n",
       "      <th>...</th>\n",
       "      <th>Open</th>\n",
       "      <th colspan=\"3\" halign=\"left\">Volume</th>\n",
       "      <th>MA_20_DJ</th>\n",
       "      <th>MA_20_S&amp;P</th>\n",
       "      <th>MA_20_NASDAQ</th>\n",
       "      <th>MA_50_DJ</th>\n",
       "      <th>MA_50_S&amp;P</th>\n",
       "      <th>MA_50_NASDAQ</th>\n",
       "    </tr>\n",
       "    <tr>\n",
       "      <th></th>\n",
       "      <th>^DJI</th>\n",
       "      <th>^GSPC</th>\n",
       "      <th>^IXIC</th>\n",
       "      <th>^DJI</th>\n",
       "      <th>^GSPC</th>\n",
       "      <th>^IXIC</th>\n",
       "      <th>^DJI</th>\n",
       "      <th>^GSPC</th>\n",
       "      <th>^IXIC</th>\n",
       "      <th>^DJI</th>\n",
       "      <th>...</th>\n",
       "      <th>^IXIC</th>\n",
       "      <th>^DJI</th>\n",
       "      <th>^GSPC</th>\n",
       "      <th>^IXIC</th>\n",
       "      <th></th>\n",
       "      <th></th>\n",
       "      <th></th>\n",
       "      <th></th>\n",
       "      <th></th>\n",
       "      <th></th>\n",
       "    </tr>\n",
       "    <tr>\n",
       "      <th>Date</th>\n",
       "      <th></th>\n",
       "      <th></th>\n",
       "      <th></th>\n",
       "      <th></th>\n",
       "      <th></th>\n",
       "      <th></th>\n",
       "      <th></th>\n",
       "      <th></th>\n",
       "      <th></th>\n",
       "      <th></th>\n",
       "      <th></th>\n",
       "      <th></th>\n",
       "      <th></th>\n",
       "      <th></th>\n",
       "      <th></th>\n",
       "      <th></th>\n",
       "      <th></th>\n",
       "      <th></th>\n",
       "      <th></th>\n",
       "      <th></th>\n",
       "      <th></th>\n",
       "    </tr>\n",
       "  </thead>\n",
       "  <tbody>\n",
       "    <tr>\n",
       "      <th>2021-08-05</th>\n",
       "      <td>35064.250000</td>\n",
       "      <td>4429.100098</td>\n",
       "      <td>14895.120117</td>\n",
       "      <td>35064.250000</td>\n",
       "      <td>4429.100098</td>\n",
       "      <td>14895.120117</td>\n",
       "      <td>35067.539062</td>\n",
       "      <td>4429.759766</td>\n",
       "      <td>14896.469727</td>\n",
       "      <td>34815.609375</td>\n",
       "      <td>...</td>\n",
       "      <td>14794.080078</td>\n",
       "      <td>216580000</td>\n",
       "      <td>2734220000</td>\n",
       "      <td>4087320000</td>\n",
       "      <td>NaN</td>\n",
       "      <td>NaN</td>\n",
       "      <td>NaN</td>\n",
       "      <td>NaN</td>\n",
       "      <td>NaN</td>\n",
       "      <td>NaN</td>\n",
       "    </tr>\n",
       "    <tr>\n",
       "      <th>2021-08-06</th>\n",
       "      <td>35208.511719</td>\n",
       "      <td>4436.520020</td>\n",
       "      <td>14835.759766</td>\n",
       "      <td>35208.511719</td>\n",
       "      <td>4436.520020</td>\n",
       "      <td>14835.759766</td>\n",
       "      <td>35246.789062</td>\n",
       "      <td>4440.819824</td>\n",
       "      <td>14890.179688</td>\n",
       "      <td>35077.441406</td>\n",
       "      <td>...</td>\n",
       "      <td>14864.219727</td>\n",
       "      <td>231570000</td>\n",
       "      <td>2839970000</td>\n",
       "      <td>4159050000</td>\n",
       "      <td>NaN</td>\n",
       "      <td>NaN</td>\n",
       "      <td>NaN</td>\n",
       "      <td>NaN</td>\n",
       "      <td>NaN</td>\n",
       "      <td>NaN</td>\n",
       "    </tr>\n",
       "    <tr>\n",
       "      <th>2021-08-09</th>\n",
       "      <td>35101.851562</td>\n",
       "      <td>4432.350098</td>\n",
       "      <td>14860.179688</td>\n",
       "      <td>35101.851562</td>\n",
       "      <td>4432.350098</td>\n",
       "      <td>14860.179688</td>\n",
       "      <td>35229.671875</td>\n",
       "      <td>4439.390137</td>\n",
       "      <td>14883.809570</td>\n",
       "      <td>35041.238281</td>\n",
       "      <td>...</td>\n",
       "      <td>14855.759766</td>\n",
       "      <td>207850000</td>\n",
       "      <td>2779880000</td>\n",
       "      <td>4095760000</td>\n",
       "      <td>NaN</td>\n",
       "      <td>NaN</td>\n",
       "      <td>NaN</td>\n",
       "      <td>NaN</td>\n",
       "      <td>NaN</td>\n",
       "      <td>NaN</td>\n",
       "    </tr>\n",
       "    <tr>\n",
       "      <th>2021-08-10</th>\n",
       "      <td>35264.671875</td>\n",
       "      <td>4436.750000</td>\n",
       "      <td>14788.089844</td>\n",
       "      <td>35264.671875</td>\n",
       "      <td>4436.750000</td>\n",
       "      <td>14788.089844</td>\n",
       "      <td>35285.160156</td>\n",
       "      <td>4445.209961</td>\n",
       "      <td>14894.610352</td>\n",
       "      <td>35091.910156</td>\n",
       "      <td>...</td>\n",
       "      <td>14887.750000</td>\n",
       "      <td>255040000</td>\n",
       "      <td>3219840000</td>\n",
       "      <td>3978790000</td>\n",
       "      <td>NaN</td>\n",
       "      <td>NaN</td>\n",
       "      <td>NaN</td>\n",
       "      <td>NaN</td>\n",
       "      <td>NaN</td>\n",
       "      <td>NaN</td>\n",
       "    </tr>\n",
       "    <tr>\n",
       "      <th>2021-08-11</th>\n",
       "      <td>35484.968750</td>\n",
       "      <td>4442.410156</td>\n",
       "      <td>14765.139648</td>\n",
       "      <td>35484.968750</td>\n",
       "      <td>4442.410156</td>\n",
       "      <td>14765.139648</td>\n",
       "      <td>35501.160156</td>\n",
       "      <td>4449.439941</td>\n",
       "      <td>14842.500000</td>\n",
       "      <td>35300.890625</td>\n",
       "      <td>...</td>\n",
       "      <td>14834.379883</td>\n",
       "      <td>232800000</td>\n",
       "      <td>2803060000</td>\n",
       "      <td>3980530000</td>\n",
       "      <td>NaN</td>\n",
       "      <td>NaN</td>\n",
       "      <td>NaN</td>\n",
       "      <td>NaN</td>\n",
       "      <td>NaN</td>\n",
       "      <td>NaN</td>\n",
       "    </tr>\n",
       "  </tbody>\n",
       "</table>\n",
       "<p>5 rows × 24 columns</p>\n",
       "</div>"
      ],
      "text/plain": [
       "               Adj Close                                    Close  \\\n",
       "                    ^DJI        ^GSPC         ^IXIC          ^DJI   \n",
       "Date                                                                \n",
       "2021-08-05  35064.250000  4429.100098  14895.120117  35064.250000   \n",
       "2021-08-06  35208.511719  4436.520020  14835.759766  35208.511719   \n",
       "2021-08-09  35101.851562  4432.350098  14860.179688  35101.851562   \n",
       "2021-08-10  35264.671875  4436.750000  14788.089844  35264.671875   \n",
       "2021-08-11  35484.968750  4442.410156  14765.139648  35484.968750   \n",
       "\n",
       "                                               High               \\\n",
       "                  ^GSPC         ^IXIC          ^DJI        ^GSPC   \n",
       "Date                                                               \n",
       "2021-08-05  4429.100098  14895.120117  35067.539062  4429.759766   \n",
       "2021-08-06  4436.520020  14835.759766  35246.789062  4440.819824   \n",
       "2021-08-09  4432.350098  14860.179688  35229.671875  4439.390137   \n",
       "2021-08-10  4436.750000  14788.089844  35285.160156  4445.209961   \n",
       "2021-08-11  4442.410156  14765.139648  35501.160156  4449.439941   \n",
       "\n",
       "                                   Low  ...          Open     Volume  \\\n",
       "                   ^IXIC          ^DJI  ...         ^IXIC       ^DJI   \n",
       "Date                                    ...                            \n",
       "2021-08-05  14896.469727  34815.609375  ...  14794.080078  216580000   \n",
       "2021-08-06  14890.179688  35077.441406  ...  14864.219727  231570000   \n",
       "2021-08-09  14883.809570  35041.238281  ...  14855.759766  207850000   \n",
       "2021-08-10  14894.610352  35091.910156  ...  14887.750000  255040000   \n",
       "2021-08-11  14842.500000  35300.890625  ...  14834.379883  232800000   \n",
       "\n",
       "                                   MA_20_DJ MA_20_S&P MA_20_NASDAQ MA_50_DJ  \\\n",
       "                 ^GSPC       ^IXIC                                            \n",
       "Date                                                                          \n",
       "2021-08-05  2734220000  4087320000      NaN       NaN          NaN      NaN   \n",
       "2021-08-06  2839970000  4159050000      NaN       NaN          NaN      NaN   \n",
       "2021-08-09  2779880000  4095760000      NaN       NaN          NaN      NaN   \n",
       "2021-08-10  3219840000  3978790000      NaN       NaN          NaN      NaN   \n",
       "2021-08-11  2803060000  3980530000      NaN       NaN          NaN      NaN   \n",
       "\n",
       "           MA_50_S&P MA_50_NASDAQ  \n",
       "                                   \n",
       "Date                               \n",
       "2021-08-05       NaN          NaN  \n",
       "2021-08-06       NaN          NaN  \n",
       "2021-08-09       NaN          NaN  \n",
       "2021-08-10       NaN          NaN  \n",
       "2021-08-11       NaN          NaN  \n",
       "\n",
       "[5 rows x 24 columns]"
      ]
     },
     "execution_count": 15,
     "metadata": {},
     "output_type": "execute_result"
    }
   ],
   "source": [
    "data_mercados.head()"
   ]
  },
  {
   "cell_type": "code",
   "execution_count": 16,
   "metadata": {},
   "outputs": [
    {
     "data": {
      "text/plain": [
       "<matplotlib.legend.Legend at 0x2c068a00730>"
      ]
     },
     "execution_count": 16,
     "metadata": {},
     "output_type": "execute_result"
    },
    {
     "data": {
      "image/png": "[encoded data removed]",
      "text/plain": [
       "<Figure size 960x480 with 1 Axes>"
      ]
     },
     "metadata": {
      "needs_background": "light"
     },
     "output_type": "display_data"
    }
   ],
   "source": [
    "plt.figure(figsize=(12,6),dpi=80)\n",
    "plt.plot(data_mercados.Close['^DJI'])\n",
    "plt.plot(data_mercados.MA_20_DJ, 'r--')\n",
    "plt.plot(data_mercados.MA_50_DJ, 'g--')\n",
    "plt.title('Dow Jones Close Prices', fontsize=16)\n",
    "plt.xlabel('Fecha')\n",
    "plt.ylabel('Close Price')\n",
    "plt.legend(['Price', 'MA 20', 'MA 50'])\n"
   ]
  },
  {
   "cell_type": "code",
   "execution_count": 17,
   "metadata": {},
   "outputs": [
    {
     "data": {
      "text/plain": [
       "<matplotlib.legend.Legend at 0x2c069fce910>"
      ]
     },
     "execution_count": 17,
     "metadata": {},
     "output_type": "execute_result"
    },
    {
     "data": {
      "image/png": "[encoded data removed]",
      "text/plain": [
       "<Figure size 960x480 with 1 Axes>"
      ]
     },
     "metadata": {
      "needs_background": "light"
     },
     "output_type": "display_data"
    }
   ],
   "source": [
    "plt.figure(figsize=(12,6),dpi=80)\n",
    "plt.plot(data_mercados.Close['^GSPC'])\n",
    "plt.plot(data_mercados['MA_20_S&P'], 'r--')\n",
    "plt.plot(data_mercados['MA_50_S&P'], 'g--')\n",
    "plt.title('S&P 500', fontsize=16)\n",
    "plt.xlabel('Fecha')\n",
    "plt.ylabel('Close Price')\n",
    "plt.legend(['Price', 'MA 20', 'MA 50'])"
   ]
  },
  {
   "cell_type": "code",
   "execution_count": 18,
   "metadata": {},
   "outputs": [
    {
     "data": {
      "text/plain": [
       "<matplotlib.legend.Legend at 0x2c068cdfa90>"
      ]
     },
     "execution_count": 18,
     "metadata": {},
     "output_type": "execute_result"
    },
    {
     "data": {
      "image/png": "[encoded data removed]",
      "text/plain": [
       "<Figure size 960x480 with 1 Axes>"
      ]
     },
     "metadata": {
      "needs_background": "light"
     },
     "output_type": "display_data"
    }
   ],
   "source": [
    "plt.figure(figsize=(12,6),dpi=80)\n",
    "plt.plot(data_mercados.Close['^IXIC'])\n",
    "plt.plot(data_mercados['MA_20_NASDAQ'], 'r--')\n",
    "plt.plot(data_mercados['MA_50_NASDAQ'], 'g--')\n",
    "plt.title('NASDAQ Close Prices', fontsize=16)\n",
    "plt.xlabel('Fecha')\n",
    "plt.ylabel('Close Price')\n",
    "plt.legend(['Price', 'MA 20', 'MA 50'])"
   ]
  },
  {
   "cell_type": "markdown",
   "metadata": {},
   "source": [
    "# Graficos en PLOTLY"
   ]
  },
  {
   "cell_type": "code",
   "execution_count": 19,
   "metadata": {},
   "outputs": [
    {
     "data": {
      "application/vnd.plotly.v1+json": {
       "config": {
        "plotlyServerURL": "https://plot.ly"
       },
       "data": [
        {
         "name": "Close Price",
         "type": "scatter",
         "x": [
          "2021-08-05T00:00:00",
          "2021-08-06T00:00:00",
          "2021-08-09T00:00:00",
          "2021-08-10T00:00:00",
          "2021-08-11T00:00:00",
          "2021-08-12T00:00:00",
          "2021-08-13T00:00:00",
          "2021-08-16T00:00:00",
          "2021-08-17T00:00:00",
          "2021-08-18T00:00:00",
          "2021-08-19T00:00:00",
          "2021-08-20T00:00:00",
          "2021-08-23T00:00:00",
          "2021-08-24T00:00:00",
          "2021-08-25T00:00:00",
          "2021-08-26T00:00:00",
          "2021-08-27T00:00:00",
          "2021-08-30T00:00:00",
          "2021-08-31T00:00:00",
          "2021-09-01T00:00:00",
          "2021-09-02T00:00:00",
          "2021-09-03T00:00:00",
          "2021-09-07T00:00:00",
          "2021-09-08T00:00:00",
          "2021-09-09T00:00:00",
          "2021-09-10T00:00:00",
          "2021-09-13T00:00:00",
          "2021-09-14T00:00:00",
          "2021-09-15T00:00:00",
          "2021-09-16T00:00:00",
          "2021-09-17T00:00:00",
          "2021-09-20T00:00:00",
          "2021-09-21T00:00:00",
          "2021-09-22T00:00:00",
          "2021-09-23T00:00:00",
          "2021-09-24T00:00:00",
          "2021-09-27T00:00:00",
          "2021-09-28T00:00:00",
          "2021-09-29T00:00:00",
          "2021-09-30T00:00:00",
          "2021-10-01T00:00:00",
          "2021-10-04T00:00:00",
          "2021-10-05T00:00:00",
          "2021-10-06T00:00:00",
          "2021-10-07T00:00:00",
          "2021-10-08T00:00:00",
          "2021-10-11T00:00:00",
          "2021-10-12T00:00:00",
          "2021-10-13T00:00:00",
          "2021-10-14T00:00:00",
          "2021-10-15T00:00:00",
          "2021-10-18T00:00:00",
          "2021-10-19T00:00:00",
          "2021-10-20T00:00:00",
          "2021-10-21T00:00:00",
          "2021-10-22T00:00:00",
          "2021-10-25T00:00:00",
          "2021-10-26T00:00:00",
          "2021-10-27T00:00:00",
          "2021-10-28T00:00:00",
          "2021-10-29T00:00:00",
          "2021-11-01T00:00:00",
          "2021-11-02T00:00:00",
          "2021-11-03T00:00:00",
          "2021-11-04T00:00:00",
          "2021-11-05T00:00:00",
          "2021-11-08T00:00:00",
          "2021-11-09T00:00:00",
          "2021-11-10T00:00:00",
          "2021-11-11T00:00:00",
          "2021-11-12T00:00:00",
          "2021-11-15T00:00:00",
          "2021-11-16T00:00:00",
          "2021-11-17T00:00:00",
          "2021-11-18T00:00:00",
          "2021-11-19T00:00:00",
          "2021-11-22T00:00:00",
          "2021-11-23T00:00:00",
          "2021-11-24T00:00:00",
          "2021-11-26T00:00:00",
          "2021-11-29T00:00:00",
          "2021-11-30T00:00:00",
          "2021-12-01T00:00:00",
          "2021-12-02T00:00:00",
          "2021-12-03T00:00:00",
          "2021-12-06T00:00:00",
          "2021-12-07T00:00:00",
          "2021-12-08T00:00:00",
          "2021-12-09T00:00:00",
          "2021-12-10T00:00:00",
          "2021-12-13T00:00:00",
          "2021-12-14T00:00:00",
          "2021-12-15T00:00:00",
          "2021-12-16T00:00:00",
          "2021-12-17T00:00:00",
          "2021-12-20T00:00:00",
          "2021-12-21T00:00:00",
          "2021-12-22T00:00:00",
          "2021-12-23T00:00:00",
          "2021-12-27T00:00:00",
          "2021-12-28T00:00:00",
          "2021-12-29T00:00:00",
          "2021-12-30T00:00:00",
          "2021-12-31T00:00:00",
          "2022-01-03T00:00:00",
          "2022-01-04T00:00:00",
          "2022-01-05T00:00:00",
          "2022-01-06T00:00:00",
          "2022-01-07T00:00:00",
          "2022-01-10T00:00:00",
          "2022-01-11T00:00:00",
          "2022-01-12T00:00:00",
          "2022-01-13T00:00:00",
          "2022-01-14T00:00:00",
          "2022-01-18T00:00:00",
          "2022-01-19T00:00:00",
          "2022-01-20T00:00:00",
          "2022-01-21T00:00:00",
          "2022-01-24T00:00:00",
          "2022-01-25T00:00:00",
          "2022-01-26T00:00:00",
          "2022-01-27T00:00:00",
          "2022-01-28T00:00:00",
          "2022-01-31T00:00:00",
          "2022-02-01T00:00:00",
          "2022-02-02T00:00:00",
          "2022-02-03T00:00:00",
          "2022-02-04T00:00:00"
         ],
         "y": [
          35064.25,
          35208.51171875,
          35101.8515625,
          35264.671875,
          35484.96875,
          35499.8515625,
          35515.37890625,
          35625.3984375,
          35343.28125,
          34960.69140625,
          34894.12109375,
          35120.078125,
          35335.7109375,
          35366.26171875,
          35405.5,
          35213.12109375,
          35455.80078125,
          35399.83984375,
          35360.73046875,
          35312.53125,
          35443.8203125,
          35369.08984375,
          35100,
          35031.0703125,
          34879.37890625,
          34607.71875,
          34869.62890625,
          34577.5703125,
          34814.390625,
          34751.3203125,
          34584.87890625,
          33970.46875,
          33919.83984375,
          34258.3203125,
          34764.8203125,
          34798,
          34869.37109375,
          34299.98828125,
          34390.71875,
          33843.921875,
          34326.4609375,
          34002.921875,
          34314.671875,
          34416.98828125,
          34754.94140625,
          34746.25,
          34496.05859375,
          34378.33984375,
          34377.80859375,
          34912.55859375,
          35294.76171875,
          35258.609375,
          35457.30859375,
          35609.33984375,
          35603.078125,
          35677.01953125,
          35741.1484375,
          35756.87890625,
          35490.69140625,
          35730.48046875,
          35819.55859375,
          35913.83984375,
          36052.62890625,
          36157.578125,
          36124.23046875,
          36327.94921875,
          36432.21875,
          36319.98046875,
          36079.94140625,
          35921.23046875,
          36100.30859375,
          36087.44921875,
          36142.21875,
          35931.05078125,
          35870.94921875,
          35601.98046875,
          35619.25,
          35813.80078125,
          35804.37890625,
          34899.33984375,
          35135.94140625,
          34483.71875,
          34022.0390625,
          34639.7890625,
          34580.078125,
          35227.03125,
          35719.4296875,
          35754.75,
          35754.69140625,
          35970.98828125,
          35650.94921875,
          35544.1796875,
          35927.4296875,
          35897.640625,
          35365.44140625,
          34932.16015625,
          35492.69921875,
          35753.890625,
          35950.55859375,
          36302.37890625,
          36398.2109375,
          36488.62890625,
          36398.078125,
          36338.30078125,
          36585.05859375,
          36799.6484375,
          36407.109375,
          36236.46875,
          36231.66015625,
          36068.87109375,
          36252.01953125,
          36290.3203125,
          36113.62109375,
          35911.80859375,
          35368.46875,
          35028.6484375,
          34715.390625,
          34265.37109375,
          34364.5,
          34297.73046875,
          34168.08984375,
          34160.78125,
          34725.46875,
          35131.859375,
          35405.23828125,
          35629.328125,
          35111.16015625,
          35089.73828125
         ]
        },
        {
         "name": "MA 20",
         "type": "scatter",
         "x": [
          "2021-08-05T00:00:00",
          "2021-08-06T00:00:00",
          "2021-08-09T00:00:00",
          "2021-08-10T00:00:00",
          "2021-08-11T00:00:00",
          "2021-08-12T00:00:00",
          "2021-08-13T00:00:00",
          "2021-08-16T00:00:00",
          "2021-08-17T00:00:00",
          "2021-08-18T00:00:00",
          "2021-08-19T00:00:00",
          "2021-08-20T00:00:00",
          "2021-08-23T00:00:00",
          "2021-08-24T00:00:00",
          "2021-08-25T00:00:00",
          "2021-08-26T00:00:00",
          "2021-08-27T00:00:00",
          "2021-08-30T00:00:00",
          "2021-08-31T00:00:00",
          "2021-09-01T00:00:00",
          "2021-09-02T00:00:00",
          "2021-09-03T00:00:00",
          "2021-09-07T00:00:00",
          "2021-09-08T00:00:00",
          "2021-09-09T00:00:00",
          "2021-09-10T00:00:00",
          "2021-09-13T00:00:00",
          "2021-09-14T00:00:00",
          "2021-09-15T00:00:00",
          "2021-09-16T00:00:00",
          "2021-09-17T00:00:00",
          "2021-09-20T00:00:00",
          "2021-09-21T00:00:00",
          "2021-09-22T00:00:00",
          "2021-09-23T00:00:00",
          "2021-09-24T00:00:00",
          "2021-09-27T00:00:00",
          "2021-09-28T00:00:00",
          "2021-09-29T00:00:00",
          "2021-09-30T00:00:00",
          "2021-10-01T00:00:00",
          "2021-10-04T00:00:00",
          "2021-10-05T00:00:00",
          "2021-10-06T00:00:00",
          "2021-10-07T00:00:00",
          "2021-10-08T00:00:00",
          "2021-10-11T00:00:00",
          "2021-10-12T00:00:00",
          "2021-10-13T00:00:00",
          "2021-10-14T00:00:00",
          "2021-10-15T00:00:00",
          "2021-10-18T00:00:00",
          "2021-10-19T00:00:00",
          "2021-10-20T00:00:00",
          "2021-10-21T00:00:00",
          "2021-10-22T00:00:00",
          "2021-10-25T00:00:00",
          "2021-10-26T00:00:00",
          "2021-10-27T00:00:00",
          "2021-10-28T00:00:00",
          "2021-10-29T00:00:00",
          "2021-11-01T00:00:00",
          "2021-11-02T00:00:00",
          "2021-11-03T00:00:00",
          "2021-11-04T00:00:00",
          "2021-11-05T00:00:00",
          "2021-11-08T00:00:00",
          "2021-11-09T00:00:00",
          "2021-11-10T00:00:00",
          "2021-11-11T00:00:00",
          "2021-11-12T00:00:00",
          "2021-11-15T00:00:00",
          "2021-11-16T00:00:00",
          "2021-11-17T00:00:00",
          "2021-11-18T00:00:00",
          "2021-11-19T00:00:00",
          "2021-11-22T00:00:00",
          "2021-11-23T00:00:00",
          "2021-11-24T00:00:00",
          "2021-11-26T00:00:00",
          "2021-11-29T00:00:00",
          "2021-11-30T00:00:00",
          "2021-12-01T00:00:00",
          "2021-12-02T00:00:00",
          "2021-12-03T00:00:00",
          "2021-12-06T00:00:00",
          "2021-12-07T00:00:00",
          "2021-12-08T00:00:00",
          "2021-12-09T00:00:00",
          "2021-12-10T00:00:00",
          "2021-12-13T00:00:00",
          "2021-12-14T00:00:00",
          "2021-12-15T00:00:00",
          "2021-12-16T00:00:00",
          "2021-12-17T00:00:00",
          "2021-12-20T00:00:00",
          "2021-12-21T00:00:00",
          "2021-12-22T00:00:00",
          "2021-12-23T00:00:00",
          "2021-12-27T00:00:00",
          "2021-12-28T00:00:00",
          "2021-12-29T00:00:00",
          "2021-12-30T00:00:00",
          "2021-12-31T00:00:00",
          "2022-01-03T00:00:00",
          "2022-01-04T00:00:00",
          "2022-01-05T00:00:00",
          "2022-01-06T00:00:00",
          "2022-01-07T00:00:00",
          "2022-01-10T00:00:00",
          "2022-01-11T00:00:00",
          "2022-01-12T00:00:00",
          "2022-01-13T00:00:00",
          "2022-01-14T00:00:00",
          "2022-01-18T00:00:00",
          "2022-01-19T00:00:00",
          "2022-01-20T00:00:00",
          "2022-01-21T00:00:00",
          "2022-01-24T00:00:00",
          "2022-01-25T00:00:00",
          "2022-01-26T00:00:00",
          "2022-01-27T00:00:00",
          "2022-01-28T00:00:00",
          "2022-01-31T00:00:00",
          "2022-02-01T00:00:00",
          "2022-02-02T00:00:00",
          "2022-02-03T00:00:00",
          "2022-02-04T00:00:00"
         ],
         "y": [
          null,
          null,
          null,
          null,
          null,
          null,
          null,
          null,
          null,
          null,
          null,
          null,
          null,
          null,
          null,
          null,
          null,
          null,
          null,
          35296.6275390625,
          35315.6060546875,
          35323.6349609375,
          35323.5423828125,
          35311.8623046875,
          35281.5828125,
          35236.976171875,
          35204.688671875,
          35152.297265625,
          35125.852734375,
          35115.3841796875,
          35099.9220703125,
          35042.4416015625,
          34971.648046875,
          34916.2509765625,
          34884.2169921875,
          34863.4609375,
          34834.139453125,
          34779.146875,
          34730.6462890625,
          34657.2158203125,
          34601.3478515625,
          34533.039453125,
          34493.773046875,
          34463.0689453125,
          34456.8470703125,
          34463.7736328125,
          34445.0951171875,
          34435.13359375,
          34413.3044921875,
          34421.36640625,
          34456.860546875,
          34521.267578125,
          34598.141015625,
          34665.6919921875,
          34707.6048828125,
          34751.555859375,
          34795.1447265625,
          34867.9892578125,
          34922.987890625,
          35017.3158203125,
          35091.970703125,
          35187.5166015625,
          35274.414453125,
          35361.4439453125,
          35429.9083984375,
          35508.993359375,
          35605.8013671875,
          35702.8833984375,
          35787.9900390625,
          35838.4236328125,
          35878.7009765625,
          35920.14296875,
          35954.3884765625,
          35970.4740234375,
          35983.867578125,
          35980.115625,
          35974.020703125,
          35976.866796875,
          35992.551171875,
          35950.994140625,
          35916.81328125,
          35845.3072265625,
          35743.777734375,
          35667.88828125,
          35590.6806640625,
          35535.634765625,
          35499.9953125,
          35471.7337890625,
          35455.4712890625,
          35457.9591796875,
          35435.4912109375,
          35408.327734375,
          35397.58828125,
          35395.9177734375,
          35370.6423828125,
          35337.1513671875,
          35330.823828125,
          35327.8283203125,
          35335.1373046875,
          35405.2892578125,
          35468.402734375,
          35568.6482421875,
          35687.4501953125,
          35772.37578125,
          35872.6248046875,
          35951.2556640625,
          35985.6396484375,
          36009.7255859375,
          36033.5740234375,
          36038.4681640625,
          36068.5216796875,
          36105.8287109375,
          36115.13828125,
          36115.8466796875,
          36115.998046875,
          36120.8224609375,
          36081.95703125,
          36007.5310546875,
          35928.228125,
          35827.995703125,
          35716.4896484375,
          35600.097265625,
          35516.466796875,
          35456.1447265625,
          35397.1537109375,
          35338.6376953125,
          35273.840234375,
          35216.5037109375
         ]
        },
        {
         "name": "MA 50",
         "type": "scatter",
         "x": [
          "2021-08-05T00:00:00",
          "2021-08-06T00:00:00",
          "2021-08-09T00:00:00",
          "2021-08-10T00:00:00",
          "2021-08-11T00:00:00",
          "2021-08-12T00:00:00",
          "2021-08-13T00:00:00",
          "2021-08-16T00:00:00",
          "2021-08-17T00:00:00",
          "2021-08-18T00:00:00",
          "2021-08-19T00:00:00",
          "2021-08-20T00:00:00",
          "2021-08-23T00:00:00",
          "2021-08-24T00:00:00",
          "2021-08-25T00:00:00",
          "2021-08-26T00:00:00",
          "2021-08-27T00:00:00",
          "2021-08-30T00:00:00",
          "2021-08-31T00:00:00",
          "2021-09-01T00:00:00",
          "2021-09-02T00:00:00",
          "2021-09-03T00:00:00",
          "2021-09-07T00:00:00",
          "2021-09-08T00:00:00",
          "2021-09-09T00:00:00",
          "2021-09-10T00:00:00",
          "2021-09-13T00:00:00",
          "2021-09-14T00:00:00",
          "2021-09-15T00:00:00",
          "2021-09-16T00:00:00",
          "2021-09-17T00:00:00",
          "2021-09-20T00:00:00",
          "2021-09-21T00:00:00",
          "2021-09-22T00:00:00",
          "2021-09-23T00:00:00",
          "2021-09-24T00:00:00",
          "2021-09-27T00:00:00",
          "2021-09-28T00:00:00",
          "2021-09-29T00:00:00",
          "2021-09-30T00:00:00",
          "2021-10-01T00:00:00",
          "2021-10-04T00:00:00",
          "2021-10-05T00:00:00",
          "2021-10-06T00:00:00",
          "2021-10-07T00:00:00",
          "2021-10-08T00:00:00",
          "2021-10-11T00:00:00",
          "2021-10-12T00:00:00",
          "2021-10-13T00:00:00",
          "2021-10-14T00:00:00",
          "2021-10-15T00:00:00",
          "2021-10-18T00:00:00",
          "2021-10-19T00:00:00",
          "2021-10-20T00:00:00",
          "2021-10-21T00:00:00",
          "2021-10-22T00:00:00",
          "2021-10-25T00:00:00",
          "2021-10-26T00:00:00",
          "2021-10-27T00:00:00",
          "2021-10-28T00:00:00",
          "2021-10-29T00:00:00",
          "2021-11-01T00:00:00",
          "2021-11-02T00:00:00",
          "2021-11-03T00:00:00",
          "2021-11-04T00:00:00",
          "2021-11-05T00:00:00",
          "2021-11-08T00:00:00",
          "2021-11-09T00:00:00",
          "2021-11-10T00:00:00",
          "2021-11-11T00:00:00",
          "2021-11-12T00:00:00",
          "2021-11-15T00:00:00",
          "2021-11-16T00:00:00",
          "2021-11-17T00:00:00",
          "2021-11-18T00:00:00",
          "2021-11-19T00:00:00",
          "2021-11-22T00:00:00",
          "2021-11-23T00:00:00",
          "2021-11-24T00:00:00",
          "2021-11-26T00:00:00",
          "2021-11-29T00:00:00",
          "2021-11-30T00:00:00",
          "2021-12-01T00:00:00",
          "2021-12-02T00:00:00",
          "2021-12-03T00:00:00",
          "2021-12-06T00:00:00",
          "2021-12-07T00:00:00",
          "2021-12-08T00:00:00",
          "2021-12-09T00:00:00",
          "2021-12-10T00:00:00",
          "2021-12-13T00:00:00",
          "2021-12-14T00:00:00",
          "2021-12-15T00:00:00",
          "2021-12-16T00:00:00",
          "2021-12-17T00:00:00",
          "2021-12-20T00:00:00",
          "2021-12-21T00:00:00",
          "2021-12-22T00:00:00",
          "2021-12-23T00:00:00",
          "2021-12-27T00:00:00",
          "2021-12-28T00:00:00",
          "2021-12-29T00:00:00",
          "2021-12-30T00:00:00",
          "2021-12-31T00:00:00",
          "2022-01-03T00:00:00",
          "2022-01-04T00:00:00",
          "2022-01-05T00:00:00",
          "2022-01-06T00:00:00",
          "2022-01-07T00:00:00",
          "2022-01-10T00:00:00",
          "2022-01-11T00:00:00",
          "2022-01-12T00:00:00",
          "2022-01-13T00:00:00",
          "2022-01-14T00:00:00",
          "2022-01-18T00:00:00",
          "2022-01-19T00:00:00",
          "2022-01-20T00:00:00",
          "2022-01-21T00:00:00",
          "2022-01-24T00:00:00",
          "2022-01-25T00:00:00",
          "2022-01-26T00:00:00",
          "2022-01-27T00:00:00",
          "2022-01-28T00:00:00",
          "2022-01-31T00:00:00",
          "2022-02-01T00:00:00",
          "2022-02-02T00:00:00",
          "2022-02-03T00:00:00",
          "2022-02-04T00:00:00"
         ],
         "y": [
          null,
          null,
          null,
          null,
          null,
          null,
          null,
          null,
          null,
          null,
          null,
          null,
          null,
          null,
          null,
          null,
          null,
          null,
          null,
          null,
          null,
          null,
          null,
          null,
          null,
          null,
          null,
          null,
          null,
          null,
          null,
          null,
          null,
          null,
          null,
          null,
          null,
          null,
          null,
          null,
          null,
          null,
          null,
          null,
          null,
          null,
          null,
          null,
          null,
          34876.07734375,
          34880.687578125,
          34881.68953125,
          34888.798671875,
          34895.69203125,
          34898.05421875,
          34901.597578125,
          34906.11296875,
          34908.742578125,
          34911.69078125,
          34927.0865625,
          34945.5953125,
          34961.470546875,
          34975.80890625,
          34991.635234375,
          35006.00984375,
          35028.30640625,
          35047.834765625,
          35066.237578125,
          35080.621796875,
          35092.79578125,
          35105.925546875,
          35120.292734375,
          35141.137109375,
          35159.13671875,
          35178.968125,
          35198.853359375,
          35213.84578125,
          35238.570390625,
          35258.37015625,
          35261.330546875,
          35272.351796875,
          35282.616796875,
          35284.66078125,
          35292.29015625,
          35288.5953125,
          35297.1759375,
          35314.177109375,
          35343.27234375,
          35370.551796875,
          35413.093125,
          35439.582890625,
          35470.408046875,
          35502.663203125,
          35532.27625,
          35544.48625,
          35548.204453125,
          35568.137265625,
          35595.64828125,
          35627.10328125,
          35654.8996875,
          35676.968671875,
          35701.5690625,
          35720.384453125,
          35734.963671875,
          35754.60328125,
          35777.055859375,
          35790.375078125,
          35799.966875,
          35814.78625,
          35821.5540625,
          35830.20328125,
          35837.732890625,
          35838.952734375,
          35834.03734375,
          35818.922109375,
          35792.93609375,
          35758.59953125,
          35717.50734375,
          35683.198515625,
          35650.728515625,
          35612.084140625,
          35573.55078125,
          35545.21578125,
          35529.231953125,
          35519.917734375,
          35520.4646875,
          35510.302890625,
          35495.821640625
         ]
        }
       ],
       "layout": {
        "template": {
         "data": {
          "bar": [
           {
            "error_x": {
             "color": "#2a3f5f"
            },
            "error_y": {
             "color": "#2a3f5f"
            },
            "marker": {
             "line": {
              "color": "#E5ECF6",
              "width": 0.5
             },
             "pattern": {
              "fillmode": "overlay",
              "size": 10,
              "solidity": 0.2
             }
            },
            "type": "bar"
           }
          ],
          "barpolar": [
           {
            "marker": {
             "line": {
              "color": "#E5ECF6",
              "width": 0.5
             },
             "pattern": {
              "fillmode": "overlay",
              "size": 10,
              "solidity": 0.2
             }
            },
            "type": "barpolar"
           }
          ],
          "carpet": [
           {
            "aaxis": {
             "endlinecolor": "#2a3f5f",
             "gridcolor": "white",
             "linecolor": "white",
             "minorgridcolor": "white",
             "startlinecolor": "#2a3f5f"
            },
            "baxis": {
             "endlinecolor": "#2a3f5f",
             "gridcolor": "white",
             "linecolor": "white",
             "minorgridcolor": "white",
             "startlinecolor": "#2a3f5f"
            },
            "type": "carpet"
           }
          ],
          "choropleth": [
           {
            "colorbar": {
             "outlinewidth": 0,
             "ticks": ""
            },
            "type": "choropleth"
           }
          ],
          "contour": [
           {
            "colorbar": {
             "outlinewidth": 0,
             "ticks": ""
            },
            "colorscale": [
             [
              0,
              "#0d0887"
             ],
             [
              0.1111111111111111,
              "#46039f"
             ],
             [
              0.2222222222222222,
              "#7201a8"
             ],
             [
              0.3333333333333333,
              "#9c179e"
             ],
             [
              0.4444444444444444,
              "#bd3786"
             ],
             [
              0.5555555555555556,
              "#d8576b"
             ],
             [
              0.6666666666666666,
              "#ed7953"
             ],
             [
              0.7777777777777778,
              "#fb9f3a"
             ],
             [
              0.8888888888888888,
              "#fdca26"
             ],
             [
              1,
              "#f0f921"
             ]
            ],
            "type": "contour"
           }
          ],
          "contourcarpet": [
           {
            "colorbar": {
             "outlinewidth": 0,
             "ticks": ""
            },
            "type": "contourcarpet"
           }
          ],
          "heatmap": [
           {
            "colorbar": {
             "outlinewidth": 0,
             "ticks": ""
            },
            "colorscale": [
             [
              0,
              "#0d0887"
             ],
             [
              0.1111111111111111,
              "#46039f"
             ],
             [
              0.2222222222222222,
              "#7201a8"
             ],
             [
              0.3333333333333333,
              "#9c179e"
             ],
             [
              0.4444444444444444,
              "#bd3786"
             ],
             [
              0.5555555555555556,
              "#d8576b"
             ],
             [
              0.6666666666666666,
              "#ed7953"
             ],
             [
              0.7777777777777778,
              "#fb9f3a"
             ],
             [
              0.8888888888888888,
              "#fdca26"
             ],
             [
              1,
              "#f0f921"
             ]
            ],
            "type": "heatmap"
           }
          ],
          "heatmapgl": [
           {
            "colorbar": {
             "outlinewidth": 0,
             "ticks": ""
            },
            "colorscale": [
             [
              0,
              "#0d0887"
             ],
             [
              0.1111111111111111,
              "#46039f"
             ],
             [
              0.2222222222222222,
              "#7201a8"
             ],
             [
              0.3333333333333333,
              "#9c179e"
             ],
             [
              0.4444444444444444,
              "#bd3786"
             ],
             [
              0.5555555555555556,
              "#d8576b"
             ],
             [
              0.6666666666666666,
              "#ed7953"
             ],
             [
              0.7777777777777778,
              "#fb9f3a"
             ],
             [
              0.8888888888888888,
              "#fdca26"
             ],
             [
              1,
              "#f0f921"
             ]
            ],
            "type": "heatmapgl"
           }
          ],
          "histogram": [
           {
            "marker": {
             "pattern": {
              "fillmode": "overlay",
              "size": 10,
              "solidity": 0.2
             }
            },
            "type": "histogram"
           }
          ],
          "histogram2d": [
           {
            "colorbar": {
             "outlinewidth": 0,
             "ticks": ""
            },
            "colorscale": [
             [
              0,
              "#0d0887"
             ],
             [
              0.1111111111111111,
              "#46039f"
             ],
             [
              0.2222222222222222,
              "#7201a8"
             ],
             [
              0.3333333333333333,
              "#9c179e"
             ],
             [
              0.4444444444444444,
              "#bd3786"
             ],
             [
              0.5555555555555556,
              "#d8576b"
             ],
             [
              0.6666666666666666,
              "#ed7953"
             ],
             [
              0.7777777777777778,
              "#fb9f3a"
             ],
             [
              0.8888888888888888,
              "#fdca26"
             ],
             [
              1,
              "#f0f921"
             ]
            ],
            "type": "histogram2d"
           }
          ],
          "histogram2dcontour": [
           {
            "colorbar": {
             "outlinewidth": 0,
             "ticks": ""
            },
            "colorscale": [
             [
              0,
              "#0d0887"
             ],
             [
              0.1111111111111111,
              "#46039f"
             ],
             [
              0.2222222222222222,
              "#7201a8"
             ],
             [
              0.3333333333333333,
              "#9c179e"
             ],
             [
              0.4444444444444444,
              "#bd3786"
             ],
             [
              0.5555555555555556,
              "#d8576b"
             ],
             [
              0.6666666666666666,
              "#ed7953"
             ],
             [
              0.7777777777777778,
              "#fb9f3a"
             ],
             [
              0.8888888888888888,
              "#fdca26"
             ],
             [
              1,
              "#f0f921"
             ]
            ],
            "type": "histogram2dcontour"
           }
          ],
          "mesh3d": [
           {
            "colorbar": {
             "outlinewidth": 0,
             "ticks": ""
            },
            "type": "mesh3d"
           }
          ],
          "parcoords": [
           {
            "line": {
             "colorbar": {
              "outlinewidth": 0,
              "ticks": ""
             }
            },
            "type": "parcoords"
           }
          ],
          "pie": [
           {
            "automargin": true,
            "type": "pie"
           }
          ],
          "scatter": [
           {
            "marker": {
             "colorbar": {
              "outlinewidth": 0,
              "ticks": ""
             }
            },
            "type": "scatter"
           }
          ],
          "scatter3d": [
           {
            "line": {
             "colorbar": {
              "outlinewidth": 0,
              "ticks": ""
             }
            },
            "marker": {
             "colorbar": {
              "outlinewidth": 0,
              "ticks": ""
             }
            },
            "type": "scatter3d"
           }
          ],
          "scattercarpet": [
           {
            "marker": {
             "colorbar": {
              "outlinewidth": 0,
              "ticks": ""
             }
            },
            "type": "scattercarpet"
           }
          ],
          "scattergeo": [
           {
            "marker": {
             "colorbar": {
              "outlinewidth": 0,
              "ticks": ""
             }
            },
            "type": "scattergeo"
           }
          ],
          "scattergl": [
           {
            "marker": {
             "colorbar": {
              "outlinewidth": 0,
              "ticks": ""
             }
            },
            "type": "scattergl"
           }
          ],
          "scattermapbox": [
           {
            "marker": {
             "colorbar": {
              "outlinewidth": 0,
              "ticks": ""
             }
            },
            "type": "scattermapbox"
           }
          ],
          "scatterpolar": [
           {
            "marker": {
             "colorbar": {
              "outlinewidth": 0,
              "ticks": ""
             }
            },
            "type": "scatterpolar"
           }
          ],
          "scatterpolargl": [
           {
            "marker": {
             "colorbar": {
              "outlinewidth": 0,
              "ticks": ""
             }
            },
            "type": "scatterpolargl"
           }
          ],
          "scatterternary": [
           {
            "marker": {
             "colorbar": {
              "outlinewidth": 0,
              "ticks": ""
             }
            },
            "type": "scatterternary"
           }
          ],
          "surface": [
           {
            "colorbar": {
             "outlinewidth": 0,
             "ticks": ""
            },
            "colorscale": [
             [
              0,
              "#0d0887"
             ],
             [
              0.1111111111111111,
              "#46039f"
             ],
             [
              0.2222222222222222,
              "#7201a8"
             ],
             [
              0.3333333333333333,
              "#9c179e"
             ],
             [
              0.4444444444444444,
              "#bd3786"
             ],
             [
              0.5555555555555556,
              "#d8576b"
             ],
             [
              0.6666666666666666,
              "#ed7953"
             ],
             [
              0.7777777777777778,
              "#fb9f3a"
             ],
             [
              0.8888888888888888,
              "#fdca26"
             ],
             [
              1,
              "#f0f921"
             ]
            ],
            "type": "surface"
           }
          ],
          "table": [
           {
            "cells": {
             "fill": {
              "color": "#EBF0F8"
             },
             "line": {
              "color": "white"
             }
            },
            "header": {
             "fill": {
              "color": "#C8D4E3"
             },
             "line": {
              "color": "white"
             }
            },
            "type": "table"
           }
          ]
         },
         "layout": {
          "annotationdefaults": {
           "arrowcolor": "#2a3f5f",
           "arrowhead": 0,
           "arrowwidth": 1
          },
          "autotypenumbers": "strict",
          "coloraxis": {
           "colorbar": {
            "outlinewidth": 0,
            "ticks": ""
           }
          },
          "colorscale": {
           "diverging": [
            [
             0,
             "#8e0152"
            ],
            [
             0.1,
             "#c51b7d"
            ],
            [
             0.2,
             "#de77ae"
            ],
            [
             0.3,
             "#f1b6da"
            ],
            [
             0.4,
             "#fde0ef"
            ],
            [
             0.5,
             "#f7f7f7"
            ],
            [
             0.6,
             "#e6f5d0"
            ],
            [
             0.7,
             "#b8e186"
            ],
            [
             0.8,
             "#7fbc41"
            ],
            [
             0.9,
             "#4d9221"
            ],
            [
             1,
             "#276419"
            ]
           ],
           "sequential": [
            [
             0,
             "#0d0887"
            ],
            [
             0.1111111111111111,
             "#46039f"
            ],
            [
             0.2222222222222222,
             "#7201a8"
            ],
            [
             0.3333333333333333,
             "#9c179e"
            ],
            [
             0.4444444444444444,
             "#bd3786"
            ],
            [
             0.5555555555555556,
             "#d8576b"
            ],
            [
             0.6666666666666666,
             "#ed7953"
            ],
            [
             0.7777777777777778,
             "#fb9f3a"
            ],
            [
             0.8888888888888888,
             "#fdca26"
            ],
            [
             1,
             "#f0f921"
            ]
           ],
           "sequentialminus": [
            [
             0,
             "#0d0887"
            ],
            [
             0.1111111111111111,
             "#46039f"
            ],
            [
             0.2222222222222222,
             "#7201a8"
            ],
            [
             0.3333333333333333,
             "#9c179e"
            ],
            [
             0.4444444444444444,
             "#bd3786"
            ],
            [
             0.5555555555555556,
             "#d8576b"
            ],
            [
             0.6666666666666666,
             "#ed7953"
            ],
            [
             0.7777777777777778,
             "#fb9f3a"
            ],
            [
             0.8888888888888888,
             "#fdca26"
            ],
            [
             1,
             "#f0f921"
            ]
           ]
          },
          "colorway": [
           "#636efa",
           "#EF553B",
           "#00cc96",
           "#ab63fa",
           "#FFA15A",
           "#19d3f3",
           "#FF6692",
           "#B6E880",
           "#FF97FF",
           "#FECB52"
          ],
          "font": {
           "color": "#2a3f5f"
          },
          "geo": {
           "bgcolor": "white",
           "lakecolor": "white",
           "landcolor": "#E5ECF6",
           "showlakes": true,
           "showland": true,
           "subunitcolor": "white"
          },
          "hoverlabel": {
           "align": "left"
          },
          "hovermode": "closest",
          "mapbox": {
           "style": "light"
          },
          "paper_bgcolor": "white",
          "plot_bgcolor": "#E5ECF6",
          "polar": {
           "angularaxis": {
            "gridcolor": "white",
            "linecolor": "white",
            "ticks": ""
           },
           "bgcolor": "#E5ECF6",
           "radialaxis": {
            "gridcolor": "white",
            "linecolor": "white",
            "ticks": ""
           }
          },
          "scene": {
           "xaxis": {
            "backgroundcolor": "#E5ECF6",
            "gridcolor": "white",
            "gridwidth": 2,
            "linecolor": "white",
            "showbackground": true,
            "ticks": "",
            "zerolinecolor": "white"
           },
           "yaxis": {
            "backgroundcolor": "#E5ECF6",
            "gridcolor": "white",
            "gridwidth": 2,
            "linecolor": "white",
            "showbackground": true,
            "ticks": "",
            "zerolinecolor": "white"
           },
           "zaxis": {
            "backgroundcolor": "#E5ECF6",
            "gridcolor": "white",
            "gridwidth": 2,
            "linecolor": "white",
            "showbackground": true,
            "ticks": "",
            "zerolinecolor": "white"
           }
          },
          "shapedefaults": {
           "line": {
            "color": "#2a3f5f"
           }
          },
          "ternary": {
           "aaxis": {
            "gridcolor": "white",
            "linecolor": "white",
            "ticks": ""
           },
           "baxis": {
            "gridcolor": "white",
            "linecolor": "white",
            "ticks": ""
           },
           "bgcolor": "#E5ECF6",
           "caxis": {
            "gridcolor": "white",
            "linecolor": "white",
            "ticks": ""
           }
          },
          "title": {
           "x": 0.05
          },
          "xaxis": {
           "automargin": true,
           "gridcolor": "white",
           "linecolor": "white",
           "ticks": "",
           "title": {
            "standoff": 15
           },
           "zerolinecolor": "white",
           "zerolinewidth": 2
          },
          "yaxis": {
           "automargin": true,
           "gridcolor": "white",
           "linecolor": "white",
           "ticks": "",
           "title": {
            "standoff": 15
           },
           "zerolinecolor": "white",
           "zerolinewidth": 2
          }
         }
        },
        "title": {
         "text": "Last 6 months - Dow Jones Industrial Average (^DJI)"
        },
        "xaxis": {
         "title": {
          "text": "Last 6 months"
         }
        },
        "yaxis": {
         "title": {
          "text": "Close price"
         }
        }
       }
      }
     },
     "metadata": {},
     "output_type": "display_data"
    }
   ],
   "source": [
    "fig = go.Figure()\n",
    "\n",
    "fig.add_trace(go.Scatter(x=Dow.index, y=Dow['Close'], name='Close Price'))\n",
    "fig.add_trace(go.Scatter(x=Dow.index, y=Dow['MA_20'], name='MA 20'))\n",
    "fig.add_trace(go.Scatter(x=Dow.index, y=Dow['MA_50'], name='MA 50'))\n",
    "fig.update_layout(title='Last 6 months - Dow Jones Industrial Average (^DJI)')\n",
    "fig.update_layout(xaxis_title='Last 6 months')\n",
    "fig.update_layout(yaxis_title='Close price')\n",
    "\n",
    "fig.show()"
   ]
  },
  {
   "cell_type": "code",
   "execution_count": 20,
   "metadata": {},
   "outputs": [],
   "source": [
    "from plotly.subplots import make_subplots"
   ]
  },
  {
   "cell_type": "code",
   "execution_count": 21,
   "metadata": {},
   "outputs": [
    {
     "data": {
      "application/vnd.plotly.v1+json": {
       "config": {
        "plotlyServerURL": "https://plot.ly"
       },
       "data": [
        {
         "name": "Close Price",
         "type": "scatter",
         "x": [
          "2021-08-05T00:00:00",
          "2021-08-06T00:00:00",
          "2021-08-09T00:00:00",
          "2021-08-10T00:00:00",
          "2021-08-11T00:00:00",
          "2021-08-12T00:00:00",
          "2021-08-13T00:00:00",
          "2021-08-16T00:00:00",
          "2021-08-17T00:00:00",
          "2021-08-18T00:00:00",
          "2021-08-19T00:00:00",
          "2021-08-20T00:00:00",
          "2021-08-23T00:00:00",
          "2021-08-24T00:00:00",
          "2021-08-25T00:00:00",
          "2021-08-26T00:00:00",
          "2021-08-27T00:00:00",
          "2021-08-30T00:00:00",
          "2021-08-31T00:00:00",
          "2021-09-01T00:00:00",
          "2021-09-02T00:00:00",
          "2021-09-03T00:00:00",
          "2021-09-07T00:00:00",
          "2021-09-08T00:00:00",
          "2021-09-09T00:00:00",
          "2021-09-10T00:00:00",
          "2021-09-13T00:00:00",
          "2021-09-14T00:00:00",
          "2021-09-15T00:00:00",
          "2021-09-16T00:00:00",
          "2021-09-17T00:00:00",
          "2021-09-20T00:00:00",
          "2021-09-21T00:00:00",
          "2021-09-22T00:00:00",
          "2021-09-23T00:00:00",
          "2021-09-24T00:00:00",
          "2021-09-27T00:00:00",
          "2021-09-28T00:00:00",
          "2021-09-29T00:00:00",
          "2021-09-30T00:00:00",
          "2021-10-01T00:00:00",
          "2021-10-04T00:00:00",
          "2021-10-05T00:00:00",
          "2021-10-06T00:00:00",
          "2021-10-07T00:00:00",
          "2021-10-08T00:00:00",
          "2021-10-11T00:00:00",
          "2021-10-12T00:00:00",
          "2021-10-13T00:00:00",
          "2021-10-14T00:00:00",
          "2021-10-15T00:00:00",
          "2021-10-18T00:00:00",
          "2021-10-19T00:00:00",
          "2021-10-20T00:00:00",
          "2021-10-21T00:00:00",
          "2021-10-22T00:00:00",
          "2021-10-25T00:00:00",
          "2021-10-26T00:00:00",
          "2021-10-27T00:00:00",
          "2021-10-28T00:00:00",
          "2021-10-29T00:00:00",
          "2021-11-01T00:00:00",
          "2021-11-02T00:00:00",
          "2021-11-03T00:00:00",
          "2021-11-04T00:00:00",
          "2021-11-05T00:00:00",
          "2021-11-08T00:00:00",
          "2021-11-09T00:00:00",
          "2021-11-10T00:00:00",
          "2021-11-11T00:00:00",
          "2021-11-12T00:00:00",
          "2021-11-15T00:00:00",
          "2021-11-16T00:00:00",
          "2021-11-17T00:00:00",
          "2021-11-18T00:00:00",
          "2021-11-19T00:00:00",
          "2021-11-22T00:00:00",
          "2021-11-23T00:00:00",
          "2021-11-24T00:00:00",
          "2021-11-26T00:00:00",
          "2021-11-29T00:00:00",
          "2021-11-30T00:00:00",
          "2021-12-01T00:00:00",
          "2021-12-02T00:00:00",
          "2021-12-03T00:00:00",
          "2021-12-06T00:00:00",
          "2021-12-07T00:00:00",
          "2021-12-08T00:00:00",
          "2021-12-09T00:00:00",
          "2021-12-10T00:00:00",
          "2021-12-13T00:00:00",
          "2021-12-14T00:00:00",
          "2021-12-15T00:00:00",
          "2021-12-16T00:00:00",
          "2021-12-17T00:00:00",
          "2021-12-20T00:00:00",
          "2021-12-21T00:00:00",
          "2021-12-22T00:00:00",
          "2021-12-23T00:00:00",
          "2021-12-27T00:00:00",
          "2021-12-28T00:00:00",
          "2021-12-29T00:00:00",
          "2021-12-30T00:00:00",
          "2021-12-31T00:00:00",
          "2022-01-03T00:00:00",
          "2022-01-04T00:00:00",
          "2022-01-05T00:00:00",
          "2022-01-06T00:00:00",
          "2022-01-07T00:00:00",
          "2022-01-10T00:00:00",
          "2022-01-11T00:00:00",
          "2022-01-12T00:00:00",
          "2022-01-13T00:00:00",
          "2022-01-14T00:00:00",
          "2022-01-18T00:00:00",
          "2022-01-19T00:00:00",
          "2022-01-20T00:00:00",
          "2022-01-21T00:00:00",
          "2022-01-24T00:00:00",
          "2022-01-25T00:00:00",
          "2022-01-26T00:00:00",
          "2022-01-27T00:00:00",
          "2022-01-28T00:00:00",
          "2022-01-31T00:00:00",
          "2022-02-01T00:00:00",
          "2022-02-02T00:00:00",
          "2022-02-03T00:00:00",
          "2022-02-04T00:00:00"
         ],
         "xaxis": "x",
         "y": [
          35064.25,
          35208.51171875,
          35101.8515625,
          35264.671875,
          35484.96875,
          35499.8515625,
          35515.37890625,
          35625.3984375,
          35343.28125,
          34960.69140625,
          34894.12109375,
          35120.078125,
          35335.7109375,
          35366.26171875,
          35405.5,
          35213.12109375,
          35455.80078125,
          35399.83984375,
          35360.73046875,
          35312.53125,
          35443.8203125,
          35369.08984375,
          35100,
          35031.0703125,
          34879.37890625,
          34607.71875,
          34869.62890625,
          34577.5703125,
          34814.390625,
          34751.3203125,
          34584.87890625,
          33970.46875,
          33919.83984375,
          34258.3203125,
          34764.8203125,
          34798,
          34869.37109375,
          34299.98828125,
          34390.71875,
          33843.921875,
          34326.4609375,
          34002.921875,
          34314.671875,
          34416.98828125,
          34754.94140625,
          34746.25,
          34496.05859375,
          34378.33984375,
          34377.80859375,
          34912.55859375,
          35294.76171875,
          35258.609375,
          35457.30859375,
          35609.33984375,
          35603.078125,
          35677.01953125,
          35741.1484375,
          35756.87890625,
          35490.69140625,
          35730.48046875,
          35819.55859375,
          35913.83984375,
          36052.62890625,
          36157.578125,
          36124.23046875,
          36327.94921875,
          36432.21875,
          36319.98046875,
          36079.94140625,
          35921.23046875,
          36100.30859375,
          36087.44921875,
          36142.21875,
          35931.05078125,
          35870.94921875,
          35601.98046875,
          35619.25,
          35813.80078125,
          35804.37890625,
          34899.33984375,
          35135.94140625,
          34483.71875,
          34022.0390625,
          34639.7890625,
          34580.078125,
          35227.03125,
          35719.4296875,
          35754.75,
          35754.69140625,
          35970.98828125,
          35650.94921875,
          35544.1796875,
          35927.4296875,
          35897.640625,
          35365.44140625,
          34932.16015625,
          35492.69921875,
          35753.890625,
          35950.55859375,
          36302.37890625,
          36398.2109375,
          36488.62890625,
          36398.078125,
          36338.30078125,
          36585.05859375,
          36799.6484375,
          36407.109375,
          36236.46875,
          36231.66015625,
          36068.87109375,
          36252.01953125,
          36290.3203125,
          36113.62109375,
          35911.80859375,
          35368.46875,
          35028.6484375,
          34715.390625,
          34265.37109375,
          34364.5,
          34297.73046875,
          34168.08984375,
          34160.78125,
          34725.46875,
          35131.859375,
          35405.23828125,
          35629.328125,
          35111.16015625,
          35089.73828125
         ],
         "yaxis": "y"
        },
        {
         "name": "MA 20 DJI",
         "type": "scatter",
         "x": [
          "2021-08-05T00:00:00",
          "2021-08-06T00:00:00",
          "2021-08-09T00:00:00",
          "2021-08-10T00:00:00",
          "2021-08-11T00:00:00",
          "2021-08-12T00:00:00",
          "2021-08-13T00:00:00",
          "2021-08-16T00:00:00",
          "2021-08-17T00:00:00",
          "2021-08-18T00:00:00",
          "2021-08-19T00:00:00",
          "2021-08-20T00:00:00",
          "2021-08-23T00:00:00",
          "2021-08-24T00:00:00",
          "2021-08-25T00:00:00",
          "2021-08-26T00:00:00",
          "2021-08-27T00:00:00",
          "2021-08-30T00:00:00",
          "2021-08-31T00:00:00",
          "2021-09-01T00:00:00",
          "2021-09-02T00:00:00",
          "2021-09-03T00:00:00",
          "2021-09-07T00:00:00",
          "2021-09-08T00:00:00",
          "2021-09-09T00:00:00",
          "2021-09-10T00:00:00",
          "2021-09-13T00:00:00",
          "2021-09-14T00:00:00",
          "2021-09-15T00:00:00",
          "2021-09-16T00:00:00",
          "2021-09-17T00:00:00",
          "2021-09-20T00:00:00",
          "2021-09-21T00:00:00",
          "2021-09-22T00:00:00",
          "2021-09-23T00:00:00",
          "2021-09-24T00:00:00",
          "2021-09-27T00:00:00",
          "2021-09-28T00:00:00",
          "2021-09-29T00:00:00",
          "2021-09-30T00:00:00",
          "2021-10-01T00:00:00",
          "2021-10-04T00:00:00",
          "2021-10-05T00:00:00",
          "2021-10-06T00:00:00",
          "2021-10-07T00:00:00",
          "2021-10-08T00:00:00",
          "2021-10-11T00:00:00",
          "2021-10-12T00:00:00",
          "2021-10-13T00:00:00",
          "2021-10-14T00:00:00",
          "2021-10-15T00:00:00",
          "2021-10-18T00:00:00",
          "2021-10-19T00:00:00",
          "2021-10-20T00:00:00",
          "2021-10-21T00:00:00",
          "2021-10-22T00:00:00",
          "2021-10-25T00:00:00",
          "2021-10-26T00:00:00",
          "2021-10-27T00:00:00",
          "2021-10-28T00:00:00",
          "2021-10-29T00:00:00",
          "2021-11-01T00:00:00",
          "2021-11-02T00:00:00",
          "2021-11-03T00:00:00",
          "2021-11-04T00:00:00",
          "2021-11-05T00:00:00",
          "2021-11-08T00:00:00",
          "2021-11-09T00:00:00",
          "2021-11-10T00:00:00",
          "2021-11-11T00:00:00",
          "2021-11-12T00:00:00",
          "2021-11-15T00:00:00",
          "2021-11-16T00:00:00",
          "2021-11-17T00:00:00",
          "2021-11-18T00:00:00",
          "2021-11-19T00:00:00",
          "2021-11-22T00:00:00",
          "2021-11-23T00:00:00",
          "2021-11-24T00:00:00",
          "2021-11-26T00:00:00",
          "2021-11-29T00:00:00",
          "2021-11-30T00:00:00",
          "2021-12-01T00:00:00",
          "2021-12-02T00:00:00",
          "2021-12-03T00:00:00",
          "2021-12-06T00:00:00",
          "2021-12-07T00:00:00",
          "2021-12-08T00:00:00",
          "2021-12-09T00:00:00",
          "2021-12-10T00:00:00",
          "2021-12-13T00:00:00",
          "2021-12-14T00:00:00",
          "2021-12-15T00:00:00",
          "2021-12-16T00:00:00",
          "2021-12-17T00:00:00",
          "2021-12-20T00:00:00",
          "2021-12-21T00:00:00",
          "2021-12-22T00:00:00",
          "2021-12-23T00:00:00",
          "2021-12-27T00:00:00",
          "2021-12-28T00:00:00",
          "2021-12-29T00:00:00",
          "2021-12-30T00:00:00",
          "2021-12-31T00:00:00",
          "2022-01-03T00:00:00",
          "2022-01-04T00:00:00",
          "2022-01-05T00:00:00",
          "2022-01-06T00:00:00",
          "2022-01-07T00:00:00",
          "2022-01-10T00:00:00",
          "2022-01-11T00:00:00",
          "2022-01-12T00:00:00",
          "2022-01-13T00:00:00",
          "2022-01-14T00:00:00",
          "2022-01-18T00:00:00",
          "2022-01-19T00:00:00",
          "2022-01-20T00:00:00",
          "2022-01-21T00:00:00",
          "2022-01-24T00:00:00",
          "2022-01-25T00:00:00",
          "2022-01-26T00:00:00",
          "2022-01-27T00:00:00",
          "2022-01-28T00:00:00",
          "2022-01-31T00:00:00",
          "2022-02-01T00:00:00",
          "2022-02-02T00:00:00",
          "2022-02-03T00:00:00",
          "2022-02-04T00:00:00"
         ],
         "xaxis": "x",
         "y": [
          null,
          null,
          null,
          null,
          null,
          null,
          null,
          null,
          null,
          null,
          null,
          null,
          null,
          null,
          null,
          null,
          null,
          null,
          null,
          35296.6275390625,
          35315.6060546875,
          35323.6349609375,
          35323.5423828125,
          35311.8623046875,
          35281.5828125,
          35236.976171875,
          35204.688671875,
          35152.297265625,
          35125.852734375,
          35115.3841796875,
          35099.9220703125,
          35042.4416015625,
          34971.648046875,
          34916.2509765625,
          34884.2169921875,
          34863.4609375,
          34834.139453125,
          34779.146875,
          34730.6462890625,
          34657.2158203125,
          34601.3478515625,
          34533.039453125,
          34493.773046875,
          34463.0689453125,
          34456.8470703125,
          34463.7736328125,
          34445.0951171875,
          34435.13359375,
          34413.3044921875,
          34421.36640625,
          34456.860546875,
          34521.267578125,
          34598.141015625,
          34665.6919921875,
          34707.6048828125,
          34751.555859375,
          34795.1447265625,
          34867.9892578125,
          34922.987890625,
          35017.3158203125,
          35091.970703125,
          35187.5166015625,
          35274.414453125,
          35361.4439453125,
          35429.9083984375,
          35508.993359375,
          35605.8013671875,
          35702.8833984375,
          35787.9900390625,
          35838.4236328125,
          35878.7009765625,
          35920.14296875,
          35954.3884765625,
          35970.4740234375,
          35983.867578125,
          35980.115625,
          35974.020703125,
          35976.866796875,
          35992.551171875,
          35950.994140625,
          35916.81328125,
          35845.3072265625,
          35743.777734375,
          35667.88828125,
          35590.6806640625,
          35535.634765625,
          35499.9953125,
          35471.7337890625,
          35455.4712890625,
          35457.9591796875,
          35435.4912109375,
          35408.327734375,
          35397.58828125,
          35395.9177734375,
          35370.6423828125,
          35337.1513671875,
          35330.823828125,
          35327.8283203125,
          35335.1373046875,
          35405.2892578125,
          35468.402734375,
          35568.6482421875,
          35687.4501953125,
          35772.37578125,
          35872.6248046875,
          35951.2556640625,
          35985.6396484375,
          36009.7255859375,
          36033.5740234375,
          36038.4681640625,
          36068.5216796875,
          36105.8287109375,
          36115.13828125,
          36115.8466796875,
          36115.998046875,
          36120.8224609375,
          36081.95703125,
          36007.5310546875,
          35928.228125,
          35827.995703125,
          35716.4896484375,
          35600.097265625,
          35516.466796875,
          35456.1447265625,
          35397.1537109375,
          35338.6376953125,
          35273.840234375,
          35216.5037109375
         ],
         "yaxis": "y"
        },
        {
         "name": "MA 50 DJI",
         "type": "scatter",
         "x": [
          "2021-08-05T00:00:00",
          "2021-08-06T00:00:00",
          "2021-08-09T00:00:00",
          "2021-08-10T00:00:00",
          "2021-08-11T00:00:00",
          "2021-08-12T00:00:00",
          "2021-08-13T00:00:00",
          "2021-08-16T00:00:00",
          "2021-08-17T00:00:00",
          "2021-08-18T00:00:00",
          "2021-08-19T00:00:00",
          "2021-08-20T00:00:00",
          "2021-08-23T00:00:00",
          "2021-08-24T00:00:00",
          "2021-08-25T00:00:00",
          "2021-08-26T00:00:00",
          "2021-08-27T00:00:00",
          "2021-08-30T00:00:00",
          "2021-08-31T00:00:00",
          "2021-09-01T00:00:00",
          "2021-09-02T00:00:00",
          "2021-09-03T00:00:00",
          "2021-09-07T00:00:00",
          "2021-09-08T00:00:00",
          "2021-09-09T00:00:00",
          "2021-09-10T00:00:00",
          "2021-09-13T00:00:00",
          "2021-09-14T00:00:00",
          "2021-09-15T00:00:00",
          "2021-09-16T00:00:00",
          "2021-09-17T00:00:00",
          "2021-09-20T00:00:00",
          "2021-09-21T00:00:00",
          "2021-09-22T00:00:00",
          "2021-09-23T00:00:00",
          "2021-09-24T00:00:00",
          "2021-09-27T00:00:00",
          "2021-09-28T00:00:00",
          "2021-09-29T00:00:00",
          "2021-09-30T00:00:00",
          "2021-10-01T00:00:00",
          "2021-10-04T00:00:00",
          "2021-10-05T00:00:00",
          "2021-10-06T00:00:00",
          "2021-10-07T00:00:00",
          "2021-10-08T00:00:00",
          "2021-10-11T00:00:00",
          "2021-10-12T00:00:00",
          "2021-10-13T00:00:00",
          "2021-10-14T00:00:00",
          "2021-10-15T00:00:00",
          "2021-10-18T00:00:00",
          "2021-10-19T00:00:00",
          "2021-10-20T00:00:00",
          "2021-10-21T00:00:00",
          "2021-10-22T00:00:00",
          "2021-10-25T00:00:00",
          "2021-10-26T00:00:00",
          "2021-10-27T00:00:00",
          "2021-10-28T00:00:00",
          "2021-10-29T00:00:00",
          "2021-11-01T00:00:00",
          "2021-11-02T00:00:00",
          "2021-11-03T00:00:00",
          "2021-11-04T00:00:00",
          "2021-11-05T00:00:00",
          "2021-11-08T00:00:00",
          "2021-11-09T00:00:00",
          "2021-11-10T00:00:00",
          "2021-11-11T00:00:00",
          "2021-11-12T00:00:00",
          "2021-11-15T00:00:00",
          "2021-11-16T00:00:00",
          "2021-11-17T00:00:00",
          "2021-11-18T00:00:00",
          "2021-11-19T00:00:00",
          "2021-11-22T00:00:00",
          "2021-11-23T00:00:00",
          "2021-11-24T00:00:00",
          "2021-11-26T00:00:00",
          "2021-11-29T00:00:00",
          "2021-11-30T00:00:00",
          "2021-12-01T00:00:00",
          "2021-12-02T00:00:00",
          "2021-12-03T00:00:00",
          "2021-12-06T00:00:00",
          "2021-12-07T00:00:00",
          "2021-12-08T00:00:00",
          "2021-12-09T00:00:00",
          "2021-12-10T00:00:00",
          "2021-12-13T00:00:00",
          "2021-12-14T00:00:00",
          "2021-12-15T00:00:00",
          "2021-12-16T00:00:00",
          "2021-12-17T00:00:00",
          "2021-12-20T00:00:00",
          "2021-12-21T00:00:00",
          "2021-12-22T00:00:00",
          "2021-12-23T00:00:00",
          "2021-12-27T00:00:00",
          "2021-12-28T00:00:00",
          "2021-12-29T00:00:00",
          "2021-12-30T00:00:00",
          "2021-12-31T00:00:00",
          "2022-01-03T00:00:00",
          "2022-01-04T00:00:00",
          "2022-01-05T00:00:00",
          "2022-01-06T00:00:00",
          "2022-01-07T00:00:00",
          "2022-01-10T00:00:00",
          "2022-01-11T00:00:00",
          "2022-01-12T00:00:00",
          "2022-01-13T00:00:00",
          "2022-01-14T00:00:00",
          "2022-01-18T00:00:00",
          "2022-01-19T00:00:00",
          "2022-01-20T00:00:00",
          "2022-01-21T00:00:00",
          "2022-01-24T00:00:00",
          "2022-01-25T00:00:00",
          "2022-01-26T00:00:00",
          "2022-01-27T00:00:00",
          "2022-01-28T00:00:00",
          "2022-01-31T00:00:00",
          "2022-02-01T00:00:00",
          "2022-02-02T00:00:00",
          "2022-02-03T00:00:00",
          "2022-02-04T00:00:00"
         ],
         "xaxis": "x",
         "y": [
          null,
          null,
          null,
          null,
          null,
          null,
          null,
          null,
          null,
          null,
          null,
          null,
          null,
          null,
          null,
          null,
          null,
          null,
          null,
          null,
          null,
          null,
          null,
          null,
          null,
          null,
          null,
          null,
          null,
          null,
          null,
          null,
          null,
          null,
          null,
          null,
          null,
          null,
          null,
          null,
          null,
          null,
          null,
          null,
          null,
          null,
          null,
          null,
          null,
          34876.07734375,
          34880.687578125,
          34881.68953125,
          34888.798671875,
          34895.69203125,
          34898.05421875,
          34901.597578125,
          34906.11296875,
          34908.742578125,
          34911.69078125,
          34927.0865625,
          34945.5953125,
          34961.470546875,
          34975.80890625,
          34991.635234375,
          35006.00984375,
          35028.30640625,
          35047.834765625,
          35066.237578125,
          35080.621796875,
          35092.79578125,
          35105.925546875,
          35120.292734375,
          35141.137109375,
          35159.13671875,
          35178.968125,
          35198.853359375,
          35213.84578125,
          35238.570390625,
          35258.37015625,
          35261.330546875,
          35272.351796875,
          35282.616796875,
          35284.66078125,
          35292.29015625,
          35288.5953125,
          35297.1759375,
          35314.177109375,
          35343.27234375,
          35370.551796875,
          35413.093125,
          35439.582890625,
          35470.408046875,
          35502.663203125,
          35532.27625,
          35544.48625,
          35548.204453125,
          35568.137265625,
          35595.64828125,
          35627.10328125,
          35654.8996875,
          35676.968671875,
          35701.5690625,
          35720.384453125,
          35734.963671875,
          35754.60328125,
          35777.055859375,
          35790.375078125,
          35799.966875,
          35814.78625,
          35821.5540625,
          35830.20328125,
          35837.732890625,
          35838.952734375,
          35834.03734375,
          35818.922109375,
          35792.93609375,
          35758.59953125,
          35717.50734375,
          35683.198515625,
          35650.728515625,
          35612.084140625,
          35573.55078125,
          35545.21578125,
          35529.231953125,
          35519.917734375,
          35520.4646875,
          35510.302890625,
          35495.821640625
         ],
         "yaxis": "y"
        },
        {
         "name": "Close Price",
         "type": "scatter",
         "x": [
          "2021-08-05T00:00:00",
          "2021-08-06T00:00:00",
          "2021-08-09T00:00:00",
          "2021-08-10T00:00:00",
          "2021-08-11T00:00:00",
          "2021-08-12T00:00:00",
          "2021-08-13T00:00:00",
          "2021-08-16T00:00:00",
          "2021-08-17T00:00:00",
          "2021-08-18T00:00:00",
          "2021-08-19T00:00:00",
          "2021-08-20T00:00:00",
          "2021-08-23T00:00:00",
          "2021-08-24T00:00:00",
          "2021-08-25T00:00:00",
          "2021-08-26T00:00:00",
          "2021-08-27T00:00:00",
          "2021-08-30T00:00:00",
          "2021-08-31T00:00:00",
          "2021-09-01T00:00:00",
          "2021-09-02T00:00:00",
          "2021-09-03T00:00:00",
          "2021-09-07T00:00:00",
          "2021-09-08T00:00:00",
          "2021-09-09T00:00:00",
          "2021-09-10T00:00:00",
          "2021-09-13T00:00:00",
          "2021-09-14T00:00:00",
          "2021-09-15T00:00:00",
          "2021-09-16T00:00:00",
          "2021-09-17T00:00:00",
          "2021-09-20T00:00:00",
          "2021-09-21T00:00:00",
          "2021-09-22T00:00:00",
          "2021-09-23T00:00:00",
          "2021-09-24T00:00:00",
          "2021-09-27T00:00:00",
          "2021-09-28T00:00:00",
          "2021-09-29T00:00:00",
          "2021-09-30T00:00:00",
          "2021-10-01T00:00:00",
          "2021-10-04T00:00:00",
          "2021-10-05T00:00:00",
          "2021-10-06T00:00:00",
          "2021-10-07T00:00:00",
          "2021-10-08T00:00:00",
          "2021-10-11T00:00:00",
          "2021-10-12T00:00:00",
          "2021-10-13T00:00:00",
          "2021-10-14T00:00:00",
          "2021-10-15T00:00:00",
          "2021-10-18T00:00:00",
          "2021-10-19T00:00:00",
          "2021-10-20T00:00:00",
          "2021-10-21T00:00:00",
          "2021-10-22T00:00:00",
          "2021-10-25T00:00:00",
          "2021-10-26T00:00:00",
          "2021-10-27T00:00:00",
          "2021-10-28T00:00:00",
          "2021-10-29T00:00:00",
          "2021-11-01T00:00:00",
          "2021-11-02T00:00:00",
          "2021-11-03T00:00:00",
          "2021-11-04T00:00:00",
          "2021-11-05T00:00:00",
          "2021-11-08T00:00:00",
          "2021-11-09T00:00:00",
          "2021-11-10T00:00:00",
          "2021-11-11T00:00:00",
          "2021-11-12T00:00:00",
          "2021-11-15T00:00:00",
          "2021-11-16T00:00:00",
          "2021-11-17T00:00:00",
          "2021-11-18T00:00:00",
          "2021-11-19T00:00:00",
          "2021-11-22T00:00:00",
          "2021-11-23T00:00:00",
          "2021-11-24T00:00:00",
          "2021-11-26T00:00:00",
          "2021-11-29T00:00:00",
          "2021-11-30T00:00:00",
          "2021-12-01T00:00:00",
          "2021-12-02T00:00:00",
          "2021-12-03T00:00:00",
          "2021-12-06T00:00:00",
          "2021-12-07T00:00:00",
          "2021-12-08T00:00:00",
          "2021-12-09T00:00:00",
          "2021-12-10T00:00:00",
          "2021-12-13T00:00:00",
          "2021-12-14T00:00:00",
          "2021-12-15T00:00:00",
          "2021-12-16T00:00:00",
          "2021-12-17T00:00:00",
          "2021-12-20T00:00:00",
          "2021-12-21T00:00:00",
          "2021-12-22T00:00:00",
          "2021-12-23T00:00:00",
          "2021-12-27T00:00:00",
          "2021-12-28T00:00:00",
          "2021-12-29T00:00:00",
          "2021-12-30T00:00:00",
          "2021-12-31T00:00:00",
          "2022-01-03T00:00:00",
          "2022-01-04T00:00:00",
          "2022-01-05T00:00:00",
          "2022-01-06T00:00:00",
          "2022-01-07T00:00:00",
          "2022-01-10T00:00:00",
          "2022-01-11T00:00:00",
          "2022-01-12T00:00:00",
          "2022-01-13T00:00:00",
          "2022-01-14T00:00:00",
          "2022-01-18T00:00:00",
          "2022-01-19T00:00:00",
          "2022-01-20T00:00:00",
          "2022-01-21T00:00:00",
          "2022-01-24T00:00:00",
          "2022-01-25T00:00:00",
          "2022-01-26T00:00:00",
          "2022-01-27T00:00:00",
          "2022-01-28T00:00:00",
          "2022-01-31T00:00:00",
          "2022-02-01T00:00:00",
          "2022-02-02T00:00:00",
          "2022-02-03T00:00:00",
          "2022-02-04T00:00:00"
         ],
         "xaxis": "x2",
         "y": [
          4429.10009765625,
          4436.52001953125,
          4432.35009765625,
          4436.75,
          4442.41015625,
          4460.830078125,
          4468,
          4479.7099609375,
          4448.080078125,
          4400.27001953125,
          4405.7998046875,
          4441.669921875,
          4479.52978515625,
          4486.22998046875,
          4496.18994140625,
          4470,
          4509.3701171875,
          4528.7900390625,
          4522.68017578125,
          4524.08984375,
          4536.9501953125,
          4535.43017578125,
          4520.02978515625,
          4514.06982421875,
          4493.27978515625,
          4458.580078125,
          4468.72998046875,
          4443.0498046875,
          4480.7001953125,
          4473.75,
          4432.990234375,
          4357.72998046875,
          4354.18994140625,
          4395.64013671875,
          4448.97998046875,
          4455.47998046875,
          4443.10986328125,
          4352.6298828125,
          4359.4599609375,
          4307.5400390625,
          4357.0400390625,
          4300.4599609375,
          4345.72021484375,
          4363.5498046875,
          4399.759765625,
          4391.33984375,
          4361.18994140625,
          4350.64990234375,
          4363.7998046875,
          4438.259765625,
          4471.3701171875,
          4486.4599609375,
          4519.6298828125,
          4536.18994140625,
          4549.77978515625,
          4544.89990234375,
          4566.47998046875,
          4574.7900390625,
          4551.68017578125,
          4596.419921875,
          4605.3798828125,
          4613.669921875,
          4630.64990234375,
          4660.56982421875,
          4680.06005859375,
          4697.52978515625,
          4701.7001953125,
          4685.25,
          4646.7099609375,
          4649.27001953125,
          4682.85009765625,
          4682.7998046875,
          4700.89990234375,
          4688.669921875,
          4704.5400390625,
          4697.9599609375,
          4682.93994140625,
          4690.7001953125,
          4701.4599609375,
          4594.6201171875,
          4655.27001953125,
          4567,
          4513.0400390625,
          4577.10009765625,
          4538.43017578125,
          4591.669921875,
          4686.75,
          4701.2099609375,
          4667.4501953125,
          4712.02001953125,
          4668.97021484375,
          4634.08984375,
          4709.85009765625,
          4668.669921875,
          4620.64013671875,
          4568.02001953125,
          4649.22998046875,
          4696.56005859375,
          4725.7900390625,
          4791.18994140625,
          4786.35009765625,
          4793.06005859375,
          4778.72998046875,
          4766.18017578125,
          4796.56005859375,
          4793.5400390625,
          4700.580078125,
          4696.0498046875,
          4677.02978515625,
          4670.2900390625,
          4713.06982421875,
          4726.35009765625,
          4659.02978515625,
          4662.85009765625,
          4577.10986328125,
          4532.759765625,
          4482.72998046875,
          4397.93994140625,
          4410.1298828125,
          4356.4501953125,
          4349.93017578125,
          4326.509765625,
          4431.85009765625,
          4515.5498046875,
          4546.5400390625,
          4589.3798828125,
          4477.43994140625,
          4500.52978515625
         ],
         "yaxis": "y2"
        },
        {
         "name": "MA 20 S&P",
         "type": "scatter",
         "x": [
          "2021-08-05T00:00:00",
          "2021-08-06T00:00:00",
          "2021-08-09T00:00:00",
          "2021-08-10T00:00:00",
          "2021-08-11T00:00:00",
          "2021-08-12T00:00:00",
          "2021-08-13T00:00:00",
          "2021-08-16T00:00:00",
          "2021-08-17T00:00:00",
          "2021-08-18T00:00:00",
          "2021-08-19T00:00:00",
          "2021-08-20T00:00:00",
          "2021-08-23T00:00:00",
          "2021-08-24T00:00:00",
          "2021-08-25T00:00:00",
          "2021-08-26T00:00:00",
          "2021-08-27T00:00:00",
          "2021-08-30T00:00:00",
          "2021-08-31T00:00:00",
          "2021-09-01T00:00:00",
          "2021-09-02T00:00:00",
          "2021-09-03T00:00:00",
          "2021-09-07T00:00:00",
          "2021-09-08T00:00:00",
          "2021-09-09T00:00:00",
          "2021-09-10T00:00:00",
          "2021-09-13T00:00:00",
          "2021-09-14T00:00:00",
          "2021-09-15T00:00:00",
          "2021-09-16T00:00:00",
          "2021-09-17T00:00:00",
          "2021-09-20T00:00:00",
          "2021-09-21T00:00:00",
          "2021-09-22T00:00:00",
          "2021-09-23T00:00:00",
          "2021-09-24T00:00:00",
          "2021-09-27T00:00:00",
          "2021-09-28T00:00:00",
          "2021-09-29T00:00:00",
          "2021-09-30T00:00:00",
          "2021-10-01T00:00:00",
          "2021-10-04T00:00:00",
          "2021-10-05T00:00:00",
          "2021-10-06T00:00:00",
          "2021-10-07T00:00:00",
          "2021-10-08T00:00:00",
          "2021-10-11T00:00:00",
          "2021-10-12T00:00:00",
          "2021-10-13T00:00:00",
          "2021-10-14T00:00:00",
          "2021-10-15T00:00:00",
          "2021-10-18T00:00:00",
          "2021-10-19T00:00:00",
          "2021-10-20T00:00:00",
          "2021-10-21T00:00:00",
          "2021-10-22T00:00:00",
          "2021-10-25T00:00:00",
          "2021-10-26T00:00:00",
          "2021-10-27T00:00:00",
          "2021-10-28T00:00:00",
          "2021-10-29T00:00:00",
          "2021-11-01T00:00:00",
          "2021-11-02T00:00:00",
          "2021-11-03T00:00:00",
          "2021-11-04T00:00:00",
          "2021-11-05T00:00:00",
          "2021-11-08T00:00:00",
          "2021-11-09T00:00:00",
          "2021-11-10T00:00:00",
          "2021-11-11T00:00:00",
          "2021-11-12T00:00:00",
          "2021-11-15T00:00:00",
          "2021-11-16T00:00:00",
          "2021-11-17T00:00:00",
          "2021-11-18T00:00:00",
          "2021-11-19T00:00:00",
          "2021-11-22T00:00:00",
          "2021-11-23T00:00:00",
          "2021-11-24T00:00:00",
          "2021-11-26T00:00:00",
          "2021-11-29T00:00:00",
          "2021-11-30T00:00:00",
          "2021-12-01T00:00:00",
          "2021-12-02T00:00:00",
          "2021-12-03T00:00:00",
          "2021-12-06T00:00:00",
          "2021-12-07T00:00:00",
          "2021-12-08T00:00:00",
          "2021-12-09T00:00:00",
          "2021-12-10T00:00:00",
          "2021-12-13T00:00:00",
          "2021-12-14T00:00:00",
          "2021-12-15T00:00:00",
          "2021-12-16T00:00:00",
          "2021-12-17T00:00:00",
          "2021-12-20T00:00:00",
          "2021-12-21T00:00:00",
          "2021-12-22T00:00:00",
          "2021-12-23T00:00:00",
          "2021-12-27T00:00:00",
          "2021-12-28T00:00:00",
          "2021-12-29T00:00:00",
          "2021-12-30T00:00:00",
          "2021-12-31T00:00:00",
          "2022-01-03T00:00:00",
          "2022-01-04T00:00:00",
          "2022-01-05T00:00:00",
          "2022-01-06T00:00:00",
          "2022-01-07T00:00:00",
          "2022-01-10T00:00:00",
          "2022-01-11T00:00:00",
          "2022-01-12T00:00:00",
          "2022-01-13T00:00:00",
          "2022-01-14T00:00:00",
          "2022-01-18T00:00:00",
          "2022-01-19T00:00:00",
          "2022-01-20T00:00:00",
          "2022-01-21T00:00:00",
          "2022-01-24T00:00:00",
          "2022-01-25T00:00:00",
          "2022-01-26T00:00:00",
          "2022-01-27T00:00:00",
          "2022-01-28T00:00:00",
          "2022-01-31T00:00:00",
          "2022-02-01T00:00:00",
          "2022-02-02T00:00:00",
          "2022-02-03T00:00:00",
          "2022-02-04T00:00:00"
         ],
         "xaxis": "x2",
         "y": [
          null,
          null,
          null,
          null,
          null,
          null,
          null,
          null,
          null,
          null,
          null,
          null,
          null,
          null,
          null,
          null,
          null,
          null,
          null,
          4464.918505859375,
          4470.311010742187,
          4475.256518554687,
          4479.6405029296875,
          4483.506494140625,
          4486.049975585937,
          4485.937475585937,
          4485.973974609375,
          4484.140966796875,
          4485.77197265625,
          4489.445971679687,
          4490.805493164063,
          4486.60849609375,
          4480.34150390625,
          4475.81201171875,
          4473.451513671875,
          4472.725512695312,
          4469.4125,
          4460.6044921875,
          4452.4434814453125,
          4441.615991210938,
          4432.6204833984375,
          4420.87197265625,
          4412.156494140625,
          4404.6304931640625,
          4399.9544921875,
          4396.59248046875,
          4391.215478515625,
          4386.595483398438,
          4380.750463867187,
          4378.9759521484375,
          4380.894946289062,
          4387.3314453125,
          4395.603442382812,
          4402.630932617188,
          4407.670922851563,
          4412.141918945313,
          4418.3104248046875,
          4429.418432617187,
          4439.029443359375,
          4453.4734375,
          4465.8904296875,
          4481.550927734375,
          4495.797412109375,
          4510.648413085937,
          4524.663427734375,
          4539.972924804688,
          4556.9984375,
          4573.728442382812,
          4587.873950195312,
          4598.424462890625,
          4608.998461914062,
          4618.815454101563,
          4627.878955078125,
          4635.502954101563,
          4643.240966796875,
          4650.893969726562,
          4656.716967773437,
          4662.512475585938,
          4670.00146484375,
          4669.911474609375,
          4672.405981445312,
          4670.072485351562,
          4664.1919921875,
          4660.018505859375,
          4652.93701171875,
          4647.644018554687,
          4646.896508789063,
          4647.694506835937,
          4648.731518554688,
          4651.8690185546875,
          4651.175024414062,
          4648.739526367188,
          4649.187036132813,
          4648.187036132813,
          4643.992041015625,
          4637.495043945312,
          4635.809545898437,
          4636.1025390625,
          4637.31904296875,
          4647.147534179688,
          4653.7015380859375,
          4665.004541015625,
          4678.289038085937,
          4687.7430419921875,
          4700.6495361328125,
          4710.7430419921875,
          4711.434545898437,
          4711.176538085938,
          4711.655517578125,
          4709.569018554687,
          4711.773999023438,
          4716.38701171875,
          4713.84599609375,
          4713.555004882813,
          4711.378491210938,
          4709.615478515625,
          4701.290478515625,
          4686.35947265625,
          4670.57646484375,
          4648.8394775390625,
          4627.018481445312,
          4603.690966796875,
          4586.34697265625,
          4573.815454101563,
          4561.314453125,
          4551.1064453125,
          4539.949438476562,
          4530.1734375
         ],
         "yaxis": "y2"
        },
        {
         "name": "MA 50 S&P",
         "type": "scatter",
         "x": [
          "2021-08-05T00:00:00",
          "2021-08-06T00:00:00",
          "2021-08-09T00:00:00",
          "2021-08-10T00:00:00",
          "2021-08-11T00:00:00",
          "2021-08-12T00:00:00",
          "2021-08-13T00:00:00",
          "2021-08-16T00:00:00",
          "2021-08-17T00:00:00",
          "2021-08-18T00:00:00",
          "2021-08-19T00:00:00",
          "2021-08-20T00:00:00",
          "2021-08-23T00:00:00",
          "2021-08-24T00:00:00",
          "2021-08-25T00:00:00",
          "2021-08-26T00:00:00",
          "2021-08-27T00:00:00",
          "2021-08-30T00:00:00",
          "2021-08-31T00:00:00",
          "2021-09-01T00:00:00",
          "2021-09-02T00:00:00",
          "2021-09-03T00:00:00",
          "2021-09-07T00:00:00",
          "2021-09-08T00:00:00",
          "2021-09-09T00:00:00",
          "2021-09-10T00:00:00",
          "2021-09-13T00:00:00",
          "2021-09-14T00:00:00",
          "2021-09-15T00:00:00",
          "2021-09-16T00:00:00",
          "2021-09-17T00:00:00",
          "2021-09-20T00:00:00",
          "2021-09-21T00:00:00",
          "2021-09-22T00:00:00",
          "2021-09-23T00:00:00",
          "2021-09-24T00:00:00",
          "2021-09-27T00:00:00",
          "2021-09-28T00:00:00",
          "2021-09-29T00:00:00",
          "2021-09-30T00:00:00",
          "2021-10-01T00:00:00",
          "2021-10-04T00:00:00",
          "2021-10-05T00:00:00",
          "2021-10-06T00:00:00",
          "2021-10-07T00:00:00",
          "2021-10-08T00:00:00",
          "2021-10-11T00:00:00",
          "2021-10-12T00:00:00",
          "2021-10-13T00:00:00",
          "2021-10-14T00:00:00",
          "2021-10-15T00:00:00",
          "2021-10-18T00:00:00",
          "2021-10-19T00:00:00",
          "2021-10-20T00:00:00",
          "2021-10-21T00:00:00",
          "2021-10-22T00:00:00",
          "2021-10-25T00:00:00",
          "2021-10-26T00:00:00",
          "2021-10-27T00:00:00",
          "2021-10-28T00:00:00",
          "2021-10-29T00:00:00",
          "2021-11-01T00:00:00",
          "2021-11-02T00:00:00",
          "2021-11-03T00:00:00",
          "2021-11-04T00:00:00",
          "2021-11-05T00:00:00",
          "2021-11-08T00:00:00",
          "2021-11-09T00:00:00",
          "2021-11-10T00:00:00",
          "2021-11-11T00:00:00",
          "2021-11-12T00:00:00",
          "2021-11-15T00:00:00",
          "2021-11-16T00:00:00",
          "2021-11-17T00:00:00",
          "2021-11-18T00:00:00",
          "2021-11-19T00:00:00",
          "2021-11-22T00:00:00",
          "2021-11-23T00:00:00",
          "2021-11-24T00:00:00",
          "2021-11-26T00:00:00",
          "2021-11-29T00:00:00",
          "2021-11-30T00:00:00",
          "2021-12-01T00:00:00",
          "2021-12-02T00:00:00",
          "2021-12-03T00:00:00",
          "2021-12-06T00:00:00",
          "2021-12-07T00:00:00",
          "2021-12-08T00:00:00",
          "2021-12-09T00:00:00",
          "2021-12-10T00:00:00",
          "2021-12-13T00:00:00",
          "2021-12-14T00:00:00",
          "2021-12-15T00:00:00",
          "2021-12-16T00:00:00",
          "2021-12-17T00:00:00",
          "2021-12-20T00:00:00",
          "2021-12-21T00:00:00",
          "2021-12-22T00:00:00",
          "2021-12-23T00:00:00",
          "2021-12-27T00:00:00",
          "2021-12-28T00:00:00",
          "2021-12-29T00:00:00",
          "2021-12-30T00:00:00",
          "2021-12-31T00:00:00",
          "2022-01-03T00:00:00",
          "2022-01-04T00:00:00",
          "2022-01-05T00:00:00",
          "2022-01-06T00:00:00",
          "2022-01-07T00:00:00",
          "2022-01-10T00:00:00",
          "2022-01-11T00:00:00",
          "2022-01-12T00:00:00",
          "2022-01-13T00:00:00",
          "2022-01-14T00:00:00",
          "2022-01-18T00:00:00",
          "2022-01-19T00:00:00",
          "2022-01-20T00:00:00",
          "2022-01-21T00:00:00",
          "2022-01-24T00:00:00",
          "2022-01-25T00:00:00",
          "2022-01-26T00:00:00",
          "2022-01-27T00:00:00",
          "2022-01-28T00:00:00",
          "2022-01-31T00:00:00",
          "2022-02-01T00:00:00",
          "2022-02-02T00:00:00",
          "2022-02-03T00:00:00",
          "2022-02-04T00:00:00"
         ],
         "xaxis": "x2",
         "y": [
          null,
          null,
          null,
          null,
          null,
          null,
          null,
          null,
          null,
          null,
          null,
          null,
          null,
          null,
          null,
          null,
          null,
          null,
          null,
          null,
          null,
          null,
          null,
          null,
          null,
          null,
          null,
          null,
          null,
          null,
          null,
          null,
          null,
          null,
          null,
          null,
          null,
          null,
          null,
          null,
          null,
          null,
          null,
          null,
          null,
          null,
          null,
          null,
          null,
          4436.0491796875,
          4436.894580078125,
          4437.89337890625,
          4439.638974609375,
          4441.6277734375,
          4443.775166015625,
          4445.4565625,
          4447.426162109375,
          4449.327763671875,
          4451.399765625,
          4455.322763671875,
          4459.314365234375,
          4462.754365234375,
          4465.776767578125,
          4469.263564453125,
          4472.940966796875,
          4477.4915625,
          4481.3381640625,
          4484.46736328125,
          4486.947958984375,
          4489.4515625,
          4492.369560546875,
          4495.316953125,
          4498.93435546875,
          4502.426357421875,
          4506.6515625,
          4511.43916015625,
          4515.723359375,
          4520.6763671875,
          4525.0915625,
          4527.50896484375,
          4531.954560546875,
          4536.1399609375,
          4539.316962890625,
          4542.946162109375,
          4544.735166015625,
          4547.45896484375,
          4552.331767578125,
          4559.303369140625,
          4565.463173828125,
          4573.5527734375,
          4579.791376953125,
          4586.463974609375,
          4593.746572265625,
          4599.848974609375,
          4604.26658203125,
          4607.800185546875,
          4613.560986328125,
          4620.479189453125,
          4627.718994140625,
          4634.77759765625,
          4641.077197265625,
          4647.20919921875,
          4652.391201171875,
          4656.991005859375,
          4661.926611328125,
          4666.8994140625,
          4669.581416015625,
          4672.006611328125,
          4674.513603515625,
          4675.991005859375,
          4678.1448046875,
          4680.398408203125,
          4680.966005859375,
          4681.011611328125,
          4678.952607421875,
          4675.65720703125,
          4671.277802734375,
          4665.5316015625,
          4660.8,
          4654.943603515625,
          4648.285205078125,
          4641.159404296875,
          4635.778408203125,
          4632.316005859375,
          4629.156005859375,
          4626.984404296875,
          4622.874404296875,
          4619.07099609375
         ],
         "yaxis": "y2"
        },
        {
         "name": "Close Price",
         "type": "scatter",
         "x": [
          "2021-08-05T00:00:00",
          "2021-08-06T00:00:00",
          "2021-08-09T00:00:00",
          "2021-08-10T00:00:00",
          "2021-08-11T00:00:00",
          "2021-08-12T00:00:00",
          "2021-08-13T00:00:00",
          "2021-08-16T00:00:00",
          "2021-08-17T00:00:00",
          "2021-08-18T00:00:00",
          "2021-08-19T00:00:00",
          "2021-08-20T00:00:00",
          "2021-08-23T00:00:00",
          "2021-08-24T00:00:00",
          "2021-08-25T00:00:00",
          "2021-08-26T00:00:00",
          "2021-08-27T00:00:00",
          "2021-08-30T00:00:00",
          "2021-08-31T00:00:00",
          "2021-09-01T00:00:00",
          "2021-09-02T00:00:00",
          "2021-09-03T00:00:00",
          "2021-09-07T00:00:00",
          "2021-09-08T00:00:00",
          "2021-09-09T00:00:00",
          "2021-09-10T00:00:00",
          "2021-09-13T00:00:00",
          "2021-09-14T00:00:00",
          "2021-09-15T00:00:00",
          "2021-09-16T00:00:00",
          "2021-09-17T00:00:00",
          "2021-09-20T00:00:00",
          "2021-09-21T00:00:00",
          "2021-09-22T00:00:00",
          "2021-09-23T00:00:00",
          "2021-09-24T00:00:00",
          "2021-09-27T00:00:00",
          "2021-09-28T00:00:00",
          "2021-09-29T00:00:00",
          "2021-09-30T00:00:00",
          "2021-10-01T00:00:00",
          "2021-10-04T00:00:00",
          "2021-10-05T00:00:00",
          "2021-10-06T00:00:00",
          "2021-10-07T00:00:00",
          "2021-10-08T00:00:00",
          "2021-10-11T00:00:00",
          "2021-10-12T00:00:00",
          "2021-10-13T00:00:00",
          "2021-10-14T00:00:00",
          "2021-10-15T00:00:00",
          "2021-10-18T00:00:00",
          "2021-10-19T00:00:00",
          "2021-10-20T00:00:00",
          "2021-10-21T00:00:00",
          "2021-10-22T00:00:00",
          "2021-10-25T00:00:00",
          "2021-10-26T00:00:00",
          "2021-10-27T00:00:00",
          "2021-10-28T00:00:00",
          "2021-10-29T00:00:00",
          "2021-11-01T00:00:00",
          "2021-11-02T00:00:00",
          "2021-11-03T00:00:00",
          "2021-11-04T00:00:00",
          "2021-11-05T00:00:00",
          "2021-11-08T00:00:00",
          "2021-11-09T00:00:00",
          "2021-11-10T00:00:00",
          "2021-11-11T00:00:00",
          "2021-11-12T00:00:00",
          "2021-11-15T00:00:00",
          "2021-11-16T00:00:00",
          "2021-11-17T00:00:00",
          "2021-11-18T00:00:00",
          "2021-11-19T00:00:00",
          "2021-11-22T00:00:00",
          "2021-11-23T00:00:00",
          "2021-11-24T00:00:00",
          "2021-11-26T00:00:00",
          "2021-11-29T00:00:00",
          "2021-11-30T00:00:00",
          "2021-12-01T00:00:00",
          "2021-12-02T00:00:00",
          "2021-12-03T00:00:00",
          "2021-12-06T00:00:00",
          "2021-12-07T00:00:00",
          "2021-12-08T00:00:00",
          "2021-12-09T00:00:00",
          "2021-12-10T00:00:00",
          "2021-12-13T00:00:00",
          "2021-12-14T00:00:00",
          "2021-12-15T00:00:00",
          "2021-12-16T00:00:00",
          "2021-12-17T00:00:00",
          "2021-12-20T00:00:00",
          "2021-12-21T00:00:00",
          "2021-12-22T00:00:00",
          "2021-12-23T00:00:00",
          "2021-12-27T00:00:00",
          "2021-12-28T00:00:00",
          "2021-12-29T00:00:00",
          "2021-12-30T00:00:00",
          "2021-12-31T00:00:00",
          "2022-01-03T00:00:00",
          "2022-01-04T00:00:00",
          "2022-01-05T00:00:00",
          "2022-01-06T00:00:00",
          "2022-01-07T00:00:00",
          "2022-01-10T00:00:00",
          "2022-01-11T00:00:00",
          "2022-01-12T00:00:00",
          "2022-01-13T00:00:00",
          "2022-01-14T00:00:00",
          "2022-01-18T00:00:00",
          "2022-01-19T00:00:00",
          "2022-01-20T00:00:00",
          "2022-01-21T00:00:00",
          "2022-01-24T00:00:00",
          "2022-01-25T00:00:00",
          "2022-01-26T00:00:00",
          "2022-01-27T00:00:00",
          "2022-01-28T00:00:00",
          "2022-01-31T00:00:00",
          "2022-02-01T00:00:00",
          "2022-02-02T00:00:00",
          "2022-02-03T00:00:00",
          "2022-02-04T00:00:00"
         ],
         "xaxis": "x3",
         "y": [
          14895.1201171875,
          14835.759765625,
          14860.1796875,
          14788.08984375,
          14765.1396484375,
          14816.259765625,
          14822.900390625,
          14793.759765625,
          14656.1796875,
          14525.91015625,
          14541.7900390625,
          14714.66015625,
          14942.650390625,
          15019.7998046875,
          15041.8603515625,
          14945.8095703125,
          15129.5,
          15265.8896484375,
          15259.240234375,
          15309.3798828125,
          15331.1796875,
          15363.51953125,
          15374.330078125,
          15286.6396484375,
          15248.25,
          15115.490234375,
          15105.580078125,
          15037.759765625,
          15161.5302734375,
          15181.919921875,
          15043.9697265625,
          14713.900390625,
          14746.400390625,
          14896.849609375,
          15052.240234375,
          15047.7001953125,
          14969.9697265625,
          14546.6796875,
          14512.4404296875,
          14448.580078125,
          14566.7001953125,
          14255.48046875,
          14433.830078125,
          14501.91015625,
          14654.01953125,
          14579.5400390625,
          14486.2001953125,
          14465.919921875,
          14571.6396484375,
          14823.4296875,
          14897.33984375,
          15021.8095703125,
          15129.08984375,
          15121.6796875,
          15215.7001953125,
          15090.2001953125,
          15226.7099609375,
          15235.7099609375,
          15235.83984375,
          15448.1201171875,
          15498.3896484375,
          15595.919921875,
          15649.599609375,
          15811.580078125,
          15940.3095703125,
          15971.58984375,
          15982.3603515625,
          15886.5400390625,
          15622.7099609375,
          15704.2802734375,
          15860.9599609375,
          15853.849609375,
          15973.8603515625,
          15921.5703125,
          15993.7099609375,
          16057.4404296875,
          15854.759765625,
          15775.1396484375,
          15845.23046875,
          15491.66015625,
          15782.830078125,
          15537.6904296875,
          15254.0498046875,
          15381.3203125,
          15085.4697265625,
          15225.150390625,
          15686.919921875,
          15786.990234375,
          15517.3701171875,
          15630.599609375,
          15413.2802734375,
          15237.6396484375,
          15565.580078125,
          15180.4296875,
          15169.6796875,
          14980.9404296875,
          15341.08984375,
          15521.8896484375,
          15653.3701171875,
          15871.259765625,
          15781.7197265625,
          15766.2197265625,
          15741.5595703125,
          15644.9697265625,
          15832.7998046875,
          15622.7197265625,
          15100.169921875,
          15080.8603515625,
          14935.900390625,
          14942.830078125,
          15153.4501953125,
          15188.3896484375,
          14806.8095703125,
          14893.75,
          14506.900390625,
          14340.259765625,
          14154.01953125,
          13768.919921875,
          13855.1298828125,
          13539.2900390625,
          13542.1201171875,
          13352.7802734375,
          13770.5703125,
          14239.8798828125,
          14346,
          14417.5498046875,
          13878.8203125,
          14098.009765625
         ],
         "yaxis": "y3"
        },
        {
         "name": "MA 20 NASDAQ",
         "type": "scatter",
         "x": [
          "2021-08-05T00:00:00",
          "2021-08-06T00:00:00",
          "2021-08-09T00:00:00",
          "2021-08-10T00:00:00",
          "2021-08-11T00:00:00",
          "2021-08-12T00:00:00",
          "2021-08-13T00:00:00",
          "2021-08-16T00:00:00",
          "2021-08-17T00:00:00",
          "2021-08-18T00:00:00",
          "2021-08-19T00:00:00",
          "2021-08-20T00:00:00",
          "2021-08-23T00:00:00",
          "2021-08-24T00:00:00",
          "2021-08-25T00:00:00",
          "2021-08-26T00:00:00",
          "2021-08-27T00:00:00",
          "2021-08-30T00:00:00",
          "2021-08-31T00:00:00",
          "2021-09-01T00:00:00",
          "2021-09-02T00:00:00",
          "2021-09-03T00:00:00",
          "2021-09-07T00:00:00",
          "2021-09-08T00:00:00",
          "2021-09-09T00:00:00",
          "2021-09-10T00:00:00",
          "2021-09-13T00:00:00",
          "2021-09-14T00:00:00",
          "2021-09-15T00:00:00",
          "2021-09-16T00:00:00",
          "2021-09-17T00:00:00",
          "2021-09-20T00:00:00",
          "2021-09-21T00:00:00",
          "2021-09-22T00:00:00",
          "2021-09-23T00:00:00",
          "2021-09-24T00:00:00",
          "2021-09-27T00:00:00",
          "2021-09-28T00:00:00",
          "2021-09-29T00:00:00",
          "2021-09-30T00:00:00",
          "2021-10-01T00:00:00",
          "2021-10-04T00:00:00",
          "2021-10-05T00:00:00",
          "2021-10-06T00:00:00",
          "2021-10-07T00:00:00",
          "2021-10-08T00:00:00",
          "2021-10-11T00:00:00",
          "2021-10-12T00:00:00",
          "2021-10-13T00:00:00",
          "2021-10-14T00:00:00",
          "2021-10-15T00:00:00",
          "2021-10-18T00:00:00",
          "2021-10-19T00:00:00",
          "2021-10-20T00:00:00",
          "2021-10-21T00:00:00",
          "2021-10-22T00:00:00",
          "2021-10-25T00:00:00",
          "2021-10-26T00:00:00",
          "2021-10-27T00:00:00",
          "2021-10-28T00:00:00",
          "2021-10-29T00:00:00",
          "2021-11-01T00:00:00",
          "2021-11-02T00:00:00",
          "2021-11-03T00:00:00",
          "2021-11-04T00:00:00",
          "2021-11-05T00:00:00",
          "2021-11-08T00:00:00",
          "2021-11-09T00:00:00",
          "2021-11-10T00:00:00",
          "2021-11-11T00:00:00",
          "2021-11-12T00:00:00",
          "2021-11-15T00:00:00",
          "2021-11-16T00:00:00",
          "2021-11-17T00:00:00",
          "2021-11-18T00:00:00",
          "2021-11-19T00:00:00",
          "2021-11-22T00:00:00",
          "2021-11-23T00:00:00",
          "2021-11-24T00:00:00",
          "2021-11-26T00:00:00",
          "2021-11-29T00:00:00",
          "2021-11-30T00:00:00",
          "2021-12-01T00:00:00",
          "2021-12-02T00:00:00",
          "2021-12-03T00:00:00",
          "2021-12-06T00:00:00",
          "2021-12-07T00:00:00",
          "2021-12-08T00:00:00",
          "2021-12-09T00:00:00",
          "2021-12-10T00:00:00",
          "2021-12-13T00:00:00",
          "2021-12-14T00:00:00",
          "2021-12-15T00:00:00",
          "2021-12-16T00:00:00",
          "2021-12-17T00:00:00",
          "2021-12-20T00:00:00",
          "2021-12-21T00:00:00",
          "2021-12-22T00:00:00",
          "2021-12-23T00:00:00",
          "2021-12-27T00:00:00",
          "2021-12-28T00:00:00",
          "2021-12-29T00:00:00",
          "2021-12-30T00:00:00",
          "2021-12-31T00:00:00",
          "2022-01-03T00:00:00",
          "2022-01-04T00:00:00",
          "2022-01-05T00:00:00",
          "2022-01-06T00:00:00",
          "2022-01-07T00:00:00",
          "2022-01-10T00:00:00",
          "2022-01-11T00:00:00",
          "2022-01-12T00:00:00",
          "2022-01-13T00:00:00",
          "2022-01-14T00:00:00",
          "2022-01-18T00:00:00",
          "2022-01-19T00:00:00",
          "2022-01-20T00:00:00",
          "2022-01-21T00:00:00",
          "2022-01-24T00:00:00",
          "2022-01-25T00:00:00",
          "2022-01-26T00:00:00",
          "2022-01-27T00:00:00",
          "2022-01-28T00:00:00",
          "2022-01-31T00:00:00",
          "2022-02-01T00:00:00",
          "2022-02-02T00:00:00",
          "2022-02-03T00:00:00",
          "2022-02-04T00:00:00"
         ],
         "xaxis": "x3",
         "y": [
          null,
          null,
          null,
          null,
          null,
          null,
          null,
          null,
          null,
          null,
          null,
          null,
          null,
          null,
          null,
          null,
          null,
          null,
          null,
          14896.4939453125,
          14918.296923828126,
          14944.684912109375,
          14970.392431640625,
          14995.319921875,
          15019.475439453125,
          15034.436962890624,
          15048.570947265625,
          15060.770947265624,
          15086.0384765625,
          15118.83896484375,
          15143.94794921875,
          15143.9099609375,
          15134.0974609375,
          15127.949951171875,
          15128.4689453125,
          15133.5634765625,
          15125.586962890626,
          15089.62646484375,
          15052.286474609375,
          15009.246484375,
          14971.022509765626,
          14915.620556640624,
          14868.595556640625,
          14829.35908203125,
          14799.64755859375,
          14772.850048828124,
          14741.8810546875,
          14713.2890625,
          14683.79453125,
          14665.87001953125,
          14658.538525390624,
          14673.933984375,
          14693.06845703125,
          14704.3099609375,
          14712.482958984376,
          14714.607958984376,
          14727.444970703125,
          14761.896484375,
          14798.066455078126,
          14848.04345703125,
          14894.6279296875,
          14961.64990234375,
          15022.43837890625,
          15087.921875,
          15152.236376953126,
          15221.8388671875,
          15296.646875,
          15367.677880859375,
          15420.231396484374,
          15464.27392578125,
          15512.454931640625,
          15554.05693359375,
          15596.295458984376,
          15636.289990234374,
          15675.190478515626,
          15723.552490234375,
          15754.95498046875,
          15781.92646484375,
          15812.39599609375,
          15814.572998046875,
          15828.79501953125,
          15825.883544921875,
          15806.1060546875,
          15784.59306640625,
          15741.85107421875,
          15704.5291015625,
          15689.757080078125,
          15684.77958984375,
          15679.51259765625,
          15675.828564453124,
          15653.444580078125,
          15622.63408203125,
          15602.220068359375,
          15565.163037109374,
          15523.9615234375,
          15470.1365234375,
          15444.45302734375,
          15431.79052734375,
          15422.197509765625,
          15441.177490234375,
          15441.12197265625,
          15452.5484375,
          15476.92392578125,
          15490.106396484374,
          15527.472900390625,
          15547.3513671875,
          15518.0138671875,
          15482.707373046875,
          15453.63388671875,
          15419.24541015625,
          15406.25390625,
          15403.79140625,
          15365.852880859375,
          15351.518896484375,
          15318.379931640626,
          15286.3458984375,
          15226.9923828125,
          15139.343896484375,
          15049.431884765625,
          14932.8333984375,
          14820.85341796875,
          14700.1814453125,
          14601.631982421875,
          14531.377490234376,
          14457.0375,
          14396.77900390625,
          14335.7115234375,
          14286.568994140625
         ],
         "yaxis": "y3"
        },
        {
         "name": "MA 50 NASDAQ",
         "type": "scatter",
         "x": [
          "2021-08-05T00:00:00",
          "2021-08-06T00:00:00",
          "2021-08-09T00:00:00",
          "2021-08-10T00:00:00",
          "2021-08-11T00:00:00",
          "2021-08-12T00:00:00",
          "2021-08-13T00:00:00",
          "2021-08-16T00:00:00",
          "2021-08-17T00:00:00",
          "2021-08-18T00:00:00",
          "2021-08-19T00:00:00",
          "2021-08-20T00:00:00",
          "2021-08-23T00:00:00",
          "2021-08-24T00:00:00",
          "2021-08-25T00:00:00",
          "2021-08-26T00:00:00",
          "2021-08-27T00:00:00",
          "2021-08-30T00:00:00",
          "2021-08-31T00:00:00",
          "2021-09-01T00:00:00",
          "2021-09-02T00:00:00",
          "2021-09-03T00:00:00",
          "2021-09-07T00:00:00",
          "2021-09-08T00:00:00",
          "2021-09-09T00:00:00",
          "2021-09-10T00:00:00",
          "2021-09-13T00:00:00",
          "2021-09-14T00:00:00",
          "2021-09-15T00:00:00",
          "2021-09-16T00:00:00",
          "2021-09-17T00:00:00",
          "2021-09-20T00:00:00",
          "2021-09-21T00:00:00",
          "2021-09-22T00:00:00",
          "2021-09-23T00:00:00",
          "2021-09-24T00:00:00",
          "2021-09-27T00:00:00",
          "2021-09-28T00:00:00",
          "2021-09-29T00:00:00",
          "2021-09-30T00:00:00",
          "2021-10-01T00:00:00",
          "2021-10-04T00:00:00",
          "2021-10-05T00:00:00",
          "2021-10-06T00:00:00",
          "2021-10-07T00:00:00",
          "2021-10-08T00:00:00",
          "2021-10-11T00:00:00",
          "2021-10-12T00:00:00",
          "2021-10-13T00:00:00",
          "2021-10-14T00:00:00",
          "2021-10-15T00:00:00",
          "2021-10-18T00:00:00",
          "2021-10-19T00:00:00",
          "2021-10-20T00:00:00",
          "2021-10-21T00:00:00",
          "2021-10-22T00:00:00",
          "2021-10-25T00:00:00",
          "2021-10-26T00:00:00",
          "2021-10-27T00:00:00",
          "2021-10-28T00:00:00",
          "2021-10-29T00:00:00",
          "2021-11-01T00:00:00",
          "2021-11-02T00:00:00",
          "2021-11-03T00:00:00",
          "2021-11-04T00:00:00",
          "2021-11-05T00:00:00",
          "2021-11-08T00:00:00",
          "2021-11-09T00:00:00",
          "2021-11-10T00:00:00",
          "2021-11-11T00:00:00",
          "2021-11-12T00:00:00",
          "2021-11-15T00:00:00",
          "2021-11-16T00:00:00",
          "2021-11-17T00:00:00",
          "2021-11-18T00:00:00",
          "2021-11-19T00:00:00",
          "2021-11-22T00:00:00",
          "2021-11-23T00:00:00",
          "2021-11-24T00:00:00",
          "2021-11-26T00:00:00",
          "2021-11-29T00:00:00",
          "2021-11-30T00:00:00",
          "2021-12-01T00:00:00",
          "2021-12-02T00:00:00",
          "2021-12-03T00:00:00",
          "2021-12-06T00:00:00",
          "2021-12-07T00:00:00",
          "2021-12-08T00:00:00",
          "2021-12-09T00:00:00",
          "2021-12-10T00:00:00",
          "2021-12-13T00:00:00",
          "2021-12-14T00:00:00",
          "2021-12-15T00:00:00",
          "2021-12-16T00:00:00",
          "2021-12-17T00:00:00",
          "2021-12-20T00:00:00",
          "2021-12-21T00:00:00",
          "2021-12-22T00:00:00",
          "2021-12-23T00:00:00",
          "2021-12-27T00:00:00",
          "2021-12-28T00:00:00",
          "2021-12-29T00:00:00",
          "2021-12-30T00:00:00",
          "2021-12-31T00:00:00",
          "2022-01-03T00:00:00",
          "2022-01-04T00:00:00",
          "2022-01-05T00:00:00",
          "2022-01-06T00:00:00",
          "2022-01-07T00:00:00",
          "2022-01-10T00:00:00",
          "2022-01-11T00:00:00",
          "2022-01-12T00:00:00",
          "2022-01-13T00:00:00",
          "2022-01-14T00:00:00",
          "2022-01-18T00:00:00",
          "2022-01-19T00:00:00",
          "2022-01-20T00:00:00",
          "2022-01-21T00:00:00",
          "2022-01-24T00:00:00",
          "2022-01-25T00:00:00",
          "2022-01-26T00:00:00",
          "2022-01-27T00:00:00",
          "2022-01-28T00:00:00",
          "2022-01-31T00:00:00",
          "2022-02-01T00:00:00",
          "2022-02-02T00:00:00",
          "2022-02-03T00:00:00",
          "2022-02-04T00:00:00"
         ],
         "xaxis": "x3",
         "y": [
          null,
          null,
          null,
          null,
          null,
          null,
          null,
          null,
          null,
          null,
          null,
          null,
          null,
          null,
          null,
          null,
          null,
          null,
          null,
          null,
          null,
          null,
          null,
          null,
          null,
          null,
          null,
          null,
          null,
          null,
          null,
          null,
          null,
          null,
          null,
          null,
          null,
          null,
          null,
          null,
          null,
          null,
          null,
          null,
          null,
          null,
          null,
          null,
          null,
          14869.0695703125,
          14869.11396484375,
          14872.8349609375,
          14878.2131640625,
          14884.8849609375,
          14893.896171875,
          14899.37498046875,
          14907.451171875,
          14916.29017578125,
          14927.88337890625,
          14946.327578125,
          14965.4595703125,
          14983.084765625,
          14997.22375,
          15013.05935546875,
          15031.02833984375,
          15051.5439453125,
          15068.60115234375,
          15081.01416015625,
          15088.2835546875,
          15096.1815625,
          15106.77716796875,
          15116.58376953125,
          15128.574375,
          15141.27298828125,
          15156.1821875,
          15175.02119140625,
          15190.00478515625,
          15204.7523828125,
          15218.42638671875,
          15224.62119140625,
          15239.3983984375,
          15255.87419921875,
          15266.0271875,
          15275.7166015625,
          15276.38119140625,
          15279.9301953125,
          15294.26919921875,
          15319.07541015625,
          15339.17400390625,
          15362.81439453125,
          15379.74599609375,
          15399.3891796875,
          15422.0241796875,
          15435.5945703125,
          15445.9077734375,
          15453.93578125,
          15471.03357421875,
          15492.15296875,
          15513.787578125,
          15534.7441796875,
          15552.43177734375,
          15567.31998046875,
          15579.569375,
          15590.03517578125,
          15602.37716796875,
          15613.02755859375,
          15610.4967578125,
          15607.399765625,
          15601.4009765625,
          15591.29517578125,
          15584.39638671875,
          15576.24578125,
          15559.38998046875,
          15541.03337890625,
          15512.3651953125,
          15479.73859375,
          15443.17177734375,
          15400.819375,
          15365.4677734375,
          15322.16796875,
          15275.791171875,
          15225.76978515625,
          15181.703984375,
          15148.07017578125,
          15115.1159765625,
          15082.3181640625,
          15042.799375,
          15009.25677734375
         ],
         "yaxis": "y3"
        }
       ],
       "layout": {
        "template": {
         "data": {
          "bar": [
           {
            "error_x": {
             "color": "#2a3f5f"
            },
            "error_y": {
             "color": "#2a3f5f"
            },
            "marker": {
             "line": {
              "color": "#E5ECF6",
              "width": 0.5
             },
             "pattern": {
              "fillmode": "overlay",
              "size": 10,
              "solidity": 0.2
             }
            },
            "type": "bar"
           }
          ],
          "barpolar": [
           {
            "marker": {
             "line": {
              "color": "#E5ECF6",
              "width": 0.5
             },
             "pattern": {
              "fillmode": "overlay",
              "size": 10,
              "solidity": 0.2
             }
            },
            "type": "barpolar"
           }
          ],
          "carpet": [
           {
            "aaxis": {
             "endlinecolor": "#2a3f5f",
             "gridcolor": "white",
             "linecolor": "white",
             "minorgridcolor": "white",
             "startlinecolor": "#2a3f5f"
            },
            "baxis": {
             "endlinecolor": "#2a3f5f",
             "gridcolor": "white",
             "linecolor": "white",
             "minorgridcolor": "white",
             "startlinecolor": "#2a3f5f"
            },
            "type": "carpet"
           }
          ],
          "choropleth": [
           {
            "colorbar": {
             "outlinewidth": 0,
             "ticks": ""
            },
            "type": "choropleth"
           }
          ],
          "contour": [
           {
            "colorbar": {
             "outlinewidth": 0,
             "ticks": ""
            },
            "colorscale": [
             [
              0,
              "#0d0887"
             ],
             [
              0.1111111111111111,
              "#46039f"
             ],
             [
              0.2222222222222222,
              "#7201a8"
             ],
             [
              0.3333333333333333,
              "#9c179e"
             ],
             [
              0.4444444444444444,
              "#bd3786"
             ],
             [
              0.5555555555555556,
              "#d8576b"
             ],
             [
              0.6666666666666666,
              "#ed7953"
             ],
             [
              0.7777777777777778,
              "#fb9f3a"
             ],
             [
              0.8888888888888888,
              "#fdca26"
             ],
             [
              1,
              "#f0f921"
             ]
            ],
            "type": "contour"
           }
          ],
          "contourcarpet": [
           {
            "colorbar": {
             "outlinewidth": 0,
             "ticks": ""
            },
            "type": "contourcarpet"
           }
          ],
          "heatmap": [
           {
            "colorbar": {
             "outlinewidth": 0,
             "ticks": ""
            },
            "colorscale": [
             [
              0,
              "#0d0887"
             ],
             [
              0.1111111111111111,
              "#46039f"
             ],
             [
              0.2222222222222222,
              "#7201a8"
             ],
             [
              0.3333333333333333,
              "#9c179e"
             ],
             [
              0.4444444444444444,
              "#bd3786"
             ],
             [
              0.5555555555555556,
              "#d8576b"
             ],
             [
              0.6666666666666666,
              "#ed7953"
             ],
             [
              0.7777777777777778,
              "#fb9f3a"
             ],
             [
              0.8888888888888888,
              "#fdca26"
             ],
             [
              1,
              "#f0f921"
             ]
            ],
            "type": "heatmap"
           }
          ],
          "heatmapgl": [
           {
            "colorbar": {
             "outlinewidth": 0,
             "ticks": ""
            },
            "colorscale": [
             [
              0,
              "#0d0887"
             ],
             [
              0.1111111111111111,
              "#46039f"
             ],
             [
              0.2222222222222222,
              "#7201a8"
             ],
             [
              0.3333333333333333,
              "#9c179e"
             ],
             [
              0.4444444444444444,
              "#bd3786"
             ],
             [
              0.5555555555555556,
              "#d8576b"
             ],
             [
              0.6666666666666666,
              "#ed7953"
             ],
             [
              0.7777777777777778,
              "#fb9f3a"
             ],
             [
              0.8888888888888888,
              "#fdca26"
             ],
             [
              1,
              "#f0f921"
             ]
            ],
            "type": "heatmapgl"
           }
          ],
          "histogram": [
           {
            "marker": {
             "pattern": {
              "fillmode": "overlay",
              "size": 10,
              "solidity": 0.2
             }
            },
            "type": "histogram"
           }
          ],
          "histogram2d": [
           {
            "colorbar": {
             "outlinewidth": 0,
             "ticks": ""
            },
            "colorscale": [
             [
              0,
              "#0d0887"
             ],
             [
              0.1111111111111111,
              "#46039f"
             ],
             [
              0.2222222222222222,
              "#7201a8"
             ],
             [
              0.3333333333333333,
              "#9c179e"
             ],
             [
              0.4444444444444444,
              "#bd3786"
             ],
             [
              0.5555555555555556,
              "#d8576b"
             ],
             [
              0.6666666666666666,
              "#ed7953"
             ],
             [
              0.7777777777777778,
              "#fb9f3a"
             ],
             [
              0.8888888888888888,
              "#fdca26"
             ],
             [
              1,
              "#f0f921"
             ]
            ],
            "type": "histogram2d"
           }
          ],
          "histogram2dcontour": [
           {
            "colorbar": {
             "outlinewidth": 0,
             "ticks": ""
            },
            "colorscale": [
             [
              0,
              "#0d0887"
             ],
             [
              0.1111111111111111,
              "#46039f"
             ],
             [
              0.2222222222222222,
              "#7201a8"
             ],
             [
              0.3333333333333333,
              "#9c179e"
             ],
             [
              0.4444444444444444,
              "#bd3786"
             ],
             [
              0.5555555555555556,
              "#d8576b"
             ],
             [
              0.6666666666666666,
              "#ed7953"
             ],
             [
              0.7777777777777778,
              "#fb9f3a"
             ],
             [
              0.8888888888888888,
              "#fdca26"
             ],
             [
              1,
              "#f0f921"
             ]
            ],
            "type": "histogram2dcontour"
           }
          ],
          "mesh3d": [
           {
            "colorbar": {
             "outlinewidth": 0,
             "ticks": ""
            },
            "type": "mesh3d"
           }
          ],
          "parcoords": [
           {
            "line": {
             "colorbar": {
              "outlinewidth": 0,
              "ticks": ""
             }
            },
            "type": "parcoords"
           }
          ],
          "pie": [
           {
            "automargin": true,
            "type": "pie"
           }
          ],
          "scatter": [
           {
            "marker": {
             "colorbar": {
              "outlinewidth": 0,
              "ticks": ""
             }
            },
            "type": "scatter"
           }
          ],
          "scatter3d": [
           {
            "line": {
             "colorbar": {
              "outlinewidth": 0,
              "ticks": ""
             }
            },
            "marker": {
             "colorbar": {
              "outlinewidth": 0,
              "ticks": ""
             }
            },
            "type": "scatter3d"
           }
          ],
          "scattercarpet": [
           {
            "marker": {
             "colorbar": {
              "outlinewidth": 0,
              "ticks": ""
             }
            },
            "type": "scattercarpet"
           }
          ],
          "scattergeo": [
           {
            "marker": {
             "colorbar": {
              "outlinewidth": 0,
              "ticks": ""
             }
            },
            "type": "scattergeo"
           }
          ],
          "scattergl": [
           {
            "marker": {
             "colorbar": {
              "outlinewidth": 0,
              "ticks": ""
             }
            },
            "type": "scattergl"
           }
          ],
          "scattermapbox": [
           {
            "marker": {
             "colorbar": {
              "outlinewidth": 0,
              "ticks": ""
             }
            },
            "type": "scattermapbox"
           }
          ],
          "scatterpolar": [
           {
            "marker": {
             "colorbar": {
              "outlinewidth": 0,
              "ticks": ""
             }
            },
            "type": "scatterpolar"
           }
          ],
          "scatterpolargl": [
           {
            "marker": {
             "colorbar": {
              "outlinewidth": 0,
              "ticks": ""
             }
            },
            "type": "scatterpolargl"
           }
          ],
          "scatterternary": [
           {
            "marker": {
             "colorbar": {
              "outlinewidth": 0,
              "ticks": ""
             }
            },
            "type": "scatterternary"
           }
          ],
          "surface": [
           {
            "colorbar": {
             "outlinewidth": 0,
             "ticks": ""
            },
            "colorscale": [
             [
              0,
              "#0d0887"
             ],
             [
              0.1111111111111111,
              "#46039f"
             ],
             [
              0.2222222222222222,
              "#7201a8"
             ],
             [
              0.3333333333333333,
              "#9c179e"
             ],
             [
              0.4444444444444444,
              "#bd3786"
             ],
             [
              0.5555555555555556,
              "#d8576b"
             ],
             [
              0.6666666666666666,
              "#ed7953"
             ],
             [
              0.7777777777777778,
              "#fb9f3a"
             ],
             [
              0.8888888888888888,
              "#fdca26"
             ],
             [
              1,
              "#f0f921"
             ]
            ],
            "type": "surface"
           }
          ],
          "table": [
           {
            "cells": {
             "fill": {
              "color": "#EBF0F8"
             },
             "line": {
              "color": "white"
             }
            },
            "header": {
             "fill": {
              "color": "#C8D4E3"
             },
             "line": {
              "color": "white"
             }
            },
            "type": "table"
           }
          ]
         },
         "layout": {
          "annotationdefaults": {
           "arrowcolor": "#2a3f5f",
           "arrowhead": 0,
           "arrowwidth": 1
          },
          "autotypenumbers": "strict",
          "coloraxis": {
           "colorbar": {
            "outlinewidth": 0,
            "ticks": ""
           }
          },
          "colorscale": {
           "diverging": [
            [
             0,
             "#8e0152"
            ],
            [
             0.1,
             "#c51b7d"
            ],
            [
             0.2,
             "#de77ae"
            ],
            [
             0.3,
             "#f1b6da"
            ],
            [
             0.4,
             "#fde0ef"
            ],
            [
             0.5,
             "#f7f7f7"
            ],
            [
             0.6,
             "#e6f5d0"
            ],
            [
             0.7,
             "#b8e186"
            ],
            [
             0.8,
             "#7fbc41"
            ],
            [
             0.9,
             "#4d9221"
            ],
            [
             1,
             "#276419"
            ]
           ],
           "sequential": [
            [
             0,
             "#0d0887"
            ],
            [
             0.1111111111111111,
             "#46039f"
            ],
            [
             0.2222222222222222,
             "#7201a8"
            ],
            [
             0.3333333333333333,
             "#9c179e"
            ],
            [
             0.4444444444444444,
             "#bd3786"
            ],
            [
             0.5555555555555556,
             "#d8576b"
            ],
            [
             0.6666666666666666,
             "#ed7953"
            ],
            [
             0.7777777777777778,
             "#fb9f3a"
            ],
            [
             0.8888888888888888,
             "#fdca26"
            ],
            [
             1,
             "#f0f921"
            ]
           ],
           "sequentialminus": [
            [
             0,
             "#0d0887"
            ],
            [
             0.1111111111111111,
             "#46039f"
            ],
            [
             0.2222222222222222,
             "#7201a8"
            ],
            [
             0.3333333333333333,
             "#9c179e"
            ],
            [
             0.4444444444444444,
             "#bd3786"
            ],
            [
             0.5555555555555556,
             "#d8576b"
            ],
            [
             0.6666666666666666,
             "#ed7953"
            ],
            [
             0.7777777777777778,
             "#fb9f3a"
            ],
            [
             0.8888888888888888,
             "#fdca26"
            ],
            [
             1,
             "#f0f921"
            ]
           ]
          },
          "colorway": [
           "#636efa",
           "#EF553B",
           "#00cc96",
           "#ab63fa",
           "#FFA15A",
           "#19d3f3",
           "#FF6692",
           "#B6E880",
           "#FF97FF",
           "#FECB52"
          ],
          "font": {
           "color": "#2a3f5f"
          },
          "geo": {
           "bgcolor": "white",
           "lakecolor": "white",
           "landcolor": "#E5ECF6",
           "showlakes": true,
           "showland": true,
           "subunitcolor": "white"
          },
          "hoverlabel": {
           "align": "left"
          },
          "hovermode": "closest",
          "mapbox": {
           "style": "light"
          },
          "paper_bgcolor": "white",
          "plot_bgcolor": "#E5ECF6",
          "polar": {
           "angularaxis": {
            "gridcolor": "white",
            "linecolor": "white",
            "ticks": ""
           },
           "bgcolor": "#E5ECF6",
           "radialaxis": {
            "gridcolor": "white",
            "linecolor": "white",
            "ticks": ""
           }
          },
          "scene": {
           "xaxis": {
            "backgroundcolor": "#E5ECF6",
            "gridcolor": "white",
            "gridwidth": 2,
            "linecolor": "white",
            "showbackground": true,
            "ticks": "",
            "zerolinecolor": "white"
           },
           "yaxis": {
            "backgroundcolor": "#E5ECF6",
            "gridcolor": "white",
            "gridwidth": 2,
            "linecolor": "white",
            "showbackground": true,
            "ticks": "",
            "zerolinecolor": "white"
           },
           "zaxis": {
            "backgroundcolor": "#E5ECF6",
            "gridcolor": "white",
            "gridwidth": 2,
            "linecolor": "white",
            "showbackground": true,
            "ticks": "",
            "zerolinecolor": "white"
           }
          },
          "shapedefaults": {
           "line": {
            "color": "#2a3f5f"
           }
          },
          "ternary": {
           "aaxis": {
            "gridcolor": "white",
            "linecolor": "white",
            "ticks": ""
           },
           "baxis": {
            "gridcolor": "white",
            "linecolor": "white",
            "ticks": ""
           },
           "bgcolor": "#E5ECF6",
           "caxis": {
            "gridcolor": "white",
            "linecolor": "white",
            "ticks": ""
           }
          },
          "title": {
           "x": 0.05
          },
          "xaxis": {
           "automargin": true,
           "gridcolor": "white",
           "linecolor": "white",
           "ticks": "",
           "title": {
            "standoff": 15
           },
           "zerolinecolor": "white",
           "zerolinewidth": 2
          },
          "yaxis": {
           "automargin": true,
           "gridcolor": "white",
           "linecolor": "white",
           "ticks": "",
           "title": {
            "standoff": 15
           },
           "zerolinecolor": "white",
           "zerolinewidth": 2
          }
         }
        },
        "title": {
         "text": "Last 6 months - Markets USA"
        },
        "xaxis": {
         "anchor": "y",
         "domain": [
          0,
          0.45
         ],
         "title": {
          "text": "Last 6 months"
         }
        },
        "xaxis2": {
         "anchor": "y2",
         "domain": [
          0.55,
          1
         ]
        },
        "xaxis3": {
         "anchor": "y3",
         "domain": [
          0,
          0.45
         ]
        },
        "xaxis4": {
         "anchor": "y4",
         "domain": [
          0.55,
          1
         ]
        },
        "yaxis": {
         "anchor": "x",
         "domain": [
          0.575,
          1
         ],
         "title": {
          "text": "Close price"
         }
        },
        "yaxis2": {
         "anchor": "x2",
         "domain": [
          0.575,
          1
         ]
        },
        "yaxis3": {
         "anchor": "x3",
         "domain": [
          0,
          0.425
         ]
        },
        "yaxis4": {
         "anchor": "x4",
         "domain": [
          0,
          0.425
         ]
        }
       }
      }
     },
     "metadata": {},
     "output_type": "display_data"
    }
   ],
   "source": [
    "fig = make_subplots(rows=2, cols=2)\n",
    "\n",
    "fig.add_trace(go.Scatter(x=data_mercados.index, y=data_mercados.Close['^DJI'], name='Close Price'), row=1, col=1)\n",
    "fig.add_trace(go.Scatter(x=data_mercados.index, y=data_mercados['MA_20_DJ'], name='MA 20 DJI'),row=1, col=1)\n",
    "fig.add_trace(go.Scatter(x=data_mercados.index, y=data_mercados['MA_50_DJ'], name='MA 50 DJI'),row=1, col=1)\n",
    "\n",
    "fig.add_trace(go.Scatter(x=data_mercados.index, y=data_mercados.Close['^GSPC'], name='Close Price'), row=1, col=2)\n",
    "fig.add_trace(go.Scatter(x=data_mercados.index, y=data_mercados['MA_20_S&P'], name='MA 20 S&P'),row=1, col=2)\n",
    "fig.add_trace(go.Scatter(x=data_mercados.index, y=data_mercados['MA_50_S&P'], name='MA 50 S&P'), row=1, col=2)\n",
    "\n",
    "fig.add_trace(go.Scatter(x=data_mercados.index, y=data_mercados.Close['^IXIC'], name='Close Price'), row=2, col=1)\n",
    "fig.add_trace(go.Scatter(x=data_mercados.index, y=data_mercados['MA_20_NASDAQ'], name='MA 20 NASDAQ'),row=2, col=1)\n",
    "fig.add_trace(go.Scatter(x=data_mercados.index, y=data_mercados['MA_50_NASDAQ'], name='MA 50 NASDAQ'), row=2, col=1)\n",
    "\n",
    "fig.update_layout(title='Last 6 months - Markets USA')\n",
    "fig.update_layout(xaxis_title='Last 6 months')\n",
    "fig.update_layout(yaxis_title='Close price')\n",
    "\n",
    "fig.show()"
   ]
  }
 ],
 "metadata": {
  "interpreter": {
   "hash": "19cf73bca1c47d5e5232cb4ff5d6a583e1ddf8b124c4f222aee1ad0765d6a2ec"
  },
  "kernelspec": {
   "display_name": "Python 3.8.8 64-bit ('base': conda)",
   "language": "python",
   "name": "python3"
  },
  "language_info": {
   "codemirror_mode": {
    "name": "ipython",
    "version": 3
   },
   "file_extension": ".py",
   "mimetype": "text/x-python",
   "name": "python",
   "nbconvert_exporter": "python",
   "pygments_lexer": "ipython3",
   "version": "3.8.8"
  },
  "orig_nbformat": 4
 },
 "nbformat": 4,
 "nbformat_minor": 2
}
