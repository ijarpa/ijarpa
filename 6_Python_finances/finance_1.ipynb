{
 "cells": [
  {
   "cell_type": "code",
   "execution_count": 56,
   "metadata": {},
   "outputs": [],
   "source": [
    "import numpy_financial as npf\n",
    "import pandas as pd\n",
    "import matplotlib.pyplot as plt\n",
    "import plotly.express as px\n",
    "import numpy as np"
   ]
  },
  {
   "cell_type": "code",
   "execution_count": 14,
   "metadata": {},
   "outputs": [
    {
     "name": "stdout",
     "output_type": "stream",
     "text": [
      "1469.33\n"
     ]
    }
   ],
   "source": [
    "res = npf.fv(rate=0.08, nper=5, pmt=0, pv=-1000)\n",
    "print(round(res,2))"
   ]
  },
  {
   "cell_type": "code",
   "execution_count": 15,
   "metadata": {},
   "outputs": [
    {
     "name": "stdout",
     "output_type": "stream",
     "text": [
      "100.0\n"
     ]
    },
    {
     "name": "stderr",
     "output_type": "stream",
     "text": [
      "C:\\Users\\ivana\\anaconda3\\lib\\site-packages\\numpy_financial\\_financial.py:130: RuntimeWarning: invalid value encountered in long_scalars\n",
      "  (1 + rate*when)*(temp - 1)/rate)\n"
     ]
    }
   ],
   "source": [
    "print(npf.fv(rate=0, nper=3, pmt=0, pv=-100))"
   ]
  },
  {
   "cell_type": "code",
   "execution_count": 16,
   "metadata": {},
   "outputs": [
    {
     "data": {
      "text/html": [
       "<div>\n",
       "<style scoped>\n",
       "    .dataframe tbody tr th:only-of-type {\n",
       "        vertical-align: middle;\n",
       "    }\n",
       "\n",
       "    .dataframe tbody tr th {\n",
       "        vertical-align: top;\n",
       "    }\n",
       "\n",
       "    .dataframe thead th {\n",
       "        text-align: right;\n",
       "    }\n",
       "</style>\n",
       "<table border=\"1\" class=\"dataframe\">\n",
       "  <thead>\n",
       "    <tr style=\"text-align: right;\">\n",
       "      <th></th>\n",
       "      <th>Name</th>\n",
       "      <th>Title</th>\n",
       "      <th>Pay</th>\n",
       "      <th>Exercised</th>\n",
       "      <th>Year Born</th>\n",
       "    </tr>\n",
       "  </thead>\n",
       "  <tbody>\n",
       "    <tr>\n",
       "      <th>0</th>\n",
       "      <td>Mr. Elon R. Musk</td>\n",
       "      <td>Technoking of Tesla, CEO &amp; Director</td>\n",
       "      <td>NaN</td>\n",
       "      <td>NaN</td>\n",
       "      <td>1972.0</td>\n",
       "    </tr>\n",
       "    <tr>\n",
       "      <th>1</th>\n",
       "      <td>Mr. Zachary J. Kirkhorn</td>\n",
       "      <td>Master of Coin &amp; CFO</td>\n",
       "      <td>300.76k</td>\n",
       "      <td>4.19M</td>\n",
       "      <td>1985.0</td>\n",
       "    </tr>\n",
       "    <tr>\n",
       "      <th>2</th>\n",
       "      <td>Mr. Andrew D. Baglino</td>\n",
       "      <td>Sr. VP of Powertrain &amp; Energy Engineering</td>\n",
       "      <td>283.27k</td>\n",
       "      <td>14.86M</td>\n",
       "      <td>1981.0</td>\n",
       "    </tr>\n",
       "    <tr>\n",
       "      <th>3</th>\n",
       "      <td>Mr. Vaibhav Taneja</td>\n",
       "      <td>Corp. Controller &amp; Chief Accounting Officer</td>\n",
       "      <td>NaN</td>\n",
       "      <td>NaN</td>\n",
       "      <td>1978.0</td>\n",
       "    </tr>\n",
       "    <tr>\n",
       "      <th>4</th>\n",
       "      <td>Mr. Martin Viecha</td>\n",
       "      <td>Sr. Director for Investor Relations</td>\n",
       "      <td>NaN</td>\n",
       "      <td>NaN</td>\n",
       "      <td>NaN</td>\n",
       "    </tr>\n",
       "    <tr>\n",
       "      <th>5</th>\n",
       "      <td>Mr. Alan Prescott</td>\n",
       "      <td>VP of Legal</td>\n",
       "      <td>NaN</td>\n",
       "      <td>NaN</td>\n",
       "      <td>NaN</td>\n",
       "    </tr>\n",
       "    <tr>\n",
       "      <th>6</th>\n",
       "      <td>Mr. Dave Arnold</td>\n",
       "      <td>Sr. Director of Global Communications</td>\n",
       "      <td>NaN</td>\n",
       "      <td>NaN</td>\n",
       "      <td>NaN</td>\n",
       "    </tr>\n",
       "    <tr>\n",
       "      <th>7</th>\n",
       "      <td>Brian Scelfo</td>\n",
       "      <td>Sr. Director of Corp. Devel.</td>\n",
       "      <td>NaN</td>\n",
       "      <td>NaN</td>\n",
       "      <td>NaN</td>\n",
       "    </tr>\n",
       "    <tr>\n",
       "      <th>8</th>\n",
       "      <td>Mr. Jeffrey B. Straubel</td>\n",
       "      <td>Sr. Advisor</td>\n",
       "      <td>NaN</td>\n",
       "      <td>NaN</td>\n",
       "      <td>1976.0</td>\n",
       "    </tr>\n",
       "    <tr>\n",
       "      <th>9</th>\n",
       "      <td>Mr. Franz von Holzhausen</td>\n",
       "      <td>Chief Designer</td>\n",
       "      <td>NaN</td>\n",
       "      <td>NaN</td>\n",
       "      <td>NaN</td>\n",
       "    </tr>\n",
       "  </tbody>\n",
       "</table>\n",
       "</div>"
      ],
      "text/plain": [
       "                       Name                                        Title  \\\n",
       "0          Mr. Elon R. Musk          Technoking of Tesla, CEO & Director   \n",
       "1   Mr. Zachary J. Kirkhorn                         Master of Coin & CFO   \n",
       "2     Mr. Andrew D. Baglino    Sr. VP of Powertrain & Energy Engineering   \n",
       "3        Mr. Vaibhav Taneja  Corp. Controller & Chief Accounting Officer   \n",
       "4         Mr. Martin Viecha          Sr. Director for Investor Relations   \n",
       "5         Mr. Alan Prescott                                  VP of Legal   \n",
       "6           Mr. Dave Arnold        Sr. Director of Global Communications   \n",
       "7              Brian Scelfo                 Sr. Director of Corp. Devel.   \n",
       "8   Mr. Jeffrey B. Straubel                                  Sr. Advisor   \n",
       "9  Mr. Franz von Holzhausen                               Chief Designer   \n",
       "\n",
       "       Pay Exercised  Year Born  \n",
       "0      NaN       NaN     1972.0  \n",
       "1  300.76k     4.19M     1985.0  \n",
       "2  283.27k    14.86M     1981.0  \n",
       "3      NaN       NaN     1978.0  \n",
       "4      NaN       NaN        NaN  \n",
       "5      NaN       NaN        NaN  \n",
       "6      NaN       NaN        NaN  \n",
       "7      NaN       NaN        NaN  \n",
       "8      NaN       NaN     1976.0  \n",
       "9      NaN       NaN        NaN  "
      ]
     },
     "execution_count": 16,
     "metadata": {},
     "output_type": "execute_result"
    }
   ],
   "source": [
    "import requests\n",
    "\n",
    "url_link = 'https://finance.yahoo.com/quote/TSLA/profile'\n",
    "r = requests.get(url_link, headers={'User-Agent':'Mozilla/5.0 (Windows NT 10.0; Win64; x64) AppleWebKit/537.36 (KHTML, like Gecko) Chrome/91.0.4472.124 Safari/537.36'})\n",
    "\n",
    "df = pd.read_html(r.text)\n",
    "df[0]"
   ]
  },
  {
   "cell_type": "code",
   "execution_count": 17,
   "metadata": {},
   "outputs": [
    {
     "data": {
      "text/html": [
       "<div>\n",
       "<style scoped>\n",
       "    .dataframe tbody tr th:only-of-type {\n",
       "        vertical-align: middle;\n",
       "    }\n",
       "\n",
       "    .dataframe tbody tr th {\n",
       "        vertical-align: top;\n",
       "    }\n",
       "\n",
       "    .dataframe thead th {\n",
       "        text-align: right;\n",
       "    }\n",
       "</style>\n",
       "<table border=\"1\" class=\"dataframe\">\n",
       "  <thead>\n",
       "    <tr style=\"text-align: right;\">\n",
       "      <th></th>\n",
       "      <th>Earnings Estimate</th>\n",
       "      <th>Current Qtr. (Dec 2021)</th>\n",
       "      <th>Next Qtr. (Mar 2022)</th>\n",
       "      <th>Current Year (2021)</th>\n",
       "      <th>Next Year (2022)</th>\n",
       "    </tr>\n",
       "  </thead>\n",
       "  <tbody>\n",
       "    <tr>\n",
       "      <th>0</th>\n",
       "      <td>No. of Analysts</td>\n",
       "      <td>23.00</td>\n",
       "      <td>13.00</td>\n",
       "      <td>32.00</td>\n",
       "      <td>31.00</td>\n",
       "    </tr>\n",
       "    <tr>\n",
       "      <th>1</th>\n",
       "      <td>Avg. Estimate</td>\n",
       "      <td>2.09</td>\n",
       "      <td>1.99</td>\n",
       "      <td>6.26</td>\n",
       "      <td>8.76</td>\n",
       "    </tr>\n",
       "    <tr>\n",
       "      <th>2</th>\n",
       "      <td>Low Estimate</td>\n",
       "      <td>1.39</td>\n",
       "      <td>1.40</td>\n",
       "      <td>4.30</td>\n",
       "      <td>5.94</td>\n",
       "    </tr>\n",
       "    <tr>\n",
       "      <th>3</th>\n",
       "      <td>High Estimate</td>\n",
       "      <td>2.98</td>\n",
       "      <td>2.62</td>\n",
       "      <td>7.22</td>\n",
       "      <td>12.29</td>\n",
       "    </tr>\n",
       "    <tr>\n",
       "      <th>4</th>\n",
       "      <td>Year Ago EPS</td>\n",
       "      <td>0.80</td>\n",
       "      <td>0.93</td>\n",
       "      <td>2.24</td>\n",
       "      <td>6.26</td>\n",
       "    </tr>\n",
       "  </tbody>\n",
       "</table>\n",
       "</div>"
      ],
      "text/plain": [
       "  Earnings Estimate  Current Qtr. (Dec 2021)  Next Qtr. (Mar 2022)  \\\n",
       "0   No. of Analysts                    23.00                 13.00   \n",
       "1     Avg. Estimate                     2.09                  1.99   \n",
       "2      Low Estimate                     1.39                  1.40   \n",
       "3     High Estimate                     2.98                  2.62   \n",
       "4      Year Ago EPS                     0.80                  0.93   \n",
       "\n",
       "   Current Year (2021)  Next Year (2022)  \n",
       "0                32.00             31.00  \n",
       "1                 6.26              8.76  \n",
       "2                 4.30              5.94  \n",
       "3                 7.22             12.29  \n",
       "4                 2.24              6.26  "
      ]
     },
     "execution_count": 17,
     "metadata": {},
     "output_type": "execute_result"
    }
   ],
   "source": [
    "url_link_2 = 'https://finance.yahoo.com/quote/TSLA/analysis?p=TSLA'\n",
    "r = requests.get(url_link_2, headers={'User-Agent':'Mozilla/5.0 (Windows NT 10.0; Win64; x64) AppleWebKit/537.36 (KHTML, like Gecko) Chrome/91.0.4472.124 Safari/537.36'})\n",
    "data_2 = pd.read_html(r.text)\n",
    "data_2 = data_2[0]\n",
    "data_2"
   ]
  },
  {
   "cell_type": "code",
   "execution_count": 18,
   "metadata": {},
   "outputs": [
    {
     "data": {
      "text/html": [
       "<div>\n",
       "<style scoped>\n",
       "    .dataframe tbody tr th:only-of-type {\n",
       "        vertical-align: middle;\n",
       "    }\n",
       "\n",
       "    .dataframe tbody tr th {\n",
       "        vertical-align: top;\n",
       "    }\n",
       "\n",
       "    .dataframe thead th {\n",
       "        text-align: right;\n",
       "    }\n",
       "</style>\n",
       "<table border=\"1\" class=\"dataframe\">\n",
       "  <thead>\n",
       "    <tr style=\"text-align: right;\">\n",
       "      <th></th>\n",
       "      <th>Earnings Estimate</th>\n",
       "      <th>Current Qtr. (Dec 2021)</th>\n",
       "      <th>Next Qtr. (Mar 2022)</th>\n",
       "      <th>Current Year (2021)</th>\n",
       "      <th>Next Year (2022)</th>\n",
       "    </tr>\n",
       "  </thead>\n",
       "  <tbody>\n",
       "    <tr>\n",
       "      <th>1</th>\n",
       "      <td>Avg. Estimate</td>\n",
       "      <td>2.09</td>\n",
       "      <td>1.99</td>\n",
       "      <td>6.26</td>\n",
       "      <td>8.76</td>\n",
       "    </tr>\n",
       "  </tbody>\n",
       "</table>\n",
       "</div>"
      ],
      "text/plain": [
       "  Earnings Estimate  Current Qtr. (Dec 2021)  Next Qtr. (Mar 2022)  \\\n",
       "1     Avg. Estimate                     2.09                  1.99   \n",
       "\n",
       "   Current Year (2021)  Next Year (2022)  \n",
       "1                 6.26              8.76  "
      ]
     },
     "execution_count": 18,
     "metadata": {},
     "output_type": "execute_result"
    }
   ],
   "source": [
    "data_2[data_2['Earnings Estimate']=='Avg. Estimate']"
   ]
  },
  {
   "cell_type": "code",
   "execution_count": 19,
   "metadata": {},
   "outputs": [
    {
     "data": {
      "text/html": [
       "<div>\n",
       "<style scoped>\n",
       "    .dataframe tbody tr th:only-of-type {\n",
       "        vertical-align: middle;\n",
       "    }\n",
       "\n",
       "    .dataframe tbody tr th {\n",
       "        vertical-align: top;\n",
       "    }\n",
       "\n",
       "    .dataframe thead th {\n",
       "        text-align: right;\n",
       "    }\n",
       "</style>\n",
       "<table border=\"1\" class=\"dataframe\">\n",
       "  <thead>\n",
       "    <tr style=\"text-align: right;\">\n",
       "      <th></th>\n",
       "      <th>Earnings Estimate</th>\n",
       "      <th>Current Qtr. (Dec 2021)</th>\n",
       "      <th>Next Qtr. (Mar 2022)</th>\n",
       "      <th>Current Year (2021)</th>\n",
       "      <th>Next Year (2022)</th>\n",
       "    </tr>\n",
       "  </thead>\n",
       "  <tbody>\n",
       "    <tr>\n",
       "      <th>1</th>\n",
       "      <td>Avg. Estimate</td>\n",
       "      <td>2.09</td>\n",
       "      <td>1.99</td>\n",
       "      <td>6.26</td>\n",
       "      <td>8.76</td>\n",
       "    </tr>\n",
       "  </tbody>\n",
       "</table>\n",
       "</div>"
      ],
      "text/plain": [
       "  Earnings Estimate  Current Qtr. (Dec 2021)  Next Qtr. (Mar 2022)  \\\n",
       "1     Avg. Estimate                     2.09                  1.99   \n",
       "\n",
       "   Current Year (2021)  Next Year (2022)  \n",
       "1                 6.26              8.76  "
      ]
     },
     "execution_count": 19,
     "metadata": {},
     "output_type": "execute_result"
    }
   ],
   "source": [
    "data_2.iloc[1:2]"
   ]
  },
  {
   "cell_type": "code",
   "execution_count": 20,
   "metadata": {},
   "outputs": [
    {
     "data": {
      "image/png": "[encoded data removed]",
      "text/plain": [
       "<Figure size 1080x864 with 1 Axes>"
      ]
     },
     "metadata": {
      "needs_background": "light"
     },
     "output_type": "display_data"
    }
   ],
   "source": [
    "data_2.iloc[1:2].plot(kind='bar', figsize=(15,12))\n",
    "plt.title('Avg. Estimate')\n",
    "plt.xlabel('Promedio')\n",
    "plt.show()"
   ]
  },
  {
   "cell_type": "code",
   "execution_count": 21,
   "metadata": {},
   "outputs": [],
   "source": [
    "import yfinance as yf"
   ]
  },
  {
   "cell_type": "code",
   "execution_count": 22,
   "metadata": {},
   "outputs": [],
   "source": [
    "data = yf.Ticker('TSLA')"
   ]
  },
  {
   "cell_type": "code",
   "execution_count": 23,
   "metadata": {},
   "outputs": [
    {
     "name": "stdout",
     "output_type": "stream",
     "text": [
      "0.07403\n"
     ]
    }
   ],
   "source": [
    "print(data.info['profitMargins'])"
   ]
  },
  {
   "cell_type": "code",
   "execution_count": 24,
   "metadata": {},
   "outputs": [
    {
     "data": {
      "application/vnd.plotly.v1+json": {
       "config": {
        "plotlyServerURL": "https://plot.ly"
       },
       "data": [
        {
         "hovertemplate": "variable=Revenue<br>Year=%{x}<br>value=%{y}<extra></extra>",
         "legendgroup": "Revenue",
         "line": {
          "color": "#636efa",
          "dash": "solid"
         },
         "marker": {
          "symbol": "circle"
         },
         "mode": "lines",
         "name": "Revenue",
         "orientation": "v",
         "showlegend": true,
         "type": "scatter",
         "x": [
          2017,
          2018,
          2019,
          2020
         ],
         "xaxis": "x",
         "y": [
          11759000000,
          21461000000,
          24578000000,
          31536000000
         ],
         "yaxis": "y"
        },
        {
         "hovertemplate": "variable=Earnings<br>Year=%{x}<br>value=%{y}<extra></extra>",
         "legendgroup": "Earnings",
         "line": {
          "color": "#EF553B",
          "dash": "solid"
         },
         "marker": {
          "symbol": "circle"
         },
         "mode": "lines",
         "name": "Earnings",
         "orientation": "v",
         "showlegend": true,
         "type": "scatter",
         "x": [
          2017,
          2018,
          2019,
          2020
         ],
         "xaxis": "x",
         "y": [
          -1962000000,
          -976000000,
          -862000000,
          721000000
         ],
         "yaxis": "y"
        }
       ],
       "layout": {
        "legend": {
         "title": {
          "text": "variable"
         },
         "tracegroupgap": 0
        },
        "margin": {
         "t": 60
        },
        "template": {
         "data": {
          "bar": [
           {
            "error_x": {
             "color": "#2a3f5f"
            },
            "error_y": {
             "color": "#2a3f5f"
            },
            "marker": {
             "line": {
              "color": "#E5ECF6",
              "width": 0.5
             },
             "pattern": {
              "fillmode": "overlay",
              "size": 10,
              "solidity": 0.2
             }
            },
            "type": "bar"
           }
          ],
          "barpolar": [
           {
            "marker": {
             "line": {
              "color": "#E5ECF6",
              "width": 0.5
             },
             "pattern": {
              "fillmode": "overlay",
              "size": 10,
              "solidity": 0.2
             }
            },
            "type": "barpolar"
           }
          ],
          "carpet": [
           {
            "aaxis": {
             "endlinecolor": "#2a3f5f",
             "gridcolor": "white",
             "linecolor": "white",
             "minorgridcolor": "white",
             "startlinecolor": "#2a3f5f"
            },
            "baxis": {
             "endlinecolor": "#2a3f5f",
             "gridcolor": "white",
             "linecolor": "white",
             "minorgridcolor": "white",
             "startlinecolor": "#2a3f5f"
            },
            "type": "carpet"
           }
          ],
          "choropleth": [
           {
            "colorbar": {
             "outlinewidth": 0,
             "ticks": ""
            },
            "type": "choropleth"
           }
          ],
          "contour": [
           {
            "colorbar": {
             "outlinewidth": 0,
             "ticks": ""
            },
            "colorscale": [
             [
              0,
              "#0d0887"
             ],
             [
              0.1111111111111111,
              "#46039f"
             ],
             [
              0.2222222222222222,
              "#7201a8"
             ],
             [
              0.3333333333333333,
              "#9c179e"
             ],
             [
              0.4444444444444444,
              "#bd3786"
             ],
             [
              0.5555555555555556,
              "#d8576b"
             ],
             [
              0.6666666666666666,
              "#ed7953"
             ],
             [
              0.7777777777777778,
              "#fb9f3a"
             ],
             [
              0.8888888888888888,
              "#fdca26"
             ],
             [
              1,
              "#f0f921"
             ]
            ],
            "type": "contour"
           }
          ],
          "contourcarpet": [
           {
            "colorbar": {
             "outlinewidth": 0,
             "ticks": ""
            },
            "type": "contourcarpet"
           }
          ],
          "heatmap": [
           {
            "colorbar": {
             "outlinewidth": 0,
             "ticks": ""
            },
            "colorscale": [
             [
              0,
              "#0d0887"
             ],
             [
              0.1111111111111111,
              "#46039f"
             ],
             [
              0.2222222222222222,
              "#7201a8"
             ],
             [
              0.3333333333333333,
              "#9c179e"
             ],
             [
              0.4444444444444444,
              "#bd3786"
             ],
             [
              0.5555555555555556,
              "#d8576b"
             ],
             [
              0.6666666666666666,
              "#ed7953"
             ],
             [
              0.7777777777777778,
              "#fb9f3a"
             ],
             [
              0.8888888888888888,
              "#fdca26"
             ],
             [
              1,
              "#f0f921"
             ]
            ],
            "type": "heatmap"
           }
          ],
          "heatmapgl": [
           {
            "colorbar": {
             "outlinewidth": 0,
             "ticks": ""
            },
            "colorscale": [
             [
              0,
              "#0d0887"
             ],
             [
              0.1111111111111111,
              "#46039f"
             ],
             [
              0.2222222222222222,
              "#7201a8"
             ],
             [
              0.3333333333333333,
              "#9c179e"
             ],
             [
              0.4444444444444444,
              "#bd3786"
             ],
             [
              0.5555555555555556,
              "#d8576b"
             ],
             [
              0.6666666666666666,
              "#ed7953"
             ],
             [
              0.7777777777777778,
              "#fb9f3a"
             ],
             [
              0.8888888888888888,
              "#fdca26"
             ],
             [
              1,
              "#f0f921"
             ]
            ],
            "type": "heatmapgl"
           }
          ],
          "histogram": [
           {
            "marker": {
             "pattern": {
              "fillmode": "overlay",
              "size": 10,
              "solidity": 0.2
             }
            },
            "type": "histogram"
           }
          ],
          "histogram2d": [
           {
            "colorbar": {
             "outlinewidth": 0,
             "ticks": ""
            },
            "colorscale": [
             [
              0,
              "#0d0887"
             ],
             [
              0.1111111111111111,
              "#46039f"
             ],
             [
              0.2222222222222222,
              "#7201a8"
             ],
             [
              0.3333333333333333,
              "#9c179e"
             ],
             [
              0.4444444444444444,
              "#bd3786"
             ],
             [
              0.5555555555555556,
              "#d8576b"
             ],
             [
              0.6666666666666666,
              "#ed7953"
             ],
             [
              0.7777777777777778,
              "#fb9f3a"
             ],
             [
              0.8888888888888888,
              "#fdca26"
             ],
             [
              1,
              "#f0f921"
             ]
            ],
            "type": "histogram2d"
           }
          ],
          "histogram2dcontour": [
           {
            "colorbar": {
             "outlinewidth": 0,
             "ticks": ""
            },
            "colorscale": [
             [
              0,
              "#0d0887"
             ],
             [
              0.1111111111111111,
              "#46039f"
             ],
             [
              0.2222222222222222,
              "#7201a8"
             ],
             [
              0.3333333333333333,
              "#9c179e"
             ],
             [
              0.4444444444444444,
              "#bd3786"
             ],
             [
              0.5555555555555556,
              "#d8576b"
             ],
             [
              0.6666666666666666,
              "#ed7953"
             ],
             [
              0.7777777777777778,
              "#fb9f3a"
             ],
             [
              0.8888888888888888,
              "#fdca26"
             ],
             [
              1,
              "#f0f921"
             ]
            ],
            "type": "histogram2dcontour"
           }
          ],
          "mesh3d": [
           {
            "colorbar": {
             "outlinewidth": 0,
             "ticks": ""
            },
            "type": "mesh3d"
           }
          ],
          "parcoords": [
           {
            "line": {
             "colorbar": {
              "outlinewidth": 0,
              "ticks": ""
             }
            },
            "type": "parcoords"
           }
          ],
          "pie": [
           {
            "automargin": true,
            "type": "pie"
           }
          ],
          "scatter": [
           {
            "marker": {
             "colorbar": {
              "outlinewidth": 0,
              "ticks": ""
             }
            },
            "type": "scatter"
           }
          ],
          "scatter3d": [
           {
            "line": {
             "colorbar": {
              "outlinewidth": 0,
              "ticks": ""
             }
            },
            "marker": {
             "colorbar": {
              "outlinewidth": 0,
              "ticks": ""
             }
            },
            "type": "scatter3d"
           }
          ],
          "scattercarpet": [
           {
            "marker": {
             "colorbar": {
              "outlinewidth": 0,
              "ticks": ""
             }
            },
            "type": "scattercarpet"
           }
          ],
          "scattergeo": [
           {
            "marker": {
             "colorbar": {
              "outlinewidth": 0,
              "ticks": ""
             }
            },
            "type": "scattergeo"
           }
          ],
          "scattergl": [
           {
            "marker": {
             "colorbar": {
              "outlinewidth": 0,
              "ticks": ""
             }
            },
            "type": "scattergl"
           }
          ],
          "scattermapbox": [
           {
            "marker": {
             "colorbar": {
              "outlinewidth": 0,
              "ticks": ""
             }
            },
            "type": "scattermapbox"
           }
          ],
          "scatterpolar": [
           {
            "marker": {
             "colorbar": {
              "outlinewidth": 0,
              "ticks": ""
             }
            },
            "type": "scatterpolar"
           }
          ],
          "scatterpolargl": [
           {
            "marker": {
             "colorbar": {
              "outlinewidth": 0,
              "ticks": ""
             }
            },
            "type": "scatterpolargl"
           }
          ],
          "scatterternary": [
           {
            "marker": {
             "colorbar": {
              "outlinewidth": 0,
              "ticks": ""
             }
            },
            "type": "scatterternary"
           }
          ],
          "surface": [
           {
            "colorbar": {
             "outlinewidth": 0,
             "ticks": ""
            },
            "colorscale": [
             [
              0,
              "#0d0887"
             ],
             [
              0.1111111111111111,
              "#46039f"
             ],
             [
              0.2222222222222222,
              "#7201a8"
             ],
             [
              0.3333333333333333,
              "#9c179e"
             ],
             [
              0.4444444444444444,
              "#bd3786"
             ],
             [
              0.5555555555555556,
              "#d8576b"
             ],
             [
              0.6666666666666666,
              "#ed7953"
             ],
             [
              0.7777777777777778,
              "#fb9f3a"
             ],
             [
              0.8888888888888888,
              "#fdca26"
             ],
             [
              1,
              "#f0f921"
             ]
            ],
            "type": "surface"
           }
          ],
          "table": [
           {
            "cells": {
             "fill": {
              "color": "#EBF0F8"
             },
             "line": {
              "color": "white"
             }
            },
            "header": {
             "fill": {
              "color": "#C8D4E3"
             },
             "line": {
              "color": "white"
             }
            },
            "type": "table"
           }
          ]
         },
         "layout": {
          "annotationdefaults": {
           "arrowcolor": "#2a3f5f",
           "arrowhead": 0,
           "arrowwidth": 1
          },
          "autotypenumbers": "strict",
          "coloraxis": {
           "colorbar": {
            "outlinewidth": 0,
            "ticks": ""
           }
          },
          "colorscale": {
           "diverging": [
            [
             0,
             "#8e0152"
            ],
            [
             0.1,
             "#c51b7d"
            ],
            [
             0.2,
             "#de77ae"
            ],
            [
             0.3,
             "#f1b6da"
            ],
            [
             0.4,
             "#fde0ef"
            ],
            [
             0.5,
             "#f7f7f7"
            ],
            [
             0.6,
             "#e6f5d0"
            ],
            [
             0.7,
             "#b8e186"
            ],
            [
             0.8,
             "#7fbc41"
            ],
            [
             0.9,
             "#4d9221"
            ],
            [
             1,
             "#276419"
            ]
           ],
           "sequential": [
            [
             0,
             "#0d0887"
            ],
            [
             0.1111111111111111,
             "#46039f"
            ],
            [
             0.2222222222222222,
             "#7201a8"
            ],
            [
             0.3333333333333333,
             "#9c179e"
            ],
            [
             0.4444444444444444,
             "#bd3786"
            ],
            [
             0.5555555555555556,
             "#d8576b"
            ],
            [
             0.6666666666666666,
             "#ed7953"
            ],
            [
             0.7777777777777778,
             "#fb9f3a"
            ],
            [
             0.8888888888888888,
             "#fdca26"
            ],
            [
             1,
             "#f0f921"
            ]
           ],
           "sequentialminus": [
            [
             0,
             "#0d0887"
            ],
            [
             0.1111111111111111,
             "#46039f"
            ],
            [
             0.2222222222222222,
             "#7201a8"
            ],
            [
             0.3333333333333333,
             "#9c179e"
            ],
            [
             0.4444444444444444,
             "#bd3786"
            ],
            [
             0.5555555555555556,
             "#d8576b"
            ],
            [
             0.6666666666666666,
             "#ed7953"
            ],
            [
             0.7777777777777778,
             "#fb9f3a"
            ],
            [
             0.8888888888888888,
             "#fdca26"
            ],
            [
             1,
             "#f0f921"
            ]
           ]
          },
          "colorway": [
           "#636efa",
           "#EF553B",
           "#00cc96",
           "#ab63fa",
           "#FFA15A",
           "#19d3f3",
           "#FF6692",
           "#B6E880",
           "#FF97FF",
           "#FECB52"
          ],
          "font": {
           "color": "#2a3f5f"
          },
          "geo": {
           "bgcolor": "white",
           "lakecolor": "white",
           "landcolor": "#E5ECF6",
           "showlakes": true,
           "showland": true,
           "subunitcolor": "white"
          },
          "hoverlabel": {
           "align": "left"
          },
          "hovermode": "closest",
          "mapbox": {
           "style": "light"
          },
          "paper_bgcolor": "white",
          "plot_bgcolor": "#E5ECF6",
          "polar": {
           "angularaxis": {
            "gridcolor": "white",
            "linecolor": "white",
            "ticks": ""
           },
           "bgcolor": "#E5ECF6",
           "radialaxis": {
            "gridcolor": "white",
            "linecolor": "white",
            "ticks": ""
           }
          },
          "scene": {
           "xaxis": {
            "backgroundcolor": "#E5ECF6",
            "gridcolor": "white",
            "gridwidth": 2,
            "linecolor": "white",
            "showbackground": true,
            "ticks": "",
            "zerolinecolor": "white"
           },
           "yaxis": {
            "backgroundcolor": "#E5ECF6",
            "gridcolor": "white",
            "gridwidth": 2,
            "linecolor": "white",
            "showbackground": true,
            "ticks": "",
            "zerolinecolor": "white"
           },
           "zaxis": {
            "backgroundcolor": "#E5ECF6",
            "gridcolor": "white",
            "gridwidth": 2,
            "linecolor": "white",
            "showbackground": true,
            "ticks": "",
            "zerolinecolor": "white"
           }
          },
          "shapedefaults": {
           "line": {
            "color": "#2a3f5f"
           }
          },
          "ternary": {
           "aaxis": {
            "gridcolor": "white",
            "linecolor": "white",
            "ticks": ""
           },
           "baxis": {
            "gridcolor": "white",
            "linecolor": "white",
            "ticks": ""
           },
           "bgcolor": "#E5ECF6",
           "caxis": {
            "gridcolor": "white",
            "linecolor": "white",
            "ticks": ""
           }
          },
          "title": {
           "x": 0.05
          },
          "xaxis": {
           "automargin": true,
           "gridcolor": "white",
           "linecolor": "white",
           "ticks": "",
           "title": {
            "standoff": 15
           },
           "zerolinecolor": "white",
           "zerolinewidth": 2
          },
          "yaxis": {
           "automargin": true,
           "gridcolor": "white",
           "linecolor": "white",
           "ticks": "",
           "title": {
            "standoff": 15
           },
           "zerolinecolor": "white",
           "zerolinewidth": 2
          }
         }
        },
        "xaxis": {
         "anchor": "y",
         "domain": [
          0,
          1
         ],
         "title": {
          "text": "Year"
         }
        },
        "yaxis": {
         "anchor": "x",
         "domain": [
          0,
          1
         ],
         "title": {
          "text": "value"
         }
        }
       }
      }
     },
     "metadata": {},
     "output_type": "display_data"
    }
   ],
   "source": [
    "x = data.earnings\n",
    "px.line(x)"
   ]
  },
  {
   "cell_type": "code",
   "execution_count": 25,
   "metadata": {},
   "outputs": [
    {
     "name": "stdout",
     "output_type": "stream",
     "text": [
      "        0                                      1\n",
      "0  19.96%        % of Shares Held by All Insider\n",
      "1  42.45%       % of Shares Held by Institutions\n",
      "2  53.03%        % of Float Held by Institutions\n",
      "3    2839  Number of Institutions Holding Shares\n"
     ]
    }
   ],
   "source": [
    "print(data.major_holders)"
   ]
  },
  {
   "cell_type": "code",
   "execution_count": 26,
   "metadata": {},
   "outputs": [
    {
     "data": {
      "text/html": [
       "<div>\n",
       "<style scoped>\n",
       "    .dataframe tbody tr th:only-of-type {\n",
       "        vertical-align: middle;\n",
       "    }\n",
       "\n",
       "    .dataframe tbody tr th {\n",
       "        vertical-align: top;\n",
       "    }\n",
       "\n",
       "    .dataframe thead th {\n",
       "        text-align: right;\n",
       "    }\n",
       "</style>\n",
       "<table border=\"1\" class=\"dataframe\">\n",
       "  <thead>\n",
       "    <tr style=\"text-align: right;\">\n",
       "      <th></th>\n",
       "      <th>Holder</th>\n",
       "      <th>Shares</th>\n",
       "      <th>Date Reported</th>\n",
       "      <th>% Out</th>\n",
       "      <th>Value</th>\n",
       "    </tr>\n",
       "  </thead>\n",
       "  <tbody>\n",
       "    <tr>\n",
       "      <th>0</th>\n",
       "      <td>Vanguard Group, Inc. (The)</td>\n",
       "      <td>61992012</td>\n",
       "      <td>2021-09-29</td>\n",
       "      <td>0.0617</td>\n",
       "      <td>48073565465</td>\n",
       "    </tr>\n",
       "    <tr>\n",
       "      <th>1</th>\n",
       "      <td>Blackrock Inc.</td>\n",
       "      <td>52829488</td>\n",
       "      <td>2021-09-29</td>\n",
       "      <td>0.0526</td>\n",
       "      <td>40968211354</td>\n",
       "    </tr>\n",
       "    <tr>\n",
       "      <th>2</th>\n",
       "      <td>Capital World Investors</td>\n",
       "      <td>37427314</td>\n",
       "      <td>2021-09-29</td>\n",
       "      <td>0.0373</td>\n",
       "      <td>29024133460</td>\n",
       "    </tr>\n",
       "    <tr>\n",
       "      <th>3</th>\n",
       "      <td>State Street Corporation</td>\n",
       "      <td>31230141</td>\n",
       "      <td>2021-09-29</td>\n",
       "      <td>0.0311</td>\n",
       "      <td>24218349742</td>\n",
       "    </tr>\n",
       "    <tr>\n",
       "      <th>4</th>\n",
       "      <td>Baillie Gifford and Company</td>\n",
       "      <td>13853124</td>\n",
       "      <td>2021-09-29</td>\n",
       "      <td>0.0138</td>\n",
       "      <td>10742820599</td>\n",
       "    </tr>\n",
       "    <tr>\n",
       "      <th>5</th>\n",
       "      <td>Geode Capital Management, LLC</td>\n",
       "      <td>13169939</td>\n",
       "      <td>2021-09-29</td>\n",
       "      <td>0.0131</td>\n",
       "      <td>10213024295</td>\n",
       "    </tr>\n",
       "    <tr>\n",
       "      <th>6</th>\n",
       "      <td>Jennison Associates LLC</td>\n",
       "      <td>10630339</td>\n",
       "      <td>2021-09-29</td>\n",
       "      <td>0.0106</td>\n",
       "      <td>8243615287</td>\n",
       "    </tr>\n",
       "    <tr>\n",
       "      <th>7</th>\n",
       "      <td>FMR, LLC</td>\n",
       "      <td>9921292</td>\n",
       "      <td>2021-09-29</td>\n",
       "      <td>0.0099</td>\n",
       "      <td>7693763520</td>\n",
       "    </tr>\n",
       "    <tr>\n",
       "      <th>8</th>\n",
       "      <td>Northern Trust Corporation</td>\n",
       "      <td>8634516</td>\n",
       "      <td>2021-09-29</td>\n",
       "      <td>0.0086</td>\n",
       "      <td>6695894467</td>\n",
       "    </tr>\n",
       "    <tr>\n",
       "      <th>9</th>\n",
       "      <td>Norges Bank Investment Management</td>\n",
       "      <td>7790070</td>\n",
       "      <td>2020-12-30</td>\n",
       "      <td>0.0078</td>\n",
       "      <td>5497218696</td>\n",
       "    </tr>\n",
       "  </tbody>\n",
       "</table>\n",
       "</div>"
      ],
      "text/plain": [
       "                              Holder    Shares Date Reported   % Out  \\\n",
       "0         Vanguard Group, Inc. (The)  61992012    2021-09-29  0.0617   \n",
       "1                     Blackrock Inc.  52829488    2021-09-29  0.0526   \n",
       "2            Capital World Investors  37427314    2021-09-29  0.0373   \n",
       "3           State Street Corporation  31230141    2021-09-29  0.0311   \n",
       "4        Baillie Gifford and Company  13853124    2021-09-29  0.0138   \n",
       "5      Geode Capital Management, LLC  13169939    2021-09-29  0.0131   \n",
       "6            Jennison Associates LLC  10630339    2021-09-29  0.0106   \n",
       "7                           FMR, LLC   9921292    2021-09-29  0.0099   \n",
       "8         Northern Trust Corporation   8634516    2021-09-29  0.0086   \n",
       "9  Norges Bank Investment Management   7790070    2020-12-30  0.0078   \n",
       "\n",
       "         Value  \n",
       "0  48073565465  \n",
       "1  40968211354  \n",
       "2  29024133460  \n",
       "3  24218349742  \n",
       "4  10742820599  \n",
       "5  10213024295  \n",
       "6   8243615287  \n",
       "7   7693763520  \n",
       "8   6695894467  \n",
       "9   5497218696  "
      ]
     },
     "execution_count": 26,
     "metadata": {},
     "output_type": "execute_result"
    }
   ],
   "source": [
    "data.institutional_holders"
   ]
  },
  {
   "cell_type": "code",
   "execution_count": 27,
   "metadata": {},
   "outputs": [
    {
     "data": {
      "text/plain": [
       "{'zip': '78725',\n",
       " 'sector': 'Consumer Cyclical',\n",
       " 'fullTimeEmployees': 70757,\n",
       " 'longBusinessSummary': 'Tesla, Inc. designs, develops, manufactures, leases, and sells electric vehicles, and energy generation and storage systems in the United States, China, and internationally. The company operates in two segments, Automotive, and Energy Generation and Storage. The Automotive segment offers electric vehicles, as well as sells automotive regulatory credits. It provides sedans and sport utility vehicles through direct and used vehicle sales, a network of Tesla Superchargers, and in-app upgrades; and purchase financing and leasing services. This segment is also involved in the provision of non-warranty after-sales vehicle services, sale of used vehicles, retail merchandise, and vehicle insurance, as well as sale of products through its subsidiaries to third party customers; services for electric vehicles through its company-owned service locations, and Tesla mobile service technicians; and vehicle limited warranties and extended service plans. The Energy Generation and Storage segment engages in the design, manufacture, installation, sale, and leasing of solar energy generation and energy storage products, and related services to residential, commercial, and industrial customers and utilities through its website, stores, and galleries, as well as through a network of channel partners. This segment also offers service and repairs to its energy product customers, including under warranty; and various financing options to its solar customers. The company was formerly known as Tesla Motors, Inc. and changed its name to Tesla, Inc. in February 2017. Tesla, Inc. was founded in 2003 and is headquartered in Austin, Texas.',\n",
       " 'city': 'Austin',\n",
       " 'phone': '650-681-5000',\n",
       " 'state': 'TX',\n",
       " 'country': 'United States',\n",
       " 'companyOfficers': [],\n",
       " 'website': 'https://www.tesla.com',\n",
       " 'maxAge': 1,\n",
       " 'address1': '13101 Harold Green Road',\n",
       " 'industry': 'Auto Manufacturers',\n",
       " 'ebitdaMargins': 0.15296,\n",
       " 'profitMargins': 0.07403,\n",
       " 'grossMargins': 0.23107,\n",
       " 'operatingCashflow': 9930999808,\n",
       " 'revenueGrowth': 0.568,\n",
       " 'operatingMargins': 0.095740005,\n",
       " 'ebitda': 7166000128,\n",
       " 'targetLowPrice': 67,\n",
       " 'recommendationKey': 'hold',\n",
       " 'grossProfits': 6630000000,\n",
       " 'freeCashflow': 4581499904,\n",
       " 'targetMedianPrice': 950,\n",
       " 'currentPrice': 1026.96,\n",
       " 'earningsGrowth': 4.333,\n",
       " 'currentRatio': 1.385,\n",
       " 'returnOnAssets': 0.05415,\n",
       " 'numberOfAnalystOpinions': 35,\n",
       " 'targetMeanPrice': 894.01,\n",
       " 'debtToEquity': 35.65,\n",
       " 'returnOnEquity': 0.15641,\n",
       " 'targetHighPrice': 1480,\n",
       " 'totalCash': 16094999552,\n",
       " 'totalDebt': 10158000128,\n",
       " 'totalRevenue': 46848000000,\n",
       " 'totalCashPerShare': 16.027,\n",
       " 'financialCurrency': 'USD',\n",
       " 'revenuePerShare': 48.272,\n",
       " 'quickRatio': 1.002,\n",
       " 'recommendationMean': 2.6,\n",
       " 'exchange': 'NMS',\n",
       " 'shortName': 'Tesla, Inc.',\n",
       " 'longName': 'Tesla, Inc.',\n",
       " 'exchangeTimezoneName': 'America/New_York',\n",
       " 'exchangeTimezoneShortName': 'EST',\n",
       " 'isEsgPopulated': False,\n",
       " 'gmtOffSetMilliseconds': '-18000000',\n",
       " 'quoteType': 'EQUITY',\n",
       " 'symbol': 'TSLA',\n",
       " 'messageBoardId': 'finmb_27444752',\n",
       " 'market': 'us_market',\n",
       " 'annualHoldingsTurnover': None,\n",
       " 'enterpriseToRevenue': 22.728,\n",
       " 'beta3Year': None,\n",
       " 'enterpriseToEbitda': 148.583,\n",
       " '52WeekChange': 0.26599193,\n",
       " 'morningStarRiskRating': None,\n",
       " 'forwardEps': 8.76,\n",
       " 'revenueQuarterlyGrowth': None,\n",
       " 'sharesOutstanding': 1004259968,\n",
       " 'fundInceptionDate': None,\n",
       " 'annualReportExpenseRatio': None,\n",
       " 'totalAssets': None,\n",
       " 'bookValue': 26.945,\n",
       " 'sharesShort': 25817321,\n",
       " 'sharesPercentSharesOut': 0.0257,\n",
       " 'fundFamily': None,\n",
       " 'lastFiscalYearEnd': 1609372800,\n",
       " 'heldPercentInstitutions': 0.42445,\n",
       " 'netIncomeToCommon': 3468000000,\n",
       " 'trailingEps': 3.062,\n",
       " 'lastDividendValue': None,\n",
       " 'SandP52WeekChange': 0.23092365,\n",
       " 'priceToBook': 38.113194,\n",
       " 'heldPercentInsiders': 0.1996,\n",
       " 'nextFiscalYearEnd': 1672444800,\n",
       " 'yield': None,\n",
       " 'mostRecentQuarter': 1632960000,\n",
       " 'shortRatio': 1.06,\n",
       " 'sharesShortPreviousMonthDate': 1636934400,\n",
       " 'floatShares': 809156277,\n",
       " 'beta': 1.977192,\n",
       " 'enterpriseValue': 1064744779776,\n",
       " 'priceHint': 2,\n",
       " 'threeYearAverageReturn': None,\n",
       " 'lastSplitDate': 1598832000,\n",
       " 'lastSplitFactor': '5:1',\n",
       " 'legalType': None,\n",
       " 'lastDividendDate': None,\n",
       " 'morningStarOverallRating': None,\n",
       " 'earningsQuarterlyGrowth': 3.888,\n",
       " 'priceToSalesTrailing12Months': 22.01449,\n",
       " 'dateShortInterest': 1639526400,\n",
       " 'pegRatio': 2.52,\n",
       " 'ytdReturn': None,\n",
       " 'forwardPE': 117.23287,\n",
       " 'lastCapGain': None,\n",
       " 'shortPercentOfFloat': 0.031600002,\n",
       " 'sharesShortPriorMonth': 25702669,\n",
       " 'impliedSharesOutstanding': None,\n",
       " 'category': None,\n",
       " 'fiveYearAverageReturn': None,\n",
       " 'previousClose': 1064.7,\n",
       " 'regularMarketOpen': 1080.37,\n",
       " 'twoHundredDayAverage': 793.3848,\n",
       " 'trailingAnnualDividendYield': None,\n",
       " 'payoutRatio': 0,\n",
       " 'volume24Hr': None,\n",
       " 'regularMarketDayHigh': 1080.83,\n",
       " 'navPrice': None,\n",
       " 'averageDailyVolume10Day': 24454800,\n",
       " 'regularMarketPreviousClose': 1064.7,\n",
       " 'fiftyDayAverage': 1073.3936,\n",
       " 'trailingAnnualDividendRate': None,\n",
       " 'open': 1080.37,\n",
       " 'toCurrency': None,\n",
       " 'averageVolume10days': 24454800,\n",
       " 'expireDate': None,\n",
       " 'algorithm': None,\n",
       " 'dividendRate': None,\n",
       " 'exDividendDate': None,\n",
       " 'circulatingSupply': None,\n",
       " 'startDate': None,\n",
       " 'regularMarketDayLow': 1010,\n",
       " 'currency': 'USD',\n",
       " 'trailingPE': 335.3886,\n",
       " 'regularMarketVolume': 28054916,\n",
       " 'lastMarket': None,\n",
       " 'maxSupply': None,\n",
       " 'openInterest': None,\n",
       " 'marketCap': 1031334789120,\n",
       " 'volumeAllCurrencies': None,\n",
       " 'strikePrice': None,\n",
       " 'averageVolume': 27359982,\n",
       " 'dayLow': 1010,\n",
       " 'ask': 1025.75,\n",
       " 'askSize': 1400,\n",
       " 'volume': 28054916,\n",
       " 'fiftyTwoWeekHigh': 1243.49,\n",
       " 'fromCurrency': None,\n",
       " 'fiveYearAvgDividendYield': None,\n",
       " 'fiftyTwoWeekLow': 539.49,\n",
       " 'bid': 1026.3,\n",
       " 'tradeable': False,\n",
       " 'dividendYield': None,\n",
       " 'bidSize': 800,\n",
       " 'dayHigh': 1080.83,\n",
       " 'regularMarketPrice': 1026.96,\n",
       " 'preMarketPrice': None,\n",
       " 'logo_url': 'https://logo.clearbit.com/tesla.com',\n",
       " 'trailingPegRatio': 2.6688}"
      ]
     },
     "execution_count": 27,
     "metadata": {},
     "output_type": "execute_result"
    }
   ],
   "source": [
    "data.info"
   ]
  },
  {
   "cell_type": "code",
   "execution_count": 28,
   "metadata": {},
   "outputs": [
    {
     "data": {
      "text/html": [
       "<div>\n",
       "<style scoped>\n",
       "    .dataframe tbody tr th:only-of-type {\n",
       "        vertical-align: middle;\n",
       "    }\n",
       "\n",
       "    .dataframe tbody tr th {\n",
       "        vertical-align: top;\n",
       "    }\n",
       "\n",
       "    .dataframe thead th {\n",
       "        text-align: right;\n",
       "    }\n",
       "</style>\n",
       "<table border=\"1\" class=\"dataframe\">\n",
       "  <thead>\n",
       "    <tr style=\"text-align: right;\">\n",
       "      <th></th>\n",
       "      <th>2020-12-31</th>\n",
       "      <th>2019-12-31</th>\n",
       "      <th>2018-12-31</th>\n",
       "      <th>2017-12-31</th>\n",
       "    </tr>\n",
       "  </thead>\n",
       "  <tbody>\n",
       "    <tr>\n",
       "      <th>Change To Liabilities</th>\n",
       "      <td>2.423000e+09</td>\n",
       "      <td>1.447000e+09</td>\n",
       "      <td>2.203000e+09</td>\n",
       "      <td>8.570000e+08</td>\n",
       "    </tr>\n",
       "    <tr>\n",
       "      <th>Total Cashflows From Investing Activities</th>\n",
       "      <td>-3.132000e+09</td>\n",
       "      <td>-1.436000e+09</td>\n",
       "      <td>-2.337000e+09</td>\n",
       "      <td>-4.196000e+09</td>\n",
       "    </tr>\n",
       "    <tr>\n",
       "      <th>Net Borrowings</th>\n",
       "      <td>-2.488000e+09</td>\n",
       "      <td>7.980000e+08</td>\n",
       "      <td>8.900000e+07</td>\n",
       "      <td>3.385000e+09</td>\n",
       "    </tr>\n",
       "    <tr>\n",
       "      <th>Total Cash From Financing Activities</th>\n",
       "      <td>9.973000e+09</td>\n",
       "      <td>1.529000e+09</td>\n",
       "      <td>5.740000e+08</td>\n",
       "      <td>4.415000e+09</td>\n",
       "    </tr>\n",
       "    <tr>\n",
       "      <th>Change To Operating Activities</th>\n",
       "      <td>-1.165000e+09</td>\n",
       "      <td>-1.000000e+09</td>\n",
       "      <td>-6.250000e+08</td>\n",
       "      <td>-1.150000e+09</td>\n",
       "    </tr>\n",
       "    <tr>\n",
       "      <th>Issuance Of Stock</th>\n",
       "      <td>1.268600e+10</td>\n",
       "      <td>1.111000e+09</td>\n",
       "      <td>2.960000e+08</td>\n",
       "      <td>6.590000e+08</td>\n",
       "    </tr>\n",
       "    <tr>\n",
       "      <th>Net Income</th>\n",
       "      <td>7.210000e+08</td>\n",
       "      <td>-8.620000e+08</td>\n",
       "      <td>-9.760000e+08</td>\n",
       "      <td>-1.962000e+09</td>\n",
       "    </tr>\n",
       "    <tr>\n",
       "      <th>Change In Cash</th>\n",
       "      <td>1.311800e+10</td>\n",
       "      <td>2.506000e+09</td>\n",
       "      <td>3.120000e+08</td>\n",
       "      <td>1.980000e+08</td>\n",
       "    </tr>\n",
       "    <tr>\n",
       "      <th>Effect Of Exchange Rate</th>\n",
       "      <td>3.340000e+08</td>\n",
       "      <td>8.000000e+06</td>\n",
       "      <td>-2.300000e+07</td>\n",
       "      <td>4.000000e+07</td>\n",
       "    </tr>\n",
       "    <tr>\n",
       "      <th>Total Cash From Operating Activities</th>\n",
       "      <td>5.943000e+09</td>\n",
       "      <td>2.405000e+09</td>\n",
       "      <td>2.098000e+09</td>\n",
       "      <td>-6.100000e+07</td>\n",
       "    </tr>\n",
       "    <tr>\n",
       "      <th>Depreciation</th>\n",
       "      <td>2.322000e+09</td>\n",
       "      <td>2.092000e+09</td>\n",
       "      <td>1.888000e+09</td>\n",
       "      <td>1.636000e+09</td>\n",
       "    </tr>\n",
       "    <tr>\n",
       "      <th>Other Cashflows From Investing Activities</th>\n",
       "      <td>1.230000e+08</td>\n",
       "      <td>4.600000e+07</td>\n",
       "      <td>4.600000e+07</td>\n",
       "      <td>4.600000e+07</td>\n",
       "    </tr>\n",
       "    <tr>\n",
       "      <th>Change To Inventory</th>\n",
       "      <td>-4.220000e+08</td>\n",
       "      <td>-4.290000e+08</td>\n",
       "      <td>-1.023000e+09</td>\n",
       "      <td>-1.790000e+08</td>\n",
       "    </tr>\n",
       "    <tr>\n",
       "      <th>Change To Account Receivables</th>\n",
       "      <td>-6.520000e+08</td>\n",
       "      <td>-3.670000e+08</td>\n",
       "      <td>-4.970000e+08</td>\n",
       "      <td>-2.500000e+07</td>\n",
       "    </tr>\n",
       "    <tr>\n",
       "      <th>Other Cashflows From Financing Activities</th>\n",
       "      <td>-2.250000e+08</td>\n",
       "      <td>-3.800000e+08</td>\n",
       "      <td>1.890000e+08</td>\n",
       "      <td>3.710000e+08</td>\n",
       "    </tr>\n",
       "    <tr>\n",
       "      <th>Change To Netincome</th>\n",
       "      <td>2.536000e+09</td>\n",
       "      <td>1.336000e+09</td>\n",
       "      <td>9.690000e+08</td>\n",
       "      <td>6.710000e+08</td>\n",
       "    </tr>\n",
       "    <tr>\n",
       "      <th>Capital Expenditures</th>\n",
       "      <td>-3.232000e+09</td>\n",
       "      <td>-1.432000e+09</td>\n",
       "      <td>-2.319000e+09</td>\n",
       "      <td>-4.081000e+09</td>\n",
       "    </tr>\n",
       "  </tbody>\n",
       "</table>\n",
       "</div>"
      ],
      "text/plain": [
       "                                             2020-12-31    2019-12-31  \\\n",
       "Change To Liabilities                      2.423000e+09  1.447000e+09   \n",
       "Total Cashflows From Investing Activities -3.132000e+09 -1.436000e+09   \n",
       "Net Borrowings                            -2.488000e+09  7.980000e+08   \n",
       "Total Cash From Financing Activities       9.973000e+09  1.529000e+09   \n",
       "Change To Operating Activities            -1.165000e+09 -1.000000e+09   \n",
       "Issuance Of Stock                          1.268600e+10  1.111000e+09   \n",
       "Net Income                                 7.210000e+08 -8.620000e+08   \n",
       "Change In Cash                             1.311800e+10  2.506000e+09   \n",
       "Effect Of Exchange Rate                    3.340000e+08  8.000000e+06   \n",
       "Total Cash From Operating Activities       5.943000e+09  2.405000e+09   \n",
       "Depreciation                               2.322000e+09  2.092000e+09   \n",
       "Other Cashflows From Investing Activities  1.230000e+08  4.600000e+07   \n",
       "Change To Inventory                       -4.220000e+08 -4.290000e+08   \n",
       "Change To Account Receivables             -6.520000e+08 -3.670000e+08   \n",
       "Other Cashflows From Financing Activities -2.250000e+08 -3.800000e+08   \n",
       "Change To Netincome                        2.536000e+09  1.336000e+09   \n",
       "Capital Expenditures                      -3.232000e+09 -1.432000e+09   \n",
       "\n",
       "                                             2018-12-31    2017-12-31  \n",
       "Change To Liabilities                      2.203000e+09  8.570000e+08  \n",
       "Total Cashflows From Investing Activities -2.337000e+09 -4.196000e+09  \n",
       "Net Borrowings                             8.900000e+07  3.385000e+09  \n",
       "Total Cash From Financing Activities       5.740000e+08  4.415000e+09  \n",
       "Change To Operating Activities            -6.250000e+08 -1.150000e+09  \n",
       "Issuance Of Stock                          2.960000e+08  6.590000e+08  \n",
       "Net Income                                -9.760000e+08 -1.962000e+09  \n",
       "Change In Cash                             3.120000e+08  1.980000e+08  \n",
       "Effect Of Exchange Rate                   -2.300000e+07  4.000000e+07  \n",
       "Total Cash From Operating Activities       2.098000e+09 -6.100000e+07  \n",
       "Depreciation                               1.888000e+09  1.636000e+09  \n",
       "Other Cashflows From Investing Activities  4.600000e+07  4.600000e+07  \n",
       "Change To Inventory                       -1.023000e+09 -1.790000e+08  \n",
       "Change To Account Receivables             -4.970000e+08 -2.500000e+07  \n",
       "Other Cashflows From Financing Activities  1.890000e+08  3.710000e+08  \n",
       "Change To Netincome                        9.690000e+08  6.710000e+08  \n",
       "Capital Expenditures                      -2.319000e+09 -4.081000e+09  "
      ]
     },
     "execution_count": 28,
     "metadata": {},
     "output_type": "execute_result"
    }
   ],
   "source": [
    "data.cashflow"
   ]
  },
  {
   "cell_type": "code",
   "execution_count": 29,
   "metadata": {},
   "outputs": [],
   "source": [
    "data_cencosud = yf.Ticker('CENCOSUD.SN')"
   ]
  },
  {
   "cell_type": "code",
   "execution_count": 30,
   "metadata": {},
   "outputs": [
    {
     "data": {
      "text/html": [
       "<div>\n",
       "<style scoped>\n",
       "    .dataframe tbody tr th:only-of-type {\n",
       "        vertical-align: middle;\n",
       "    }\n",
       "\n",
       "    .dataframe tbody tr th {\n",
       "        vertical-align: top;\n",
       "    }\n",
       "\n",
       "    .dataframe thead th {\n",
       "        text-align: right;\n",
       "    }\n",
       "</style>\n",
       "<table border=\"1\" class=\"dataframe\">\n",
       "  <thead>\n",
       "    <tr style=\"text-align: right;\">\n",
       "      <th></th>\n",
       "      <th>2020-12-31</th>\n",
       "      <th>2019-12-31</th>\n",
       "      <th>2018-12-31</th>\n",
       "      <th>2017-12-31</th>\n",
       "    </tr>\n",
       "  </thead>\n",
       "  <tbody>\n",
       "    <tr>\n",
       "      <th>Change To Liabilities</th>\n",
       "      <td>0.000000e+00</td>\n",
       "      <td>0.000000e+00</td>\n",
       "      <td>0.000000e+00</td>\n",
       "      <td>0.000000e+00</td>\n",
       "    </tr>\n",
       "    <tr>\n",
       "      <th>Total Cashflows From Investing Activities</th>\n",
       "      <td>-3.514789e+11</td>\n",
       "      <td>5.706851e+11</td>\n",
       "      <td>-2.574715e+11</td>\n",
       "      <td>-1.008979e+11</td>\n",
       "    </tr>\n",
       "    <tr>\n",
       "      <th>Net Borrowings</th>\n",
       "      <td>-9.140228e+11</td>\n",
       "      <td>-5.109452e+11</td>\n",
       "      <td>9.126356e+10</td>\n",
       "      <td>7.829537e+10</td>\n",
       "    </tr>\n",
       "    <tr>\n",
       "      <th>Total Cash From Financing Activities</th>\n",
       "      <td>-1.161169e+12</td>\n",
       "      <td>-6.074145e+11</td>\n",
       "      <td>-2.155145e+11</td>\n",
       "      <td>-3.081732e+11</td>\n",
       "    </tr>\n",
       "    <tr>\n",
       "      <th>Net Income</th>\n",
       "      <td>2.293061e+10</td>\n",
       "      <td>1.141096e+11</td>\n",
       "      <td>1.912852e+11</td>\n",
       "      <td>4.399887e+11</td>\n",
       "    </tr>\n",
       "    <tr>\n",
       "      <th>Change In Cash</th>\n",
       "      <td>-3.856316e+11</td>\n",
       "      <td>7.467396e+11</td>\n",
       "      <td>6.683716e+10</td>\n",
       "      <td>-2.123168e+10</td>\n",
       "    </tr>\n",
       "    <tr>\n",
       "      <th>Effect Of Exchange Rate</th>\n",
       "      <td>-2.025969e+10</td>\n",
       "      <td>1.922419e+10</td>\n",
       "      <td>-1.825501e+09</td>\n",
       "      <td>-2.546029e+10</td>\n",
       "    </tr>\n",
       "    <tr>\n",
       "      <th>Total Cash From Operating Activities</th>\n",
       "      <td>1.147276e+12</td>\n",
       "      <td>7.642448e+11</td>\n",
       "      <td>5.416487e+11</td>\n",
       "      <td>4.132997e+11</td>\n",
       "    </tr>\n",
       "    <tr>\n",
       "      <th>Depreciation</th>\n",
       "      <td>3.427662e+11</td>\n",
       "      <td>2.855472e+11</td>\n",
       "      <td>1.773089e+11</td>\n",
       "      <td>2.099207e+11</td>\n",
       "    </tr>\n",
       "    <tr>\n",
       "      <th>Other Cashflows From Investing Activities</th>\n",
       "      <td>-2.944102e+11</td>\n",
       "      <td>6.534630e+11</td>\n",
       "      <td>-6.290608e+10</td>\n",
       "      <td>1.039733e+11</td>\n",
       "    </tr>\n",
       "    <tr>\n",
       "      <th>Dividends Paid</th>\n",
       "      <td>-9.136014e+10</td>\n",
       "      <td>-2.863129e+10</td>\n",
       "      <td>-7.158207e+10</td>\n",
       "      <td>-1.431391e+11</td>\n",
       "    </tr>\n",
       "    <tr>\n",
       "      <th>Other Cashflows From Financing Activities</th>\n",
       "      <td>-1.557865e+11</td>\n",
       "      <td>-5.803236e+10</td>\n",
       "      <td>-2.351960e+11</td>\n",
       "      <td>-2.439946e+11</td>\n",
       "    </tr>\n",
       "    <tr>\n",
       "      <th>Change To Netincome</th>\n",
       "      <td>7.507431e+11</td>\n",
       "      <td>3.323907e+11</td>\n",
       "      <td>1.357796e+11</td>\n",
       "      <td>-2.687433e+11</td>\n",
       "    </tr>\n",
       "    <tr>\n",
       "      <th>Capital Expenditures</th>\n",
       "      <td>-4.977471e+10</td>\n",
       "      <td>-1.529842e+11</td>\n",
       "      <td>-1.742567e+11</td>\n",
       "      <td>-1.917982e+11</td>\n",
       "    </tr>\n",
       "    <tr>\n",
       "      <th>Repurchase Of Stock</th>\n",
       "      <td>NaN</td>\n",
       "      <td>-9.805715e+09</td>\n",
       "      <td>-9.805715e+09</td>\n",
       "      <td>-9.805715e+09</td>\n",
       "    </tr>\n",
       "    <tr>\n",
       "      <th>Issuance Of Stock</th>\n",
       "      <td>NaN</td>\n",
       "      <td>NaN</td>\n",
       "      <td>NaN</td>\n",
       "      <td>6.651750e+08</td>\n",
       "    </tr>\n",
       "  </tbody>\n",
       "</table>\n",
       "</div>"
      ],
      "text/plain": [
       "                                             2020-12-31    2019-12-31  \\\n",
       "Change To Liabilities                      0.000000e+00  0.000000e+00   \n",
       "Total Cashflows From Investing Activities -3.514789e+11  5.706851e+11   \n",
       "Net Borrowings                            -9.140228e+11 -5.109452e+11   \n",
       "Total Cash From Financing Activities      -1.161169e+12 -6.074145e+11   \n",
       "Net Income                                 2.293061e+10  1.141096e+11   \n",
       "Change In Cash                            -3.856316e+11  7.467396e+11   \n",
       "Effect Of Exchange Rate                   -2.025969e+10  1.922419e+10   \n",
       "Total Cash From Operating Activities       1.147276e+12  7.642448e+11   \n",
       "Depreciation                               3.427662e+11  2.855472e+11   \n",
       "Other Cashflows From Investing Activities -2.944102e+11  6.534630e+11   \n",
       "Dividends Paid                            -9.136014e+10 -2.863129e+10   \n",
       "Other Cashflows From Financing Activities -1.557865e+11 -5.803236e+10   \n",
       "Change To Netincome                        7.507431e+11  3.323907e+11   \n",
       "Capital Expenditures                      -4.977471e+10 -1.529842e+11   \n",
       "Repurchase Of Stock                                 NaN -9.805715e+09   \n",
       "Issuance Of Stock                                   NaN           NaN   \n",
       "\n",
       "                                             2018-12-31    2017-12-31  \n",
       "Change To Liabilities                      0.000000e+00  0.000000e+00  \n",
       "Total Cashflows From Investing Activities -2.574715e+11 -1.008979e+11  \n",
       "Net Borrowings                             9.126356e+10  7.829537e+10  \n",
       "Total Cash From Financing Activities      -2.155145e+11 -3.081732e+11  \n",
       "Net Income                                 1.912852e+11  4.399887e+11  \n",
       "Change In Cash                             6.683716e+10 -2.123168e+10  \n",
       "Effect Of Exchange Rate                   -1.825501e+09 -2.546029e+10  \n",
       "Total Cash From Operating Activities       5.416487e+11  4.132997e+11  \n",
       "Depreciation                               1.773089e+11  2.099207e+11  \n",
       "Other Cashflows From Investing Activities -6.290608e+10  1.039733e+11  \n",
       "Dividends Paid                            -7.158207e+10 -1.431391e+11  \n",
       "Other Cashflows From Financing Activities -2.351960e+11 -2.439946e+11  \n",
       "Change To Netincome                        1.357796e+11 -2.687433e+11  \n",
       "Capital Expenditures                      -1.742567e+11 -1.917982e+11  \n",
       "Repurchase Of Stock                       -9.805715e+09 -9.805715e+09  \n",
       "Issuance Of Stock                                   NaN  6.651750e+08  "
      ]
     },
     "execution_count": 30,
     "metadata": {},
     "output_type": "execute_result"
    }
   ],
   "source": [
    "data_cencosud.cashflow"
   ]
  },
  {
   "cell_type": "code",
   "execution_count": 31,
   "metadata": {},
   "outputs": [
    {
     "data": {
      "text/plain": [
       "<AxesSubplot:xlabel='Year'>"
      ]
     },
     "execution_count": 31,
     "metadata": {},
     "output_type": "execute_result"
    },
    {
     "data": {
      "image/png": "[encoded data removed]",
      "text/plain": [
       "<Figure size 432x288 with 1 Axes>"
      ]
     },
     "metadata": {
      "needs_background": "light"
     },
     "output_type": "display_data"
    }
   ],
   "source": [
    "data_cencosud.earnings.plot(kind='bar')"
   ]
  },
  {
   "cell_type": "code",
   "execution_count": 32,
   "metadata": {},
   "outputs": [],
   "source": [
    "x = data_cencosud.institutional_holders"
   ]
  },
  {
   "cell_type": "code",
   "execution_count": 33,
   "metadata": {},
   "outputs": [
    {
     "data": {
      "text/html": [
       "<div>\n",
       "<style scoped>\n",
       "    .dataframe tbody tr th:only-of-type {\n",
       "        vertical-align: middle;\n",
       "    }\n",
       "\n",
       "    .dataframe tbody tr th {\n",
       "        vertical-align: top;\n",
       "    }\n",
       "\n",
       "    .dataframe thead th {\n",
       "        text-align: right;\n",
       "    }\n",
       "</style>\n",
       "<table border=\"1\" class=\"dataframe\">\n",
       "  <thead>\n",
       "    <tr style=\"text-align: right;\">\n",
       "      <th></th>\n",
       "      <th>0</th>\n",
       "      <th>1</th>\n",
       "    </tr>\n",
       "  </thead>\n",
       "  <tbody>\n",
       "    <tr>\n",
       "      <th>0</th>\n",
       "      <td>52.41%</td>\n",
       "      <td>% of Shares Held by All Insider</td>\n",
       "    </tr>\n",
       "    <tr>\n",
       "      <th>1</th>\n",
       "      <td>36.81%</td>\n",
       "      <td>% of Shares Held by Institutions</td>\n",
       "    </tr>\n",
       "    <tr>\n",
       "      <th>2</th>\n",
       "      <td>77.35%</td>\n",
       "      <td>% of Float Held by Institutions</td>\n",
       "    </tr>\n",
       "    <tr>\n",
       "      <th>3</th>\n",
       "      <td>161</td>\n",
       "      <td>Number of Institutions Holding Shares</td>\n",
       "    </tr>\n",
       "  </tbody>\n",
       "</table>\n",
       "</div>"
      ],
      "text/plain": [
       "        0                                      1\n",
       "0  52.41%        % of Shares Held by All Insider\n",
       "1  36.81%       % of Shares Held by Institutions\n",
       "2  77.35%        % of Float Held by Institutions\n",
       "3     161  Number of Institutions Holding Shares"
      ]
     },
     "execution_count": 33,
     "metadata": {},
     "output_type": "execute_result"
    }
   ],
   "source": [
    "data_cencosud.major_holders"
   ]
  },
  {
   "cell_type": "code",
   "execution_count": 34,
   "metadata": {},
   "outputs": [
    {
     "data": {
      "text/html": [
       "<div>\n",
       "<style scoped>\n",
       "    .dataframe tbody tr th:only-of-type {\n",
       "        vertical-align: middle;\n",
       "    }\n",
       "\n",
       "    .dataframe tbody tr th {\n",
       "        vertical-align: top;\n",
       "    }\n",
       "\n",
       "    .dataframe thead th {\n",
       "        text-align: right;\n",
       "    }\n",
       "</style>\n",
       "<table border=\"1\" class=\"dataframe\">\n",
       "  <thead>\n",
       "    <tr style=\"text-align: right;\">\n",
       "      <th></th>\n",
       "      <th>Holder</th>\n",
       "      <th>Shares</th>\n",
       "      <th>Date Reported</th>\n",
       "      <th>% Out</th>\n",
       "      <th>Value</th>\n",
       "    </tr>\n",
       "  </thead>\n",
       "  <tbody>\n",
       "    <tr>\n",
       "      <th>0</th>\n",
       "      <td>Vanguard International Stock Index-Emerging Ma...</td>\n",
       "      <td>19001995</td>\n",
       "      <td>2021-10-30</td>\n",
       "      <td>0.0066</td>\n",
       "      <td>22612374050</td>\n",
       "    </tr>\n",
       "    <tr>\n",
       "      <th>1</th>\n",
       "      <td>Vanguard International Stock Index-Total Intl ...</td>\n",
       "      <td>18146497</td>\n",
       "      <td>2021-10-30</td>\n",
       "      <td>0.0063</td>\n",
       "      <td>21594331430</td>\n",
       "    </tr>\n",
       "    <tr>\n",
       "      <th>2</th>\n",
       "      <td>iShares Core MSCI Emerging Markets ETF</td>\n",
       "      <td>12358010</td>\n",
       "      <td>2021-10-30</td>\n",
       "      <td>0.0043</td>\n",
       "      <td>14706031900</td>\n",
       "    </tr>\n",
       "    <tr>\n",
       "      <th>3</th>\n",
       "      <td>iShares MSCI Chile ETF</td>\n",
       "      <td>10926804</td>\n",
       "      <td>2021-10-30</td>\n",
       "      <td>0.0038</td>\n",
       "      <td>13002896760</td>\n",
       "    </tr>\n",
       "  </tbody>\n",
       "</table>\n",
       "</div>"
      ],
      "text/plain": [
       "                                              Holder    Shares Date Reported  \\\n",
       "0  Vanguard International Stock Index-Emerging Ma...  19001995    2021-10-30   \n",
       "1  Vanguard International Stock Index-Total Intl ...  18146497    2021-10-30   \n",
       "2             iShares Core MSCI Emerging Markets ETF  12358010    2021-10-30   \n",
       "3                             iShares MSCI Chile ETF  10926804    2021-10-30   \n",
       "\n",
       "    % Out        Value  \n",
       "0  0.0066  22612374050  \n",
       "1  0.0063  21594331430  \n",
       "2  0.0043  14706031900  \n",
       "3  0.0038  13002896760  "
      ]
     },
     "execution_count": 34,
     "metadata": {},
     "output_type": "execute_result"
    }
   ],
   "source": [
    "x[x['Shares']>10000000]"
   ]
  },
  {
   "cell_type": "code",
   "execution_count": 35,
   "metadata": {},
   "outputs": [
    {
     "name": "stdout",
     "output_type": "stream",
     "text": [
      "                                    Firm        To Grade From Grade Action\n",
      "Date                                                                      \n",
      "2021-06-14 13:55:22    Canaccord Genuity             Buy              main\n",
      "2021-06-29 11:29:11                  UBS         Neutral              main\n",
      "2021-07-07 14:52:52            JP Morgan     Underweight              main\n",
      "2021-07-27 10:54:46               Mizuho             Buy              main\n",
      "2021-07-27 11:48:23          Wells Fargo    Equal-Weight              main\n",
      "2021-07-27 11:51:22          RBC Capital  Sector Perform              main\n",
      "2021-07-27 13:38:59        Goldman Sachs             Buy              main\n",
      "2021-07-27 14:27:49    Canaccord Genuity             Buy              main\n",
      "2021-07-29 10:14:50              DZ Bank             Buy       Sell     up\n",
      "2021-08-02 15:55:02       KGI Securities      Outperform              init\n",
      "2021-08-09 09:17:02            Jefferies             Buy       Hold     up\n",
      "2021-09-23 12:18:35      Tudor Pickering            Sell              init\n",
      "2021-10-04 10:44:57          RBC Capital  Sector Perform              main\n",
      "2021-10-08 13:28:13    Canaccord Genuity             Buy              main\n",
      "2021-10-14 10:45:16             Barclays     Underweight              main\n",
      "2021-10-15 13:26:02            Jefferies             Buy              main\n",
      "2021-10-21 10:21:59              Wedbush      Outperform              main\n",
      "2021-10-21 11:06:18        Credit Suisse         Neutral              main\n",
      "2021-10-21 11:07:12          Wells Fargo    Equal-Weight              main\n",
      "2021-10-21 11:58:01          RBC Capital  Sector Perform              main\n",
      "2021-10-21 12:42:25               Mizuho             Buy              main\n",
      "2021-10-21 14:23:55         Roth Capital         Neutral              main\n",
      "2021-10-21 14:33:04    Canaccord Genuity             Buy              main\n",
      "2021-10-27 12:15:11        Goldman Sachs             Buy              main\n",
      "2021-10-28 14:15:36        Piper Sandler      Overweight              main\n",
      "2021-11-08 12:27:21            Jefferies             Buy              main\n",
      "2021-11-19 11:55:04              Wedbush      Outperform              main\n",
      "2021-12-07 13:03:07                  UBS         Neutral              main\n",
      "2021-12-08 14:08:29  New Street Research             Buy              main\n",
      "2021-12-20 12:18:04           Guggenheim         Neutral              init\n",
      "2021-12-28 12:49:51       Argus Research             Buy              main\n",
      "2021-12-31 15:16:10        Deutsche Bank             Buy              main\n",
      "2022-01-03 14:17:31          RBC Capital  Sector Perform              main\n",
      "2022-01-03 16:33:41            JP Morgan     Underweight              main\n",
      "2022-01-03 17:54:18        Deutsche Bank             Buy              main\n",
      "2022-01-05 14:03:16               Mizuho             Buy              main\n",
      "2022-01-05 14:17:09             Barclays     Underweight              main\n"
     ]
    }
   ],
   "source": [
    "x = data.recommendations\n",
    "x = x[x.index > '2021-06-01']\n",
    "print(x)"
   ]
  },
  {
   "cell_type": "markdown",
   "metadata": {},
   "source": [
    "# create a function that will take a ticker as its parameter, and output the ROE value for that ticker."
   ]
  },
  {
   "cell_type": "code",
   "execution_count": 36,
   "metadata": {},
   "outputs": [],
   "source": [
    "def ROE(ticker):\n",
    "    data = yf.Ticker(ticker)\n",
    "    roe = data.info['returnOnEquity']\n",
    "    name = data.info['shortName']\n",
    "    print(name, ':', roe)"
   ]
  },
  {
   "cell_type": "code",
   "execution_count": 37,
   "metadata": {},
   "outputs": [
    {
     "name": "stdout",
     "output_type": "stream",
     "text": [
      "Apple Inc. : 1.47443\n",
      "Tesla, Inc. : 0.15641\n",
      "CENCOSUD SA : 0.11033\n"
     ]
    }
   ],
   "source": [
    "ROE('AAPL')\n",
    "ROE('TSLA')\n",
    "ROE('CENCOSUD.SN')"
   ]
  },
  {
   "cell_type": "code",
   "execution_count": 38,
   "metadata": {},
   "outputs": [
    {
     "name": "stdout",
     "output_type": "stream",
     "text": [
      "                   Open         High          Low        Close    Volume  \\\n",
      "Date                                                                       \n",
      "2021-07-08   628.369995   654.429993   620.460022   652.809998  22773300   \n",
      "2021-07-09   653.179993   658.909973   644.690002   656.950012  18140500   \n",
      "2021-07-12   662.200012   687.239990   662.159973   685.700012  25927000   \n",
      "2021-07-13   686.320007   693.280029   666.299988   668.539978  20966100   \n",
      "2021-07-14   670.750000   678.609985   652.840027   653.380005  21641200   \n",
      "...                 ...          ...          ...          ...       ...   \n",
      "2022-01-03  1147.750000  1201.069946  1136.040039  1199.780029  34643800   \n",
      "2022-01-04  1189.550049  1208.000000  1123.050049  1149.589966  33416100   \n",
      "2022-01-05  1146.650024  1170.339966  1081.010010  1088.119995  26706600   \n",
      "2022-01-06  1077.000000  1088.000000  1020.500000  1064.699951  30112200   \n",
      "2022-01-07  1080.369995  1080.930054  1010.000000  1026.959961  27919000   \n",
      "\n",
      "            Dividends  Stock Splits  \n",
      "Date                                 \n",
      "2021-07-08          0             0  \n",
      "2021-07-09          0             0  \n",
      "2021-07-12          0             0  \n",
      "2021-07-13          0             0  \n",
      "2021-07-14          0             0  \n",
      "...               ...           ...  \n",
      "2022-01-03          0             0  \n",
      "2022-01-04          0             0  \n",
      "2022-01-05          0             0  \n",
      "2022-01-06          0             0  \n",
      "2022-01-07          0             0  \n",
      "\n",
      "[129 rows x 7 columns]\n"
     ]
    }
   ],
   "source": [
    "print(data.history(period='6mo'))\n",
    "# Valid periods: 1d, 5d, 1mo, 3mo, 6mo, 1y, 2y, 5y, 10y, ytd, max. "
   ]
  },
  {
   "cell_type": "code",
   "execution_count": 39,
   "metadata": {},
   "outputs": [
    {
     "data": {
      "text/html": [
       "<div>\n",
       "<style scoped>\n",
       "    .dataframe tbody tr th:only-of-type {\n",
       "        vertical-align: middle;\n",
       "    }\n",
       "\n",
       "    .dataframe tbody tr th {\n",
       "        vertical-align: top;\n",
       "    }\n",
       "\n",
       "    .dataframe thead th {\n",
       "        text-align: right;\n",
       "    }\n",
       "</style>\n",
       "<table border=\"1\" class=\"dataframe\">\n",
       "  <thead>\n",
       "    <tr style=\"text-align: right;\">\n",
       "      <th></th>\n",
       "      <th>Open</th>\n",
       "      <th>High</th>\n",
       "      <th>Low</th>\n",
       "      <th>Close</th>\n",
       "      <th>Volume</th>\n",
       "      <th>Dividends</th>\n",
       "      <th>Stock Splits</th>\n",
       "    </tr>\n",
       "    <tr>\n",
       "      <th>Date</th>\n",
       "      <th></th>\n",
       "      <th></th>\n",
       "      <th></th>\n",
       "      <th></th>\n",
       "      <th></th>\n",
       "      <th></th>\n",
       "      <th></th>\n",
       "    </tr>\n",
       "  </thead>\n",
       "  <tbody>\n",
       "    <tr>\n",
       "      <th>2021-01-04</th>\n",
       "      <td>719.460022</td>\n",
       "      <td>744.489990</td>\n",
       "      <td>717.190002</td>\n",
       "      <td>729.770020</td>\n",
       "      <td>48638200</td>\n",
       "      <td>0</td>\n",
       "      <td>0</td>\n",
       "    </tr>\n",
       "    <tr>\n",
       "      <th>2021-01-05</th>\n",
       "      <td>723.659973</td>\n",
       "      <td>740.840027</td>\n",
       "      <td>719.200012</td>\n",
       "      <td>735.109985</td>\n",
       "      <td>32245200</td>\n",
       "      <td>0</td>\n",
       "      <td>0</td>\n",
       "    </tr>\n",
       "    <tr>\n",
       "      <th>2021-01-06</th>\n",
       "      <td>758.489990</td>\n",
       "      <td>774.000000</td>\n",
       "      <td>749.099976</td>\n",
       "      <td>755.979980</td>\n",
       "      <td>44700000</td>\n",
       "      <td>0</td>\n",
       "      <td>0</td>\n",
       "    </tr>\n",
       "    <tr>\n",
       "      <th>2021-01-07</th>\n",
       "      <td>777.630005</td>\n",
       "      <td>816.989990</td>\n",
       "      <td>775.200012</td>\n",
       "      <td>816.039978</td>\n",
       "      <td>51498900</td>\n",
       "      <td>0</td>\n",
       "      <td>0</td>\n",
       "    </tr>\n",
       "    <tr>\n",
       "      <th>2021-01-08</th>\n",
       "      <td>856.000000</td>\n",
       "      <td>884.489990</td>\n",
       "      <td>838.390015</td>\n",
       "      <td>880.020020</td>\n",
       "      <td>75055500</td>\n",
       "      <td>0</td>\n",
       "      <td>0</td>\n",
       "    </tr>\n",
       "    <tr>\n",
       "      <th>2021-01-11</th>\n",
       "      <td>849.400024</td>\n",
       "      <td>854.429993</td>\n",
       "      <td>803.619995</td>\n",
       "      <td>811.190002</td>\n",
       "      <td>59301600</td>\n",
       "      <td>0</td>\n",
       "      <td>0</td>\n",
       "    </tr>\n",
       "    <tr>\n",
       "      <th>2021-01-12</th>\n",
       "      <td>831.000000</td>\n",
       "      <td>868.000000</td>\n",
       "      <td>827.340027</td>\n",
       "      <td>849.440002</td>\n",
       "      <td>46270700</td>\n",
       "      <td>0</td>\n",
       "      <td>0</td>\n",
       "    </tr>\n",
       "    <tr>\n",
       "      <th>2021-01-13</th>\n",
       "      <td>852.760010</td>\n",
       "      <td>860.469971</td>\n",
       "      <td>832.000000</td>\n",
       "      <td>854.409973</td>\n",
       "      <td>33312500</td>\n",
       "      <td>0</td>\n",
       "      <td>0</td>\n",
       "    </tr>\n",
       "    <tr>\n",
       "      <th>2021-01-14</th>\n",
       "      <td>843.390015</td>\n",
       "      <td>863.000000</td>\n",
       "      <td>838.750000</td>\n",
       "      <td>845.000000</td>\n",
       "      <td>31266300</td>\n",
       "      <td>0</td>\n",
       "      <td>0</td>\n",
       "    </tr>\n",
       "    <tr>\n",
       "      <th>2021-01-15</th>\n",
       "      <td>852.000000</td>\n",
       "      <td>859.900024</td>\n",
       "      <td>819.099976</td>\n",
       "      <td>826.159973</td>\n",
       "      <td>38777600</td>\n",
       "      <td>0</td>\n",
       "      <td>0</td>\n",
       "    </tr>\n",
       "    <tr>\n",
       "      <th>2021-01-19</th>\n",
       "      <td>837.799988</td>\n",
       "      <td>850.000000</td>\n",
       "      <td>833.000000</td>\n",
       "      <td>844.549988</td>\n",
       "      <td>25367000</td>\n",
       "      <td>0</td>\n",
       "      <td>0</td>\n",
       "    </tr>\n",
       "    <tr>\n",
       "      <th>2021-01-20</th>\n",
       "      <td>858.739990</td>\n",
       "      <td>859.500000</td>\n",
       "      <td>837.280029</td>\n",
       "      <td>850.450012</td>\n",
       "      <td>25665900</td>\n",
       "      <td>0</td>\n",
       "      <td>0</td>\n",
       "    </tr>\n",
       "    <tr>\n",
       "      <th>2021-01-21</th>\n",
       "      <td>855.000000</td>\n",
       "      <td>855.719971</td>\n",
       "      <td>841.419983</td>\n",
       "      <td>844.989990</td>\n",
       "      <td>20521100</td>\n",
       "      <td>0</td>\n",
       "      <td>0</td>\n",
       "    </tr>\n",
       "    <tr>\n",
       "      <th>2021-01-22</th>\n",
       "      <td>834.309998</td>\n",
       "      <td>848.000000</td>\n",
       "      <td>828.619995</td>\n",
       "      <td>846.640015</td>\n",
       "      <td>20066500</td>\n",
       "      <td>0</td>\n",
       "      <td>0</td>\n",
       "    </tr>\n",
       "    <tr>\n",
       "      <th>2021-01-25</th>\n",
       "      <td>855.000000</td>\n",
       "      <td>900.400024</td>\n",
       "      <td>838.820007</td>\n",
       "      <td>880.799988</td>\n",
       "      <td>41173400</td>\n",
       "      <td>0</td>\n",
       "      <td>0</td>\n",
       "    </tr>\n",
       "    <tr>\n",
       "      <th>2021-01-26</th>\n",
       "      <td>891.380005</td>\n",
       "      <td>895.900024</td>\n",
       "      <td>871.599976</td>\n",
       "      <td>883.090027</td>\n",
       "      <td>23131600</td>\n",
       "      <td>0</td>\n",
       "      <td>0</td>\n",
       "    </tr>\n",
       "    <tr>\n",
       "      <th>2021-01-27</th>\n",
       "      <td>870.349976</td>\n",
       "      <td>891.500000</td>\n",
       "      <td>858.659973</td>\n",
       "      <td>864.159973</td>\n",
       "      <td>27334000</td>\n",
       "      <td>0</td>\n",
       "      <td>0</td>\n",
       "    </tr>\n",
       "    <tr>\n",
       "      <th>2021-01-28</th>\n",
       "      <td>820.000000</td>\n",
       "      <td>848.000000</td>\n",
       "      <td>801.000000</td>\n",
       "      <td>835.429993</td>\n",
       "      <td>26378000</td>\n",
       "      <td>0</td>\n",
       "      <td>0</td>\n",
       "    </tr>\n",
       "    <tr>\n",
       "      <th>2021-01-29</th>\n",
       "      <td>830.000000</td>\n",
       "      <td>842.409973</td>\n",
       "      <td>780.099976</td>\n",
       "      <td>793.530029</td>\n",
       "      <td>34990800</td>\n",
       "      <td>0</td>\n",
       "      <td>0</td>\n",
       "    </tr>\n",
       "    <tr>\n",
       "      <th>2021-02-01</th>\n",
       "      <td>814.289978</td>\n",
       "      <td>842.000000</td>\n",
       "      <td>795.559998</td>\n",
       "      <td>839.809998</td>\n",
       "      <td>25391400</td>\n",
       "      <td>0</td>\n",
       "      <td>0</td>\n",
       "    </tr>\n",
       "    <tr>\n",
       "      <th>2021-02-02</th>\n",
       "      <td>844.679993</td>\n",
       "      <td>880.500000</td>\n",
       "      <td>842.200012</td>\n",
       "      <td>872.789978</td>\n",
       "      <td>24346200</td>\n",
       "      <td>0</td>\n",
       "      <td>0</td>\n",
       "    </tr>\n",
       "    <tr>\n",
       "      <th>2021-02-03</th>\n",
       "      <td>877.020020</td>\n",
       "      <td>878.080017</td>\n",
       "      <td>853.059998</td>\n",
       "      <td>854.690002</td>\n",
       "      <td>18343500</td>\n",
       "      <td>0</td>\n",
       "      <td>0</td>\n",
       "    </tr>\n",
       "    <tr>\n",
       "      <th>2021-02-04</th>\n",
       "      <td>855.000000</td>\n",
       "      <td>856.500000</td>\n",
       "      <td>833.419983</td>\n",
       "      <td>849.989990</td>\n",
       "      <td>15812700</td>\n",
       "      <td>0</td>\n",
       "      <td>0</td>\n",
       "    </tr>\n",
       "    <tr>\n",
       "      <th>2021-02-05</th>\n",
       "      <td>845.000000</td>\n",
       "      <td>864.770020</td>\n",
       "      <td>838.969971</td>\n",
       "      <td>852.229980</td>\n",
       "      <td>18566600</td>\n",
       "      <td>0</td>\n",
       "      <td>0</td>\n",
       "    </tr>\n",
       "    <tr>\n",
       "      <th>2021-02-08</th>\n",
       "      <td>869.669983</td>\n",
       "      <td>877.770020</td>\n",
       "      <td>854.750000</td>\n",
       "      <td>863.419983</td>\n",
       "      <td>20161700</td>\n",
       "      <td>0</td>\n",
       "      <td>0</td>\n",
       "    </tr>\n",
       "    <tr>\n",
       "      <th>2021-02-09</th>\n",
       "      <td>855.119995</td>\n",
       "      <td>859.799988</td>\n",
       "      <td>841.750000</td>\n",
       "      <td>849.460022</td>\n",
       "      <td>15157700</td>\n",
       "      <td>0</td>\n",
       "      <td>0</td>\n",
       "    </tr>\n",
       "    <tr>\n",
       "      <th>2021-02-10</th>\n",
       "      <td>843.640015</td>\n",
       "      <td>844.820007</td>\n",
       "      <td>800.020020</td>\n",
       "      <td>804.820007</td>\n",
       "      <td>36216100</td>\n",
       "      <td>0</td>\n",
       "      <td>0</td>\n",
       "    </tr>\n",
       "    <tr>\n",
       "      <th>2021-02-11</th>\n",
       "      <td>812.440002</td>\n",
       "      <td>829.880005</td>\n",
       "      <td>801.729980</td>\n",
       "      <td>811.659973</td>\n",
       "      <td>21622800</td>\n",
       "      <td>0</td>\n",
       "      <td>0</td>\n",
       "    </tr>\n",
       "    <tr>\n",
       "      <th>2021-02-12</th>\n",
       "      <td>801.260010</td>\n",
       "      <td>817.330017</td>\n",
       "      <td>785.330017</td>\n",
       "      <td>816.119995</td>\n",
       "      <td>23768300</td>\n",
       "      <td>0</td>\n",
       "      <td>0</td>\n",
       "    </tr>\n",
       "    <tr>\n",
       "      <th>2021-02-16</th>\n",
       "      <td>818.000000</td>\n",
       "      <td>821.000000</td>\n",
       "      <td>792.440002</td>\n",
       "      <td>796.219971</td>\n",
       "      <td>19802300</td>\n",
       "      <td>0</td>\n",
       "      <td>0</td>\n",
       "    </tr>\n",
       "    <tr>\n",
       "      <th>2021-02-17</th>\n",
       "      <td>779.090027</td>\n",
       "      <td>799.840027</td>\n",
       "      <td>762.010010</td>\n",
       "      <td>798.150024</td>\n",
       "      <td>25996500</td>\n",
       "      <td>0</td>\n",
       "      <td>0</td>\n",
       "    </tr>\n",
       "    <tr>\n",
       "      <th>2021-02-18</th>\n",
       "      <td>780.900024</td>\n",
       "      <td>794.690002</td>\n",
       "      <td>776.270020</td>\n",
       "      <td>787.380005</td>\n",
       "      <td>17957100</td>\n",
       "      <td>0</td>\n",
       "      <td>0</td>\n",
       "    </tr>\n",
       "    <tr>\n",
       "      <th>2021-02-19</th>\n",
       "      <td>795.000000</td>\n",
       "      <td>796.789978</td>\n",
       "      <td>777.369995</td>\n",
       "      <td>781.299988</td>\n",
       "      <td>18958300</td>\n",
       "      <td>0</td>\n",
       "      <td>0</td>\n",
       "    </tr>\n",
       "    <tr>\n",
       "      <th>2021-02-22</th>\n",
       "      <td>762.640015</td>\n",
       "      <td>768.500000</td>\n",
       "      <td>710.200012</td>\n",
       "      <td>714.500000</td>\n",
       "      <td>37269700</td>\n",
       "      <td>0</td>\n",
       "      <td>0</td>\n",
       "    </tr>\n",
       "    <tr>\n",
       "      <th>2021-02-23</th>\n",
       "      <td>662.130005</td>\n",
       "      <td>713.609985</td>\n",
       "      <td>619.000000</td>\n",
       "      <td>698.840027</td>\n",
       "      <td>66606900</td>\n",
       "      <td>0</td>\n",
       "      <td>0</td>\n",
       "    </tr>\n",
       "    <tr>\n",
       "      <th>2021-02-24</th>\n",
       "      <td>711.849976</td>\n",
       "      <td>745.000000</td>\n",
       "      <td>694.169983</td>\n",
       "      <td>742.020020</td>\n",
       "      <td>36767000</td>\n",
       "      <td>0</td>\n",
       "      <td>0</td>\n",
       "    </tr>\n",
       "    <tr>\n",
       "      <th>2021-02-25</th>\n",
       "      <td>726.150024</td>\n",
       "      <td>737.210022</td>\n",
       "      <td>670.580017</td>\n",
       "      <td>682.219971</td>\n",
       "      <td>39023900</td>\n",
       "      <td>0</td>\n",
       "      <td>0</td>\n",
       "    </tr>\n",
       "    <tr>\n",
       "      <th>2021-02-26</th>\n",
       "      <td>700.000000</td>\n",
       "      <td>706.700012</td>\n",
       "      <td>659.510010</td>\n",
       "      <td>675.500000</td>\n",
       "      <td>41089200</td>\n",
       "      <td>0</td>\n",
       "      <td>0</td>\n",
       "    </tr>\n",
       "    <tr>\n",
       "      <th>2021-03-01</th>\n",
       "      <td>690.109985</td>\n",
       "      <td>719.000000</td>\n",
       "      <td>685.049988</td>\n",
       "      <td>718.429993</td>\n",
       "      <td>27136200</td>\n",
       "      <td>0</td>\n",
       "      <td>0</td>\n",
       "    </tr>\n",
       "    <tr>\n",
       "      <th>2021-03-02</th>\n",
       "      <td>718.280029</td>\n",
       "      <td>721.109985</td>\n",
       "      <td>685.000000</td>\n",
       "      <td>686.440002</td>\n",
       "      <td>23732200</td>\n",
       "      <td>0</td>\n",
       "      <td>0</td>\n",
       "    </tr>\n",
       "    <tr>\n",
       "      <th>2021-03-03</th>\n",
       "      <td>687.989990</td>\n",
       "      <td>700.700012</td>\n",
       "      <td>651.710022</td>\n",
       "      <td>653.200012</td>\n",
       "      <td>30208000</td>\n",
       "      <td>0</td>\n",
       "      <td>0</td>\n",
       "    </tr>\n",
       "    <tr>\n",
       "      <th>2021-03-04</th>\n",
       "      <td>655.799988</td>\n",
       "      <td>668.450012</td>\n",
       "      <td>600.000000</td>\n",
       "      <td>621.440002</td>\n",
       "      <td>65919500</td>\n",
       "      <td>0</td>\n",
       "      <td>0</td>\n",
       "    </tr>\n",
       "    <tr>\n",
       "      <th>2021-03-05</th>\n",
       "      <td>626.059998</td>\n",
       "      <td>627.840027</td>\n",
       "      <td>539.489990</td>\n",
       "      <td>597.950012</td>\n",
       "      <td>89396500</td>\n",
       "      <td>0</td>\n",
       "      <td>0</td>\n",
       "    </tr>\n",
       "    <tr>\n",
       "      <th>2021-03-08</th>\n",
       "      <td>600.549988</td>\n",
       "      <td>620.130005</td>\n",
       "      <td>558.789978</td>\n",
       "      <td>563.000000</td>\n",
       "      <td>51787000</td>\n",
       "      <td>0</td>\n",
       "      <td>0</td>\n",
       "    </tr>\n",
       "    <tr>\n",
       "      <th>2021-03-09</th>\n",
       "      <td>608.179993</td>\n",
       "      <td>678.090027</td>\n",
       "      <td>595.210022</td>\n",
       "      <td>673.580017</td>\n",
       "      <td>67523300</td>\n",
       "      <td>0</td>\n",
       "      <td>0</td>\n",
       "    </tr>\n",
       "    <tr>\n",
       "      <th>2021-03-10</th>\n",
       "      <td>700.299988</td>\n",
       "      <td>717.849976</td>\n",
       "      <td>655.059998</td>\n",
       "      <td>668.059998</td>\n",
       "      <td>60605700</td>\n",
       "      <td>0</td>\n",
       "      <td>0</td>\n",
       "    </tr>\n",
       "    <tr>\n",
       "      <th>2021-03-11</th>\n",
       "      <td>699.400024</td>\n",
       "      <td>702.500000</td>\n",
       "      <td>677.179993</td>\n",
       "      <td>699.599976</td>\n",
       "      <td>36253900</td>\n",
       "      <td>0</td>\n",
       "      <td>0</td>\n",
       "    </tr>\n",
       "    <tr>\n",
       "      <th>2021-03-12</th>\n",
       "      <td>670.000000</td>\n",
       "      <td>694.880005</td>\n",
       "      <td>666.140015</td>\n",
       "      <td>693.729980</td>\n",
       "      <td>33583800</td>\n",
       "      <td>0</td>\n",
       "      <td>0</td>\n",
       "    </tr>\n",
       "    <tr>\n",
       "      <th>2021-03-15</th>\n",
       "      <td>694.090027</td>\n",
       "      <td>713.179993</td>\n",
       "      <td>684.039978</td>\n",
       "      <td>707.940002</td>\n",
       "      <td>29335600</td>\n",
       "      <td>0</td>\n",
       "      <td>0</td>\n",
       "    </tr>\n",
       "    <tr>\n",
       "      <th>2021-03-16</th>\n",
       "      <td>703.349976</td>\n",
       "      <td>707.919983</td>\n",
       "      <td>671.000000</td>\n",
       "      <td>676.880005</td>\n",
       "      <td>32195700</td>\n",
       "      <td>0</td>\n",
       "      <td>0</td>\n",
       "    </tr>\n",
       "    <tr>\n",
       "      <th>2021-03-17</th>\n",
       "      <td>656.869995</td>\n",
       "      <td>703.729980</td>\n",
       "      <td>651.010010</td>\n",
       "      <td>701.809998</td>\n",
       "      <td>40372500</td>\n",
       "      <td>0</td>\n",
       "      <td>0</td>\n",
       "    </tr>\n",
       "    <tr>\n",
       "      <th>2021-03-18</th>\n",
       "      <td>684.289978</td>\n",
       "      <td>689.229980</td>\n",
       "      <td>652.000000</td>\n",
       "      <td>653.159973</td>\n",
       "      <td>33224800</td>\n",
       "      <td>0</td>\n",
       "      <td>0</td>\n",
       "    </tr>\n",
       "    <tr>\n",
       "      <th>2021-03-19</th>\n",
       "      <td>646.599976</td>\n",
       "      <td>657.229980</td>\n",
       "      <td>624.619995</td>\n",
       "      <td>654.869995</td>\n",
       "      <td>42894000</td>\n",
       "      <td>0</td>\n",
       "      <td>0</td>\n",
       "    </tr>\n",
       "    <tr>\n",
       "      <th>2021-03-22</th>\n",
       "      <td>684.590027</td>\n",
       "      <td>699.619995</td>\n",
       "      <td>668.750000</td>\n",
       "      <td>670.000000</td>\n",
       "      <td>39512200</td>\n",
       "      <td>0</td>\n",
       "      <td>0</td>\n",
       "    </tr>\n",
       "    <tr>\n",
       "      <th>2021-03-23</th>\n",
       "      <td>675.770020</td>\n",
       "      <td>677.799988</td>\n",
       "      <td>657.510010</td>\n",
       "      <td>662.159973</td>\n",
       "      <td>30491900</td>\n",
       "      <td>0</td>\n",
       "      <td>0</td>\n",
       "    </tr>\n",
       "    <tr>\n",
       "      <th>2021-03-24</th>\n",
       "      <td>667.909973</td>\n",
       "      <td>668.020020</td>\n",
       "      <td>630.109985</td>\n",
       "      <td>630.270020</td>\n",
       "      <td>33795200</td>\n",
       "      <td>0</td>\n",
       "      <td>0</td>\n",
       "    </tr>\n",
       "    <tr>\n",
       "      <th>2021-03-25</th>\n",
       "      <td>613.000000</td>\n",
       "      <td>645.500000</td>\n",
       "      <td>609.500000</td>\n",
       "      <td>640.390015</td>\n",
       "      <td>39224900</td>\n",
       "      <td>0</td>\n",
       "      <td>0</td>\n",
       "    </tr>\n",
       "    <tr>\n",
       "      <th>2021-03-26</th>\n",
       "      <td>641.869995</td>\n",
       "      <td>643.820007</td>\n",
       "      <td>599.890015</td>\n",
       "      <td>618.710022</td>\n",
       "      <td>33852800</td>\n",
       "      <td>0</td>\n",
       "      <td>0</td>\n",
       "    </tr>\n",
       "    <tr>\n",
       "      <th>2021-03-29</th>\n",
       "      <td>615.640015</td>\n",
       "      <td>616.479980</td>\n",
       "      <td>596.020020</td>\n",
       "      <td>611.289978</td>\n",
       "      <td>28637000</td>\n",
       "      <td>0</td>\n",
       "      <td>0</td>\n",
       "    </tr>\n",
       "    <tr>\n",
       "      <th>2021-03-30</th>\n",
       "      <td>601.750000</td>\n",
       "      <td>637.659973</td>\n",
       "      <td>591.010010</td>\n",
       "      <td>635.619995</td>\n",
       "      <td>39432400</td>\n",
       "      <td>0</td>\n",
       "      <td>0</td>\n",
       "    </tr>\n",
       "  </tbody>\n",
       "</table>\n",
       "</div>"
      ],
      "text/plain": [
       "                  Open        High         Low       Close    Volume  \\\n",
       "Date                                                                   \n",
       "2021-01-04  719.460022  744.489990  717.190002  729.770020  48638200   \n",
       "2021-01-05  723.659973  740.840027  719.200012  735.109985  32245200   \n",
       "2021-01-06  758.489990  774.000000  749.099976  755.979980  44700000   \n",
       "2021-01-07  777.630005  816.989990  775.200012  816.039978  51498900   \n",
       "2021-01-08  856.000000  884.489990  838.390015  880.020020  75055500   \n",
       "2021-01-11  849.400024  854.429993  803.619995  811.190002  59301600   \n",
       "2021-01-12  831.000000  868.000000  827.340027  849.440002  46270700   \n",
       "2021-01-13  852.760010  860.469971  832.000000  854.409973  33312500   \n",
       "2021-01-14  843.390015  863.000000  838.750000  845.000000  31266300   \n",
       "2021-01-15  852.000000  859.900024  819.099976  826.159973  38777600   \n",
       "2021-01-19  837.799988  850.000000  833.000000  844.549988  25367000   \n",
       "2021-01-20  858.739990  859.500000  837.280029  850.450012  25665900   \n",
       "2021-01-21  855.000000  855.719971  841.419983  844.989990  20521100   \n",
       "2021-01-22  834.309998  848.000000  828.619995  846.640015  20066500   \n",
       "2021-01-25  855.000000  900.400024  838.820007  880.799988  41173400   \n",
       "2021-01-26  891.380005  895.900024  871.599976  883.090027  23131600   \n",
       "2021-01-27  870.349976  891.500000  858.659973  864.159973  27334000   \n",
       "2021-01-28  820.000000  848.000000  801.000000  835.429993  26378000   \n",
       "2021-01-29  830.000000  842.409973  780.099976  793.530029  34990800   \n",
       "2021-02-01  814.289978  842.000000  795.559998  839.809998  25391400   \n",
       "2021-02-02  844.679993  880.500000  842.200012  872.789978  24346200   \n",
       "2021-02-03  877.020020  878.080017  853.059998  854.690002  18343500   \n",
       "2021-02-04  855.000000  856.500000  833.419983  849.989990  15812700   \n",
       "2021-02-05  845.000000  864.770020  838.969971  852.229980  18566600   \n",
       "2021-02-08  869.669983  877.770020  854.750000  863.419983  20161700   \n",
       "2021-02-09  855.119995  859.799988  841.750000  849.460022  15157700   \n",
       "2021-02-10  843.640015  844.820007  800.020020  804.820007  36216100   \n",
       "2021-02-11  812.440002  829.880005  801.729980  811.659973  21622800   \n",
       "2021-02-12  801.260010  817.330017  785.330017  816.119995  23768300   \n",
       "2021-02-16  818.000000  821.000000  792.440002  796.219971  19802300   \n",
       "2021-02-17  779.090027  799.840027  762.010010  798.150024  25996500   \n",
       "2021-02-18  780.900024  794.690002  776.270020  787.380005  17957100   \n",
       "2021-02-19  795.000000  796.789978  777.369995  781.299988  18958300   \n",
       "2021-02-22  762.640015  768.500000  710.200012  714.500000  37269700   \n",
       "2021-02-23  662.130005  713.609985  619.000000  698.840027  66606900   \n",
       "2021-02-24  711.849976  745.000000  694.169983  742.020020  36767000   \n",
       "2021-02-25  726.150024  737.210022  670.580017  682.219971  39023900   \n",
       "2021-02-26  700.000000  706.700012  659.510010  675.500000  41089200   \n",
       "2021-03-01  690.109985  719.000000  685.049988  718.429993  27136200   \n",
       "2021-03-02  718.280029  721.109985  685.000000  686.440002  23732200   \n",
       "2021-03-03  687.989990  700.700012  651.710022  653.200012  30208000   \n",
       "2021-03-04  655.799988  668.450012  600.000000  621.440002  65919500   \n",
       "2021-03-05  626.059998  627.840027  539.489990  597.950012  89396500   \n",
       "2021-03-08  600.549988  620.130005  558.789978  563.000000  51787000   \n",
       "2021-03-09  608.179993  678.090027  595.210022  673.580017  67523300   \n",
       "2021-03-10  700.299988  717.849976  655.059998  668.059998  60605700   \n",
       "2021-03-11  699.400024  702.500000  677.179993  699.599976  36253900   \n",
       "2021-03-12  670.000000  694.880005  666.140015  693.729980  33583800   \n",
       "2021-03-15  694.090027  713.179993  684.039978  707.940002  29335600   \n",
       "2021-03-16  703.349976  707.919983  671.000000  676.880005  32195700   \n",
       "2021-03-17  656.869995  703.729980  651.010010  701.809998  40372500   \n",
       "2021-03-18  684.289978  689.229980  652.000000  653.159973  33224800   \n",
       "2021-03-19  646.599976  657.229980  624.619995  654.869995  42894000   \n",
       "2021-03-22  684.590027  699.619995  668.750000  670.000000  39512200   \n",
       "2021-03-23  675.770020  677.799988  657.510010  662.159973  30491900   \n",
       "2021-03-24  667.909973  668.020020  630.109985  630.270020  33795200   \n",
       "2021-03-25  613.000000  645.500000  609.500000  640.390015  39224900   \n",
       "2021-03-26  641.869995  643.820007  599.890015  618.710022  33852800   \n",
       "2021-03-29  615.640015  616.479980  596.020020  611.289978  28637000   \n",
       "2021-03-30  601.750000  637.659973  591.010010  635.619995  39432400   \n",
       "\n",
       "            Dividends  Stock Splits  \n",
       "Date                                 \n",
       "2021-01-04          0             0  \n",
       "2021-01-05          0             0  \n",
       "2021-01-06          0             0  \n",
       "2021-01-07          0             0  \n",
       "2021-01-08          0             0  \n",
       "2021-01-11          0             0  \n",
       "2021-01-12          0             0  \n",
       "2021-01-13          0             0  \n",
       "2021-01-14          0             0  \n",
       "2021-01-15          0             0  \n",
       "2021-01-19          0             0  \n",
       "2021-01-20          0             0  \n",
       "2021-01-21          0             0  \n",
       "2021-01-22          0             0  \n",
       "2021-01-25          0             0  \n",
       "2021-01-26          0             0  \n",
       "2021-01-27          0             0  \n",
       "2021-01-28          0             0  \n",
       "2021-01-29          0             0  \n",
       "2021-02-01          0             0  \n",
       "2021-02-02          0             0  \n",
       "2021-02-03          0             0  \n",
       "2021-02-04          0             0  \n",
       "2021-02-05          0             0  \n",
       "2021-02-08          0             0  \n",
       "2021-02-09          0             0  \n",
       "2021-02-10          0             0  \n",
       "2021-02-11          0             0  \n",
       "2021-02-12          0             0  \n",
       "2021-02-16          0             0  \n",
       "2021-02-17          0             0  \n",
       "2021-02-18          0             0  \n",
       "2021-02-19          0             0  \n",
       "2021-02-22          0             0  \n",
       "2021-02-23          0             0  \n",
       "2021-02-24          0             0  \n",
       "2021-02-25          0             0  \n",
       "2021-02-26          0             0  \n",
       "2021-03-01          0             0  \n",
       "2021-03-02          0             0  \n",
       "2021-03-03          0             0  \n",
       "2021-03-04          0             0  \n",
       "2021-03-05          0             0  \n",
       "2021-03-08          0             0  \n",
       "2021-03-09          0             0  \n",
       "2021-03-10          0             0  \n",
       "2021-03-11          0             0  \n",
       "2021-03-12          0             0  \n",
       "2021-03-15          0             0  \n",
       "2021-03-16          0             0  \n",
       "2021-03-17          0             0  \n",
       "2021-03-18          0             0  \n",
       "2021-03-19          0             0  \n",
       "2021-03-22          0             0  \n",
       "2021-03-23          0             0  \n",
       "2021-03-24          0             0  \n",
       "2021-03-25          0             0  \n",
       "2021-03-26          0             0  \n",
       "2021-03-29          0             0  \n",
       "2021-03-30          0             0  "
      ]
     },
     "execution_count": 39,
     "metadata": {},
     "output_type": "execute_result"
    }
   ],
   "source": [
    "data.history(start='2021-01-01', end='2021-03-31')"
   ]
  },
  {
   "cell_type": "code",
   "execution_count": 40,
   "metadata": {},
   "outputs": [],
   "source": [
    "import plotly.graph_objects as go"
   ]
  },
  {
   "cell_type": "code",
   "execution_count": 41,
   "metadata": {},
   "outputs": [],
   "source": [
    "stocks_price = data_cencosud.history(start='2021-01-01', end='2021-03-31')"
   ]
  },
  {
   "cell_type": "code",
   "execution_count": 42,
   "metadata": {},
   "outputs": [
    {
     "data": {
      "application/vnd.plotly.v1+json": {
       "config": {
        "plotlyServerURL": "https://plot.ly"
       },
       "data": [
        {
         "name": "Close Price",
         "type": "scatter",
         "x": [
          "2021-01-04T00:00:00",
          "2021-01-05T00:00:00",
          "2021-01-06T00:00:00",
          "2021-01-07T00:00:00",
          "2021-01-08T00:00:00",
          "2021-01-11T00:00:00",
          "2021-01-12T00:00:00",
          "2021-01-13T00:00:00",
          "2021-01-14T00:00:00",
          "2021-01-15T00:00:00",
          "2021-01-18T00:00:00",
          "2021-01-19T00:00:00",
          "2021-01-20T00:00:00",
          "2021-01-21T00:00:00",
          "2021-01-22T00:00:00",
          "2021-01-25T00:00:00",
          "2021-01-26T00:00:00",
          "2021-01-27T00:00:00",
          "2021-01-28T00:00:00",
          "2021-01-29T00:00:00",
          "2021-02-01T00:00:00",
          "2021-02-02T00:00:00",
          "2021-02-03T00:00:00",
          "2021-02-04T00:00:00",
          "2021-02-05T00:00:00",
          "2021-02-08T00:00:00",
          "2021-02-09T00:00:00",
          "2021-02-10T00:00:00",
          "2021-02-11T00:00:00",
          "2021-02-12T00:00:00",
          "2021-02-15T00:00:00",
          "2021-02-16T00:00:00",
          "2021-02-17T00:00:00",
          "2021-02-18T00:00:00",
          "2021-02-19T00:00:00",
          "2021-02-22T00:00:00",
          "2021-02-23T00:00:00",
          "2021-02-24T00:00:00",
          "2021-02-25T00:00:00",
          "2021-02-26T00:00:00",
          "2021-03-01T00:00:00",
          "2021-03-02T00:00:00",
          "2021-03-03T00:00:00",
          "2021-03-04T00:00:00",
          "2021-03-05T00:00:00",
          "2021-03-08T00:00:00",
          "2021-03-09T00:00:00",
          "2021-03-10T00:00:00",
          "2021-03-11T00:00:00",
          "2021-03-12T00:00:00",
          "2021-03-15T00:00:00",
          "2021-03-16T00:00:00",
          "2021-03-17T00:00:00",
          "2021-03-18T00:00:00",
          "2021-03-19T00:00:00",
          "2021-03-22T00:00:00",
          "2021-03-23T00:00:00",
          "2021-03-24T00:00:00",
          "2021-03-25T00:00:00",
          "2021-03-26T00:00:00",
          "2021-03-29T00:00:00",
          "2021-03-30T00:00:00"
         ],
         "y": [
          1081.8802490234375,
          1114.6900634765625,
          1127.3092041015625,
          1156.669677734375,
          1186.198486328125,
          1219.8494873046875,
          1211.3526611328125,
          1205.5477294921875,
          1234.151123046875,
          1211.436767578125,
          1248.452880859375,
          1228.26220703125,
          1214.8017578125,
          1192.08740234375,
          1164.0728759765625,
          1152.5474853515625,
          1144.9759521484375,
          1115.53125,
          1106.27734375,
          1072.79443359375,
          1086.086669921875,
          1125.6265869140625,
          1110.483642578125,
          1114.6900634765625,
          1097.94873046875,
          1109.642333984375,
          1152.4632568359375,
          1135.721923828125,
          1153.388671875,
          1169.373046875,
          1170.6348876953125,
          1177.78564453125,
          1148.341064453125,
          1149.182373046875,
          1177.78564453125,
          1152.5474853515625,
          1160.960205078125,
          1178.626953125,
          1211.60498046875,
          1192.508056640625,
          1177.78564453125,
          1224.055908203125,
          1245.0877685546875,
          1211.436767578125,
          1228.26220703125,
          1203.865234375,
          1240.0401611328125,
          1234.067138671875,
          1198.8175048828125,
          1231.6273193359375,
          1228.4305419921875,
          1227.4208984375,
          1245.0877685546875,
          1236.675048828125,
          1224.308349609375,
          1253.5006103515625,
          1270.41015625,
          1277.05615234375,
          1249.2940673828125,
          1303.97705078125,
          1319.9613037109375,
          1320.8026123046875
         ]
        },
        {
         "name": "Higher Price",
         "type": "scatter",
         "x": [
          "2021-01-04T00:00:00",
          "2021-01-05T00:00:00",
          "2021-01-06T00:00:00",
          "2021-01-07T00:00:00",
          "2021-01-08T00:00:00",
          "2021-01-11T00:00:00",
          "2021-01-12T00:00:00",
          "2021-01-13T00:00:00",
          "2021-01-14T00:00:00",
          "2021-01-15T00:00:00",
          "2021-01-18T00:00:00",
          "2021-01-19T00:00:00",
          "2021-01-20T00:00:00",
          "2021-01-21T00:00:00",
          "2021-01-22T00:00:00",
          "2021-01-25T00:00:00",
          "2021-01-26T00:00:00",
          "2021-01-27T00:00:00",
          "2021-01-28T00:00:00",
          "2021-01-29T00:00:00",
          "2021-02-01T00:00:00",
          "2021-02-02T00:00:00",
          "2021-02-03T00:00:00",
          "2021-02-04T00:00:00",
          "2021-02-05T00:00:00",
          "2021-02-08T00:00:00",
          "2021-02-09T00:00:00",
          "2021-02-10T00:00:00",
          "2021-02-11T00:00:00",
          "2021-02-12T00:00:00",
          "2021-02-15T00:00:00",
          "2021-02-16T00:00:00",
          "2021-02-17T00:00:00",
          "2021-02-18T00:00:00",
          "2021-02-19T00:00:00",
          "2021-02-22T00:00:00",
          "2021-02-23T00:00:00",
          "2021-02-24T00:00:00",
          "2021-02-25T00:00:00",
          "2021-02-26T00:00:00",
          "2021-03-01T00:00:00",
          "2021-03-02T00:00:00",
          "2021-03-03T00:00:00",
          "2021-03-04T00:00:00",
          "2021-03-05T00:00:00",
          "2021-03-08T00:00:00",
          "2021-03-09T00:00:00",
          "2021-03-10T00:00:00",
          "2021-03-11T00:00:00",
          "2021-03-12T00:00:00",
          "2021-03-15T00:00:00",
          "2021-03-16T00:00:00",
          "2021-03-17T00:00:00",
          "2021-03-18T00:00:00",
          "2021-03-19T00:00:00",
          "2021-03-22T00:00:00",
          "2021-03-23T00:00:00",
          "2021-03-24T00:00:00",
          "2021-03-25T00:00:00",
          "2021-03-26T00:00:00",
          "2021-03-29T00:00:00",
          "2021-03-30T00:00:00"
         ],
         "y": [
          1097.864482873706,
          1118.8964410745873,
          1134.7124698034195,
          1156.7537847434041,
          1186.198486328125,
          1219.8494873046875,
          1240.0401362840116,
          1211.352550682567,
          1240.8813268535382,
          1250.976717631022,
          1249.2100493718954,
          1278.7387360873288,
          1227.2526756325256,
          1224.055871849087,
          1190.404840378747,
          1177.7857514541513,
          1173.57931906471,
          1144.1346153846155,
          1115.5313747623575,
          1135.6377725459038,
          1110.2312356811176,
          1127.2250308574517,
          1142.452111076586,
          1129.8330228294515,
          1131.515646391359,
          1124.7852922950035,
          1152.4632568359375,
          1152.4633267998033,
          1171.8967322551969,
          1176.103251461331,
          1190.4048624425923,
          1197.1349801199776,
          1186.198462182349,
          1175.2619144556986,
          1194.6111537388392,
          1189.563608968693,
          1165.166582632756,
          1206.3890440979658,
          1219.8495217627083,
          1235.833746176422,
          1213.8763823204806,
          1224.055908203125,
          1245.0877685546875,
          1253.5846512444937,
          1246.7702676851454,
          1228.2622237508735,
          1253.5005699375106,
          1249.2942057586663,
          1245.928929636102,
          1236.6749722840354,
          1245.0878392985496,
          1236.5067145004102,
          1245.0877685546875,
          1257.7069374136374,
          1236.5909521066055,
          1253.5006103515625,
          1286.2261772786599,
          1295.564212522645,
          1285.4689124316078,
          1303.97705078125,
          1362.6981416202752,
          1345.1996032326085
         ]
        }
       ],
       "layout": {
        "template": {
         "data": {
          "bar": [
           {
            "error_x": {
             "color": "#2a3f5f"
            },
            "error_y": {
             "color": "#2a3f5f"
            },
            "marker": {
             "line": {
              "color": "#E5ECF6",
              "width": 0.5
             },
             "pattern": {
              "fillmode": "overlay",
              "size": 10,
              "solidity": 0.2
             }
            },
            "type": "bar"
           }
          ],
          "barpolar": [
           {
            "marker": {
             "line": {
              "color": "#E5ECF6",
              "width": 0.5
             },
             "pattern": {
              "fillmode": "overlay",
              "size": 10,
              "solidity": 0.2
             }
            },
            "type": "barpolar"
           }
          ],
          "carpet": [
           {
            "aaxis": {
             "endlinecolor": "#2a3f5f",
             "gridcolor": "white",
             "linecolor": "white",
             "minorgridcolor": "white",
             "startlinecolor": "#2a3f5f"
            },
            "baxis": {
             "endlinecolor": "#2a3f5f",
             "gridcolor": "white",
             "linecolor": "white",
             "minorgridcolor": "white",
             "startlinecolor": "#2a3f5f"
            },
            "type": "carpet"
           }
          ],
          "choropleth": [
           {
            "colorbar": {
             "outlinewidth": 0,
             "ticks": ""
            },
            "type": "choropleth"
           }
          ],
          "contour": [
           {
            "colorbar": {
             "outlinewidth": 0,
             "ticks": ""
            },
            "colorscale": [
             [
              0,
              "#0d0887"
             ],
             [
              0.1111111111111111,
              "#46039f"
             ],
             [
              0.2222222222222222,
              "#7201a8"
             ],
             [
              0.3333333333333333,
              "#9c179e"
             ],
             [
              0.4444444444444444,
              "#bd3786"
             ],
             [
              0.5555555555555556,
              "#d8576b"
             ],
             [
              0.6666666666666666,
              "#ed7953"
             ],
             [
              0.7777777777777778,
              "#fb9f3a"
             ],
             [
              0.8888888888888888,
              "#fdca26"
             ],
             [
              1,
              "#f0f921"
             ]
            ],
            "type": "contour"
           }
          ],
          "contourcarpet": [
           {
            "colorbar": {
             "outlinewidth": 0,
             "ticks": ""
            },
            "type": "contourcarpet"
           }
          ],
          "heatmap": [
           {
            "colorbar": {
             "outlinewidth": 0,
             "ticks": ""
            },
            "colorscale": [
             [
              0,
              "#0d0887"
             ],
             [
              0.1111111111111111,
              "#46039f"
             ],
             [
              0.2222222222222222,
              "#7201a8"
             ],
             [
              0.3333333333333333,
              "#9c179e"
             ],
             [
              0.4444444444444444,
              "#bd3786"
             ],
             [
              0.5555555555555556,
              "#d8576b"
             ],
             [
              0.6666666666666666,
              "#ed7953"
             ],
             [
              0.7777777777777778,
              "#fb9f3a"
             ],
             [
              0.8888888888888888,
              "#fdca26"
             ],
             [
              1,
              "#f0f921"
             ]
            ],
            "type": "heatmap"
           }
          ],
          "heatmapgl": [
           {
            "colorbar": {
             "outlinewidth": 0,
             "ticks": ""
            },
            "colorscale": [
             [
              0,
              "#0d0887"
             ],
             [
              0.1111111111111111,
              "#46039f"
             ],
             [
              0.2222222222222222,
              "#7201a8"
             ],
             [
              0.3333333333333333,
              "#9c179e"
             ],
             [
              0.4444444444444444,
              "#bd3786"
             ],
             [
              0.5555555555555556,
              "#d8576b"
             ],
             [
              0.6666666666666666,
              "#ed7953"
             ],
             [
              0.7777777777777778,
              "#fb9f3a"
             ],
             [
              0.8888888888888888,
              "#fdca26"
             ],
             [
              1,
              "#f0f921"
             ]
            ],
            "type": "heatmapgl"
           }
          ],
          "histogram": [
           {
            "marker": {
             "pattern": {
              "fillmode": "overlay",
              "size": 10,
              "solidity": 0.2
             }
            },
            "type": "histogram"
           }
          ],
          "histogram2d": [
           {
            "colorbar": {
             "outlinewidth": 0,
             "ticks": ""
            },
            "colorscale": [
             [
              0,
              "#0d0887"
             ],
             [
              0.1111111111111111,
              "#46039f"
             ],
             [
              0.2222222222222222,
              "#7201a8"
             ],
             [
              0.3333333333333333,
              "#9c179e"
             ],
             [
              0.4444444444444444,
              "#bd3786"
             ],
             [
              0.5555555555555556,
              "#d8576b"
             ],
             [
              0.6666666666666666,
              "#ed7953"
             ],
             [
              0.7777777777777778,
              "#fb9f3a"
             ],
             [
              0.8888888888888888,
              "#fdca26"
             ],
             [
              1,
              "#f0f921"
             ]
            ],
            "type": "histogram2d"
           }
          ],
          "histogram2dcontour": [
           {
            "colorbar": {
             "outlinewidth": 0,
             "ticks": ""
            },
            "colorscale": [
             [
              0,
              "#0d0887"
             ],
             [
              0.1111111111111111,
              "#46039f"
             ],
             [
              0.2222222222222222,
              "#7201a8"
             ],
             [
              0.3333333333333333,
              "#9c179e"
             ],
             [
              0.4444444444444444,
              "#bd3786"
             ],
             [
              0.5555555555555556,
              "#d8576b"
             ],
             [
              0.6666666666666666,
              "#ed7953"
             ],
             [
              0.7777777777777778,
              "#fb9f3a"
             ],
             [
              0.8888888888888888,
              "#fdca26"
             ],
             [
              1,
              "#f0f921"
             ]
            ],
            "type": "histogram2dcontour"
           }
          ],
          "mesh3d": [
           {
            "colorbar": {
             "outlinewidth": 0,
             "ticks": ""
            },
            "type": "mesh3d"
           }
          ],
          "parcoords": [
           {
            "line": {
             "colorbar": {
              "outlinewidth": 0,
              "ticks": ""
             }
            },
            "type": "parcoords"
           }
          ],
          "pie": [
           {
            "automargin": true,
            "type": "pie"
           }
          ],
          "scatter": [
           {
            "marker": {
             "colorbar": {
              "outlinewidth": 0,
              "ticks": ""
             }
            },
            "type": "scatter"
           }
          ],
          "scatter3d": [
           {
            "line": {
             "colorbar": {
              "outlinewidth": 0,
              "ticks": ""
             }
            },
            "marker": {
             "colorbar": {
              "outlinewidth": 0,
              "ticks": ""
             }
            },
            "type": "scatter3d"
           }
          ],
          "scattercarpet": [
           {
            "marker": {
             "colorbar": {
              "outlinewidth": 0,
              "ticks": ""
             }
            },
            "type": "scattercarpet"
           }
          ],
          "scattergeo": [
           {
            "marker": {
             "colorbar": {
              "outlinewidth": 0,
              "ticks": ""
             }
            },
            "type": "scattergeo"
           }
          ],
          "scattergl": [
           {
            "marker": {
             "colorbar": {
              "outlinewidth": 0,
              "ticks": ""
             }
            },
            "type": "scattergl"
           }
          ],
          "scattermapbox": [
           {
            "marker": {
             "colorbar": {
              "outlinewidth": 0,
              "ticks": ""
             }
            },
            "type": "scattermapbox"
           }
          ],
          "scatterpolar": [
           {
            "marker": {
             "colorbar": {
              "outlinewidth": 0,
              "ticks": ""
             }
            },
            "type": "scatterpolar"
           }
          ],
          "scatterpolargl": [
           {
            "marker": {
             "colorbar": {
              "outlinewidth": 0,
              "ticks": ""
             }
            },
            "type": "scatterpolargl"
           }
          ],
          "scatterternary": [
           {
            "marker": {
             "colorbar": {
              "outlinewidth": 0,
              "ticks": ""
             }
            },
            "type": "scatterternary"
           }
          ],
          "surface": [
           {
            "colorbar": {
             "outlinewidth": 0,
             "ticks": ""
            },
            "colorscale": [
             [
              0,
              "#0d0887"
             ],
             [
              0.1111111111111111,
              "#46039f"
             ],
             [
              0.2222222222222222,
              "#7201a8"
             ],
             [
              0.3333333333333333,
              "#9c179e"
             ],
             [
              0.4444444444444444,
              "#bd3786"
             ],
             [
              0.5555555555555556,
              "#d8576b"
             ],
             [
              0.6666666666666666,
              "#ed7953"
             ],
             [
              0.7777777777777778,
              "#fb9f3a"
             ],
             [
              0.8888888888888888,
              "#fdca26"
             ],
             [
              1,
              "#f0f921"
             ]
            ],
            "type": "surface"
           }
          ],
          "table": [
           {
            "cells": {
             "fill": {
              "color": "#EBF0F8"
             },
             "line": {
              "color": "white"
             }
            },
            "header": {
             "fill": {
              "color": "#C8D4E3"
             },
             "line": {
              "color": "white"
             }
            },
            "type": "table"
           }
          ]
         },
         "layout": {
          "annotationdefaults": {
           "arrowcolor": "#2a3f5f",
           "arrowhead": 0,
           "arrowwidth": 1
          },
          "autotypenumbers": "strict",
          "coloraxis": {
           "colorbar": {
            "outlinewidth": 0,
            "ticks": ""
           }
          },
          "colorscale": {
           "diverging": [
            [
             0,
             "#8e0152"
            ],
            [
             0.1,
             "#c51b7d"
            ],
            [
             0.2,
             "#de77ae"
            ],
            [
             0.3,
             "#f1b6da"
            ],
            [
             0.4,
             "#fde0ef"
            ],
            [
             0.5,
             "#f7f7f7"
            ],
            [
             0.6,
             "#e6f5d0"
            ],
            [
             0.7,
             "#b8e186"
            ],
            [
             0.8,
             "#7fbc41"
            ],
            [
             0.9,
             "#4d9221"
            ],
            [
             1,
             "#276419"
            ]
           ],
           "sequential": [
            [
             0,
             "#0d0887"
            ],
            [
             0.1111111111111111,
             "#46039f"
            ],
            [
             0.2222222222222222,
             "#7201a8"
            ],
            [
             0.3333333333333333,
             "#9c179e"
            ],
            [
             0.4444444444444444,
             "#bd3786"
            ],
            [
             0.5555555555555556,
             "#d8576b"
            ],
            [
             0.6666666666666666,
             "#ed7953"
            ],
            [
             0.7777777777777778,
             "#fb9f3a"
            ],
            [
             0.8888888888888888,
             "#fdca26"
            ],
            [
             1,
             "#f0f921"
            ]
           ],
           "sequentialminus": [
            [
             0,
             "#0d0887"
            ],
            [
             0.1111111111111111,
             "#46039f"
            ],
            [
             0.2222222222222222,
             "#7201a8"
            ],
            [
             0.3333333333333333,
             "#9c179e"
            ],
            [
             0.4444444444444444,
             "#bd3786"
            ],
            [
             0.5555555555555556,
             "#d8576b"
            ],
            [
             0.6666666666666666,
             "#ed7953"
            ],
            [
             0.7777777777777778,
             "#fb9f3a"
            ],
            [
             0.8888888888888888,
             "#fdca26"
            ],
            [
             1,
             "#f0f921"
            ]
           ]
          },
          "colorway": [
           "#636efa",
           "#EF553B",
           "#00cc96",
           "#ab63fa",
           "#FFA15A",
           "#19d3f3",
           "#FF6692",
           "#B6E880",
           "#FF97FF",
           "#FECB52"
          ],
          "font": {
           "color": "#2a3f5f"
          },
          "geo": {
           "bgcolor": "white",
           "lakecolor": "white",
           "landcolor": "#E5ECF6",
           "showlakes": true,
           "showland": true,
           "subunitcolor": "white"
          },
          "hoverlabel": {
           "align": "left"
          },
          "hovermode": "closest",
          "mapbox": {
           "style": "light"
          },
          "paper_bgcolor": "white",
          "plot_bgcolor": "#E5ECF6",
          "polar": {
           "angularaxis": {
            "gridcolor": "white",
            "linecolor": "white",
            "ticks": ""
           },
           "bgcolor": "#E5ECF6",
           "radialaxis": {
            "gridcolor": "white",
            "linecolor": "white",
            "ticks": ""
           }
          },
          "scene": {
           "xaxis": {
            "backgroundcolor": "#E5ECF6",
            "gridcolor": "white",
            "gridwidth": 2,
            "linecolor": "white",
            "showbackground": true,
            "ticks": "",
            "zerolinecolor": "white"
           },
           "yaxis": {
            "backgroundcolor": "#E5ECF6",
            "gridcolor": "white",
            "gridwidth": 2,
            "linecolor": "white",
            "showbackground": true,
            "ticks": "",
            "zerolinecolor": "white"
           },
           "zaxis": {
            "backgroundcolor": "#E5ECF6",
            "gridcolor": "white",
            "gridwidth": 2,
            "linecolor": "white",
            "showbackground": true,
            "ticks": "",
            "zerolinecolor": "white"
           }
          },
          "shapedefaults": {
           "line": {
            "color": "#2a3f5f"
           }
          },
          "ternary": {
           "aaxis": {
            "gridcolor": "white",
            "linecolor": "white",
            "ticks": ""
           },
           "baxis": {
            "gridcolor": "white",
            "linecolor": "white",
            "ticks": ""
           },
           "bgcolor": "#E5ECF6",
           "caxis": {
            "gridcolor": "white",
            "linecolor": "white",
            "ticks": ""
           }
          },
          "title": {
           "x": 0.05
          },
          "xaxis": {
           "automargin": true,
           "gridcolor": "white",
           "linecolor": "white",
           "ticks": "",
           "title": {
            "standoff": 15
           },
           "zerolinecolor": "white",
           "zerolinewidth": 2
          },
          "yaxis": {
           "automargin": true,
           "gridcolor": "white",
           "linecolor": "white",
           "ticks": "",
           "title": {
            "standoff": 15
           },
           "zerolinecolor": "white",
           "zerolinewidth": 2
          }
         }
        },
        "title": {
         "text": "Stock Prices January - March 2021 CECONSUD"
        }
       }
      }
     },
     "metadata": {},
     "output_type": "display_data"
    }
   ],
   "source": [
    "fig = go.Figure()\n",
    "\n",
    "fig.add_trace(go.Scatter(x=stocks_price.index, y=stocks_price['Close'], name='Close Price'))\n",
    "fig.add_trace(go.Scatter(x=stocks_price.index, y=stocks_price['High'], name='Higher Price'))\n",
    "\n",
    "fig.update_layout(\n",
    "    title_text='Stock Prices January - March 2021 CECONSUD'\n",
    ")"
   ]
  },
  {
   "cell_type": "markdown",
   "metadata": {},
   "source": [
    "# Stock return"
   ]
  },
  {
   "cell_type": "code",
   "execution_count": 43,
   "metadata": {},
   "outputs": [],
   "source": [
    "tesla = yf.Ticker('TSLA')"
   ]
  },
  {
   "cell_type": "code",
   "execution_count": 44,
   "metadata": {},
   "outputs": [],
   "source": [
    "price = tesla.history(period='1y')"
   ]
  },
  {
   "cell_type": "code",
   "execution_count": 45,
   "metadata": {},
   "outputs": [
    {
     "name": "stdout",
     "output_type": "stream",
     "text": [
      "Date\n",
      "2021-01-08         NaN\n",
      "2021-01-11   -0.078214\n",
      "2021-01-12    0.047153\n",
      "2021-01-13    0.005851\n",
      "2021-01-14   -0.011013\n",
      "                ...   \n",
      "2022-01-03    0.135317\n",
      "2022-01-04   -0.041833\n",
      "2022-01-05   -0.053471\n",
      "2022-01-06   -0.021523\n",
      "2022-01-07   -0.035447\n",
      "Name: Close, Length: 253, dtype: float64\n"
     ]
    }
   ],
   "source": [
    "x = price['Close'].pct_change()\n",
    "print(x)"
   ]
  },
  {
   "cell_type": "code",
   "execution_count": 46,
   "metadata": {},
   "outputs": [
    {
     "data": {
      "application/vnd.plotly.v1+json": {
       "config": {
        "plotlyServerURL": "https://plot.ly"
       },
       "data": [
        {
         "hovertemplate": "variable=Close<br>Date=%{x}<br>value=%{y}<extra></extra>",
         "legendgroup": "Close",
         "line": {
          "color": "#636efa",
          "dash": "solid"
         },
         "marker": {
          "symbol": "circle"
         },
         "mode": "lines",
         "name": "Close",
         "orientation": "v",
         "showlegend": true,
         "type": "scatter",
         "x": [
          "2021-01-08T00:00:00",
          "2021-01-11T00:00:00",
          "2021-01-12T00:00:00",
          "2021-01-13T00:00:00",
          "2021-01-14T00:00:00",
          "2021-01-15T00:00:00",
          "2021-01-19T00:00:00",
          "2021-01-20T00:00:00",
          "2021-01-21T00:00:00",
          "2021-01-22T00:00:00",
          "2021-01-25T00:00:00",
          "2021-01-26T00:00:00",
          "2021-01-27T00:00:00",
          "2021-01-28T00:00:00",
          "2021-01-29T00:00:00",
          "2021-02-01T00:00:00",
          "2021-02-02T00:00:00",
          "2021-02-03T00:00:00",
          "2021-02-04T00:00:00",
          "2021-02-05T00:00:00",
          "2021-02-08T00:00:00",
          "2021-02-09T00:00:00",
          "2021-02-10T00:00:00",
          "2021-02-11T00:00:00",
          "2021-02-12T00:00:00",
          "2021-02-16T00:00:00",
          "2021-02-17T00:00:00",
          "2021-02-18T00:00:00",
          "2021-02-19T00:00:00",
          "2021-02-22T00:00:00",
          "2021-02-23T00:00:00",
          "2021-02-24T00:00:00",
          "2021-02-25T00:00:00",
          "2021-02-26T00:00:00",
          "2021-03-01T00:00:00",
          "2021-03-02T00:00:00",
          "2021-03-03T00:00:00",
          "2021-03-04T00:00:00",
          "2021-03-05T00:00:00",
          "2021-03-08T00:00:00",
          "2021-03-09T00:00:00",
          "2021-03-10T00:00:00",
          "2021-03-11T00:00:00",
          "2021-03-12T00:00:00",
          "2021-03-15T00:00:00",
          "2021-03-16T00:00:00",
          "2021-03-17T00:00:00",
          "2021-03-18T00:00:00",
          "2021-03-19T00:00:00",
          "2021-03-22T00:00:00",
          "2021-03-23T00:00:00",
          "2021-03-24T00:00:00",
          "2021-03-25T00:00:00",
          "2021-03-26T00:00:00",
          "2021-03-29T00:00:00",
          "2021-03-30T00:00:00",
          "2021-03-31T00:00:00",
          "2021-04-01T00:00:00",
          "2021-04-05T00:00:00",
          "2021-04-06T00:00:00",
          "2021-04-07T00:00:00",
          "2021-04-08T00:00:00",
          "2021-04-09T00:00:00",
          "2021-04-12T00:00:00",
          "2021-04-13T00:00:00",
          "2021-04-14T00:00:00",
          "2021-04-15T00:00:00",
          "2021-04-16T00:00:00",
          "2021-04-19T00:00:00",
          "2021-04-20T00:00:00",
          "2021-04-21T00:00:00",
          "2021-04-22T00:00:00",
          "2021-04-23T00:00:00",
          "2021-04-26T00:00:00",
          "2021-04-27T00:00:00",
          "2021-04-28T00:00:00",
          "2021-04-29T00:00:00",
          "2021-04-30T00:00:00",
          "2021-05-03T00:00:00",
          "2021-05-04T00:00:00",
          "2021-05-05T00:00:00",
          "2021-05-06T00:00:00",
          "2021-05-07T00:00:00",
          "2021-05-10T00:00:00",
          "2021-05-11T00:00:00",
          "2021-05-12T00:00:00",
          "2021-05-13T00:00:00",
          "2021-05-14T00:00:00",
          "2021-05-17T00:00:00",
          "2021-05-18T00:00:00",
          "2021-05-19T00:00:00",
          "2021-05-20T00:00:00",
          "2021-05-21T00:00:00",
          "2021-05-24T00:00:00",
          "2021-05-25T00:00:00",
          "2021-05-26T00:00:00",
          "2021-05-27T00:00:00",
          "2021-05-28T00:00:00",
          "2021-06-01T00:00:00",
          "2021-06-02T00:00:00",
          "2021-06-03T00:00:00",
          "2021-06-04T00:00:00",
          "2021-06-07T00:00:00",
          "2021-06-08T00:00:00",
          "2021-06-09T00:00:00",
          "2021-06-10T00:00:00",
          "2021-06-11T00:00:00",
          "2021-06-14T00:00:00",
          "2021-06-15T00:00:00",
          "2021-06-16T00:00:00",
          "2021-06-17T00:00:00",
          "2021-06-18T00:00:00",
          "2021-06-21T00:00:00",
          "2021-06-22T00:00:00",
          "2021-06-23T00:00:00",
          "2021-06-24T00:00:00",
          "2021-06-25T00:00:00",
          "2021-06-28T00:00:00",
          "2021-06-29T00:00:00",
          "2021-06-30T00:00:00",
          "2021-07-01T00:00:00",
          "2021-07-02T00:00:00",
          "2021-07-06T00:00:00",
          "2021-07-07T00:00:00",
          "2021-07-08T00:00:00",
          "2021-07-09T00:00:00",
          "2021-07-12T00:00:00",
          "2021-07-13T00:00:00",
          "2021-07-14T00:00:00",
          "2021-07-15T00:00:00",
          "2021-07-16T00:00:00",
          "2021-07-19T00:00:00",
          "2021-07-20T00:00:00",
          "2021-07-21T00:00:00",
          "2021-07-22T00:00:00",
          "2021-07-23T00:00:00",
          "2021-07-26T00:00:00",
          "2021-07-27T00:00:00",
          "2021-07-28T00:00:00",
          "2021-07-29T00:00:00",
          "2021-07-30T00:00:00",
          "2021-08-02T00:00:00",
          "2021-08-03T00:00:00",
          "2021-08-04T00:00:00",
          "2021-08-05T00:00:00",
          "2021-08-06T00:00:00",
          "2021-08-09T00:00:00",
          "2021-08-10T00:00:00",
          "2021-08-11T00:00:00",
          "2021-08-12T00:00:00",
          "2021-08-13T00:00:00",
          "2021-08-16T00:00:00",
          "2021-08-17T00:00:00",
          "2021-08-18T00:00:00",
          "2021-08-19T00:00:00",
          "2021-08-20T00:00:00",
          "2021-08-23T00:00:00",
          "2021-08-24T00:00:00",
          "2021-08-25T00:00:00",
          "2021-08-26T00:00:00",
          "2021-08-27T00:00:00",
          "2021-08-30T00:00:00",
          "2021-08-31T00:00:00",
          "2021-09-01T00:00:00",
          "2021-09-02T00:00:00",
          "2021-09-03T00:00:00",
          "2021-09-07T00:00:00",
          "2021-09-08T00:00:00",
          "2021-09-09T00:00:00",
          "2021-09-10T00:00:00",
          "2021-09-13T00:00:00",
          "2021-09-14T00:00:00",
          "2021-09-15T00:00:00",
          "2021-09-16T00:00:00",
          "2021-09-17T00:00:00",
          "2021-09-20T00:00:00",
          "2021-09-21T00:00:00",
          "2021-09-22T00:00:00",
          "2021-09-23T00:00:00",
          "2021-09-24T00:00:00",
          "2021-09-27T00:00:00",
          "2021-09-28T00:00:00",
          "2021-09-29T00:00:00",
          "2021-09-30T00:00:00",
          "2021-10-01T00:00:00",
          "2021-10-04T00:00:00",
          "2021-10-05T00:00:00",
          "2021-10-06T00:00:00",
          "2021-10-07T00:00:00",
          "2021-10-08T00:00:00",
          "2021-10-11T00:00:00",
          "2021-10-12T00:00:00",
          "2021-10-13T00:00:00",
          "2021-10-14T00:00:00",
          "2021-10-15T00:00:00",
          "2021-10-18T00:00:00",
          "2021-10-19T00:00:00",
          "2021-10-20T00:00:00",
          "2021-10-21T00:00:00",
          "2021-10-22T00:00:00",
          "2021-10-25T00:00:00",
          "2021-10-26T00:00:00",
          "2021-10-27T00:00:00",
          "2021-10-28T00:00:00",
          "2021-10-29T00:00:00",
          "2021-11-01T00:00:00",
          "2021-11-02T00:00:00",
          "2021-11-03T00:00:00",
          "2021-11-04T00:00:00",
          "2021-11-05T00:00:00",
          "2021-11-08T00:00:00",
          "2021-11-09T00:00:00",
          "2021-11-10T00:00:00",
          "2021-11-11T00:00:00",
          "2021-11-12T00:00:00",
          "2021-11-15T00:00:00",
          "2021-11-16T00:00:00",
          "2021-11-17T00:00:00",
          "2021-11-18T00:00:00",
          "2021-11-19T00:00:00",
          "2021-11-22T00:00:00",
          "2021-11-23T00:00:00",
          "2021-11-24T00:00:00",
          "2021-11-26T00:00:00",
          "2021-11-29T00:00:00",
          "2021-11-30T00:00:00",
          "2021-12-01T00:00:00",
          "2021-12-02T00:00:00",
          "2021-12-03T00:00:00",
          "2021-12-06T00:00:00",
          "2021-12-07T00:00:00",
          "2021-12-08T00:00:00",
          "2021-12-09T00:00:00",
          "2021-12-10T00:00:00",
          "2021-12-13T00:00:00",
          "2021-12-14T00:00:00",
          "2021-12-15T00:00:00",
          "2021-12-16T00:00:00",
          "2021-12-17T00:00:00",
          "2021-12-20T00:00:00",
          "2021-12-21T00:00:00",
          "2021-12-22T00:00:00",
          "2021-12-23T00:00:00",
          "2021-12-27T00:00:00",
          "2021-12-28T00:00:00",
          "2021-12-29T00:00:00",
          "2021-12-30T00:00:00",
          "2021-12-31T00:00:00",
          "2022-01-03T00:00:00",
          "2022-01-04T00:00:00",
          "2022-01-05T00:00:00",
          "2022-01-06T00:00:00",
          "2022-01-07T00:00:00"
         ],
         "xaxis": "x",
         "y": [
          null,
          -0.0782141491809546,
          0.047152947996006445,
          0.005850879036589651,
          -0.011013416790886965,
          -0.02229588976978547,
          0.022259629183487784,
          0.00698599786790699,
          -0.006420156263490129,
          0.0019527147458928695,
          0.040347695069333556,
          0.0025999535583989264,
          -0.021436153886081333,
          -0.033246136550627914,
          -0.05015376961115048,
          0.058321634409634227,
          0.03927076429743148,
          -0.020738065332563282,
          -0.005499084104886864,
          0.002635313662643579,
          0.013130261429258105,
          -0.016168216179625494,
          -0.05255104830568991,
          0.008498752215484018,
          0.005494938915587166,
          -0.024383699128955993,
          0.0024240207253696244,
          -0.013493728248842096,
          -0.00772183323444775,
          -0.08549851380603068,
          -0.021917387186187853,
          0.06178809314926603,
          -0.08059088333748998,
          -0.009850152431332582,
          0.06355291291751475,
          -0.04452763743232491,
          -0.04842373713092618,
          -0.04862218183112754,
          -0.03779928897736162,
          -0.05844972237400059,
          0.1964121085077153,
          -0.008195046455057975,
          0.04721129560609172,
          -0.00839050217557713,
          0.02048350564733359,
          -0.043873771013758334,
          0.03683074177984813,
          -0.06932079135849123,
          0.0026180752694069387,
          0.02310382976105818,
          -0.01170153262010265,
          -0.04816049732187688,
          0.016056602414174836,
          -0.03385435778177015,
          -0.011992765078630674,
          0.03980110579983265,
          0.050832254817026135,
          -0.009252455711748597,
          0.044276521032064586,
          0.0008248423909813507,
          -0.029857471674981872,
          0.01912159656921597,
          -0.009915133639592177,
          0.03686738976312931,
          0.08595690551627477,
          -0.03947164782029822,
          0.009040868707601346,
          0.0012587856015018328,
          -0.03399662523732405,
          0.006101038749803722,
          0.034951814662427694,
          -0.0328307165995908,
          0.013491950617233739,
          0.012064693581602004,
          -0.04532649880703643,
          -0.014672029349255045,
          -0.025057637964147172,
          0.047917285733244164,
          -0.03459063196731782,
          -0.01649882964713323,
          -0.003948891390943787,
          -0.011029338520784915,
          0.013307437957385426,
          -0.0644437101662928,
          -0.018822278764288325,
          -0.044248212926854213,
          -0.030853229848072816,
          0.03157303383981902,
          -0.021890957639485453,
          0.0018029193983186698,
          -0.024936358119111213,
          0.04138715510388136,
          -0.0100549168674543,
          0.0440021989804078,
          -0.0028856935442168608,
          0.023880008571508515,
          0.018929741105574882,
          -0.008924475074415739,
          -0.0021111710292588404,
          -0.03010102350053967,
          -0.05334473909669335,
          0.045754416082577576,
          0.010149431956828714,
          -0.0025448713746097917,
          -0.007968981170302758,
          0.0189384502913843,
          -0.00037694301217883197,
          0.012789171171239788,
          -0.029675107282609026,
          0.009193155866741742,
          0.019392564622878083,
          0.010882293607423321,
          -0.0039787272440097166,
          0.004638958818893091,
          0.052684715964052664,
          0.035411303807118655,
          -0.011694289843458106,
          0.025079220248551914,
          -0.011557615977613622,
          -0.0015570796512542895,
          -0.0026188454684518137,
          0.0014456595595533361,
          -0.028457809146336777,
          -0.02263560491364547,
          0.012657989351583465,
          0.006341837079579804,
          0.043762842630010734,
          -0.025025570765932037,
          -0.022676240229138833,
          -0.004254842933820169,
          -0.009806340489125542,
          0.0031045296497360653,
          0.022097783950157934,
          -0.00788799693059239,
          -0.009201984562423937,
          -0.009056471666775034,
          0.022133094168770073,
          -0.019524901790774263,
          0.00341194061837502,
          0.04694116670377313,
          0.014542019600093825,
          0.03269786132709718,
          0.00009864771781908921,
          0.001662570366637528,
          0.005218621028866277,
          -0.021731566252135792,
          0.020969867961160293,
          -0.00528191476080031,
          -0.0030563570472872392,
          0.020386528392057013,
          -0.007033599293656989,
          -0.04322545664028932,
          -0.029817627478727737,
          0.034970133381400315,
          -0.022525754729717518,
          0.010082170486994446,
          0.03827944852485965,
          0.003100668949817642,
          0.003825067410987426,
          -0.014117040059298147,
          0.01534601257594459,
          0.026674332355089314,
          0.0065808344875910585,
          -0.00221544053792444,
          -0.002315808885612225,
          0.0016111534185070386,
          0.026377817239991552,
          0.0012617704783970396,
          0.0013132108198856685,
          -0.024627038366134335,
          0.009140641734991073,
          0.0020053704365747826,
          0.0152319399914278,
          0.001534701081332468,
          0.0033025535769977132,
          -0.0386048633967786,
          0.012613531353273144,
          0.016987202082350716,
          0.002260834909050713,
          0.027533039112419777,
          0.021913984403361786,
          -0.017438318904686723,
          0.004822778964677088,
          -0.0074618488283282325,
          -0.00033528881747257877,
          0.008139700771674807,
          -0.0012027720064089475,
          0.0027671031786462574,
          0.013874142895640373,
          -0.010231719946908746,
          0.008211450543254672,
          0.01740026797388383,
          0.00665249290276515,
          0.008926357550210762,
          0.030196037920976915,
          0.03212217253669292,
          -0.00671175589135764,
          0.0017702433581445742,
          0.032571047129391406,
          0.017539141695504856,
          0.12661594583056024,
          -0.006274020615192222,
          0.019078378303384103,
          0.03775080864849589,
          0.03431623672010509,
          0.08491020271123206,
          -0.03027492106926244,
          0.03571671105082119,
          0.013222323020621207,
          -0.006358244214659803,
          -0.04840071195115225,
          -0.11990296011128176,
          0.04342936118404972,
          -0.00415744333466006,
          -0.028293072508968398,
          -0.0193822728852886,
          0.040793737083203885,
          0.03250123721868614,
          0.006767610078050268,
          0.03710397264613152,
          0.017422066999642327,
          -0.04135293163642506,
          0.006284744794100794,
          -0.030537595031082,
          0.05090019969335757,
          0.006833850427872656,
          -0.04346763456194869,
          -0.00949773919092467,
          -0.06419878890850617,
          -0.0058720564248528895,
          0.04235834116680648,
          0.01636316704302354,
          -0.06095642075067487,
          0.013179957825059097,
          -0.04977243020772948,
          -0.00817454661938255,
          0.018236617552929157,
          -0.05027716248650771,
          0.006095482369819827,
          -0.034989335520704046,
          0.04288066621194697,
          0.0749469528140827,
          0.05761892529677248,
          0.02524830497305519,
          -0.0050002477248370925,
          -0.0020947103349137075,
          -0.014592268793630292,
          -0.012668812673032437,
          0.13531671306766135,
          -0.04183272120805026,
          -0.05347121367683638,
          -0.02152340187700552,
          -0.03544659713080289
         ],
         "yaxis": "y"
        }
       ],
       "layout": {
        "legend": {
         "title": {
          "text": "variable"
         },
         "tracegroupgap": 0
        },
        "margin": {
         "t": 60
        },
        "template": {
         "data": {
          "bar": [
           {
            "error_x": {
             "color": "#2a3f5f"
            },
            "error_y": {
             "color": "#2a3f5f"
            },
            "marker": {
             "line": {
              "color": "#E5ECF6",
              "width": 0.5
             },
             "pattern": {
              "fillmode": "overlay",
              "size": 10,
              "solidity": 0.2
             }
            },
            "type": "bar"
           }
          ],
          "barpolar": [
           {
            "marker": {
             "line": {
              "color": "#E5ECF6",
              "width": 0.5
             },
             "pattern": {
              "fillmode": "overlay",
              "size": 10,
              "solidity": 0.2
             }
            },
            "type": "barpolar"
           }
          ],
          "carpet": [
           {
            "aaxis": {
             "endlinecolor": "#2a3f5f",
             "gridcolor": "white",
             "linecolor": "white",
             "minorgridcolor": "white",
             "startlinecolor": "#2a3f5f"
            },
            "baxis": {
             "endlinecolor": "#2a3f5f",
             "gridcolor": "white",
             "linecolor": "white",
             "minorgridcolor": "white",
             "startlinecolor": "#2a3f5f"
            },
            "type": "carpet"
           }
          ],
          "choropleth": [
           {
            "colorbar": {
             "outlinewidth": 0,
             "ticks": ""
            },
            "type": "choropleth"
           }
          ],
          "contour": [
           {
            "colorbar": {
             "outlinewidth": 0,
             "ticks": ""
            },
            "colorscale": [
             [
              0,
              "#0d0887"
             ],
             [
              0.1111111111111111,
              "#46039f"
             ],
             [
              0.2222222222222222,
              "#7201a8"
             ],
             [
              0.3333333333333333,
              "#9c179e"
             ],
             [
              0.4444444444444444,
              "#bd3786"
             ],
             [
              0.5555555555555556,
              "#d8576b"
             ],
             [
              0.6666666666666666,
              "#ed7953"
             ],
             [
              0.7777777777777778,
              "#fb9f3a"
             ],
             [
              0.8888888888888888,
              "#fdca26"
             ],
             [
              1,
              "#f0f921"
             ]
            ],
            "type": "contour"
           }
          ],
          "contourcarpet": [
           {
            "colorbar": {
             "outlinewidth": 0,
             "ticks": ""
            },
            "type": "contourcarpet"
           }
          ],
          "heatmap": [
           {
            "colorbar": {
             "outlinewidth": 0,
             "ticks": ""
            },
            "colorscale": [
             [
              0,
              "#0d0887"
             ],
             [
              0.1111111111111111,
              "#46039f"
             ],
             [
              0.2222222222222222,
              "#7201a8"
             ],
             [
              0.3333333333333333,
              "#9c179e"
             ],
             [
              0.4444444444444444,
              "#bd3786"
             ],
             [
              0.5555555555555556,
              "#d8576b"
             ],
             [
              0.6666666666666666,
              "#ed7953"
             ],
             [
              0.7777777777777778,
              "#fb9f3a"
             ],
             [
              0.8888888888888888,
              "#fdca26"
             ],
             [
              1,
              "#f0f921"
             ]
            ],
            "type": "heatmap"
           }
          ],
          "heatmapgl": [
           {
            "colorbar": {
             "outlinewidth": 0,
             "ticks": ""
            },
            "colorscale": [
             [
              0,
              "#0d0887"
             ],
             [
              0.1111111111111111,
              "#46039f"
             ],
             [
              0.2222222222222222,
              "#7201a8"
             ],
             [
              0.3333333333333333,
              "#9c179e"
             ],
             [
              0.4444444444444444,
              "#bd3786"
             ],
             [
              0.5555555555555556,
              "#d8576b"
             ],
             [
              0.6666666666666666,
              "#ed7953"
             ],
             [
              0.7777777777777778,
              "#fb9f3a"
             ],
             [
              0.8888888888888888,
              "#fdca26"
             ],
             [
              1,
              "#f0f921"
             ]
            ],
            "type": "heatmapgl"
           }
          ],
          "histogram": [
           {
            "marker": {
             "pattern": {
              "fillmode": "overlay",
              "size": 10,
              "solidity": 0.2
             }
            },
            "type": "histogram"
           }
          ],
          "histogram2d": [
           {
            "colorbar": {
             "outlinewidth": 0,
             "ticks": ""
            },
            "colorscale": [
             [
              0,
              "#0d0887"
             ],
             [
              0.1111111111111111,
              "#46039f"
             ],
             [
              0.2222222222222222,
              "#7201a8"
             ],
             [
              0.3333333333333333,
              "#9c179e"
             ],
             [
              0.4444444444444444,
              "#bd3786"
             ],
             [
              0.5555555555555556,
              "#d8576b"
             ],
             [
              0.6666666666666666,
              "#ed7953"
             ],
             [
              0.7777777777777778,
              "#fb9f3a"
             ],
             [
              0.8888888888888888,
              "#fdca26"
             ],
             [
              1,
              "#f0f921"
             ]
            ],
            "type": "histogram2d"
           }
          ],
          "histogram2dcontour": [
           {
            "colorbar": {
             "outlinewidth": 0,
             "ticks": ""
            },
            "colorscale": [
             [
              0,
              "#0d0887"
             ],
             [
              0.1111111111111111,
              "#46039f"
             ],
             [
              0.2222222222222222,
              "#7201a8"
             ],
             [
              0.3333333333333333,
              "#9c179e"
             ],
             [
              0.4444444444444444,
              "#bd3786"
             ],
             [
              0.5555555555555556,
              "#d8576b"
             ],
             [
              0.6666666666666666,
              "#ed7953"
             ],
             [
              0.7777777777777778,
              "#fb9f3a"
             ],
             [
              0.8888888888888888,
              "#fdca26"
             ],
             [
              1,
              "#f0f921"
             ]
            ],
            "type": "histogram2dcontour"
           }
          ],
          "mesh3d": [
           {
            "colorbar": {
             "outlinewidth": 0,
             "ticks": ""
            },
            "type": "mesh3d"
           }
          ],
          "parcoords": [
           {
            "line": {
             "colorbar": {
              "outlinewidth": 0,
              "ticks": ""
             }
            },
            "type": "parcoords"
           }
          ],
          "pie": [
           {
            "automargin": true,
            "type": "pie"
           }
          ],
          "scatter": [
           {
            "marker": {
             "colorbar": {
              "outlinewidth": 0,
              "ticks": ""
             }
            },
            "type": "scatter"
           }
          ],
          "scatter3d": [
           {
            "line": {
             "colorbar": {
              "outlinewidth": 0,
              "ticks": ""
             }
            },
            "marker": {
             "colorbar": {
              "outlinewidth": 0,
              "ticks": ""
             }
            },
            "type": "scatter3d"
           }
          ],
          "scattercarpet": [
           {
            "marker": {
             "colorbar": {
              "outlinewidth": 0,
              "ticks": ""
             }
            },
            "type": "scattercarpet"
           }
          ],
          "scattergeo": [
           {
            "marker": {
             "colorbar": {
              "outlinewidth": 0,
              "ticks": ""
             }
            },
            "type": "scattergeo"
           }
          ],
          "scattergl": [
           {
            "marker": {
             "colorbar": {
              "outlinewidth": 0,
              "ticks": ""
             }
            },
            "type": "scattergl"
           }
          ],
          "scattermapbox": [
           {
            "marker": {
             "colorbar": {
              "outlinewidth": 0,
              "ticks": ""
             }
            },
            "type": "scattermapbox"
           }
          ],
          "scatterpolar": [
           {
            "marker": {
             "colorbar": {
              "outlinewidth": 0,
              "ticks": ""
             }
            },
            "type": "scatterpolar"
           }
          ],
          "scatterpolargl": [
           {
            "marker": {
             "colorbar": {
              "outlinewidth": 0,
              "ticks": ""
             }
            },
            "type": "scatterpolargl"
           }
          ],
          "scatterternary": [
           {
            "marker": {
             "colorbar": {
              "outlinewidth": 0,
              "ticks": ""
             }
            },
            "type": "scatterternary"
           }
          ],
          "surface": [
           {
            "colorbar": {
             "outlinewidth": 0,
             "ticks": ""
            },
            "colorscale": [
             [
              0,
              "#0d0887"
             ],
             [
              0.1111111111111111,
              "#46039f"
             ],
             [
              0.2222222222222222,
              "#7201a8"
             ],
             [
              0.3333333333333333,
              "#9c179e"
             ],
             [
              0.4444444444444444,
              "#bd3786"
             ],
             [
              0.5555555555555556,
              "#d8576b"
             ],
             [
              0.6666666666666666,
              "#ed7953"
             ],
             [
              0.7777777777777778,
              "#fb9f3a"
             ],
             [
              0.8888888888888888,
              "#fdca26"
             ],
             [
              1,
              "#f0f921"
             ]
            ],
            "type": "surface"
           }
          ],
          "table": [
           {
            "cells": {
             "fill": {
              "color": "#EBF0F8"
             },
             "line": {
              "color": "white"
             }
            },
            "header": {
             "fill": {
              "color": "#C8D4E3"
             },
             "line": {
              "color": "white"
             }
            },
            "type": "table"
           }
          ]
         },
         "layout": {
          "annotationdefaults": {
           "arrowcolor": "#2a3f5f",
           "arrowhead": 0,
           "arrowwidth": 1
          },
          "autotypenumbers": "strict",
          "coloraxis": {
           "colorbar": {
            "outlinewidth": 0,
            "ticks": ""
           }
          },
          "colorscale": {
           "diverging": [
            [
             0,
             "#8e0152"
            ],
            [
             0.1,
             "#c51b7d"
            ],
            [
             0.2,
             "#de77ae"
            ],
            [
             0.3,
             "#f1b6da"
            ],
            [
             0.4,
             "#fde0ef"
            ],
            [
             0.5,
             "#f7f7f7"
            ],
            [
             0.6,
             "#e6f5d0"
            ],
            [
             0.7,
             "#b8e186"
            ],
            [
             0.8,
             "#7fbc41"
            ],
            [
             0.9,
             "#4d9221"
            ],
            [
             1,
             "#276419"
            ]
           ],
           "sequential": [
            [
             0,
             "#0d0887"
            ],
            [
             0.1111111111111111,
             "#46039f"
            ],
            [
             0.2222222222222222,
             "#7201a8"
            ],
            [
             0.3333333333333333,
             "#9c179e"
            ],
            [
             0.4444444444444444,
             "#bd3786"
            ],
            [
             0.5555555555555556,
             "#d8576b"
            ],
            [
             0.6666666666666666,
             "#ed7953"
            ],
            [
             0.7777777777777778,
             "#fb9f3a"
            ],
            [
             0.8888888888888888,
             "#fdca26"
            ],
            [
             1,
             "#f0f921"
            ]
           ],
           "sequentialminus": [
            [
             0,
             "#0d0887"
            ],
            [
             0.1111111111111111,
             "#46039f"
            ],
            [
             0.2222222222222222,
             "#7201a8"
            ],
            [
             0.3333333333333333,
             "#9c179e"
            ],
            [
             0.4444444444444444,
             "#bd3786"
            ],
            [
             0.5555555555555556,
             "#d8576b"
            ],
            [
             0.6666666666666666,
             "#ed7953"
            ],
            [
             0.7777777777777778,
             "#fb9f3a"
            ],
            [
             0.8888888888888888,
             "#fdca26"
            ],
            [
             1,
             "#f0f921"
            ]
           ]
          },
          "colorway": [
           "#636efa",
           "#EF553B",
           "#00cc96",
           "#ab63fa",
           "#FFA15A",
           "#19d3f3",
           "#FF6692",
           "#B6E880",
           "#FF97FF",
           "#FECB52"
          ],
          "font": {
           "color": "#2a3f5f"
          },
          "geo": {
           "bgcolor": "white",
           "lakecolor": "white",
           "landcolor": "#E5ECF6",
           "showlakes": true,
           "showland": true,
           "subunitcolor": "white"
          },
          "hoverlabel": {
           "align": "left"
          },
          "hovermode": "closest",
          "mapbox": {
           "style": "light"
          },
          "paper_bgcolor": "white",
          "plot_bgcolor": "#E5ECF6",
          "polar": {
           "angularaxis": {
            "gridcolor": "white",
            "linecolor": "white",
            "ticks": ""
           },
           "bgcolor": "#E5ECF6",
           "radialaxis": {
            "gridcolor": "white",
            "linecolor": "white",
            "ticks": ""
           }
          },
          "scene": {
           "xaxis": {
            "backgroundcolor": "#E5ECF6",
            "gridcolor": "white",
            "gridwidth": 2,
            "linecolor": "white",
            "showbackground": true,
            "ticks": "",
            "zerolinecolor": "white"
           },
           "yaxis": {
            "backgroundcolor": "#E5ECF6",
            "gridcolor": "white",
            "gridwidth": 2,
            "linecolor": "white",
            "showbackground": true,
            "ticks": "",
            "zerolinecolor": "white"
           },
           "zaxis": {
            "backgroundcolor": "#E5ECF6",
            "gridcolor": "white",
            "gridwidth": 2,
            "linecolor": "white",
            "showbackground": true,
            "ticks": "",
            "zerolinecolor": "white"
           }
          },
          "shapedefaults": {
           "line": {
            "color": "#2a3f5f"
           }
          },
          "ternary": {
           "aaxis": {
            "gridcolor": "white",
            "linecolor": "white",
            "ticks": ""
           },
           "baxis": {
            "gridcolor": "white",
            "linecolor": "white",
            "ticks": ""
           },
           "bgcolor": "#E5ECF6",
           "caxis": {
            "gridcolor": "white",
            "linecolor": "white",
            "ticks": ""
           }
          },
          "title": {
           "x": 0.05
          },
          "xaxis": {
           "automargin": true,
           "gridcolor": "white",
           "linecolor": "white",
           "ticks": "",
           "title": {
            "standoff": 15
           },
           "zerolinecolor": "white",
           "zerolinewidth": 2
          },
          "yaxis": {
           "automargin": true,
           "gridcolor": "white",
           "linecolor": "white",
           "ticks": "",
           "title": {
            "standoff": 15
           },
           "zerolinecolor": "white",
           "zerolinewidth": 2
          }
         }
        },
        "xaxis": {
         "anchor": "y",
         "domain": [
          0,
          1
         ],
         "title": {
          "text": "Date"
         }
        },
        "yaxis": {
         "anchor": "x",
         "domain": [
          0,
          1
         ],
         "title": {
          "text": "value"
         }
        }
       }
      }
     },
     "metadata": {},
     "output_type": "display_data"
    }
   ],
   "source": [
    "px.line(x)"
   ]
  },
  {
   "cell_type": "code",
   "execution_count": 47,
   "metadata": {},
   "outputs": [],
   "source": [
    "returns = (x+1).cumprod()"
   ]
  },
  {
   "cell_type": "code",
   "execution_count": 48,
   "metadata": {},
   "outputs": [
    {
     "data": {
      "application/vnd.plotly.v1+json": {
       "config": {
        "plotlyServerURL": "https://plot.ly"
       },
       "data": [
        {
         "alignmentgroup": "True",
         "bingroup": "x",
         "hovertemplate": "variable=Close<br>value=%{x}<br>count=%{y}<extra></extra>",
         "legendgroup": "Close",
         "marker": {
          "color": "#636efa",
          "pattern": {
           "shape": ""
          }
         },
         "name": "Close",
         "offsetgroup": "Close",
         "orientation": "v",
         "showlegend": true,
         "type": "histogram",
         "x": [
          null,
          0.9217858508190454,
          0.9652507711061704,
          0.9708983366078875,
          0.9602054285652459,
          0.9387967941736056,
          0.9596940626905572,
          0.9663984833663565,
          0.9601940540903446,
          0.9620690391786855,
          1.0008863074071137,
          1.0034885653236096,
          0.9819776300144097,
          0.9493306676372887,
          0.9017181560478085,
          0.9543078326853582,
          0.9917842306499376,
          0.9712165444789131,
          0.965875743016766,
          0.9684211285587542,
          0.9811367511503478,
          0.9652735200559736,
          0.9145473846753087,
          0.9223198962869831,
          0.9273879877777107,
          0.9047748381079311,
          0.9069680310672977,
          0.8947296509256882,
          0.8878206977713244,
          0.811913347585643,
          0.7941183283849745,
          0.8431853856307647,
          0.7752323305855192,
          0.7675961739595546,
          0.8163791467590237,
          0.7800277121048271,
          0.7422558552190253,
          0.7061657560613467,
          0.6794731925820667,
          0.6397581731150691,
          0.7654144248316438,
          0.759141818062777,
          0.7949818868422847,
          0.7883115895911901,
          0.8044589744884397,
          0.7691643256517711,
          0.7974932183161224,
          0.7422103573194188,
          0.7441535199006144,
          0.7613463161404904,
          0.7524373973869775,
          0.7161996381252419,
          0.7276993709637948,
          0.7030635761016174,
          0.6946318997980887,
          0.7222790175338912,
          0.7589940886021653,
          0.7519715294118948,
          0.7852662126494143,
          0.785913933509813,
          0.7624485305010702,
          0.7770277637061033,
          0.7693234295872838,
          0.7976863763197856,
          0.866253028800725,
          0.8320605943246361,
          0.8395831449146939,
          0.8406400000887762,
          0.812061077046254,
          0.8170154931445205,
          0.8455716672372398,
          0.8178109434655304,
          0.8288448083290006,
          0.8388445669681917,
          0.8008226797042189,
          0.7890729858440496,
          0.7693006806374808,
          0.8061634811663662,
          0.7782777768838486,
          0.7654371044248924,
          0.76241447643292,
          0.7540055490791944,
          0.76403943114309,
          0.7148018954868856,
          0.7013476949487897,
          0.6703143128069372,
          0.6496329512434518,
          0.6701438343965228,
          0.6554737441053862,
          0.6566555104337224,
          0.6402809134646593,
          0.666780318940276,
          0.6600758982644769,
          0.6891206892820818,
          0.6871320981578343,
          0.703540818551602,
          0.716858664103988,
          0.710461076824313,
          0.7089611719815055,
          0.68762071508272,
          0.6509397674391506,
          0.6807231364032578,
          0.6876320895576217,
          0.6858821543366433,
          0.6804163723636879,
          0.6933024040091417,
          0.6930410685126236,
          0.7019044893665305,
          0.6810753983424338,
          0.687336630636399,
          0.7006658506636867,
          0.708290702171304,
          0.7054726066578962,
          0.7087452650280394,
          0.7460853080069089,
          0.7725051615147692,
          0.7634712622504481,
          0.782618526189867,
          0.7735733218071986,
          0.7723688065290595,
          0.7703460919801073,
          0.7714597501721429,
          0.7495056958376634,
          0.732540181026155,
          0.7418126668371912,
          0.7465171219138412,
          0.7791868332407652,
          0.759687238005616,
          0.7424603876975897,
          0.7393013353633532,
          0.732051494744715,
          0.7343241703152835,
          0.7505511071802896,
          0.7446307623505988,
          0.7377786815707426,
          0.7310970098447465,
          0.7472784488101465,
          0.7326879104867663,
          0.7351877981291484,
          0.7696983711197086,
          0.7808913399186918,
          0.8064248166628842,
          0.8065043686306407,
          0.8078452388944897,
          0.812061077046254,
          0.7944137179496426,
          0.811072468721581,
          0.8067884530769618,
          0.8043226195027301,
          0.8207199654215962,
          0.8149473500525166,
          0.7797208787087029,
          0.7564714520099806,
          0.7829253595859912,
          0.7652893749642813,
          0.7730051529145566,
          0.8025953638750006,
          0.8050839463990355,
          0.8081634467655155,
          0.7967545710130663,
          0.8089815766797742,
          0.8305606201252747,
          0.8360264020982301,
          0.8341742353162466,
          0.8322424472099524,
          0.8335833174738014,
          0.8555714258764312,
          0.8566509606437621,
          0.8577759239541449,
          0.8366514433653799,
          0.844298974466246,
          0.845992106669271,
          0.858878207671279,
          0.8601963289853249,
          0.8630371734485357,
          0.8297197412612131,
          0.8401854372320411,
          0.8544578370409499,
          0.856389625147244,
          0.8799686341918936,
          0.8992522531170224,
          0.8835708055514097,
          0.8878320722462257,
          0.881207203538183,
          0.8809117446169604,
          0.8880821026243965,
          0.8870139423319671,
          0.8894684014312974,
          0.9018090131339119,
          0.8925819558659276,
          0.8999113484523221,
          0.9155700470681317,
          0.9216608703082368,
          0.9298879447766466,
          0.9579668764193815,
          0.9887388537081616,
          0.9821026798817717,
          0.9838412406278484,
          1.0158859800441769,
          1.0337037481946485,
          1.1645871259809093,
          1.1572804823443177,
          1.1793595171896054,
          1.2238812926508127,
          1.265880292806726,
          1.373366445077099,
          1.3317878843532163,
          1.3793549673996446,
          1.3975932443387011,
          1.388707005178437,
          1.3214925974362481,
          1.1630417232384955,
          1.2135518823091398,
          1.2085066091247696,
          1.174314244005235,
          1.1515533648748442,
          1.1985295300788272,
          1.2374832226495196,
          1.2458580265785406,
          1.292084308717674,
          1.31459508811334,
          1.2602327273050087,
          1.2681529683772943,
          1.229426626591524,
          1.2920046873933635,
          1.3008340541791201,
          1.244289874886324,
          1.2324719341767454,
          1.1533487286388742,
          1.1465761998267743,
          1.1951432656727772,
          1.2146995945693255,
          1.1406558549970836,
          1.155689651058852,
          1.09816816855973,
          1.0891911416699165,
          1.109054303962589,
          1.0532942005159014,
          1.0597145367453795,
          1.022635829263028,
          1.0664871349140335,
          1.1464170958912618,
          1.2124724168983634,
          1.2430852902516305,
          1.2368695558572713,
          1.234278672415677,
          1.216267746261542,
          1.2008590780239032,
          1.36335538131956,
          1.3063225157453238,
          1.236471865375043,
          1.2098587845069653,
          1.166973407587384
         ],
         "xaxis": "x",
         "yaxis": "y"
        }
       ],
       "layout": {
        "barmode": "relative",
        "legend": {
         "title": {
          "text": "variable"
         },
         "tracegroupgap": 0
        },
        "margin": {
         "t": 60
        },
        "template": {
         "data": {
          "bar": [
           {
            "error_x": {
             "color": "#2a3f5f"
            },
            "error_y": {
             "color": "#2a3f5f"
            },
            "marker": {
             "line": {
              "color": "#E5ECF6",
              "width": 0.5
             },
             "pattern": {
              "fillmode": "overlay",
              "size": 10,
              "solidity": 0.2
             }
            },
            "type": "bar"
           }
          ],
          "barpolar": [
           {
            "marker": {
             "line": {
              "color": "#E5ECF6",
              "width": 0.5
             },
             "pattern": {
              "fillmode": "overlay",
              "size": 10,
              "solidity": 0.2
             }
            },
            "type": "barpolar"
           }
          ],
          "carpet": [
           {
            "aaxis": {
             "endlinecolor": "#2a3f5f",
             "gridcolor": "white",
             "linecolor": "white",
             "minorgridcolor": "white",
             "startlinecolor": "#2a3f5f"
            },
            "baxis": {
             "endlinecolor": "#2a3f5f",
             "gridcolor": "white",
             "linecolor": "white",
             "minorgridcolor": "white",
             "startlinecolor": "#2a3f5f"
            },
            "type": "carpet"
           }
          ],
          "choropleth": [
           {
            "colorbar": {
             "outlinewidth": 0,
             "ticks": ""
            },
            "type": "choropleth"
           }
          ],
          "contour": [
           {
            "colorbar": {
             "outlinewidth": 0,
             "ticks": ""
            },
            "colorscale": [
             [
              0,
              "#0d0887"
             ],
             [
              0.1111111111111111,
              "#46039f"
             ],
             [
              0.2222222222222222,
              "#7201a8"
             ],
             [
              0.3333333333333333,
              "#9c179e"
             ],
             [
              0.4444444444444444,
              "#bd3786"
             ],
             [
              0.5555555555555556,
              "#d8576b"
             ],
             [
              0.6666666666666666,
              "#ed7953"
             ],
             [
              0.7777777777777778,
              "#fb9f3a"
             ],
             [
              0.8888888888888888,
              "#fdca26"
             ],
             [
              1,
              "#f0f921"
             ]
            ],
            "type": "contour"
           }
          ],
          "contourcarpet": [
           {
            "colorbar": {
             "outlinewidth": 0,
             "ticks": ""
            },
            "type": "contourcarpet"
           }
          ],
          "heatmap": [
           {
            "colorbar": {
             "outlinewidth": 0,
             "ticks": ""
            },
            "colorscale": [
             [
              0,
              "#0d0887"
             ],
             [
              0.1111111111111111,
              "#46039f"
             ],
             [
              0.2222222222222222,
              "#7201a8"
             ],
             [
              0.3333333333333333,
              "#9c179e"
             ],
             [
              0.4444444444444444,
              "#bd3786"
             ],
             [
              0.5555555555555556,
              "#d8576b"
             ],
             [
              0.6666666666666666,
              "#ed7953"
             ],
             [
              0.7777777777777778,
              "#fb9f3a"
             ],
             [
              0.8888888888888888,
              "#fdca26"
             ],
             [
              1,
              "#f0f921"
             ]
            ],
            "type": "heatmap"
           }
          ],
          "heatmapgl": [
           {
            "colorbar": {
             "outlinewidth": 0,
             "ticks": ""
            },
            "colorscale": [
             [
              0,
              "#0d0887"
             ],
             [
              0.1111111111111111,
              "#46039f"
             ],
             [
              0.2222222222222222,
              "#7201a8"
             ],
             [
              0.3333333333333333,
              "#9c179e"
             ],
             [
              0.4444444444444444,
              "#bd3786"
             ],
             [
              0.5555555555555556,
              "#d8576b"
             ],
             [
              0.6666666666666666,
              "#ed7953"
             ],
             [
              0.7777777777777778,
              "#fb9f3a"
             ],
             [
              0.8888888888888888,
              "#fdca26"
             ],
             [
              1,
              "#f0f921"
             ]
            ],
            "type": "heatmapgl"
           }
          ],
          "histogram": [
           {
            "marker": {
             "pattern": {
              "fillmode": "overlay",
              "size": 10,
              "solidity": 0.2
             }
            },
            "type": "histogram"
           }
          ],
          "histogram2d": [
           {
            "colorbar": {
             "outlinewidth": 0,
             "ticks": ""
            },
            "colorscale": [
             [
              0,
              "#0d0887"
             ],
             [
              0.1111111111111111,
              "#46039f"
             ],
             [
              0.2222222222222222,
              "#7201a8"
             ],
             [
              0.3333333333333333,
              "#9c179e"
             ],
             [
              0.4444444444444444,
              "#bd3786"
             ],
             [
              0.5555555555555556,
              "#d8576b"
             ],
             [
              0.6666666666666666,
              "#ed7953"
             ],
             [
              0.7777777777777778,
              "#fb9f3a"
             ],
             [
              0.8888888888888888,
              "#fdca26"
             ],
             [
              1,
              "#f0f921"
             ]
            ],
            "type": "histogram2d"
           }
          ],
          "histogram2dcontour": [
           {
            "colorbar": {
             "outlinewidth": 0,
             "ticks": ""
            },
            "colorscale": [
             [
              0,
              "#0d0887"
             ],
             [
              0.1111111111111111,
              "#46039f"
             ],
             [
              0.2222222222222222,
              "#7201a8"
             ],
             [
              0.3333333333333333,
              "#9c179e"
             ],
             [
              0.4444444444444444,
              "#bd3786"
             ],
             [
              0.5555555555555556,
              "#d8576b"
             ],
             [
              0.6666666666666666,
              "#ed7953"
             ],
             [
              0.7777777777777778,
              "#fb9f3a"
             ],
             [
              0.8888888888888888,
              "#fdca26"
             ],
             [
              1,
              "#f0f921"
             ]
            ],
            "type": "histogram2dcontour"
           }
          ],
          "mesh3d": [
           {
            "colorbar": {
             "outlinewidth": 0,
             "ticks": ""
            },
            "type": "mesh3d"
           }
          ],
          "parcoords": [
           {
            "line": {
             "colorbar": {
              "outlinewidth": 0,
              "ticks": ""
             }
            },
            "type": "parcoords"
           }
          ],
          "pie": [
           {
            "automargin": true,
            "type": "pie"
           }
          ],
          "scatter": [
           {
            "marker": {
             "colorbar": {
              "outlinewidth": 0,
              "ticks": ""
             }
            },
            "type": "scatter"
           }
          ],
          "scatter3d": [
           {
            "line": {
             "colorbar": {
              "outlinewidth": 0,
              "ticks": ""
             }
            },
            "marker": {
             "colorbar": {
              "outlinewidth": 0,
              "ticks": ""
             }
            },
            "type": "scatter3d"
           }
          ],
          "scattercarpet": [
           {
            "marker": {
             "colorbar": {
              "outlinewidth": 0,
              "ticks": ""
             }
            },
            "type": "scattercarpet"
           }
          ],
          "scattergeo": [
           {
            "marker": {
             "colorbar": {
              "outlinewidth": 0,
              "ticks": ""
             }
            },
            "type": "scattergeo"
           }
          ],
          "scattergl": [
           {
            "marker": {
             "colorbar": {
              "outlinewidth": 0,
              "ticks": ""
             }
            },
            "type": "scattergl"
           }
          ],
          "scattermapbox": [
           {
            "marker": {
             "colorbar": {
              "outlinewidth": 0,
              "ticks": ""
             }
            },
            "type": "scattermapbox"
           }
          ],
          "scatterpolar": [
           {
            "marker": {
             "colorbar": {
              "outlinewidth": 0,
              "ticks": ""
             }
            },
            "type": "scatterpolar"
           }
          ],
          "scatterpolargl": [
           {
            "marker": {
             "colorbar": {
              "outlinewidth": 0,
              "ticks": ""
             }
            },
            "type": "scatterpolargl"
           }
          ],
          "scatterternary": [
           {
            "marker": {
             "colorbar": {
              "outlinewidth": 0,
              "ticks": ""
             }
            },
            "type": "scatterternary"
           }
          ],
          "surface": [
           {
            "colorbar": {
             "outlinewidth": 0,
             "ticks": ""
            },
            "colorscale": [
             [
              0,
              "#0d0887"
             ],
             [
              0.1111111111111111,
              "#46039f"
             ],
             [
              0.2222222222222222,
              "#7201a8"
             ],
             [
              0.3333333333333333,
              "#9c179e"
             ],
             [
              0.4444444444444444,
              "#bd3786"
             ],
             [
              0.5555555555555556,
              "#d8576b"
             ],
             [
              0.6666666666666666,
              "#ed7953"
             ],
             [
              0.7777777777777778,
              "#fb9f3a"
             ],
             [
              0.8888888888888888,
              "#fdca26"
             ],
             [
              1,
              "#f0f921"
             ]
            ],
            "type": "surface"
           }
          ],
          "table": [
           {
            "cells": {
             "fill": {
              "color": "#EBF0F8"
             },
             "line": {
              "color": "white"
             }
            },
            "header": {
             "fill": {
              "color": "#C8D4E3"
             },
             "line": {
              "color": "white"
             }
            },
            "type": "table"
           }
          ]
         },
         "layout": {
          "annotationdefaults": {
           "arrowcolor": "#2a3f5f",
           "arrowhead": 0,
           "arrowwidth": 1
          },
          "autotypenumbers": "strict",
          "coloraxis": {
           "colorbar": {
            "outlinewidth": 0,
            "ticks": ""
           }
          },
          "colorscale": {
           "diverging": [
            [
             0,
             "#8e0152"
            ],
            [
             0.1,
             "#c51b7d"
            ],
            [
             0.2,
             "#de77ae"
            ],
            [
             0.3,
             "#f1b6da"
            ],
            [
             0.4,
             "#fde0ef"
            ],
            [
             0.5,
             "#f7f7f7"
            ],
            [
             0.6,
             "#e6f5d0"
            ],
            [
             0.7,
             "#b8e186"
            ],
            [
             0.8,
             "#7fbc41"
            ],
            [
             0.9,
             "#4d9221"
            ],
            [
             1,
             "#276419"
            ]
           ],
           "sequential": [
            [
             0,
             "#0d0887"
            ],
            [
             0.1111111111111111,
             "#46039f"
            ],
            [
             0.2222222222222222,
             "#7201a8"
            ],
            [
             0.3333333333333333,
             "#9c179e"
            ],
            [
             0.4444444444444444,
             "#bd3786"
            ],
            [
             0.5555555555555556,
             "#d8576b"
            ],
            [
             0.6666666666666666,
             "#ed7953"
            ],
            [
             0.7777777777777778,
             "#fb9f3a"
            ],
            [
             0.8888888888888888,
             "#fdca26"
            ],
            [
             1,
             "#f0f921"
            ]
           ],
           "sequentialminus": [
            [
             0,
             "#0d0887"
            ],
            [
             0.1111111111111111,
             "#46039f"
            ],
            [
             0.2222222222222222,
             "#7201a8"
            ],
            [
             0.3333333333333333,
             "#9c179e"
            ],
            [
             0.4444444444444444,
             "#bd3786"
            ],
            [
             0.5555555555555556,
             "#d8576b"
            ],
            [
             0.6666666666666666,
             "#ed7953"
            ],
            [
             0.7777777777777778,
             "#fb9f3a"
            ],
            [
             0.8888888888888888,
             "#fdca26"
            ],
            [
             1,
             "#f0f921"
            ]
           ]
          },
          "colorway": [
           "#636efa",
           "#EF553B",
           "#00cc96",
           "#ab63fa",
           "#FFA15A",
           "#19d3f3",
           "#FF6692",
           "#B6E880",
           "#FF97FF",
           "#FECB52"
          ],
          "font": {
           "color": "#2a3f5f"
          },
          "geo": {
           "bgcolor": "white",
           "lakecolor": "white",
           "landcolor": "#E5ECF6",
           "showlakes": true,
           "showland": true,
           "subunitcolor": "white"
          },
          "hoverlabel": {
           "align": "left"
          },
          "hovermode": "closest",
          "mapbox": {
           "style": "light"
          },
          "paper_bgcolor": "white",
          "plot_bgcolor": "#E5ECF6",
          "polar": {
           "angularaxis": {
            "gridcolor": "white",
            "linecolor": "white",
            "ticks": ""
           },
           "bgcolor": "#E5ECF6",
           "radialaxis": {
            "gridcolor": "white",
            "linecolor": "white",
            "ticks": ""
           }
          },
          "scene": {
           "xaxis": {
            "backgroundcolor": "#E5ECF6",
            "gridcolor": "white",
            "gridwidth": 2,
            "linecolor": "white",
            "showbackground": true,
            "ticks": "",
            "zerolinecolor": "white"
           },
           "yaxis": {
            "backgroundcolor": "#E5ECF6",
            "gridcolor": "white",
            "gridwidth": 2,
            "linecolor": "white",
            "showbackground": true,
            "ticks": "",
            "zerolinecolor": "white"
           },
           "zaxis": {
            "backgroundcolor": "#E5ECF6",
            "gridcolor": "white",
            "gridwidth": 2,
            "linecolor": "white",
            "showbackground": true,
            "ticks": "",
            "zerolinecolor": "white"
           }
          },
          "shapedefaults": {
           "line": {
            "color": "#2a3f5f"
           }
          },
          "ternary": {
           "aaxis": {
            "gridcolor": "white",
            "linecolor": "white",
            "ticks": ""
           },
           "baxis": {
            "gridcolor": "white",
            "linecolor": "white",
            "ticks": ""
           },
           "bgcolor": "#E5ECF6",
           "caxis": {
            "gridcolor": "white",
            "linecolor": "white",
            "ticks": ""
           }
          },
          "title": {
           "x": 0.05
          },
          "xaxis": {
           "automargin": true,
           "gridcolor": "white",
           "linecolor": "white",
           "ticks": "",
           "title": {
            "standoff": 15
           },
           "zerolinecolor": "white",
           "zerolinewidth": 2
          },
          "yaxis": {
           "automargin": true,
           "gridcolor": "white",
           "linecolor": "white",
           "ticks": "",
           "title": {
            "standoff": 15
           },
           "zerolinecolor": "white",
           "zerolinewidth": 2
          }
         }
        },
        "xaxis": {
         "anchor": "y",
         "domain": [
          0,
          1
         ],
         "title": {
          "text": "value"
         }
        },
        "yaxis": {
         "anchor": "x",
         "domain": [
          0,
          1
         ],
         "title": {
          "text": "count"
         }
        }
       }
      }
     },
     "metadata": {},
     "output_type": "display_data"
    }
   ],
   "source": [
    "px.histogram(returns)"
   ]
  },
  {
   "cell_type": "markdown",
   "metadata": {},
   "source": [
    "# Analyzing a Portfolio"
   ]
  },
  {
   "cell_type": "code",
   "execution_count": 49,
   "metadata": {},
   "outputs": [],
   "source": [
    "stocks = ['AAPL','AMZN','MSFT','TSLA']\n",
    "weights = [0.3,0.2,0.4,0.1]"
   ]
  },
  {
   "cell_type": "code",
   "execution_count": 50,
   "metadata": {},
   "outputs": [
    {
     "name": "stdout",
     "output_type": "stream",
     "text": [
      "[*********************100%***********************]  4 of 4 completed\n"
     ]
    }
   ],
   "source": [
    "data = yf.download(stocks, start='2021-01-01')"
   ]
  },
  {
   "cell_type": "code",
   "execution_count": 51,
   "metadata": {},
   "outputs": [],
   "source": [
    "# daily return\n",
    "x = data['Close'].pct_change()"
   ]
  },
  {
   "cell_type": "code",
   "execution_count": 52,
   "metadata": {},
   "outputs": [],
   "source": [
    "# portfolio return\n",
    "ret = (x*weights).sum(axis=1)"
   ]
  },
  {
   "cell_type": "code",
   "execution_count": 53,
   "metadata": {},
   "outputs": [],
   "source": [
    "# total cumulative return\n",
    "cumulative = (ret + 1).cumprod()"
   ]
  },
  {
   "cell_type": "code",
   "execution_count": 54,
   "metadata": {},
   "outputs": [
    {
     "data": {
      "application/vnd.plotly.v1+json": {
       "config": {
        "plotlyServerURL": "https://plot.ly"
       },
       "data": [
        {
         "hovertemplate": "variable=0<br>Date=%{x}<br>value=%{y}<extra></extra>",
         "legendgroup": "0",
         "line": {
          "color": "#636efa",
          "dash": "solid"
         },
         "marker": {
          "symbol": "circle"
         },
         "mode": "lines",
         "name": "0",
         "orientation": "v",
         "showlegend": true,
         "type": "scatter",
         "x": [
          "2021-01-04T00:00:00",
          "2021-01-05T00:00:00",
          "2021-01-06T00:00:00",
          "2021-01-07T00:00:00",
          "2021-01-08T00:00:00",
          "2021-01-11T00:00:00",
          "2021-01-12T00:00:00",
          "2021-01-13T00:00:00",
          "2021-01-14T00:00:00",
          "2021-01-15T00:00:00",
          "2021-01-19T00:00:00",
          "2021-01-20T00:00:00",
          "2021-01-21T00:00:00",
          "2021-01-22T00:00:00",
          "2021-01-25T00:00:00",
          "2021-01-26T00:00:00",
          "2021-01-27T00:00:00",
          "2021-01-28T00:00:00",
          "2021-01-29T00:00:00",
          "2021-02-01T00:00:00",
          "2021-02-02T00:00:00",
          "2021-02-03T00:00:00",
          "2021-02-04T00:00:00",
          "2021-02-05T00:00:00",
          "2021-02-08T00:00:00",
          "2021-02-09T00:00:00",
          "2021-02-10T00:00:00",
          "2021-02-11T00:00:00",
          "2021-02-12T00:00:00",
          "2021-02-16T00:00:00",
          "2021-02-17T00:00:00",
          "2021-02-18T00:00:00",
          "2021-02-19T00:00:00",
          "2021-02-22T00:00:00",
          "2021-02-23T00:00:00",
          "2021-02-24T00:00:00",
          "2021-02-25T00:00:00",
          "2021-02-26T00:00:00",
          "2021-03-01T00:00:00",
          "2021-03-02T00:00:00",
          "2021-03-03T00:00:00",
          "2021-03-04T00:00:00",
          "2021-03-05T00:00:00",
          "2021-03-08T00:00:00",
          "2021-03-09T00:00:00",
          "2021-03-10T00:00:00",
          "2021-03-11T00:00:00",
          "2021-03-12T00:00:00",
          "2021-03-15T00:00:00",
          "2021-03-16T00:00:00",
          "2021-03-17T00:00:00",
          "2021-03-18T00:00:00",
          "2021-03-19T00:00:00",
          "2021-03-22T00:00:00",
          "2021-03-23T00:00:00",
          "2021-03-24T00:00:00",
          "2021-03-25T00:00:00",
          "2021-03-26T00:00:00",
          "2021-03-29T00:00:00",
          "2021-03-30T00:00:00",
          "2021-03-31T00:00:00",
          "2021-04-01T00:00:00",
          "2021-04-05T00:00:00",
          "2021-04-06T00:00:00",
          "2021-04-07T00:00:00",
          "2021-04-08T00:00:00",
          "2021-04-09T00:00:00",
          "2021-04-12T00:00:00",
          "2021-04-13T00:00:00",
          "2021-04-14T00:00:00",
          "2021-04-15T00:00:00",
          "2021-04-16T00:00:00",
          "2021-04-19T00:00:00",
          "2021-04-20T00:00:00",
          "2021-04-21T00:00:00",
          "2021-04-22T00:00:00",
          "2021-04-23T00:00:00",
          "2021-04-26T00:00:00",
          "2021-04-27T00:00:00",
          "2021-04-28T00:00:00",
          "2021-04-29T00:00:00",
          "2021-04-30T00:00:00",
          "2021-05-03T00:00:00",
          "2021-05-04T00:00:00",
          "2021-05-05T00:00:00",
          "2021-05-06T00:00:00",
          "2021-05-07T00:00:00",
          "2021-05-10T00:00:00",
          "2021-05-11T00:00:00",
          "2021-05-12T00:00:00",
          "2021-05-13T00:00:00",
          "2021-05-14T00:00:00",
          "2021-05-17T00:00:00",
          "2021-05-18T00:00:00",
          "2021-05-19T00:00:00",
          "2021-05-20T00:00:00",
          "2021-05-21T00:00:00",
          "2021-05-24T00:00:00",
          "2021-05-25T00:00:00",
          "2021-05-26T00:00:00",
          "2021-05-27T00:00:00",
          "2021-05-28T00:00:00",
          "2021-06-01T00:00:00",
          "2021-06-02T00:00:00",
          "2021-06-03T00:00:00",
          "2021-06-04T00:00:00",
          "2021-06-07T00:00:00",
          "2021-06-08T00:00:00",
          "2021-06-09T00:00:00",
          "2021-06-10T00:00:00",
          "2021-06-11T00:00:00",
          "2021-06-14T00:00:00",
          "2021-06-15T00:00:00",
          "2021-06-16T00:00:00",
          "2021-06-17T00:00:00",
          "2021-06-18T00:00:00",
          "2021-06-21T00:00:00",
          "2021-06-22T00:00:00",
          "2021-06-23T00:00:00",
          "2021-06-24T00:00:00",
          "2021-06-25T00:00:00",
          "2021-06-28T00:00:00",
          "2021-06-29T00:00:00",
          "2021-06-30T00:00:00",
          "2021-07-01T00:00:00",
          "2021-07-02T00:00:00",
          "2021-07-06T00:00:00",
          "2021-07-07T00:00:00",
          "2021-07-08T00:00:00",
          "2021-07-09T00:00:00",
          "2021-07-12T00:00:00",
          "2021-07-13T00:00:00",
          "2021-07-14T00:00:00",
          "2021-07-15T00:00:00",
          "2021-07-16T00:00:00",
          "2021-07-19T00:00:00",
          "2021-07-20T00:00:00",
          "2021-07-21T00:00:00",
          "2021-07-22T00:00:00",
          "2021-07-23T00:00:00",
          "2021-07-26T00:00:00",
          "2021-07-27T00:00:00",
          "2021-07-28T00:00:00",
          "2021-07-29T00:00:00",
          "2021-07-30T00:00:00",
          "2021-08-02T00:00:00",
          "2021-08-03T00:00:00",
          "2021-08-04T00:00:00",
          "2021-08-05T00:00:00",
          "2021-08-06T00:00:00",
          "2021-08-09T00:00:00",
          "2021-08-10T00:00:00",
          "2021-08-11T00:00:00",
          "2021-08-12T00:00:00",
          "2021-08-13T00:00:00",
          "2021-08-16T00:00:00",
          "2021-08-17T00:00:00",
          "2021-08-18T00:00:00",
          "2021-08-19T00:00:00",
          "2021-08-20T00:00:00",
          "2021-08-23T00:00:00",
          "2021-08-24T00:00:00",
          "2021-08-25T00:00:00",
          "2021-08-26T00:00:00",
          "2021-08-27T00:00:00",
          "2021-08-30T00:00:00",
          "2021-08-31T00:00:00",
          "2021-09-01T00:00:00",
          "2021-09-02T00:00:00",
          "2021-09-03T00:00:00",
          "2021-09-07T00:00:00",
          "2021-09-08T00:00:00",
          "2021-09-09T00:00:00",
          "2021-09-10T00:00:00",
          "2021-09-13T00:00:00",
          "2021-09-14T00:00:00",
          "2021-09-15T00:00:00",
          "2021-09-16T00:00:00",
          "2021-09-17T00:00:00",
          "2021-09-20T00:00:00",
          "2021-09-21T00:00:00",
          "2021-09-22T00:00:00",
          "2021-09-23T00:00:00",
          "2021-09-24T00:00:00",
          "2021-09-27T00:00:00",
          "2021-09-28T00:00:00",
          "2021-09-29T00:00:00",
          "2021-09-30T00:00:00",
          "2021-10-01T00:00:00",
          "2021-10-04T00:00:00",
          "2021-10-05T00:00:00",
          "2021-10-06T00:00:00",
          "2021-10-07T00:00:00",
          "2021-10-08T00:00:00",
          "2021-10-11T00:00:00",
          "2021-10-12T00:00:00",
          "2021-10-13T00:00:00",
          "2021-10-14T00:00:00",
          "2021-10-15T00:00:00",
          "2021-10-18T00:00:00",
          "2021-10-19T00:00:00",
          "2021-10-20T00:00:00",
          "2021-10-21T00:00:00",
          "2021-10-22T00:00:00",
          "2021-10-25T00:00:00",
          "2021-10-26T00:00:00",
          "2021-10-27T00:00:00",
          "2021-10-28T00:00:00",
          "2021-10-29T00:00:00",
          "2021-11-01T00:00:00",
          "2021-11-02T00:00:00",
          "2021-11-03T00:00:00",
          "2021-11-04T00:00:00",
          "2021-11-05T00:00:00",
          "2021-11-08T00:00:00",
          "2021-11-09T00:00:00",
          "2021-11-10T00:00:00",
          "2021-11-11T00:00:00",
          "2021-11-12T00:00:00",
          "2021-11-15T00:00:00",
          "2021-11-16T00:00:00",
          "2021-11-17T00:00:00",
          "2021-11-18T00:00:00",
          "2021-11-19T00:00:00",
          "2021-11-22T00:00:00",
          "2021-11-23T00:00:00",
          "2021-11-24T00:00:00",
          "2021-11-26T00:00:00",
          "2021-11-29T00:00:00",
          "2021-11-30T00:00:00",
          "2021-12-01T00:00:00",
          "2021-12-02T00:00:00",
          "2021-12-03T00:00:00",
          "2021-12-06T00:00:00",
          "2021-12-07T00:00:00",
          "2021-12-08T00:00:00",
          "2021-12-09T00:00:00",
          "2021-12-10T00:00:00",
          "2021-12-13T00:00:00",
          "2021-12-14T00:00:00",
          "2021-12-15T00:00:00",
          "2021-12-16T00:00:00",
          "2021-12-17T00:00:00",
          "2021-12-20T00:00:00",
          "2021-12-21T00:00:00",
          "2021-12-22T00:00:00",
          "2021-12-23T00:00:00",
          "2021-12-27T00:00:00",
          "2021-12-28T00:00:00",
          "2021-12-29T00:00:00",
          "2021-12-30T00:00:00",
          "2021-12-31T00:00:00",
          "2022-01-03T00:00:00",
          "2022-01-04T00:00:00",
          "2022-01-05T00:00:00",
          "2022-01-06T00:00:00",
          "2022-01-07T00:00:00"
         ],
         "xaxis": "x",
         "y": [
          1,
          1.0068275748463944,
          0.9840627234640339,
          1.0146472402072353,
          1.0290206608531178,
          1.005374420644287,
          1.0053880051018136,
          1.0164119741218363,
          1.0019737590703557,
          0.9934284798881629,
          1.0053962138478814,
          1.0398766634444372,
          1.0545924532744961,
          1.0607799413073113,
          1.0807068358404492,
          1.088913874392105,
          1.0790128850828171,
          1.0756118583440828,
          1.0435035914408672,
          1.077495778500965,
          1.085916690911204,
          1.0831247454542758,
          1.0903415454924614,
          1.0908559669305757,
          1.0912325844317574,
          1.088478200927316,
          1.0783595420728675,
          1.080016871904963,
          1.0831008932684436,
          1.0723670388382633,
          1.0704348248898339,
          1.0667656859515204,
          1.0563795643888214,
          1.0220799628970305,
          1.0182217190649723,
          1.023280917574683,
          0.9880228115553283,
          0.9958738469362904,
          1.029534993087315,
          1.0097839287918,
          0.9807445625249335,
          0.9681024058779354,
          0.9773679272286871,
          0.9491692021527678,
          0.9971880502083789,
          0.9909688849854874,
          1.0122129475540862,
          1.005124835296525,
          1.0124470384366397,
          1.0175461129183982,
          1.021065014682916,
          0.9856950831353375,
          0.9870540273659636,
          1.0096975762113332,
          1.0108792346096904,
          0.9930897059059597,
          0.9880353837706107,
          0.99363092323599,
          0.9923410720918113,
          0.9855974531101674,
          1.0053242963433557,
          1.0220644011890228,
          1.0494056810415344,
          1.0480388904362132,
          1.056183195617382,
          1.071243000119353,
          1.0858223017199584,
          1.0860796981571292,
          1.1090394717874013,
          1.0893741313214231,
          1.1061519237555906,
          1.1088988672959423,
          1.1016232838438993,
          1.0947993433345553,
          1.105316568244525,
          1.0885436152224535,
          1.1047363540646156,
          1.112238049278411,
          1.10764384203238,
          1.0941460041325513,
          1.0884446014578486,
          1.0879056710503567,
          1.0811932413275425,
          1.0561783540114698,
          1.0514942603981656,
          1.0622401006175433,
          1.0685046118456962,
          1.0378432876265182,
          1.034161352809423,
          1.0050846188590874,
          1.0147737061048405,
          1.0365140349836253,
          1.0294584314386739,
          1.0202447096367486,
          1.0173451987367577,
          1.0345924541716605,
          1.0239277585109217,
          1.0445744014284453,
          1.046251219999977,
          1.048635897678524,
          1.0408400070291242,
          1.038405357844358,
          1.0332833644161035,
          1.032936463678055,
          1.0180023994033474,
          1.0381155791345087,
          1.043662684766498,
          1.0477608529176694,
          1.0506795965283282,
          1.0605765241169798,
          1.0645584674790152,
          1.0794280379784322,
          1.0715509431841714,
          1.0742095702872496,
          1.0908844396098343,
          1.0861640138768347,
          1.093634496927723,
          1.1063652058680586,
          1.1109981046154402,
          1.1131168676778072,
          1.1052024156611755,
          1.1210632110714067,
          1.128384199502813,
          1.1284190303703012,
          1.1295844049060826,
          1.1515868939643183,
          1.1642193369542175,
          1.1729825414907922,
          1.1692333851573073,
          1.1746744079167646,
          1.1772356869291822,
          1.180682576857489,
          1.1893907625755855,
          1.1815278677521484,
          1.1711625525516598,
          1.1542534908110593,
          1.1711832946095404,
          1.1727322527008053,
          1.18639844596658,
          1.1966593579822602,
          1.2021486978937237,
          1.1854804231869296,
          1.1812748434252518,
          1.1869170184981683,
          1.1685883073184924,
          1.1717177152877754,
          1.1824037855199576,
          1.1797993238488236,
          1.1871338558038809,
          1.180043943770783,
          1.180338074133919,
          1.173935285937305,
          1.173021436670771,
          1.1882112914515703,
          1.1921783528315857,
          1.1950835974137375,
          1.1827154040457635,
          1.171037418930076,
          1.1779616013245018,
          1.1956909013780312,
          1.209329307920223,
          1.2092185367730202,
          1.2051683059183058,
          1.1980365591897584,
          1.2058967305966457,
          1.2315254173343007,
          1.229991773737993,
          1.2318722621265854,
          1.2321147374051868,
          1.2349229989944994,
          1.244562557472956,
          1.2421542019372374,
          1.2320067454494263,
          1.2131235048394982,
          1.2169119133118314,
          1.2177495445431694,
          1.2318422424285105,
          1.2329651994813837,
          1.2161227099010934,
          1.1870974605611602,
          1.1897662390000012,
          1.2065036697860436,
          1.2133589325945273,
          1.2172588634138384,
          1.206246802587226,
          1.1716982284177464,
          1.1742868957504646,
          1.1655460941460756,
          1.180096218150043,
          1.1558453829972646,
          1.172105288363816,
          1.184694866550796,
          1.1953162929584429,
          1.1921175795846302,
          1.188800372242533,
          1.1855160385749328,
          1.1930482014067216,
          1.2128560071673116,
          1.229615699860333,
          1.2456214574934363,
          1.2517576018083478,
          1.2497948182423295,
          1.2613262342187104,
          1.251636726341709,
          1.2645509577485405,
          1.2729860443275114,
          1.2968952059793926,
          1.317543475921471,
          1.3210327117986045,
          1.3221865404159252,
          1.326616562611326,
          1.3423468853522051,
          1.3540135886490254,
          1.3566723225404596,
          1.347033821837487,
          1.3369506806421445,
          1.3198311510329102,
          1.3210259921762617,
          1.333795267703496,
          1.3317604166105097,
          1.3449353326432445,
          1.3559725284988822,
          1.3831746055581313,
          1.3968752547324417,
          1.3872915000783677,
          1.3796320392036279,
          1.3822625348314237,
          1.3455821568165955,
          1.3769853895769857,
          1.3768741193552418,
          1.3637408786527598,
          1.3584590386451563,
          1.3305131950202045,
          1.3465044081973547,
          1.3884782490019507,
          1.4003130241125201,
          1.3842435507653148,
          1.410278971509915,
          1.385010348823862,
          1.3617136164084225,
          1.3931134763054076,
          1.346320075655623,
          1.3445195045476646,
          1.3254304815958893,
          1.3562301199645475,
          1.3834101969439674,
          1.3954190023431008,
          1.4192191708639355,
          1.4157234472441005,
          1.4143794699024659,
          1.4042426291428238,
          1.3927983093009548,
          1.4256534498678262,
          1.399659903049931,
          1.3542257401508395,
          1.3384310184036001,
          1.3332087196884743
         ],
         "yaxis": "y"
        }
       ],
       "layout": {
        "legend": {
         "title": {
          "text": "variable"
         },
         "tracegroupgap": 0
        },
        "margin": {
         "t": 60
        },
        "template": {
         "data": {
          "bar": [
           {
            "error_x": {
             "color": "#2a3f5f"
            },
            "error_y": {
             "color": "#2a3f5f"
            },
            "marker": {
             "line": {
              "color": "#E5ECF6",
              "width": 0.5
             },
             "pattern": {
              "fillmode": "overlay",
              "size": 10,
              "solidity": 0.2
             }
            },
            "type": "bar"
           }
          ],
          "barpolar": [
           {
            "marker": {
             "line": {
              "color": "#E5ECF6",
              "width": 0.5
             },
             "pattern": {
              "fillmode": "overlay",
              "size": 10,
              "solidity": 0.2
             }
            },
            "type": "barpolar"
           }
          ],
          "carpet": [
           {
            "aaxis": {
             "endlinecolor": "#2a3f5f",
             "gridcolor": "white",
             "linecolor": "white",
             "minorgridcolor": "white",
             "startlinecolor": "#2a3f5f"
            },
            "baxis": {
             "endlinecolor": "#2a3f5f",
             "gridcolor": "white",
             "linecolor": "white",
             "minorgridcolor": "white",
             "startlinecolor": "#2a3f5f"
            },
            "type": "carpet"
           }
          ],
          "choropleth": [
           {
            "colorbar": {
             "outlinewidth": 0,
             "ticks": ""
            },
            "type": "choropleth"
           }
          ],
          "contour": [
           {
            "colorbar": {
             "outlinewidth": 0,
             "ticks": ""
            },
            "colorscale": [
             [
              0,
              "#0d0887"
             ],
             [
              0.1111111111111111,
              "#46039f"
             ],
             [
              0.2222222222222222,
              "#7201a8"
             ],
             [
              0.3333333333333333,
              "#9c179e"
             ],
             [
              0.4444444444444444,
              "#bd3786"
             ],
             [
              0.5555555555555556,
              "#d8576b"
             ],
             [
              0.6666666666666666,
              "#ed7953"
             ],
             [
              0.7777777777777778,
              "#fb9f3a"
             ],
             [
              0.8888888888888888,
              "#fdca26"
             ],
             [
              1,
              "#f0f921"
             ]
            ],
            "type": "contour"
           }
          ],
          "contourcarpet": [
           {
            "colorbar": {
             "outlinewidth": 0,
             "ticks": ""
            },
            "type": "contourcarpet"
           }
          ],
          "heatmap": [
           {
            "colorbar": {
             "outlinewidth": 0,
             "ticks": ""
            },
            "colorscale": [
             [
              0,
              "#0d0887"
             ],
             [
              0.1111111111111111,
              "#46039f"
             ],
             [
              0.2222222222222222,
              "#7201a8"
             ],
             [
              0.3333333333333333,
              "#9c179e"
             ],
             [
              0.4444444444444444,
              "#bd3786"
             ],
             [
              0.5555555555555556,
              "#d8576b"
             ],
             [
              0.6666666666666666,
              "#ed7953"
             ],
             [
              0.7777777777777778,
              "#fb9f3a"
             ],
             [
              0.8888888888888888,
              "#fdca26"
             ],
             [
              1,
              "#f0f921"
             ]
            ],
            "type": "heatmap"
           }
          ],
          "heatmapgl": [
           {
            "colorbar": {
             "outlinewidth": 0,
             "ticks": ""
            },
            "colorscale": [
             [
              0,
              "#0d0887"
             ],
             [
              0.1111111111111111,
              "#46039f"
             ],
             [
              0.2222222222222222,
              "#7201a8"
             ],
             [
              0.3333333333333333,
              "#9c179e"
             ],
             [
              0.4444444444444444,
              "#bd3786"
             ],
             [
              0.5555555555555556,
              "#d8576b"
             ],
             [
              0.6666666666666666,
              "#ed7953"
             ],
             [
              0.7777777777777778,
              "#fb9f3a"
             ],
             [
              0.8888888888888888,
              "#fdca26"
             ],
             [
              1,
              "#f0f921"
             ]
            ],
            "type": "heatmapgl"
           }
          ],
          "histogram": [
           {
            "marker": {
             "pattern": {
              "fillmode": "overlay",
              "size": 10,
              "solidity": 0.2
             }
            },
            "type": "histogram"
           }
          ],
          "histogram2d": [
           {
            "colorbar": {
             "outlinewidth": 0,
             "ticks": ""
            },
            "colorscale": [
             [
              0,
              "#0d0887"
             ],
             [
              0.1111111111111111,
              "#46039f"
             ],
             [
              0.2222222222222222,
              "#7201a8"
             ],
             [
              0.3333333333333333,
              "#9c179e"
             ],
             [
              0.4444444444444444,
              "#bd3786"
             ],
             [
              0.5555555555555556,
              "#d8576b"
             ],
             [
              0.6666666666666666,
              "#ed7953"
             ],
             [
              0.7777777777777778,
              "#fb9f3a"
             ],
             [
              0.8888888888888888,
              "#fdca26"
             ],
             [
              1,
              "#f0f921"
             ]
            ],
            "type": "histogram2d"
           }
          ],
          "histogram2dcontour": [
           {
            "colorbar": {
             "outlinewidth": 0,
             "ticks": ""
            },
            "colorscale": [
             [
              0,
              "#0d0887"
             ],
             [
              0.1111111111111111,
              "#46039f"
             ],
             [
              0.2222222222222222,
              "#7201a8"
             ],
             [
              0.3333333333333333,
              "#9c179e"
             ],
             [
              0.4444444444444444,
              "#bd3786"
             ],
             [
              0.5555555555555556,
              "#d8576b"
             ],
             [
              0.6666666666666666,
              "#ed7953"
             ],
             [
              0.7777777777777778,
              "#fb9f3a"
             ],
             [
              0.8888888888888888,
              "#fdca26"
             ],
             [
              1,
              "#f0f921"
             ]
            ],
            "type": "histogram2dcontour"
           }
          ],
          "mesh3d": [
           {
            "colorbar": {
             "outlinewidth": 0,
             "ticks": ""
            },
            "type": "mesh3d"
           }
          ],
          "parcoords": [
           {
            "line": {
             "colorbar": {
              "outlinewidth": 0,
              "ticks": ""
             }
            },
            "type": "parcoords"
           }
          ],
          "pie": [
           {
            "automargin": true,
            "type": "pie"
           }
          ],
          "scatter": [
           {
            "marker": {
             "colorbar": {
              "outlinewidth": 0,
              "ticks": ""
             }
            },
            "type": "scatter"
           }
          ],
          "scatter3d": [
           {
            "line": {
             "colorbar": {
              "outlinewidth": 0,
              "ticks": ""
             }
            },
            "marker": {
             "colorbar": {
              "outlinewidth": 0,
              "ticks": ""
             }
            },
            "type": "scatter3d"
           }
          ],
          "scattercarpet": [
           {
            "marker": {
             "colorbar": {
              "outlinewidth": 0,
              "ticks": ""
             }
            },
            "type": "scattercarpet"
           }
          ],
          "scattergeo": [
           {
            "marker": {
             "colorbar": {
              "outlinewidth": 0,
              "ticks": ""
             }
            },
            "type": "scattergeo"
           }
          ],
          "scattergl": [
           {
            "marker": {
             "colorbar": {
              "outlinewidth": 0,
              "ticks": ""
             }
            },
            "type": "scattergl"
           }
          ],
          "scattermapbox": [
           {
            "marker": {
             "colorbar": {
              "outlinewidth": 0,
              "ticks": ""
             }
            },
            "type": "scattermapbox"
           }
          ],
          "scatterpolar": [
           {
            "marker": {
             "colorbar": {
              "outlinewidth": 0,
              "ticks": ""
             }
            },
            "type": "scatterpolar"
           }
          ],
          "scatterpolargl": [
           {
            "marker": {
             "colorbar": {
              "outlinewidth": 0,
              "ticks": ""
             }
            },
            "type": "scatterpolargl"
           }
          ],
          "scatterternary": [
           {
            "marker": {
             "colorbar": {
              "outlinewidth": 0,
              "ticks": ""
             }
            },
            "type": "scatterternary"
           }
          ],
          "surface": [
           {
            "colorbar": {
             "outlinewidth": 0,
             "ticks": ""
            },
            "colorscale": [
             [
              0,
              "#0d0887"
             ],
             [
              0.1111111111111111,
              "#46039f"
             ],
             [
              0.2222222222222222,
              "#7201a8"
             ],
             [
              0.3333333333333333,
              "#9c179e"
             ],
             [
              0.4444444444444444,
              "#bd3786"
             ],
             [
              0.5555555555555556,
              "#d8576b"
             ],
             [
              0.6666666666666666,
              "#ed7953"
             ],
             [
              0.7777777777777778,
              "#fb9f3a"
             ],
             [
              0.8888888888888888,
              "#fdca26"
             ],
             [
              1,
              "#f0f921"
             ]
            ],
            "type": "surface"
           }
          ],
          "table": [
           {
            "cells": {
             "fill": {
              "color": "#EBF0F8"
             },
             "line": {
              "color": "white"
             }
            },
            "header": {
             "fill": {
              "color": "#C8D4E3"
             },
             "line": {
              "color": "white"
             }
            },
            "type": "table"
           }
          ]
         },
         "layout": {
          "annotationdefaults": {
           "arrowcolor": "#2a3f5f",
           "arrowhead": 0,
           "arrowwidth": 1
          },
          "autotypenumbers": "strict",
          "coloraxis": {
           "colorbar": {
            "outlinewidth": 0,
            "ticks": ""
           }
          },
          "colorscale": {
           "diverging": [
            [
             0,
             "#8e0152"
            ],
            [
             0.1,
             "#c51b7d"
            ],
            [
             0.2,
             "#de77ae"
            ],
            [
             0.3,
             "#f1b6da"
            ],
            [
             0.4,
             "#fde0ef"
            ],
            [
             0.5,
             "#f7f7f7"
            ],
            [
             0.6,
             "#e6f5d0"
            ],
            [
             0.7,
             "#b8e186"
            ],
            [
             0.8,
             "#7fbc41"
            ],
            [
             0.9,
             "#4d9221"
            ],
            [
             1,
             "#276419"
            ]
           ],
           "sequential": [
            [
             0,
             "#0d0887"
            ],
            [
             0.1111111111111111,
             "#46039f"
            ],
            [
             0.2222222222222222,
             "#7201a8"
            ],
            [
             0.3333333333333333,
             "#9c179e"
            ],
            [
             0.4444444444444444,
             "#bd3786"
            ],
            [
             0.5555555555555556,
             "#d8576b"
            ],
            [
             0.6666666666666666,
             "#ed7953"
            ],
            [
             0.7777777777777778,
             "#fb9f3a"
            ],
            [
             0.8888888888888888,
             "#fdca26"
            ],
            [
             1,
             "#f0f921"
            ]
           ],
           "sequentialminus": [
            [
             0,
             "#0d0887"
            ],
            [
             0.1111111111111111,
             "#46039f"
            ],
            [
             0.2222222222222222,
             "#7201a8"
            ],
            [
             0.3333333333333333,
             "#9c179e"
            ],
            [
             0.4444444444444444,
             "#bd3786"
            ],
            [
             0.5555555555555556,
             "#d8576b"
            ],
            [
             0.6666666666666666,
             "#ed7953"
            ],
            [
             0.7777777777777778,
             "#fb9f3a"
            ],
            [
             0.8888888888888888,
             "#fdca26"
            ],
            [
             1,
             "#f0f921"
            ]
           ]
          },
          "colorway": [
           "#636efa",
           "#EF553B",
           "#00cc96",
           "#ab63fa",
           "#FFA15A",
           "#19d3f3",
           "#FF6692",
           "#B6E880",
           "#FF97FF",
           "#FECB52"
          ],
          "font": {
           "color": "#2a3f5f"
          },
          "geo": {
           "bgcolor": "white",
           "lakecolor": "white",
           "landcolor": "#E5ECF6",
           "showlakes": true,
           "showland": true,
           "subunitcolor": "white"
          },
          "hoverlabel": {
           "align": "left"
          },
          "hovermode": "closest",
          "mapbox": {
           "style": "light"
          },
          "paper_bgcolor": "white",
          "plot_bgcolor": "#E5ECF6",
          "polar": {
           "angularaxis": {
            "gridcolor": "white",
            "linecolor": "white",
            "ticks": ""
           },
           "bgcolor": "#E5ECF6",
           "radialaxis": {
            "gridcolor": "white",
            "linecolor": "white",
            "ticks": ""
           }
          },
          "scene": {
           "xaxis": {
            "backgroundcolor": "#E5ECF6",
            "gridcolor": "white",
            "gridwidth": 2,
            "linecolor": "white",
            "showbackground": true,
            "ticks": "",
            "zerolinecolor": "white"
           },
           "yaxis": {
            "backgroundcolor": "#E5ECF6",
            "gridcolor": "white",
            "gridwidth": 2,
            "linecolor": "white",
            "showbackground": true,
            "ticks": "",
            "zerolinecolor": "white"
           },
           "zaxis": {
            "backgroundcolor": "#E5ECF6",
            "gridcolor": "white",
            "gridwidth": 2,
            "linecolor": "white",
            "showbackground": true,
            "ticks": "",
            "zerolinecolor": "white"
           }
          },
          "shapedefaults": {
           "line": {
            "color": "#2a3f5f"
           }
          },
          "ternary": {
           "aaxis": {
            "gridcolor": "white",
            "linecolor": "white",
            "ticks": ""
           },
           "baxis": {
            "gridcolor": "white",
            "linecolor": "white",
            "ticks": ""
           },
           "bgcolor": "#E5ECF6",
           "caxis": {
            "gridcolor": "white",
            "linecolor": "white",
            "ticks": ""
           }
          },
          "title": {
           "x": 0.05
          },
          "xaxis": {
           "automargin": true,
           "gridcolor": "white",
           "linecolor": "white",
           "ticks": "",
           "title": {
            "standoff": 15
           },
           "zerolinecolor": "white",
           "zerolinewidth": 2
          },
          "yaxis": {
           "automargin": true,
           "gridcolor": "white",
           "linecolor": "white",
           "ticks": "",
           "title": {
            "standoff": 15
           },
           "zerolinecolor": "white",
           "zerolinewidth": 2
          }
         }
        },
        "xaxis": {
         "anchor": "y",
         "domain": [
          0,
          1
         ],
         "title": {
          "text": "Date"
         }
        },
        "yaxis": {
         "anchor": "x",
         "domain": [
          0,
          1
         ],
         "title": {
          "text": "value"
         }
        }
       }
      }
     },
     "metadata": {},
     "output_type": "display_data"
    }
   ],
   "source": [
    "px.line(cumulative)"
   ]
  },
  {
   "cell_type": "code",
   "execution_count": 57,
   "metadata": {},
   "outputs": [
    {
     "name": "stdout",
     "output_type": "stream",
     "text": [
      "0.013458015517538651\n"
     ]
    }
   ],
   "source": [
    "print(np.std(ret))"
   ]
  },
  {
   "cell_type": "code",
   "execution_count": 58,
   "metadata": {},
   "outputs": [
    {
     "name": "stdout",
     "output_type": "stream",
     "text": [
      "0.21363937319913295\n"
     ]
    }
   ],
   "source": [
    "annual_std = np.std(ret) * np.sqrt(252)\n",
    "print(annual_std)"
   ]
  },
  {
   "cell_type": "markdown",
   "metadata": {},
   "source": [
    "# Portfolio Optimization"
   ]
  },
  {
   "cell_type": "code",
   "execution_count": 59,
   "metadata": {},
   "outputs": [
    {
     "name": "stdout",
     "output_type": "stream",
     "text": [
      "[*********************100%***********************]  4 of 4 completed\n"
     ]
    }
   ],
   "source": [
    "data = yf.download(stocks, start='2018-01-01')"
   ]
  },
  {
   "cell_type": "code",
   "execution_count": 60,
   "metadata": {},
   "outputs": [],
   "source": [
    "data = data['Close']\n",
    "x = data.pct_change()"
   ]
  },
  {
   "cell_type": "code",
   "execution_count": 61,
   "metadata": {},
   "outputs": [
    {
     "name": "stdout",
     "output_type": "stream",
     "text": [
      "[0.17293001 0.26290759 0.15048476 0.41367764]\n"
     ]
    }
   ],
   "source": [
    "# We are going to randomly assign a weight to each stock in our portfolio,\n",
    "# and then calculate the metrics for that portfolio, including the Sharpe ratio. \n",
    "\n",
    "wts = np.random.uniform(size =len(x.columns))\n",
    "wts = wts/np.sum(wts)\n",
    "\n",
    "print(wts)"
   ]
  },
  {
   "cell_type": "code",
   "execution_count": 62,
   "metadata": {},
   "outputs": [],
   "source": [
    "p_weights=[]\n",
    "p_returns=[]\n",
    "p_risk=[]\n",
    "p_sharpe=[]"
   ]
  },
  {
   "cell_type": "code",
   "execution_count": 63,
   "metadata": {},
   "outputs": [],
   "source": [
    "count = 500\n",
    "for k in range(0,count):\n",
    "    wts = np.random.uniform(size=len(x.columns))\n",
    "    wts = wts/np.sum(wts)\n",
    "    p_weights.append(wts)\n",
    "\n",
    "    #returns\n",
    "    mean_ret = (x.mean()*wts).sum()*252\n",
    "    p_returns.append(mean_ret)\n",
    "\n",
    "    #volatility\n",
    "    ret = (x*wts).sum(axis=1)\n",
    "    annual_std = np.std(ret)*np.sqrt(252)\n",
    "    p_risk.append(annual_std)\n",
    "\n",
    "    #sharpe ratio\n",
    "    sharpe = (np.mean(ret)/np.std(ret))*np.sqrt(252)\n",
    "    p_sharpe.append(sharpe)\n"
   ]
  },
  {
   "cell_type": "code",
   "execution_count": 64,
   "metadata": {},
   "outputs": [
    {
     "name": "stdout",
     "output_type": "stream",
     "text": [
      "1.576010379342292\n",
      "[0.33582041 0.01354998 0.32218466 0.32844495]\n"
     ]
    }
   ],
   "source": [
    "max_ind = np.argmax(p_sharpe)\n",
    "print(p_sharpe[max_ind])\n",
    "print(p_weights[max_ind])"
   ]
  },
  {
   "cell_type": "code",
   "execution_count": 65,
   "metadata": {},
   "outputs": [
    {
     "data": {
      "application/vnd.plotly.v1+json": {
       "config": {
        "plotlyServerURL": "https://plot.ly"
       },
       "data": [
        {
         "alignmentgroup": "True",
         "hovertemplate": "variable=0<br>index=%{x}<br>value=%{y}<extra></extra>",
         "legendgroup": "0",
         "marker": {
          "color": "#636efa",
          "pattern": {
           "shape": ""
          }
         },
         "name": "0",
         "offsetgroup": "0",
         "orientation": "v",
         "showlegend": true,
         "textposition": "auto",
         "type": "bar",
         "x": [
          "AAPL",
          "AMZN",
          "MSFT",
          "TSLA"
         ],
         "xaxis": "x",
         "y": [
          0.33582041351949643,
          0.0135499812322202,
          0.3221846575930405,
          0.32844494765524285
         ],
         "yaxis": "y"
        }
       ],
       "layout": {
        "barmode": "relative",
        "legend": {
         "title": {
          "text": "variable"
         },
         "tracegroupgap": 0
        },
        "margin": {
         "t": 60
        },
        "template": {
         "data": {
          "bar": [
           {
            "error_x": {
             "color": "#2a3f5f"
            },
            "error_y": {
             "color": "#2a3f5f"
            },
            "marker": {
             "line": {
              "color": "#E5ECF6",
              "width": 0.5
             },
             "pattern": {
              "fillmode": "overlay",
              "size": 10,
              "solidity": 0.2
             }
            },
            "type": "bar"
           }
          ],
          "barpolar": [
           {
            "marker": {
             "line": {
              "color": "#E5ECF6",
              "width": 0.5
             },
             "pattern": {
              "fillmode": "overlay",
              "size": 10,
              "solidity": 0.2
             }
            },
            "type": "barpolar"
           }
          ],
          "carpet": [
           {
            "aaxis": {
             "endlinecolor": "#2a3f5f",
             "gridcolor": "white",
             "linecolor": "white",
             "minorgridcolor": "white",
             "startlinecolor": "#2a3f5f"
            },
            "baxis": {
             "endlinecolor": "#2a3f5f",
             "gridcolor": "white",
             "linecolor": "white",
             "minorgridcolor": "white",
             "startlinecolor": "#2a3f5f"
            },
            "type": "carpet"
           }
          ],
          "choropleth": [
           {
            "colorbar": {
             "outlinewidth": 0,
             "ticks": ""
            },
            "type": "choropleth"
           }
          ],
          "contour": [
           {
            "colorbar": {
             "outlinewidth": 0,
             "ticks": ""
            },
            "colorscale": [
             [
              0,
              "#0d0887"
             ],
             [
              0.1111111111111111,
              "#46039f"
             ],
             [
              0.2222222222222222,
              "#7201a8"
             ],
             [
              0.3333333333333333,
              "#9c179e"
             ],
             [
              0.4444444444444444,
              "#bd3786"
             ],
             [
              0.5555555555555556,
              "#d8576b"
             ],
             [
              0.6666666666666666,
              "#ed7953"
             ],
             [
              0.7777777777777778,
              "#fb9f3a"
             ],
             [
              0.8888888888888888,
              "#fdca26"
             ],
             [
              1,
              "#f0f921"
             ]
            ],
            "type": "contour"
           }
          ],
          "contourcarpet": [
           {
            "colorbar": {
             "outlinewidth": 0,
             "ticks": ""
            },
            "type": "contourcarpet"
           }
          ],
          "heatmap": [
           {
            "colorbar": {
             "outlinewidth": 0,
             "ticks": ""
            },
            "colorscale": [
             [
              0,
              "#0d0887"
             ],
             [
              0.1111111111111111,
              "#46039f"
             ],
             [
              0.2222222222222222,
              "#7201a8"
             ],
             [
              0.3333333333333333,
              "#9c179e"
             ],
             [
              0.4444444444444444,
              "#bd3786"
             ],
             [
              0.5555555555555556,
              "#d8576b"
             ],
             [
              0.6666666666666666,
              "#ed7953"
             ],
             [
              0.7777777777777778,
              "#fb9f3a"
             ],
             [
              0.8888888888888888,
              "#fdca26"
             ],
             [
              1,
              "#f0f921"
             ]
            ],
            "type": "heatmap"
           }
          ],
          "heatmapgl": [
           {
            "colorbar": {
             "outlinewidth": 0,
             "ticks": ""
            },
            "colorscale": [
             [
              0,
              "#0d0887"
             ],
             [
              0.1111111111111111,
              "#46039f"
             ],
             [
              0.2222222222222222,
              "#7201a8"
             ],
             [
              0.3333333333333333,
              "#9c179e"
             ],
             [
              0.4444444444444444,
              "#bd3786"
             ],
             [
              0.5555555555555556,
              "#d8576b"
             ],
             [
              0.6666666666666666,
              "#ed7953"
             ],
             [
              0.7777777777777778,
              "#fb9f3a"
             ],
             [
              0.8888888888888888,
              "#fdca26"
             ],
             [
              1,
              "#f0f921"
             ]
            ],
            "type": "heatmapgl"
           }
          ],
          "histogram": [
           {
            "marker": {
             "pattern": {
              "fillmode": "overlay",
              "size": 10,
              "solidity": 0.2
             }
            },
            "type": "histogram"
           }
          ],
          "histogram2d": [
           {
            "colorbar": {
             "outlinewidth": 0,
             "ticks": ""
            },
            "colorscale": [
             [
              0,
              "#0d0887"
             ],
             [
              0.1111111111111111,
              "#46039f"
             ],
             [
              0.2222222222222222,
              "#7201a8"
             ],
             [
              0.3333333333333333,
              "#9c179e"
             ],
             [
              0.4444444444444444,
              "#bd3786"
             ],
             [
              0.5555555555555556,
              "#d8576b"
             ],
             [
              0.6666666666666666,
              "#ed7953"
             ],
             [
              0.7777777777777778,
              "#fb9f3a"
             ],
             [
              0.8888888888888888,
              "#fdca26"
             ],
             [
              1,
              "#f0f921"
             ]
            ],
            "type": "histogram2d"
           }
          ],
          "histogram2dcontour": [
           {
            "colorbar": {
             "outlinewidth": 0,
             "ticks": ""
            },
            "colorscale": [
             [
              0,
              "#0d0887"
             ],
             [
              0.1111111111111111,
              "#46039f"
             ],
             [
              0.2222222222222222,
              "#7201a8"
             ],
             [
              0.3333333333333333,
              "#9c179e"
             ],
             [
              0.4444444444444444,
              "#bd3786"
             ],
             [
              0.5555555555555556,
              "#d8576b"
             ],
             [
              0.6666666666666666,
              "#ed7953"
             ],
             [
              0.7777777777777778,
              "#fb9f3a"
             ],
             [
              0.8888888888888888,
              "#fdca26"
             ],
             [
              1,
              "#f0f921"
             ]
            ],
            "type": "histogram2dcontour"
           }
          ],
          "mesh3d": [
           {
            "colorbar": {
             "outlinewidth": 0,
             "ticks": ""
            },
            "type": "mesh3d"
           }
          ],
          "parcoords": [
           {
            "line": {
             "colorbar": {
              "outlinewidth": 0,
              "ticks": ""
             }
            },
            "type": "parcoords"
           }
          ],
          "pie": [
           {
            "automargin": true,
            "type": "pie"
           }
          ],
          "scatter": [
           {
            "marker": {
             "colorbar": {
              "outlinewidth": 0,
              "ticks": ""
             }
            },
            "type": "scatter"
           }
          ],
          "scatter3d": [
           {
            "line": {
             "colorbar": {
              "outlinewidth": 0,
              "ticks": ""
             }
            },
            "marker": {
             "colorbar": {
              "outlinewidth": 0,
              "ticks": ""
             }
            },
            "type": "scatter3d"
           }
          ],
          "scattercarpet": [
           {
            "marker": {
             "colorbar": {
              "outlinewidth": 0,
              "ticks": ""
             }
            },
            "type": "scattercarpet"
           }
          ],
          "scattergeo": [
           {
            "marker": {
             "colorbar": {
              "outlinewidth": 0,
              "ticks": ""
             }
            },
            "type": "scattergeo"
           }
          ],
          "scattergl": [
           {
            "marker": {
             "colorbar": {
              "outlinewidth": 0,
              "ticks": ""
             }
            },
            "type": "scattergl"
           }
          ],
          "scattermapbox": [
           {
            "marker": {
             "colorbar": {
              "outlinewidth": 0,
              "ticks": ""
             }
            },
            "type": "scattermapbox"
           }
          ],
          "scatterpolar": [
           {
            "marker": {
             "colorbar": {
              "outlinewidth": 0,
              "ticks": ""
             }
            },
            "type": "scatterpolar"
           }
          ],
          "scatterpolargl": [
           {
            "marker": {
             "colorbar": {
              "outlinewidth": 0,
              "ticks": ""
             }
            },
            "type": "scatterpolargl"
           }
          ],
          "scatterternary": [
           {
            "marker": {
             "colorbar": {
              "outlinewidth": 0,
              "ticks": ""
             }
            },
            "type": "scatterternary"
           }
          ],
          "surface": [
           {
            "colorbar": {
             "outlinewidth": 0,
             "ticks": ""
            },
            "colorscale": [
             [
              0,
              "#0d0887"
             ],
             [
              0.1111111111111111,
              "#46039f"
             ],
             [
              0.2222222222222222,
              "#7201a8"
             ],
             [
              0.3333333333333333,
              "#9c179e"
             ],
             [
              0.4444444444444444,
              "#bd3786"
             ],
             [
              0.5555555555555556,
              "#d8576b"
             ],
             [
              0.6666666666666666,
              "#ed7953"
             ],
             [
              0.7777777777777778,
              "#fb9f3a"
             ],
             [
              0.8888888888888888,
              "#fdca26"
             ],
             [
              1,
              "#f0f921"
             ]
            ],
            "type": "surface"
           }
          ],
          "table": [
           {
            "cells": {
             "fill": {
              "color": "#EBF0F8"
             },
             "line": {
              "color": "white"
             }
            },
            "header": {
             "fill": {
              "color": "#C8D4E3"
             },
             "line": {
              "color": "white"
             }
            },
            "type": "table"
           }
          ]
         },
         "layout": {
          "annotationdefaults": {
           "arrowcolor": "#2a3f5f",
           "arrowhead": 0,
           "arrowwidth": 1
          },
          "autotypenumbers": "strict",
          "coloraxis": {
           "colorbar": {
            "outlinewidth": 0,
            "ticks": ""
           }
          },
          "colorscale": {
           "diverging": [
            [
             0,
             "#8e0152"
            ],
            [
             0.1,
             "#c51b7d"
            ],
            [
             0.2,
             "#de77ae"
            ],
            [
             0.3,
             "#f1b6da"
            ],
            [
             0.4,
             "#fde0ef"
            ],
            [
             0.5,
             "#f7f7f7"
            ],
            [
             0.6,
             "#e6f5d0"
            ],
            [
             0.7,
             "#b8e186"
            ],
            [
             0.8,
             "#7fbc41"
            ],
            [
             0.9,
             "#4d9221"
            ],
            [
             1,
             "#276419"
            ]
           ],
           "sequential": [
            [
             0,
             "#0d0887"
            ],
            [
             0.1111111111111111,
             "#46039f"
            ],
            [
             0.2222222222222222,
             "#7201a8"
            ],
            [
             0.3333333333333333,
             "#9c179e"
            ],
            [
             0.4444444444444444,
             "#bd3786"
            ],
            [
             0.5555555555555556,
             "#d8576b"
            ],
            [
             0.6666666666666666,
             "#ed7953"
            ],
            [
             0.7777777777777778,
             "#fb9f3a"
            ],
            [
             0.8888888888888888,
             "#fdca26"
            ],
            [
             1,
             "#f0f921"
            ]
           ],
           "sequentialminus": [
            [
             0,
             "#0d0887"
            ],
            [
             0.1111111111111111,
             "#46039f"
            ],
            [
             0.2222222222222222,
             "#7201a8"
            ],
            [
             0.3333333333333333,
             "#9c179e"
            ],
            [
             0.4444444444444444,
             "#bd3786"
            ],
            [
             0.5555555555555556,
             "#d8576b"
            ],
            [
             0.6666666666666666,
             "#ed7953"
            ],
            [
             0.7777777777777778,
             "#fb9f3a"
            ],
            [
             0.8888888888888888,
             "#fdca26"
            ],
            [
             1,
             "#f0f921"
            ]
           ]
          },
          "colorway": [
           "#636efa",
           "#EF553B",
           "#00cc96",
           "#ab63fa",
           "#FFA15A",
           "#19d3f3",
           "#FF6692",
           "#B6E880",
           "#FF97FF",
           "#FECB52"
          ],
          "font": {
           "color": "#2a3f5f"
          },
          "geo": {
           "bgcolor": "white",
           "lakecolor": "white",
           "landcolor": "#E5ECF6",
           "showlakes": true,
           "showland": true,
           "subunitcolor": "white"
          },
          "hoverlabel": {
           "align": "left"
          },
          "hovermode": "closest",
          "mapbox": {
           "style": "light"
          },
          "paper_bgcolor": "white",
          "plot_bgcolor": "#E5ECF6",
          "polar": {
           "angularaxis": {
            "gridcolor": "white",
            "linecolor": "white",
            "ticks": ""
           },
           "bgcolor": "#E5ECF6",
           "radialaxis": {
            "gridcolor": "white",
            "linecolor": "white",
            "ticks": ""
           }
          },
          "scene": {
           "xaxis": {
            "backgroundcolor": "#E5ECF6",
            "gridcolor": "white",
            "gridwidth": 2,
            "linecolor": "white",
            "showbackground": true,
            "ticks": "",
            "zerolinecolor": "white"
           },
           "yaxis": {
            "backgroundcolor": "#E5ECF6",
            "gridcolor": "white",
            "gridwidth": 2,
            "linecolor": "white",
            "showbackground": true,
            "ticks": "",
            "zerolinecolor": "white"
           },
           "zaxis": {
            "backgroundcolor": "#E5ECF6",
            "gridcolor": "white",
            "gridwidth": 2,
            "linecolor": "white",
            "showbackground": true,
            "ticks": "",
            "zerolinecolor": "white"
           }
          },
          "shapedefaults": {
           "line": {
            "color": "#2a3f5f"
           }
          },
          "ternary": {
           "aaxis": {
            "gridcolor": "white",
            "linecolor": "white",
            "ticks": ""
           },
           "baxis": {
            "gridcolor": "white",
            "linecolor": "white",
            "ticks": ""
           },
           "bgcolor": "#E5ECF6",
           "caxis": {
            "gridcolor": "white",
            "linecolor": "white",
            "ticks": ""
           }
          },
          "title": {
           "x": 0.05
          },
          "xaxis": {
           "automargin": true,
           "gridcolor": "white",
           "linecolor": "white",
           "ticks": "",
           "title": {
            "standoff": 15
           },
           "zerolinecolor": "white",
           "zerolinewidth": 2
          },
          "yaxis": {
           "automargin": true,
           "gridcolor": "white",
           "linecolor": "white",
           "ticks": "",
           "title": {
            "standoff": 15
           },
           "zerolinecolor": "white",
           "zerolinewidth": 2
          }
         }
        },
        "xaxis": {
         "anchor": "y",
         "domain": [
          0,
          1
         ],
         "title": {
          "text": "index"
         }
        },
        "yaxis": {
         "anchor": "x",
         "domain": [
          0,
          1
         ],
         "title": {
          "text": "value"
         }
        }
       }
      }
     },
     "metadata": {},
     "output_type": "display_data"
    }
   ],
   "source": [
    "grafico_max = pd.Series(p_weights[max_ind], index=x.columns)\n",
    "px.bar(grafico_max)"
   ]
  },
  {
   "cell_type": "code",
   "execution_count": 66,
   "metadata": {},
   "outputs": [],
   "source": [
    "data_nueva = pd.DataFrame(\n",
    "    {\n",
    "        'risk':p_risk,\n",
    "        'return':p_returns\n",
    "    }\n",
    ")"
   ]
  },
  {
   "cell_type": "code",
   "execution_count": 67,
   "metadata": {},
   "outputs": [
    {
     "data": {
      "text/html": [
       "<div>\n",
       "<style scoped>\n",
       "    .dataframe tbody tr th:only-of-type {\n",
       "        vertical-align: middle;\n",
       "    }\n",
       "\n",
       "    .dataframe tbody tr th {\n",
       "        vertical-align: top;\n",
       "    }\n",
       "\n",
       "    .dataframe thead th {\n",
       "        text-align: right;\n",
       "    }\n",
       "</style>\n",
       "<table border=\"1\" class=\"dataframe\">\n",
       "  <thead>\n",
       "    <tr style=\"text-align: right;\">\n",
       "      <th></th>\n",
       "      <th>risk</th>\n",
       "      <th>return</th>\n",
       "    </tr>\n",
       "  </thead>\n",
       "  <tbody>\n",
       "    <tr>\n",
       "      <th>0</th>\n",
       "      <td>0.283126</td>\n",
       "      <td>0.379226</td>\n",
       "    </tr>\n",
       "    <tr>\n",
       "      <th>1</th>\n",
       "      <td>0.352368</td>\n",
       "      <td>0.549191</td>\n",
       "    </tr>\n",
       "    <tr>\n",
       "      <th>2</th>\n",
       "      <td>0.294787</td>\n",
       "      <td>0.434173</td>\n",
       "    </tr>\n",
       "    <tr>\n",
       "      <th>3</th>\n",
       "      <td>0.334308</td>\n",
       "      <td>0.521212</td>\n",
       "    </tr>\n",
       "    <tr>\n",
       "      <th>4</th>\n",
       "      <td>0.291086</td>\n",
       "      <td>0.393050</td>\n",
       "    </tr>\n",
       "  </tbody>\n",
       "</table>\n",
       "</div>"
      ],
      "text/plain": [
       "       risk    return\n",
       "0  0.283126  0.379226\n",
       "1  0.352368  0.549191\n",
       "2  0.294787  0.434173\n",
       "3  0.334308  0.521212\n",
       "4  0.291086  0.393050"
      ]
     },
     "execution_count": 67,
     "metadata": {},
     "output_type": "execute_result"
    }
   ],
   "source": [
    "data_nueva.head()"
   ]
  },
  {
   "cell_type": "code",
   "execution_count": 68,
   "metadata": {},
   "outputs": [
    {
     "data": {
      "image/png": "[encoded data removed]",
      "text/plain": [
       "<Figure size 432x288 with 2 Axes>"
      ]
     },
     "metadata": {
      "needs_background": "light"
     },
     "output_type": "display_data"
    }
   ],
   "source": [
    "# The chart is called Efficient Frontier and shows the \n",
    "# returns on the Y-axis and volatility on the X-axis.\n",
    "max_ind = np.argmax(p_sharpe)\n",
    "\n",
    "plt.scatter(p_risk, p_returns, c=p_sharpe, cmap='plasma')\n",
    "plt.colorbar(label='Sharpe Ratio')\n",
    "\n",
    "plt.scatter(p_risk[max_ind], p_returns[max_ind], color='r', marker='*', s=500)\n",
    "plt.show()"
   ]
  },
  {
   "cell_type": "code",
   "execution_count": 69,
   "metadata": {},
   "outputs": [
    {
     "data": {
      "application/vnd.plotly.v1+json": {
       "config": {
        "plotlyServerURL": "https://plot.ly"
       },
       "data": [
        {
         "hovertemplate": "risk=%{x}<br>return=%{y}<br>color=%{marker.color}<extra></extra>",
         "legendgroup": "",
         "marker": {
          "color": [
           1.3380992261194182,
           1.5570358644007098,
           1.4713829084205121,
           1.557536886920893,
           1.3489555128404034,
           1.5594995759370283,
           1.5470897054749386,
           1.5486111446830881,
           1.3947487511708219,
           1.453237939501913,
           1.245038944381601,
           1.5247106832117676,
           1.4854742967041201,
           1.5584158777406119,
           1.5142304044808763,
           1.5482461220761936,
           1.4778055166527,
           1.4171800276176225,
           1.5733946969905621,
           1.5374095402903893,
           1.4805676029631853,
           1.557985655746082,
           1.4589824578281183,
           1.5211871486267958,
           1.3290742788549423,
           1.5220472343622853,
           1.5379927950224097,
           1.4686314933856794,
           1.5337927141786625,
           1.5538753197643909,
           1.148561652735323,
           1.4656173800817518,
           1.444709839900555,
           1.338288680632205,
           1.5282384290691369,
           1.3190520356096995,
           1.364609622599637,
           1.3027997527044908,
           1.5094659764741127,
           1.5052772045941594,
           1.5658916797624876,
           1.5104600658634286,
           1.4188244017815306,
           1.5423093647214419,
           1.4521575016234263,
           1.42554619122318,
           1.5286338749007153,
           1.2498980204244245,
           1.513592947238408,
           1.5157333405613511,
           1.4140836537191404,
           1.4851774598866714,
           1.334092022281847,
           1.4124404447694623,
           1.5485114994255642,
           1.5410264935687596,
           1.5351468687275476,
           1.5388174817930054,
           1.3551635075036477,
           1.5267076924499048,
           1.3798728641103168,
           1.5075694995547824,
           1.4870014613733036,
           1.5331907171813886,
           1.513164085573437,
           1.569223562009483,
           1.4555272294299297,
           1.5617236634519092,
           1.3290114750787054,
           1.562967543016579,
           1.5223052443033362,
           1.515961428504263,
           1.5391214315077117,
           1.488537074101309,
           1.5018339806940337,
           1.5426705402998515,
           1.3172288220006803,
           1.2875972241061058,
           1.448962951732587,
           1.500890028760714,
           1.510676691260857,
           1.526224335307553,
           1.496864901188743,
           1.5669384521847223,
           1.3584196134883393,
           1.322442447941895,
           1.5434468257850975,
           1.5664751182745227,
           1.4896996376918403,
           1.3752383670984805,
           1.5563070691071346,
           1.5521185664721973,
           1.5603901081342608,
           1.5358928855837612,
           1.4804890268753381,
           1.516566218274266,
           1.574699826739759,
           1.5369782165018833,
           1.3804050304446873,
           1.5512537967770543,
           1.5302694846265592,
           1.5435296138520287,
           1.5089285694160879,
           1.2860134768729599,
           1.3736783305739924,
           1.3625178449426163,
           1.4004997208564098,
           1.5572117126976843,
           1.5280386476473264,
           1.3593224773156642,
           1.4277291608505716,
           1.4740180457818428,
           1.5260256456760983,
           1.5104401614070853,
           1.484585808942969,
           1.5610902056676716,
           1.5029448204906588,
           1.5230295539250895,
           1.4964400783588874,
           1.3352796113965424,
           1.4351126095826878,
           1.480732160277988,
           1.5377517622698726,
           1.364774411696285,
           1.2920332949908402,
           1.555470008562074,
           1.5078889757824072,
           1.466765894846939,
           1.5361176726058392,
           1.5559838358102585,
           1.5444383722899742,
           1.44226912736901,
           1.279611562850891,
           1.3309945255433986,
           1.5439211693934944,
           1.5344379760857831,
           1.4819698681032838,
           1.4236477752908452,
           1.52638359965938,
           1.5448406535613282,
           1.5519390666126887,
           1.4054451612930738,
           1.5376743263433357,
           1.3787175937081826,
           1.5681794204108013,
           1.5607412522269826,
           1.5398940304224982,
           1.5176031299692214,
           1.5365452760817149,
           1.4784564244166558,
           1.2825185521276883,
           1.549393264898122,
           1.3781587556245303,
           1.5170168813845188,
           1.3362451930423433,
           1.5706521076288429,
           1.528868579669436,
           1.4979745029427285,
           1.5430919992138903,
           1.544086391097889,
           1.3216564027012707,
           1.533907906900463,
           1.4892815224490312,
           1.5548319879600503,
           1.2686844392799939,
           1.4220025207603832,
           1.5377380075303966,
           1.3260726040527007,
           1.5501511947133204,
           1.567003682537201,
           1.4685975975213845,
           1.5686081830781617,
           1.5499069539706973,
           1.4900399401134343,
           1.539435567487234,
           1.4215343778646516,
           1.5036413238696185,
           1.511968577642663,
           1.4920033859926083,
           1.5355622124721735,
           1.493832810603457,
           1.3836553106254665,
           1.5513118919633304,
           1.3401479450161966,
           1.5130634346238936,
           1.3011791770247454,
           1.5492905728415816,
           1.476657537927322,
           1.5566869902010594,
           1.5099511477099399,
           1.5577598037515248,
           1.397355694670583,
           1.4424187768154113,
           1.4836442803665606,
           1.561376322095157,
           1.55469733720543,
           1.5647518284760082,
           1.4416597787942285,
           1.4328218740201428,
           1.276808163872216,
           1.498651708528279,
           1.56689386969844,
           1.4879856710731527,
           1.5730087619982789,
           1.4281120301434709,
           1.488225831342842,
           1.3697584976068686,
           1.561963453231292,
           1.5634866603608717,
           1.413975204352305,
           1.5371425840940018,
           1.1774419020764029,
           1.5067868672267866,
           1.5613215309877901,
           1.5160832367424912,
           1.5485028681577013,
           1.362488015767325,
           1.5516092613221835,
           1.5239082159943589,
           1.4988142141293856,
           1.5318263952033129,
           1.4243287023541227,
           1.413269053118314,
           1.528248067287123,
           1.5287395897779927,
           1.3220209389244544,
           1.369216256354042,
           1.527299699974223,
           1.5422716614781538,
           1.5343440936333013,
           1.5207351394198443,
           1.5315589311942115,
           1.5731768860910431,
           1.4377654987670532,
           1.5147842823039428,
           1.449810728501957,
           1.5308252615309585,
           1.52780598137515,
           1.505159228674147,
           1.3853519335677957,
           1.5286590287678263,
           1.3640953855597315,
           1.3386147587338058,
           1.5487843392187093,
           1.5359846712529506,
           1.5260789432670612,
           1.5368418046486676,
           1.3906434013133169,
           1.5616886530932623,
           1.4977638755726923,
           1.4400113472568736,
           1.4950852607908935,
           1.4900533972634986,
           1.3405112711909226,
           1.4695964723294899,
           1.5373587737612904,
           1.2494013735580878,
           1.44325356766485,
           1.5256026565385405,
           1.4005855627879815,
           1.5144926614949157,
           1.5042897076496893,
           1.273023797423568,
           1.517387892766549,
           1.3414383097388347,
           1.5453793667090059,
           1.5443212443819303,
           1.4919129218161953,
           1.534572024884275,
           1.4362692684209954,
           1.5359251613073392,
           1.5175438196278965,
           1.4906247821429548,
           1.3890380321111448,
           1.5297458345841366,
           1.4963589235897663,
           1.4253590610642566,
           1.5379908931341815,
           1.5339781816752018,
           1.5631317887612977,
           1.5166229077086217,
           1.5243458519533206,
           1.276662428518394,
           1.550087804195641,
           1.319650206713818,
           1.5269968790500439,
           1.5061310041119296,
           1.4750135078997308,
           1.3680160390523417,
           1.530155005827979,
           1.5497594035100943,
           1.5541968818329994,
           1.4024584861886495,
           1.5232355550723569,
           1.5713578466545617,
           1.5493566947915658,
           1.493623486420325,
           1.5454073370679131,
           1.5231361491913349,
           1.5624466921331392,
           1.5301580494999514,
           1.5541272654697786,
           1.274791059120269,
           1.5608550373429158,
           1.4883904151827771,
           1.523313301070548,
           1.3719061871184988,
           1.564532635669,
           1.2669502619535622,
           1.44874616966395,
           1.4826749136821018,
           1.535837152900483,
           1.5554945343522866,
           1.4363264570441758,
           1.3100347206771408,
           1.549780334141877,
           1.563881774148406,
           1.5098951081077117,
           1.5415752284893054,
           1.4278557948665174,
           1.565551946954568,
           1.4855868403674488,
           1.5184393643118574,
           1.4890772706860078,
           1.5300055000428323,
           1.5542915728373377,
           1.5512452820613574,
           1.5371692118682418,
           1.537718928762832,
           1.413973180107526,
           1.5232776456065045,
           1.5165989223846428,
           1.5183343612737756,
           1.499840944541458,
           1.4423849797924777,
           1.4839041683975787,
           1.4443818270196689,
           1.3379665418330735,
           1.5402129962894637,
           1.5240638142759082,
           1.4098025352668193,
           1.4839291265711896,
           1.5324932792288324,
           1.4410903584601449,
           1.5324899391545348,
           1.1843102997381918,
           1.3786393002666422,
           1.4627454577641255,
           1.406381534652341,
           1.548659680440873,
           1.5606310144706286,
           1.5259211405197455,
           1.3930266872014638,
           1.5614163902517957,
           1.5548780110235005,
           1.529416212839671,
           1.5334196713742472,
           1.4795177489987057,
           1.574200013518568,
           1.3812159796252965,
           1.546946609709134,
           1.4608791095434852,
           1.3926541459899564,
           1.135426387479902,
           1.576010379342292,
           1.357007088496538,
           1.5481745620785936,
           1.498857197382525,
           1.4766241528720478,
           1.4103926321962168,
           1.4142091182724645,
           1.4399246805719372,
           1.5445668572722497,
           1.4949922597017826,
           1.563938571738879,
           1.4931339043887575,
           1.4895899209271155,
           1.2799777124457157,
           1.2248576508682494,
           1.566074849961045,
           1.5009731688232866,
           1.5151266192091986,
           1.3688513968737892,
           1.3022531936754178,
           1.481645543711802,
           1.5236107833391077,
           1.5707079712591012,
           1.5376861976450333,
           1.5240402150117414,
           1.5228310430668728,
           1.342850432649606,
           1.4897582484735967,
           1.5557513370036677,
           1.5347347611294566,
           1.5157224675575207,
           1.4728961812985337,
           1.4016062923334354,
           1.5016263470044962,
           1.4766007819166782,
           1.513690474950894,
           1.4884634792029015,
           1.4869472296753115,
           1.4259519668867637,
           1.5423557493471305,
           1.4985580047864775,
           1.4419862773949748,
           1.4583246406782115,
           1.3754435271549064,
           1.485706915478388,
           1.314580852126478,
           1.4863494588714268,
           1.4557215383562683,
           1.5491738065206428,
           1.3755474600068283,
           1.4915920773180487,
           1.526513096972153,
           1.522591772139464,
           1.5245596725534998,
           1.5268906558254614,
           1.5571516779200607,
           1.5415198676819013,
           1.5394408500628713,
           1.5486218219754366,
           1.4992182903925966,
           1.556661178067464,
           1.5274779807886263,
           1.5464645862596813,
           1.5047909243859896,
           1.541920534905637,
           1.4038185409196293,
           1.5337330119213917,
           1.545678041943631,
           1.3120879447710645,
           1.5037800049838683,
           1.402882075979346,
           1.5525791348721063,
           1.4379052392307325,
           1.5103215883698053,
           1.429258483471021,
           1.5432707914837995,
           1.5386940894561123,
           1.5125407967175346,
           1.3786041596169967,
           1.460601489404731,
           1.537403812475627,
           1.551586427269994,
           1.4580738680106677,
           1.3848064852825401,
           1.4988277513996704,
           1.5103237988840221,
           1.3461170184820004,
           1.5088431191428908,
           1.492065057788497,
           1.5409919411063921,
           1.519689724081096,
           1.4506943564671935,
           1.5669167476097827,
           1.539585297454183,
           1.5003365939512383,
           1.5182405902563687,
           1.52737021348521,
           1.5222418626978247,
           1.4886604133475043,
           1.5065949896434445,
           1.5269206057952662,
           1.5269404377558409,
           1.1786555830529777,
           1.4267867236682692,
           1.3541844461142958,
           1.524759223742809,
           1.4079624155139199,
           1.376198425538903,
           1.5187637138731729,
           1.3534249410462809,
           1.5472804402700762,
           1.5040254369106008,
           1.5616942746127545,
           1.5185711814007217,
           1.5124583953479627,
           1.334550548736033,
           1.3191354841752518,
           1.3742434656174065,
           1.5299714005231642,
           1.4713111728985697,
           1.5269431571864394,
           1.3254826448209849,
           1.4921537536761256,
           1.4797726696530735,
           1.540736429407497,
           1.4972148580124938,
           1.4685085537813054,
           1.5639159089411607,
           1.5425665713580856,
           1.5235556412000422,
           1.5441853021303642,
           1.5170224589507968,
           1.476493567437774,
           1.4905275895096224,
           1.4909691256959288,
           1.4710937143914928
          ],
          "coloraxis": "coloraxis",
          "symbol": "circle"
         },
         "mode": "markers",
         "name": "",
         "orientation": "v",
         "showlegend": false,
         "type": "scatter",
         "x": [
          0.2831264374973389,
          0.3523678162764961,
          0.29478685036052976,
          0.3343080276376962,
          0.2910860596417658,
          0.3734008411459878,
          0.3573553921628362,
          0.33001633632571337,
          0.28569440213518493,
          0.2919660009111088,
          0.2787895137790488,
          0.3071054347183785,
          0.30526970162970557,
          0.35166669029881903,
          0.4090122210313668,
          0.3289107705029705,
          0.3920881383522965,
          0.28760704951318405,
          0.3540726718079968,
          0.3486298421637189,
          0.36810720933018665,
          0.35051714375423415,
          0.3095927753890963,
          0.319887163034913,
          0.2817034104126236,
          0.3131556967511055,
          0.3732927307876546,
          0.29443019959539546,
          0.4118848989899722,
          0.32720124390463035,
          0.2877741986728474,
          0.2990412097579583,
          0.31435821709659034,
          0.2836338313406562,
          0.3179659992363653,
          0.2854643085307375,
          0.29430222390219596,
          0.28062361748267123,
          0.33942518419402834,
          0.30740626564195206,
          0.35009534593932234,
          0.3485990171301257,
          0.2869029514726939,
          0.42414970301119215,
          0.299384669976756,
          0.3210296484324035,
          0.3147657942279135,
          0.2792087667832221,
          0.32433657727175447,
          0.32044434089556645,
          0.2889606358835845,
          0.3152604513695907,
          0.2909162517459693,
          0.28708069524435187,
          0.31737939712562035,
          0.359022717571766,
          0.3932949697135631,
          0.3330658480814791,
          0.284375182155566,
          0.3819755105093706,
          0.28498114262474766,
          0.30596370836398307,
          0.3416706292155648,
          0.31122418107653443,
          0.4104799798048223,
          0.36861240053114763,
          0.3109988473216719,
          0.3815240373513128,
          0.2859015503318178,
          0.36173255264221515,
          0.3255667342768401,
          0.3648184922830779,
          0.36552874983886824,
          0.29830461683460235,
          0.31046533891366374,
          0.38569600756549965,
          0.2903876227878314,
          0.2812443694637497,
          0.2934822827691009,
          0.3122300164645069,
          0.38163172423423314,
          0.40216691450013614,
          0.3001212868625625,
          0.3420670213796718,
          0.28890121241917366,
          0.2811124199494667,
          0.32354207294746024,
          0.36773284660628264,
          0.46398810603832863,
          0.2847196951479966,
          0.3222079537476166,
          0.40371452295135435,
          0.38723953978166653,
          0.3241263278837983,
          0.4796768768920015,
          0.4160027999376697,
          0.36849927650147085,
          0.3427950374767008,
          0.28471775978420083,
          0.32344638556548394,
          0.33460718916014687,
          0.32426689406205766,
          0.4570914099258942,
          0.28276995843699737,
          0.29813542789564895,
          0.2860219893872173,
          0.29595210041527353,
          0.3319238504572962,
          0.32751794594006545,
          0.2873974207549795,
          0.2930877608289068,
          0.2958223895155532,
          0.3748475316746075,
          0.3116744224664873,
          0.3061343184223615,
          0.3478105380904857,
          0.45178681890678685,
          0.3898772961940506,
          0.30761684252920607,
          0.2913776081844733,
          0.29671196434980845,
          0.30199867386591006,
          0.321578164257373,
          0.28584571721260865,
          0.2814197102427669,
          0.38308559158678135,
          0.3021886049577064,
          0.30574476108536014,
          0.328289186476045,
          0.32550769146970415,
          0.3960044257911797,
          0.2919092755219931,
          0.28546583744295645,
          0.2861843250501867,
          0.350900103124067,
          0.3115083970069518,
          0.3130488743960527,
          0.2889146954333726,
          0.3334787004091251,
          0.32314090021657293,
          0.35112916745177797,
          0.2915704089063029,
          0.3704342092443016,
          0.2957746846570754,
          0.38227887114009296,
          0.3489006624548461,
          0.3325889483930483,
          0.45062438723076265,
          0.33312456680599845,
          0.41144673122178804,
          0.29770805263886846,
          0.3305773007829401,
          0.2845994819685559,
          0.41284295190930687,
          0.28428810403082116,
          0.3385296997976092,
          0.32107868401103135,
          0.3050711339772161,
          0.34163554791530465,
          0.31527306241919045,
          0.28338921530225814,
          0.3412941971892028,
          0.29713955030215516,
          0.3252805993024714,
          0.2817033213874521,
          0.34764037486978633,
          0.3916857649043912,
          0.2808256857668693,
          0.3438377452389531,
          0.3316443923624366,
          0.4828933636846839,
          0.339221573696617,
          0.3677158367689196,
          0.4192869321967729,
          0.3402148792618,
          0.28686603558714796,
          0.30273747215099217,
          0.3025030905220569,
          0.30219923747703037,
          0.3160327898554935,
          0.39689191413996644,
          0.28422680973435516,
          0.32128823612895935,
          0.2875398792038178,
          0.36609803504436667,
          0.2798739035588401,
          0.38251767309494217,
          0.33342854484330736,
          0.3421903993538677,
          0.3026522602457975,
          0.33179173287305064,
          0.2927109398977439,
          0.3020202215583215,
          0.3034940218490527,
          0.36705701824112885,
          0.3296112679059024,
          0.3507471846113857,
          0.2946931479796583,
          0.29401487897423717,
          0.2812688382470278,
          0.3094285974706466,
          0.3361517025935793,
          0.4995271094872292,
          0.36327227522020605,
          0.2886118036338779,
          0.43705996783541873,
          0.29463608599583196,
          0.33789215571364173,
          0.34957643427338203,
          0.28686129712606706,
          0.4049246253200731,
          0.28472433371958333,
          0.30985672155980437,
          0.3737331749336644,
          0.3072812024662451,
          0.38627262184692956,
          0.2825216804796789,
          0.3232712968106167,
          0.3394546142986822,
          0.3196318319376268,
          0.3324859872031298,
          0.3011650282378929,
          0.29897754596833803,
          0.38852170011308634,
          0.31265058665989776,
          0.28497613567498165,
          0.2916301230916175,
          0.3079192039763684,
          0.3152049408063549,
          0.3284685488564307,
          0.3135823869238303,
          0.34385769132461685,
          0.359056659958308,
          0.2944592018253061,
          0.31524569966004556,
          0.2946616855217693,
          0.3991942010818097,
          0.41209173553341233,
          0.4463764280557933,
          0.28668049021066894,
          0.32022941313522085,
          0.29145524717120413,
          0.2931078666411574,
          0.36434038335792635,
          0.3350190077365366,
          0.3326831731209497,
          0.33063219907549285,
          0.2846620464860085,
          0.35077826452150246,
          0.36849423698077644,
          0.2928943580917671,
          0.32624487631214444,
          0.3308964912337847,
          0.2825984444796467,
          0.3085830310552796,
          0.3665551381184928,
          0.3026292838174528,
          0.30959082297137686,
          0.35680992394916433,
          0.2873616459817161,
          0.3085463429611602,
          0.3138806414378926,
          0.28430945680408587,
          0.30808130876433687,
          0.2913723210484325,
          0.3260666612511606,
          0.3170518983638741,
          0.39017795901119906,
          0.3191814001373969,
          0.29472266459354723,
          0.4274811146872115,
          0.31695941520810794,
          0.29826228728144905,
          0.28683475138226655,
          0.32393882521349143,
          0.3040890705357724,
          0.29987294027916467,
          0.36132814569019983,
          0.31292059358498137,
          0.3761034269998527,
          0.3458430341050129,
          0.32777978618589876,
          0.2824860439972797,
          0.3336034863938649,
          0.2941012993571216,
          0.4468046506152869,
          0.300792225171774,
          0.2956449665385355,
          0.28501589077302114,
          0.376575703833732,
          0.3386324941952863,
          0.335287274057127,
          0.2856314896961235,
          0.3761537111695951,
          0.3592907751254681,
          0.31946592262965595,
          0.29907940053910703,
          0.3557676032511072,
          0.4095569278082373,
          0.3716042092507905,
          0.42385906802707757,
          0.3225547874705449,
          0.2810624706131982,
          0.3643860029597418,
          0.29831674376486894,
          0.37964574202735424,
          0.2908316867013335,
          0.3620024900846472,
          0.281573574050291,
          0.2983477925197577,
          0.2967903129772588,
          0.33313666244156503,
          0.34741255109132785,
          0.29350060681580453,
          0.2921336327143526,
          0.3545790536225825,
          0.35732550071712194,
          0.4307834994194743,
          0.3236226461616786,
          0.305020418799522,
          0.34578019674910354,
          0.33371811327285916,
          0.3177656385613149,
          0.30514639145647676,
          0.3310150662196897,
          0.3502352572838965,
          0.32475252230218715,
          0.318880656883298,
          0.32918995419157626,
          0.29116642348981386,
          0.4303010422104341,
          0.31166287210787624,
          0.321293597404583,
          0.2995312837688756,
          0.3053130450511073,
          0.30424600830360204,
          0.2928072886459823,
          0.2902446751078226,
          0.3472878038779819,
          0.3179682655136405,
          0.2900865455149798,
          0.30228578464396266,
          0.3474933225555735,
          0.29136382202546307,
          0.30954060591206356,
          0.28210466354907393,
          0.28679817417661113,
          0.39334429104290386,
          0.31779580651776435,
          0.4100246316230569,
          0.3418807045309175,
          0.33904062056067524,
          0.29343983544018015,
          0.34755385951404194,
          0.36259138424633147,
          0.3112525373315357,
          0.3609892724648402,
          0.3011505443037105,
          0.3693395282640911,
          0.2852315348326082,
          0.33731214336361537,
          0.2989293492857058,
          0.29002359963063085,
          0.2902143340722477,
          0.3508963426469116,
          0.2844993874430066,
          0.3202840378229972,
          0.3094418508031675,
          0.4117296659097952,
          0.2884494987995601,
          0.2936427364784192,
          0.29401909357677547,
          0.33200872755586996,
          0.3339305449703245,
          0.3315728313726878,
          0.34340496588716657,
          0.2977299310044851,
          0.279497114611837,
          0.28826620361870375,
          0.36520245235625504,
          0.3068696703463372,
          0.35015096139474816,
          0.29029734014343156,
          0.29484276887814237,
          0.30436975253119525,
          0.32169711999393347,
          0.3549148602836315,
          0.40928341830613196,
          0.43428901076517834,
          0.3099297802514089,
          0.28527511513774656,
          0.30275121925440884,
          0.3294914552517272,
          0.3558915722452169,
          0.3395706499621164,
          0.3372053483711885,
          0.2950784923446781,
          0.31198102814985057,
          0.3048615580634269,
          0.34528072253277436,
          0.32308937412883537,
          0.35120331162533536,
          0.2979544504654764,
          0.4071862936796072,
          0.36550210069673594,
          0.29687898221376136,
          0.29538259078255713,
          0.2905283494599849,
          0.3526421251565041,
          0.2807723295844096,
          0.31039377794588485,
          0.30380666853151084,
          0.3703250699539773,
          0.32485046644052284,
          0.4287244866818315,
          0.3352658828951468,
          0.3175289687768007,
          0.34805376239827135,
          0.3280415116968745,
          0.34169324960007813,
          0.39343357686014957,
          0.3187466505953138,
          0.32881673196363975,
          0.3004396545877335,
          0.37573867196362953,
          0.35461410002883204,
          0.3977030341008637,
          0.37097704010028426,
          0.34256469916842774,
          0.28651816473047415,
          0.3440687568865998,
          0.3416055663623376,
          0.2826226531375281,
          0.3174396678484395,
          0.29405640558696294,
          0.3207480258036421,
          0.2901209963236978,
          0.3957858528192269,
          0.2885811972961065,
          0.32586276618254134,
          0.3255287825369832,
          0.3151978642248418,
          0.28974264501383273,
          0.29318329884834776,
          0.3185946387064714,
          0.3763408855303591,
          0.39069934067604467,
          0.2857056074309714,
          0.31163601267110724,
          0.3215830366840695,
          0.2837147616396883,
          0.3123116070017354,
          0.3020640744770037,
          0.33282168152804126,
          0.31748000709102503,
          0.30353949731950014,
          0.3762162451901625,
          0.3321964075570369,
          0.42241218398489777,
          0.3102276571579126,
          0.3231672077952679,
          0.3418605513500352,
          0.4543441637480198,
          0.3010323468844416,
          0.33865156241679173,
          0.32594970398957607,
          0.288584193178091,
          0.29140303188949374,
          0.29265928093357213,
          0.31198110613202334,
          0.2998889332372388,
          0.28602373208518583,
          0.35778629250800137,
          0.2850884880690954,
          0.41866741188090045,
          0.3926623786303376,
          0.3522319808160524,
          0.3077493866078136,
          0.3116177666631375,
          0.28136775808553194,
          0.28100456051545364,
          0.2873738940753065,
          0.35542528956401664,
          0.29453979190637336,
          0.3458866867677982,
          0.28419222837630864,
          0.2980323521499629,
          0.30202359422260405,
          0.3236361860351645,
          0.3013502141710815,
          0.2959708480048501,
          0.35073740479217763,
          0.33994721091836844,
          0.32819663421793593,
          0.3178230519964085,
          0.4111673140336866,
          0.298908322030726,
          0.31093296665108194,
          0.40935355873604334,
          0.2947261933297333
         ],
         "xaxis": "x",
         "y": [
          0.3792256258685335,
          0.5491914710072184,
          0.43417293436740856,
          0.52121160745039,
          0.3930501509367511,
          0.5828938669132214,
          0.5534071535972606,
          0.5115719832551208,
          0.39886565754177133,
          0.4247153344595514,
          0.3474467898867079,
          0.46870963178947,
          0.45391838851067,
          0.5485844982549549,
          0.6199507356931987,
          0.5097380214076496,
          0.5800025731733551,
          0.4079937242440266,
          0.5576465543539698,
          0.5365164766425651,
          0.5455461536192007,
          0.5466403072420878,
          0.4521367627783913,
          0.48708907960261516,
          0.37477472222008135,
          0.47710874809580794,
          0.5746888441508565,
          0.4328367458084131,
          0.6323703121482184,
          0.5089323386236255,
          0.3308530163660263,
          0.43871307738033766,
          0.45460518064866434,
          0.3799590288780658,
          0.48640802503912717,
          0.3769143546104569,
          0.40200449219009077,
          0.3659576407039888,
          0.5128570425609056,
          0.46318888892797433,
          0.5487531001889764,
          0.5270651956533222,
          0.4074671465444705,
          0.6548164720997569,
          0.4351832928900312,
          0.45809480859311463,
          0.48163711189835534,
          0.34932732924014953,
          0.49139864833650443,
          0.48618812007547674,
          0.4090182810516721,
          0.46868038209545065,
          0.38849255757343765,
          0.40588506114529893,
          0.49195128412002315,
          0.5538102226537257,
          0.6043621475081216,
          0.5130339997638351,
          0.38575567450374093,
          0.5837412001729484,
          0.3936263203383642,
          0.4617173467503144,
          0.508566765193929,
          0.4776375333191486,
          0.6217373217493133,
          0.5790068405103409,
          0.4531145902922821,
          0.5964238871860174,
          0.38034190204398954,
          0.5659349112052755,
          0.49610168208579924,
          0.5535972555547501,
          0.5631490547771182,
          0.44447625374884536,
          0.4667281343416372,
          0.5955898148928256,
          0.38288491757919146,
          0.36248730486108394,
          0.4256651572467636,
          0.4690859845162649,
          0.5770918363657613,
          0.6144034504729377,
          0.44968493445595104,
          0.5365276112859833,
          0.3928368688377536,
          0.37212234361961083,
          0.49986343410095935,
          0.5766135681699178,
          0.6918859202901022,
          0.3919443631110454,
          0.5019500245551184,
          0.6272319892425073,
          0.6048418271436522,
          0.4983152413048112,
          0.7108580882108093,
          0.631519207908288,
          0.5808491418673719,
          0.527389126379331,
          0.39341419330560573,
          0.5022432315216233,
          0.5125451384686256,
          0.5010101343633403,
          0.6903998270814204,
          0.3640053113745524,
          0.40994686282218795,
          0.39009515358269775,
          0.4148904000599786,
          0.5173864544025129,
          0.500954604964442,
          0.3910518073282641,
          0.4188634309096215,
          0.4364784175085276,
          0.5725921905721688,
          0.4712307483413431,
          0.45493175830251953,
          0.5435001497616536,
          0.6796816185915526,
          0.5943813981092377,
          0.4607850436503207,
          0.38945503652051233,
          0.42623584734322245,
          0.4476210253837606,
          0.494996032459102,
          0.39050040959666266,
          0.36396292763027044,
          0.5964669608251268,
          0.45611712972439417,
          0.4488991264162825,
          0.5047891321592626,
          0.5069851853176254,
          0.6122087829928916,
          0.42142775558007844,
          0.36564634033004145,
          0.3812861629914294,
          0.5422974355966705,
          0.47846263668197225,
          0.4643874269633222,
          0.4117191989395125,
          0.5095193997915364,
          0.4996944813006373,
          0.5454695418347285,
          0.41019114746883756,
          0.5701700260921582,
          0.4081927158199921,
          0.6000742319578103,
          0.5450817434400144,
          0.5126578150056776,
          0.6845447403640242,
          0.5123667709542167,
          0.6089071560277933,
          0.38219338926413826,
          0.5127003641551237,
          0.39261084032030336,
          0.6269085907740396,
          0.380253986573281,
          0.5322377939785988,
          0.4913721779018745,
          0.4574403502226846,
          0.5276960046278828,
          0.48728988156948955,
          0.3749132728082092,
          0.524031173841092,
          0.44296171897027126,
          0.5062564404243644,
          0.3577457751009316,
          0.4948339730680814,
          0.6029052557729491,
          0.3727632279042332,
          0.533527171897336,
          0.520201509800764,
          0.7098768005981317,
          0.5326315325593566,
          0.5704884998179005,
          0.625371621462704,
          0.5242564142671955,
          0.4081928859065722,
          0.4556583842533503,
          0.45782711925569486,
          0.45132782141540956,
          0.48576754361097924,
          0.593476023450952,
          0.3936605433422123,
          0.4989107696182701,
          0.3857267548835268,
          0.554476911529013,
          0.36452594342385264,
          0.5932166286508093,
          0.4928462956189203,
          0.5332097097854415,
          0.45744169898759485,
          0.517362547833626,
          0.4094254700023242,
          0.43607011250481426,
          0.4507221075564572,
          0.5736804554578814,
          0.512952129854795,
          0.5493746228590642,
          0.42526706807252973,
          0.4216872255238485,
          0.3594812168503707,
          0.4641839232394892,
          0.5272345105036033,
          0.7440236567051108,
          0.5719951265289487,
          0.412577271408585,
          0.6510866651386006,
          0.4039790772399665,
          0.5282967153526706,
          0.5470981689287254,
          0.40601556632462227,
          0.6230419312567729,
          0.3355776321699909,
          0.46734939058522484,
          0.5840942513395713,
          0.4663242198275461,
          0.5987353144638693,
          0.3853127718359999,
          0.5020863810727755,
          0.517808839398111,
          0.4795421210724133,
          0.509814082785587,
          0.4293818653999604,
          0.42295323870270396,
          0.5943442542310201,
          0.478433623398248,
          0.37711669554943805,
          0.39969927524654925,
          0.4707496162563753,
          0.4866120150044135,
          0.5044817855678203,
          0.4773469759998967,
          0.5271587118031069,
          0.5654177999413306,
          0.42378162434212924,
          0.478001097737908,
          0.4276258109646781,
          0.6117004176356199,
          0.6302183490738301,
          0.6725315009414417,
          0.397545815472428,
          0.49000530064608555,
          0.3979656162196987,
          0.3927462222304958,
          0.5648422734469005,
          0.5150925427348774,
          0.5082024658970171,
          0.5086314896380104,
          0.3962545659142924,
          0.5483477461619487,
          0.5524627293884541,
          0.42218796915934675,
          0.4882458861270871,
          0.49354064786288826,
          0.3792007344333862,
          0.453940649011616,
          0.5640836022759337,
          0.37847906485955624,
          0.4472595795916435,
          0.5448880632789427,
          0.40287227480788035,
          0.46775292231587434,
          0.472633986940707,
          0.3622903453563678,
          0.4679407835271389,
          0.39124421716597313,
          0.5043946121001366,
          0.4901138063080493,
          0.5826867478871691,
          0.490290846375423,
          0.4237193875880219,
          0.6572277935100895,
          0.48147509786859866,
          0.4450364822543224,
          0.398818078579968,
          0.496033736582325,
          0.4554760250866909,
          0.42784897090772933,
          0.5562685273440195,
          0.48048768466130964,
          0.5884801506911123,
          0.5250317619358236,
          0.5001434824833674,
          0.36099568191551196,
          0.517625678597162,
          0.3884943492270913,
          0.6829434861917362,
          0.4534801566963209,
          0.43651122859321484,
          0.39029159287726556,
          0.5767885848539593,
          0.5253174681936705,
          0.5216173592134645,
          0.4009821429184242,
          0.5735368836139159,
          0.5651322585448775,
          0.4954557634800535,
          0.4471534319862338,
          0.5503491507825565,
          0.624427375890441,
          0.5811854945696597,
          0.6492122455904326,
          0.501786536841293,
          0.3586499719482744,
          0.5693157378698648,
          0.4444505289284328,
          0.5788908703911985,
          0.39938805303439906,
          0.566924358853731,
          0.3570922230004402,
          0.4326573266027895,
          0.4404783773191891,
          0.5121492399132868,
          0.5409323148270636,
          0.421979250647752,
          0.383083369128932,
          0.5500626478039063,
          0.5593670265850686,
          0.6510806236230591,
          0.4993816276799568,
          0.43595553337793647,
          0.5418717780849788,
          0.49625712604498884,
          0.48298464063440527,
          0.45483555432256995,
          0.5069553213913434,
          0.544905621662715,
          0.5042686153098406,
          0.4906578892150234,
          0.5067018229518805,
          0.4121083334400567,
          0.6561156540914809,
          0.4731346388082279,
          0.48831315554703336,
          0.4496932057845908,
          0.4408141073819515,
          0.45191803843800316,
          0.4233434371385068,
          0.38872139710927894,
          0.5354257435202654,
          0.48508278519333975,
          0.40936886267677003,
          0.4490139320420589,
          0.5330573979757179,
          0.420296497486579,
          0.47483660726896876,
          0.3344295964503309,
          0.3957819369651516,
          0.5759311151543909,
          0.4473837965212713,
          0.6356160740879644,
          0.5340768536952962,
          0.5178604650827853,
          0.40917344430860453,
          0.5432125341364844,
          0.5643424705195252,
          0.4765050668792554,
          0.554095035793329,
          0.4459978497019707,
          0.581988810436063,
          0.39435564861985983,
          0.5223194930689102,
          0.4371311629858966,
          0.4043016816704709,
          0.32984262262710895,
          0.5535627368575936,
          0.3864491752408238,
          0.4963455758867078,
          0.4642674546797598,
          0.6085707299754103,
          0.4072290508793177,
          0.4156825835009961,
          0.42378369460750565,
          0.5133164058376798,
          0.49971688394144864,
          0.5190719509373868,
          0.513256267064342,
          0.44393374104701644,
          0.35810358537765413,
          0.35343396327467574,
          0.5724995283244638,
          0.46105828295968426,
          0.5310472746061637,
          0.39776658153993577,
          0.3843393444564345,
          0.4514137081183102,
          0.4906255302418835,
          0.5580184574782262,
          0.6299713500757153,
          0.6625279429538219,
          0.47243706473787567,
          0.38346035112659993,
          0.45147180410993143,
          0.5131133004700266,
          0.546738889614902,
          0.5152034552330131,
          0.4971592490498489,
          0.4139925513175861,
          0.468941855480857,
          0.45060363597624437,
          0.5231645916141203,
          0.48138193819181324,
          0.5227368197239631,
          0.42528856544940874,
          0.6286467002831508,
          0.5482673300882579,
          0.4285184375873717,
          0.43118936640605193,
          0.4000002046542406,
          0.5244405543542053,
          0.369462649551612,
          0.4618095069144804,
          0.4426949246235109,
          0.5742647934270199,
          0.44728878264448646,
          0.6401139469434747,
          0.5122934803390014,
          0.48394472946054035,
          0.5311530667226781,
          0.5013784631214853,
          0.5325939760563773,
          0.6070849694886719,
          0.4911764878842453,
          0.5097159412200439,
          0.450869708939019,
          0.5854757660010731,
          0.5422004717928288,
          0.615641398853871,
          0.5587945065007571,
          0.5287294883951891,
          0.40261696206953573,
          0.5282310629923271,
          0.5285339741404147,
          0.3711922047334755,
          0.4778311243360604,
          0.4129340955674764,
          0.49847877412602615,
          0.4175787204869632,
          0.5983545936924192,
          0.4128646907341493,
          0.5033914203949528,
          0.5013841634533474,
          0.4772207251493339,
          0.39983511960251894,
          0.42864710917495435,
          0.49029261278654684,
          0.5845024114089723,
          0.5702314124251894,
          0.39603793356390643,
          0.46755025422988794,
          0.4861744489114832,
          0.38229065369094806,
          0.471694860774028,
          0.45114460573120907,
          0.5133823230612378,
          0.4829478544805636,
          0.44077815730309255,
          0.5900820447335774,
          0.5119500850851351,
          0.6343867028746335,
          0.4714656365557349,
          0.49408371021223224,
          0.5209086662273645,
          0.6770325146492554,
          0.4539819814907948,
          0.517605011337814,
          0.4981975878303171,
          0.34047747854378324,
          0.4161808170349672,
          0.39670626151433186,
          0.47616612461264224,
          0.42264957246575163,
          0.3940143676771789,
          0.543929787827408,
          0.3862271407805744,
          0.648436011904918,
          0.5911577769272356,
          0.5506222237717645,
          0.4678011473726565,
          0.4717746275934041,
          0.3758705428824309,
          0.3710493746263733,
          0.39531193495217887,
          0.5443278704746375,
          0.4337879077293506,
          0.5286711961914667,
          0.3770640916703302,
          0.4451495298282611,
          0.4473678870604471,
          0.49913078705629005,
          0.451631854108477,
          0.4350652039037296,
          0.5490658267875693,
          0.5249093767151678,
          0.500519930159008,
          0.49126264375839157,
          0.6243664035797032,
          0.4417723177109696,
          0.4639121239428583,
          0.610936613930429,
          0.43399827917990474
         ],
         "yaxis": "y"
        }
       ],
       "layout": {
        "coloraxis": {
         "colorbar": {
          "title": {
           "text": "color"
          }
         },
         "colorscale": [
          [
           0,
           "#0d0887"
          ],
          [
           0.1111111111111111,
           "#46039f"
          ],
          [
           0.2222222222222222,
           "#7201a8"
          ],
          [
           0.3333333333333333,
           "#9c179e"
          ],
          [
           0.4444444444444444,
           "#bd3786"
          ],
          [
           0.5555555555555556,
           "#d8576b"
          ],
          [
           0.6666666666666666,
           "#ed7953"
          ],
          [
           0.7777777777777778,
           "#fb9f3a"
          ],
          [
           0.8888888888888888,
           "#fdca26"
          ],
          [
           1,
           "#f0f921"
          ]
         ]
        },
        "legend": {
         "tracegroupgap": 0
        },
        "margin": {
         "t": 60
        },
        "template": {
         "data": {
          "bar": [
           {
            "error_x": {
             "color": "#2a3f5f"
            },
            "error_y": {
             "color": "#2a3f5f"
            },
            "marker": {
             "line": {
              "color": "#E5ECF6",
              "width": 0.5
             },
             "pattern": {
              "fillmode": "overlay",
              "size": 10,
              "solidity": 0.2
             }
            },
            "type": "bar"
           }
          ],
          "barpolar": [
           {
            "marker": {
             "line": {
              "color": "#E5ECF6",
              "width": 0.5
             },
             "pattern": {
              "fillmode": "overlay",
              "size": 10,
              "solidity": 0.2
             }
            },
            "type": "barpolar"
           }
          ],
          "carpet": [
           {
            "aaxis": {
             "endlinecolor": "#2a3f5f",
             "gridcolor": "white",
             "linecolor": "white",
             "minorgridcolor": "white",
             "startlinecolor": "#2a3f5f"
            },
            "baxis": {
             "endlinecolor": "#2a3f5f",
             "gridcolor": "white",
             "linecolor": "white",
             "minorgridcolor": "white",
             "startlinecolor": "#2a3f5f"
            },
            "type": "carpet"
           }
          ],
          "choropleth": [
           {
            "colorbar": {
             "outlinewidth": 0,
             "ticks": ""
            },
            "type": "choropleth"
           }
          ],
          "contour": [
           {
            "colorbar": {
             "outlinewidth": 0,
             "ticks": ""
            },
            "colorscale": [
             [
              0,
              "#0d0887"
             ],
             [
              0.1111111111111111,
              "#46039f"
             ],
             [
              0.2222222222222222,
              "#7201a8"
             ],
             [
              0.3333333333333333,
              "#9c179e"
             ],
             [
              0.4444444444444444,
              "#bd3786"
             ],
             [
              0.5555555555555556,
              "#d8576b"
             ],
             [
              0.6666666666666666,
              "#ed7953"
             ],
             [
              0.7777777777777778,
              "#fb9f3a"
             ],
             [
              0.8888888888888888,
              "#fdca26"
             ],
             [
              1,
              "#f0f921"
             ]
            ],
            "type": "contour"
           }
          ],
          "contourcarpet": [
           {
            "colorbar": {
             "outlinewidth": 0,
             "ticks": ""
            },
            "type": "contourcarpet"
           }
          ],
          "heatmap": [
           {
            "colorbar": {
             "outlinewidth": 0,
             "ticks": ""
            },
            "colorscale": [
             [
              0,
              "#0d0887"
             ],
             [
              0.1111111111111111,
              "#46039f"
             ],
             [
              0.2222222222222222,
              "#7201a8"
             ],
             [
              0.3333333333333333,
              "#9c179e"
             ],
             [
              0.4444444444444444,
              "#bd3786"
             ],
             [
              0.5555555555555556,
              "#d8576b"
             ],
             [
              0.6666666666666666,
              "#ed7953"
             ],
             [
              0.7777777777777778,
              "#fb9f3a"
             ],
             [
              0.8888888888888888,
              "#fdca26"
             ],
             [
              1,
              "#f0f921"
             ]
            ],
            "type": "heatmap"
           }
          ],
          "heatmapgl": [
           {
            "colorbar": {
             "outlinewidth": 0,
             "ticks": ""
            },
            "colorscale": [
             [
              0,
              "#0d0887"
             ],
             [
              0.1111111111111111,
              "#46039f"
             ],
             [
              0.2222222222222222,
              "#7201a8"
             ],
             [
              0.3333333333333333,
              "#9c179e"
             ],
             [
              0.4444444444444444,
              "#bd3786"
             ],
             [
              0.5555555555555556,
              "#d8576b"
             ],
             [
              0.6666666666666666,
              "#ed7953"
             ],
             [
              0.7777777777777778,
              "#fb9f3a"
             ],
             [
              0.8888888888888888,
              "#fdca26"
             ],
             [
              1,
              "#f0f921"
             ]
            ],
            "type": "heatmapgl"
           }
          ],
          "histogram": [
           {
            "marker": {
             "pattern": {
              "fillmode": "overlay",
              "size": 10,
              "solidity": 0.2
             }
            },
            "type": "histogram"
           }
          ],
          "histogram2d": [
           {
            "colorbar": {
             "outlinewidth": 0,
             "ticks": ""
            },
            "colorscale": [
             [
              0,
              "#0d0887"
             ],
             [
              0.1111111111111111,
              "#46039f"
             ],
             [
              0.2222222222222222,
              "#7201a8"
             ],
             [
              0.3333333333333333,
              "#9c179e"
             ],
             [
              0.4444444444444444,
              "#bd3786"
             ],
             [
              0.5555555555555556,
              "#d8576b"
             ],
             [
              0.6666666666666666,
              "#ed7953"
             ],
             [
              0.7777777777777778,
              "#fb9f3a"
             ],
             [
              0.8888888888888888,
              "#fdca26"
             ],
             [
              1,
              "#f0f921"
             ]
            ],
            "type": "histogram2d"
           }
          ],
          "histogram2dcontour": [
           {
            "colorbar": {
             "outlinewidth": 0,
             "ticks": ""
            },
            "colorscale": [
             [
              0,
              "#0d0887"
             ],
             [
              0.1111111111111111,
              "#46039f"
             ],
             [
              0.2222222222222222,
              "#7201a8"
             ],
             [
              0.3333333333333333,
              "#9c179e"
             ],
             [
              0.4444444444444444,
              "#bd3786"
             ],
             [
              0.5555555555555556,
              "#d8576b"
             ],
             [
              0.6666666666666666,
              "#ed7953"
             ],
             [
              0.7777777777777778,
              "#fb9f3a"
             ],
             [
              0.8888888888888888,
              "#fdca26"
             ],
             [
              1,
              "#f0f921"
             ]
            ],
            "type": "histogram2dcontour"
           }
          ],
          "mesh3d": [
           {
            "colorbar": {
             "outlinewidth": 0,
             "ticks": ""
            },
            "type": "mesh3d"
           }
          ],
          "parcoords": [
           {
            "line": {
             "colorbar": {
              "outlinewidth": 0,
              "ticks": ""
             }
            },
            "type": "parcoords"
           }
          ],
          "pie": [
           {
            "automargin": true,
            "type": "pie"
           }
          ],
          "scatter": [
           {
            "marker": {
             "colorbar": {
              "outlinewidth": 0,
              "ticks": ""
             }
            },
            "type": "scatter"
           }
          ],
          "scatter3d": [
           {
            "line": {
             "colorbar": {
              "outlinewidth": 0,
              "ticks": ""
             }
            },
            "marker": {
             "colorbar": {
              "outlinewidth": 0,
              "ticks": ""
             }
            },
            "type": "scatter3d"
           }
          ],
          "scattercarpet": [
           {
            "marker": {
             "colorbar": {
              "outlinewidth": 0,
              "ticks": ""
             }
            },
            "type": "scattercarpet"
           }
          ],
          "scattergeo": [
           {
            "marker": {
             "colorbar": {
              "outlinewidth": 0,
              "ticks": ""
             }
            },
            "type": "scattergeo"
           }
          ],
          "scattergl": [
           {
            "marker": {
             "colorbar": {
              "outlinewidth": 0,
              "ticks": ""
             }
            },
            "type": "scattergl"
           }
          ],
          "scattermapbox": [
           {
            "marker": {
             "colorbar": {
              "outlinewidth": 0,
              "ticks": ""
             }
            },
            "type": "scattermapbox"
           }
          ],
          "scatterpolar": [
           {
            "marker": {
             "colorbar": {
              "outlinewidth": 0,
              "ticks": ""
             }
            },
            "type": "scatterpolar"
           }
          ],
          "scatterpolargl": [
           {
            "marker": {
             "colorbar": {
              "outlinewidth": 0,
              "ticks": ""
             }
            },
            "type": "scatterpolargl"
           }
          ],
          "scatterternary": [
           {
            "marker": {
             "colorbar": {
              "outlinewidth": 0,
              "ticks": ""
             }
            },
            "type": "scatterternary"
           }
          ],
          "surface": [
           {
            "colorbar": {
             "outlinewidth": 0,
             "ticks": ""
            },
            "colorscale": [
             [
              0,
              "#0d0887"
             ],
             [
              0.1111111111111111,
              "#46039f"
             ],
             [
              0.2222222222222222,
              "#7201a8"
             ],
             [
              0.3333333333333333,
              "#9c179e"
             ],
             [
              0.4444444444444444,
              "#bd3786"
             ],
             [
              0.5555555555555556,
              "#d8576b"
             ],
             [
              0.6666666666666666,
              "#ed7953"
             ],
             [
              0.7777777777777778,
              "#fb9f3a"
             ],
             [
              0.8888888888888888,
              "#fdca26"
             ],
             [
              1,
              "#f0f921"
             ]
            ],
            "type": "surface"
           }
          ],
          "table": [
           {
            "cells": {
             "fill": {
              "color": "#EBF0F8"
             },
             "line": {
              "color": "white"
             }
            },
            "header": {
             "fill": {
              "color": "#C8D4E3"
             },
             "line": {
              "color": "white"
             }
            },
            "type": "table"
           }
          ]
         },
         "layout": {
          "annotationdefaults": {
           "arrowcolor": "#2a3f5f",
           "arrowhead": 0,
           "arrowwidth": 1
          },
          "autotypenumbers": "strict",
          "coloraxis": {
           "colorbar": {
            "outlinewidth": 0,
            "ticks": ""
           }
          },
          "colorscale": {
           "diverging": [
            [
             0,
             "#8e0152"
            ],
            [
             0.1,
             "#c51b7d"
            ],
            [
             0.2,
             "#de77ae"
            ],
            [
             0.3,
             "#f1b6da"
            ],
            [
             0.4,
             "#fde0ef"
            ],
            [
             0.5,
             "#f7f7f7"
            ],
            [
             0.6,
             "#e6f5d0"
            ],
            [
             0.7,
             "#b8e186"
            ],
            [
             0.8,
             "#7fbc41"
            ],
            [
             0.9,
             "#4d9221"
            ],
            [
             1,
             "#276419"
            ]
           ],
           "sequential": [
            [
             0,
             "#0d0887"
            ],
            [
             0.1111111111111111,
             "#46039f"
            ],
            [
             0.2222222222222222,
             "#7201a8"
            ],
            [
             0.3333333333333333,
             "#9c179e"
            ],
            [
             0.4444444444444444,
             "#bd3786"
            ],
            [
             0.5555555555555556,
             "#d8576b"
            ],
            [
             0.6666666666666666,
             "#ed7953"
            ],
            [
             0.7777777777777778,
             "#fb9f3a"
            ],
            [
             0.8888888888888888,
             "#fdca26"
            ],
            [
             1,
             "#f0f921"
            ]
           ],
           "sequentialminus": [
            [
             0,
             "#0d0887"
            ],
            [
             0.1111111111111111,
             "#46039f"
            ],
            [
             0.2222222222222222,
             "#7201a8"
            ],
            [
             0.3333333333333333,
             "#9c179e"
            ],
            [
             0.4444444444444444,
             "#bd3786"
            ],
            [
             0.5555555555555556,
             "#d8576b"
            ],
            [
             0.6666666666666666,
             "#ed7953"
            ],
            [
             0.7777777777777778,
             "#fb9f3a"
            ],
            [
             0.8888888888888888,
             "#fdca26"
            ],
            [
             1,
             "#f0f921"
            ]
           ]
          },
          "colorway": [
           "#636efa",
           "#EF553B",
           "#00cc96",
           "#ab63fa",
           "#FFA15A",
           "#19d3f3",
           "#FF6692",
           "#B6E880",
           "#FF97FF",
           "#FECB52"
          ],
          "font": {
           "color": "#2a3f5f"
          },
          "geo": {
           "bgcolor": "white",
           "lakecolor": "white",
           "landcolor": "#E5ECF6",
           "showlakes": true,
           "showland": true,
           "subunitcolor": "white"
          },
          "hoverlabel": {
           "align": "left"
          },
          "hovermode": "closest",
          "mapbox": {
           "style": "light"
          },
          "paper_bgcolor": "white",
          "plot_bgcolor": "#E5ECF6",
          "polar": {
           "angularaxis": {
            "gridcolor": "white",
            "linecolor": "white",
            "ticks": ""
           },
           "bgcolor": "#E5ECF6",
           "radialaxis": {
            "gridcolor": "white",
            "linecolor": "white",
            "ticks": ""
           }
          },
          "scene": {
           "xaxis": {
            "backgroundcolor": "#E5ECF6",
            "gridcolor": "white",
            "gridwidth": 2,
            "linecolor": "white",
            "showbackground": true,
            "ticks": "",
            "zerolinecolor": "white"
           },
           "yaxis": {
            "backgroundcolor": "#E5ECF6",
            "gridcolor": "white",
            "gridwidth": 2,
            "linecolor": "white",
            "showbackground": true,
            "ticks": "",
            "zerolinecolor": "white"
           },
           "zaxis": {
            "backgroundcolor": "#E5ECF6",
            "gridcolor": "white",
            "gridwidth": 2,
            "linecolor": "white",
            "showbackground": true,
            "ticks": "",
            "zerolinecolor": "white"
           }
          },
          "shapedefaults": {
           "line": {
            "color": "#2a3f5f"
           }
          },
          "ternary": {
           "aaxis": {
            "gridcolor": "white",
            "linecolor": "white",
            "ticks": ""
           },
           "baxis": {
            "gridcolor": "white",
            "linecolor": "white",
            "ticks": ""
           },
           "bgcolor": "#E5ECF6",
           "caxis": {
            "gridcolor": "white",
            "linecolor": "white",
            "ticks": ""
           }
          },
          "title": {
           "x": 0.05
          },
          "xaxis": {
           "automargin": true,
           "gridcolor": "white",
           "linecolor": "white",
           "ticks": "",
           "title": {
            "standoff": 15
           },
           "zerolinecolor": "white",
           "zerolinewidth": 2
          },
          "yaxis": {
           "automargin": true,
           "gridcolor": "white",
           "linecolor": "white",
           "ticks": "",
           "title": {
            "standoff": 15
           },
           "zerolinecolor": "white",
           "zerolinewidth": 2
          }
         }
        },
        "xaxis": {
         "anchor": "y",
         "domain": [
          0,
          1
         ],
         "title": {
          "text": "risk"
         }
        },
        "yaxis": {
         "anchor": "x",
         "domain": [
          0,
          1
         ],
         "title": {
          "text": "return"
         }
        }
       }
      }
     },
     "metadata": {},
     "output_type": "display_data"
    }
   ],
   "source": [
    "px.scatter(data_nueva, x='risk', y='return', color=p_sharpe)"
   ]
  }
 ],
 "metadata": {
  "interpreter": {
   "hash": "89eb0ba0d7a5cfde75646fe04fa67f97dee2740233f922d6dcaec62ecffe3139"
  },
  "kernelspec": {
   "display_name": "Python 3.8.8 64-bit ('base': conda)",
   "language": "python",
   "name": "python3"
  },
  "language_info": {
   "codemirror_mode": {
    "name": "ipython",
    "version": 3
   },
   "file_extension": ".py",
   "mimetype": "text/x-python",
   "name": "python",
   "nbconvert_exporter": "python",
   "pygments_lexer": "ipython3",
   "version": "3.8.8"
  },
  "orig_nbformat": 4
 },
 "nbformat": 4,
 "nbformat_minor": 2
}
