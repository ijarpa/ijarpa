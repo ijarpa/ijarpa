{
 "cells": [
  {
   "cell_type": "code",
   "execution_count": 1,
   "metadata": {},
   "outputs": [],
   "source": [
    "import numpy_financial as npf\n",
    "import pandas as pd\n",
    "import matplotlib.pyplot as plt\n",
    "import plotly.express as px\n",
    "import numpy as np"
   ]
  },
  {
   "cell_type": "code",
   "execution_count": 2,
   "metadata": {},
   "outputs": [
    {
     "name": "stdout",
     "output_type": "stream",
     "text": [
      "1469.33\n"
     ]
    }
   ],
   "source": [
    "res = npf.fv(rate=0.08, nper=5, pmt=0, pv=-1000)\n",
    "print(round(res,2))"
   ]
  },
  {
   "cell_type": "code",
   "execution_count": 3,
   "metadata": {},
   "outputs": [
    {
     "name": "stdout",
     "output_type": "stream",
     "text": [
      "100.0\n"
     ]
    },
    {
     "name": "stderr",
     "output_type": "stream",
     "text": [
      "C:\\Users\\ivana\\anaconda3\\lib\\site-packages\\numpy_financial\\_financial.py:130: RuntimeWarning: invalid value encountered in long_scalars\n",
      "  (1 + rate*when)*(temp - 1)/rate)\n"
     ]
    }
   ],
   "source": [
    "print(npf.fv(rate=0, nper=3, pmt=0, pv=-100))"
   ]
  },
  {
   "cell_type": "code",
   "execution_count": 4,
   "metadata": {},
   "outputs": [
    {
     "data": {
      "text/html": [
       "<div>\n",
       "<style scoped>\n",
       "    .dataframe tbody tr th:only-of-type {\n",
       "        vertical-align: middle;\n",
       "    }\n",
       "\n",
       "    .dataframe tbody tr th {\n",
       "        vertical-align: top;\n",
       "    }\n",
       "\n",
       "    .dataframe thead th {\n",
       "        text-align: right;\n",
       "    }\n",
       "</style>\n",
       "<table border=\"1\" class=\"dataframe\">\n",
       "  <thead>\n",
       "    <tr style=\"text-align: right;\">\n",
       "      <th></th>\n",
       "      <th>Name</th>\n",
       "      <th>Title</th>\n",
       "      <th>Pay</th>\n",
       "      <th>Exercised</th>\n",
       "      <th>Year Born</th>\n",
       "    </tr>\n",
       "  </thead>\n",
       "  <tbody>\n",
       "    <tr>\n",
       "      <th>0</th>\n",
       "      <td>Mr. Elon R. Musk</td>\n",
       "      <td>Technoking of Tesla, CEO &amp; Director</td>\n",
       "      <td>NaN</td>\n",
       "      <td>NaN</td>\n",
       "      <td>1972.0</td>\n",
       "    </tr>\n",
       "    <tr>\n",
       "      <th>1</th>\n",
       "      <td>Mr. Zachary J. Kirkhorn</td>\n",
       "      <td>Master of Coin &amp; CFO</td>\n",
       "      <td>300.76k</td>\n",
       "      <td>4.19M</td>\n",
       "      <td>1985.0</td>\n",
       "    </tr>\n",
       "    <tr>\n",
       "      <th>2</th>\n",
       "      <td>Mr. Andrew D. Baglino</td>\n",
       "      <td>Sr. VP of Powertrain &amp; Energy Engineering</td>\n",
       "      <td>283.27k</td>\n",
       "      <td>14.86M</td>\n",
       "      <td>1981.0</td>\n",
       "    </tr>\n",
       "    <tr>\n",
       "      <th>3</th>\n",
       "      <td>Mr. Vaibhav Taneja</td>\n",
       "      <td>Corp. Controller &amp; Chief Accounting Officer</td>\n",
       "      <td>NaN</td>\n",
       "      <td>NaN</td>\n",
       "      <td>1978.0</td>\n",
       "    </tr>\n",
       "    <tr>\n",
       "      <th>4</th>\n",
       "      <td>Mr. Martin Viecha</td>\n",
       "      <td>Sr. Director for Investor Relations</td>\n",
       "      <td>NaN</td>\n",
       "      <td>NaN</td>\n",
       "      <td>NaN</td>\n",
       "    </tr>\n",
       "    <tr>\n",
       "      <th>5</th>\n",
       "      <td>Mr. Alan Prescott</td>\n",
       "      <td>VP of Legal</td>\n",
       "      <td>NaN</td>\n",
       "      <td>NaN</td>\n",
       "      <td>NaN</td>\n",
       "    </tr>\n",
       "    <tr>\n",
       "      <th>6</th>\n",
       "      <td>Mr. Dave Arnold</td>\n",
       "      <td>Sr. Director of Global Communications</td>\n",
       "      <td>NaN</td>\n",
       "      <td>NaN</td>\n",
       "      <td>NaN</td>\n",
       "    </tr>\n",
       "    <tr>\n",
       "      <th>7</th>\n",
       "      <td>Brian Scelfo</td>\n",
       "      <td>Sr. Director of Corp. Devel.</td>\n",
       "      <td>NaN</td>\n",
       "      <td>NaN</td>\n",
       "      <td>NaN</td>\n",
       "    </tr>\n",
       "    <tr>\n",
       "      <th>8</th>\n",
       "      <td>Mr. Jeffrey B. Straubel</td>\n",
       "      <td>Sr. Advisor</td>\n",
       "      <td>NaN</td>\n",
       "      <td>NaN</td>\n",
       "      <td>1976.0</td>\n",
       "    </tr>\n",
       "    <tr>\n",
       "      <th>9</th>\n",
       "      <td>Mr. Franz von Holzhausen</td>\n",
       "      <td>Chief Designer</td>\n",
       "      <td>NaN</td>\n",
       "      <td>NaN</td>\n",
       "      <td>NaN</td>\n",
       "    </tr>\n",
       "  </tbody>\n",
       "</table>\n",
       "</div>"
      ],
      "text/plain": [
       "                       Name                                        Title  \\\n",
       "0          Mr. Elon R. Musk          Technoking of Tesla, CEO & Director   \n",
       "1   Mr. Zachary J. Kirkhorn                         Master of Coin & CFO   \n",
       "2     Mr. Andrew D. Baglino    Sr. VP of Powertrain & Energy Engineering   \n",
       "3        Mr. Vaibhav Taneja  Corp. Controller & Chief Accounting Officer   \n",
       "4         Mr. Martin Viecha          Sr. Director for Investor Relations   \n",
       "5         Mr. Alan Prescott                                  VP of Legal   \n",
       "6           Mr. Dave Arnold        Sr. Director of Global Communications   \n",
       "7              Brian Scelfo                 Sr. Director of Corp. Devel.   \n",
       "8   Mr. Jeffrey B. Straubel                                  Sr. Advisor   \n",
       "9  Mr. Franz von Holzhausen                               Chief Designer   \n",
       "\n",
       "       Pay Exercised  Year Born  \n",
       "0      NaN       NaN     1972.0  \n",
       "1  300.76k     4.19M     1985.0  \n",
       "2  283.27k    14.86M     1981.0  \n",
       "3      NaN       NaN     1978.0  \n",
       "4      NaN       NaN        NaN  \n",
       "5      NaN       NaN        NaN  \n",
       "6      NaN       NaN        NaN  \n",
       "7      NaN       NaN        NaN  \n",
       "8      NaN       NaN     1976.0  \n",
       "9      NaN       NaN        NaN  "
      ]
     },
     "execution_count": 4,
     "metadata": {},
     "output_type": "execute_result"
    }
   ],
   "source": [
    "import requests\n",
    "\n",
    "url_link = 'https://finance.yahoo.com/quote/TSLA/profile'\n",
    "r = requests.get(url_link, headers={'User-Agent':'Mozilla/5.0 (Windows NT 10.0; Win64; x64) AppleWebKit/537.36 (KHTML, like Gecko) Chrome/91.0.4472.124 Safari/537.36'})\n",
    "\n",
    "df = pd.read_html(r.text)\n",
    "df[0]"
   ]
  },
  {
   "cell_type": "code",
   "execution_count": 5,
   "metadata": {},
   "outputs": [
    {
     "data": {
      "text/html": [
       "<div>\n",
       "<style scoped>\n",
       "    .dataframe tbody tr th:only-of-type {\n",
       "        vertical-align: middle;\n",
       "    }\n",
       "\n",
       "    .dataframe tbody tr th {\n",
       "        vertical-align: top;\n",
       "    }\n",
       "\n",
       "    .dataframe thead th {\n",
       "        text-align: right;\n",
       "    }\n",
       "</style>\n",
       "<table border=\"1\" class=\"dataframe\">\n",
       "  <thead>\n",
       "    <tr style=\"text-align: right;\">\n",
       "      <th></th>\n",
       "      <th>Earnings Estimate</th>\n",
       "      <th>Current Qtr. (Mar 2022)</th>\n",
       "      <th>Next Qtr. (Jun 2022)</th>\n",
       "      <th>Current Year (2022)</th>\n",
       "      <th>Next Year (2023)</th>\n",
       "    </tr>\n",
       "  </thead>\n",
       "  <tbody>\n",
       "    <tr>\n",
       "      <th>0</th>\n",
       "      <td>No. of Analysts</td>\n",
       "      <td>24.00</td>\n",
       "      <td>23.00</td>\n",
       "      <td>34.00</td>\n",
       "      <td>27.00</td>\n",
       "    </tr>\n",
       "    <tr>\n",
       "      <th>1</th>\n",
       "      <td>Avg. Estimate</td>\n",
       "      <td>2.24</td>\n",
       "      <td>2.47</td>\n",
       "      <td>10.22</td>\n",
       "      <td>12.39</td>\n",
       "    </tr>\n",
       "    <tr>\n",
       "      <th>2</th>\n",
       "      <td>Low Estimate</td>\n",
       "      <td>1.56</td>\n",
       "      <td>1.46</td>\n",
       "      <td>6.89</td>\n",
       "      <td>6.00</td>\n",
       "    </tr>\n",
       "    <tr>\n",
       "      <th>3</th>\n",
       "      <td>High Estimate</td>\n",
       "      <td>2.79</td>\n",
       "      <td>3.13</td>\n",
       "      <td>14.15</td>\n",
       "      <td>17.70</td>\n",
       "    </tr>\n",
       "    <tr>\n",
       "      <th>4</th>\n",
       "      <td>Year Ago EPS</td>\n",
       "      <td>0.93</td>\n",
       "      <td>1.45</td>\n",
       "      <td>6.78</td>\n",
       "      <td>10.22</td>\n",
       "    </tr>\n",
       "  </tbody>\n",
       "</table>\n",
       "</div>"
      ],
      "text/plain": [
       "  Earnings Estimate  Current Qtr. (Mar 2022)  Next Qtr. (Jun 2022)  \\\n",
       "0   No. of Analysts                    24.00                 23.00   \n",
       "1     Avg. Estimate                     2.24                  2.47   \n",
       "2      Low Estimate                     1.56                  1.46   \n",
       "3     High Estimate                     2.79                  3.13   \n",
       "4      Year Ago EPS                     0.93                  1.45   \n",
       "\n",
       "   Current Year (2022)  Next Year (2023)  \n",
       "0                34.00             27.00  \n",
       "1                10.22             12.39  \n",
       "2                 6.89              6.00  \n",
       "3                14.15             17.70  \n",
       "4                 6.78             10.22  "
      ]
     },
     "execution_count": 5,
     "metadata": {},
     "output_type": "execute_result"
    }
   ],
   "source": [
    "url_link_2 = 'https://finance.yahoo.com/quote/TSLA/analysis?p=TSLA'\n",
    "r = requests.get(url_link_2, headers={'User-Agent':'Mozilla/5.0 (Windows NT 10.0; Win64; x64) AppleWebKit/537.36 (KHTML, like Gecko) Chrome/91.0.4472.124 Safari/537.36'})\n",
    "data_2 = pd.read_html(r.text)\n",
    "data_2 = data_2[0]\n",
    "data_2"
   ]
  },
  {
   "cell_type": "code",
   "execution_count": 6,
   "metadata": {},
   "outputs": [
    {
     "data": {
      "text/html": [
       "<div>\n",
       "<style scoped>\n",
       "    .dataframe tbody tr th:only-of-type {\n",
       "        vertical-align: middle;\n",
       "    }\n",
       "\n",
       "    .dataframe tbody tr th {\n",
       "        vertical-align: top;\n",
       "    }\n",
       "\n",
       "    .dataframe thead th {\n",
       "        text-align: right;\n",
       "    }\n",
       "</style>\n",
       "<table border=\"1\" class=\"dataframe\">\n",
       "  <thead>\n",
       "    <tr style=\"text-align: right;\">\n",
       "      <th></th>\n",
       "      <th>Earnings Estimate</th>\n",
       "      <th>Current Qtr. (Mar 2022)</th>\n",
       "      <th>Next Qtr. (Jun 2022)</th>\n",
       "      <th>Current Year (2022)</th>\n",
       "      <th>Next Year (2023)</th>\n",
       "    </tr>\n",
       "  </thead>\n",
       "  <tbody>\n",
       "    <tr>\n",
       "      <th>1</th>\n",
       "      <td>Avg. Estimate</td>\n",
       "      <td>2.24</td>\n",
       "      <td>2.47</td>\n",
       "      <td>10.22</td>\n",
       "      <td>12.39</td>\n",
       "    </tr>\n",
       "  </tbody>\n",
       "</table>\n",
       "</div>"
      ],
      "text/plain": [
       "  Earnings Estimate  Current Qtr. (Mar 2022)  Next Qtr. (Jun 2022)  \\\n",
       "1     Avg. Estimate                     2.24                  2.47   \n",
       "\n",
       "   Current Year (2022)  Next Year (2023)  \n",
       "1                10.22             12.39  "
      ]
     },
     "execution_count": 6,
     "metadata": {},
     "output_type": "execute_result"
    }
   ],
   "source": [
    "data_2[data_2['Earnings Estimate']=='Avg. Estimate']"
   ]
  },
  {
   "cell_type": "code",
   "execution_count": 7,
   "metadata": {},
   "outputs": [
    {
     "data": {
      "text/html": [
       "<div>\n",
       "<style scoped>\n",
       "    .dataframe tbody tr th:only-of-type {\n",
       "        vertical-align: middle;\n",
       "    }\n",
       "\n",
       "    .dataframe tbody tr th {\n",
       "        vertical-align: top;\n",
       "    }\n",
       "\n",
       "    .dataframe thead th {\n",
       "        text-align: right;\n",
       "    }\n",
       "</style>\n",
       "<table border=\"1\" class=\"dataframe\">\n",
       "  <thead>\n",
       "    <tr style=\"text-align: right;\">\n",
       "      <th></th>\n",
       "      <th>Earnings Estimate</th>\n",
       "      <th>Current Qtr. (Mar 2022)</th>\n",
       "      <th>Next Qtr. (Jun 2022)</th>\n",
       "      <th>Current Year (2022)</th>\n",
       "      <th>Next Year (2023)</th>\n",
       "    </tr>\n",
       "  </thead>\n",
       "  <tbody>\n",
       "    <tr>\n",
       "      <th>1</th>\n",
       "      <td>Avg. Estimate</td>\n",
       "      <td>2.24</td>\n",
       "      <td>2.47</td>\n",
       "      <td>10.22</td>\n",
       "      <td>12.39</td>\n",
       "    </tr>\n",
       "  </tbody>\n",
       "</table>\n",
       "</div>"
      ],
      "text/plain": [
       "  Earnings Estimate  Current Qtr. (Mar 2022)  Next Qtr. (Jun 2022)  \\\n",
       "1     Avg. Estimate                     2.24                  2.47   \n",
       "\n",
       "   Current Year (2022)  Next Year (2023)  \n",
       "1                10.22             12.39  "
      ]
     },
     "execution_count": 7,
     "metadata": {},
     "output_type": "execute_result"
    }
   ],
   "source": [
    "data_2.iloc[1:2]"
   ]
  },
  {
   "cell_type": "code",
   "execution_count": 8,
   "metadata": {},
   "outputs": [
    {
     "data": {
      "image/png": "[encoded data removed]",
      "text/plain": [
       "<Figure size 1080x864 with 1 Axes>"
      ]
     },
     "metadata": {
      "needs_background": "light"
     },
     "output_type": "display_data"
    }
   ],
   "source": [
    "data_2.iloc[1:2].plot(kind='bar', figsize=(15,12))\n",
    "plt.title('Avg. Estimate')\n",
    "plt.xlabel('Promedio')\n",
    "plt.show()"
   ]
  },
  {
   "cell_type": "code",
   "execution_count": 9,
   "metadata": {},
   "outputs": [],
   "source": [
    "import yfinance as yf"
   ]
  },
  {
   "cell_type": "code",
   "execution_count": 10,
   "metadata": {},
   "outputs": [],
   "source": [
    "data = yf.Ticker('TSLA')"
   ]
  },
  {
   "cell_type": "code",
   "execution_count": 11,
   "metadata": {},
   "outputs": [
    {
     "name": "stdout",
     "output_type": "stream",
     "text": [
      "0.102539994\n"
     ]
    }
   ],
   "source": [
    "print(data.info['profitMargins'])"
   ]
  },
  {
   "cell_type": "code",
   "execution_count": 12,
   "metadata": {},
   "outputs": [
    {
     "data": {
      "application/vnd.plotly.v1+json": {
       "config": {
        "plotlyServerURL": "https://plot.ly"
       },
       "data": [
        {
         "hovertemplate": "variable=Revenue<br>Year=%{x}<br>value=%{y}<extra></extra>",
         "legendgroup": "Revenue",
         "line": {
          "color": "#636efa",
          "dash": "solid"
         },
         "marker": {
          "symbol": "circle"
         },
         "mode": "lines",
         "name": "Revenue",
         "orientation": "v",
         "showlegend": true,
         "type": "scatter",
         "x": [
          2018,
          2019,
          2020,
          2021
         ],
         "xaxis": "x",
         "y": [
          21461000000,
          24578000000,
          31536000000,
          53823000000
         ],
         "yaxis": "y"
        },
        {
         "hovertemplate": "variable=Earnings<br>Year=%{x}<br>value=%{y}<extra></extra>",
         "legendgroup": "Earnings",
         "line": {
          "color": "#EF553B",
          "dash": "solid"
         },
         "marker": {
          "symbol": "circle"
         },
         "mode": "lines",
         "name": "Earnings",
         "orientation": "v",
         "showlegend": true,
         "type": "scatter",
         "x": [
          2018,
          2019,
          2020,
          2021
         ],
         "xaxis": "x",
         "y": [
          -976000000,
          -862000000,
          721000000,
          5519000000
         ],
         "yaxis": "y"
        }
       ],
       "layout": {
        "legend": {
         "title": {
          "text": "variable"
         },
         "tracegroupgap": 0
        },
        "margin": {
         "t": 60
        },
        "template": {
         "data": {
          "bar": [
           {
            "error_x": {
             "color": "#2a3f5f"
            },
            "error_y": {
             "color": "#2a3f5f"
            },
            "marker": {
             "line": {
              "color": "#E5ECF6",
              "width": 0.5
             },
             "pattern": {
              "fillmode": "overlay",
              "size": 10,
              "solidity": 0.2
             }
            },
            "type": "bar"
           }
          ],
          "barpolar": [
           {
            "marker": {
             "line": {
              "color": "#E5ECF6",
              "width": 0.5
             },
             "pattern": {
              "fillmode": "overlay",
              "size": 10,
              "solidity": 0.2
             }
            },
            "type": "barpolar"
           }
          ],
          "carpet": [
           {
            "aaxis": {
             "endlinecolor": "#2a3f5f",
             "gridcolor": "white",
             "linecolor": "white",
             "minorgridcolor": "white",
             "startlinecolor": "#2a3f5f"
            },
            "baxis": {
             "endlinecolor": "#2a3f5f",
             "gridcolor": "white",
             "linecolor": "white",
             "minorgridcolor": "white",
             "startlinecolor": "#2a3f5f"
            },
            "type": "carpet"
           }
          ],
          "choropleth": [
           {
            "colorbar": {
             "outlinewidth": 0,
             "ticks": ""
            },
            "type": "choropleth"
           }
          ],
          "contour": [
           {
            "colorbar": {
             "outlinewidth": 0,
             "ticks": ""
            },
            "colorscale": [
             [
              0,
              "#0d0887"
             ],
             [
              0.1111111111111111,
              "#46039f"
             ],
             [
              0.2222222222222222,
              "#7201a8"
             ],
             [
              0.3333333333333333,
              "#9c179e"
             ],
             [
              0.4444444444444444,
              "#bd3786"
             ],
             [
              0.5555555555555556,
              "#d8576b"
             ],
             [
              0.6666666666666666,
              "#ed7953"
             ],
             [
              0.7777777777777778,
              "#fb9f3a"
             ],
             [
              0.8888888888888888,
              "#fdca26"
             ],
             [
              1,
              "#f0f921"
             ]
            ],
            "type": "contour"
           }
          ],
          "contourcarpet": [
           {
            "colorbar": {
             "outlinewidth": 0,
             "ticks": ""
            },
            "type": "contourcarpet"
           }
          ],
          "heatmap": [
           {
            "colorbar": {
             "outlinewidth": 0,
             "ticks": ""
            },
            "colorscale": [
             [
              0,
              "#0d0887"
             ],
             [
              0.1111111111111111,
              "#46039f"
             ],
             [
              0.2222222222222222,
              "#7201a8"
             ],
             [
              0.3333333333333333,
              "#9c179e"
             ],
             [
              0.4444444444444444,
              "#bd3786"
             ],
             [
              0.5555555555555556,
              "#d8576b"
             ],
             [
              0.6666666666666666,
              "#ed7953"
             ],
             [
              0.7777777777777778,
              "#fb9f3a"
             ],
             [
              0.8888888888888888,
              "#fdca26"
             ],
             [
              1,
              "#f0f921"
             ]
            ],
            "type": "heatmap"
           }
          ],
          "heatmapgl": [
           {
            "colorbar": {
             "outlinewidth": 0,
             "ticks": ""
            },
            "colorscale": [
             [
              0,
              "#0d0887"
             ],
             [
              0.1111111111111111,
              "#46039f"
             ],
             [
              0.2222222222222222,
              "#7201a8"
             ],
             [
              0.3333333333333333,
              "#9c179e"
             ],
             [
              0.4444444444444444,
              "#bd3786"
             ],
             [
              0.5555555555555556,
              "#d8576b"
             ],
             [
              0.6666666666666666,
              "#ed7953"
             ],
             [
              0.7777777777777778,
              "#fb9f3a"
             ],
             [
              0.8888888888888888,
              "#fdca26"
             ],
             [
              1,
              "#f0f921"
             ]
            ],
            "type": "heatmapgl"
           }
          ],
          "histogram": [
           {
            "marker": {
             "pattern": {
              "fillmode": "overlay",
              "size": 10,
              "solidity": 0.2
             }
            },
            "type": "histogram"
           }
          ],
          "histogram2d": [
           {
            "colorbar": {
             "outlinewidth": 0,
             "ticks": ""
            },
            "colorscale": [
             [
              0,
              "#0d0887"
             ],
             [
              0.1111111111111111,
              "#46039f"
             ],
             [
              0.2222222222222222,
              "#7201a8"
             ],
             [
              0.3333333333333333,
              "#9c179e"
             ],
             [
              0.4444444444444444,
              "#bd3786"
             ],
             [
              0.5555555555555556,
              "#d8576b"
             ],
             [
              0.6666666666666666,
              "#ed7953"
             ],
             [
              0.7777777777777778,
              "#fb9f3a"
             ],
             [
              0.8888888888888888,
              "#fdca26"
             ],
             [
              1,
              "#f0f921"
             ]
            ],
            "type": "histogram2d"
           }
          ],
          "histogram2dcontour": [
           {
            "colorbar": {
             "outlinewidth": 0,
             "ticks": ""
            },
            "colorscale": [
             [
              0,
              "#0d0887"
             ],
             [
              0.1111111111111111,
              "#46039f"
             ],
             [
              0.2222222222222222,
              "#7201a8"
             ],
             [
              0.3333333333333333,
              "#9c179e"
             ],
             [
              0.4444444444444444,
              "#bd3786"
             ],
             [
              0.5555555555555556,
              "#d8576b"
             ],
             [
              0.6666666666666666,
              "#ed7953"
             ],
             [
              0.7777777777777778,
              "#fb9f3a"
             ],
             [
              0.8888888888888888,
              "#fdca26"
             ],
             [
              1,
              "#f0f921"
             ]
            ],
            "type": "histogram2dcontour"
           }
          ],
          "mesh3d": [
           {
            "colorbar": {
             "outlinewidth": 0,
             "ticks": ""
            },
            "type": "mesh3d"
           }
          ],
          "parcoords": [
           {
            "line": {
             "colorbar": {
              "outlinewidth": 0,
              "ticks": ""
             }
            },
            "type": "parcoords"
           }
          ],
          "pie": [
           {
            "automargin": true,
            "type": "pie"
           }
          ],
          "scatter": [
           {
            "marker": {
             "colorbar": {
              "outlinewidth": 0,
              "ticks": ""
             }
            },
            "type": "scatter"
           }
          ],
          "scatter3d": [
           {
            "line": {
             "colorbar": {
              "outlinewidth": 0,
              "ticks": ""
             }
            },
            "marker": {
             "colorbar": {
              "outlinewidth": 0,
              "ticks": ""
             }
            },
            "type": "scatter3d"
           }
          ],
          "scattercarpet": [
           {
            "marker": {
             "colorbar": {
              "outlinewidth": 0,
              "ticks": ""
             }
            },
            "type": "scattercarpet"
           }
          ],
          "scattergeo": [
           {
            "marker": {
             "colorbar": {
              "outlinewidth": 0,
              "ticks": ""
             }
            },
            "type": "scattergeo"
           }
          ],
          "scattergl": [
           {
            "marker": {
             "colorbar": {
              "outlinewidth": 0,
              "ticks": ""
             }
            },
            "type": "scattergl"
           }
          ],
          "scattermapbox": [
           {
            "marker": {
             "colorbar": {
              "outlinewidth": 0,
              "ticks": ""
             }
            },
            "type": "scattermapbox"
           }
          ],
          "scatterpolar": [
           {
            "marker": {
             "colorbar": {
              "outlinewidth": 0,
              "ticks": ""
             }
            },
            "type": "scatterpolar"
           }
          ],
          "scatterpolargl": [
           {
            "marker": {
             "colorbar": {
              "outlinewidth": 0,
              "ticks": ""
             }
            },
            "type": "scatterpolargl"
           }
          ],
          "scatterternary": [
           {
            "marker": {
             "colorbar": {
              "outlinewidth": 0,
              "ticks": ""
             }
            },
            "type": "scatterternary"
           }
          ],
          "surface": [
           {
            "colorbar": {
             "outlinewidth": 0,
             "ticks": ""
            },
            "colorscale": [
             [
              0,
              "#0d0887"
             ],
             [
              0.1111111111111111,
              "#46039f"
             ],
             [
              0.2222222222222222,
              "#7201a8"
             ],
             [
              0.3333333333333333,
              "#9c179e"
             ],
             [
              0.4444444444444444,
              "#bd3786"
             ],
             [
              0.5555555555555556,
              "#d8576b"
             ],
             [
              0.6666666666666666,
              "#ed7953"
             ],
             [
              0.7777777777777778,
              "#fb9f3a"
             ],
             [
              0.8888888888888888,
              "#fdca26"
             ],
             [
              1,
              "#f0f921"
             ]
            ],
            "type": "surface"
           }
          ],
          "table": [
           {
            "cells": {
             "fill": {
              "color": "#EBF0F8"
             },
             "line": {
              "color": "white"
             }
            },
            "header": {
             "fill": {
              "color": "#C8D4E3"
             },
             "line": {
              "color": "white"
             }
            },
            "type": "table"
           }
          ]
         },
         "layout": {
          "annotationdefaults": {
           "arrowcolor": "#2a3f5f",
           "arrowhead": 0,
           "arrowwidth": 1
          },
          "autotypenumbers": "strict",
          "coloraxis": {
           "colorbar": {
            "outlinewidth": 0,
            "ticks": ""
           }
          },
          "colorscale": {
           "diverging": [
            [
             0,
             "#8e0152"
            ],
            [
             0.1,
             "#c51b7d"
            ],
            [
             0.2,
             "#de77ae"
            ],
            [
             0.3,
             "#f1b6da"
            ],
            [
             0.4,
             "#fde0ef"
            ],
            [
             0.5,
             "#f7f7f7"
            ],
            [
             0.6,
             "#e6f5d0"
            ],
            [
             0.7,
             "#b8e186"
            ],
            [
             0.8,
             "#7fbc41"
            ],
            [
             0.9,
             "#4d9221"
            ],
            [
             1,
             "#276419"
            ]
           ],
           "sequential": [
            [
             0,
             "#0d0887"
            ],
            [
             0.1111111111111111,
             "#46039f"
            ],
            [
             0.2222222222222222,
             "#7201a8"
            ],
            [
             0.3333333333333333,
             "#9c179e"
            ],
            [
             0.4444444444444444,
             "#bd3786"
            ],
            [
             0.5555555555555556,
             "#d8576b"
            ],
            [
             0.6666666666666666,
             "#ed7953"
            ],
            [
             0.7777777777777778,
             "#fb9f3a"
            ],
            [
             0.8888888888888888,
             "#fdca26"
            ],
            [
             1,
             "#f0f921"
            ]
           ],
           "sequentialminus": [
            [
             0,
             "#0d0887"
            ],
            [
             0.1111111111111111,
             "#46039f"
            ],
            [
             0.2222222222222222,
             "#7201a8"
            ],
            [
             0.3333333333333333,
             "#9c179e"
            ],
            [
             0.4444444444444444,
             "#bd3786"
            ],
            [
             0.5555555555555556,
             "#d8576b"
            ],
            [
             0.6666666666666666,
             "#ed7953"
            ],
            [
             0.7777777777777778,
             "#fb9f3a"
            ],
            [
             0.8888888888888888,
             "#fdca26"
            ],
            [
             1,
             "#f0f921"
            ]
           ]
          },
          "colorway": [
           "#636efa",
           "#EF553B",
           "#00cc96",
           "#ab63fa",
           "#FFA15A",
           "#19d3f3",
           "#FF6692",
           "#B6E880",
           "#FF97FF",
           "#FECB52"
          ],
          "font": {
           "color": "#2a3f5f"
          },
          "geo": {
           "bgcolor": "white",
           "lakecolor": "white",
           "landcolor": "#E5ECF6",
           "showlakes": true,
           "showland": true,
           "subunitcolor": "white"
          },
          "hoverlabel": {
           "align": "left"
          },
          "hovermode": "closest",
          "mapbox": {
           "style": "light"
          },
          "paper_bgcolor": "white",
          "plot_bgcolor": "#E5ECF6",
          "polar": {
           "angularaxis": {
            "gridcolor": "white",
            "linecolor": "white",
            "ticks": ""
           },
           "bgcolor": "#E5ECF6",
           "radialaxis": {
            "gridcolor": "white",
            "linecolor": "white",
            "ticks": ""
           }
          },
          "scene": {
           "xaxis": {
            "backgroundcolor": "#E5ECF6",
            "gridcolor": "white",
            "gridwidth": 2,
            "linecolor": "white",
            "showbackground": true,
            "ticks": "",
            "zerolinecolor": "white"
           },
           "yaxis": {
            "backgroundcolor": "#E5ECF6",
            "gridcolor": "white",
            "gridwidth": 2,
            "linecolor": "white",
            "showbackground": true,
            "ticks": "",
            "zerolinecolor": "white"
           },
           "zaxis": {
            "backgroundcolor": "#E5ECF6",
            "gridcolor": "white",
            "gridwidth": 2,
            "linecolor": "white",
            "showbackground": true,
            "ticks": "",
            "zerolinecolor": "white"
           }
          },
          "shapedefaults": {
           "line": {
            "color": "#2a3f5f"
           }
          },
          "ternary": {
           "aaxis": {
            "gridcolor": "white",
            "linecolor": "white",
            "ticks": ""
           },
           "baxis": {
            "gridcolor": "white",
            "linecolor": "white",
            "ticks": ""
           },
           "bgcolor": "#E5ECF6",
           "caxis": {
            "gridcolor": "white",
            "linecolor": "white",
            "ticks": ""
           }
          },
          "title": {
           "x": 0.05
          },
          "xaxis": {
           "automargin": true,
           "gridcolor": "white",
           "linecolor": "white",
           "ticks": "",
           "title": {
            "standoff": 15
           },
           "zerolinecolor": "white",
           "zerolinewidth": 2
          },
          "yaxis": {
           "automargin": true,
           "gridcolor": "white",
           "linecolor": "white",
           "ticks": "",
           "title": {
            "standoff": 15
           },
           "zerolinecolor": "white",
           "zerolinewidth": 2
          }
         }
        },
        "xaxis": {
         "anchor": "y",
         "domain": [
          0,
          1
         ],
         "title": {
          "text": "Year"
         }
        },
        "yaxis": {
         "anchor": "x",
         "domain": [
          0,
          1
         ],
         "title": {
          "text": "value"
         }
        }
       }
      }
     },
     "metadata": {},
     "output_type": "display_data"
    }
   ],
   "source": [
    "x = data.earnings\n",
    "px.line(x)"
   ]
  },
  {
   "cell_type": "code",
   "execution_count": 13,
   "metadata": {},
   "outputs": [
    {
     "data": {
      "text/plain": [
       "[<matplotlib.lines.Line2D at 0x1d3d153cfa0>,\n",
       " <matplotlib.lines.Line2D at 0x1d3d1def070>]"
      ]
     },
     "execution_count": 13,
     "metadata": {},
     "output_type": "execute_result"
    },
    {
     "data": {
      "image/png": "[encoded data removed]",
      "text/plain": [
       "<Figure size 432x288 with 1 Axes>"
      ]
     },
     "metadata": {
      "needs_background": "light"
     },
     "output_type": "display_data"
    }
   ],
   "source": [
    "plt.plot(x)"
   ]
  },
  {
   "cell_type": "code",
   "execution_count": 14,
   "metadata": {},
   "outputs": [
    {
     "name": "stdout",
     "output_type": "stream",
     "text": [
      "        0                                      1\n",
      "0  19.96%        % of Shares Held by All Insider\n",
      "1  42.30%       % of Shares Held by Institutions\n",
      "2  52.85%        % of Float Held by Institutions\n",
      "3    3012  Number of Institutions Holding Shares\n"
     ]
    }
   ],
   "source": [
    "print(data.major_holders)"
   ]
  },
  {
   "cell_type": "code",
   "execution_count": 15,
   "metadata": {},
   "outputs": [
    {
     "data": {
      "text/html": [
       "<div>\n",
       "<style scoped>\n",
       "    .dataframe tbody tr th:only-of-type {\n",
       "        vertical-align: middle;\n",
       "    }\n",
       "\n",
       "    .dataframe tbody tr th {\n",
       "        vertical-align: top;\n",
       "    }\n",
       "\n",
       "    .dataframe thead th {\n",
       "        text-align: right;\n",
       "    }\n",
       "</style>\n",
       "<table border=\"1\" class=\"dataframe\">\n",
       "  <thead>\n",
       "    <tr style=\"text-align: right;\">\n",
       "      <th></th>\n",
       "      <th>Holder</th>\n",
       "      <th>Shares</th>\n",
       "      <th>Date Reported</th>\n",
       "      <th>% Out</th>\n",
       "      <th>Value</th>\n",
       "    </tr>\n",
       "  </thead>\n",
       "  <tbody>\n",
       "    <tr>\n",
       "      <th>0</th>\n",
       "      <td>Vanguard Group, Inc. (The)</td>\n",
       "      <td>61992012</td>\n",
       "      <td>2021-09-29</td>\n",
       "      <td>0.0617</td>\n",
       "      <td>48073565465</td>\n",
       "    </tr>\n",
       "    <tr>\n",
       "      <th>1</th>\n",
       "      <td>Blackrock Inc.</td>\n",
       "      <td>52829488</td>\n",
       "      <td>2021-09-29</td>\n",
       "      <td>0.0526</td>\n",
       "      <td>40968211354</td>\n",
       "    </tr>\n",
       "    <tr>\n",
       "      <th>2</th>\n",
       "      <td>Capital World Investors</td>\n",
       "      <td>37427314</td>\n",
       "      <td>2021-09-29</td>\n",
       "      <td>0.0373</td>\n",
       "      <td>29024133460</td>\n",
       "    </tr>\n",
       "    <tr>\n",
       "      <th>3</th>\n",
       "      <td>State Street Corporation</td>\n",
       "      <td>31230141</td>\n",
       "      <td>2021-09-29</td>\n",
       "      <td>0.0311</td>\n",
       "      <td>24218349742</td>\n",
       "    </tr>\n",
       "    <tr>\n",
       "      <th>4</th>\n",
       "      <td>Geode Capital Management, LLC</td>\n",
       "      <td>13169939</td>\n",
       "      <td>2021-09-29</td>\n",
       "      <td>0.0131</td>\n",
       "      <td>10213024295</td>\n",
       "    </tr>\n",
       "    <tr>\n",
       "      <th>5</th>\n",
       "      <td>Baillie Gifford and Company</td>\n",
       "      <td>10798014</td>\n",
       "      <td>2021-12-30</td>\n",
       "      <td>0.0108</td>\n",
       "      <td>11411125234</td>\n",
       "    </tr>\n",
       "    <tr>\n",
       "      <th>6</th>\n",
       "      <td>Jennison Associates LLC</td>\n",
       "      <td>10630339</td>\n",
       "      <td>2021-09-29</td>\n",
       "      <td>0.0106</td>\n",
       "      <td>8243615287</td>\n",
       "    </tr>\n",
       "    <tr>\n",
       "      <th>7</th>\n",
       "      <td>FMR, LLC</td>\n",
       "      <td>9921292</td>\n",
       "      <td>2021-09-29</td>\n",
       "      <td>0.0099</td>\n",
       "      <td>7693763520</td>\n",
       "    </tr>\n",
       "    <tr>\n",
       "      <th>8</th>\n",
       "      <td>Northern Trust Corporation</td>\n",
       "      <td>8634516</td>\n",
       "      <td>2021-09-29</td>\n",
       "      <td>0.0086</td>\n",
       "      <td>6695894467</td>\n",
       "    </tr>\n",
       "    <tr>\n",
       "      <th>9</th>\n",
       "      <td>Norges Bank Investment Management</td>\n",
       "      <td>7790070</td>\n",
       "      <td>2020-12-30</td>\n",
       "      <td>0.0078</td>\n",
       "      <td>5497218696</td>\n",
       "    </tr>\n",
       "  </tbody>\n",
       "</table>\n",
       "</div>"
      ],
      "text/plain": [
       "                              Holder    Shares Date Reported   % Out  \\\n",
       "0         Vanguard Group, Inc. (The)  61992012    2021-09-29  0.0617   \n",
       "1                     Blackrock Inc.  52829488    2021-09-29  0.0526   \n",
       "2            Capital World Investors  37427314    2021-09-29  0.0373   \n",
       "3           State Street Corporation  31230141    2021-09-29  0.0311   \n",
       "4      Geode Capital Management, LLC  13169939    2021-09-29  0.0131   \n",
       "5        Baillie Gifford and Company  10798014    2021-12-30  0.0108   \n",
       "6            Jennison Associates LLC  10630339    2021-09-29  0.0106   \n",
       "7                           FMR, LLC   9921292    2021-09-29  0.0099   \n",
       "8         Northern Trust Corporation   8634516    2021-09-29  0.0086   \n",
       "9  Norges Bank Investment Management   7790070    2020-12-30  0.0078   \n",
       "\n",
       "         Value  \n",
       "0  48073565465  \n",
       "1  40968211354  \n",
       "2  29024133460  \n",
       "3  24218349742  \n",
       "4  10213024295  \n",
       "5  11411125234  \n",
       "6   8243615287  \n",
       "7   7693763520  \n",
       "8   6695894467  \n",
       "9   5497218696  "
      ]
     },
     "execution_count": 15,
     "metadata": {},
     "output_type": "execute_result"
    }
   ],
   "source": [
    "data.institutional_holders"
   ]
  },
  {
   "cell_type": "code",
   "execution_count": 16,
   "metadata": {},
   "outputs": [
    {
     "data": {
      "text/plain": [
       "{'zip': '78725',\n",
       " 'sector': 'Consumer Cyclical',\n",
       " 'longBusinessSummary': 'Tesla, Inc. designs, develops, manufactures, leases, and sells electric vehicles, and energy generation and storage systems in the United States, China, and internationally. The company operates in two segments, Automotive, and Energy Generation and Storage. The Automotive segment offers electric vehicles, as well as sells automotive regulatory credits. It provides sedans and sport utility vehicles through direct and used vehicle sales, a network of Tesla Superchargers, and in-app upgrades; and purchase financing and leasing services. This segment is also involved in the provision of non-warranty after-sales vehicle services, sale of used vehicles, retail merchandise, and vehicle insurance, as well as sale of products through its subsidiaries to third party customers; services for electric vehicles through its company-owned service locations, and Tesla mobile service technicians; and vehicle limited warranties and extended service plans. The Energy Generation and Storage segment engages in the design, manufacture, installation, sale, and leasing of solar energy generation and energy storage products, and related services to residential, commercial, and industrial customers and utilities through its website, stores, and galleries, as well as through a network of channel partners. This segment also offers service and repairs to its energy product customers, including under warranty; and various financing options to its solar customers. The company was formerly known as Tesla Motors, Inc. and changed its name to Tesla, Inc. in February 2017. Tesla, Inc. was founded in 2003 and is headquartered in Austin, Texas.',\n",
       " 'city': 'Austin',\n",
       " 'phone': '650-681-5000',\n",
       " 'state': 'TX',\n",
       " 'country': 'United States',\n",
       " 'companyOfficers': [],\n",
       " 'website': 'https://www.tesla.com',\n",
       " 'maxAge': 1,\n",
       " 'address1': '13101 Harold Green Road',\n",
       " 'industry': 'Auto Manufacturers',\n",
       " 'ebitdaMargins': 0.1723,\n",
       " 'profitMargins': 0.102539994,\n",
       " 'grossMargins': 0.25279,\n",
       " 'operatingCashflow': None,\n",
       " 'revenueGrowth': 0.649,\n",
       " 'operatingMargins': 0.121190004,\n",
       " 'ebitda': 9273665536,\n",
       " 'targetLowPrice': 250,\n",
       " 'recommendationKey': 'hold',\n",
       " 'grossProfits': 13606000000,\n",
       " 'freeCashflow': None,\n",
       " 'targetMedianPrice': 1045,\n",
       " 'currentPrice': 923.32,\n",
       " 'earningsGrowth': 7.549,\n",
       " 'currentRatio': 1.375,\n",
       " 'returnOnAssets': 0.07135,\n",
       " 'numberOfAnalystOpinions': 35,\n",
       " 'targetMeanPrice': 967.07,\n",
       " 'debtToEquity': 21.638,\n",
       " 'returnOnEquity': 0.19974001,\n",
       " 'targetHighPrice': 1480,\n",
       " 'totalCash': 17706999808,\n",
       " 'totalDebt': 6833999872,\n",
       " 'totalRevenue': 53823000576,\n",
       " 'totalCashPerShare': 17.632,\n",
       " 'financialCurrency': 'USD',\n",
       " 'revenuePerShare': 47.786,\n",
       " 'quickRatio': 0.996,\n",
       " 'recommendationMean': 2.6,\n",
       " 'exchange': 'NMS',\n",
       " 'shortName': 'Tesla, Inc.',\n",
       " 'longName': 'Tesla, Inc.',\n",
       " 'exchangeTimezoneName': 'America/New_York',\n",
       " 'exchangeTimezoneShortName': 'EST',\n",
       " 'isEsgPopulated': False,\n",
       " 'gmtOffSetMilliseconds': '-18000000',\n",
       " 'quoteType': 'EQUITY',\n",
       " 'symbol': 'TSLA',\n",
       " 'messageBoardId': 'finmb_27444752',\n",
       " 'market': 'us_market',\n",
       " 'annualHoldingsTurnover': None,\n",
       " 'enterpriseToRevenue': 17.052,\n",
       " 'beta3Year': None,\n",
       " 'enterpriseToEbitda': 98.966,\n",
       " '52WeekChange': 0.06937528,\n",
       " 'morningStarRiskRating': None,\n",
       " 'forwardEps': 12.39,\n",
       " 'revenueQuarterlyGrowth': None,\n",
       " 'sharesOutstanding': 1004259968,\n",
       " 'fundInceptionDate': None,\n",
       " 'annualReportExpenseRatio': None,\n",
       " 'totalAssets': None,\n",
       " 'bookValue': 30.069,\n",
       " 'sharesShort': 22461226,\n",
       " 'sharesPercentSharesOut': 0.0224,\n",
       " 'fundFamily': None,\n",
       " 'lastFiscalYearEnd': 1640908800,\n",
       " 'heldPercentInstitutions': 0.42301998,\n",
       " 'netIncomeToCommon': 5519000064,\n",
       " 'trailingEps': 4.9,\n",
       " 'lastDividendValue': None,\n",
       " 'SandP52WeekChange': 0.14938748,\n",
       " 'priceToBook': 30.706707,\n",
       " 'heldPercentInsiders': 0.1996,\n",
       " 'nextFiscalYearEnd': 1703980800,\n",
       " 'yield': None,\n",
       " 'mostRecentQuarter': 1640908800,\n",
       " 'shortRatio': 0.87,\n",
       " 'sharesShortPreviousMonthDate': 1639526400,\n",
       " 'floatShares': 809377215,\n",
       " 'beta': 2.006464,\n",
       " 'enterpriseValue': 917778792448,\n",
       " 'priceHint': 2,\n",
       " 'threeYearAverageReturn': None,\n",
       " 'lastSplitDate': 1598832000,\n",
       " 'lastSplitFactor': '5:1',\n",
       " 'legalType': None,\n",
       " 'lastDividendDate': None,\n",
       " 'morningStarOverallRating': None,\n",
       " 'earningsQuarterlyGrowth': 7.596,\n",
       " 'priceToSalesTrailing12Months': 17.227827,\n",
       " 'dateShortInterest': 1642118400,\n",
       " 'pegRatio': 4.02,\n",
       " 'ytdReturn': None,\n",
       " 'forwardPE': 74.521385,\n",
       " 'lastCapGain': None,\n",
       " 'shortPercentOfFloat': 0.0275,\n",
       " 'sharesShortPriorMonth': 25817321,\n",
       " 'impliedSharesOutstanding': None,\n",
       " 'category': None,\n",
       " 'fiveYearAverageReturn': None,\n",
       " 'previousClose': 891.14,\n",
       " 'regularMarketOpen': 897.22,\n",
       " 'twoHundredDayAverage': 819.1011,\n",
       " 'trailingAnnualDividendYield': 0,\n",
       " 'payoutRatio': 0,\n",
       " 'volume24Hr': None,\n",
       " 'regularMarketDayHigh': 936.5,\n",
       " 'navPrice': None,\n",
       " 'averageDailyVolume10Day': 34052270,\n",
       " 'regularMarketPreviousClose': 891.14,\n",
       " 'fiftyDayAverage': 1014.9998,\n",
       " 'trailingAnnualDividendRate': 0,\n",
       " 'open': 897.22,\n",
       " 'toCurrency': None,\n",
       " 'averageVolume10days': 34052270,\n",
       " 'expireDate': None,\n",
       " 'algorithm': None,\n",
       " 'dividendRate': None,\n",
       " 'exDividendDate': None,\n",
       " 'circulatingSupply': None,\n",
       " 'startDate': None,\n",
       " 'regularMarketDayLow': 881.32,\n",
       " 'currency': 'USD',\n",
       " 'trailingPE': 188.43265,\n",
       " 'regularMarketVolume': 24541822,\n",
       " 'lastMarket': None,\n",
       " 'maxSupply': None,\n",
       " 'openInterest': None,\n",
       " 'marketCap': 927253331968,\n",
       " 'volumeAllCurrencies': None,\n",
       " 'strikePrice': None,\n",
       " 'averageVolume': 27646733,\n",
       " 'dayLow': 881.32,\n",
       " 'ask': 926.6,\n",
       " 'askSize': 1000,\n",
       " 'volume': 24541822,\n",
       " 'fiftyTwoWeekHigh': 1243.49,\n",
       " 'fromCurrency': None,\n",
       " 'fiveYearAvgDividendYield': None,\n",
       " 'fiftyTwoWeekLow': 539.49,\n",
       " 'bid': 926,\n",
       " 'tradeable': False,\n",
       " 'dividendYield': None,\n",
       " 'bidSize': 2200,\n",
       " 'dayHigh': 936.5,\n",
       " 'regularMarketPrice': 923.32,\n",
       " 'preMarketPrice': None,\n",
       " 'logo_url': 'https://logo.clearbit.com/tesla.com',\n",
       " 'trailingPegRatio': 2.6328}"
      ]
     },
     "execution_count": 16,
     "metadata": {},
     "output_type": "execute_result"
    }
   ],
   "source": [
    "data.info"
   ]
  },
  {
   "cell_type": "code",
   "execution_count": 17,
   "metadata": {},
   "outputs": [
    {
     "data": {
      "text/html": [
       "<div>\n",
       "<style scoped>\n",
       "    .dataframe tbody tr th:only-of-type {\n",
       "        vertical-align: middle;\n",
       "    }\n",
       "\n",
       "    .dataframe tbody tr th {\n",
       "        vertical-align: top;\n",
       "    }\n",
       "\n",
       "    .dataframe thead th {\n",
       "        text-align: right;\n",
       "    }\n",
       "</style>\n",
       "<table border=\"1\" class=\"dataframe\">\n",
       "  <thead>\n",
       "    <tr style=\"text-align: right;\">\n",
       "      <th></th>\n",
       "      <th>2021-12-31</th>\n",
       "      <th>2020-12-31</th>\n",
       "      <th>2019-12-31</th>\n",
       "      <th>2018-12-31</th>\n",
       "    </tr>\n",
       "  </thead>\n",
       "  <tbody>\n",
       "    <tr>\n",
       "      <th>Net Income</th>\n",
       "      <td>5.519000e+09</td>\n",
       "      <td>7.210000e+08</td>\n",
       "      <td>-8.620000e+08</td>\n",
       "      <td>-9.760000e+08</td>\n",
       "    </tr>\n",
       "    <tr>\n",
       "      <th>Change To Liabilities</th>\n",
       "      <td>0.000000e+00</td>\n",
       "      <td>2.423000e+09</td>\n",
       "      <td>1.447000e+09</td>\n",
       "      <td>2.203000e+09</td>\n",
       "    </tr>\n",
       "    <tr>\n",
       "      <th>Total Cashflows From Investing Activities</th>\n",
       "      <td>NaN</td>\n",
       "      <td>-3.132000e+09</td>\n",
       "      <td>-1.436000e+09</td>\n",
       "      <td>-2.337000e+09</td>\n",
       "    </tr>\n",
       "    <tr>\n",
       "      <th>Net Borrowings</th>\n",
       "      <td>NaN</td>\n",
       "      <td>-2.488000e+09</td>\n",
       "      <td>7.980000e+08</td>\n",
       "      <td>8.900000e+07</td>\n",
       "    </tr>\n",
       "    <tr>\n",
       "      <th>Total Cash From Financing Activities</th>\n",
       "      <td>NaN</td>\n",
       "      <td>9.973000e+09</td>\n",
       "      <td>1.529000e+09</td>\n",
       "      <td>5.740000e+08</td>\n",
       "    </tr>\n",
       "    <tr>\n",
       "      <th>Change To Operating Activities</th>\n",
       "      <td>NaN</td>\n",
       "      <td>-1.165000e+09</td>\n",
       "      <td>-1.000000e+09</td>\n",
       "      <td>-6.250000e+08</td>\n",
       "    </tr>\n",
       "    <tr>\n",
       "      <th>Issuance Of Stock</th>\n",
       "      <td>NaN</td>\n",
       "      <td>1.268600e+10</td>\n",
       "      <td>1.111000e+09</td>\n",
       "      <td>2.960000e+08</td>\n",
       "    </tr>\n",
       "    <tr>\n",
       "      <th>Change In Cash</th>\n",
       "      <td>NaN</td>\n",
       "      <td>1.311800e+10</td>\n",
       "      <td>2.506000e+09</td>\n",
       "      <td>3.120000e+08</td>\n",
       "    </tr>\n",
       "    <tr>\n",
       "      <th>Effect Of Exchange Rate</th>\n",
       "      <td>NaN</td>\n",
       "      <td>3.340000e+08</td>\n",
       "      <td>8.000000e+06</td>\n",
       "      <td>-2.300000e+07</td>\n",
       "    </tr>\n",
       "    <tr>\n",
       "      <th>Total Cash From Operating Activities</th>\n",
       "      <td>NaN</td>\n",
       "      <td>5.943000e+09</td>\n",
       "      <td>2.405000e+09</td>\n",
       "      <td>2.098000e+09</td>\n",
       "    </tr>\n",
       "    <tr>\n",
       "      <th>Depreciation</th>\n",
       "      <td>NaN</td>\n",
       "      <td>2.322000e+09</td>\n",
       "      <td>2.092000e+09</td>\n",
       "      <td>1.888000e+09</td>\n",
       "    </tr>\n",
       "    <tr>\n",
       "      <th>Other Cashflows From Investing Activities</th>\n",
       "      <td>NaN</td>\n",
       "      <td>1.230000e+08</td>\n",
       "      <td>4.600000e+07</td>\n",
       "      <td>4.600000e+07</td>\n",
       "    </tr>\n",
       "    <tr>\n",
       "      <th>Change To Inventory</th>\n",
       "      <td>NaN</td>\n",
       "      <td>-4.220000e+08</td>\n",
       "      <td>-4.290000e+08</td>\n",
       "      <td>-1.023000e+09</td>\n",
       "    </tr>\n",
       "    <tr>\n",
       "      <th>Change To Account Receivables</th>\n",
       "      <td>NaN</td>\n",
       "      <td>-6.520000e+08</td>\n",
       "      <td>-3.670000e+08</td>\n",
       "      <td>-4.970000e+08</td>\n",
       "    </tr>\n",
       "    <tr>\n",
       "      <th>Other Cashflows From Financing Activities</th>\n",
       "      <td>NaN</td>\n",
       "      <td>-2.250000e+08</td>\n",
       "      <td>-3.800000e+08</td>\n",
       "      <td>1.890000e+08</td>\n",
       "    </tr>\n",
       "    <tr>\n",
       "      <th>Change To Netincome</th>\n",
       "      <td>NaN</td>\n",
       "      <td>2.536000e+09</td>\n",
       "      <td>1.336000e+09</td>\n",
       "      <td>9.690000e+08</td>\n",
       "    </tr>\n",
       "    <tr>\n",
       "      <th>Capital Expenditures</th>\n",
       "      <td>NaN</td>\n",
       "      <td>-3.232000e+09</td>\n",
       "      <td>-1.432000e+09</td>\n",
       "      <td>-2.319000e+09</td>\n",
       "    </tr>\n",
       "  </tbody>\n",
       "</table>\n",
       "</div>"
      ],
      "text/plain": [
       "                                             2021-12-31    2020-12-31  \\\n",
       "Net Income                                 5.519000e+09  7.210000e+08   \n",
       "Change To Liabilities                      0.000000e+00  2.423000e+09   \n",
       "Total Cashflows From Investing Activities           NaN -3.132000e+09   \n",
       "Net Borrowings                                      NaN -2.488000e+09   \n",
       "Total Cash From Financing Activities                NaN  9.973000e+09   \n",
       "Change To Operating Activities                      NaN -1.165000e+09   \n",
       "Issuance Of Stock                                   NaN  1.268600e+10   \n",
       "Change In Cash                                      NaN  1.311800e+10   \n",
       "Effect Of Exchange Rate                             NaN  3.340000e+08   \n",
       "Total Cash From Operating Activities                NaN  5.943000e+09   \n",
       "Depreciation                                        NaN  2.322000e+09   \n",
       "Other Cashflows From Investing Activities           NaN  1.230000e+08   \n",
       "Change To Inventory                                 NaN -4.220000e+08   \n",
       "Change To Account Receivables                       NaN -6.520000e+08   \n",
       "Other Cashflows From Financing Activities           NaN -2.250000e+08   \n",
       "Change To Netincome                                 NaN  2.536000e+09   \n",
       "Capital Expenditures                                NaN -3.232000e+09   \n",
       "\n",
       "                                             2019-12-31    2018-12-31  \n",
       "Net Income                                -8.620000e+08 -9.760000e+08  \n",
       "Change To Liabilities                      1.447000e+09  2.203000e+09  \n",
       "Total Cashflows From Investing Activities -1.436000e+09 -2.337000e+09  \n",
       "Net Borrowings                             7.980000e+08  8.900000e+07  \n",
       "Total Cash From Financing Activities       1.529000e+09  5.740000e+08  \n",
       "Change To Operating Activities            -1.000000e+09 -6.250000e+08  \n",
       "Issuance Of Stock                          1.111000e+09  2.960000e+08  \n",
       "Change In Cash                             2.506000e+09  3.120000e+08  \n",
       "Effect Of Exchange Rate                    8.000000e+06 -2.300000e+07  \n",
       "Total Cash From Operating Activities       2.405000e+09  2.098000e+09  \n",
       "Depreciation                               2.092000e+09  1.888000e+09  \n",
       "Other Cashflows From Investing Activities  4.600000e+07  4.600000e+07  \n",
       "Change To Inventory                       -4.290000e+08 -1.023000e+09  \n",
       "Change To Account Receivables             -3.670000e+08 -4.970000e+08  \n",
       "Other Cashflows From Financing Activities -3.800000e+08  1.890000e+08  \n",
       "Change To Netincome                        1.336000e+09  9.690000e+08  \n",
       "Capital Expenditures                      -1.432000e+09 -2.319000e+09  "
      ]
     },
     "execution_count": 17,
     "metadata": {},
     "output_type": "execute_result"
    }
   ],
   "source": [
    "data.cashflow"
   ]
  },
  {
   "cell_type": "code",
   "execution_count": 18,
   "metadata": {},
   "outputs": [],
   "source": [
    "data_cencosud = yf.Ticker('CENCOSUD.SN')"
   ]
  },
  {
   "cell_type": "code",
   "execution_count": 19,
   "metadata": {},
   "outputs": [
    {
     "data": {
      "text/html": [
       "<div>\n",
       "<style scoped>\n",
       "    .dataframe tbody tr th:only-of-type {\n",
       "        vertical-align: middle;\n",
       "    }\n",
       "\n",
       "    .dataframe tbody tr th {\n",
       "        vertical-align: top;\n",
       "    }\n",
       "\n",
       "    .dataframe thead th {\n",
       "        text-align: right;\n",
       "    }\n",
       "</style>\n",
       "<table border=\"1\" class=\"dataframe\">\n",
       "  <thead>\n",
       "    <tr style=\"text-align: right;\">\n",
       "      <th></th>\n",
       "      <th>2020-12-31</th>\n",
       "      <th>2019-12-31</th>\n",
       "      <th>2018-12-31</th>\n",
       "      <th>2017-12-31</th>\n",
       "    </tr>\n",
       "  </thead>\n",
       "  <tbody>\n",
       "    <tr>\n",
       "      <th>Change To Liabilities</th>\n",
       "      <td>0.000000e+00</td>\n",
       "      <td>0.000000e+00</td>\n",
       "      <td>0.000000e+00</td>\n",
       "      <td>0.000000e+00</td>\n",
       "    </tr>\n",
       "    <tr>\n",
       "      <th>Total Cashflows From Investing Activities</th>\n",
       "      <td>-3.514789e+11</td>\n",
       "      <td>5.706851e+11</td>\n",
       "      <td>-2.574715e+11</td>\n",
       "      <td>-1.008979e+11</td>\n",
       "    </tr>\n",
       "    <tr>\n",
       "      <th>Net Borrowings</th>\n",
       "      <td>-9.140228e+11</td>\n",
       "      <td>-5.109452e+11</td>\n",
       "      <td>9.126356e+10</td>\n",
       "      <td>7.829537e+10</td>\n",
       "    </tr>\n",
       "    <tr>\n",
       "      <th>Total Cash From Financing Activities</th>\n",
       "      <td>-1.161169e+12</td>\n",
       "      <td>-6.074145e+11</td>\n",
       "      <td>-2.155145e+11</td>\n",
       "      <td>-3.081732e+11</td>\n",
       "    </tr>\n",
       "    <tr>\n",
       "      <th>Net Income</th>\n",
       "      <td>2.293061e+10</td>\n",
       "      <td>1.141096e+11</td>\n",
       "      <td>1.912852e+11</td>\n",
       "      <td>4.399887e+11</td>\n",
       "    </tr>\n",
       "    <tr>\n",
       "      <th>Change In Cash</th>\n",
       "      <td>-3.856316e+11</td>\n",
       "      <td>7.467396e+11</td>\n",
       "      <td>6.683716e+10</td>\n",
       "      <td>-2.123168e+10</td>\n",
       "    </tr>\n",
       "    <tr>\n",
       "      <th>Effect Of Exchange Rate</th>\n",
       "      <td>-2.025969e+10</td>\n",
       "      <td>1.922419e+10</td>\n",
       "      <td>-1.825501e+09</td>\n",
       "      <td>-2.546029e+10</td>\n",
       "    </tr>\n",
       "    <tr>\n",
       "      <th>Total Cash From Operating Activities</th>\n",
       "      <td>1.147276e+12</td>\n",
       "      <td>7.642448e+11</td>\n",
       "      <td>5.416487e+11</td>\n",
       "      <td>4.132997e+11</td>\n",
       "    </tr>\n",
       "    <tr>\n",
       "      <th>Depreciation</th>\n",
       "      <td>3.427662e+11</td>\n",
       "      <td>2.855472e+11</td>\n",
       "      <td>1.773089e+11</td>\n",
       "      <td>2.099207e+11</td>\n",
       "    </tr>\n",
       "    <tr>\n",
       "      <th>Other Cashflows From Investing Activities</th>\n",
       "      <td>-2.944102e+11</td>\n",
       "      <td>6.534630e+11</td>\n",
       "      <td>-6.290608e+10</td>\n",
       "      <td>1.039733e+11</td>\n",
       "    </tr>\n",
       "    <tr>\n",
       "      <th>Dividends Paid</th>\n",
       "      <td>-9.136014e+10</td>\n",
       "      <td>-2.863129e+10</td>\n",
       "      <td>-7.158207e+10</td>\n",
       "      <td>-1.431391e+11</td>\n",
       "    </tr>\n",
       "    <tr>\n",
       "      <th>Other Cashflows From Financing Activities</th>\n",
       "      <td>-1.557865e+11</td>\n",
       "      <td>-5.803236e+10</td>\n",
       "      <td>-2.351960e+11</td>\n",
       "      <td>-2.439946e+11</td>\n",
       "    </tr>\n",
       "    <tr>\n",
       "      <th>Change To Netincome</th>\n",
       "      <td>7.507431e+11</td>\n",
       "      <td>3.323907e+11</td>\n",
       "      <td>1.357796e+11</td>\n",
       "      <td>-2.687433e+11</td>\n",
       "    </tr>\n",
       "    <tr>\n",
       "      <th>Capital Expenditures</th>\n",
       "      <td>-4.977471e+10</td>\n",
       "      <td>-1.529842e+11</td>\n",
       "      <td>-1.742567e+11</td>\n",
       "      <td>-1.917982e+11</td>\n",
       "    </tr>\n",
       "    <tr>\n",
       "      <th>Repurchase Of Stock</th>\n",
       "      <td>NaN</td>\n",
       "      <td>-9.805715e+09</td>\n",
       "      <td>-9.805715e+09</td>\n",
       "      <td>-9.805715e+09</td>\n",
       "    </tr>\n",
       "    <tr>\n",
       "      <th>Issuance Of Stock</th>\n",
       "      <td>NaN</td>\n",
       "      <td>NaN</td>\n",
       "      <td>NaN</td>\n",
       "      <td>6.651750e+08</td>\n",
       "    </tr>\n",
       "  </tbody>\n",
       "</table>\n",
       "</div>"
      ],
      "text/plain": [
       "                                             2020-12-31    2019-12-31  \\\n",
       "Change To Liabilities                      0.000000e+00  0.000000e+00   \n",
       "Total Cashflows From Investing Activities -3.514789e+11  5.706851e+11   \n",
       "Net Borrowings                            -9.140228e+11 -5.109452e+11   \n",
       "Total Cash From Financing Activities      -1.161169e+12 -6.074145e+11   \n",
       "Net Income                                 2.293061e+10  1.141096e+11   \n",
       "Change In Cash                            -3.856316e+11  7.467396e+11   \n",
       "Effect Of Exchange Rate                   -2.025969e+10  1.922419e+10   \n",
       "Total Cash From Operating Activities       1.147276e+12  7.642448e+11   \n",
       "Depreciation                               3.427662e+11  2.855472e+11   \n",
       "Other Cashflows From Investing Activities -2.944102e+11  6.534630e+11   \n",
       "Dividends Paid                            -9.136014e+10 -2.863129e+10   \n",
       "Other Cashflows From Financing Activities -1.557865e+11 -5.803236e+10   \n",
       "Change To Netincome                        7.507431e+11  3.323907e+11   \n",
       "Capital Expenditures                      -4.977471e+10 -1.529842e+11   \n",
       "Repurchase Of Stock                                 NaN -9.805715e+09   \n",
       "Issuance Of Stock                                   NaN           NaN   \n",
       "\n",
       "                                             2018-12-31    2017-12-31  \n",
       "Change To Liabilities                      0.000000e+00  0.000000e+00  \n",
       "Total Cashflows From Investing Activities -2.574715e+11 -1.008979e+11  \n",
       "Net Borrowings                             9.126356e+10  7.829537e+10  \n",
       "Total Cash From Financing Activities      -2.155145e+11 -3.081732e+11  \n",
       "Net Income                                 1.912852e+11  4.399887e+11  \n",
       "Change In Cash                             6.683716e+10 -2.123168e+10  \n",
       "Effect Of Exchange Rate                   -1.825501e+09 -2.546029e+10  \n",
       "Total Cash From Operating Activities       5.416487e+11  4.132997e+11  \n",
       "Depreciation                               1.773089e+11  2.099207e+11  \n",
       "Other Cashflows From Investing Activities -6.290608e+10  1.039733e+11  \n",
       "Dividends Paid                            -7.158207e+10 -1.431391e+11  \n",
       "Other Cashflows From Financing Activities -2.351960e+11 -2.439946e+11  \n",
       "Change To Netincome                        1.357796e+11 -2.687433e+11  \n",
       "Capital Expenditures                      -1.742567e+11 -1.917982e+11  \n",
       "Repurchase Of Stock                       -9.805715e+09 -9.805715e+09  \n",
       "Issuance Of Stock                                   NaN  6.651750e+08  "
      ]
     },
     "execution_count": 19,
     "metadata": {},
     "output_type": "execute_result"
    }
   ],
   "source": [
    "data_cencosud.cashflow"
   ]
  },
  {
   "cell_type": "code",
   "execution_count": 20,
   "metadata": {},
   "outputs": [
    {
     "data": {
      "text/plain": [
       "<AxesSubplot:xlabel='Year'>"
      ]
     },
     "execution_count": 20,
     "metadata": {},
     "output_type": "execute_result"
    },
    {
     "data": {
      "image/png": "[encoded data removed]",
      "text/plain": [
       "<Figure size 432x288 with 1 Axes>"
      ]
     },
     "metadata": {
      "needs_background": "light"
     },
     "output_type": "display_data"
    }
   ],
   "source": [
    "data_cencosud.earnings.plot(kind='bar')"
   ]
  },
  {
   "cell_type": "code",
   "execution_count": 21,
   "metadata": {},
   "outputs": [],
   "source": [
    "x = data_cencosud.institutional_holders"
   ]
  },
  {
   "cell_type": "code",
   "execution_count": 22,
   "metadata": {},
   "outputs": [
    {
     "data": {
      "text/html": [
       "<div>\n",
       "<style scoped>\n",
       "    .dataframe tbody tr th:only-of-type {\n",
       "        vertical-align: middle;\n",
       "    }\n",
       "\n",
       "    .dataframe tbody tr th {\n",
       "        vertical-align: top;\n",
       "    }\n",
       "\n",
       "    .dataframe thead th {\n",
       "        text-align: right;\n",
       "    }\n",
       "</style>\n",
       "<table border=\"1\" class=\"dataframe\">\n",
       "  <thead>\n",
       "    <tr style=\"text-align: right;\">\n",
       "      <th></th>\n",
       "      <th>0</th>\n",
       "      <th>1</th>\n",
       "    </tr>\n",
       "  </thead>\n",
       "  <tbody>\n",
       "    <tr>\n",
       "      <th>0</th>\n",
       "      <td>52.41%</td>\n",
       "      <td>% of Shares Held by All Insider</td>\n",
       "    </tr>\n",
       "    <tr>\n",
       "      <th>1</th>\n",
       "      <td>36.23%</td>\n",
       "      <td>% of Shares Held by Institutions</td>\n",
       "    </tr>\n",
       "    <tr>\n",
       "      <th>2</th>\n",
       "      <td>76.12%</td>\n",
       "      <td>% of Float Held by Institutions</td>\n",
       "    </tr>\n",
       "    <tr>\n",
       "      <th>3</th>\n",
       "      <td>163</td>\n",
       "      <td>Number of Institutions Holding Shares</td>\n",
       "    </tr>\n",
       "  </tbody>\n",
       "</table>\n",
       "</div>"
      ],
      "text/plain": [
       "        0                                      1\n",
       "0  52.41%        % of Shares Held by All Insider\n",
       "1  36.23%       % of Shares Held by Institutions\n",
       "2  76.12%        % of Float Held by Institutions\n",
       "3     163  Number of Institutions Holding Shares"
      ]
     },
     "execution_count": 22,
     "metadata": {},
     "output_type": "execute_result"
    }
   ],
   "source": [
    "data_cencosud.major_holders"
   ]
  },
  {
   "cell_type": "code",
   "execution_count": 23,
   "metadata": {},
   "outputs": [
    {
     "data": {
      "text/html": [
       "<div>\n",
       "<style scoped>\n",
       "    .dataframe tbody tr th:only-of-type {\n",
       "        vertical-align: middle;\n",
       "    }\n",
       "\n",
       "    .dataframe tbody tr th {\n",
       "        vertical-align: top;\n",
       "    }\n",
       "\n",
       "    .dataframe thead th {\n",
       "        text-align: right;\n",
       "    }\n",
       "</style>\n",
       "<table border=\"1\" class=\"dataframe\">\n",
       "  <thead>\n",
       "    <tr style=\"text-align: right;\">\n",
       "      <th></th>\n",
       "      <th>Holder</th>\n",
       "      <th>Shares</th>\n",
       "      <th>Date Reported</th>\n",
       "      <th>% Out</th>\n",
       "      <th>Value</th>\n",
       "    </tr>\n",
       "  </thead>\n",
       "  <tbody>\n",
       "    <tr>\n",
       "      <th>0</th>\n",
       "      <td>Vanguard International Stock Index-Emerging Ma...</td>\n",
       "      <td>19001995</td>\n",
       "      <td>2021-10-30</td>\n",
       "      <td>0.0066</td>\n",
       "      <td>22612374050</td>\n",
       "    </tr>\n",
       "    <tr>\n",
       "      <th>1</th>\n",
       "      <td>Vanguard International Stock Index-Total Intl ...</td>\n",
       "      <td>18146497</td>\n",
       "      <td>2021-10-30</td>\n",
       "      <td>0.0063</td>\n",
       "      <td>21594331430</td>\n",
       "    </tr>\n",
       "    <tr>\n",
       "      <th>2</th>\n",
       "      <td>iShares Core MSCI Emerging Markets ETF</td>\n",
       "      <td>12358010</td>\n",
       "      <td>2021-11-29</td>\n",
       "      <td>0.0043</td>\n",
       "      <td>16312573200</td>\n",
       "    </tr>\n",
       "    <tr>\n",
       "      <th>3</th>\n",
       "      <td>iShares MSCI Chile ETF</td>\n",
       "      <td>12297522</td>\n",
       "      <td>2021-11-29</td>\n",
       "      <td>0.0043</td>\n",
       "      <td>16232729040</td>\n",
       "    </tr>\n",
       "  </tbody>\n",
       "</table>\n",
       "</div>"
      ],
      "text/plain": [
       "                                              Holder    Shares Date Reported  \\\n",
       "0  Vanguard International Stock Index-Emerging Ma...  19001995    2021-10-30   \n",
       "1  Vanguard International Stock Index-Total Intl ...  18146497    2021-10-30   \n",
       "2             iShares Core MSCI Emerging Markets ETF  12358010    2021-11-29   \n",
       "3                             iShares MSCI Chile ETF  12297522    2021-11-29   \n",
       "\n",
       "    % Out        Value  \n",
       "0  0.0066  22612374050  \n",
       "1  0.0063  21594331430  \n",
       "2  0.0043  16312573200  \n",
       "3  0.0043  16232729040  "
      ]
     },
     "execution_count": 23,
     "metadata": {},
     "output_type": "execute_result"
    }
   ],
   "source": [
    "x[x['Shares']>10000000]"
   ]
  },
  {
   "cell_type": "code",
   "execution_count": 24,
   "metadata": {},
   "outputs": [
    {
     "name": "stdout",
     "output_type": "stream",
     "text": [
      "                                    Firm        To Grade From Grade Action\n",
      "Date                                                                      \n",
      "2021-06-14 13:55:22    Canaccord Genuity             Buy              main\n",
      "2021-06-29 11:29:11                  UBS         Neutral              main\n",
      "2021-07-07 14:52:52            JP Morgan     Underweight              main\n",
      "2021-07-27 10:54:46               Mizuho             Buy              main\n",
      "2021-07-27 11:48:23          Wells Fargo    Equal-Weight              main\n",
      "2021-07-27 11:51:22          RBC Capital  Sector Perform              main\n",
      "2021-07-27 13:38:59        Goldman Sachs             Buy              main\n",
      "2021-07-27 14:27:49    Canaccord Genuity             Buy              main\n",
      "2021-07-29 10:14:50              DZ Bank             Buy       Sell     up\n",
      "2021-08-02 15:55:02       KGI Securities      Outperform              init\n",
      "2021-08-09 09:17:02            Jefferies             Buy       Hold     up\n",
      "2021-09-23 12:18:35      Tudor Pickering            Sell              init\n",
      "2021-10-04 10:44:57          RBC Capital  Sector Perform              main\n",
      "2021-10-08 13:28:13    Canaccord Genuity             Buy              main\n",
      "2021-10-14 10:45:16             Barclays     Underweight              main\n",
      "2021-10-15 13:26:02            Jefferies             Buy              main\n",
      "2021-10-21 10:21:59              Wedbush      Outperform              main\n",
      "2021-10-21 11:06:18        Credit Suisse         Neutral              main\n",
      "2021-10-21 11:07:12          Wells Fargo    Equal-Weight              main\n",
      "2021-10-21 11:58:01          RBC Capital  Sector Perform              main\n",
      "2021-10-21 12:42:25               Mizuho             Buy              main\n",
      "2021-10-21 14:23:55         Roth Capital         Neutral              main\n",
      "2021-10-21 14:33:04    Canaccord Genuity             Buy              main\n",
      "2021-10-27 12:15:11        Goldman Sachs             Buy              main\n",
      "2021-10-28 14:15:36        Piper Sandler      Overweight              main\n",
      "2021-11-08 12:27:21            Jefferies             Buy              main\n",
      "2021-11-19 11:55:04              Wedbush      Outperform              main\n",
      "2021-12-07 13:03:07                  UBS         Neutral              main\n",
      "2021-12-08 14:08:29  New Street Research             Buy              main\n",
      "2021-12-20 12:18:04           Guggenheim         Neutral              init\n",
      "2021-12-28 12:49:51       Argus Research             Buy              main\n",
      "2021-12-31 15:16:10        Deutsche Bank             Buy              main\n",
      "2022-01-03 14:17:31          RBC Capital  Sector Perform              main\n",
      "2022-01-03 16:33:41            JP Morgan     Underweight              main\n",
      "2022-01-03 17:54:18        Deutsche Bank             Buy              main\n",
      "2022-01-05 14:03:16               Mizuho             Buy              main\n",
      "2022-01-05 14:17:09             Barclays     Underweight              main\n",
      "2022-01-18 13:14:03        Credit Suisse         Neutral              main\n",
      "2022-01-27 11:48:27            JP Morgan     Underweight              main\n",
      "2022-01-27 11:53:32          Wells Fargo    Equal-Weight              main\n",
      "2022-01-27 14:14:58            Citigroup            Sell              main\n",
      "2022-01-31 10:10:29        Credit Suisse      Outperform    Neutral     up\n"
     ]
    }
   ],
   "source": [
    "x = data.recommendations\n",
    "x = x[x.index > '2021-06-01']\n",
    "print(x)"
   ]
  },
  {
   "cell_type": "markdown",
   "metadata": {},
   "source": [
    "# create a function that will take a ticker as its parameter, and output the ROE value for that ticker."
   ]
  },
  {
   "cell_type": "code",
   "execution_count": 25,
   "metadata": {},
   "outputs": [],
   "source": [
    "def ROE(ticker):\n",
    "    data = yf.Ticker(ticker)\n",
    "    roe = data.info['returnOnEquity']\n",
    "    name = data.info['shortName']\n",
    "    print(name, ':', roe)"
   ]
  },
  {
   "cell_type": "code",
   "execution_count": 26,
   "metadata": {},
   "outputs": [
    {
     "name": "stdout",
     "output_type": "stream",
     "text": [
      "Apple Inc. : 1.45567\n",
      "CENCOSUD SA : 0.11033\n"
     ]
    }
   ],
   "source": [
    "ROE('AAPL')\n",
    "#ROE('TSLA')\n",
    "ROE('CENCOSUD.SN')"
   ]
  },
  {
   "cell_type": "code",
   "execution_count": 27,
   "metadata": {},
   "outputs": [
    {
     "name": "stdout",
     "output_type": "stream",
     "text": [
      "                  Open        High         Low       Close    Volume  \\\n",
      "Date                                                                   \n",
      "2021-08-05  716.000000  720.950012  711.409973  714.630005  12919600   \n",
      "2021-08-06  711.900024  716.330017  697.630005  699.099976  15576200   \n",
      "2021-08-09  710.169983  719.030029  705.130005  713.760010  14715300   \n",
      "2021-08-10  713.989990  716.590027  701.880005  709.989990  13432300   \n",
      "2021-08-11  712.710022  715.179993  704.210022  707.820007   9800600   \n",
      "...                ...         ...         ...         ...       ...   \n",
      "2022-01-31  872.710022  937.989990  862.049988  936.719971  34812000   \n",
      "2022-02-01  935.210022  943.700012  905.000000  931.250000  24379400   \n",
      "2022-02-02  928.179993  931.500000  889.409973  905.659973  22264300   \n",
      "2022-02-03  882.000000  937.000000  880.520020  891.140015  26285200   \n",
      "2022-02-04  897.219971  936.500000  881.169983  923.320007  24472600   \n",
      "\n",
      "            Dividends  Stock Splits  \n",
      "Date                                 \n",
      "2021-08-05          0             0  \n",
      "2021-08-06          0             0  \n",
      "2021-08-09          0             0  \n",
      "2021-08-10          0             0  \n",
      "2021-08-11          0             0  \n",
      "...               ...           ...  \n",
      "2022-01-31          0             0  \n",
      "2022-02-01          0             0  \n",
      "2022-02-02          0             0  \n",
      "2022-02-03          0             0  \n",
      "2022-02-04          0             0  \n",
      "\n",
      "[128 rows x 7 columns]\n"
     ]
    }
   ],
   "source": [
    "print(data.history(period='6mo'))\n",
    "# Valid periods: 1d, 5d, 1mo, 3mo, 6mo, 1y, 2y, 5y, 10y, ytd, max. "
   ]
  },
  {
   "cell_type": "code",
   "execution_count": 28,
   "metadata": {},
   "outputs": [
    {
     "data": {
      "text/html": [
       "<div>\n",
       "<style scoped>\n",
       "    .dataframe tbody tr th:only-of-type {\n",
       "        vertical-align: middle;\n",
       "    }\n",
       "\n",
       "    .dataframe tbody tr th {\n",
       "        vertical-align: top;\n",
       "    }\n",
       "\n",
       "    .dataframe thead th {\n",
       "        text-align: right;\n",
       "    }\n",
       "</style>\n",
       "<table border=\"1\" class=\"dataframe\">\n",
       "  <thead>\n",
       "    <tr style=\"text-align: right;\">\n",
       "      <th></th>\n",
       "      <th>Open</th>\n",
       "      <th>High</th>\n",
       "      <th>Low</th>\n",
       "      <th>Close</th>\n",
       "      <th>Volume</th>\n",
       "      <th>Dividends</th>\n",
       "      <th>Stock Splits</th>\n",
       "    </tr>\n",
       "    <tr>\n",
       "      <th>Date</th>\n",
       "      <th></th>\n",
       "      <th></th>\n",
       "      <th></th>\n",
       "      <th></th>\n",
       "      <th></th>\n",
       "      <th></th>\n",
       "      <th></th>\n",
       "    </tr>\n",
       "  </thead>\n",
       "  <tbody>\n",
       "    <tr>\n",
       "      <th>2021-01-04</th>\n",
       "      <td>719.460022</td>\n",
       "      <td>744.489990</td>\n",
       "      <td>717.190002</td>\n",
       "      <td>729.770020</td>\n",
       "      <td>48638200</td>\n",
       "      <td>0</td>\n",
       "      <td>0</td>\n",
       "    </tr>\n",
       "    <tr>\n",
       "      <th>2021-01-05</th>\n",
       "      <td>723.659973</td>\n",
       "      <td>740.840027</td>\n",
       "      <td>719.200012</td>\n",
       "      <td>735.109985</td>\n",
       "      <td>32245200</td>\n",
       "      <td>0</td>\n",
       "      <td>0</td>\n",
       "    </tr>\n",
       "    <tr>\n",
       "      <th>2021-01-06</th>\n",
       "      <td>758.489990</td>\n",
       "      <td>774.000000</td>\n",
       "      <td>749.099976</td>\n",
       "      <td>755.979980</td>\n",
       "      <td>44700000</td>\n",
       "      <td>0</td>\n",
       "      <td>0</td>\n",
       "    </tr>\n",
       "    <tr>\n",
       "      <th>2021-01-07</th>\n",
       "      <td>777.630005</td>\n",
       "      <td>816.989990</td>\n",
       "      <td>775.200012</td>\n",
       "      <td>816.039978</td>\n",
       "      <td>51498900</td>\n",
       "      <td>0</td>\n",
       "      <td>0</td>\n",
       "    </tr>\n",
       "    <tr>\n",
       "      <th>2021-01-08</th>\n",
       "      <td>856.000000</td>\n",
       "      <td>884.489990</td>\n",
       "      <td>838.390015</td>\n",
       "      <td>880.020020</td>\n",
       "      <td>75055500</td>\n",
       "      <td>0</td>\n",
       "      <td>0</td>\n",
       "    </tr>\n",
       "    <tr>\n",
       "      <th>2021-01-11</th>\n",
       "      <td>849.400024</td>\n",
       "      <td>854.429993</td>\n",
       "      <td>803.619995</td>\n",
       "      <td>811.190002</td>\n",
       "      <td>59301600</td>\n",
       "      <td>0</td>\n",
       "      <td>0</td>\n",
       "    </tr>\n",
       "    <tr>\n",
       "      <th>2021-01-12</th>\n",
       "      <td>831.000000</td>\n",
       "      <td>868.000000</td>\n",
       "      <td>827.340027</td>\n",
       "      <td>849.440002</td>\n",
       "      <td>46270700</td>\n",
       "      <td>0</td>\n",
       "      <td>0</td>\n",
       "    </tr>\n",
       "    <tr>\n",
       "      <th>2021-01-13</th>\n",
       "      <td>852.760010</td>\n",
       "      <td>860.469971</td>\n",
       "      <td>832.000000</td>\n",
       "      <td>854.409973</td>\n",
       "      <td>33312500</td>\n",
       "      <td>0</td>\n",
       "      <td>0</td>\n",
       "    </tr>\n",
       "    <tr>\n",
       "      <th>2021-01-14</th>\n",
       "      <td>843.390015</td>\n",
       "      <td>863.000000</td>\n",
       "      <td>838.750000</td>\n",
       "      <td>845.000000</td>\n",
       "      <td>31266300</td>\n",
       "      <td>0</td>\n",
       "      <td>0</td>\n",
       "    </tr>\n",
       "    <tr>\n",
       "      <th>2021-01-15</th>\n",
       "      <td>852.000000</td>\n",
       "      <td>859.900024</td>\n",
       "      <td>819.099976</td>\n",
       "      <td>826.159973</td>\n",
       "      <td>38777600</td>\n",
       "      <td>0</td>\n",
       "      <td>0</td>\n",
       "    </tr>\n",
       "    <tr>\n",
       "      <th>2021-01-19</th>\n",
       "      <td>837.799988</td>\n",
       "      <td>850.000000</td>\n",
       "      <td>833.000000</td>\n",
       "      <td>844.549988</td>\n",
       "      <td>25367000</td>\n",
       "      <td>0</td>\n",
       "      <td>0</td>\n",
       "    </tr>\n",
       "    <tr>\n",
       "      <th>2021-01-20</th>\n",
       "      <td>858.739990</td>\n",
       "      <td>859.500000</td>\n",
       "      <td>837.280029</td>\n",
       "      <td>850.450012</td>\n",
       "      <td>25665900</td>\n",
       "      <td>0</td>\n",
       "      <td>0</td>\n",
       "    </tr>\n",
       "    <tr>\n",
       "      <th>2021-01-21</th>\n",
       "      <td>855.000000</td>\n",
       "      <td>855.719971</td>\n",
       "      <td>841.419983</td>\n",
       "      <td>844.989990</td>\n",
       "      <td>20521100</td>\n",
       "      <td>0</td>\n",
       "      <td>0</td>\n",
       "    </tr>\n",
       "    <tr>\n",
       "      <th>2021-01-22</th>\n",
       "      <td>834.309998</td>\n",
       "      <td>848.000000</td>\n",
       "      <td>828.619995</td>\n",
       "      <td>846.640015</td>\n",
       "      <td>20066500</td>\n",
       "      <td>0</td>\n",
       "      <td>0</td>\n",
       "    </tr>\n",
       "    <tr>\n",
       "      <th>2021-01-25</th>\n",
       "      <td>855.000000</td>\n",
       "      <td>900.400024</td>\n",
       "      <td>838.820007</td>\n",
       "      <td>880.799988</td>\n",
       "      <td>41173400</td>\n",
       "      <td>0</td>\n",
       "      <td>0</td>\n",
       "    </tr>\n",
       "    <tr>\n",
       "      <th>2021-01-26</th>\n",
       "      <td>891.380005</td>\n",
       "      <td>895.900024</td>\n",
       "      <td>871.599976</td>\n",
       "      <td>883.090027</td>\n",
       "      <td>23131600</td>\n",
       "      <td>0</td>\n",
       "      <td>0</td>\n",
       "    </tr>\n",
       "    <tr>\n",
       "      <th>2021-01-27</th>\n",
       "      <td>870.349976</td>\n",
       "      <td>891.500000</td>\n",
       "      <td>858.659973</td>\n",
       "      <td>864.159973</td>\n",
       "      <td>27334000</td>\n",
       "      <td>0</td>\n",
       "      <td>0</td>\n",
       "    </tr>\n",
       "    <tr>\n",
       "      <th>2021-01-28</th>\n",
       "      <td>820.000000</td>\n",
       "      <td>848.000000</td>\n",
       "      <td>801.000000</td>\n",
       "      <td>835.429993</td>\n",
       "      <td>26378000</td>\n",
       "      <td>0</td>\n",
       "      <td>0</td>\n",
       "    </tr>\n",
       "    <tr>\n",
       "      <th>2021-01-29</th>\n",
       "      <td>830.000000</td>\n",
       "      <td>842.409973</td>\n",
       "      <td>780.099976</td>\n",
       "      <td>793.530029</td>\n",
       "      <td>34990800</td>\n",
       "      <td>0</td>\n",
       "      <td>0</td>\n",
       "    </tr>\n",
       "    <tr>\n",
       "      <th>2021-02-01</th>\n",
       "      <td>814.289978</td>\n",
       "      <td>842.000000</td>\n",
       "      <td>795.559998</td>\n",
       "      <td>839.809998</td>\n",
       "      <td>25391400</td>\n",
       "      <td>0</td>\n",
       "      <td>0</td>\n",
       "    </tr>\n",
       "    <tr>\n",
       "      <th>2021-02-02</th>\n",
       "      <td>844.679993</td>\n",
       "      <td>880.500000</td>\n",
       "      <td>842.200012</td>\n",
       "      <td>872.789978</td>\n",
       "      <td>24346200</td>\n",
       "      <td>0</td>\n",
       "      <td>0</td>\n",
       "    </tr>\n",
       "    <tr>\n",
       "      <th>2021-02-03</th>\n",
       "      <td>877.020020</td>\n",
       "      <td>878.080017</td>\n",
       "      <td>853.059998</td>\n",
       "      <td>854.690002</td>\n",
       "      <td>18343500</td>\n",
       "      <td>0</td>\n",
       "      <td>0</td>\n",
       "    </tr>\n",
       "    <tr>\n",
       "      <th>2021-02-04</th>\n",
       "      <td>855.000000</td>\n",
       "      <td>856.500000</td>\n",
       "      <td>833.419983</td>\n",
       "      <td>849.989990</td>\n",
       "      <td>15812700</td>\n",
       "      <td>0</td>\n",
       "      <td>0</td>\n",
       "    </tr>\n",
       "    <tr>\n",
       "      <th>2021-02-05</th>\n",
       "      <td>845.000000</td>\n",
       "      <td>864.770020</td>\n",
       "      <td>838.969971</td>\n",
       "      <td>852.229980</td>\n",
       "      <td>18566600</td>\n",
       "      <td>0</td>\n",
       "      <td>0</td>\n",
       "    </tr>\n",
       "    <tr>\n",
       "      <th>2021-02-08</th>\n",
       "      <td>869.669983</td>\n",
       "      <td>877.770020</td>\n",
       "      <td>854.750000</td>\n",
       "      <td>863.419983</td>\n",
       "      <td>20161700</td>\n",
       "      <td>0</td>\n",
       "      <td>0</td>\n",
       "    </tr>\n",
       "    <tr>\n",
       "      <th>2021-02-09</th>\n",
       "      <td>855.119995</td>\n",
       "      <td>859.799988</td>\n",
       "      <td>841.750000</td>\n",
       "      <td>849.460022</td>\n",
       "      <td>15157700</td>\n",
       "      <td>0</td>\n",
       "      <td>0</td>\n",
       "    </tr>\n",
       "    <tr>\n",
       "      <th>2021-02-10</th>\n",
       "      <td>843.640015</td>\n",
       "      <td>844.820007</td>\n",
       "      <td>800.020020</td>\n",
       "      <td>804.820007</td>\n",
       "      <td>36216100</td>\n",
       "      <td>0</td>\n",
       "      <td>0</td>\n",
       "    </tr>\n",
       "    <tr>\n",
       "      <th>2021-02-11</th>\n",
       "      <td>812.440002</td>\n",
       "      <td>829.880005</td>\n",
       "      <td>801.729980</td>\n",
       "      <td>811.659973</td>\n",
       "      <td>21622800</td>\n",
       "      <td>0</td>\n",
       "      <td>0</td>\n",
       "    </tr>\n",
       "    <tr>\n",
       "      <th>2021-02-12</th>\n",
       "      <td>801.260010</td>\n",
       "      <td>817.330017</td>\n",
       "      <td>785.330017</td>\n",
       "      <td>816.119995</td>\n",
       "      <td>23768300</td>\n",
       "      <td>0</td>\n",
       "      <td>0</td>\n",
       "    </tr>\n",
       "    <tr>\n",
       "      <th>2021-02-16</th>\n",
       "      <td>818.000000</td>\n",
       "      <td>821.000000</td>\n",
       "      <td>792.440002</td>\n",
       "      <td>796.219971</td>\n",
       "      <td>19802300</td>\n",
       "      <td>0</td>\n",
       "      <td>0</td>\n",
       "    </tr>\n",
       "    <tr>\n",
       "      <th>2021-02-17</th>\n",
       "      <td>779.090027</td>\n",
       "      <td>799.840027</td>\n",
       "      <td>762.010010</td>\n",
       "      <td>798.150024</td>\n",
       "      <td>25996500</td>\n",
       "      <td>0</td>\n",
       "      <td>0</td>\n",
       "    </tr>\n",
       "    <tr>\n",
       "      <th>2021-02-18</th>\n",
       "      <td>780.900024</td>\n",
       "      <td>794.690002</td>\n",
       "      <td>776.270020</td>\n",
       "      <td>787.380005</td>\n",
       "      <td>17957100</td>\n",
       "      <td>0</td>\n",
       "      <td>0</td>\n",
       "    </tr>\n",
       "    <tr>\n",
       "      <th>2021-02-19</th>\n",
       "      <td>795.000000</td>\n",
       "      <td>796.789978</td>\n",
       "      <td>777.369995</td>\n",
       "      <td>781.299988</td>\n",
       "      <td>18958300</td>\n",
       "      <td>0</td>\n",
       "      <td>0</td>\n",
       "    </tr>\n",
       "    <tr>\n",
       "      <th>2021-02-22</th>\n",
       "      <td>762.640015</td>\n",
       "      <td>768.500000</td>\n",
       "      <td>710.200012</td>\n",
       "      <td>714.500000</td>\n",
       "      <td>37269700</td>\n",
       "      <td>0</td>\n",
       "      <td>0</td>\n",
       "    </tr>\n",
       "    <tr>\n",
       "      <th>2021-02-23</th>\n",
       "      <td>662.130005</td>\n",
       "      <td>713.609985</td>\n",
       "      <td>619.000000</td>\n",
       "      <td>698.840027</td>\n",
       "      <td>66606900</td>\n",
       "      <td>0</td>\n",
       "      <td>0</td>\n",
       "    </tr>\n",
       "    <tr>\n",
       "      <th>2021-02-24</th>\n",
       "      <td>711.849976</td>\n",
       "      <td>745.000000</td>\n",
       "      <td>694.169983</td>\n",
       "      <td>742.020020</td>\n",
       "      <td>36767000</td>\n",
       "      <td>0</td>\n",
       "      <td>0</td>\n",
       "    </tr>\n",
       "    <tr>\n",
       "      <th>2021-02-25</th>\n",
       "      <td>726.150024</td>\n",
       "      <td>737.210022</td>\n",
       "      <td>670.580017</td>\n",
       "      <td>682.219971</td>\n",
       "      <td>39023900</td>\n",
       "      <td>0</td>\n",
       "      <td>0</td>\n",
       "    </tr>\n",
       "    <tr>\n",
       "      <th>2021-02-26</th>\n",
       "      <td>700.000000</td>\n",
       "      <td>706.700012</td>\n",
       "      <td>659.510010</td>\n",
       "      <td>675.500000</td>\n",
       "      <td>41089200</td>\n",
       "      <td>0</td>\n",
       "      <td>0</td>\n",
       "    </tr>\n",
       "    <tr>\n",
       "      <th>2021-03-01</th>\n",
       "      <td>690.109985</td>\n",
       "      <td>719.000000</td>\n",
       "      <td>685.049988</td>\n",
       "      <td>718.429993</td>\n",
       "      <td>27136200</td>\n",
       "      <td>0</td>\n",
       "      <td>0</td>\n",
       "    </tr>\n",
       "    <tr>\n",
       "      <th>2021-03-02</th>\n",
       "      <td>718.280029</td>\n",
       "      <td>721.109985</td>\n",
       "      <td>685.000000</td>\n",
       "      <td>686.440002</td>\n",
       "      <td>23732200</td>\n",
       "      <td>0</td>\n",
       "      <td>0</td>\n",
       "    </tr>\n",
       "    <tr>\n",
       "      <th>2021-03-03</th>\n",
       "      <td>687.989990</td>\n",
       "      <td>700.700012</td>\n",
       "      <td>651.710022</td>\n",
       "      <td>653.200012</td>\n",
       "      <td>30208000</td>\n",
       "      <td>0</td>\n",
       "      <td>0</td>\n",
       "    </tr>\n",
       "    <tr>\n",
       "      <th>2021-03-04</th>\n",
       "      <td>655.799988</td>\n",
       "      <td>668.450012</td>\n",
       "      <td>600.000000</td>\n",
       "      <td>621.440002</td>\n",
       "      <td>65919500</td>\n",
       "      <td>0</td>\n",
       "      <td>0</td>\n",
       "    </tr>\n",
       "    <tr>\n",
       "      <th>2021-03-05</th>\n",
       "      <td>626.059998</td>\n",
       "      <td>627.840027</td>\n",
       "      <td>539.489990</td>\n",
       "      <td>597.950012</td>\n",
       "      <td>89396500</td>\n",
       "      <td>0</td>\n",
       "      <td>0</td>\n",
       "    </tr>\n",
       "    <tr>\n",
       "      <th>2021-03-08</th>\n",
       "      <td>600.549988</td>\n",
       "      <td>620.130005</td>\n",
       "      <td>558.789978</td>\n",
       "      <td>563.000000</td>\n",
       "      <td>51787000</td>\n",
       "      <td>0</td>\n",
       "      <td>0</td>\n",
       "    </tr>\n",
       "    <tr>\n",
       "      <th>2021-03-09</th>\n",
       "      <td>608.179993</td>\n",
       "      <td>678.090027</td>\n",
       "      <td>595.210022</td>\n",
       "      <td>673.580017</td>\n",
       "      <td>67523300</td>\n",
       "      <td>0</td>\n",
       "      <td>0</td>\n",
       "    </tr>\n",
       "    <tr>\n",
       "      <th>2021-03-10</th>\n",
       "      <td>700.299988</td>\n",
       "      <td>717.849976</td>\n",
       "      <td>655.059998</td>\n",
       "      <td>668.059998</td>\n",
       "      <td>60605700</td>\n",
       "      <td>0</td>\n",
       "      <td>0</td>\n",
       "    </tr>\n",
       "    <tr>\n",
       "      <th>2021-03-11</th>\n",
       "      <td>699.400024</td>\n",
       "      <td>702.500000</td>\n",
       "      <td>677.179993</td>\n",
       "      <td>699.599976</td>\n",
       "      <td>36253900</td>\n",
       "      <td>0</td>\n",
       "      <td>0</td>\n",
       "    </tr>\n",
       "    <tr>\n",
       "      <th>2021-03-12</th>\n",
       "      <td>670.000000</td>\n",
       "      <td>694.880005</td>\n",
       "      <td>666.140015</td>\n",
       "      <td>693.729980</td>\n",
       "      <td>33583800</td>\n",
       "      <td>0</td>\n",
       "      <td>0</td>\n",
       "    </tr>\n",
       "    <tr>\n",
       "      <th>2021-03-15</th>\n",
       "      <td>694.090027</td>\n",
       "      <td>713.179993</td>\n",
       "      <td>684.039978</td>\n",
       "      <td>707.940002</td>\n",
       "      <td>29335600</td>\n",
       "      <td>0</td>\n",
       "      <td>0</td>\n",
       "    </tr>\n",
       "    <tr>\n",
       "      <th>2021-03-16</th>\n",
       "      <td>703.349976</td>\n",
       "      <td>707.919983</td>\n",
       "      <td>671.000000</td>\n",
       "      <td>676.880005</td>\n",
       "      <td>32195700</td>\n",
       "      <td>0</td>\n",
       "      <td>0</td>\n",
       "    </tr>\n",
       "    <tr>\n",
       "      <th>2021-03-17</th>\n",
       "      <td>656.869995</td>\n",
       "      <td>703.729980</td>\n",
       "      <td>651.010010</td>\n",
       "      <td>701.809998</td>\n",
       "      <td>40372500</td>\n",
       "      <td>0</td>\n",
       "      <td>0</td>\n",
       "    </tr>\n",
       "    <tr>\n",
       "      <th>2021-03-18</th>\n",
       "      <td>684.289978</td>\n",
       "      <td>689.229980</td>\n",
       "      <td>652.000000</td>\n",
       "      <td>653.159973</td>\n",
       "      <td>33224800</td>\n",
       "      <td>0</td>\n",
       "      <td>0</td>\n",
       "    </tr>\n",
       "    <tr>\n",
       "      <th>2021-03-19</th>\n",
       "      <td>646.599976</td>\n",
       "      <td>657.229980</td>\n",
       "      <td>624.619995</td>\n",
       "      <td>654.869995</td>\n",
       "      <td>42894000</td>\n",
       "      <td>0</td>\n",
       "      <td>0</td>\n",
       "    </tr>\n",
       "    <tr>\n",
       "      <th>2021-03-22</th>\n",
       "      <td>684.590027</td>\n",
       "      <td>699.619995</td>\n",
       "      <td>668.750000</td>\n",
       "      <td>670.000000</td>\n",
       "      <td>39512200</td>\n",
       "      <td>0</td>\n",
       "      <td>0</td>\n",
       "    </tr>\n",
       "    <tr>\n",
       "      <th>2021-03-23</th>\n",
       "      <td>675.770020</td>\n",
       "      <td>677.799988</td>\n",
       "      <td>657.510010</td>\n",
       "      <td>662.159973</td>\n",
       "      <td>30491900</td>\n",
       "      <td>0</td>\n",
       "      <td>0</td>\n",
       "    </tr>\n",
       "    <tr>\n",
       "      <th>2021-03-24</th>\n",
       "      <td>667.909973</td>\n",
       "      <td>668.020020</td>\n",
       "      <td>630.109985</td>\n",
       "      <td>630.270020</td>\n",
       "      <td>33795200</td>\n",
       "      <td>0</td>\n",
       "      <td>0</td>\n",
       "    </tr>\n",
       "    <tr>\n",
       "      <th>2021-03-25</th>\n",
       "      <td>613.000000</td>\n",
       "      <td>645.500000</td>\n",
       "      <td>609.500000</td>\n",
       "      <td>640.390015</td>\n",
       "      <td>39224900</td>\n",
       "      <td>0</td>\n",
       "      <td>0</td>\n",
       "    </tr>\n",
       "    <tr>\n",
       "      <th>2021-03-26</th>\n",
       "      <td>641.869995</td>\n",
       "      <td>643.820007</td>\n",
       "      <td>599.890015</td>\n",
       "      <td>618.710022</td>\n",
       "      <td>33852800</td>\n",
       "      <td>0</td>\n",
       "      <td>0</td>\n",
       "    </tr>\n",
       "    <tr>\n",
       "      <th>2021-03-29</th>\n",
       "      <td>615.640015</td>\n",
       "      <td>616.479980</td>\n",
       "      <td>596.020020</td>\n",
       "      <td>611.289978</td>\n",
       "      <td>28637000</td>\n",
       "      <td>0</td>\n",
       "      <td>0</td>\n",
       "    </tr>\n",
       "    <tr>\n",
       "      <th>2021-03-30</th>\n",
       "      <td>601.750000</td>\n",
       "      <td>637.659973</td>\n",
       "      <td>591.010010</td>\n",
       "      <td>635.619995</td>\n",
       "      <td>39432400</td>\n",
       "      <td>0</td>\n",
       "      <td>0</td>\n",
       "    </tr>\n",
       "  </tbody>\n",
       "</table>\n",
       "</div>"
      ],
      "text/plain": [
       "                  Open        High         Low       Close    Volume  \\\n",
       "Date                                                                   \n",
       "2021-01-04  719.460022  744.489990  717.190002  729.770020  48638200   \n",
       "2021-01-05  723.659973  740.840027  719.200012  735.109985  32245200   \n",
       "2021-01-06  758.489990  774.000000  749.099976  755.979980  44700000   \n",
       "2021-01-07  777.630005  816.989990  775.200012  816.039978  51498900   \n",
       "2021-01-08  856.000000  884.489990  838.390015  880.020020  75055500   \n",
       "2021-01-11  849.400024  854.429993  803.619995  811.190002  59301600   \n",
       "2021-01-12  831.000000  868.000000  827.340027  849.440002  46270700   \n",
       "2021-01-13  852.760010  860.469971  832.000000  854.409973  33312500   \n",
       "2021-01-14  843.390015  863.000000  838.750000  845.000000  31266300   \n",
       "2021-01-15  852.000000  859.900024  819.099976  826.159973  38777600   \n",
       "2021-01-19  837.799988  850.000000  833.000000  844.549988  25367000   \n",
       "2021-01-20  858.739990  859.500000  837.280029  850.450012  25665900   \n",
       "2021-01-21  855.000000  855.719971  841.419983  844.989990  20521100   \n",
       "2021-01-22  834.309998  848.000000  828.619995  846.640015  20066500   \n",
       "2021-01-25  855.000000  900.400024  838.820007  880.799988  41173400   \n",
       "2021-01-26  891.380005  895.900024  871.599976  883.090027  23131600   \n",
       "2021-01-27  870.349976  891.500000  858.659973  864.159973  27334000   \n",
       "2021-01-28  820.000000  848.000000  801.000000  835.429993  26378000   \n",
       "2021-01-29  830.000000  842.409973  780.099976  793.530029  34990800   \n",
       "2021-02-01  814.289978  842.000000  795.559998  839.809998  25391400   \n",
       "2021-02-02  844.679993  880.500000  842.200012  872.789978  24346200   \n",
       "2021-02-03  877.020020  878.080017  853.059998  854.690002  18343500   \n",
       "2021-02-04  855.000000  856.500000  833.419983  849.989990  15812700   \n",
       "2021-02-05  845.000000  864.770020  838.969971  852.229980  18566600   \n",
       "2021-02-08  869.669983  877.770020  854.750000  863.419983  20161700   \n",
       "2021-02-09  855.119995  859.799988  841.750000  849.460022  15157700   \n",
       "2021-02-10  843.640015  844.820007  800.020020  804.820007  36216100   \n",
       "2021-02-11  812.440002  829.880005  801.729980  811.659973  21622800   \n",
       "2021-02-12  801.260010  817.330017  785.330017  816.119995  23768300   \n",
       "2021-02-16  818.000000  821.000000  792.440002  796.219971  19802300   \n",
       "2021-02-17  779.090027  799.840027  762.010010  798.150024  25996500   \n",
       "2021-02-18  780.900024  794.690002  776.270020  787.380005  17957100   \n",
       "2021-02-19  795.000000  796.789978  777.369995  781.299988  18958300   \n",
       "2021-02-22  762.640015  768.500000  710.200012  714.500000  37269700   \n",
       "2021-02-23  662.130005  713.609985  619.000000  698.840027  66606900   \n",
       "2021-02-24  711.849976  745.000000  694.169983  742.020020  36767000   \n",
       "2021-02-25  726.150024  737.210022  670.580017  682.219971  39023900   \n",
       "2021-02-26  700.000000  706.700012  659.510010  675.500000  41089200   \n",
       "2021-03-01  690.109985  719.000000  685.049988  718.429993  27136200   \n",
       "2021-03-02  718.280029  721.109985  685.000000  686.440002  23732200   \n",
       "2021-03-03  687.989990  700.700012  651.710022  653.200012  30208000   \n",
       "2021-03-04  655.799988  668.450012  600.000000  621.440002  65919500   \n",
       "2021-03-05  626.059998  627.840027  539.489990  597.950012  89396500   \n",
       "2021-03-08  600.549988  620.130005  558.789978  563.000000  51787000   \n",
       "2021-03-09  608.179993  678.090027  595.210022  673.580017  67523300   \n",
       "2021-03-10  700.299988  717.849976  655.059998  668.059998  60605700   \n",
       "2021-03-11  699.400024  702.500000  677.179993  699.599976  36253900   \n",
       "2021-03-12  670.000000  694.880005  666.140015  693.729980  33583800   \n",
       "2021-03-15  694.090027  713.179993  684.039978  707.940002  29335600   \n",
       "2021-03-16  703.349976  707.919983  671.000000  676.880005  32195700   \n",
       "2021-03-17  656.869995  703.729980  651.010010  701.809998  40372500   \n",
       "2021-03-18  684.289978  689.229980  652.000000  653.159973  33224800   \n",
       "2021-03-19  646.599976  657.229980  624.619995  654.869995  42894000   \n",
       "2021-03-22  684.590027  699.619995  668.750000  670.000000  39512200   \n",
       "2021-03-23  675.770020  677.799988  657.510010  662.159973  30491900   \n",
       "2021-03-24  667.909973  668.020020  630.109985  630.270020  33795200   \n",
       "2021-03-25  613.000000  645.500000  609.500000  640.390015  39224900   \n",
       "2021-03-26  641.869995  643.820007  599.890015  618.710022  33852800   \n",
       "2021-03-29  615.640015  616.479980  596.020020  611.289978  28637000   \n",
       "2021-03-30  601.750000  637.659973  591.010010  635.619995  39432400   \n",
       "\n",
       "            Dividends  Stock Splits  \n",
       "Date                                 \n",
       "2021-01-04          0             0  \n",
       "2021-01-05          0             0  \n",
       "2021-01-06          0             0  \n",
       "2021-01-07          0             0  \n",
       "2021-01-08          0             0  \n",
       "2021-01-11          0             0  \n",
       "2021-01-12          0             0  \n",
       "2021-01-13          0             0  \n",
       "2021-01-14          0             0  \n",
       "2021-01-15          0             0  \n",
       "2021-01-19          0             0  \n",
       "2021-01-20          0             0  \n",
       "2021-01-21          0             0  \n",
       "2021-01-22          0             0  \n",
       "2021-01-25          0             0  \n",
       "2021-01-26          0             0  \n",
       "2021-01-27          0             0  \n",
       "2021-01-28          0             0  \n",
       "2021-01-29          0             0  \n",
       "2021-02-01          0             0  \n",
       "2021-02-02          0             0  \n",
       "2021-02-03          0             0  \n",
       "2021-02-04          0             0  \n",
       "2021-02-05          0             0  \n",
       "2021-02-08          0             0  \n",
       "2021-02-09          0             0  \n",
       "2021-02-10          0             0  \n",
       "2021-02-11          0             0  \n",
       "2021-02-12          0             0  \n",
       "2021-02-16          0             0  \n",
       "2021-02-17          0             0  \n",
       "2021-02-18          0             0  \n",
       "2021-02-19          0             0  \n",
       "2021-02-22          0             0  \n",
       "2021-02-23          0             0  \n",
       "2021-02-24          0             0  \n",
       "2021-02-25          0             0  \n",
       "2021-02-26          0             0  \n",
       "2021-03-01          0             0  \n",
       "2021-03-02          0             0  \n",
       "2021-03-03          0             0  \n",
       "2021-03-04          0             0  \n",
       "2021-03-05          0             0  \n",
       "2021-03-08          0             0  \n",
       "2021-03-09          0             0  \n",
       "2021-03-10          0             0  \n",
       "2021-03-11          0             0  \n",
       "2021-03-12          0             0  \n",
       "2021-03-15          0             0  \n",
       "2021-03-16          0             0  \n",
       "2021-03-17          0             0  \n",
       "2021-03-18          0             0  \n",
       "2021-03-19          0             0  \n",
       "2021-03-22          0             0  \n",
       "2021-03-23          0             0  \n",
       "2021-03-24          0             0  \n",
       "2021-03-25          0             0  \n",
       "2021-03-26          0             0  \n",
       "2021-03-29          0             0  \n",
       "2021-03-30          0             0  "
      ]
     },
     "execution_count": 28,
     "metadata": {},
     "output_type": "execute_result"
    }
   ],
   "source": [
    "data.history(start='2021-01-01', end='2021-03-31')"
   ]
  },
  {
   "cell_type": "code",
   "execution_count": 29,
   "metadata": {},
   "outputs": [],
   "source": [
    "import plotly.graph_objects as go"
   ]
  },
  {
   "cell_type": "code",
   "execution_count": 30,
   "metadata": {},
   "outputs": [],
   "source": [
    "stocks_price = data_cencosud.history(start='2021-01-01', end='2021-03-31')"
   ]
  },
  {
   "cell_type": "code",
   "execution_count": 31,
   "metadata": {},
   "outputs": [
    {
     "data": {
      "text/html": [
       "<div>\n",
       "<style scoped>\n",
       "    .dataframe tbody tr th:only-of-type {\n",
       "        vertical-align: middle;\n",
       "    }\n",
       "\n",
       "    .dataframe tbody tr th {\n",
       "        vertical-align: top;\n",
       "    }\n",
       "\n",
       "    .dataframe thead th {\n",
       "        text-align: right;\n",
       "    }\n",
       "</style>\n",
       "<table border=\"1\" class=\"dataframe\">\n",
       "  <thead>\n",
       "    <tr style=\"text-align: right;\">\n",
       "      <th></th>\n",
       "      <th>Open</th>\n",
       "      <th>High</th>\n",
       "      <th>Low</th>\n",
       "      <th>Close</th>\n",
       "      <th>Volume</th>\n",
       "      <th>Dividends</th>\n",
       "      <th>Stock Splits</th>\n",
       "    </tr>\n",
       "    <tr>\n",
       "      <th>Date</th>\n",
       "      <th></th>\n",
       "      <th></th>\n",
       "      <th></th>\n",
       "      <th></th>\n",
       "      <th></th>\n",
       "      <th></th>\n",
       "      <th></th>\n",
       "    </tr>\n",
       "  </thead>\n",
       "  <tbody>\n",
       "    <tr>\n",
       "      <th>2021-01-04</th>\n",
       "      <td>1081.880249</td>\n",
       "      <td>1097.864483</td>\n",
       "      <td>1072.542112</td>\n",
       "      <td>1081.880249</td>\n",
       "      <td>569074</td>\n",
       "      <td>0</td>\n",
       "      <td>0</td>\n",
       "    </tr>\n",
       "    <tr>\n",
       "      <th>2021-01-05</th>\n",
       "      <td>1114.690063</td>\n",
       "      <td>1118.896441</td>\n",
       "      <td>1071.027843</td>\n",
       "      <td>1114.690063</td>\n",
       "      <td>457539</td>\n",
       "      <td>0</td>\n",
       "      <td>0</td>\n",
       "    </tr>\n",
       "    <tr>\n",
       "      <th>2021-01-06</th>\n",
       "      <td>1127.309204</td>\n",
       "      <td>1134.712470</td>\n",
       "      <td>1110.904331</td>\n",
       "      <td>1127.309204</td>\n",
       "      <td>795452</td>\n",
       "      <td>0</td>\n",
       "      <td>0</td>\n",
       "    </tr>\n",
       "    <tr>\n",
       "      <th>2021-01-07</th>\n",
       "      <td>1156.669678</td>\n",
       "      <td>1156.753785</td>\n",
       "      <td>1134.039347</td>\n",
       "      <td>1156.669678</td>\n",
       "      <td>1925313</td>\n",
       "      <td>0</td>\n",
       "      <td>0</td>\n",
       "    </tr>\n",
       "    <tr>\n",
       "      <th>2021-01-08</th>\n",
       "      <td>1186.198486</td>\n",
       "      <td>1186.198486</td>\n",
       "      <td>1135.721955</td>\n",
       "      <td>1186.198486</td>\n",
       "      <td>846153</td>\n",
       "      <td>0</td>\n",
       "      <td>0</td>\n",
       "    </tr>\n",
       "  </tbody>\n",
       "</table>\n",
       "</div>"
      ],
      "text/plain": [
       "                   Open         High          Low        Close   Volume  \\\n",
       "Date                                                                      \n",
       "2021-01-04  1081.880249  1097.864483  1072.542112  1081.880249   569074   \n",
       "2021-01-05  1114.690063  1118.896441  1071.027843  1114.690063   457539   \n",
       "2021-01-06  1127.309204  1134.712470  1110.904331  1127.309204   795452   \n",
       "2021-01-07  1156.669678  1156.753785  1134.039347  1156.669678  1925313   \n",
       "2021-01-08  1186.198486  1186.198486  1135.721955  1186.198486   846153   \n",
       "\n",
       "            Dividends  Stock Splits  \n",
       "Date                                 \n",
       "2021-01-04          0             0  \n",
       "2021-01-05          0             0  \n",
       "2021-01-06          0             0  \n",
       "2021-01-07          0             0  \n",
       "2021-01-08          0             0  "
      ]
     },
     "execution_count": 31,
     "metadata": {},
     "output_type": "execute_result"
    }
   ],
   "source": [
    "stocks_price.head()"
   ]
  },
  {
   "cell_type": "code",
   "execution_count": 32,
   "metadata": {},
   "outputs": [
    {
     "data": {
      "text/plain": [
       "[<matplotlib.lines.Line2D at 0x1d3d421e1f0>]"
      ]
     },
     "execution_count": 32,
     "metadata": {},
     "output_type": "execute_result"
    },
    {
     "data": {
      "image/png": "[encoded data removed]",
      "text/plain": [
       "<Figure size 960x480 with 1 Axes>"
      ]
     },
     "metadata": {
      "needs_background": "light"
     },
     "output_type": "display_data"
    }
   ],
   "source": [
    "plt.figure(figsize=(12,6),dpi=80)\n",
    "plt.plot(stocks_price.index, stocks_price['Close'])\n",
    "plt.plot(stocks_price.index, stocks_price['High'])"
   ]
  },
  {
   "cell_type": "code",
   "execution_count": 33,
   "metadata": {},
   "outputs": [
    {
     "data": {
      "application/vnd.plotly.v1+json": {
       "config": {
        "plotlyServerURL": "https://plot.ly"
       },
       "data": [
        {
         "name": "Close Price",
         "type": "scatter",
         "x": [
          "2021-01-04T00:00:00",
          "2021-01-05T00:00:00",
          "2021-01-06T00:00:00",
          "2021-01-07T00:00:00",
          "2021-01-08T00:00:00",
          "2021-01-11T00:00:00",
          "2021-01-12T00:00:00",
          "2021-01-13T00:00:00",
          "2021-01-14T00:00:00",
          "2021-01-15T00:00:00",
          "2021-01-18T00:00:00",
          "2021-01-19T00:00:00",
          "2021-01-20T00:00:00",
          "2021-01-21T00:00:00",
          "2021-01-22T00:00:00",
          "2021-01-25T00:00:00",
          "2021-01-26T00:00:00",
          "2021-01-27T00:00:00",
          "2021-01-28T00:00:00",
          "2021-01-29T00:00:00",
          "2021-02-01T00:00:00",
          "2021-02-02T00:00:00",
          "2021-02-03T00:00:00",
          "2021-02-04T00:00:00",
          "2021-02-05T00:00:00",
          "2021-02-08T00:00:00",
          "2021-02-09T00:00:00",
          "2021-02-10T00:00:00",
          "2021-02-11T00:00:00",
          "2021-02-12T00:00:00",
          "2021-02-15T00:00:00",
          "2021-02-16T00:00:00",
          "2021-02-17T00:00:00",
          "2021-02-18T00:00:00",
          "2021-02-19T00:00:00",
          "2021-02-22T00:00:00",
          "2021-02-23T00:00:00",
          "2021-02-24T00:00:00",
          "2021-02-25T00:00:00",
          "2021-02-26T00:00:00",
          "2021-03-01T00:00:00",
          "2021-03-02T00:00:00",
          "2021-03-03T00:00:00",
          "2021-03-04T00:00:00",
          "2021-03-05T00:00:00",
          "2021-03-08T00:00:00",
          "2021-03-09T00:00:00",
          "2021-03-10T00:00:00",
          "2021-03-11T00:00:00",
          "2021-03-12T00:00:00",
          "2021-03-15T00:00:00",
          "2021-03-16T00:00:00",
          "2021-03-17T00:00:00",
          "2021-03-18T00:00:00",
          "2021-03-19T00:00:00",
          "2021-03-22T00:00:00",
          "2021-03-23T00:00:00",
          "2021-03-24T00:00:00",
          "2021-03-25T00:00:00",
          "2021-03-26T00:00:00",
          "2021-03-29T00:00:00",
          "2021-03-30T00:00:00"
         ],
         "y": [
          1081.8802490234375,
          1114.6900634765625,
          1127.3092041015625,
          1156.669677734375,
          1186.198486328125,
          1219.8494873046875,
          1211.3526611328125,
          1205.5477294921875,
          1234.151123046875,
          1211.436767578125,
          1248.452880859375,
          1228.26220703125,
          1214.8017578125,
          1192.08740234375,
          1164.0728759765625,
          1152.5474853515625,
          1144.9759521484375,
          1115.53125,
          1106.27734375,
          1072.79443359375,
          1086.086669921875,
          1125.6265869140625,
          1110.483642578125,
          1114.6900634765625,
          1097.94873046875,
          1109.642333984375,
          1152.4632568359375,
          1135.721923828125,
          1153.388671875,
          1169.373046875,
          1170.6348876953125,
          1177.78564453125,
          1148.341064453125,
          1149.182373046875,
          1177.78564453125,
          1152.5474853515625,
          1160.960205078125,
          1178.626953125,
          1211.60498046875,
          1192.508056640625,
          1177.78564453125,
          1224.055908203125,
          1245.0877685546875,
          1211.436767578125,
          1228.26220703125,
          1203.865234375,
          1240.0401611328125,
          1234.067138671875,
          1198.8175048828125,
          1231.6273193359375,
          1228.4305419921875,
          1227.4208984375,
          1245.0877685546875,
          1236.675048828125,
          1224.308349609375,
          1253.5006103515625,
          1270.41015625,
          1277.05615234375,
          1249.2940673828125,
          1303.97705078125,
          1319.9613037109375,
          1320.8026123046875
         ]
        },
        {
         "name": "Higher Price",
         "type": "scatter",
         "x": [
          "2021-01-04T00:00:00",
          "2021-01-05T00:00:00",
          "2021-01-06T00:00:00",
          "2021-01-07T00:00:00",
          "2021-01-08T00:00:00",
          "2021-01-11T00:00:00",
          "2021-01-12T00:00:00",
          "2021-01-13T00:00:00",
          "2021-01-14T00:00:00",
          "2021-01-15T00:00:00",
          "2021-01-18T00:00:00",
          "2021-01-19T00:00:00",
          "2021-01-20T00:00:00",
          "2021-01-21T00:00:00",
          "2021-01-22T00:00:00",
          "2021-01-25T00:00:00",
          "2021-01-26T00:00:00",
          "2021-01-27T00:00:00",
          "2021-01-28T00:00:00",
          "2021-01-29T00:00:00",
          "2021-02-01T00:00:00",
          "2021-02-02T00:00:00",
          "2021-02-03T00:00:00",
          "2021-02-04T00:00:00",
          "2021-02-05T00:00:00",
          "2021-02-08T00:00:00",
          "2021-02-09T00:00:00",
          "2021-02-10T00:00:00",
          "2021-02-11T00:00:00",
          "2021-02-12T00:00:00",
          "2021-02-15T00:00:00",
          "2021-02-16T00:00:00",
          "2021-02-17T00:00:00",
          "2021-02-18T00:00:00",
          "2021-02-19T00:00:00",
          "2021-02-22T00:00:00",
          "2021-02-23T00:00:00",
          "2021-02-24T00:00:00",
          "2021-02-25T00:00:00",
          "2021-02-26T00:00:00",
          "2021-03-01T00:00:00",
          "2021-03-02T00:00:00",
          "2021-03-03T00:00:00",
          "2021-03-04T00:00:00",
          "2021-03-05T00:00:00",
          "2021-03-08T00:00:00",
          "2021-03-09T00:00:00",
          "2021-03-10T00:00:00",
          "2021-03-11T00:00:00",
          "2021-03-12T00:00:00",
          "2021-03-15T00:00:00",
          "2021-03-16T00:00:00",
          "2021-03-17T00:00:00",
          "2021-03-18T00:00:00",
          "2021-03-19T00:00:00",
          "2021-03-22T00:00:00",
          "2021-03-23T00:00:00",
          "2021-03-24T00:00:00",
          "2021-03-25T00:00:00",
          "2021-03-26T00:00:00",
          "2021-03-29T00:00:00",
          "2021-03-30T00:00:00"
         ],
         "y": [
          1097.864482873706,
          1118.8964410745873,
          1134.7124698034195,
          1156.7537847434041,
          1186.198486328125,
          1219.8494873046875,
          1240.0401362840116,
          1211.352550682567,
          1240.8813268535382,
          1250.976717631022,
          1249.2100493718954,
          1278.7387360873288,
          1227.2526756325256,
          1224.055871849087,
          1190.404840378747,
          1177.7857514541513,
          1173.57931906471,
          1144.1346153846155,
          1115.5313747623575,
          1135.6377725459038,
          1110.2312356811176,
          1127.2250308574517,
          1142.452111076586,
          1129.8330228294515,
          1131.515646391359,
          1124.7852922950035,
          1152.4632568359375,
          1152.4633267998033,
          1171.8967322551969,
          1176.103251461331,
          1190.4048624425923,
          1197.1349801199776,
          1186.198462182349,
          1175.2619144556986,
          1194.6111537388392,
          1189.563608968693,
          1165.166582632756,
          1206.3890440979658,
          1219.8495217627083,
          1235.833746176422,
          1213.8763823204806,
          1224.055908203125,
          1245.0877685546875,
          1253.5846512444937,
          1246.7702676851454,
          1228.2622237508735,
          1253.5005699375106,
          1249.2942057586663,
          1245.928929636102,
          1236.6749722840354,
          1245.0878392985496,
          1236.5067145004102,
          1245.0877685546875,
          1257.7069374136374,
          1236.5909521066055,
          1253.5006103515625,
          1286.2261772786599,
          1295.564212522645,
          1285.4689124316078,
          1303.97705078125,
          1362.6981416202752,
          1345.1996032326085
         ]
        }
       ],
       "layout": {
        "template": {
         "data": {
          "bar": [
           {
            "error_x": {
             "color": "#2a3f5f"
            },
            "error_y": {
             "color": "#2a3f5f"
            },
            "marker": {
             "line": {
              "color": "#E5ECF6",
              "width": 0.5
             },
             "pattern": {
              "fillmode": "overlay",
              "size": 10,
              "solidity": 0.2
             }
            },
            "type": "bar"
           }
          ],
          "barpolar": [
           {
            "marker": {
             "line": {
              "color": "#E5ECF6",
              "width": 0.5
             },
             "pattern": {
              "fillmode": "overlay",
              "size": 10,
              "solidity": 0.2
             }
            },
            "type": "barpolar"
           }
          ],
          "carpet": [
           {
            "aaxis": {
             "endlinecolor": "#2a3f5f",
             "gridcolor": "white",
             "linecolor": "white",
             "minorgridcolor": "white",
             "startlinecolor": "#2a3f5f"
            },
            "baxis": {
             "endlinecolor": "#2a3f5f",
             "gridcolor": "white",
             "linecolor": "white",
             "minorgridcolor": "white",
             "startlinecolor": "#2a3f5f"
            },
            "type": "carpet"
           }
          ],
          "choropleth": [
           {
            "colorbar": {
             "outlinewidth": 0,
             "ticks": ""
            },
            "type": "choropleth"
           }
          ],
          "contour": [
           {
            "colorbar": {
             "outlinewidth": 0,
             "ticks": ""
            },
            "colorscale": [
             [
              0,
              "#0d0887"
             ],
             [
              0.1111111111111111,
              "#46039f"
             ],
             [
              0.2222222222222222,
              "#7201a8"
             ],
             [
              0.3333333333333333,
              "#9c179e"
             ],
             [
              0.4444444444444444,
              "#bd3786"
             ],
             [
              0.5555555555555556,
              "#d8576b"
             ],
             [
              0.6666666666666666,
              "#ed7953"
             ],
             [
              0.7777777777777778,
              "#fb9f3a"
             ],
             [
              0.8888888888888888,
              "#fdca26"
             ],
             [
              1,
              "#f0f921"
             ]
            ],
            "type": "contour"
           }
          ],
          "contourcarpet": [
           {
            "colorbar": {
             "outlinewidth": 0,
             "ticks": ""
            },
            "type": "contourcarpet"
           }
          ],
          "heatmap": [
           {
            "colorbar": {
             "outlinewidth": 0,
             "ticks": ""
            },
            "colorscale": [
             [
              0,
              "#0d0887"
             ],
             [
              0.1111111111111111,
              "#46039f"
             ],
             [
              0.2222222222222222,
              "#7201a8"
             ],
             [
              0.3333333333333333,
              "#9c179e"
             ],
             [
              0.4444444444444444,
              "#bd3786"
             ],
             [
              0.5555555555555556,
              "#d8576b"
             ],
             [
              0.6666666666666666,
              "#ed7953"
             ],
             [
              0.7777777777777778,
              "#fb9f3a"
             ],
             [
              0.8888888888888888,
              "#fdca26"
             ],
             [
              1,
              "#f0f921"
             ]
            ],
            "type": "heatmap"
           }
          ],
          "heatmapgl": [
           {
            "colorbar": {
             "outlinewidth": 0,
             "ticks": ""
            },
            "colorscale": [
             [
              0,
              "#0d0887"
             ],
             [
              0.1111111111111111,
              "#46039f"
             ],
             [
              0.2222222222222222,
              "#7201a8"
             ],
             [
              0.3333333333333333,
              "#9c179e"
             ],
             [
              0.4444444444444444,
              "#bd3786"
             ],
             [
              0.5555555555555556,
              "#d8576b"
             ],
             [
              0.6666666666666666,
              "#ed7953"
             ],
             [
              0.7777777777777778,
              "#fb9f3a"
             ],
             [
              0.8888888888888888,
              "#fdca26"
             ],
             [
              1,
              "#f0f921"
             ]
            ],
            "type": "heatmapgl"
           }
          ],
          "histogram": [
           {
            "marker": {
             "pattern": {
              "fillmode": "overlay",
              "size": 10,
              "solidity": 0.2
             }
            },
            "type": "histogram"
           }
          ],
          "histogram2d": [
           {
            "colorbar": {
             "outlinewidth": 0,
             "ticks": ""
            },
            "colorscale": [
             [
              0,
              "#0d0887"
             ],
             [
              0.1111111111111111,
              "#46039f"
             ],
             [
              0.2222222222222222,
              "#7201a8"
             ],
             [
              0.3333333333333333,
              "#9c179e"
             ],
             [
              0.4444444444444444,
              "#bd3786"
             ],
             [
              0.5555555555555556,
              "#d8576b"
             ],
             [
              0.6666666666666666,
              "#ed7953"
             ],
             [
              0.7777777777777778,
              "#fb9f3a"
             ],
             [
              0.8888888888888888,
              "#fdca26"
             ],
             [
              1,
              "#f0f921"
             ]
            ],
            "type": "histogram2d"
           }
          ],
          "histogram2dcontour": [
           {
            "colorbar": {
             "outlinewidth": 0,
             "ticks": ""
            },
            "colorscale": [
             [
              0,
              "#0d0887"
             ],
             [
              0.1111111111111111,
              "#46039f"
             ],
             [
              0.2222222222222222,
              "#7201a8"
             ],
             [
              0.3333333333333333,
              "#9c179e"
             ],
             [
              0.4444444444444444,
              "#bd3786"
             ],
             [
              0.5555555555555556,
              "#d8576b"
             ],
             [
              0.6666666666666666,
              "#ed7953"
             ],
             [
              0.7777777777777778,
              "#fb9f3a"
             ],
             [
              0.8888888888888888,
              "#fdca26"
             ],
             [
              1,
              "#f0f921"
             ]
            ],
            "type": "histogram2dcontour"
           }
          ],
          "mesh3d": [
           {
            "colorbar": {
             "outlinewidth": 0,
             "ticks": ""
            },
            "type": "mesh3d"
           }
          ],
          "parcoords": [
           {
            "line": {
             "colorbar": {
              "outlinewidth": 0,
              "ticks": ""
             }
            },
            "type": "parcoords"
           }
          ],
          "pie": [
           {
            "automargin": true,
            "type": "pie"
           }
          ],
          "scatter": [
           {
            "marker": {
             "colorbar": {
              "outlinewidth": 0,
              "ticks": ""
             }
            },
            "type": "scatter"
           }
          ],
          "scatter3d": [
           {
            "line": {
             "colorbar": {
              "outlinewidth": 0,
              "ticks": ""
             }
            },
            "marker": {
             "colorbar": {
              "outlinewidth": 0,
              "ticks": ""
             }
            },
            "type": "scatter3d"
           }
          ],
          "scattercarpet": [
           {
            "marker": {
             "colorbar": {
              "outlinewidth": 0,
              "ticks": ""
             }
            },
            "type": "scattercarpet"
           }
          ],
          "scattergeo": [
           {
            "marker": {
             "colorbar": {
              "outlinewidth": 0,
              "ticks": ""
             }
            },
            "type": "scattergeo"
           }
          ],
          "scattergl": [
           {
            "marker": {
             "colorbar": {
              "outlinewidth": 0,
              "ticks": ""
             }
            },
            "type": "scattergl"
           }
          ],
          "scattermapbox": [
           {
            "marker": {
             "colorbar": {
              "outlinewidth": 0,
              "ticks": ""
             }
            },
            "type": "scattermapbox"
           }
          ],
          "scatterpolar": [
           {
            "marker": {
             "colorbar": {
              "outlinewidth": 0,
              "ticks": ""
             }
            },
            "type": "scatterpolar"
           }
          ],
          "scatterpolargl": [
           {
            "marker": {
             "colorbar": {
              "outlinewidth": 0,
              "ticks": ""
             }
            },
            "type": "scatterpolargl"
           }
          ],
          "scatterternary": [
           {
            "marker": {
             "colorbar": {
              "outlinewidth": 0,
              "ticks": ""
             }
            },
            "type": "scatterternary"
           }
          ],
          "surface": [
           {
            "colorbar": {
             "outlinewidth": 0,
             "ticks": ""
            },
            "colorscale": [
             [
              0,
              "#0d0887"
             ],
             [
              0.1111111111111111,
              "#46039f"
             ],
             [
              0.2222222222222222,
              "#7201a8"
             ],
             [
              0.3333333333333333,
              "#9c179e"
             ],
             [
              0.4444444444444444,
              "#bd3786"
             ],
             [
              0.5555555555555556,
              "#d8576b"
             ],
             [
              0.6666666666666666,
              "#ed7953"
             ],
             [
              0.7777777777777778,
              "#fb9f3a"
             ],
             [
              0.8888888888888888,
              "#fdca26"
             ],
             [
              1,
              "#f0f921"
             ]
            ],
            "type": "surface"
           }
          ],
          "table": [
           {
            "cells": {
             "fill": {
              "color": "#EBF0F8"
             },
             "line": {
              "color": "white"
             }
            },
            "header": {
             "fill": {
              "color": "#C8D4E3"
             },
             "line": {
              "color": "white"
             }
            },
            "type": "table"
           }
          ]
         },
         "layout": {
          "annotationdefaults": {
           "arrowcolor": "#2a3f5f",
           "arrowhead": 0,
           "arrowwidth": 1
          },
          "autotypenumbers": "strict",
          "coloraxis": {
           "colorbar": {
            "outlinewidth": 0,
            "ticks": ""
           }
          },
          "colorscale": {
           "diverging": [
            [
             0,
             "#8e0152"
            ],
            [
             0.1,
             "#c51b7d"
            ],
            [
             0.2,
             "#de77ae"
            ],
            [
             0.3,
             "#f1b6da"
            ],
            [
             0.4,
             "#fde0ef"
            ],
            [
             0.5,
             "#f7f7f7"
            ],
            [
             0.6,
             "#e6f5d0"
            ],
            [
             0.7,
             "#b8e186"
            ],
            [
             0.8,
             "#7fbc41"
            ],
            [
             0.9,
             "#4d9221"
            ],
            [
             1,
             "#276419"
            ]
           ],
           "sequential": [
            [
             0,
             "#0d0887"
            ],
            [
             0.1111111111111111,
             "#46039f"
            ],
            [
             0.2222222222222222,
             "#7201a8"
            ],
            [
             0.3333333333333333,
             "#9c179e"
            ],
            [
             0.4444444444444444,
             "#bd3786"
            ],
            [
             0.5555555555555556,
             "#d8576b"
            ],
            [
             0.6666666666666666,
             "#ed7953"
            ],
            [
             0.7777777777777778,
             "#fb9f3a"
            ],
            [
             0.8888888888888888,
             "#fdca26"
            ],
            [
             1,
             "#f0f921"
            ]
           ],
           "sequentialminus": [
            [
             0,
             "#0d0887"
            ],
            [
             0.1111111111111111,
             "#46039f"
            ],
            [
             0.2222222222222222,
             "#7201a8"
            ],
            [
             0.3333333333333333,
             "#9c179e"
            ],
            [
             0.4444444444444444,
             "#bd3786"
            ],
            [
             0.5555555555555556,
             "#d8576b"
            ],
            [
             0.6666666666666666,
             "#ed7953"
            ],
            [
             0.7777777777777778,
             "#fb9f3a"
            ],
            [
             0.8888888888888888,
             "#fdca26"
            ],
            [
             1,
             "#f0f921"
            ]
           ]
          },
          "colorway": [
           "#636efa",
           "#EF553B",
           "#00cc96",
           "#ab63fa",
           "#FFA15A",
           "#19d3f3",
           "#FF6692",
           "#B6E880",
           "#FF97FF",
           "#FECB52"
          ],
          "font": {
           "color": "#2a3f5f"
          },
          "geo": {
           "bgcolor": "white",
           "lakecolor": "white",
           "landcolor": "#E5ECF6",
           "showlakes": true,
           "showland": true,
           "subunitcolor": "white"
          },
          "hoverlabel": {
           "align": "left"
          },
          "hovermode": "closest",
          "mapbox": {
           "style": "light"
          },
          "paper_bgcolor": "white",
          "plot_bgcolor": "#E5ECF6",
          "polar": {
           "angularaxis": {
            "gridcolor": "white",
            "linecolor": "white",
            "ticks": ""
           },
           "bgcolor": "#E5ECF6",
           "radialaxis": {
            "gridcolor": "white",
            "linecolor": "white",
            "ticks": ""
           }
          },
          "scene": {
           "xaxis": {
            "backgroundcolor": "#E5ECF6",
            "gridcolor": "white",
            "gridwidth": 2,
            "linecolor": "white",
            "showbackground": true,
            "ticks": "",
            "zerolinecolor": "white"
           },
           "yaxis": {
            "backgroundcolor": "#E5ECF6",
            "gridcolor": "white",
            "gridwidth": 2,
            "linecolor": "white",
            "showbackground": true,
            "ticks": "",
            "zerolinecolor": "white"
           },
           "zaxis": {
            "backgroundcolor": "#E5ECF6",
            "gridcolor": "white",
            "gridwidth": 2,
            "linecolor": "white",
            "showbackground": true,
            "ticks": "",
            "zerolinecolor": "white"
           }
          },
          "shapedefaults": {
           "line": {
            "color": "#2a3f5f"
           }
          },
          "ternary": {
           "aaxis": {
            "gridcolor": "white",
            "linecolor": "white",
            "ticks": ""
           },
           "baxis": {
            "gridcolor": "white",
            "linecolor": "white",
            "ticks": ""
           },
           "bgcolor": "#E5ECF6",
           "caxis": {
            "gridcolor": "white",
            "linecolor": "white",
            "ticks": ""
           }
          },
          "title": {
           "x": 0.05
          },
          "xaxis": {
           "automargin": true,
           "gridcolor": "white",
           "linecolor": "white",
           "ticks": "",
           "title": {
            "standoff": 15
           },
           "zerolinecolor": "white",
           "zerolinewidth": 2
          },
          "yaxis": {
           "automargin": true,
           "gridcolor": "white",
           "linecolor": "white",
           "ticks": "",
           "title": {
            "standoff": 15
           },
           "zerolinecolor": "white",
           "zerolinewidth": 2
          }
         }
        },
        "title": {
         "text": "Stock Prices January - March 2021 CECONSUD"
        }
       }
      }
     },
     "metadata": {},
     "output_type": "display_data"
    }
   ],
   "source": [
    "fig = go.Figure()\n",
    "\n",
    "fig.add_trace(go.Scatter(x=stocks_price.index, y=stocks_price['Close'], name='Close Price'))\n",
    "fig.add_trace(go.Scatter(x=stocks_price.index, y=stocks_price['High'], name='Higher Price'))\n",
    "\n",
    "fig.update_layout(\n",
    "    title_text='Stock Prices January - March 2021 CECONSUD'\n",
    ")"
   ]
  },
  {
   "cell_type": "markdown",
   "metadata": {},
   "source": [
    "# Stock return"
   ]
  },
  {
   "cell_type": "code",
   "execution_count": 34,
   "metadata": {},
   "outputs": [],
   "source": [
    "tesla = yf.Ticker('TSLA')"
   ]
  },
  {
   "cell_type": "code",
   "execution_count": 35,
   "metadata": {},
   "outputs": [],
   "source": [
    "price = tesla.history(period='1y')"
   ]
  },
  {
   "cell_type": "code",
   "execution_count": 36,
   "metadata": {},
   "outputs": [
    {
     "name": "stdout",
     "output_type": "stream",
     "text": [
      "Date\n",
      "2021-02-05         NaN\n",
      "2021-02-08    0.013130\n",
      "2021-02-09   -0.016168\n",
      "2021-02-10   -0.052551\n",
      "2021-02-11    0.008499\n",
      "                ...   \n",
      "2022-01-31    0.106776\n",
      "2022-02-01   -0.005839\n",
      "2022-02-02   -0.027479\n",
      "2022-02-03   -0.016032\n",
      "2022-02-04    0.036111\n",
      "Name: Close, Length: 253, dtype: float64\n"
     ]
    }
   ],
   "source": [
    "x = price['Close'].pct_change()\n",
    "print(x)"
   ]
  },
  {
   "cell_type": "code",
   "execution_count": 37,
   "metadata": {},
   "outputs": [
    {
     "data": {
      "text/plain": [
       "[<matplotlib.lines.Line2D at 0x1d3d3a2da60>]"
      ]
     },
     "execution_count": 37,
     "metadata": {},
     "output_type": "execute_result"
    },
    {
     "data": {
      "image/png": "[encoded data removed]",
      "text/plain": [
       "<Figure size 432x288 with 1 Axes>"
      ]
     },
     "metadata": {
      "needs_background": "light"
     },
     "output_type": "display_data"
    }
   ],
   "source": [
    "plt.plot(x)"
   ]
  },
  {
   "cell_type": "code",
   "execution_count": 38,
   "metadata": {},
   "outputs": [
    {
     "data": {
      "application/vnd.plotly.v1+json": {
       "config": {
        "plotlyServerURL": "https://plot.ly"
       },
       "data": [
        {
         "hovertemplate": "variable=Close<br>Date=%{x}<br>value=%{y}<extra></extra>",
         "legendgroup": "Close",
         "line": {
          "color": "#636efa",
          "dash": "solid"
         },
         "marker": {
          "symbol": "circle"
         },
         "mode": "lines",
         "name": "Close",
         "orientation": "v",
         "showlegend": true,
         "type": "scatter",
         "x": [
          "2021-02-05T00:00:00",
          "2021-02-08T00:00:00",
          "2021-02-09T00:00:00",
          "2021-02-10T00:00:00",
          "2021-02-11T00:00:00",
          "2021-02-12T00:00:00",
          "2021-02-16T00:00:00",
          "2021-02-17T00:00:00",
          "2021-02-18T00:00:00",
          "2021-02-19T00:00:00",
          "2021-02-22T00:00:00",
          "2021-02-23T00:00:00",
          "2021-02-24T00:00:00",
          "2021-02-25T00:00:00",
          "2021-02-26T00:00:00",
          "2021-03-01T00:00:00",
          "2021-03-02T00:00:00",
          "2021-03-03T00:00:00",
          "2021-03-04T00:00:00",
          "2021-03-05T00:00:00",
          "2021-03-08T00:00:00",
          "2021-03-09T00:00:00",
          "2021-03-10T00:00:00",
          "2021-03-11T00:00:00",
          "2021-03-12T00:00:00",
          "2021-03-15T00:00:00",
          "2021-03-16T00:00:00",
          "2021-03-17T00:00:00",
          "2021-03-18T00:00:00",
          "2021-03-19T00:00:00",
          "2021-03-22T00:00:00",
          "2021-03-23T00:00:00",
          "2021-03-24T00:00:00",
          "2021-03-25T00:00:00",
          "2021-03-26T00:00:00",
          "2021-03-29T00:00:00",
          "2021-03-30T00:00:00",
          "2021-03-31T00:00:00",
          "2021-04-01T00:00:00",
          "2021-04-05T00:00:00",
          "2021-04-06T00:00:00",
          "2021-04-07T00:00:00",
          "2021-04-08T00:00:00",
          "2021-04-09T00:00:00",
          "2021-04-12T00:00:00",
          "2021-04-13T00:00:00",
          "2021-04-14T00:00:00",
          "2021-04-15T00:00:00",
          "2021-04-16T00:00:00",
          "2021-04-19T00:00:00",
          "2021-04-20T00:00:00",
          "2021-04-21T00:00:00",
          "2021-04-22T00:00:00",
          "2021-04-23T00:00:00",
          "2021-04-26T00:00:00",
          "2021-04-27T00:00:00",
          "2021-04-28T00:00:00",
          "2021-04-29T00:00:00",
          "2021-04-30T00:00:00",
          "2021-05-03T00:00:00",
          "2021-05-04T00:00:00",
          "2021-05-05T00:00:00",
          "2021-05-06T00:00:00",
          "2021-05-07T00:00:00",
          "2021-05-10T00:00:00",
          "2021-05-11T00:00:00",
          "2021-05-12T00:00:00",
          "2021-05-13T00:00:00",
          "2021-05-14T00:00:00",
          "2021-05-17T00:00:00",
          "2021-05-18T00:00:00",
          "2021-05-19T00:00:00",
          "2021-05-20T00:00:00",
          "2021-05-21T00:00:00",
          "2021-05-24T00:00:00",
          "2021-05-25T00:00:00",
          "2021-05-26T00:00:00",
          "2021-05-27T00:00:00",
          "2021-05-28T00:00:00",
          "2021-06-01T00:00:00",
          "2021-06-02T00:00:00",
          "2021-06-03T00:00:00",
          "2021-06-04T00:00:00",
          "2021-06-07T00:00:00",
          "2021-06-08T00:00:00",
          "2021-06-09T00:00:00",
          "2021-06-10T00:00:00",
          "2021-06-11T00:00:00",
          "2021-06-14T00:00:00",
          "2021-06-15T00:00:00",
          "2021-06-16T00:00:00",
          "2021-06-17T00:00:00",
          "2021-06-18T00:00:00",
          "2021-06-21T00:00:00",
          "2021-06-22T00:00:00",
          "2021-06-23T00:00:00",
          "2021-06-24T00:00:00",
          "2021-06-25T00:00:00",
          "2021-06-28T00:00:00",
          "2021-06-29T00:00:00",
          "2021-06-30T00:00:00",
          "2021-07-01T00:00:00",
          "2021-07-02T00:00:00",
          "2021-07-06T00:00:00",
          "2021-07-07T00:00:00",
          "2021-07-08T00:00:00",
          "2021-07-09T00:00:00",
          "2021-07-12T00:00:00",
          "2021-07-13T00:00:00",
          "2021-07-14T00:00:00",
          "2021-07-15T00:00:00",
          "2021-07-16T00:00:00",
          "2021-07-19T00:00:00",
          "2021-07-20T00:00:00",
          "2021-07-21T00:00:00",
          "2021-07-22T00:00:00",
          "2021-07-23T00:00:00",
          "2021-07-26T00:00:00",
          "2021-07-27T00:00:00",
          "2021-07-28T00:00:00",
          "2021-07-29T00:00:00",
          "2021-07-30T00:00:00",
          "2021-08-02T00:00:00",
          "2021-08-03T00:00:00",
          "2021-08-04T00:00:00",
          "2021-08-05T00:00:00",
          "2021-08-06T00:00:00",
          "2021-08-09T00:00:00",
          "2021-08-10T00:00:00",
          "2021-08-11T00:00:00",
          "2021-08-12T00:00:00",
          "2021-08-13T00:00:00",
          "2021-08-16T00:00:00",
          "2021-08-17T00:00:00",
          "2021-08-18T00:00:00",
          "2021-08-19T00:00:00",
          "2021-08-20T00:00:00",
          "2021-08-23T00:00:00",
          "2021-08-24T00:00:00",
          "2021-08-25T00:00:00",
          "2021-08-26T00:00:00",
          "2021-08-27T00:00:00",
          "2021-08-30T00:00:00",
          "2021-08-31T00:00:00",
          "2021-09-01T00:00:00",
          "2021-09-02T00:00:00",
          "2021-09-03T00:00:00",
          "2021-09-07T00:00:00",
          "2021-09-08T00:00:00",
          "2021-09-09T00:00:00",
          "2021-09-10T00:00:00",
          "2021-09-13T00:00:00",
          "2021-09-14T00:00:00",
          "2021-09-15T00:00:00",
          "2021-09-16T00:00:00",
          "2021-09-17T00:00:00",
          "2021-09-20T00:00:00",
          "2021-09-21T00:00:00",
          "2021-09-22T00:00:00",
          "2021-09-23T00:00:00",
          "2021-09-24T00:00:00",
          "2021-09-27T00:00:00",
          "2021-09-28T00:00:00",
          "2021-09-29T00:00:00",
          "2021-09-30T00:00:00",
          "2021-10-01T00:00:00",
          "2021-10-04T00:00:00",
          "2021-10-05T00:00:00",
          "2021-10-06T00:00:00",
          "2021-10-07T00:00:00",
          "2021-10-08T00:00:00",
          "2021-10-11T00:00:00",
          "2021-10-12T00:00:00",
          "2021-10-13T00:00:00",
          "2021-10-14T00:00:00",
          "2021-10-15T00:00:00",
          "2021-10-18T00:00:00",
          "2021-10-19T00:00:00",
          "2021-10-20T00:00:00",
          "2021-10-21T00:00:00",
          "2021-10-22T00:00:00",
          "2021-10-25T00:00:00",
          "2021-10-26T00:00:00",
          "2021-10-27T00:00:00",
          "2021-10-28T00:00:00",
          "2021-10-29T00:00:00",
          "2021-11-01T00:00:00",
          "2021-11-02T00:00:00",
          "2021-11-03T00:00:00",
          "2021-11-04T00:00:00",
          "2021-11-05T00:00:00",
          "2021-11-08T00:00:00",
          "2021-11-09T00:00:00",
          "2021-11-10T00:00:00",
          "2021-11-11T00:00:00",
          "2021-11-12T00:00:00",
          "2021-11-15T00:00:00",
          "2021-11-16T00:00:00",
          "2021-11-17T00:00:00",
          "2021-11-18T00:00:00",
          "2021-11-19T00:00:00",
          "2021-11-22T00:00:00",
          "2021-11-23T00:00:00",
          "2021-11-24T00:00:00",
          "2021-11-26T00:00:00",
          "2021-11-29T00:00:00",
          "2021-11-30T00:00:00",
          "2021-12-01T00:00:00",
          "2021-12-02T00:00:00",
          "2021-12-03T00:00:00",
          "2021-12-06T00:00:00",
          "2021-12-07T00:00:00",
          "2021-12-08T00:00:00",
          "2021-12-09T00:00:00",
          "2021-12-10T00:00:00",
          "2021-12-13T00:00:00",
          "2021-12-14T00:00:00",
          "2021-12-15T00:00:00",
          "2021-12-16T00:00:00",
          "2021-12-17T00:00:00",
          "2021-12-20T00:00:00",
          "2021-12-21T00:00:00",
          "2021-12-22T00:00:00",
          "2021-12-23T00:00:00",
          "2021-12-27T00:00:00",
          "2021-12-28T00:00:00",
          "2021-12-29T00:00:00",
          "2021-12-30T00:00:00",
          "2021-12-31T00:00:00",
          "2022-01-03T00:00:00",
          "2022-01-04T00:00:00",
          "2022-01-05T00:00:00",
          "2022-01-06T00:00:00",
          "2022-01-07T00:00:00",
          "2022-01-10T00:00:00",
          "2022-01-11T00:00:00",
          "2022-01-12T00:00:00",
          "2022-01-13T00:00:00",
          "2022-01-14T00:00:00",
          "2022-01-18T00:00:00",
          "2022-01-19T00:00:00",
          "2022-01-20T00:00:00",
          "2022-01-21T00:00:00",
          "2022-01-24T00:00:00",
          "2022-01-25T00:00:00",
          "2022-01-26T00:00:00",
          "2022-01-27T00:00:00",
          "2022-01-28T00:00:00",
          "2022-01-31T00:00:00",
          "2022-02-01T00:00:00",
          "2022-02-02T00:00:00",
          "2022-02-03T00:00:00",
          "2022-02-04T00:00:00"
         ],
         "xaxis": "x",
         "y": [
          null,
          0.013130261429258105,
          -0.016168216179625494,
          -0.05255104830568991,
          0.008498752215484018,
          0.005494938915587166,
          -0.024383699128955993,
          0.0024240207253696244,
          -0.013493728248842096,
          -0.00772183323444775,
          -0.08549851380603068,
          -0.021917387186187853,
          0.06178809314926603,
          -0.08059088333748998,
          -0.009850152431332582,
          0.06355291291751475,
          -0.04452763743232491,
          -0.04842373713092618,
          -0.04862218183112754,
          -0.03779928897736162,
          -0.05844972237400059,
          0.1964121085077153,
          -0.008195046455057975,
          0.04721129560609172,
          -0.00839050217557713,
          0.02048350564733359,
          -0.043873771013758334,
          0.03683074177984813,
          -0.06932079135849123,
          0.0026180752694069387,
          0.02310382976105818,
          -0.01170153262010265,
          -0.04816049732187688,
          0.016056602414174836,
          -0.03385435778177015,
          -0.011992765078630674,
          0.03980110579983265,
          0.050832254817026135,
          -0.009252455711748597,
          0.044276521032064586,
          0.0008248423909813507,
          -0.029857471674981872,
          0.01912159656921597,
          -0.009915133639592177,
          0.03686738976312931,
          0.08595690551627477,
          -0.03947164782029822,
          0.009040868707601346,
          0.0012587856015018328,
          -0.03399662523732405,
          0.006101038749803722,
          0.034951814662427694,
          -0.0328307165995908,
          0.013491950617233739,
          0.012064693581602004,
          -0.04532649880703643,
          -0.014672029349255045,
          -0.025057637964147172,
          0.047917285733244164,
          -0.03459063196731782,
          -0.01649882964713323,
          -0.003948891390943787,
          -0.011029338520784915,
          0.013307437957385426,
          -0.0644437101662928,
          -0.018822278764288325,
          -0.044248212926854213,
          -0.030853229848072816,
          0.03157303383981902,
          -0.021890957639485453,
          0.0018029193983186698,
          -0.024936358119111213,
          0.04138715510388136,
          -0.0100549168674543,
          0.0440021989804078,
          -0.0028856935442168608,
          0.023880008571508515,
          0.018929741105574882,
          -0.008924475074415739,
          -0.0021111710292588404,
          -0.03010102350053967,
          -0.05334473909669335,
          0.045754416082577576,
          0.010149431956828714,
          -0.0025448713746097917,
          -0.007968981170302758,
          0.0189384502913843,
          -0.00037694301217883197,
          0.012789171171239788,
          -0.029675107282609026,
          0.009193155866741742,
          0.019392564622878083,
          0.010882293607423321,
          -0.0039787272440097166,
          0.004638958818893091,
          0.052684715964052664,
          0.035411303807118655,
          -0.011694289843458106,
          0.025079220248551914,
          -0.011557615977613622,
          -0.0015570796512542895,
          -0.0026188454684518137,
          0.0014456595595533361,
          -0.028457809146336777,
          -0.02263560491364547,
          0.012657989351583465,
          0.006341837079579804,
          0.043762842630010734,
          -0.025025570765932037,
          -0.022676240229138833,
          -0.004254842933820169,
          -0.009806340489125542,
          0.0031045296497360653,
          0.022097783950157934,
          -0.00788799693059239,
          -0.009201984562423937,
          -0.009056471666775034,
          0.022133094168770073,
          -0.019524901790774263,
          0.00341194061837502,
          0.04694116670377313,
          0.014542019600093825,
          0.03269786132709718,
          0.00009864771781908921,
          0.001662570366637528,
          0.005218621028866277,
          -0.021731566252135792,
          0.020969867961160293,
          -0.00528191476080031,
          -0.0030563570472872392,
          0.020386528392057013,
          -0.007033599293656989,
          -0.04322545664028932,
          -0.029817627478727737,
          0.034970133381400315,
          -0.022525754729717518,
          0.010082170486994446,
          0.03827944852485965,
          0.003100668949817642,
          0.003825067410987426,
          -0.014117040059298147,
          0.01534601257594459,
          0.026674332355089314,
          0.0065808344875910585,
          -0.00221544053792444,
          -0.002315808885612225,
          0.0016111534185070386,
          0.026377817239991552,
          0.0012617704783970396,
          0.0013132108198856685,
          -0.024627038366134335,
          0.009140641734991073,
          0.0020053704365747826,
          0.0152319399914278,
          0.001534701081332468,
          0.0033025535769977132,
          -0.0386048633967786,
          0.012613531353273144,
          0.016987202082350716,
          0.002260834909050713,
          0.027533039112419777,
          0.021913984403361786,
          -0.017438318904686723,
          0.004822778964677088,
          -0.0074618488283282325,
          -0.00033528881747257877,
          0.008139700771674807,
          -0.0012027720064089475,
          0.0027671031786462574,
          0.013874142895640373,
          -0.010231719946908746,
          0.008211450543254672,
          0.01740026797388383,
          0.00665249290276515,
          0.008926357550210762,
          0.030196037920976915,
          0.03212217253669292,
          -0.00671175589135764,
          0.0017702433581445742,
          0.032571047129391406,
          0.017539141695504856,
          0.12661594583056024,
          -0.006274020615192222,
          0.019078378303384103,
          0.03775080864849589,
          0.03431623672010509,
          0.08491020271123206,
          -0.03027492106926244,
          0.03571671105082119,
          0.013222323020621207,
          -0.006358244214659803,
          -0.04840071195115225,
          -0.11990296011128176,
          0.04342936118404972,
          -0.00415744333466006,
          -0.028293072508968398,
          -0.0193822728852886,
          0.040793737083203885,
          0.03250123721868614,
          0.006767610078050268,
          0.03710397264613152,
          0.017422066999642327,
          -0.04135293163642506,
          0.006284744794100794,
          -0.030537595031082,
          0.05090019969335757,
          0.006833850427872656,
          -0.04346763456194869,
          -0.00949773919092467,
          -0.06419878890850617,
          -0.0058720564248528895,
          0.04235834116680648,
          0.01636316704302354,
          -0.06095642075067487,
          0.013179957825059097,
          -0.04977243020772948,
          -0.00817454661938255,
          0.018236617552929157,
          -0.05027716248650771,
          0.006095482369819827,
          -0.034989335520704046,
          0.04288066621194697,
          0.0749469528140827,
          0.05761892529677248,
          0.02524830497305519,
          -0.0050002477248370925,
          -0.0020947103349137075,
          -0.014592268793630292,
          -0.012668812673032437,
          0.13531671306766135,
          -0.04183272120805026,
          -0.05347121367683638,
          -0.02152340187700552,
          -0.03544659713080289,
          0.03034201464995956,
          0.005935082340240205,
          0.039289689336566624,
          -0.06749101813983738,
          0.017497698371938375,
          -0.018197212157371023,
          -0.033827895916790696,
          0.0006227038637922622,
          -0.05256606551487697,
          -0.014726161727446785,
          -0.01247309202788982,
          0.020698985436762296,
          -0.1155417593811906,
          0.020805693532687908,
          0.10677615374729976,
          -0.005839494058207273,
          -0.0274792234689597,
          -0.01603246132837155,
          0.03611103995647258
         ],
         "yaxis": "y"
        }
       ],
       "layout": {
        "legend": {
         "title": {
          "text": "variable"
         },
         "tracegroupgap": 0
        },
        "margin": {
         "t": 60
        },
        "template": {
         "data": {
          "bar": [
           {
            "error_x": {
             "color": "#2a3f5f"
            },
            "error_y": {
             "color": "#2a3f5f"
            },
            "marker": {
             "line": {
              "color": "#E5ECF6",
              "width": 0.5
             },
             "pattern": {
              "fillmode": "overlay",
              "size": 10,
              "solidity": 0.2
             }
            },
            "type": "bar"
           }
          ],
          "barpolar": [
           {
            "marker": {
             "line": {
              "color": "#E5ECF6",
              "width": 0.5
             },
             "pattern": {
              "fillmode": "overlay",
              "size": 10,
              "solidity": 0.2
             }
            },
            "type": "barpolar"
           }
          ],
          "carpet": [
           {
            "aaxis": {
             "endlinecolor": "#2a3f5f",
             "gridcolor": "white",
             "linecolor": "white",
             "minorgridcolor": "white",
             "startlinecolor": "#2a3f5f"
            },
            "baxis": {
             "endlinecolor": "#2a3f5f",
             "gridcolor": "white",
             "linecolor": "white",
             "minorgridcolor": "white",
             "startlinecolor": "#2a3f5f"
            },
            "type": "carpet"
           }
          ],
          "choropleth": [
           {
            "colorbar": {
             "outlinewidth": 0,
             "ticks": ""
            },
            "type": "choropleth"
           }
          ],
          "contour": [
           {
            "colorbar": {
             "outlinewidth": 0,
             "ticks": ""
            },
            "colorscale": [
             [
              0,
              "#0d0887"
             ],
             [
              0.1111111111111111,
              "#46039f"
             ],
             [
              0.2222222222222222,
              "#7201a8"
             ],
             [
              0.3333333333333333,
              "#9c179e"
             ],
             [
              0.4444444444444444,
              "#bd3786"
             ],
             [
              0.5555555555555556,
              "#d8576b"
             ],
             [
              0.6666666666666666,
              "#ed7953"
             ],
             [
              0.7777777777777778,
              "#fb9f3a"
             ],
             [
              0.8888888888888888,
              "#fdca26"
             ],
             [
              1,
              "#f0f921"
             ]
            ],
            "type": "contour"
           }
          ],
          "contourcarpet": [
           {
            "colorbar": {
             "outlinewidth": 0,
             "ticks": ""
            },
            "type": "contourcarpet"
           }
          ],
          "heatmap": [
           {
            "colorbar": {
             "outlinewidth": 0,
             "ticks": ""
            },
            "colorscale": [
             [
              0,
              "#0d0887"
             ],
             [
              0.1111111111111111,
              "#46039f"
             ],
             [
              0.2222222222222222,
              "#7201a8"
             ],
             [
              0.3333333333333333,
              "#9c179e"
             ],
             [
              0.4444444444444444,
              "#bd3786"
             ],
             [
              0.5555555555555556,
              "#d8576b"
             ],
             [
              0.6666666666666666,
              "#ed7953"
             ],
             [
              0.7777777777777778,
              "#fb9f3a"
             ],
             [
              0.8888888888888888,
              "#fdca26"
             ],
             [
              1,
              "#f0f921"
             ]
            ],
            "type": "heatmap"
           }
          ],
          "heatmapgl": [
           {
            "colorbar": {
             "outlinewidth": 0,
             "ticks": ""
            },
            "colorscale": [
             [
              0,
              "#0d0887"
             ],
             [
              0.1111111111111111,
              "#46039f"
             ],
             [
              0.2222222222222222,
              "#7201a8"
             ],
             [
              0.3333333333333333,
              "#9c179e"
             ],
             [
              0.4444444444444444,
              "#bd3786"
             ],
             [
              0.5555555555555556,
              "#d8576b"
             ],
             [
              0.6666666666666666,
              "#ed7953"
             ],
             [
              0.7777777777777778,
              "#fb9f3a"
             ],
             [
              0.8888888888888888,
              "#fdca26"
             ],
             [
              1,
              "#f0f921"
             ]
            ],
            "type": "heatmapgl"
           }
          ],
          "histogram": [
           {
            "marker": {
             "pattern": {
              "fillmode": "overlay",
              "size": 10,
              "solidity": 0.2
             }
            },
            "type": "histogram"
           }
          ],
          "histogram2d": [
           {
            "colorbar": {
             "outlinewidth": 0,
             "ticks": ""
            },
            "colorscale": [
             [
              0,
              "#0d0887"
             ],
             [
              0.1111111111111111,
              "#46039f"
             ],
             [
              0.2222222222222222,
              "#7201a8"
             ],
             [
              0.3333333333333333,
              "#9c179e"
             ],
             [
              0.4444444444444444,
              "#bd3786"
             ],
             [
              0.5555555555555556,
              "#d8576b"
             ],
             [
              0.6666666666666666,
              "#ed7953"
             ],
             [
              0.7777777777777778,
              "#fb9f3a"
             ],
             [
              0.8888888888888888,
              "#fdca26"
             ],
             [
              1,
              "#f0f921"
             ]
            ],
            "type": "histogram2d"
           }
          ],
          "histogram2dcontour": [
           {
            "colorbar": {
             "outlinewidth": 0,
             "ticks": ""
            },
            "colorscale": [
             [
              0,
              "#0d0887"
             ],
             [
              0.1111111111111111,
              "#46039f"
             ],
             [
              0.2222222222222222,
              "#7201a8"
             ],
             [
              0.3333333333333333,
              "#9c179e"
             ],
             [
              0.4444444444444444,
              "#bd3786"
             ],
             [
              0.5555555555555556,
              "#d8576b"
             ],
             [
              0.6666666666666666,
              "#ed7953"
             ],
             [
              0.7777777777777778,
              "#fb9f3a"
             ],
             [
              0.8888888888888888,
              "#fdca26"
             ],
             [
              1,
              "#f0f921"
             ]
            ],
            "type": "histogram2dcontour"
           }
          ],
          "mesh3d": [
           {
            "colorbar": {
             "outlinewidth": 0,
             "ticks": ""
            },
            "type": "mesh3d"
           }
          ],
          "parcoords": [
           {
            "line": {
             "colorbar": {
              "outlinewidth": 0,
              "ticks": ""
             }
            },
            "type": "parcoords"
           }
          ],
          "pie": [
           {
            "automargin": true,
            "type": "pie"
           }
          ],
          "scatter": [
           {
            "marker": {
             "colorbar": {
              "outlinewidth": 0,
              "ticks": ""
             }
            },
            "type": "scatter"
           }
          ],
          "scatter3d": [
           {
            "line": {
             "colorbar": {
              "outlinewidth": 0,
              "ticks": ""
             }
            },
            "marker": {
             "colorbar": {
              "outlinewidth": 0,
              "ticks": ""
             }
            },
            "type": "scatter3d"
           }
          ],
          "scattercarpet": [
           {
            "marker": {
             "colorbar": {
              "outlinewidth": 0,
              "ticks": ""
             }
            },
            "type": "scattercarpet"
           }
          ],
          "scattergeo": [
           {
            "marker": {
             "colorbar": {
              "outlinewidth": 0,
              "ticks": ""
             }
            },
            "type": "scattergeo"
           }
          ],
          "scattergl": [
           {
            "marker": {
             "colorbar": {
              "outlinewidth": 0,
              "ticks": ""
             }
            },
            "type": "scattergl"
           }
          ],
          "scattermapbox": [
           {
            "marker": {
             "colorbar": {
              "outlinewidth": 0,
              "ticks": ""
             }
            },
            "type": "scattermapbox"
           }
          ],
          "scatterpolar": [
           {
            "marker": {
             "colorbar": {
              "outlinewidth": 0,
              "ticks": ""
             }
            },
            "type": "scatterpolar"
           }
          ],
          "scatterpolargl": [
           {
            "marker": {
             "colorbar": {
              "outlinewidth": 0,
              "ticks": ""
             }
            },
            "type": "scatterpolargl"
           }
          ],
          "scatterternary": [
           {
            "marker": {
             "colorbar": {
              "outlinewidth": 0,
              "ticks": ""
             }
            },
            "type": "scatterternary"
           }
          ],
          "surface": [
           {
            "colorbar": {
             "outlinewidth": 0,
             "ticks": ""
            },
            "colorscale": [
             [
              0,
              "#0d0887"
             ],
             [
              0.1111111111111111,
              "#46039f"
             ],
             [
              0.2222222222222222,
              "#7201a8"
             ],
             [
              0.3333333333333333,
              "#9c179e"
             ],
             [
              0.4444444444444444,
              "#bd3786"
             ],
             [
              0.5555555555555556,
              "#d8576b"
             ],
             [
              0.6666666666666666,
              "#ed7953"
             ],
             [
              0.7777777777777778,
              "#fb9f3a"
             ],
             [
              0.8888888888888888,
              "#fdca26"
             ],
             [
              1,
              "#f0f921"
             ]
            ],
            "type": "surface"
           }
          ],
          "table": [
           {
            "cells": {
             "fill": {
              "color": "#EBF0F8"
             },
             "line": {
              "color": "white"
             }
            },
            "header": {
             "fill": {
              "color": "#C8D4E3"
             },
             "line": {
              "color": "white"
             }
            },
            "type": "table"
           }
          ]
         },
         "layout": {
          "annotationdefaults": {
           "arrowcolor": "#2a3f5f",
           "arrowhead": 0,
           "arrowwidth": 1
          },
          "autotypenumbers": "strict",
          "coloraxis": {
           "colorbar": {
            "outlinewidth": 0,
            "ticks": ""
           }
          },
          "colorscale": {
           "diverging": [
            [
             0,
             "#8e0152"
            ],
            [
             0.1,
             "#c51b7d"
            ],
            [
             0.2,
             "#de77ae"
            ],
            [
             0.3,
             "#f1b6da"
            ],
            [
             0.4,
             "#fde0ef"
            ],
            [
             0.5,
             "#f7f7f7"
            ],
            [
             0.6,
             "#e6f5d0"
            ],
            [
             0.7,
             "#b8e186"
            ],
            [
             0.8,
             "#7fbc41"
            ],
            [
             0.9,
             "#4d9221"
            ],
            [
             1,
             "#276419"
            ]
           ],
           "sequential": [
            [
             0,
             "#0d0887"
            ],
            [
             0.1111111111111111,
             "#46039f"
            ],
            [
             0.2222222222222222,
             "#7201a8"
            ],
            [
             0.3333333333333333,
             "#9c179e"
            ],
            [
             0.4444444444444444,
             "#bd3786"
            ],
            [
             0.5555555555555556,
             "#d8576b"
            ],
            [
             0.6666666666666666,
             "#ed7953"
            ],
            [
             0.7777777777777778,
             "#fb9f3a"
            ],
            [
             0.8888888888888888,
             "#fdca26"
            ],
            [
             1,
             "#f0f921"
            ]
           ],
           "sequentialminus": [
            [
             0,
             "#0d0887"
            ],
            [
             0.1111111111111111,
             "#46039f"
            ],
            [
             0.2222222222222222,
             "#7201a8"
            ],
            [
             0.3333333333333333,
             "#9c179e"
            ],
            [
             0.4444444444444444,
             "#bd3786"
            ],
            [
             0.5555555555555556,
             "#d8576b"
            ],
            [
             0.6666666666666666,
             "#ed7953"
            ],
            [
             0.7777777777777778,
             "#fb9f3a"
            ],
            [
             0.8888888888888888,
             "#fdca26"
            ],
            [
             1,
             "#f0f921"
            ]
           ]
          },
          "colorway": [
           "#636efa",
           "#EF553B",
           "#00cc96",
           "#ab63fa",
           "#FFA15A",
           "#19d3f3",
           "#FF6692",
           "#B6E880",
           "#FF97FF",
           "#FECB52"
          ],
          "font": {
           "color": "#2a3f5f"
          },
          "geo": {
           "bgcolor": "white",
           "lakecolor": "white",
           "landcolor": "#E5ECF6",
           "showlakes": true,
           "showland": true,
           "subunitcolor": "white"
          },
          "hoverlabel": {
           "align": "left"
          },
          "hovermode": "closest",
          "mapbox": {
           "style": "light"
          },
          "paper_bgcolor": "white",
          "plot_bgcolor": "#E5ECF6",
          "polar": {
           "angularaxis": {
            "gridcolor": "white",
            "linecolor": "white",
            "ticks": ""
           },
           "bgcolor": "#E5ECF6",
           "radialaxis": {
            "gridcolor": "white",
            "linecolor": "white",
            "ticks": ""
           }
          },
          "scene": {
           "xaxis": {
            "backgroundcolor": "#E5ECF6",
            "gridcolor": "white",
            "gridwidth": 2,
            "linecolor": "white",
            "showbackground": true,
            "ticks": "",
            "zerolinecolor": "white"
           },
           "yaxis": {
            "backgroundcolor": "#E5ECF6",
            "gridcolor": "white",
            "gridwidth": 2,
            "linecolor": "white",
            "showbackground": true,
            "ticks": "",
            "zerolinecolor": "white"
           },
           "zaxis": {
            "backgroundcolor": "#E5ECF6",
            "gridcolor": "white",
            "gridwidth": 2,
            "linecolor": "white",
            "showbackground": true,
            "ticks": "",
            "zerolinecolor": "white"
           }
          },
          "shapedefaults": {
           "line": {
            "color": "#2a3f5f"
           }
          },
          "ternary": {
           "aaxis": {
            "gridcolor": "white",
            "linecolor": "white",
            "ticks": ""
           },
           "baxis": {
            "gridcolor": "white",
            "linecolor": "white",
            "ticks": ""
           },
           "bgcolor": "#E5ECF6",
           "caxis": {
            "gridcolor": "white",
            "linecolor": "white",
            "ticks": ""
           }
          },
          "title": {
           "x": 0.05
          },
          "xaxis": {
           "automargin": true,
           "gridcolor": "white",
           "linecolor": "white",
           "ticks": "",
           "title": {
            "standoff": 15
           },
           "zerolinecolor": "white",
           "zerolinewidth": 2
          },
          "yaxis": {
           "automargin": true,
           "gridcolor": "white",
           "linecolor": "white",
           "ticks": "",
           "title": {
            "standoff": 15
           },
           "zerolinecolor": "white",
           "zerolinewidth": 2
          }
         }
        },
        "xaxis": {
         "anchor": "y",
         "domain": [
          0,
          1
         ],
         "title": {
          "text": "Date"
         }
        },
        "yaxis": {
         "anchor": "x",
         "domain": [
          0,
          1
         ],
         "title": {
          "text": "value"
         }
        }
       }
      }
     },
     "metadata": {},
     "output_type": "display_data"
    }
   ],
   "source": [
    "px.line(x)"
   ]
  },
  {
   "cell_type": "code",
   "execution_count": 39,
   "metadata": {},
   "outputs": [],
   "source": [
    "returns = (x+1).cumprod()"
   ]
  },
  {
   "cell_type": "code",
   "execution_count": 40,
   "metadata": {},
   "outputs": [
    {
     "data": {
      "text/plain": [
       "(array([35., 62., 53., 23.,  9., 14., 14., 26., 10.,  6.]),\n",
       " array([0.6606198 , 0.7388745 , 0.81712921, 0.89538391, 0.97363861,\n",
       "        1.05189331, 1.13014801, 1.20840272, 1.28665742, 1.36491212,\n",
       "        1.44316682]),\n",
       " <BarContainer object of 10 artists>)"
      ]
     },
     "execution_count": 40,
     "metadata": {},
     "output_type": "execute_result"
    },
    {
     "data": {
      "image/png": "[encoded data removed]",
      "text/plain": [
       "<Figure size 432x288 with 1 Axes>"
      ]
     },
     "metadata": {
      "needs_background": "light"
     },
     "output_type": "display_data"
    }
   ],
   "source": [
    "plt.hist(returns)"
   ]
  },
  {
   "cell_type": "code",
   "execution_count": 41,
   "metadata": {},
   "outputs": [
    {
     "data": {
      "application/vnd.plotly.v1+json": {
       "config": {
        "plotlyServerURL": "https://plot.ly"
       },
       "data": [
        {
         "alignmentgroup": "True",
         "bingroup": "x",
         "hovertemplate": "variable=Close<br>value=%{x}<br>count=%{y}<extra></extra>",
         "legendgroup": "Close",
         "marker": {
          "color": "#636efa",
          "pattern": {
           "shape": ""
          }
         },
         "name": "Close",
         "offsetgroup": "Close",
         "orientation": "v",
         "showlegend": true,
         "type": "histogram",
         "x": [
          null,
          1.013130261429258,
          0.9967497523443494,
          0.944369507960217,
          0.9523954704082295,
          0.9576288253416047,
          0.9342782921872594,
          0.9365430021307843,
          0.9239055453666768,
          0.9167713008209738,
          0.838388717100759,
          0.8200134269755304,
          0.8706804929851433,
          0.8005115829507493,
          0.7926264218356371,
          0.8430001397986787,
          0.8054633352183239,
          0.7664597904051127,
          0.7291928431097874,
          0.7016298721128567,
          0.6606198008785547,
          0.7903735288910586,
          0.7838963811049483,
          0.8209051448778395,
          0.8140173384737995,
          0.8306912672234551,
          0.7942457087821645,
          0.8234983673920728,
          0.7664128088820288,
          0.7684193353031196,
          0.7861727648110683,
          0.7769733385585953,
          0.7395539161677743,
          0.7514286393635262,
          0.7259895053590447,
          0.7172828837717224,
          0.7458315357171298,
          0.7837438343912768,
          0.7764922792742155,
          0.810872656008736,
          0.8115414981490997,
          0.7873109208550406,
          0.8023655626581686,
          0.7944100008766063,
          0.8236978240106521,
          0.8945003400430968,
          0.8591929376457786,
          0.8669607881895325,
          0.8680521059467722,
          0.8385412638144298,
          0.8436572365582711,
          0.8731445879290717,
          0.8444786254123058,
          0.8558722893236781,
          0.8661981262393524,
          0.8269363979037072,
          0.8148035628036968,
          0.7943865101150646,
          0.8324513555028827,
          0.8036563370339876,
          0.7903969480344248,
          0.7872757563309034,
          0.7785926255051229,
          0.7889536985631102,
          0.7381105950782844,
          0.7242176716988461,
          0.692172333956125,
          0.6708165818420997,
          0.691996296480912,
          0.6768478348679675,
          0.678068136959161,
          0.6611595870667888,
          0.6885231014451402,
          0.6816000588987875,
          0.7115919603155096,
          0.7095385239895106,
          0.7264823100241956,
          0.7402344320707336,
          0.7336282283324941,
          0.732079413670592,
          0.7100430740354322,
          0.672166011503598,
          0.7029205748705003,
          0.7100548194162034,
          0.7082478212318674,
          0.7026038076805626,
          0.7159100349668583,
          0.7156401776818289,
          0.7247926224112182,
          0.7032843235835218,
          0.7097497259888611,
          0.72351359341617,
          0.7313870807686867,
          0.7284770910645156,
          0.731856466290471,
          0.7704141163434397,
          0.7976954846745701,
          0.7883670024699678,
          0.8081386321616029,
          0.7987984761944051,
          0.7975546833416699,
          0.795466010873358,
          0.7966159839162769,
          0.7739460382830662,
          0.7564273015360096,
          0.7660021502640993,
          0.7708600111036821,
          0.8045950364593808,
          0.7844595864365489,
          0.7666709924044628,
          0.7634089277498658,
          0.7559226798719124,
          0.7582694642444827,
          0.7750255390413593,
          0.7689121399682703,
          0.761836622326422,
          0.7549370705416112,
          0.7716461638154041,
          0.7565798482496806,
          0.7591612537649677,
          0.7947971687329944,
          0.8063551247388088,
          0.8327212127879124,
          0.8328033588351336,
          0.8341879530207691,
          0.8385412638144302,
          0.8203184487846972,
          0.8375204183418161,
          0.8330967068817048,
          0.8305504658905551,
          0.8474825065444691,
          0.8415216541850513,
          0.8051464964102109,
          0.7811389381144483,
          0.808455470969716,
          0.7902444013207539,
          0.7982117801012626,
          0.8287668868495854,
          0.831336618602277,
          0.8345165372096531,
          0.8227356338237177,
          0.8353613452070543,
          0.8576440513657018,
          0.8632880649170065,
          0.861375501542083,
          0.8593807205017632,
          0.8607653146873986,
          0.8834704248447466,
          0.8845851617453526,
          0.885746808550867,
          0.8639334879140037,
          0.8718303944098869,
          0.8735787373085437,
          0.8868850362130147,
          0.8882461396371084,
          0.8911796201028214,
          0.8567757526067589,
          0.8675827204249884,
          0.8823205234200032,
          0.884315304460323,
          0.9086631923257406,
          0.9285756233502758,
          0.9123828255031754,
          0.9167830462017448,
          0.9099421497026131,
          0.9096370562752709,
          0.9170412297241788,
          0.9159382382043437,
          0.9184727338147226,
          0.9312157557694175,
          0.9216878169462358,
          0.9292562108714102,
          0.9454255179569686,
          0.9517149545052704,
          0.960210302475067,
          0.9892048491807168,
          1.0209802580202332,
          1.014127687758506,
          1.0159229405620709,
          1.049012614538948,
          1.0674113954257187,
          1.2025626988478642,
          1.1950177956842314,
          1.2178167972695713,
          1.263790366152219,
          1.3071588955216868,
          1.4181500223162236,
          1.3752156423262272,
          1.4243338220557624,
          1.4431668239401798,
          1.433990816831073,
          1.3645846403650348,
          1.2009669026628782,
          1.2531241280487138,
          1.247914335495056,
          1.2126070047159132,
          1.189103924847897,
          1.2376119177227478,
          1.277835836245328,
          1.2864837309287955,
          1.3342173880908708,
          1.3574622128182776,
          1.301327170732573,
          1.3095056798942566,
          1.2695165257507441,
          1.3341351704254745,
          1.3432524506307266,
          1.2848644439822683,
          1.2726611365976324,
          1.1909578329371415,
          1.1839644613425142,
          1.2341152319254347,
          1.2543092656157704,
          1.1778510622694256,
          1.1933750895943376,
          1.1339779112358606,
          1.1247081559351129,
          1.1452190284335617,
          1.087640665258367,
          1.0942703597581485,
          1.055982566990209,
          1.1012638029709512,
          1.1838001692480724,
          1.2520094627662837,
          1.2836205795113578,
          1.277202158629102,
          1.2745267900676476,
          1.2559285525622976,
          1.240017428999173,
          1.4078125116379532,
          1.3489198833253977,
          1.2767915000111723,
          1.249310603443287,
          1.2050267937917927,
          1.241589734422617,
          1.2489586717292123,
          1.2980298699356638,
          1.2104245124377853,
          1.2316041554584223,
          1.2091923933476456,
          1.1682879589221065,
          1.1690154563481492,
          1.1075649132818486,
          1.0912547332452145,
          1.0776434125315766,
          1.0999495378335906,
          0.9728594330017701,
          0.9931004482151895,
          1.0991398943603268,
          1.092721473478071,
          1.0626943359190362,
          1.0456567300745347,
          1.0834164820350107
         ],
         "xaxis": "x",
         "yaxis": "y"
        }
       ],
       "layout": {
        "barmode": "relative",
        "legend": {
         "title": {
          "text": "variable"
         },
         "tracegroupgap": 0
        },
        "margin": {
         "t": 60
        },
        "template": {
         "data": {
          "bar": [
           {
            "error_x": {
             "color": "#2a3f5f"
            },
            "error_y": {
             "color": "#2a3f5f"
            },
            "marker": {
             "line": {
              "color": "#E5ECF6",
              "width": 0.5
             },
             "pattern": {
              "fillmode": "overlay",
              "size": 10,
              "solidity": 0.2
             }
            },
            "type": "bar"
           }
          ],
          "barpolar": [
           {
            "marker": {
             "line": {
              "color": "#E5ECF6",
              "width": 0.5
             },
             "pattern": {
              "fillmode": "overlay",
              "size": 10,
              "solidity": 0.2
             }
            },
            "type": "barpolar"
           }
          ],
          "carpet": [
           {
            "aaxis": {
             "endlinecolor": "#2a3f5f",
             "gridcolor": "white",
             "linecolor": "white",
             "minorgridcolor": "white",
             "startlinecolor": "#2a3f5f"
            },
            "baxis": {
             "endlinecolor": "#2a3f5f",
             "gridcolor": "white",
             "linecolor": "white",
             "minorgridcolor": "white",
             "startlinecolor": "#2a3f5f"
            },
            "type": "carpet"
           }
          ],
          "choropleth": [
           {
            "colorbar": {
             "outlinewidth": 0,
             "ticks": ""
            },
            "type": "choropleth"
           }
          ],
          "contour": [
           {
            "colorbar": {
             "outlinewidth": 0,
             "ticks": ""
            },
            "colorscale": [
             [
              0,
              "#0d0887"
             ],
             [
              0.1111111111111111,
              "#46039f"
             ],
             [
              0.2222222222222222,
              "#7201a8"
             ],
             [
              0.3333333333333333,
              "#9c179e"
             ],
             [
              0.4444444444444444,
              "#bd3786"
             ],
             [
              0.5555555555555556,
              "#d8576b"
             ],
             [
              0.6666666666666666,
              "#ed7953"
             ],
             [
              0.7777777777777778,
              "#fb9f3a"
             ],
             [
              0.8888888888888888,
              "#fdca26"
             ],
             [
              1,
              "#f0f921"
             ]
            ],
            "type": "contour"
           }
          ],
          "contourcarpet": [
           {
            "colorbar": {
             "outlinewidth": 0,
             "ticks": ""
            },
            "type": "contourcarpet"
           }
          ],
          "heatmap": [
           {
            "colorbar": {
             "outlinewidth": 0,
             "ticks": ""
            },
            "colorscale": [
             [
              0,
              "#0d0887"
             ],
             [
              0.1111111111111111,
              "#46039f"
             ],
             [
              0.2222222222222222,
              "#7201a8"
             ],
             [
              0.3333333333333333,
              "#9c179e"
             ],
             [
              0.4444444444444444,
              "#bd3786"
             ],
             [
              0.5555555555555556,
              "#d8576b"
             ],
             [
              0.6666666666666666,
              "#ed7953"
             ],
             [
              0.7777777777777778,
              "#fb9f3a"
             ],
             [
              0.8888888888888888,
              "#fdca26"
             ],
             [
              1,
              "#f0f921"
             ]
            ],
            "type": "heatmap"
           }
          ],
          "heatmapgl": [
           {
            "colorbar": {
             "outlinewidth": 0,
             "ticks": ""
            },
            "colorscale": [
             [
              0,
              "#0d0887"
             ],
             [
              0.1111111111111111,
              "#46039f"
             ],
             [
              0.2222222222222222,
              "#7201a8"
             ],
             [
              0.3333333333333333,
              "#9c179e"
             ],
             [
              0.4444444444444444,
              "#bd3786"
             ],
             [
              0.5555555555555556,
              "#d8576b"
             ],
             [
              0.6666666666666666,
              "#ed7953"
             ],
             [
              0.7777777777777778,
              "#fb9f3a"
             ],
             [
              0.8888888888888888,
              "#fdca26"
             ],
             [
              1,
              "#f0f921"
             ]
            ],
            "type": "heatmapgl"
           }
          ],
          "histogram": [
           {
            "marker": {
             "pattern": {
              "fillmode": "overlay",
              "size": 10,
              "solidity": 0.2
             }
            },
            "type": "histogram"
           }
          ],
          "histogram2d": [
           {
            "colorbar": {
             "outlinewidth": 0,
             "ticks": ""
            },
            "colorscale": [
             [
              0,
              "#0d0887"
             ],
             [
              0.1111111111111111,
              "#46039f"
             ],
             [
              0.2222222222222222,
              "#7201a8"
             ],
             [
              0.3333333333333333,
              "#9c179e"
             ],
             [
              0.4444444444444444,
              "#bd3786"
             ],
             [
              0.5555555555555556,
              "#d8576b"
             ],
             [
              0.6666666666666666,
              "#ed7953"
             ],
             [
              0.7777777777777778,
              "#fb9f3a"
             ],
             [
              0.8888888888888888,
              "#fdca26"
             ],
             [
              1,
              "#f0f921"
             ]
            ],
            "type": "histogram2d"
           }
          ],
          "histogram2dcontour": [
           {
            "colorbar": {
             "outlinewidth": 0,
             "ticks": ""
            },
            "colorscale": [
             [
              0,
              "#0d0887"
             ],
             [
              0.1111111111111111,
              "#46039f"
             ],
             [
              0.2222222222222222,
              "#7201a8"
             ],
             [
              0.3333333333333333,
              "#9c179e"
             ],
             [
              0.4444444444444444,
              "#bd3786"
             ],
             [
              0.5555555555555556,
              "#d8576b"
             ],
             [
              0.6666666666666666,
              "#ed7953"
             ],
             [
              0.7777777777777778,
              "#fb9f3a"
             ],
             [
              0.8888888888888888,
              "#fdca26"
             ],
             [
              1,
              "#f0f921"
             ]
            ],
            "type": "histogram2dcontour"
           }
          ],
          "mesh3d": [
           {
            "colorbar": {
             "outlinewidth": 0,
             "ticks": ""
            },
            "type": "mesh3d"
           }
          ],
          "parcoords": [
           {
            "line": {
             "colorbar": {
              "outlinewidth": 0,
              "ticks": ""
             }
            },
            "type": "parcoords"
           }
          ],
          "pie": [
           {
            "automargin": true,
            "type": "pie"
           }
          ],
          "scatter": [
           {
            "marker": {
             "colorbar": {
              "outlinewidth": 0,
              "ticks": ""
             }
            },
            "type": "scatter"
           }
          ],
          "scatter3d": [
           {
            "line": {
             "colorbar": {
              "outlinewidth": 0,
              "ticks": ""
             }
            },
            "marker": {
             "colorbar": {
              "outlinewidth": 0,
              "ticks": ""
             }
            },
            "type": "scatter3d"
           }
          ],
          "scattercarpet": [
           {
            "marker": {
             "colorbar": {
              "outlinewidth": 0,
              "ticks": ""
             }
            },
            "type": "scattercarpet"
           }
          ],
          "scattergeo": [
           {
            "marker": {
             "colorbar": {
              "outlinewidth": 0,
              "ticks": ""
             }
            },
            "type": "scattergeo"
           }
          ],
          "scattergl": [
           {
            "marker": {
             "colorbar": {
              "outlinewidth": 0,
              "ticks": ""
             }
            },
            "type": "scattergl"
           }
          ],
          "scattermapbox": [
           {
            "marker": {
             "colorbar": {
              "outlinewidth": 0,
              "ticks": ""
             }
            },
            "type": "scattermapbox"
           }
          ],
          "scatterpolar": [
           {
            "marker": {
             "colorbar": {
              "outlinewidth": 0,
              "ticks": ""
             }
            },
            "type": "scatterpolar"
           }
          ],
          "scatterpolargl": [
           {
            "marker": {
             "colorbar": {
              "outlinewidth": 0,
              "ticks": ""
             }
            },
            "type": "scatterpolargl"
           }
          ],
          "scatterternary": [
           {
            "marker": {
             "colorbar": {
              "outlinewidth": 0,
              "ticks": ""
             }
            },
            "type": "scatterternary"
           }
          ],
          "surface": [
           {
            "colorbar": {
             "outlinewidth": 0,
             "ticks": ""
            },
            "colorscale": [
             [
              0,
              "#0d0887"
             ],
             [
              0.1111111111111111,
              "#46039f"
             ],
             [
              0.2222222222222222,
              "#7201a8"
             ],
             [
              0.3333333333333333,
              "#9c179e"
             ],
             [
              0.4444444444444444,
              "#bd3786"
             ],
             [
              0.5555555555555556,
              "#d8576b"
             ],
             [
              0.6666666666666666,
              "#ed7953"
             ],
             [
              0.7777777777777778,
              "#fb9f3a"
             ],
             [
              0.8888888888888888,
              "#fdca26"
             ],
             [
              1,
              "#f0f921"
             ]
            ],
            "type": "surface"
           }
          ],
          "table": [
           {
            "cells": {
             "fill": {
              "color": "#EBF0F8"
             },
             "line": {
              "color": "white"
             }
            },
            "header": {
             "fill": {
              "color": "#C8D4E3"
             },
             "line": {
              "color": "white"
             }
            },
            "type": "table"
           }
          ]
         },
         "layout": {
          "annotationdefaults": {
           "arrowcolor": "#2a3f5f",
           "arrowhead": 0,
           "arrowwidth": 1
          },
          "autotypenumbers": "strict",
          "coloraxis": {
           "colorbar": {
            "outlinewidth": 0,
            "ticks": ""
           }
          },
          "colorscale": {
           "diverging": [
            [
             0,
             "#8e0152"
            ],
            [
             0.1,
             "#c51b7d"
            ],
            [
             0.2,
             "#de77ae"
            ],
            [
             0.3,
             "#f1b6da"
            ],
            [
             0.4,
             "#fde0ef"
            ],
            [
             0.5,
             "#f7f7f7"
            ],
            [
             0.6,
             "#e6f5d0"
            ],
            [
             0.7,
             "#b8e186"
            ],
            [
             0.8,
             "#7fbc41"
            ],
            [
             0.9,
             "#4d9221"
            ],
            [
             1,
             "#276419"
            ]
           ],
           "sequential": [
            [
             0,
             "#0d0887"
            ],
            [
             0.1111111111111111,
             "#46039f"
            ],
            [
             0.2222222222222222,
             "#7201a8"
            ],
            [
             0.3333333333333333,
             "#9c179e"
            ],
            [
             0.4444444444444444,
             "#bd3786"
            ],
            [
             0.5555555555555556,
             "#d8576b"
            ],
            [
             0.6666666666666666,
             "#ed7953"
            ],
            [
             0.7777777777777778,
             "#fb9f3a"
            ],
            [
             0.8888888888888888,
             "#fdca26"
            ],
            [
             1,
             "#f0f921"
            ]
           ],
           "sequentialminus": [
            [
             0,
             "#0d0887"
            ],
            [
             0.1111111111111111,
             "#46039f"
            ],
            [
             0.2222222222222222,
             "#7201a8"
            ],
            [
             0.3333333333333333,
             "#9c179e"
            ],
            [
             0.4444444444444444,
             "#bd3786"
            ],
            [
             0.5555555555555556,
             "#d8576b"
            ],
            [
             0.6666666666666666,
             "#ed7953"
            ],
            [
             0.7777777777777778,
             "#fb9f3a"
            ],
            [
             0.8888888888888888,
             "#fdca26"
            ],
            [
             1,
             "#f0f921"
            ]
           ]
          },
          "colorway": [
           "#636efa",
           "#EF553B",
           "#00cc96",
           "#ab63fa",
           "#FFA15A",
           "#19d3f3",
           "#FF6692",
           "#B6E880",
           "#FF97FF",
           "#FECB52"
          ],
          "font": {
           "color": "#2a3f5f"
          },
          "geo": {
           "bgcolor": "white",
           "lakecolor": "white",
           "landcolor": "#E5ECF6",
           "showlakes": true,
           "showland": true,
           "subunitcolor": "white"
          },
          "hoverlabel": {
           "align": "left"
          },
          "hovermode": "closest",
          "mapbox": {
           "style": "light"
          },
          "paper_bgcolor": "white",
          "plot_bgcolor": "#E5ECF6",
          "polar": {
           "angularaxis": {
            "gridcolor": "white",
            "linecolor": "white",
            "ticks": ""
           },
           "bgcolor": "#E5ECF6",
           "radialaxis": {
            "gridcolor": "white",
            "linecolor": "white",
            "ticks": ""
           }
          },
          "scene": {
           "xaxis": {
            "backgroundcolor": "#E5ECF6",
            "gridcolor": "white",
            "gridwidth": 2,
            "linecolor": "white",
            "showbackground": true,
            "ticks": "",
            "zerolinecolor": "white"
           },
           "yaxis": {
            "backgroundcolor": "#E5ECF6",
            "gridcolor": "white",
            "gridwidth": 2,
            "linecolor": "white",
            "showbackground": true,
            "ticks": "",
            "zerolinecolor": "white"
           },
           "zaxis": {
            "backgroundcolor": "#E5ECF6",
            "gridcolor": "white",
            "gridwidth": 2,
            "linecolor": "white",
            "showbackground": true,
            "ticks": "",
            "zerolinecolor": "white"
           }
          },
          "shapedefaults": {
           "line": {
            "color": "#2a3f5f"
           }
          },
          "ternary": {
           "aaxis": {
            "gridcolor": "white",
            "linecolor": "white",
            "ticks": ""
           },
           "baxis": {
            "gridcolor": "white",
            "linecolor": "white",
            "ticks": ""
           },
           "bgcolor": "#E5ECF6",
           "caxis": {
            "gridcolor": "white",
            "linecolor": "white",
            "ticks": ""
           }
          },
          "title": {
           "x": 0.05
          },
          "xaxis": {
           "automargin": true,
           "gridcolor": "white",
           "linecolor": "white",
           "ticks": "",
           "title": {
            "standoff": 15
           },
           "zerolinecolor": "white",
           "zerolinewidth": 2
          },
          "yaxis": {
           "automargin": true,
           "gridcolor": "white",
           "linecolor": "white",
           "ticks": "",
           "title": {
            "standoff": 15
           },
           "zerolinecolor": "white",
           "zerolinewidth": 2
          }
         }
        },
        "xaxis": {
         "anchor": "y",
         "domain": [
          0,
          1
         ],
         "title": {
          "text": "value"
         }
        },
        "yaxis": {
         "anchor": "x",
         "domain": [
          0,
          1
         ],
         "title": {
          "text": "count"
         }
        }
       }
      }
     },
     "metadata": {},
     "output_type": "display_data"
    }
   ],
   "source": [
    "px.histogram(returns)"
   ]
  },
  {
   "cell_type": "markdown",
   "metadata": {},
   "source": [
    "# Analyzing a Portfolio"
   ]
  },
  {
   "cell_type": "code",
   "execution_count": 42,
   "metadata": {},
   "outputs": [],
   "source": [
    "stocks = ['AAPL','AMZN','MSFT','TSLA']\n",
    "weights = [0.3,0.2,0.4,0.1]"
   ]
  },
  {
   "cell_type": "code",
   "execution_count": 43,
   "metadata": {},
   "outputs": [
    {
     "name": "stdout",
     "output_type": "stream",
     "text": [
      "[*********************100%***********************]  4 of 4 completed\n"
     ]
    }
   ],
   "source": [
    "data = yf.download(stocks, start='2021-01-01')"
   ]
  },
  {
   "cell_type": "code",
   "execution_count": 44,
   "metadata": {},
   "outputs": [],
   "source": [
    "# daily return\n",
    "x = data['Close'].pct_change()"
   ]
  },
  {
   "cell_type": "code",
   "execution_count": 45,
   "metadata": {},
   "outputs": [],
   "source": [
    "# portfolio return\n",
    "ret = (x*weights).sum(axis=1)"
   ]
  },
  {
   "cell_type": "code",
   "execution_count": 46,
   "metadata": {},
   "outputs": [],
   "source": [
    "# total cumulative return\n",
    "cumulative = (ret + 1).cumprod()"
   ]
  },
  {
   "cell_type": "code",
   "execution_count": 47,
   "metadata": {},
   "outputs": [
    {
     "data": {
      "application/vnd.plotly.v1+json": {
       "config": {
        "plotlyServerURL": "https://plot.ly"
       },
       "data": [
        {
         "hovertemplate": "variable=0<br>Date=%{x}<br>value=%{y}<extra></extra>",
         "legendgroup": "0",
         "line": {
          "color": "#636efa",
          "dash": "solid"
         },
         "marker": {
          "symbol": "circle"
         },
         "mode": "lines",
         "name": "0",
         "orientation": "v",
         "showlegend": true,
         "type": "scatter",
         "x": [
          "2021-01-04T00:00:00",
          "2021-01-05T00:00:00",
          "2021-01-06T00:00:00",
          "2021-01-07T00:00:00",
          "2021-01-08T00:00:00",
          "2021-01-11T00:00:00",
          "2021-01-12T00:00:00",
          "2021-01-13T00:00:00",
          "2021-01-14T00:00:00",
          "2021-01-15T00:00:00",
          "2021-01-19T00:00:00",
          "2021-01-20T00:00:00",
          "2021-01-21T00:00:00",
          "2021-01-22T00:00:00",
          "2021-01-25T00:00:00",
          "2021-01-26T00:00:00",
          "2021-01-27T00:00:00",
          "2021-01-28T00:00:00",
          "2021-01-29T00:00:00",
          "2021-02-01T00:00:00",
          "2021-02-02T00:00:00",
          "2021-02-03T00:00:00",
          "2021-02-04T00:00:00",
          "2021-02-05T00:00:00",
          "2021-02-08T00:00:00",
          "2021-02-09T00:00:00",
          "2021-02-10T00:00:00",
          "2021-02-11T00:00:00",
          "2021-02-12T00:00:00",
          "2021-02-16T00:00:00",
          "2021-02-17T00:00:00",
          "2021-02-18T00:00:00",
          "2021-02-19T00:00:00",
          "2021-02-22T00:00:00",
          "2021-02-23T00:00:00",
          "2021-02-24T00:00:00",
          "2021-02-25T00:00:00",
          "2021-02-26T00:00:00",
          "2021-03-01T00:00:00",
          "2021-03-02T00:00:00",
          "2021-03-03T00:00:00",
          "2021-03-04T00:00:00",
          "2021-03-05T00:00:00",
          "2021-03-08T00:00:00",
          "2021-03-09T00:00:00",
          "2021-03-10T00:00:00",
          "2021-03-11T00:00:00",
          "2021-03-12T00:00:00",
          "2021-03-15T00:00:00",
          "2021-03-16T00:00:00",
          "2021-03-17T00:00:00",
          "2021-03-18T00:00:00",
          "2021-03-19T00:00:00",
          "2021-03-22T00:00:00",
          "2021-03-23T00:00:00",
          "2021-03-24T00:00:00",
          "2021-03-25T00:00:00",
          "2021-03-26T00:00:00",
          "2021-03-29T00:00:00",
          "2021-03-30T00:00:00",
          "2021-03-31T00:00:00",
          "2021-04-01T00:00:00",
          "2021-04-05T00:00:00",
          "2021-04-06T00:00:00",
          "2021-04-07T00:00:00",
          "2021-04-08T00:00:00",
          "2021-04-09T00:00:00",
          "2021-04-12T00:00:00",
          "2021-04-13T00:00:00",
          "2021-04-14T00:00:00",
          "2021-04-15T00:00:00",
          "2021-04-16T00:00:00",
          "2021-04-19T00:00:00",
          "2021-04-20T00:00:00",
          "2021-04-21T00:00:00",
          "2021-04-22T00:00:00",
          "2021-04-23T00:00:00",
          "2021-04-26T00:00:00",
          "2021-04-27T00:00:00",
          "2021-04-28T00:00:00",
          "2021-04-29T00:00:00",
          "2021-04-30T00:00:00",
          "2021-05-03T00:00:00",
          "2021-05-04T00:00:00",
          "2021-05-05T00:00:00",
          "2021-05-06T00:00:00",
          "2021-05-07T00:00:00",
          "2021-05-10T00:00:00",
          "2021-05-11T00:00:00",
          "2021-05-12T00:00:00",
          "2021-05-13T00:00:00",
          "2021-05-14T00:00:00",
          "2021-05-17T00:00:00",
          "2021-05-18T00:00:00",
          "2021-05-19T00:00:00",
          "2021-05-20T00:00:00",
          "2021-05-21T00:00:00",
          "2021-05-24T00:00:00",
          "2021-05-25T00:00:00",
          "2021-05-26T00:00:00",
          "2021-05-27T00:00:00",
          "2021-05-28T00:00:00",
          "2021-06-01T00:00:00",
          "2021-06-02T00:00:00",
          "2021-06-03T00:00:00",
          "2021-06-04T00:00:00",
          "2021-06-07T00:00:00",
          "2021-06-08T00:00:00",
          "2021-06-09T00:00:00",
          "2021-06-10T00:00:00",
          "2021-06-11T00:00:00",
          "2021-06-14T00:00:00",
          "2021-06-15T00:00:00",
          "2021-06-16T00:00:00",
          "2021-06-17T00:00:00",
          "2021-06-18T00:00:00",
          "2021-06-21T00:00:00",
          "2021-06-22T00:00:00",
          "2021-06-23T00:00:00",
          "2021-06-24T00:00:00",
          "2021-06-25T00:00:00",
          "2021-06-28T00:00:00",
          "2021-06-29T00:00:00",
          "2021-06-30T00:00:00",
          "2021-07-01T00:00:00",
          "2021-07-02T00:00:00",
          "2021-07-06T00:00:00",
          "2021-07-07T00:00:00",
          "2021-07-08T00:00:00",
          "2021-07-09T00:00:00",
          "2021-07-12T00:00:00",
          "2021-07-13T00:00:00",
          "2021-07-14T00:00:00",
          "2021-07-15T00:00:00",
          "2021-07-16T00:00:00",
          "2021-07-19T00:00:00",
          "2021-07-20T00:00:00",
          "2021-07-21T00:00:00",
          "2021-07-22T00:00:00",
          "2021-07-23T00:00:00",
          "2021-07-26T00:00:00",
          "2021-07-27T00:00:00",
          "2021-07-28T00:00:00",
          "2021-07-29T00:00:00",
          "2021-07-30T00:00:00",
          "2021-08-02T00:00:00",
          "2021-08-03T00:00:00",
          "2021-08-04T00:00:00",
          "2021-08-05T00:00:00",
          "2021-08-06T00:00:00",
          "2021-08-09T00:00:00",
          "2021-08-10T00:00:00",
          "2021-08-11T00:00:00",
          "2021-08-12T00:00:00",
          "2021-08-13T00:00:00",
          "2021-08-16T00:00:00",
          "2021-08-17T00:00:00",
          "2021-08-18T00:00:00",
          "2021-08-19T00:00:00",
          "2021-08-20T00:00:00",
          "2021-08-23T00:00:00",
          "2021-08-24T00:00:00",
          "2021-08-25T00:00:00",
          "2021-08-26T00:00:00",
          "2021-08-27T00:00:00",
          "2021-08-30T00:00:00",
          "2021-08-31T00:00:00",
          "2021-09-01T00:00:00",
          "2021-09-02T00:00:00",
          "2021-09-03T00:00:00",
          "2021-09-07T00:00:00",
          "2021-09-08T00:00:00",
          "2021-09-09T00:00:00",
          "2021-09-10T00:00:00",
          "2021-09-13T00:00:00",
          "2021-09-14T00:00:00",
          "2021-09-15T00:00:00",
          "2021-09-16T00:00:00",
          "2021-09-17T00:00:00",
          "2021-09-20T00:00:00",
          "2021-09-21T00:00:00",
          "2021-09-22T00:00:00",
          "2021-09-23T00:00:00",
          "2021-09-24T00:00:00",
          "2021-09-27T00:00:00",
          "2021-09-28T00:00:00",
          "2021-09-29T00:00:00",
          "2021-09-30T00:00:00",
          "2021-10-01T00:00:00",
          "2021-10-04T00:00:00",
          "2021-10-05T00:00:00",
          "2021-10-06T00:00:00",
          "2021-10-07T00:00:00",
          "2021-10-08T00:00:00",
          "2021-10-11T00:00:00",
          "2021-10-12T00:00:00",
          "2021-10-13T00:00:00",
          "2021-10-14T00:00:00",
          "2021-10-15T00:00:00",
          "2021-10-18T00:00:00",
          "2021-10-19T00:00:00",
          "2021-10-20T00:00:00",
          "2021-10-21T00:00:00",
          "2021-10-22T00:00:00",
          "2021-10-25T00:00:00",
          "2021-10-26T00:00:00",
          "2021-10-27T00:00:00",
          "2021-10-28T00:00:00",
          "2021-10-29T00:00:00",
          "2021-11-01T00:00:00",
          "2021-11-02T00:00:00",
          "2021-11-03T00:00:00",
          "2021-11-04T00:00:00",
          "2021-11-05T00:00:00",
          "2021-11-08T00:00:00",
          "2021-11-09T00:00:00",
          "2021-11-10T00:00:00",
          "2021-11-11T00:00:00",
          "2021-11-12T00:00:00",
          "2021-11-15T00:00:00",
          "2021-11-16T00:00:00",
          "2021-11-17T00:00:00",
          "2021-11-18T00:00:00",
          "2021-11-19T00:00:00",
          "2021-11-22T00:00:00",
          "2021-11-23T00:00:00",
          "2021-11-24T00:00:00",
          "2021-11-26T00:00:00",
          "2021-11-29T00:00:00",
          "2021-11-30T00:00:00",
          "2021-12-01T00:00:00",
          "2021-12-02T00:00:00",
          "2021-12-03T00:00:00",
          "2021-12-06T00:00:00",
          "2021-12-07T00:00:00",
          "2021-12-08T00:00:00",
          "2021-12-09T00:00:00",
          "2021-12-10T00:00:00",
          "2021-12-13T00:00:00",
          "2021-12-14T00:00:00",
          "2021-12-15T00:00:00",
          "2021-12-16T00:00:00",
          "2021-12-17T00:00:00",
          "2021-12-20T00:00:00",
          "2021-12-21T00:00:00",
          "2021-12-22T00:00:00",
          "2021-12-23T00:00:00",
          "2021-12-27T00:00:00",
          "2021-12-28T00:00:00",
          "2021-12-29T00:00:00",
          "2021-12-30T00:00:00",
          "2021-12-31T00:00:00",
          "2022-01-03T00:00:00",
          "2022-01-04T00:00:00",
          "2022-01-05T00:00:00",
          "2022-01-06T00:00:00",
          "2022-01-07T00:00:00",
          "2022-01-10T00:00:00",
          "2022-01-11T00:00:00",
          "2022-01-12T00:00:00",
          "2022-01-13T00:00:00",
          "2022-01-14T00:00:00",
          "2022-01-18T00:00:00",
          "2022-01-19T00:00:00",
          "2022-01-20T00:00:00",
          "2022-01-21T00:00:00",
          "2022-01-24T00:00:00",
          "2022-01-25T00:00:00",
          "2022-01-26T00:00:00",
          "2022-01-27T00:00:00",
          "2022-01-28T00:00:00",
          "2022-01-31T00:00:00",
          "2022-02-01T00:00:00",
          "2022-02-02T00:00:00",
          "2022-02-03T00:00:00",
          "2022-02-04T00:00:00"
         ],
         "xaxis": "x",
         "y": [
          1,
          1.0068275748463944,
          0.9840627234640339,
          1.0146472402072353,
          1.0290206608531178,
          1.005374420644287,
          1.0053880051018136,
          1.0164119741218363,
          1.0019737590703557,
          0.9934284798881629,
          1.0053962138478814,
          1.0398766634444372,
          1.0545924532744961,
          1.0607799413073113,
          1.0807068358404492,
          1.088913874392105,
          1.0790128850828171,
          1.0756118583440828,
          1.0435035914408672,
          1.077495778500965,
          1.085916690911204,
          1.0831247454542758,
          1.0903415454924614,
          1.0908559669305757,
          1.0912325844317574,
          1.088478200927316,
          1.0783595420728675,
          1.080016871904963,
          1.0831008932684436,
          1.0723670388382633,
          1.0704348248898339,
          1.0667656859515204,
          1.0563795643888214,
          1.0220799628970305,
          1.0182217190649723,
          1.023280917574683,
          0.9880228115553283,
          0.9958738469362904,
          1.029534993087315,
          1.0097839287918,
          0.9807445625249335,
          0.9681024058779354,
          0.9773679272286871,
          0.9491692021527678,
          0.9971880502083789,
          0.9909688849854874,
          1.0122129475540862,
          1.005124835296525,
          1.0124470384366397,
          1.0175461129183982,
          1.021065014682916,
          0.9856950831353375,
          0.9870540273659636,
          1.0096975762113332,
          1.0108792346096904,
          0.9930897059059597,
          0.9880353837706107,
          0.99363092323599,
          0.9923410720918113,
          0.9855974531101674,
          1.0053242963433557,
          1.0220644011890228,
          1.0494056810415344,
          1.0480388904362132,
          1.056183195617382,
          1.071243000119353,
          1.0858223017199584,
          1.0860796981571292,
          1.1090394717874013,
          1.0893741313214231,
          1.1061519237555906,
          1.1088988672959423,
          1.1016232838438993,
          1.0947993433345553,
          1.105316568244525,
          1.0885436152224535,
          1.1047363540646156,
          1.112238049278411,
          1.10764384203238,
          1.0941460041325513,
          1.0884446014578486,
          1.0879056710503567,
          1.0811932413275425,
          1.0561783540114698,
          1.0514942603981656,
          1.0622401006175433,
          1.0685046118456962,
          1.0378432876265182,
          1.034161352809423,
          1.0050846188590874,
          1.0147737061048405,
          1.0365140349836253,
          1.0294584314386739,
          1.0202447096367486,
          1.0173451987367577,
          1.0345924541716605,
          1.0239277585109217,
          1.0445744014284453,
          1.046251219999977,
          1.048635897678524,
          1.0408400070291242,
          1.038405357844358,
          1.0332833644161035,
          1.032936463678055,
          1.0180023994033474,
          1.0381155791345087,
          1.043662684766498,
          1.0477608529176694,
          1.0506795965283282,
          1.0605765241169798,
          1.0645584674790152,
          1.0794280379784322,
          1.0715509431841714,
          1.0742095702872496,
          1.0908844396098343,
          1.0861640138768347,
          1.093634496927723,
          1.1063652058680586,
          1.1109981046154402,
          1.1131168676778072,
          1.1052024156611755,
          1.1210632110714067,
          1.128384199502813,
          1.1284190303703012,
          1.1295844049060826,
          1.1515868939643183,
          1.1642193369542175,
          1.1729825414907922,
          1.1692333851573073,
          1.1746744079167646,
          1.1772356869291822,
          1.180682576857489,
          1.1893907625755855,
          1.1815278677521484,
          1.1711625525516598,
          1.1542534908110593,
          1.1711832946095404,
          1.1727322527008053,
          1.18639844596658,
          1.1966593579822602,
          1.2021486978937237,
          1.1854804231869296,
          1.1812748434252518,
          1.1869170184981683,
          1.1685883073184924,
          1.1717177152877754,
          1.1824037855199576,
          1.1797993238488236,
          1.1871338558038809,
          1.180043943770783,
          1.180338074133919,
          1.173935285937305,
          1.173021436670771,
          1.1882112914515703,
          1.1921783528315857,
          1.1950835974137375,
          1.1827154040457635,
          1.171037418930076,
          1.1779616013245018,
          1.1956909013780312,
          1.209329307920223,
          1.2092185367730202,
          1.2051683059183058,
          1.1980365591897584,
          1.2058967305966457,
          1.2315254173343007,
          1.229991773737993,
          1.2318722621265854,
          1.2321147374051868,
          1.2349229989944994,
          1.244562557472956,
          1.2421542019372374,
          1.2320067454494263,
          1.2131235048394982,
          1.2169119133118314,
          1.2177495445431694,
          1.2318422424285105,
          1.2329651994813837,
          1.2161227099010934,
          1.1870974605611602,
          1.1897662390000012,
          1.2065036697860436,
          1.2133589325945273,
          1.2172588634138384,
          1.206246802587226,
          1.1716982284177464,
          1.1742868957504646,
          1.1655460941460756,
          1.180096218150043,
          1.1558453829972646,
          1.172105288363816,
          1.184694866550796,
          1.1953162929584429,
          1.1921175795846302,
          1.188800372242533,
          1.1855160385749328,
          1.1930482014067216,
          1.2128560071673116,
          1.229615699860333,
          1.2456214574934363,
          1.2517576018083478,
          1.2497948182423295,
          1.2613262342187104,
          1.251636726341709,
          1.2645509577485405,
          1.2729860443275114,
          1.2968952059793926,
          1.317543475921471,
          1.3210327117986045,
          1.3221865404159252,
          1.326616562611326,
          1.3423468853522051,
          1.3540135886490254,
          1.3566723225404596,
          1.347033821837487,
          1.3369506806421445,
          1.3198311510329102,
          1.3210259921762617,
          1.333795267703496,
          1.3317604166105097,
          1.3449353326432445,
          1.3559725284988822,
          1.3831746055581313,
          1.3968752547324417,
          1.3872915000783677,
          1.3796320392036279,
          1.3822625348314237,
          1.3455821568165955,
          1.3769853895769857,
          1.3768741193552418,
          1.3637408786527598,
          1.3584590386451563,
          1.3305131950202045,
          1.3465044081973547,
          1.3884782490019507,
          1.4003130241125201,
          1.3842435507653148,
          1.410278971509915,
          1.385010348823862,
          1.3617136164084225,
          1.3931134763054076,
          1.346320075655623,
          1.3445195045476646,
          1.3254304815958893,
          1.3562301199645475,
          1.3834101969439674,
          1.3954190023431008,
          1.4192191708639355,
          1.4157234472441005,
          1.4143794699024659,
          1.4042426291428238,
          1.3927983093009548,
          1.4256534498678262,
          1.399659903049931,
          1.3542257401508395,
          1.3384310184036001,
          1.3332087196884743,
          1.3359390753623908,
          1.3510789651556394,
          1.3628206268467267,
          1.3161842595082618,
          1.3313413270236862,
          1.3031219909511471,
          1.287371243375298,
          1.2728887844325514,
          1.2367720989622393,
          1.2370106548107405,
          1.2102852784570144,
          1.2244544825589254,
          1.2157415211816052,
          1.264934509515408,
          1.3026517388558954,
          1.3006130064188777,
          1.3067072104260564,
          1.257280182024392,
          1.3025742352985088
         ],
         "yaxis": "y"
        }
       ],
       "layout": {
        "legend": {
         "title": {
          "text": "variable"
         },
         "tracegroupgap": 0
        },
        "margin": {
         "t": 60
        },
        "template": {
         "data": {
          "bar": [
           {
            "error_x": {
             "color": "#2a3f5f"
            },
            "error_y": {
             "color": "#2a3f5f"
            },
            "marker": {
             "line": {
              "color": "#E5ECF6",
              "width": 0.5
             },
             "pattern": {
              "fillmode": "overlay",
              "size": 10,
              "solidity": 0.2
             }
            },
            "type": "bar"
           }
          ],
          "barpolar": [
           {
            "marker": {
             "line": {
              "color": "#E5ECF6",
              "width": 0.5
             },
             "pattern": {
              "fillmode": "overlay",
              "size": 10,
              "solidity": 0.2
             }
            },
            "type": "barpolar"
           }
          ],
          "carpet": [
           {
            "aaxis": {
             "endlinecolor": "#2a3f5f",
             "gridcolor": "white",
             "linecolor": "white",
             "minorgridcolor": "white",
             "startlinecolor": "#2a3f5f"
            },
            "baxis": {
             "endlinecolor": "#2a3f5f",
             "gridcolor": "white",
             "linecolor": "white",
             "minorgridcolor": "white",
             "startlinecolor": "#2a3f5f"
            },
            "type": "carpet"
           }
          ],
          "choropleth": [
           {
            "colorbar": {
             "outlinewidth": 0,
             "ticks": ""
            },
            "type": "choropleth"
           }
          ],
          "contour": [
           {
            "colorbar": {
             "outlinewidth": 0,
             "ticks": ""
            },
            "colorscale": [
             [
              0,
              "#0d0887"
             ],
             [
              0.1111111111111111,
              "#46039f"
             ],
             [
              0.2222222222222222,
              "#7201a8"
             ],
             [
              0.3333333333333333,
              "#9c179e"
             ],
             [
              0.4444444444444444,
              "#bd3786"
             ],
             [
              0.5555555555555556,
              "#d8576b"
             ],
             [
              0.6666666666666666,
              "#ed7953"
             ],
             [
              0.7777777777777778,
              "#fb9f3a"
             ],
             [
              0.8888888888888888,
              "#fdca26"
             ],
             [
              1,
              "#f0f921"
             ]
            ],
            "type": "contour"
           }
          ],
          "contourcarpet": [
           {
            "colorbar": {
             "outlinewidth": 0,
             "ticks": ""
            },
            "type": "contourcarpet"
           }
          ],
          "heatmap": [
           {
            "colorbar": {
             "outlinewidth": 0,
             "ticks": ""
            },
            "colorscale": [
             [
              0,
              "#0d0887"
             ],
             [
              0.1111111111111111,
              "#46039f"
             ],
             [
              0.2222222222222222,
              "#7201a8"
             ],
             [
              0.3333333333333333,
              "#9c179e"
             ],
             [
              0.4444444444444444,
              "#bd3786"
             ],
             [
              0.5555555555555556,
              "#d8576b"
             ],
             [
              0.6666666666666666,
              "#ed7953"
             ],
             [
              0.7777777777777778,
              "#fb9f3a"
             ],
             [
              0.8888888888888888,
              "#fdca26"
             ],
             [
              1,
              "#f0f921"
             ]
            ],
            "type": "heatmap"
           }
          ],
          "heatmapgl": [
           {
            "colorbar": {
             "outlinewidth": 0,
             "ticks": ""
            },
            "colorscale": [
             [
              0,
              "#0d0887"
             ],
             [
              0.1111111111111111,
              "#46039f"
             ],
             [
              0.2222222222222222,
              "#7201a8"
             ],
             [
              0.3333333333333333,
              "#9c179e"
             ],
             [
              0.4444444444444444,
              "#bd3786"
             ],
             [
              0.5555555555555556,
              "#d8576b"
             ],
             [
              0.6666666666666666,
              "#ed7953"
             ],
             [
              0.7777777777777778,
              "#fb9f3a"
             ],
             [
              0.8888888888888888,
              "#fdca26"
             ],
             [
              1,
              "#f0f921"
             ]
            ],
            "type": "heatmapgl"
           }
          ],
          "histogram": [
           {
            "marker": {
             "pattern": {
              "fillmode": "overlay",
              "size": 10,
              "solidity": 0.2
             }
            },
            "type": "histogram"
           }
          ],
          "histogram2d": [
           {
            "colorbar": {
             "outlinewidth": 0,
             "ticks": ""
            },
            "colorscale": [
             [
              0,
              "#0d0887"
             ],
             [
              0.1111111111111111,
              "#46039f"
             ],
             [
              0.2222222222222222,
              "#7201a8"
             ],
             [
              0.3333333333333333,
              "#9c179e"
             ],
             [
              0.4444444444444444,
              "#bd3786"
             ],
             [
              0.5555555555555556,
              "#d8576b"
             ],
             [
              0.6666666666666666,
              "#ed7953"
             ],
             [
              0.7777777777777778,
              "#fb9f3a"
             ],
             [
              0.8888888888888888,
              "#fdca26"
             ],
             [
              1,
              "#f0f921"
             ]
            ],
            "type": "histogram2d"
           }
          ],
          "histogram2dcontour": [
           {
            "colorbar": {
             "outlinewidth": 0,
             "ticks": ""
            },
            "colorscale": [
             [
              0,
              "#0d0887"
             ],
             [
              0.1111111111111111,
              "#46039f"
             ],
             [
              0.2222222222222222,
              "#7201a8"
             ],
             [
              0.3333333333333333,
              "#9c179e"
             ],
             [
              0.4444444444444444,
              "#bd3786"
             ],
             [
              0.5555555555555556,
              "#d8576b"
             ],
             [
              0.6666666666666666,
              "#ed7953"
             ],
             [
              0.7777777777777778,
              "#fb9f3a"
             ],
             [
              0.8888888888888888,
              "#fdca26"
             ],
             [
              1,
              "#f0f921"
             ]
            ],
            "type": "histogram2dcontour"
           }
          ],
          "mesh3d": [
           {
            "colorbar": {
             "outlinewidth": 0,
             "ticks": ""
            },
            "type": "mesh3d"
           }
          ],
          "parcoords": [
           {
            "line": {
             "colorbar": {
              "outlinewidth": 0,
              "ticks": ""
             }
            },
            "type": "parcoords"
           }
          ],
          "pie": [
           {
            "automargin": true,
            "type": "pie"
           }
          ],
          "scatter": [
           {
            "marker": {
             "colorbar": {
              "outlinewidth": 0,
              "ticks": ""
             }
            },
            "type": "scatter"
           }
          ],
          "scatter3d": [
           {
            "line": {
             "colorbar": {
              "outlinewidth": 0,
              "ticks": ""
             }
            },
            "marker": {
             "colorbar": {
              "outlinewidth": 0,
              "ticks": ""
             }
            },
            "type": "scatter3d"
           }
          ],
          "scattercarpet": [
           {
            "marker": {
             "colorbar": {
              "outlinewidth": 0,
              "ticks": ""
             }
            },
            "type": "scattercarpet"
           }
          ],
          "scattergeo": [
           {
            "marker": {
             "colorbar": {
              "outlinewidth": 0,
              "ticks": ""
             }
            },
            "type": "scattergeo"
           }
          ],
          "scattergl": [
           {
            "marker": {
             "colorbar": {
              "outlinewidth": 0,
              "ticks": ""
             }
            },
            "type": "scattergl"
           }
          ],
          "scattermapbox": [
           {
            "marker": {
             "colorbar": {
              "outlinewidth": 0,
              "ticks": ""
             }
            },
            "type": "scattermapbox"
           }
          ],
          "scatterpolar": [
           {
            "marker": {
             "colorbar": {
              "outlinewidth": 0,
              "ticks": ""
             }
            },
            "type": "scatterpolar"
           }
          ],
          "scatterpolargl": [
           {
            "marker": {
             "colorbar": {
              "outlinewidth": 0,
              "ticks": ""
             }
            },
            "type": "scatterpolargl"
           }
          ],
          "scatterternary": [
           {
            "marker": {
             "colorbar": {
              "outlinewidth": 0,
              "ticks": ""
             }
            },
            "type": "scatterternary"
           }
          ],
          "surface": [
           {
            "colorbar": {
             "outlinewidth": 0,
             "ticks": ""
            },
            "colorscale": [
             [
              0,
              "#0d0887"
             ],
             [
              0.1111111111111111,
              "#46039f"
             ],
             [
              0.2222222222222222,
              "#7201a8"
             ],
             [
              0.3333333333333333,
              "#9c179e"
             ],
             [
              0.4444444444444444,
              "#bd3786"
             ],
             [
              0.5555555555555556,
              "#d8576b"
             ],
             [
              0.6666666666666666,
              "#ed7953"
             ],
             [
              0.7777777777777778,
              "#fb9f3a"
             ],
             [
              0.8888888888888888,
              "#fdca26"
             ],
             [
              1,
              "#f0f921"
             ]
            ],
            "type": "surface"
           }
          ],
          "table": [
           {
            "cells": {
             "fill": {
              "color": "#EBF0F8"
             },
             "line": {
              "color": "white"
             }
            },
            "header": {
             "fill": {
              "color": "#C8D4E3"
             },
             "line": {
              "color": "white"
             }
            },
            "type": "table"
           }
          ]
         },
         "layout": {
          "annotationdefaults": {
           "arrowcolor": "#2a3f5f",
           "arrowhead": 0,
           "arrowwidth": 1
          },
          "autotypenumbers": "strict",
          "coloraxis": {
           "colorbar": {
            "outlinewidth": 0,
            "ticks": ""
           }
          },
          "colorscale": {
           "diverging": [
            [
             0,
             "#8e0152"
            ],
            [
             0.1,
             "#c51b7d"
            ],
            [
             0.2,
             "#de77ae"
            ],
            [
             0.3,
             "#f1b6da"
            ],
            [
             0.4,
             "#fde0ef"
            ],
            [
             0.5,
             "#f7f7f7"
            ],
            [
             0.6,
             "#e6f5d0"
            ],
            [
             0.7,
             "#b8e186"
            ],
            [
             0.8,
             "#7fbc41"
            ],
            [
             0.9,
             "#4d9221"
            ],
            [
             1,
             "#276419"
            ]
           ],
           "sequential": [
            [
             0,
             "#0d0887"
            ],
            [
             0.1111111111111111,
             "#46039f"
            ],
            [
             0.2222222222222222,
             "#7201a8"
            ],
            [
             0.3333333333333333,
             "#9c179e"
            ],
            [
             0.4444444444444444,
             "#bd3786"
            ],
            [
             0.5555555555555556,
             "#d8576b"
            ],
            [
             0.6666666666666666,
             "#ed7953"
            ],
            [
             0.7777777777777778,
             "#fb9f3a"
            ],
            [
             0.8888888888888888,
             "#fdca26"
            ],
            [
             1,
             "#f0f921"
            ]
           ],
           "sequentialminus": [
            [
             0,
             "#0d0887"
            ],
            [
             0.1111111111111111,
             "#46039f"
            ],
            [
             0.2222222222222222,
             "#7201a8"
            ],
            [
             0.3333333333333333,
             "#9c179e"
            ],
            [
             0.4444444444444444,
             "#bd3786"
            ],
            [
             0.5555555555555556,
             "#d8576b"
            ],
            [
             0.6666666666666666,
             "#ed7953"
            ],
            [
             0.7777777777777778,
             "#fb9f3a"
            ],
            [
             0.8888888888888888,
             "#fdca26"
            ],
            [
             1,
             "#f0f921"
            ]
           ]
          },
          "colorway": [
           "#636efa",
           "#EF553B",
           "#00cc96",
           "#ab63fa",
           "#FFA15A",
           "#19d3f3",
           "#FF6692",
           "#B6E880",
           "#FF97FF",
           "#FECB52"
          ],
          "font": {
           "color": "#2a3f5f"
          },
          "geo": {
           "bgcolor": "white",
           "lakecolor": "white",
           "landcolor": "#E5ECF6",
           "showlakes": true,
           "showland": true,
           "subunitcolor": "white"
          },
          "hoverlabel": {
           "align": "left"
          },
          "hovermode": "closest",
          "mapbox": {
           "style": "light"
          },
          "paper_bgcolor": "white",
          "plot_bgcolor": "#E5ECF6",
          "polar": {
           "angularaxis": {
            "gridcolor": "white",
            "linecolor": "white",
            "ticks": ""
           },
           "bgcolor": "#E5ECF6",
           "radialaxis": {
            "gridcolor": "white",
            "linecolor": "white",
            "ticks": ""
           }
          },
          "scene": {
           "xaxis": {
            "backgroundcolor": "#E5ECF6",
            "gridcolor": "white",
            "gridwidth": 2,
            "linecolor": "white",
            "showbackground": true,
            "ticks": "",
            "zerolinecolor": "white"
           },
           "yaxis": {
            "backgroundcolor": "#E5ECF6",
            "gridcolor": "white",
            "gridwidth": 2,
            "linecolor": "white",
            "showbackground": true,
            "ticks": "",
            "zerolinecolor": "white"
           },
           "zaxis": {
            "backgroundcolor": "#E5ECF6",
            "gridcolor": "white",
            "gridwidth": 2,
            "linecolor": "white",
            "showbackground": true,
            "ticks": "",
            "zerolinecolor": "white"
           }
          },
          "shapedefaults": {
           "line": {
            "color": "#2a3f5f"
           }
          },
          "ternary": {
           "aaxis": {
            "gridcolor": "white",
            "linecolor": "white",
            "ticks": ""
           },
           "baxis": {
            "gridcolor": "white",
            "linecolor": "white",
            "ticks": ""
           },
           "bgcolor": "#E5ECF6",
           "caxis": {
            "gridcolor": "white",
            "linecolor": "white",
            "ticks": ""
           }
          },
          "title": {
           "x": 0.05
          },
          "xaxis": {
           "automargin": true,
           "gridcolor": "white",
           "linecolor": "white",
           "ticks": "",
           "title": {
            "standoff": 15
           },
           "zerolinecolor": "white",
           "zerolinewidth": 2
          },
          "yaxis": {
           "automargin": true,
           "gridcolor": "white",
           "linecolor": "white",
           "ticks": "",
           "title": {
            "standoff": 15
           },
           "zerolinecolor": "white",
           "zerolinewidth": 2
          }
         }
        },
        "xaxis": {
         "anchor": "y",
         "domain": [
          0,
          1
         ],
         "title": {
          "text": "Date"
         }
        },
        "yaxis": {
         "anchor": "x",
         "domain": [
          0,
          1
         ],
         "title": {
          "text": "value"
         }
        }
       }
      }
     },
     "metadata": {},
     "output_type": "display_data"
    }
   ],
   "source": [
    "px.line(cumulative)"
   ]
  },
  {
   "cell_type": "code",
   "execution_count": 48,
   "metadata": {},
   "outputs": [
    {
     "name": "stdout",
     "output_type": "stream",
     "text": [
      "0.014191620956550731\n"
     ]
    }
   ],
   "source": [
    "print(np.std(ret))"
   ]
  },
  {
   "cell_type": "code",
   "execution_count": 49,
   "metadata": {},
   "outputs": [
    {
     "name": "stdout",
     "output_type": "stream",
     "text": [
      "0.2252849985115549\n"
     ]
    }
   ],
   "source": [
    "annual_std = np.std(ret) * np.sqrt(252)\n",
    "print(annual_std)"
   ]
  },
  {
   "cell_type": "markdown",
   "metadata": {},
   "source": [
    "# Portfolio Optimization"
   ]
  },
  {
   "cell_type": "code",
   "execution_count": 50,
   "metadata": {},
   "outputs": [
    {
     "name": "stdout",
     "output_type": "stream",
     "text": [
      "[*********************100%***********************]  4 of 4 completed\n"
     ]
    }
   ],
   "source": [
    "data = yf.download(stocks, start='2018-01-01')"
   ]
  },
  {
   "cell_type": "code",
   "execution_count": 51,
   "metadata": {},
   "outputs": [],
   "source": [
    "data = data['Close']\n",
    "x = data.pct_change()"
   ]
  },
  {
   "cell_type": "code",
   "execution_count": 52,
   "metadata": {},
   "outputs": [
    {
     "name": "stdout",
     "output_type": "stream",
     "text": [
      "[0.15666091 0.25423435 0.04212527 0.54697947]\n"
     ]
    }
   ],
   "source": [
    "# We are going to randomly assign a weight to each stock in our portfolio,\n",
    "# and then calculate the metrics for that portfolio, including the Sharpe ratio. \n",
    "\n",
    "wts = np.random.uniform(size =len(x.columns))\n",
    "wts = wts/np.sum(wts)\n",
    "\n",
    "print(wts)"
   ]
  },
  {
   "cell_type": "code",
   "execution_count": 53,
   "metadata": {},
   "outputs": [],
   "source": [
    "p_weights=[]\n",
    "p_returns=[]\n",
    "p_risk=[]\n",
    "p_sharpe=[]"
   ]
  },
  {
   "cell_type": "code",
   "execution_count": 54,
   "metadata": {},
   "outputs": [],
   "source": [
    "count = 500\n",
    "for k in range(0,count):\n",
    "    wts = np.random.uniform(size=len(x.columns))\n",
    "    wts = wts/np.sum(wts)\n",
    "    p_weights.append(wts)\n",
    "\n",
    "    #returns\n",
    "    mean_ret = (x.mean()*wts).sum()*252\n",
    "    p_returns.append(mean_ret)\n",
    "\n",
    "    #volatility\n",
    "    ret = (x*wts).sum(axis=1)\n",
    "    annual_std = np.std(ret)*np.sqrt(252)\n",
    "    p_risk.append(annual_std)\n",
    "\n",
    "    #sharpe ratio\n",
    "    sharpe = (np.mean(ret)/np.std(ret))*np.sqrt(252)\n",
    "    p_sharpe.append(sharpe)\n"
   ]
  },
  {
   "cell_type": "code",
   "execution_count": 55,
   "metadata": {},
   "outputs": [
    {
     "name": "stdout",
     "output_type": "stream",
     "text": [
      "1.5215073930278389\n",
      "[0.35228561 0.00627934 0.31030569 0.33112937]\n"
     ]
    }
   ],
   "source": [
    "max_ind = np.argmax(p_sharpe)\n",
    "print(p_sharpe[max_ind])\n",
    "print(p_weights[max_ind])"
   ]
  },
  {
   "cell_type": "code",
   "execution_count": 56,
   "metadata": {},
   "outputs": [
    {
     "data": {
      "application/vnd.plotly.v1+json": {
       "config": {
        "plotlyServerURL": "https://plot.ly"
       },
       "data": [
        {
         "alignmentgroup": "True",
         "hovertemplate": "variable=0<br>index=%{x}<br>value=%{y}<extra></extra>",
         "legendgroup": "0",
         "marker": {
          "color": "#636efa",
          "pattern": {
           "shape": ""
          }
         },
         "name": "0",
         "offsetgroup": "0",
         "orientation": "v",
         "showlegend": true,
         "textposition": "auto",
         "type": "bar",
         "x": [
          "AAPL",
          "AMZN",
          "MSFT",
          "TSLA"
         ],
         "xaxis": "x",
         "y": [
          0.35228560504153017,
          0.006279335741783,
          0.31030569134689073,
          0.331129367869796
         ],
         "yaxis": "y"
        }
       ],
       "layout": {
        "barmode": "relative",
        "legend": {
         "title": {
          "text": "variable"
         },
         "tracegroupgap": 0
        },
        "margin": {
         "t": 60
        },
        "template": {
         "data": {
          "bar": [
           {
            "error_x": {
             "color": "#2a3f5f"
            },
            "error_y": {
             "color": "#2a3f5f"
            },
            "marker": {
             "line": {
              "color": "#E5ECF6",
              "width": 0.5
             },
             "pattern": {
              "fillmode": "overlay",
              "size": 10,
              "solidity": 0.2
             }
            },
            "type": "bar"
           }
          ],
          "barpolar": [
           {
            "marker": {
             "line": {
              "color": "#E5ECF6",
              "width": 0.5
             },
             "pattern": {
              "fillmode": "overlay",
              "size": 10,
              "solidity": 0.2
             }
            },
            "type": "barpolar"
           }
          ],
          "carpet": [
           {
            "aaxis": {
             "endlinecolor": "#2a3f5f",
             "gridcolor": "white",
             "linecolor": "white",
             "minorgridcolor": "white",
             "startlinecolor": "#2a3f5f"
            },
            "baxis": {
             "endlinecolor": "#2a3f5f",
             "gridcolor": "white",
             "linecolor": "white",
             "minorgridcolor": "white",
             "startlinecolor": "#2a3f5f"
            },
            "type": "carpet"
           }
          ],
          "choropleth": [
           {
            "colorbar": {
             "outlinewidth": 0,
             "ticks": ""
            },
            "type": "choropleth"
           }
          ],
          "contour": [
           {
            "colorbar": {
             "outlinewidth": 0,
             "ticks": ""
            },
            "colorscale": [
             [
              0,
              "#0d0887"
             ],
             [
              0.1111111111111111,
              "#46039f"
             ],
             [
              0.2222222222222222,
              "#7201a8"
             ],
             [
              0.3333333333333333,
              "#9c179e"
             ],
             [
              0.4444444444444444,
              "#bd3786"
             ],
             [
              0.5555555555555556,
              "#d8576b"
             ],
             [
              0.6666666666666666,
              "#ed7953"
             ],
             [
              0.7777777777777778,
              "#fb9f3a"
             ],
             [
              0.8888888888888888,
              "#fdca26"
             ],
             [
              1,
              "#f0f921"
             ]
            ],
            "type": "contour"
           }
          ],
          "contourcarpet": [
           {
            "colorbar": {
             "outlinewidth": 0,
             "ticks": ""
            },
            "type": "contourcarpet"
           }
          ],
          "heatmap": [
           {
            "colorbar": {
             "outlinewidth": 0,
             "ticks": ""
            },
            "colorscale": [
             [
              0,
              "#0d0887"
             ],
             [
              0.1111111111111111,
              "#46039f"
             ],
             [
              0.2222222222222222,
              "#7201a8"
             ],
             [
              0.3333333333333333,
              "#9c179e"
             ],
             [
              0.4444444444444444,
              "#bd3786"
             ],
             [
              0.5555555555555556,
              "#d8576b"
             ],
             [
              0.6666666666666666,
              "#ed7953"
             ],
             [
              0.7777777777777778,
              "#fb9f3a"
             ],
             [
              0.8888888888888888,
              "#fdca26"
             ],
             [
              1,
              "#f0f921"
             ]
            ],
            "type": "heatmap"
           }
          ],
          "heatmapgl": [
           {
            "colorbar": {
             "outlinewidth": 0,
             "ticks": ""
            },
            "colorscale": [
             [
              0,
              "#0d0887"
             ],
             [
              0.1111111111111111,
              "#46039f"
             ],
             [
              0.2222222222222222,
              "#7201a8"
             ],
             [
              0.3333333333333333,
              "#9c179e"
             ],
             [
              0.4444444444444444,
              "#bd3786"
             ],
             [
              0.5555555555555556,
              "#d8576b"
             ],
             [
              0.6666666666666666,
              "#ed7953"
             ],
             [
              0.7777777777777778,
              "#fb9f3a"
             ],
             [
              0.8888888888888888,
              "#fdca26"
             ],
             [
              1,
              "#f0f921"
             ]
            ],
            "type": "heatmapgl"
           }
          ],
          "histogram": [
           {
            "marker": {
             "pattern": {
              "fillmode": "overlay",
              "size": 10,
              "solidity": 0.2
             }
            },
            "type": "histogram"
           }
          ],
          "histogram2d": [
           {
            "colorbar": {
             "outlinewidth": 0,
             "ticks": ""
            },
            "colorscale": [
             [
              0,
              "#0d0887"
             ],
             [
              0.1111111111111111,
              "#46039f"
             ],
             [
              0.2222222222222222,
              "#7201a8"
             ],
             [
              0.3333333333333333,
              "#9c179e"
             ],
             [
              0.4444444444444444,
              "#bd3786"
             ],
             [
              0.5555555555555556,
              "#d8576b"
             ],
             [
              0.6666666666666666,
              "#ed7953"
             ],
             [
              0.7777777777777778,
              "#fb9f3a"
             ],
             [
              0.8888888888888888,
              "#fdca26"
             ],
             [
              1,
              "#f0f921"
             ]
            ],
            "type": "histogram2d"
           }
          ],
          "histogram2dcontour": [
           {
            "colorbar": {
             "outlinewidth": 0,
             "ticks": ""
            },
            "colorscale": [
             [
              0,
              "#0d0887"
             ],
             [
              0.1111111111111111,
              "#46039f"
             ],
             [
              0.2222222222222222,
              "#7201a8"
             ],
             [
              0.3333333333333333,
              "#9c179e"
             ],
             [
              0.4444444444444444,
              "#bd3786"
             ],
             [
              0.5555555555555556,
              "#d8576b"
             ],
             [
              0.6666666666666666,
              "#ed7953"
             ],
             [
              0.7777777777777778,
              "#fb9f3a"
             ],
             [
              0.8888888888888888,
              "#fdca26"
             ],
             [
              1,
              "#f0f921"
             ]
            ],
            "type": "histogram2dcontour"
           }
          ],
          "mesh3d": [
           {
            "colorbar": {
             "outlinewidth": 0,
             "ticks": ""
            },
            "type": "mesh3d"
           }
          ],
          "parcoords": [
           {
            "line": {
             "colorbar": {
              "outlinewidth": 0,
              "ticks": ""
             }
            },
            "type": "parcoords"
           }
          ],
          "pie": [
           {
            "automargin": true,
            "type": "pie"
           }
          ],
          "scatter": [
           {
            "marker": {
             "colorbar": {
              "outlinewidth": 0,
              "ticks": ""
             }
            },
            "type": "scatter"
           }
          ],
          "scatter3d": [
           {
            "line": {
             "colorbar": {
              "outlinewidth": 0,
              "ticks": ""
             }
            },
            "marker": {
             "colorbar": {
              "outlinewidth": 0,
              "ticks": ""
             }
            },
            "type": "scatter3d"
           }
          ],
          "scattercarpet": [
           {
            "marker": {
             "colorbar": {
              "outlinewidth": 0,
              "ticks": ""
             }
            },
            "type": "scattercarpet"
           }
          ],
          "scattergeo": [
           {
            "marker": {
             "colorbar": {
              "outlinewidth": 0,
              "ticks": ""
             }
            },
            "type": "scattergeo"
           }
          ],
          "scattergl": [
           {
            "marker": {
             "colorbar": {
              "outlinewidth": 0,
              "ticks": ""
             }
            },
            "type": "scattergl"
           }
          ],
          "scattermapbox": [
           {
            "marker": {
             "colorbar": {
              "outlinewidth": 0,
              "ticks": ""
             }
            },
            "type": "scattermapbox"
           }
          ],
          "scatterpolar": [
           {
            "marker": {
             "colorbar": {
              "outlinewidth": 0,
              "ticks": ""
             }
            },
            "type": "scatterpolar"
           }
          ],
          "scatterpolargl": [
           {
            "marker": {
             "colorbar": {
              "outlinewidth": 0,
              "ticks": ""
             }
            },
            "type": "scatterpolargl"
           }
          ],
          "scatterternary": [
           {
            "marker": {
             "colorbar": {
              "outlinewidth": 0,
              "ticks": ""
             }
            },
            "type": "scatterternary"
           }
          ],
          "surface": [
           {
            "colorbar": {
             "outlinewidth": 0,
             "ticks": ""
            },
            "colorscale": [
             [
              0,
              "#0d0887"
             ],
             [
              0.1111111111111111,
              "#46039f"
             ],
             [
              0.2222222222222222,
              "#7201a8"
             ],
             [
              0.3333333333333333,
              "#9c179e"
             ],
             [
              0.4444444444444444,
              "#bd3786"
             ],
             [
              0.5555555555555556,
              "#d8576b"
             ],
             [
              0.6666666666666666,
              "#ed7953"
             ],
             [
              0.7777777777777778,
              "#fb9f3a"
             ],
             [
              0.8888888888888888,
              "#fdca26"
             ],
             [
              1,
              "#f0f921"
             ]
            ],
            "type": "surface"
           }
          ],
          "table": [
           {
            "cells": {
             "fill": {
              "color": "#EBF0F8"
             },
             "line": {
              "color": "white"
             }
            },
            "header": {
             "fill": {
              "color": "#C8D4E3"
             },
             "line": {
              "color": "white"
             }
            },
            "type": "table"
           }
          ]
         },
         "layout": {
          "annotationdefaults": {
           "arrowcolor": "#2a3f5f",
           "arrowhead": 0,
           "arrowwidth": 1
          },
          "autotypenumbers": "strict",
          "coloraxis": {
           "colorbar": {
            "outlinewidth": 0,
            "ticks": ""
           }
          },
          "colorscale": {
           "diverging": [
            [
             0,
             "#8e0152"
            ],
            [
             0.1,
             "#c51b7d"
            ],
            [
             0.2,
             "#de77ae"
            ],
            [
             0.3,
             "#f1b6da"
            ],
            [
             0.4,
             "#fde0ef"
            ],
            [
             0.5,
             "#f7f7f7"
            ],
            [
             0.6,
             "#e6f5d0"
            ],
            [
             0.7,
             "#b8e186"
            ],
            [
             0.8,
             "#7fbc41"
            ],
            [
             0.9,
             "#4d9221"
            ],
            [
             1,
             "#276419"
            ]
           ],
           "sequential": [
            [
             0,
             "#0d0887"
            ],
            [
             0.1111111111111111,
             "#46039f"
            ],
            [
             0.2222222222222222,
             "#7201a8"
            ],
            [
             0.3333333333333333,
             "#9c179e"
            ],
            [
             0.4444444444444444,
             "#bd3786"
            ],
            [
             0.5555555555555556,
             "#d8576b"
            ],
            [
             0.6666666666666666,
             "#ed7953"
            ],
            [
             0.7777777777777778,
             "#fb9f3a"
            ],
            [
             0.8888888888888888,
             "#fdca26"
            ],
            [
             1,
             "#f0f921"
            ]
           ],
           "sequentialminus": [
            [
             0,
             "#0d0887"
            ],
            [
             0.1111111111111111,
             "#46039f"
            ],
            [
             0.2222222222222222,
             "#7201a8"
            ],
            [
             0.3333333333333333,
             "#9c179e"
            ],
            [
             0.4444444444444444,
             "#bd3786"
            ],
            [
             0.5555555555555556,
             "#d8576b"
            ],
            [
             0.6666666666666666,
             "#ed7953"
            ],
            [
             0.7777777777777778,
             "#fb9f3a"
            ],
            [
             0.8888888888888888,
             "#fdca26"
            ],
            [
             1,
             "#f0f921"
            ]
           ]
          },
          "colorway": [
           "#636efa",
           "#EF553B",
           "#00cc96",
           "#ab63fa",
           "#FFA15A",
           "#19d3f3",
           "#FF6692",
           "#B6E880",
           "#FF97FF",
           "#FECB52"
          ],
          "font": {
           "color": "#2a3f5f"
          },
          "geo": {
           "bgcolor": "white",
           "lakecolor": "white",
           "landcolor": "#E5ECF6",
           "showlakes": true,
           "showland": true,
           "subunitcolor": "white"
          },
          "hoverlabel": {
           "align": "left"
          },
          "hovermode": "closest",
          "mapbox": {
           "style": "light"
          },
          "paper_bgcolor": "white",
          "plot_bgcolor": "#E5ECF6",
          "polar": {
           "angularaxis": {
            "gridcolor": "white",
            "linecolor": "white",
            "ticks": ""
           },
           "bgcolor": "#E5ECF6",
           "radialaxis": {
            "gridcolor": "white",
            "linecolor": "white",
            "ticks": ""
           }
          },
          "scene": {
           "xaxis": {
            "backgroundcolor": "#E5ECF6",
            "gridcolor": "white",
            "gridwidth": 2,
            "linecolor": "white",
            "showbackground": true,
            "ticks": "",
            "zerolinecolor": "white"
           },
           "yaxis": {
            "backgroundcolor": "#E5ECF6",
            "gridcolor": "white",
            "gridwidth": 2,
            "linecolor": "white",
            "showbackground": true,
            "ticks": "",
            "zerolinecolor": "white"
           },
           "zaxis": {
            "backgroundcolor": "#E5ECF6",
            "gridcolor": "white",
            "gridwidth": 2,
            "linecolor": "white",
            "showbackground": true,
            "ticks": "",
            "zerolinecolor": "white"
           }
          },
          "shapedefaults": {
           "line": {
            "color": "#2a3f5f"
           }
          },
          "ternary": {
           "aaxis": {
            "gridcolor": "white",
            "linecolor": "white",
            "ticks": ""
           },
           "baxis": {
            "gridcolor": "white",
            "linecolor": "white",
            "ticks": ""
           },
           "bgcolor": "#E5ECF6",
           "caxis": {
            "gridcolor": "white",
            "linecolor": "white",
            "ticks": ""
           }
          },
          "title": {
           "x": 0.05
          },
          "xaxis": {
           "automargin": true,
           "gridcolor": "white",
           "linecolor": "white",
           "ticks": "",
           "title": {
            "standoff": 15
           },
           "zerolinecolor": "white",
           "zerolinewidth": 2
          },
          "yaxis": {
           "automargin": true,
           "gridcolor": "white",
           "linecolor": "white",
           "ticks": "",
           "title": {
            "standoff": 15
           },
           "zerolinecolor": "white",
           "zerolinewidth": 2
          }
         }
        },
        "xaxis": {
         "anchor": "y",
         "domain": [
          0,
          1
         ],
         "title": {
          "text": "index"
         }
        },
        "yaxis": {
         "anchor": "x",
         "domain": [
          0,
          1
         ],
         "title": {
          "text": "value"
         }
        }
       }
      }
     },
     "metadata": {},
     "output_type": "display_data"
    }
   ],
   "source": [
    "grafico_max = pd.Series(p_weights[max_ind], index=x.columns)\n",
    "px.bar(grafico_max)"
   ]
  },
  {
   "cell_type": "code",
   "execution_count": 57,
   "metadata": {},
   "outputs": [],
   "source": [
    "data_nueva = pd.DataFrame(\n",
    "    {\n",
    "        'risk':p_risk,\n",
    "        'return':p_returns\n",
    "    }\n",
    ")"
   ]
  },
  {
   "cell_type": "code",
   "execution_count": 58,
   "metadata": {},
   "outputs": [
    {
     "data": {
      "text/html": [
       "<div>\n",
       "<style scoped>\n",
       "    .dataframe tbody tr th:only-of-type {\n",
       "        vertical-align: middle;\n",
       "    }\n",
       "\n",
       "    .dataframe tbody tr th {\n",
       "        vertical-align: top;\n",
       "    }\n",
       "\n",
       "    .dataframe thead th {\n",
       "        text-align: right;\n",
       "    }\n",
       "</style>\n",
       "<table border=\"1\" class=\"dataframe\">\n",
       "  <thead>\n",
       "    <tr style=\"text-align: right;\">\n",
       "      <th></th>\n",
       "      <th>risk</th>\n",
       "      <th>return</th>\n",
       "    </tr>\n",
       "  </thead>\n",
       "  <tbody>\n",
       "    <tr>\n",
       "      <th>0</th>\n",
       "      <td>0.288861</td>\n",
       "      <td>0.375664</td>\n",
       "    </tr>\n",
       "    <tr>\n",
       "      <th>1</th>\n",
       "      <td>0.360496</td>\n",
       "      <td>0.547684</td>\n",
       "    </tr>\n",
       "    <tr>\n",
       "      <th>2</th>\n",
       "      <td>0.293178</td>\n",
       "      <td>0.357779</td>\n",
       "    </tr>\n",
       "    <tr>\n",
       "      <th>3</th>\n",
       "      <td>0.284371</td>\n",
       "      <td>0.353579</td>\n",
       "    </tr>\n",
       "    <tr>\n",
       "      <th>4</th>\n",
       "      <td>0.341473</td>\n",
       "      <td>0.512887</td>\n",
       "    </tr>\n",
       "  </tbody>\n",
       "</table>\n",
       "</div>"
      ],
      "text/plain": [
       "       risk    return\n",
       "0  0.288861  0.375664\n",
       "1  0.360496  0.547684\n",
       "2  0.293178  0.357779\n",
       "3  0.284371  0.353579\n",
       "4  0.341473  0.512887"
      ]
     },
     "execution_count": 58,
     "metadata": {},
     "output_type": "execute_result"
    }
   ],
   "source": [
    "data_nueva.head()"
   ]
  },
  {
   "cell_type": "code",
   "execution_count": 59,
   "metadata": {},
   "outputs": [
    {
     "data": {
      "image/png": "[encoded data removed]",
      "text/plain": [
       "<Figure size 432x288 with 2 Axes>"
      ]
     },
     "metadata": {
      "needs_background": "light"
     },
     "output_type": "display_data"
    }
   ],
   "source": [
    "# The chart is called Efficient Frontier and shows the \n",
    "# returns on the Y-axis and volatility on the X-axis.\n",
    "max_ind = np.argmax(p_sharpe)\n",
    "\n",
    "plt.scatter(p_risk, p_returns, c=p_sharpe, cmap='plasma')\n",
    "plt.colorbar(label='Sharpe Ratio')\n",
    "\n",
    "plt.scatter(p_risk[max_ind], p_returns[max_ind], color='r', marker='*', s=500)\n",
    "plt.show()"
   ]
  },
  {
   "cell_type": "code",
   "execution_count": 60,
   "metadata": {},
   "outputs": [
    {
     "data": {
      "application/vnd.plotly.v1+json": {
       "config": {
        "plotlyServerURL": "https://plot.ly"
       },
       "data": [
        {
         "hovertemplate": "risk=%{x}<br>return=%{y}<br>color=%{marker.color}<extra></extra>",
         "legendgroup": "",
         "marker": {
          "color": [
           1.299241275043072,
           1.5177817152611743,
           1.2191669359758803,
           1.2421697072554436,
           1.500531656239828,
           1.4449504123471162,
           1.372951100606408,
           1.4691311118441694,
           1.48141562771299,
           1.3981500680348566,
           1.3420556815787343,
           1.4672717210155606,
           1.4902368718972874,
           1.4432187092095763,
           1.3543862140280152,
           1.2269514417550504,
           1.4224084658415501,
           1.4685437996788941,
           1.4664162826764733,
           1.4961727483574772,
           1.4850564623481752,
           1.500219387187639,
           1.5109561045591962,
           1.3320851516844074,
           1.4447161811016742,
           1.5046257709559432,
           1.4207077797160614,
           1.4662650207544716,
           1.4600258691425394,
           1.272701896347067,
           1.5150922684030643,
           1.472129649436191,
           1.4671441916424404,
           1.4279530244046426,
           1.50603504531065,
           1.318132799431178,
           1.4997073761749862,
           1.421057261587441,
           1.4411060283981136,
           1.3406990332680393,
           1.4726146694064486,
           1.3944285986645293,
           1.3373466103777485,
           1.475277359393653,
           1.4157484678805052,
           1.37331887815642,
           1.4151501494647791,
           1.3602609912470016,
           1.4649682677581632,
           1.4745485573898063,
           1.4956385001305752,
           1.4809774576760233,
           1.4121880994976217,
           1.5090433547440576,
           1.4203158031711216,
           1.4897455173843517,
           1.4569678161906399,
           1.406593790383344,
           1.5080673728042893,
           1.4112633408854414,
           1.4867487617518296,
           1.4703496481670766,
           1.484436798900702,
           1.352599558193502,
           1.4554429215271962,
           1.4444388356658637,
           1.4692751727086684,
           1.4856391843474697,
           1.4683394146472266,
           1.513160718049644,
           1.4771155331386951,
           1.4735940541021204,
           1.4620478853414935,
           1.501215736665907,
           1.3873110892674927,
           1.476823629717272,
           1.5015584599047915,
           1.463845654785567,
           1.4656676650756413,
           1.4502659843766994,
           1.438184584586268,
           1.2869785656691328,
           1.4142124603923247,
           1.307860404358501,
           1.4831382422190864,
           1.317120947253798,
           1.4200270104446875,
           1.4983660825138942,
           1.505636139216699,
           1.4909289512040511,
           1.451750682799048,
           1.1931630157901283,
           1.233291530380863,
           1.4141437720350343,
           1.4965623466082933,
           1.2732671488910734,
           1.445715067509807,
           1.2682539015409042,
           1.3580021456807012,
           1.123638890720758,
           1.3848885616544784,
           1.4177851934969232,
           1.3680132759108192,
           1.4843531877831333,
           1.3780727045445789,
           1.2892084684094356,
           1.500649623891713,
           1.4336705360766653,
           1.5013173779035656,
           1.2593295032552838,
           1.4657515681481277,
           1.4063560264925465,
           1.4542413187378977,
           1.3903156140026076,
           1.5021680416024676,
           1.4886387002780517,
           1.483380057605371,
           1.5083194748994466,
           1.3133903376724927,
           1.4625442381518732,
           1.4775742289158884,
           1.2793406801771863,
           1.4586019726877084,
           1.495289574843562,
           1.4823094097998801,
           1.4988423893971583,
           1.492424702705141,
           1.440726347976223,
           1.4898603986237344,
           1.497078855808896,
           1.4866443036155275,
           1.4700161724771812,
           1.3783644633746703,
           1.5127484289799786,
           1.3322180934584813,
           1.420656382236135,
           1.4073285300766682,
           1.506168245469251,
           1.4944338070560852,
           1.4828163666362724,
           1.498354706836907,
           1.3215746929604844,
           1.5043981698664926,
           1.4648586974872164,
           1.4314336919414754,
           1.4376794695617932,
           1.3700237853782755,
           1.4777553390826654,
           1.4415189004098776,
           1.492798954842114,
           1.426992991857131,
           1.4662601157584247,
           1.4788109552968736,
           1.3031012648217888,
           1.2877269717748099,
           1.4169288576428465,
           1.519529033827787,
           1.4095432454606598,
           1.4593871481335514,
           1.4458007748655153,
           1.3279358906291454,
           1.5169105551168103,
           1.4428896716989745,
           1.4713211002535227,
           1.4960066149705056,
           1.4494585599333631,
           1.4776223892154658,
           1.340025849642212,
           1.489346346695748,
           1.4604295482962812,
           1.390824863517728,
           1.3775256133902576,
           1.3967310254451666,
           1.4141534714677628,
           1.4808573451025764,
           1.3195875199729112,
           1.4456634038155602,
           1.3178982991267123,
           1.3841786470658743,
           1.2245506361080054,
           1.4965956706032983,
           1.4240741605567344,
           1.4443400545449179,
           1.4933920278483848,
           1.499027275472216,
           1.4102464891824449,
           1.4667359735542296,
           1.4192501833571285,
           1.4879570035603493,
           1.4084980766909894,
           1.4708771561725937,
           1.3396352457774294,
           1.4887934645333583,
           1.4778693787247197,
           1.4215030005295153,
           1.4524563438728624,
           1.3771880887351087,
           1.3963783194940536,
           1.4668578788320927,
           1.4002037492084793,
           1.4900263173233457,
           1.467358477946282,
           1.5135119970634374,
           1.4673280202346366,
           1.4643041831806851,
           1.5112770158036044,
           1.5003100922920296,
           1.4684735419360475,
           1.480745080970013,
           1.4449572923510956,
           1.4818196517927251,
           1.4695509539227998,
           1.3173585385839086,
           1.4991862509082434,
           1.469898910313495,
           1.4779212200916871,
           1.2866542425743017,
           1.422407780467653,
           1.298417323224012,
           1.488476192804115,
           1.2670439123079693,
           1.3939912877719287,
           1.5139250572776342,
           1.3565806580309105,
           1.4242420999931165,
           1.4842876303527552,
           1.4964182517431923,
           1.4287155309532673,
           1.456798072800222,
           1.5055653538195637,
           1.468081043556762,
           1.4371529230888163,
           1.2251635609473988,
           1.4036952712720616,
           1.4871654806656882,
           1.1295107919391245,
           1.506959754856376,
           1.482003781520121,
           1.3770479874126242,
           1.4600413801967795,
           1.412916022716331,
           1.3370454170533197,
           1.242315073564429,
           1.3769049052705808,
           1.4759132484180808,
           1.4126539125693043,
           1.365666757032772,
           1.4359981976701781,
           1.5162057208959832,
           1.4318539761107234,
           1.448448696123635,
           1.4372496627082176,
           1.4933860379057722,
           1.4589637732894707,
           1.5146263683201058,
           1.4705344097335473,
           1.42634998111314,
           1.1563539516522228,
           1.3613664725852002,
           1.2869806392319914,
           1.4803050554264412,
           1.2722206260857798,
           1.4259422637053811,
           1.4980115066603854,
           1.4359873250310689,
           1.463369828143363,
           1.2666988177604093,
           1.45248251724349,
           1.5029897741963634,
           1.476619863494376,
           1.4932376649075965,
           1.4923666950288936,
           1.4750315892371604,
           1.4187466491892584,
           1.4882442325455787,
           1.3417322563748906,
           1.3754147615203636,
           1.4322899996117289,
           1.4504575629804273,
           1.519920382024892,
           1.4646246848821032,
           1.4635106459873208,
           1.40555353481517,
           1.4450550647067018,
           1.4992110648234123,
           1.4419716220850025,
           1.3639622593745147,
           1.3129661357977576,
           1.315245327809435,
           1.4535591606825797,
           1.4878485582252998,
           1.3865186582166233,
           1.4828119032334288,
           1.4876369987523785,
           1.4989126695495278,
           1.506284793372992,
           1.4606946048631948,
           1.4950946720116174,
           1.3601079928205804,
           1.409875470903103,
           1.5215073930278389,
           1.1894888477299541,
           1.4866482253974453,
           1.4962188626119077,
           1.4839345037737157,
           1.4478042628778116,
           1.435318353942372,
           1.5112512399739302,
           1.4335457754544931,
           1.4692442383851259,
           1.3221714787112924,
           1.4869534320021387,
           1.295758902807909,
           1.5089236850148942,
           1.4452575801019558,
           1.46071654273587,
           1.459460507772776,
           1.4273409707506612,
           1.5159836543373229,
           1.4082276020186046,
           1.4613824462572014,
           1.4905721230496232,
           1.4487326786516999,
           1.4463431414977932,
           1.438377487780103,
           1.3884934413223555,
           1.442858032289195,
           1.4373090555747836,
           1.4679195388321766,
           1.457545235307225,
           1.461229705432927,
           1.1588223707601635,
           1.465348808159087,
           1.4908529655557339,
           1.4975082618972646,
           1.4823793445958773,
           1.5045025032824257,
           1.37139649034959,
           1.2492058387617528,
           1.4885842588470153,
           1.2814243572475785,
           1.497483093646633,
           1.40389324577792,
           1.4521671952527615,
           1.493908544499854,
           1.2312502196577055,
           1.5025082726201318,
           1.486208485498078,
           1.411670202765468,
           1.5007725558996345,
           1.492134809542711,
           1.399662923459403,
           1.4053936026806408,
           1.4584961461799109,
           1.4983975856221792,
           1.3933564100906515,
           1.4457125272332028,
           1.4260243504758217,
           1.2683385451122378,
           1.3962064983287534,
           1.4847277202987685,
           1.4656910107666483,
           1.483466490500125,
           1.4186975416010634,
           1.3472852556947548,
           1.5094363107186475,
           1.2664789144428605,
           1.4406654479310517,
           1.3576089641618807,
           1.4078035406245586,
           1.334237570534423,
           1.2128864562742532,
           1.4818862069064551,
           1.314020206371162,
           1.4521707070964605,
           1.467678194077295,
           1.2989812189585785,
           1.3535815916276626,
           1.4875452255418682,
           1.4233381500726368,
           1.4905062926492947,
           1.4055050183303452,
           1.4328570465185642,
           1.4264635656992297,
           1.3028509370686019,
           1.4694638619678062,
           1.5069722399091925,
           1.4848267597108702,
           1.4698351624370765,
           1.498560903753111,
           1.497650016798747,
           1.399520463856482,
           1.4796142868469742,
           1.5012752777144347,
           1.4842477557962253,
           1.474941006245395,
           1.4515498622224674,
           1.4873400786178157,
           1.29649069776984,
           1.187618260014137,
           1.5113805677142258,
           1.4872122144813589,
           1.490020136258034,
           1.4503555153089365,
           1.3911616845211867,
           1.3928071854215565,
           1.4782632261982114,
           1.4586679371642266,
           1.269346971978376,
           1.4460485095780586,
           1.4824978449374278,
           1.4962170400952526,
           1.4773591180335546,
           1.4788312102270285,
           1.4431388485728844,
           1.3305694246822783,
           1.4651035125030718,
           1.3500756945214567,
           1.4265617568902456,
           1.494721727756893,
           1.3942948422633086,
           1.4316648380641581,
           1.5184613451158748,
           1.3988970023600007,
           1.4809494910898104,
           1.504125563363585,
           1.3473283651699224,
           1.4423771439590964,
           1.4616006585344792,
           1.3157406171657073,
           1.5008550654265371,
           1.4476395603727725,
           1.4878956896450732,
           1.5039323450005022,
           1.1912790649964087,
           1.5175140464843633,
           1.5128744860527485,
           1.4552655255708433,
           1.42219433240744,
           1.5134491358458633,
           1.5113015659289348,
           1.5100487800664921,
           1.4607428386153485,
           1.4565951900284784,
           1.4564384741012233,
           1.4869026509225634,
           1.4573552645562513,
           1.468428507396766,
           1.2247586292256856,
           1.4859281922906364,
           1.4238330498965133,
           1.2900252191409904,
           1.4764371963221374,
           1.3248753074498734,
           1.4611884795135603,
           1.4464901660483043,
           1.4830303108684124,
           1.304227282543897,
           1.2331082231722017,
           1.4823353735225857,
           1.374817205934762,
           1.4715768594327834,
           1.43420867158103,
           1.230516948478062,
           1.4533739201516644,
           1.4549421563023486,
           1.4685124034485217,
           1.3494272730063026,
           1.3583722985654347,
           1.4924536239826502,
           1.269394366479659,
           1.4646548456253612,
           1.1551890826768743,
           1.2711977331503386,
           1.5051621393441692,
           1.488205198135413,
           1.4173117186686415,
           1.297726061807943,
           1.3682309965909483,
           1.5075279496269056,
           1.5105035157436633,
           1.4967258320057448,
           1.390948551693851,
           1.4703951952914585,
           1.415837674148618,
           1.501940858340116,
           1.4392063774222905,
           1.329191830056744,
           1.4727122351807131,
           1.4643561964536624,
           1.4997297999157355,
           1.506144410310725,
           1.4777470578266623,
           1.357992561816216,
           1.3885078621762648,
           1.4489449814603763,
           1.4624948558714055,
           1.4755586216176868,
           1.334948551818064,
           1.468063092137123
          ],
          "coloraxis": "coloraxis",
          "symbol": "circle"
         },
         "mode": "markers",
         "name": "",
         "orientation": "v",
         "showlegend": false,
         "type": "scatter",
         "x": [
          0.2888606420597278,
          0.360495552277421,
          0.29317757195322564,
          0.2843707294573918,
          0.34147250169726756,
          0.3254366323931419,
          0.30143665139931763,
          0.3195009116821482,
          0.3880378719080304,
          0.30586396824104367,
          0.2858248816777197,
          0.3762821133502246,
          0.3878509772481392,
          0.43407678120406656,
          0.291315578398029,
          0.29491433500504655,
          0.3070463535466113,
          0.357102093191439,
          0.3114793337860271,
          0.3246072747636259,
          0.3203710206860372,
          0.3623121136206556,
          0.3482081661006691,
          0.2902316120043597,
          0.3196273219060985,
          0.32624790737893183,
          0.31099484474168493,
          0.383754052253121,
          0.36053134108241747,
          0.2972903795581387,
          0.34633198110532915,
          0.36097784995152565,
          0.36210815353970277,
          0.41145937427808776,
          0.36570517317527546,
          0.285944849400976,
          0.3910662896717142,
          0.3340671464995714,
          0.32887514973588894,
          0.304554036405784,
          0.3214339111107407,
          0.295852611251083,
          0.28802766518487327,
          0.3112563950021861,
          0.3122197272164118,
          0.29096175515303535,
          0.30564334713731656,
          0.31393620988299675,
          0.3834432239618937,
          0.35395181003523346,
          0.40178169728149354,
          0.36074713151282867,
          0.5050049821920499,
          0.36630621934966745,
          0.33200842943067455,
          0.32942154164898896,
          0.31003484693173167,
          0.30433675679678235,
          0.34359963387680664,
          0.31589591572746384,
          0.3380389126878989,
          0.3312026876013563,
          0.3348794570577577,
          0.298684153447193,
          0.30385779896976756,
          0.32589413686000457,
          0.33991207586866323,
          0.39241847148189113,
          0.3540771909585228,
          0.34500831414411864,
          0.4053658039629724,
          0.4282121810639254,
          0.3383561500922053,
          0.33111475052942174,
          0.3193811393548666,
          0.39009047735005103,
          0.3898227045990154,
          0.35365981645460876,
          0.3732810802543297,
          0.3017013248167693,
          0.3046606718624409,
          0.288524739217378,
          0.3088554950795551,
          0.2860453516556773,
          0.31248352538160273,
          0.2839829472219319,
          0.40950799649760583,
          0.3476448831699795,
          0.32445692359451805,
          0.33441036040211125,
          0.32487077057262803,
          0.28671883075859966,
          0.2931037324748097,
          0.3057189560024563,
          0.32641852574992214,
          0.2826846047260767,
          0.33247604553592564,
          0.2831488301479139,
          0.30335263526410805,
          0.2927977382660314,
          0.3037879607124875,
          0.48055900368655025,
          0.2950244573226685,
          0.3264209341403493,
          0.29252071769000987,
          0.286104675656721,
          0.3603606955305677,
          0.30135348347403745,
          0.3291182010655302,
          0.2894258056791083,
          0.37554268124234264,
          0.29225369361262865,
          0.325007135108174,
          0.2917351272012001,
          0.32773152856195215,
          0.3417064548645326,
          0.3966993901095291,
          0.38672035220609174,
          0.29037195771955426,
          0.3733680753298647,
          0.31383138149698625,
          0.29486296044493504,
          0.3576648601364205,
          0.34688646155419905,
          0.34174631613427187,
          0.37490298237546926,
          0.3849853564540398,
          0.355733505632401,
          0.33358076717842544,
          0.3925558926507026,
          0.3291271955528614,
          0.3466896084717722,
          0.29274893116318784,
          0.3596748217766166,
          0.28708997181347873,
          0.30054260832235874,
          0.29472207116535704,
          0.3537548069445674,
          0.37686896910137924,
          0.32653458822670245,
          0.3330770495821632,
          0.2856305704544585,
          0.32602493993966136,
          0.3058863797702406,
          0.3084614528649434,
          0.2992859976124576,
          0.29018319244736707,
          0.3507421423259034,
          0.3107022047975235,
          0.32795182246369337,
          0.36194854084969313,
          0.39695473568283535,
          0.4184968653236358,
          0.28560257270193246,
          0.28597845104038566,
          0.29846968137761487,
          0.34680122328245355,
          0.3031968117249555,
          0.32317255226956615,
          0.34883568716949137,
          0.2890134469992115,
          0.35677208267606264,
          0.361351647208703,
          0.3170899405759984,
          0.39732830638472116,
          0.32219175646612197,
          0.4107450433966646,
          0.2881321806600519,
          0.37714796060463834,
          0.307524396719861,
          0.29410243314361834,
          0.29086552708610874,
          0.3119703991935935,
          0.3029632298845103,
          0.33426115342224905,
          0.28541857857749475,
          0.32884023648999916,
          0.28881192481516366,
          0.29113447662661596,
          0.2841475869975973,
          0.3983983174369358,
          0.3124982322615022,
          0.3209017286330165,
          0.35997863093867677,
          0.3222207275851455,
          0.3072459978741034,
          0.33340893677392097,
          0.36957849418140626,
          0.4051139990628207,
          0.310793503643194,
          0.3539028151372859,
          0.28712175433737896,
          0.348599518964693,
          0.3857720015724532,
          0.2963431652922057,
          0.4313955627800874,
          0.3027282801779055,
          0.3063379287860994,
          0.388636569130706,
          0.37420031586409974,
          0.3225989058000871,
          0.30776486818112014,
          0.3489699117781699,
          0.33120288226955696,
          0.31932952361862266,
          0.35570633262643414,
          0.3359879957423508,
          0.33124803482222753,
          0.35784192984251895,
          0.3146984423800512,
          0.31120935816443035,
          0.3374628235825636,
          0.31018447400481247,
          0.33355371590006316,
          0.34019121744547526,
          0.323738124483845,
          0.28412798126085187,
          0.3053407817329422,
          0.2860683920503833,
          0.3896512038057136,
          0.28343168815718073,
          0.32599509184210157,
          0.3703239613454153,
          0.28811950768022254,
          0.3099900930391546,
          0.31599406442326483,
          0.33797967636735504,
          0.34460573725081817,
          0.317553755118611,
          0.33293713232728595,
          0.34546100854502054,
          0.31183773893132993,
          0.2842959660209719,
          0.32497746349260415,
          0.3522898752656353,
          0.29368973590843583,
          0.3551060878552661,
          0.3121531197522453,
          0.29102091470517655,
          0.3111423754875683,
          0.30370808883146594,
          0.29517101901338344,
          0.28594080120320353,
          0.30588222153829453,
          0.33804311948326216,
          0.29641189151592756,
          0.3037088535193856,
          0.4194990965421753,
          0.3697990201906856,
          0.3851517673989411,
          0.36701331305979173,
          0.3121331970351126,
          0.3577079178963977,
          0.3232166678626119,
          0.3452174453824933,
          0.3256645361373969,
          0.3100777154452488,
          0.2908807711303177,
          0.2895330650014684,
          0.2885420745531087,
          0.3486887743307628,
          0.28266414862717826,
          0.3276502740095442,
          0.39300902024552664,
          0.4225019808768346,
          0.35488984520764416,
          0.29623290146571324,
          0.4197381700785258,
          0.3548997140905686,
          0.3582269430495912,
          0.3805443341194493,
          0.38100480066787873,
          0.375380771508232,
          0.3999878065084436,
          0.37376589427316126,
          0.31059087567584637,
          0.29182983050795863,
          0.3026481801787336,
          0.31440711079509964,
          0.35807844963911856,
          0.3880332522185543,
          0.3322648565321702,
          0.2962738074059045,
          0.3083855081753607,
          0.32636265622649396,
          0.333176883892927,
          0.2881119495758073,
          0.2863139624749944,
          0.2874648582893326,
          0.37200590278390205,
          0.3196939824736653,
          0.29400259622956054,
          0.31877716574816545,
          0.3336343433753785,
          0.32852833908784435,
          0.3508993988509709,
          0.3114945331802546,
          0.32815368785233395,
          0.29149615744728224,
          0.3058395079566569,
          0.3529528312494048,
          0.28298012664623157,
          0.3203460808014387,
          0.3449291712047902,
          0.34922552028764314,
          0.3461662516818381,
          0.4099458009213765,
          0.3493776412863753,
          0.463874917340918,
          0.3918208302650608,
          0.28553478398093435,
          0.32466983951253875,
          0.2967558533753387,
          0.36300987750744834,
          0.43927456645430696,
          0.4168254305282149,
          0.3800297859289266,
          0.4378804674435428,
          0.3578073632273669,
          0.31599870073136205,
          0.3081534143240258,
          0.39281307996033255,
          0.40683320012811763,
          0.31702350139615804,
          0.29813886926307454,
          0.3117903833668256,
          0.31562842322230417,
          0.3497534038575498,
          0.34159484409981045,
          0.41141630901615694,
          0.3078113666995008,
          0.2880343244560022,
          0.39532087463827636,
          0.3890297466792466,
          0.3325208192675644,
          0.3121114707480188,
          0.365857871830004,
          0.2922764646550332,
          0.2936467148243218,
          0.33559233441327024,
          0.28937182308164705,
          0.3973318556294044,
          0.3029619444048984,
          0.3451337877279963,
          0.33565720943933564,
          0.2857374945776732,
          0.34817496754892335,
          0.36942401329842744,
          0.2991710793250225,
          0.3531992277182428,
          0.4078729554277508,
          0.30298329203419627,
          0.342792250814328,
          0.31483172882741445,
          0.34700104673813836,
          0.2987793238282092,
          0.41050720065483476,
          0.3074455583979415,
          0.28321161019901864,
          0.44114937492199874,
          0.3213603803902848,
          0.34890872231324066,
          0.35725065262554156,
          0.3167511684338338,
          0.2884583715648274,
          0.35091852515231436,
          0.30141001680015767,
          0.3045819133655033,
          0.28764565038856593,
          0.3365032418210318,
          0.2861097783494736,
          0.2831812194767311,
          0.33606020762065203,
          0.2839447566084009,
          0.33383459005295135,
          0.3412675779243993,
          0.2866002056937056,
          0.2945710236443015,
          0.3212363445858756,
          0.30136928945902464,
          0.3782793645764697,
          0.3022025526058763,
          0.35898953133474715,
          0.3133643541218254,
          0.2851617333878816,
          0.3395098497375452,
          0.3275034160885482,
          0.360074484002207,
          0.36327978912431397,
          0.3361714009854972,
          0.3373234845298532,
          0.3126225410457519,
          0.31743540696734035,
          0.3317431996642747,
          0.36742993323866846,
          0.35185067633870026,
          0.3218404508571308,
          0.3472321575549825,
          0.2865936853263268,
          0.28192100359464245,
          0.3458746293173835,
          0.3293313803052678,
          0.34068374414889896,
          0.3176771065602954,
          0.29251815800402475,
          0.3168096511434435,
          0.4225771961160303,
          0.3175485881236424,
          0.28336691222251004,
          0.34417772629518983,
          0.34090577000597483,
          0.3764010145323874,
          0.3423198291243262,
          0.36766472131101935,
          0.3089790434708119,
          0.29125928355116365,
          0.38452022752079024,
          0.29085774584044244,
          0.30892211142454923,
          0.32389225349608475,
          0.30423532190018676,
          0.3100763350135992,
          0.3503325937050173,
          0.3145793538290258,
          0.31368647033874897,
          0.34511181831469595,
          0.29358792480978024,
          0.30966076256074304,
          0.35003543656780683,
          0.2839254230238038,
          0.35857345646751265,
          0.30237723649489906,
          0.3564625894831367,
          0.3280109193836185,
          0.29348349904022153,
          0.33748661816582187,
          0.3595404004737838,
          0.3221535469482266,
          0.4414202728445575,
          0.3476106431032061,
          0.3746680514870631,
          0.37223063135892526,
          0.3269865077843701,
          0.3046337065786038,
          0.3201314080304329,
          0.4056342689047322,
          0.3117761694065752,
          0.34154989322518947,
          0.2895208503595035,
          0.34108044190394465,
          0.32088451276047797,
          0.2982310091870485,
          0.3338308648685553,
          0.28444608322872356,
          0.30456605501848627,
          0.30055073818089645,
          0.32997353458965933,
          0.29216536010147254,
          0.2964972508584109,
          0.41305713436490993,
          0.29639114331810007,
          0.31786528521326546,
          0.2976441250889562,
          0.28223720457427925,
          0.37574961149399067,
          0.3611484104763715,
          0.3156238243544281,
          0.30136260892205374,
          0.2922854063656192,
          0.3370209134710526,
          0.2858100432552299,
          0.3070019069800177,
          0.28882156427518596,
          0.2855923934601845,
          0.342429452036006,
          0.33363775306572513,
          0.31696593122005556,
          0.2848056050374386,
          0.2887019036588773,
          0.3297790797688584,
          0.33381856647931024,
          0.35493374706944053,
          0.30071997358653124,
          0.32380581880642134,
          0.3303008775935394,
          0.3547607620285154,
          0.34699494155955907,
          0.2903995441235577,
          0.33778586724919124,
          0.32322191953183704,
          0.37044495542155065,
          0.38649315903992487,
          0.31122396922621953,
          0.2890751886205036,
          0.3201935709525199,
          0.30702475704786425,
          0.34768308315933005,
          0.3165031181830536,
          0.2902539155368031,
          0.3248729511114206
         ],
         "xaxis": "x",
         "y": [
          0.37566368409720946,
          0.5476842594814725,
          0.35777908725713337,
          0.3535793213836007,
          0.5128872823328685,
          0.4706958968445644,
          0.41425919625166013,
          0.4698440048132827,
          0.5754029285663407,
          0.42805851338681516,
          0.38396496546721803,
          0.5526436114181614,
          0.5785504379860947,
          0.6270753630329107,
          0.3949364937147737,
          0.3621965341625519,
          0.43716894601025513,
          0.5249287166658777,
          0.4572013913851053,
          0.48613962394700555,
          0.47623051829940355,
          0.5440748613896911,
          0.5266375619422289,
          0.3869882094755103,
          0.4622186501688582,
          0.4913571304131883,
          0.4422613431892683,
          0.5632309097769784,
          0.5268956424100153,
          0.3787290153093338,
          0.5252338544067402,
          0.5319216236332472,
          0.5317801650697692,
          0.5881145363467295,
          0.5512990115218939,
          0.3772788651194937,
          0.5870538498237285,
          0.47518899884725874,
          0.4744036543382282,
          0.40871134030756684,
          0.47380740845222985,
          0.4129454830900757,
          0.38556643261432366,
          0.45963489516356504,
          0.4424533342997698,
          0.3999708398164227,
          0.43295075430900687,
          0.42744937517475534,
          0.5622769976430407,
          0.5224253569940832,
          0.6015030268722351,
          0.5347765640367844,
          0.7138537447835667,
          0.5533081173875729,
          0.47201419720447707,
          0.49123026331859365,
          0.45214892267816903,
          0.4284933990778119,
          0.5186739882309789,
          0.4462447330887079,
          0.5030664023067646,
          0.4874560963652934,
          0.49758954966876845,
          0.4043919066147624,
          0.4426766328870478,
          0.4711907277589542,
          0.4999087817119098,
          0.5835577208029927,
          0.5204097683433119,
          0.5225593843560046,
          0.5993528939450498,
          0.6316229616634507,
          0.49517271225422443,
          0.4975568028218789,
          0.44351075481323965,
          0.5766536075537828,
          0.5859093215442619,
          0.518205522723762,
          0.5476366649964124,
          0.4379715598695317,
          0.43858326558674166,
          0.3716853152272152,
          0.4372109436172799,
          0.3744702480487523,
          0.4639057876689763,
          0.37440268174514085,
          0.5820764435812993,
          0.5214045386574668,
          0.4889878952628836,
          0.49906567868000384,
          0.4720888134008477,
          0.34243412080027674,
          0.3618329641215286,
          0.43274988891163185,
          0.4889794922101363,
          0.36028213128730474,
          0.48113184164221107,
          0.35945291564063403,
          0.4123530965405658,
          0.32931803245138297,
          0.42112053449248715,
          0.6819902833262211,
          0.4039888363865576,
          0.48499390948902776,
          0.40350581056487883,
          0.3692063287787017,
          0.5412996573851876,
          0.43246066122911675,
          0.49459012864466495,
          0.3648359793309176,
          0.5509861752701426,
          0.4114113977319934,
          0.47309723230962447,
          0.40599731074771434,
          0.492785333599507,
          0.5091708354386385,
          0.5890267264845529,
          0.5838635978726864,
          0.3817416282784731,
          0.5465969755156368,
          0.46415892792804925,
          0.37759606803750884,
          0.5221966750861787,
          0.5191988092377212,
          0.5070651223430895,
          0.5624655066114786,
          0.5751189419482143,
          0.5130117388206306,
          0.4974708201300034,
          0.5882571432222028,
          0.48976965343112605,
          0.510133646832543,
          0.4039061052912274,
          0.5446252592405335,
          0.38283742139400045,
          0.42738190439937895,
          0.4151730786891468,
          0.5333310505556522,
          0.5637519995728917,
          0.48466046392787926,
          0.4995516266345004,
          0.37784826548868117,
          0.49094704685867485,
          0.4485149313409248,
          0.4419703821702934,
          0.4306946740952303,
          0.3979434799171008,
          0.5188138000137965,
          0.4483175168131131,
          0.49004098372683264,
          0.5169989992279347,
          0.5826034349052869,
          0.6194780185958572,
          0.37253005245724613,
          0.3686193540476437,
          0.42332049895734336,
          0.5274856572575275,
          0.42778353694326465,
          0.47209132224335426,
          0.5048360890672428,
          0.38416358067636047,
          0.5417162568358509,
          0.5218962730517285,
          0.46699363345831735,
          0.5949823079106703,
          0.46745656113383055,
          0.6075147494650054,
          0.3864790654166767,
          0.5622487519724138,
          0.44955332948303267,
          0.40944172229213893,
          0.4010633408816685,
          0.4361613725631236,
          0.42885205758763395,
          0.4954731939118203,
          0.37700010443798865,
          0.47585339384549624,
          0.3809939246409519,
          0.4033729912728815,
          0.34829059929725437,
          0.5968195105309534,
          0.44545229760652444,
          0.46394077525214866,
          0.5381106426809533,
          0.48348615370762404,
          0.43371285421092654,
          0.489497200463475,
          0.5250330986343645,
          0.6033768796649206,
          0.4381766418987746,
          0.5210524620872026,
          0.3850114950939624,
          0.5194960732419771,
          0.570673606594237,
          0.4216612851659185,
          0.6271909650617405,
          0.41731815964594854,
          0.42817854388543397,
          0.570627547101321,
          0.524464887638411,
          0.48114708737969286,
          0.452039411224881,
          0.5286824372738349,
          0.4864546403120903,
          0.4680490931908598,
          0.5380922120563465,
          0.5045751102716386,
          0.4869007780342429,
          0.5303866179003487,
          0.45516686236979714,
          0.46160343289801103,
          0.4963998218885874,
          0.40902050306316445,
          0.5005441682355621,
          0.5005317111693578,
          0.4789235171028458,
          0.3659290549409249,
          0.4347403636733311,
          0.37179642371749577,
          0.5805490879280909,
          0.3594687174353419,
          0.45487508831871704,
          0.5611865097688207,
          0.3912364564138023,
          0.4419291670241859,
          0.4694810045423582,
          0.5062495082834798,
          0.4928211086998569,
          0.4630604004056439,
          0.5017447982520135,
          0.5076566733140635,
          0.448593201369228,
          0.34864689423105505,
          0.45661178205173997,
          0.5244215020532813,
          0.3320474776221343,
          0.535649623435164,
          0.4630608062177377,
          0.4011384649526828,
          0.4547213648221148,
          0.4295302364079214,
          0.3950398487699363,
          0.35557311507395567,
          0.42157923828498267,
          0.49940623935649314,
          0.41913355544817565,
          0.4151673790398984,
          0.6029842336069009,
          0.5612352225748616,
          0.5520159887701707,
          0.5321155706244789,
          0.4490484566322347,
          0.5347141440953826,
          0.4720187918851623,
          0.5233825992618856,
          0.4793654077840877,
          0.4427083245035327,
          0.3366873766141485,
          0.39454291642537453,
          0.3717082459625635,
          0.5166664011498256,
          0.35995995854791746,
          0.4676635357657162,
          0.589303064650529,
          0.6072959544117593,
          0.5198388115699879,
          0.3756018213215734,
          0.6102536849489,
          0.5339280132492001,
          0.529478079900838,
          0.5687942901322237,
          0.5691503774666111,
          0.5542355459144502,
          0.5680317785905229,
          0.5567944659955866,
          0.41713399603857115,
          0.4017763749253893,
          0.43390040800247476,
          0.4564764938915812,
          0.5447786202302829,
          0.5688743145553038,
          0.48674480676682286,
          0.41683260483534224,
          0.4460662752337784,
          0.48976108004989005,
          0.4808975977526444,
          0.3933549836260847,
          0.37628515433334697,
          0.3784535303115694,
          0.5412570617165459,
          0.47611758514591995,
          0.4080354684422688,
          0.4731450497357988,
          0.4968081965509001,
          0.49291291856188924,
          0.5290670904022473,
          0.4554397016010892,
          0.4910966992035651,
          0.39685079896837333,
          0.43161385077672443,
          0.5375412154068197,
          0.33692818557487847,
          0.476703854876482,
          0.5165901040279287,
          0.5187304449331359,
          0.5016670863671965,
          0.588973442884528,
          0.5285095152364928,
          0.6656309192942423,
          0.5762388683426728,
          0.37789212209649703,
          0.48323718521720377,
          0.38489700118190084,
          0.5482854864514406,
          0.6354806727597855,
          0.6094543583543579,
          0.5551764259937058,
          0.6256109436282993,
          0.5429562344364313,
          0.4454297105084599,
          0.4507667799628219,
          0.5860841375441266,
          0.5899642225443305,
          0.4589695048302268,
          0.4292521798149261,
          0.4333388043143848,
          0.455848719540599,
          0.5031913230739105,
          0.501920102707113,
          0.6002395083647708,
          0.4502193717723935,
          0.3341043632644539,
          0.5798448376443628,
          0.5805486987148288,
          0.49843565439128773,
          0.46311635360489756,
          0.5509679677034571,
          0.40121569273575974,
          0.36718098622103446,
          0.5000420032221455,
          0.3711677610811781,
          0.5955748437790407,
          0.4257387650408064,
          0.5016780866889506,
          0.5019275370969367,
          0.3521555889990538,
          0.5236431752390615,
          0.5495736359038079,
          0.42274053050932314,
          0.5305858412916272,
          0.6091917367352894,
          0.42448580374117467,
          0.48222530892912613,
          0.4596262374510388,
          0.5204498425036872,
          0.4167098746968574,
          0.5940510333524003,
          0.43885009506127654,
          0.3595566092057767,
          0.6165330397359412,
          0.47759545126119435,
          0.5118883937580184,
          0.5304834061876128,
          0.44980996632681575,
          0.3890126611440578,
          0.530202926494411,
          0.3820996825096069,
          0.43922624547742284,
          0.39088908195996314,
          0.47418994164485284,
          0.38210867591602377,
          0.3437998051206006,
          0.49848601544790017,
          0.37347103821748845,
          0.4852550210441775,
          0.5013567933114477,
          0.37264937890519306,
          0.39911265209783003,
          0.4783170761981932,
          0.42936645971835796,
          0.564374647939461,
          0.42515918018959564,
          0.5148795939345973,
          0.4474363963432128,
          0.37188358387046,
          0.49938135162999986,
          0.49401725541177416,
          0.535166801817943,
          0.5344793141698233,
          0.5042619443918844,
          0.5056825247191796,
          0.43794600994504956,
          0.47013752291518845,
          0.49852092711973506,
          0.5458860131369059,
          0.5194623455931655,
          0.46762058281907093,
          0.5169532281871849,
          0.3719264409032435,
          0.33513927911399083,
          0.523255223871344,
          0.49026071022974227,
          0.5081180012819823,
          0.4611916347060108,
          0.40733475766445737,
          0.44168274568015176,
          0.6252862267548228,
          0.46364721454445523,
          0.3600398077712293,
          0.4981804211053119,
          0.5058822653541527,
          0.5637238558989132,
          0.50621984394511,
          0.5442414305013884,
          0.4463321534243483,
          0.38791658551230057,
          0.5639083587974824,
          0.3930608461354032,
          0.44112391567076875,
          0.4845983608077882,
          0.4246051792869633,
          0.4443559634387247,
          0.5324824728636873,
          0.44049094738913197,
          0.46500440427298445,
          0.5195949916650787,
          0.39594300446959674,
          0.44708082415142064,
          0.5121082535257455,
          0.3739345509995752,
          0.5386887737126149,
          0.43815782123841807,
          0.5308935821773562,
          0.4937847047254663,
          0.3499598567168003,
          0.5126374252582813,
          0.5444670829646929,
          0.4692736733658332,
          0.6283943194735722,
          0.5266012999928851,
          0.5667856237917086,
          0.5626315964423932,
          0.4781064810437404,
          0.44415837774789,
          0.4667039319158862,
          0.6037236732988809,
          0.4548093485809749,
          0.5020280612098126,
          0.3549370911083941,
          0.50731262646641,
          0.4573291228431564,
          0.3850986806174184,
          0.4933583666050812,
          0.37722111630807537,
          0.44546005818711004,
          0.4351653590367565,
          0.4898354002865554,
          0.3814196263197646,
          0.3659678181602948,
          0.6128830805089591,
          0.40787887498841197,
          0.468216896680138,
          0.42729783353604045,
          0.34763451887366825,
          0.5466343703198505,
          0.5259596979537676,
          0.4639470619949193,
          0.4070613628488382,
          0.397417493752689,
          0.5034759479584737,
          0.36315755564774466,
          0.4500879624210415,
          0.3339671294518975,
          0.36339653159365265,
          0.5159117610981551,
          0.4970030304904407,
          0.44967526057854995,
          0.3699581427785232,
          0.39539402710808785,
          0.49763338284414843,
          0.5047231911471464,
          0.5317537731735088,
          0.4186917207573408,
          0.47658432669849743,
          0.46810601740341956,
          0.5333464920428224,
          0.49988171433192896,
          0.3863710920943507,
          0.49794388333193024,
          0.4737711012205315,
          0.5561062014724815,
          0.5826791226642856,
          0.4603563866191617,
          0.39294271439644657,
          0.4450225140521966,
          0.4452934668260618,
          0.5089779162493107,
          0.4674718814331822,
          0.3878498677206112,
          0.477396582748279
         ],
         "yaxis": "y"
        }
       ],
       "layout": {
        "coloraxis": {
         "colorbar": {
          "title": {
           "text": "color"
          }
         },
         "colorscale": [
          [
           0,
           "#0d0887"
          ],
          [
           0.1111111111111111,
           "#46039f"
          ],
          [
           0.2222222222222222,
           "#7201a8"
          ],
          [
           0.3333333333333333,
           "#9c179e"
          ],
          [
           0.4444444444444444,
           "#bd3786"
          ],
          [
           0.5555555555555556,
           "#d8576b"
          ],
          [
           0.6666666666666666,
           "#ed7953"
          ],
          [
           0.7777777777777778,
           "#fb9f3a"
          ],
          [
           0.8888888888888888,
           "#fdca26"
          ],
          [
           1,
           "#f0f921"
          ]
         ]
        },
        "legend": {
         "tracegroupgap": 0
        },
        "margin": {
         "t": 60
        },
        "template": {
         "data": {
          "bar": [
           {
            "error_x": {
             "color": "#2a3f5f"
            },
            "error_y": {
             "color": "#2a3f5f"
            },
            "marker": {
             "line": {
              "color": "#E5ECF6",
              "width": 0.5
             },
             "pattern": {
              "fillmode": "overlay",
              "size": 10,
              "solidity": 0.2
             }
            },
            "type": "bar"
           }
          ],
          "barpolar": [
           {
            "marker": {
             "line": {
              "color": "#E5ECF6",
              "width": 0.5
             },
             "pattern": {
              "fillmode": "overlay",
              "size": 10,
              "solidity": 0.2
             }
            },
            "type": "barpolar"
           }
          ],
          "carpet": [
           {
            "aaxis": {
             "endlinecolor": "#2a3f5f",
             "gridcolor": "white",
             "linecolor": "white",
             "minorgridcolor": "white",
             "startlinecolor": "#2a3f5f"
            },
            "baxis": {
             "endlinecolor": "#2a3f5f",
             "gridcolor": "white",
             "linecolor": "white",
             "minorgridcolor": "white",
             "startlinecolor": "#2a3f5f"
            },
            "type": "carpet"
           }
          ],
          "choropleth": [
           {
            "colorbar": {
             "outlinewidth": 0,
             "ticks": ""
            },
            "type": "choropleth"
           }
          ],
          "contour": [
           {
            "colorbar": {
             "outlinewidth": 0,
             "ticks": ""
            },
            "colorscale": [
             [
              0,
              "#0d0887"
             ],
             [
              0.1111111111111111,
              "#46039f"
             ],
             [
              0.2222222222222222,
              "#7201a8"
             ],
             [
              0.3333333333333333,
              "#9c179e"
             ],
             [
              0.4444444444444444,
              "#bd3786"
             ],
             [
              0.5555555555555556,
              "#d8576b"
             ],
             [
              0.6666666666666666,
              "#ed7953"
             ],
             [
              0.7777777777777778,
              "#fb9f3a"
             ],
             [
              0.8888888888888888,
              "#fdca26"
             ],
             [
              1,
              "#f0f921"
             ]
            ],
            "type": "contour"
           }
          ],
          "contourcarpet": [
           {
            "colorbar": {
             "outlinewidth": 0,
             "ticks": ""
            },
            "type": "contourcarpet"
           }
          ],
          "heatmap": [
           {
            "colorbar": {
             "outlinewidth": 0,
             "ticks": ""
            },
            "colorscale": [
             [
              0,
              "#0d0887"
             ],
             [
              0.1111111111111111,
              "#46039f"
             ],
             [
              0.2222222222222222,
              "#7201a8"
             ],
             [
              0.3333333333333333,
              "#9c179e"
             ],
             [
              0.4444444444444444,
              "#bd3786"
             ],
             [
              0.5555555555555556,
              "#d8576b"
             ],
             [
              0.6666666666666666,
              "#ed7953"
             ],
             [
              0.7777777777777778,
              "#fb9f3a"
             ],
             [
              0.8888888888888888,
              "#fdca26"
             ],
             [
              1,
              "#f0f921"
             ]
            ],
            "type": "heatmap"
           }
          ],
          "heatmapgl": [
           {
            "colorbar": {
             "outlinewidth": 0,
             "ticks": ""
            },
            "colorscale": [
             [
              0,
              "#0d0887"
             ],
             [
              0.1111111111111111,
              "#46039f"
             ],
             [
              0.2222222222222222,
              "#7201a8"
             ],
             [
              0.3333333333333333,
              "#9c179e"
             ],
             [
              0.4444444444444444,
              "#bd3786"
             ],
             [
              0.5555555555555556,
              "#d8576b"
             ],
             [
              0.6666666666666666,
              "#ed7953"
             ],
             [
              0.7777777777777778,
              "#fb9f3a"
             ],
             [
              0.8888888888888888,
              "#fdca26"
             ],
             [
              1,
              "#f0f921"
             ]
            ],
            "type": "heatmapgl"
           }
          ],
          "histogram": [
           {
            "marker": {
             "pattern": {
              "fillmode": "overlay",
              "size": 10,
              "solidity": 0.2
             }
            },
            "type": "histogram"
           }
          ],
          "histogram2d": [
           {
            "colorbar": {
             "outlinewidth": 0,
             "ticks": ""
            },
            "colorscale": [
             [
              0,
              "#0d0887"
             ],
             [
              0.1111111111111111,
              "#46039f"
             ],
             [
              0.2222222222222222,
              "#7201a8"
             ],
             [
              0.3333333333333333,
              "#9c179e"
             ],
             [
              0.4444444444444444,
              "#bd3786"
             ],
             [
              0.5555555555555556,
              "#d8576b"
             ],
             [
              0.6666666666666666,
              "#ed7953"
             ],
             [
              0.7777777777777778,
              "#fb9f3a"
             ],
             [
              0.8888888888888888,
              "#fdca26"
             ],
             [
              1,
              "#f0f921"
             ]
            ],
            "type": "histogram2d"
           }
          ],
          "histogram2dcontour": [
           {
            "colorbar": {
             "outlinewidth": 0,
             "ticks": ""
            },
            "colorscale": [
             [
              0,
              "#0d0887"
             ],
             [
              0.1111111111111111,
              "#46039f"
             ],
             [
              0.2222222222222222,
              "#7201a8"
             ],
             [
              0.3333333333333333,
              "#9c179e"
             ],
             [
              0.4444444444444444,
              "#bd3786"
             ],
             [
              0.5555555555555556,
              "#d8576b"
             ],
             [
              0.6666666666666666,
              "#ed7953"
             ],
             [
              0.7777777777777778,
              "#fb9f3a"
             ],
             [
              0.8888888888888888,
              "#fdca26"
             ],
             [
              1,
              "#f0f921"
             ]
            ],
            "type": "histogram2dcontour"
           }
          ],
          "mesh3d": [
           {
            "colorbar": {
             "outlinewidth": 0,
             "ticks": ""
            },
            "type": "mesh3d"
           }
          ],
          "parcoords": [
           {
            "line": {
             "colorbar": {
              "outlinewidth": 0,
              "ticks": ""
             }
            },
            "type": "parcoords"
           }
          ],
          "pie": [
           {
            "automargin": true,
            "type": "pie"
           }
          ],
          "scatter": [
           {
            "marker": {
             "colorbar": {
              "outlinewidth": 0,
              "ticks": ""
             }
            },
            "type": "scatter"
           }
          ],
          "scatter3d": [
           {
            "line": {
             "colorbar": {
              "outlinewidth": 0,
              "ticks": ""
             }
            },
            "marker": {
             "colorbar": {
              "outlinewidth": 0,
              "ticks": ""
             }
            },
            "type": "scatter3d"
           }
          ],
          "scattercarpet": [
           {
            "marker": {
             "colorbar": {
              "outlinewidth": 0,
              "ticks": ""
             }
            },
            "type": "scattercarpet"
           }
          ],
          "scattergeo": [
           {
            "marker": {
             "colorbar": {
              "outlinewidth": 0,
              "ticks": ""
             }
            },
            "type": "scattergeo"
           }
          ],
          "scattergl": [
           {
            "marker": {
             "colorbar": {
              "outlinewidth": 0,
              "ticks": ""
             }
            },
            "type": "scattergl"
           }
          ],
          "scattermapbox": [
           {
            "marker": {
             "colorbar": {
              "outlinewidth": 0,
              "ticks": ""
             }
            },
            "type": "scattermapbox"
           }
          ],
          "scatterpolar": [
           {
            "marker": {
             "colorbar": {
              "outlinewidth": 0,
              "ticks": ""
             }
            },
            "type": "scatterpolar"
           }
          ],
          "scatterpolargl": [
           {
            "marker": {
             "colorbar": {
              "outlinewidth": 0,
              "ticks": ""
             }
            },
            "type": "scatterpolargl"
           }
          ],
          "scatterternary": [
           {
            "marker": {
             "colorbar": {
              "outlinewidth": 0,
              "ticks": ""
             }
            },
            "type": "scatterternary"
           }
          ],
          "surface": [
           {
            "colorbar": {
             "outlinewidth": 0,
             "ticks": ""
            },
            "colorscale": [
             [
              0,
              "#0d0887"
             ],
             [
              0.1111111111111111,
              "#46039f"
             ],
             [
              0.2222222222222222,
              "#7201a8"
             ],
             [
              0.3333333333333333,
              "#9c179e"
             ],
             [
              0.4444444444444444,
              "#bd3786"
             ],
             [
              0.5555555555555556,
              "#d8576b"
             ],
             [
              0.6666666666666666,
              "#ed7953"
             ],
             [
              0.7777777777777778,
              "#fb9f3a"
             ],
             [
              0.8888888888888888,
              "#fdca26"
             ],
             [
              1,
              "#f0f921"
             ]
            ],
            "type": "surface"
           }
          ],
          "table": [
           {
            "cells": {
             "fill": {
              "color": "#EBF0F8"
             },
             "line": {
              "color": "white"
             }
            },
            "header": {
             "fill": {
              "color": "#C8D4E3"
             },
             "line": {
              "color": "white"
             }
            },
            "type": "table"
           }
          ]
         },
         "layout": {
          "annotationdefaults": {
           "arrowcolor": "#2a3f5f",
           "arrowhead": 0,
           "arrowwidth": 1
          },
          "autotypenumbers": "strict",
          "coloraxis": {
           "colorbar": {
            "outlinewidth": 0,
            "ticks": ""
           }
          },
          "colorscale": {
           "diverging": [
            [
             0,
             "#8e0152"
            ],
            [
             0.1,
             "#c51b7d"
            ],
            [
             0.2,
             "#de77ae"
            ],
            [
             0.3,
             "#f1b6da"
            ],
            [
             0.4,
             "#fde0ef"
            ],
            [
             0.5,
             "#f7f7f7"
            ],
            [
             0.6,
             "#e6f5d0"
            ],
            [
             0.7,
             "#b8e186"
            ],
            [
             0.8,
             "#7fbc41"
            ],
            [
             0.9,
             "#4d9221"
            ],
            [
             1,
             "#276419"
            ]
           ],
           "sequential": [
            [
             0,
             "#0d0887"
            ],
            [
             0.1111111111111111,
             "#46039f"
            ],
            [
             0.2222222222222222,
             "#7201a8"
            ],
            [
             0.3333333333333333,
             "#9c179e"
            ],
            [
             0.4444444444444444,
             "#bd3786"
            ],
            [
             0.5555555555555556,
             "#d8576b"
            ],
            [
             0.6666666666666666,
             "#ed7953"
            ],
            [
             0.7777777777777778,
             "#fb9f3a"
            ],
            [
             0.8888888888888888,
             "#fdca26"
            ],
            [
             1,
             "#f0f921"
            ]
           ],
           "sequentialminus": [
            [
             0,
             "#0d0887"
            ],
            [
             0.1111111111111111,
             "#46039f"
            ],
            [
             0.2222222222222222,
             "#7201a8"
            ],
            [
             0.3333333333333333,
             "#9c179e"
            ],
            [
             0.4444444444444444,
             "#bd3786"
            ],
            [
             0.5555555555555556,
             "#d8576b"
            ],
            [
             0.6666666666666666,
             "#ed7953"
            ],
            [
             0.7777777777777778,
             "#fb9f3a"
            ],
            [
             0.8888888888888888,
             "#fdca26"
            ],
            [
             1,
             "#f0f921"
            ]
           ]
          },
          "colorway": [
           "#636efa",
           "#EF553B",
           "#00cc96",
           "#ab63fa",
           "#FFA15A",
           "#19d3f3",
           "#FF6692",
           "#B6E880",
           "#FF97FF",
           "#FECB52"
          ],
          "font": {
           "color": "#2a3f5f"
          },
          "geo": {
           "bgcolor": "white",
           "lakecolor": "white",
           "landcolor": "#E5ECF6",
           "showlakes": true,
           "showland": true,
           "subunitcolor": "white"
          },
          "hoverlabel": {
           "align": "left"
          },
          "hovermode": "closest",
          "mapbox": {
           "style": "light"
          },
          "paper_bgcolor": "white",
          "plot_bgcolor": "#E5ECF6",
          "polar": {
           "angularaxis": {
            "gridcolor": "white",
            "linecolor": "white",
            "ticks": ""
           },
           "bgcolor": "#E5ECF6",
           "radialaxis": {
            "gridcolor": "white",
            "linecolor": "white",
            "ticks": ""
           }
          },
          "scene": {
           "xaxis": {
            "backgroundcolor": "#E5ECF6",
            "gridcolor": "white",
            "gridwidth": 2,
            "linecolor": "white",
            "showbackground": true,
            "ticks": "",
            "zerolinecolor": "white"
           },
           "yaxis": {
            "backgroundcolor": "#E5ECF6",
            "gridcolor": "white",
            "gridwidth": 2,
            "linecolor": "white",
            "showbackground": true,
            "ticks": "",
            "zerolinecolor": "white"
           },
           "zaxis": {
            "backgroundcolor": "#E5ECF6",
            "gridcolor": "white",
            "gridwidth": 2,
            "linecolor": "white",
            "showbackground": true,
            "ticks": "",
            "zerolinecolor": "white"
           }
          },
          "shapedefaults": {
           "line": {
            "color": "#2a3f5f"
           }
          },
          "ternary": {
           "aaxis": {
            "gridcolor": "white",
            "linecolor": "white",
            "ticks": ""
           },
           "baxis": {
            "gridcolor": "white",
            "linecolor": "white",
            "ticks": ""
           },
           "bgcolor": "#E5ECF6",
           "caxis": {
            "gridcolor": "white",
            "linecolor": "white",
            "ticks": ""
           }
          },
          "title": {
           "x": 0.05
          },
          "xaxis": {
           "automargin": true,
           "gridcolor": "white",
           "linecolor": "white",
           "ticks": "",
           "title": {
            "standoff": 15
           },
           "zerolinecolor": "white",
           "zerolinewidth": 2
          },
          "yaxis": {
           "automargin": true,
           "gridcolor": "white",
           "linecolor": "white",
           "ticks": "",
           "title": {
            "standoff": 15
           },
           "zerolinecolor": "white",
           "zerolinewidth": 2
          }
         }
        },
        "xaxis": {
         "anchor": "y",
         "domain": [
          0,
          1
         ],
         "title": {
          "text": "risk"
         }
        },
        "yaxis": {
         "anchor": "x",
         "domain": [
          0,
          1
         ],
         "title": {
          "text": "return"
         }
        }
       }
      }
     },
     "metadata": {},
     "output_type": "display_data"
    }
   ],
   "source": [
    "px.scatter(data_nueva, x='risk', y='return', color=p_sharpe)"
   ]
  }
 ],
 "metadata": {
  "interpreter": {
   "hash": "89eb0ba0d7a5cfde75646fe04fa67f97dee2740233f922d6dcaec62ecffe3139"
  },
  "kernelspec": {
   "display_name": "Python 3.8.8 64-bit ('base': conda)",
   "language": "python",
   "name": "python3"
  },
  "language_info": {
   "codemirror_mode": {
    "name": "ipython",
    "version": 3
   },
   "file_extension": ".py",
   "mimetype": "text/x-python",
   "name": "python",
   "nbconvert_exporter": "python",
   "pygments_lexer": "ipython3",
   "version": "3.8.8"
  },
  "orig_nbformat": 4
 },
 "nbformat": 4,
 "nbformat_minor": 2
}
