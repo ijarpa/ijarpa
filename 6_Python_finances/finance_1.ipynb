{
 "cells": [
  {
   "cell_type": "code",
   "execution_count": 13,
   "metadata": {},
   "outputs": [],
   "source": [
    "import numpy_financial as npf\n",
    "import pandas as pd\n",
    "import matplotlib.pyplot as plt\n",
    "import plotly.express as px"
   ]
  },
  {
   "cell_type": "code",
   "execution_count": 14,
   "metadata": {},
   "outputs": [
    {
     "name": "stdout",
     "output_type": "stream",
     "text": [
      "1469.33\n"
     ]
    }
   ],
   "source": [
    "res = npf.fv(rate=0.08, nper=5, pmt=0, pv=-1000)\n",
    "print(round(res,2))"
   ]
  },
  {
   "cell_type": "code",
   "execution_count": 15,
   "metadata": {},
   "outputs": [
    {
     "name": "stdout",
     "output_type": "stream",
     "text": [
      "100.0\n"
     ]
    },
    {
     "name": "stderr",
     "output_type": "stream",
     "text": [
      "C:\\Users\\ivana\\anaconda3\\lib\\site-packages\\numpy_financial\\_financial.py:130: RuntimeWarning: invalid value encountered in long_scalars\n",
      "  (1 + rate*when)*(temp - 1)/rate)\n"
     ]
    }
   ],
   "source": [
    "print(npf.fv(rate=0, nper=3, pmt=0, pv=-100))"
   ]
  },
  {
   "cell_type": "code",
   "execution_count": 16,
   "metadata": {},
   "outputs": [
    {
     "data": {
      "text/html": [
       "<div>\n",
       "<style scoped>\n",
       "    .dataframe tbody tr th:only-of-type {\n",
       "        vertical-align: middle;\n",
       "    }\n",
       "\n",
       "    .dataframe tbody tr th {\n",
       "        vertical-align: top;\n",
       "    }\n",
       "\n",
       "    .dataframe thead th {\n",
       "        text-align: right;\n",
       "    }\n",
       "</style>\n",
       "<table border=\"1\" class=\"dataframe\">\n",
       "  <thead>\n",
       "    <tr style=\"text-align: right;\">\n",
       "      <th></th>\n",
       "      <th>Name</th>\n",
       "      <th>Title</th>\n",
       "      <th>Pay</th>\n",
       "      <th>Exercised</th>\n",
       "      <th>Year Born</th>\n",
       "    </tr>\n",
       "  </thead>\n",
       "  <tbody>\n",
       "    <tr>\n",
       "      <th>0</th>\n",
       "      <td>Mr. Elon R. Musk</td>\n",
       "      <td>Technoking of Tesla, CEO &amp; Director</td>\n",
       "      <td>NaN</td>\n",
       "      <td>NaN</td>\n",
       "      <td>1972.0</td>\n",
       "    </tr>\n",
       "    <tr>\n",
       "      <th>1</th>\n",
       "      <td>Mr. Zachary J. Kirkhorn</td>\n",
       "      <td>Master of Coin &amp; CFO</td>\n",
       "      <td>300.76k</td>\n",
       "      <td>4.19M</td>\n",
       "      <td>1985.0</td>\n",
       "    </tr>\n",
       "    <tr>\n",
       "      <th>2</th>\n",
       "      <td>Mr. Andrew D. Baglino</td>\n",
       "      <td>Sr. VP of Powertrain &amp; Energy Engineering</td>\n",
       "      <td>283.27k</td>\n",
       "      <td>14.86M</td>\n",
       "      <td>1981.0</td>\n",
       "    </tr>\n",
       "    <tr>\n",
       "      <th>3</th>\n",
       "      <td>Mr. Vaibhav Taneja</td>\n",
       "      <td>Corp. Controller &amp; Chief Accounting Officer</td>\n",
       "      <td>NaN</td>\n",
       "      <td>NaN</td>\n",
       "      <td>1978.0</td>\n",
       "    </tr>\n",
       "    <tr>\n",
       "      <th>4</th>\n",
       "      <td>Mr. Martin Viecha</td>\n",
       "      <td>Sr. Director for Investor Relations</td>\n",
       "      <td>NaN</td>\n",
       "      <td>NaN</td>\n",
       "      <td>NaN</td>\n",
       "    </tr>\n",
       "    <tr>\n",
       "      <th>5</th>\n",
       "      <td>Mr. Alan Prescott</td>\n",
       "      <td>VP of Legal</td>\n",
       "      <td>NaN</td>\n",
       "      <td>NaN</td>\n",
       "      <td>NaN</td>\n",
       "    </tr>\n",
       "    <tr>\n",
       "      <th>6</th>\n",
       "      <td>Mr. Dave Arnold</td>\n",
       "      <td>Sr. Director of Global Communications</td>\n",
       "      <td>NaN</td>\n",
       "      <td>NaN</td>\n",
       "      <td>NaN</td>\n",
       "    </tr>\n",
       "    <tr>\n",
       "      <th>7</th>\n",
       "      <td>Brian Scelfo</td>\n",
       "      <td>Sr. Director of Corp. Devel.</td>\n",
       "      <td>NaN</td>\n",
       "      <td>NaN</td>\n",
       "      <td>NaN</td>\n",
       "    </tr>\n",
       "    <tr>\n",
       "      <th>8</th>\n",
       "      <td>Mr. Jeffrey B. Straubel</td>\n",
       "      <td>Sr. Advisor</td>\n",
       "      <td>NaN</td>\n",
       "      <td>NaN</td>\n",
       "      <td>1976.0</td>\n",
       "    </tr>\n",
       "    <tr>\n",
       "      <th>9</th>\n",
       "      <td>Mr. Franz von Holzhausen</td>\n",
       "      <td>Chief Designer</td>\n",
       "      <td>NaN</td>\n",
       "      <td>NaN</td>\n",
       "      <td>NaN</td>\n",
       "    </tr>\n",
       "  </tbody>\n",
       "</table>\n",
       "</div>"
      ],
      "text/plain": [
       "                       Name                                        Title  \\\n",
       "0          Mr. Elon R. Musk          Technoking of Tesla, CEO & Director   \n",
       "1   Mr. Zachary J. Kirkhorn                         Master of Coin & CFO   \n",
       "2     Mr. Andrew D. Baglino    Sr. VP of Powertrain & Energy Engineering   \n",
       "3        Mr. Vaibhav Taneja  Corp. Controller & Chief Accounting Officer   \n",
       "4         Mr. Martin Viecha          Sr. Director for Investor Relations   \n",
       "5         Mr. Alan Prescott                                  VP of Legal   \n",
       "6           Mr. Dave Arnold        Sr. Director of Global Communications   \n",
       "7              Brian Scelfo                 Sr. Director of Corp. Devel.   \n",
       "8   Mr. Jeffrey B. Straubel                                  Sr. Advisor   \n",
       "9  Mr. Franz von Holzhausen                               Chief Designer   \n",
       "\n",
       "       Pay Exercised  Year Born  \n",
       "0      NaN       NaN     1972.0  \n",
       "1  300.76k     4.19M     1985.0  \n",
       "2  283.27k    14.86M     1981.0  \n",
       "3      NaN       NaN     1978.0  \n",
       "4      NaN       NaN        NaN  \n",
       "5      NaN       NaN        NaN  \n",
       "6      NaN       NaN        NaN  \n",
       "7      NaN       NaN        NaN  \n",
       "8      NaN       NaN     1976.0  \n",
       "9      NaN       NaN        NaN  "
      ]
     },
     "execution_count": 16,
     "metadata": {},
     "output_type": "execute_result"
    }
   ],
   "source": [
    "import requests\n",
    "\n",
    "url_link = 'https://finance.yahoo.com/quote/TSLA/profile'\n",
    "r = requests.get(url_link, headers={'User-Agent':'Mozilla/5.0 (Windows NT 10.0; Win64; x64) AppleWebKit/537.36 (KHTML, like Gecko) Chrome/91.0.4472.124 Safari/537.36'})\n",
    "\n",
    "df = pd.read_html(r.text)\n",
    "df[0]"
   ]
  },
  {
   "cell_type": "code",
   "execution_count": 17,
   "metadata": {},
   "outputs": [
    {
     "data": {
      "text/html": [
       "<div>\n",
       "<style scoped>\n",
       "    .dataframe tbody tr th:only-of-type {\n",
       "        vertical-align: middle;\n",
       "    }\n",
       "\n",
       "    .dataframe tbody tr th {\n",
       "        vertical-align: top;\n",
       "    }\n",
       "\n",
       "    .dataframe thead th {\n",
       "        text-align: right;\n",
       "    }\n",
       "</style>\n",
       "<table border=\"1\" class=\"dataframe\">\n",
       "  <thead>\n",
       "    <tr style=\"text-align: right;\">\n",
       "      <th></th>\n",
       "      <th>Earnings Estimate</th>\n",
       "      <th>Current Qtr. (Dec 2021)</th>\n",
       "      <th>Next Qtr. (Mar 2022)</th>\n",
       "      <th>Current Year (2021)</th>\n",
       "      <th>Next Year (2022)</th>\n",
       "    </tr>\n",
       "  </thead>\n",
       "  <tbody>\n",
       "    <tr>\n",
       "      <th>0</th>\n",
       "      <td>No. of Analysts</td>\n",
       "      <td>23.00</td>\n",
       "      <td>13.00</td>\n",
       "      <td>32.00</td>\n",
       "      <td>31.00</td>\n",
       "    </tr>\n",
       "    <tr>\n",
       "      <th>1</th>\n",
       "      <td>Avg. Estimate</td>\n",
       "      <td>2.09</td>\n",
       "      <td>1.99</td>\n",
       "      <td>6.26</td>\n",
       "      <td>8.76</td>\n",
       "    </tr>\n",
       "    <tr>\n",
       "      <th>2</th>\n",
       "      <td>Low Estimate</td>\n",
       "      <td>1.39</td>\n",
       "      <td>1.40</td>\n",
       "      <td>4.30</td>\n",
       "      <td>5.94</td>\n",
       "    </tr>\n",
       "    <tr>\n",
       "      <th>3</th>\n",
       "      <td>High Estimate</td>\n",
       "      <td>2.98</td>\n",
       "      <td>2.62</td>\n",
       "      <td>7.22</td>\n",
       "      <td>12.29</td>\n",
       "    </tr>\n",
       "    <tr>\n",
       "      <th>4</th>\n",
       "      <td>Year Ago EPS</td>\n",
       "      <td>0.80</td>\n",
       "      <td>0.93</td>\n",
       "      <td>2.24</td>\n",
       "      <td>6.26</td>\n",
       "    </tr>\n",
       "  </tbody>\n",
       "</table>\n",
       "</div>"
      ],
      "text/plain": [
       "  Earnings Estimate  Current Qtr. (Dec 2021)  Next Qtr. (Mar 2022)  \\\n",
       "0   No. of Analysts                    23.00                 13.00   \n",
       "1     Avg. Estimate                     2.09                  1.99   \n",
       "2      Low Estimate                     1.39                  1.40   \n",
       "3     High Estimate                     2.98                  2.62   \n",
       "4      Year Ago EPS                     0.80                  0.93   \n",
       "\n",
       "   Current Year (2021)  Next Year (2022)  \n",
       "0                32.00             31.00  \n",
       "1                 6.26              8.76  \n",
       "2                 4.30              5.94  \n",
       "3                 7.22             12.29  \n",
       "4                 2.24              6.26  "
      ]
     },
     "execution_count": 17,
     "metadata": {},
     "output_type": "execute_result"
    }
   ],
   "source": [
    "url_link_2 = 'https://finance.yahoo.com/quote/TSLA/analysis?p=TSLA'\n",
    "r = requests.get(url_link_2, headers={'User-Agent':'Mozilla/5.0 (Windows NT 10.0; Win64; x64) AppleWebKit/537.36 (KHTML, like Gecko) Chrome/91.0.4472.124 Safari/537.36'})\n",
    "data_2 = pd.read_html(r.text)\n",
    "data_2 = data_2[0]\n",
    "data_2"
   ]
  },
  {
   "cell_type": "code",
   "execution_count": 18,
   "metadata": {},
   "outputs": [
    {
     "data": {
      "text/html": [
       "<div>\n",
       "<style scoped>\n",
       "    .dataframe tbody tr th:only-of-type {\n",
       "        vertical-align: middle;\n",
       "    }\n",
       "\n",
       "    .dataframe tbody tr th {\n",
       "        vertical-align: top;\n",
       "    }\n",
       "\n",
       "    .dataframe thead th {\n",
       "        text-align: right;\n",
       "    }\n",
       "</style>\n",
       "<table border=\"1\" class=\"dataframe\">\n",
       "  <thead>\n",
       "    <tr style=\"text-align: right;\">\n",
       "      <th></th>\n",
       "      <th>Earnings Estimate</th>\n",
       "      <th>Current Qtr. (Dec 2021)</th>\n",
       "      <th>Next Qtr. (Mar 2022)</th>\n",
       "      <th>Current Year (2021)</th>\n",
       "      <th>Next Year (2022)</th>\n",
       "    </tr>\n",
       "  </thead>\n",
       "  <tbody>\n",
       "    <tr>\n",
       "      <th>1</th>\n",
       "      <td>Avg. Estimate</td>\n",
       "      <td>2.09</td>\n",
       "      <td>1.99</td>\n",
       "      <td>6.26</td>\n",
       "      <td>8.76</td>\n",
       "    </tr>\n",
       "  </tbody>\n",
       "</table>\n",
       "</div>"
      ],
      "text/plain": [
       "  Earnings Estimate  Current Qtr. (Dec 2021)  Next Qtr. (Mar 2022)  \\\n",
       "1     Avg. Estimate                     2.09                  1.99   \n",
       "\n",
       "   Current Year (2021)  Next Year (2022)  \n",
       "1                 6.26              8.76  "
      ]
     },
     "execution_count": 18,
     "metadata": {},
     "output_type": "execute_result"
    }
   ],
   "source": [
    "data_2[data_2['Earnings Estimate']=='Avg. Estimate']"
   ]
  },
  {
   "cell_type": "code",
   "execution_count": 19,
   "metadata": {},
   "outputs": [
    {
     "data": {
      "text/html": [
       "<div>\n",
       "<style scoped>\n",
       "    .dataframe tbody tr th:only-of-type {\n",
       "        vertical-align: middle;\n",
       "    }\n",
       "\n",
       "    .dataframe tbody tr th {\n",
       "        vertical-align: top;\n",
       "    }\n",
       "\n",
       "    .dataframe thead th {\n",
       "        text-align: right;\n",
       "    }\n",
       "</style>\n",
       "<table border=\"1\" class=\"dataframe\">\n",
       "  <thead>\n",
       "    <tr style=\"text-align: right;\">\n",
       "      <th></th>\n",
       "      <th>Earnings Estimate</th>\n",
       "      <th>Current Qtr. (Dec 2021)</th>\n",
       "      <th>Next Qtr. (Mar 2022)</th>\n",
       "      <th>Current Year (2021)</th>\n",
       "      <th>Next Year (2022)</th>\n",
       "    </tr>\n",
       "  </thead>\n",
       "  <tbody>\n",
       "    <tr>\n",
       "      <th>1</th>\n",
       "      <td>Avg. Estimate</td>\n",
       "      <td>2.09</td>\n",
       "      <td>1.99</td>\n",
       "      <td>6.26</td>\n",
       "      <td>8.76</td>\n",
       "    </tr>\n",
       "  </tbody>\n",
       "</table>\n",
       "</div>"
      ],
      "text/plain": [
       "  Earnings Estimate  Current Qtr. (Dec 2021)  Next Qtr. (Mar 2022)  \\\n",
       "1     Avg. Estimate                     2.09                  1.99   \n",
       "\n",
       "   Current Year (2021)  Next Year (2022)  \n",
       "1                 6.26              8.76  "
      ]
     },
     "execution_count": 19,
     "metadata": {},
     "output_type": "execute_result"
    }
   ],
   "source": [
    "data_2.iloc[1:2]"
   ]
  },
  {
   "cell_type": "code",
   "execution_count": 20,
   "metadata": {},
   "outputs": [
    {
     "data": {
      "image/png": "[encoded data removed]",
      "text/plain": [
       "<Figure size 1080x864 with 1 Axes>"
      ]
     },
     "metadata": {
      "needs_background": "light"
     },
     "output_type": "display_data"
    }
   ],
   "source": [
    "data_2.iloc[1:2].plot(kind='bar', figsize=(15,12))\n",
    "plt.title('Avg. Estimate')\n",
    "plt.xlabel('Promedio')\n",
    "plt.show()"
   ]
  },
  {
   "cell_type": "code",
   "execution_count": 21,
   "metadata": {},
   "outputs": [],
   "source": [
    "import yfinance as yf"
   ]
  },
  {
   "cell_type": "code",
   "execution_count": 22,
   "metadata": {},
   "outputs": [],
   "source": [
    "data = yf.Ticker('TSLA')"
   ]
  },
  {
   "cell_type": "code",
   "execution_count": 23,
   "metadata": {},
   "outputs": [],
   "source": [
    "print(data.info['profitMargins'])"
   ]
  },
  {
   "cell_type": "code",
   "execution_count": null,
   "metadata": {},
   "outputs": [
    {
     "data": {
      "application/vnd.plotly.v1+json": {
       "config": {
        "plotlyServerURL": "https://plot.ly"
       },
       "data": [
        {
         "hovertemplate": "variable=Revenue<br>Year=%{x}<br>value=%{y}<extra></extra>",
         "legendgroup": "Revenue",
         "line": {
          "color": "#636efa",
          "dash": "solid"
         },
         "marker": {
          "symbol": "circle"
         },
         "mode": "lines",
         "name": "Revenue",
         "orientation": "v",
         "showlegend": true,
         "type": "scatter",
         "x": [
          2017,
          2018,
          2019,
          2020
         ],
         "xaxis": "x",
         "y": [
          11759000000,
          21461000000,
          24578000000,
          31536000000
         ],
         "yaxis": "y"
        },
        {
         "hovertemplate": "variable=Earnings<br>Year=%{x}<br>value=%{y}<extra></extra>",
         "legendgroup": "Earnings",
         "line": {
          "color": "#EF553B",
          "dash": "solid"
         },
         "marker": {
          "symbol": "circle"
         },
         "mode": "lines",
         "name": "Earnings",
         "orientation": "v",
         "showlegend": true,
         "type": "scatter",
         "x": [
          2017,
          2018,
          2019,
          2020
         ],
         "xaxis": "x",
         "y": [
          -1962000000,
          -976000000,
          -862000000,
          721000000
         ],
         "yaxis": "y"
        }
       ],
       "layout": {
        "legend": {
         "title": {
          "text": "variable"
         },
         "tracegroupgap": 0
        },
        "margin": {
         "t": 60
        },
        "template": {
         "data": {
          "bar": [
           {
            "error_x": {
             "color": "#2a3f5f"
            },
            "error_y": {
             "color": "#2a3f5f"
            },
            "marker": {
             "line": {
              "color": "#E5ECF6",
              "width": 0.5
             },
             "pattern": {
              "fillmode": "overlay",
              "size": 10,
              "solidity": 0.2
             }
            },
            "type": "bar"
           }
          ],
          "barpolar": [
           {
            "marker": {
             "line": {
              "color": "#E5ECF6",
              "width": 0.5
             },
             "pattern": {
              "fillmode": "overlay",
              "size": 10,
              "solidity": 0.2
             }
            },
            "type": "barpolar"
           }
          ],
          "carpet": [
           {
            "aaxis": {
             "endlinecolor": "#2a3f5f",
             "gridcolor": "white",
             "linecolor": "white",
             "minorgridcolor": "white",
             "startlinecolor": "#2a3f5f"
            },
            "baxis": {
             "endlinecolor": "#2a3f5f",
             "gridcolor": "white",
             "linecolor": "white",
             "minorgridcolor": "white",
             "startlinecolor": "#2a3f5f"
            },
            "type": "carpet"
           }
          ],
          "choropleth": [
           {
            "colorbar": {
             "outlinewidth": 0,
             "ticks": ""
            },
            "type": "choropleth"
           }
          ],
          "contour": [
           {
            "colorbar": {
             "outlinewidth": 0,
             "ticks": ""
            },
            "colorscale": [
             [
              0,
              "#0d0887"
             ],
             [
              0.1111111111111111,
              "#46039f"
             ],
             [
              0.2222222222222222,
              "#7201a8"
             ],
             [
              0.3333333333333333,
              "#9c179e"
             ],
             [
              0.4444444444444444,
              "#bd3786"
             ],
             [
              0.5555555555555556,
              "#d8576b"
             ],
             [
              0.6666666666666666,
              "#ed7953"
             ],
             [
              0.7777777777777778,
              "#fb9f3a"
             ],
             [
              0.8888888888888888,
              "#fdca26"
             ],
             [
              1,
              "#f0f921"
             ]
            ],
            "type": "contour"
           }
          ],
          "contourcarpet": [
           {
            "colorbar": {
             "outlinewidth": 0,
             "ticks": ""
            },
            "type": "contourcarpet"
           }
          ],
          "heatmap": [
           {
            "colorbar": {
             "outlinewidth": 0,
             "ticks": ""
            },
            "colorscale": [
             [
              0,
              "#0d0887"
             ],
             [
              0.1111111111111111,
              "#46039f"
             ],
             [
              0.2222222222222222,
              "#7201a8"
             ],
             [
              0.3333333333333333,
              "#9c179e"
             ],
             [
              0.4444444444444444,
              "#bd3786"
             ],
             [
              0.5555555555555556,
              "#d8576b"
             ],
             [
              0.6666666666666666,
              "#ed7953"
             ],
             [
              0.7777777777777778,
              "#fb9f3a"
             ],
             [
              0.8888888888888888,
              "#fdca26"
             ],
             [
              1,
              "#f0f921"
             ]
            ],
            "type": "heatmap"
           }
          ],
          "heatmapgl": [
           {
            "colorbar": {
             "outlinewidth": 0,
             "ticks": ""
            },
            "colorscale": [
             [
              0,
              "#0d0887"
             ],
             [
              0.1111111111111111,
              "#46039f"
             ],
             [
              0.2222222222222222,
              "#7201a8"
             ],
             [
              0.3333333333333333,
              "#9c179e"
             ],
             [
              0.4444444444444444,
              "#bd3786"
             ],
             [
              0.5555555555555556,
              "#d8576b"
             ],
             [
              0.6666666666666666,
              "#ed7953"
             ],
             [
              0.7777777777777778,
              "#fb9f3a"
             ],
             [
              0.8888888888888888,
              "#fdca26"
             ],
             [
              1,
              "#f0f921"
             ]
            ],
            "type": "heatmapgl"
           }
          ],
          "histogram": [
           {
            "marker": {
             "pattern": {
              "fillmode": "overlay",
              "size": 10,
              "solidity": 0.2
             }
            },
            "type": "histogram"
           }
          ],
          "histogram2d": [
           {
            "colorbar": {
             "outlinewidth": 0,
             "ticks": ""
            },
            "colorscale": [
             [
              0,
              "#0d0887"
             ],
             [
              0.1111111111111111,
              "#46039f"
             ],
             [
              0.2222222222222222,
              "#7201a8"
             ],
             [
              0.3333333333333333,
              "#9c179e"
             ],
             [
              0.4444444444444444,
              "#bd3786"
             ],
             [
              0.5555555555555556,
              "#d8576b"
             ],
             [
              0.6666666666666666,
              "#ed7953"
             ],
             [
              0.7777777777777778,
              "#fb9f3a"
             ],
             [
              0.8888888888888888,
              "#fdca26"
             ],
             [
              1,
              "#f0f921"
             ]
            ],
            "type": "histogram2d"
           }
          ],
          "histogram2dcontour": [
           {
            "colorbar": {
             "outlinewidth": 0,
             "ticks": ""
            },
            "colorscale": [
             [
              0,
              "#0d0887"
             ],
             [
              0.1111111111111111,
              "#46039f"
             ],
             [
              0.2222222222222222,
              "#7201a8"
             ],
             [
              0.3333333333333333,
              "#9c179e"
             ],
             [
              0.4444444444444444,
              "#bd3786"
             ],
             [
              0.5555555555555556,
              "#d8576b"
             ],
             [
              0.6666666666666666,
              "#ed7953"
             ],
             [
              0.7777777777777778,
              "#fb9f3a"
             ],
             [
              0.8888888888888888,
              "#fdca26"
             ],
             [
              1,
              "#f0f921"
             ]
            ],
            "type": "histogram2dcontour"
           }
          ],
          "mesh3d": [
           {
            "colorbar": {
             "outlinewidth": 0,
             "ticks": ""
            },
            "type": "mesh3d"
           }
          ],
          "parcoords": [
           {
            "line": {
             "colorbar": {
              "outlinewidth": 0,
              "ticks": ""
             }
            },
            "type": "parcoords"
           }
          ],
          "pie": [
           {
            "automargin": true,
            "type": "pie"
           }
          ],
          "scatter": [
           {
            "marker": {
             "colorbar": {
              "outlinewidth": 0,
              "ticks": ""
             }
            },
            "type": "scatter"
           }
          ],
          "scatter3d": [
           {
            "line": {
             "colorbar": {
              "outlinewidth": 0,
              "ticks": ""
             }
            },
            "marker": {
             "colorbar": {
              "outlinewidth": 0,
              "ticks": ""
             }
            },
            "type": "scatter3d"
           }
          ],
          "scattercarpet": [
           {
            "marker": {
             "colorbar": {
              "outlinewidth": 0,
              "ticks": ""
             }
            },
            "type": "scattercarpet"
           }
          ],
          "scattergeo": [
           {
            "marker": {
             "colorbar": {
              "outlinewidth": 0,
              "ticks": ""
             }
            },
            "type": "scattergeo"
           }
          ],
          "scattergl": [
           {
            "marker": {
             "colorbar": {
              "outlinewidth": 0,
              "ticks": ""
             }
            },
            "type": "scattergl"
           }
          ],
          "scattermapbox": [
           {
            "marker": {
             "colorbar": {
              "outlinewidth": 0,
              "ticks": ""
             }
            },
            "type": "scattermapbox"
           }
          ],
          "scatterpolar": [
           {
            "marker": {
             "colorbar": {
              "outlinewidth": 0,
              "ticks": ""
             }
            },
            "type": "scatterpolar"
           }
          ],
          "scatterpolargl": [
           {
            "marker": {
             "colorbar": {
              "outlinewidth": 0,
              "ticks": ""
             }
            },
            "type": "scatterpolargl"
           }
          ],
          "scatterternary": [
           {
            "marker": {
             "colorbar": {
              "outlinewidth": 0,
              "ticks": ""
             }
            },
            "type": "scatterternary"
           }
          ],
          "surface": [
           {
            "colorbar": {
             "outlinewidth": 0,
             "ticks": ""
            },
            "colorscale": [
             [
              0,
              "#0d0887"
             ],
             [
              0.1111111111111111,
              "#46039f"
             ],
             [
              0.2222222222222222,
              "#7201a8"
             ],
             [
              0.3333333333333333,
              "#9c179e"
             ],
             [
              0.4444444444444444,
              "#bd3786"
             ],
             [
              0.5555555555555556,
              "#d8576b"
             ],
             [
              0.6666666666666666,
              "#ed7953"
             ],
             [
              0.7777777777777778,
              "#fb9f3a"
             ],
             [
              0.8888888888888888,
              "#fdca26"
             ],
             [
              1,
              "#f0f921"
             ]
            ],
            "type": "surface"
           }
          ],
          "table": [
           {
            "cells": {
             "fill": {
              "color": "#EBF0F8"
             },
             "line": {
              "color": "white"
             }
            },
            "header": {
             "fill": {
              "color": "#C8D4E3"
             },
             "line": {
              "color": "white"
             }
            },
            "type": "table"
           }
          ]
         },
         "layout": {
          "annotationdefaults": {
           "arrowcolor": "#2a3f5f",
           "arrowhead": 0,
           "arrowwidth": 1
          },
          "autotypenumbers": "strict",
          "coloraxis": {
           "colorbar": {
            "outlinewidth": 0,
            "ticks": ""
           }
          },
          "colorscale": {
           "diverging": [
            [
             0,
             "#8e0152"
            ],
            [
             0.1,
             "#c51b7d"
            ],
            [
             0.2,
             "#de77ae"
            ],
            [
             0.3,
             "#f1b6da"
            ],
            [
             0.4,
             "#fde0ef"
            ],
            [
             0.5,
             "#f7f7f7"
            ],
            [
             0.6,
             "#e6f5d0"
            ],
            [
             0.7,
             "#b8e186"
            ],
            [
             0.8,
             "#7fbc41"
            ],
            [
             0.9,
             "#4d9221"
            ],
            [
             1,
             "#276419"
            ]
           ],
           "sequential": [
            [
             0,
             "#0d0887"
            ],
            [
             0.1111111111111111,
             "#46039f"
            ],
            [
             0.2222222222222222,
             "#7201a8"
            ],
            [
             0.3333333333333333,
             "#9c179e"
            ],
            [
             0.4444444444444444,
             "#bd3786"
            ],
            [
             0.5555555555555556,
             "#d8576b"
            ],
            [
             0.6666666666666666,
             "#ed7953"
            ],
            [
             0.7777777777777778,
             "#fb9f3a"
            ],
            [
             0.8888888888888888,
             "#fdca26"
            ],
            [
             1,
             "#f0f921"
            ]
           ],
           "sequentialminus": [
            [
             0,
             "#0d0887"
            ],
            [
             0.1111111111111111,
             "#46039f"
            ],
            [
             0.2222222222222222,
             "#7201a8"
            ],
            [
             0.3333333333333333,
             "#9c179e"
            ],
            [
             0.4444444444444444,
             "#bd3786"
            ],
            [
             0.5555555555555556,
             "#d8576b"
            ],
            [
             0.6666666666666666,
             "#ed7953"
            ],
            [
             0.7777777777777778,
             "#fb9f3a"
            ],
            [
             0.8888888888888888,
             "#fdca26"
            ],
            [
             1,
             "#f0f921"
            ]
           ]
          },
          "colorway": [
           "#636efa",
           "#EF553B",
           "#00cc96",
           "#ab63fa",
           "#FFA15A",
           "#19d3f3",
           "#FF6692",
           "#B6E880",
           "#FF97FF",
           "#FECB52"
          ],
          "font": {
           "color": "#2a3f5f"
          },
          "geo": {
           "bgcolor": "white",
           "lakecolor": "white",
           "landcolor": "#E5ECF6",
           "showlakes": true,
           "showland": true,
           "subunitcolor": "white"
          },
          "hoverlabel": {
           "align": "left"
          },
          "hovermode": "closest",
          "mapbox": {
           "style": "light"
          },
          "paper_bgcolor": "white",
          "plot_bgcolor": "#E5ECF6",
          "polar": {
           "angularaxis": {
            "gridcolor": "white",
            "linecolor": "white",
            "ticks": ""
           },
           "bgcolor": "#E5ECF6",
           "radialaxis": {
            "gridcolor": "white",
            "linecolor": "white",
            "ticks": ""
           }
          },
          "scene": {
           "xaxis": {
            "backgroundcolor": "#E5ECF6",
            "gridcolor": "white",
            "gridwidth": 2,
            "linecolor": "white",
            "showbackground": true,
            "ticks": "",
            "zerolinecolor": "white"
           },
           "yaxis": {
            "backgroundcolor": "#E5ECF6",
            "gridcolor": "white",
            "gridwidth": 2,
            "linecolor": "white",
            "showbackground": true,
            "ticks": "",
            "zerolinecolor": "white"
           },
           "zaxis": {
            "backgroundcolor": "#E5ECF6",
            "gridcolor": "white",
            "gridwidth": 2,
            "linecolor": "white",
            "showbackground": true,
            "ticks": "",
            "zerolinecolor": "white"
           }
          },
          "shapedefaults": {
           "line": {
            "color": "#2a3f5f"
           }
          },
          "ternary": {
           "aaxis": {
            "gridcolor": "white",
            "linecolor": "white",
            "ticks": ""
           },
           "baxis": {
            "gridcolor": "white",
            "linecolor": "white",
            "ticks": ""
           },
           "bgcolor": "#E5ECF6",
           "caxis": {
            "gridcolor": "white",
            "linecolor": "white",
            "ticks": ""
           }
          },
          "title": {
           "x": 0.05
          },
          "xaxis": {
           "automargin": true,
           "gridcolor": "white",
           "linecolor": "white",
           "ticks": "",
           "title": {
            "standoff": 15
           },
           "zerolinecolor": "white",
           "zerolinewidth": 2
          },
          "yaxis": {
           "automargin": true,
           "gridcolor": "white",
           "linecolor": "white",
           "ticks": "",
           "title": {
            "standoff": 15
           },
           "zerolinecolor": "white",
           "zerolinewidth": 2
          }
         }
        },
        "xaxis": {
         "anchor": "y",
         "domain": [
          0,
          1
         ],
         "title": {
          "text": "Year"
         }
        },
        "yaxis": {
         "anchor": "x",
         "domain": [
          0,
          1
         ],
         "title": {
          "text": "value"
         }
        }
       }
      }
     },
     "metadata": {},
     "output_type": "display_data"
    }
   ],
   "source": [
    "x = data.earnings\n",
    "px.line(x)"
   ]
  },
  {
   "cell_type": "code",
   "execution_count": null,
   "metadata": {},
   "outputs": [
    {
     "name": "stdout",
     "output_type": "stream",
     "text": [
      "        0                                      1\n",
      "0  19.96%        % of Shares Held by All Insider\n",
      "1  42.37%       % of Shares Held by Institutions\n",
      "2  52.93%        % of Float Held by Institutions\n",
      "3    2837  Number of Institutions Holding Shares\n"
     ]
    }
   ],
   "source": [
    "print(data.major_holders)"
   ]
  },
  {
   "cell_type": "code",
   "execution_count": null,
   "metadata": {},
   "outputs": [
    {
     "data": {
      "text/html": [
       "<div>\n",
       "<style scoped>\n",
       "    .dataframe tbody tr th:only-of-type {\n",
       "        vertical-align: middle;\n",
       "    }\n",
       "\n",
       "    .dataframe tbody tr th {\n",
       "        vertical-align: top;\n",
       "    }\n",
       "\n",
       "    .dataframe thead th {\n",
       "        text-align: right;\n",
       "    }\n",
       "</style>\n",
       "<table border=\"1\" class=\"dataframe\">\n",
       "  <thead>\n",
       "    <tr style=\"text-align: right;\">\n",
       "      <th></th>\n",
       "      <th>Holder</th>\n",
       "      <th>Shares</th>\n",
       "      <th>Date Reported</th>\n",
       "      <th>% Out</th>\n",
       "      <th>Value</th>\n",
       "    </tr>\n",
       "  </thead>\n",
       "  <tbody>\n",
       "    <tr>\n",
       "      <th>0</th>\n",
       "      <td>Vanguard Group, Inc. (The)</td>\n",
       "      <td>61992012</td>\n",
       "      <td>2021-09-29</td>\n",
       "      <td>0.0617</td>\n",
       "      <td>48073565465</td>\n",
       "    </tr>\n",
       "    <tr>\n",
       "      <th>1</th>\n",
       "      <td>Blackrock Inc.</td>\n",
       "      <td>52829488</td>\n",
       "      <td>2021-09-29</td>\n",
       "      <td>0.0526</td>\n",
       "      <td>40968211354</td>\n",
       "    </tr>\n",
       "    <tr>\n",
       "      <th>2</th>\n",
       "      <td>Capital World Investors</td>\n",
       "      <td>37427314</td>\n",
       "      <td>2021-09-29</td>\n",
       "      <td>0.0373</td>\n",
       "      <td>29024133460</td>\n",
       "    </tr>\n",
       "    <tr>\n",
       "      <th>3</th>\n",
       "      <td>State Street Corporation</td>\n",
       "      <td>31230141</td>\n",
       "      <td>2021-09-29</td>\n",
       "      <td>0.0311</td>\n",
       "      <td>24218349742</td>\n",
       "    </tr>\n",
       "    <tr>\n",
       "      <th>4</th>\n",
       "      <td>Baillie Gifford and Company</td>\n",
       "      <td>13853124</td>\n",
       "      <td>2021-09-29</td>\n",
       "      <td>0.0138</td>\n",
       "      <td>10742820599</td>\n",
       "    </tr>\n",
       "    <tr>\n",
       "      <th>5</th>\n",
       "      <td>Geode Capital Management, LLC</td>\n",
       "      <td>13169939</td>\n",
       "      <td>2021-09-29</td>\n",
       "      <td>0.0131</td>\n",
       "      <td>10213024295</td>\n",
       "    </tr>\n",
       "    <tr>\n",
       "      <th>6</th>\n",
       "      <td>Jennison Associates LLC</td>\n",
       "      <td>10630339</td>\n",
       "      <td>2021-09-29</td>\n",
       "      <td>0.0106</td>\n",
       "      <td>8243615287</td>\n",
       "    </tr>\n",
       "    <tr>\n",
       "      <th>7</th>\n",
       "      <td>FMR, LLC</td>\n",
       "      <td>9921292</td>\n",
       "      <td>2021-09-29</td>\n",
       "      <td>0.0099</td>\n",
       "      <td>7693763520</td>\n",
       "    </tr>\n",
       "    <tr>\n",
       "      <th>8</th>\n",
       "      <td>Northern Trust Corporation</td>\n",
       "      <td>8634516</td>\n",
       "      <td>2021-09-29</td>\n",
       "      <td>0.0086</td>\n",
       "      <td>6695894467</td>\n",
       "    </tr>\n",
       "    <tr>\n",
       "      <th>9</th>\n",
       "      <td>Norges Bank Investment Management</td>\n",
       "      <td>7790070</td>\n",
       "      <td>2020-12-30</td>\n",
       "      <td>0.0078</td>\n",
       "      <td>5497218696</td>\n",
       "    </tr>\n",
       "  </tbody>\n",
       "</table>\n",
       "</div>"
      ],
      "text/plain": [
       "                              Holder    Shares Date Reported   % Out  \\\n",
       "0         Vanguard Group, Inc. (The)  61992012    2021-09-29  0.0617   \n",
       "1                     Blackrock Inc.  52829488    2021-09-29  0.0526   \n",
       "2            Capital World Investors  37427314    2021-09-29  0.0373   \n",
       "3           State Street Corporation  31230141    2021-09-29  0.0311   \n",
       "4        Baillie Gifford and Company  13853124    2021-09-29  0.0138   \n",
       "5      Geode Capital Management, LLC  13169939    2021-09-29  0.0131   \n",
       "6            Jennison Associates LLC  10630339    2021-09-29  0.0106   \n",
       "7                           FMR, LLC   9921292    2021-09-29  0.0099   \n",
       "8         Northern Trust Corporation   8634516    2021-09-29  0.0086   \n",
       "9  Norges Bank Investment Management   7790070    2020-12-30  0.0078   \n",
       "\n",
       "         Value  \n",
       "0  48073565465  \n",
       "1  40968211354  \n",
       "2  29024133460  \n",
       "3  24218349742  \n",
       "4  10742820599  \n",
       "5  10213024295  \n",
       "6   8243615287  \n",
       "7   7693763520  \n",
       "8   6695894467  \n",
       "9   5497218696  "
      ]
     },
     "execution_count": 311,
     "metadata": {},
     "output_type": "execute_result"
    }
   ],
   "source": [
    "data.institutional_holders"
   ]
  },
  {
   "cell_type": "code",
   "execution_count": null,
   "metadata": {},
   "outputs": [
    {
     "data": {
      "text/plain": [
       "{'zip': '78725',\n",
       " 'sector': 'Consumer Cyclical',\n",
       " 'fullTimeEmployees': 70757,\n",
       " 'longBusinessSummary': 'Tesla, Inc. designs, develops, manufactures, leases, and sells electric vehicles, and energy generation and storage systems in the United States, China, and internationally. The company operates in two segments, Automotive, and Energy Generation and Storage. The Automotive segment offers electric vehicles, as well as sells automotive regulatory credits. It provides sedans and sport utility vehicles through direct and used vehicle sales, a network of Tesla Superchargers, and in-app upgrades; and purchase financing and leasing services. This segment is also involved in the provision of non-warranty after-sales vehicle services, sale of used vehicles, retail merchandise, and vehicle insurance, as well as sale of products through its subsidiaries to third party customers; services for electric vehicles through its company-owned service locations, and Tesla mobile service technicians; and vehicle limited warranties and extended service plans. The Energy Generation and Storage segment engages in the design, manufacture, installation, sale, and leasing of solar energy generation and energy storage products, and related services to residential, commercial, and industrial customers and utilities through its website, stores, and galleries, as well as through a network of channel partners. This segment also offers service and repairs to its energy product customers, including under warranty; and various financing options to its solar customers. The company was formerly known as Tesla Motors, Inc. and changed its name to Tesla, Inc. in February 2017. Tesla, Inc. was founded in 2003 and is headquartered in Austin, Texas.',\n",
       " 'city': 'Austin',\n",
       " 'phone': '650-681-5000',\n",
       " 'state': 'TX',\n",
       " 'country': 'United States',\n",
       " 'companyOfficers': [],\n",
       " 'website': 'https://www.tesla.com',\n",
       " 'maxAge': 1,\n",
       " 'address1': '13101 Harold Green Road',\n",
       " 'industry': 'Auto Manufacturers',\n",
       " 'ebitdaMargins': 0.15512,\n",
       " 'profitMargins': 0.07403,\n",
       " 'grossMargins': 0.23107,\n",
       " 'operatingCashflow': 9930999808,\n",
       " 'revenueGrowth': 0.568,\n",
       " 'operatingMargins': 0.09789,\n",
       " 'ebitda': 7266999808,\n",
       " 'targetLowPrice': 67,\n",
       " 'recommendationKey': 'hold',\n",
       " 'grossProfits': 6630000000,\n",
       " 'freeCashflow': 4644624896,\n",
       " 'targetMedianPrice': 937,\n",
       " 'currentPrice': 1193.3,\n",
       " 'earningsGrowth': 4.333,\n",
       " 'currentRatio': 1.385,\n",
       " 'returnOnAssets': 0.055370003,\n",
       " 'numberOfAnalystOpinions': 36,\n",
       " 'targetMeanPrice': 851.98,\n",
       " 'debtToEquity': 35.65,\n",
       " 'returnOnEquity': 0.15641,\n",
       " 'targetHighPrice': 1400,\n",
       " 'totalCash': 16094999552,\n",
       " 'totalDebt': 10158000128,\n",
       " 'totalRevenue': 46848000000,\n",
       " 'totalCashPerShare': 16.027,\n",
       " 'financialCurrency': 'USD',\n",
       " 'revenuePerShare': 48.272,\n",
       " 'quickRatio': 1.002,\n",
       " 'recommendationMean': 2.7,\n",
       " 'exchange': 'NMS',\n",
       " 'shortName': 'Tesla, Inc.',\n",
       " 'longName': 'Tesla, Inc.',\n",
       " 'exchangeTimezoneName': 'America/New_York',\n",
       " 'exchangeTimezoneShortName': 'EST',\n",
       " 'isEsgPopulated': False,\n",
       " 'gmtOffSetMilliseconds': '-18000000',\n",
       " 'quoteType': 'EQUITY',\n",
       " 'symbol': 'TSLA',\n",
       " 'messageBoardId': 'finmb_27444752',\n",
       " 'market': 'us_market',\n",
       " 'annualHoldingsTurnover': None,\n",
       " 'enterpriseToRevenue': 22.558,\n",
       " 'beta3Year': None,\n",
       " 'enterpriseToEbitda': 145.423,\n",
       " '52WeekChange': 0.6321095,\n",
       " 'morningStarRiskRating': None,\n",
       " 'forwardEps': 8.4,\n",
       " 'revenueQuarterlyGrowth': None,\n",
       " 'sharesOutstanding': 1004259968,\n",
       " 'fundInceptionDate': None,\n",
       " 'annualReportExpenseRatio': None,\n",
       " 'totalAssets': None,\n",
       " 'bookValue': 26.945,\n",
       " 'sharesShort': 25817321,\n",
       " 'sharesPercentSharesOut': 0.0257,\n",
       " 'fundFamily': None,\n",
       " 'lastFiscalYearEnd': 1609372800,\n",
       " 'heldPercentInstitutions': 0.42366,\n",
       " 'netIncomeToCommon': 3468000000,\n",
       " 'trailingEps': 3.062,\n",
       " 'lastDividendValue': None,\n",
       " 'SandP52WeekChange': 0.2870245,\n",
       " 'priceToBook': 44.28651,\n",
       " 'heldPercentInsiders': 0.19959,\n",
       " 'nextFiscalYearEnd': 1672444800,\n",
       " 'yield': None,\n",
       " 'mostRecentQuarter': 1632960000,\n",
       " 'shortRatio': 1.06,\n",
       " 'sharesShortPreviousMonthDate': 1636934400,\n",
       " 'floatShares': 809166319,\n",
       " 'beta': 2.037922,\n",
       " 'enterpriseValue': 1056791003136,\n",
       " 'priceHint': 2,\n",
       " 'threeYearAverageReturn': None,\n",
       " 'lastSplitDate': 1598832000,\n",
       " 'lastSplitFactor': '5:1',\n",
       " 'legalType': None,\n",
       " 'lastDividendDate': None,\n",
       " 'morningStarOverallRating': None,\n",
       " 'earningsQuarterlyGrowth': 3.888,\n",
       " 'priceToSalesTrailing12Months': 25.580248,\n",
       " 'dateShortInterest': 1639526400,\n",
       " 'pegRatio': 2.44,\n",
       " 'ytdReturn': None,\n",
       " 'forwardPE': 142.05954,\n",
       " 'lastCapGain': None,\n",
       " 'shortPercentOfFloat': 0.031600002,\n",
       " 'sharesShortPriorMonth': 25702669,\n",
       " 'impliedSharesOutstanding': None,\n",
       " 'category': None,\n",
       " 'fiveYearAverageReturn': None,\n",
       " 'previousClose': 1199.78,\n",
       " 'regularMarketOpen': 1189.55,\n",
       " 'twoHundredDayAverage': 784.7521,\n",
       " 'trailingAnnualDividendYield': None,\n",
       " 'payoutRatio': 0,\n",
       " 'volume24Hr': None,\n",
       " 'regularMarketDayHigh': 1208,\n",
       " 'navPrice': None,\n",
       " 'averageDailyVolume10Day': 23117590,\n",
       " 'regularMarketPreviousClose': 1199.78,\n",
       " 'fiftyDayAverage': 1066.6228,\n",
       " 'trailingAnnualDividendRate': None,\n",
       " 'open': 1189.55,\n",
       " 'toCurrency': None,\n",
       " 'averageVolume10days': 23117590,\n",
       " 'expireDate': None,\n",
       " 'algorithm': None,\n",
       " 'dividendRate': None,\n",
       " 'exDividendDate': None,\n",
       " 'circulatingSupply': None,\n",
       " 'startDate': None,\n",
       " 'regularMarketDayLow': 1178.12,\n",
       " 'currency': 'USD',\n",
       " 'trailingPE': 389.71262,\n",
       " 'regularMarketVolume': 5351645,\n",
       " 'lastMarket': None,\n",
       " 'maxSupply': None,\n",
       " 'openInterest': None,\n",
       " 'marketCap': 1198383431680,\n",
       " 'volumeAllCurrencies': None,\n",
       " 'strikePrice': None,\n",
       " 'averageVolume': 26579322,\n",
       " 'dayLow': 1178.12,\n",
       " 'ask': 1188.77,\n",
       " 'askSize': 1800,\n",
       " 'volume': 5351645,\n",
       " 'fiftyTwoWeekHigh': 1243.49,\n",
       " 'fromCurrency': None,\n",
       " 'fiveYearAvgDividendYield': None,\n",
       " 'fiftyTwoWeekLow': 539.49,\n",
       " 'bid': 1191.02,\n",
       " 'tradeable': False,\n",
       " 'dividendYield': None,\n",
       " 'bidSize': 1400,\n",
       " 'dayHigh': 1208,\n",
       " 'regularMarketPrice': 1193.3,\n",
       " 'preMarketPrice': 1189.98,\n",
       " 'logo_url': 'https://logo.clearbit.com/tesla.com',\n",
       " 'trailingPegRatio': 2.6688}"
      ]
     },
     "execution_count": 312,
     "metadata": {},
     "output_type": "execute_result"
    }
   ],
   "source": [
    "data.info"
   ]
  },
  {
   "cell_type": "code",
   "execution_count": null,
   "metadata": {},
   "outputs": [
    {
     "data": {
      "text/html": [
       "<div>\n",
       "<style scoped>\n",
       "    .dataframe tbody tr th:only-of-type {\n",
       "        vertical-align: middle;\n",
       "    }\n",
       "\n",
       "    .dataframe tbody tr th {\n",
       "        vertical-align: top;\n",
       "    }\n",
       "\n",
       "    .dataframe thead th {\n",
       "        text-align: right;\n",
       "    }\n",
       "</style>\n",
       "<table border=\"1\" class=\"dataframe\">\n",
       "  <thead>\n",
       "    <tr style=\"text-align: right;\">\n",
       "      <th></th>\n",
       "      <th>2020-12-31</th>\n",
       "      <th>2019-12-31</th>\n",
       "      <th>2018-12-31</th>\n",
       "      <th>2017-12-31</th>\n",
       "    </tr>\n",
       "  </thead>\n",
       "  <tbody>\n",
       "    <tr>\n",
       "      <th>Change To Liabilities</th>\n",
       "      <td>2.423000e+09</td>\n",
       "      <td>1.447000e+09</td>\n",
       "      <td>2.203000e+09</td>\n",
       "      <td>8.570000e+08</td>\n",
       "    </tr>\n",
       "    <tr>\n",
       "      <th>Total Cashflows From Investing Activities</th>\n",
       "      <td>-3.132000e+09</td>\n",
       "      <td>-1.436000e+09</td>\n",
       "      <td>-2.337000e+09</td>\n",
       "      <td>-4.196000e+09</td>\n",
       "    </tr>\n",
       "    <tr>\n",
       "      <th>Net Borrowings</th>\n",
       "      <td>-2.488000e+09</td>\n",
       "      <td>7.980000e+08</td>\n",
       "      <td>8.900000e+07</td>\n",
       "      <td>3.385000e+09</td>\n",
       "    </tr>\n",
       "    <tr>\n",
       "      <th>Total Cash From Financing Activities</th>\n",
       "      <td>9.973000e+09</td>\n",
       "      <td>1.529000e+09</td>\n",
       "      <td>5.740000e+08</td>\n",
       "      <td>4.415000e+09</td>\n",
       "    </tr>\n",
       "    <tr>\n",
       "      <th>Change To Operating Activities</th>\n",
       "      <td>-1.165000e+09</td>\n",
       "      <td>-1.000000e+09</td>\n",
       "      <td>-6.250000e+08</td>\n",
       "      <td>-1.150000e+09</td>\n",
       "    </tr>\n",
       "    <tr>\n",
       "      <th>Issuance Of Stock</th>\n",
       "      <td>1.268600e+10</td>\n",
       "      <td>1.111000e+09</td>\n",
       "      <td>2.960000e+08</td>\n",
       "      <td>6.590000e+08</td>\n",
       "    </tr>\n",
       "    <tr>\n",
       "      <th>Net Income</th>\n",
       "      <td>7.210000e+08</td>\n",
       "      <td>-8.620000e+08</td>\n",
       "      <td>-9.760000e+08</td>\n",
       "      <td>-1.962000e+09</td>\n",
       "    </tr>\n",
       "    <tr>\n",
       "      <th>Change In Cash</th>\n",
       "      <td>1.311800e+10</td>\n",
       "      <td>2.506000e+09</td>\n",
       "      <td>3.120000e+08</td>\n",
       "      <td>1.980000e+08</td>\n",
       "    </tr>\n",
       "    <tr>\n",
       "      <th>Effect Of Exchange Rate</th>\n",
       "      <td>3.340000e+08</td>\n",
       "      <td>8.000000e+06</td>\n",
       "      <td>-2.300000e+07</td>\n",
       "      <td>4.000000e+07</td>\n",
       "    </tr>\n",
       "    <tr>\n",
       "      <th>Total Cash From Operating Activities</th>\n",
       "      <td>5.943000e+09</td>\n",
       "      <td>2.405000e+09</td>\n",
       "      <td>2.098000e+09</td>\n",
       "      <td>-6.100000e+07</td>\n",
       "    </tr>\n",
       "    <tr>\n",
       "      <th>Depreciation</th>\n",
       "      <td>2.322000e+09</td>\n",
       "      <td>2.092000e+09</td>\n",
       "      <td>1.888000e+09</td>\n",
       "      <td>1.636000e+09</td>\n",
       "    </tr>\n",
       "    <tr>\n",
       "      <th>Other Cashflows From Investing Activities</th>\n",
       "      <td>1.230000e+08</td>\n",
       "      <td>4.600000e+07</td>\n",
       "      <td>4.600000e+07</td>\n",
       "      <td>4.600000e+07</td>\n",
       "    </tr>\n",
       "    <tr>\n",
       "      <th>Change To Inventory</th>\n",
       "      <td>-4.220000e+08</td>\n",
       "      <td>-4.290000e+08</td>\n",
       "      <td>-1.023000e+09</td>\n",
       "      <td>-1.790000e+08</td>\n",
       "    </tr>\n",
       "    <tr>\n",
       "      <th>Change To Account Receivables</th>\n",
       "      <td>-6.520000e+08</td>\n",
       "      <td>-3.670000e+08</td>\n",
       "      <td>-4.970000e+08</td>\n",
       "      <td>-2.500000e+07</td>\n",
       "    </tr>\n",
       "    <tr>\n",
       "      <th>Other Cashflows From Financing Activities</th>\n",
       "      <td>-2.250000e+08</td>\n",
       "      <td>-3.800000e+08</td>\n",
       "      <td>1.890000e+08</td>\n",
       "      <td>3.710000e+08</td>\n",
       "    </tr>\n",
       "    <tr>\n",
       "      <th>Change To Netincome</th>\n",
       "      <td>2.536000e+09</td>\n",
       "      <td>1.336000e+09</td>\n",
       "      <td>9.690000e+08</td>\n",
       "      <td>6.710000e+08</td>\n",
       "    </tr>\n",
       "    <tr>\n",
       "      <th>Capital Expenditures</th>\n",
       "      <td>-3.232000e+09</td>\n",
       "      <td>-1.432000e+09</td>\n",
       "      <td>-2.319000e+09</td>\n",
       "      <td>-4.081000e+09</td>\n",
       "    </tr>\n",
       "  </tbody>\n",
       "</table>\n",
       "</div>"
      ],
      "text/plain": [
       "                                             2020-12-31    2019-12-31  \\\n",
       "Change To Liabilities                      2.423000e+09  1.447000e+09   \n",
       "Total Cashflows From Investing Activities -3.132000e+09 -1.436000e+09   \n",
       "Net Borrowings                            -2.488000e+09  7.980000e+08   \n",
       "Total Cash From Financing Activities       9.973000e+09  1.529000e+09   \n",
       "Change To Operating Activities            -1.165000e+09 -1.000000e+09   \n",
       "Issuance Of Stock                          1.268600e+10  1.111000e+09   \n",
       "Net Income                                 7.210000e+08 -8.620000e+08   \n",
       "Change In Cash                             1.311800e+10  2.506000e+09   \n",
       "Effect Of Exchange Rate                    3.340000e+08  8.000000e+06   \n",
       "Total Cash From Operating Activities       5.943000e+09  2.405000e+09   \n",
       "Depreciation                               2.322000e+09  2.092000e+09   \n",
       "Other Cashflows From Investing Activities  1.230000e+08  4.600000e+07   \n",
       "Change To Inventory                       -4.220000e+08 -4.290000e+08   \n",
       "Change To Account Receivables             -6.520000e+08 -3.670000e+08   \n",
       "Other Cashflows From Financing Activities -2.250000e+08 -3.800000e+08   \n",
       "Change To Netincome                        2.536000e+09  1.336000e+09   \n",
       "Capital Expenditures                      -3.232000e+09 -1.432000e+09   \n",
       "\n",
       "                                             2018-12-31    2017-12-31  \n",
       "Change To Liabilities                      2.203000e+09  8.570000e+08  \n",
       "Total Cashflows From Investing Activities -2.337000e+09 -4.196000e+09  \n",
       "Net Borrowings                             8.900000e+07  3.385000e+09  \n",
       "Total Cash From Financing Activities       5.740000e+08  4.415000e+09  \n",
       "Change To Operating Activities            -6.250000e+08 -1.150000e+09  \n",
       "Issuance Of Stock                          2.960000e+08  6.590000e+08  \n",
       "Net Income                                -9.760000e+08 -1.962000e+09  \n",
       "Change In Cash                             3.120000e+08  1.980000e+08  \n",
       "Effect Of Exchange Rate                   -2.300000e+07  4.000000e+07  \n",
       "Total Cash From Operating Activities       2.098000e+09 -6.100000e+07  \n",
       "Depreciation                               1.888000e+09  1.636000e+09  \n",
       "Other Cashflows From Investing Activities  4.600000e+07  4.600000e+07  \n",
       "Change To Inventory                       -1.023000e+09 -1.790000e+08  \n",
       "Change To Account Receivables             -4.970000e+08 -2.500000e+07  \n",
       "Other Cashflows From Financing Activities  1.890000e+08  3.710000e+08  \n",
       "Change To Netincome                        9.690000e+08  6.710000e+08  \n",
       "Capital Expenditures                      -2.319000e+09 -4.081000e+09  "
      ]
     },
     "execution_count": 313,
     "metadata": {},
     "output_type": "execute_result"
    }
   ],
   "source": [
    "data.cashflow"
   ]
  },
  {
   "cell_type": "code",
   "execution_count": null,
   "metadata": {},
   "outputs": [],
   "source": [
    "data_cencosud = yf.Ticker('CENCOSUD.SN')"
   ]
  },
  {
   "cell_type": "code",
   "execution_count": null,
   "metadata": {},
   "outputs": [
    {
     "data": {
      "text/html": [
       "<div>\n",
       "<style scoped>\n",
       "    .dataframe tbody tr th:only-of-type {\n",
       "        vertical-align: middle;\n",
       "    }\n",
       "\n",
       "    .dataframe tbody tr th {\n",
       "        vertical-align: top;\n",
       "    }\n",
       "\n",
       "    .dataframe thead th {\n",
       "        text-align: right;\n",
       "    }\n",
       "</style>\n",
       "<table border=\"1\" class=\"dataframe\">\n",
       "  <thead>\n",
       "    <tr style=\"text-align: right;\">\n",
       "      <th></th>\n",
       "      <th>2020-12-31</th>\n",
       "      <th>2019-12-31</th>\n",
       "      <th>2018-12-31</th>\n",
       "      <th>2017-12-31</th>\n",
       "    </tr>\n",
       "  </thead>\n",
       "  <tbody>\n",
       "    <tr>\n",
       "      <th>Change To Liabilities</th>\n",
       "      <td>0.000000e+00</td>\n",
       "      <td>0.000000e+00</td>\n",
       "      <td>0.000000e+00</td>\n",
       "      <td>0.000000e+00</td>\n",
       "    </tr>\n",
       "    <tr>\n",
       "      <th>Total Cashflows From Investing Activities</th>\n",
       "      <td>-3.514789e+11</td>\n",
       "      <td>5.706851e+11</td>\n",
       "      <td>-2.574715e+11</td>\n",
       "      <td>-1.008979e+11</td>\n",
       "    </tr>\n",
       "    <tr>\n",
       "      <th>Net Borrowings</th>\n",
       "      <td>-9.140228e+11</td>\n",
       "      <td>-5.109452e+11</td>\n",
       "      <td>9.126356e+10</td>\n",
       "      <td>7.829537e+10</td>\n",
       "    </tr>\n",
       "    <tr>\n",
       "      <th>Total Cash From Financing Activities</th>\n",
       "      <td>-1.161169e+12</td>\n",
       "      <td>-6.074145e+11</td>\n",
       "      <td>-2.155145e+11</td>\n",
       "      <td>-3.081732e+11</td>\n",
       "    </tr>\n",
       "    <tr>\n",
       "      <th>Net Income</th>\n",
       "      <td>2.293061e+10</td>\n",
       "      <td>1.141096e+11</td>\n",
       "      <td>1.912852e+11</td>\n",
       "      <td>4.399887e+11</td>\n",
       "    </tr>\n",
       "    <tr>\n",
       "      <th>Change In Cash</th>\n",
       "      <td>-3.856316e+11</td>\n",
       "      <td>7.467396e+11</td>\n",
       "      <td>6.683716e+10</td>\n",
       "      <td>-2.123168e+10</td>\n",
       "    </tr>\n",
       "    <tr>\n",
       "      <th>Effect Of Exchange Rate</th>\n",
       "      <td>-2.025969e+10</td>\n",
       "      <td>1.922419e+10</td>\n",
       "      <td>-1.825501e+09</td>\n",
       "      <td>-2.546029e+10</td>\n",
       "    </tr>\n",
       "    <tr>\n",
       "      <th>Total Cash From Operating Activities</th>\n",
       "      <td>1.147276e+12</td>\n",
       "      <td>7.642448e+11</td>\n",
       "      <td>5.416487e+11</td>\n",
       "      <td>4.132997e+11</td>\n",
       "    </tr>\n",
       "    <tr>\n",
       "      <th>Depreciation</th>\n",
       "      <td>3.427662e+11</td>\n",
       "      <td>2.855472e+11</td>\n",
       "      <td>1.773089e+11</td>\n",
       "      <td>2.099207e+11</td>\n",
       "    </tr>\n",
       "    <tr>\n",
       "      <th>Other Cashflows From Investing Activities</th>\n",
       "      <td>-2.944102e+11</td>\n",
       "      <td>6.534630e+11</td>\n",
       "      <td>-6.290608e+10</td>\n",
       "      <td>1.039733e+11</td>\n",
       "    </tr>\n",
       "    <tr>\n",
       "      <th>Dividends Paid</th>\n",
       "      <td>-9.136014e+10</td>\n",
       "      <td>-2.863129e+10</td>\n",
       "      <td>-7.158207e+10</td>\n",
       "      <td>-1.431391e+11</td>\n",
       "    </tr>\n",
       "    <tr>\n",
       "      <th>Other Cashflows From Financing Activities</th>\n",
       "      <td>-1.557865e+11</td>\n",
       "      <td>-5.803236e+10</td>\n",
       "      <td>-2.351960e+11</td>\n",
       "      <td>-2.439946e+11</td>\n",
       "    </tr>\n",
       "    <tr>\n",
       "      <th>Change To Netincome</th>\n",
       "      <td>7.507431e+11</td>\n",
       "      <td>3.323907e+11</td>\n",
       "      <td>1.357796e+11</td>\n",
       "      <td>-2.687433e+11</td>\n",
       "    </tr>\n",
       "    <tr>\n",
       "      <th>Capital Expenditures</th>\n",
       "      <td>-4.977471e+10</td>\n",
       "      <td>-1.529842e+11</td>\n",
       "      <td>-1.742567e+11</td>\n",
       "      <td>-1.917982e+11</td>\n",
       "    </tr>\n",
       "    <tr>\n",
       "      <th>Repurchase Of Stock</th>\n",
       "      <td>NaN</td>\n",
       "      <td>-9.805715e+09</td>\n",
       "      <td>-9.805715e+09</td>\n",
       "      <td>-9.805715e+09</td>\n",
       "    </tr>\n",
       "    <tr>\n",
       "      <th>Issuance Of Stock</th>\n",
       "      <td>NaN</td>\n",
       "      <td>NaN</td>\n",
       "      <td>NaN</td>\n",
       "      <td>6.651750e+08</td>\n",
       "    </tr>\n",
       "  </tbody>\n",
       "</table>\n",
       "</div>"
      ],
      "text/plain": [
       "                                             2020-12-31    2019-12-31  \\\n",
       "Change To Liabilities                      0.000000e+00  0.000000e+00   \n",
       "Total Cashflows From Investing Activities -3.514789e+11  5.706851e+11   \n",
       "Net Borrowings                            -9.140228e+11 -5.109452e+11   \n",
       "Total Cash From Financing Activities      -1.161169e+12 -6.074145e+11   \n",
       "Net Income                                 2.293061e+10  1.141096e+11   \n",
       "Change In Cash                            -3.856316e+11  7.467396e+11   \n",
       "Effect Of Exchange Rate                   -2.025969e+10  1.922419e+10   \n",
       "Total Cash From Operating Activities       1.147276e+12  7.642448e+11   \n",
       "Depreciation                               3.427662e+11  2.855472e+11   \n",
       "Other Cashflows From Investing Activities -2.944102e+11  6.534630e+11   \n",
       "Dividends Paid                            -9.136014e+10 -2.863129e+10   \n",
       "Other Cashflows From Financing Activities -1.557865e+11 -5.803236e+10   \n",
       "Change To Netincome                        7.507431e+11  3.323907e+11   \n",
       "Capital Expenditures                      -4.977471e+10 -1.529842e+11   \n",
       "Repurchase Of Stock                                 NaN -9.805715e+09   \n",
       "Issuance Of Stock                                   NaN           NaN   \n",
       "\n",
       "                                             2018-12-31    2017-12-31  \n",
       "Change To Liabilities                      0.000000e+00  0.000000e+00  \n",
       "Total Cashflows From Investing Activities -2.574715e+11 -1.008979e+11  \n",
       "Net Borrowings                             9.126356e+10  7.829537e+10  \n",
       "Total Cash From Financing Activities      -2.155145e+11 -3.081732e+11  \n",
       "Net Income                                 1.912852e+11  4.399887e+11  \n",
       "Change In Cash                             6.683716e+10 -2.123168e+10  \n",
       "Effect Of Exchange Rate                   -1.825501e+09 -2.546029e+10  \n",
       "Total Cash From Operating Activities       5.416487e+11  4.132997e+11  \n",
       "Depreciation                               1.773089e+11  2.099207e+11  \n",
       "Other Cashflows From Investing Activities -6.290608e+10  1.039733e+11  \n",
       "Dividends Paid                            -7.158207e+10 -1.431391e+11  \n",
       "Other Cashflows From Financing Activities -2.351960e+11 -2.439946e+11  \n",
       "Change To Netincome                        1.357796e+11 -2.687433e+11  \n",
       "Capital Expenditures                      -1.742567e+11 -1.917982e+11  \n",
       "Repurchase Of Stock                       -9.805715e+09 -9.805715e+09  \n",
       "Issuance Of Stock                                   NaN  6.651750e+08  "
      ]
     },
     "execution_count": 315,
     "metadata": {},
     "output_type": "execute_result"
    }
   ],
   "source": [
    "data_cencosud.cashflow"
   ]
  },
  {
   "cell_type": "code",
   "execution_count": null,
   "metadata": {},
   "outputs": [
    {
     "data": {
      "text/plain": [
       "<AxesSubplot:xlabel='Year'>"
      ]
     },
     "execution_count": 316,
     "metadata": {},
     "output_type": "execute_result"
    },
    {
     "data": {
      "image/png": "[encoded data removed]",
      "text/plain": [
       "<Figure size 432x288 with 1 Axes>"
      ]
     },
     "metadata": {
      "needs_background": "light"
     },
     "output_type": "display_data"
    }
   ],
   "source": [
    "data_cencosud.earnings.plot(kind='bar')"
   ]
  },
  {
   "cell_type": "code",
   "execution_count": null,
   "metadata": {},
   "outputs": [],
   "source": [
    "x = data_cencosud.institutional_holders"
   ]
  },
  {
   "cell_type": "code",
   "execution_count": null,
   "metadata": {},
   "outputs": [
    {
     "data": {
      "text/html": [
       "<div>\n",
       "<style scoped>\n",
       "    .dataframe tbody tr th:only-of-type {\n",
       "        vertical-align: middle;\n",
       "    }\n",
       "\n",
       "    .dataframe tbody tr th {\n",
       "        vertical-align: top;\n",
       "    }\n",
       "\n",
       "    .dataframe thead th {\n",
       "        text-align: right;\n",
       "    }\n",
       "</style>\n",
       "<table border=\"1\" class=\"dataframe\">\n",
       "  <thead>\n",
       "    <tr style=\"text-align: right;\">\n",
       "      <th></th>\n",
       "      <th>0</th>\n",
       "      <th>1</th>\n",
       "    </tr>\n",
       "  </thead>\n",
       "  <tbody>\n",
       "    <tr>\n",
       "      <th>0</th>\n",
       "      <td>52.41%</td>\n",
       "      <td>% of Shares Held by All Insider</td>\n",
       "    </tr>\n",
       "    <tr>\n",
       "      <th>1</th>\n",
       "      <td>36.83%</td>\n",
       "      <td>% of Shares Held by Institutions</td>\n",
       "    </tr>\n",
       "    <tr>\n",
       "      <th>2</th>\n",
       "      <td>77.39%</td>\n",
       "      <td>% of Float Held by Institutions</td>\n",
       "    </tr>\n",
       "    <tr>\n",
       "      <th>3</th>\n",
       "      <td>160</td>\n",
       "      <td>Number of Institutions Holding Shares</td>\n",
       "    </tr>\n",
       "  </tbody>\n",
       "</table>\n",
       "</div>"
      ],
      "text/plain": [
       "        0                                      1\n",
       "0  52.41%        % of Shares Held by All Insider\n",
       "1  36.83%       % of Shares Held by Institutions\n",
       "2  77.39%        % of Float Held by Institutions\n",
       "3     160  Number of Institutions Holding Shares"
      ]
     },
     "execution_count": 318,
     "metadata": {},
     "output_type": "execute_result"
    }
   ],
   "source": [
    "data_cencosud.major_holders"
   ]
  },
  {
   "cell_type": "code",
   "execution_count": null,
   "metadata": {},
   "outputs": [
    {
     "data": {
      "text/html": [
       "<div>\n",
       "<style scoped>\n",
       "    .dataframe tbody tr th:only-of-type {\n",
       "        vertical-align: middle;\n",
       "    }\n",
       "\n",
       "    .dataframe tbody tr th {\n",
       "        vertical-align: top;\n",
       "    }\n",
       "\n",
       "    .dataframe thead th {\n",
       "        text-align: right;\n",
       "    }\n",
       "</style>\n",
       "<table border=\"1\" class=\"dataframe\">\n",
       "  <thead>\n",
       "    <tr style=\"text-align: right;\">\n",
       "      <th></th>\n",
       "      <th>Holder</th>\n",
       "      <th>Shares</th>\n",
       "      <th>Date Reported</th>\n",
       "      <th>% Out</th>\n",
       "      <th>Value</th>\n",
       "    </tr>\n",
       "  </thead>\n",
       "  <tbody>\n",
       "    <tr>\n",
       "      <th>0</th>\n",
       "      <td>Vanguard International Stock Index-Emerging Ma...</td>\n",
       "      <td>19467891</td>\n",
       "      <td>2021-07-30</td>\n",
       "      <td>0.0068</td>\n",
       "      <td>26795605172</td>\n",
       "    </tr>\n",
       "    <tr>\n",
       "      <th>1</th>\n",
       "      <td>Vanguard International Stock Index-Total Intl ...</td>\n",
       "      <td>18146497</td>\n",
       "      <td>2021-07-30</td>\n",
       "      <td>0.0063</td>\n",
       "      <td>24976838470</td>\n",
       "    </tr>\n",
       "    <tr>\n",
       "      <th>2</th>\n",
       "      <td>iShares Core MSCI Emerging Markets ETF</td>\n",
       "      <td>12358010</td>\n",
       "      <td>2021-10-30</td>\n",
       "      <td>0.0043</td>\n",
       "      <td>14706031900</td>\n",
       "    </tr>\n",
       "    <tr>\n",
       "      <th>3</th>\n",
       "      <td>iShares MSCI Chile ETF</td>\n",
       "      <td>10926804</td>\n",
       "      <td>2021-10-30</td>\n",
       "      <td>0.0038</td>\n",
       "      <td>13002896760</td>\n",
       "    </tr>\n",
       "  </tbody>\n",
       "</table>\n",
       "</div>"
      ],
      "text/plain": [
       "                                              Holder    Shares Date Reported  \\\n",
       "0  Vanguard International Stock Index-Emerging Ma...  19467891    2021-07-30   \n",
       "1  Vanguard International Stock Index-Total Intl ...  18146497    2021-07-30   \n",
       "2             iShares Core MSCI Emerging Markets ETF  12358010    2021-10-30   \n",
       "3                             iShares MSCI Chile ETF  10926804    2021-10-30   \n",
       "\n",
       "    % Out        Value  \n",
       "0  0.0068  26795605172  \n",
       "1  0.0063  24976838470  \n",
       "2  0.0043  14706031900  \n",
       "3  0.0038  13002896760  "
      ]
     },
     "execution_count": 319,
     "metadata": {},
     "output_type": "execute_result"
    }
   ],
   "source": [
    "x[x['Shares']>10000000]"
   ]
  },
  {
   "cell_type": "code",
   "execution_count": null,
   "metadata": {},
   "outputs": [
    {
     "name": "stdout",
     "output_type": "stream",
     "text": [
      "                                    Firm        To Grade From Grade Action\n",
      "Date                                                                      \n",
      "2021-06-14 13:55:22    Canaccord Genuity             Buy              main\n",
      "2021-06-29 11:29:11                  UBS         Neutral              main\n",
      "2021-07-07 14:52:52            JP Morgan     Underweight              main\n",
      "2021-07-27 10:54:46               Mizuho             Buy              main\n",
      "2021-07-27 11:48:23          Wells Fargo    Equal-Weight              main\n",
      "2021-07-27 11:51:22          RBC Capital  Sector Perform              main\n",
      "2021-07-27 13:38:59        Goldman Sachs             Buy              main\n",
      "2021-07-27 14:27:49    Canaccord Genuity             Buy              main\n",
      "2021-07-29 10:14:50              DZ Bank             Buy       Sell     up\n",
      "2021-08-02 15:55:02       KGI Securities      Outperform              init\n",
      "2021-08-09 09:17:02            Jefferies             Buy       Hold     up\n",
      "2021-09-23 12:18:35      Tudor Pickering            Sell              init\n",
      "2021-10-04 10:44:57          RBC Capital  Sector Perform              main\n",
      "2021-10-08 13:28:13    Canaccord Genuity             Buy              main\n",
      "2021-10-14 10:45:16             Barclays     Underweight              main\n",
      "2021-10-15 13:26:02            Jefferies             Buy              main\n",
      "2021-10-21 10:21:59              Wedbush      Outperform              main\n",
      "2021-10-21 11:06:18        Credit Suisse         Neutral              main\n",
      "2021-10-21 11:07:12          Wells Fargo    Equal-Weight              main\n",
      "2021-10-21 11:58:01          RBC Capital  Sector Perform              main\n",
      "2021-10-21 12:42:25               Mizuho             Buy              main\n",
      "2021-10-21 14:23:55         Roth Capital         Neutral              main\n",
      "2021-10-21 14:33:04    Canaccord Genuity             Buy              main\n",
      "2021-10-27 12:15:11        Goldman Sachs             Buy              main\n",
      "2021-10-28 14:15:36        Piper Sandler      Overweight              main\n",
      "2021-11-08 12:27:21            Jefferies             Buy              main\n",
      "2021-11-19 11:55:04              Wedbush      Outperform              main\n",
      "2021-12-07 13:03:07                  UBS         Neutral              main\n",
      "2021-12-08 14:08:29  New Street Research             Buy              main\n",
      "2021-12-20 12:18:04           Guggenheim         Neutral              init\n",
      "2021-12-28 12:49:51       Argus Research             Buy              main\n",
      "2021-12-31 15:16:10        Deutsche Bank             Buy              main\n",
      "2022-01-03 14:17:31          RBC Capital  Sector Perform              main\n",
      "2022-01-03 16:33:41            JP Morgan     Underweight              main\n",
      "2022-01-03 17:54:18        Deutsche Bank             Buy              main\n"
     ]
    }
   ],
   "source": [
    "x = data.recommendations\n",
    "x = x[x.index > '2021-06-01']\n",
    "print(x)"
   ]
  },
  {
   "cell_type": "markdown",
   "metadata": {},
   "source": [
    "# create a function that will take a ticker as its parameter, and output the ROE value for that ticker."
   ]
  },
  {
   "cell_type": "code",
   "execution_count": null,
   "metadata": {},
   "outputs": [],
   "source": [
    "def ROE(ticker):\n",
    "    data = yf.Ticker(ticker)\n",
    "    roe = data.info['returnOnEquity']\n",
    "    name = data.info['shortName']\n",
    "    print(name, ':', roe)"
   ]
  },
  {
   "cell_type": "code",
   "execution_count": null,
   "metadata": {},
   "outputs": [
    {
     "name": "stdout",
     "output_type": "stream",
     "text": [
      "Apple Inc. : 1.47443\n",
      "Tesla, Inc. : 0.15641\n",
      "CENCOSUD SA : 0.11033\n"
     ]
    }
   ],
   "source": [
    "ROE('AAPL')\n",
    "ROE('TSLA')\n",
    "ROE('CENCOSUD.SN')"
   ]
  },
  {
   "cell_type": "code",
   "execution_count": null,
   "metadata": {},
   "outputs": [
    {
     "name": "stdout",
     "output_type": "stream",
     "text": [
      "                   Open         High          Low        Close    Volume  \\\n",
      "Date                                                                       \n",
      "2021-07-06   681.710022   684.000000   651.400024   659.580017  23284500   \n",
      "2021-07-07   664.270020   665.700012   638.320007   644.650024  18792000   \n",
      "2021-07-08   628.369995   654.429993   620.460022   652.809998  22773300   \n",
      "2021-07-09   653.179993   658.909973   644.690002   656.950012  18140500   \n",
      "2021-07-12   662.200012   687.239990   662.159973   685.700012  25927000   \n",
      "...                 ...          ...          ...          ...       ...   \n",
      "2021-12-29  1098.640015  1104.000000  1064.140015  1086.189941  18718000   \n",
      "2021-12-30  1061.329956  1095.550049  1053.150024  1070.339966  15680300   \n",
      "2021-12-31  1073.439941  1082.000000  1054.589966  1056.780029  13528700   \n",
      "2022-01-03  1147.750000  1201.069946  1136.040039  1199.780029  34643800   \n",
      "2022-01-04  1189.550049  1208.000000  1178.119995  1190.454956   5470480   \n",
      "\n",
      "            Dividends  Stock Splits  \n",
      "Date                                 \n",
      "2021-07-06          0             0  \n",
      "2021-07-07          0             0  \n",
      "2021-07-08          0             0  \n",
      "2021-07-09          0             0  \n",
      "2021-07-12          0             0  \n",
      "...               ...           ...  \n",
      "2021-12-29          0             0  \n",
      "2021-12-30          0             0  \n",
      "2021-12-31          0             0  \n",
      "2022-01-03          0             0  \n",
      "2022-01-04          0             0  \n",
      "\n",
      "[128 rows x 7 columns]\n"
     ]
    }
   ],
   "source": [
    "print(data.history(period='6mo'))\n",
    "# Valid periods: 1d, 5d, 1mo, 3mo, 6mo, 1y, 2y, 5y, 10y, ytd, max. "
   ]
  },
  {
   "cell_type": "code",
   "execution_count": null,
   "metadata": {},
   "outputs": [
    {
     "data": {
      "text/html": [
       "<div>\n",
       "<style scoped>\n",
       "    .dataframe tbody tr th:only-of-type {\n",
       "        vertical-align: middle;\n",
       "    }\n",
       "\n",
       "    .dataframe tbody tr th {\n",
       "        vertical-align: top;\n",
       "    }\n",
       "\n",
       "    .dataframe thead th {\n",
       "        text-align: right;\n",
       "    }\n",
       "</style>\n",
       "<table border=\"1\" class=\"dataframe\">\n",
       "  <thead>\n",
       "    <tr style=\"text-align: right;\">\n",
       "      <th></th>\n",
       "      <th>Open</th>\n",
       "      <th>High</th>\n",
       "      <th>Low</th>\n",
       "      <th>Close</th>\n",
       "      <th>Volume</th>\n",
       "      <th>Dividends</th>\n",
       "      <th>Stock Splits</th>\n",
       "    </tr>\n",
       "    <tr>\n",
       "      <th>Date</th>\n",
       "      <th></th>\n",
       "      <th></th>\n",
       "      <th></th>\n",
       "      <th></th>\n",
       "      <th></th>\n",
       "      <th></th>\n",
       "      <th></th>\n",
       "    </tr>\n",
       "  </thead>\n",
       "  <tbody>\n",
       "    <tr>\n",
       "      <th>2021-01-04</th>\n",
       "      <td>719.460022</td>\n",
       "      <td>744.489990</td>\n",
       "      <td>717.190002</td>\n",
       "      <td>729.770020</td>\n",
       "      <td>48638200</td>\n",
       "      <td>0</td>\n",
       "      <td>0</td>\n",
       "    </tr>\n",
       "    <tr>\n",
       "      <th>2021-01-05</th>\n",
       "      <td>723.659973</td>\n",
       "      <td>740.840027</td>\n",
       "      <td>719.200012</td>\n",
       "      <td>735.109985</td>\n",
       "      <td>32245200</td>\n",
       "      <td>0</td>\n",
       "      <td>0</td>\n",
       "    </tr>\n",
       "    <tr>\n",
       "      <th>2021-01-06</th>\n",
       "      <td>758.489990</td>\n",
       "      <td>774.000000</td>\n",
       "      <td>749.099976</td>\n",
       "      <td>755.979980</td>\n",
       "      <td>44700000</td>\n",
       "      <td>0</td>\n",
       "      <td>0</td>\n",
       "    </tr>\n",
       "    <tr>\n",
       "      <th>2021-01-07</th>\n",
       "      <td>777.630005</td>\n",
       "      <td>816.989990</td>\n",
       "      <td>775.200012</td>\n",
       "      <td>816.039978</td>\n",
       "      <td>51498900</td>\n",
       "      <td>0</td>\n",
       "      <td>0</td>\n",
       "    </tr>\n",
       "    <tr>\n",
       "      <th>2021-01-08</th>\n",
       "      <td>856.000000</td>\n",
       "      <td>884.489990</td>\n",
       "      <td>838.390015</td>\n",
       "      <td>880.020020</td>\n",
       "      <td>75055500</td>\n",
       "      <td>0</td>\n",
       "      <td>0</td>\n",
       "    </tr>\n",
       "    <tr>\n",
       "      <th>2021-01-11</th>\n",
       "      <td>849.400024</td>\n",
       "      <td>854.429993</td>\n",
       "      <td>803.619995</td>\n",
       "      <td>811.190002</td>\n",
       "      <td>59301600</td>\n",
       "      <td>0</td>\n",
       "      <td>0</td>\n",
       "    </tr>\n",
       "    <tr>\n",
       "      <th>2021-01-12</th>\n",
       "      <td>831.000000</td>\n",
       "      <td>868.000000</td>\n",
       "      <td>827.340027</td>\n",
       "      <td>849.440002</td>\n",
       "      <td>46270700</td>\n",
       "      <td>0</td>\n",
       "      <td>0</td>\n",
       "    </tr>\n",
       "    <tr>\n",
       "      <th>2021-01-13</th>\n",
       "      <td>852.760010</td>\n",
       "      <td>860.469971</td>\n",
       "      <td>832.000000</td>\n",
       "      <td>854.409973</td>\n",
       "      <td>33312500</td>\n",
       "      <td>0</td>\n",
       "      <td>0</td>\n",
       "    </tr>\n",
       "    <tr>\n",
       "      <th>2021-01-14</th>\n",
       "      <td>843.390015</td>\n",
       "      <td>863.000000</td>\n",
       "      <td>838.750000</td>\n",
       "      <td>845.000000</td>\n",
       "      <td>31266300</td>\n",
       "      <td>0</td>\n",
       "      <td>0</td>\n",
       "    </tr>\n",
       "    <tr>\n",
       "      <th>2021-01-15</th>\n",
       "      <td>852.000000</td>\n",
       "      <td>859.900024</td>\n",
       "      <td>819.099976</td>\n",
       "      <td>826.159973</td>\n",
       "      <td>38777600</td>\n",
       "      <td>0</td>\n",
       "      <td>0</td>\n",
       "    </tr>\n",
       "    <tr>\n",
       "      <th>2021-01-19</th>\n",
       "      <td>837.799988</td>\n",
       "      <td>850.000000</td>\n",
       "      <td>833.000000</td>\n",
       "      <td>844.549988</td>\n",
       "      <td>25367000</td>\n",
       "      <td>0</td>\n",
       "      <td>0</td>\n",
       "    </tr>\n",
       "    <tr>\n",
       "      <th>2021-01-20</th>\n",
       "      <td>858.739990</td>\n",
       "      <td>859.500000</td>\n",
       "      <td>837.280029</td>\n",
       "      <td>850.450012</td>\n",
       "      <td>25665900</td>\n",
       "      <td>0</td>\n",
       "      <td>0</td>\n",
       "    </tr>\n",
       "    <tr>\n",
       "      <th>2021-01-21</th>\n",
       "      <td>855.000000</td>\n",
       "      <td>855.719971</td>\n",
       "      <td>841.419983</td>\n",
       "      <td>844.989990</td>\n",
       "      <td>20521100</td>\n",
       "      <td>0</td>\n",
       "      <td>0</td>\n",
       "    </tr>\n",
       "    <tr>\n",
       "      <th>2021-01-22</th>\n",
       "      <td>834.309998</td>\n",
       "      <td>848.000000</td>\n",
       "      <td>828.619995</td>\n",
       "      <td>846.640015</td>\n",
       "      <td>20066500</td>\n",
       "      <td>0</td>\n",
       "      <td>0</td>\n",
       "    </tr>\n",
       "    <tr>\n",
       "      <th>2021-01-25</th>\n",
       "      <td>855.000000</td>\n",
       "      <td>900.400024</td>\n",
       "      <td>838.820007</td>\n",
       "      <td>880.799988</td>\n",
       "      <td>41173400</td>\n",
       "      <td>0</td>\n",
       "      <td>0</td>\n",
       "    </tr>\n",
       "    <tr>\n",
       "      <th>2021-01-26</th>\n",
       "      <td>891.380005</td>\n",
       "      <td>895.900024</td>\n",
       "      <td>871.599976</td>\n",
       "      <td>883.090027</td>\n",
       "      <td>23131600</td>\n",
       "      <td>0</td>\n",
       "      <td>0</td>\n",
       "    </tr>\n",
       "    <tr>\n",
       "      <th>2021-01-27</th>\n",
       "      <td>870.349976</td>\n",
       "      <td>891.500000</td>\n",
       "      <td>858.659973</td>\n",
       "      <td>864.159973</td>\n",
       "      <td>27334000</td>\n",
       "      <td>0</td>\n",
       "      <td>0</td>\n",
       "    </tr>\n",
       "    <tr>\n",
       "      <th>2021-01-28</th>\n",
       "      <td>820.000000</td>\n",
       "      <td>848.000000</td>\n",
       "      <td>801.000000</td>\n",
       "      <td>835.429993</td>\n",
       "      <td>26378000</td>\n",
       "      <td>0</td>\n",
       "      <td>0</td>\n",
       "    </tr>\n",
       "    <tr>\n",
       "      <th>2021-01-29</th>\n",
       "      <td>830.000000</td>\n",
       "      <td>842.409973</td>\n",
       "      <td>780.099976</td>\n",
       "      <td>793.530029</td>\n",
       "      <td>34990800</td>\n",
       "      <td>0</td>\n",
       "      <td>0</td>\n",
       "    </tr>\n",
       "    <tr>\n",
       "      <th>2021-02-01</th>\n",
       "      <td>814.289978</td>\n",
       "      <td>842.000000</td>\n",
       "      <td>795.559998</td>\n",
       "      <td>839.809998</td>\n",
       "      <td>25391400</td>\n",
       "      <td>0</td>\n",
       "      <td>0</td>\n",
       "    </tr>\n",
       "    <tr>\n",
       "      <th>2021-02-02</th>\n",
       "      <td>844.679993</td>\n",
       "      <td>880.500000</td>\n",
       "      <td>842.200012</td>\n",
       "      <td>872.789978</td>\n",
       "      <td>24346200</td>\n",
       "      <td>0</td>\n",
       "      <td>0</td>\n",
       "    </tr>\n",
       "    <tr>\n",
       "      <th>2021-02-03</th>\n",
       "      <td>877.020020</td>\n",
       "      <td>878.080017</td>\n",
       "      <td>853.059998</td>\n",
       "      <td>854.690002</td>\n",
       "      <td>18343500</td>\n",
       "      <td>0</td>\n",
       "      <td>0</td>\n",
       "    </tr>\n",
       "    <tr>\n",
       "      <th>2021-02-04</th>\n",
       "      <td>855.000000</td>\n",
       "      <td>856.500000</td>\n",
       "      <td>833.419983</td>\n",
       "      <td>849.989990</td>\n",
       "      <td>15812700</td>\n",
       "      <td>0</td>\n",
       "      <td>0</td>\n",
       "    </tr>\n",
       "    <tr>\n",
       "      <th>2021-02-05</th>\n",
       "      <td>845.000000</td>\n",
       "      <td>864.770020</td>\n",
       "      <td>838.969971</td>\n",
       "      <td>852.229980</td>\n",
       "      <td>18566600</td>\n",
       "      <td>0</td>\n",
       "      <td>0</td>\n",
       "    </tr>\n",
       "    <tr>\n",
       "      <th>2021-02-08</th>\n",
       "      <td>869.669983</td>\n",
       "      <td>877.770020</td>\n",
       "      <td>854.750000</td>\n",
       "      <td>863.419983</td>\n",
       "      <td>20161700</td>\n",
       "      <td>0</td>\n",
       "      <td>0</td>\n",
       "    </tr>\n",
       "    <tr>\n",
       "      <th>2021-02-09</th>\n",
       "      <td>855.119995</td>\n",
       "      <td>859.799988</td>\n",
       "      <td>841.750000</td>\n",
       "      <td>849.460022</td>\n",
       "      <td>15157700</td>\n",
       "      <td>0</td>\n",
       "      <td>0</td>\n",
       "    </tr>\n",
       "    <tr>\n",
       "      <th>2021-02-10</th>\n",
       "      <td>843.640015</td>\n",
       "      <td>844.820007</td>\n",
       "      <td>800.020020</td>\n",
       "      <td>804.820007</td>\n",
       "      <td>36216100</td>\n",
       "      <td>0</td>\n",
       "      <td>0</td>\n",
       "    </tr>\n",
       "    <tr>\n",
       "      <th>2021-02-11</th>\n",
       "      <td>812.440002</td>\n",
       "      <td>829.880005</td>\n",
       "      <td>801.729980</td>\n",
       "      <td>811.659973</td>\n",
       "      <td>21622800</td>\n",
       "      <td>0</td>\n",
       "      <td>0</td>\n",
       "    </tr>\n",
       "    <tr>\n",
       "      <th>2021-02-12</th>\n",
       "      <td>801.260010</td>\n",
       "      <td>817.330017</td>\n",
       "      <td>785.330017</td>\n",
       "      <td>816.119995</td>\n",
       "      <td>23768300</td>\n",
       "      <td>0</td>\n",
       "      <td>0</td>\n",
       "    </tr>\n",
       "    <tr>\n",
       "      <th>2021-02-16</th>\n",
       "      <td>818.000000</td>\n",
       "      <td>821.000000</td>\n",
       "      <td>792.440002</td>\n",
       "      <td>796.219971</td>\n",
       "      <td>19802300</td>\n",
       "      <td>0</td>\n",
       "      <td>0</td>\n",
       "    </tr>\n",
       "    <tr>\n",
       "      <th>2021-02-17</th>\n",
       "      <td>779.090027</td>\n",
       "      <td>799.840027</td>\n",
       "      <td>762.010010</td>\n",
       "      <td>798.150024</td>\n",
       "      <td>25996500</td>\n",
       "      <td>0</td>\n",
       "      <td>0</td>\n",
       "    </tr>\n",
       "    <tr>\n",
       "      <th>2021-02-18</th>\n",
       "      <td>780.900024</td>\n",
       "      <td>794.690002</td>\n",
       "      <td>776.270020</td>\n",
       "      <td>787.380005</td>\n",
       "      <td>17957100</td>\n",
       "      <td>0</td>\n",
       "      <td>0</td>\n",
       "    </tr>\n",
       "    <tr>\n",
       "      <th>2021-02-19</th>\n",
       "      <td>795.000000</td>\n",
       "      <td>796.789978</td>\n",
       "      <td>777.369995</td>\n",
       "      <td>781.299988</td>\n",
       "      <td>18958300</td>\n",
       "      <td>0</td>\n",
       "      <td>0</td>\n",
       "    </tr>\n",
       "    <tr>\n",
       "      <th>2021-02-22</th>\n",
       "      <td>762.640015</td>\n",
       "      <td>768.500000</td>\n",
       "      <td>710.200012</td>\n",
       "      <td>714.500000</td>\n",
       "      <td>37269700</td>\n",
       "      <td>0</td>\n",
       "      <td>0</td>\n",
       "    </tr>\n",
       "    <tr>\n",
       "      <th>2021-02-23</th>\n",
       "      <td>662.130005</td>\n",
       "      <td>713.609985</td>\n",
       "      <td>619.000000</td>\n",
       "      <td>698.840027</td>\n",
       "      <td>66606900</td>\n",
       "      <td>0</td>\n",
       "      <td>0</td>\n",
       "    </tr>\n",
       "    <tr>\n",
       "      <th>2021-02-24</th>\n",
       "      <td>711.849976</td>\n",
       "      <td>745.000000</td>\n",
       "      <td>694.169983</td>\n",
       "      <td>742.020020</td>\n",
       "      <td>36767000</td>\n",
       "      <td>0</td>\n",
       "      <td>0</td>\n",
       "    </tr>\n",
       "    <tr>\n",
       "      <th>2021-02-25</th>\n",
       "      <td>726.150024</td>\n",
       "      <td>737.210022</td>\n",
       "      <td>670.580017</td>\n",
       "      <td>682.219971</td>\n",
       "      <td>39023900</td>\n",
       "      <td>0</td>\n",
       "      <td>0</td>\n",
       "    </tr>\n",
       "    <tr>\n",
       "      <th>2021-02-26</th>\n",
       "      <td>700.000000</td>\n",
       "      <td>706.700012</td>\n",
       "      <td>659.510010</td>\n",
       "      <td>675.500000</td>\n",
       "      <td>41089200</td>\n",
       "      <td>0</td>\n",
       "      <td>0</td>\n",
       "    </tr>\n",
       "    <tr>\n",
       "      <th>2021-03-01</th>\n",
       "      <td>690.109985</td>\n",
       "      <td>719.000000</td>\n",
       "      <td>685.049988</td>\n",
       "      <td>718.429993</td>\n",
       "      <td>27136200</td>\n",
       "      <td>0</td>\n",
       "      <td>0</td>\n",
       "    </tr>\n",
       "    <tr>\n",
       "      <th>2021-03-02</th>\n",
       "      <td>718.280029</td>\n",
       "      <td>721.109985</td>\n",
       "      <td>685.000000</td>\n",
       "      <td>686.440002</td>\n",
       "      <td>23732200</td>\n",
       "      <td>0</td>\n",
       "      <td>0</td>\n",
       "    </tr>\n",
       "    <tr>\n",
       "      <th>2021-03-03</th>\n",
       "      <td>687.989990</td>\n",
       "      <td>700.700012</td>\n",
       "      <td>651.710022</td>\n",
       "      <td>653.200012</td>\n",
       "      <td>30208000</td>\n",
       "      <td>0</td>\n",
       "      <td>0</td>\n",
       "    </tr>\n",
       "    <tr>\n",
       "      <th>2021-03-04</th>\n",
       "      <td>655.799988</td>\n",
       "      <td>668.450012</td>\n",
       "      <td>600.000000</td>\n",
       "      <td>621.440002</td>\n",
       "      <td>65919500</td>\n",
       "      <td>0</td>\n",
       "      <td>0</td>\n",
       "    </tr>\n",
       "    <tr>\n",
       "      <th>2021-03-05</th>\n",
       "      <td>626.059998</td>\n",
       "      <td>627.840027</td>\n",
       "      <td>539.489990</td>\n",
       "      <td>597.950012</td>\n",
       "      <td>89396500</td>\n",
       "      <td>0</td>\n",
       "      <td>0</td>\n",
       "    </tr>\n",
       "    <tr>\n",
       "      <th>2021-03-08</th>\n",
       "      <td>600.549988</td>\n",
       "      <td>620.130005</td>\n",
       "      <td>558.789978</td>\n",
       "      <td>563.000000</td>\n",
       "      <td>51787000</td>\n",
       "      <td>0</td>\n",
       "      <td>0</td>\n",
       "    </tr>\n",
       "    <tr>\n",
       "      <th>2021-03-09</th>\n",
       "      <td>608.179993</td>\n",
       "      <td>678.090027</td>\n",
       "      <td>595.210022</td>\n",
       "      <td>673.580017</td>\n",
       "      <td>67523300</td>\n",
       "      <td>0</td>\n",
       "      <td>0</td>\n",
       "    </tr>\n",
       "    <tr>\n",
       "      <th>2021-03-10</th>\n",
       "      <td>700.299988</td>\n",
       "      <td>717.849976</td>\n",
       "      <td>655.059998</td>\n",
       "      <td>668.059998</td>\n",
       "      <td>60605700</td>\n",
       "      <td>0</td>\n",
       "      <td>0</td>\n",
       "    </tr>\n",
       "    <tr>\n",
       "      <th>2021-03-11</th>\n",
       "      <td>699.400024</td>\n",
       "      <td>702.500000</td>\n",
       "      <td>677.179993</td>\n",
       "      <td>699.599976</td>\n",
       "      <td>36253900</td>\n",
       "      <td>0</td>\n",
       "      <td>0</td>\n",
       "    </tr>\n",
       "    <tr>\n",
       "      <th>2021-03-12</th>\n",
       "      <td>670.000000</td>\n",
       "      <td>694.880005</td>\n",
       "      <td>666.140015</td>\n",
       "      <td>693.729980</td>\n",
       "      <td>33583800</td>\n",
       "      <td>0</td>\n",
       "      <td>0</td>\n",
       "    </tr>\n",
       "    <tr>\n",
       "      <th>2021-03-15</th>\n",
       "      <td>694.090027</td>\n",
       "      <td>713.179993</td>\n",
       "      <td>684.039978</td>\n",
       "      <td>707.940002</td>\n",
       "      <td>29335600</td>\n",
       "      <td>0</td>\n",
       "      <td>0</td>\n",
       "    </tr>\n",
       "    <tr>\n",
       "      <th>2021-03-16</th>\n",
       "      <td>703.349976</td>\n",
       "      <td>707.919983</td>\n",
       "      <td>671.000000</td>\n",
       "      <td>676.880005</td>\n",
       "      <td>32195700</td>\n",
       "      <td>0</td>\n",
       "      <td>0</td>\n",
       "    </tr>\n",
       "    <tr>\n",
       "      <th>2021-03-17</th>\n",
       "      <td>656.869995</td>\n",
       "      <td>703.729980</td>\n",
       "      <td>651.010010</td>\n",
       "      <td>701.809998</td>\n",
       "      <td>40372500</td>\n",
       "      <td>0</td>\n",
       "      <td>0</td>\n",
       "    </tr>\n",
       "    <tr>\n",
       "      <th>2021-03-18</th>\n",
       "      <td>684.289978</td>\n",
       "      <td>689.229980</td>\n",
       "      <td>652.000000</td>\n",
       "      <td>653.159973</td>\n",
       "      <td>33224800</td>\n",
       "      <td>0</td>\n",
       "      <td>0</td>\n",
       "    </tr>\n",
       "    <tr>\n",
       "      <th>2021-03-19</th>\n",
       "      <td>646.599976</td>\n",
       "      <td>657.229980</td>\n",
       "      <td>624.619995</td>\n",
       "      <td>654.869995</td>\n",
       "      <td>42894000</td>\n",
       "      <td>0</td>\n",
       "      <td>0</td>\n",
       "    </tr>\n",
       "    <tr>\n",
       "      <th>2021-03-22</th>\n",
       "      <td>684.590027</td>\n",
       "      <td>699.619995</td>\n",
       "      <td>668.750000</td>\n",
       "      <td>670.000000</td>\n",
       "      <td>39512200</td>\n",
       "      <td>0</td>\n",
       "      <td>0</td>\n",
       "    </tr>\n",
       "    <tr>\n",
       "      <th>2021-03-23</th>\n",
       "      <td>675.770020</td>\n",
       "      <td>677.799988</td>\n",
       "      <td>657.510010</td>\n",
       "      <td>662.159973</td>\n",
       "      <td>30491900</td>\n",
       "      <td>0</td>\n",
       "      <td>0</td>\n",
       "    </tr>\n",
       "    <tr>\n",
       "      <th>2021-03-24</th>\n",
       "      <td>667.909973</td>\n",
       "      <td>668.020020</td>\n",
       "      <td>630.109985</td>\n",
       "      <td>630.270020</td>\n",
       "      <td>33795200</td>\n",
       "      <td>0</td>\n",
       "      <td>0</td>\n",
       "    </tr>\n",
       "    <tr>\n",
       "      <th>2021-03-25</th>\n",
       "      <td>613.000000</td>\n",
       "      <td>645.500000</td>\n",
       "      <td>609.500000</td>\n",
       "      <td>640.390015</td>\n",
       "      <td>39224900</td>\n",
       "      <td>0</td>\n",
       "      <td>0</td>\n",
       "    </tr>\n",
       "    <tr>\n",
       "      <th>2021-03-26</th>\n",
       "      <td>641.869995</td>\n",
       "      <td>643.820007</td>\n",
       "      <td>599.890015</td>\n",
       "      <td>618.710022</td>\n",
       "      <td>33852800</td>\n",
       "      <td>0</td>\n",
       "      <td>0</td>\n",
       "    </tr>\n",
       "    <tr>\n",
       "      <th>2021-03-29</th>\n",
       "      <td>615.640015</td>\n",
       "      <td>616.479980</td>\n",
       "      <td>596.020020</td>\n",
       "      <td>611.289978</td>\n",
       "      <td>28637000</td>\n",
       "      <td>0</td>\n",
       "      <td>0</td>\n",
       "    </tr>\n",
       "    <tr>\n",
       "      <th>2021-03-30</th>\n",
       "      <td>601.750000</td>\n",
       "      <td>637.659973</td>\n",
       "      <td>591.010010</td>\n",
       "      <td>635.619995</td>\n",
       "      <td>39432400</td>\n",
       "      <td>0</td>\n",
       "      <td>0</td>\n",
       "    </tr>\n",
       "  </tbody>\n",
       "</table>\n",
       "</div>"
      ],
      "text/plain": [
       "                  Open        High         Low       Close    Volume  \\\n",
       "Date                                                                   \n",
       "2021-01-04  719.460022  744.489990  717.190002  729.770020  48638200   \n",
       "2021-01-05  723.659973  740.840027  719.200012  735.109985  32245200   \n",
       "2021-01-06  758.489990  774.000000  749.099976  755.979980  44700000   \n",
       "2021-01-07  777.630005  816.989990  775.200012  816.039978  51498900   \n",
       "2021-01-08  856.000000  884.489990  838.390015  880.020020  75055500   \n",
       "2021-01-11  849.400024  854.429993  803.619995  811.190002  59301600   \n",
       "2021-01-12  831.000000  868.000000  827.340027  849.440002  46270700   \n",
       "2021-01-13  852.760010  860.469971  832.000000  854.409973  33312500   \n",
       "2021-01-14  843.390015  863.000000  838.750000  845.000000  31266300   \n",
       "2021-01-15  852.000000  859.900024  819.099976  826.159973  38777600   \n",
       "2021-01-19  837.799988  850.000000  833.000000  844.549988  25367000   \n",
       "2021-01-20  858.739990  859.500000  837.280029  850.450012  25665900   \n",
       "2021-01-21  855.000000  855.719971  841.419983  844.989990  20521100   \n",
       "2021-01-22  834.309998  848.000000  828.619995  846.640015  20066500   \n",
       "2021-01-25  855.000000  900.400024  838.820007  880.799988  41173400   \n",
       "2021-01-26  891.380005  895.900024  871.599976  883.090027  23131600   \n",
       "2021-01-27  870.349976  891.500000  858.659973  864.159973  27334000   \n",
       "2021-01-28  820.000000  848.000000  801.000000  835.429993  26378000   \n",
       "2021-01-29  830.000000  842.409973  780.099976  793.530029  34990800   \n",
       "2021-02-01  814.289978  842.000000  795.559998  839.809998  25391400   \n",
       "2021-02-02  844.679993  880.500000  842.200012  872.789978  24346200   \n",
       "2021-02-03  877.020020  878.080017  853.059998  854.690002  18343500   \n",
       "2021-02-04  855.000000  856.500000  833.419983  849.989990  15812700   \n",
       "2021-02-05  845.000000  864.770020  838.969971  852.229980  18566600   \n",
       "2021-02-08  869.669983  877.770020  854.750000  863.419983  20161700   \n",
       "2021-02-09  855.119995  859.799988  841.750000  849.460022  15157700   \n",
       "2021-02-10  843.640015  844.820007  800.020020  804.820007  36216100   \n",
       "2021-02-11  812.440002  829.880005  801.729980  811.659973  21622800   \n",
       "2021-02-12  801.260010  817.330017  785.330017  816.119995  23768300   \n",
       "2021-02-16  818.000000  821.000000  792.440002  796.219971  19802300   \n",
       "2021-02-17  779.090027  799.840027  762.010010  798.150024  25996500   \n",
       "2021-02-18  780.900024  794.690002  776.270020  787.380005  17957100   \n",
       "2021-02-19  795.000000  796.789978  777.369995  781.299988  18958300   \n",
       "2021-02-22  762.640015  768.500000  710.200012  714.500000  37269700   \n",
       "2021-02-23  662.130005  713.609985  619.000000  698.840027  66606900   \n",
       "2021-02-24  711.849976  745.000000  694.169983  742.020020  36767000   \n",
       "2021-02-25  726.150024  737.210022  670.580017  682.219971  39023900   \n",
       "2021-02-26  700.000000  706.700012  659.510010  675.500000  41089200   \n",
       "2021-03-01  690.109985  719.000000  685.049988  718.429993  27136200   \n",
       "2021-03-02  718.280029  721.109985  685.000000  686.440002  23732200   \n",
       "2021-03-03  687.989990  700.700012  651.710022  653.200012  30208000   \n",
       "2021-03-04  655.799988  668.450012  600.000000  621.440002  65919500   \n",
       "2021-03-05  626.059998  627.840027  539.489990  597.950012  89396500   \n",
       "2021-03-08  600.549988  620.130005  558.789978  563.000000  51787000   \n",
       "2021-03-09  608.179993  678.090027  595.210022  673.580017  67523300   \n",
       "2021-03-10  700.299988  717.849976  655.059998  668.059998  60605700   \n",
       "2021-03-11  699.400024  702.500000  677.179993  699.599976  36253900   \n",
       "2021-03-12  670.000000  694.880005  666.140015  693.729980  33583800   \n",
       "2021-03-15  694.090027  713.179993  684.039978  707.940002  29335600   \n",
       "2021-03-16  703.349976  707.919983  671.000000  676.880005  32195700   \n",
       "2021-03-17  656.869995  703.729980  651.010010  701.809998  40372500   \n",
       "2021-03-18  684.289978  689.229980  652.000000  653.159973  33224800   \n",
       "2021-03-19  646.599976  657.229980  624.619995  654.869995  42894000   \n",
       "2021-03-22  684.590027  699.619995  668.750000  670.000000  39512200   \n",
       "2021-03-23  675.770020  677.799988  657.510010  662.159973  30491900   \n",
       "2021-03-24  667.909973  668.020020  630.109985  630.270020  33795200   \n",
       "2021-03-25  613.000000  645.500000  609.500000  640.390015  39224900   \n",
       "2021-03-26  641.869995  643.820007  599.890015  618.710022  33852800   \n",
       "2021-03-29  615.640015  616.479980  596.020020  611.289978  28637000   \n",
       "2021-03-30  601.750000  637.659973  591.010010  635.619995  39432400   \n",
       "\n",
       "            Dividends  Stock Splits  \n",
       "Date                                 \n",
       "2021-01-04          0             0  \n",
       "2021-01-05          0             0  \n",
       "2021-01-06          0             0  \n",
       "2021-01-07          0             0  \n",
       "2021-01-08          0             0  \n",
       "2021-01-11          0             0  \n",
       "2021-01-12          0             0  \n",
       "2021-01-13          0             0  \n",
       "2021-01-14          0             0  \n",
       "2021-01-15          0             0  \n",
       "2021-01-19          0             0  \n",
       "2021-01-20          0             0  \n",
       "2021-01-21          0             0  \n",
       "2021-01-22          0             0  \n",
       "2021-01-25          0             0  \n",
       "2021-01-26          0             0  \n",
       "2021-01-27          0             0  \n",
       "2021-01-28          0             0  \n",
       "2021-01-29          0             0  \n",
       "2021-02-01          0             0  \n",
       "2021-02-02          0             0  \n",
       "2021-02-03          0             0  \n",
       "2021-02-04          0             0  \n",
       "2021-02-05          0             0  \n",
       "2021-02-08          0             0  \n",
       "2021-02-09          0             0  \n",
       "2021-02-10          0             0  \n",
       "2021-02-11          0             0  \n",
       "2021-02-12          0             0  \n",
       "2021-02-16          0             0  \n",
       "2021-02-17          0             0  \n",
       "2021-02-18          0             0  \n",
       "2021-02-19          0             0  \n",
       "2021-02-22          0             0  \n",
       "2021-02-23          0             0  \n",
       "2021-02-24          0             0  \n",
       "2021-02-25          0             0  \n",
       "2021-02-26          0             0  \n",
       "2021-03-01          0             0  \n",
       "2021-03-02          0             0  \n",
       "2021-03-03          0             0  \n",
       "2021-03-04          0             0  \n",
       "2021-03-05          0             0  \n",
       "2021-03-08          0             0  \n",
       "2021-03-09          0             0  \n",
       "2021-03-10          0             0  \n",
       "2021-03-11          0             0  \n",
       "2021-03-12          0             0  \n",
       "2021-03-15          0             0  \n",
       "2021-03-16          0             0  \n",
       "2021-03-17          0             0  \n",
       "2021-03-18          0             0  \n",
       "2021-03-19          0             0  \n",
       "2021-03-22          0             0  \n",
       "2021-03-23          0             0  \n",
       "2021-03-24          0             0  \n",
       "2021-03-25          0             0  \n",
       "2021-03-26          0             0  \n",
       "2021-03-29          0             0  \n",
       "2021-03-30          0             0  "
      ]
     },
     "execution_count": 324,
     "metadata": {},
     "output_type": "execute_result"
    }
   ],
   "source": [
    "data.history(start='2021-01-01', end='2021-03-31')"
   ]
  },
  {
   "cell_type": "code",
   "execution_count": null,
   "metadata": {},
   "outputs": [],
   "source": [
    "import plotly.graph_objects as go"
   ]
  },
  {
   "cell_type": "code",
   "execution_count": null,
   "metadata": {},
   "outputs": [],
   "source": [
    "stocks_price = data_cencosud.history(start='2021-01-01', end='2021-03-31')"
   ]
  },
  {
   "cell_type": "code",
   "execution_count": null,
   "metadata": {},
   "outputs": [
    {
     "data": {
      "application/vnd.plotly.v1+json": {
       "config": {
        "plotlyServerURL": "https://plot.ly"
       },
       "data": [
        {
         "name": "Close Price",
         "type": "scatter",
         "x": [
          "2021-01-04T00:00:00",
          "2021-01-05T00:00:00",
          "2021-01-06T00:00:00",
          "2021-01-07T00:00:00",
          "2021-01-08T00:00:00",
          "2021-01-11T00:00:00",
          "2021-01-12T00:00:00",
          "2021-01-13T00:00:00",
          "2021-01-14T00:00:00",
          "2021-01-15T00:00:00",
          "2021-01-18T00:00:00",
          "2021-01-19T00:00:00",
          "2021-01-20T00:00:00",
          "2021-01-21T00:00:00",
          "2021-01-22T00:00:00",
          "2021-01-25T00:00:00",
          "2021-01-26T00:00:00",
          "2021-01-27T00:00:00",
          "2021-01-28T00:00:00",
          "2021-01-29T00:00:00",
          "2021-02-01T00:00:00",
          "2021-02-02T00:00:00",
          "2021-02-03T00:00:00",
          "2021-02-04T00:00:00",
          "2021-02-05T00:00:00",
          "2021-02-08T00:00:00",
          "2021-02-09T00:00:00",
          "2021-02-10T00:00:00",
          "2021-02-11T00:00:00",
          "2021-02-12T00:00:00",
          "2021-02-15T00:00:00",
          "2021-02-16T00:00:00",
          "2021-02-17T00:00:00",
          "2021-02-18T00:00:00",
          "2021-02-19T00:00:00",
          "2021-02-22T00:00:00",
          "2021-02-23T00:00:00",
          "2021-02-24T00:00:00",
          "2021-02-25T00:00:00",
          "2021-02-26T00:00:00",
          "2021-03-01T00:00:00",
          "2021-03-02T00:00:00",
          "2021-03-03T00:00:00",
          "2021-03-04T00:00:00",
          "2021-03-05T00:00:00",
          "2021-03-08T00:00:00",
          "2021-03-09T00:00:00",
          "2021-03-10T00:00:00",
          "2021-03-11T00:00:00",
          "2021-03-12T00:00:00",
          "2021-03-15T00:00:00",
          "2021-03-16T00:00:00",
          "2021-03-17T00:00:00",
          "2021-03-18T00:00:00",
          "2021-03-19T00:00:00",
          "2021-03-22T00:00:00",
          "2021-03-23T00:00:00",
          "2021-03-24T00:00:00",
          "2021-03-25T00:00:00",
          "2021-03-26T00:00:00",
          "2021-03-29T00:00:00",
          "2021-03-30T00:00:00"
         ],
         "y": [
          1081.88037109375,
          1114.6900634765625,
          1127.3092041015625,
          1156.669677734375,
          1186.198486328125,
          1219.8494873046875,
          1211.3526611328125,
          1205.5477294921875,
          1234.151123046875,
          1211.436767578125,
          1248.452880859375,
          1228.2623291015625,
          1214.8018798828125,
          1192.08740234375,
          1164.0728759765625,
          1152.54736328125,
          1144.9759521484375,
          1115.5313720703125,
          1106.27734375,
          1072.7945556640625,
          1086.0867919921875,
          1125.6265869140625,
          1110.4837646484375,
          1114.6900634765625,
          1097.9486083984375,
          1109.6424560546875,
          1152.4632568359375,
          1135.721923828125,
          1153.388671875,
          1169.373046875,
          1170.6348876953125,
          1177.78564453125,
          1148.341064453125,
          1149.1822509765625,
          1177.78564453125,
          1152.54736328125,
          1160.960205078125,
          1178.626953125,
          1211.60498046875,
          1192.508056640625,
          1177.78564453125,
          1224.055908203125,
          1245.0877685546875,
          1211.436767578125,
          1228.2623291015625,
          1203.865234375,
          1240.0400390625,
          1234.0670166015625,
          1198.817626953125,
          1231.6273193359375,
          1228.430419921875,
          1227.4210205078125,
          1245.0877685546875,
          1236.6749267578125,
          1224.3082275390625,
          1253.5006103515625,
          1270.41015625,
          1277.0562744140625,
          1249.294189453125,
          1303.97705078125,
          1319.961181640625,
          1320.802490234375
         ]
        },
        {
         "name": "Higher Price",
         "type": "scatter",
         "x": [
          "2021-01-04T00:00:00",
          "2021-01-05T00:00:00",
          "2021-01-06T00:00:00",
          "2021-01-07T00:00:00",
          "2021-01-08T00:00:00",
          "2021-01-11T00:00:00",
          "2021-01-12T00:00:00",
          "2021-01-13T00:00:00",
          "2021-01-14T00:00:00",
          "2021-01-15T00:00:00",
          "2021-01-18T00:00:00",
          "2021-01-19T00:00:00",
          "2021-01-20T00:00:00",
          "2021-01-21T00:00:00",
          "2021-01-22T00:00:00",
          "2021-01-25T00:00:00",
          "2021-01-26T00:00:00",
          "2021-01-27T00:00:00",
          "2021-01-28T00:00:00",
          "2021-01-29T00:00:00",
          "2021-02-01T00:00:00",
          "2021-02-02T00:00:00",
          "2021-02-03T00:00:00",
          "2021-02-04T00:00:00",
          "2021-02-05T00:00:00",
          "2021-02-08T00:00:00",
          "2021-02-09T00:00:00",
          "2021-02-10T00:00:00",
          "2021-02-11T00:00:00",
          "2021-02-12T00:00:00",
          "2021-02-15T00:00:00",
          "2021-02-16T00:00:00",
          "2021-02-17T00:00:00",
          "2021-02-18T00:00:00",
          "2021-02-19T00:00:00",
          "2021-02-22T00:00:00",
          "2021-02-23T00:00:00",
          "2021-02-24T00:00:00",
          "2021-02-25T00:00:00",
          "2021-02-26T00:00:00",
          "2021-03-01T00:00:00",
          "2021-03-02T00:00:00",
          "2021-03-03T00:00:00",
          "2021-03-04T00:00:00",
          "2021-03-05T00:00:00",
          "2021-03-08T00:00:00",
          "2021-03-09T00:00:00",
          "2021-03-10T00:00:00",
          "2021-03-11T00:00:00",
          "2021-03-12T00:00:00",
          "2021-03-15T00:00:00",
          "2021-03-16T00:00:00",
          "2021-03-17T00:00:00",
          "2021-03-18T00:00:00",
          "2021-03-19T00:00:00",
          "2021-03-22T00:00:00",
          "2021-03-23T00:00:00",
          "2021-03-24T00:00:00",
          "2021-03-25T00:00:00",
          "2021-03-26T00:00:00",
          "2021-03-29T00:00:00",
          "2021-03-30T00:00:00"
         ],
         "y": [
          1097.8646067475456,
          1118.8964410745873,
          1134.7124698034195,
          1156.7537847434041,
          1186.198486328125,
          1219.8494873046875,
          1240.0401362840116,
          1211.352550682567,
          1240.8813268535382,
          1250.976717631022,
          1249.2100493718954,
          1278.7388631742294,
          1227.2527989539785,
          1224.055871849087,
          1190.404840378747,
          1177.7856267107663,
          1173.57931906471,
          1144.134740584936,
          1115.5313747623575,
          1135.6379017669863,
          1110.2313604651497,
          1127.2250308574517,
          1142.452236661044,
          1129.8330228294515,
          1131.515520589065,
          1124.7854160311729,
          1152.4632568359375,
          1152.4633267998033,
          1171.8967322551969,
          1176.103251461331,
          1190.4048624425923,
          1197.1349801199776,
          1186.198462182349,
          1175.261789615123,
          1194.6111537388392,
          1189.563482977874,
          1165.166582632756,
          1206.3890440979658,
          1219.8495217627083,
          1235.833746176422,
          1213.8763823204806,
          1224.055908203125,
          1245.0877685546875,
          1253.5846512444937,
          1246.7703915948737,
          1228.2622237508735,
          1253.500446542147,
          1249.2940821821367,
          1245.9290565035635,
          1236.6749722840354,
          1245.0877155729856,
          1236.5068374743316,
          1245.0877685546875,
          1257.7068132672991,
          1236.5908288116498,
          1253.5006103515625,
          1286.2261772786599,
          1295.5643363620925,
          1285.469038036616,
          1303.97705078125,
          1362.6980155976507,
          1345.199478907494
         ]
        }
       ],
       "layout": {
        "template": {
         "data": {
          "bar": [
           {
            "error_x": {
             "color": "#2a3f5f"
            },
            "error_y": {
             "color": "#2a3f5f"
            },
            "marker": {
             "line": {
              "color": "#E5ECF6",
              "width": 0.5
             },
             "pattern": {
              "fillmode": "overlay",
              "size": 10,
              "solidity": 0.2
             }
            },
            "type": "bar"
           }
          ],
          "barpolar": [
           {
            "marker": {
             "line": {
              "color": "#E5ECF6",
              "width": 0.5
             },
             "pattern": {
              "fillmode": "overlay",
              "size": 10,
              "solidity": 0.2
             }
            },
            "type": "barpolar"
           }
          ],
          "carpet": [
           {
            "aaxis": {
             "endlinecolor": "#2a3f5f",
             "gridcolor": "white",
             "linecolor": "white",
             "minorgridcolor": "white",
             "startlinecolor": "#2a3f5f"
            },
            "baxis": {
             "endlinecolor": "#2a3f5f",
             "gridcolor": "white",
             "linecolor": "white",
             "minorgridcolor": "white",
             "startlinecolor": "#2a3f5f"
            },
            "type": "carpet"
           }
          ],
          "choropleth": [
           {
            "colorbar": {
             "outlinewidth": 0,
             "ticks": ""
            },
            "type": "choropleth"
           }
          ],
          "contour": [
           {
            "colorbar": {
             "outlinewidth": 0,
             "ticks": ""
            },
            "colorscale": [
             [
              0,
              "#0d0887"
             ],
             [
              0.1111111111111111,
              "#46039f"
             ],
             [
              0.2222222222222222,
              "#7201a8"
             ],
             [
              0.3333333333333333,
              "#9c179e"
             ],
             [
              0.4444444444444444,
              "#bd3786"
             ],
             [
              0.5555555555555556,
              "#d8576b"
             ],
             [
              0.6666666666666666,
              "#ed7953"
             ],
             [
              0.7777777777777778,
              "#fb9f3a"
             ],
             [
              0.8888888888888888,
              "#fdca26"
             ],
             [
              1,
              "#f0f921"
             ]
            ],
            "type": "contour"
           }
          ],
          "contourcarpet": [
           {
            "colorbar": {
             "outlinewidth": 0,
             "ticks": ""
            },
            "type": "contourcarpet"
           }
          ],
          "heatmap": [
           {
            "colorbar": {
             "outlinewidth": 0,
             "ticks": ""
            },
            "colorscale": [
             [
              0,
              "#0d0887"
             ],
             [
              0.1111111111111111,
              "#46039f"
             ],
             [
              0.2222222222222222,
              "#7201a8"
             ],
             [
              0.3333333333333333,
              "#9c179e"
             ],
             [
              0.4444444444444444,
              "#bd3786"
             ],
             [
              0.5555555555555556,
              "#d8576b"
             ],
             [
              0.6666666666666666,
              "#ed7953"
             ],
             [
              0.7777777777777778,
              "#fb9f3a"
             ],
             [
              0.8888888888888888,
              "#fdca26"
             ],
             [
              1,
              "#f0f921"
             ]
            ],
            "type": "heatmap"
           }
          ],
          "heatmapgl": [
           {
            "colorbar": {
             "outlinewidth": 0,
             "ticks": ""
            },
            "colorscale": [
             [
              0,
              "#0d0887"
             ],
             [
              0.1111111111111111,
              "#46039f"
             ],
             [
              0.2222222222222222,
              "#7201a8"
             ],
             [
              0.3333333333333333,
              "#9c179e"
             ],
             [
              0.4444444444444444,
              "#bd3786"
             ],
             [
              0.5555555555555556,
              "#d8576b"
             ],
             [
              0.6666666666666666,
              "#ed7953"
             ],
             [
              0.7777777777777778,
              "#fb9f3a"
             ],
             [
              0.8888888888888888,
              "#fdca26"
             ],
             [
              1,
              "#f0f921"
             ]
            ],
            "type": "heatmapgl"
           }
          ],
          "histogram": [
           {
            "marker": {
             "pattern": {
              "fillmode": "overlay",
              "size": 10,
              "solidity": 0.2
             }
            },
            "type": "histogram"
           }
          ],
          "histogram2d": [
           {
            "colorbar": {
             "outlinewidth": 0,
             "ticks": ""
            },
            "colorscale": [
             [
              0,
              "#0d0887"
             ],
             [
              0.1111111111111111,
              "#46039f"
             ],
             [
              0.2222222222222222,
              "#7201a8"
             ],
             [
              0.3333333333333333,
              "#9c179e"
             ],
             [
              0.4444444444444444,
              "#bd3786"
             ],
             [
              0.5555555555555556,
              "#d8576b"
             ],
             [
              0.6666666666666666,
              "#ed7953"
             ],
             [
              0.7777777777777778,
              "#fb9f3a"
             ],
             [
              0.8888888888888888,
              "#fdca26"
             ],
             [
              1,
              "#f0f921"
             ]
            ],
            "type": "histogram2d"
           }
          ],
          "histogram2dcontour": [
           {
            "colorbar": {
             "outlinewidth": 0,
             "ticks": ""
            },
            "colorscale": [
             [
              0,
              "#0d0887"
             ],
             [
              0.1111111111111111,
              "#46039f"
             ],
             [
              0.2222222222222222,
              "#7201a8"
             ],
             [
              0.3333333333333333,
              "#9c179e"
             ],
             [
              0.4444444444444444,
              "#bd3786"
             ],
             [
              0.5555555555555556,
              "#d8576b"
             ],
             [
              0.6666666666666666,
              "#ed7953"
             ],
             [
              0.7777777777777778,
              "#fb9f3a"
             ],
             [
              0.8888888888888888,
              "#fdca26"
             ],
             [
              1,
              "#f0f921"
             ]
            ],
            "type": "histogram2dcontour"
           }
          ],
          "mesh3d": [
           {
            "colorbar": {
             "outlinewidth": 0,
             "ticks": ""
            },
            "type": "mesh3d"
           }
          ],
          "parcoords": [
           {
            "line": {
             "colorbar": {
              "outlinewidth": 0,
              "ticks": ""
             }
            },
            "type": "parcoords"
           }
          ],
          "pie": [
           {
            "automargin": true,
            "type": "pie"
           }
          ],
          "scatter": [
           {
            "marker": {
             "colorbar": {
              "outlinewidth": 0,
              "ticks": ""
             }
            },
            "type": "scatter"
           }
          ],
          "scatter3d": [
           {
            "line": {
             "colorbar": {
              "outlinewidth": 0,
              "ticks": ""
             }
            },
            "marker": {
             "colorbar": {
              "outlinewidth": 0,
              "ticks": ""
             }
            },
            "type": "scatter3d"
           }
          ],
          "scattercarpet": [
           {
            "marker": {
             "colorbar": {
              "outlinewidth": 0,
              "ticks": ""
             }
            },
            "type": "scattercarpet"
           }
          ],
          "scattergeo": [
           {
            "marker": {
             "colorbar": {
              "outlinewidth": 0,
              "ticks": ""
             }
            },
            "type": "scattergeo"
           }
          ],
          "scattergl": [
           {
            "marker": {
             "colorbar": {
              "outlinewidth": 0,
              "ticks": ""
             }
            },
            "type": "scattergl"
           }
          ],
          "scattermapbox": [
           {
            "marker": {
             "colorbar": {
              "outlinewidth": 0,
              "ticks": ""
             }
            },
            "type": "scattermapbox"
           }
          ],
          "scatterpolar": [
           {
            "marker": {
             "colorbar": {
              "outlinewidth": 0,
              "ticks": ""
             }
            },
            "type": "scatterpolar"
           }
          ],
          "scatterpolargl": [
           {
            "marker": {
             "colorbar": {
              "outlinewidth": 0,
              "ticks": ""
             }
            },
            "type": "scatterpolargl"
           }
          ],
          "scatterternary": [
           {
            "marker": {
             "colorbar": {
              "outlinewidth": 0,
              "ticks": ""
             }
            },
            "type": "scatterternary"
           }
          ],
          "surface": [
           {
            "colorbar": {
             "outlinewidth": 0,
             "ticks": ""
            },
            "colorscale": [
             [
              0,
              "#0d0887"
             ],
             [
              0.1111111111111111,
              "#46039f"
             ],
             [
              0.2222222222222222,
              "#7201a8"
             ],
             [
              0.3333333333333333,
              "#9c179e"
             ],
             [
              0.4444444444444444,
              "#bd3786"
             ],
             [
              0.5555555555555556,
              "#d8576b"
             ],
             [
              0.6666666666666666,
              "#ed7953"
             ],
             [
              0.7777777777777778,
              "#fb9f3a"
             ],
             [
              0.8888888888888888,
              "#fdca26"
             ],
             [
              1,
              "#f0f921"
             ]
            ],
            "type": "surface"
           }
          ],
          "table": [
           {
            "cells": {
             "fill": {
              "color": "#EBF0F8"
             },
             "line": {
              "color": "white"
             }
            },
            "header": {
             "fill": {
              "color": "#C8D4E3"
             },
             "line": {
              "color": "white"
             }
            },
            "type": "table"
           }
          ]
         },
         "layout": {
          "annotationdefaults": {
           "arrowcolor": "#2a3f5f",
           "arrowhead": 0,
           "arrowwidth": 1
          },
          "autotypenumbers": "strict",
          "coloraxis": {
           "colorbar": {
            "outlinewidth": 0,
            "ticks": ""
           }
          },
          "colorscale": {
           "diverging": [
            [
             0,
             "#8e0152"
            ],
            [
             0.1,
             "#c51b7d"
            ],
            [
             0.2,
             "#de77ae"
            ],
            [
             0.3,
             "#f1b6da"
            ],
            [
             0.4,
             "#fde0ef"
            ],
            [
             0.5,
             "#f7f7f7"
            ],
            [
             0.6,
             "#e6f5d0"
            ],
            [
             0.7,
             "#b8e186"
            ],
            [
             0.8,
             "#7fbc41"
            ],
            [
             0.9,
             "#4d9221"
            ],
            [
             1,
             "#276419"
            ]
           ],
           "sequential": [
            [
             0,
             "#0d0887"
            ],
            [
             0.1111111111111111,
             "#46039f"
            ],
            [
             0.2222222222222222,
             "#7201a8"
            ],
            [
             0.3333333333333333,
             "#9c179e"
            ],
            [
             0.4444444444444444,
             "#bd3786"
            ],
            [
             0.5555555555555556,
             "#d8576b"
            ],
            [
             0.6666666666666666,
             "#ed7953"
            ],
            [
             0.7777777777777778,
             "#fb9f3a"
            ],
            [
             0.8888888888888888,
             "#fdca26"
            ],
            [
             1,
             "#f0f921"
            ]
           ],
           "sequentialminus": [
            [
             0,
             "#0d0887"
            ],
            [
             0.1111111111111111,
             "#46039f"
            ],
            [
             0.2222222222222222,
             "#7201a8"
            ],
            [
             0.3333333333333333,
             "#9c179e"
            ],
            [
             0.4444444444444444,
             "#bd3786"
            ],
            [
             0.5555555555555556,
             "#d8576b"
            ],
            [
             0.6666666666666666,
             "#ed7953"
            ],
            [
             0.7777777777777778,
             "#fb9f3a"
            ],
            [
             0.8888888888888888,
             "#fdca26"
            ],
            [
             1,
             "#f0f921"
            ]
           ]
          },
          "colorway": [
           "#636efa",
           "#EF553B",
           "#00cc96",
           "#ab63fa",
           "#FFA15A",
           "#19d3f3",
           "#FF6692",
           "#B6E880",
           "#FF97FF",
           "#FECB52"
          ],
          "font": {
           "color": "#2a3f5f"
          },
          "geo": {
           "bgcolor": "white",
           "lakecolor": "white",
           "landcolor": "#E5ECF6",
           "showlakes": true,
           "showland": true,
           "subunitcolor": "white"
          },
          "hoverlabel": {
           "align": "left"
          },
          "hovermode": "closest",
          "mapbox": {
           "style": "light"
          },
          "paper_bgcolor": "white",
          "plot_bgcolor": "#E5ECF6",
          "polar": {
           "angularaxis": {
            "gridcolor": "white",
            "linecolor": "white",
            "ticks": ""
           },
           "bgcolor": "#E5ECF6",
           "radialaxis": {
            "gridcolor": "white",
            "linecolor": "white",
            "ticks": ""
           }
          },
          "scene": {
           "xaxis": {
            "backgroundcolor": "#E5ECF6",
            "gridcolor": "white",
            "gridwidth": 2,
            "linecolor": "white",
            "showbackground": true,
            "ticks": "",
            "zerolinecolor": "white"
           },
           "yaxis": {
            "backgroundcolor": "#E5ECF6",
            "gridcolor": "white",
            "gridwidth": 2,
            "linecolor": "white",
            "showbackground": true,
            "ticks": "",
            "zerolinecolor": "white"
           },
           "zaxis": {
            "backgroundcolor": "#E5ECF6",
            "gridcolor": "white",
            "gridwidth": 2,
            "linecolor": "white",
            "showbackground": true,
            "ticks": "",
            "zerolinecolor": "white"
           }
          },
          "shapedefaults": {
           "line": {
            "color": "#2a3f5f"
           }
          },
          "ternary": {
           "aaxis": {
            "gridcolor": "white",
            "linecolor": "white",
            "ticks": ""
           },
           "baxis": {
            "gridcolor": "white",
            "linecolor": "white",
            "ticks": ""
           },
           "bgcolor": "#E5ECF6",
           "caxis": {
            "gridcolor": "white",
            "linecolor": "white",
            "ticks": ""
           }
          },
          "title": {
           "x": 0.05
          },
          "xaxis": {
           "automargin": true,
           "gridcolor": "white",
           "linecolor": "white",
           "ticks": "",
           "title": {
            "standoff": 15
           },
           "zerolinecolor": "white",
           "zerolinewidth": 2
          },
          "yaxis": {
           "automargin": true,
           "gridcolor": "white",
           "linecolor": "white",
           "ticks": "",
           "title": {
            "standoff": 15
           },
           "zerolinecolor": "white",
           "zerolinewidth": 2
          }
         }
        },
        "title": {
         "text": "Stock Prices January - March 2021 CECONSUD"
        }
       }
      }
     },
     "metadata": {},
     "output_type": "display_data"
    }
   ],
   "source": [
    "fig = go.Figure()\n",
    "\n",
    "fig.add_trace(go.Scatter(x=stocks_price.index, y=stocks_price['Close'], name='Close Price'))\n",
    "fig.add_trace(go.Scatter(x=stocks_price.index, y=stocks_price['High'], name='Higher Price'))\n",
    "\n",
    "fig.update_layout(\n",
    "    title_text='Stock Prices January - March 2021 CECONSUD'\n",
    ")"
   ]
  },
  {
   "cell_type": "markdown",
   "metadata": {},
   "source": [
    "# Stock return"
   ]
  },
  {
   "cell_type": "code",
   "execution_count": null,
   "metadata": {},
   "outputs": [],
   "source": [
    "tesla = yf.Ticker('TSLA')"
   ]
  },
  {
   "cell_type": "code",
   "execution_count": null,
   "metadata": {},
   "outputs": [],
   "source": [
    "price = tesla.history(period='1y')"
   ]
  },
  {
   "cell_type": "code",
   "execution_count": null,
   "metadata": {},
   "outputs": [
    {
     "name": "stdout",
     "output_type": "stream",
     "text": [
      "Date\n",
      "2021-01-04         NaN\n",
      "2021-01-05    0.007317\n",
      "2021-01-06    0.028390\n",
      "2021-01-07    0.079447\n",
      "2021-01-08    0.078403\n",
      "                ...   \n",
      "2021-12-29   -0.002095\n",
      "2021-12-30   -0.014592\n",
      "2021-12-31   -0.012669\n",
      "2022-01-03    0.135317\n",
      "2022-01-04   -0.006818\n",
      "Name: Close, Length: 254, dtype: float64\n"
     ]
    }
   ],
   "source": [
    "x = price['Close'].pct_change()\n",
    "print(x)"
   ]
  },
  {
   "cell_type": "code",
   "execution_count": null,
   "metadata": {},
   "outputs": [
    {
     "data": {
      "application/vnd.plotly.v1+json": {
       "config": {
        "plotlyServerURL": "https://plot.ly"
       },
       "data": [
        {
         "hovertemplate": "variable=Close<br>Date=%{x}<br>value=%{y}<extra></extra>",
         "legendgroup": "Close",
         "line": {
          "color": "#636efa",
          "dash": "solid"
         },
         "marker": {
          "symbol": "circle"
         },
         "mode": "lines",
         "name": "Close",
         "orientation": "v",
         "showlegend": true,
         "type": "scatter",
         "x": [
          "2021-01-04T00:00:00",
          "2021-01-05T00:00:00",
          "2021-01-06T00:00:00",
          "2021-01-07T00:00:00",
          "2021-01-08T00:00:00",
          "2021-01-11T00:00:00",
          "2021-01-12T00:00:00",
          "2021-01-13T00:00:00",
          "2021-01-14T00:00:00",
          "2021-01-15T00:00:00",
          "2021-01-19T00:00:00",
          "2021-01-20T00:00:00",
          "2021-01-21T00:00:00",
          "2021-01-22T00:00:00",
          "2021-01-25T00:00:00",
          "2021-01-26T00:00:00",
          "2021-01-27T00:00:00",
          "2021-01-28T00:00:00",
          "2021-01-29T00:00:00",
          "2021-02-01T00:00:00",
          "2021-02-02T00:00:00",
          "2021-02-03T00:00:00",
          "2021-02-04T00:00:00",
          "2021-02-05T00:00:00",
          "2021-02-08T00:00:00",
          "2021-02-09T00:00:00",
          "2021-02-10T00:00:00",
          "2021-02-11T00:00:00",
          "2021-02-12T00:00:00",
          "2021-02-16T00:00:00",
          "2021-02-17T00:00:00",
          "2021-02-18T00:00:00",
          "2021-02-19T00:00:00",
          "2021-02-22T00:00:00",
          "2021-02-23T00:00:00",
          "2021-02-24T00:00:00",
          "2021-02-25T00:00:00",
          "2021-02-26T00:00:00",
          "2021-03-01T00:00:00",
          "2021-03-02T00:00:00",
          "2021-03-03T00:00:00",
          "2021-03-04T00:00:00",
          "2021-03-05T00:00:00",
          "2021-03-08T00:00:00",
          "2021-03-09T00:00:00",
          "2021-03-10T00:00:00",
          "2021-03-11T00:00:00",
          "2021-03-12T00:00:00",
          "2021-03-15T00:00:00",
          "2021-03-16T00:00:00",
          "2021-03-17T00:00:00",
          "2021-03-18T00:00:00",
          "2021-03-19T00:00:00",
          "2021-03-22T00:00:00",
          "2021-03-23T00:00:00",
          "2021-03-24T00:00:00",
          "2021-03-25T00:00:00",
          "2021-03-26T00:00:00",
          "2021-03-29T00:00:00",
          "2021-03-30T00:00:00",
          "2021-03-31T00:00:00",
          "2021-04-01T00:00:00",
          "2021-04-05T00:00:00",
          "2021-04-06T00:00:00",
          "2021-04-07T00:00:00",
          "2021-04-08T00:00:00",
          "2021-04-09T00:00:00",
          "2021-04-12T00:00:00",
          "2021-04-13T00:00:00",
          "2021-04-14T00:00:00",
          "2021-04-15T00:00:00",
          "2021-04-16T00:00:00",
          "2021-04-19T00:00:00",
          "2021-04-20T00:00:00",
          "2021-04-21T00:00:00",
          "2021-04-22T00:00:00",
          "2021-04-23T00:00:00",
          "2021-04-26T00:00:00",
          "2021-04-27T00:00:00",
          "2021-04-28T00:00:00",
          "2021-04-29T00:00:00",
          "2021-04-30T00:00:00",
          "2021-05-03T00:00:00",
          "2021-05-04T00:00:00",
          "2021-05-05T00:00:00",
          "2021-05-06T00:00:00",
          "2021-05-07T00:00:00",
          "2021-05-10T00:00:00",
          "2021-05-11T00:00:00",
          "2021-05-12T00:00:00",
          "2021-05-13T00:00:00",
          "2021-05-14T00:00:00",
          "2021-05-17T00:00:00",
          "2021-05-18T00:00:00",
          "2021-05-19T00:00:00",
          "2021-05-20T00:00:00",
          "2021-05-21T00:00:00",
          "2021-05-24T00:00:00",
          "2021-05-25T00:00:00",
          "2021-05-26T00:00:00",
          "2021-05-27T00:00:00",
          "2021-05-28T00:00:00",
          "2021-06-01T00:00:00",
          "2021-06-02T00:00:00",
          "2021-06-03T00:00:00",
          "2021-06-04T00:00:00",
          "2021-06-07T00:00:00",
          "2021-06-08T00:00:00",
          "2021-06-09T00:00:00",
          "2021-06-10T00:00:00",
          "2021-06-11T00:00:00",
          "2021-06-14T00:00:00",
          "2021-06-15T00:00:00",
          "2021-06-16T00:00:00",
          "2021-06-17T00:00:00",
          "2021-06-18T00:00:00",
          "2021-06-21T00:00:00",
          "2021-06-22T00:00:00",
          "2021-06-23T00:00:00",
          "2021-06-24T00:00:00",
          "2021-06-25T00:00:00",
          "2021-06-28T00:00:00",
          "2021-06-29T00:00:00",
          "2021-06-30T00:00:00",
          "2021-07-01T00:00:00",
          "2021-07-02T00:00:00",
          "2021-07-06T00:00:00",
          "2021-07-07T00:00:00",
          "2021-07-08T00:00:00",
          "2021-07-09T00:00:00",
          "2021-07-12T00:00:00",
          "2021-07-13T00:00:00",
          "2021-07-14T00:00:00",
          "2021-07-15T00:00:00",
          "2021-07-16T00:00:00",
          "2021-07-19T00:00:00",
          "2021-07-20T00:00:00",
          "2021-07-21T00:00:00",
          "2021-07-22T00:00:00",
          "2021-07-23T00:00:00",
          "2021-07-26T00:00:00",
          "2021-07-27T00:00:00",
          "2021-07-28T00:00:00",
          "2021-07-29T00:00:00",
          "2021-07-30T00:00:00",
          "2021-08-02T00:00:00",
          "2021-08-03T00:00:00",
          "2021-08-04T00:00:00",
          "2021-08-05T00:00:00",
          "2021-08-06T00:00:00",
          "2021-08-09T00:00:00",
          "2021-08-10T00:00:00",
          "2021-08-11T00:00:00",
          "2021-08-12T00:00:00",
          "2021-08-13T00:00:00",
          "2021-08-16T00:00:00",
          "2021-08-17T00:00:00",
          "2021-08-18T00:00:00",
          "2021-08-19T00:00:00",
          "2021-08-20T00:00:00",
          "2021-08-23T00:00:00",
          "2021-08-24T00:00:00",
          "2021-08-25T00:00:00",
          "2021-08-26T00:00:00",
          "2021-08-27T00:00:00",
          "2021-08-30T00:00:00",
          "2021-08-31T00:00:00",
          "2021-09-01T00:00:00",
          "2021-09-02T00:00:00",
          "2021-09-03T00:00:00",
          "2021-09-07T00:00:00",
          "2021-09-08T00:00:00",
          "2021-09-09T00:00:00",
          "2021-09-10T00:00:00",
          "2021-09-13T00:00:00",
          "2021-09-14T00:00:00",
          "2021-09-15T00:00:00",
          "2021-09-16T00:00:00",
          "2021-09-17T00:00:00",
          "2021-09-20T00:00:00",
          "2021-09-21T00:00:00",
          "2021-09-22T00:00:00",
          "2021-09-23T00:00:00",
          "2021-09-24T00:00:00",
          "2021-09-27T00:00:00",
          "2021-09-28T00:00:00",
          "2021-09-29T00:00:00",
          "2021-09-30T00:00:00",
          "2021-10-01T00:00:00",
          "2021-10-04T00:00:00",
          "2021-10-05T00:00:00",
          "2021-10-06T00:00:00",
          "2021-10-07T00:00:00",
          "2021-10-08T00:00:00",
          "2021-10-11T00:00:00",
          "2021-10-12T00:00:00",
          "2021-10-13T00:00:00",
          "2021-10-14T00:00:00",
          "2021-10-15T00:00:00",
          "2021-10-18T00:00:00",
          "2021-10-19T00:00:00",
          "2021-10-20T00:00:00",
          "2021-10-21T00:00:00",
          "2021-10-22T00:00:00",
          "2021-10-25T00:00:00",
          "2021-10-26T00:00:00",
          "2021-10-27T00:00:00",
          "2021-10-28T00:00:00",
          "2021-10-29T00:00:00",
          "2021-11-01T00:00:00",
          "2021-11-02T00:00:00",
          "2021-11-03T00:00:00",
          "2021-11-04T00:00:00",
          "2021-11-05T00:00:00",
          "2021-11-08T00:00:00",
          "2021-11-09T00:00:00",
          "2021-11-10T00:00:00",
          "2021-11-11T00:00:00",
          "2021-11-12T00:00:00",
          "2021-11-15T00:00:00",
          "2021-11-16T00:00:00",
          "2021-11-17T00:00:00",
          "2021-11-18T00:00:00",
          "2021-11-19T00:00:00",
          "2021-11-22T00:00:00",
          "2021-11-23T00:00:00",
          "2021-11-24T00:00:00",
          "2021-11-26T00:00:00",
          "2021-11-29T00:00:00",
          "2021-11-30T00:00:00",
          "2021-12-01T00:00:00",
          "2021-12-02T00:00:00",
          "2021-12-03T00:00:00",
          "2021-12-06T00:00:00",
          "2021-12-07T00:00:00",
          "2021-12-08T00:00:00",
          "2021-12-09T00:00:00",
          "2021-12-10T00:00:00",
          "2021-12-13T00:00:00",
          "2021-12-14T00:00:00",
          "2021-12-15T00:00:00",
          "2021-12-16T00:00:00",
          "2021-12-17T00:00:00",
          "2021-12-20T00:00:00",
          "2021-12-21T00:00:00",
          "2021-12-22T00:00:00",
          "2021-12-23T00:00:00",
          "2021-12-27T00:00:00",
          "2021-12-28T00:00:00",
          "2021-12-29T00:00:00",
          "2021-12-30T00:00:00",
          "2021-12-31T00:00:00",
          "2022-01-03T00:00:00",
          "2022-01-04T00:00:00"
         ],
         "xaxis": "x",
         "y": [
          null,
          0.0073173269350561565,
          0.028390302856798444,
          0.07944654502802195,
          0.07840307243104516,
          -0.0782141491809546,
          0.047152947996006445,
          0.005850879036589651,
          -0.011013416790886965,
          -0.02229588976978547,
          0.022259629183487784,
          0.00698599786790699,
          -0.006420156263490129,
          0.0019527147458928695,
          0.040347695069333556,
          0.0025999535583989264,
          -0.021436153886081333,
          -0.033246136550627914,
          -0.05015376961115048,
          0.058321634409634227,
          0.03927076429743148,
          -0.020738065332563282,
          -0.005499084104886864,
          0.002635313662643579,
          0.013130261429258105,
          -0.016168216179625494,
          -0.05255104830568991,
          0.008498752215484018,
          0.005494938915587166,
          -0.024383699128955993,
          0.0024240207253696244,
          -0.013493728248842096,
          -0.00772183323444775,
          -0.08549851380603068,
          -0.021917387186187853,
          0.06178809314926603,
          -0.08059088333748998,
          -0.009850152431332582,
          0.06355291291751475,
          -0.04452763743232491,
          -0.04842373713092618,
          -0.04862218183112754,
          -0.03779928897736162,
          -0.05844972237400059,
          0.1964121085077153,
          -0.008195046455057975,
          0.04721129560609172,
          -0.00839050217557713,
          0.02048350564733359,
          -0.043873771013758334,
          0.03683074177984813,
          -0.06932079135849123,
          0.0026180752694069387,
          0.02310382976105818,
          -0.01170153262010265,
          -0.04816049732187688,
          0.016056602414174836,
          -0.03385435778177015,
          -0.011992765078630674,
          0.03980110579983265,
          0.050832254817026135,
          -0.009252455711748597,
          0.044276521032064586,
          0.0008248423909813507,
          -0.029857471674981872,
          0.01912159656921597,
          -0.009915133639592177,
          0.03686738976312931,
          0.08595690551627477,
          -0.03947164782029822,
          0.009040868707601346,
          0.0012587856015018328,
          -0.03399662523732405,
          0.006101038749803722,
          0.034951814662427694,
          -0.0328307165995908,
          0.013491950617233739,
          0.012064693581602004,
          -0.04532649880703643,
          -0.014672029349255045,
          -0.025057637964147172,
          0.047917285733244164,
          -0.03459063196731782,
          -0.01649882964713323,
          -0.003948891390943787,
          -0.011029338520784915,
          0.013307437957385426,
          -0.0644437101662928,
          -0.018822278764288325,
          -0.044248212926854213,
          -0.030853229848072816,
          0.03157303383981902,
          -0.021890957639485453,
          0.0018029193983186698,
          -0.024936358119111213,
          0.04138715510388136,
          -0.0100549168674543,
          0.0440021989804078,
          -0.0028856935442168608,
          0.023880008571508515,
          0.018929741105574882,
          -0.008924475074415739,
          -0.0021111710292588404,
          -0.03010102350053967,
          -0.05334473909669335,
          0.045754416082577576,
          0.010149431956828714,
          -0.0025448713746097917,
          -0.007968981170302758,
          0.0189384502913843,
          -0.00037694301217883197,
          0.012789171171239788,
          -0.029675107282609026,
          0.009193155866741742,
          0.019392564622878083,
          0.010882293607423321,
          -0.0039787272440097166,
          0.004638958818893091,
          0.052684715964052664,
          0.035411303807118655,
          -0.011694289843458106,
          0.025079220248551914,
          -0.011557615977613622,
          -0.0015570796512542895,
          -0.0026188454684518137,
          0.0014456595595533361,
          -0.028457809146336777,
          -0.02263560491364547,
          0.012657989351583465,
          0.006341837079579804,
          0.043762842630010734,
          -0.025025570765932037,
          -0.022676240229138833,
          -0.004254842933820169,
          -0.009806340489125542,
          0.0031045296497360653,
          0.022097783950157934,
          -0.00788799693059239,
          -0.009201984562423937,
          -0.009056471666775034,
          0.022133094168770073,
          -0.019524901790774263,
          0.00341194061837502,
          0.04694116670377313,
          0.014542019600093825,
          0.03269786132709718,
          0.00009864771781908921,
          0.001662570366637528,
          0.005218621028866277,
          -0.021731566252135792,
          0.020969867961160293,
          -0.00528191476080031,
          -0.0030563570472872392,
          0.020386528392057013,
          -0.007033599293656989,
          -0.04322545664028932,
          -0.029817627478727737,
          0.034970133381400315,
          -0.022525754729717518,
          0.010082170486994446,
          0.03827944852485965,
          0.003100668949817642,
          0.003825067410987426,
          -0.014117040059298147,
          0.01534601257594459,
          0.026674332355089314,
          0.0065808344875910585,
          -0.00221544053792444,
          -0.002315808885612225,
          0.0016111534185070386,
          0.026377817239991552,
          0.0012617704783970396,
          0.0013132108198856685,
          -0.024627038366134335,
          0.009140641734991073,
          0.0020053704365747826,
          0.0152319399914278,
          0.001534701081332468,
          0.0033025535769977132,
          -0.0386048633967786,
          0.012613531353273144,
          0.016987202082350716,
          0.002260834909050713,
          0.027533039112419777,
          0.021913984403361786,
          -0.017438318904686723,
          0.004822778964677088,
          -0.0074618488283282325,
          -0.00033528881747257877,
          0.008139700771674807,
          -0.0012027720064089475,
          0.0027671031786462574,
          0.013874142895640373,
          -0.010231719946908746,
          0.008211450543254672,
          0.01740026797388383,
          0.00665249290276515,
          0.008926357550210762,
          0.030196037920976915,
          0.03212217253669292,
          -0.00671175589135764,
          0.0017702433581445742,
          0.032571047129391406,
          0.017539141695504856,
          0.12661594583056024,
          -0.006274020615192222,
          0.019078378303384103,
          0.03775080864849589,
          0.03431623672010509,
          0.08491020271123206,
          -0.03027492106926244,
          0.03571671105082119,
          0.013222323020621207,
          -0.006358244214659803,
          -0.04840071195115225,
          -0.11990296011128176,
          0.04342936118404972,
          -0.00415744333466006,
          -0.028293072508968398,
          -0.0193822728852886,
          0.040793737083203885,
          0.03250123721868614,
          0.006767610078050268,
          0.03710397264613152,
          0.017422066999642327,
          -0.04135293163642506,
          0.006284744794100794,
          -0.030537595031082,
          0.05090019969335757,
          0.006833850427872656,
          -0.04346763456194869,
          -0.00949773919092467,
          -0.06419878890850617,
          -0.0058720564248528895,
          0.04235834116680648,
          0.01636316704302354,
          -0.06095642075067487,
          0.013179957825059097,
          -0.04977243020772948,
          -0.00817454661938255,
          0.018236617552929157,
          -0.05027716248650771,
          0.006095482369819827,
          -0.034989335520704046,
          0.04288066621194697,
          0.0749469528140827,
          0.05761892529677248,
          0.02524830497305519,
          -0.0050002477248370925,
          -0.0020947103349137075,
          -0.014592268793630292,
          -0.012668812673032437,
          0.13531671306766135,
          -0.0068179612188838945
         ],
         "yaxis": "y"
        }
       ],
       "layout": {
        "legend": {
         "title": {
          "text": "variable"
         },
         "tracegroupgap": 0
        },
        "margin": {
         "t": 60
        },
        "template": {
         "data": {
          "bar": [
           {
            "error_x": {
             "color": "#2a3f5f"
            },
            "error_y": {
             "color": "#2a3f5f"
            },
            "marker": {
             "line": {
              "color": "#E5ECF6",
              "width": 0.5
             },
             "pattern": {
              "fillmode": "overlay",
              "size": 10,
              "solidity": 0.2
             }
            },
            "type": "bar"
           }
          ],
          "barpolar": [
           {
            "marker": {
             "line": {
              "color": "#E5ECF6",
              "width": 0.5
             },
             "pattern": {
              "fillmode": "overlay",
              "size": 10,
              "solidity": 0.2
             }
            },
            "type": "barpolar"
           }
          ],
          "carpet": [
           {
            "aaxis": {
             "endlinecolor": "#2a3f5f",
             "gridcolor": "white",
             "linecolor": "white",
             "minorgridcolor": "white",
             "startlinecolor": "#2a3f5f"
            },
            "baxis": {
             "endlinecolor": "#2a3f5f",
             "gridcolor": "white",
             "linecolor": "white",
             "minorgridcolor": "white",
             "startlinecolor": "#2a3f5f"
            },
            "type": "carpet"
           }
          ],
          "choropleth": [
           {
            "colorbar": {
             "outlinewidth": 0,
             "ticks": ""
            },
            "type": "choropleth"
           }
          ],
          "contour": [
           {
            "colorbar": {
             "outlinewidth": 0,
             "ticks": ""
            },
            "colorscale": [
             [
              0,
              "#0d0887"
             ],
             [
              0.1111111111111111,
              "#46039f"
             ],
             [
              0.2222222222222222,
              "#7201a8"
             ],
             [
              0.3333333333333333,
              "#9c179e"
             ],
             [
              0.4444444444444444,
              "#bd3786"
             ],
             [
              0.5555555555555556,
              "#d8576b"
             ],
             [
              0.6666666666666666,
              "#ed7953"
             ],
             [
              0.7777777777777778,
              "#fb9f3a"
             ],
             [
              0.8888888888888888,
              "#fdca26"
             ],
             [
              1,
              "#f0f921"
             ]
            ],
            "type": "contour"
           }
          ],
          "contourcarpet": [
           {
            "colorbar": {
             "outlinewidth": 0,
             "ticks": ""
            },
            "type": "contourcarpet"
           }
          ],
          "heatmap": [
           {
            "colorbar": {
             "outlinewidth": 0,
             "ticks": ""
            },
            "colorscale": [
             [
              0,
              "#0d0887"
             ],
             [
              0.1111111111111111,
              "#46039f"
             ],
             [
              0.2222222222222222,
              "#7201a8"
             ],
             [
              0.3333333333333333,
              "#9c179e"
             ],
             [
              0.4444444444444444,
              "#bd3786"
             ],
             [
              0.5555555555555556,
              "#d8576b"
             ],
             [
              0.6666666666666666,
              "#ed7953"
             ],
             [
              0.7777777777777778,
              "#fb9f3a"
             ],
             [
              0.8888888888888888,
              "#fdca26"
             ],
             [
              1,
              "#f0f921"
             ]
            ],
            "type": "heatmap"
           }
          ],
          "heatmapgl": [
           {
            "colorbar": {
             "outlinewidth": 0,
             "ticks": ""
            },
            "colorscale": [
             [
              0,
              "#0d0887"
             ],
             [
              0.1111111111111111,
              "#46039f"
             ],
             [
              0.2222222222222222,
              "#7201a8"
             ],
             [
              0.3333333333333333,
              "#9c179e"
             ],
             [
              0.4444444444444444,
              "#bd3786"
             ],
             [
              0.5555555555555556,
              "#d8576b"
             ],
             [
              0.6666666666666666,
              "#ed7953"
             ],
             [
              0.7777777777777778,
              "#fb9f3a"
             ],
             [
              0.8888888888888888,
              "#fdca26"
             ],
             [
              1,
              "#f0f921"
             ]
            ],
            "type": "heatmapgl"
           }
          ],
          "histogram": [
           {
            "marker": {
             "pattern": {
              "fillmode": "overlay",
              "size": 10,
              "solidity": 0.2
             }
            },
            "type": "histogram"
           }
          ],
          "histogram2d": [
           {
            "colorbar": {
             "outlinewidth": 0,
             "ticks": ""
            },
            "colorscale": [
             [
              0,
              "#0d0887"
             ],
             [
              0.1111111111111111,
              "#46039f"
             ],
             [
              0.2222222222222222,
              "#7201a8"
             ],
             [
              0.3333333333333333,
              "#9c179e"
             ],
             [
              0.4444444444444444,
              "#bd3786"
             ],
             [
              0.5555555555555556,
              "#d8576b"
             ],
             [
              0.6666666666666666,
              "#ed7953"
             ],
             [
              0.7777777777777778,
              "#fb9f3a"
             ],
             [
              0.8888888888888888,
              "#fdca26"
             ],
             [
              1,
              "#f0f921"
             ]
            ],
            "type": "histogram2d"
           }
          ],
          "histogram2dcontour": [
           {
            "colorbar": {
             "outlinewidth": 0,
             "ticks": ""
            },
            "colorscale": [
             [
              0,
              "#0d0887"
             ],
             [
              0.1111111111111111,
              "#46039f"
             ],
             [
              0.2222222222222222,
              "#7201a8"
             ],
             [
              0.3333333333333333,
              "#9c179e"
             ],
             [
              0.4444444444444444,
              "#bd3786"
             ],
             [
              0.5555555555555556,
              "#d8576b"
             ],
             [
              0.6666666666666666,
              "#ed7953"
             ],
             [
              0.7777777777777778,
              "#fb9f3a"
             ],
             [
              0.8888888888888888,
              "#fdca26"
             ],
             [
              1,
              "#f0f921"
             ]
            ],
            "type": "histogram2dcontour"
           }
          ],
          "mesh3d": [
           {
            "colorbar": {
             "outlinewidth": 0,
             "ticks": ""
            },
            "type": "mesh3d"
           }
          ],
          "parcoords": [
           {
            "line": {
             "colorbar": {
              "outlinewidth": 0,
              "ticks": ""
             }
            },
            "type": "parcoords"
           }
          ],
          "pie": [
           {
            "automargin": true,
            "type": "pie"
           }
          ],
          "scatter": [
           {
            "marker": {
             "colorbar": {
              "outlinewidth": 0,
              "ticks": ""
             }
            },
            "type": "scatter"
           }
          ],
          "scatter3d": [
           {
            "line": {
             "colorbar": {
              "outlinewidth": 0,
              "ticks": ""
             }
            },
            "marker": {
             "colorbar": {
              "outlinewidth": 0,
              "ticks": ""
             }
            },
            "type": "scatter3d"
           }
          ],
          "scattercarpet": [
           {
            "marker": {
             "colorbar": {
              "outlinewidth": 0,
              "ticks": ""
             }
            },
            "type": "scattercarpet"
           }
          ],
          "scattergeo": [
           {
            "marker": {
             "colorbar": {
              "outlinewidth": 0,
              "ticks": ""
             }
            },
            "type": "scattergeo"
           }
          ],
          "scattergl": [
           {
            "marker": {
             "colorbar": {
              "outlinewidth": 0,
              "ticks": ""
             }
            },
            "type": "scattergl"
           }
          ],
          "scattermapbox": [
           {
            "marker": {
             "colorbar": {
              "outlinewidth": 0,
              "ticks": ""
             }
            },
            "type": "scattermapbox"
           }
          ],
          "scatterpolar": [
           {
            "marker": {
             "colorbar": {
              "outlinewidth": 0,
              "ticks": ""
             }
            },
            "type": "scatterpolar"
           }
          ],
          "scatterpolargl": [
           {
            "marker": {
             "colorbar": {
              "outlinewidth": 0,
              "ticks": ""
             }
            },
            "type": "scatterpolargl"
           }
          ],
          "scatterternary": [
           {
            "marker": {
             "colorbar": {
              "outlinewidth": 0,
              "ticks": ""
             }
            },
            "type": "scatterternary"
           }
          ],
          "surface": [
           {
            "colorbar": {
             "outlinewidth": 0,
             "ticks": ""
            },
            "colorscale": [
             [
              0,
              "#0d0887"
             ],
             [
              0.1111111111111111,
              "#46039f"
             ],
             [
              0.2222222222222222,
              "#7201a8"
             ],
             [
              0.3333333333333333,
              "#9c179e"
             ],
             [
              0.4444444444444444,
              "#bd3786"
             ],
             [
              0.5555555555555556,
              "#d8576b"
             ],
             [
              0.6666666666666666,
              "#ed7953"
             ],
             [
              0.7777777777777778,
              "#fb9f3a"
             ],
             [
              0.8888888888888888,
              "#fdca26"
             ],
             [
              1,
              "#f0f921"
             ]
            ],
            "type": "surface"
           }
          ],
          "table": [
           {
            "cells": {
             "fill": {
              "color": "#EBF0F8"
             },
             "line": {
              "color": "white"
             }
            },
            "header": {
             "fill": {
              "color": "#C8D4E3"
             },
             "line": {
              "color": "white"
             }
            },
            "type": "table"
           }
          ]
         },
         "layout": {
          "annotationdefaults": {
           "arrowcolor": "#2a3f5f",
           "arrowhead": 0,
           "arrowwidth": 1
          },
          "autotypenumbers": "strict",
          "coloraxis": {
           "colorbar": {
            "outlinewidth": 0,
            "ticks": ""
           }
          },
          "colorscale": {
           "diverging": [
            [
             0,
             "#8e0152"
            ],
            [
             0.1,
             "#c51b7d"
            ],
            [
             0.2,
             "#de77ae"
            ],
            [
             0.3,
             "#f1b6da"
            ],
            [
             0.4,
             "#fde0ef"
            ],
            [
             0.5,
             "#f7f7f7"
            ],
            [
             0.6,
             "#e6f5d0"
            ],
            [
             0.7,
             "#b8e186"
            ],
            [
             0.8,
             "#7fbc41"
            ],
            [
             0.9,
             "#4d9221"
            ],
            [
             1,
             "#276419"
            ]
           ],
           "sequential": [
            [
             0,
             "#0d0887"
            ],
            [
             0.1111111111111111,
             "#46039f"
            ],
            [
             0.2222222222222222,
             "#7201a8"
            ],
            [
             0.3333333333333333,
             "#9c179e"
            ],
            [
             0.4444444444444444,
             "#bd3786"
            ],
            [
             0.5555555555555556,
             "#d8576b"
            ],
            [
             0.6666666666666666,
             "#ed7953"
            ],
            [
             0.7777777777777778,
             "#fb9f3a"
            ],
            [
             0.8888888888888888,
             "#fdca26"
            ],
            [
             1,
             "#f0f921"
            ]
           ],
           "sequentialminus": [
            [
             0,
             "#0d0887"
            ],
            [
             0.1111111111111111,
             "#46039f"
            ],
            [
             0.2222222222222222,
             "#7201a8"
            ],
            [
             0.3333333333333333,
             "#9c179e"
            ],
            [
             0.4444444444444444,
             "#bd3786"
            ],
            [
             0.5555555555555556,
             "#d8576b"
            ],
            [
             0.6666666666666666,
             "#ed7953"
            ],
            [
             0.7777777777777778,
             "#fb9f3a"
            ],
            [
             0.8888888888888888,
             "#fdca26"
            ],
            [
             1,
             "#f0f921"
            ]
           ]
          },
          "colorway": [
           "#636efa",
           "#EF553B",
           "#00cc96",
           "#ab63fa",
           "#FFA15A",
           "#19d3f3",
           "#FF6692",
           "#B6E880",
           "#FF97FF",
           "#FECB52"
          ],
          "font": {
           "color": "#2a3f5f"
          },
          "geo": {
           "bgcolor": "white",
           "lakecolor": "white",
           "landcolor": "#E5ECF6",
           "showlakes": true,
           "showland": true,
           "subunitcolor": "white"
          },
          "hoverlabel": {
           "align": "left"
          },
          "hovermode": "closest",
          "mapbox": {
           "style": "light"
          },
          "paper_bgcolor": "white",
          "plot_bgcolor": "#E5ECF6",
          "polar": {
           "angularaxis": {
            "gridcolor": "white",
            "linecolor": "white",
            "ticks": ""
           },
           "bgcolor": "#E5ECF6",
           "radialaxis": {
            "gridcolor": "white",
            "linecolor": "white",
            "ticks": ""
           }
          },
          "scene": {
           "xaxis": {
            "backgroundcolor": "#E5ECF6",
            "gridcolor": "white",
            "gridwidth": 2,
            "linecolor": "white",
            "showbackground": true,
            "ticks": "",
            "zerolinecolor": "white"
           },
           "yaxis": {
            "backgroundcolor": "#E5ECF6",
            "gridcolor": "white",
            "gridwidth": 2,
            "linecolor": "white",
            "showbackground": true,
            "ticks": "",
            "zerolinecolor": "white"
           },
           "zaxis": {
            "backgroundcolor": "#E5ECF6",
            "gridcolor": "white",
            "gridwidth": 2,
            "linecolor": "white",
            "showbackground": true,
            "ticks": "",
            "zerolinecolor": "white"
           }
          },
          "shapedefaults": {
           "line": {
            "color": "#2a3f5f"
           }
          },
          "ternary": {
           "aaxis": {
            "gridcolor": "white",
            "linecolor": "white",
            "ticks": ""
           },
           "baxis": {
            "gridcolor": "white",
            "linecolor": "white",
            "ticks": ""
           },
           "bgcolor": "#E5ECF6",
           "caxis": {
            "gridcolor": "white",
            "linecolor": "white",
            "ticks": ""
           }
          },
          "title": {
           "x": 0.05
          },
          "xaxis": {
           "automargin": true,
           "gridcolor": "white",
           "linecolor": "white",
           "ticks": "",
           "title": {
            "standoff": 15
           },
           "zerolinecolor": "white",
           "zerolinewidth": 2
          },
          "yaxis": {
           "automargin": true,
           "gridcolor": "white",
           "linecolor": "white",
           "ticks": "",
           "title": {
            "standoff": 15
           },
           "zerolinecolor": "white",
           "zerolinewidth": 2
          }
         }
        },
        "xaxis": {
         "anchor": "y",
         "domain": [
          0,
          1
         ],
         "title": {
          "text": "Date"
         }
        },
        "yaxis": {
         "anchor": "x",
         "domain": [
          0,
          1
         ],
         "title": {
          "text": "value"
         }
        }
       }
      }
     },
     "metadata": {},
     "output_type": "display_data"
    }
   ],
   "source": [
    "px.line(x)"
   ]
  },
  {
   "cell_type": "code",
   "execution_count": null,
   "metadata": {},
   "outputs": [],
   "source": [
    "returns = (x+1).cumprod()"
   ]
  },
  {
   "cell_type": "code",
   "execution_count": null,
   "metadata": {},
   "outputs": [
    {
     "data": {
      "application/vnd.plotly.v1+json": {
       "config": {
        "plotlyServerURL": "https://plot.ly"
       },
       "data": [
        {
         "alignmentgroup": "True",
         "bingroup": "x",
         "hovertemplate": "variable=Close<br>value=%{x}<br>count=%{y}<extra></extra>",
         "legendgroup": "Close",
         "marker": {
          "color": "#636efa",
          "pattern": {
           "shape": ""
          }
         },
         "name": "Close",
         "offsetgroup": "Close",
         "orientation": "v",
         "showlegend": true,
         "type": "histogram",
         "x": [
          null,
          1.0073173269350562,
          1.0359153709196431,
          1.1182152680806305,
          1.2058867807374567,
          1.1115693721735163,
          1.1639831449735676,
          1.1707934695554372,
          1.1578990330991745,
          1.1320826438926541,
          1.157282383750767,
          1.1653671560162162,
          1.157885316770253,
          1.160146336502363,
          1.2069555671233647,
          1.2100935955449366,
          1.1841538430142737,
          1.1447853026524704,
          1.087370004329007,
          1.1507872001894859,
          1.1959794930846284,
          1.1711771922206333,
          1.1647367903388868,
          1.1678062371158504,
          1.1831398383078997,
          1.1640105776314105,
          1.1028406015379681,
          1.1122133705436146,
          1.118324915075851,
          1.0910560168182262,
          1.0937007592155328,
          1.078942658385126,
          1.0706112431075443,
          0.9790755729578222,
          0.9576167945407669,
          1.0167861102431532,
          0.9348424194533671,
          0.9256340791224756,
          0.9844608211464303,
          0.9406251066360932,
          0.8950765237335976,
          0.851555950243849,
          0.8193677408001899,
          0.7714759238282067,
          0.9230031366902424,
          0.9154390831069016,
          0.9586581482688311,
          0.9506145249901468,
          0.9700864429812198,
          0.9275250925183105,
          0.9616865296951821,
          0.8950216584179109,
          0.8973648924873985,
          0.9180974581969776,
          0.9073543108414523,
          0.8636556759841791,
          0.8775230517962025,
          0.847815072438943,
          0.8376474254450605,
          0.8709867192481568,
          0.9152609381032247,
          0.9067925268087311,
          0.9469421451936969,
          0.9477232232168595,
          0.9194266039239396,
          0.9370075085191775,
          0.9277169538509085,
          0.9619194563783929,
          1.0446030762045768,
          1.0033708714686296,
          1.012442215782609,
          1.0137166634661887,
          0.9792537179614982,
          0.9852281828406706,
          1.0196636956875182,
          0.98618740586751,
          0.9994929976468122,
          1.0115515744003778,
          0.9657014831700632,
          0.9515326826663729,
          0.9276895211930652,
          0.9721418850518099,
          0.9385148828859682,
          0.9230304857119334,
          0.9193855385733268,
          0.9092453242372874,
          0.9213450499776179,
          0.8619701566137118,
          0.8457459140394312,
          0.8083231687529975,
          0.7833837882359387,
          0.8081175910914776,
          0.7904271231371711,
          0.7918521995304323,
          0.7721062895055355,
          0.8040615722659834,
          0.7959768000005344,
          0.8310015295379461,
          0.8286035137889242,
          0.8483905728005857,
          0.8644503867001112,
          0.856735620770937,
          0.8549269053486314,
          0.8291927304794886,
          0.7849596606111855,
          0.8208750315308285,
          0.8292064468084103,
          0.8270962230582857,
          0.8205051088307057,
          0.8360442040481229,
          0.8357290630275342,
          0.8464173450673732,
          0.8212998195466378,
          0.8288501568010569,
          0.844923687029504,
          0.8541183946676257,
          0.8507200905411518,
          0.8546665460075772,
          0.8996944102279644,
          0.9315537623221133,
          0.9206599026207546,
          0.9437493350925908,
          0.9328418426984625,
          0.9313893336473582,
          0.9289501689115715,
          0.9302931146036072,
          0.9038190106980666,
          0.8833605206584633,
          0.8945420887225674,
          0.9002151289100729,
          0.9396111019297193,
          0.9160967978059217,
          0.8953231667457298,
          0.8915137072962162,
          0.8827712203317468,
          0.8855118097592004,
          0.9050796584165726,
          0.897940392849041,
          0.8896775592160673,
          0.8816202196084614,
          0.9011332029501472,
          0.8835386656621397,
          0.8865532471234172,
          0.9281690908884089,
          0.9416665440003095,
          0.9724570260723985,
          0.9725529567386977,
          0.9741698944645572,
          0.9792537179614983,
          0.9579730009119677,
          0.9780615682514482,
          0.9728955304171294,
          0.9699220143064647,
          0.9896953569892046,
          0.9827342364253497,
          0.940255100299818,
          0.9122189239841042,
          0.9441193414288658,
          0.9228523407082567,
          0.9321566953415993,
          0.9678391395780314,
          0.9708400883465392,
          0.9745536171297537,
          0.9607958046767991,
          0.9755401891782841,
          1.0015620724101724,
          1.0081531866377524,
          1.0059196831996375,
          1.0035901654590715,
          1.005207103184931,
          1.0317222724410844,
          1.0330240691463553,
          1.0343806475311605,
          1.0089069156392239,
          1.0181289722990368,
          1.0201706980407055,
          1.0357098768942745,
          1.0372993819622909,
          1.040725118746608,
          1.000548067703799,
          1.0131685121262377,
          1.0303794103852006,
          1.0327089281257666,
          1.0611425434355986,
          1.0843964045821899,
          1.06548635425999,
          1.0706249594364654,
          1.0626361178373154,
          1.062279827829962,
          1.0709264677642842,
          1.069638387387935,
          1.0725981871696781,
          1.087479567688075,
          1.0763527813035052,
          1.0851911989342735,
          1.1040738165986301,
          1.1114186598276814,
          1.1213395801732793,
          1.155199592658484,
          1.192307113288177,
          1.1843046389962575,
          1.1864011464174604,
          1.2250434740717875,
          1.246529685146686,
          1.4043602202374041,
          1.3955492352644787,
          1.4221740515158527,
          1.4758622719994838,
          1.5265083110916902,
          1.656124441226866,
          1.6059854044878463,
          1.663345921131775,
          1.685339218196012,
          1.674623419862178,
          1.5935704540907754,
          1.402496639499412,
          1.463406172615648,
          1.4573221443774067,
          1.4160900232776115,
          1.38864298001631,
          1.445290916645532,
          1.492264659577441,
          1.5023637249267154,
          1.5581073874809366,
          1.5852528387782672,
          1.5196979865098208,
          1.5292489005191439,
          1.4825493168933628,
          1.5580113731784857,
          1.568658589867712,
          1.5004727115308805,
          1.4862216130536605,
          1.390807985445969,
          1.3826410824792943,
          1.441207465162195,
          1.4647901836582964,
          1.375501816911763,
          1.3936308728469522,
          1.32426647749284,
          1.3134411994360893,
          1.3373939242684658,
          1.270153552629552,
          1.2778957512165694,
          1.2331830280167706,
          1.2860627378193958,
          1.382449221146696,
          1.462104459546529,
          1.4990201188436236,
          1.4915246469048908,
          1.4884003348122405,
          1.466681197054131,
          1.4481000877175931,
          1.64405223178053,
          1.6328431474224308
         ],
         "xaxis": "x",
         "yaxis": "y"
        }
       ],
       "layout": {
        "barmode": "relative",
        "legend": {
         "title": {
          "text": "variable"
         },
         "tracegroupgap": 0
        },
        "margin": {
         "t": 60
        },
        "template": {
         "data": {
          "bar": [
           {
            "error_x": {
             "color": "#2a3f5f"
            },
            "error_y": {
             "color": "#2a3f5f"
            },
            "marker": {
             "line": {
              "color": "#E5ECF6",
              "width": 0.5
             },
             "pattern": {
              "fillmode": "overlay",
              "size": 10,
              "solidity": 0.2
             }
            },
            "type": "bar"
           }
          ],
          "barpolar": [
           {
            "marker": {
             "line": {
              "color": "#E5ECF6",
              "width": 0.5
             },
             "pattern": {
              "fillmode": "overlay",
              "size": 10,
              "solidity": 0.2
             }
            },
            "type": "barpolar"
           }
          ],
          "carpet": [
           {
            "aaxis": {
             "endlinecolor": "#2a3f5f",
             "gridcolor": "white",
             "linecolor": "white",
             "minorgridcolor": "white",
             "startlinecolor": "#2a3f5f"
            },
            "baxis": {
             "endlinecolor": "#2a3f5f",
             "gridcolor": "white",
             "linecolor": "white",
             "minorgridcolor": "white",
             "startlinecolor": "#2a3f5f"
            },
            "type": "carpet"
           }
          ],
          "choropleth": [
           {
            "colorbar": {
             "outlinewidth": 0,
             "ticks": ""
            },
            "type": "choropleth"
           }
          ],
          "contour": [
           {
            "colorbar": {
             "outlinewidth": 0,
             "ticks": ""
            },
            "colorscale": [
             [
              0,
              "#0d0887"
             ],
             [
              0.1111111111111111,
              "#46039f"
             ],
             [
              0.2222222222222222,
              "#7201a8"
             ],
             [
              0.3333333333333333,
              "#9c179e"
             ],
             [
              0.4444444444444444,
              "#bd3786"
             ],
             [
              0.5555555555555556,
              "#d8576b"
             ],
             [
              0.6666666666666666,
              "#ed7953"
             ],
             [
              0.7777777777777778,
              "#fb9f3a"
             ],
             [
              0.8888888888888888,
              "#fdca26"
             ],
             [
              1,
              "#f0f921"
             ]
            ],
            "type": "contour"
           }
          ],
          "contourcarpet": [
           {
            "colorbar": {
             "outlinewidth": 0,
             "ticks": ""
            },
            "type": "contourcarpet"
           }
          ],
          "heatmap": [
           {
            "colorbar": {
             "outlinewidth": 0,
             "ticks": ""
            },
            "colorscale": [
             [
              0,
              "#0d0887"
             ],
             [
              0.1111111111111111,
              "#46039f"
             ],
             [
              0.2222222222222222,
              "#7201a8"
             ],
             [
              0.3333333333333333,
              "#9c179e"
             ],
             [
              0.4444444444444444,
              "#bd3786"
             ],
             [
              0.5555555555555556,
              "#d8576b"
             ],
             [
              0.6666666666666666,
              "#ed7953"
             ],
             [
              0.7777777777777778,
              "#fb9f3a"
             ],
             [
              0.8888888888888888,
              "#fdca26"
             ],
             [
              1,
              "#f0f921"
             ]
            ],
            "type": "heatmap"
           }
          ],
          "heatmapgl": [
           {
            "colorbar": {
             "outlinewidth": 0,
             "ticks": ""
            },
            "colorscale": [
             [
              0,
              "#0d0887"
             ],
             [
              0.1111111111111111,
              "#46039f"
             ],
             [
              0.2222222222222222,
              "#7201a8"
             ],
             [
              0.3333333333333333,
              "#9c179e"
             ],
             [
              0.4444444444444444,
              "#bd3786"
             ],
             [
              0.5555555555555556,
              "#d8576b"
             ],
             [
              0.6666666666666666,
              "#ed7953"
             ],
             [
              0.7777777777777778,
              "#fb9f3a"
             ],
             [
              0.8888888888888888,
              "#fdca26"
             ],
             [
              1,
              "#f0f921"
             ]
            ],
            "type": "heatmapgl"
           }
          ],
          "histogram": [
           {
            "marker": {
             "pattern": {
              "fillmode": "overlay",
              "size": 10,
              "solidity": 0.2
             }
            },
            "type": "histogram"
           }
          ],
          "histogram2d": [
           {
            "colorbar": {
             "outlinewidth": 0,
             "ticks": ""
            },
            "colorscale": [
             [
              0,
              "#0d0887"
             ],
             [
              0.1111111111111111,
              "#46039f"
             ],
             [
              0.2222222222222222,
              "#7201a8"
             ],
             [
              0.3333333333333333,
              "#9c179e"
             ],
             [
              0.4444444444444444,
              "#bd3786"
             ],
             [
              0.5555555555555556,
              "#d8576b"
             ],
             [
              0.6666666666666666,
              "#ed7953"
             ],
             [
              0.7777777777777778,
              "#fb9f3a"
             ],
             [
              0.8888888888888888,
              "#fdca26"
             ],
             [
              1,
              "#f0f921"
             ]
            ],
            "type": "histogram2d"
           }
          ],
          "histogram2dcontour": [
           {
            "colorbar": {
             "outlinewidth": 0,
             "ticks": ""
            },
            "colorscale": [
             [
              0,
              "#0d0887"
             ],
             [
              0.1111111111111111,
              "#46039f"
             ],
             [
              0.2222222222222222,
              "#7201a8"
             ],
             [
              0.3333333333333333,
              "#9c179e"
             ],
             [
              0.4444444444444444,
              "#bd3786"
             ],
             [
              0.5555555555555556,
              "#d8576b"
             ],
             [
              0.6666666666666666,
              "#ed7953"
             ],
             [
              0.7777777777777778,
              "#fb9f3a"
             ],
             [
              0.8888888888888888,
              "#fdca26"
             ],
             [
              1,
              "#f0f921"
             ]
            ],
            "type": "histogram2dcontour"
           }
          ],
          "mesh3d": [
           {
            "colorbar": {
             "outlinewidth": 0,
             "ticks": ""
            },
            "type": "mesh3d"
           }
          ],
          "parcoords": [
           {
            "line": {
             "colorbar": {
              "outlinewidth": 0,
              "ticks": ""
             }
            },
            "type": "parcoords"
           }
          ],
          "pie": [
           {
            "automargin": true,
            "type": "pie"
           }
          ],
          "scatter": [
           {
            "marker": {
             "colorbar": {
              "outlinewidth": 0,
              "ticks": ""
             }
            },
            "type": "scatter"
           }
          ],
          "scatter3d": [
           {
            "line": {
             "colorbar": {
              "outlinewidth": 0,
              "ticks": ""
             }
            },
            "marker": {
             "colorbar": {
              "outlinewidth": 0,
              "ticks": ""
             }
            },
            "type": "scatter3d"
           }
          ],
          "scattercarpet": [
           {
            "marker": {
             "colorbar": {
              "outlinewidth": 0,
              "ticks": ""
             }
            },
            "type": "scattercarpet"
           }
          ],
          "scattergeo": [
           {
            "marker": {
             "colorbar": {
              "outlinewidth": 0,
              "ticks": ""
             }
            },
            "type": "scattergeo"
           }
          ],
          "scattergl": [
           {
            "marker": {
             "colorbar": {
              "outlinewidth": 0,
              "ticks": ""
             }
            },
            "type": "scattergl"
           }
          ],
          "scattermapbox": [
           {
            "marker": {
             "colorbar": {
              "outlinewidth": 0,
              "ticks": ""
             }
            },
            "type": "scattermapbox"
           }
          ],
          "scatterpolar": [
           {
            "marker": {
             "colorbar": {
              "outlinewidth": 0,
              "ticks": ""
             }
            },
            "type": "scatterpolar"
           }
          ],
          "scatterpolargl": [
           {
            "marker": {
             "colorbar": {
              "outlinewidth": 0,
              "ticks": ""
             }
            },
            "type": "scatterpolargl"
           }
          ],
          "scatterternary": [
           {
            "marker": {
             "colorbar": {
              "outlinewidth": 0,
              "ticks": ""
             }
            },
            "type": "scatterternary"
           }
          ],
          "surface": [
           {
            "colorbar": {
             "outlinewidth": 0,
             "ticks": ""
            },
            "colorscale": [
             [
              0,
              "#0d0887"
             ],
             [
              0.1111111111111111,
              "#46039f"
             ],
             [
              0.2222222222222222,
              "#7201a8"
             ],
             [
              0.3333333333333333,
              "#9c179e"
             ],
             [
              0.4444444444444444,
              "#bd3786"
             ],
             [
              0.5555555555555556,
              "#d8576b"
             ],
             [
              0.6666666666666666,
              "#ed7953"
             ],
             [
              0.7777777777777778,
              "#fb9f3a"
             ],
             [
              0.8888888888888888,
              "#fdca26"
             ],
             [
              1,
              "#f0f921"
             ]
            ],
            "type": "surface"
           }
          ],
          "table": [
           {
            "cells": {
             "fill": {
              "color": "#EBF0F8"
             },
             "line": {
              "color": "white"
             }
            },
            "header": {
             "fill": {
              "color": "#C8D4E3"
             },
             "line": {
              "color": "white"
             }
            },
            "type": "table"
           }
          ]
         },
         "layout": {
          "annotationdefaults": {
           "arrowcolor": "#2a3f5f",
           "arrowhead": 0,
           "arrowwidth": 1
          },
          "autotypenumbers": "strict",
          "coloraxis": {
           "colorbar": {
            "outlinewidth": 0,
            "ticks": ""
           }
          },
          "colorscale": {
           "diverging": [
            [
             0,
             "#8e0152"
            ],
            [
             0.1,
             "#c51b7d"
            ],
            [
             0.2,
             "#de77ae"
            ],
            [
             0.3,
             "#f1b6da"
            ],
            [
             0.4,
             "#fde0ef"
            ],
            [
             0.5,
             "#f7f7f7"
            ],
            [
             0.6,
             "#e6f5d0"
            ],
            [
             0.7,
             "#b8e186"
            ],
            [
             0.8,
             "#7fbc41"
            ],
            [
             0.9,
             "#4d9221"
            ],
            [
             1,
             "#276419"
            ]
           ],
           "sequential": [
            [
             0,
             "#0d0887"
            ],
            [
             0.1111111111111111,
             "#46039f"
            ],
            [
             0.2222222222222222,
             "#7201a8"
            ],
            [
             0.3333333333333333,
             "#9c179e"
            ],
            [
             0.4444444444444444,
             "#bd3786"
            ],
            [
             0.5555555555555556,
             "#d8576b"
            ],
            [
             0.6666666666666666,
             "#ed7953"
            ],
            [
             0.7777777777777778,
             "#fb9f3a"
            ],
            [
             0.8888888888888888,
             "#fdca26"
            ],
            [
             1,
             "#f0f921"
            ]
           ],
           "sequentialminus": [
            [
             0,
             "#0d0887"
            ],
            [
             0.1111111111111111,
             "#46039f"
            ],
            [
             0.2222222222222222,
             "#7201a8"
            ],
            [
             0.3333333333333333,
             "#9c179e"
            ],
            [
             0.4444444444444444,
             "#bd3786"
            ],
            [
             0.5555555555555556,
             "#d8576b"
            ],
            [
             0.6666666666666666,
             "#ed7953"
            ],
            [
             0.7777777777777778,
             "#fb9f3a"
            ],
            [
             0.8888888888888888,
             "#fdca26"
            ],
            [
             1,
             "#f0f921"
            ]
           ]
          },
          "colorway": [
           "#636efa",
           "#EF553B",
           "#00cc96",
           "#ab63fa",
           "#FFA15A",
           "#19d3f3",
           "#FF6692",
           "#B6E880",
           "#FF97FF",
           "#FECB52"
          ],
          "font": {
           "color": "#2a3f5f"
          },
          "geo": {
           "bgcolor": "white",
           "lakecolor": "white",
           "landcolor": "#E5ECF6",
           "showlakes": true,
           "showland": true,
           "subunitcolor": "white"
          },
          "hoverlabel": {
           "align": "left"
          },
          "hovermode": "closest",
          "mapbox": {
           "style": "light"
          },
          "paper_bgcolor": "white",
          "plot_bgcolor": "#E5ECF6",
          "polar": {
           "angularaxis": {
            "gridcolor": "white",
            "linecolor": "white",
            "ticks": ""
           },
           "bgcolor": "#E5ECF6",
           "radialaxis": {
            "gridcolor": "white",
            "linecolor": "white",
            "ticks": ""
           }
          },
          "scene": {
           "xaxis": {
            "backgroundcolor": "#E5ECF6",
            "gridcolor": "white",
            "gridwidth": 2,
            "linecolor": "white",
            "showbackground": true,
            "ticks": "",
            "zerolinecolor": "white"
           },
           "yaxis": {
            "backgroundcolor": "#E5ECF6",
            "gridcolor": "white",
            "gridwidth": 2,
            "linecolor": "white",
            "showbackground": true,
            "ticks": "",
            "zerolinecolor": "white"
           },
           "zaxis": {
            "backgroundcolor": "#E5ECF6",
            "gridcolor": "white",
            "gridwidth": 2,
            "linecolor": "white",
            "showbackground": true,
            "ticks": "",
            "zerolinecolor": "white"
           }
          },
          "shapedefaults": {
           "line": {
            "color": "#2a3f5f"
           }
          },
          "ternary": {
           "aaxis": {
            "gridcolor": "white",
            "linecolor": "white",
            "ticks": ""
           },
           "baxis": {
            "gridcolor": "white",
            "linecolor": "white",
            "ticks": ""
           },
           "bgcolor": "#E5ECF6",
           "caxis": {
            "gridcolor": "white",
            "linecolor": "white",
            "ticks": ""
           }
          },
          "title": {
           "x": 0.05
          },
          "xaxis": {
           "automargin": true,
           "gridcolor": "white",
           "linecolor": "white",
           "ticks": "",
           "title": {
            "standoff": 15
           },
           "zerolinecolor": "white",
           "zerolinewidth": 2
          },
          "yaxis": {
           "automargin": true,
           "gridcolor": "white",
           "linecolor": "white",
           "ticks": "",
           "title": {
            "standoff": 15
           },
           "zerolinecolor": "white",
           "zerolinewidth": 2
          }
         }
        },
        "xaxis": {
         "anchor": "y",
         "domain": [
          0,
          1
         ],
         "title": {
          "text": "value"
         }
        },
        "yaxis": {
         "anchor": "x",
         "domain": [
          0,
          1
         ],
         "title": {
          "text": "count"
         }
        }
       }
      }
     },
     "metadata": {},
     "output_type": "display_data"
    }
   ],
   "source": [
    "px.histogram(returns)"
   ]
  },
  {
   "cell_type": "markdown",
   "metadata": {},
   "source": [
    "# Analyzing a Portfolio"
   ]
  },
  {
   "cell_type": "code",
   "execution_count": null,
   "metadata": {},
   "outputs": [],
   "source": [
    "stocks = ['AAPL','AMZN','MSFT','TSLA']\n",
    "weights = [0.3,0.2,0.4,0.1]"
   ]
  },
  {
   "cell_type": "code",
   "execution_count": null,
   "metadata": {},
   "outputs": [
    {
     "name": "stdout",
     "output_type": "stream",
     "text": [
      "[*********************100%***********************]  4 of 4 completed\n"
     ]
    }
   ],
   "source": [
    "data = yf.download(stocks, start='2021-01-01')"
   ]
  },
  {
   "cell_type": "code",
   "execution_count": null,
   "metadata": {},
   "outputs": [],
   "source": [
    "# daily return\n",
    "x = data['Close'].pct_change()"
   ]
  },
  {
   "cell_type": "code",
   "execution_count": null,
   "metadata": {},
   "outputs": [],
   "source": [
    "# portfolio return\n",
    "ret = (x*weights).sum(axis=1)"
   ]
  },
  {
   "cell_type": "code",
   "execution_count": null,
   "metadata": {},
   "outputs": [],
   "source": [
    "# total cumulative return\n",
    "cumulative = (ret + 1).cumprod()"
   ]
  },
  {
   "cell_type": "code",
   "execution_count": null,
   "metadata": {},
   "outputs": [
    {
     "data": {
      "application/vnd.plotly.v1+json": {
       "config": {
        "plotlyServerURL": "https://plot.ly"
       },
       "data": [
        {
         "hovertemplate": "variable=0<br>Date=%{x}<br>value=%{y}<extra></extra>",
         "legendgroup": "0",
         "line": {
          "color": "#636efa",
          "dash": "solid"
         },
         "marker": {
          "symbol": "circle"
         },
         "mode": "lines",
         "name": "0",
         "orientation": "v",
         "showlegend": true,
         "type": "scatter",
         "x": [
          "2021-01-04T00:00:00",
          "2021-01-05T00:00:00",
          "2021-01-06T00:00:00",
          "2021-01-07T00:00:00",
          "2021-01-08T00:00:00",
          "2021-01-11T00:00:00",
          "2021-01-12T00:00:00",
          "2021-01-13T00:00:00",
          "2021-01-14T00:00:00",
          "2021-01-15T00:00:00",
          "2021-01-19T00:00:00",
          "2021-01-20T00:00:00",
          "2021-01-21T00:00:00",
          "2021-01-22T00:00:00",
          "2021-01-25T00:00:00",
          "2021-01-26T00:00:00",
          "2021-01-27T00:00:00",
          "2021-01-28T00:00:00",
          "2021-01-29T00:00:00",
          "2021-02-01T00:00:00",
          "2021-02-02T00:00:00",
          "2021-02-03T00:00:00",
          "2021-02-04T00:00:00",
          "2021-02-05T00:00:00",
          "2021-02-08T00:00:00",
          "2021-02-09T00:00:00",
          "2021-02-10T00:00:00",
          "2021-02-11T00:00:00",
          "2021-02-12T00:00:00",
          "2021-02-16T00:00:00",
          "2021-02-17T00:00:00",
          "2021-02-18T00:00:00",
          "2021-02-19T00:00:00",
          "2021-02-22T00:00:00",
          "2021-02-23T00:00:00",
          "2021-02-24T00:00:00",
          "2021-02-25T00:00:00",
          "2021-02-26T00:00:00",
          "2021-03-01T00:00:00",
          "2021-03-02T00:00:00",
          "2021-03-03T00:00:00",
          "2021-03-04T00:00:00",
          "2021-03-05T00:00:00",
          "2021-03-08T00:00:00",
          "2021-03-09T00:00:00",
          "2021-03-10T00:00:00",
          "2021-03-11T00:00:00",
          "2021-03-12T00:00:00",
          "2021-03-15T00:00:00",
          "2021-03-16T00:00:00",
          "2021-03-17T00:00:00",
          "2021-03-18T00:00:00",
          "2021-03-19T00:00:00",
          "2021-03-22T00:00:00",
          "2021-03-23T00:00:00",
          "2021-03-24T00:00:00",
          "2021-03-25T00:00:00",
          "2021-03-26T00:00:00",
          "2021-03-29T00:00:00",
          "2021-03-30T00:00:00",
          "2021-03-31T00:00:00",
          "2021-04-01T00:00:00",
          "2021-04-05T00:00:00",
          "2021-04-06T00:00:00",
          "2021-04-07T00:00:00",
          "2021-04-08T00:00:00",
          "2021-04-09T00:00:00",
          "2021-04-12T00:00:00",
          "2021-04-13T00:00:00",
          "2021-04-14T00:00:00",
          "2021-04-15T00:00:00",
          "2021-04-16T00:00:00",
          "2021-04-19T00:00:00",
          "2021-04-20T00:00:00",
          "2021-04-21T00:00:00",
          "2021-04-22T00:00:00",
          "2021-04-23T00:00:00",
          "2021-04-26T00:00:00",
          "2021-04-27T00:00:00",
          "2021-04-28T00:00:00",
          "2021-04-29T00:00:00",
          "2021-04-30T00:00:00",
          "2021-05-03T00:00:00",
          "2021-05-04T00:00:00",
          "2021-05-05T00:00:00",
          "2021-05-06T00:00:00",
          "2021-05-07T00:00:00",
          "2021-05-10T00:00:00",
          "2021-05-11T00:00:00",
          "2021-05-12T00:00:00",
          "2021-05-13T00:00:00",
          "2021-05-14T00:00:00",
          "2021-05-17T00:00:00",
          "2021-05-18T00:00:00",
          "2021-05-19T00:00:00",
          "2021-05-20T00:00:00",
          "2021-05-21T00:00:00",
          "2021-05-24T00:00:00",
          "2021-05-25T00:00:00",
          "2021-05-26T00:00:00",
          "2021-05-27T00:00:00",
          "2021-05-28T00:00:00",
          "2021-06-01T00:00:00",
          "2021-06-02T00:00:00",
          "2021-06-03T00:00:00",
          "2021-06-04T00:00:00",
          "2021-06-07T00:00:00",
          "2021-06-08T00:00:00",
          "2021-06-09T00:00:00",
          "2021-06-10T00:00:00",
          "2021-06-11T00:00:00",
          "2021-06-14T00:00:00",
          "2021-06-15T00:00:00",
          "2021-06-16T00:00:00",
          "2021-06-17T00:00:00",
          "2021-06-18T00:00:00",
          "2021-06-21T00:00:00",
          "2021-06-22T00:00:00",
          "2021-06-23T00:00:00",
          "2021-06-24T00:00:00",
          "2021-06-25T00:00:00",
          "2021-06-28T00:00:00",
          "2021-06-29T00:00:00",
          "2021-06-30T00:00:00",
          "2021-07-01T00:00:00",
          "2021-07-02T00:00:00",
          "2021-07-06T00:00:00",
          "2021-07-07T00:00:00",
          "2021-07-08T00:00:00",
          "2021-07-09T00:00:00",
          "2021-07-12T00:00:00",
          "2021-07-13T00:00:00",
          "2021-07-14T00:00:00",
          "2021-07-15T00:00:00",
          "2021-07-16T00:00:00",
          "2021-07-19T00:00:00",
          "2021-07-20T00:00:00",
          "2021-07-21T00:00:00",
          "2021-07-22T00:00:00",
          "2021-07-23T00:00:00",
          "2021-07-26T00:00:00",
          "2021-07-27T00:00:00",
          "2021-07-28T00:00:00",
          "2021-07-29T00:00:00",
          "2021-07-30T00:00:00",
          "2021-08-02T00:00:00",
          "2021-08-03T00:00:00",
          "2021-08-04T00:00:00",
          "2021-08-05T00:00:00",
          "2021-08-06T00:00:00",
          "2021-08-09T00:00:00",
          "2021-08-10T00:00:00",
          "2021-08-11T00:00:00",
          "2021-08-12T00:00:00",
          "2021-08-13T00:00:00",
          "2021-08-16T00:00:00",
          "2021-08-17T00:00:00",
          "2021-08-18T00:00:00",
          "2021-08-19T00:00:00",
          "2021-08-20T00:00:00",
          "2021-08-23T00:00:00",
          "2021-08-24T00:00:00",
          "2021-08-25T00:00:00",
          "2021-08-26T00:00:00",
          "2021-08-27T00:00:00",
          "2021-08-30T00:00:00",
          "2021-08-31T00:00:00",
          "2021-09-01T00:00:00",
          "2021-09-02T00:00:00",
          "2021-09-03T00:00:00",
          "2021-09-07T00:00:00",
          "2021-09-08T00:00:00",
          "2021-09-09T00:00:00",
          "2021-09-10T00:00:00",
          "2021-09-13T00:00:00",
          "2021-09-14T00:00:00",
          "2021-09-15T00:00:00",
          "2021-09-16T00:00:00",
          "2021-09-17T00:00:00",
          "2021-09-20T00:00:00",
          "2021-09-21T00:00:00",
          "2021-09-22T00:00:00",
          "2021-09-23T00:00:00",
          "2021-09-24T00:00:00",
          "2021-09-27T00:00:00",
          "2021-09-28T00:00:00",
          "2021-09-29T00:00:00",
          "2021-09-30T00:00:00",
          "2021-10-01T00:00:00",
          "2021-10-04T00:00:00",
          "2021-10-05T00:00:00",
          "2021-10-06T00:00:00",
          "2021-10-07T00:00:00",
          "2021-10-08T00:00:00",
          "2021-10-11T00:00:00",
          "2021-10-12T00:00:00",
          "2021-10-13T00:00:00",
          "2021-10-14T00:00:00",
          "2021-10-15T00:00:00",
          "2021-10-18T00:00:00",
          "2021-10-19T00:00:00",
          "2021-10-20T00:00:00",
          "2021-10-21T00:00:00",
          "2021-10-22T00:00:00",
          "2021-10-25T00:00:00",
          "2021-10-26T00:00:00",
          "2021-10-27T00:00:00",
          "2021-10-28T00:00:00",
          "2021-10-29T00:00:00",
          "2021-11-01T00:00:00",
          "2021-11-02T00:00:00",
          "2021-11-03T00:00:00",
          "2021-11-04T00:00:00",
          "2021-11-05T00:00:00",
          "2021-11-08T00:00:00",
          "2021-11-09T00:00:00",
          "2021-11-10T00:00:00",
          "2021-11-11T00:00:00",
          "2021-11-12T00:00:00",
          "2021-11-15T00:00:00",
          "2021-11-16T00:00:00",
          "2021-11-17T00:00:00",
          "2021-11-18T00:00:00",
          "2021-11-19T00:00:00",
          "2021-11-22T00:00:00",
          "2021-11-23T00:00:00",
          "2021-11-24T00:00:00",
          "2021-11-26T00:00:00",
          "2021-11-29T00:00:00",
          "2021-11-30T00:00:00",
          "2021-12-01T00:00:00",
          "2021-12-02T00:00:00",
          "2021-12-03T00:00:00",
          "2021-12-06T00:00:00",
          "2021-12-07T00:00:00",
          "2021-12-08T00:00:00",
          "2021-12-09T00:00:00",
          "2021-12-10T00:00:00",
          "2021-12-13T00:00:00",
          "2021-12-14T00:00:00",
          "2021-12-15T00:00:00",
          "2021-12-16T00:00:00",
          "2021-12-17T00:00:00",
          "2021-12-20T00:00:00",
          "2021-12-21T00:00:00",
          "2021-12-22T00:00:00",
          "2021-12-23T00:00:00",
          "2021-12-27T00:00:00",
          "2021-12-28T00:00:00",
          "2021-12-29T00:00:00",
          "2021-12-30T00:00:00",
          "2021-12-31T00:00:00",
          "2022-01-03T00:00:00",
          "2022-01-04T00:00:00"
         ],
         "xaxis": "x",
         "y": [
          1,
          1.0068275748463944,
          0.9840627234640339,
          1.0146472402072353,
          1.0290206608531178,
          1.005374420644287,
          1.0053880051018136,
          1.0164119741218363,
          1.0019737590703557,
          0.9934284798881629,
          1.0053962138478814,
          1.0398766634444372,
          1.0545924532744961,
          1.0607799413073113,
          1.0807068358404492,
          1.088913874392105,
          1.0790128850828171,
          1.0756118583440828,
          1.0435035914408672,
          1.077495778500965,
          1.085916690911204,
          1.0831247454542758,
          1.0903415454924614,
          1.0908559669305757,
          1.0912325844317574,
          1.088478200927316,
          1.0783595420728675,
          1.080016871904963,
          1.0831008932684436,
          1.0723670388382633,
          1.0704348248898339,
          1.0667656859515204,
          1.0563795643888214,
          1.0220799628970305,
          1.0182217190649723,
          1.023280917574683,
          0.9880228115553283,
          0.9958738469362904,
          1.029534993087315,
          1.0097839287918,
          0.9807445625249335,
          0.9681024058779354,
          0.9773679272286871,
          0.9491692021527678,
          0.9971880502083789,
          0.9909688849854874,
          1.0122129475540862,
          1.005124835296525,
          1.0124470384366397,
          1.0175461129183982,
          1.021065014682916,
          0.9856950831353375,
          0.9870540273659636,
          1.0096975762113332,
          1.0108792346096904,
          0.9930897059059597,
          0.9880353837706107,
          0.99363092323599,
          0.9923410720918113,
          0.9855974531101674,
          1.0053242963433557,
          1.0220644011890228,
          1.0494056810415344,
          1.0480388904362132,
          1.056183195617382,
          1.071243000119353,
          1.0858223017199584,
          1.0860796981571292,
          1.1090394717874013,
          1.0893741313214231,
          1.1061519237555906,
          1.1088988672959423,
          1.1016232838438993,
          1.0947993433345553,
          1.105316568244525,
          1.0885436152224535,
          1.1047363540646156,
          1.112238049278411,
          1.10764384203238,
          1.0941460041325513,
          1.0884446014578486,
          1.0879056710503567,
          1.0811932413275425,
          1.0561783540114698,
          1.0514942603981656,
          1.0622401006175433,
          1.0685046118456962,
          1.0378432876265182,
          1.034161352809423,
          1.0050846188590874,
          1.0147737061048405,
          1.0365140349836253,
          1.0294584314386739,
          1.0202447096367486,
          1.0173451987367577,
          1.0345924541716605,
          1.0239277585109217,
          1.0445744014284453,
          1.046251219999977,
          1.048635897678524,
          1.0408400070291242,
          1.038405357844358,
          1.0332833644161035,
          1.032936463678055,
          1.0180023994033474,
          1.0381155791345087,
          1.043662684766498,
          1.0477608529176694,
          1.0506795965283282,
          1.0605765241169798,
          1.0645584674790152,
          1.0794280379784322,
          1.0715509431841714,
          1.0742095702872496,
          1.0908844396098343,
          1.0861640138768347,
          1.093634496927723,
          1.1063652058680586,
          1.1109981046154402,
          1.1131168676778072,
          1.1052024156611755,
          1.1210632110714067,
          1.128384199502813,
          1.1284190303703012,
          1.1295844049060826,
          1.1515868939643183,
          1.1642193369542175,
          1.1729825414907922,
          1.1692333851573073,
          1.1746744079167646,
          1.1772356869291822,
          1.180682576857489,
          1.1893907625755855,
          1.1815278677521484,
          1.1711625525516598,
          1.1542534908110593,
          1.1711832946095404,
          1.1727322527008053,
          1.18639844596658,
          1.1966593579822602,
          1.2021486978937237,
          1.1854804231869296,
          1.1812748434252518,
          1.1869170184981683,
          1.1685883073184924,
          1.1717177152877754,
          1.1824037855199576,
          1.1797993238488236,
          1.1871338558038809,
          1.180043943770783,
          1.180338074133919,
          1.173935285937305,
          1.173021436670771,
          1.1882112914515703,
          1.1921783528315857,
          1.1950835974137375,
          1.1827154040457635,
          1.171037418930076,
          1.1779616013245018,
          1.1956909013780312,
          1.209329307920223,
          1.2092185367730202,
          1.2051683059183058,
          1.1980365591897584,
          1.2058967305966457,
          1.2315254173343007,
          1.229991773737993,
          1.2318722621265854,
          1.2321147374051868,
          1.2349229989944994,
          1.244562557472956,
          1.2421542019372374,
          1.2320067454494263,
          1.2131235048394982,
          1.2169119133118314,
          1.2177495445431694,
          1.2318422424285105,
          1.2329651994813837,
          1.2161227099010934,
          1.1870974605611602,
          1.1897662390000012,
          1.2065036697860436,
          1.2133589325945273,
          1.2172588634138384,
          1.206246802587226,
          1.1716982284177464,
          1.1742868957504646,
          1.1655460941460756,
          1.180096218150043,
          1.1558453829972646,
          1.172105288363816,
          1.184694866550796,
          1.1953162929584429,
          1.1921175795846302,
          1.188800372242533,
          1.1855160385749328,
          1.1930482014067216,
          1.2128560071673116,
          1.229615699860333,
          1.2456214574934363,
          1.2517576018083478,
          1.2497948182423295,
          1.2613262342187104,
          1.251636726341709,
          1.2645509577485405,
          1.2729860443275114,
          1.2968952059793926,
          1.317543475921471,
          1.3210327117986045,
          1.3221865404159252,
          1.326616562611326,
          1.3423468853522051,
          1.3540135886490254,
          1.3566723225404596,
          1.347033821837487,
          1.3369506806421445,
          1.3198311510329102,
          1.3210259921762617,
          1.333795267703496,
          1.3317604166105097,
          1.3449353326432445,
          1.3559725284988822,
          1.3831746055581313,
          1.3968752547324417,
          1.3872915000783677,
          1.3796320392036279,
          1.3822625348314237,
          1.3455821568165955,
          1.3769853895769857,
          1.3768741193552418,
          1.3637408786527598,
          1.3584590386451563,
          1.3305131950202045,
          1.3465044081973547,
          1.3884782490019507,
          1.4003130241125201,
          1.3842435507653148,
          1.410278971509915,
          1.385010348823862,
          1.3617136164084225,
          1.3931134763054076,
          1.346320075655623,
          1.3445195045476646,
          1.3254304815958893,
          1.3562301199645475,
          1.3834101969439674,
          1.3954190023431008,
          1.4192191708639355,
          1.4157234472441005,
          1.4143794699024659,
          1.4042426291428238,
          1.3927983093009548,
          1.4256534498678262,
          1.422587055039604
         ],
         "yaxis": "y"
        }
       ],
       "layout": {
        "legend": {
         "title": {
          "text": "variable"
         },
         "tracegroupgap": 0
        },
        "margin": {
         "t": 60
        },
        "template": {
         "data": {
          "bar": [
           {
            "error_x": {
             "color": "#2a3f5f"
            },
            "error_y": {
             "color": "#2a3f5f"
            },
            "marker": {
             "line": {
              "color": "#E5ECF6",
              "width": 0.5
             },
             "pattern": {
              "fillmode": "overlay",
              "size": 10,
              "solidity": 0.2
             }
            },
            "type": "bar"
           }
          ],
          "barpolar": [
           {
            "marker": {
             "line": {
              "color": "#E5ECF6",
              "width": 0.5
             },
             "pattern": {
              "fillmode": "overlay",
              "size": 10,
              "solidity": 0.2
             }
            },
            "type": "barpolar"
           }
          ],
          "carpet": [
           {
            "aaxis": {
             "endlinecolor": "#2a3f5f",
             "gridcolor": "white",
             "linecolor": "white",
             "minorgridcolor": "white",
             "startlinecolor": "#2a3f5f"
            },
            "baxis": {
             "endlinecolor": "#2a3f5f",
             "gridcolor": "white",
             "linecolor": "white",
             "minorgridcolor": "white",
             "startlinecolor": "#2a3f5f"
            },
            "type": "carpet"
           }
          ],
          "choropleth": [
           {
            "colorbar": {
             "outlinewidth": 0,
             "ticks": ""
            },
            "type": "choropleth"
           }
          ],
          "contour": [
           {
            "colorbar": {
             "outlinewidth": 0,
             "ticks": ""
            },
            "colorscale": [
             [
              0,
              "#0d0887"
             ],
             [
              0.1111111111111111,
              "#46039f"
             ],
             [
              0.2222222222222222,
              "#7201a8"
             ],
             [
              0.3333333333333333,
              "#9c179e"
             ],
             [
              0.4444444444444444,
              "#bd3786"
             ],
             [
              0.5555555555555556,
              "#d8576b"
             ],
             [
              0.6666666666666666,
              "#ed7953"
             ],
             [
              0.7777777777777778,
              "#fb9f3a"
             ],
             [
              0.8888888888888888,
              "#fdca26"
             ],
             [
              1,
              "#f0f921"
             ]
            ],
            "type": "contour"
           }
          ],
          "contourcarpet": [
           {
            "colorbar": {
             "outlinewidth": 0,
             "ticks": ""
            },
            "type": "contourcarpet"
           }
          ],
          "heatmap": [
           {
            "colorbar": {
             "outlinewidth": 0,
             "ticks": ""
            },
            "colorscale": [
             [
              0,
              "#0d0887"
             ],
             [
              0.1111111111111111,
              "#46039f"
             ],
             [
              0.2222222222222222,
              "#7201a8"
             ],
             [
              0.3333333333333333,
              "#9c179e"
             ],
             [
              0.4444444444444444,
              "#bd3786"
             ],
             [
              0.5555555555555556,
              "#d8576b"
             ],
             [
              0.6666666666666666,
              "#ed7953"
             ],
             [
              0.7777777777777778,
              "#fb9f3a"
             ],
             [
              0.8888888888888888,
              "#fdca26"
             ],
             [
              1,
              "#f0f921"
             ]
            ],
            "type": "heatmap"
           }
          ],
          "heatmapgl": [
           {
            "colorbar": {
             "outlinewidth": 0,
             "ticks": ""
            },
            "colorscale": [
             [
              0,
              "#0d0887"
             ],
             [
              0.1111111111111111,
              "#46039f"
             ],
             [
              0.2222222222222222,
              "#7201a8"
             ],
             [
              0.3333333333333333,
              "#9c179e"
             ],
             [
              0.4444444444444444,
              "#bd3786"
             ],
             [
              0.5555555555555556,
              "#d8576b"
             ],
             [
              0.6666666666666666,
              "#ed7953"
             ],
             [
              0.7777777777777778,
              "#fb9f3a"
             ],
             [
              0.8888888888888888,
              "#fdca26"
             ],
             [
              1,
              "#f0f921"
             ]
            ],
            "type": "heatmapgl"
           }
          ],
          "histogram": [
           {
            "marker": {
             "pattern": {
              "fillmode": "overlay",
              "size": 10,
              "solidity": 0.2
             }
            },
            "type": "histogram"
           }
          ],
          "histogram2d": [
           {
            "colorbar": {
             "outlinewidth": 0,
             "ticks": ""
            },
            "colorscale": [
             [
              0,
              "#0d0887"
             ],
             [
              0.1111111111111111,
              "#46039f"
             ],
             [
              0.2222222222222222,
              "#7201a8"
             ],
             [
              0.3333333333333333,
              "#9c179e"
             ],
             [
              0.4444444444444444,
              "#bd3786"
             ],
             [
              0.5555555555555556,
              "#d8576b"
             ],
             [
              0.6666666666666666,
              "#ed7953"
             ],
             [
              0.7777777777777778,
              "#fb9f3a"
             ],
             [
              0.8888888888888888,
              "#fdca26"
             ],
             [
              1,
              "#f0f921"
             ]
            ],
            "type": "histogram2d"
           }
          ],
          "histogram2dcontour": [
           {
            "colorbar": {
             "outlinewidth": 0,
             "ticks": ""
            },
            "colorscale": [
             [
              0,
              "#0d0887"
             ],
             [
              0.1111111111111111,
              "#46039f"
             ],
             [
              0.2222222222222222,
              "#7201a8"
             ],
             [
              0.3333333333333333,
              "#9c179e"
             ],
             [
              0.4444444444444444,
              "#bd3786"
             ],
             [
              0.5555555555555556,
              "#d8576b"
             ],
             [
              0.6666666666666666,
              "#ed7953"
             ],
             [
              0.7777777777777778,
              "#fb9f3a"
             ],
             [
              0.8888888888888888,
              "#fdca26"
             ],
             [
              1,
              "#f0f921"
             ]
            ],
            "type": "histogram2dcontour"
           }
          ],
          "mesh3d": [
           {
            "colorbar": {
             "outlinewidth": 0,
             "ticks": ""
            },
            "type": "mesh3d"
           }
          ],
          "parcoords": [
           {
            "line": {
             "colorbar": {
              "outlinewidth": 0,
              "ticks": ""
             }
            },
            "type": "parcoords"
           }
          ],
          "pie": [
           {
            "automargin": true,
            "type": "pie"
           }
          ],
          "scatter": [
           {
            "marker": {
             "colorbar": {
              "outlinewidth": 0,
              "ticks": ""
             }
            },
            "type": "scatter"
           }
          ],
          "scatter3d": [
           {
            "line": {
             "colorbar": {
              "outlinewidth": 0,
              "ticks": ""
             }
            },
            "marker": {
             "colorbar": {
              "outlinewidth": 0,
              "ticks": ""
             }
            },
            "type": "scatter3d"
           }
          ],
          "scattercarpet": [
           {
            "marker": {
             "colorbar": {
              "outlinewidth": 0,
              "ticks": ""
             }
            },
            "type": "scattercarpet"
           }
          ],
          "scattergeo": [
           {
            "marker": {
             "colorbar": {
              "outlinewidth": 0,
              "ticks": ""
             }
            },
            "type": "scattergeo"
           }
          ],
          "scattergl": [
           {
            "marker": {
             "colorbar": {
              "outlinewidth": 0,
              "ticks": ""
             }
            },
            "type": "scattergl"
           }
          ],
          "scattermapbox": [
           {
            "marker": {
             "colorbar": {
              "outlinewidth": 0,
              "ticks": ""
             }
            },
            "type": "scattermapbox"
           }
          ],
          "scatterpolar": [
           {
            "marker": {
             "colorbar": {
              "outlinewidth": 0,
              "ticks": ""
             }
            },
            "type": "scatterpolar"
           }
          ],
          "scatterpolargl": [
           {
            "marker": {
             "colorbar": {
              "outlinewidth": 0,
              "ticks": ""
             }
            },
            "type": "scatterpolargl"
           }
          ],
          "scatterternary": [
           {
            "marker": {
             "colorbar": {
              "outlinewidth": 0,
              "ticks": ""
             }
            },
            "type": "scatterternary"
           }
          ],
          "surface": [
           {
            "colorbar": {
             "outlinewidth": 0,
             "ticks": ""
            },
            "colorscale": [
             [
              0,
              "#0d0887"
             ],
             [
              0.1111111111111111,
              "#46039f"
             ],
             [
              0.2222222222222222,
              "#7201a8"
             ],
             [
              0.3333333333333333,
              "#9c179e"
             ],
             [
              0.4444444444444444,
              "#bd3786"
             ],
             [
              0.5555555555555556,
              "#d8576b"
             ],
             [
              0.6666666666666666,
              "#ed7953"
             ],
             [
              0.7777777777777778,
              "#fb9f3a"
             ],
             [
              0.8888888888888888,
              "#fdca26"
             ],
             [
              1,
              "#f0f921"
             ]
            ],
            "type": "surface"
           }
          ],
          "table": [
           {
            "cells": {
             "fill": {
              "color": "#EBF0F8"
             },
             "line": {
              "color": "white"
             }
            },
            "header": {
             "fill": {
              "color": "#C8D4E3"
             },
             "line": {
              "color": "white"
             }
            },
            "type": "table"
           }
          ]
         },
         "layout": {
          "annotationdefaults": {
           "arrowcolor": "#2a3f5f",
           "arrowhead": 0,
           "arrowwidth": 1
          },
          "autotypenumbers": "strict",
          "coloraxis": {
           "colorbar": {
            "outlinewidth": 0,
            "ticks": ""
           }
          },
          "colorscale": {
           "diverging": [
            [
             0,
             "#8e0152"
            ],
            [
             0.1,
             "#c51b7d"
            ],
            [
             0.2,
             "#de77ae"
            ],
            [
             0.3,
             "#f1b6da"
            ],
            [
             0.4,
             "#fde0ef"
            ],
            [
             0.5,
             "#f7f7f7"
            ],
            [
             0.6,
             "#e6f5d0"
            ],
            [
             0.7,
             "#b8e186"
            ],
            [
             0.8,
             "#7fbc41"
            ],
            [
             0.9,
             "#4d9221"
            ],
            [
             1,
             "#276419"
            ]
           ],
           "sequential": [
            [
             0,
             "#0d0887"
            ],
            [
             0.1111111111111111,
             "#46039f"
            ],
            [
             0.2222222222222222,
             "#7201a8"
            ],
            [
             0.3333333333333333,
             "#9c179e"
            ],
            [
             0.4444444444444444,
             "#bd3786"
            ],
            [
             0.5555555555555556,
             "#d8576b"
            ],
            [
             0.6666666666666666,
             "#ed7953"
            ],
            [
             0.7777777777777778,
             "#fb9f3a"
            ],
            [
             0.8888888888888888,
             "#fdca26"
            ],
            [
             1,
             "#f0f921"
            ]
           ],
           "sequentialminus": [
            [
             0,
             "#0d0887"
            ],
            [
             0.1111111111111111,
             "#46039f"
            ],
            [
             0.2222222222222222,
             "#7201a8"
            ],
            [
             0.3333333333333333,
             "#9c179e"
            ],
            [
             0.4444444444444444,
             "#bd3786"
            ],
            [
             0.5555555555555556,
             "#d8576b"
            ],
            [
             0.6666666666666666,
             "#ed7953"
            ],
            [
             0.7777777777777778,
             "#fb9f3a"
            ],
            [
             0.8888888888888888,
             "#fdca26"
            ],
            [
             1,
             "#f0f921"
            ]
           ]
          },
          "colorway": [
           "#636efa",
           "#EF553B",
           "#00cc96",
           "#ab63fa",
           "#FFA15A",
           "#19d3f3",
           "#FF6692",
           "#B6E880",
           "#FF97FF",
           "#FECB52"
          ],
          "font": {
           "color": "#2a3f5f"
          },
          "geo": {
           "bgcolor": "white",
           "lakecolor": "white",
           "landcolor": "#E5ECF6",
           "showlakes": true,
           "showland": true,
           "subunitcolor": "white"
          },
          "hoverlabel": {
           "align": "left"
          },
          "hovermode": "closest",
          "mapbox": {
           "style": "light"
          },
          "paper_bgcolor": "white",
          "plot_bgcolor": "#E5ECF6",
          "polar": {
           "angularaxis": {
            "gridcolor": "white",
            "linecolor": "white",
            "ticks": ""
           },
           "bgcolor": "#E5ECF6",
           "radialaxis": {
            "gridcolor": "white",
            "linecolor": "white",
            "ticks": ""
           }
          },
          "scene": {
           "xaxis": {
            "backgroundcolor": "#E5ECF6",
            "gridcolor": "white",
            "gridwidth": 2,
            "linecolor": "white",
            "showbackground": true,
            "ticks": "",
            "zerolinecolor": "white"
           },
           "yaxis": {
            "backgroundcolor": "#E5ECF6",
            "gridcolor": "white",
            "gridwidth": 2,
            "linecolor": "white",
            "showbackground": true,
            "ticks": "",
            "zerolinecolor": "white"
           },
           "zaxis": {
            "backgroundcolor": "#E5ECF6",
            "gridcolor": "white",
            "gridwidth": 2,
            "linecolor": "white",
            "showbackground": true,
            "ticks": "",
            "zerolinecolor": "white"
           }
          },
          "shapedefaults": {
           "line": {
            "color": "#2a3f5f"
           }
          },
          "ternary": {
           "aaxis": {
            "gridcolor": "white",
            "linecolor": "white",
            "ticks": ""
           },
           "baxis": {
            "gridcolor": "white",
            "linecolor": "white",
            "ticks": ""
           },
           "bgcolor": "#E5ECF6",
           "caxis": {
            "gridcolor": "white",
            "linecolor": "white",
            "ticks": ""
           }
          },
          "title": {
           "x": 0.05
          },
          "xaxis": {
           "automargin": true,
           "gridcolor": "white",
           "linecolor": "white",
           "ticks": "",
           "title": {
            "standoff": 15
           },
           "zerolinecolor": "white",
           "zerolinewidth": 2
          },
          "yaxis": {
           "automargin": true,
           "gridcolor": "white",
           "linecolor": "white",
           "ticks": "",
           "title": {
            "standoff": 15
           },
           "zerolinecolor": "white",
           "zerolinewidth": 2
          }
         }
        },
        "xaxis": {
         "anchor": "y",
         "domain": [
          0,
          1
         ],
         "title": {
          "text": "Date"
         }
        },
        "yaxis": {
         "anchor": "x",
         "domain": [
          0,
          1
         ],
         "title": {
          "text": "value"
         }
        }
       }
      }
     },
     "metadata": {},
     "output_type": "display_data"
    }
   ],
   "source": [
    "px.line(cumulative)"
   ]
  },
  {
   "cell_type": "code",
   "execution_count": null,
   "metadata": {},
   "outputs": [
    {
     "name": "stdout",
     "output_type": "stream",
     "text": [
      "0.013286215454117617\n"
     ]
    }
   ],
   "source": [
    "print(np.std(ret))"
   ]
  },
  {
   "cell_type": "code",
   "execution_count": null,
   "metadata": {},
   "outputs": [
    {
     "name": "stdout",
     "output_type": "stream",
     "text": [
      "0.21091213174090986\n"
     ]
    }
   ],
   "source": [
    "annual_std = np.std(ret) * np.sqrt(252)\n",
    "print(annual_std)"
   ]
  },
  {
   "cell_type": "markdown",
   "metadata": {},
   "source": [
    "# Portfolio Optimization"
   ]
  },
  {
   "cell_type": "code",
   "execution_count": null,
   "metadata": {},
   "outputs": [
    {
     "name": "stdout",
     "output_type": "stream",
     "text": [
      "[*********************100%***********************]  4 of 4 completed\n"
     ]
    }
   ],
   "source": [
    "data = yf.download(stocks, start='2018-01-01')"
   ]
  },
  {
   "cell_type": "code",
   "execution_count": null,
   "metadata": {},
   "outputs": [],
   "source": [
    "data = data['Close']\n",
    "x = data.pct_change()"
   ]
  },
  {
   "cell_type": "code",
   "execution_count": null,
   "metadata": {},
   "outputs": [
    {
     "name": "stdout",
     "output_type": "stream",
     "text": [
      "[0.00275681 0.52337088 0.01983684 0.45403546]\n"
     ]
    }
   ],
   "source": [
    "# We are going to randomly assign a weight to each stock in our portfolio,\n",
    "# and then calculate the metrics for that portfolio, including the Sharpe ratio. \n",
    "\n",
    "wts = np.random.uniform(size =len(x.columns))\n",
    "wts = wts/np.sum(wts)\n",
    "\n",
    "print(wts)"
   ]
  },
  {
   "cell_type": "code",
   "execution_count": null,
   "metadata": {},
   "outputs": [],
   "source": [
    "p_weights=[]\n",
    "p_returns=[]\n",
    "p_risk=[]\n",
    "p_sharpe=[]"
   ]
  },
  {
   "cell_type": "code",
   "execution_count": null,
   "metadata": {},
   "outputs": [],
   "source": [
    "count = 500\n",
    "for k in range(0,count):\n",
    "    wts = np.random.uniform(size=len(x.columns))\n",
    "    wts = wts/np.sum(wts)\n",
    "    p_weights.append(wts)\n",
    "\n",
    "    #returns\n",
    "    mean_ret = (x.mean()*wts).sum()*252\n",
    "    p_returns.append(mean_ret)\n",
    "\n",
    "    #volatility\n",
    "    ret = (x*wts).sum(axis=1)\n",
    "    annual_std = np.std(ret)*np.sqrt(252)\n",
    "    p_risk.append(annual_std)\n",
    "\n",
    "    #sharpe ratio\n",
    "    sharpe = (np.mean(ret)/np.std(ret))*np.sqrt(252)\n",
    "    p_sharpe.append(sharpe)\n"
   ]
  },
  {
   "cell_type": "code",
   "execution_count": null,
   "metadata": {},
   "outputs": [
    {
     "name": "stdout",
     "output_type": "stream",
     "text": [
      "1.6437003454693773\n",
      "[0.37153757 0.00332468 0.28170652 0.34343124]\n"
     ]
    }
   ],
   "source": [
    "max_ind = np.argmax(p_sharpe)\n",
    "print(p_sharpe[max_ind])\n",
    "print(p_weights[max_ind])"
   ]
  },
  {
   "cell_type": "code",
   "execution_count": null,
   "metadata": {},
   "outputs": [
    {
     "data": {
      "application/vnd.plotly.v1+json": {
       "config": {
        "plotlyServerURL": "https://plot.ly"
       },
       "data": [
        {
         "alignmentgroup": "True",
         "hovertemplate": "variable=0<br>index=%{x}<br>value=%{y}<extra></extra>",
         "legendgroup": "0",
         "marker": {
          "color": "#636efa",
          "pattern": {
           "shape": ""
          }
         },
         "name": "0",
         "offsetgroup": "0",
         "orientation": "v",
         "showlegend": true,
         "textposition": "auto",
         "type": "bar",
         "x": [
          "AAPL",
          "AMZN",
          "MSFT",
          "TSLA"
         ],
         "xaxis": "x",
         "y": [
          0.37153756892545575,
          0.0033246759745558796,
          0.2817065163345369,
          0.34343123876545145
         ],
         "yaxis": "y"
        }
       ],
       "layout": {
        "barmode": "relative",
        "legend": {
         "title": {
          "text": "variable"
         },
         "tracegroupgap": 0
        },
        "margin": {
         "t": 60
        },
        "template": {
         "data": {
          "bar": [
           {
            "error_x": {
             "color": "#2a3f5f"
            },
            "error_y": {
             "color": "#2a3f5f"
            },
            "marker": {
             "line": {
              "color": "#E5ECF6",
              "width": 0.5
             },
             "pattern": {
              "fillmode": "overlay",
              "size": 10,
              "solidity": 0.2
             }
            },
            "type": "bar"
           }
          ],
          "barpolar": [
           {
            "marker": {
             "line": {
              "color": "#E5ECF6",
              "width": 0.5
             },
             "pattern": {
              "fillmode": "overlay",
              "size": 10,
              "solidity": 0.2
             }
            },
            "type": "barpolar"
           }
          ],
          "carpet": [
           {
            "aaxis": {
             "endlinecolor": "#2a3f5f",
             "gridcolor": "white",
             "linecolor": "white",
             "minorgridcolor": "white",
             "startlinecolor": "#2a3f5f"
            },
            "baxis": {
             "endlinecolor": "#2a3f5f",
             "gridcolor": "white",
             "linecolor": "white",
             "minorgridcolor": "white",
             "startlinecolor": "#2a3f5f"
            },
            "type": "carpet"
           }
          ],
          "choropleth": [
           {
            "colorbar": {
             "outlinewidth": 0,
             "ticks": ""
            },
            "type": "choropleth"
           }
          ],
          "contour": [
           {
            "colorbar": {
             "outlinewidth": 0,
             "ticks": ""
            },
            "colorscale": [
             [
              0,
              "#0d0887"
             ],
             [
              0.1111111111111111,
              "#46039f"
             ],
             [
              0.2222222222222222,
              "#7201a8"
             ],
             [
              0.3333333333333333,
              "#9c179e"
             ],
             [
              0.4444444444444444,
              "#bd3786"
             ],
             [
              0.5555555555555556,
              "#d8576b"
             ],
             [
              0.6666666666666666,
              "#ed7953"
             ],
             [
              0.7777777777777778,
              "#fb9f3a"
             ],
             [
              0.8888888888888888,
              "#fdca26"
             ],
             [
              1,
              "#f0f921"
             ]
            ],
            "type": "contour"
           }
          ],
          "contourcarpet": [
           {
            "colorbar": {
             "outlinewidth": 0,
             "ticks": ""
            },
            "type": "contourcarpet"
           }
          ],
          "heatmap": [
           {
            "colorbar": {
             "outlinewidth": 0,
             "ticks": ""
            },
            "colorscale": [
             [
              0,
              "#0d0887"
             ],
             [
              0.1111111111111111,
              "#46039f"
             ],
             [
              0.2222222222222222,
              "#7201a8"
             ],
             [
              0.3333333333333333,
              "#9c179e"
             ],
             [
              0.4444444444444444,
              "#bd3786"
             ],
             [
              0.5555555555555556,
              "#d8576b"
             ],
             [
              0.6666666666666666,
              "#ed7953"
             ],
             [
              0.7777777777777778,
              "#fb9f3a"
             ],
             [
              0.8888888888888888,
              "#fdca26"
             ],
             [
              1,
              "#f0f921"
             ]
            ],
            "type": "heatmap"
           }
          ],
          "heatmapgl": [
           {
            "colorbar": {
             "outlinewidth": 0,
             "ticks": ""
            },
            "colorscale": [
             [
              0,
              "#0d0887"
             ],
             [
              0.1111111111111111,
              "#46039f"
             ],
             [
              0.2222222222222222,
              "#7201a8"
             ],
             [
              0.3333333333333333,
              "#9c179e"
             ],
             [
              0.4444444444444444,
              "#bd3786"
             ],
             [
              0.5555555555555556,
              "#d8576b"
             ],
             [
              0.6666666666666666,
              "#ed7953"
             ],
             [
              0.7777777777777778,
              "#fb9f3a"
             ],
             [
              0.8888888888888888,
              "#fdca26"
             ],
             [
              1,
              "#f0f921"
             ]
            ],
            "type": "heatmapgl"
           }
          ],
          "histogram": [
           {
            "marker": {
             "pattern": {
              "fillmode": "overlay",
              "size": 10,
              "solidity": 0.2
             }
            },
            "type": "histogram"
           }
          ],
          "histogram2d": [
           {
            "colorbar": {
             "outlinewidth": 0,
             "ticks": ""
            },
            "colorscale": [
             [
              0,
              "#0d0887"
             ],
             [
              0.1111111111111111,
              "#46039f"
             ],
             [
              0.2222222222222222,
              "#7201a8"
             ],
             [
              0.3333333333333333,
              "#9c179e"
             ],
             [
              0.4444444444444444,
              "#bd3786"
             ],
             [
              0.5555555555555556,
              "#d8576b"
             ],
             [
              0.6666666666666666,
              "#ed7953"
             ],
             [
              0.7777777777777778,
              "#fb9f3a"
             ],
             [
              0.8888888888888888,
              "#fdca26"
             ],
             [
              1,
              "#f0f921"
             ]
            ],
            "type": "histogram2d"
           }
          ],
          "histogram2dcontour": [
           {
            "colorbar": {
             "outlinewidth": 0,
             "ticks": ""
            },
            "colorscale": [
             [
              0,
              "#0d0887"
             ],
             [
              0.1111111111111111,
              "#46039f"
             ],
             [
              0.2222222222222222,
              "#7201a8"
             ],
             [
              0.3333333333333333,
              "#9c179e"
             ],
             [
              0.4444444444444444,
              "#bd3786"
             ],
             [
              0.5555555555555556,
              "#d8576b"
             ],
             [
              0.6666666666666666,
              "#ed7953"
             ],
             [
              0.7777777777777778,
              "#fb9f3a"
             ],
             [
              0.8888888888888888,
              "#fdca26"
             ],
             [
              1,
              "#f0f921"
             ]
            ],
            "type": "histogram2dcontour"
           }
          ],
          "mesh3d": [
           {
            "colorbar": {
             "outlinewidth": 0,
             "ticks": ""
            },
            "type": "mesh3d"
           }
          ],
          "parcoords": [
           {
            "line": {
             "colorbar": {
              "outlinewidth": 0,
              "ticks": ""
             }
            },
            "type": "parcoords"
           }
          ],
          "pie": [
           {
            "automargin": true,
            "type": "pie"
           }
          ],
          "scatter": [
           {
            "marker": {
             "colorbar": {
              "outlinewidth": 0,
              "ticks": ""
             }
            },
            "type": "scatter"
           }
          ],
          "scatter3d": [
           {
            "line": {
             "colorbar": {
              "outlinewidth": 0,
              "ticks": ""
             }
            },
            "marker": {
             "colorbar": {
              "outlinewidth": 0,
              "ticks": ""
             }
            },
            "type": "scatter3d"
           }
          ],
          "scattercarpet": [
           {
            "marker": {
             "colorbar": {
              "outlinewidth": 0,
              "ticks": ""
             }
            },
            "type": "scattercarpet"
           }
          ],
          "scattergeo": [
           {
            "marker": {
             "colorbar": {
              "outlinewidth": 0,
              "ticks": ""
             }
            },
            "type": "scattergeo"
           }
          ],
          "scattergl": [
           {
            "marker": {
             "colorbar": {
              "outlinewidth": 0,
              "ticks": ""
             }
            },
            "type": "scattergl"
           }
          ],
          "scattermapbox": [
           {
            "marker": {
             "colorbar": {
              "outlinewidth": 0,
              "ticks": ""
             }
            },
            "type": "scattermapbox"
           }
          ],
          "scatterpolar": [
           {
            "marker": {
             "colorbar": {
              "outlinewidth": 0,
              "ticks": ""
             }
            },
            "type": "scatterpolar"
           }
          ],
          "scatterpolargl": [
           {
            "marker": {
             "colorbar": {
              "outlinewidth": 0,
              "ticks": ""
             }
            },
            "type": "scatterpolargl"
           }
          ],
          "scatterternary": [
           {
            "marker": {
             "colorbar": {
              "outlinewidth": 0,
              "ticks": ""
             }
            },
            "type": "scatterternary"
           }
          ],
          "surface": [
           {
            "colorbar": {
             "outlinewidth": 0,
             "ticks": ""
            },
            "colorscale": [
             [
              0,
              "#0d0887"
             ],
             [
              0.1111111111111111,
              "#46039f"
             ],
             [
              0.2222222222222222,
              "#7201a8"
             ],
             [
              0.3333333333333333,
              "#9c179e"
             ],
             [
              0.4444444444444444,
              "#bd3786"
             ],
             [
              0.5555555555555556,
              "#d8576b"
             ],
             [
              0.6666666666666666,
              "#ed7953"
             ],
             [
              0.7777777777777778,
              "#fb9f3a"
             ],
             [
              0.8888888888888888,
              "#fdca26"
             ],
             [
              1,
              "#f0f921"
             ]
            ],
            "type": "surface"
           }
          ],
          "table": [
           {
            "cells": {
             "fill": {
              "color": "#EBF0F8"
             },
             "line": {
              "color": "white"
             }
            },
            "header": {
             "fill": {
              "color": "#C8D4E3"
             },
             "line": {
              "color": "white"
             }
            },
            "type": "table"
           }
          ]
         },
         "layout": {
          "annotationdefaults": {
           "arrowcolor": "#2a3f5f",
           "arrowhead": 0,
           "arrowwidth": 1
          },
          "autotypenumbers": "strict",
          "coloraxis": {
           "colorbar": {
            "outlinewidth": 0,
            "ticks": ""
           }
          },
          "colorscale": {
           "diverging": [
            [
             0,
             "#8e0152"
            ],
            [
             0.1,
             "#c51b7d"
            ],
            [
             0.2,
             "#de77ae"
            ],
            [
             0.3,
             "#f1b6da"
            ],
            [
             0.4,
             "#fde0ef"
            ],
            [
             0.5,
             "#f7f7f7"
            ],
            [
             0.6,
             "#e6f5d0"
            ],
            [
             0.7,
             "#b8e186"
            ],
            [
             0.8,
             "#7fbc41"
            ],
            [
             0.9,
             "#4d9221"
            ],
            [
             1,
             "#276419"
            ]
           ],
           "sequential": [
            [
             0,
             "#0d0887"
            ],
            [
             0.1111111111111111,
             "#46039f"
            ],
            [
             0.2222222222222222,
             "#7201a8"
            ],
            [
             0.3333333333333333,
             "#9c179e"
            ],
            [
             0.4444444444444444,
             "#bd3786"
            ],
            [
             0.5555555555555556,
             "#d8576b"
            ],
            [
             0.6666666666666666,
             "#ed7953"
            ],
            [
             0.7777777777777778,
             "#fb9f3a"
            ],
            [
             0.8888888888888888,
             "#fdca26"
            ],
            [
             1,
             "#f0f921"
            ]
           ],
           "sequentialminus": [
            [
             0,
             "#0d0887"
            ],
            [
             0.1111111111111111,
             "#46039f"
            ],
            [
             0.2222222222222222,
             "#7201a8"
            ],
            [
             0.3333333333333333,
             "#9c179e"
            ],
            [
             0.4444444444444444,
             "#bd3786"
            ],
            [
             0.5555555555555556,
             "#d8576b"
            ],
            [
             0.6666666666666666,
             "#ed7953"
            ],
            [
             0.7777777777777778,
             "#fb9f3a"
            ],
            [
             0.8888888888888888,
             "#fdca26"
            ],
            [
             1,
             "#f0f921"
            ]
           ]
          },
          "colorway": [
           "#636efa",
           "#EF553B",
           "#00cc96",
           "#ab63fa",
           "#FFA15A",
           "#19d3f3",
           "#FF6692",
           "#B6E880",
           "#FF97FF",
           "#FECB52"
          ],
          "font": {
           "color": "#2a3f5f"
          },
          "geo": {
           "bgcolor": "white",
           "lakecolor": "white",
           "landcolor": "#E5ECF6",
           "showlakes": true,
           "showland": true,
           "subunitcolor": "white"
          },
          "hoverlabel": {
           "align": "left"
          },
          "hovermode": "closest",
          "mapbox": {
           "style": "light"
          },
          "paper_bgcolor": "white",
          "plot_bgcolor": "#E5ECF6",
          "polar": {
           "angularaxis": {
            "gridcolor": "white",
            "linecolor": "white",
            "ticks": ""
           },
           "bgcolor": "#E5ECF6",
           "radialaxis": {
            "gridcolor": "white",
            "linecolor": "white",
            "ticks": ""
           }
          },
          "scene": {
           "xaxis": {
            "backgroundcolor": "#E5ECF6",
            "gridcolor": "white",
            "gridwidth": 2,
            "linecolor": "white",
            "showbackground": true,
            "ticks": "",
            "zerolinecolor": "white"
           },
           "yaxis": {
            "backgroundcolor": "#E5ECF6",
            "gridcolor": "white",
            "gridwidth": 2,
            "linecolor": "white",
            "showbackground": true,
            "ticks": "",
            "zerolinecolor": "white"
           },
           "zaxis": {
            "backgroundcolor": "#E5ECF6",
            "gridcolor": "white",
            "gridwidth": 2,
            "linecolor": "white",
            "showbackground": true,
            "ticks": "",
            "zerolinecolor": "white"
           }
          },
          "shapedefaults": {
           "line": {
            "color": "#2a3f5f"
           }
          },
          "ternary": {
           "aaxis": {
            "gridcolor": "white",
            "linecolor": "white",
            "ticks": ""
           },
           "baxis": {
            "gridcolor": "white",
            "linecolor": "white",
            "ticks": ""
           },
           "bgcolor": "#E5ECF6",
           "caxis": {
            "gridcolor": "white",
            "linecolor": "white",
            "ticks": ""
           }
          },
          "title": {
           "x": 0.05
          },
          "xaxis": {
           "automargin": true,
           "gridcolor": "white",
           "linecolor": "white",
           "ticks": "",
           "title": {
            "standoff": 15
           },
           "zerolinecolor": "white",
           "zerolinewidth": 2
          },
          "yaxis": {
           "automargin": true,
           "gridcolor": "white",
           "linecolor": "white",
           "ticks": "",
           "title": {
            "standoff": 15
           },
           "zerolinecolor": "white",
           "zerolinewidth": 2
          }
         }
        },
        "xaxis": {
         "anchor": "y",
         "domain": [
          0,
          1
         ],
         "title": {
          "text": "index"
         }
        },
        "yaxis": {
         "anchor": "x",
         "domain": [
          0,
          1
         ],
         "title": {
          "text": "value"
         }
        }
       }
      }
     },
     "metadata": {},
     "output_type": "display_data"
    }
   ],
   "source": [
    "grafico_max = pd.Series(p_weights[max_ind], index=x.columns)\n",
    "px.bar(grafico_max)"
   ]
  },
  {
   "cell_type": "code",
   "execution_count": null,
   "metadata": {},
   "outputs": [],
   "source": [
    "data_nueva = pd.DataFrame(\n",
    "    {\n",
    "        'risk':p_risk,\n",
    "        'return':p_returns\n",
    "    }\n",
    ")"
   ]
  },
  {
   "cell_type": "code",
   "execution_count": null,
   "metadata": {},
   "outputs": [
    {
     "data": {
      "text/html": [
       "<div>\n",
       "<style scoped>\n",
       "    .dataframe tbody tr th:only-of-type {\n",
       "        vertical-align: middle;\n",
       "    }\n",
       "\n",
       "    .dataframe tbody tr th {\n",
       "        vertical-align: top;\n",
       "    }\n",
       "\n",
       "    .dataframe thead th {\n",
       "        text-align: right;\n",
       "    }\n",
       "</style>\n",
       "<table border=\"1\" class=\"dataframe\">\n",
       "  <thead>\n",
       "    <tr style=\"text-align: right;\">\n",
       "      <th></th>\n",
       "      <th>risk</th>\n",
       "      <th>return</th>\n",
       "    </tr>\n",
       "  </thead>\n",
       "  <tbody>\n",
       "    <tr>\n",
       "      <th>0</th>\n",
       "      <td>0.307945</td>\n",
       "      <td>0.472575</td>\n",
       "    </tr>\n",
       "    <tr>\n",
       "      <th>1</th>\n",
       "      <td>0.291163</td>\n",
       "      <td>0.436540</td>\n",
       "    </tr>\n",
       "    <tr>\n",
       "      <th>2</th>\n",
       "      <td>0.304453</td>\n",
       "      <td>0.478611</td>\n",
       "    </tr>\n",
       "    <tr>\n",
       "      <th>3</th>\n",
       "      <td>0.310713</td>\n",
       "      <td>0.481631</td>\n",
       "    </tr>\n",
       "    <tr>\n",
       "      <th>4</th>\n",
       "      <td>0.314495</td>\n",
       "      <td>0.507281</td>\n",
       "    </tr>\n",
       "  </tbody>\n",
       "</table>\n",
       "</div>"
      ],
      "text/plain": [
       "       risk    return\n",
       "0  0.307945  0.472575\n",
       "1  0.291163  0.436540\n",
       "2  0.304453  0.478611\n",
       "3  0.310713  0.481631\n",
       "4  0.314495  0.507281"
      ]
     },
     "execution_count": 350,
     "metadata": {},
     "output_type": "execute_result"
    }
   ],
   "source": [
    "data_nueva.head()"
   ]
  },
  {
   "cell_type": "code",
   "execution_count": null,
   "metadata": {},
   "outputs": [
    {
     "data": {
      "image/png": "[encoded data removed]",
      "text/plain": [
       "<Figure size 432x288 with 2 Axes>"
      ]
     },
     "metadata": {
      "needs_background": "light"
     },
     "output_type": "display_data"
    }
   ],
   "source": [
    "# The chart is called Efficient Frontier and shows the \n",
    "# returns on the Y-axis and volatility on the X-axis.\n",
    "max_ind = np.argmax(p_sharpe)\n",
    "\n",
    "plt.scatter(p_risk, p_returns, c=p_sharpe, cmap='plasma')\n",
    "plt.colorbar(label='Sharpe Ratio')\n",
    "\n",
    "plt.scatter(p_risk[max_ind], p_returns[max_ind], color='r', marker='*', s=500)\n",
    "plt.show()"
   ]
  },
  {
   "cell_type": "code",
   "execution_count": null,
   "metadata": {},
   "outputs": [
    {
     "data": {
      "application/vnd.plotly.v1+json": {
       "config": {
        "plotlyServerURL": "https://plot.ly"
       },
       "data": [
        {
         "hovertemplate": "risk=%{x}<br>return=%{y}<br>color=%{marker.color}<extra></extra>",
         "legendgroup": "",
         "marker": {
          "color": [
           1.5330879911011792,
           1.4978102306910963,
           1.5704777066679876,
           1.548547529931786,
           1.6114041878010925,
           1.5150353012774669,
           1.6002744852777053,
           1.5915715975590208,
           1.5649453322155864,
           1.6175557449696738,
           1.559874657472106,
           1.4557525294786364,
           1.6060485125934367,
           1.413140429376319,
           1.5933543496261382,
           1.375791059276708,
           1.429536850079535,
           1.5885980922960525,
           1.5675102116898498,
           1.6106135574981906,
           1.6432601682777201,
           1.6251362710146495,
           1.5467794573448137,
           1.4693870865755374,
           1.5867634299748155,
           1.577322597970641,
           1.6180945971042913,
           1.5624965961214785,
           1.4526710701819703,
           1.5684874306796115,
           1.4693598118708646,
           1.5589233131281952,
           1.4945324539529872,
           1.6147001627065156,
           1.6292235439245213,
           1.6024918915787014,
           1.6223880348065671,
           1.4022649245396817,
           1.4042681331392455,
           1.5833809750519972,
           1.5598037089328525,
           1.5751029056968302,
           1.5469898010624041,
           1.5714525180902617,
           1.5991277824698416,
           1.6264091447827853,
           1.538640426646472,
           1.6104544262771812,
           1.6126954424584037,
           1.5568976459704982,
           1.5209637448819326,
           1.6167715645278025,
           1.561127263886972,
           1.6186127087830897,
           1.5475130275247972,
           1.6017632666902037,
           1.3664932088752666,
           1.4802406078908936,
           1.6318253431998633,
           1.299495980525219,
           1.6019454641373918,
           1.5133694682332075,
           1.6120161153048824,
           1.6192419143222492,
           1.5827436371682901,
           1.6395721298404438,
           1.5880381095442602,
           1.6242862261145463,
           1.5566896393244287,
           1.6320272775462143,
           1.5838620794557543,
           1.6224233753144852,
           1.4543494455029176,
           1.4310343706093234,
           1.613328834852062,
           1.6379974133895694,
           1.2963797066308822,
           1.5071622767848285,
           1.6071809062693474,
           1.6313440120241085,
           1.586554503252714,
           1.5916911080110943,
           1.458256654402618,
           1.6030055385624944,
           1.6164340008087532,
           1.617530902076536,
           1.2725259587244664,
           1.5308914152580708,
           1.5719341933095023,
           1.503704631729902,
           1.5456355196745006,
           1.547370613044947,
           1.625417540218328,
           1.5597072368973899,
           1.6164770755673334,
           1.613200172871849,
           1.636888899760604,
           1.6014477822839333,
           1.631685903302874,
           1.616154065845806,
           1.6320972646630125,
           1.3346088667607974,
           1.6186890024872045,
           1.5038632881705207,
           1.5040598618100116,
           1.5685329136697124,
           1.558400017204747,
           1.5327456571781972,
           1.5760576253991598,
           1.479500070691823,
           1.6068505340124806,
           1.5773416451387205,
           1.6171778589992198,
           1.5054271341893661,
           1.3537775879426324,
           1.5903238856537403,
           1.385996852598922,
           1.59347751430938,
           1.6262848527318932,
           1.6240747168494276,
           1.412130498957174,
           1.5759323721201304,
           1.6319936651326208,
           1.37762840975392,
           1.6064740951310195,
           1.5333132477418914,
           1.3662765966056647,
           1.3946334541791328,
           1.3115115148644005,
           1.5255876256159684,
           1.5971545954223436,
           1.5554222419004282,
           1.6191689887040928,
           1.5923237481333605,
           1.6376607649957198,
           1.4209093368703645,
           1.481277498270002,
           1.561394177603884,
           1.3783339290083292,
           1.5990327906146822,
           1.6354726621323306,
           1.4877646761220893,
           1.5859981289095402,
           1.5694831513680878,
           1.5365075359523872,
           1.358581464666787,
           1.5677572196531118,
           1.6131452384180816,
           1.6316817401867003,
           1.6214484047974416,
           1.5297630167664171,
           1.5719143791831174,
           1.5600452870701544,
           1.579814131455664,
           1.6312208936344827,
           1.6111571164512488,
           1.609541231172157,
           1.5724267423087863,
           1.3785699665355784,
           1.5872110002630047,
           1.4502902443809504,
           1.6409298363640201,
           1.6235678850708928,
           1.3585237489807072,
           1.5263126296356089,
           1.4405863358693987,
           1.6157922703777823,
           1.5912189845426254,
           1.564712163148469,
           1.4835795846830964,
           1.3589604638844512,
           1.6010508231475304,
           1.6209756267788786,
           1.5756795310310794,
           1.454985457911253,
           1.5775049635706175,
           1.520703901993303,
           1.4944183118528327,
           1.6129322317780137,
           1.5814238603782333,
           1.6027029430120532,
           1.4674686288873264,
           1.609821283075161,
           1.5809895489385757,
           1.6083884427107362,
           1.5996807916891524,
           1.5132484880008452,
           1.6266157887229282,
           1.3215529325695712,
           1.612658502890226,
           1.6063135813342377,
           1.6116943708713611,
           1.4282583059643048,
           1.5434845447616723,
           1.640567568044701,
           1.6175841102230066,
           1.6130749079864535,
           1.5184039964115734,
           1.6351744409317497,
           1.5579498297113714,
           1.5951570546816074,
           1.595467326554499,
           1.5883951689001983,
           1.5446581921717408,
           1.6196371757184032,
           1.5346856479152349,
           1.5956482998599333,
           1.5963164944034187,
           1.6022225693924177,
           1.1097273656735918,
           1.6298649202460023,
           1.5041131736211726,
           1.643362877349953,
           1.514348632195436,
           1.5219936487961097,
           1.5954047855492806,
           1.5576023479251255,
           1.5941827355690437,
           1.5632393541966634,
           1.4152558879440549,
           1.6178204861289969,
           1.6303969031485959,
           1.583461818427346,
           1.6122845902917473,
           1.3556799698877962,
           1.572321546063218,
           1.6230040045923626,
           1.535465712573762,
           1.6255773478012958,
           1.5987971987889007,
           1.5608598189035878,
           1.597919167451237,
           1.624216759429972,
           1.5908064613465265,
           1.5444880110103159,
           1.3934401328513302,
           1.6133714605992864,
           1.5415816344899649,
           1.2709796434818372,
           1.572997234476186,
           1.5340799139737045,
           1.5808800654310429,
           1.4314907804167634,
           1.6248413217824824,
           1.3896655841914116,
           1.5788565658329674,
           1.5782679442907024,
           1.3602919946873993,
           1.514082798900397,
           1.5578948450459562,
           1.5747514165013912,
           1.6055657758264374,
           1.5994465236597843,
           1.411163345558132,
           1.5405401197260025,
           1.6391021447039404,
           1.5242394131469545,
           1.4962823182865366,
           1.6381928999064994,
           1.488573000771632,
           1.470114342004251,
           1.5804427691411511,
           1.5870449654863,
           1.5904840399502866,
           1.4903305868912327,
           1.5711655721420752,
           1.595798161540527,
           1.5765549702655879,
           1.6276519521182546,
           1.5992431830363167,
           1.5682650905965794,
           1.5580499581320797,
           1.6356862181820229,
           1.5867640518282453,
           1.6055272960030202,
           1.5339599584484467,
           1.6107315621861245,
           1.6150339859751328,
           1.4696509674704603,
           1.5892307382998045,
           1.6353089624426307,
           1.60978330045876,
           1.5741904911981015,
           1.4689534026309545,
           1.333776865003658,
           1.4265303202753046,
           1.6118112626173504,
           1.3334543880499568,
           1.4324204106344258,
           1.3184694101522119,
           1.599521572442374,
           1.5221003494835723,
           1.481964942491517,
           1.5839846215639026,
           1.6267690113924318,
           1.590111381085018,
           1.6142004085517492,
           1.6016533148298768,
           1.575471402468684,
           1.59992305320618,
           1.3840675500011188,
           1.5963941656842027,
           1.5691036991016614,
           1.471205019261788,
           1.5798802069746956,
           1.6068291633311451,
           1.6044604817055161,
           1.4566311840260593,
           1.4136410298156141,
           1.5014285019454174,
           1.6395739313361808,
           1.5762247485502485,
           1.4312350662850615,
           1.5946513422804245,
           1.5649183020274555,
           1.6366144679016683,
           1.6407164272632302,
           1.619992375194715,
           1.6199139821380286,
           1.5380227995539357,
           1.5837895494980128,
           1.6046345093216068,
           1.4322143508685727,
           1.3978218379685918,
           1.5862192219356144,
           1.629420705192546,
           1.3844567324275079,
           1.6413063407950292,
           1.3317943415141562,
           1.6166067199312315,
           1.6222540375276442,
           1.6314636216999916,
           1.436277619961001,
           1.640732071555121,
           1.614413157194696,
           1.568243412048645,
           1.6142951909558048,
           1.5854219671697958,
           1.5315292820569155,
           1.5587385213638678,
           1.641835193235598,
           1.5880805932303217,
           1.6127509107482194,
           1.6180461523490413,
           1.5765788158413339,
           1.5856627806315704,
           1.5399090127166721,
           1.46797721883381,
           1.5843439141732176,
           1.573391400492187,
           1.5951418648646103,
           1.560228375057947,
           1.6422306207867443,
           1.5383936853092364,
           1.6016970532999284,
           1.6232213901225987,
           1.5781843206751762,
           1.5921780864800805,
           1.6215468906009933,
           1.4190532606896593,
           1.541584776716255,
           1.3160959614947332,
           1.4151581235355446,
           1.5907086175096041,
           1.5321794945736078,
           1.600831261341308,
           1.5696604846614293,
           1.6137416656967505,
           1.6337107809863645,
           1.5858420623434526,
           1.6081576293016169,
           1.4692775523543136,
           1.606917967034684,
           1.6135519982740663,
           1.6199970381858215,
           1.600058388359131,
           1.6346503169583253,
           1.6300755507715339,
           1.6343600727486502,
           1.4027369557989986,
           1.5805619244502966,
           1.4454373220356116,
           1.5140583179258031,
           1.4446401360739278,
           1.3471403096724544,
           1.6160158535355789,
           1.4402797981370743,
           1.3782957065477854,
           1.570114636927196,
           1.4587325342520108,
           1.6165792989377872,
           1.5791690809090826,
           1.6248345216586986,
           1.5473943144076578,
           1.5252915059500225,
           1.6271070747836143,
           1.5511396116222866,
           1.5061772912337468,
           1.58622671949783,
           1.5558549230287846,
           1.4075966021460224,
           1.6160605183858432,
           1.4494240161709822,
           1.6179819979594623,
           1.5691544786299554,
           1.5725103224233659,
           1.5481700605729836,
           1.5832389106423783,
           1.5632619255246913,
           1.6100291655038126,
           1.6173024105249947,
           1.607064603721506,
           1.6023439431404296,
           1.4084289595477861,
           1.6010931967346744,
           1.6244978172881699,
           1.6437003454693773,
           1.368718581718255,
           1.6214427033825927,
           1.6417882149386631,
           1.5779869101991553,
           1.6277741760906361,
           1.4614571721552863,
           1.6327869277973999,
           1.5922340474856251,
           1.5331883676644151,
           1.640389996554989,
           1.5926336966357089,
           1.6058621444924794,
           1.6242826234999426,
           1.5101011055334335,
           1.5755677087266868,
           1.5495787400834615,
           1.5945834346178775,
           1.5603156010226533,
           1.5774213861186415,
           1.316932963112786,
           1.614354767142952,
           1.594499590586091,
           1.5488218815913903,
           1.5973488369698028,
           1.5937848456081503,
           1.617834782587307,
           1.6017265577343767,
           1.4755446413591464,
           1.471493155584812,
           1.595533326561386,
           1.6212050680235057,
           1.639831668536891,
           1.5206633122847997,
           1.5916307946372623,
           1.584507410693249,
           1.5984037447545671,
           1.5860287803350062,
           1.4771699327405408,
           1.6139744456052108,
           1.55781293108952,
           1.630233153872401,
           1.4711621888964914,
           1.6048223247263258,
           1.629171239324183,
           1.40168348256764,
           1.5841449156478185,
           1.6121545799118615,
           1.6026370947157245,
           1.4947318044149354,
           1.6102144868108812,
           1.601781299260208,
           1.5485376957047998,
           1.4153779586848125,
           1.581597218040143,
           1.4564281404929014,
           1.456954832933674,
           1.6037715397754555,
           1.3195339374686124,
           1.6259161119967245,
           1.6094101004483818,
           1.604431055065549,
           1.5311609315001224,
           1.5739752606139685,
           1.389797011643275,
           1.5926442009123496,
           1.3946994016033516,
           1.5581318481068065,
           1.591155957161707,
           1.5835244920748284,
           1.6369981149769104,
           1.5414551691403695,
           1.570664928737205,
           1.6111564426536262,
           1.601413601630612,
           1.4811531384724663,
           1.5860477779453823,
           1.5129901833978974,
           1.4540510122175117,
           1.6354796703111985,
           1.6301550208029039,
           1.5838634077305358,
           1.5552809768834486,
           1.61338034531783
          ],
          "coloraxis": "coloraxis",
          "symbol": "circle"
         },
         "mode": "markers",
         "name": "",
         "orientation": "v",
         "showlegend": false,
         "type": "scatter",
         "x": [
          0.3079454831616413,
          0.29116340373327815,
          0.30445319036766,
          0.3107130468961079,
          0.31449494862877336,
          0.30433891903772087,
          0.33742543484330045,
          0.30817946595978474,
          0.30806254187280296,
          0.36255342712469296,
          0.304096589612498,
          0.2898067269503253,
          0.3380374380255044,
          0.2882206732032403,
          0.3104556617408725,
          0.29563590834772013,
          0.29053970306259747,
          0.3052473163464313,
          0.3359116934462825,
          0.3173846822818774,
          0.35168884096225356,
          0.34175799703303816,
          0.30285507697744884,
          0.2920339016762338,
          0.32481412651859404,
          0.31186573856888644,
          0.36534074211908274,
          0.47736675118512667,
          0.2842572277429308,
          0.3107542761686111,
          0.29161676823644644,
          0.33050469986558145,
          0.31087484860540715,
          0.33908912620013026,
          0.35984079760376175,
          0.3226100186878433,
          0.38540114312581125,
          0.28456143646403964,
          0.28632177201556025,
          0.3674760325193562,
          0.3823036494182471,
          0.30580581663557815,
          0.3198393479753975,
          0.30505638725985235,
          0.34847198615047037,
          0.34523681077721363,
          0.348790295758724,
          0.3261596036766944,
          0.3212531363563921,
          0.2997153799616075,
          0.291383883304197,
          0.3335689195915795,
          0.30586441121461116,
          0.32093542119515456,
          0.3029893722908243,
          0.31947797474958894,
          0.28166587859799946,
          0.294913484458935,
          0.33579481440490205,
          0.28059785782654517,
          0.427093161691808,
          0.2900047885256877,
          0.3935317511816531,
          0.3333814821503101,
          0.34313004582269396,
          0.35593032580245804,
          0.340223829156783,
          0.3232640046651754,
          0.29926226526570415,
          0.3552406655278451,
          0.31786116488349675,
          0.3224219906321143,
          0.29825003472741846,
          0.2875240133009918,
          0.3325723845094578,
          0.37435803664262385,
          0.28890979247812,
          0.290337392842833,
          0.3672802068079738,
          0.38204939774392266,
          0.31363959675706077,
          0.34213841665798067,
          0.2880739477425387,
          0.33778132656331417,
          0.32433160417085327,
          0.33721298199133776,
          0.27982937212009384,
          0.2999336323901858,
          0.3133309447458735,
          0.29329222279860057,
          0.29757274015501933,
          0.3040858578793879,
          0.385233929740261,
          0.307519728543501,
          0.35782970383565166,
          0.37605888024722317,
          0.33700453958960414,
          0.37598262437071106,
          0.3458129015553012,
          0.3842087493289649,
          0.3848618120100486,
          0.2807560757769284,
          0.3786985020259607,
          0.2938505100723256,
          0.2957859749873019,
          0.33212558608807324,
          0.3024615008568359,
          0.3247558684948516,
          0.32757773848853966,
          0.2892116357310466,
          0.32202561101420113,
          0.3319601594259089,
          0.3813027343761848,
          0.29357033212303335,
          0.2895700396785765,
          0.3297951142269197,
          0.2821377018878474,
          0.3594848675934157,
          0.32391329126540674,
          0.35802839349755705,
          0.2823335420998096,
          0.3283601648789655,
          0.35949061063116217,
          0.29180655338006706,
          0.3686305877144027,
          0.3123247585646459,
          0.29323870807073543,
          0.28168533012942276,
          0.2903324767496079,
          0.30542425123989714,
          0.4043174161845029,
          0.46994526662118014,
          0.3481884942038747,
          0.35943544169890185,
          0.34710139386303784,
          0.2851831884060279,
          0.29206770697365486,
          0.3182912532802623,
          0.2876285697378704,
          0.32670734569877735,
          0.3606623114021509,
          0.29336270959474786,
          0.34476619374698875,
          0.3600746638557281,
          0.30534062054002536,
          0.28441204013657234,
          0.30900005037891787,
          0.32935733373498366,
          0.3843024079749613,
          0.3508004749187213,
          0.3101866003338797,
          0.44145832272815483,
          0.2995759006030718,
          0.316023379658509,
          0.3333431944972268,
          0.3193320665463851,
          0.4205004544006388,
          0.39842758210352747,
          0.28639089720812516,
          0.31235009118774293,
          0.28767415619989944,
          0.3413225717595701,
          0.37499726980410253,
          0.27960950910126364,
          0.29446769608295825,
          0.2921920219822554,
          0.35988662834662877,
          0.30855463834794644,
          0.3177231120190529,
          0.29081857207214257,
          0.2896501683146641,
          0.31078765801009967,
          0.32637457959029736,
          0.3518171513990605,
          0.2907279150052303,
          0.38063921473324874,
          0.2931848993647144,
          0.28808710474899746,
          0.3456517077888099,
          0.30446586680664894,
          0.32993125825820124,
          0.2899584785967435,
          0.4111602919787797,
          0.30441535199532743,
          0.3985474260017836,
          0.34575636038989493,
          0.31552531485727836,
          0.3432364087905395,
          0.2788527539636026,
          0.36316878103648226,
          0.42466673114533576,
          0.3321313382154266,
          0.2833902796896939,
          0.39158171440501455,
          0.34949864860107777,
          0.3273497797684923,
          0.3309986308758923,
          0.2970417592582335,
          0.36601296479584133,
          0.3375015538286829,
          0.3212238593248706,
          0.35561688801948527,
          0.33236486571554674,
          0.3849679216611594,
          0.3198092029468383,
          0.29366808721277415,
          0.31520796371133747,
          0.32175761664002894,
          0.3342397392422571,
          0.29752553709085316,
          0.36856068471653924,
          0.5447968408450493,
          0.3438364471632245,
          0.3135271375510899,
          0.3065276767598227,
          0.34359832334763374,
          0.4155658587572196,
          0.39970889985849434,
          0.3046091287037295,
          0.2834608336646846,
          0.3337892877057166,
          0.340257408428258,
          0.3242388177220198,
          0.40489687389526346,
          0.30703322359212815,
          0.4167288242705794,
          0.35861212057949476,
          0.300844133637427,
          0.3494985254728422,
          0.32609585966016164,
          0.30464061319660835,
          0.3360952677948862,
          0.3878707051269234,
          0.34004854323779493,
          0.29912689432207734,
          0.2870397478861537,
          0.37953825243786077,
          0.30047296389912004,
          0.2797968272624329,
          0.30488634819604815,
          0.30189838989550555,
          0.3037577667382486,
          0.289368038741564,
          0.38018038829198225,
          0.2829746136925153,
          0.31678258733494374,
          0.3403599397011357,
          0.28120785578176416,
          0.3012561376314197,
          0.31988027446097633,
          0.30798476175563205,
          0.31826634177936525,
          0.3181931113446795,
          0.28195658475209545,
          0.2998854836273094,
          0.339211693052753,
          0.5170265105203224,
          0.2898411403191824,
          0.35992473586978124,
          0.2880471731375962,
          0.28622134931515436,
          0.3230302050188626,
          0.32005436120509206,
          0.3105139351918198,
          0.2918768067969736,
          0.43740922442894203,
          0.34123507164631145,
          0.30432211030623146,
          0.3276447124519447,
          0.3165079043096133,
          0.3008349796471999,
          0.299110797938047,
          0.36662166047779926,
          0.31067134322605255,
          0.32864848200369384,
          0.4308455628382978,
          0.35574116207744994,
          0.32579633327685903,
          0.31747346922311254,
          0.33372781637236437,
          0.335062007090023,
          0.33408104316014325,
          0.4555301107189839,
          0.2873523354606604,
          0.2820421033492765,
          0.28450897404772607,
          0.4057473251377565,
          0.28030712825749743,
          0.28360549340675173,
          0.2879197865116202,
          0.42830367724898655,
          0.29435821684250896,
          0.28822903168351016,
          0.32717495516821876,
          0.3855452270066228,
          0.32528771157567,
          0.3756220308879547,
          0.3274573509359832,
          0.30332533803043626,
          0.4195196932828758,
          0.28625224649086417,
          0.33629641548451106,
          0.30493002621690435,
          0.2871579319068004,
          0.37845423714563425,
          0.35437568254998925,
          0.3154168798906887,
          0.2895021121311079,
          0.28743177114440843,
          0.29077296297279004,
          0.3379631153184071,
          0.3078193167468088,
          0.2958782109241168,
          0.3138093583839603,
          0.33131589387175875,
          0.34449692290487055,
          0.344236422891678,
          0.322406555652617,
          0.3563281185354729,
          0.387366415783601,
          0.3280199625958855,
          0.3826344367961807,
          0.29060008873975546,
          0.28879908150448863,
          0.35634447471272906,
          0.3481484053286833,
          0.290462393498089,
          0.3686126109836367,
          0.27935387686854024,
          0.32362191950700014,
          0.3558705919227809,
          0.3306589747968375,
          0.2902822915305254,
          0.35344476302174943,
          0.3626680935898411,
          0.3174537719244706,
          0.32636367789051124,
          0.34389717230453903,
          0.5110337418093043,
          0.32012633893087183,
          0.3425534072293752,
          0.30516012413642635,
          0.356745855959734,
          0.3490797668012311,
          0.30326649259220395,
          0.31009973913429695,
          0.3237065669340429,
          0.29066030151609246,
          0.37176027157218045,
          0.3060143604920744,
          0.3750573650065465,
          0.3138271921555118,
          0.35708541757539713,
          0.29829457998397446,
          0.352625647228489,
          0.33944520736684364,
          0.3341783428040044,
          0.31252231440625666,
          0.320810701480038,
          0.2935847462629793,
          0.29519169020944724,
          0.2895300035990464,
          0.28444506228046335,
          0.31937956887462826,
          0.3153786601853458,
          0.3248303104630346,
          0.31749071215562985,
          0.322488509362158,
          0.3552496273132509,
          0.3205113615193436,
          0.32547120699601473,
          0.2929657173128572,
          0.40290636954094317,
          0.3667241606024814,
          0.35106982039603113,
          0.3205916385374396,
          0.33201843828456934,
          0.3375537555328281,
          0.3520026850475869,
          0.28229940657414837,
          0.4098851589149946,
          0.2912914422220667,
          0.29830375181011154,
          0.2842421561654146,
          0.2807972515019932,
          0.33980591326003545,
          0.2857171946510677,
          0.2842562745610648,
          0.364517075030703,
          0.2854906692172898,
          0.36648493314862485,
          0.35321579866897995,
          0.3340407976825266,
          0.3013635342683349,
          0.2930721146975174,
          0.3419756008961333,
          0.30748602728682356,
          0.3081249158282123,
          0.3134841470798814,
          0.30175318819580343,
          0.2915241567563221,
          0.33356834233938976,
          0.28605248293110414,
          0.35877100417107044,
          0.3522459462068762,
          0.3171626528100056,
          0.45966805873555217,
          0.36502065378704857,
          0.47903024512470765,
          0.40895134525331206,
          0.37099161812957787,
          0.4119733422955628,
          0.31952101993672594,
          0.2821787798393182,
          0.3593164699674873,
          0.3236211804007443,
          0.3567546461301167,
          0.2817488632602779,
          0.3218932862801476,
          0.3465763785502331,
          0.31962548299713944,
          0.37397489667099243,
          0.2977496420293562,
          0.3882522829218526,
          0.3075626262724257,
          0.3005642638925024,
          0.35471985960519253,
          0.33116803753107243,
          0.3689596109393576,
          0.3764797043392067,
          0.29108044555903,
          0.3259076952390233,
          0.30174648715999985,
          0.3144735900356545,
          0.40206927248132346,
          0.3133524955877509,
          0.2868759433683195,
          0.33773104449621105,
          0.4290981742612818,
          0.30069851615877513,
          0.36556190528622395,
          0.3154034471672004,
          0.3821516669208024,
          0.33022066858193766,
          0.30562189071821694,
          0.29077133049184306,
          0.31702726756577804,
          0.3928230480460029,
          0.3447940692817556,
          0.2961766298824107,
          0.3912409856628364,
          0.4186044694739168,
          0.34386421381502186,
          0.3108318620888722,
          0.2872528848867697,
          0.3698588510069828,
          0.29929817150752686,
          0.35972176399855527,
          0.30111808783760236,
          0.31674911340135414,
          0.37850648047909086,
          0.29004118269842355,
          0.3105643862040682,
          0.36534244491402484,
          0.32150404823249257,
          0.2900498976260697,
          0.3289217257006799,
          0.31124798172399504,
          0.33966547726534346,
          0.28280330275241145,
          0.30755436853588447,
          0.29963515983198813,
          0.3043205131284175,
          0.3546154864828079,
          0.2857616368134241,
          0.3296156990569156,
          0.34415546714763634,
          0.42744588611266615,
          0.30924322864844284,
          0.3603194421753948,
          0.2824459257488752,
          0.4041665163200385,
          0.2859415531508759,
          0.3202177468766799,
          0.3335008326485295,
          0.36783678322419827,
          0.35759950482680936,
          0.3062565118867287,
          0.30029218579621514,
          0.3624338372459398,
          0.39633769193858825,
          0.29935507640442655,
          0.3093889218811504,
          0.3074664895621392,
          0.29625557777670886,
          0.33509422673297085,
          0.33882691006922755,
          0.3145977972847949,
          0.30342438642648173,
          0.3209260861396315
         ],
         "xaxis": "x",
         "y": [
          0.47257541860302504,
          0.4365397424813594,
          0.4786108202956581,
          0.48163078345037924,
          0.5072807354165725,
          0.461541177357502,
          0.540508470965415,
          0.4909757996255956,
          0.4825788377637806,
          0.5870315983082569,
          0.47482268503055824,
          0.4223049995798211,
          0.5434425865085977,
          0.40769994920160013,
          0.4951561325975113,
          0.4071363447978204,
          0.41574884445841465,
          0.48539589442090614,
          0.5270668580774126,
          0.5116906966776039,
          0.5784890253923093,
          0.555953766161134,
          0.46891428318881423,
          0.4295361272596445,
          0.5159139834230989,
          0.49240040212813097,
          0.5917417638594744,
          0.7466231546745425,
          0.4133415002424243,
          0.48789724277741436,
          0.42891462766247496,
          0.5157421174787726,
          0.46507301869384404,
          0.5480699107233238,
          0.5868421313338296,
          0.5174923077108182,
          0.6258898961745991,
          0.3994259925098625,
          0.40247102643019456,
          0.5824312232562194,
          0.5969096499545673,
          0.4821530095790967,
          0.49527858413216386,
          0.47985673359584063,
          0.5578035151737567,
          0.5620527940786333,
          0.5371947254421362,
          0.525785757371737,
          0.5185969311855269,
          0.4670886335169612,
          0.44362355358976985,
          0.539839238301275,
          0.4779665055637903,
          0.51998498806698,
          0.4693446985429412,
          0.5122352480824349,
          0.38527597163410504,
          0.4369755645845617,
          0.5485015591116194,
          0.36499717172792756,
          0.6848580303941056,
          0.4393193622618098,
          0.635008245824446,
          0.5403602795344142,
          0.5436251394594694,
          0.5841518104799274,
          0.5408238756598683,
          0.5255936599385883,
          0.46632017091940514,
          0.5803370473711255,
          0.5039472032175516,
          0.5236234133400792,
          0.43418966338287135,
          0.41186453207467183,
          0.5370803803574445,
          0.6138052236464189,
          0.3749079880433398,
          0.43801924845699036,
          0.5908707561831089,
          0.6238716920515712,
          0.49809948243767405,
          0.5451183966883425,
          0.4205020899585187,
          0.5420019729207333,
          0.5247802168917735,
          0.5459930060871073,
          0.35644305395119064,
          0.45962089316455756,
          0.49302376821277355,
          0.44146196492699763,
          0.4603948333391208,
          0.47099985681702505,
          0.626786567246706,
          0.4801161085817643,
          0.5789967773433634,
          0.6072594976521928,
          0.5521857085464701,
          0.6027132858032961,
          0.5648172616595936,
          0.6215559342766638,
          0.6287544398031707,
          0.375070905460995,
          0.6136026278421006,
          0.4423489635788223,
          0.4453207242729333,
          0.5214662164355767,
          0.4718231597824153,
          0.49826147527195586,
          0.5167930689617776,
          0.4283127074966014,
          0.5179598565650183,
          0.52413352807658,
          0.6172454737414448,
          0.44238675045461706,
          0.3924019466353626,
          0.5250008503491019,
          0.3914295207970367,
          0.5733987748038043,
          0.5272973557733395,
          0.5820411401501849,
          0.3990869412631597,
          0.5179862712417643,
          0.587267852544066,
          0.4023994133494961,
          0.5927824031065142,
          0.47936631001388413,
          0.40104225559612106,
          0.3932371286417108,
          0.3811517643807466,
          0.4664132535551591,
          0.646397416710655,
          0.7316877635086176,
          0.5643347593249486,
          0.5729048222352288,
          0.5689976982625099,
          0.40562106013462,
          0.43306209666452394,
          0.49747065485687403,
          0.3968411286303896,
          0.5229335146621436,
          0.5904379425820341,
          0.436887238248557,
          0.5473404594409594,
          0.5656912084615007,
          0.46962313789598503,
          0.38677987643031675,
          0.4849171758704374,
          0.5318277768079189,
          0.6276806878300799,
          0.5693686017480059,
          0.4749822689614942,
          0.6946224302869309,
          0.46781515517757727,
          0.4997530060113377,
          0.544295289842306,
          0.5150040365139398,
          0.6774835949210108,
          0.6271190949680349,
          0.39520117787522496,
          0.4962568440763152,
          0.41762451191299194,
          0.5606414824014131,
          0.6094369271413657,
          0.3802326265019358,
          0.4498952043475028,
          0.4213450075925324,
          0.5820783474903393,
          0.49146459691874733,
          0.49763792871010126,
          0.43188010043275527,
          0.39401323921514037,
          0.49807998418035254,
          0.5295695650180737,
          0.5549004905514507,
          0.42342412034378984,
          0.6010553548830871,
          0.4462892910546383,
          0.43094932724779317,
          0.5580653203828575,
          0.4819667812717177,
          0.5293058638137855,
          0.4259266806053763,
          0.6625505794555658,
          0.4817544746694557,
          0.6416543752149807,
          0.5536479746315832,
          0.4779414149555058,
          0.5588670955612308,
          0.36888390634614193,
          0.5862476659563829,
          0.6828240011470402,
          0.5358247277241759,
          0.4051556650191437,
          0.6049993334364453,
          0.5739444097622238,
          0.5300405949067385,
          0.5344547491617544,
          0.4514764006961493,
          0.599088201719177,
          0.526331608719393,
          0.5129103373512989,
          0.5679374399030123,
          0.5284499648016695,
          0.5952331937129942,
          0.5184882289116616,
          0.45113486688119486,
          0.5034595261767002,
          0.5141360362228288,
          0.5360572035082242,
          0.33049945768227673,
          0.601299477018184,
          0.8202482322248364,
          0.5656080611292582,
          0.47525994630892976,
          0.46699554903940893,
          0.5487216981856095,
          0.6479278700604012,
          0.637840552707419,
          0.4766489072483633,
          0.40156720513769073,
          0.540546342098832,
          0.555304431342465,
          0.5139286281407246,
          0.6534559765540345,
          0.41665131737073263,
          0.6558810964904728,
          0.5826057451673322,
          0.4623936675416456,
          0.5686999553613412,
          0.5218778577115339,
          0.475972552297506,
          0.5375853332052487,
          0.630610466557642,
          0.5414875460373634,
          0.462455779060169,
          0.40036910948699217,
          0.6129430590048186,
          0.46366267476286,
          0.35596851583644123,
          0.48006069015594266,
          0.4635952612088147,
          0.4806805194627495,
          0.4146382124894826,
          0.6183450274275558,
          0.3936298143377913,
          0.5006499609860108,
          0.5377115700441317,
          0.38290390784318523,
          0.4565787942630446,
          0.4988337253922582,
          0.4854801132149461,
          0.5115039855480804,
          0.5094372591185988,
          0.39828113519853475,
          0.4624434836866387,
          0.556553656815992,
          0.788853227776693,
          0.4341139892024939,
          0.5902105136477936,
          0.429204199534222,
          0.42119513550265325,
          0.5110367286953498,
          0.5084440726053516,
          0.4943569204021748,
          0.4354240456901974,
          0.6879234266637472,
          0.5450819851201162,
          0.48025603659133,
          0.5338200905667679,
          0.5066747665289423,
          0.47225657738072035,
          0.46649143891602574,
          0.6002723263665521,
          0.4934506843983525,
          0.5281770562273103,
          0.6615548464676163,
          0.5735714102122773,
          0.5266936295893861,
          0.4670376046599104,
          0.5308961437509224,
          0.5484729456888144,
          0.5383310853536493,
          0.7178018636627598,
          0.42252553304081086,
          0.37655405820443766,
          0.4062629183827506,
          0.6546362631498913,
          0.3741472129617525,
          0.4066449160526436,
          0.37998965847775806,
          0.6857599415553143,
          0.4484867910571239,
          0.4275686556658783,
          0.5187537150870076,
          0.627814626424659,
          0.5177563223256785,
          0.6069301566675701,
          0.5249929465886508,
          0.4783540135462938,
          0.6718644408749571,
          0.39658510400173996,
          0.537393708598795,
          0.4789410311448491,
          0.42288689063383594,
          0.5985049376582913,
          0.569985523599277,
          0.5065754789275914,
          0.4221157407485594,
          0.4067280459979488,
          0.4370074948904766,
          0.5546646865862406,
          0.48567328978149626,
          0.42389096484888666,
          0.5009124675052653,
          0.5189961636602846,
          0.5643674278052071,
          0.565354110445704,
          0.5228137992950749,
          0.5777929736957333,
          0.5963688434581117,
          0.5200294694489138,
          0.6145969335533876,
          0.41661410667128507,
          0.4040897517753895,
          0.5658006540872935,
          0.567842440360304,
          0.4025311619002889,
          0.6056058254326049,
          0.3724106358954409,
          0.523687872636255,
          0.5778846676213338,
          0.5399927348417753,
          0.4173391658912303,
          0.5804828937513513,
          0.5860764156650334,
          0.4983381905996526,
          0.5273694637051678,
          0.5457624903204998,
          0.7834388217017474,
          0.4994877985695569,
          0.5629736391947213,
          0.4850991671739375,
          0.5759124144160175,
          0.565386962607521,
          0.4785973865739596,
          0.49220094229445255,
          0.4989726922658857,
          0.4271055778547471,
          0.5895798662385876,
          0.4819575489173435,
          0.5988626379526524,
          0.49012736468429174,
          0.5869977929123157,
          0.4593492994959468,
          0.5653592216894833,
          0.5515408013738223,
          0.5279177117261827,
          0.4980843333389662,
          0.5207251649267036,
          0.4170252877977794,
          0.45551401982004447,
          0.3814269188829965,
          0.40293368482817615,
          0.5085433407235149,
          0.48369562271923283,
          0.5205138758935909,
          0.49884653257570444,
          0.5209289154695869,
          0.5809503444438818,
          0.5087841452347942,
          0.523927744990222,
          0.4308745605329359,
          0.6480791467696119,
          0.5923149526036364,
          0.5692957283750035,
          0.5134737303116209,
          0.5432719383861824,
          0.5507834541177661,
          0.5758693015674093,
          0.39638426987482817,
          0.6484909458216879,
          0.4214608101081551,
          0.45209689738705644,
          0.41103459210342824,
          0.3786481955470808,
          0.5496759765935446,
          0.4119205455606488,
          0.3921774973386041,
          0.5729008234536687,
          0.4168672672812354,
          0.5930391237499233,
          0.5583402803053784,
          0.5432989394590167,
          0.46679038819780516,
          0.4474634402881309,
          0.5569823873317058,
          0.47742645640675235,
          0.4645507022741334,
          0.49774975177350494,
          0.4699494799088338,
          0.4107551007122109,
          0.5396008865416078,
          0.415022251766243,
          0.5810603333994229,
          0.5532761021907473,
          0.4992358383401597,
          0.7123496229925153,
          0.578487662325484,
          0.7495919135896904,
          0.6590761437672444,
          0.6006002920400305,
          0.6627239383952861,
          0.51248998683021,
          0.3978226491065513,
          0.5758693231863828,
          0.5262429337969504,
          0.5869789023218995,
          0.38601709967052705,
          0.5224487963427725,
          0.5695689435269502,
          0.5048646943695978,
          0.6093499961350628,
          0.4355796167977969,
          0.6345615309858496,
          0.49019702887800176,
          0.46127834436764964,
          0.5824555979866259,
          0.5279521006728568,
          0.5930854854060748,
          0.6121154968059028,
          0.43999654277922123,
          0.5139985500996871,
          0.4680433506560783,
          0.5019513588390729,
          0.6279767176708448,
          0.49477880794162876,
          0.3781708126930384,
          0.5457580762255437,
          0.6848749571978812,
          0.46619001586190395,
          0.5845086056411395,
          0.5031834357692091,
          0.618871002535059,
          0.5294474201469744,
          0.4514056794476002,
          0.42829207421766785,
          0.5063288865591592,
          0.6374778825489665,
          0.5659645949169924,
          0.4508313026447171,
          0.623328357695004,
          0.6639392496244256,
          0.5501785783146745,
          0.49347687007854685,
          0.424741861143898,
          0.5975343521766479,
          0.46671265356207464,
          0.5870115453897998,
          0.443432587385221,
          0.5088298404449967,
          0.6172630234026748,
          0.40694885471089354,
          0.4924665840637516,
          0.5895722306862097,
          0.5157649721869708,
          0.4339764865386244,
          0.5301594380848073,
          0.4990453008162121,
          0.5265060886320082,
          0.4006702645912996,
          0.48690922201107373,
          0.43682958319821596,
          0.4438206687680242,
          0.5692858741651162,
          0.37744588660050654,
          0.5364586230152032,
          0.5544362317160132,
          0.6864871442810365,
          0.47397042768863223,
          0.5676959631133,
          0.39293154468996105,
          0.6443314103114537,
          0.3991977583783845,
          0.49943596078784364,
          0.5311777551565594,
          0.5830558383297847,
          0.5859698835196677,
          0.4725485531853361,
          0.47212585594647316,
          0.5845163409649325,
          0.6353296099270879,
          0.4438301467229159,
          0.49119194072469935,
          0.46565482481233117,
          0.431197651108742,
          0.5485829468929927,
          0.5528878022981277,
          0.49877377469250356,
          0.4723778769999561,
          0.5182889971003293
         ],
         "yaxis": "y"
        }
       ],
       "layout": {
        "coloraxis": {
         "colorbar": {
          "title": {
           "text": "color"
          }
         },
         "colorscale": [
          [
           0,
           "#0d0887"
          ],
          [
           0.1111111111111111,
           "#46039f"
          ],
          [
           0.2222222222222222,
           "#7201a8"
          ],
          [
           0.3333333333333333,
           "#9c179e"
          ],
          [
           0.4444444444444444,
           "#bd3786"
          ],
          [
           0.5555555555555556,
           "#d8576b"
          ],
          [
           0.6666666666666666,
           "#ed7953"
          ],
          [
           0.7777777777777778,
           "#fb9f3a"
          ],
          [
           0.8888888888888888,
           "#fdca26"
          ],
          [
           1,
           "#f0f921"
          ]
         ]
        },
        "legend": {
         "tracegroupgap": 0
        },
        "margin": {
         "t": 60
        },
        "template": {
         "data": {
          "bar": [
           {
            "error_x": {
             "color": "#2a3f5f"
            },
            "error_y": {
             "color": "#2a3f5f"
            },
            "marker": {
             "line": {
              "color": "#E5ECF6",
              "width": 0.5
             },
             "pattern": {
              "fillmode": "overlay",
              "size": 10,
              "solidity": 0.2
             }
            },
            "type": "bar"
           }
          ],
          "barpolar": [
           {
            "marker": {
             "line": {
              "color": "#E5ECF6",
              "width": 0.5
             },
             "pattern": {
              "fillmode": "overlay",
              "size": 10,
              "solidity": 0.2
             }
            },
            "type": "barpolar"
           }
          ],
          "carpet": [
           {
            "aaxis": {
             "endlinecolor": "#2a3f5f",
             "gridcolor": "white",
             "linecolor": "white",
             "minorgridcolor": "white",
             "startlinecolor": "#2a3f5f"
            },
            "baxis": {
             "endlinecolor": "#2a3f5f",
             "gridcolor": "white",
             "linecolor": "white",
             "minorgridcolor": "white",
             "startlinecolor": "#2a3f5f"
            },
            "type": "carpet"
           }
          ],
          "choropleth": [
           {
            "colorbar": {
             "outlinewidth": 0,
             "ticks": ""
            },
            "type": "choropleth"
           }
          ],
          "contour": [
           {
            "colorbar": {
             "outlinewidth": 0,
             "ticks": ""
            },
            "colorscale": [
             [
              0,
              "#0d0887"
             ],
             [
              0.1111111111111111,
              "#46039f"
             ],
             [
              0.2222222222222222,
              "#7201a8"
             ],
             [
              0.3333333333333333,
              "#9c179e"
             ],
             [
              0.4444444444444444,
              "#bd3786"
             ],
             [
              0.5555555555555556,
              "#d8576b"
             ],
             [
              0.6666666666666666,
              "#ed7953"
             ],
             [
              0.7777777777777778,
              "#fb9f3a"
             ],
             [
              0.8888888888888888,
              "#fdca26"
             ],
             [
              1,
              "#f0f921"
             ]
            ],
            "type": "contour"
           }
          ],
          "contourcarpet": [
           {
            "colorbar": {
             "outlinewidth": 0,
             "ticks": ""
            },
            "type": "contourcarpet"
           }
          ],
          "heatmap": [
           {
            "colorbar": {
             "outlinewidth": 0,
             "ticks": ""
            },
            "colorscale": [
             [
              0,
              "#0d0887"
             ],
             [
              0.1111111111111111,
              "#46039f"
             ],
             [
              0.2222222222222222,
              "#7201a8"
             ],
             [
              0.3333333333333333,
              "#9c179e"
             ],
             [
              0.4444444444444444,
              "#bd3786"
             ],
             [
              0.5555555555555556,
              "#d8576b"
             ],
             [
              0.6666666666666666,
              "#ed7953"
             ],
             [
              0.7777777777777778,
              "#fb9f3a"
             ],
             [
              0.8888888888888888,
              "#fdca26"
             ],
             [
              1,
              "#f0f921"
             ]
            ],
            "type": "heatmap"
           }
          ],
          "heatmapgl": [
           {
            "colorbar": {
             "outlinewidth": 0,
             "ticks": ""
            },
            "colorscale": [
             [
              0,
              "#0d0887"
             ],
             [
              0.1111111111111111,
              "#46039f"
             ],
             [
              0.2222222222222222,
              "#7201a8"
             ],
             [
              0.3333333333333333,
              "#9c179e"
             ],
             [
              0.4444444444444444,
              "#bd3786"
             ],
             [
              0.5555555555555556,
              "#d8576b"
             ],
             [
              0.6666666666666666,
              "#ed7953"
             ],
             [
              0.7777777777777778,
              "#fb9f3a"
             ],
             [
              0.8888888888888888,
              "#fdca26"
             ],
             [
              1,
              "#f0f921"
             ]
            ],
            "type": "heatmapgl"
           }
          ],
          "histogram": [
           {
            "marker": {
             "pattern": {
              "fillmode": "overlay",
              "size": 10,
              "solidity": 0.2
             }
            },
            "type": "histogram"
           }
          ],
          "histogram2d": [
           {
            "colorbar": {
             "outlinewidth": 0,
             "ticks": ""
            },
            "colorscale": [
             [
              0,
              "#0d0887"
             ],
             [
              0.1111111111111111,
              "#46039f"
             ],
             [
              0.2222222222222222,
              "#7201a8"
             ],
             [
              0.3333333333333333,
              "#9c179e"
             ],
             [
              0.4444444444444444,
              "#bd3786"
             ],
             [
              0.5555555555555556,
              "#d8576b"
             ],
             [
              0.6666666666666666,
              "#ed7953"
             ],
             [
              0.7777777777777778,
              "#fb9f3a"
             ],
             [
              0.8888888888888888,
              "#fdca26"
             ],
             [
              1,
              "#f0f921"
             ]
            ],
            "type": "histogram2d"
           }
          ],
          "histogram2dcontour": [
           {
            "colorbar": {
             "outlinewidth": 0,
             "ticks": ""
            },
            "colorscale": [
             [
              0,
              "#0d0887"
             ],
             [
              0.1111111111111111,
              "#46039f"
             ],
             [
              0.2222222222222222,
              "#7201a8"
             ],
             [
              0.3333333333333333,
              "#9c179e"
             ],
             [
              0.4444444444444444,
              "#bd3786"
             ],
             [
              0.5555555555555556,
              "#d8576b"
             ],
             [
              0.6666666666666666,
              "#ed7953"
             ],
             [
              0.7777777777777778,
              "#fb9f3a"
             ],
             [
              0.8888888888888888,
              "#fdca26"
             ],
             [
              1,
              "#f0f921"
             ]
            ],
            "type": "histogram2dcontour"
           }
          ],
          "mesh3d": [
           {
            "colorbar": {
             "outlinewidth": 0,
             "ticks": ""
            },
            "type": "mesh3d"
           }
          ],
          "parcoords": [
           {
            "line": {
             "colorbar": {
              "outlinewidth": 0,
              "ticks": ""
             }
            },
            "type": "parcoords"
           }
          ],
          "pie": [
           {
            "automargin": true,
            "type": "pie"
           }
          ],
          "scatter": [
           {
            "marker": {
             "colorbar": {
              "outlinewidth": 0,
              "ticks": ""
             }
            },
            "type": "scatter"
           }
          ],
          "scatter3d": [
           {
            "line": {
             "colorbar": {
              "outlinewidth": 0,
              "ticks": ""
             }
            },
            "marker": {
             "colorbar": {
              "outlinewidth": 0,
              "ticks": ""
             }
            },
            "type": "scatter3d"
           }
          ],
          "scattercarpet": [
           {
            "marker": {
             "colorbar": {
              "outlinewidth": 0,
              "ticks": ""
             }
            },
            "type": "scattercarpet"
           }
          ],
          "scattergeo": [
           {
            "marker": {
             "colorbar": {
              "outlinewidth": 0,
              "ticks": ""
             }
            },
            "type": "scattergeo"
           }
          ],
          "scattergl": [
           {
            "marker": {
             "colorbar": {
              "outlinewidth": 0,
              "ticks": ""
             }
            },
            "type": "scattergl"
           }
          ],
          "scattermapbox": [
           {
            "marker": {
             "colorbar": {
              "outlinewidth": 0,
              "ticks": ""
             }
            },
            "type": "scattermapbox"
           }
          ],
          "scatterpolar": [
           {
            "marker": {
             "colorbar": {
              "outlinewidth": 0,
              "ticks": ""
             }
            },
            "type": "scatterpolar"
           }
          ],
          "scatterpolargl": [
           {
            "marker": {
             "colorbar": {
              "outlinewidth": 0,
              "ticks": ""
             }
            },
            "type": "scatterpolargl"
           }
          ],
          "scatterternary": [
           {
            "marker": {
             "colorbar": {
              "outlinewidth": 0,
              "ticks": ""
             }
            },
            "type": "scatterternary"
           }
          ],
          "surface": [
           {
            "colorbar": {
             "outlinewidth": 0,
             "ticks": ""
            },
            "colorscale": [
             [
              0,
              "#0d0887"
             ],
             [
              0.1111111111111111,
              "#46039f"
             ],
             [
              0.2222222222222222,
              "#7201a8"
             ],
             [
              0.3333333333333333,
              "#9c179e"
             ],
             [
              0.4444444444444444,
              "#bd3786"
             ],
             [
              0.5555555555555556,
              "#d8576b"
             ],
             [
              0.6666666666666666,
              "#ed7953"
             ],
             [
              0.7777777777777778,
              "#fb9f3a"
             ],
             [
              0.8888888888888888,
              "#fdca26"
             ],
             [
              1,
              "#f0f921"
             ]
            ],
            "type": "surface"
           }
          ],
          "table": [
           {
            "cells": {
             "fill": {
              "color": "#EBF0F8"
             },
             "line": {
              "color": "white"
             }
            },
            "header": {
             "fill": {
              "color": "#C8D4E3"
             },
             "line": {
              "color": "white"
             }
            },
            "type": "table"
           }
          ]
         },
         "layout": {
          "annotationdefaults": {
           "arrowcolor": "#2a3f5f",
           "arrowhead": 0,
           "arrowwidth": 1
          },
          "autotypenumbers": "strict",
          "coloraxis": {
           "colorbar": {
            "outlinewidth": 0,
            "ticks": ""
           }
          },
          "colorscale": {
           "diverging": [
            [
             0,
             "#8e0152"
            ],
            [
             0.1,
             "#c51b7d"
            ],
            [
             0.2,
             "#de77ae"
            ],
            [
             0.3,
             "#f1b6da"
            ],
            [
             0.4,
             "#fde0ef"
            ],
            [
             0.5,
             "#f7f7f7"
            ],
            [
             0.6,
             "#e6f5d0"
            ],
            [
             0.7,
             "#b8e186"
            ],
            [
             0.8,
             "#7fbc41"
            ],
            [
             0.9,
             "#4d9221"
            ],
            [
             1,
             "#276419"
            ]
           ],
           "sequential": [
            [
             0,
             "#0d0887"
            ],
            [
             0.1111111111111111,
             "#46039f"
            ],
            [
             0.2222222222222222,
             "#7201a8"
            ],
            [
             0.3333333333333333,
             "#9c179e"
            ],
            [
             0.4444444444444444,
             "#bd3786"
            ],
            [
             0.5555555555555556,
             "#d8576b"
            ],
            [
             0.6666666666666666,
             "#ed7953"
            ],
            [
             0.7777777777777778,
             "#fb9f3a"
            ],
            [
             0.8888888888888888,
             "#fdca26"
            ],
            [
             1,
             "#f0f921"
            ]
           ],
           "sequentialminus": [
            [
             0,
             "#0d0887"
            ],
            [
             0.1111111111111111,
             "#46039f"
            ],
            [
             0.2222222222222222,
             "#7201a8"
            ],
            [
             0.3333333333333333,
             "#9c179e"
            ],
            [
             0.4444444444444444,
             "#bd3786"
            ],
            [
             0.5555555555555556,
             "#d8576b"
            ],
            [
             0.6666666666666666,
             "#ed7953"
            ],
            [
             0.7777777777777778,
             "#fb9f3a"
            ],
            [
             0.8888888888888888,
             "#fdca26"
            ],
            [
             1,
             "#f0f921"
            ]
           ]
          },
          "colorway": [
           "#636efa",
           "#EF553B",
           "#00cc96",
           "#ab63fa",
           "#FFA15A",
           "#19d3f3",
           "#FF6692",
           "#B6E880",
           "#FF97FF",
           "#FECB52"
          ],
          "font": {
           "color": "#2a3f5f"
          },
          "geo": {
           "bgcolor": "white",
           "lakecolor": "white",
           "landcolor": "#E5ECF6",
           "showlakes": true,
           "showland": true,
           "subunitcolor": "white"
          },
          "hoverlabel": {
           "align": "left"
          },
          "hovermode": "closest",
          "mapbox": {
           "style": "light"
          },
          "paper_bgcolor": "white",
          "plot_bgcolor": "#E5ECF6",
          "polar": {
           "angularaxis": {
            "gridcolor": "white",
            "linecolor": "white",
            "ticks": ""
           },
           "bgcolor": "#E5ECF6",
           "radialaxis": {
            "gridcolor": "white",
            "linecolor": "white",
            "ticks": ""
           }
          },
          "scene": {
           "xaxis": {
            "backgroundcolor": "#E5ECF6",
            "gridcolor": "white",
            "gridwidth": 2,
            "linecolor": "white",
            "showbackground": true,
            "ticks": "",
            "zerolinecolor": "white"
           },
           "yaxis": {
            "backgroundcolor": "#E5ECF6",
            "gridcolor": "white",
            "gridwidth": 2,
            "linecolor": "white",
            "showbackground": true,
            "ticks": "",
            "zerolinecolor": "white"
           },
           "zaxis": {
            "backgroundcolor": "#E5ECF6",
            "gridcolor": "white",
            "gridwidth": 2,
            "linecolor": "white",
            "showbackground": true,
            "ticks": "",
            "zerolinecolor": "white"
           }
          },
          "shapedefaults": {
           "line": {
            "color": "#2a3f5f"
           }
          },
          "ternary": {
           "aaxis": {
            "gridcolor": "white",
            "linecolor": "white",
            "ticks": ""
           },
           "baxis": {
            "gridcolor": "white",
            "linecolor": "white",
            "ticks": ""
           },
           "bgcolor": "#E5ECF6",
           "caxis": {
            "gridcolor": "white",
            "linecolor": "white",
            "ticks": ""
           }
          },
          "title": {
           "x": 0.05
          },
          "xaxis": {
           "automargin": true,
           "gridcolor": "white",
           "linecolor": "white",
           "ticks": "",
           "title": {
            "standoff": 15
           },
           "zerolinecolor": "white",
           "zerolinewidth": 2
          },
          "yaxis": {
           "automargin": true,
           "gridcolor": "white",
           "linecolor": "white",
           "ticks": "",
           "title": {
            "standoff": 15
           },
           "zerolinecolor": "white",
           "zerolinewidth": 2
          }
         }
        },
        "xaxis": {
         "anchor": "y",
         "domain": [
          0,
          1
         ],
         "title": {
          "text": "risk"
         }
        },
        "yaxis": {
         "anchor": "x",
         "domain": [
          0,
          1
         ],
         "title": {
          "text": "return"
         }
        }
       }
      }
     },
     "metadata": {},
     "output_type": "display_data"
    }
   ],
   "source": [
    "px.scatter(data_nueva, x='risk', y='return', color=p_sharpe)"
   ]
  }
 ],
 "metadata": {
  "interpreter": {
   "hash": "89eb0ba0d7a5cfde75646fe04fa67f97dee2740233f922d6dcaec62ecffe3139"
  },
  "kernelspec": {
   "display_name": "Python 3.8.8 64-bit ('base': conda)",
   "language": "python",
   "name": "python3"
  },
  "language_info": {
   "codemirror_mode": {
    "name": "ipython",
    "version": 3
   },
   "file_extension": ".py",
   "mimetype": "text/x-python",
   "name": "python",
   "nbconvert_exporter": "python",
   "pygments_lexer": "ipython3",
   "version": "3.8.8"
  },
  "orig_nbformat": 4
 },
 "nbformat": 4,
 "nbformat_minor": 2
}
